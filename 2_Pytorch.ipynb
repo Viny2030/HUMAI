{
  "cells": [
    {
      "cell_type": "markdown",
      "metadata": {
        "id": "view-in-github",
        "colab_type": "text"
      },
      "source": [
        "<a href=\"https://colab.research.google.com/github/Viny2030/HUMAI/blob/main/2_Pytorch.ipynb\" target=\"_parent\"><img src=\"https://colab.research.google.com/assets/colab-badge.svg\" alt=\"Open In Colab\"/></a>"
      ]
    },
    {
      "cell_type": "markdown",
      "metadata": {
        "id": "__eamjB8fCPc"
      },
      "source": [
        "<a href=\"https://colab.research.google.com/github/institutohumai/cursos-python/blob/master/DeepLearning/1_Introduccion/2_pytorch.ipynb\"> <img src='https://colab.research.google.com/assets/colab-badge.svg' /> </a>"
      ]
    },
    {
      "cell_type": "markdown",
      "metadata": {
        "id": "n8cEKOFGyFHg"
      },
      "source": [
        "# ![](https://images.g2crowd.com/uploads/product/image/social_landscape/social_landscape_656e174b12c49be1cfb4723a938ea43e/pytorch.png)"
      ]
    },
    {
      "cell_type": "markdown",
      "metadata": {
        "id": "NJ9S0VipTlFW"
      },
      "source": [
        "\n",
        "\n",
        "PyTorch es un **Framework de Deep Learning** de código abierto que se utiliza para desarrollar y entrenar redes neuronales. Es desarrollado principalmente por el grupo de investigación de IA de Facebook. PyTorch se puede usar tanto con Python como con C++. Naturalmente, la interfaz de Python está más pulida.\n",
        "\n",
        "Un Framework de Deep Learning es un conjunto de interfaces, librerías o herramientas que nos permiten construir modelos de aprendizaje profundo de manera más fácil y rápida, sin entrar en los detalles de los algoritmos subyacentes. Proporcionan una forma clara y concisa de definir modelos utilizando una colección de componentes optimizados y prediseñados. Sus principales características son:\n",
        "* Codificación en alto nivel\n",
        "* Cálculo automático de los gradientes\n",
        "* Paralelización de los procesos\n",
        "* Soporte de la comunidad\n",
        "\n",
        "A diferencia de la mayoría de los otros frameworks populares como TensorFlow, que utilizan grafos computacionales estáticos, PyTorch utiliza grafos dinámicos, lo que permite una mayor flexibilidad en la construcción de arquitecturas complejas.\n",
        "\n",
        "Además, Pytorch utiliza conceptos básicos de Python como clases, estructuras y bucles condicionales, que son muy familiares para nuestros ojos y, por lo tanto, mucho más intuitivos de entender. Esto lo hace mucho más simple que otros frameworks como TensorFlow que aportan su propio estilo de programación.\n"
      ]
    },
    {
      "cell_type": "markdown",
      "metadata": {
        "id": "_g6sBzx7x189"
      },
      "source": [
        "\n",
        "\n",
        "Introducción a los Tensores de PyTorch\n",
        "==============================="
      ]
    },
    {
      "cell_type": "markdown",
      "metadata": {
        "id": "ooK6TyhfTMuu"
      },
      "source": [
        "\n",
        "\n",
        "Los tensores son la abstracción de datos central en PyTorch. Este notebook interactivo\n",
        " proporciona una introducción detallada a la clase ``torch.Tensor``.\n",
        "\n",
        "Lo primero es lo primero, importemos el módulo PyTorch. También agregaremos\n",
        "el módulo `math` de Python para facilitar algunos de los ejemplos.\n"
      ]
    },
    {
      "cell_type": "code",
      "execution_count": 2,
      "metadata": {
        "id": "gDhfvzu6TMuz"
      },
      "outputs": [],
      "source": [
        "import torch\n",
        "import math"
      ]
    },
    {
      "cell_type": "markdown",
      "metadata": {
        "id": "eT3GLFLZTMu0"
      },
      "source": [
        "Crear tensores\n",
        "----------------\n",
        "\n",
        "La forma más sencilla de crear un tensor es con la llamada ``torch.empty()``:\n",
        "\n",
        "\n"
      ]
    },
    {
      "cell_type": "code",
      "execution_count": 3,
      "metadata": {
        "colab": {
          "base_uri": "https://localhost:8080/"
        },
        "id": "pseXKEheTMu3",
        "outputId": "612cb844-1776-43f6-9333-623c805f914c"
      },
      "outputs": [
        {
          "output_type": "stream",
          "name": "stdout",
          "text": [
            "<class 'torch.Tensor'>\n",
            "tensor([[0., 0., 0., 0.],\n",
            "        [0., 0., 0., 0.],\n",
            "        [0., 0., 0., 0.]])\n"
          ]
        }
      ],
      "source": [
        "x = torch.empty(3, 4)  ## ler pasamos dos atributos tensor 2 dimensiones matriz 3 filas y 4 columnas\n",
        "print(type(x))\n",
        "print(x)"
      ]
    },
    {
      "cell_type": "markdown",
      "metadata": {
        "id": "jUCCPgtVTMu4"
      },
      "source": [
        "Desempaquemos lo que acabamos de hacer:\n",
        "\n",
        "- Creamos un tensor utilizando uno de los numerosos métodos constructores provistos por ``torch``.\n",
        "- El tensor en sí es bidimensional, tiene 3 filas y 4 columnas.\n",
        "- El tipo de objeto devuelto es ``torch.Tensor``, que es un\n",
        "   alias para ``torch.FloatTensor``; por defecto, los tensores de PyTorch son\n",
        "   poblados con números de punto flotante de 32 bits.\n",
        "- Probablemente verá algunos valores de aspecto aleatorio al imprimir su\n",
        "   tensor. La llamada ``torch.empty()`` asigna memoria para el tensor,\n",
        "   pero no lo inicializa con ningún valor, por lo que lo que está viendo es\n",
        "   lo que estaba en la memoria en el momento de la asignación.\n",
        "\n",
        "Una breve nota sobre los tensores y su número de dimensiones, y\n",
        "terminología:\n",
        "\n",
        "- A veces verás un tensor unidimensional llamado\n",
        "   **vector**\n",
        "- Del mismo modo, un tensor bidimensional a menudo se denomina\n",
        "   **matriz**\n",
        "- Cualquier cosa con más de dos dimensiones generalmente es solo\n",
        "   llamado tensor.\n",
        "\n",
        "La mayoría de las veces, querrá inicializar su tensor con algún\n",
        "valor. Los casos comunes son todos ceros, todos unos o valores aleatorios, y el\n",
        " módulo ``torch`` proporciona métodos constructores para todos estos:\n",
        "\n",
        "\n"
      ]
    },
    {
      "cell_type": "code",
      "execution_count": 4,
      "metadata": {
        "colab": {
          "base_uri": "https://localhost:8080/"
        },
        "id": "7dGYpwUpTMu6",
        "outputId": "28d05315-6865-4bb1-e9de-0232d9d28bc4"
      },
      "outputs": [
        {
          "output_type": "stream",
          "name": "stdout",
          "text": [
            "tensor([[0., 0., 0.],\n",
            "        [0., 0., 0.]])\n",
            "tensor([[1., 1., 1.],\n",
            "        [1., 1., 1.]])\n",
            "tensor([[0.3126, 0.3791, 0.3087],\n",
            "        [0.0736, 0.4216, 0.0691]])\n"
          ]
        }
      ],
      "source": [
        "zeros = torch.zeros(2, 3)\n",
        "print(zeros)\n",
        "\n",
        "ones = torch.ones(2, 3)  ## puede ser matriz de 2x3 o 3x2\n",
        "print(ones)\n",
        "\n",
        "torch.manual_seed(1729)  ## semilla es imprevisible la semilla esta para garantizar predecibilidad\n",
        "random = torch.rand(2, 3)\n",
        "print(random)"
      ]
    },
    {
      "cell_type": "markdown",
      "metadata": {
        "id": "NPzwSuPIvivv"
      },
      "source": [
        "Todos los métodos constructores hacen exactamente lo que cabría esperar: tenemos un tensor\n",
        "lleno de ceros, otro lleno de unos y otro con valores aleatorios\n",
        "entre 0 y 1."
      ]
    },
    {
      "cell_type": "markdown",
      "metadata": {
        "id": "4T2cCWllTMu8"
      },
      "source": [
        "\n",
        "\n",
        "### Tensores Aleatorios y Semillas\n",
        "\n",
        "Hablando del tensor aleatorio, ¿notaste la llamada a\n",
        "``torch.manual_seed()`` inmediatamente anterior? Inicializar tensores,\n",
        "como los pesos de aprendizaje de un modelo, con valores aleatorios es común pero\n",
        "hay momentos, especialmente en entornos de investigación, en los que querrá\n",
        "cierta seguridad de la reproducibilidad de sus resultados. Asignar manualmente\n",
        "la semilla de su generador de números aleatorios es la forma de hacer esto. Miremos\n",
        "más cerca:\n",
        "\n",
        "\n"
      ]
    },
    {
      "cell_type": "code",
      "execution_count": 5,
      "metadata": {
        "colab": {
          "base_uri": "https://localhost:8080/"
        },
        "id": "NC6izNfSTMu9",
        "outputId": "ed1a4f14-89f4-4cd0-ebda-a119690ab8b6"
      },
      "outputs": [
        {
          "output_type": "stream",
          "name": "stdout",
          "text": [
            "tensor([[0.3126, 0.3791, 0.3087],\n",
            "        [0.0736, 0.4216, 0.0691]])\n",
            "tensor([[0.2332, 0.4047, 0.2162],\n",
            "        [0.9927, 0.4128, 0.5938]])\n",
            "tensor([[0.9689, 0.5078, 0.4918],\n",
            "        [0.2002, 0.3206, 0.2008]])\n",
            "tensor([[0.7814, 0.6311, 0.8915],\n",
            "        [0.1167, 0.0036, 0.5919]])\n"
          ]
        }
      ],
      "source": [
        "torch.manual_seed(1729)\n",
        "random1 = torch.rand(2, 3)\n",
        "print(random1)\n",
        "\n",
        "random2 = torch.rand(2, 3)\n",
        "print(random2)\n",
        "\n",
        "torch.manual_seed(1730)\n",
        "random3 = torch.rand(2, 3)\n",
        "print(random3)\n",
        "\n",
        "random4 = torch.rand(2, 3)\n",
        "print(random4)"
      ]
    },
    {
      "cell_type": "markdown",
      "metadata": {
        "id": "7dl8Mg-PTMu_"
      },
      "source": [
        "Lo que deberías ver arriba es que ``random1`` y ``random3`` llevan\n",
        "valores idénticos, al igual que ``random2`` y ``random4``. La asignación manual\n",
        "la semilla del generador de numeros aleatorios lo reinicia, de modo que los cálculos idénticos sobre\n",
        "números aleatorios deberían, en la mayoría de los entornos, proporcionar resultados idénticos.\n",
        "\n",
        "Para obtener más información, consulte la documentación de PyTorch sobre\n",
        "reproducibilidad <https://pytorch.org/docs/stable/notes/randomness.html>`__.\n",
        "\n",
        "\n",
        "\n",
        "\n"
      ]
    },
    {
      "cell_type": "markdown",
      "metadata": {
        "id": "3wE-qyutZgPj"
      },
      "source": [
        "### Formas de los Tensores\n",
        "\n",
        "A menudo, para poder realizar operaciones en dos o más tensores, estos\n",
        "tendrán que tener la misma ***forma***, es decir, tener el mismo número de\n",
        "dimensiones y el mismo número de celdas en cada dimensión. Para garantizar eso existen los métodos ``torch.*_like()``:"
      ]
    },
    {
      "cell_type": "code",
      "execution_count": 6,
      "metadata": {
        "colab": {
          "base_uri": "https://localhost:8080/"
        },
        "id": "b2AT3oquTMvA",
        "outputId": "17da5f48-8679-485f-d304-8bef9df5fb63"
      },
      "outputs": [
        {
          "output_type": "stream",
          "name": "stdout",
          "text": [
            "torch.Size([2, 2, 3])\n",
            "tensor([[[-1.4360e+29,  4.4626e-41,  1.7057e-34],\n",
            "         [ 0.0000e+00,  1.6899e-34,  0.0000e+00]],\n",
            "\n",
            "        [[ 1.7037e-34,  0.0000e+00,  0.0000e+00],\n",
            "         [ 0.0000e+00,  1.7062e-34,  0.0000e+00]]])\n",
            "torch.Size([2, 2, 3])\n",
            "tensor([[[0.0000e+00, 0.0000e+00, 1.7044e-34],\n",
            "         [0.0000e+00, 2.2655e-35, 0.0000e+00]],\n",
            "\n",
            "        [[1.2178e-38, 4.4626e-41, 0.0000e+00],\n",
            "         [0.0000e+00, 0.0000e+00, 0.0000e+00]]])\n",
            "torch.Size([2, 2, 3])\n",
            "tensor([[[0., 0., 0.],\n",
            "         [0., 0., 0.]],\n",
            "\n",
            "        [[0., 0., 0.],\n",
            "         [0., 0., 0.]]])\n",
            "torch.Size([2, 2, 3])\n",
            "tensor([[[1., 1., 1.],\n",
            "         [1., 1., 1.]],\n",
            "\n",
            "        [[1., 1., 1.],\n",
            "         [1., 1., 1.]]])\n",
            "torch.Size([2, 2, 3])\n",
            "tensor([[[0.3824, 0.5299, 0.5226],\n",
            "         [0.1151, 0.2418, 0.7855]],\n",
            "\n",
            "        [[0.0685, 0.4314, 0.6370],\n",
            "         [0.1590, 0.8955, 0.9329]]])\n"
          ]
        }
      ],
      "source": [
        "x = torch.empty(2, 2, 3)\n",
        "print(x.shape)\n",
        "print(x)\n",
        "\n",
        "empty_like_x = torch.empty_like(x)  ## genera tensor vacio\n",
        "print(empty_like_x.shape)  ## 1 matriz dce 2x3 el tensor\n",
        "print(empty_like_x)\n",
        "\n",
        "zeros_like_x = torch.zeros_like(x)\n",
        "print(zeros_like_x.shape)\n",
        "print(zeros_like_x)\n",
        "\n",
        "ones_like_x = torch.ones_like(x)\n",
        "print(ones_like_x.shape)\n",
        "print(ones_like_x)\n",
        "\n",
        "rand_like_x = torch.rand_like(x)\n",
        "print(rand_like_x.shape)\n",
        "print(rand_like_x)"
      ]
    },
    {
      "cell_type": "markdown",
      "metadata": {
        "id": "lqzcMLb6TMvB"
      },
      "source": [
        "Lo primero nuevo en la celda de código de arriba es el uso del atributo ``.shape``\n",
        "de todo tensor. Este atributo contiene una lista con el tamaño de\n",
        "cada dimensión de un tensor - en nuestro caso, ``x`` es un tensor tridimensional\n",
        " con forma 2 x 2 x 3.\n",
        "\n",
        "Debajo de eso, llamamos a los métodos ``.empty_like()``, ``.zeros_like()``,\n",
        "``.ones_like()`` y ``.rand_like()``. Usando el atributo ``.shape``, podemos verificar que cada uno de estos métodos devuelve un tensor de\n",
        "dimensionalidad y extensión idénticas.\n",
        "\n",
        "La última forma de crear un tensor es especificar sus datos\n",
        "directamente desde una colección de PyTorch:\n",
        "\n"
      ]
    },
    {
      "cell_type": "markdown",
      "source": [
        "### podemos crear tensores y datos exactos que queremos"
      ],
      "metadata": {
        "id": "u2VaVeQJQ6y6"
      }
    },
    {
      "cell_type": "code",
      "execution_count": 7,
      "metadata": {
        "colab": {
          "base_uri": "https://localhost:8080/"
        },
        "id": "ESchpYJQTMvC",
        "outputId": "5e1bd8ba-066c-4525-a740-fc451217ae54"
      },
      "outputs": [
        {
          "output_type": "stream",
          "name": "stdout",
          "text": [
            "tensor([[3.1416, 2.7183],\n",
            "        [1.6180, 0.0073]])\n",
            "tensor([ 2,  3,  5,  7, 11, 13, 17, 19])\n",
            "tensor([[2, 4, 6],\n",
            "        [3, 6, 9]])\n"
          ]
        }
      ],
      "source": [
        "some_constants = torch.tensor([[3.1415926, 2.71828], [1.61803, 0.0072897]])\n",
        "print(some_constants)\n",
        "\n",
        "some_integers = torch.tensor((2, 3, 5, 7, 11, 13, 17, 19))\n",
        "print(some_integers)\n",
        "\n",
        "more_integers = torch.tensor(((2, 4, 6), [3, 6, 9]))\n",
        "print(more_integers)"
      ]
    },
    {
      "cell_type": "markdown",
      "metadata": {
        "id": "3P_2n1FYa1_Q"
      },
      "source": [
        "Usar ``torch.tensor()`` es la forma más sencilla de crear un\n",
        "tensor si ya tiene datos en una tupla o lista de Python. Como se muestra\n",
        "anterior, el anidamiento de las colecciones dará como resultado un tensor multidimensional.\n"
      ]
    },
    {
      "cell_type": "markdown",
      "metadata": {
        "id": "E_SbqrakTMvC"
      },
      "source": [
        "### Tipos de datos de un Tensor\n",
        "\n",
        "Establecer el tipo de datos de un tensor es posible de dos maneras:\n",
        "\n"
      ]
    },
    {
      "cell_type": "code",
      "execution_count": 8,
      "metadata": {
        "colab": {
          "base_uri": "https://localhost:8080/"
        },
        "id": "pMhBQyZKTMvD",
        "outputId": "5c3f481e-b9dd-40ef-8a6b-a83b1320ac37"
      },
      "outputs": [
        {
          "output_type": "stream",
          "name": "stdout",
          "text": [
            "tensor([[1, 1, 1],\n",
            "        [1, 1, 1]], dtype=torch.int16)\n",
            "tensor([[ 3.4419,  2.3751,  3.6490],\n",
            "        [16.8795, 11.1531, 15.2684]], dtype=torch.float64)\n",
            "tensor([[ 3,  2,  3],\n",
            "        [16, 11, 15]], dtype=torch.int32)\n"
          ]
        }
      ],
      "source": [
        "a = torch.ones((2, 3), dtype=torch.int16)  ## entero 16 bits\n",
        "print(a)\n",
        "\n",
        "b = torch.rand((2, 3), dtype=torch.float64) * 20.  ## si yo lo creo lo puedo pasar\n",
        "print(b)\n",
        "\n",
        "c = b.to(torch.int32)\n",
        "print(c)"
      ]
    },
    {
      "cell_type": "markdown",
      "metadata": {
        "id": "Rbe0ZGSmTMvD"
      },
      "source": [
        "La forma más sencilla de establecer el tipo de datos subyacente de un tensor es con un argumento opcional en el momento de la creación. En la primera línea de la celda de arriba,\n",
        "configuramos ``dtype=torch.int16`` para el tensor ``a``. Cuando imprimimos ``a``, podemos ver que está lleno de ``1`` en lugar de ``1.`` - Python indica que este es un tipo entero en lugar de un punto flotante.\n",
        "\n",
        "Otra cosa a tener en cuenta sobre la impresión de ``a`` es que, a diferencia de cuando dejamos ``dtype`` como predeterminado (coma flotante de 32 bits), imprimiendo el tensor también especifica su ``dtype``.\n",
        "\n",
        "Es posible que también haya notado que pasamos de especificar la forma del tensor como una serie de argumentos enteros, a agrupar esos argumentos en un tupla. Esto no es estrictamente necesario: PyTorch tomará una serie de argumentos enteros iniciales sin etiquetar como la forma del tensor, pero al agregar\n",
        "los argumentos opcionales, ponerlos como tupla puede hacer que su intención sea más legible.\n",
        "\n",
        "La otra forma de establecer el tipo de datos es con el método ``.to()``. En la celda de arriba, creamos un tensor de punto flotante aleatorio ``b`` de la manera habitual. A continuación, creamos ``c`` convirtiendo ``b`` en un tensor entero  de 32 bits\n",
        "con el método ``.to()``. Tenga en cuenta que ``c`` contiene todos los mismos valores como ``b``, pero truncados a enteros.\n",
        "\n",
        "Los tipos de datos disponibles incluyen:\n",
        "\n",
        "-  ``torch.bool``\n",
        "-  ``torch.int8``\n",
        "-  ``torch.uint8``\n",
        "-  ``torch.int16``\n",
        "-  ``torch.int32``\n",
        "-  ``torch.int64``\n",
        "-  ``torch.half``\n",
        "-  ``torch.float``\n",
        "-  ``torch.double``\n",
        "-  ``torch.bfloat``\n",
        "\n",
        "\n",
        "\n"
      ]
    },
    {
      "cell_type": "markdown",
      "metadata": {
        "id": "kNLofV7FvXfh"
      },
      "source": [
        "Matemáticas y lógica con tensores PyTorch\n",
        "---------------------------------\n",
        "\n",
        "Ahora que conoces algunas de las formas de crear un tensor… ¿qué puedes hacer con ellos?\n",
        "\n",
        "Veamos primero la aritmética básica y cómo interactúan los tensores con\n",
        "escalares simples:\n"
      ]
    },
    {
      "cell_type": "code",
      "execution_count": 9,
      "metadata": {
        "colab": {
          "base_uri": "https://localhost:8080/"
        },
        "id": "1uq-CTiwTMvE",
        "outputId": "1174ba18-f819-4a90-8c60-ecaf77cb1d08"
      },
      "outputs": [
        {
          "output_type": "stream",
          "name": "stdout",
          "text": [
            "tensor([[1., 1.],\n",
            "        [1., 1.]])\n",
            "tensor([[2., 2.],\n",
            "        [2., 2.]])\n",
            "tensor([[3., 3.],\n",
            "        [3., 3.]])\n",
            "tensor([[4., 4.],\n",
            "        [4., 4.]])\n",
            "tensor([[1.4142, 1.4142],\n",
            "        [1.4142, 1.4142]])\n"
          ]
        }
      ],
      "source": [
        "ones = torch.zeros(2, 2) + 1\n",
        "twos = torch.ones(2, 2) * 2\n",
        "threes = (torch.ones(2, 2) * 7 - 1) / 2\n",
        "fours = twos ** 2\n",
        "sqrt2s = twos ** 0.5\n",
        "\n",
        "print(ones)\n",
        "print(twos)\n",
        "print(threes)\n",
        "print(fours)\n",
        "print(sqrt2s)"
      ]
    },
    {
      "cell_type": "markdown",
      "metadata": {
        "id": "aJ3sfMEbTMvE"
      },
      "source": [
        "\n",
        "Como puedes ver arriba, las operaciones aritméticas entre tensores y escalares,\n",
        "como suma, resta, multiplicación, división y\n",
        "exponenciación se aplican elemento a elemento dentro del tensor. Dado que\n",
        "la salida de tal operación será un tensor, puedes encadenarlos\n",
        "junto con las reglas usuales de precedencia de operadores, como en la línea donde\n",
        "creamos ``threes``.\n",
        "\n",
        "Las operaciones similares entre dos tensores también se comportan intuitivamente:\n",
        "\n"
      ]
    },
    {
      "cell_type": "code",
      "execution_count": 10,
      "metadata": {
        "colab": {
          "base_uri": "https://localhost:8080/"
        },
        "id": "JvBH68BcTMvF",
        "outputId": "32023d7a-846b-4c22-9357-be08bd857165"
      },
      "outputs": [
        {
          "output_type": "stream",
          "name": "stdout",
          "text": [
            "tensor([[ 2.,  4.],\n",
            "        [ 8., 16.]])\n",
            "tensor([[5., 5.],\n",
            "        [5., 5.]])\n",
            "tensor([[12., 12.],\n",
            "        [12., 12.]])\n"
          ]
        }
      ],
      "source": [
        "powers2 = twos ** torch.tensor([[1, 2], [3, 4]])\n",
        "print(powers2)\n",
        "\n",
        "fives = ones + fours\n",
        "print(fives)\n",
        "\n",
        "dozens = threes * fours\n",
        "print(dozens)"
      ]
    },
    {
      "cell_type": "markdown",
      "metadata": {
        "id": "idZ8bv7mTMvG"
      },
      "source": [
        "Es importante notar aquí que todos los tensores en la celda de código anterior\n",
        " eran de forma idéntica. ¿Qué sucede cuando tratamos de realizar una operación binaria entre tensores si la forma es diferente?\n",
        "\n",
        "<div class=\"alert alert-info\"><h4>Nota</h4><p>La siguiente celda arroja un error de tiempo de ejecución. Esto es intencional.</p></div>"
      ]
    },
    {
      "cell_type": "code",
      "execution_count": 63,
      "metadata": {
        "colab": {
          "base_uri": "https://localhost:8080/",
          "height": 176
        },
        "id": "jUYwzP1Ydk2o",
        "outputId": "3c395c47-2d7b-423c-af92-926cdf6df18e"
      },
      "outputs": [
        {
          "output_type": "error",
          "ename": "RuntimeError",
          "evalue": "The size of tensor a (3) must match the size of tensor b (2) at non-singleton dimension 1",
          "traceback": [
            "\u001b[0;31m---------------------------------------------------------------------------\u001b[0m",
            "\u001b[0;31mRuntimeError\u001b[0m                              Traceback (most recent call last)",
            "\u001b[0;32m<ipython-input-63-94ccad2eafa1>\u001b[0m in \u001b[0;36m<cell line: 0>\u001b[0;34m()\u001b[0m\n\u001b[1;32m      2\u001b[0m \u001b[0mb\u001b[0m \u001b[0;34m=\u001b[0m \u001b[0mtorch\u001b[0m\u001b[0;34m.\u001b[0m\u001b[0mrand\u001b[0m\u001b[0;34m(\u001b[0m\u001b[0;36m3\u001b[0m\u001b[0;34m,\u001b[0m \u001b[0;36m2\u001b[0m\u001b[0;34m)\u001b[0m\u001b[0;34m\u001b[0m\u001b[0;34m\u001b[0m\u001b[0m\n\u001b[1;32m      3\u001b[0m \u001b[0;34m\u001b[0m\u001b[0m\n\u001b[0;32m----> 4\u001b[0;31m \u001b[0mprint\u001b[0m\u001b[0;34m(\u001b[0m\u001b[0ma\u001b[0m \u001b[0;34m*\u001b[0m \u001b[0mb\u001b[0m\u001b[0;34m)\u001b[0m  \u001b[0;31m## no sabe como hacer la multiplicacion el tamaño de la misma dimension, en el caso bradocasting o difusion 2 tensores diferemtes\u001b[0m\u001b[0;34m\u001b[0m\u001b[0;34m\u001b[0m\u001b[0m\n\u001b[0m",
            "\u001b[0;31mRuntimeError\u001b[0m: The size of tensor a (3) must match the size of tensor b (2) at non-singleton dimension 1"
          ]
        }
      ],
      "source": [
        "   a = torch.rand(2, 3)\n",
        "   b = torch.rand(3, 2)\n",
        "\n",
        "   print(a * b)  ## no sabe como hacer la multiplicacion el tamaño de la misma dimension, en el caso bradocasting o difusion 2 tensores diferemtes"
      ]
    },
    {
      "cell_type": "markdown",
      "metadata": {
        "id": "2OxFMHIaTMvH"
      },
      "source": [
        "### Broadcasting de Tensores\n",
        "\n",
        "En el caso general, no se puede operar con tensores de diferente forma\n",
        "de esta manera, incluso en un caso como el de la celda anterior, donde los tensores tienen un\n",
        "idéntico número de elementos.\n",
        "\n",
        "<div class=\"alert alert-info\"><h4>Nota</h4><p>Si está familiarizado con el broadcasting de NumPy, aquí se aplican las mismas reglas.</p></div>\n",
        "\n",
        "La excepción a la regla de las mismas formas es el ***broadcasting de tensores***. Aquí hay\n",
        "un ejemplo:\n",
        "\n",
        "\n"
      ]
    },
    {
      "cell_type": "code",
      "execution_count": 64,
      "metadata": {
        "colab": {
          "base_uri": "https://localhost:8080/"
        },
        "id": "eRs-H_iLTMvJ",
        "outputId": "89c3fd3f-aee3-4eb0-eb2f-de6d9d8d00df"
      },
      "outputs": [
        {
          "output_type": "stream",
          "name": "stdout",
          "text": [
            "tensor([[0.5058, 0.8248, 0.3283, 0.6759],\n",
            "        [0.9086, 0.2368, 0.2521, 0.2155]])\n",
            "tensor([[1.0116, 1.6495, 0.6566, 1.3517],\n",
            "        [1.8173, 0.4736, 0.5042, 0.4309]])\n"
          ]
        }
      ],
      "source": [
        "rand = torch.rand(2, 4)\n",
        "doubled = rand * (torch.ones(1, 4) * 2)\n",
        "\n",
        "print(rand)\n",
        "print(doubled)"
      ]
    },
    {
      "cell_type": "markdown",
      "metadata": {
        "id": "jRYOWNgUTMvL"
      },
      "source": [
        "¿Cuál es el truco aquí? ¿Cómo es que podemos multiplicar un tensor de 2x4 por un\n",
        "tensor 1x4?\n",
        "\n",
        "El broadcasting es una forma de realizar una operación entre tensores que tienen\n",
        "similitudes en sus formas. En el ejemplo anterior,\n",
        "el tensor de cuatro columnas, el de una fila, se multiplica por *ambas filas* del tensor de cuatro columnas y dos filas.\n",
        "\n",
        "Esta es una operación importante en Deep Learning. El ejemplo común es\n",
        "multiplicar un tensor de pesos de aprendizaje por un *lote* de tensores de entrada,\n",
        "aplicando la operación a cada instancia en el lote por separado, y\n",
        "devolviendo un tensor de forma idéntica, al igual que nuestro (2, 4) \\* (1, 4)\n",
        "ejemplo anterior devolvió un tensor de forma (2, 4).\n",
        "\n",
        "Las reglas para el broadcasting son:\n",
        "\n",
        "- Cada tensor debe tener al menos una dimensión - no hay tensores vacíos.\n",
        "\n",
        "- Comparando los tamaños de las dimensiones de los dos tensores, *yendo del último al\n",
        "   primero:*\n",
        "\n",
        "   - Cada dimensión debe ser igual, *o*\n",
        "\n",
        "   - Una de las dimensiones debe ser de tamaño 1, *o*\n",
        "\n",
        "   - La dimensión no existe en uno de los tensores\n",
        "\n",
        "Los tensores de forma idéntica, por supuesto, son trivialmente \"brodcasteables\", como\n",
        "viste antes.\n",
        "\n",
        "Aquí hay algunos ejemplos de situaciones que respetan las reglas anteriores y\n",
        "permiten el bradcasting:\n",
        "\n"
      ]
    },
    {
      "cell_type": "code",
      "execution_count": 65,
      "metadata": {
        "id": "jWqxyEh1TMvM",
        "colab": {
          "base_uri": "https://localhost:8080/"
        },
        "outputId": "a8bd3975-1567-4e66-edf9-cb6b87886b13"
      },
      "outputs": [
        {
          "output_type": "stream",
          "name": "stdout",
          "text": [
            "tensor([[[0.6641, 0.9703],\n",
            "         [0.6773, 0.8816],\n",
            "         [0.6324, 0.1316]],\n",
            "\n",
            "        [[0.6641, 0.9703],\n",
            "         [0.6773, 0.8816],\n",
            "         [0.6324, 0.1316]],\n",
            "\n",
            "        [[0.6641, 0.9703],\n",
            "         [0.6773, 0.8816],\n",
            "         [0.6324, 0.1316]],\n",
            "\n",
            "        [[0.6641, 0.9703],\n",
            "         [0.6773, 0.8816],\n",
            "         [0.6324, 0.1316]]])\n",
            "tensor([[[0.4532, 0.4532],\n",
            "         [0.8244, 0.8244],\n",
            "         [0.1004, 0.1004]],\n",
            "\n",
            "        [[0.4532, 0.4532],\n",
            "         [0.8244, 0.8244],\n",
            "         [0.1004, 0.1004]],\n",
            "\n",
            "        [[0.4532, 0.4532],\n",
            "         [0.8244, 0.8244],\n",
            "         [0.1004, 0.1004]],\n",
            "\n",
            "        [[0.4532, 0.4532],\n",
            "         [0.8244, 0.8244],\n",
            "         [0.1004, 0.1004]]])\n",
            "tensor([[[0.5184, 0.9429],\n",
            "         [0.5184, 0.9429],\n",
            "         [0.5184, 0.9429]],\n",
            "\n",
            "        [[0.5184, 0.9429],\n",
            "         [0.5184, 0.9429],\n",
            "         [0.5184, 0.9429]],\n",
            "\n",
            "        [[0.5184, 0.9429],\n",
            "         [0.5184, 0.9429],\n",
            "         [0.5184, 0.9429]],\n",
            "\n",
            "        [[0.5184, 0.9429],\n",
            "         [0.5184, 0.9429],\n",
            "         [0.5184, 0.9429]]])\n"
          ]
        }
      ],
      "source": [
        "a =     torch.ones(4, 3, 2)\n",
        "\n",
        "b = a * torch.rand(   3, 2) # 3ra & 2da dims identicas a las de a, dim 1 ausente\n",
        "print(b)\n",
        "\n",
        "c = a * torch.rand(   3, 1) # 3ra dim = 1, 2da dim identica a la de a\n",
        "print(c)\n",
        "\n",
        "d = a * torch.rand(   1, 2) # 3ra dim identica a la de a, 2da dim = 1\n",
        "print(d)"
      ]
    },
    {
      "cell_type": "markdown",
      "metadata": {
        "id": "VfS91ltQTMvO"
      },
      "source": [
        "Para obtener más información sobre el broadcasting, consulte la documentación de PyTorch\n",
        " <https://pytorch.org/docs/stable/notes/broadcasting.html>`\n",
        "\n",
        "\n"
      ]
    },
    {
      "cell_type": "markdown",
      "metadata": {
        "id": "zaQyonB-TMvO"
      },
      "source": [
        "### Más matemáticas con tensores\n",
        "\n",
        "Los tensores PyTorch tienen más de trescientas operaciones que se pueden realizar\n",
        "en ellos.\n",
        "\n",
        "Aquí hay una pequeña muestra de algunas de las principales categorías de operaciones:\n",
        "\n",
        "\n"
      ]
    },
    {
      "cell_type": "code",
      "execution_count": 66,
      "metadata": {
        "id": "KVrRYPGtTMvO",
        "colab": {
          "base_uri": "https://localhost:8080/"
        },
        "outputId": "e0ec2018-2a3c-4381-a008-e0065e61445f"
      },
      "outputs": [
        {
          "output_type": "stream",
          "name": "stdout",
          "text": [
            "Common functions:\n",
            "tensor([[0.1558, 0.6008, 0.0120, 0.6365],\n",
            "        [0.7504, 0.9263, 0.8395, 0.2845]])\n",
            "tensor([[-0., -0., -0., -0.],\n",
            "        [-0., -0., -0., 1.]])\n",
            "tensor([[-1., -1., -1., -1.],\n",
            "        [-1., -1., -1.,  0.]])\n",
            "tensor([[-0.1558, -0.5000, -0.0120, -0.5000],\n",
            "        [-0.5000, -0.5000, -0.5000,  0.2845]])\n",
            "\n",
            "Sine and arcsine:\n",
            "tensor([0.0000, 0.7854, 1.5708, 2.3562])\n",
            "tensor([0.0000, 0.7071, 1.0000, 0.7071])\n",
            "tensor([0.0000, 0.7854, 1.5708, 0.7854])\n",
            "\n",
            "Bitwise XOR:\n",
            "tensor([3, 2, 1])\n",
            "\n",
            "Broadcasted, element-wise equality comparison:\n",
            "tensor([[ True, False],\n",
            "        [False, False]])\n",
            "\n",
            "Reduction ops:\n",
            "tensor(4.)\n",
            "4.0\n",
            "tensor(2.5000)\n",
            "tensor(1.2910)\n",
            "tensor(24.)\n",
            "tensor([1, 2])\n",
            "\n",
            "Vectors & Matrices:\n",
            "tensor([ 0.,  0., -1.])\n",
            "tensor([[0.3593, 0.2046],\n",
            "        [0.4609, 0.2544]])\n",
            "tensor([[1.0779, 0.6139],\n",
            "        [1.3827, 0.7633]])\n",
            "torch.return_types.svd(\n",
            "U=tensor([[-0.6177, -0.7864],\n",
            "        [-0.7864,  0.6177]]),\n",
            "S=tensor([2.0083, 0.0130]),\n",
            "V=tensor([[-0.8730,  0.4877],\n",
            "        [-0.4877, -0.8730]]))\n"
          ]
        },
        {
          "output_type": "stream",
          "name": "stderr",
          "text": [
            "<ipython-input-66-758071967648>:46: UserWarning: Using torch.cross without specifying the dim arg is deprecated.\n",
            "Please either pass the dim explicitly or simply use torch.linalg.cross.\n",
            "The default value of dim will change to agree with that of linalg.cross in a future release. (Triggered internally at ../aten/src/ATen/native/Cross.cpp:62.)\n",
            "  print(torch.cross(v2, v1)) # negative of z unit vector (v1 x v2 == -v2 x v1)\n"
          ]
        }
      ],
      "source": [
        "# common functions\n",
        "a = torch.rand(2, 4) * 2 - 1\n",
        "print('Common functions:')\n",
        "print(torch.abs(a))\n",
        "print(torch.ceil(a))\n",
        "print(torch.floor(a))\n",
        "print(torch.clamp(a, -0.5, 0.5))\n",
        "\n",
        "# trigonometric functions and their inverses\n",
        "angles = torch.tensor([0, math.pi / 4, math.pi / 2, 3 * math.pi / 4])\n",
        "sines = torch.sin(angles)\n",
        "inverses = torch.asin(sines)\n",
        "print('\\nSine and arcsine:')\n",
        "print(angles)\n",
        "print(sines)\n",
        "print(inverses)\n",
        "\n",
        "# bitwise operations\n",
        "print('\\nBitwise XOR:')\n",
        "b = torch.tensor([1, 5, 11])\n",
        "c = torch.tensor([2, 7, 10])\n",
        "print(torch.bitwise_xor(b, c))\n",
        "\n",
        "# comparisons:\n",
        "print('\\nBroadcasted, element-wise equality comparison:')\n",
        "d = torch.tensor([[1., 2.], [3., 4.]])\n",
        "e = torch.ones(1, 2)  # many comparison ops support broadcasting!\n",
        "print(torch.eq(d, e)) # returns a tensor of type bool\n",
        "\n",
        "# reductions:\n",
        "print('\\nReduction ops:')\n",
        "print(torch.max(d))        # returns a single-element tensor\n",
        "print(torch.max(d).item()) # extracts the value from the returned tensor\n",
        "print(torch.mean(d))       # average\n",
        "print(torch.std(d))        # standard deviation\n",
        "print(torch.prod(d))       # product of all numbers\n",
        "print(torch.unique(torch.tensor([1, 2, 1, 2, 1, 2]))) # filter unique elements\n",
        "\n",
        "# vector and linear algebra operations\n",
        "v1 = torch.tensor([1., 0., 0.])         # x unit vector\n",
        "v2 = torch.tensor([0., 1., 0.])         # y unit vector\n",
        "m1 = torch.rand(2, 2)                   # random matrix\n",
        "m2 = torch.tensor([[3., 0.], [0., 3.]]) # three times identity matrix\n",
        "\n",
        "print('\\nVectors & Matrices:')\n",
        "print(torch.cross(v2, v1)) # negative of z unit vector (v1 x v2 == -v2 x v1)\n",
        "print(m1)\n",
        "m3 = torch.matmul(m1, m2)  ### multiuplicacion de matrices\n",
        "print(m3)                  # 3 times m1\n",
        "print(torch.svd(m3))       # singular value decomposition"
      ]
    },
    {
      "cell_type": "markdown",
      "metadata": {
        "id": "8dWRJ8Mj4j_8"
      },
      "source": [
        "Esta es una pequeña muestra de operaciones. Para más detalles y el inventario completo de\n",
        "funciones matemáticas, echa un vistazo a la\n",
        "`documentación` <https://pytorch.org/docs/stable/torch.html#math-operations>`__."
      ]
    },
    {
      "cell_type": "markdown",
      "metadata": {
        "id": "g-ZsXeZLTMvQ"
      },
      "source": [
        "\n",
        "\n",
        "### Alteración de tensores en su lugar\n",
        "\n",
        "\n",
        "La mayoría de las operaciones binarias entre tensores devolverán un tercer tensor nuevo. Cuando\n",
        "decimos ``c = a * b`` (donde ``a`` y ``b`` son tensores), el nuevo tensor\n",
        "``c`` ocupará una región de memoria distinta de los otros tensores.\n",
        "\n",
        "Sin embargo, hay ocasiones en las que es posible que desee alterar un tensor en su lugar:\n",
        "por ejemplo, si está haciendo un cálculo por elementos en el que puede\n",
        "descartar valores intermedios. Para esto, la mayoría de las funciones matemáticas tienen un\n",
        "versión con un guión bajo adjunto (``_``) que alterará un tensor en su\n",
        "lugar.\n",
        "\n",
        "Por ejemplo:\n",
        "\n",
        "\n"
      ]
    },
    {
      "cell_type": "code",
      "execution_count": 67,
      "metadata": {
        "colab": {
          "base_uri": "https://localhost:8080/"
        },
        "id": "nr9t_DyzTMvR",
        "outputId": "e7449987-61cd-4808-d1b0-34894c01cc81"
      },
      "outputs": [
        {
          "output_type": "stream",
          "name": "stdout",
          "text": [
            "a:\n",
            "tensor([0.0000, 0.7854, 1.5708, 2.3562])\n",
            "tensor([0.0000, 0.7071, 1.0000, 0.7071])\n",
            "tensor([0.0000, 0.7854, 1.5708, 2.3562])\n",
            "\n",
            "b:\n",
            "tensor([0.0000, 0.7854, 1.5708, 2.3562])\n",
            "tensor([0.0000, 0.7071, 1.0000, 0.7071])\n",
            "tensor([0.0000, 0.7071, 1.0000, 0.7071])\n"
          ]
        }
      ],
      "source": [
        "a = torch.tensor([0, math.pi / 4, math.pi / 2, 3 * math.pi / 4])\n",
        "print('a:')\n",
        "print(a)\n",
        "print(torch.sin(a))   # esta operación crea un nuevo tensor en la memoria\n",
        "print(a)              # a no ha cambiado\n",
        "\n",
        "b = torch.tensor([0, math.pi / 4, math.pi / 2, 3 * math.pi / 4])\n",
        "print('\\nb:')\n",
        "print(b)\n",
        "print(torch.sin_(b))  # note el guión bajo\n",
        "print(b)              # b ha cambiado"
      ]
    },
    {
      "cell_type": "markdown",
      "metadata": {
        "id": "sOrdae34TMvR"
      },
      "source": [
        "Para las operaciones aritméticas, existen funciones que se comportan de manera similar:\n",
        "\n"
      ]
    },
    {
      "cell_type": "code",
      "execution_count": 68,
      "metadata": {
        "id": "IJYc2E6fTMvR",
        "colab": {
          "base_uri": "https://localhost:8080/"
        },
        "outputId": "fe19353b-6e49-4b9f-dea0-df2ee55732eb"
      },
      "outputs": [
        {
          "output_type": "stream",
          "name": "stdout",
          "text": [
            "Before:\n",
            "tensor([[1., 1.],\n",
            "        [1., 1.]])\n",
            "tensor([[0.1967, 0.4355],\n",
            "        [0.1945, 0.3341]])\n",
            "\n",
            "After adding:\n",
            "tensor([[1.1967, 1.4355],\n",
            "        [1.1945, 1.3341]])\n",
            "tensor([[1.1967, 1.4355],\n",
            "        [1.1945, 1.3341]])\n",
            "tensor([[0.1967, 0.4355],\n",
            "        [0.1945, 0.3341]])\n",
            "\n",
            "After multiplying\n",
            "tensor([[0.0387, 0.1896],\n",
            "        [0.0378, 0.1116]])\n",
            "tensor([[0.0387, 0.1896],\n",
            "        [0.0378, 0.1116]])\n"
          ]
        }
      ],
      "source": [
        "a = torch.ones(2, 2)\n",
        "b = torch.rand(2, 2)\n",
        "\n",
        "print('Before:')\n",
        "print(a)\n",
        "print(b)\n",
        "print('\\nAfter adding:')\n",
        "print(a.add_(b))\n",
        "print(a)\n",
        "print(b)\n",
        "print('\\nAfter multiplying')\n",
        "print(b.mul_(b))\n",
        "print(b)"
      ]
    },
    {
      "cell_type": "markdown",
      "metadata": {
        "id": "mp8drNSzTMvS"
      },
      "source": [
        "Tenga en cuenta que estas funciones aritméticas in situ son métodos del objeto ``torch.Tensor``, no adjunto al módulo ``torch`` como muchos\n",
        "otras funciones (por ejemplo, ``torch.sin()``). Como puedes ver desde\n",
        "``a.add_(b)``, *el tensor de llamada es el que se cambia en\n",
        "lugar.*\n",
        "\n",
        "Existe otra opción para colocar el resultado de un cálculo en un\n",
        "tensor asignado existente. Muchos de los métodos y funciones que hemos visto\n",
        "hasta ahora, ¡incluidos los métodos constructores! , tienen un argumento ``out`` que\n",
        "le permite especificar un tensor para recibir la salida. Si el tensor ``out``\n",
        "es de la forma correcta y ``dtype`` correcto, esto puede suceder sin una nueva asignación de memoria:\n",
        "\n",
        "\n"
      ]
    },
    {
      "cell_type": "code",
      "execution_count": 69,
      "metadata": {
        "id": "4rEB4m4PTMvS",
        "colab": {
          "base_uri": "https://localhost:8080/"
        },
        "outputId": "b0296798-61ad-45b8-aff2-b397e1601fe0"
      },
      "outputs": [
        {
          "output_type": "stream",
          "name": "stdout",
          "text": [
            "tensor([[0., 0.],\n",
            "        [0., 0.]])\n",
            "tensor([[0.2823, 0.7997],\n",
            "        [0.4844, 1.0150]])\n",
            "tensor([[0.5981, 0.1380],\n",
            "        [0.5613, 0.4115]])\n"
          ]
        }
      ],
      "source": [
        "a = torch.rand(2, 2)\n",
        "b = torch.rand(2, 2)\n",
        "c = torch.zeros(2, 2)\n",
        "old_id = id(c)\n",
        "\n",
        "print(c)\n",
        "d = torch.matmul(a, b, out=c)\n",
        "print(c)                # el contenido de c ha cambiado\n",
        "\n",
        "assert c is d           # se fija si c & d son el mismo objeto, no que solo contienen los mismos valore\n",
        "assert id(c), old_id    # se asegura que el nuevo c sea el mismo que el viejo\n",
        "\n",
        "torch.rand(2, 2, out=c) # funciona también para constructores\n",
        "print(c)                # c ha cambiado nuevamente\n",
        "assert id(c), old_id    # todavía es el mismo objeto"
      ]
    },
    {
      "cell_type": "markdown",
      "metadata": {
        "id": "MURJjaoLTMvS"
      },
      "source": [
        "Copiando tensores\n",
        "---------------\n",
        "\n",
        "Como con cualquier objeto en Python, asignar un tensor a una variable convierte a la variable en una *etiqueta* del tensor y no la copia. Por ejemplo:\n",
        "\n",
        "\n"
      ]
    },
    {
      "cell_type": "code",
      "execution_count": 12,
      "metadata": {
        "colab": {
          "base_uri": "https://localhost:8080/"
        },
        "id": "X4WcXXOlTMvT",
        "outputId": "ce33d76e-73ee-4cbf-929d-52e33da48412"
      },
      "outputs": [
        {
          "output_type": "stream",
          "name": "stdout",
          "text": [
            "tensor([[  1., 561.],\n",
            "        [  1.,   1.]])\n"
          ]
        }
      ],
      "source": [
        "a = torch.ones(2, 2)\n",
        "b = a\n",
        "\n",
        "a[0][1] = 561  # al cambiar a\n",
        "print(b)       # ...b también se altera"
      ]
    },
    {
      "cell_type": "markdown",
      "metadata": {
        "id": "U2pchi__TMvT"
      },
      "source": [
        "Pero, ¿qué sucede si deseas una copia separada de los datos para trabajar? El método ``clone()`` está ahí para ti:\n",
        "\n",
        "\n"
      ]
    },
    {
      "cell_type": "code",
      "execution_count": 13,
      "metadata": {
        "colab": {
          "base_uri": "https://localhost:8080/"
        },
        "id": "bkWDLf_lTMvT",
        "outputId": "9ff6f30d-4930-44a9-e26f-78c24da09330"
      },
      "outputs": [
        {
          "output_type": "stream",
          "name": "stdout",
          "text": [
            "tensor([[True, True],\n",
            "        [True, True]])\n",
            "tensor([[1., 1.],\n",
            "        [1., 1.]])\n"
          ]
        }
      ],
      "source": [
        "a = torch.ones(2, 2)\n",
        "b = a.clone()\n",
        "\n",
        "assert b is not a      # diferentes objetos en memoria...\n",
        "print(torch.eq(a, b))  # ...pero todavía son el mismo contenido!\n",
        "\n",
        "a[0][1] = 561          # a cambia...\n",
        "print(b)               # ...pero b todavía son puros unos"
      ]
    },
    {
      "cell_type": "markdown",
      "metadata": {
        "id": "egK6PB2hTMvZ"
      },
      "source": [
        "Manipulación de la forma del tensor\n",
        "--------------------------\n",
        "\n",
        "A veces, necesitarás cambiar la forma de tu tensor. A continuación, veremos algunos casos comunes y cómo manejarlos.\n",
        "\n",
        "###Cambiar el número de dimensiones\n",
        "\n",
        "\n",
        "Un caso en el que podría necesitar cambiar la cantidad de dimensiones es pasar una sola instancia como entrada a su modelo. Los modelos de PyTorch generalmente esperan *lotes* de entrada.\n",
        "\n",
        "Por ejemplo, imagine tener un modelo que funcione con imágenes de 3 x 226 x 226, un cuadrado de 226 píxeles con 3 canales de color. Cuando lo cargues y lo transformes, obtendrás un tensor de forma ``(3, 226, 226)``. Sin embargo, su modelo espera una entrada de forma ``(N, 3, 226, 226)``, donde ``N`` es el número de imágenes en el lote. Entonces, ¿cómo se hace un lote de uno?\n",
        "\n",
        "\n"
      ]
    },
    {
      "cell_type": "code",
      "execution_count": 14,
      "metadata": {
        "colab": {
          "base_uri": "https://localhost:8080/"
        },
        "id": "5HEXibbvTMvZ",
        "outputId": "afd7edaf-3daa-4a33-811f-2b07ee3c9460"
      },
      "outputs": [
        {
          "output_type": "stream",
          "name": "stdout",
          "text": [
            "torch.Size([3, 226, 226])\n",
            "torch.Size([1, 3, 226, 226])\n"
          ]
        }
      ],
      "source": [
        "a = torch.rand(3, 226, 226)\n",
        "b = a.unsqueeze(0)\n",
        "\n",
        "print(a.shape)\n",
        "print(b.shape)"
      ]
    },
    {
      "cell_type": "markdown",
      "metadata": {
        "id": "0HVDvY7wTMvb"
      },
      "source": [
        "El método ``unsqueeze()`` agrega una dimensión de extensión 1.\n",
        "``unsqueeze(0)`` lo agrega como una nueva dimensión cero - ¡ahora tienes un lote de uno!\n",
        "\n",
        "Estamos aprovechando el hecho de que cualquier dimensión de extensión 1 *no* cambia el número de elementos en el tensor.\n",
        "\n",
        "\n"
      ]
    },
    {
      "cell_type": "code",
      "execution_count": 15,
      "metadata": {
        "colab": {
          "base_uri": "https://localhost:8080/"
        },
        "id": "-ZZVNtYHTMvb",
        "outputId": "145110c5-d7e8-4849-9543-297e37fef29e"
      },
      "outputs": [
        {
          "output_type": "stream",
          "name": "stdout",
          "text": [
            "tensor([[[[[0.5556]]]]])\n"
          ]
        }
      ],
      "source": [
        "c = torch.rand(1, 1, 1, 1, 1)\n",
        "print(c)"
      ]
    },
    {
      "cell_type": "markdown",
      "metadata": {
        "id": "RjZjbTrSTMvc"
      },
      "source": [
        "Continuando con el ejemplo anterior, digamos que la salida del modelo es un vector de 20 elementos para cada entrada. Entonces esperaría que la salida tuviera la forma ``(N, 20)``, donde ``N`` es el número de instancias en el lote de entrada. Eso significa que para nuestro lote de entrada única, obtendremos una salida de forma ``(1, 20)``.\n",
        "\n",
        "¿Qué sucede si desea realizar un cálculo *no por lotes* con esa salida, algo que solo espera un vector de 20 elementos?\n",
        "\n",
        "\n"
      ]
    },
    {
      "cell_type": "code",
      "execution_count": 16,
      "metadata": {
        "colab": {
          "base_uri": "https://localhost:8080/"
        },
        "id": "gewoOUXFTMvc",
        "outputId": "d41bab8b-fb79-4e66-eee6-f6be3f32aea3"
      },
      "outputs": [
        {
          "output_type": "stream",
          "name": "stdout",
          "text": [
            "torch.Size([1, 20])\n",
            "tensor([[0.1729, 0.2423, 0.0649, 0.3936, 0.3864, 0.9872, 0.1529, 0.6373, 0.2092,\n",
            "         0.3714, 0.7351, 0.0041, 0.7053, 0.3922, 0.3202, 0.6718, 0.6670, 0.3292,\n",
            "         0.6904, 0.4958]])\n",
            "torch.Size([20])\n",
            "tensor([0.1729, 0.2423, 0.0649, 0.3936, 0.3864, 0.9872, 0.1529, 0.6373, 0.2092,\n",
            "        0.3714, 0.7351, 0.0041, 0.7053, 0.3922, 0.3202, 0.6718, 0.6670, 0.3292,\n",
            "        0.6904, 0.4958])\n",
            "torch.Size([2, 2])\n",
            "torch.Size([2, 2])\n"
          ]
        }
      ],
      "source": [
        "a = torch.rand(1, 20)\n",
        "print(a.shape)\n",
        "print(a)\n",
        "\n",
        "b = a.squeeze(0)\n",
        "print(b.shape)\n",
        "print(b)\n",
        "\n",
        "c = torch.rand(2, 2)\n",
        "print(c.shape)\n",
        "\n",
        "d = c.squeeze(0)\n",
        "print(d.shape)"
      ]
    },
    {
      "cell_type": "markdown",
      "metadata": {
        "id": "fWd8MRbmJ9ez"
      },
      "source": [
        "Puede ver en las formas que nuestro tensor bidimensional ahora es\n",
        "1-dimensional, y si miras de cerca la salida de la celda de arriba\n",
        "verás que imprimir ``a`` muestra un conjunto \"extra\" de corchetes\n",
        "``[]`` debido a que tiene una dimensión adicional.\n",
        "\n",
        "Solo puede hacer ``squeeze()`` sobre las dimensiones de tamaño 1. Vea arriba, donde tratamos de comprimir una dimensión de tamaño 2 en ``c``, y terminamos recuperando la misma forma con la que comenzamos. Las llamadas a ``squeeze()`` y ``unsqueeze()`` solo pueden actuar en dimensiones de tamaño 1 porque, de lo contrario, cambiaría el número de elementos en el tensor."
      ]
    },
    {
      "cell_type": "markdown",
      "metadata": {
        "id": "L7uLV1mFKXds"
      },
      "source": [
        "Otro lugar en el que podrías usar ``unsqueeze()`` es para facilitar el broadcasting. Recuerde el ejemplo anterior donde teníamos el siguiente código:"
      ]
    },
    {
      "cell_type": "code",
      "execution_count": 17,
      "metadata": {
        "colab": {
          "base_uri": "https://localhost:8080/"
        },
        "id": "hD7diDJcKZE3",
        "outputId": "ed14bbfb-7064-4451-edad-7440d2686962"
      },
      "outputs": [
        {
          "output_type": "stream",
          "name": "stdout",
          "text": [
            "tensor([[[0.3650, 0.3650],\n",
            "         [0.4223, 0.4223],\n",
            "         [0.0019, 0.0019]],\n",
            "\n",
            "        [[0.3650, 0.3650],\n",
            "         [0.4223, 0.4223],\n",
            "         [0.0019, 0.0019]],\n",
            "\n",
            "        [[0.3650, 0.3650],\n",
            "         [0.4223, 0.4223],\n",
            "         [0.0019, 0.0019]],\n",
            "\n",
            "        [[0.3650, 0.3650],\n",
            "         [0.4223, 0.4223],\n",
            "         [0.0019, 0.0019]]])\n"
          ]
        }
      ],
      "source": [
        "a = torch.ones(4, 3, 2)\n",
        "\n",
        "c = a * torch.rand(   3, 1) # 3rd dim = 1, 2nd dim identical to a\n",
        "print(c)"
      ]
    },
    {
      "cell_type": "markdown",
      "metadata": {
        "id": "7P7ue18ETMvc"
      },
      "source": [
        "El efecto neto de eso fue operar con broadcast sobre las dimensiones 0 y 2, lo que provocó que el tensor aleatorio de 3 x 1 se multiplicara elemento a elemento por cada columna de 3 elementos en ``a``.\n",
        "\n",
        "¿Qué pasaría si el vector aleatorio hubiera sido un vector de 3 elementos? Perderíamos la capacidad de hacer broadcasting, porque las dimensiones finales no coincidirían de acuerdo con las reglas del broadcasting. ``unsqueeze()`` viene al rescate:\n",
        "\n",
        "\n"
      ]
    },
    {
      "cell_type": "code",
      "execution_count": 18,
      "metadata": {
        "colab": {
          "base_uri": "https://localhost:8080/"
        },
        "id": "MnpPtHRtTMvd",
        "outputId": "ce0eed6b-020c-4abd-8413-a92f6fdaec9e"
      },
      "outputs": [
        {
          "output_type": "stream",
          "name": "stdout",
          "text": [
            "torch.Size([3, 1])\n",
            "tensor([[[0.4270, 0.4270],\n",
            "         [0.8193, 0.8193],\n",
            "         [0.1629, 0.1629]],\n",
            "\n",
            "        [[0.4270, 0.4270],\n",
            "         [0.8193, 0.8193],\n",
            "         [0.1629, 0.1629]],\n",
            "\n",
            "        [[0.4270, 0.4270],\n",
            "         [0.8193, 0.8193],\n",
            "         [0.1629, 0.1629]],\n",
            "\n",
            "        [[0.4270, 0.4270],\n",
            "         [0.8193, 0.8193],\n",
            "         [0.1629, 0.1629]]])\n"
          ]
        }
      ],
      "source": [
        "a = torch.ones(4, 3, 2)\n",
        "b = torch.rand(   3)     # intentar multiplicar a * b dará un error de tiempo de ejecución\n",
        "c = b.unsqueeze(1)       # cambiar a un tensor bidimensional, agregando un nuevo dim al final\n",
        "print(c.shape)\n",
        "print(a * c)             # ¡El broadcast funciona de nuevo!"
      ]
    },
    {
      "cell_type": "markdown",
      "metadata": {
        "id": "k2FlCeTATMvd"
      },
      "source": [
        "Los métodos squeeze() y unsqueeze() también tienen versiones in situ, squeeze_() y unsqueeze_():\n",
        "\n",
        "\n"
      ]
    },
    {
      "cell_type": "code",
      "execution_count": 19,
      "metadata": {
        "colab": {
          "base_uri": "https://localhost:8080/"
        },
        "id": "GJmCHqJqTMve",
        "outputId": "fe8677b3-fd86-43a5-cd1a-ba358dabe6c7"
      },
      "outputs": [
        {
          "output_type": "stream",
          "name": "stdout",
          "text": [
            "torch.Size([3, 226, 226])\n",
            "torch.Size([1, 3, 226, 226])\n"
          ]
        }
      ],
      "source": [
        "batch_me = torch.rand(3, 226, 226)\n",
        "print(batch_me.shape)\n",
        "batch_me.unsqueeze_(0)\n",
        "print(batch_me.shape)"
      ]
    },
    {
      "cell_type": "markdown",
      "metadata": {
        "id": "IOzhnOogTMve"
      },
      "source": [
        "A veces querrá cambiar la forma de un tensor de forma más radical, conservando al mismo tiempo la cantidad de elementos y su contenido.\n",
        "\n",
        "``reshape()`` hará esto por ti, siempre que las dimensiones que solicites produzcan el mismo número de elementos que tiene el tensor de entrada:\n",
        "\n",
        "\n"
      ]
    },
    {
      "cell_type": "code",
      "execution_count": 20,
      "metadata": {
        "colab": {
          "base_uri": "https://localhost:8080/"
        },
        "id": "cYBWDEBRTMve",
        "outputId": "d64b92eb-d86a-42e9-9214-bb6a21b86634"
      },
      "outputs": [
        {
          "output_type": "stream",
          "name": "stdout",
          "text": [
            "torch.Size([6, 20, 20])\n",
            "torch.Size([2400])\n",
            "torch.Size([2400])\n"
          ]
        }
      ],
      "source": [
        "output3d = torch.rand(6, 20, 20)\n",
        "print(output3d.shape)\n",
        "\n",
        "input1d = output3d.reshape(6 * 20 * 20)\n",
        "print(input1d.shape)\n",
        "\n",
        "# can also call it as a method on the torch module:\n",
        "print(torch.reshape(output3d, (6 * 20 * 20,)).shape)"
      ]
    },
    {
      "cell_type": "markdown",
      "metadata": {
        "id": "MeQRf1jGTMvf"
      },
      "source": [
        "El argumento ``(6 * 20 * 20,)`` en la línea final de la celda anterior se debe a que PyTorch espera una **tupla** al especificar una forma de tensor, pero cuando la forma es el primer argumento de un método, nos permite hacer trampa y simplemente usar una serie de números enteros. Aquí, tuvimos que agregar los paréntesis y la coma para convencer al método de que se trata realmente de una tupla de un elemento.\n",
        "\n",
        "Cuando pueda, ``reshape()`` devolverá una *vista* del tensor a ser\n",
        "cambiado, es decir, un objeto tensor separado que mira la misma región subyacente de la memoria. *Esto es importante:* Eso significa que cualquier cambio realizado en el tensor fuente se reflejará en la vista de ese tensor, a menos que le hagas ``clone()``.\n",
        "\n",
        "Para obtener más información, consulte la\n",
        "documentación <https://pytorch.org/docs/stable/torch.html#torch.reshape>\n",
        "\n",
        "\n"
      ]
    },
    {
      "cell_type": "markdown",
      "metadata": {
        "id": "AX3g_hRtTMvf"
      },
      "source": [
        "Puente con NumPy\n",
        "------------\n",
        "\n",
        "En la sección anterior sobre broadcasting, se mencionó que la semántica de broadcasting de PyTorch es compatible con la de NumPy, pero la afinidad entre PyTorch y NumPy es aún más profunda que eso.\n",
        "\n",
        "Si tiene código científico o de ML pre-existente con datos almacenados en NumPy ndarrays, es posible que desee expresar esos mismos datos como tensores PyTorch, ya sea para aprovechar la aceleración GPU de PyTorch o sus abstracciones eficientes para construir modelos neuronales.\n",
        "\n",
        "Pues es fácil cambiar entre ndarrays y tensores PyTorch:\n",
        "\n",
        "\n"
      ]
    },
    {
      "cell_type": "code",
      "execution_count": 21,
      "metadata": {
        "colab": {
          "base_uri": "https://localhost:8080/"
        },
        "id": "V1WMPpyvTMvf",
        "outputId": "ef9eb832-6f3d-44f9-d667-8885452d62a4"
      },
      "outputs": [
        {
          "output_type": "stream",
          "name": "stdout",
          "text": [
            "[[1. 1. 1.]\n",
            " [1. 1. 1.]]\n",
            "tensor([[1., 1., 1.],\n",
            "        [1., 1., 1.]], dtype=torch.float64)\n"
          ]
        }
      ],
      "source": [
        "import numpy as np\n",
        "\n",
        "numpy_array = np.ones((2, 3))\n",
        "print(numpy_array)\n",
        "\n",
        "pytorch_tensor = torch.from_numpy(numpy_array)\n",
        "print(pytorch_tensor)"
      ]
    },
    {
      "cell_type": "markdown",
      "metadata": {
        "id": "A5OzNOIxTMvf"
      },
      "source": [
        "PyTorch crea un tensor de la misma forma y que contiene los mismos datos que los arreglos NumPy, llegando incluso a mantener el tipo de datos flotante de 64 bits predeterminado de NumPy.\n",
        "\n",
        "La conversión puede ir fácilmente a la inversa:\n",
        "\n",
        "\n"
      ]
    },
    {
      "cell_type": "code",
      "execution_count": 22,
      "metadata": {
        "colab": {
          "base_uri": "https://localhost:8080/"
        },
        "id": "1EWg0MuqTMvg",
        "outputId": "18812c2c-5927-414c-fed0-609191f3039b"
      },
      "outputs": [
        {
          "output_type": "stream",
          "name": "stdout",
          "text": [
            "tensor([[0.3737, 0.4675, 0.3002],\n",
            "        [0.5890, 0.9148, 0.1396]])\n",
            "[[0.37374562 0.46745276 0.30022556]\n",
            " [0.58896625 0.91483426 0.1396457 ]]\n"
          ]
        }
      ],
      "source": [
        "pytorch_rand = torch.rand(2, 3)\n",
        "print(pytorch_rand)\n",
        "\n",
        "numpy_rand = pytorch_rand.numpy()\n",
        "print(numpy_rand)"
      ]
    },
    {
      "cell_type": "markdown",
      "metadata": {
        "id": "lfLR2tBaTMvg"
      },
      "source": [
        "Es importante saber que estos objetos convertidos utilizan *la misma memoria subyacente* que sus objetos de origen, lo que significa que los cambios en uno se reflejan en el otro:\n",
        "\n",
        "\n"
      ]
    },
    {
      "cell_type": "code",
      "execution_count": 23,
      "metadata": {
        "colab": {
          "base_uri": "https://localhost:8080/"
        },
        "id": "NUVqJqOMTMvg",
        "outputId": "4b9e5c2a-3732-4576-a526-a4c796f9420a"
      },
      "outputs": [
        {
          "output_type": "stream",
          "name": "stdout",
          "text": [
            "tensor([[ 1.,  1.,  1.],\n",
            "        [ 1., 23.,  1.]], dtype=torch.float64)\n",
            "[[ 0.37374562  0.46745276  0.30022556]\n",
            " [ 0.58896625 17.          0.1396457 ]]\n"
          ]
        }
      ],
      "source": [
        "numpy_array[1, 1] = 23\n",
        "print(pytorch_tensor)\n",
        "\n",
        "pytorch_rand[1, 1] = 17\n",
        "print(numpy_rand)"
      ]
    },
    {
      "cell_type": "markdown",
      "metadata": {
        "id": "3WM6CDSHx47S"
      },
      "source": [
        "Datasets & DataLoaders\n",
        "==================="
      ]
    },
    {
      "cell_type": "markdown",
      "metadata": {
        "id": "BZVZW5cUjjYB"
      },
      "source": [
        "\n",
        "El código para procesar muestras de datos puede complicarse y ser difícil de mantener. Idealmente, queremos que nuestro código de conjunto de datos esté desacoplado de nuestro código de entrenamiento del modelo para una mejor legibilidad y modularidad.\n",
        "PyTorch proporciona dos primitivas de datos: ``torch.utils.data.DataLoader`` y ``torch.utils.data.Dataset`` que nos permiten usar datasets precargados, así como nuestros propios datos. ``Dataset`` almacena las muestras y sus etiquetas correspondientes, y ``DataLoader`` envuelve un iterable alrededor del ``Dataset`` para facilitar el acceso a las muestras.\n",
        "\n",
        "PyTorch proporciona una serie de datasets precargados precargados (como FashionMNIST) que son una subclase de ``torch.utils.data.Dataset`` e implementan funciones específicas para los datos en particular. Se pueden usar para crear prototipos y comparar su modelo. Puede encontrarlos aquí: [Dataset de imágenes](https://pytorch.org/vision/stable/datasets.html), [Datasets de texto](https://pytorch.org/text/stable/datasets.html) y [Datasets de audio](https://pytorch.org/audio/stable/datasets.html)"
      ]
    },
    {
      "cell_type": "markdown",
      "metadata": {
        "id": "Yi8fWTrSjjYD"
      },
      "source": [
        "Cargar un Dataset\n",
        "-------------------\n",
        "\n",
        "Este es un ejemplo de cómo cargar el conjunto de datos `Fashion-MNIST <https://research.zalando.com/project/fashion_mnist/fashion_mnist/>`_ de TorchVision.\n",
        "Fashion-MNIST es un conjunto de datos de imágenes de artículos de Zalando que consta de 60 000 ejemplos de entrenamiento y 10 000 ejemplos de prueba. Cada ejemplo comprende una imagen en escala de grises de 28 × 28 y una etiqueta asociada de una de las 10 clases.\n",
        "\n",
        "Cargamos el `Conjunto de datos FashionMNIST <https://pytorch.org/vision/stable/datasets.html#fashion-mnist>`_ con los siguientes parámetros:\n",
        "  - ``root`` es la ruta donde se almacenan los datos del entrenamiento/prueba,\n",
        "  - ``train`` especifica si es un dataset de entrenamiento o prueba,\n",
        "  - ``download=True`` descarga los datos de Internet si no están disponibles en ``root``.\n",
        "  - ``transform`` y ``target_transform`` especifican las transformaciones de características y etiquetas\n",
        "\n",
        "\n"
      ]
    },
    {
      "cell_type": "code",
      "execution_count": 27,
      "metadata": {
        "id": "R1CnIRIpjjYD"
      },
      "outputs": [],
      "source": [
        "import torch\n",
        "from torch.utils.data import Dataset  ## dataset es una parte de utils\n",
        "from torchvision import datasets\n",
        "from torchvision.transforms import ToTensor  ## ttrasnformacion de tensores\n",
        "import matplotlib.pyplot as plt\n",
        "\n",
        "\n",
        "training_data = datasets.FashionMNIST(\n",
        "    root=\"data\",\n",
        "    train=True,\n",
        "    download=True,  ## descarga si se fija esta ahi la descarga\n",
        "    transform=ToTensor()  ## lo guarda como un tensor\n",
        ")\n",
        "\n",
        "test_data = datasets.FashionMNIST(\n",
        "    root=\"data\",\n",
        "    train=False,\n",
        "    download=True,\n",
        "    transform=ToTensor()\n",
        ")"
      ]
    },
    {
      "cell_type": "markdown",
      "metadata": {
        "id": "JATRpV7CjjYE"
      },
      "source": [
        "Iterar and Visualizar el Dataset\n",
        "-----------------\n",
        "\n",
        "Podemos indexar ``Datasets`` manualmente como una lista: ``training_data[index]``. Usamos ``matplotlib`` para visualizar algunas muestras en nuestros datos de entrenamiento."
      ]
    },
    {
      "cell_type": "code",
      "execution_count": 31,
      "metadata": {
        "colab": {
          "base_uri": "https://localhost:8080/",
          "height": 675
        },
        "id": "i1JltgWIjjYE",
        "outputId": "d49f453b-1a1b-490d-d847-a409c61ea214"
      },
      "outputs": [
        {
          "output_type": "display_data",
          "data": {
            "text/plain": [
              "<Figure size 800x800 with 9 Axes>"
            ],
            "image/png": "[encoded data removed]"
          },
          "metadata": {}
        }
      ],
      "source": [
        "labels_map = {\n",
        "    0: \"T-Shirt\",  ## segenera un diccionario de 10 clases iterar sobre el vector de 1 a cantidad de elementos a matrizde 3x3\n",
        "    1: \"Trouser\",\n",
        "    2: \"Pullover\",\n",
        "    3: \"Dress\",\n",
        "    4: \"Coat\",\n",
        "    5: \"Sandal\",\n",
        "    6: \"Shirt\",\n",
        "    7: \"Sneaker\",\n",
        "    8: \"Bag\",\n",
        "    9: \"Ankle Boot\",\n",
        "}\n",
        "figure = plt.figure(figsize=(8, 8))\n",
        "cols, rows = 3, 3\n",
        "for i in range(1, cols * rows + 1):\n",
        "    sample_idx = torch.randint(len(training_data), size=(1,)).item()  ## el elemento lo saco con item()len genere un entero\n",
        "    img, label = training_data[sample_idx]  ## indice aleatorio devuelve tupla de dos elementos etiqueta e imagen\n",
        "    figure.add_subplot(rows, cols, i)\n",
        "    plt.title(labels_map[label])\n",
        "    plt.axis(\"off\")\n",
        "    plt.imshow(img.squeeze(), cmap=\"gray\")  ## squezze se cargan como cubos una sola matriz en blanco y negro\n",
        "plt.show()"
      ]
    },
    {
      "cell_type": "markdown",
      "metadata": {
        "id": "2Vai_flPjjYF"
      },
      "source": [
        "..\n",
        " .. figure:: /_static/img/basics/fashion_mnist.png\n",
        "   :alt: fashion_mnist\n",
        "\n"
      ]
    },
    {
      "cell_type": "markdown",
      "metadata": {
        "id": "uCBQiwi2jjYG"
      },
      "source": [
        "--------------\n",
        "\n",
        "\n"
      ]
    },
    {
      "cell_type": "markdown",
      "metadata": {
        "id": "r06a_4R6jjYG"
      },
      "source": [
        "Creación de un Dataset personalizado para nuestros archivos\n",
        "--------------------------------------------------\n",
        "\n",
        "Una clase Dataset personalizada debe implementar tres funciones: `__init__`, `__len__` y `__getitem__`. Echemos un vistazo a esta implementación; las imágenes de FashionMNIST se almacenan en un directorio ``img_dir``, y sus etiquetas se almacenan por separado en un archivo CSV ``annotations_file``.\n",
        "\n",
        "En las siguientes secciones, desglosaremos lo que sucede en cada una de estas funciones.\n",
        "\n"
      ]
    },
    {
      "cell_type": "code",
      "execution_count": 35,
      "metadata": {
        "id": "PU_dUmI-jjYG"
      },
      "outputs": [],
      "source": [
        "import os\n",
        "import pandas as pd\n",
        "from torchvision.io import read_image\n",
        "\n",
        "class CustomImageDataset(Dataset):  ## genero un dataset como subclase de dataset 3 clases de funciones, 1 constructor, 2 len devuelve cant elementos 3 get item indice\n",
        "    def __init__(self, annotations_file, img_dir, transform=None, target_transform=None):\n",
        "        self.img_labels = pd.read_csv(annotations_file)  ## un dtaframe ruta de imagenes y etiqueta\n",
        "        self.img_dir = img_dir  ## ruta de imagenes\n",
        "        self.transform = transform ## son vacios por defecto una funcion como atributo\n",
        "        self.target_transform = target_transform  ##\n",
        "\n",
        "    def __len__(self):\n",
        "        return len(self.img_labels)  ## devuelve la cantidad de filas del dataset\n",
        "\n",
        "    def __getitem__(self, idx): ## path del directorio primer columna nombre imagen\n",
        "        img_path = os.path.join(self.img_dir, self.img_labels.iloc[idx, 0])\n",
        "        image = read_image(img_path)  ## imagen\n",
        "        label = self.img_labels.iloc[idx, 1] ## 2da columna guarda las etiquetas\n",
        "        if self.transform:\n",
        "            image = self.transform(image)  ## si existe transforma\n",
        "        if self.target_transform:\n",
        "            label = self.target_transform(label) ## etiqueta\n",
        "        return image, label"
      ]
    },
    {
      "cell_type": "markdown",
      "metadata": {
        "id": "DPCvcHmJjjYH"
      },
      "source": [
        "### \\_\\_init__\n",
        "\n",
        "La función __init__ se ejecuta una vez al instanciar el objeto Dataset. Inicializamos el directorio que contiene las imágenes, el annotations_file y ambas transformaciones (tratadas con más detalle en la siguiente sección).\n",
        "\n",
        "El archivo etiquetas.csv se ve así:\n",
        "\n",
        "\n",
        "    tshirt1.jpg, 0\n",
        "    tshirt2.jpg, 0\n",
        "    ......\n",
        "    ankleboot999.jpg, 9\n",
        "\n"
      ]
    },
    {
      "cell_type": "code",
      "execution_count": 36,
      "metadata": {
        "id": "2zW_nfbRjjYH"
      },
      "outputs": [],
      "source": [
        "def __init__(self, annotations_file, img_dir, transform=None, target_transform=None):\n",
        "    self.img_labels = pd.read_csv(annotations_file)\n",
        "    self.img_dir = img_dir\n",
        "    self.transform = transform\n",
        "    self.target_transform = target_transform"
      ]
    },
    {
      "cell_type": "markdown",
      "metadata": {
        "id": "6IFhO0IAjjYH"
      },
      "source": [
        "### \\_\\_len__\n",
        "\n",
        "La función __len__ devuelve el número de muestras en nuestro dataset.\n",
        "\n",
        "Ejemplo:\n",
        "\n"
      ]
    },
    {
      "cell_type": "code",
      "execution_count": 37,
      "metadata": {
        "id": "GpUGaKpXjjYI"
      },
      "outputs": [],
      "source": [
        "def __len__(self):\n",
        "    return len(self.img_labels)"
      ]
    },
    {
      "cell_type": "markdown",
      "metadata": {
        "id": "aCwDHjcXjjYI"
      },
      "source": [
        "### \\_\\_getitem__\n",
        "\n",
        "La función __getitem__ carga y devuelve una muestra del dataset en el índice dado ``idx``. Según el índice, identifica la ubicación de la imagen en el disco, la convierte en un tensor usando ``read_image``, recupera la etiqueta correspondiente de los datos csv en `self.img_labels``, llama a las funciones de transformación en ellos (si corresponde ) y devuelve la imagen del tensor y la etiqueta correspondiente en una tupla.\n",
        "\n"
      ]
    },
    {
      "cell_type": "code",
      "execution_count": 38,
      "metadata": {
        "id": "rAZ3CuGjjjYI"
      },
      "outputs": [],
      "source": [
        "def __getitem__(self, idx):\n",
        "    img_path = os.path.join(self.img_dir, self.img_labels.iloc[idx, 0])\n",
        "    image = read_image(img_path)\n",
        "    label = self.img_labels.iloc[idx, 1]\n",
        "    if self.transform:\n",
        "        image = self.transform(image)\n",
        "    if self.target_transform:\n",
        "        label = self.target_transform(label)\n",
        "    return image, label"
      ]
    },
    {
      "cell_type": "markdown",
      "metadata": {
        "id": "4R4YVfwajjYJ"
      },
      "source": [
        "--------------\n",
        "\n",
        "\n"
      ]
    },
    {
      "cell_type": "markdown",
      "metadata": {
        "id": "TUQD9qCPjjYJ"
      },
      "source": [
        "Preparando nuestros datos para el entrenamiento con DataLoaders\n",
        "-------------------------------------------------\n",
        "El ``Dataset`` recupera las características y etiquetas de nuestro conjunto de datos una muestra a la vez. Mientras entrenamos un modelo, normalmente queremos pasar muestras en \"minilotes\", mezclar los datos en cada época para reducir el sobreajuste del modelo y usar el ``multiprocesamiento`` de Python para acelerar la recuperación de datos.\n",
        "\n",
        "``DataLoader`` es un iterador que abstrae esta complejidad para nosotros en una API fácil.\n"
      ]
    },
    {
      "cell_type": "code",
      "execution_count": 70,
      "metadata": {
        "id": "i0Kfo5gGjjYK"
      },
      "outputs": [],
      "source": [
        "from torch.utils.data import DataLoader  ## las redes se entrenan de a lotes\n",
        "\n",
        "train_dataloader = DataLoader(training_data, batch_size=64, shuffle=True)  ## entrenamiento 64 imagenes por lote , shuffle= mezcla revuelve,\n",
        "test_dataloader = DataLoader(test_data, batch_size=64, shuffle=True)  ## testeo"
      ]
    },
    {
      "cell_type": "markdown",
      "metadata": {
        "id": "sUL5hJEfjjYK"
      },
      "source": [
        "Iterar a través del DataLoader\n",
        "--------------------------\n",
        "\n",
        "Hemos cargado ese conjunto de datos en ``DataLoader`` y podemos iterar a través del dataset según sea necesario. Cada iteración a continuación devuelve un lote de ``train_features`` y ``train_labels`` (que contienen ``batch_size=64`` para las características y etiquetas respectivamente). Debido a que especificamos ``shuffle=True``, después de iterar sobre todos los lotes, los datos se mezclan (para un control más detallado sobre el orden de carga de datos, eche un vistazo a [Samplers](https://pytorch.org/docs/stable/data.html#data-loading-order-and-sampler)).\n",
        "\n"
      ]
    },
    {
      "cell_type": "code",
      "execution_count": 42,
      "metadata": {
        "colab": {
          "base_uri": "https://localhost:8080/",
          "height": 482
        },
        "id": "stk-CRHHjjYK",
        "outputId": "154b7a8b-a964-417e-b89f-e633d5c5f233"
      },
      "outputs": [
        {
          "output_type": "stream",
          "name": "stdout",
          "text": [
            "Feature batch shape: torch.Size([64, 1, 28, 28])\n",
            "Labels batch shape: torch.Size([64])\n"
          ]
        },
        {
          "output_type": "display_data",
          "data": {
            "text/plain": [
              "<Figure size 640x480 with 1 Axes>"
            ],
            "image/png": "[encoded data removed]"
          },
          "metadata": {}
        },
        {
          "output_type": "stream",
          "name": "stdout",
          "text": [
            "Label: 0\n"
          ]
        }
      ],
      "source": [
        "# Display image and label.\n",
        "train_features, train_labels = next(iter(train_dataloader))  ## itero sobre el iterador me devuelve next(iter)\n",
        "print(f\"Feature batch shape: {train_features.size()}\")\n",
        "print(f\"Labels batch shape: {train_labels.size()}\")\n",
        "img = train_features[0].squeeze()\n",
        "label = train_labels[0]\n",
        "plt.imshow(img, cmap=\"gray\")\n",
        "plt.show()\n",
        "print(f\"Label: {label}\")"
      ]
    },
    {
      "cell_type": "markdown",
      "source": [
        "###64 imagenes vector de 64 numeros , indice no mas de 64 muestro la 1ra,, pullover"
      ],
      "metadata": {
        "id": "jdYLDYUHD7XI"
      }
    },
    {
      "cell_type": "markdown",
      "metadata": {
        "id": "szXExIP7jjYK"
      },
      "source": [
        "--------------\n",
        "\n",
        "\n"
      ]
    },
    {
      "cell_type": "markdown",
      "metadata": {
        "id": "uxIeZxcTjjYK"
      },
      "source": [
        "Para más información\n",
        "--------------\n",
        "- [torch.utils.data API](https://pytorch.org/docs/stable/data.html)\n",
        "\n"
      ]
    },
    {
      "cell_type": "markdown",
      "metadata": {
        "id": "a9kE87ktx-Q_"
      },
      "source": [
        "Los fundamentos de Autograd\n",
        "============================"
      ]
    },
    {
      "cell_type": "markdown",
      "metadata": {
        "id": "IzsNtgYNQTP7"
      },
      "source": [
        "\n",
        "\n",
        "\n",
        "La función *Autograd* de PyTorch es parte de lo que hace que PyTorch sea flexible y rápido para crear proyectos de aprendizaje automático. Permite el cálculo rápido y sencillo de múltiples derivadas parciales (también conocidas como *gradientes)* en un cálculo complejo. Esta operación es fundamental para el aprendizaje de redes neuronales basado en backpropagation.\n",
        "\n",
        "El poder de autograd proviene del hecho de que rastrea su\n",
        "computación dinámicamente *en tiempo de ejecución*, lo que significa que si su modelo tiene ramas de decisión o bucles cuyas longitudes no se conocen hasta el tiempo de ejecución, la computación aún se rastreará correctamente y obtendrá gradientes correctos para impulsar el aprendizaje. Esto, combinado con el hecho de que sus modelos están construidos en Python, ofrece mucha más flexibilidad que los frameworks que se basan en el análisis estático de un modelo de estructura más rígida para calcular gradientes.\n"
      ]
    },
    {
      "cell_type": "markdown",
      "source": [
        "## tratamos a las redes neuronales recibe un vector salida un vector , puedo generar multiples salidas, calculamos una funcion de perdida, vemos como anduvo mas baja la funcion de perdida, a partir de lo que el modelo genere las entradas, para optimizar modifico en base al gradiente, contrario si uso gradiente descendiente, HAY QUE CALCULAR EL GRADIENTE, calcular la dertivada parcial sobre esa entrada, minimo la derivada sobre la perdidad sea 0,\n",
        "derivar la perdidad sobre la entrada, la perdida se calcula a traves de las salidas, derivada sobre las entradas, regla de la cadena, derivada de la perdida con respecto a la salida, como afecta cada una de las entradas a la salida, red neuronal chica 3 capas 3 neurona, cada neurona una operacion.\n",
        "como cada entrada afecta la salida.como estas capas estan altamente conectadas, entrada a la siguiente capa,\n",
        "autograd arma un grafo"
      ],
      "metadata": {
        "id": "TNf-fNsuETP7"
      }
    },
    {
      "cell_type": "markdown",
      "metadata": {
        "id": "GNr0Tbcvwf1n"
      },
      "source": [
        "\n",
        "¿Para qué necesitamos Autograd?\n",
        "--------------------------------------------"
      ]
    },
    {
      "cell_type": "markdown",
      "metadata": {
        "id": "djOA_-P5QTQC"
      },
      "source": [
        "Un modelo de aprendizaje automático es una *función*, con entradas y salidas. Para esta discusión, trataremos a las entradas como un vector de dimensión *i* $\\vec{x}$, con elementos $x_{i}$. Entonces podemos expresar el modelo, *M*, como una función vectorial de la entrada: $\\vec{y} = \\vec{M}(\\vec{x})$. (Tratamos el valor de la salida de M como un vector porque, en general, un modelo puede tener cualquier número de salidas).\n",
        "\n",
        "Dado que principalmente hablaremos de autograd en el contexto del entrenamiento, nuestro resultado de interés será la pérdida del modelo. La *función de pérdida* L($\\vec{y}$) = L($\\vec{M}$($\\vec{x}$)) es una función escalar de valor único que depende de la salida del modelo. Esta función expresa qué tan lejos estaba la predicción de nuestro modelo de la salida *ideal* de una entrada en particular. *Nota: después de este punto, a menudo omitiremos el signo del vector donde debería ser contextualmente claro, por ejemplo,* $y$ en lugar de $\\vec y$.\n",
        "\n",
        "Al entrenar un modelo, queremos minimizar la pérdida. En el caso idealizado de un modelo perfecto, eso significa ajustar sus pesos de aprendizaje, es decir, los parámetros ajustables de la función, de modo que la pérdida sea cero para todas las entradas. En el mundo real, significa un proceso iterativo de empujar los pesos de aprendizaje hasta que veamos que obtenemos una pérdida tolerable para una amplia variedad de entradas.\n",
        "\n",
        "¿Cómo decidimos hasta dónde y en qué dirección empujar los pesos? Queremos *minimizar* la pérdida, lo que significa hacer que su primera derivada con respecto a la entrada sea igual a 0:\n",
        "$\\frac{\\partial L}{\\partial x} = 0$.\n",
        "\n",
        "Sin embargo, recuerde que la pérdida no se deriva *directamente* de la entrada, sino que es una función de la salida del modelo (que es una función directa de la entrada), $\\frac{\\partial L}{\\partial x}$ =\n",
        "$\\frac{\\partial {L({\\vec y})}}{\\partial x}$.\n",
        "\n",
        "Por la regla de la cadena del cálculo diferencial, tenemos\n",
        "\n",
        "$$\\frac{\\partial {L({\\vec y})}}{\\partial x} =\n",
        "\\frac{\\partial L}{\\partial y}\\frac{\\partial y}{\\partial x} =\n",
        "\\frac{\\partial L}{\\partial y}\\frac{\\partial M(x)}{\\partial x}$$\n",
        "\n",
        "$\\frac{\\partial M(x)}{\\partial x}$ es donde las cosas se ponen complejas.\n",
        "Las derivadas parciales de las salidas del modelo con respecto a sus entradas, si tuviéramos que expandir la expresión usando la regla de la cadena nuevamente, involucrarían muchas derivadas parciales locales sobre cada peso de aprendizaje multiplicado, cada función de activación y cualquier otra transformación matemática en el modelo. La expresión completa para cada derivada parcial es la suma de los productos del gradiente local de *todas las rutas posibles* a través del grafo computacional que termina con la variable cuyo gradiente estamos tratando de medir.\n",
        "\n",
        "En particular, los gradientes sobre los pesos de aprendizaje nos interesan: nos dicen *en qué dirección cambiar cada peso* para acercar la función de pérdida a cero. Dado que el número de tales derivadas locales (cada uno correspondiente a una ruta separada a través del grafo commputacional del modelo) tenderá a aumentar exponencialmente con la profundidad de una red neuronal, también lo hace la complejidad de calcularlas.\n",
        "\n",
        "![Imgur](https://i.imgur.com/vnYfIrR.png)\n",
        "\n",
        "\n",
        "Aquí es donde entra en juego autograd: realiza un seguimiento del historial de cada cálculo. Cada tensor calculado en su modelo PyTorch lleva un historial de sus tensores de entrada y la función utilizada para crearlo. Combinado con el hecho de que las funciones de PyTorch destinadas a actuar sobre tensores tienen una implementación integrada para calcular sus propias derivadas, esto acelera enormemente el cálculo de las derivadas locales necesarias para el aprendizaje.\n",
        "\n",
        "\n",
        "\n",
        "\n"
      ]
    },
    {
      "cell_type": "markdown",
      "metadata": {
        "id": "bstZ-pRZTmx9"
      },
      "source": [
        "Un ejemplo sencillo\n",
        "----------------\n",
        "\n",
        "Eso fue mucha teoría, pero ¿cómo se ve usar autograd en\n",
        "¿práctica?\n",
        "\n",
        "Comencemos con un ejemplo sencillo. Primero, haremos algunas importaciones.\n",
        "para graficar nuestros resultados:"
      ]
    },
    {
      "cell_type": "code",
      "execution_count": 43,
      "metadata": {
        "id": "AKgYQnoHQTQJ"
      },
      "outputs": [],
      "source": [
        "# %matplotlib inline\n",
        "\n",
        "import torch\n",
        "\n",
        "import matplotlib.pyplot as plt\n",
        "import matplotlib.ticker as ticker\n",
        "import math"
      ]
    },
    {
      "cell_type": "markdown",
      "metadata": {
        "id": "yGhicQtRQTQM"
      },
      "source": [
        "A continuación, crearemos un tensor de entrada lleno de valores espaciados uniformemente en el intervalo $[0, 2{\\pi}]$ y especificaremos ``requires_grad=True``. (Como la mayoría de las funciones que crean tensores, ``torch.linspace()`` acepta una opción ``requires_grad`` opcional). Establecer este indicador significa que en cada cálculo que sigue, autograd acumulará el historial del cálculo en el tensores de salida de ese cálculo.\n"
      ]
    },
    {
      "cell_type": "code",
      "execution_count": 47,
      "metadata": {
        "colab": {
          "base_uri": "https://localhost:8080/"
        },
        "id": "AU2DEN4wQTQP",
        "outputId": "f1834754-87ab-4f2c-fb93-6a942a247b34"
      },
      "outputs": [
        {
          "output_type": "stream",
          "name": "stdout",
          "text": [
            "tensor([0.0000, 0.2618, 0.5236, 0.7854, 1.0472, 1.3090, 1.5708, 1.8326, 2.0944,\n",
            "        2.3562, 2.6180, 2.8798, 3.1416, 3.4034, 3.6652, 3.9270, 4.1888, 4.4506,\n",
            "        4.7124, 4.9742, 5.2360, 5.4978, 5.7596, 6.0214, 6.2832],\n",
            "       requires_grad=True)\n"
          ]
        }
      ],
      "source": [
        "a = torch.linspace(0., 2. * math.pi, steps=25, requires_grad=True)  ## vector de espacios de 0 a 2 pi en 25 pasos, cualquier tensor que construyo tiene requires_grad= true lo va a monitorear y guarda para calcular los gradientes\n",
        "print(a)"
      ]
    },
    {
      "cell_type": "markdown",
      "metadata": {
        "id": "qffuIrPNQTQS"
      },
      "source": [
        "\n",
        "A continuación, realizaremos un cálculo y graficaremos su salida en términos de sus entradas:\n",
        "\n"
      ]
    },
    {
      "cell_type": "code",
      "execution_count": 48,
      "metadata": {
        "colab": {
          "base_uri": "https://localhost:8080/",
          "height": 447
        },
        "id": "zhseerqjQTQU",
        "outputId": "bb9d8e5b-46c1-4965-92f1-5e9a359e9a84"
      },
      "outputs": [
        {
          "output_type": "execute_result",
          "data": {
            "text/plain": [
              "[<matplotlib.lines.Line2D at 0x7c65f2764910>]"
            ]
          },
          "metadata": {},
          "execution_count": 48
        },
        {
          "output_type": "display_data",
          "data": {
            "text/plain": [
              "<Figure size 640x480 with 1 Axes>"
            ],
            "image/png": "[encoded data removed]"
          },
          "metadata": {}
        }
      ],
      "source": [
        "b = torch.sin(a)  ## calculo el seno\n",
        "plt.plot(a.detach(), b.detach())"
      ]
    },
    {
      "cell_type": "markdown",
      "metadata": {
        "id": "B0DtTzTWQTQX"
      },
      "source": [
        "\n",
        "Echemos un vistazo más de cerca al tensor ``b``. Cuando lo imprimimos, vemos un indicador de que está rastreando su historial de cómputo:\n",
        "\n"
      ]
    },
    {
      "cell_type": "code",
      "execution_count": 49,
      "metadata": {
        "colab": {
          "base_uri": "https://localhost:8080/"
        },
        "id": "XGxfMSEaQTQa",
        "outputId": "981aae82-087b-4cde-95ea-5d6b1005e5ad"
      },
      "outputs": [
        {
          "output_type": "stream",
          "name": "stdout",
          "text": [
            "tensor([ 0.0000e+00,  2.5882e-01,  5.0000e-01,  7.0711e-01,  8.6603e-01,\n",
            "         9.6593e-01,  1.0000e+00,  9.6593e-01,  8.6603e-01,  7.0711e-01,\n",
            "         5.0000e-01,  2.5882e-01, -8.7423e-08, -2.5882e-01, -5.0000e-01,\n",
            "        -7.0711e-01, -8.6603e-01, -9.6593e-01, -1.0000e+00, -9.6593e-01,\n",
            "        -8.6603e-01, -7.0711e-01, -5.0000e-01, -2.5882e-01,  1.7485e-07],\n",
            "       grad_fn=<SinBackward0>)\n"
          ]
        }
      ],
      "source": [
        "print(b)"
      ]
    },
    {
      "cell_type": "markdown",
      "source": [
        "## fue obtenido por la funcion seno grad_fn = sin"
      ],
      "metadata": {
        "id": "PPYyg9SdGNU9"
      }
    },
    {
      "cell_type": "markdown",
      "metadata": {
        "id": "WWS0OvMoQTQb"
      },
      "source": [
        "Este ``grad_fn`` nos da una pista de que cuando ejecutemos el\n",
        "paso de backpropagation y calculemos los gradientes, necesitaremos calcular la derivada de $sin(x)$ para todas las entradas de este tensor.\n",
        "\n",
        "Realicemos algunos cálculos más:\n",
        "\n",
        "\n"
      ]
    },
    {
      "cell_type": "code",
      "execution_count": 51,
      "metadata": {
        "colab": {
          "base_uri": "https://localhost:8080/"
        },
        "id": "iXraQMurQTQd",
        "outputId": "9604c254-b6bc-4e53-8406-8f43040862e3"
      },
      "outputs": [
        {
          "output_type": "stream",
          "name": "stdout",
          "text": [
            "tensor([ 0.0000e+00,  5.1764e-01,  1.0000e+00,  1.4142e+00,  1.7321e+00,\n",
            "         1.9319e+00,  2.0000e+00,  1.9319e+00,  1.7321e+00,  1.4142e+00,\n",
            "         1.0000e+00,  5.1764e-01, -1.7485e-07, -5.1764e-01, -1.0000e+00,\n",
            "        -1.4142e+00, -1.7321e+00, -1.9319e+00, -2.0000e+00, -1.9319e+00,\n",
            "        -1.7321e+00, -1.4142e+00, -1.0000e+00, -5.1764e-01,  3.4969e-07],\n",
            "       grad_fn=<MulBackward0>)\n",
            "tensor([ 1.0000e+00,  1.5176e+00,  2.0000e+00,  2.4142e+00,  2.7321e+00,\n",
            "         2.9319e+00,  3.0000e+00,  2.9319e+00,  2.7321e+00,  2.4142e+00,\n",
            "         2.0000e+00,  1.5176e+00,  1.0000e+00,  4.8236e-01, -3.5763e-07,\n",
            "        -4.1421e-01, -7.3205e-01, -9.3185e-01, -1.0000e+00, -9.3185e-01,\n",
            "        -7.3205e-01, -4.1421e-01,  4.7684e-07,  4.8236e-01,  1.0000e+00],\n",
            "       grad_fn=<AddBackward0>)\n"
          ]
        }
      ],
      "source": [
        "c = 2 * b\n",
        "print(c)\n",
        "\n",
        "d = c + 1  ## se guarda la operacion multiplicacion y suma\n",
        "print(d)"
      ]
    },
    {
      "cell_type": "markdown",
      "metadata": {
        "id": "avBQLVYJQTQf"
      },
      "source": [
        "Finalmente, calculemos una salida de un solo elemento. Cuando llamas a ``.backward()`` en un tensor sin argumentos, se espera que el tensor de llamada contenga solo un elemento, como es el caso cuando se calcula una función de pérdida.\n",
        "\n",
        "\n"
      ]
    },
    {
      "cell_type": "code",
      "execution_count": 71,
      "metadata": {
        "colab": {
          "base_uri": "https://localhost:8080/"
        },
        "id": "fsCwlYZDQTQg",
        "outputId": "1b3bf6ab-9312-4ede-a09f-404c8cd749bf"
      },
      "outputs": [
        {
          "output_type": "stream",
          "name": "stdout",
          "text": [
            "tensor(1.7089)\n"
          ]
        }
      ],
      "source": [
        "out = d.sum()\n",
        "print(out)  ## funcion de perdida 25 a partir de la suma"
      ]
    },
    {
      "cell_type": "markdown",
      "metadata": {
        "id": "nl9xZMM0QTQi"
      },
      "source": [
        "Cada ``grad_fn`` almacenado con nuestros tensores le permite recorrer el cálculo hasta sus entradas con su atributo ``next_functions``. Podemos ver a continuación que profundizar en este atributo en ``d`` nos muestra las funciones de gradiente para todos los tensores anteriores. Tenga en cuenta que ``a.grad_fn`` se informa como ``None``, lo que indica que esta fue una entrada a la función sin historial propio.\n",
        "\n",
        "\n"
      ]
    },
    {
      "cell_type": "markdown",
      "source": [
        "## funciones en la cadena se va armando"
      ],
      "metadata": {
        "id": "riS19zVQGmjP"
      }
    },
    {
      "cell_type": "code",
      "execution_count": 56,
      "metadata": {
        "colab": {
          "base_uri": "https://localhost:8080/"
        },
        "id": "hG2MNmhwQTQi",
        "outputId": "ea064212-f0e9-4f6b-efea-2bf723003741"
      },
      "outputs": [
        {
          "output_type": "stream",
          "name": "stdout",
          "text": [
            "d:\n",
            "<AddBackward0 object at 0x7c65f52284f0>\n",
            "((<MulBackward0 object at 0x7c65f52297e0>, 0), (None, 0))\n",
            "((<SinBackward0 object at 0x7c65f52284f0>, 0), (None, 0))\n",
            "((<AccumulateGrad object at 0x7c65f522beb0>, 0),)\n",
            "()\n",
            "\n",
            "c:\n",
            "<MulBackward0 object at 0x7c65fd0de590>\n",
            "\n",
            "b:\n",
            "<SinBackward0 object at 0x7c65fd0de590>\n",
            "\n",
            "a:\n",
            "None\n"
          ]
        }
      ],
      "source": [
        "print('d:')\n",
        "print(d.grad_fn)\n",
        "print(d.grad_fn.next_functions)  ## a ese elemento dame el siguiente y obtengo la cadenita\n",
        "print(d.grad_fn.next_functions[0][0].next_functions)\n",
        "print(d.grad_fn.next_functions[0][0].next_functions[0][0].next_functions)\n",
        "print(d.grad_fn.next_functions[0][0].next_functions[0][0].next_functions[0][0].next_functions)\n",
        "print('\\nc:')\n",
        "print(c.grad_fn)\n",
        "print('\\nb:')\n",
        "print(b.grad_fn)\n",
        "print('\\na:')\n",
        "print(a.grad_fn)  ## a no tiene es una hoja del grafo, este tipo de tensores no tiene grad_fn"
      ]
    },
    {
      "cell_type": "markdown",
      "metadata": {
        "id": "z5mugMTzQTQk"
      },
      "source": [
        "Con toda esta maquinaria en su lugar, ¿cómo sacamos las derivadas? Llama al método ``backward()`` en la salida y verifica el atributo ``grad`` de la entrada para inspeccionar los gradientes:\n",
        "\n",
        "\n"
      ]
    },
    {
      "cell_type": "code",
      "source": [
        "import torch\n",
        "import matplotlib.pyplot as plt\n",
        "\n",
        "# Create a tensor with requires_grad=True\n",
        "a = torch.ones(2, 2, requires_grad=True) # set requires_grad=True to enable gradient calculation\n",
        "\n",
        "# Perform operations\n",
        "b = a + 2\n",
        "c = b * b * 3\n",
        "out = c.mean()\n",
        "\n",
        "# Calculate gradients\n",
        "out.backward()\n",
        "\n",
        "# Print gradients and plot\n",
        "print(a.grad)\n",
        "plt.plot(a.detach().numpy().flatten(), a.grad.detach().numpy().flatten())\n",
        "plt.xlabel(\"a\")\n",
        "plt.ylabel(\"Gradient\")\n",
        "plt.title(\"Gradient of out with respect to a\")\n",
        "plt.show()"
      ],
      "metadata": {
        "colab": {
          "base_uri": "https://localhost:8080/",
          "height": 507
        },
        "id": "ScQ5s3scILW-",
        "outputId": "c7b348d1-fc29-4b30-ea75-2f34816b3256"
      },
      "execution_count": 74,
      "outputs": [
        {
          "output_type": "stream",
          "name": "stdout",
          "text": [
            "tensor([[4.5000, 4.5000],\n",
            "        [4.5000, 4.5000]])\n"
          ]
        },
        {
          "output_type": "display_data",
          "data": {
            "text/plain": [
              "<Figure size 640x480 with 1 Axes>"
            ],
            "image/png": "[encoded data removed]"
          },
          "metadata": {}
        }
      ]
    },
    {
      "cell_type": "code",
      "execution_count": 75,
      "metadata": {
        "colab": {
          "base_uri": "https://localhost:8080/",
          "height": 356
        },
        "id": "seWNIEx7QTQl",
        "outputId": "0478e061-ff35-40cf-d55e-7b7c41f16190"
      },
      "outputs": [
        {
          "output_type": "error",
          "ename": "RuntimeError",
          "evalue": "Trying to backward through the graph a second time (or directly access saved tensors after they have already been freed). Saved intermediate values of the graph are freed when you call .backward() or autograd.grad(). Specify retain_graph=True if you need to backward through the graph a second time or if you need to access saved tensors after calling backward.",
          "traceback": [
            "\u001b[0;31m---------------------------------------------------------------------------\u001b[0m",
            "\u001b[0;31mRuntimeError\u001b[0m                              Traceback (most recent call last)",
            "\u001b[0;32m<ipython-input-75-0fbf9cc25775>\u001b[0m in \u001b[0;36m<cell line: 0>\u001b[0;34m()\u001b[0m\n\u001b[0;32m----> 1\u001b[0;31m \u001b[0mout\u001b[0m\u001b[0;34m.\u001b[0m\u001b[0mbackward\u001b[0m\u001b[0;34m(\u001b[0m\u001b[0;34m)\u001b[0m\u001b[0;34m\u001b[0m\u001b[0;34m\u001b[0m\u001b[0m\n\u001b[0m\u001b[1;32m      2\u001b[0m \u001b[0mprint\u001b[0m\u001b[0;34m(\u001b[0m\u001b[0ma\u001b[0m\u001b[0;34m.\u001b[0m\u001b[0mgrad\u001b[0m\u001b[0;34m)\u001b[0m\u001b[0;34m\u001b[0m\u001b[0;34m\u001b[0m\u001b[0m\n\u001b[1;32m      3\u001b[0m \u001b[0mplt\u001b[0m\u001b[0;34m.\u001b[0m\u001b[0mplot\u001b[0m\u001b[0;34m(\u001b[0m\u001b[0ma\u001b[0m\u001b[0;34m.\u001b[0m\u001b[0mdetach\u001b[0m\u001b[0;34m(\u001b[0m\u001b[0;34m)\u001b[0m\u001b[0;34m,\u001b[0m \u001b[0ma\u001b[0m\u001b[0;34m.\u001b[0m\u001b[0mgrad\u001b[0m\u001b[0;34m.\u001b[0m\u001b[0mdetach\u001b[0m\u001b[0;34m(\u001b[0m\u001b[0;34m)\u001b[0m\u001b[0;34m)\u001b[0m\u001b[0;34m\u001b[0m\u001b[0;34m\u001b[0m\u001b[0m\n",
            "\u001b[0;32m/usr/local/lib/python3.11/dist-packages/torch/_tensor.py\u001b[0m in \u001b[0;36mbackward\u001b[0;34m(self, gradient, retain_graph, create_graph, inputs)\u001b[0m\n\u001b[1;32m    579\u001b[0m                 \u001b[0minputs\u001b[0m\u001b[0;34m=\u001b[0m\u001b[0minputs\u001b[0m\u001b[0;34m,\u001b[0m\u001b[0;34m\u001b[0m\u001b[0;34m\u001b[0m\u001b[0m\n\u001b[1;32m    580\u001b[0m             )\n\u001b[0;32m--> 581\u001b[0;31m         torch.autograd.backward(\n\u001b[0m\u001b[1;32m    582\u001b[0m             \u001b[0mself\u001b[0m\u001b[0;34m,\u001b[0m \u001b[0mgradient\u001b[0m\u001b[0;34m,\u001b[0m \u001b[0mretain_graph\u001b[0m\u001b[0;34m,\u001b[0m \u001b[0mcreate_graph\u001b[0m\u001b[0;34m,\u001b[0m \u001b[0minputs\u001b[0m\u001b[0;34m=\u001b[0m\u001b[0minputs\u001b[0m\u001b[0;34m\u001b[0m\u001b[0;34m\u001b[0m\u001b[0m\n\u001b[1;32m    583\u001b[0m         )\n",
            "\u001b[0;32m/usr/local/lib/python3.11/dist-packages/torch/autograd/__init__.py\u001b[0m in \u001b[0;36mbackward\u001b[0;34m(tensors, grad_tensors, retain_graph, create_graph, grad_variables, inputs)\u001b[0m\n\u001b[1;32m    345\u001b[0m     \u001b[0;31m# some Python versions print out the first line of a multi-line function\u001b[0m\u001b[0;34m\u001b[0m\u001b[0;34m\u001b[0m\u001b[0m\n\u001b[1;32m    346\u001b[0m     \u001b[0;31m# calls in the traceback and some print out the last line\u001b[0m\u001b[0;34m\u001b[0m\u001b[0;34m\u001b[0m\u001b[0m\n\u001b[0;32m--> 347\u001b[0;31m     _engine_run_backward(\n\u001b[0m\u001b[1;32m    348\u001b[0m         \u001b[0mtensors\u001b[0m\u001b[0;34m,\u001b[0m\u001b[0;34m\u001b[0m\u001b[0;34m\u001b[0m\u001b[0m\n\u001b[1;32m    349\u001b[0m         \u001b[0mgrad_tensors_\u001b[0m\u001b[0;34m,\u001b[0m\u001b[0;34m\u001b[0m\u001b[0;34m\u001b[0m\u001b[0m\n",
            "\u001b[0;32m/usr/local/lib/python3.11/dist-packages/torch/autograd/graph.py\u001b[0m in \u001b[0;36m_engine_run_backward\u001b[0;34m(t_outputs, *args, **kwargs)\u001b[0m\n\u001b[1;32m    823\u001b[0m         \u001b[0munregister_hooks\u001b[0m \u001b[0;34m=\u001b[0m \u001b[0m_register_logging_hooks_on_whole_graph\u001b[0m\u001b[0;34m(\u001b[0m\u001b[0mt_outputs\u001b[0m\u001b[0;34m)\u001b[0m\u001b[0;34m\u001b[0m\u001b[0;34m\u001b[0m\u001b[0m\n\u001b[1;32m    824\u001b[0m     \u001b[0;32mtry\u001b[0m\u001b[0;34m:\u001b[0m\u001b[0;34m\u001b[0m\u001b[0;34m\u001b[0m\u001b[0m\n\u001b[0;32m--> 825\u001b[0;31m         return Variable._execution_engine.run_backward(  # Calls into the C++ engine to run the backward pass\n\u001b[0m\u001b[1;32m    826\u001b[0m             \u001b[0mt_outputs\u001b[0m\u001b[0;34m,\u001b[0m \u001b[0;34m*\u001b[0m\u001b[0margs\u001b[0m\u001b[0;34m,\u001b[0m \u001b[0;34m**\u001b[0m\u001b[0mkwargs\u001b[0m\u001b[0;34m\u001b[0m\u001b[0;34m\u001b[0m\u001b[0m\n\u001b[1;32m    827\u001b[0m         )  # Calls into the C++ engine to run the backward pass\n",
            "\u001b[0;31mRuntimeError\u001b[0m: Trying to backward through the graph a second time (or directly access saved tensors after they have already been freed). Saved intermediate values of the graph are freed when you call .backward() or autograd.grad(). Specify retain_graph=True if you need to backward through the graph a second time or if you need to access saved tensors after calling backward."
          ]
        }
      ],
      "source": [
        "out.backward()\n",
        "print(a.grad)\n",
        "plt.plot(a.detach(), a.grad.detach())"
      ]
    },
    {
      "cell_type": "markdown",
      "metadata": {
        "id": "Yj5UBa0cWuF0"
      },
      "source": [
        "Recuerde los pasos de cálculo que tomamos para llegar aquí:"
      ]
    },
    {
      "cell_type": "code",
      "execution_count": 76,
      "metadata": {
        "id": "9WIkGZqdWtKl"
      },
      "outputs": [],
      "source": [
        "a = torch.linspace(0., 2. * math.pi, steps=25, requires_grad=True)\n",
        "b = torch.sin(a)\n",
        "c = 2 * b\n",
        "d = c + 1\n",
        "out = d.sum()"
      ]
    },
    {
      "cell_type": "markdown",
      "metadata": {
        "id": "erlzTn2UQTQm"
      },
      "source": [
        "Sumar una constante, como hicimos para calcular ``d``, no cambia la derivada. Eso deja $c = 2 * b = 2 * sin(a)$, cuya derivada debería ser $2 * cos(a)$. Mirando el gráfico de arriba, eso es justo lo que vemos.\n",
        "\n",
        "Tenga en cuenta que solo los *nodos hoja* del cálculo tienen sus gradientes calculados. Si intentara, por ejemplo, ``print(c.grad)`` obtendría ``None``. En este ejemplo simple, solo la entrada es un nodo de hoja, por lo que solo ella tiene gradientes calculados.\n",
        "\n",
        "\n",
        "\n",
        "\n",
        "\n"
      ]
    },
    {
      "cell_type": "markdown",
      "metadata": {
        "id": "D86Ixuy_QTQw"
      },
      "source": [
        "\n",
        "Activar y desactivar Autograd\n",
        "---------------------------\n",
        "\n",
        "Hay situaciones en las que necesitará un control detallado sobre\n",
        "si autograd está habilitado. Hay varias formas de hacer esto, dependiendo de la situación.\n",
        "\n",
        "El más simple es cambiar el indicador ``requires_grad`` en un tensor\n",
        "directamente:\n",
        "\n",
        "\n"
      ]
    },
    {
      "cell_type": "markdown",
      "source": [
        "## ahay operacion no queres calcular el gradiente requires_grad= False"
      ],
      "metadata": {
        "id": "D2iAMJXiIyRF"
      }
    },
    {
      "cell_type": "markdown",
      "source": [
        "## backward calcula los gradientes, luego seguira la estrategia, el algoritmo de optimizacion llevara una estrategia"
      ],
      "metadata": {
        "id": "6k5GU9zhIme9"
      }
    },
    {
      "cell_type": "code",
      "execution_count": 79,
      "metadata": {
        "colab": {
          "base_uri": "https://localhost:8080/"
        },
        "id": "O0QuAyXoQTQx",
        "outputId": "ae58088e-c75d-45a5-d0a3-a63aea3c7fbb"
      },
      "outputs": [
        {
          "output_type": "stream",
          "name": "stdout",
          "text": [
            "tensor([[1., 1., 1.],\n",
            "        [1., 1., 1.]], requires_grad=True)\n",
            "tensor([[2., 2., 2.],\n",
            "        [2., 2., 2.]], grad_fn=<MulBackward0>)\n",
            "tensor([[2., 2., 2.],\n",
            "        [2., 2., 2.]])\n"
          ]
        }
      ],
      "source": [
        "a = torch.ones(2, 3, requires_grad=True)\n",
        "print(a)\n",
        "\n",
        "b1 = 2 * a\n",
        "print(b1)\n",
        "\n",
        "a.requires_grad = False  ## desactivo los gradientes\n",
        "b2 = 2 * a\n",
        "print(b2)"
      ]
    },
    {
      "cell_type": "markdown",
      "metadata": {
        "id": "mMHNVP8GQTQz"
      },
      "source": [
        "\n",
        "En la celda de arriba, vemos que ``b1`` tiene un ``grad_fn`` (es decir, un historial de cálculo rastreado), que es lo que esperamos, ya que se derivó de un tensor, ``a``, que tenía activado el autograd. Cuando desactivamos autograd explícitamente con ``a.requires_grad = False``, ya no se rastrea el historial de cálculo, como vemos cuando calculamos ``b2``.\n",
        "\n",
        "Si solo necesita que Autograd se apague temporalmente, una mejor manera es usar ``torch.no_grad()``:\n",
        "\n"
      ]
    },
    {
      "cell_type": "code",
      "execution_count": 80,
      "metadata": {
        "colab": {
          "base_uri": "https://localhost:8080/"
        },
        "id": "5ltQDXV7QTQ1",
        "outputId": "28a75f72-bd26-4ce7-a7e8-b23636cf15cd"
      },
      "outputs": [
        {
          "output_type": "stream",
          "name": "stdout",
          "text": [
            "tensor([[5., 5., 5.],\n",
            "        [5., 5., 5.]], grad_fn=<AddBackward0>)\n",
            "tensor([[5., 5., 5.],\n",
            "        [5., 5., 5.]])\n",
            "tensor([[6., 6., 6.],\n",
            "        [6., 6., 6.]], grad_fn=<MulBackward0>)\n"
          ]
        }
      ],
      "source": [
        "a = torch.ones(2, 3, requires_grad=True) * 2\n",
        "b = torch.ones(2, 3, requires_grad=True) * 3\n",
        "\n",
        "c1 = a + b\n",
        "print(c1)\n",
        "\n",
        "with torch.no_grad():  ## otra forma de sacar de autograd genera tensores sin gradientes torch.no_grad\n",
        "    c2 = a + b\n",
        "\n",
        "print(c2)\n",
        "\n",
        "c3 = a * b\n",
        "print(c3)"
      ]
    },
    {
      "cell_type": "markdown",
      "metadata": {
        "id": "IXKzLmzbQTQ3"
      },
      "source": [
        "``torch.no_grad()`` también se puede usar como decorador de funciones o métodos:\n",
        "\n",
        "\n"
      ]
    },
    {
      "cell_type": "code",
      "execution_count": 82,
      "metadata": {
        "colab": {
          "base_uri": "https://localhost:8080/"
        },
        "id": "ASri_YekQTQ3",
        "outputId": "1892c446-f822-4f0f-bffc-85da2724c98c"
      },
      "outputs": [
        {
          "output_type": "stream",
          "name": "stdout",
          "text": [
            "tensor([[5., 5., 5.],\n",
            "        [5., 5., 5.]], grad_fn=<AddBackward0>)\n",
            "tensor([[5., 5., 5.],\n",
            "        [5., 5., 5.]])\n"
          ]
        }
      ],
      "source": [
        "def add_tensors1(x, y):\n",
        "    return x + y\n",
        "\n",
        "@torch.no_grad()  ## decoro la funcion para no guardar la operacion\n",
        "def add_tensors2(x, y):\n",
        "    return x + y\n",
        "\n",
        "\n",
        "a = torch.ones(2, 3, requires_grad=True) * 2\n",
        "b = torch.ones(2, 3, requires_grad=True) * 3\n",
        "\n",
        "c1 = add_tensors1(a, b)\n",
        "print(c1)\n",
        "\n",
        "c2 = add_tensors2(a, b)\n",
        "print(c2)"
      ]
    },
    {
      "cell_type": "markdown",
      "metadata": {
        "id": "w9M-iOOzQTQ4"
      },
      "source": [
        "Hay un administrador de contexto correspondiente, ``torch.enable_grad()``, para activar la graduación automática cuando aún no lo está. También se puede utilizar como decorador.\n",
        "\n",
        "Finalmente, puede tener un tensor que requiera seguimiento de gradiente, pero desea una copia que no lo requiera. Para esto tenemos el método ``detach()`` del objeto ``Tensor`` - crea una copia del tensor que se *separa* del historial de cálculo:\n",
        "\n",
        "\n"
      ]
    },
    {
      "cell_type": "code",
      "execution_count": 84,
      "metadata": {
        "colab": {
          "base_uri": "https://localhost:8080/"
        },
        "id": "QKqb9j7YQTQ6",
        "outputId": "a6ef9efc-5675-4e52-ad38-e777b8ea450d"
      },
      "outputs": [
        {
          "output_type": "stream",
          "name": "stdout",
          "text": [
            "tensor([0.9718, 0.2761, 0.7575, 0.8646, 0.4907], requires_grad=True)\n",
            "tensor([0.9718, 0.2761, 0.7575, 0.8646, 0.4907])\n"
          ]
        }
      ],
      "source": [
        "x = torch.rand(5, requires_grad=True)  ## copia de los tensores no esten dentro del grafo\n",
        "y = x.detach()  ## uso de detach los tensores matplotlib los transforma con numpy\n",
        "\n",
        "print(x)\n",
        "print(y)"
      ]
    },
    {
      "cell_type": "markdown",
      "metadata": {
        "id": "NvJgO8a-ffFp"
      },
      "source": [
        "Hicimos esto arriba cuando queríamos graficar algunos de nuestros tensores. Esto se debe a que ``matplotlib`` espera una matriz NumPy como entrada, y la conversión implícita de un tensor PyTorch a una matriz NumPy no está habilitada para tensores con require_grad=True. Hacer una copia separada nos permite avanzar."
      ]
    },
    {
      "cell_type": "markdown",
      "metadata": {
        "id": "VMAJyRfEQTQ6"
      },
      "source": [
        "\n",
        "## Autograd y las Operaciones in situ\n",
        "\n",
        "\n",
        "En todos los ejemplos de este cuaderno hasta ahora, hemos usado variables para capturar los valores intermedios de un cálculo. Autograd necesita estos valores intermedios para realizar cálculos de gradiente. ***Por esta razón, debe tener cuidado al usar operaciones in situ cuando use autograd.*** Si lo hace, puede destruir la información que necesita para calcular las derivadas en la llamada ``backward()``. PyTorch incluso lo detendrá si intenta una operación in situ en la variable de hoja que requiere autograduación, como se muestra a continuación.\n",
        "\n"
      ]
    },
    {
      "cell_type": "code",
      "source": [
        "a = torch.linspace(0., 2. * math.pi, steps=25, requires_grad=True)\n",
        "a = torch.sin(a) # Use torch.sin instead of torch.sin_\n"
      ],
      "metadata": {
        "id": "EU_iCHPnjY9e"
      },
      "execution_count": 85,
      "outputs": []
    },
    {
      "cell_type": "code",
      "execution_count": 86,
      "metadata": {
        "colab": {
          "base_uri": "https://localhost:8080/",
          "height": 158
        },
        "id": "eI3AXIilgPYm",
        "outputId": "621ac7ba-b80a-4f18-bbc8-4197a519972c"
      },
      "outputs": [
        {
          "output_type": "error",
          "ename": "RuntimeError",
          "evalue": "a leaf Variable that requires grad is being used in an in-place operation.",
          "traceback": [
            "\u001b[0;31m---------------------------------------------------------------------------\u001b[0m",
            "\u001b[0;31mRuntimeError\u001b[0m                              Traceback (most recent call last)",
            "\u001b[0;32m<ipython-input-86-cffbbcd7d649>\u001b[0m in \u001b[0;36m<cell line: 0>\u001b[0;34m()\u001b[0m\n\u001b[1;32m      1\u001b[0m \u001b[0ma\u001b[0m \u001b[0;34m=\u001b[0m \u001b[0mtorch\u001b[0m\u001b[0;34m.\u001b[0m\u001b[0mlinspace\u001b[0m\u001b[0;34m(\u001b[0m\u001b[0;36m0.\u001b[0m\u001b[0;34m,\u001b[0m \u001b[0;36m2.\u001b[0m \u001b[0;34m*\u001b[0m \u001b[0mmath\u001b[0m\u001b[0;34m.\u001b[0m\u001b[0mpi\u001b[0m\u001b[0;34m,\u001b[0m \u001b[0msteps\u001b[0m\u001b[0;34m=\u001b[0m\u001b[0;36m25\u001b[0m\u001b[0;34m,\u001b[0m \u001b[0mrequires_grad\u001b[0m\u001b[0;34m=\u001b[0m\u001b[0;32mTrue\u001b[0m\u001b[0;34m)\u001b[0m\u001b[0;34m\u001b[0m\u001b[0;34m\u001b[0m\u001b[0m\n\u001b[0;32m----> 2\u001b[0;31m \u001b[0mtorch\u001b[0m\u001b[0;34m.\u001b[0m\u001b[0msin_\u001b[0m\u001b[0;34m(\u001b[0m\u001b[0ma\u001b[0m\u001b[0;34m)\u001b[0m\u001b[0;34m\u001b[0m\u001b[0;34m\u001b[0m\u001b[0m\n\u001b[0m",
            "\u001b[0;31mRuntimeError\u001b[0m: a leaf Variable that requires grad is being used in an in-place operation."
          ]
        }
      ],
      "source": [
        "a = torch.linspace(0., 2. * math.pi, steps=25, requires_grad=True)  ## pisar destruyo el grafo soy la entrada de mi propia salida rompe la cadena\n",
        "torch.sin_(a) ## no me rompe el grafo tenes que sacar el requires_grad no pise la entrada"
      ]
    }
  ],
  "metadata": {
    "colab": {
      "provenance": [],
      "include_colab_link": true
    },
    "kernelspec": {
      "display_name": "Python 3",
      "name": "python3"
    },
    "language_info": {
      "codemirror_mode": {
        "name": "ipython",
        "version": 3
      },
      "file_extension": ".py",
      "mimetype": "text/x-python",
      "name": "python",
      "nbconvert_exporter": "python",
      "pygments_lexer": "ipython3",
      "version": "3.7.13"
    }
  },
  "nbformat": 4,
  "nbformat_minor": 0
}