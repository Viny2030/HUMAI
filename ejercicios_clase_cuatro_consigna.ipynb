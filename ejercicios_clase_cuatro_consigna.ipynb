{
  "nbformat": 4,
  "nbformat_minor": 0,
  "metadata": {
    "colab": {
      "provenance": [],
      "include_colab_link": true
    },
    "kernelspec": {
      "name": "python3",
      "display_name": "Python 3"
    },
    "language_info": {
      "name": "python"
    }
  },
  "cells": [
    {
      "cell_type": "markdown",
      "metadata": {
        "id": "view-in-github",
        "colab_type": "text"
      },
      "source": [
        "<a href=\"https://colab.research.google.com/github/Viny2030/HUMAI/blob/main/ejercicios_clase_cuatro_consigna.ipynb\" target=\"_parent\"><img src=\"https://colab.research.google.com/assets/colab-badge.svg\" alt=\"Open In Colab\"/></a>"
      ]
    },
    {
      "cell_type": "markdown",
      "source": [
        "# NLP Clase 4\n",
        "Ejercicio en vivo"
      ],
      "metadata": {
        "id": "t5IJf2iarEMB"
      }
    },
    {
      "cell_type": "markdown",
      "source": [
        "## Consigna:\n",
        "Modifique el encoder y decoder de la clase 4 para utilizar un LSTM unidireccional."
      ],
      "metadata": {
        "id": "LQfarVSpos4o"
      }
    },
    {
      "cell_type": "code",
      "source": [
        "import torch\n",
        "import torch.nn as nn\n",
        "\n",
        "class Encoder(nn.Module):\n",
        "    def __init__(self):\n",
        "        super().__init__()\n",
        "    def forward(self, X, *args):\n",
        "        raise NotImplementedError\n",
        "\n",
        "class Decoder(nn.Module):\n",
        "    def __init__(self):\n",
        "        super().__init__()\n",
        "    def init_state(self, enc_outputs, *args):\n",
        "        raise NotImplementedError\n",
        "    def forward(self, X, state):\n",
        "        raise NotImplementedError\n",
        "\n",
        "def init_RNN(module):\n",
        "    if type(module) == nn.Linear:\n",
        "         nn.init.xavier_uniform_(module.weight)\n",
        "    if type(module) == nn.LSTM:\n",
        "        for param in module._flat_weights_names:\n",
        "            if \"weight\" in param:\n",
        "                nn.init.xavier_uniform_(module._parameters[param])"
      ],
      "metadata": {
        "id": "5bz9EScwpJLf"
      },
      "execution_count": null,
      "outputs": []
    },
    {
      "cell_type": "code",
      "source": [
        "class LSTMEncoder(Encoder):\n",
        "    def __init__(self, vocab_size, embed_size, num_hiddens, num_layers, dropout=0):\n",
        "        super().__init__()\n",
        "        # Su código aquí\n",
        "        pass\n",
        "\n",
        "    def forward(self, src):\n",
        "      # Su código aquí\n",
        "      pass\n",
        "\n",
        "class LSTMDecoder(Decoder):\n",
        "    def __init__(self, vocab_size, embed_size, num_hiddens, num_layers, dropout=0):\n",
        "        super().__init__()\n",
        "        # Su código aquí\n",
        "        pass\n",
        "\n",
        "    def init_state(self, enc_hidden, enc_cell):\n",
        "      # Su código aquí\n",
        "      pass\n",
        "\n",
        "    def forward(self, input, hidden, cell):\n",
        "      # Su código aquí\n",
        "      pass"
      ],
      "metadata": {
        "id": "LEn4zSRqmlGU"
      },
      "execution_count": null,
      "outputs": []
    },
    {
      "cell_type": "code",
      "source": [
        "# Esta celda permite evaluar su código\n",
        "\n",
        "# Hiperparametros\n",
        "vocab_size = 5000\n",
        "embed_size = 256\n",
        "num_hiddens = 512\n",
        "num_layers = 2\n",
        "dropout = 0.5\n",
        "\n",
        "# Dummy sentence (simulada con tensores de integers aleatorios)\n",
        "batch_size = 4\n",
        "src_length = 10\n",
        "tgt_length = 12\n",
        "\n",
        "src_sentence = torch.randint(0, vocab_size, (src_length, batch_size))\n",
        "tgt_sentence = torch.randint(0, vocab_size, (tgt_length, batch_size))\n",
        "\n",
        "# Inicializar modelos\n",
        "encoder = LSTMEncoder(vocab_size, embed_size, num_hiddens, num_layers, dropout)\n",
        "decoder = LSTMDecoder(vocab_size, embed_size, num_hiddens, num_layers, dropout)\n",
        "\n",
        "# Forward pass sobre el Encoder\n",
        "enc_hidden, enc_cell = encoder(src_sentence)\n",
        "\n",
        "# Inicializar state del Decoder\n",
        "dec_hidden, dec_cell = decoder.init_state(enc_hidden, enc_cell)\n",
        "\n",
        "# Forward pass sobre el Decoder por un timestep\n",
        "input_timestep = tgt_sentence[0]  # Start token\n",
        "output, (dec_hidden, dec_cell) = decoder(input_timestep, dec_hidden, dec_cell)\n",
        "\n",
        "print(f\"Decoder output shape: {output.shape}\")            # Debería ser (batch_size, vocab_size)\n",
        "print(f\"Decoder hidden state shape: {dec_hidden.shape}\")  # Debería ser (num_layers, batch_size, num_hiddens)\n",
        "print(f\"Decoder cell state shape: {dec_cell.shape}\")      # Debería ser (num_layers, batch_size, num_hiddens)"
      ],
      "metadata": {
        "colab": {
          "base_uri": "https://localhost:8080/"
        },
        "id": "LCh_g79powa_",
        "outputId": "21c0c362-96e8-4701-e6e7-c007329cf83b"
      },
      "execution_count": null,
      "outputs": [
        {
          "output_type": "stream",
          "name": "stdout",
          "text": [
            "Decoder output shape: torch.Size([4, 5000])\n",
            "Decoder hidden state shape: torch.Size([2, 4, 512])\n",
            "Decoder cell state shape: torch.Size([2, 4, 512])\n"
          ]
        }
      ]
    }
  ]
}