{
  "nbformat": 4,
  "nbformat_minor": 0,
  "metadata": {
    "colab": {
      "provenance": [],
      "include_colab_link": true
    },
    "kernelspec": {
      "name": "python3",
      "display_name": "Python 3"
    },
    "language_info": {
      "name": "python"
    }
  },
  "cells": [
    {
      "cell_type": "markdown",
      "metadata": {
        "id": "view-in-github",
        "colab_type": "text"
      },
      "source": [
        "<a href=\"https://colab.research.google.com/github/Viny2030/HUMAI/blob/main/Ejemplo_ChatGPT.ipynb\" target=\"_parent\"><img src=\"https://colab.research.google.com/assets/colab-badge.svg\" alt=\"Open In Colab\"/></a>"
      ]
    },
    {
      "cell_type": "markdown",
      "source": [
        "Quiero un codigo que pueda darle las notas de mis estudiantes de una en una y luego las analice (para apobar tiene que tener minimo 60 puntos)"
      ],
      "metadata": {
        "id": "mvnyGY7UnLSq"
      }
    },
    {
      "cell_type": "code",
      "source": [
        "def ingresar_notas():\n",
        "    notas = []\n",
        "    print(\"Ingresa las notas de los estudiantes. Escribe 'fin' para terminar.\")\n",
        "    while True:\n",
        "        entrada = input(\"Ingresa la nota de un estudiante: \")\n",
        "        if entrada.lower() == 'fin':\n",
        "            break\n",
        "        try:\n",
        "            nota = float(entrada)\n",
        "            if 0 <= nota <= 100:  # Asegurando que la nota sea válida\n",
        "                notas.append(nota)\n",
        "            else:\n",
        "                print(\"Por favor, ingresa un número entre 0 y 100.\")\n",
        "        except ValueError:\n",
        "            print(\"Por favor, ingresa un número válido.\")\n",
        "\n",
        "    return notas\n",
        "\n",
        "def analizar_notas(notas):\n",
        "    aprobados = 0\n",
        "    reprobados = 0\n",
        "    for nota in notas:\n",
        "        if nota >= 60:\n",
        "            aprobados += 1\n",
        "        else:\n",
        "            reprobados += 1\n",
        "    return aprobados, reprobados\n",
        "\n",
        "def main():\n",
        "    notas = ingresar_notas()\n",
        "    aprobados, reprobados = analizar_notas(notas)\n",
        "    print(f\"Total de estudiantes: {len(notas)}\")\n",
        "    print(f\"Aprobados: {aprobados}\")\n",
        "    print(f\"Reprobados: {reprobados}\")\n",
        "\n",
        "if __name__ == \"__main__\":\n",
        "    main()"
      ],
      "metadata": {
        "colab": {
          "base_uri": "https://localhost:8080/"
        },
        "id": "kt2A0ZTypkZ_",
        "outputId": "5e781123-4be4-4e4b-aeb4-4dcefa529132"
      },
      "execution_count": 1,
      "outputs": [
        {
          "output_type": "stream",
          "name": "stdout",
          "text": [
            "Ingresa las notas de los estudiantes. Escribe 'fin' para terminar.\n",
            "Ingresa la nota de un estudiante: 12\n",
            "Ingresa la nota de un estudiante: 8\n",
            "Ingresa la nota de un estudiante: 60\n",
            "Ingresa la nota de un estudiante: 0\n",
            "Ingresa la nota de un estudiante: fin\n",
            "Total de estudiantes: 4\n",
            "Aprobados: 1\n",
            "Reprobados: 3\n"
          ]
        }
      ]
    },
    {
      "cell_type": "markdown",
      "source": [
        "Desarrolla un programa que solicite al usuario una lista de calificaciones de estudiantes, validando que cada calificación esté en el rango de 0 a 100 y que sólo se introduzcan valores numéricos, mostrando un mensaje de error si la entrada es inválida. Realiza los siguientes cálculos: obtiene el promedio de las calificaciones, identifica la calificación más alta y la más baja, cuenta cuántos estudiantes aprobaron (nota ≥ 60) y cuántos reprobaron, y calcula la desviación estándar de las calificaciones, clasificando a los estudiantes en tres grupos (bajo el promedio, en el promedio ± una desviación estándar, y sobre el promedio). Genera un gráfico de barras que muestre la distribución de calificaciones en intervalos de 10 (por ejemplo, 0-9, 10-19, etc.) y un gráfico de pastel con el porcentaje de estudiantes aprobados y reprobados, guardando ambos gráficos en archivos separados. Crea un archivo de texto con la fecha actual en el nombre que incluya el promedio, la calificación más alta, la más baja, la cantidad de aprobados y reprobados, la desviación estándar, la cantidad de estudiantes en cada grupo, y una lista detallada de cada estudiante con su calificación y estado (aprobado/reprobado). Exporta además los datos de cada estudiante en un archivo CSV, incluyendo calificación y estado, y muestra mensajes específicos si el promedio general es inferior a 50 o si todos los estudiantes aprueban o reprueban."
      ],
      "metadata": {
        "id": "oyCNPXUtpoXO"
      }
    },
    {
      "cell_type": "code",
      "source": [
        "import numpy as np\n",
        "import matplotlib.pyplot as plt\n",
        "from datetime import datetime\n",
        "import csv\n",
        "\n",
        "def solicitar_calificaciones():\n",
        "    calificaciones = []\n",
        "    while True:\n",
        "        entrada = input(\"Introduce una calificación (escribe 'fin' para terminar): \")\n",
        "        if entrada.lower() == 'fin':\n",
        "            break\n",
        "        try:\n",
        "            nota = float(entrada)\n",
        "            if 0 <= nota <= 100:\n",
        "                calificaciones.append(nota)\n",
        "            else:\n",
        "                print(\"Error: La calificación debe estar entre 0 y 100.\")\n",
        "        except ValueError:\n",
        "            print(\"Error: Debes introducir un número.\")\n",
        "    return calificaciones\n",
        "\n",
        "def calculos_estadisticos(calificaciones):\n",
        "    calificaciones_np = np.array(calificaciones)\n",
        "    promedio = np.mean(calificaciones_np)\n",
        "    maximo = np.max(calificaciones_np)\n",
        "    minimo = np.min(calificaciones_np)\n",
        "    desviacion_std = np.std(calificaciones_np)\n",
        "    aprobados = np.sum(calificaciones_np >= 60)\n",
        "    reprobados = len(calificaciones) - aprobados\n",
        "    return promedio, maximo, minimo, desviacion_std, aprobados, reprobados\n",
        "\n",
        "def clasificar_estudiantes(calificaciones, promedio, desviacion_std):\n",
        "    clasificacion = []\n",
        "    for nota in calificaciones:\n",
        "        if nota < promedio - desviacion_std:\n",
        "            clasificacion.append('Bajo el promedio')\n",
        "        elif promedio - desviacion_std <= nota <= promedio + desviacion_std:\n",
        "            clasificacion.append('En el promedio')\n",
        "        else:\n",
        "            clasificacion.append('Sobre el promedio')\n",
        "    return clasificacion\n",
        "\n",
        "def graficar_distribucion(calificaciones):\n",
        "    plt.figure()\n",
        "    plt.hist(calificaciones, bins=range(0, 101, 10), edgecolor='black')\n",
        "    plt.title('Distribución de Calificaciones')\n",
        "    plt.xlabel('Calificaciones')\n",
        "    plt.ylabel('Frecuencia')\n",
        "    plt.savefig('distribucion_calificaciones.png')\n",
        "    plt.close()\n",
        "\n",
        "def graficar_aprobados_reprobados(aprobados, reprobados):\n",
        "    plt.figure()\n",
        "    labels = ['Aprobados', 'Reprobados']\n",
        "    sizes = [aprobados, reprobados]\n",
        "    plt.pie(sizes, labels=labels, autopct='%1.1f%%')\n",
        "    plt.title('Porcentaje de Aprobados y Reprobados')\n",
        "    plt.savefig('aprobados_reprobados.png')\n",
        "    plt.close()\n",
        "\n",
        "def guardar_informacion(calificaciones, promedio, maximo, minimo, desviacion_std, aprobados, reprobados, clasificacion):\n",
        "    fecha_actual = datetime.now().strftime('%Y-%m-%d')\n",
        "    with open(f'reporte_{fecha_actual}.txt', 'w') as f:\n",
        "        f.write(f'Promedio: {promedio:.2f}\\n')\n",
        "        f.write(f'Calificación más alta: {maximo}\\n')\n",
        "        f.write(f'Calificación más baja: {minimo}\\n')\n",
        "        f.write(f'Desviación estándar: {desviacion_std:.2f}\\n')\n",
        "        f.write(f'Aprobados: {aprobados}\\n')\n",
        "        f.write(f'Reprobados: {reprobados}\\n')\n",
        "        f.write(f'Clasificación de estudiantes: Bajo el promedio - {clasificacion.count(\"Bajo el promedio\")}, '\n",
        "                f'En el promedio - {clasificacion.count(\"En el promedio\")}, '\n",
        "                f'Sobre el promedio - {clasificacion.count(\"Sobre el promedio\")}\\n')\n",
        "        f.write('Lista de estudiantes:\\n')\n",
        "        for i, nota in enumerate(calificaciones):\n",
        "            estado = 'Aprobado' if nota >= 60 else 'Reprobado'\n",
        "            f.write(f'Estudiante {i+1}: Calificación: {nota}, Estado: {estado}, Grupo: {clasificacion[i]}\\n')\n",
        "\n",
        "def exportar_csv(calificaciones):\n",
        "    with open('calificaciones_estudiantes.csv', 'w', newline='') as file:\n",
        "        writer = csv.writer(file)\n",
        "        writer.writerow(['Calificación', 'Estado'])\n",
        "        for nota in calificaciones:\n",
        "            estado = 'Aprobado' if nota >= 60 else 'Reprobado'\n",
        "            writer.writerow([nota, estado])\n",
        "\n",
        "def main():\n",
        "    calificaciones = solicitar_calificaciones()\n",
        "    if calificaciones:\n",
        "        promedio, maximo, minimo, desviacion_std, aprobados, reprobados = calculos_estadisticos(calificaciones)\n",
        "        clasificacion = clasificar_estudiantes(calificaciones, promedio, desviacion_std)\n",
        "        graficar_distribucion(calificaciones)\n",
        "        graficar_aprobados_reprobados(aprobados, reprobados)\n",
        "        guardar_informacion(calificaciones, promedio, maximo, minimo, desviacion_std, aprobados, reprobados, clasificacion)\n",
        "        exportar_csv(calificaciones)\n",
        "        print(\"Información guardada y gráficos generados.\")\n",
        "        if promedio < 50:\n",
        "            print(\"Advertencia: El promedio general es inferior a 50.\")\n",
        "        if reprobados == 0:\n",
        "            print(\"Todos los estudiantes han aprobado.\")\n",
        "        elif aprobados == 0:\n",
        "            print(\"Todos los estudiantes han reprobado.\")\n",
        "    else:\n",
        "        print(\"No se introdujeron calificaciones.\")\n",
        "\n",
        "if __name__ == \"__main__\":\n",
        "    main()"
      ],
      "metadata": {
        "colab": {
          "base_uri": "https://localhost:8080/"
        },
        "id": "NBMQplqyi4Ch",
        "outputId": "96e763d6-9484-4caf-b10d-b74b5a61adba"
      },
      "execution_count": 2,
      "outputs": [
        {
          "output_type": "stream",
          "name": "stdout",
          "text": [
            "Introduce una calificación (escribe 'fin' para terminar): 10\n",
            "Introduce una calificación (escribe 'fin' para terminar): fin\n",
            "Información guardada y gráficos generados.\n",
            "Advertencia: El promedio general es inferior a 50.\n",
            "Todos los estudiantes han reprobado.\n"
          ]
        }
      ]
    }
  ]
}