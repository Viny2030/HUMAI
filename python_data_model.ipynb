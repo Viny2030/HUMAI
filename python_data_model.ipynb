{
  "nbformat": 4,
  "nbformat_minor": 0,
  "metadata": {
    "colab": {
      "provenance": [],
      "include_colab_link": true
    },
    "kernelspec": {
      "name": "python3",
      "display_name": "Python 3"
    },
    "language_info": {
      "name": "python"
    }
  },
  "cells": [
    {
      "cell_type": "markdown",
      "metadata": {
        "id": "view-in-github",
        "colab_type": "text"
      },
      "source": [
        "<a href=\"https://colab.research.google.com/github/Viny2030/HUMAI/blob/main/python_data_model.ipynb\" target=\"_parent\"><img src=\"https://colab.research.google.com/assets/colab-badge.svg\" alt=\"Open In Colab\"/></a>"
      ]
    },
    {
      "cell_type": "markdown",
      "source": [
        "https://aigents.co/learn\n"
      ],
      "metadata": {
        "id": "3t3ugKsXMQ9H"
      }
    },
    {
      "cell_type": "code",
      "metadata": {
        "id": "n9cNfzyigApV"
      },
      "source": [
        "# Python consistency\n",
        "collection.sort()\n",
        "collection.reverse()\n",
        "\n",
        "for i in reversed(collection):"
      ],
      "execution_count": null,
      "outputs": []
    },
    {
      "cell_type": "code",
      "metadata": {
        "id": "z_RsMrINdIrP"
      },
      "source": [
        "len(collection) vs collection.len()"
      ],
      "execution_count": null,
      "outputs": []
    },
    {
      "cell_type": "code",
      "metadata": {
        "id": "uU1XVNMagMyI"
      },
      "source": [
        "# Python as a framework!"
      ],
      "execution_count": null,
      "outputs": []
    },
    {
      "cell_type": "code",
      "metadata": {
        "id": "GJ33SKX6dKF7"
      },
      "source": [
        "# Dunder methods!!\n",
        "__init__(self):"
      ],
      "execution_count": null,
      "outputs": []
    },
    {
      "cell_type": "code",
      "metadata": {
        "id": "lONqgqw2dJuX"
      },
      "source": [
        "# Iteracion\n",
        "# Colecciones\n",
        "# Acceso a atributos\n",
        "# Sobrecarga de operadores\n",
        "# Invocacion de metodos y funciones\n",
        "# Represetacion y formateo de strings\n",
        "# Context managers"
      ],
      "execution_count": null,
      "outputs": []
    },
    {
      "cell_type": "code",
      "metadata": {
        "id": "zqXeTnmZc02s"
      },
      "source": [
        "import collections\n",
        "\n",
        "from random import choice\n",
        "\n",
        "# For classes of objects that are just bundles of attributes without methods\n",
        "Card = collections.namedtuple(\"Card\", ['rank', 'suit'])\n",
        "\n",
        "class FrenchDeck:\n",
        "    ranks = [str(n) for n in range(2, 11)] + list('JQKA')\n",
        "    suits = 'spades diamonds clubs hearts'.split()\n",
        "\n",
        "    def __init__(self):\n",
        "        self._cards = [Card(rank, suit) for suit in self.suits for rank in self.ranks]\n",
        "\n",
        "    def __len__(self):\n",
        "        return len(self._cards)\n",
        "\n",
        "    def __getitem__(self, position):\n",
        "        return self._cards[position]"
      ],
      "execution_count": null,
      "outputs": []
    },
    {
      "cell_type": "code",
      "metadata": {
        "colab": {
          "base_uri": "https://localhost:8080/"
        },
        "id": "yjo4iiVkggMt",
        "outputId": "032f59df-8d99-412a-ee71-63dbc74586a6"
      },
      "source": [
        "deck = FrenchDeck()\n",
        "\n",
        "if deck:\n",
        "  print(\"Hey!\")"
      ],
      "execution_count": null,
      "outputs": [
        {
          "output_type": "stream",
          "text": [
            "Hey!\n"
          ],
          "name": "stdout"
        }
      ]
    },
    {
      "cell_type": "code",
      "metadata": {
        "colab": {
          "base_uri": "https://localhost:8080/"
        },
        "id": "EdtXdRW8gqkS",
        "outputId": "e7482db2-ccaa-41f2-fc71-48b513e5517d"
      },
      "source": [
        "len(deck)"
      ],
      "execution_count": null,
      "outputs": [
        {
          "output_type": "execute_result",
          "data": {
            "text/plain": [
              "52"
            ]
          },
          "metadata": {
            "tags": []
          },
          "execution_count": 3
        }
      ]
    },
    {
      "cell_type": "code",
      "metadata": {
        "colab": {
          "base_uri": "https://localhost:8080/"
        },
        "id": "Dfaa8vRpgr0F",
        "outputId": "e57c1f40-b57c-45ac-daa6-60cafdf399b5"
      },
      "source": [
        "deck[-1]"
      ],
      "execution_count": null,
      "outputs": [
        {
          "output_type": "execute_result",
          "data": {
            "text/plain": [
              "Card(rank='A', suit='hearts')"
            ]
          },
          "metadata": {
            "tags": []
          },
          "execution_count": 4
        }
      ]
    },
    {
      "cell_type": "code",
      "metadata": {
        "colab": {
          "base_uri": "https://localhost:8080/"
        },
        "id": "9ux-mTcdg0Gn",
        "outputId": "71a68950-b504-4a6b-84f9-4eecad91cc18"
      },
      "source": [
        "deck[:3]"
      ],
      "execution_count": null,
      "outputs": [
        {
          "output_type": "execute_result",
          "data": {
            "text/plain": [
              "[Card(rank='2', suit='spades'),\n",
              " Card(rank='3', suit='spades'),\n",
              " Card(rank='4', suit='spades')]"
            ]
          },
          "metadata": {
            "tags": []
          },
          "execution_count": 5
        }
      ]
    },
    {
      "cell_type": "code",
      "metadata": {
        "colab": {
          "base_uri": "https://localhost:8080/"
        },
        "id": "FOc7H_3ayiHW",
        "outputId": "7fc1a6c2-b5ed-4c41-bf6c-63cc9d001fd7"
      },
      "source": [
        "from random import choice\n",
        "\n",
        "choice(deck)"
      ],
      "execution_count": null,
      "outputs": [
        {
          "output_type": "execute_result",
          "data": {
            "text/plain": [
              "Card(rank='J', suit='hearts')"
            ]
          },
          "metadata": {
            "tags": []
          },
          "execution_count": 6
        }
      ]
    },
    {
      "cell_type": "code",
      "metadata": {
        "id": "1vDLjX1ahApF"
      },
      "source": [
        "# No deberias estar llamando mucho a estos metodos"
      ],
      "execution_count": null,
      "outputs": []
    },
    {
      "cell_type": "code",
      "metadata": {
        "id": "E8yw1tjwhThD"
      },
      "source": [
        "from math import hypot\n",
        "\n",
        "class Vector:\n",
        "\n",
        "    def __init__(self, x=0, y=0):\n",
        "        self.x = x\n",
        "        self.y = y\n",
        "\n",
        "    def __repr__(self):\n",
        "        return 'Vector(%r, %r)' % (self.x, self.y)\n",
        "\n",
        "    def __abs__(self):\n",
        "        return hypot(self.x, self.y)\n",
        "\n",
        "    def __bool__(self):\n",
        "        return bool(abs(self))\n",
        "\n",
        "    def __add__(self, other):\n",
        "        x = self.x + other.x\n",
        "        y = self.y + other.y\n",
        "        return Vector(x, y)\n",
        "\n",
        "    def __mul__(self, scalar):\n",
        "        return Vector(self.x * scalar, self.y * scalar)"
      ],
      "execution_count": null,
      "outputs": []
    },
    {
      "cell_type": "code",
      "metadata": {
        "colab": {
          "base_uri": "https://localhost:8080/"
        },
        "id": "idzG7KPbhpVJ",
        "outputId": "5d9c4349-8ce4-4fea-985e-31a42ed1ddb7"
      },
      "source": [
        "v = Vector(3, 4)\n",
        "abs(v)"
      ],
      "execution_count": null,
      "outputs": [
        {
          "output_type": "execute_result",
          "data": {
            "text/plain": [
              "5.0"
            ]
          },
          "metadata": {
            "tags": []
          },
          "execution_count": 8
        }
      ]
    },
    {
      "cell_type": "code",
      "metadata": {
        "colab": {
          "base_uri": "https://localhost:8080/"
        },
        "id": "2B5GiGRThxDQ",
        "outputId": "a4d2bf61-eeb3-4efd-c292-1e7642e97c00"
      },
      "source": [
        "v1 = Vector(1, 2)\n",
        "v2 = Vector(3, 4)\n",
        "v1 + v2"
      ],
      "execution_count": null,
      "outputs": [
        {
          "output_type": "execute_result",
          "data": {
            "text/plain": [
              "Vector(4, 6)"
            ]
          },
          "metadata": {
            "tags": []
          },
          "execution_count": 9
        }
      ]
    },
    {
      "cell_type": "code",
      "metadata": {
        "id": "hptUnz90h_dn"
      },
      "source": [
        "# __repr__ vs __str__"
      ],
      "execution_count": null,
      "outputs": []
    },
    {
      "cell_type": "code",
      "metadata": {
        "id": "qlPTc-HpiGix"
      },
      "source": [
        "# Objetos definidos por usuario son siempre True al menos que:\n",
        "#   1. Exista __bool__\n",
        "#   2. Exista __len__"
      ],
      "execution_count": null,
      "outputs": []
    }
  ]
}