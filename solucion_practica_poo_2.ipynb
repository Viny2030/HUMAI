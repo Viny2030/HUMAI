{
  "cells": [
    {
      "cell_type": "markdown",
      "metadata": {
        "id": "view-in-github",
        "colab_type": "text"
      },
      "source": [
        "<a href=\"https://colab.research.google.com/github/Viny2030/HUMAI/blob/main/solucion_practica_poo_2.ipynb\" target=\"_parent\"><img src=\"https://colab.research.google.com/assets/colab-badge.svg\" alt=\"Open In Colab\"/></a>"
      ]
    },
    {
      "cell_type": "markdown",
      "metadata": {
        "id": "zoAknwK4HhV0"
      },
      "source": [
        "# Clase practica de POO 2"
      ]
    },
    {
      "cell_type": "markdown",
      "metadata": {
        "id": "LG2oTSHvHpin"
      },
      "source": [
        "### Ejercicio 1:\n",
        "\n",
        "- Que es un funcion pura?\n",
        "- Brevemente cuando deberiamos usar programacion funcional y cuando POO?\n",
        "- Cual de estos dos paradigmas deberiamos usar en python y porque?"
      ]
    },
    {
      "cell_type": "markdown",
      "metadata": {
        "id": "yTG_xnF_k8q5"
      },
      "source": [
        "Una función pura es una función que cumple con dos criterios principales:\n",
        "\n",
        "Determinismo: Para un mismo conjunto de entradas, siempre retorna el mismo resultado. Es decir, el resultado de la función depende únicamente de sus argumentos de entrada y no de ningún estado externo o variable global.\n",
        "\n",
        "Sin efectos secundarios: No modifica ninguna variable externa ni tiene ningún otro efecto aparte de devolver un valor. Esto significa que no altera el estado del programa, como modificar una variable global, escribir en un archivo, modificar un objeto pasado por referencia, etc.\n",
        "\n",
        "def suma(a, b):\n",
        "    return a + b\n",
        "\n",
        "Esta función es pura porque:\n",
        "\n",
        "Siempre retorna la misma suma para los mismos valores de a y b.\n",
        "No cambia ningún estado externo o variable global.\n",
        "Brevemente, ¿cuándo deberíamos usar programación funcional y cuándo POO?\n",
        "Programación Funcional (PF):\n",
        "\n",
        "Usar PF cuando:\n",
        "Necesitas operaciones que se pueden expresar fácilmente con funciones puras, como el procesamiento de listas, filtrado de datos, o transformaciones que no requieren mantener un estado interno.\n",
        "Requieres mayor facilidad para probar y depurar código, ya que las funciones puras son más fáciles de testear y razonar.\n",
        "Trabajas con problemas que se benefician de una estructura inmutable, como en sistemas concurrentes donde evitar estados compartidos puede prevenir errores.\n",
        "Programación Orientada a Objetos (POO):\n",
        "\n",
        "Usar POO cuando:\n",
        "Estás modelando un dominio que se presta naturalmente a representaciones como objetos con atributos y métodos, como sistemas de información o simulaciones.\n",
        "Necesitas encapsulación y ocultamiento de datos, donde el estado interno de los objetos debe ser protegido y manipulado solo a través de métodos específicos.\n",
        "Quieres aprovechar la herencia y el polimorfismo para reutilizar y extender el código de manera más estructurada.\n",
        "¿Cuál de estos dos paradigmas deberíamos usar en Python y por qué?\n",
        "Python es un lenguaje multiparadigma, lo que significa que soporta tanto la programación orientada a objetos como la programación funcional. La elección entre estos paradigmas depende del tipo de problema que estés resolviendo:\n",
        "\n",
        "POO en Python: Es ampliamente utilizada debido a que Python tiene un fuerte soporte para la programación orientada a objetos, con una sintaxis clara para la definición de clases, herencia, y otros conceptos clave de la POO. Este paradigma es preferido para proyectos grandes, donde la estructura y la organización del código son cruciales, y se requiere encapsulación y reutilización de código.\n",
        "\n",
        "Programación Funcional en Python: Aunque Python no es un lenguaje funcional puro, sí soporta varios conceptos de la programación funcional, como funciones de orden superior, lambdas, map, filter, y reduce. Este enfoque es útil para operaciones que pueden ser expresadas de manera concisa y sin la necesidad de modificar el estado."
      ]
    },
    {
      "cell_type": "markdown",
      "metadata": {
        "id": "5VgvxcT4IL7-"
      },
      "source": [
        "### Ejercicio 2:\n",
        "\n",
        "El objetivo de este ejercicio va a ser modelar mediante objetos el instituto Humai.\n",
        "\n",
        "Para eso vamos a tener que modelar Cursos, Alumnos y Profesores\n",
        "\n",
        "1. Modela cursos, estos van a tener un nombre, descripcion, fechas y prerequisitos para cursar\n",
        "2. Modela alumnos, estos van a tener un nombre, conocimientos y un history de cursos aprobados\n",
        "3. Profesores, estos van a tener un nombre y conocomientos\n",
        "4.  Para poder dictar un curso, vamos a necesitar de Alumnos, un profesor, y un ayudante (El ayudante puede ser tanto un alumno como un profesor)\n",
        "\n",
        "Notas:\n",
        "- Los preriquisitos son conocimientos nocesarios para poder realizar el curso o ensenar el mismo\n",
        "- Los conocimientos pueden ser o Lenguaje de programacion (Python, Java, Javascript y Sql) o conocimientos de software (Web, Data, AI)\n",
        "\n",
        "---\n",
        "\n",
        "Aqui tenemos definida la funcion dictar curso que utilizaremos para dictar cursos, implementa lo necesario (utilizando POO y lo visto en clase) para que esta funcion ande y correla con 2 cursos diferentes."
      ]
    },
    {
      "cell_type": "code",
      "execution_count": null,
      "metadata": {
        "execution": {
          "iopub.execute_input": "2024-08-30T01:51:35.462402Z",
          "iopub.status.busy": "2024-08-30T01:51:35.461500Z",
          "iopub.status.idle": "2024-08-30T01:51:35.479755Z",
          "shell.execute_reply": "2024-08-30T01:51:35.478122Z"
        },
        "id": "ATZBWJ7cYCF7"
      },
      "outputs": [],
      "source": [
        "from random import random\n",
        "\n",
        "def dictar_curso(curso, alumnos, profesor, ayudante):\n",
        "    print(f\"Empieza el dicatado del curso: {curso.nombre}\")\n",
        "    print(f\"En el curso de hoy se veremos: {curso.descripcion}\")\n",
        "    print(f\"El profesor {profesor.nombre} dara la clase de hoy\")\n",
        "    print(f\"{ayudante.nombre} esta hoy para ayudar en la clase\")\n",
        "\n",
        "    # Si el profesor cumple con los prerequisitos imprimir que la clase fue buena\n",
        "    profesor.dicatar_clase(curso.prerequisitos)\n",
        "    # Si el ayudante cumple con los prerequisitos imprimir que la clase termino a tiempo\n",
        "    ayudante.ayudar_clase(curso.prerequisitos)\n",
        "\n",
        "    for alumno in alumnos:\n",
        "        # Si el alumno cumple con los prerequisitos imprimir que aprobo\n",
        "        # o que desaprobo en caso contrario\n",
        "        alumno.cursar_clase(curso)"
      ]
    }
  ],
  "metadata": {
    "colab": {
      "provenance": [],
      "include_colab_link": true
    },
    "kernelspec": {
      "display_name": "Python 3",
      "name": "python3"
    },
    "language_info": {
      "codemirror_mode": {
        "name": "ipython",
        "version": 3
      },
      "file_extension": ".py",
      "mimetype": "text/x-python",
      "name": "python",
      "nbconvert_exporter": "python",
      "pygments_lexer": "ipython3",
      "version": "3.11.8"
    }
  },
  "nbformat": 4,
  "nbformat_minor": 0
}