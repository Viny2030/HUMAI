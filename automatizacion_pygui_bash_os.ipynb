{
  "cells": [
    {
      "cell_type": "markdown",
      "metadata": {
        "id": "view-in-github",
        "colab_type": "text"
      },
      "source": [
        "<a href=\"https://colab.research.google.com/github/Viny2030/HUMAI/blob/main/automatizacion_pygui_bash_os.ipynb\" target=\"_parent\"><img src=\"https://colab.research.google.com/assets/colab-badge.svg\" alt=\"Open In Colab\"/></a>"
      ]
    },
    {
      "cell_type": "markdown",
      "metadata": {
        "id": "h5dUnU4lXTBy"
      },
      "source": [
        "<div align=\"center\"><a href=\"https://colab.research.google.com/github/institutohumai/cursos-python/blob/master/Automatizacion/Automatizacion1_2daCursada2022.ipynb\"> <img src='https://colab.research.google.com/assets/colab-badge.svg'/> </a> <br> Recordá abrir en una nueva pestaña </div>"
      ]
    },
    {
      "cell_type": "markdown",
      "metadata": {
        "id": "PfYnJ59siNQH"
      },
      "source": [
        "## **Automatización**\n",
        "\n",
        "En esta clase:\n",
        "\n",
        "- Aprenderemos sobre programar desde una carpeta, o **directorio de trabajo**, y las una rutas o _path_ relativos, o absolutos.\n",
        "- Veremos como buscar archivos, también listar, borrar, copiar, mover y otras operaciones usuales con el sistema operativo. Librerías os, glob, shutil\n",
        "- Lectura de distintos tipos de datos: .sav, .dta, .csv, .zip"
      ]
    },
    {
      "cell_type": "markdown",
      "metadata": {
        "id": "_NB3x7ZciNQJ"
      },
      "source": [
        "Actualmente cualquier tarea que uno se proponga automatizar, así lo es. Podemos encontrar un espectro de complejidad:\n",
        "\n",
        "- Por un lado, con la librería *pyautogui* podemos automatizar movimientos de mouse y teclado. Esto da la posibilidad de automatizar tareas sencillas de una manera directa.\n",
        "\n",
        "(El siguiente ejemplo anda solo corriendolo como local!)"
      ]
    },
    {
      "cell_type": "markdown",
      "metadata": {
        "id": "qyspNo5SZEbo"
      },
      "source": [
        "### **Preámbulo**\n",
        "Capas de automatización\n",
        "\n",
        "\n",
        "\n",
        "| Protocolo              | Web Scraping     | Modificación directa  |\n",
        "|------------------------|------------------|-----------------------|\n",
        "| (sist operativo, APIs) | (Beautiful Soup) | (Selenium, PyAutoGui) |\n",
        "| <img src= 'https://computersciencewiki.org/images/b/bc/Api.png' width=\"250\" >                       | <img src='https://miro.medium.com/max/1400/0*5l1YDbdnkWmQwDU5.jpg' width=\"300\">| <img src= 'https://content.instructables.com/ORIG/FMK/ZVQB/K30YGGRH/FMKZVQBK30YGGRH.jpg?auto=webp&frame=1&width=320&md=bf737a2a1d3f721c6f7ed2c33323f3cb' width=\"250\">                      |\n",
        "| Más robusto            |          ->        | Menos robusto         |\n"
      ]
    },
    {
      "cell_type": "markdown",
      "metadata": {
        "id": "rT4-nJy_XFX4"
      },
      "source": [
        "## **PyAutoGui**\n",
        "### (es neceario correrlo en local)"
      ]
    },
    {
      "cell_type": "markdown",
      "metadata": {
        "id": "YkgI3cPoiNQW"
      },
      "source": [
        "```python\n",
        "# Devuelve las dimensiones de la pantalla\n",
        "ancho, alto = pyautogui.size()\n",
        "# Devuelve la posición actual\n",
        "Xactual, Yactual = pyautogui.position()\n",
        "# Mover a coordenadas (pixels)\n",
        "pyautogui.moveTo(100, 150)\n",
        "# Clickear\n",
        "pyautogui.click()\n",
        "# Tipear con delay\n",
        "pyautogui.write('Hello world!', interval=0.25)  \n",
        "# Apretar una tecla\n",
        "pyautogui.press('esc')\n",
        "pyautogui.hotkey('ctrl', 'c')\n",
        "pyautogui.locateOnScreen()\n",
        "```"
      ]
    },
    {
      "cell_type": "markdown",
      "metadata": {
        "id": "b-gOWN9aXTB2"
      },
      "source": [
        "***Nota: Lamentablemente pyautogui es lo único incluido en cualquiera de nuestros cursos que no funciona en Colab! Para ejecutar esta sección instalar Anaconda en la computadora local***"
      ]
    },
    {
      "cell_type": "code",
      "execution_count": null,
      "metadata": {
        "id": "it0EOKdmXTB2",
        "colab": {
          "base_uri": "https://localhost:8080/"
        },
        "outputId": "56faacee-488b-400f-d58a-e54ce9109f15"
      },
      "outputs": [
        {
          "output_type": "stream",
          "name": "stdout",
          "text": [
            "Collecting pyautogui\n",
            "  Downloading PyAutoGUI-0.9.54.tar.gz (61 kB)\n",
            "\u001b[?25l     \u001b[90m━━━━━━━━━━━━━━━━━━━━━━━━━━━━━━━━━━━━━━━━\u001b[0m \u001b[32m0.0/61.2 kB\u001b[0m \u001b[31m?\u001b[0m eta \u001b[36m-:--:--\u001b[0m\r\u001b[2K     \u001b[90m━━━━━━━━━━━━━━━━━━━━━━━━━━━━━━━━━━━━━━━━\u001b[0m \u001b[32m61.2/61.2 kB\u001b[0m \u001b[31m2.6 MB/s\u001b[0m eta \u001b[36m0:00:00\u001b[0m\n",
            "\u001b[?25h  Installing build dependencies ... \u001b[?25l\u001b[?25hdone\n",
            "  Getting requirements to build wheel ... \u001b[?25l\u001b[?25hdone\n",
            "  Preparing metadata (pyproject.toml) ... \u001b[?25l\u001b[?25hdone\n",
            "Collecting python3-Xlib (from pyautogui)\n",
            "  Downloading python3-xlib-0.15.tar.gz (132 kB)\n",
            "\u001b[2K     \u001b[90m━━━━━━━━━━━━━━━━━━━━━━━━━━━━━━━━━━━━━━━━\u001b[0m \u001b[32m132.8/132.8 kB\u001b[0m \u001b[31m5.2 MB/s\u001b[0m eta \u001b[36m0:00:00\u001b[0m\n",
            "\u001b[?25h  Preparing metadata (setup.py) ... \u001b[?25l\u001b[?25hdone\n",
            "Collecting pymsgbox (from pyautogui)\n",
            "  Downloading PyMsgBox-1.0.9.tar.gz (18 kB)\n",
            "  Installing build dependencies ... \u001b[?25l\u001b[?25hdone\n",
            "  Getting requirements to build wheel ... \u001b[?25l\u001b[?25hdone\n",
            "  Preparing metadata (pyproject.toml) ... \u001b[?25l\u001b[?25hdone\n",
            "Collecting pytweening>=1.0.4 (from pyautogui)\n",
            "  Downloading pytweening-1.2.0.tar.gz (171 kB)\n",
            "\u001b[2K     \u001b[90m━━━━━━━━━━━━━━━━━━━━━━━━━━━━━━━━━━━━━━━━\u001b[0m \u001b[32m171.2/171.2 kB\u001b[0m \u001b[31m15.5 MB/s\u001b[0m eta \u001b[36m0:00:00\u001b[0m\n",
            "\u001b[?25h  Preparing metadata (setup.py) ... \u001b[?25l\u001b[?25hdone\n",
            "Collecting pyscreeze>=0.1.21 (from pyautogui)\n",
            "  Downloading pyscreeze-1.0.1.tar.gz (27 kB)\n",
            "  Installing build dependencies ... \u001b[?25l\u001b[?25hdone\n",
            "  Getting requirements to build wheel ... \u001b[?25l\u001b[?25hdone\n",
            "  Preparing metadata (pyproject.toml) ... \u001b[?25l\u001b[?25hdone\n",
            "Collecting pygetwindow>=0.0.5 (from pyautogui)\n",
            "  Downloading PyGetWindow-0.0.9.tar.gz (9.7 kB)\n",
            "  Preparing metadata (setup.py) ... \u001b[?25l\u001b[?25hdone\n",
            "Collecting mouseinfo (from pyautogui)\n",
            "  Downloading MouseInfo-0.1.3.tar.gz (10 kB)\n",
            "  Preparing metadata (setup.py) ... \u001b[?25l\u001b[?25hdone\n",
            "Collecting pyrect (from pygetwindow>=0.0.5->pyautogui)\n",
            "  Downloading PyRect-0.2.0.tar.gz (17 kB)\n",
            "  Preparing metadata (setup.py) ... \u001b[?25l\u001b[?25hdone\n",
            "Requirement already satisfied: Pillow>=9.2.0 in /usr/local/lib/python3.10/dist-packages (from pyscreeze>=0.1.21->pyautogui) (11.0.0)\n",
            "Requirement already satisfied: pyperclip in /usr/local/lib/python3.10/dist-packages (from mouseinfo->pyautogui) (1.9.0)\n",
            "Building wheels for collected packages: pyautogui, pygetwindow, pyscreeze, pytweening, mouseinfo, pymsgbox, python3-Xlib, pyrect\n",
            "  Building wheel for pyautogui (pyproject.toml) ... \u001b[?25l\u001b[?25hdone\n",
            "  Created wheel for pyautogui: filename=PyAutoGUI-0.9.54-py3-none-any.whl size=37574 sha256=21a31d67c023f3c4b3dde7da461961806248d5c1603f87679ff59a262e46b480\n",
            "  Stored in directory: /root/.cache/pip/wheels/23/a7/1c/5a51aaff3bbe110be4ddf766d429cc9d2fae7a72fc1b843e56\n",
            "  Building wheel for pygetwindow (setup.py) ... \u001b[?25l\u001b[?25hdone\n",
            "  Created wheel for pygetwindow: filename=PyGetWindow-0.0.9-py3-none-any.whl size=11063 sha256=6a39adfe9b88c6f786da265f840d04ff783135d928462fa377e83767d2e4f368\n",
            "  Stored in directory: /root/.cache/pip/wheels/02/f6/64/c5d427819f80553df2398bfecc351e94e00371c1dcb6edb24e\n",
            "  Building wheel for pyscreeze (pyproject.toml) ... \u001b[?25l\u001b[?25hdone\n",
            "  Created wheel for pyscreeze: filename=PyScreeze-1.0.1-py3-none-any.whl size=14363 sha256=9bb0a4a4c4f879ae238262e090719e3efaf86c0ae00283da30047441313515ff\n",
            "  Stored in directory: /root/.cache/pip/wheels/61/bb/e6/638ce7843ec76f69155decf3a8f2c0ef0e6afc53fc9e09c7e8\n",
            "  Building wheel for pytweening (setup.py) ... \u001b[?25l\u001b[?25hdone\n",
            "  Created wheel for pytweening: filename=pytweening-1.2.0-py3-none-any.whl size=8010 sha256=a82860c69b098dce7e207c0ebb0734ea12e800116313ede7702c3f1a8b142db6\n",
            "  Stored in directory: /root/.cache/pip/wheels/22/d7/02/b3e395d93b6dd41a7da54b2fa738ec03e7fb7451f7f22f8213\n",
            "  Building wheel for mouseinfo (setup.py) ... \u001b[?25l\u001b[?25hdone\n",
            "  Created wheel for mouseinfo: filename=MouseInfo-0.1.3-py3-none-any.whl size=10889 sha256=ab8ae170545de7dd6abe65177aad56177a9f39a54b011a6391c96d8b277c0367\n",
            "  Stored in directory: /root/.cache/pip/wheels/6e/d5/27/2f1be84b3e6ccee99c82f50e3fe7fe6360dd30417109b49a72\n",
            "  Building wheel for pymsgbox (pyproject.toml) ... \u001b[?25l\u001b[?25hdone\n",
            "  Created wheel for pymsgbox: filename=PyMsgBox-1.0.9-py3-none-any.whl size=7406 sha256=c7fb9d7badbe0d80d2a7856baa7cbf3b9b87e7d86d7b1b8ebd45d9ce1dadc619\n",
            "  Stored in directory: /root/.cache/pip/wheels/b9/6a/ba/be2d7d78166ec8018c21d07241dffa54446c09652a267759ae\n",
            "  Building wheel for python3-Xlib (setup.py) ... \u001b[?25l\u001b[?25hdone\n",
            "  Created wheel for python3-Xlib: filename=python3_xlib-0.15-py3-none-any.whl size=109502 sha256=8e7e0c21ad03d315a1cbcfe88e1c8dc0a2e38c4b0b851005f21fcade94b31431\n",
            "  Stored in directory: /root/.cache/pip/wheels/9c/8e/c5/8a93a3415a4a2065f31750a3244db61482b9e508f04ee56e82\n",
            "  Building wheel for pyrect (setup.py) ... \u001b[?25l\u001b[?25hdone\n",
            "  Created wheel for pyrect: filename=PyRect-0.2.0-py2.py3-none-any.whl size=11181 sha256=94abcd37705ede53b875ce9010ca975243631aab3abc312925a3008b0499692c\n",
            "  Stored in directory: /root/.cache/pip/wheels/d5/4c/bd/42e4e23641afcd185d4e932784da37e6e04505da0cf3f7b832\n",
            "Successfully built pyautogui pygetwindow pyscreeze pytweening mouseinfo pymsgbox python3-Xlib pyrect\n",
            "Installing collected packages: pytweening, python3-Xlib, pyrect, pymsgbox, pyscreeze, pygetwindow, mouseinfo, pyautogui\n",
            "Successfully installed mouseinfo-0.1.3 pyautogui-0.9.54 pygetwindow-0.0.9 pymsgbox-1.0.9 pyrect-0.2.0 pyscreeze-1.0.1 python3-Xlib-0.15 pytweening-1.2.0\n"
          ]
        }
      ],
      "source": [
        "!pip install pyautogui"
      ]
    },
    {
      "cell_type": "code",
      "execution_count": null,
      "metadata": {
        "id": "FYCDi7LhXTB3",
        "colab": {
          "base_uri": "https://localhost:8080/",
          "height": 350
        },
        "outputId": "68aaa827-669f-4ae6-8a5e-6701b98bb3d5"
      },
      "outputs": [
        {
          "output_type": "error",
          "ename": "KeyError",
          "evalue": "'DISPLAY'",
          "traceback": [
            "\u001b[0;31m---------------------------------------------------------------------------\u001b[0m",
            "\u001b[0;31mKeyError\u001b[0m                                  Traceback (most recent call last)",
            "\u001b[0;32m<ipython-input-2-26a84e45490a>\u001b[0m in \u001b[0;36m<cell line: 3>\u001b[0;34m()\u001b[0m\n\u001b[1;32m      1\u001b[0m \u001b[0;32mfrom\u001b[0m \u001b[0mtime\u001b[0m \u001b[0;32mimport\u001b[0m \u001b[0msleep\u001b[0m\u001b[0;34m\u001b[0m\u001b[0;34m\u001b[0m\u001b[0m\n\u001b[1;32m      2\u001b[0m \u001b[0;32mimport\u001b[0m \u001b[0mos\u001b[0m\u001b[0;34m\u001b[0m\u001b[0;34m\u001b[0m\u001b[0m\n\u001b[0;32m----> 3\u001b[0;31m \u001b[0;32mimport\u001b[0m \u001b[0mpyautogui\u001b[0m \u001b[0;32mas\u001b[0m \u001b[0mpygui\u001b[0m\u001b[0;34m\u001b[0m\u001b[0;34m\u001b[0m\u001b[0m\n\u001b[0m\u001b[1;32m      4\u001b[0m \u001b[0;32mimport\u001b[0m \u001b[0mnumpy\u001b[0m \u001b[0;32mas\u001b[0m \u001b[0mnp\u001b[0m\u001b[0;34m\u001b[0m\u001b[0;34m\u001b[0m\u001b[0m\n",
            "\u001b[0;32m/usr/local/lib/python3.10/dist-packages/pyautogui/__init__.py\u001b[0m in \u001b[0;36m<module>\u001b[0;34m\u001b[0m\n\u001b[1;32m    244\u001b[0m \u001b[0;34m\u001b[0m\u001b[0m\n\u001b[1;32m    245\u001b[0m \u001b[0;32mtry\u001b[0m\u001b[0;34m:\u001b[0m\u001b[0;34m\u001b[0m\u001b[0;34m\u001b[0m\u001b[0m\n\u001b[0;32m--> 246\u001b[0;31m     \u001b[0;32mimport\u001b[0m \u001b[0mmouseinfo\u001b[0m\u001b[0;34m\u001b[0m\u001b[0;34m\u001b[0m\u001b[0m\n\u001b[0m\u001b[1;32m    247\u001b[0m \u001b[0;34m\u001b[0m\u001b[0m\n\u001b[1;32m    248\u001b[0m     \u001b[0;32mdef\u001b[0m \u001b[0mmouseInfo\u001b[0m\u001b[0;34m(\u001b[0m\u001b[0;34m)\u001b[0m\u001b[0;34m:\u001b[0m\u001b[0;34m\u001b[0m\u001b[0;34m\u001b[0m\u001b[0m\n",
            "\u001b[0;32m/usr/local/lib/python3.10/dist-packages/mouseinfo/__init__.py\u001b[0m in \u001b[0;36m<module>\u001b[0;34m\u001b[0m\n\u001b[1;32m    221\u001b[0m             \u001b[0;32mraise\u001b[0m\u001b[0;34m\u001b[0m\u001b[0;34m\u001b[0m\u001b[0m\n\u001b[1;32m    222\u001b[0m \u001b[0;34m\u001b[0m\u001b[0m\n\u001b[0;32m--> 223\u001b[0;31m     \u001b[0m_display\u001b[0m \u001b[0;34m=\u001b[0m \u001b[0mDisplay\u001b[0m\u001b[0;34m(\u001b[0m\u001b[0mos\u001b[0m\u001b[0;34m.\u001b[0m\u001b[0menviron\u001b[0m\u001b[0;34m[\u001b[0m\u001b[0;34m'DISPLAY'\u001b[0m\u001b[0;34m]\u001b[0m\u001b[0;34m)\u001b[0m\u001b[0;34m\u001b[0m\u001b[0;34m\u001b[0m\u001b[0m\n\u001b[0m\u001b[1;32m    224\u001b[0m \u001b[0;34m\u001b[0m\u001b[0m\n\u001b[1;32m    225\u001b[0m     \u001b[0;32mdef\u001b[0m \u001b[0m_linuxPosition\u001b[0m\u001b[0;34m(\u001b[0m\u001b[0;34m)\u001b[0m\u001b[0;34m:\u001b[0m\u001b[0;34m\u001b[0m\u001b[0;34m\u001b[0m\u001b[0m\n",
            "\u001b[0;32m/usr/lib/python3.10/os.py\u001b[0m in \u001b[0;36m__getitem__\u001b[0;34m(self, key)\u001b[0m\n\u001b[1;32m    678\u001b[0m         \u001b[0;32mexcept\u001b[0m \u001b[0mKeyError\u001b[0m\u001b[0;34m:\u001b[0m\u001b[0;34m\u001b[0m\u001b[0;34m\u001b[0m\u001b[0m\n\u001b[1;32m    679\u001b[0m             \u001b[0;31m# raise KeyError with the original key value\u001b[0m\u001b[0;34m\u001b[0m\u001b[0;34m\u001b[0m\u001b[0m\n\u001b[0;32m--> 680\u001b[0;31m             \u001b[0;32mraise\u001b[0m \u001b[0mKeyError\u001b[0m\u001b[0;34m(\u001b[0m\u001b[0mkey\u001b[0m\u001b[0;34m)\u001b[0m \u001b[0;32mfrom\u001b[0m \u001b[0;32mNone\u001b[0m\u001b[0;34m\u001b[0m\u001b[0;34m\u001b[0m\u001b[0m\n\u001b[0m\u001b[1;32m    681\u001b[0m         \u001b[0;32mreturn\u001b[0m \u001b[0mself\u001b[0m\u001b[0;34m.\u001b[0m\u001b[0mdecodevalue\u001b[0m\u001b[0;34m(\u001b[0m\u001b[0mvalue\u001b[0m\u001b[0;34m)\u001b[0m\u001b[0;34m\u001b[0m\u001b[0;34m\u001b[0m\u001b[0m\n\u001b[1;32m    682\u001b[0m \u001b[0;34m\u001b[0m\u001b[0m\n",
            "\u001b[0;31mKeyError\u001b[0m: 'DISPLAY'"
          ]
        }
      ],
      "source": [
        "from time import sleep\n",
        "import os\n",
        "import pyautogui as pygui\n",
        "import numpy as np"
      ]
    },
    {
      "cell_type": "code",
      "execution_count": null,
      "metadata": {
        "id": "sFdr2i3MXTB3"
      },
      "outputs": [],
      "source": [
        "def cuadrado(l):\n",
        "    pygui.drag(l, 0, duration=1)\n",
        "    pygui.drag(0, l, duration=1)\n",
        "    pygui.drag(-l, 0, duration=1)\n",
        "    pygui.drag(0, -l, duration=1)"
      ]
    },
    {
      "cell_type": "code",
      "execution_count": null,
      "metadata": {
        "id": "aesO7-NvXTB4",
        "colab": {
          "base_uri": "https://localhost:8080/",
          "height": 263
        },
        "outputId": "5560007e-4f59-4639-e367-4223c3422a1e"
      },
      "outputs": [
        {
          "output_type": "error",
          "ename": "NameError",
          "evalue": "name 'pygui' is not defined",
          "traceback": [
            "\u001b[0;31m---------------------------------------------------------------------------\u001b[0m",
            "\u001b[0;31mNameError\u001b[0m                                 Traceback (most recent call last)",
            "\u001b[0;32m<ipython-input-4-0be00fe2439b>\u001b[0m in \u001b[0;36m<cell line: 1>\u001b[0;34m()\u001b[0m\n\u001b[0;32m----> 1\u001b[0;31m \u001b[0mcuadrado\u001b[0m\u001b[0;34m(\u001b[0m\u001b[0;36m200\u001b[0m\u001b[0;34m)\u001b[0m\u001b[0;34m\u001b[0m\u001b[0;34m\u001b[0m\u001b[0m\n\u001b[0m",
            "\u001b[0;32m<ipython-input-3-3bcbf184f493>\u001b[0m in \u001b[0;36mcuadrado\u001b[0;34m(l)\u001b[0m\n\u001b[1;32m      1\u001b[0m \u001b[0;32mdef\u001b[0m \u001b[0mcuadrado\u001b[0m\u001b[0;34m(\u001b[0m\u001b[0ml\u001b[0m\u001b[0;34m)\u001b[0m\u001b[0;34m:\u001b[0m\u001b[0;34m\u001b[0m\u001b[0;34m\u001b[0m\u001b[0m\n\u001b[0;32m----> 2\u001b[0;31m     \u001b[0mpygui\u001b[0m\u001b[0;34m.\u001b[0m\u001b[0mdrag\u001b[0m\u001b[0;34m(\u001b[0m\u001b[0ml\u001b[0m\u001b[0;34m,\u001b[0m \u001b[0;36m0\u001b[0m\u001b[0;34m,\u001b[0m \u001b[0mduration\u001b[0m\u001b[0;34m=\u001b[0m\u001b[0;36m1\u001b[0m\u001b[0;34m)\u001b[0m\u001b[0;34m\u001b[0m\u001b[0;34m\u001b[0m\u001b[0m\n\u001b[0m\u001b[1;32m      3\u001b[0m     \u001b[0mpygui\u001b[0m\u001b[0;34m.\u001b[0m\u001b[0mdrag\u001b[0m\u001b[0;34m(\u001b[0m\u001b[0;36m0\u001b[0m\u001b[0;34m,\u001b[0m \u001b[0ml\u001b[0m\u001b[0;34m,\u001b[0m \u001b[0mduration\u001b[0m\u001b[0;34m=\u001b[0m\u001b[0;36m1\u001b[0m\u001b[0;34m)\u001b[0m\u001b[0;34m\u001b[0m\u001b[0;34m\u001b[0m\u001b[0m\n\u001b[1;32m      4\u001b[0m     \u001b[0mpygui\u001b[0m\u001b[0;34m.\u001b[0m\u001b[0mdrag\u001b[0m\u001b[0;34m(\u001b[0m\u001b[0;34m-\u001b[0m\u001b[0ml\u001b[0m\u001b[0;34m,\u001b[0m \u001b[0;36m0\u001b[0m\u001b[0;34m,\u001b[0m \u001b[0mduration\u001b[0m\u001b[0;34m=\u001b[0m\u001b[0;36m1\u001b[0m\u001b[0;34m)\u001b[0m\u001b[0;34m\u001b[0m\u001b[0;34m\u001b[0m\u001b[0m\n\u001b[1;32m      5\u001b[0m     \u001b[0mpygui\u001b[0m\u001b[0;34m.\u001b[0m\u001b[0mdrag\u001b[0m\u001b[0;34m(\u001b[0m\u001b[0;36m0\u001b[0m\u001b[0;34m,\u001b[0m \u001b[0;34m-\u001b[0m\u001b[0ml\u001b[0m\u001b[0;34m,\u001b[0m \u001b[0mduration\u001b[0m\u001b[0;34m=\u001b[0m\u001b[0;36m1\u001b[0m\u001b[0;34m)\u001b[0m\u001b[0;34m\u001b[0m\u001b[0;34m\u001b[0m\u001b[0m\n",
            "\u001b[0;31mNameError\u001b[0m: name 'pygui' is not defined"
          ]
        }
      ],
      "source": [
        "cuadrado(200)"
      ]
    },
    {
      "cell_type": "code",
      "execution_count": null,
      "metadata": {
        "id": "Lmd0MasDPuTO"
      },
      "outputs": [],
      "source": [
        "url = r'https://www.lanacion.com.ar/'"
      ]
    },
    {
      "cell_type": "code",
      "execution_count": null,
      "metadata": {
        "id": "f0-dsF7LPuTa"
      },
      "outputs": [],
      "source": [
        "url = r'https://www.lanacion.com.ar/'\n",
        "\n",
        "sleep(2)\n",
        "pygui.hotkey('ctrl', 't')\n",
        "sleep(2)\n",
        "pygui.write(url)\n",
        "sleep(2)\n",
        "pygui.press('enter')"
      ]
    },
    {
      "cell_type": "code",
      "execution_count": null,
      "metadata": {
        "id": "nfu5YgETXTB5"
      },
      "outputs": [],
      "source": [
        "def abrir_paint():\n",
        "    # Windows\n",
        "    os.system('start mspaint.exe')\n",
        "    sleep(1)\n",
        "    S = pygui.size()\n",
        "    pygui.moveTo(S[0]//2, S[1]//2)"
      ]
    },
    {
      "cell_type": "code",
      "execution_count": null,
      "metadata": {
        "id": "S7PLbkweXTB5"
      },
      "outputs": [],
      "source": [
        "def cuadrado_espiral(l, ratio=0.9):\n",
        "    pygui.move(-l//2, -l//2, duration=0.1)\n",
        "    for i in range(50):\n",
        "        l = l*ratio\n",
        "        pygui.drag(l, 0, duration=0.1)\n",
        "        l = l*ratio\n",
        "        pygui.drag(0, l, duration=0.1)\n",
        "        l = l*ratio\n",
        "        pygui.drag(-l, 0, duration=0.1)\n",
        "        l = l*ratio\n",
        "        pygui.drag(0, -l, duration=0.1)\n",
        "        if l < 5:\n",
        "            break"
      ]
    },
    {
      "cell_type": "code",
      "execution_count": null,
      "metadata": {
        "id": "fg2CJaYcXTB5",
        "colab": {
          "base_uri": "https://localhost:8080/",
          "height": 280
        },
        "outputId": "3e43440b-6df7-49e8-b0e8-68ae1e628ef5"
      },
      "outputs": [
        {
          "output_type": "error",
          "ename": "NameError",
          "evalue": "name 'pygui' is not defined",
          "traceback": [
            "\u001b[0;31m---------------------------------------------------------------------------\u001b[0m",
            "\u001b[0;31mNameError\u001b[0m                                 Traceback (most recent call last)",
            "\u001b[0;32m<ipython-input-7-da1d01ddf02b>\u001b[0m in \u001b[0;36m<cell line: 2>\u001b[0;34m()\u001b[0m\n\u001b[1;32m      1\u001b[0m \u001b[0msleep\u001b[0m\u001b[0;34m(\u001b[0m\u001b[0;36m2\u001b[0m\u001b[0;34m)\u001b[0m\u001b[0;34m\u001b[0m\u001b[0;34m\u001b[0m\u001b[0m\n\u001b[0;32m----> 2\u001b[0;31m \u001b[0mabrir_paint\u001b[0m\u001b[0;34m(\u001b[0m\u001b[0;34m)\u001b[0m\u001b[0;34m\u001b[0m\u001b[0;34m\u001b[0m\u001b[0m\n\u001b[0m\u001b[1;32m      3\u001b[0m \u001b[0mcuadrado_espiral\u001b[0m\u001b[0;34m(\u001b[0m\u001b[0;36m600\u001b[0m\u001b[0;34m)\u001b[0m\u001b[0;34m\u001b[0m\u001b[0;34m\u001b[0m\u001b[0m\n",
            "\u001b[0;32m<ipython-input-5-f308f28e10ba>\u001b[0m in \u001b[0;36mabrir_paint\u001b[0;34m()\u001b[0m\n\u001b[1;32m      3\u001b[0m     \u001b[0mos\u001b[0m\u001b[0;34m.\u001b[0m\u001b[0msystem\u001b[0m\u001b[0;34m(\u001b[0m\u001b[0;34m'start mspaint.exe'\u001b[0m\u001b[0;34m)\u001b[0m\u001b[0;34m\u001b[0m\u001b[0;34m\u001b[0m\u001b[0m\n\u001b[1;32m      4\u001b[0m     \u001b[0msleep\u001b[0m\u001b[0;34m(\u001b[0m\u001b[0;36m1\u001b[0m\u001b[0;34m)\u001b[0m\u001b[0;34m\u001b[0m\u001b[0;34m\u001b[0m\u001b[0m\n\u001b[0;32m----> 5\u001b[0;31m     \u001b[0mS\u001b[0m \u001b[0;34m=\u001b[0m \u001b[0mpygui\u001b[0m\u001b[0;34m.\u001b[0m\u001b[0msize\u001b[0m\u001b[0;34m(\u001b[0m\u001b[0;34m)\u001b[0m\u001b[0;34m\u001b[0m\u001b[0;34m\u001b[0m\u001b[0m\n\u001b[0m\u001b[1;32m      6\u001b[0m     \u001b[0mpygui\u001b[0m\u001b[0;34m.\u001b[0m\u001b[0mmoveTo\u001b[0m\u001b[0;34m(\u001b[0m\u001b[0mS\u001b[0m\u001b[0;34m[\u001b[0m\u001b[0;36m0\u001b[0m\u001b[0;34m]\u001b[0m\u001b[0;34m//\u001b[0m\u001b[0;36m2\u001b[0m\u001b[0;34m,\u001b[0m \u001b[0mS\u001b[0m\u001b[0;34m[\u001b[0m\u001b[0;36m1\u001b[0m\u001b[0;34m]\u001b[0m\u001b[0;34m//\u001b[0m\u001b[0;36m2\u001b[0m\u001b[0;34m)\u001b[0m\u001b[0;34m\u001b[0m\u001b[0;34m\u001b[0m\u001b[0m\n",
            "\u001b[0;31mNameError\u001b[0m: name 'pygui' is not defined"
          ]
        }
      ],
      "source": [
        "sleep(2)\n",
        "abrir_paint()\n",
        "cuadrado_espiral(600)"
      ]
    },
    {
      "cell_type": "markdown",
      "metadata": {
        "id": "982Hn1rzk-dc"
      },
      "source": [
        "Ocasionalmente hay algunos casos de uso, pero encontramos obstáculos:\n",
        "\n",
        "- Frágil ante cambios\n",
        "- Método bruto, ad hoc\n",
        "- Solo tareas sencillas\n",
        "\n",
        "Encontraremos el mismo dilema más adelante en _web scraping_, en un extremo el consumo de APIs y en otro la automatización del navegador."
      ]
    },
    {
      "cell_type": "markdown",
      "metadata": {
        "id": "Zp7CuDqzXTB5"
      },
      "source": [
        "## **Bash y OS**"
      ]
    },
    {
      "cell_type": "markdown",
      "metadata": {
        "id": "SF_oDqKmiNQu"
      },
      "source": [
        "### Interactuando con el Sistema Operativo"
      ]
    },
    {
      "cell_type": "code",
      "execution_count": 3,
      "metadata": {
        "colab": {
          "base_uri": "https://localhost:8080/"
        },
        "id": "ouZ6t1KNkiBD",
        "outputId": "546bda17-5ae6-4ea4-8b33-ddd1dc08b4ac"
      },
      "outputs": [
        {
          "output_type": "stream",
          "name": "stdout",
          "text": [
            "/content\n"
          ]
        }
      ],
      "source": [
        "# Con ! enviamos un comando a la terminal del sistema operativo\n",
        "!pwd"
      ]
    },
    {
      "cell_type": "code",
      "execution_count": 6,
      "metadata": {
        "colab": {
          "base_uri": "https://localhost:8080/"
        },
        "id": "esEXIwSbXTB6",
        "outputId": "cdca1548-cb83-4bed-be0e-6cfc25e2f08d"
      },
      "outputs": [
        {
          "output_type": "stream",
          "name": "stdout",
          "text": [
            "ls: cannot access '.##': No such file or directory\n",
            "ls: cannot access 'nos': No such file or directory\n",
            "ls: cannot access 'lista': No such file or directory\n",
            "ls: cannot access 'el': No such file or directory\n",
            "ls: cannot access 'directorio': No such file or directory\n",
            "ls: cannot access 'actual': No such file or directory\n"
          ]
        }
      ],
      "source": [
        "!ls .## nos lista el directorio actual"
      ]
    },
    {
      "cell_type": "markdown",
      "metadata": {
        "id": "04nubFEM8bUq"
      },
      "source": [
        "Algunos comandos a saber:\n",
        "\n",
        "- pwd : \"print working directory\"\n",
        "- ls: listar directorio actual\n",
        "- wget: para descargar archivos"
      ]
    },
    {
      "cell_type": "code",
      "execution_count": 9,
      "metadata": {
        "colab": {
          "base_uri": "https://localhost:8080/"
        },
        "id": "0wV9rYPck9BM",
        "outputId": "cf998446-2bfc-449e-8ce4-a6c67e250258"
      },
      "outputs": [
        {
          "output_type": "stream",
          "name": "stdout",
          "text": [
            "--2025-01-01 19:35:00--  https://unket.s3.sa-east-1.amazonaws.com/data/Expo_2021.zip\n",
            "Resolving unket.s3.sa-east-1.amazonaws.com (unket.s3.sa-east-1.amazonaws.com)... 3.5.234.199, 52.95.164.106, 3.5.233.121, ...\n",
            "Connecting to unket.s3.sa-east-1.amazonaws.com (unket.s3.sa-east-1.amazonaws.com)|3.5.234.199|:443... connected.\n",
            "HTTP request sent, awaiting response... 200 OK\n",
            "Length: 58863328 (56M) [application/zip]\n",
            "Saving to: ‘Expo_2021.zip’\n",
            "\n",
            "Expo_2021.zip       100%[===================>]  56.14M  19.3MB/s    in 2.9s    \n",
            "\n",
            "2025-01-01 19:35:04 (19.3 MB/s) - ‘Expo_2021.zip’ saved [58863328/58863328]\n",
            "\n"
          ]
        }
      ],
      "source": [
        "# http://microdatos.dane.gov.co/index.php/catalog/472/get_microdata\n",
        "!wget -O Expo_2021.zip https://unket.s3.sa-east-1.amazonaws.com/data/Expo_2021.zip  ##con un menos -O nombre del archivo"
      ]
    },
    {
      "cell_type": "code",
      "execution_count": 8,
      "metadata": {
        "id": "GB6JcADPXTB6",
        "colab": {
          "base_uri": "https://localhost:8080/"
        },
        "outputId": "f033a324-e53e-4fb1-c7ce-6e7e3e108b28"
      },
      "outputs": [
        {
          "output_type": "stream",
          "name": "stdout",
          "text": [
            "/content\n"
          ]
        }
      ],
      "source": [
        "!pwd"
      ]
    },
    {
      "cell_type": "markdown",
      "metadata": {
        "id": "MVMfYhz0einz"
      },
      "source": [
        "### **Librería OS**"
      ]
    },
    {
      "cell_type": "code",
      "execution_count": 11,
      "metadata": {
        "id": "DgSEaZW9iNQv"
      },
      "outputs": [],
      "source": [
        "import os  ## libreria mas usada para intercanbiar con el sistema operativo , si existe , carpeta actual"
      ]
    },
    {
      "cell_type": "markdown",
      "metadata": {
        "id": "4oL2u8CLX6WZ"
      },
      "source": [
        "#### Algunos comando de interés"
      ]
    },
    {
      "cell_type": "code",
      "source": [
        "os.getcwd()"
      ],
      "metadata": {
        "colab": {
          "base_uri": "https://localhost:8080/",
          "height": 36
        },
        "id": "VKCqYCMJXipQ",
        "outputId": "1de08039-245a-4fd4-b539-00df9729c131"
      },
      "execution_count": 12,
      "outputs": [
        {
          "output_type": "execute_result",
          "data": {
            "text/plain": [
              "'/content'"
            ],
            "application/vnd.google.colaboratory.intrinsic+json": {
              "type": "string"
            }
          },
          "metadata": {},
          "execution_count": 12
        }
      ]
    },
    {
      "cell_type": "code",
      "source": [
        "path = \"/content/sample_data\"  # Replace with your desired directory path.\n",
        "os.chdir(path)"
      ],
      "metadata": {
        "id": "75X5WNVAXlfA"
      },
      "execution_count": 14,
      "outputs": []
    },
    {
      "cell_type": "code",
      "source": [
        "os.walk(path)"
      ],
      "metadata": {
        "colab": {
          "base_uri": "https://localhost:8080/"
        },
        "id": "L94hK_QeXwcG",
        "outputId": "3fa77775-d521-46f2-ad88-792230262aab"
      },
      "execution_count": 15,
      "outputs": [
        {
          "output_type": "execute_result",
          "data": {
            "text/plain": [
              "<generator object _walk at 0x7a0ad7f466c0>"
            ]
          },
          "metadata": {},
          "execution_count": 15
        }
      ]
    },
    {
      "cell_type": "markdown",
      "metadata": {
        "id": "6If5x0JViNQ3"
      },
      "source": [
        "```python\n",
        "#Devuelve el \"current working directory\", o directorio actual de trabajo\n",
        "os.getcwd()\n",
        "\n",
        "#Es por \"change directory\", o sea cambiar el directorio actual de trabajo\n",
        "os.chdir(path)\n",
        "\n",
        "#recorre recursivamente el árbol de directorios, empezando por el path.\n",
        "#en cada iteracion devuelve carpeta, [subcarpetas], [archivos]\n",
        "os.walk(path)\n",
        "\n",
        "#crea un directorio\n",
        "os.makedirs(path)\n",
        "\n",
        "#chequea si existe un path\n",
        "os.path.exists(path)\n",
        "\n",
        "#borra un archivo o carpeta vacia\n",
        "os.remove(path)\n",
        "\n",
        "#enumera el contenido del path\n",
        "os.listdir(path)\n",
        "\n",
        "#permite cambiar paths, nombres y extensiones\n",
        "os.rename(path, new_path)\n",
        "\n",
        "# Devuelve la ruta absoluta de una ruta relativa\n",
        "os.path.abspath(path)\n",
        "\n",
        "```"
      ]
    },
    {
      "cell_type": "code",
      "execution_count": 16,
      "metadata": {
        "colab": {
          "base_uri": "https://localhost:8080/",
          "height": 36
        },
        "id": "_TCN8epZYHl0",
        "outputId": "1538b64c-388e-4e7e-8ee7-c3dcdb449221"
      },
      "outputs": [
        {
          "output_type": "execute_result",
          "data": {
            "text/plain": [
              "'/content/sample_data'"
            ],
            "application/vnd.google.colaboratory.intrinsic+json": {
              "type": "string"
            }
          },
          "metadata": {},
          "execution_count": 16
        }
      ],
      "source": [
        "os.getcwd()"
      ]
    },
    {
      "cell_type": "code",
      "execution_count": 17,
      "metadata": {
        "id": "L7wSHsDDhy12"
      },
      "outputs": [],
      "source": [
        "os.chdir('/content/sample_data')"
      ]
    },
    {
      "cell_type": "code",
      "execution_count": 18,
      "metadata": {
        "colab": {
          "base_uri": "https://localhost:8080/",
          "height": 36
        },
        "id": "_rt6n8BPyWsd",
        "outputId": "61abd408-9688-404b-dc85-5d60fe2347da"
      },
      "outputs": [
        {
          "output_type": "execute_result",
          "data": {
            "text/plain": [
              "'/content/sample_data'"
            ],
            "application/vnd.google.colaboratory.intrinsic+json": {
              "type": "string"
            }
          },
          "metadata": {},
          "execution_count": 18
        }
      ],
      "source": [
        "os.getcwd()"
      ]
    },
    {
      "cell_type": "code",
      "execution_count": 19,
      "metadata": {
        "colab": {
          "base_uri": "https://localhost:8080/"
        },
        "id": "uXrJ-13JhkA8",
        "outputId": "cbca9581-4b71-4a39-a3be-929f38edcf55"
      },
      "outputs": [
        {
          "output_type": "execute_result",
          "data": {
            "text/plain": [
              "['', 'content', 'sample_data']"
            ]
          },
          "metadata": {},
          "execution_count": 19
        }
      ],
      "source": [
        "# Carpeta actual\n",
        "carpeta_actual = os.getcwd()\n",
        "carpeta_actual\n",
        "carpeta_actual.split('/')"
      ]
    },
    {
      "cell_type": "markdown",
      "metadata": {
        "id": "FZe5B5JbiNQ_"
      },
      "source": [
        "Cuatro maneras de listar la carpeta actual"
      ]
    },
    {
      "cell_type": "code",
      "execution_count": 20,
      "metadata": {
        "id": "gGLB3_b4iNRA",
        "colab": {
          "base_uri": "https://localhost:8080/"
        },
        "outputId": "01bb7742-a6d0-491e-e72c-4a5d1a7405be"
      },
      "outputs": [
        {
          "output_type": "stream",
          "name": "stdout",
          "text": [
            "anscombe.json\t\t     california_housing_train.csv  mnist_train_small.csv\n",
            "california_housing_test.csv  mnist_test.csv\t\t   README.md\n"
          ]
        }
      ],
      "source": [
        "# Con la terminal\n",
        "!ls"
      ]
    },
    {
      "cell_type": "code",
      "execution_count": 21,
      "metadata": {
        "id": "yNFrArZkiNRH",
        "colab": {
          "base_uri": "https://localhost:8080/"
        },
        "outputId": "48fad84e-9ce9-4db1-a8c3-cb4f50334ee1"
      },
      "outputs": [
        {
          "output_type": "stream",
          "name": "stdout",
          "text": [
            "anscombe.json\t\t     california_housing_train.csv  mnist_train_small.csv\n",
            "california_housing_test.csv  mnist_test.csv\t\t   README.md\n"
          ]
        }
      ],
      "source": [
        "!dir"
      ]
    },
    {
      "cell_type": "code",
      "execution_count": 22,
      "metadata": {
        "colab": {
          "base_uri": "https://localhost:8080/"
        },
        "id": "xjTVNxv3iNRL",
        "outputId": "0488945d-6f91-4cc5-a1a3-ffc3ea898920"
      },
      "outputs": [
        {
          "output_type": "execute_result",
          "data": {
            "text/plain": [
              "['anscombe.json',\n",
              " 'README.md',\n",
              " 'california_housing_test.csv',\n",
              " 'california_housing_train.csv',\n",
              " 'mnist_train_small.csv',\n",
              " 'mnist_test.csv']"
            ]
          },
          "metadata": {},
          "execution_count": 22
        }
      ],
      "source": [
        "# Con Python\n",
        "# ruta relativa\n",
        "\n",
        "os.listdir('.') # El '.' es la carpeta actual"
      ]
    },
    {
      "cell_type": "code",
      "execution_count": 23,
      "metadata": {
        "id": "-EvSs838iNRP",
        "colab": {
          "base_uri": "https://localhost:8080/"
        },
        "outputId": "80c94f85-76b4-4e59-b022-238f9ad6dd0f"
      },
      "outputs": [
        {
          "output_type": "stream",
          "name": "stdout",
          "text": [
            "La ruta absoluta es: /content/sample_data\n",
            "\n",
            "Contiene los siguientes archivos:\n"
          ]
        },
        {
          "output_type": "execute_result",
          "data": {
            "text/plain": [
              "['anscombe.json',\n",
              " 'README.md',\n",
              " 'california_housing_test.csv',\n",
              " 'california_housing_train.csv',\n",
              " 'mnist_train_small.csv',\n",
              " 'mnist_test.csv']"
            ]
          },
          "metadata": {},
          "execution_count": 23
        }
      ],
      "source": [
        "# Con Python\n",
        "# ruta absoluta\n",
        "ruta_absoluta  = os.getcwd()\n",
        "print(f'La ruta absoluta es: {ruta_absoluta}\\n')\n",
        "print('Contiene los siguientes archivos:')\n",
        "os.listdir(os.getcwd())"
      ]
    },
    {
      "cell_type": "markdown",
      "metadata": {
        "id": "HWckOOvMiNRT"
      },
      "source": [
        "Tres maneras de ver el directorio actual de trabajo"
      ]
    },
    {
      "cell_type": "code",
      "execution_count": 24,
      "metadata": {
        "id": "sA_EUomeiNRU",
        "colab": {
          "base_uri": "https://localhost:8080/",
          "height": 36
        },
        "outputId": "4ce50b33-f598-472d-f2dc-a4651f14e0e7"
      },
      "outputs": [
        {
          "output_type": "execute_result",
          "data": {
            "text/plain": [
              "'/content/sample_data'"
            ],
            "application/vnd.google.colaboratory.intrinsic+json": {
              "type": "string"
            }
          },
          "metadata": {},
          "execution_count": 24
        }
      ],
      "source": [
        "# 1.\n",
        "os.getcwd()"
      ]
    },
    {
      "cell_type": "code",
      "execution_count": 25,
      "metadata": {
        "id": "yw9af6sdiNRX",
        "colab": {
          "base_uri": "https://localhost:8080/"
        },
        "outputId": "53d018a4-95a3-4ea4-96be-a2f946f36df4"
      },
      "outputs": [
        {
          "output_type": "stream",
          "name": "stdout",
          "text": [
            "/content/sample_data\n"
          ]
        }
      ],
      "source": [
        "# 2.\n",
        "!pwd"
      ]
    },
    {
      "cell_type": "code",
      "execution_count": 26,
      "metadata": {
        "id": "5rUz-4q-iNRa",
        "colab": {
          "base_uri": "https://localhost:8080/",
          "height": 36
        },
        "outputId": "aec041dd-63b7-4f3a-f054-215c037c534f"
      },
      "outputs": [
        {
          "output_type": "execute_result",
          "data": {
            "text/plain": [
              "'/content/sample_data'"
            ],
            "application/vnd.google.colaboratory.intrinsic+json": {
              "type": "string"
            }
          },
          "metadata": {},
          "execution_count": 26
        }
      ],
      "source": [
        "# 3.\n",
        "os.path.abspath('.')"
      ]
    },
    {
      "cell_type": "markdown",
      "metadata": {
        "id": "1rzgbcunXTB8"
      },
      "source": [
        "Ejercicio\n",
        "\n",
        "Crear una carpeta nueva con la función ```os.makedirs()```. Recibe simplemente la ruta a la carpeta a crear"
      ]
    },
    {
      "cell_type": "code",
      "execution_count": 27,
      "metadata": {
        "id": "cUSH6Ml7kDhK",
        "colab": {
          "base_uri": "https://localhost:8080/"
        },
        "outputId": "e24b65f4-d39e-4506-ea32-a3a802567b44"
      },
      "outputs": [
        {
          "output_type": "stream",
          "name": "stdout",
          "text": [
            "anscombe.json\t\t     california_housing_train.csv  mnist_train_small.csv\n",
            "california_housing_test.csv  mnist_test.csv\t\t   README.md\n"
          ]
        }
      ],
      "source": [
        "# Recomendacion: Primro ver en que carpeta me encuentro\n",
        "!ls"
      ]
    },
    {
      "cell_type": "code",
      "execution_count": 28,
      "metadata": {
        "id": "Ll2eYUj-aKMN",
        "colab": {
          "base_uri": "https://localhost:8080/"
        },
        "outputId": "508473c5-c34d-4cf6-bf77-65cde9c7c7bf"
      },
      "outputs": [
        {
          "output_type": "stream",
          "name": "stdout",
          "text": [
            "/content\n"
          ]
        }
      ],
      "source": [
        "os.chdir('/content')\n",
        "\n",
        "!pwd"
      ]
    },
    {
      "cell_type": "code",
      "execution_count": 29,
      "metadata": {
        "colab": {
          "base_uri": "https://localhost:8080/",
          "height": 36
        },
        "id": "48ZTZJK30SD0",
        "outputId": "9fbacc9e-6e05-4730-eb32-b766ca92e22d"
      },
      "outputs": [
        {
          "output_type": "execute_result",
          "data": {
            "text/plain": [
              "'/content'"
            ],
            "application/vnd.google.colaboratory.intrinsic+json": {
              "type": "string"
            }
          },
          "metadata": {},
          "execution_count": 29
        }
      ],
      "source": [
        "os.getcwd()"
      ]
    },
    {
      "cell_type": "code",
      "execution_count": 30,
      "metadata": {
        "id": "cQ7OlRiXXTB8"
      },
      "outputs": [],
      "source": [
        "#@title Respuesta\n",
        "new_dir = 'nueva_carpeta'\n",
        "os.makedirs(new_dir)\n"
      ]
    },
    {
      "cell_type": "markdown",
      "metadata": {
        "id": "_cXrtpQ5oa5I"
      },
      "source": [
        "Ejercicio:\n",
        "\n",
        "Cambiar el directorio de trabajo a 'new_dir' usando os.chdir"
      ]
    },
    {
      "cell_type": "code",
      "execution_count": 31,
      "metadata": {
        "colab": {
          "base_uri": "https://localhost:8080/"
        },
        "id": "--4h2n1VoYyl",
        "outputId": "d8107a4f-85fd-40cb-cb32-e04949911829"
      },
      "outputs": [
        {
          "output_type": "stream",
          "name": "stdout",
          "text": [
            "Ahora estamos en: /content/nueva_carpeta\n"
          ]
        }
      ],
      "source": [
        "#@title Respuesta\n",
        "os.chdir('/content/nueva_carpeta')\n",
        "print('Ahora estamos en:', os.getcwd())\n"
      ]
    },
    {
      "cell_type": "code",
      "execution_count": 32,
      "metadata": {
        "colab": {
          "base_uri": "https://localhost:8080/"
        },
        "id": "uu8GI5nhmdHe",
        "outputId": "a37aa2fc-13df-43d0-ea57-c5246e13383b"
      },
      "outputs": [
        {
          "output_type": "stream",
          "name": "stdout",
          "text": [
            "Hola mundo!\n"
          ]
        }
      ],
      "source": [
        "# Creamos un archivo\n",
        "with open(\"prueba.txt\",\"w+\") as archivo:\n",
        "  archivo.write('Hola mundo!')\n",
        "\n",
        "# Leemos el archivo\n",
        "with open('prueba.txt', 'r') as f:\n",
        "  print(f.read())"
      ]
    },
    {
      "cell_type": "code",
      "execution_count": 33,
      "metadata": {
        "id": "OkmblypksdGE"
      },
      "outputs": [],
      "source": [
        "os.chdir('/content')"
      ]
    },
    {
      "cell_type": "code",
      "execution_count": 34,
      "metadata": {
        "id": "GKJKTsfqXTB9"
      },
      "outputs": [],
      "source": [
        "import zipfile\n",
        "\n",
        "# Extraemos en la nueva carpeta\n",
        "with zipfile.ZipFile('./Expo_2021.zip', \"r\") as zip_ref:\n",
        "    zip_ref.extractall('.')"
      ]
    },
    {
      "cell_type": "markdown",
      "metadata": {
        "id": "HkD4xDJniNRd"
      },
      "source": [
        "Buscamos todos los .zip"
      ]
    },
    {
      "cell_type": "code",
      "execution_count": 35,
      "metadata": {
        "colab": {
          "base_uri": "https://localhost:8080/"
        },
        "id": "5QbLnMlJ1Vya",
        "outputId": "f5a3ac32-1adf-486f-873b-ede6a9899fed"
      },
      "outputs": [
        {
          "output_type": "execute_result",
          "data": {
            "text/plain": [
              "['Septiembre.zip',\n",
              " 'Febrero.zip',\n",
              " 'Noviembre.zip',\n",
              " 'Octubre.zip',\n",
              " 'Julio.zip',\n",
              " 'Marzo.zip',\n",
              " 'Mayo.zip',\n",
              " 'Enero.zip',\n",
              " 'Abril.zip',\n",
              " 'Junio.zip',\n",
              " 'Agosto.zip',\n",
              " 'Diciembre.zip']"
            ]
          },
          "metadata": {},
          "execution_count": 35
        }
      ],
      "source": [
        "os.listdir('./Expo_2021/')"
      ]
    },
    {
      "cell_type": "code",
      "execution_count": 36,
      "metadata": {
        "colab": {
          "base_uri": "https://localhost:8080/"
        },
        "id": "gEju4QJiiNRe",
        "outputId": "6c8fa401-d4de-47df-96fe-1d0b9df99188"
      },
      "outputs": [
        {
          "output_type": "stream",
          "name": "stdout",
          "text": [
            "Septiembre.zip\n",
            "Febrero.zip\n",
            "Noviembre.zip\n",
            "Octubre.zip\n",
            "Julio.zip\n",
            "Marzo.zip\n",
            "Mayo.zip\n",
            "Enero.zip\n",
            "Abril.zip\n",
            "Junio.zip\n",
            "Agosto.zip\n",
            "Diciembre.zip\n"
          ]
        }
      ],
      "source": [
        "for elemento in os.listdir('./Expo_2021/'):\n",
        "    if elemento.endswith('.zip'):\n",
        "        print(elemento)"
      ]
    },
    {
      "cell_type": "markdown",
      "metadata": {
        "id": "0Rohql9J9VQq"
      },
      "source": [
        "Ahora usando glob"
      ]
    },
    {
      "cell_type": "code",
      "execution_count": 37,
      "metadata": {
        "id": "Eo1vXlkZqCeR"
      },
      "outputs": [],
      "source": [
        "from glob import glob"
      ]
    },
    {
      "cell_type": "code",
      "execution_count": 38,
      "metadata": {
        "id": "JzXEwSNZXTB9"
      },
      "outputs": [],
      "source": [
        "# ruta con todos los archivos\n",
        "datos_path = './Expo_2021/'"
      ]
    },
    {
      "cell_type": "code",
      "execution_count": 39,
      "metadata": {
        "colab": {
          "base_uri": "https://localhost:8080/"
        },
        "id": "UYZgIb2piNRh",
        "outputId": "f243ea1f-bd10-4aa6-c6b3-420107ada594"
      },
      "outputs": [
        {
          "output_type": "execute_result",
          "data": {
            "text/plain": [
              "['./Expo_2021/Septiembre.zip',\n",
              " './Expo_2021/Febrero.zip',\n",
              " './Expo_2021/Noviembre.zip',\n",
              " './Expo_2021/Octubre.zip',\n",
              " './Expo_2021/Julio.zip',\n",
              " './Expo_2021/Marzo.zip',\n",
              " './Expo_2021/Mayo.zip',\n",
              " './Expo_2021/Enero.zip',\n",
              " './Expo_2021/Abril.zip',\n",
              " './Expo_2021/Junio.zip',\n",
              " './Expo_2021/Agosto.zip',\n",
              " './Expo_2021/Diciembre.zip']"
            ]
          },
          "metadata": {},
          "execution_count": 39
        }
      ],
      "source": [
        "zip_files = glob(datos_path + '/*.zip')\n",
        "zip_files"
      ]
    },
    {
      "cell_type": "markdown",
      "metadata": {
        "id": "e0Qq8sfCWTX1"
      },
      "source": [
        "Hacemos un búcle para recorrer los archivos .zip y descomprimirlos en carpetas correspondientes"
      ]
    },
    {
      "cell_type": "code",
      "execution_count": 40,
      "metadata": {
        "colab": {
          "base_uri": "https://localhost:8080/"
        },
        "id": "5blLmM2HiNRk",
        "outputId": "e24dee61-9407-4f18-f381-b60c9b7b486d"
      },
      "outputs": [
        {
          "output_type": "stream",
          "name": "stdout",
          "text": [
            "./Expo_2021/Septiembre\n",
            "./Expo_2021/Febrero\n",
            "./Expo_2021/Noviembre\n",
            "./Expo_2021/Octubre\n",
            "./Expo_2021/Julio\n",
            "./Expo_2021/Marzo\n",
            "./Expo_2021/Mayo\n",
            "./Expo_2021/Enero\n",
            "./Expo_2021/Abril\n",
            "./Expo_2021/Junio\n",
            "./Expo_2021/Agosto\n",
            "./Expo_2021/Diciembre\n"
          ]
        }
      ],
      "source": [
        "from time import sleep\n",
        "# Recorremos la lista de zips\n",
        "for f in zip_files:\n",
        "\n",
        "    # Definimos el nombre de la nueva carpeta en una variable\n",
        "    # Es la misma ruta \"f\" pero sin el \".zip\"\n",
        "    new_dir = f.replace('.zip', '')\n",
        "    print(new_dir)\n",
        "\n",
        "    # Extraemos en la nueva carpeta\n",
        "    with zipfile.ZipFile(f, \"r\") as zip_ref:\n",
        "        zip_ref.extractall(new_dir)\n",
        "\n",
        "    sleep(0.5)"
      ]
    },
    {
      "cell_type": "code",
      "execution_count": 41,
      "metadata": {
        "id": "4hvqYHIbo9oc",
        "colab": {
          "base_uri": "https://localhost:8080/"
        },
        "outputId": "5df50708-ccbb-45b6-e38d-ac54bdb8fc25"
      },
      "outputs": [
        {
          "output_type": "execute_result",
          "data": {
            "text/plain": [
              "['Septiembre.zip',\n",
              " 'Febrero.zip',\n",
              " 'Diciembre',\n",
              " 'Noviembre',\n",
              " 'Julio',\n",
              " 'Noviembre.zip',\n",
              " 'Agosto',\n",
              " 'Junio',\n",
              " 'Febrero',\n",
              " 'Octubre.zip',\n",
              " 'Abril',\n",
              " 'Julio.zip',\n",
              " 'Marzo.zip',\n",
              " 'Septiembre',\n",
              " 'Mayo.zip',\n",
              " 'Octubre',\n",
              " 'Mayo',\n",
              " 'Enero.zip',\n",
              " 'Abril.zip',\n",
              " 'Enero',\n",
              " 'Marzo',\n",
              " 'Junio.zip',\n",
              " 'Agosto.zip',\n",
              " 'Diciembre.zip']"
            ]
          },
          "metadata": {},
          "execution_count": 41
        }
      ],
      "source": [
        "# Vemos que ya estan los .zips, y carpetas correspondientes\n",
        "os.listdir('Expo_2021')"
      ]
    },
    {
      "cell_type": "markdown",
      "metadata": {
        "id": "HQJV7LDwiNRp"
      },
      "source": [
        "La estructura queda así:\n",
        "\n",
        "```\n",
        ".\n",
        "├── Expo_2021\n",
        "│   ├── Abril\n",
        "│   │   ├── Abril.csv\n",
        "│   │   ├── Abril.dta\n",
        "│   │   └── Abril.sav\n",
        "│   ├── Abril2021.zip\n",
        "\n",
        "...\n",
        "\n",
        "│   ├── Octubre\n",
        "│   │   ├── Octubre.csv\n",
        "│   │   ├── Octubre.dta\n",
        "│   │   └── Octubre.sav\n",
        "│   ├── Octubre2021.zip\n",
        "│   ├── Septiembre\n",
        "│   │   ├── Septiembre.csv\n",
        "│   │   ├── Septiembre.dta\n",
        "│   │   └── Septiembre.sav\n",
        "│   └── Septiembre2021.zip\n",
        "\n",
        "```"
      ]
    },
    {
      "cell_type": "code",
      "execution_count": 42,
      "metadata": {
        "id": "YTZWE8GpiNRq"
      },
      "outputs": [],
      "source": [
        "# Buscamos los archivos del tipo que queremos usando glob\n",
        "# Podemos cambiar el tipo cambiando la siguiente variable\n",
        "\n",
        "# tipo = 'dta'\n",
        "tipo = 'csv'\n",
        "# tipo = 'sav'"
      ]
    },
    {
      "cell_type": "code",
      "execution_count": 43,
      "metadata": {
        "id": "VhKGNKCI3LIc"
      },
      "outputs": [],
      "source": [
        "datos_path = './Expo_2021/'\n"
      ]
    },
    {
      "cell_type": "code",
      "execution_count": 44,
      "metadata": {
        "colab": {
          "base_uri": "https://localhost:8080/"
        },
        "id": "wcQ6tIAkXTB-",
        "outputId": "97075db3-ed02-495c-f604-f43292868555"
      },
      "outputs": [
        {
          "output_type": "execute_result",
          "data": {
            "text/plain": [
              "['./Expo_2021/Diciembre/Diciembre.csv',\n",
              " './Expo_2021/Noviembre/Noviembre.csv',\n",
              " './Expo_2021/Julio/Julio.csv',\n",
              " './Expo_2021/Agosto/Agosto.csv',\n",
              " './Expo_2021/Junio/Junio.csv',\n",
              " './Expo_2021/Febrero/Febrero.csv',\n",
              " './Expo_2021/Abril/Abril.csv',\n",
              " './Expo_2021/Septiembre/Septiembre.csv',\n",
              " './Expo_2021/Octubre/Octubre.csv',\n",
              " './Expo_2021/Mayo/Mayo.csv',\n",
              " './Expo_2021/Enero/Enero.csv',\n",
              " './Expo_2021/Marzo/Marzo.csv']"
            ]
          },
          "metadata": {},
          "execution_count": 44
        }
      ],
      "source": [
        "datos = glob(f'{datos_path}/*/*{tipo}') # Cualquier archivo .sav, de cualquiera de las carpetas internas\n",
        "datos"
      ]
    },
    {
      "cell_type": "code",
      "execution_count": 45,
      "metadata": {
        "id": "e16oFMhDXTB-",
        "colab": {
          "base_uri": "https://localhost:8080/",
          "height": 36
        },
        "outputId": "73f17569-9193-4d59-8aaf-9b0eb31387c4"
      },
      "outputs": [
        {
          "output_type": "execute_result",
          "data": {
            "text/plain": [
              "'./Expo_2021/csv_2021'"
            ],
            "application/vnd.google.colaboratory.intrinsic+json": {
              "type": "string"
            }
          },
          "metadata": {},
          "execution_count": 45
        }
      ],
      "source": [
        "datos_path + tipo + '_2021'"
      ]
    },
    {
      "cell_type": "code",
      "execution_count": 46,
      "metadata": {
        "id": "L8oJ93FBiNRs"
      },
      "outputs": [],
      "source": [
        "# Chequeamos si la carpeta ya existe, y si no creamos una carpeta para guardar todos archivos los de ese tipo\n",
        "\n",
        "if not os.path.exists(datos_path + '/' + tipo + '_2021'):\n",
        "    os.mkdir(datos_path + tipo + '_2021')"
      ]
    },
    {
      "cell_type": "code",
      "execution_count": 47,
      "metadata": {
        "id": "NRqnYuo-p3w8",
        "colab": {
          "base_uri": "https://localhost:8080/"
        },
        "outputId": "0590779d-ae91-4a37-bb2f-92a432d9039f"
      },
      "outputs": [
        {
          "output_type": "stream",
          "name": "stdout",
          "text": [
            "Abril\t    csv_2021\t   Enero.zip\tJulio.zip  Marzo.zip  Noviembre.zip  Septiembre.zip\n",
            "Abril.zip   Diciembre\t   Febrero\tJunio\t   Mayo       Octubre\n",
            "Agosto\t    Diciembre.zip  Febrero.zip\tJunio.zip  Mayo.zip   Octubre.zip\n",
            "Agosto.zip  Enero\t   Julio\tMarzo\t   Noviembre  Septiembre\n"
          ]
        }
      ],
      "source": [
        "# Vemos que se creó la carpeta \"sav_2021\"\n",
        "\n",
        "!ls Expo_2021"
      ]
    },
    {
      "cell_type": "code",
      "execution_count": 48,
      "metadata": {
        "id": "L1snliHPXTB_",
        "colab": {
          "base_uri": "https://localhost:8080/"
        },
        "outputId": "c55e7166-5224-4480-9da8-89272964f315"
      },
      "outputs": [
        {
          "output_type": "execute_result",
          "data": {
            "text/plain": [
              "['./Expo_2021/Diciembre/Diciembre.csv',\n",
              " './Expo_2021/Noviembre/Noviembre.csv',\n",
              " './Expo_2021/Julio/Julio.csv',\n",
              " './Expo_2021/Agosto/Agosto.csv',\n",
              " './Expo_2021/Junio/Junio.csv',\n",
              " './Expo_2021/Febrero/Febrero.csv',\n",
              " './Expo_2021/Abril/Abril.csv',\n",
              " './Expo_2021/Septiembre/Septiembre.csv',\n",
              " './Expo_2021/Octubre/Octubre.csv',\n",
              " './Expo_2021/Mayo/Mayo.csv',\n",
              " './Expo_2021/Enero/Enero.csv',\n",
              " './Expo_2021/Marzo/Marzo.csv']"
            ]
          },
          "metadata": {},
          "execution_count": 48
        }
      ],
      "source": [
        "datos"
      ]
    },
    {
      "cell_type": "code",
      "execution_count": 49,
      "metadata": {
        "id": "PTcSkRliiNRv"
      },
      "outputs": [],
      "source": [
        "# Movemos todos los que los archivos de ese tipo a la nueva carpeta\n",
        "# Podemos chequear si ya está en la carpeta con os.path.exists\n",
        "\n",
        "for d in datos:\n",
        "    # Definimos en una variable cuál va a ser la nueva ruta\n",
        "    new_path = datos_path + tipo + '_2021/' + d.replace('\\\\', '/').split('/')[-1] # El replace es para que funcione en windows y linux\n",
        "    if not os.path.exists(new_path):\n",
        "        os.rename(d, new_path)"
      ]
    },
    {
      "cell_type": "code",
      "execution_count": 50,
      "metadata": {
        "id": "ekv3TtRfXTB_",
        "colab": {
          "base_uri": "https://localhost:8080/",
          "height": 36
        },
        "outputId": "2a3d8f19-1eb6-4932-b842-0f9f56bf8a39"
      },
      "outputs": [
        {
          "output_type": "execute_result",
          "data": {
            "text/plain": [
              "'./Expo_2021/csv_2021/Marzo.csv'"
            ],
            "application/vnd.google.colaboratory.intrinsic+json": {
              "type": "string"
            }
          },
          "metadata": {},
          "execution_count": 50
        }
      ],
      "source": [
        "new_path"
      ]
    },
    {
      "cell_type": "code",
      "execution_count": 51,
      "metadata": {
        "id": "KsA9YdhBp80Y",
        "colab": {
          "base_uri": "https://localhost:8080/"
        },
        "outputId": "16904cad-1213-4ff8-fcd0-8558cb3ddd22"
      },
      "outputs": [
        {
          "output_type": "stream",
          "name": "stdout",
          "text": [
            "Abril.csv   Diciembre.csv  Febrero.csv\tJunio.csv  Mayo.csv\t  Octubre.csv\n",
            "Agosto.csv  Enero.csv\t   Julio.csv\tMarzo.csv  Noviembre.csv  Septiembre.csv\n"
          ]
        }
      ],
      "source": [
        "# Listamos los archivos dentro de la nueva carpeta\n",
        "\n",
        "!ls {datos_path}/{tipo}_2021"
      ]
    },
    {
      "cell_type": "markdown",
      "metadata": {
        "id": "tYtQI6RaiNR2"
      },
      "source": [
        "```\n",
        ".\n",
        "├── Expo_2021\n",
        "│   ├── Abril2021\n",
        "│   │   ├── Abril.csv\n",
        "│   │   └── Abril.dta\n",
        "│   ├── Abril2021.zip\n",
        "│   ├── Agosto2021\n",
        "│   │   ├── Agosto.csv\n",
        "\n",
        "...\n",
        "\n",
        "│   ├── Octubre2021\n",
        "│   │   ├── Octubre 2021.csv\n",
        "│   │   └── Octubre 2021.dta\n",
        "│   ├── Octubre2021.zip\n",
        "│   ├── sav_2021\n",
        "│   │   ├── Abril.sav\n",
        "│   │   ├── Agosto.sav\n",
        "│   │   ├── Diciembre.sav\n",
        "│   │   ├── Enero.sav\n",
        "│   │   ├── Febrero.sav\n",
        "│   │   ├── Julio.sav\n",
        "│   │   ├── Junio.sav\n",
        "│   │   ├── Marzo.sav\n",
        "│   │   ├── Mayo.sav\n",
        "│   │   ├── Noviembre 2021.sav\n",
        "│   │   ├── Octubre 2021.sav\n",
        "│   │   └── Septiembre.sav\n",
        "│   ├── Septiembre2021\n",
        "│   │   ├── Septiembre.csv\n",
        "│   │   └── Septiembre.dta\n",
        "│   └── Septiembre2021.zip\n",
        "```"
      ]
    },
    {
      "cell_type": "markdown",
      "metadata": {
        "id": "qaIyV9BPiNR2"
      },
      "source": [
        "En dos casos puede ser necesario recurrir a otra librería, _shutil_\n",
        "\n",
        "Estos casos son:\n",
        "\n",
        "- copyfile: para copiar archivos\n",
        "- rmtree: para borrar directorios\n",
        "\n",
        "```python\n",
        "from shutil import copyfile\n",
        "copyfile(src, dst)\n",
        "```\n",
        "\n",
        "Usaremos esta 2da función para limpiar los archivos que extrajimos y no necesitamos"
      ]
    },
    {
      "cell_type": "code",
      "execution_count": 52,
      "metadata": {
        "id": "EErNA2Z_XTB_",
        "colab": {
          "base_uri": "https://localhost:8080/"
        },
        "outputId": "16063bed-632e-4c08-e8ae-9770e3e2c140"
      },
      "outputs": [
        {
          "output_type": "execute_result",
          "data": {
            "text/plain": [
              "['./Expo_2021/Septiembre.zip',\n",
              " './Expo_2021/Febrero.zip',\n",
              " './Expo_2021/Noviembre.zip',\n",
              " './Expo_2021/Octubre.zip',\n",
              " './Expo_2021/Julio.zip',\n",
              " './Expo_2021/Marzo.zip',\n",
              " './Expo_2021/Mayo.zip',\n",
              " './Expo_2021/Enero.zip',\n",
              " './Expo_2021/Abril.zip',\n",
              " './Expo_2021/Junio.zip',\n",
              " './Expo_2021/Agosto.zip',\n",
              " './Expo_2021/Diciembre.zip']"
            ]
          },
          "metadata": {},
          "execution_count": 52
        }
      ],
      "source": [
        "zip_files"
      ]
    },
    {
      "cell_type": "code",
      "execution_count": 53,
      "metadata": {
        "colab": {
          "base_uri": "https://localhost:8080/"
        },
        "id": "3UPCRzGIiNR3",
        "outputId": "e90bbd69-b60a-4365-9033-eb1625eb53c4"
      },
      "outputs": [
        {
          "output_type": "stream",
          "name": "stdout",
          "text": [
            "Borrando... /content/Expo_2021/Septiembre\n",
            "Borrando... /content/Expo_2021/Febrero\n",
            "Borrando... /content/Expo_2021/Noviembre\n",
            "Borrando... /content/Expo_2021/Octubre\n",
            "Borrando... /content/Expo_2021/Julio\n",
            "Borrando... /content/Expo_2021/Marzo\n",
            "Borrando... /content/Expo_2021/Mayo\n",
            "Borrando... /content/Expo_2021/Enero\n",
            "Borrando... /content/Expo_2021/Abril\n",
            "Borrando... /content/Expo_2021/Junio\n",
            "Borrando... /content/Expo_2021/Agosto\n",
            "Borrando... /content/Expo_2021/Diciembre\n"
          ]
        }
      ],
      "source": [
        "import shutil\n",
        "\n",
        "for f in zip_files:\n",
        "\n",
        "    # ¡CUIDADO!\n",
        "    # Estas funciones de borrar y renombrar son potencialmente peligrosas\n",
        "    # Antes de ejecutarlas con una ruta, pueden hacer un print para asegurarse de qué se haría\n",
        "\n",
        "    # Borramos las carpetas de más, para eso\n",
        "    # buscamos la ruta absoluta del zip.\n",
        "    # Sabemos que carpeta donde se extrajo se llama igual pero sin .zip\n",
        "    zip_dir = os.path.abspath(f).split('.')[0]\n",
        "    print('Borrando...', zip_dir)\n",
        "\n",
        "    shutil.rmtree(zip_dir)\n",
        "\n",
        "    # Borramos también los .zip\n",
        "    os.remove(f)"
      ]
    },
    {
      "cell_type": "code",
      "execution_count": 54,
      "metadata": {
        "id": "ot8inQ4rpWHA",
        "colab": {
          "base_uri": "https://localhost:8080/"
        },
        "outputId": "43132228-8475-43f8-c294-8eba3bcb1f76"
      },
      "outputs": [
        {
          "output_type": "stream",
          "name": "stdout",
          "text": [
            "csv_2021\n"
          ]
        }
      ],
      "source": [
        "# Nos queda solo la carpeta con todos los archivos del tipo elegido, ordenados\n",
        "\n",
        "!ls {datos_path}"
      ]
    },
    {
      "cell_type": "markdown",
      "metadata": {
        "id": "QylEEWr6_HEp"
      },
      "source": [
        "Cargamos los datos a un DataFrame"
      ]
    },
    {
      "cell_type": "code",
      "execution_count": 55,
      "metadata": {
        "id": "PjzSMfA_iNSE",
        "colab": {
          "base_uri": "https://localhost:8080/"
        },
        "outputId": "d58bab86-c9d7-4753-c3b7-7baba6b405d1"
      },
      "outputs": [
        {
          "output_type": "execute_result",
          "data": {
            "text/plain": [
              "['./Expo_2021/csv_2021/Octubre.csv',\n",
              " './Expo_2021/csv_2021/Febrero.csv',\n",
              " './Expo_2021/csv_2021/Abril.csv',\n",
              " './Expo_2021/csv_2021/Diciembre.csv',\n",
              " './Expo_2021/csv_2021/Marzo.csv',\n",
              " './Expo_2021/csv_2021/Noviembre.csv',\n",
              " './Expo_2021/csv_2021/Septiembre.csv',\n",
              " './Expo_2021/csv_2021/Julio.csv',\n",
              " './Expo_2021/csv_2021/Junio.csv',\n",
              " './Expo_2021/csv_2021/Enero.csv',\n",
              " './Expo_2021/csv_2021/Agosto.csv',\n",
              " './Expo_2021/csv_2021/Mayo.csv']"
            ]
          },
          "metadata": {},
          "execution_count": 55
        }
      ],
      "source": [
        "from glob import glob\n",
        "\n",
        "rutas_datos = glob(datos_path + '/*/*' + tipo)\n",
        "rutas_datos"
      ]
    },
    {
      "cell_type": "markdown",
      "metadata": {
        "id": "JtF9Jpr7iNSJ"
      },
      "source": [
        "Leemos 3 tipos de datos:\n",
        "- Stata\n",
        "- SPSS\n",
        "- csv"
      ]
    },
    {
      "cell_type": "code",
      "execution_count": 56,
      "metadata": {
        "id": "qz2WkEnBXTCA",
        "colab": {
          "base_uri": "https://localhost:8080/"
        },
        "outputId": "80d1f46e-4723-4022-d806-e046b09e6fe7"
      },
      "outputs": [
        {
          "output_type": "stream",
          "name": "stdout",
          "text": [
            "Collecting pyreadstat\n",
            "  Downloading pyreadstat-1.2.8-cp310-cp310-manylinux_2_17_x86_64.manylinux2014_x86_64.whl.metadata (1.0 kB)\n",
            "Requirement already satisfied: pandas>=1.2.0 in /usr/local/lib/python3.10/dist-packages (from pyreadstat) (2.2.2)\n",
            "Requirement already satisfied: numpy>=1.22.4 in /usr/local/lib/python3.10/dist-packages (from pandas>=1.2.0->pyreadstat) (1.26.4)\n",
            "Requirement already satisfied: python-dateutil>=2.8.2 in /usr/local/lib/python3.10/dist-packages (from pandas>=1.2.0->pyreadstat) (2.8.2)\n",
            "Requirement already satisfied: pytz>=2020.1 in /usr/local/lib/python3.10/dist-packages (from pandas>=1.2.0->pyreadstat) (2024.2)\n",
            "Requirement already satisfied: tzdata>=2022.7 in /usr/local/lib/python3.10/dist-packages (from pandas>=1.2.0->pyreadstat) (2024.2)\n",
            "Requirement already satisfied: six>=1.5 in /usr/local/lib/python3.10/dist-packages (from python-dateutil>=2.8.2->pandas>=1.2.0->pyreadstat) (1.17.0)\n",
            "Downloading pyreadstat-1.2.8-cp310-cp310-manylinux_2_17_x86_64.manylinux2014_x86_64.whl (2.8 MB)\n",
            "\u001b[2K   \u001b[90m━━━━━━━━━━━━━━━━━━━━━━━━━━━━━━━━━━━━━━━━\u001b[0m \u001b[32m2.8/2.8 MB\u001b[0m \u001b[31m23.9 MB/s\u001b[0m eta \u001b[36m0:00:00\u001b[0m\n",
            "\u001b[?25hInstalling collected packages: pyreadstat\n",
            "Successfully installed pyreadstat-1.2.8\n"
          ]
        }
      ],
      "source": [
        "# para stata o SPSS\n",
        "!pip install pyreadstat"
      ]
    },
    {
      "cell_type": "code",
      "source": [
        "\n",
        "\n",
        "path = './Expo_2021/csv_2021/Mayo.csv'\n",
        "# pd.read_csv(path, delimiter = ',', encoding='latin1')\n",
        "\n",
        "import chardet\n",
        "with open(path, 'rb') as f:\n",
        "    result = chardet.detect(f.read())\n",
        "pd.read_csv(path, encoding=result['encoding'])"
      ],
      "metadata": {
        "colab": {
          "base_uri": "https://localhost:8080/",
          "height": 792
        },
        "id": "cI4bV_LLLnBf",
        "outputId": "f167f892-0f2d-4068-890c-34a6f49cf082"
      },
      "execution_count": 58,
      "outputs": [
        {
          "output_type": "stream",
          "name": "stderr",
          "text": [
            "<ipython-input-58-21e7b9c880b9>:7: DtypeWarning: Columns (27) have mixed types. Specify dtype option on import or set low_memory=False.\n",
            "  pd.read_csv(path, encoding=result['encoding'])\n"
          ]
        },
        {
          "output_type": "execute_result",
          "data": {
            "text/plain": [
              "       FECH  ADUA  PAIS COD_PAI4  COD_SAL1 COD_SAL  DPTO2  VIA  BANDERA  \\\n",
              "0      2105     1    23      DEU        19     SMR      5    1      351   \n",
              "1      2105     1    23      DEU        19     SMR      5    1      741   \n",
              "2      2105     1   169      COL         0     AXM     63    3      169   \n",
              "3      2105     1   169      COL         0     AXM     63    3      169   \n",
              "4      2105     1   249      USA         0     AXM     68    7      249   \n",
              "...     ...   ...   ...      ...       ...     ...    ...  ...      ...   \n",
              "34364  2105    90   917      XCF        11     MDE     11    3      169   \n",
              "34365  2105    90   917      XCF        11     MDE     11    3      169   \n",
              "34366  2105    90   917      XCF        11     MDE     11    3      169   \n",
              "34367  2105    90   917      XCF        11     MDE     11    3      169   \n",
              "34368  2105    90   917      XCF        11     MDE     13    3      169   \n",
              "\n",
              "       REGIM  ...         PBK         PNK     FOBDOL        FOBPES     AGRENA  \\\n",
              "0          1  ...   956074.00   847569.78  370234.30  1.382488e+09  370234.30   \n",
              "1          1  ...  2016435.00  1783524.89  728771.62  2.723770e+09  728771.62   \n",
              "2          1  ...     1979.28     1856.38    4410.00  1.633111e+07    3884.89   \n",
              "3          1  ...       69.30       65.00     600.00  2.221920e+06     589.86   \n",
              "4          1  ...    33163.25    33163.25   23424.10  9.009565e+07       0.00   \n",
              "...      ...  ...         ...         ...        ...           ...        ...   \n",
              "34364      1  ...     3799.49     3596.20   67267.62  2.486655e+08   53630.09   \n",
              "34365      1  ...      171.59      160.80    1496.26  5.510486e+06     923.55   \n",
              "34366      1  ...      471.67      445.98    9166.57  3.422880e+07    7653.26   \n",
              "34367      1  ...       57.92       54.77     459.90  1.717308e+06     264.83   \n",
              "34368      1  ...      481.23      459.42    8855.73  3.289851e+07    7419.08   \n",
              "\n",
              "       FLETES  SEGURO OTROSG        NIT  \\\n",
              "0         0.0     0.0    0.0  890904224   \n",
              "1         0.0     0.0    0.0  890904224   \n",
              "2         0.0     0.0    0.0  860076060   \n",
              "3         0.0     0.0    0.0  860076060   \n",
              "4         0.0     0.0    0.0  830095617   \n",
              "...       ...     ...    ...        ...   \n",
              "34364     0.0     0.0    0.0  860001963   \n",
              "34365     0.0     0.0    0.0  860001963   \n",
              "34366     0.0     0.0    0.0  860001963   \n",
              "34367     0.0     0.0    0.0  860001963   \n",
              "34368     0.0     0.0    0.0  860001963   \n",
              "\n",
              "                                             RAZ_SIAL  \n",
              "0      C.I. UNION DE BANANEROS DE URABA S.A. - UNIBAN  \n",
              "1      C.I. UNION DE BANANEROS DE URABA S.A. - UNIBAN  \n",
              "2                                         COLOMA LTDA  \n",
              "3                                         COLOMA LTDA  \n",
              "4                                     ENERGIZAR S.A.S  \n",
              "...                                               ...  \n",
              "34364                                     PROTELA S A  \n",
              "34365                                     PROTELA S A  \n",
              "34366                                     PROTELA S A  \n",
              "34367                                     PROTELA S A  \n",
              "34368                                     PROTELA S A  \n",
              "\n",
              "[34369 rows x 29 columns]"
            ],
            "text/html": [
              "\n",
              "  <div id=\"df-62405710-3cee-4239-a6a3-ea5247c86345\" class=\"colab-df-container\">\n",
              "    <div>\n",
              "<style scoped>\n",
              "    .dataframe tbody tr th:only-of-type {\n",
              "        vertical-align: middle;\n",
              "    }\n",
              "\n",
              "    .dataframe tbody tr th {\n",
              "        vertical-align: top;\n",
              "    }\n",
              "\n",
              "    .dataframe thead th {\n",
              "        text-align: right;\n",
              "    }\n",
              "</style>\n",
              "<table border=\"1\" class=\"dataframe\">\n",
              "  <thead>\n",
              "    <tr style=\"text-align: right;\">\n",
              "      <th></th>\n",
              "      <th>FECH</th>\n",
              "      <th>ADUA</th>\n",
              "      <th>PAIS</th>\n",
              "      <th>COD_PAI4</th>\n",
              "      <th>COD_SAL1</th>\n",
              "      <th>COD_SAL</th>\n",
              "      <th>DPTO2</th>\n",
              "      <th>VIA</th>\n",
              "      <th>BANDERA</th>\n",
              "      <th>REGIM</th>\n",
              "      <th>...</th>\n",
              "      <th>PBK</th>\n",
              "      <th>PNK</th>\n",
              "      <th>FOBDOL</th>\n",
              "      <th>FOBPES</th>\n",
              "      <th>AGRENA</th>\n",
              "      <th>FLETES</th>\n",
              "      <th>SEGURO</th>\n",
              "      <th>OTROSG</th>\n",
              "      <th>NIT</th>\n",
              "      <th>RAZ_SIAL</th>\n",
              "    </tr>\n",
              "  </thead>\n",
              "  <tbody>\n",
              "    <tr>\n",
              "      <th>0</th>\n",
              "      <td>2105</td>\n",
              "      <td>1</td>\n",
              "      <td>23</td>\n",
              "      <td>DEU</td>\n",
              "      <td>19</td>\n",
              "      <td>SMR</td>\n",
              "      <td>5</td>\n",
              "      <td>1</td>\n",
              "      <td>351</td>\n",
              "      <td>1</td>\n",
              "      <td>...</td>\n",
              "      <td>956074.00</td>\n",
              "      <td>847569.78</td>\n",
              "      <td>370234.30</td>\n",
              "      <td>1.382488e+09</td>\n",
              "      <td>370234.30</td>\n",
              "      <td>0.0</td>\n",
              "      <td>0.0</td>\n",
              "      <td>0.0</td>\n",
              "      <td>890904224</td>\n",
              "      <td>C.I. UNION DE BANANEROS DE URABA S.A. - UNIBAN</td>\n",
              "    </tr>\n",
              "    <tr>\n",
              "      <th>1</th>\n",
              "      <td>2105</td>\n",
              "      <td>1</td>\n",
              "      <td>23</td>\n",
              "      <td>DEU</td>\n",
              "      <td>19</td>\n",
              "      <td>SMR</td>\n",
              "      <td>5</td>\n",
              "      <td>1</td>\n",
              "      <td>741</td>\n",
              "      <td>1</td>\n",
              "      <td>...</td>\n",
              "      <td>2016435.00</td>\n",
              "      <td>1783524.89</td>\n",
              "      <td>728771.62</td>\n",
              "      <td>2.723770e+09</td>\n",
              "      <td>728771.62</td>\n",
              "      <td>0.0</td>\n",
              "      <td>0.0</td>\n",
              "      <td>0.0</td>\n",
              "      <td>890904224</td>\n",
              "      <td>C.I. UNION DE BANANEROS DE URABA S.A. - UNIBAN</td>\n",
              "    </tr>\n",
              "    <tr>\n",
              "      <th>2</th>\n",
              "      <td>2105</td>\n",
              "      <td>1</td>\n",
              "      <td>169</td>\n",
              "      <td>COL</td>\n",
              "      <td>0</td>\n",
              "      <td>AXM</td>\n",
              "      <td>63</td>\n",
              "      <td>3</td>\n",
              "      <td>169</td>\n",
              "      <td>1</td>\n",
              "      <td>...</td>\n",
              "      <td>1979.28</td>\n",
              "      <td>1856.38</td>\n",
              "      <td>4410.00</td>\n",
              "      <td>1.633111e+07</td>\n",
              "      <td>3884.89</td>\n",
              "      <td>0.0</td>\n",
              "      <td>0.0</td>\n",
              "      <td>0.0</td>\n",
              "      <td>860076060</td>\n",
              "      <td>COLOMA LTDA</td>\n",
              "    </tr>\n",
              "    <tr>\n",
              "      <th>3</th>\n",
              "      <td>2105</td>\n",
              "      <td>1</td>\n",
              "      <td>169</td>\n",
              "      <td>COL</td>\n",
              "      <td>0</td>\n",
              "      <td>AXM</td>\n",
              "      <td>63</td>\n",
              "      <td>3</td>\n",
              "      <td>169</td>\n",
              "      <td>1</td>\n",
              "      <td>...</td>\n",
              "      <td>69.30</td>\n",
              "      <td>65.00</td>\n",
              "      <td>600.00</td>\n",
              "      <td>2.221920e+06</td>\n",
              "      <td>589.86</td>\n",
              "      <td>0.0</td>\n",
              "      <td>0.0</td>\n",
              "      <td>0.0</td>\n",
              "      <td>860076060</td>\n",
              "      <td>COLOMA LTDA</td>\n",
              "    </tr>\n",
              "    <tr>\n",
              "      <th>4</th>\n",
              "      <td>2105</td>\n",
              "      <td>1</td>\n",
              "      <td>249</td>\n",
              "      <td>USA</td>\n",
              "      <td>0</td>\n",
              "      <td>AXM</td>\n",
              "      <td>68</td>\n",
              "      <td>7</td>\n",
              "      <td>249</td>\n",
              "      <td>1</td>\n",
              "      <td>...</td>\n",
              "      <td>33163.25</td>\n",
              "      <td>33163.25</td>\n",
              "      <td>23424.10</td>\n",
              "      <td>9.009565e+07</td>\n",
              "      <td>0.00</td>\n",
              "      <td>0.0</td>\n",
              "      <td>0.0</td>\n",
              "      <td>0.0</td>\n",
              "      <td>830095617</td>\n",
              "      <td>ENERGIZAR S.A.S</td>\n",
              "    </tr>\n",
              "    <tr>\n",
              "      <th>...</th>\n",
              "      <td>...</td>\n",
              "      <td>...</td>\n",
              "      <td>...</td>\n",
              "      <td>...</td>\n",
              "      <td>...</td>\n",
              "      <td>...</td>\n",
              "      <td>...</td>\n",
              "      <td>...</td>\n",
              "      <td>...</td>\n",
              "      <td>...</td>\n",
              "      <td>...</td>\n",
              "      <td>...</td>\n",
              "      <td>...</td>\n",
              "      <td>...</td>\n",
              "      <td>...</td>\n",
              "      <td>...</td>\n",
              "      <td>...</td>\n",
              "      <td>...</td>\n",
              "      <td>...</td>\n",
              "      <td>...</td>\n",
              "      <td>...</td>\n",
              "    </tr>\n",
              "    <tr>\n",
              "      <th>34364</th>\n",
              "      <td>2105</td>\n",
              "      <td>90</td>\n",
              "      <td>917</td>\n",
              "      <td>XCF</td>\n",
              "      <td>11</td>\n",
              "      <td>MDE</td>\n",
              "      <td>11</td>\n",
              "      <td>3</td>\n",
              "      <td>169</td>\n",
              "      <td>1</td>\n",
              "      <td>...</td>\n",
              "      <td>3799.49</td>\n",
              "      <td>3596.20</td>\n",
              "      <td>67267.62</td>\n",
              "      <td>2.486655e+08</td>\n",
              "      <td>53630.09</td>\n",
              "      <td>0.0</td>\n",
              "      <td>0.0</td>\n",
              "      <td>0.0</td>\n",
              "      <td>860001963</td>\n",
              "      <td>PROTELA S A</td>\n",
              "    </tr>\n",
              "    <tr>\n",
              "      <th>34365</th>\n",
              "      <td>2105</td>\n",
              "      <td>90</td>\n",
              "      <td>917</td>\n",
              "      <td>XCF</td>\n",
              "      <td>11</td>\n",
              "      <td>MDE</td>\n",
              "      <td>11</td>\n",
              "      <td>3</td>\n",
              "      <td>169</td>\n",
              "      <td>1</td>\n",
              "      <td>...</td>\n",
              "      <td>171.59</td>\n",
              "      <td>160.80</td>\n",
              "      <td>1496.26</td>\n",
              "      <td>5.510486e+06</td>\n",
              "      <td>923.55</td>\n",
              "      <td>0.0</td>\n",
              "      <td>0.0</td>\n",
              "      <td>0.0</td>\n",
              "      <td>860001963</td>\n",
              "      <td>PROTELA S A</td>\n",
              "    </tr>\n",
              "    <tr>\n",
              "      <th>34366</th>\n",
              "      <td>2105</td>\n",
              "      <td>90</td>\n",
              "      <td>917</td>\n",
              "      <td>XCF</td>\n",
              "      <td>11</td>\n",
              "      <td>MDE</td>\n",
              "      <td>11</td>\n",
              "      <td>3</td>\n",
              "      <td>169</td>\n",
              "      <td>1</td>\n",
              "      <td>...</td>\n",
              "      <td>471.67</td>\n",
              "      <td>445.98</td>\n",
              "      <td>9166.57</td>\n",
              "      <td>3.422880e+07</td>\n",
              "      <td>7653.26</td>\n",
              "      <td>0.0</td>\n",
              "      <td>0.0</td>\n",
              "      <td>0.0</td>\n",
              "      <td>860001963</td>\n",
              "      <td>PROTELA S A</td>\n",
              "    </tr>\n",
              "    <tr>\n",
              "      <th>34367</th>\n",
              "      <td>2105</td>\n",
              "      <td>90</td>\n",
              "      <td>917</td>\n",
              "      <td>XCF</td>\n",
              "      <td>11</td>\n",
              "      <td>MDE</td>\n",
              "      <td>11</td>\n",
              "      <td>3</td>\n",
              "      <td>169</td>\n",
              "      <td>1</td>\n",
              "      <td>...</td>\n",
              "      <td>57.92</td>\n",
              "      <td>54.77</td>\n",
              "      <td>459.90</td>\n",
              "      <td>1.717308e+06</td>\n",
              "      <td>264.83</td>\n",
              "      <td>0.0</td>\n",
              "      <td>0.0</td>\n",
              "      <td>0.0</td>\n",
              "      <td>860001963</td>\n",
              "      <td>PROTELA S A</td>\n",
              "    </tr>\n",
              "    <tr>\n",
              "      <th>34368</th>\n",
              "      <td>2105</td>\n",
              "      <td>90</td>\n",
              "      <td>917</td>\n",
              "      <td>XCF</td>\n",
              "      <td>11</td>\n",
              "      <td>MDE</td>\n",
              "      <td>13</td>\n",
              "      <td>3</td>\n",
              "      <td>169</td>\n",
              "      <td>1</td>\n",
              "      <td>...</td>\n",
              "      <td>481.23</td>\n",
              "      <td>459.42</td>\n",
              "      <td>8855.73</td>\n",
              "      <td>3.289851e+07</td>\n",
              "      <td>7419.08</td>\n",
              "      <td>0.0</td>\n",
              "      <td>0.0</td>\n",
              "      <td>0.0</td>\n",
              "      <td>860001963</td>\n",
              "      <td>PROTELA S A</td>\n",
              "    </tr>\n",
              "  </tbody>\n",
              "</table>\n",
              "<p>34369 rows × 29 columns</p>\n",
              "</div>\n",
              "    <div class=\"colab-df-buttons\">\n",
              "\n",
              "  <div class=\"colab-df-container\">\n",
              "    <button class=\"colab-df-convert\" onclick=\"convertToInteractive('df-62405710-3cee-4239-a6a3-ea5247c86345')\"\n",
              "            title=\"Convert this dataframe to an interactive table.\"\n",
              "            style=\"display:none;\">\n",
              "\n",
              "  <svg xmlns=\"http://www.w3.org/2000/svg\" height=\"24px\" viewBox=\"0 -960 960 960\">\n",
              "    <path d=\"M120-120v-720h720v720H120Zm60-500h600v-160H180v160Zm220 220h160v-160H400v160Zm0 220h160v-160H400v160ZM180-400h160v-160H180v160Zm440 0h160v-160H620v160ZM180-180h160v-160H180v160Zm440 0h160v-160H620v160Z\"/>\n",
              "  </svg>\n",
              "    </button>\n",
              "\n",
              "  <style>\n",
              "    .colab-df-container {\n",
              "      display:flex;\n",
              "      gap: 12px;\n",
              "    }\n",
              "\n",
              "    .colab-df-convert {\n",
              "      background-color: #E8F0FE;\n",
              "      border: none;\n",
              "      border-radius: 50%;\n",
              "      cursor: pointer;\n",
              "      display: none;\n",
              "      fill: #1967D2;\n",
              "      height: 32px;\n",
              "      padding: 0 0 0 0;\n",
              "      width: 32px;\n",
              "    }\n",
              "\n",
              "    .colab-df-convert:hover {\n",
              "      background-color: #E2EBFA;\n",
              "      box-shadow: 0px 1px 2px rgba(60, 64, 67, 0.3), 0px 1px 3px 1px rgba(60, 64, 67, 0.15);\n",
              "      fill: #174EA6;\n",
              "    }\n",
              "\n",
              "    .colab-df-buttons div {\n",
              "      margin-bottom: 4px;\n",
              "    }\n",
              "\n",
              "    [theme=dark] .colab-df-convert {\n",
              "      background-color: #3B4455;\n",
              "      fill: #D2E3FC;\n",
              "    }\n",
              "\n",
              "    [theme=dark] .colab-df-convert:hover {\n",
              "      background-color: #434B5C;\n",
              "      box-shadow: 0px 1px 3px 1px rgba(0, 0, 0, 0.15);\n",
              "      filter: drop-shadow(0px 1px 2px rgba(0, 0, 0, 0.3));\n",
              "      fill: #FFFFFF;\n",
              "    }\n",
              "  </style>\n",
              "\n",
              "    <script>\n",
              "      const buttonEl =\n",
              "        document.querySelector('#df-62405710-3cee-4239-a6a3-ea5247c86345 button.colab-df-convert');\n",
              "      buttonEl.style.display =\n",
              "        google.colab.kernel.accessAllowed ? 'block' : 'none';\n",
              "\n",
              "      async function convertToInteractive(key) {\n",
              "        const element = document.querySelector('#df-62405710-3cee-4239-a6a3-ea5247c86345');\n",
              "        const dataTable =\n",
              "          await google.colab.kernel.invokeFunction('convertToInteractive',\n",
              "                                                    [key], {});\n",
              "        if (!dataTable) return;\n",
              "\n",
              "        const docLinkHtml = 'Like what you see? Visit the ' +\n",
              "          '<a target=\"_blank\" href=https://colab.research.google.com/notebooks/data_table.ipynb>data table notebook</a>'\n",
              "          + ' to learn more about interactive tables.';\n",
              "        element.innerHTML = '';\n",
              "        dataTable['output_type'] = 'display_data';\n",
              "        await google.colab.output.renderOutput(dataTable, element);\n",
              "        const docLink = document.createElement('div');\n",
              "        docLink.innerHTML = docLinkHtml;\n",
              "        element.appendChild(docLink);\n",
              "      }\n",
              "    </script>\n",
              "  </div>\n",
              "\n",
              "\n",
              "<div id=\"df-d57e8459-5b71-4673-a629-fbd75cb3f2ac\">\n",
              "  <button class=\"colab-df-quickchart\" onclick=\"quickchart('df-d57e8459-5b71-4673-a629-fbd75cb3f2ac')\"\n",
              "            title=\"Suggest charts\"\n",
              "            style=\"display:none;\">\n",
              "\n",
              "<svg xmlns=\"http://www.w3.org/2000/svg\" height=\"24px\"viewBox=\"0 0 24 24\"\n",
              "     width=\"24px\">\n",
              "    <g>\n",
              "        <path d=\"M19 3H5c-1.1 0-2 .9-2 2v14c0 1.1.9 2 2 2h14c1.1 0 2-.9 2-2V5c0-1.1-.9-2-2-2zM9 17H7v-7h2v7zm4 0h-2V7h2v10zm4 0h-2v-4h2v4z\"/>\n",
              "    </g>\n",
              "</svg>\n",
              "  </button>\n",
              "\n",
              "<style>\n",
              "  .colab-df-quickchart {\n",
              "      --bg-color: #E8F0FE;\n",
              "      --fill-color: #1967D2;\n",
              "      --hover-bg-color: #E2EBFA;\n",
              "      --hover-fill-color: #174EA6;\n",
              "      --disabled-fill-color: #AAA;\n",
              "      --disabled-bg-color: #DDD;\n",
              "  }\n",
              "\n",
              "  [theme=dark] .colab-df-quickchart {\n",
              "      --bg-color: #3B4455;\n",
              "      --fill-color: #D2E3FC;\n",
              "      --hover-bg-color: #434B5C;\n",
              "      --hover-fill-color: #FFFFFF;\n",
              "      --disabled-bg-color: #3B4455;\n",
              "      --disabled-fill-color: #666;\n",
              "  }\n",
              "\n",
              "  .colab-df-quickchart {\n",
              "    background-color: var(--bg-color);\n",
              "    border: none;\n",
              "    border-radius: 50%;\n",
              "    cursor: pointer;\n",
              "    display: none;\n",
              "    fill: var(--fill-color);\n",
              "    height: 32px;\n",
              "    padding: 0;\n",
              "    width: 32px;\n",
              "  }\n",
              "\n",
              "  .colab-df-quickchart:hover {\n",
              "    background-color: var(--hover-bg-color);\n",
              "    box-shadow: 0 1px 2px rgba(60, 64, 67, 0.3), 0 1px 3px 1px rgba(60, 64, 67, 0.15);\n",
              "    fill: var(--button-hover-fill-color);\n",
              "  }\n",
              "\n",
              "  .colab-df-quickchart-complete:disabled,\n",
              "  .colab-df-quickchart-complete:disabled:hover {\n",
              "    background-color: var(--disabled-bg-color);\n",
              "    fill: var(--disabled-fill-color);\n",
              "    box-shadow: none;\n",
              "  }\n",
              "\n",
              "  .colab-df-spinner {\n",
              "    border: 2px solid var(--fill-color);\n",
              "    border-color: transparent;\n",
              "    border-bottom-color: var(--fill-color);\n",
              "    animation:\n",
              "      spin 1s steps(1) infinite;\n",
              "  }\n",
              "\n",
              "  @keyframes spin {\n",
              "    0% {\n",
              "      border-color: transparent;\n",
              "      border-bottom-color: var(--fill-color);\n",
              "      border-left-color: var(--fill-color);\n",
              "    }\n",
              "    20% {\n",
              "      border-color: transparent;\n",
              "      border-left-color: var(--fill-color);\n",
              "      border-top-color: var(--fill-color);\n",
              "    }\n",
              "    30% {\n",
              "      border-color: transparent;\n",
              "      border-left-color: var(--fill-color);\n",
              "      border-top-color: var(--fill-color);\n",
              "      border-right-color: var(--fill-color);\n",
              "    }\n",
              "    40% {\n",
              "      border-color: transparent;\n",
              "      border-right-color: var(--fill-color);\n",
              "      border-top-color: var(--fill-color);\n",
              "    }\n",
              "    60% {\n",
              "      border-color: transparent;\n",
              "      border-right-color: var(--fill-color);\n",
              "    }\n",
              "    80% {\n",
              "      border-color: transparent;\n",
              "      border-right-color: var(--fill-color);\n",
              "      border-bottom-color: var(--fill-color);\n",
              "    }\n",
              "    90% {\n",
              "      border-color: transparent;\n",
              "      border-bottom-color: var(--fill-color);\n",
              "    }\n",
              "  }\n",
              "</style>\n",
              "\n",
              "  <script>\n",
              "    async function quickchart(key) {\n",
              "      const quickchartButtonEl =\n",
              "        document.querySelector('#' + key + ' button');\n",
              "      quickchartButtonEl.disabled = true;  // To prevent multiple clicks.\n",
              "      quickchartButtonEl.classList.add('colab-df-spinner');\n",
              "      try {\n",
              "        const charts = await google.colab.kernel.invokeFunction(\n",
              "            'suggestCharts', [key], {});\n",
              "      } catch (error) {\n",
              "        console.error('Error during call to suggestCharts:', error);\n",
              "      }\n",
              "      quickchartButtonEl.classList.remove('colab-df-spinner');\n",
              "      quickchartButtonEl.classList.add('colab-df-quickchart-complete');\n",
              "    }\n",
              "    (() => {\n",
              "      let quickchartButtonEl =\n",
              "        document.querySelector('#df-d57e8459-5b71-4673-a629-fbd75cb3f2ac button');\n",
              "      quickchartButtonEl.style.display =\n",
              "        google.colab.kernel.accessAllowed ? 'block' : 'none';\n",
              "    })();\n",
              "  </script>\n",
              "</div>\n",
              "\n",
              "    </div>\n",
              "  </div>\n"
            ],
            "application/vnd.google.colaboratory.intrinsic+json": {
              "type": "dataframe"
            }
          },
          "metadata": {},
          "execution_count": 58
        }
      ]
    },
    {
      "cell_type": "code",
      "source": [
        "\n",
        "\n",
        "import pandas as pd\n",
        "import chardet\n",
        "\n",
        "datos = []\n",
        "\n",
        "for r in rutas_datos:\n",
        "\n",
        "    if tipo == 'dta':\n",
        "        # En el caso de stata necesitamos instalar la siguiente librería\n",
        "        import pyreadstat\n",
        "\n",
        "        df, metadata = pyreadstat.read_dta(r)\n",
        "\n",
        "    elif tipo == 'sav':\n",
        "        df = pd.read_spss(r)\n",
        "\n",
        "    elif tipo == 'csv':\n",
        "        print(r)\n",
        "        # Detect encoding for each file\n",
        "        with open(r, 'rb') as f:\n",
        "            result = chardet.detect(f.read())\n",
        "\n",
        "        # Read CSV with detected encoding\n",
        "        df = pd.read_csv(r, delimiter = ';', encoding=result['encoding'])\n",
        "\n",
        "    else:\n",
        "        print('Otro tipo!')\n",
        "\n",
        "    datos.append(df)\n",
        "\n",
        "dataframe_total = pd.concat(datos)\n",
        "dataframe_total.to_csv('todos.csv')"
      ],
      "metadata": {
        "colab": {
          "base_uri": "https://localhost:8080/",
          "height": 638
        },
        "id": "6G98xhzKaEfs",
        "outputId": "59149567-344d-4952-9dde-2bd6b9a1dbb7"
      },
      "execution_count": 60,
      "outputs": [
        {
          "output_type": "stream",
          "name": "stdout",
          "text": [
            "./Expo_2021/csv_2021/Octubre.csv\n",
            "./Expo_2021/csv_2021/Febrero.csv\n",
            "./Expo_2021/csv_2021/Abril.csv\n",
            "./Expo_2021/csv_2021/Diciembre.csv\n",
            "./Expo_2021/csv_2021/Marzo.csv\n"
          ]
        },
        {
          "output_type": "error",
          "ename": "ParserError",
          "evalue": "Error tokenizing data. C error: Expected 1 fields in line 45708, saw 2\n",
          "traceback": [
            "\u001b[0;31m---------------------------------------------------------------------------\u001b[0m",
            "\u001b[0;31mParserError\u001b[0m                               Traceback (most recent call last)",
            "\u001b[0;32m<ipython-input-60-7821e2541d37>\u001b[0m in \u001b[0;36m<cell line: 6>\u001b[0;34m()\u001b[0m\n\u001b[1;32m     22\u001b[0m \u001b[0;34m\u001b[0m\u001b[0m\n\u001b[1;32m     23\u001b[0m         \u001b[0;31m# Read CSV with detected encoding\u001b[0m\u001b[0;34m\u001b[0m\u001b[0;34m\u001b[0m\u001b[0m\n\u001b[0;32m---> 24\u001b[0;31m         \u001b[0mdf\u001b[0m \u001b[0;34m=\u001b[0m \u001b[0mpd\u001b[0m\u001b[0;34m.\u001b[0m\u001b[0mread_csv\u001b[0m\u001b[0;34m(\u001b[0m\u001b[0mr\u001b[0m\u001b[0;34m,\u001b[0m \u001b[0mdelimiter\u001b[0m \u001b[0;34m=\u001b[0m \u001b[0;34m';'\u001b[0m\u001b[0;34m,\u001b[0m \u001b[0mencoding\u001b[0m\u001b[0;34m=\u001b[0m\u001b[0mresult\u001b[0m\u001b[0;34m[\u001b[0m\u001b[0;34m'encoding'\u001b[0m\u001b[0;34m]\u001b[0m\u001b[0;34m)\u001b[0m\u001b[0;34m\u001b[0m\u001b[0;34m\u001b[0m\u001b[0m\n\u001b[0m\u001b[1;32m     25\u001b[0m \u001b[0;34m\u001b[0m\u001b[0m\n\u001b[1;32m     26\u001b[0m     \u001b[0;32melse\u001b[0m\u001b[0;34m:\u001b[0m\u001b[0;34m\u001b[0m\u001b[0;34m\u001b[0m\u001b[0m\n",
            "\u001b[0;32m/usr/local/lib/python3.10/dist-packages/pandas/io/parsers/readers.py\u001b[0m in \u001b[0;36mread_csv\u001b[0;34m(filepath_or_buffer, sep, delimiter, header, names, index_col, usecols, dtype, engine, converters, true_values, false_values, skipinitialspace, skiprows, skipfooter, nrows, na_values, keep_default_na, na_filter, verbose, skip_blank_lines, parse_dates, infer_datetime_format, keep_date_col, date_parser, date_format, dayfirst, cache_dates, iterator, chunksize, compression, thousands, decimal, lineterminator, quotechar, quoting, doublequote, escapechar, comment, encoding, encoding_errors, dialect, on_bad_lines, delim_whitespace, low_memory, memory_map, float_precision, storage_options, dtype_backend)\u001b[0m\n\u001b[1;32m   1024\u001b[0m     \u001b[0mkwds\u001b[0m\u001b[0;34m.\u001b[0m\u001b[0mupdate\u001b[0m\u001b[0;34m(\u001b[0m\u001b[0mkwds_defaults\u001b[0m\u001b[0;34m)\u001b[0m\u001b[0;34m\u001b[0m\u001b[0;34m\u001b[0m\u001b[0m\n\u001b[1;32m   1025\u001b[0m \u001b[0;34m\u001b[0m\u001b[0m\n\u001b[0;32m-> 1026\u001b[0;31m     \u001b[0;32mreturn\u001b[0m \u001b[0m_read\u001b[0m\u001b[0;34m(\u001b[0m\u001b[0mfilepath_or_buffer\u001b[0m\u001b[0;34m,\u001b[0m \u001b[0mkwds\u001b[0m\u001b[0;34m)\u001b[0m\u001b[0;34m\u001b[0m\u001b[0;34m\u001b[0m\u001b[0m\n\u001b[0m\u001b[1;32m   1027\u001b[0m \u001b[0;34m\u001b[0m\u001b[0m\n\u001b[1;32m   1028\u001b[0m \u001b[0;34m\u001b[0m\u001b[0m\n",
            "\u001b[0;32m/usr/local/lib/python3.10/dist-packages/pandas/io/parsers/readers.py\u001b[0m in \u001b[0;36m_read\u001b[0;34m(filepath_or_buffer, kwds)\u001b[0m\n\u001b[1;32m    624\u001b[0m \u001b[0;34m\u001b[0m\u001b[0m\n\u001b[1;32m    625\u001b[0m     \u001b[0;32mwith\u001b[0m \u001b[0mparser\u001b[0m\u001b[0;34m:\u001b[0m\u001b[0;34m\u001b[0m\u001b[0;34m\u001b[0m\u001b[0m\n\u001b[0;32m--> 626\u001b[0;31m         \u001b[0;32mreturn\u001b[0m \u001b[0mparser\u001b[0m\u001b[0;34m.\u001b[0m\u001b[0mread\u001b[0m\u001b[0;34m(\u001b[0m\u001b[0mnrows\u001b[0m\u001b[0;34m)\u001b[0m\u001b[0;34m\u001b[0m\u001b[0;34m\u001b[0m\u001b[0m\n\u001b[0m\u001b[1;32m    627\u001b[0m \u001b[0;34m\u001b[0m\u001b[0m\n\u001b[1;32m    628\u001b[0m \u001b[0;34m\u001b[0m\u001b[0m\n",
            "\u001b[0;32m/usr/local/lib/python3.10/dist-packages/pandas/io/parsers/readers.py\u001b[0m in \u001b[0;36mread\u001b[0;34m(self, nrows)\u001b[0m\n\u001b[1;32m   1921\u001b[0m                     \u001b[0mcolumns\u001b[0m\u001b[0;34m,\u001b[0m\u001b[0;34m\u001b[0m\u001b[0;34m\u001b[0m\u001b[0m\n\u001b[1;32m   1922\u001b[0m                     \u001b[0mcol_dict\u001b[0m\u001b[0;34m,\u001b[0m\u001b[0;34m\u001b[0m\u001b[0;34m\u001b[0m\u001b[0m\n\u001b[0;32m-> 1923\u001b[0;31m                 \u001b[0;34m)\u001b[0m \u001b[0;34m=\u001b[0m \u001b[0mself\u001b[0m\u001b[0;34m.\u001b[0m\u001b[0m_engine\u001b[0m\u001b[0;34m.\u001b[0m\u001b[0mread\u001b[0m\u001b[0;34m(\u001b[0m  \u001b[0;31m# type: ignore[attr-defined]\u001b[0m\u001b[0;34m\u001b[0m\u001b[0;34m\u001b[0m\u001b[0m\n\u001b[0m\u001b[1;32m   1924\u001b[0m                     \u001b[0mnrows\u001b[0m\u001b[0;34m\u001b[0m\u001b[0;34m\u001b[0m\u001b[0m\n\u001b[1;32m   1925\u001b[0m                 )\n",
            "\u001b[0;32m/usr/local/lib/python3.10/dist-packages/pandas/io/parsers/c_parser_wrapper.py\u001b[0m in \u001b[0;36mread\u001b[0;34m(self, nrows)\u001b[0m\n\u001b[1;32m    232\u001b[0m         \u001b[0;32mtry\u001b[0m\u001b[0;34m:\u001b[0m\u001b[0;34m\u001b[0m\u001b[0;34m\u001b[0m\u001b[0m\n\u001b[1;32m    233\u001b[0m             \u001b[0;32mif\u001b[0m \u001b[0mself\u001b[0m\u001b[0;34m.\u001b[0m\u001b[0mlow_memory\u001b[0m\u001b[0;34m:\u001b[0m\u001b[0;34m\u001b[0m\u001b[0;34m\u001b[0m\u001b[0m\n\u001b[0;32m--> 234\u001b[0;31m                 \u001b[0mchunks\u001b[0m \u001b[0;34m=\u001b[0m \u001b[0mself\u001b[0m\u001b[0;34m.\u001b[0m\u001b[0m_reader\u001b[0m\u001b[0;34m.\u001b[0m\u001b[0mread_low_memory\u001b[0m\u001b[0;34m(\u001b[0m\u001b[0mnrows\u001b[0m\u001b[0;34m)\u001b[0m\u001b[0;34m\u001b[0m\u001b[0;34m\u001b[0m\u001b[0m\n\u001b[0m\u001b[1;32m    235\u001b[0m                 \u001b[0;31m# destructive to chunks\u001b[0m\u001b[0;34m\u001b[0m\u001b[0;34m\u001b[0m\u001b[0m\n\u001b[1;32m    236\u001b[0m                 \u001b[0mdata\u001b[0m \u001b[0;34m=\u001b[0m \u001b[0m_concatenate_chunks\u001b[0m\u001b[0;34m(\u001b[0m\u001b[0mchunks\u001b[0m\u001b[0;34m)\u001b[0m\u001b[0;34m\u001b[0m\u001b[0;34m\u001b[0m\u001b[0m\n",
            "\u001b[0;32mparsers.pyx\u001b[0m in \u001b[0;36mpandas._libs.parsers.TextReader.read_low_memory\u001b[0;34m()\u001b[0m\n",
            "\u001b[0;32mparsers.pyx\u001b[0m in \u001b[0;36mpandas._libs.parsers.TextReader._read_rows\u001b[0;34m()\u001b[0m\n",
            "\u001b[0;32mparsers.pyx\u001b[0m in \u001b[0;36mpandas._libs.parsers.TextReader._tokenize_rows\u001b[0;34m()\u001b[0m\n",
            "\u001b[0;32mparsers.pyx\u001b[0m in \u001b[0;36mpandas._libs.parsers.TextReader._check_tokenize_status\u001b[0;34m()\u001b[0m\n",
            "\u001b[0;32mparsers.pyx\u001b[0m in \u001b[0;36mpandas._libs.parsers.raise_parser_error\u001b[0;34m()\u001b[0m\n",
            "\u001b[0;31mParserError\u001b[0m: Error tokenizing data. C error: Expected 1 fields in line 45708, saw 2\n"
          ]
        }
      ]
    },
    {
      "cell_type": "code",
      "execution_count": null,
      "metadata": {
        "id": "rua4C1yniNSM"
      },
      "outputs": [],
      "source": [
        "dataframe_total.sample(3)"
      ]
    },
    {
      "cell_type": "code",
      "execution_count": null,
      "metadata": {
        "id": "UYZ9tChwieV6"
      },
      "outputs": [],
      "source": [
        "dataframe_total.groupby('COD_PAI4')\\\n",
        "  .count()['CANTI']   \\\n",
        "  .sort_values()      \\\n",
        "  .iloc[-10:]         \\\n",
        "  .plot.bar();"
      ]
    },
    {
      "cell_type": "markdown",
      "metadata": {
        "id": "_8uLDuyoa1co"
      },
      "source": [
        "### Ejercicio GSheets\n",
        "\n",
        "1) Tomar la siguiente lista de temas  \n",
        "2) Crear una carpeta con su nombre en \"title case\"  \n",
        "3) Dentro de cada carpeta, guardar los datos de tendencias para el día de hoy  "
      ]
    },
    {
      "cell_type": "code",
      "execution_count": 61,
      "metadata": {
        "id": "W2A8zPTP3tUh"
      },
      "outputs": [],
      "source": [
        "temas = ['Python', 'IA', 'Meditación', 'Jazz Rock', 'Sustentabilidad', 'Neurociencias']"
      ]
    },
    {
      "cell_type": "markdown",
      "metadata": {
        "id": "j5cS3apfAYVB"
      },
      "source": [
        "La siguiente celda prepara y define una función _get_trends_ para buscar tendencias de Google. La misma recibe una búsqueda y devuelve un diccionario con los datos de las tendencias."
      ]
    },
    {
      "cell_type": "code",
      "execution_count": 62,
      "metadata": {
        "id": "LAiwUTATaBvu",
        "colab": {
          "base_uri": "https://localhost:8080/"
        },
        "outputId": "e4cf4ef7-0491-4564-eec6-68b47527c36d"
      },
      "outputs": [
        {
          "output_type": "stream",
          "name": "stdout",
          "text": [
            "Collecting pytrends\n",
            "  Downloading pytrends-4.9.2-py3-none-any.whl.metadata (13 kB)\n",
            "Requirement already satisfied: requests>=2.0 in /usr/local/lib/python3.10/dist-packages (from pytrends) (2.32.3)\n",
            "Requirement already satisfied: pandas>=0.25 in /usr/local/lib/python3.10/dist-packages (from pytrends) (2.2.2)\n",
            "Requirement already satisfied: lxml in /usr/local/lib/python3.10/dist-packages (from pytrends) (5.3.0)\n",
            "Requirement already satisfied: numpy>=1.22.4 in /usr/local/lib/python3.10/dist-packages (from pandas>=0.25->pytrends) (1.26.4)\n",
            "Requirement already satisfied: python-dateutil>=2.8.2 in /usr/local/lib/python3.10/dist-packages (from pandas>=0.25->pytrends) (2.8.2)\n",
            "Requirement already satisfied: pytz>=2020.1 in /usr/local/lib/python3.10/dist-packages (from pandas>=0.25->pytrends) (2024.2)\n",
            "Requirement already satisfied: tzdata>=2022.7 in /usr/local/lib/python3.10/dist-packages (from pandas>=0.25->pytrends) (2024.2)\n",
            "Requirement already satisfied: charset-normalizer<4,>=2 in /usr/local/lib/python3.10/dist-packages (from requests>=2.0->pytrends) (3.4.0)\n",
            "Requirement already satisfied: idna<4,>=2.5 in /usr/local/lib/python3.10/dist-packages (from requests>=2.0->pytrends) (3.10)\n",
            "Requirement already satisfied: urllib3<3,>=1.21.1 in /usr/local/lib/python3.10/dist-packages (from requests>=2.0->pytrends) (2.2.3)\n",
            "Requirement already satisfied: certifi>=2017.4.17 in /usr/local/lib/python3.10/dist-packages (from requests>=2.0->pytrends) (2024.12.14)\n",
            "Requirement already satisfied: six>=1.5 in /usr/local/lib/python3.10/dist-packages (from python-dateutil>=2.8.2->pandas>=0.25->pytrends) (1.17.0)\n",
            "Downloading pytrends-4.9.2-py3-none-any.whl (15 kB)\n",
            "Installing collected packages: pytrends\n",
            "Successfully installed pytrends-4.9.2\n"
          ]
        }
      ],
      "source": [
        "!pip install pytrends\n",
        "\n",
        "import pandas as pd\n",
        "from pytrends.request import TrendReq\n",
        "\n",
        "def get_trends(query):\n",
        "    pytrend = TrendReq()\n",
        "    pytrend.build_payload(kw_list=[query])\n",
        "    df = pytrend.interest_by_region()\n",
        "    return df.sort_values(query, ascending=False)[query].to_dict()"
      ]
    },
    {
      "cell_type": "markdown",
      "metadata": {
        "id": "0hMmR3trAddM"
      },
      "source": [
        "Ahora sí, recorrer la lista de temas y:\n",
        "\n",
        "- Buscar las tendencias con la función get_trends\n",
        "- Si no existe ya la carpeta para ese tema, crearla\n",
        "- Crear un archivo .txt o .csv con los datos buscados dentro de esa carpeta"
      ]
    },
    {
      "cell_type": "code",
      "execution_count": 63,
      "metadata": {
        "id": "EyRBaiRsaPFd",
        "colab": {
          "base_uri": "https://localhost:8080/"
        },
        "outputId": "dfb8cbe0-6b38-4c61-b327-c48a90b2316f"
      },
      "outputs": [
        {
          "output_type": "execute_result",
          "data": {
            "text/plain": [
              "{'Romania': 100,\n",
              " 'Indonesia': 79,\n",
              " 'Bolivia': 69,\n",
              " 'Peru': 68,\n",
              " 'Ecuador': 64,\n",
              " 'Colombia': 54,\n",
              " 'El Salvador': 53,\n",
              " 'Panama': 48,\n",
              " 'Venezuela': 46,\n",
              " 'United States': 43,\n",
              " 'Chile': 43,\n",
              " 'Moldova': 43,\n",
              " 'Brazil': 40,\n",
              " 'Costa Rica': 40,\n",
              " 'Spain': 40,\n",
              " 'Uruguay': 40,\n",
              " 'Guatemala': 39,\n",
              " 'Paraguay': 37,\n",
              " 'Honduras': 37,\n",
              " 'Mexico': 34,\n",
              " 'Argentina': 32,\n",
              " 'Dominican Republic': 31,\n",
              " 'France': 30,\n",
              " 'Canada': 22,\n",
              " 'Portugal': 21,\n",
              " 'Nigeria': 16,\n",
              " 'Morocco': 14,\n",
              " 'Philippines': 14,\n",
              " 'Belgium': 12,\n",
              " 'Hong Kong': 11,\n",
              " 'Singapore': 11,\n",
              " 'Italy': 10,\n",
              " 'New Zealand': 10,\n",
              " 'United Arab Emirates': 10,\n",
              " 'Pakistan': 10,\n",
              " 'United Kingdom': 9,\n",
              " 'Switzerland': 9,\n",
              " 'Malaysia': 9,\n",
              " 'Australia': 9,\n",
              " 'Ireland': 8,\n",
              " 'South Africa': 8,\n",
              " 'Vietnam': 7,\n",
              " 'Norway': 7,\n",
              " 'Poland': 7,\n",
              " 'India': 7,\n",
              " 'Sweden': 6,\n",
              " 'Netherlands': 5,\n",
              " 'Greece': 5,\n",
              " 'South Korea': 4,\n",
              " 'Germany': 2,\n",
              " 'Thailand': 2,\n",
              " 'Russia': 1,\n",
              " 'Türkiye': 1,\n",
              " 'Japan': 1,\n",
              " 'Palestine': 0,\n",
              " 'Pitcairn Islands': 0,\n",
              " 'Qatar': 0,\n",
              " 'Puerto Rico': 0,\n",
              " 'Papua New Guinea': 0,\n",
              " 'Afghanistan': 0,\n",
              " 'Palau': 0,\n",
              " 'Oman': 0,\n",
              " 'Mauritius': 0,\n",
              " 'Mayotte': 0,\n",
              " 'Micronesia': 0,\n",
              " 'Monaco': 0,\n",
              " 'Mongolia': 0,\n",
              " 'Montenegro': 0,\n",
              " 'Montserrat': 0,\n",
              " 'Mozambique': 0,\n",
              " 'Myanmar (Burma)': 0,\n",
              " 'Namibia': 0,\n",
              " 'Nauru': 0,\n",
              " 'Nepal': 0,\n",
              " 'New Caledonia': 0,\n",
              " 'Nicaragua': 0,\n",
              " 'Niger': 0,\n",
              " 'Niue': 0,\n",
              " 'Norfolk Island': 0,\n",
              " 'North Macedonia': 0,\n",
              " 'Northern Mariana Islands': 0,\n",
              " 'North Korea': 0,\n",
              " 'Slovenia': 0,\n",
              " 'Rwanda': 0,\n",
              " 'Tuvalu': 0,\n",
              " 'Taiwan': 0,\n",
              " 'Tajikistan': 0,\n",
              " 'Tanzania': 0,\n",
              " 'Timor-Leste': 0,\n",
              " 'Togo': 0,\n",
              " 'Tokelau': 0,\n",
              " 'Tonga': 0,\n",
              " 'Trinidad & Tobago': 0,\n",
              " 'Tunisia': 0,\n",
              " 'Turkmenistan': 0,\n",
              " 'Turks & Caicos Islands': 0,\n",
              " 'U.S. Outlying Islands': 0,\n",
              " 'Réunion': 0,\n",
              " 'U.S. Virgin Islands': 0,\n",
              " 'Uganda': 0,\n",
              " 'Ukraine': 0,\n",
              " 'Uzbekistan': 0,\n",
              " 'Vanuatu': 0,\n",
              " 'Vatican City': 0,\n",
              " 'Wallis & Futuna': 0,\n",
              " 'Western Sahara': 0,\n",
              " 'Yemen': 0,\n",
              " 'Zambia': 0,\n",
              " 'Zimbabwe': 0,\n",
              " 'São Tomé & Príncipe': 0,\n",
              " 'Syria': 0,\n",
              " 'Svalbard & Jan Mayen': 0,\n",
              " 'Suriname': 0,\n",
              " 'Samoa': 0,\n",
              " 'San Marino': 0,\n",
              " 'Saudi Arabia': 0,\n",
              " 'Senegal': 0,\n",
              " 'Serbia': 0,\n",
              " 'Seychelles': 0,\n",
              " 'Sierra Leone': 0,\n",
              " 'Sint Maarten': 0,\n",
              " 'Slovakia': 0,\n",
              " 'Martinique': 0,\n",
              " 'Solomon Islands': 0,\n",
              " 'Somalia': 0,\n",
              " 'South Georgia & South Sandwich Islands': 0,\n",
              " 'South Sudan': 0,\n",
              " 'Sri Lanka': 0,\n",
              " 'St. Barthélemy': 0,\n",
              " 'St. Helena': 0,\n",
              " 'St. Kitts & Nevis': 0,\n",
              " 'St. Lucia': 0,\n",
              " 'St. Martin': 0,\n",
              " 'St. Pierre & Miquelon': 0,\n",
              " 'St. Vincent & Grenadines': 0,\n",
              " 'Sudan': 0,\n",
              " 'Mauritania': 0,\n",
              " 'Libya': 0,\n",
              " 'Marshall Islands': 0,\n",
              " 'Malta': 0,\n",
              " 'Burundi': 0,\n",
              " 'Cambodia': 0,\n",
              " 'Cameroon': 0,\n",
              " 'Cape Verde': 0,\n",
              " 'Caribbean Netherlands': 0,\n",
              " 'Cayman Islands': 0,\n",
              " 'Central African Republic': 0,\n",
              " 'Chad': 0,\n",
              " 'China': 0,\n",
              " 'Christmas Island': 0,\n",
              " 'Cocos (Keeling) Islands': 0,\n",
              " 'Comoros': 0,\n",
              " 'Congo - Brazzaville': 0,\n",
              " 'Congo - Kinshasa': 0,\n",
              " 'Cook Islands': 0,\n",
              " 'Croatia': 0,\n",
              " 'Cuba': 0,\n",
              " 'Curaçao': 0,\n",
              " 'Cyprus': 0,\n",
              " 'Czechia': 0,\n",
              " 'Côte d’Ivoire': 0,\n",
              " 'Denmark': 0,\n",
              " 'Djibouti': 0,\n",
              " 'Dominica': 0,\n",
              " 'Egypt': 0,\n",
              " 'Burkina Faso': 0,\n",
              " 'Bulgaria': 0,\n",
              " 'Brunei': 0,\n",
              " 'Bahamas': 0,\n",
              " 'Algeria': 0,\n",
              " 'American Samoa': 0,\n",
              " 'Andorra': 0,\n",
              " 'Angola': 0,\n",
              " 'Anguilla': 0,\n",
              " 'Antarctica': 0,\n",
              " 'Antigua & Barbuda': 0,\n",
              " 'Armenia': 0,\n",
              " 'Aruba': 0,\n",
              " 'Austria': 0,\n",
              " 'Azerbaijan': 0,\n",
              " 'Bahrain': 0,\n",
              " 'British Virgin Islands': 0,\n",
              " 'Bangladesh': 0,\n",
              " 'Barbados': 0,\n",
              " 'Belarus': 0,\n",
              " 'Belize': 0,\n",
              " 'Benin': 0,\n",
              " 'Bermuda': 0,\n",
              " 'Bhutan': 0,\n",
              " 'Bosnia & Herzegovina': 0,\n",
              " 'Botswana': 0,\n",
              " 'Bouvet Island': 0,\n",
              " 'British Indian Ocean Territory': 0,\n",
              " 'Equatorial Guinea': 0,\n",
              " 'Eritrea': 0,\n",
              " 'Estonia': 0,\n",
              " 'Latvia': 0,\n",
              " 'Israel': 0,\n",
              " 'Jamaica': 0,\n",
              " 'Jersey': 0,\n",
              " 'Jordan': 0,\n",
              " 'Kazakhstan': 0,\n",
              " 'Kenya': 0,\n",
              " 'Kiribati': 0,\n",
              " 'Kosovo': 0,\n",
              " 'Kuwait': 0,\n",
              " 'Kyrgyzstan': 0,\n",
              " 'Laos': 0,\n",
              " 'Lebanon': 0,\n",
              " 'Iraq': 0,\n",
              " 'Lesotho': 0,\n",
              " 'Liberia': 0,\n",
              " 'Albania': 0,\n",
              " 'Liechtenstein': 0,\n",
              " 'Lithuania': 0,\n",
              " 'Luxembourg': 0,\n",
              " 'Macao': 0,\n",
              " 'Madagascar': 0,\n",
              " 'Malawi': 0,\n",
              " 'Maldives': 0,\n",
              " 'Mali': 0,\n",
              " 'Isle of Man': 0,\n",
              " 'Iran': 0,\n",
              " 'Eswatini': 0,\n",
              " 'Ghana': 0,\n",
              " 'Ethiopia': 0,\n",
              " 'Falkland Islands (Islas Malvinas)': 0,\n",
              " 'Faroe Islands': 0,\n",
              " 'Fiji': 0,\n",
              " 'Finland': 0,\n",
              " 'French Guiana': 0,\n",
              " 'French Polynesia': 0,\n",
              " 'French Southern Territories': 0,\n",
              " 'Gabon': 0,\n",
              " 'Gambia': 0,\n",
              " 'Georgia': 0,\n",
              " 'Gibraltar': 0,\n",
              " 'Iceland': 0,\n",
              " 'Greenland': 0,\n",
              " 'Grenada': 0,\n",
              " 'Guadeloupe': 0,\n",
              " 'Guam': 0,\n",
              " 'Guernsey': 0,\n",
              " 'Guinea': 0,\n",
              " 'Guinea-Bissau': 0,\n",
              " 'Guyana': 0,\n",
              " 'Haiti': 0,\n",
              " 'Heard & McDonald Islands': 0,\n",
              " 'Hungary': 0,\n",
              " 'Åland Islands': 0}"
            ]
          },
          "metadata": {},
          "execution_count": 63
        }
      ],
      "source": [
        "# Ejemplo\n",
        "query = 'IA'\n",
        "tendencias = get_trends(query)\n",
        "tendencias"
      ]
    },
    {
      "cell_type": "code",
      "execution_count": 64,
      "metadata": {
        "id": "r-fEHUb40BBk",
        "colab": {
          "base_uri": "https://localhost:8080/"
        },
        "outputId": "03268532-22c2-4a76-d8ba-d4507265dc5b"
      },
      "outputs": [
        {
          "output_type": "execute_result",
          "data": {
            "text/plain": [
              "32"
            ]
          },
          "metadata": {},
          "execution_count": 64
        }
      ],
      "source": [
        "tendencias['Argentina']"
      ]
    },
    {
      "cell_type": "code",
      "execution_count": 65,
      "metadata": {
        "id": "V5LkTtpgXTCB",
        "colab": {
          "base_uri": "https://localhost:8080/",
          "height": 36
        },
        "outputId": "020a2c65-9363-4bc7-8022-d7d71bce75ca"
      },
      "outputs": [
        {
          "output_type": "execute_result",
          "data": {
            "text/plain": [
              "'01-01-25'"
            ],
            "application/vnd.google.colaboratory.intrinsic+json": {
              "type": "string"
            }
          },
          "metadata": {},
          "execution_count": 65
        }
      ],
      "source": [
        "from datetime import datetime\n",
        "\n",
        "fecha = datetime.now().strftime('%d-%m-%y')\n",
        "fecha"
      ]
    },
    {
      "cell_type": "code",
      "execution_count": 70,
      "metadata": {
        "id": "9gN__Bbj28k1"
      },
      "outputs": [],
      "source": [
        "for t in temas:\n",
        "   if not os.path.exists(fecha):\n",
        "    os.makedirs(fecha)\n",
        "\n",
        "    tendencias  * get.trends(t)\n",
        "    ruta = fecha + '/' + f\"{t}.txt\"\n",
        "\n",
        "    print('f Creando {ruta}')\n",
        "    with open(ruta, 'w+') as out:\n",
        "      out.write(str(tendencias))\n"
      ]
    },
    {
      "cell_type": "code",
      "execution_count": 72,
      "metadata": {
        "cellView": "code",
        "id": "Z-40TGV6y9PG",
        "colab": {
          "base_uri": "https://localhost:8080/"
        },
        "outputId": "6d5575d6-d9c6-4913-f20a-4b0ea66ee489"
      },
      "outputs": [
        {
          "output_type": "stream",
          "name": "stdout",
          "text": [
            "{'Romania': 100, 'Indonesia': 79, 'Bolivia': 69, 'Peru': 68, 'Ecuador': 64, 'Colombia': 54, 'El Salvador': 53, 'Panama': 48, 'Venezuela': 46, 'United States': 43, 'Chile': 43, 'Moldova': 43, 'Brazil': 40, 'Costa Rica': 40, 'Spain': 40, 'Uruguay': 40, 'Guatemala': 39, 'Paraguay': 37, 'Honduras': 37, 'Mexico': 34, 'Argentina': 32, 'Dominican Republic': 31, 'France': 30, 'Canada': 22, 'Portugal': 21, 'Nigeria': 16, 'Morocco': 14, 'Philippines': 14, 'Belgium': 12, 'Hong Kong': 11, 'Singapore': 11, 'Italy': 10, 'New Zealand': 10, 'United Arab Emirates': 10, 'Pakistan': 10, 'United Kingdom': 9, 'Switzerland': 9, 'Malaysia': 9, 'Australia': 9, 'Ireland': 8, 'South Africa': 8, 'Vietnam': 7, 'Norway': 7, 'Poland': 7, 'India': 7, 'Sweden': 6, 'Netherlands': 5, 'Greece': 5, 'South Korea': 4, 'Germany': 2, 'Thailand': 2, 'Russia': 1, 'Türkiye': 1, 'Japan': 1, 'Palestine': 0, 'Pitcairn Islands': 0, 'Qatar': 0, 'Puerto Rico': 0, 'Papua New Guinea': 0, 'Afghanistan': 0, 'Palau': 0, 'Oman': 0, 'Mauritius': 0, 'Mayotte': 0, 'Micronesia': 0, 'Monaco': 0, 'Mongolia': 0, 'Montenegro': 0, 'Montserrat': 0, 'Mozambique': 0, 'Myanmar (Burma)': 0, 'Namibia': 0, 'Nauru': 0, 'Nepal': 0, 'New Caledonia': 0, 'Nicaragua': 0, 'Niger': 0, 'Niue': 0, 'Norfolk Island': 0, 'North Macedonia': 0, 'Northern Mariana Islands': 0, 'North Korea': 0, 'Slovenia': 0, 'Rwanda': 0, 'Tuvalu': 0, 'Taiwan': 0, 'Tajikistan': 0, 'Tanzania': 0, 'Timor-Leste': 0, 'Togo': 0, 'Tokelau': 0, 'Tonga': 0, 'Trinidad & Tobago': 0, 'Tunisia': 0, 'Turkmenistan': 0, 'Turks & Caicos Islands': 0, 'U.S. Outlying Islands': 0, 'Réunion': 0, 'U.S. Virgin Islands': 0, 'Uganda': 0, 'Ukraine': 0, 'Uzbekistan': 0, 'Vanuatu': 0, 'Vatican City': 0, 'Wallis & Futuna': 0, 'Western Sahara': 0, 'Yemen': 0, 'Zambia': 0, 'Zimbabwe': 0, 'São Tomé & Príncipe': 0, 'Syria': 0, 'Svalbard & Jan Mayen': 0, 'Suriname': 0, 'Samoa': 0, 'San Marino': 0, 'Saudi Arabia': 0, 'Senegal': 0, 'Serbia': 0, 'Seychelles': 0, 'Sierra Leone': 0, 'Sint Maarten': 0, 'Slovakia': 0, 'Martinique': 0, 'Solomon Islands': 0, 'Somalia': 0, 'South Georgia & South Sandwich Islands': 0, 'South Sudan': 0, 'Sri Lanka': 0, 'St. Barthélemy': 0, 'St. Helena': 0, 'St. Kitts & Nevis': 0, 'St. Lucia': 0, 'St. Martin': 0, 'St. Pierre & Miquelon': 0, 'St. Vincent & Grenadines': 0, 'Sudan': 0, 'Mauritania': 0, 'Libya': 0, 'Marshall Islands': 0, 'Malta': 0, 'Burundi': 0, 'Cambodia': 0, 'Cameroon': 0, 'Cape Verde': 0, 'Caribbean Netherlands': 0, 'Cayman Islands': 0, 'Central African Republic': 0, 'Chad': 0, 'China': 0, 'Christmas Island': 0, 'Cocos (Keeling) Islands': 0, 'Comoros': 0, 'Congo - Brazzaville': 0, 'Congo - Kinshasa': 0, 'Cook Islands': 0, 'Croatia': 0, 'Cuba': 0, 'Curaçao': 0, 'Cyprus': 0, 'Czechia': 0, 'Côte d’Ivoire': 0, 'Denmark': 0, 'Djibouti': 0, 'Dominica': 0, 'Egypt': 0, 'Burkina Faso': 0, 'Bulgaria': 0, 'Brunei': 0, 'Bahamas': 0, 'Algeria': 0, 'American Samoa': 0, 'Andorra': 0, 'Angola': 0, 'Anguilla': 0, 'Antarctica': 0, 'Antigua & Barbuda': 0, 'Armenia': 0, 'Aruba': 0, 'Austria': 0, 'Azerbaijan': 0, 'Bahrain': 0, 'British Virgin Islands': 0, 'Bangladesh': 0, 'Barbados': 0, 'Belarus': 0, 'Belize': 0, 'Benin': 0, 'Bermuda': 0, 'Bhutan': 0, 'Bosnia & Herzegovina': 0, 'Botswana': 0, 'Bouvet Island': 0, 'British Indian Ocean Territory': 0, 'Equatorial Guinea': 0, 'Eritrea': 0, 'Estonia': 0, 'Latvia': 0, 'Israel': 0, 'Jamaica': 0, 'Jersey': 0, 'Jordan': 0, 'Kazakhstan': 0, 'Kenya': 0, 'Kiribati': 0, 'Kosovo': 0, 'Kuwait': 0, 'Kyrgyzstan': 0, 'Laos': 0, 'Lebanon': 0, 'Iraq': 0, 'Lesotho': 0, 'Liberia': 0, 'Albania': 0, 'Liechtenstein': 0, 'Lithuania': 0, 'Luxembourg': 0, 'Macao': 0, 'Madagascar': 0, 'Malawi': 0, 'Maldives': 0, 'Mali': 0, 'Isle of Man': 0, 'Iran': 0, 'Eswatini': 0, 'Ghana': 0, 'Ethiopia': 0, 'Falkland Islands (Islas Malvinas)': 0, 'Faroe Islands': 0, 'Fiji': 0, 'Finland': 0, 'French Guiana': 0, 'French Polynesia': 0, 'French Southern Territories': 0, 'Gabon': 0, 'Gambia': 0, 'Georgia': 0, 'Gibraltar': 0, 'Iceland': 0, 'Greenland': 0, 'Grenada': 0, 'Guadeloupe': 0, 'Guam': 0, 'Guernsey': 0, 'Guinea': 0, 'Guinea-Bissau': 0, 'Guyana': 0, 'Haiti': 0, 'Heard & McDonald Islands': 0, 'Hungary': 0, 'Åland Islands': 0}\n"
          ]
        }
      ],
      "source": [
        "#@title Respuesta\n",
        "base = '/content/tendencias'\n",
        "for tema in temas:\n",
        "  tendencias = get_trends(tema)\n",
        "  tema_dir = base + '/' + tema\n",
        "  if not os.path.exists(tema_dir):\n",
        "    os.makedirs(tema_dir)\n",
        "    os.chdir(tema_dir)\n",
        "\n",
        "    with open(f'{tema}.txt', 'w+') as f:\n",
        "      f.write(str(tendencias))\n",
        "\n",
        "# # Para probarlo\n",
        "with open('/content/tendencias/IA/IA.txt', 'r') as f:\n",
        "     print(f.read())"
      ]
    },
    {
      "cell_type": "code",
      "execution_count": 73,
      "metadata": {
        "id": "uRCyGeNpzBLn",
        "colab": {
          "base_uri": "https://localhost:8080/"
        },
        "outputId": "3ed27003-98ed-4d4d-ccdd-3f45b7d2fbf5"
      },
      "outputs": [
        {
          "output_type": "stream",
          "name": "stdout",
          "text": [
            "{'Romania': 100, 'Indonesia': 79, 'Bolivia': 69, 'Peru': 68, 'Ecuador': 64, 'Colombia': 54, 'El Salvador': 53, 'Panama': 48, 'Venezuela': 46, 'United States': 43, 'Chile': 43, 'Moldova': 43, 'Brazil': 40, 'Costa Rica': 40, 'Spain': 40, 'Uruguay': 40, 'Guatemala': 39, 'Paraguay': 37, 'Honduras': 37, 'Mexico': 34, 'Argentina': 32, 'Dominican Republic': 31, 'France': 30, 'Canada': 22, 'Portugal': 21, 'Nigeria': 16, 'Morocco': 14, 'Philippines': 14, 'Belgium': 12, 'Hong Kong': 11, 'Singapore': 11, 'Italy': 10, 'New Zealand': 10, 'United Arab Emirates': 10, 'Pakistan': 10, 'United Kingdom': 9, 'Switzerland': 9, 'Malaysia': 9, 'Australia': 9, 'Ireland': 8, 'South Africa': 8, 'Vietnam': 7, 'Norway': 7, 'Poland': 7, 'India': 7, 'Sweden': 6, 'Netherlands': 5, 'Greece': 5, 'South Korea': 4, 'Germany': 2, 'Thailand': 2, 'Russia': 1, 'Türkiye': 1, 'Japan': 1, 'Palestine': 0, 'Pitcairn Islands': 0, 'Qatar': 0, 'Puerto Rico': 0, 'Papua New Guinea': 0, 'Afghanistan': 0, 'Palau': 0, 'Oman': 0, 'Mauritius': 0, 'Mayotte': 0, 'Micronesia': 0, 'Monaco': 0, 'Mongolia': 0, 'Montenegro': 0, 'Montserrat': 0, 'Mozambique': 0, 'Myanmar (Burma)': 0, 'Namibia': 0, 'Nauru': 0, 'Nepal': 0, 'New Caledonia': 0, 'Nicaragua': 0, 'Niger': 0, 'Niue': 0, 'Norfolk Island': 0, 'North Macedonia': 0, 'Northern Mariana Islands': 0, 'North Korea': 0, 'Slovenia': 0, 'Rwanda': 0, 'Tuvalu': 0, 'Taiwan': 0, 'Tajikistan': 0, 'Tanzania': 0, 'Timor-Leste': 0, 'Togo': 0, 'Tokelau': 0, 'Tonga': 0, 'Trinidad & Tobago': 0, 'Tunisia': 0, 'Turkmenistan': 0, 'Turks & Caicos Islands': 0, 'U.S. Outlying Islands': 0, 'Réunion': 0, 'U.S. Virgin Islands': 0, 'Uganda': 0, 'Ukraine': 0, 'Uzbekistan': 0, 'Vanuatu': 0, 'Vatican City': 0, 'Wallis & Futuna': 0, 'Western Sahara': 0, 'Yemen': 0, 'Zambia': 0, 'Zimbabwe': 0, 'São Tomé & Príncipe': 0, 'Syria': 0, 'Svalbard & Jan Mayen': 0, 'Suriname': 0, 'Samoa': 0, 'San Marino': 0, 'Saudi Arabia': 0, 'Senegal': 0, 'Serbia': 0, 'Seychelles': 0, 'Sierra Leone': 0, 'Sint Maarten': 0, 'Slovakia': 0, 'Martinique': 0, 'Solomon Islands': 0, 'Somalia': 0, 'South Georgia & South Sandwich Islands': 0, 'South Sudan': 0, 'Sri Lanka': 0, 'St. Barthélemy': 0, 'St. Helena': 0, 'St. Kitts & Nevis': 0, 'St. Lucia': 0, 'St. Martin': 0, 'St. Pierre & Miquelon': 0, 'St. Vincent & Grenadines': 0, 'Sudan': 0, 'Mauritania': 0, 'Libya': 0, 'Marshall Islands': 0, 'Malta': 0, 'Burundi': 0, 'Cambodia': 0, 'Cameroon': 0, 'Cape Verde': 0, 'Caribbean Netherlands': 0, 'Cayman Islands': 0, 'Central African Republic': 0, 'Chad': 0, 'China': 0, 'Christmas Island': 0, 'Cocos (Keeling) Islands': 0, 'Comoros': 0, 'Congo - Brazzaville': 0, 'Congo - Kinshasa': 0, 'Cook Islands': 0, 'Croatia': 0, 'Cuba': 0, 'Curaçao': 0, 'Cyprus': 0, 'Czechia': 0, 'Côte d’Ivoire': 0, 'Denmark': 0, 'Djibouti': 0, 'Dominica': 0, 'Egypt': 0, 'Burkina Faso': 0, 'Bulgaria': 0, 'Brunei': 0, 'Bahamas': 0, 'Algeria': 0, 'American Samoa': 0, 'Andorra': 0, 'Angola': 0, 'Anguilla': 0, 'Antarctica': 0, 'Antigua & Barbuda': 0, 'Armenia': 0, 'Aruba': 0, 'Austria': 0, 'Azerbaijan': 0, 'Bahrain': 0, 'British Virgin Islands': 0, 'Bangladesh': 0, 'Barbados': 0, 'Belarus': 0, 'Belize': 0, 'Benin': 0, 'Bermuda': 0, 'Bhutan': 0, 'Bosnia & Herzegovina': 0, 'Botswana': 0, 'Bouvet Island': 0, 'British Indian Ocean Territory': 0, 'Equatorial Guinea': 0, 'Eritrea': 0, 'Estonia': 0, 'Latvia': 0, 'Israel': 0, 'Jamaica': 0, 'Jersey': 0, 'Jordan': 0, 'Kazakhstan': 0, 'Kenya': 0, 'Kiribati': 0, 'Kosovo': 0, 'Kuwait': 0, 'Kyrgyzstan': 0, 'Laos': 0, 'Lebanon': 0, 'Iraq': 0, 'Lesotho': 0, 'Liberia': 0, 'Albania': 0, 'Liechtenstein': 0, 'Lithuania': 0, 'Luxembourg': 0, 'Macao': 0, 'Madagascar': 0, 'Malawi': 0, 'Maldives': 0, 'Mali': 0, 'Isle of Man': 0, 'Iran': 0, 'Eswatini': 0, 'Ghana': 0, 'Ethiopia': 0, 'Falkland Islands (Islas Malvinas)': 0, 'Faroe Islands': 0, 'Fiji': 0, 'Finland': 0, 'French Guiana': 0, 'French Polynesia': 0, 'French Southern Territories': 0, 'Gabon': 0, 'Gambia': 0, 'Georgia': 0, 'Gibraltar': 0, 'Iceland': 0, 'Greenland': 0, 'Grenada': 0, 'Guadeloupe': 0, 'Guam': 0, 'Guernsey': 0, 'Guinea': 0, 'Guinea-Bissau': 0, 'Guyana': 0, 'Haiti': 0, 'Heard & McDonald Islands': 0, 'Hungary': 0, 'Åland Islands': 0}\n"
          ]
        }
      ],
      "source": [
        "with open('/content/tendencias/IA/IA.txt', 'r') as f:\n",
        "  print(f.read())"
      ]
    }
  ],
  "metadata": {
    "colab": {
      "provenance": [],
      "include_colab_link": true
    },
    "kernelspec": {
      "display_name": "Python 3",
      "language": "python",
      "name": "python3"
    },
    "language_info": {
      "codemirror_mode": {
        "name": "ipython",
        "version": 3
      },
      "file_extension": ".py",
      "mimetype": "text/x-python",
      "name": "python",
      "nbconvert_exporter": "python",
      "pygments_lexer": "ipython3",
      "version": "3.8.5"
    }
  },
  "nbformat": 4,
  "nbformat_minor": 0
}