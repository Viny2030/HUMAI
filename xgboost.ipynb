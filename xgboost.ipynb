{
  "cells": [
    {
      "cell_type": "markdown",
      "metadata": {
        "id": "view-in-github",
        "colab_type": "text"
      },
      "source": [
        "<a href=\"https://colab.research.google.com/github/Viny2030/HUMAI/blob/main/xgboost.ipynb\" target=\"_parent\"><img src=\"https://colab.research.google.com/assets/colab-badge.svg\" alt=\"Open In Colab\"/></a>"
      ]
    },
    {
      "cell_type": "markdown",
      "metadata": {
        "id": "jCN0lBRZhYMF"
      },
      "source": [
        "<a href=\"https://colab.research.google.com/github/institutohumai/machine_learning/blob/main/7_XGBoost/xgboost.ipynb\"> <img src='https://colab.research.google.com/assets/colab-badge.svg' /> </a>\n",
        "<div align=\"center\"> Recordá abrir en una nueva pestaña </div>"
      ]
    },
    {
      "cell_type": "markdown",
      "metadata": {
        "id": "BFsO_PBt7zaf"
      },
      "source": [
        "# XGBoost"
      ]
    },
    {
      "cell_type": "code",
      "execution_count": 1,
      "metadata": {
        "colab": {
          "base_uri": "https://localhost:8080/"
        },
        "id": "dRLlHyPqJlNh",
        "outputId": "ce4b389e-15c9-4765-82d0-7b60fd902172"
      },
      "outputs": [
        {
          "output_type": "stream",
          "name": "stdout",
          "text": [
            "Requirement already satisfied: scikit-learn in /usr/local/lib/python3.10/dist-packages (1.6.0)\n",
            "Requirement already satisfied: numpy>=1.19.5 in /usr/local/lib/python3.10/dist-packages (from scikit-learn) (1.26.4)\n",
            "Requirement already satisfied: scipy>=1.6.0 in /usr/local/lib/python3.10/dist-packages (from scikit-learn) (1.13.1)\n",
            "Requirement already satisfied: joblib>=1.2.0 in /usr/local/lib/python3.10/dist-packages (from scikit-learn) (1.4.2)\n",
            "Requirement already satisfied: threadpoolctl>=3.1.0 in /usr/local/lib/python3.10/dist-packages (from scikit-learn) (3.5.0)\n"
          ]
        }
      ],
      "source": [
        "!pip3 install -U scikit-learn --upgrade # necesitamos sklearn >= 0.24"
      ]
    },
    {
      "cell_type": "code",
      "execution_count": 2,
      "metadata": {
        "colab": {
          "base_uri": "https://localhost:8080/"
        },
        "id": "VhxlN8cLIc0O",
        "outputId": "3d43efb7-ce0a-40ed-fd96-a3d2ff530449"
      },
      "outputs": [
        {
          "output_type": "stream",
          "name": "stdout",
          "text": [
            "Requirement already satisfied: xgboost in /usr/local/lib/python3.10/dist-packages (2.1.3)\n",
            "Requirement already satisfied: numpy in /usr/local/lib/python3.10/dist-packages (from xgboost) (1.26.4)\n",
            "Requirement already satisfied: nvidia-nccl-cu12 in /usr/local/lib/python3.10/dist-packages (from xgboost) (2.23.4)\n",
            "Requirement already satisfied: scipy in /usr/local/lib/python3.10/dist-packages (from xgboost) (1.13.1)\n"
          ]
        }
      ],
      "source": [
        "!pip install xgboost"
      ]
    },
    {
      "cell_type": "code",
      "execution_count": 3,
      "metadata": {
        "colab": {
          "base_uri": "https://localhost:8080/"
        },
        "id": "c9c_UtQAIc0S",
        "outputId": "56f25e7c-182f-4822-b0ad-66deaf0c7776"
      },
      "outputs": [
        {
          "output_type": "stream",
          "name": "stdout",
          "text": [
            "Requirement already satisfied: lightgbm in /usr/local/lib/python3.10/dist-packages (4.5.0)\n",
            "Requirement already satisfied: numpy>=1.17.0 in /usr/local/lib/python3.10/dist-packages (from lightgbm) (1.26.4)\n",
            "Requirement already satisfied: scipy in /usr/local/lib/python3.10/dist-packages (from lightgbm) (1.13.1)\n"
          ]
        }
      ],
      "source": [
        "!pip install lightgbm"
      ]
    },
    {
      "cell_type": "code",
      "execution_count": 4,
      "metadata": {
        "colab": {
          "base_uri": "https://localhost:8080/"
        },
        "id": "5dbR4bkDIc0T",
        "outputId": "1ec3d596-7c89-432b-fea9-dff57d1330ac"
      },
      "outputs": [
        {
          "output_type": "stream",
          "name": "stdout",
          "text": [
            "Collecting catboost\n",
            "  Downloading catboost-1.2.7-cp310-cp310-manylinux2014_x86_64.whl.metadata (1.2 kB)\n",
            "Requirement already satisfied: graphviz in /usr/local/lib/python3.10/dist-packages (from catboost) (0.20.3)\n",
            "Requirement already satisfied: matplotlib in /usr/local/lib/python3.10/dist-packages (from catboost) (3.8.0)\n",
            "Requirement already satisfied: numpy<2.0,>=1.16.0 in /usr/local/lib/python3.10/dist-packages (from catboost) (1.26.4)\n",
            "Requirement already satisfied: pandas>=0.24 in /usr/local/lib/python3.10/dist-packages (from catboost) (2.2.2)\n",
            "Requirement already satisfied: scipy in /usr/local/lib/python3.10/dist-packages (from catboost) (1.13.1)\n",
            "Requirement already satisfied: plotly in /usr/local/lib/python3.10/dist-packages (from catboost) (5.24.1)\n",
            "Requirement already satisfied: six in /usr/local/lib/python3.10/dist-packages (from catboost) (1.17.0)\n",
            "Requirement already satisfied: python-dateutil>=2.8.2 in /usr/local/lib/python3.10/dist-packages (from pandas>=0.24->catboost) (2.8.2)\n",
            "Requirement already satisfied: pytz>=2020.1 in /usr/local/lib/python3.10/dist-packages (from pandas>=0.24->catboost) (2024.2)\n",
            "Requirement already satisfied: tzdata>=2022.7 in /usr/local/lib/python3.10/dist-packages (from pandas>=0.24->catboost) (2024.2)\n",
            "Requirement already satisfied: contourpy>=1.0.1 in /usr/local/lib/python3.10/dist-packages (from matplotlib->catboost) (1.3.1)\n",
            "Requirement already satisfied: cycler>=0.10 in /usr/local/lib/python3.10/dist-packages (from matplotlib->catboost) (0.12.1)\n",
            "Requirement already satisfied: fonttools>=4.22.0 in /usr/local/lib/python3.10/dist-packages (from matplotlib->catboost) (4.55.3)\n",
            "Requirement already satisfied: kiwisolver>=1.0.1 in /usr/local/lib/python3.10/dist-packages (from matplotlib->catboost) (1.4.7)\n",
            "Requirement already satisfied: packaging>=20.0 in /usr/local/lib/python3.10/dist-packages (from matplotlib->catboost) (24.2)\n",
            "Requirement already satisfied: pillow>=6.2.0 in /usr/local/lib/python3.10/dist-packages (from matplotlib->catboost) (11.0.0)\n",
            "Requirement already satisfied: pyparsing>=2.3.1 in /usr/local/lib/python3.10/dist-packages (from matplotlib->catboost) (3.2.0)\n",
            "Requirement already satisfied: tenacity>=6.2.0 in /usr/local/lib/python3.10/dist-packages (from plotly->catboost) (9.0.0)\n",
            "Downloading catboost-1.2.7-cp310-cp310-manylinux2014_x86_64.whl (98.7 MB)\n",
            "\u001b[2K   \u001b[90m━━━━━━━━━━━━━━━━━━━━━━━━━━━━━━━━━━━━━━━━\u001b[0m \u001b[32m98.7/98.7 MB\u001b[0m \u001b[31m6.0 MB/s\u001b[0m eta \u001b[36m0:00:00\u001b[0m\n",
            "\u001b[?25hInstalling collected packages: catboost\n",
            "Successfully installed catboost-1.2.7\n"
          ]
        }
      ],
      "source": [
        "!pip install catboost"
      ]
    },
    {
      "cell_type": "code",
      "execution_count": 5,
      "metadata": {
        "colab": {
          "base_uri": "https://localhost:8080/"
        },
        "id": "SaOUCem0Ic0U",
        "outputId": "0be3cc93-6281-4286-e6de-ac9685658de3"
      },
      "outputs": [
        {
          "output_type": "stream",
          "name": "stdout",
          "text": [
            "Collecting sweetviz\n",
            "  Downloading sweetviz-2.3.1-py3-none-any.whl.metadata (24 kB)\n",
            "Requirement already satisfied: pandas!=1.0.0,!=1.0.1,!=1.0.2,>=0.25.3 in /usr/local/lib/python3.10/dist-packages (from sweetviz) (2.2.2)\n",
            "Requirement already satisfied: numpy>=1.16.0 in /usr/local/lib/python3.10/dist-packages (from sweetviz) (1.26.4)\n",
            "Requirement already satisfied: matplotlib>=3.1.3 in /usr/local/lib/python3.10/dist-packages (from sweetviz) (3.8.0)\n",
            "Requirement already satisfied: tqdm>=4.43.0 in /usr/local/lib/python3.10/dist-packages (from sweetviz) (4.67.1)\n",
            "Requirement already satisfied: scipy>=1.3.2 in /usr/local/lib/python3.10/dist-packages (from sweetviz) (1.13.1)\n",
            "Requirement already satisfied: jinja2>=2.11.1 in /usr/local/lib/python3.10/dist-packages (from sweetviz) (3.1.4)\n",
            "Requirement already satisfied: importlib-resources>=1.2.0 in /usr/local/lib/python3.10/dist-packages (from sweetviz) (6.4.5)\n",
            "Requirement already satisfied: MarkupSafe>=2.0 in /usr/local/lib/python3.10/dist-packages (from jinja2>=2.11.1->sweetviz) (3.0.2)\n",
            "Requirement already satisfied: contourpy>=1.0.1 in /usr/local/lib/python3.10/dist-packages (from matplotlib>=3.1.3->sweetviz) (1.3.1)\n",
            "Requirement already satisfied: cycler>=0.10 in /usr/local/lib/python3.10/dist-packages (from matplotlib>=3.1.3->sweetviz) (0.12.1)\n",
            "Requirement already satisfied: fonttools>=4.22.0 in /usr/local/lib/python3.10/dist-packages (from matplotlib>=3.1.3->sweetviz) (4.55.3)\n",
            "Requirement already satisfied: kiwisolver>=1.0.1 in /usr/local/lib/python3.10/dist-packages (from matplotlib>=3.1.3->sweetviz) (1.4.7)\n",
            "Requirement already satisfied: packaging>=20.0 in /usr/local/lib/python3.10/dist-packages (from matplotlib>=3.1.3->sweetviz) (24.2)\n",
            "Requirement already satisfied: pillow>=6.2.0 in /usr/local/lib/python3.10/dist-packages (from matplotlib>=3.1.3->sweetviz) (11.0.0)\n",
            "Requirement already satisfied: pyparsing>=2.3.1 in /usr/local/lib/python3.10/dist-packages (from matplotlib>=3.1.3->sweetviz) (3.2.0)\n",
            "Requirement already satisfied: python-dateutil>=2.7 in /usr/local/lib/python3.10/dist-packages (from matplotlib>=3.1.3->sweetviz) (2.8.2)\n",
            "Requirement already satisfied: pytz>=2020.1 in /usr/local/lib/python3.10/dist-packages (from pandas!=1.0.0,!=1.0.1,!=1.0.2,>=0.25.3->sweetviz) (2024.2)\n",
            "Requirement already satisfied: tzdata>=2022.7 in /usr/local/lib/python3.10/dist-packages (from pandas!=1.0.0,!=1.0.1,!=1.0.2,>=0.25.3->sweetviz) (2024.2)\n",
            "Requirement already satisfied: six>=1.5 in /usr/local/lib/python3.10/dist-packages (from python-dateutil>=2.7->matplotlib>=3.1.3->sweetviz) (1.17.0)\n",
            "Downloading sweetviz-2.3.1-py3-none-any.whl (15.1 MB)\n",
            "\u001b[2K   \u001b[90m━━━━━━━━━━━━━━━━━━━━━━━━━━━━━━━━━━━━━━━━\u001b[0m \u001b[32m15.1/15.1 MB\u001b[0m \u001b[31m12.1 MB/s\u001b[0m eta \u001b[36m0:00:00\u001b[0m\n",
            "\u001b[?25hInstalling collected packages: sweetviz\n",
            "Successfully installed sweetviz-2.3.1\n"
          ]
        }
      ],
      "source": [
        "!pip install sweetviz"
      ]
    },
    {
      "cell_type": "code",
      "execution_count": 6,
      "metadata": {
        "colab": {
          "base_uri": "https://localhost:8080/"
        },
        "id": "QZ4siZguIc0W",
        "outputId": "567131a3-99c4-4ca2-d872-a33de79e8b68"
      },
      "outputs": [
        {
          "output_type": "stream",
          "name": "stdout",
          "text": [
            "Requirement already satisfied: ipywidgets in /usr/local/lib/python3.10/dist-packages (7.7.1)\n",
            "Requirement already satisfied: ipykernel>=4.5.1 in /usr/local/lib/python3.10/dist-packages (from ipywidgets) (5.5.6)\n",
            "Requirement already satisfied: ipython-genutils~=0.2.0 in /usr/local/lib/python3.10/dist-packages (from ipywidgets) (0.2.0)\n",
            "Requirement already satisfied: traitlets>=4.3.1 in /usr/local/lib/python3.10/dist-packages (from ipywidgets) (5.7.1)\n",
            "Requirement already satisfied: widgetsnbextension~=3.6.0 in /usr/local/lib/python3.10/dist-packages (from ipywidgets) (3.6.10)\n",
            "Requirement already satisfied: ipython>=4.0.0 in /usr/local/lib/python3.10/dist-packages (from ipywidgets) (7.34.0)\n",
            "Requirement already satisfied: jupyterlab-widgets>=1.0.0 in /usr/local/lib/python3.10/dist-packages (from ipywidgets) (3.0.13)\n",
            "Requirement already satisfied: jupyter-client in /usr/local/lib/python3.10/dist-packages (from ipykernel>=4.5.1->ipywidgets) (6.1.12)\n",
            "Requirement already satisfied: tornado>=4.2 in /usr/local/lib/python3.10/dist-packages (from ipykernel>=4.5.1->ipywidgets) (6.3.3)\n",
            "Requirement already satisfied: setuptools>=18.5 in /usr/local/lib/python3.10/dist-packages (from ipython>=4.0.0->ipywidgets) (75.1.0)\n",
            "Collecting jedi>=0.16 (from ipython>=4.0.0->ipywidgets)\n",
            "  Downloading jedi-0.19.2-py2.py3-none-any.whl.metadata (22 kB)\n",
            "Requirement already satisfied: decorator in /usr/local/lib/python3.10/dist-packages (from ipython>=4.0.0->ipywidgets) (4.4.2)\n",
            "Requirement already satisfied: pickleshare in /usr/local/lib/python3.10/dist-packages (from ipython>=4.0.0->ipywidgets) (0.7.5)\n",
            "Requirement already satisfied: prompt-toolkit!=3.0.0,!=3.0.1,<3.1.0,>=2.0.0 in /usr/local/lib/python3.10/dist-packages (from ipython>=4.0.0->ipywidgets) (3.0.48)\n",
            "Requirement already satisfied: pygments in /usr/local/lib/python3.10/dist-packages (from ipython>=4.0.0->ipywidgets) (2.18.0)\n",
            "Requirement already satisfied: backcall in /usr/local/lib/python3.10/dist-packages (from ipython>=4.0.0->ipywidgets) (0.2.0)\n",
            "Requirement already satisfied: matplotlib-inline in /usr/local/lib/python3.10/dist-packages (from ipython>=4.0.0->ipywidgets) (0.1.7)\n",
            "Requirement already satisfied: pexpect>4.3 in /usr/local/lib/python3.10/dist-packages (from ipython>=4.0.0->ipywidgets) (4.9.0)\n",
            "Requirement already satisfied: notebook>=4.4.1 in /usr/local/lib/python3.10/dist-packages (from widgetsnbextension~=3.6.0->ipywidgets) (6.5.5)\n",
            "Requirement already satisfied: parso<0.9.0,>=0.8.4 in /usr/local/lib/python3.10/dist-packages (from jedi>=0.16->ipython>=4.0.0->ipywidgets) (0.8.4)\n",
            "Requirement already satisfied: jinja2 in /usr/local/lib/python3.10/dist-packages (from notebook>=4.4.1->widgetsnbextension~=3.6.0->ipywidgets) (3.1.4)\n",
            "Requirement already satisfied: pyzmq<25,>=17 in /usr/local/lib/python3.10/dist-packages (from notebook>=4.4.1->widgetsnbextension~=3.6.0->ipywidgets) (24.0.1)\n",
            "Requirement already satisfied: argon2-cffi in /usr/local/lib/python3.10/dist-packages (from notebook>=4.4.1->widgetsnbextension~=3.6.0->ipywidgets) (23.1.0)\n",
            "Requirement already satisfied: jupyter-core>=4.6.1 in /usr/local/lib/python3.10/dist-packages (from notebook>=4.4.1->widgetsnbextension~=3.6.0->ipywidgets) (5.7.2)\n",
            "Requirement already satisfied: nbformat in /usr/local/lib/python3.10/dist-packages (from notebook>=4.4.1->widgetsnbextension~=3.6.0->ipywidgets) (5.10.4)\n",
            "Requirement already satisfied: nbconvert>=5 in /usr/local/lib/python3.10/dist-packages (from notebook>=4.4.1->widgetsnbextension~=3.6.0->ipywidgets) (7.16.4)\n",
            "Requirement already satisfied: nest-asyncio>=1.5 in /usr/local/lib/python3.10/dist-packages (from notebook>=4.4.1->widgetsnbextension~=3.6.0->ipywidgets) (1.6.0)\n",
            "Requirement already satisfied: Send2Trash>=1.8.0 in /usr/local/lib/python3.10/dist-packages (from notebook>=4.4.1->widgetsnbextension~=3.6.0->ipywidgets) (1.8.3)\n",
            "Requirement already satisfied: terminado>=0.8.3 in /usr/local/lib/python3.10/dist-packages (from notebook>=4.4.1->widgetsnbextension~=3.6.0->ipywidgets) (0.18.1)\n",
            "Requirement already satisfied: prometheus-client in /usr/local/lib/python3.10/dist-packages (from notebook>=4.4.1->widgetsnbextension~=3.6.0->ipywidgets) (0.21.1)\n",
            "Requirement already satisfied: nbclassic>=0.4.7 in /usr/local/lib/python3.10/dist-packages (from notebook>=4.4.1->widgetsnbextension~=3.6.0->ipywidgets) (1.1.0)\n",
            "Requirement already satisfied: python-dateutil>=2.1 in /usr/local/lib/python3.10/dist-packages (from jupyter-client->ipykernel>=4.5.1->ipywidgets) (2.8.2)\n",
            "Requirement already satisfied: ptyprocess>=0.5 in /usr/local/lib/python3.10/dist-packages (from pexpect>4.3->ipython>=4.0.0->ipywidgets) (0.7.0)\n",
            "Requirement already satisfied: wcwidth in /usr/local/lib/python3.10/dist-packages (from prompt-toolkit!=3.0.0,!=3.0.1,<3.1.0,>=2.0.0->ipython>=4.0.0->ipywidgets) (0.2.13)\n",
            "Requirement already satisfied: platformdirs>=2.5 in /usr/local/lib/python3.10/dist-packages (from jupyter-core>=4.6.1->notebook>=4.4.1->widgetsnbextension~=3.6.0->ipywidgets) (4.3.6)\n",
            "Requirement already satisfied: notebook-shim>=0.2.3 in /usr/local/lib/python3.10/dist-packages (from nbclassic>=0.4.7->notebook>=4.4.1->widgetsnbextension~=3.6.0->ipywidgets) (0.2.4)\n",
            "Requirement already satisfied: beautifulsoup4 in /usr/local/lib/python3.10/dist-packages (from nbconvert>=5->notebook>=4.4.1->widgetsnbextension~=3.6.0->ipywidgets) (4.12.3)\n",
            "Requirement already satisfied: bleach!=5.0.0 in /usr/local/lib/python3.10/dist-packages (from nbconvert>=5->notebook>=4.4.1->widgetsnbextension~=3.6.0->ipywidgets) (6.2.0)\n",
            "Requirement already satisfied: defusedxml in /usr/local/lib/python3.10/dist-packages (from nbconvert>=5->notebook>=4.4.1->widgetsnbextension~=3.6.0->ipywidgets) (0.7.1)\n",
            "Requirement already satisfied: jupyterlab-pygments in /usr/local/lib/python3.10/dist-packages (from nbconvert>=5->notebook>=4.4.1->widgetsnbextension~=3.6.0->ipywidgets) (0.3.0)\n",
            "Requirement already satisfied: markupsafe>=2.0 in /usr/local/lib/python3.10/dist-packages (from nbconvert>=5->notebook>=4.4.1->widgetsnbextension~=3.6.0->ipywidgets) (3.0.2)\n",
            "Requirement already satisfied: mistune<4,>=2.0.3 in /usr/local/lib/python3.10/dist-packages (from nbconvert>=5->notebook>=4.4.1->widgetsnbextension~=3.6.0->ipywidgets) (3.0.2)\n",
            "Requirement already satisfied: nbclient>=0.5.0 in /usr/local/lib/python3.10/dist-packages (from nbconvert>=5->notebook>=4.4.1->widgetsnbextension~=3.6.0->ipywidgets) (0.10.1)\n",
            "Requirement already satisfied: packaging in /usr/local/lib/python3.10/dist-packages (from nbconvert>=5->notebook>=4.4.1->widgetsnbextension~=3.6.0->ipywidgets) (24.2)\n",
            "Requirement already satisfied: pandocfilters>=1.4.1 in /usr/local/lib/python3.10/dist-packages (from nbconvert>=5->notebook>=4.4.1->widgetsnbextension~=3.6.0->ipywidgets) (1.5.1)\n",
            "Requirement already satisfied: tinycss2 in /usr/local/lib/python3.10/dist-packages (from nbconvert>=5->notebook>=4.4.1->widgetsnbextension~=3.6.0->ipywidgets) (1.4.0)\n",
            "Requirement already satisfied: fastjsonschema>=2.15 in /usr/local/lib/python3.10/dist-packages (from nbformat->notebook>=4.4.1->widgetsnbextension~=3.6.0->ipywidgets) (2.21.1)\n",
            "Requirement already satisfied: jsonschema>=2.6 in /usr/local/lib/python3.10/dist-packages (from nbformat->notebook>=4.4.1->widgetsnbextension~=3.6.0->ipywidgets) (4.23.0)\n",
            "Requirement already satisfied: six>=1.5 in /usr/local/lib/python3.10/dist-packages (from python-dateutil>=2.1->jupyter-client->ipykernel>=4.5.1->ipywidgets) (1.17.0)\n",
            "Requirement already satisfied: argon2-cffi-bindings in /usr/local/lib/python3.10/dist-packages (from argon2-cffi->notebook>=4.4.1->widgetsnbextension~=3.6.0->ipywidgets) (21.2.0)\n",
            "Requirement already satisfied: webencodings in /usr/local/lib/python3.10/dist-packages (from bleach!=5.0.0->nbconvert>=5->notebook>=4.4.1->widgetsnbextension~=3.6.0->ipywidgets) (0.5.1)\n",
            "Requirement already satisfied: attrs>=22.2.0 in /usr/local/lib/python3.10/dist-packages (from jsonschema>=2.6->nbformat->notebook>=4.4.1->widgetsnbextension~=3.6.0->ipywidgets) (24.3.0)\n",
            "Requirement already satisfied: jsonschema-specifications>=2023.03.6 in /usr/local/lib/python3.10/dist-packages (from jsonschema>=2.6->nbformat->notebook>=4.4.1->widgetsnbextension~=3.6.0->ipywidgets) (2024.10.1)\n",
            "Requirement already satisfied: referencing>=0.28.4 in /usr/local/lib/python3.10/dist-packages (from jsonschema>=2.6->nbformat->notebook>=4.4.1->widgetsnbextension~=3.6.0->ipywidgets) (0.35.1)\n",
            "Requirement already satisfied: rpds-py>=0.7.1 in /usr/local/lib/python3.10/dist-packages (from jsonschema>=2.6->nbformat->notebook>=4.4.1->widgetsnbextension~=3.6.0->ipywidgets) (0.22.3)\n",
            "Requirement already satisfied: jupyter-server<3,>=1.8 in /usr/local/lib/python3.10/dist-packages (from notebook-shim>=0.2.3->nbclassic>=0.4.7->notebook>=4.4.1->widgetsnbextension~=3.6.0->ipywidgets) (1.24.0)\n",
            "Requirement already satisfied: cffi>=1.0.1 in /usr/local/lib/python3.10/dist-packages (from argon2-cffi-bindings->argon2-cffi->notebook>=4.4.1->widgetsnbextension~=3.6.0->ipywidgets) (1.17.1)\n",
            "Requirement already satisfied: soupsieve>1.2 in /usr/local/lib/python3.10/dist-packages (from beautifulsoup4->nbconvert>=5->notebook>=4.4.1->widgetsnbextension~=3.6.0->ipywidgets) (2.6)\n",
            "Requirement already satisfied: pycparser in /usr/local/lib/python3.10/dist-packages (from cffi>=1.0.1->argon2-cffi-bindings->argon2-cffi->notebook>=4.4.1->widgetsnbextension~=3.6.0->ipywidgets) (2.22)\n",
            "Requirement already satisfied: anyio<4,>=3.1.0 in /usr/local/lib/python3.10/dist-packages (from jupyter-server<3,>=1.8->notebook-shim>=0.2.3->nbclassic>=0.4.7->notebook>=4.4.1->widgetsnbextension~=3.6.0->ipywidgets) (3.7.1)\n",
            "Requirement already satisfied: websocket-client in /usr/local/lib/python3.10/dist-packages (from jupyter-server<3,>=1.8->notebook-shim>=0.2.3->nbclassic>=0.4.7->notebook>=4.4.1->widgetsnbextension~=3.6.0->ipywidgets) (1.8.0)\n",
            "Requirement already satisfied: idna>=2.8 in /usr/local/lib/python3.10/dist-packages (from anyio<4,>=3.1.0->jupyter-server<3,>=1.8->notebook-shim>=0.2.3->nbclassic>=0.4.7->notebook>=4.4.1->widgetsnbextension~=3.6.0->ipywidgets) (3.10)\n",
            "Requirement already satisfied: sniffio>=1.1 in /usr/local/lib/python3.10/dist-packages (from anyio<4,>=3.1.0->jupyter-server<3,>=1.8->notebook-shim>=0.2.3->nbclassic>=0.4.7->notebook>=4.4.1->widgetsnbextension~=3.6.0->ipywidgets) (1.3.1)\n",
            "Requirement already satisfied: exceptiongroup in /usr/local/lib/python3.10/dist-packages (from anyio<4,>=3.1.0->jupyter-server<3,>=1.8->notebook-shim>=0.2.3->nbclassic>=0.4.7->notebook>=4.4.1->widgetsnbextension~=3.6.0->ipywidgets) (1.2.2)\n",
            "Downloading jedi-0.19.2-py2.py3-none-any.whl (1.6 MB)\n",
            "\u001b[2K   \u001b[90m━━━━━━━━━━━━━━━━━━━━━━━━━━━━━━━━━━━━━━━━\u001b[0m \u001b[32m1.6/1.6 MB\u001b[0m \u001b[31m15.3 MB/s\u001b[0m eta \u001b[36m0:00:00\u001b[0m\n",
            "\u001b[?25hInstalling collected packages: jedi\n",
            "Successfully installed jedi-0.19.2\n"
          ]
        }
      ],
      "source": [
        "!pip install ipywidgets # puede ser necesario si lo corren local"
      ]
    },
    {
      "cell_type": "code",
      "execution_count": 7,
      "metadata": {
        "colab": {
          "base_uri": "https://localhost:8080/"
        },
        "id": "MZ0meT4VIc0W",
        "outputId": "e66d82c5-8030-4846-c7d1-6d7a94314df6"
      },
      "outputs": [
        {
          "output_type": "stream",
          "name": "stdout",
          "text": [
            "Collecting scikit-optimize\n",
            "  Downloading scikit_optimize-0.10.2-py2.py3-none-any.whl.metadata (9.7 kB)\n",
            "Requirement already satisfied: joblib>=0.11 in /usr/local/lib/python3.10/dist-packages (from scikit-optimize) (1.4.2)\n",
            "Collecting pyaml>=16.9 (from scikit-optimize)\n",
            "  Downloading pyaml-24.12.1-py3-none-any.whl.metadata (12 kB)\n",
            "Requirement already satisfied: numpy>=1.20.3 in /usr/local/lib/python3.10/dist-packages (from scikit-optimize) (1.26.4)\n",
            "Requirement already satisfied: scipy>=1.1.0 in /usr/local/lib/python3.10/dist-packages (from scikit-optimize) (1.13.1)\n",
            "Requirement already satisfied: scikit-learn>=1.0.0 in /usr/local/lib/python3.10/dist-packages (from scikit-optimize) (1.6.0)\n",
            "Requirement already satisfied: packaging>=21.3 in /usr/local/lib/python3.10/dist-packages (from scikit-optimize) (24.2)\n",
            "Requirement already satisfied: PyYAML in /usr/local/lib/python3.10/dist-packages (from pyaml>=16.9->scikit-optimize) (6.0.2)\n",
            "Requirement already satisfied: threadpoolctl>=3.1.0 in /usr/local/lib/python3.10/dist-packages (from scikit-learn>=1.0.0->scikit-optimize) (3.5.0)\n",
            "Downloading scikit_optimize-0.10.2-py2.py3-none-any.whl (107 kB)\n",
            "\u001b[2K   \u001b[90m━━━━━━━━━━━━━━━━━━━━━━━━━━━━━━━━━━━━━━━━\u001b[0m \u001b[32m107.8/107.8 kB\u001b[0m \u001b[31m2.7 MB/s\u001b[0m eta \u001b[36m0:00:00\u001b[0m\n",
            "\u001b[?25hDownloading pyaml-24.12.1-py3-none-any.whl (25 kB)\n",
            "Installing collected packages: pyaml, scikit-optimize\n",
            "Successfully installed pyaml-24.12.1 scikit-optimize-0.10.2\n"
          ]
        }
      ],
      "source": [
        "!pip install scikit-optimize"
      ]
    },
    {
      "cell_type": "markdown",
      "metadata": {
        "id": "nD10-9QRIc0X"
      },
      "source": [
        "## Introducción"
      ]
    },
    {
      "cell_type": "markdown",
      "metadata": {
        "id": "ffYhdFpFIc0Y"
      },
      "source": [
        "Vamos a trabajar con un dataset famoso llamado **adult** tomado de UCI: https://archive.ics.uci.edu/ml/datasets/Adult . Son datos obtenidos del censo de Estados Unidos de 1994 y la tarea consiste en predecir si una persona gana más de 50.000 dólares al año o no. Por lo tanto, cada fila es una persona y las columnas son las características de la misma."
      ]
    },
    {
      "cell_type": "code",
      "execution_count": 8,
      "metadata": {
        "id": "bgYopa2aIc0Z"
      },
      "outputs": [],
      "source": [
        "import pandas as pd\n",
        "import numpy as np"
      ]
    },
    {
      "cell_type": "code",
      "execution_count": 9,
      "metadata": {
        "id": "pRLoU4_wIc0b"
      },
      "outputs": [],
      "source": [
        "df = pd.read_csv(\"https://storage.googleapis.com/humai-datasets/aws_s3/ml_avanzado/2_Boosting_de_arboles/adult_train.csv\")"
      ]
    },
    {
      "cell_type": "code",
      "execution_count": 10,
      "metadata": {
        "colab": {
          "base_uri": "https://localhost:8080/"
        },
        "id": "ugLTRe0IIc0c",
        "outputId": "6987e315-c6b0-4119-d4fe-f29c832b300d"
      },
      "outputs": [
        {
          "output_type": "execute_result",
          "data": {
            "text/plain": [
              "Index(['age', 'workclass', 'fnlwgt', 'education', 'education-num',\n",
              "       'marital-status', 'occupation', 'relationship', 'race', 'sex',\n",
              "       'capital-gain', 'capital-loss', 'hours-per-week', 'native-country',\n",
              "       'target'],\n",
              "      dtype='object')"
            ]
          },
          "metadata": {},
          "execution_count": 10
        }
      ],
      "source": [
        "df.columns"
      ]
    },
    {
      "cell_type": "code",
      "execution_count": 11,
      "metadata": {
        "colab": {
          "base_uri": "https://localhost:8080/"
        },
        "id": "ezlk7SK4Ic0g",
        "outputId": "3093117a-8868-4d42-f342-bd1a14dcaba0"
      },
      "outputs": [
        {
          "output_type": "execute_result",
          "data": {
            "text/plain": [
              "(32561, 15)"
            ]
          },
          "metadata": {},
          "execution_count": 11
        }
      ],
      "source": [
        "df.shape"
      ]
    },
    {
      "cell_type": "code",
      "execution_count": 12,
      "metadata": {
        "colab": {
          "base_uri": "https://localhost:8080/"
        },
        "id": "hpMVCVttIc0h",
        "outputId": "19c6303d-fbed-43b4-f06d-ae687166913b"
      },
      "outputs": [
        {
          "output_type": "stream",
          "name": "stdout",
          "text": [
            "<class 'pandas.core.frame.DataFrame'>\n",
            "RangeIndex: 32561 entries, 0 to 32560\n",
            "Data columns (total 15 columns):\n",
            " #   Column          Non-Null Count  Dtype \n",
            "---  ------          --------------  ----- \n",
            " 0   age             32561 non-null  int64 \n",
            " 1   workclass       32561 non-null  object\n",
            " 2   fnlwgt          32561 non-null  int64 \n",
            " 3   education       32561 non-null  object\n",
            " 4   education-num   32561 non-null  int64 \n",
            " 5   marital-status  32561 non-null  object\n",
            " 6   occupation      32561 non-null  object\n",
            " 7   relationship    32561 non-null  object\n",
            " 8   race            32561 non-null  object\n",
            " 9   sex             32561 non-null  object\n",
            " 10  capital-gain    32561 non-null  int64 \n",
            " 11  capital-loss    32561 non-null  int64 \n",
            " 12  hours-per-week  32561 non-null  int64 \n",
            " 13  native-country  32561 non-null  object\n",
            " 14  target          32561 non-null  object\n",
            "dtypes: int64(6), object(9)\n",
            "memory usage: 3.7+ MB\n"
          ]
        }
      ],
      "source": [
        "df.info()"
      ]
    },
    {
      "cell_type": "markdown",
      "metadata": {
        "id": "K00akIwpIc0i"
      },
      "source": [
        "- Las variables categóricas son: **workclass**, **education**, **marital-status**, **occupation**, **relationship**, **race**, **sex**, **native-country**.\n",
        "\n",
        "- Las variables numéricas son: **age**, **fnlwgt**, **education-num**, **capital-gain**, **capital-loss**, **hours-per-week**"
      ]
    },
    {
      "cell_type": "markdown",
      "metadata": {
        "id": "eXYqGnr2Ic0j"
      },
      "source": [
        "## Análisis exploratorio"
      ]
    },
    {
      "cell_type": "markdown",
      "metadata": {
        "id": "FgnbK8HFIc0k"
      },
      "source": [
        "Para este EDA vamos a usar un paquete que nos genera numerosos gráficos automáticamente y, por lo tanto, nos permite una aproximación rápida a los datos con los que vamos a trabajar."
      ]
    },
    {
      "cell_type": "code",
      "execution_count": 13,
      "metadata": {
        "colab": {
          "base_uri": "https://localhost:8080/",
          "height": 49,
          "referenced_widgets": [
            "3a0da5d197f6449895b389615f200506",
            "d7d74f50e7464a95a412c618815b607c",
            "c8c95e740fb9407cab9d2335547d1b1d",
            "87450be039ba416990d2850588173a49",
            "57c1b176bceb4b7bb66f810b4623880a",
            "df5cea21560c4af38665225c549741da",
            "35f24d24549b49d0b60c8a6cb7c87a2b",
            "9803937e514b45e1883b7e20562247e9",
            "8566f31c156b46a280610cfa29123445",
            "804b0a6d60e6472b916855328df66e16",
            "a112c4ddcc75469a884717f6b7f6e665"
          ]
        },
        "id": "KUWw0XymIc0k",
        "outputId": "05cc12b0-dfdd-43a1-9fea-e0be549ad168"
      },
      "outputs": [
        {
          "output_type": "display_data",
          "data": {
            "text/plain": [
              "                                             |          | [  0%]   00:00 -> (? left)"
            ],
            "application/vnd.jupyter.widget-view+json": {
              "version_major": 2,
              "version_minor": 0,
              "model_id": "3a0da5d197f6449895b389615f200506"
            }
          },
          "metadata": {}
        }
      ],
      "source": [
        "# sweetviz es un paquete de análisis exploratorio automático, una alternativa también es pandas-profiling\n",
        "import sweetviz as sv\n",
        "#analyzing the dataset\n",
        "advert_report = sv.analyze(df)"
      ]
    },
    {
      "cell_type": "markdown",
      "metadata": {
        "id": "VYm70hycIc0l"
      },
      "source": [
        "El siguiente comando escribe un *html* con una serie de gráficos. Además, intenta abrir una pestaña nueva. Si ésto no sucede entonces deberán ejecutar manualmente el archivo. Para eso, si están en Google Colab deberán descargar el archivo y luego darle doble clic al archivo en su computadora."
      ]
    },
    {
      "cell_type": "code",
      "execution_count": 14,
      "metadata": {
        "colab": {
          "base_uri": "https://localhost:8080/"
        },
        "id": "9whnUcnuIc0m",
        "outputId": "15f1e60c-cb81-45bf-ebbc-13a09be7340f"
      },
      "outputs": [
        {
          "output_type": "stream",
          "name": "stdout",
          "text": [
            "Report df.html was generated! NOTEBOOK/COLAB USERS: the web browser MAY not pop up, regardless, the report IS saved in your notebook/colab files.\n"
          ]
        }
      ],
      "source": [
        "advert_report.show_html('df.html')"
      ]
    },
    {
      "cell_type": "markdown",
      "metadata": {
        "id": "zPg-2P2QIc0n"
      },
      "source": [
        "### Observaciones"
      ]
    },
    {
      "cell_type": "markdown",
      "metadata": {
        "id": "UWz-Vi-UIc0o"
      },
      "source": [
        "Del reporte de *sweetviz* interesan destacar las siguientes cuestiones:\n"
      ]
    },
    {
      "cell_type": "markdown",
      "metadata": {
        "id": "cFGLIgHrIc0o"
      },
      "source": [
        "1- En **workclass** los nulos se identifican con **?**.\n",
        "\n",
        "2- **target** está parejamente distribuido, con 76% para la categoría **<=50K** y 24% para **>50K**.\n",
        "\n",
        "3- **capital-gain** y **capital-loss** son variables continuas pero mayoritariamente son 0 (91.7% y 95.3% respectivamente).\n",
        "\n",
        "Cliqueando en ASSOCIATIONS (arriba al medio) podemos ver métricas de correlación entre variables, allí se observa que:\n",
        "\n",
        "4- **education-num**, **capital-gain**, **hours-per-week**, **age**, **relationship** y en menor medida **marital-status** son las variables más correlacionadas con **target**."
      ]
    },
    {
      "cell_type": "markdown",
      "metadata": {
        "id": "QJlRaDqiIc0p"
      },
      "source": [
        "## Preparamos train y test"
      ]
    },
    {
      "cell_type": "code",
      "execution_count": 15,
      "metadata": {
        "id": "u1euqvlgIc0p"
      },
      "outputs": [],
      "source": [
        "from sklearn.preprocessing import LabelEncoder, OrdinalEncoder"
      ]
    },
    {
      "cell_type": "code",
      "execution_count": 16,
      "metadata": {
        "id": "U-EhJNBNIc0q"
      },
      "outputs": [],
      "source": [
        "X_train = df.drop(\"target\",axis=1)\n",
        "y_train = df[\"target\"]"
      ]
    },
    {
      "cell_type": "code",
      "execution_count": 17,
      "metadata": {
        "id": "okDOFsTQIc0q"
      },
      "outputs": [],
      "source": [
        "# LabelEncoder se usa para codificar las labels como números\n",
        "l_encoder = LabelEncoder()"
      ]
    },
    {
      "cell_type": "code",
      "execution_count": 18,
      "metadata": {
        "id": "uW9KfgK_Ic0r"
      },
      "outputs": [],
      "source": [
        "# Al hacer fit el objeto aprende un mapeo de cada label a un número que luego usaremos en test.\n",
        "# Al hacer transform ejecuta el mapeo. fit_transform primero ejecuta fit y luego transform\n",
        "y_train = l_encoder.fit_transform(y_train)"
      ]
    },
    {
      "cell_type": "code",
      "execution_count": 19,
      "metadata": {
        "id": "33964VhkIc0r"
      },
      "outputs": [],
      "source": [
        "test = pd.read_csv(\"https://storage.googleapis.com/humai-datasets/aws_s3/ml_avanzado/2_Boosting_de_arboles/adult_test.csv\")"
      ]
    },
    {
      "cell_type": "code",
      "execution_count": 20,
      "metadata": {
        "id": "unIkRWIiIc0r"
      },
      "outputs": [],
      "source": [
        "X_test = test.drop(\"target\",axis=1)\n",
        "y_test = test[\"target\"]"
      ]
    },
    {
      "cell_type": "code",
      "execution_count": 21,
      "metadata": {
        "colab": {
          "base_uri": "https://localhost:8080/"
        },
        "id": "1LvGJUFOIc0r",
        "outputId": "16e8c4ac-ce43-4c5a-8dce-0709b8e8ee74"
      },
      "outputs": [
        {
          "output_type": "execute_result",
          "data": {
            "text/plain": [
              "array([0, 0, 1, ..., 0, 0, 1])"
            ]
          },
          "metadata": {},
          "execution_count": 21
        }
      ],
      "source": [
        "l_encoder.transform(test[\"target\"])"
      ]
    },
    {
      "cell_type": "code",
      "execution_count": 22,
      "metadata": {
        "id": "SaJETBfvIc0s"
      },
      "outputs": [],
      "source": [
        "# acá estamos traduciendo las etiquetas de las labels a números, con el mismo mapeo de antes (!!!!)\n",
        "y_test = l_encoder.transform(y_test)"
      ]
    },
    {
      "cell_type": "code",
      "execution_count": 23,
      "metadata": {
        "colab": {
          "base_uri": "https://localhost:8080/"
        },
        "id": "4lkVLxFnIc0t",
        "outputId": "5fa6f81e-7623-42ff-946b-639c940a1f6c"
      },
      "outputs": [
        {
          "output_type": "execute_result",
          "data": {
            "text/plain": [
              "array(['<=50K', '<=50K', '>50K', ..., '<=50K', '<=50K', '>50K'],\n",
              "      dtype=object)"
            ]
          },
          "metadata": {},
          "execution_count": 23
        }
      ],
      "source": [
        "# inverse_transform nos permite hacer el mapeo en el sentido opuesto, de número a label\n",
        "l_encoder.inverse_transform(y_test)"
      ]
    },
    {
      "cell_type": "code",
      "execution_count": 24,
      "metadata": {
        "id": "dSyt7uBCIc0u"
      },
      "outputs": [],
      "source": [
        "# Para chequear que el mapeo se hace correctamente podemos hacer lo siguiente:"
      ]
    },
    {
      "cell_type": "code",
      "execution_count": 25,
      "metadata": {
        "colab": {
          "base_uri": "https://localhost:8080/"
        },
        "id": "Epa5x8enIc0u",
        "outputId": "5cfef94f-c3d7-4798-eaf2-1e50d1057068"
      },
      "outputs": [
        {
          "output_type": "execute_result",
          "data": {
            "text/plain": [
              "True"
            ]
          },
          "metadata": {},
          "execution_count": 25
        }
      ],
      "source": [
        "np.array_equal(test[\"target\"].values, l_encoder.inverse_transform(y_test))"
      ]
    },
    {
      "cell_type": "markdown",
      "metadata": {
        "id": "XK6VGIWZIc0v"
      },
      "source": [
        "## Entreno modelos"
      ]
    },
    {
      "cell_type": "code",
      "execution_count": 26,
      "metadata": {
        "id": "j62g9YTgIc0v"
      },
      "outputs": [],
      "source": [
        "from sklearn.compose import ColumnTransformer\n",
        "from sklearn.pipeline import Pipeline"
      ]
    },
    {
      "cell_type": "code",
      "execution_count": 27,
      "metadata": {
        "id": "2VJc4LPXIc0v"
      },
      "outputs": [],
      "source": [
        "from sklearn.preprocessing import PolynomialFeatures, OneHotEncoder"
      ]
    },
    {
      "cell_type": "code",
      "execution_count": 28,
      "metadata": {
        "id": "UwCAMgWnIc0v"
      },
      "outputs": [],
      "source": [
        "import scipy.stats as st"
      ]
    },
    {
      "cell_type": "code",
      "execution_count": 29,
      "metadata": {
        "id": "eO1V8k6sIc0w"
      },
      "outputs": [],
      "source": [
        "from xgboost.sklearn import XGBClassifier"
      ]
    },
    {
      "cell_type": "code",
      "execution_count": 30,
      "metadata": {
        "colab": {
          "base_uri": "https://localhost:8080/"
        },
        "id": "3XR35qK6Ic0x",
        "outputId": "ad91656d-95a2-48e8-e3e6-cd373f7b13ae"
      },
      "outputs": [
        {
          "output_type": "stream",
          "name": "stderr",
          "text": [
            "/usr/local/lib/python3.10/dist-packages/dask/dataframe/__init__.py:42: FutureWarning: \n",
            "Dask dataframe query planning is disabled because dask-expr is not installed.\n",
            "\n",
            "You can install it with `pip install dask[dataframe]` or `conda install dask`.\n",
            "This will raise in a future version.\n",
            "\n",
            "  warnings.warn(msg, FutureWarning)\n"
          ]
        }
      ],
      "source": [
        "from lightgbm import LGBMClassifier"
      ]
    },
    {
      "cell_type": "code",
      "execution_count": 31,
      "metadata": {
        "id": "MTwry87kIc0x"
      },
      "outputs": [],
      "source": [
        "from catboost import CatBoostClassifier"
      ]
    },
    {
      "cell_type": "code",
      "execution_count": 32,
      "metadata": {
        "id": "CAJD5P00Ic0x"
      },
      "outputs": [],
      "source": [
        "from sklearn.linear_model import LogisticRegression"
      ]
    },
    {
      "cell_type": "code",
      "execution_count": 33,
      "metadata": {
        "id": "_w75Ogq_Ic0x"
      },
      "outputs": [],
      "source": [
        "from sklearn.model_selection import RandomizedSearchCV"
      ]
    },
    {
      "cell_type": "code",
      "execution_count": 34,
      "metadata": {
        "id": "mjC-UhqoIc0y"
      },
      "outputs": [],
      "source": [
        "cat_columns = [\"workclass\", \"education\", \"marital-status\", \"occupation\", \"relationship\", \"race\", \"sex\", \"native-country\"]\n",
        "\n",
        "num_columns = [\"age\", \"fnlwgt\", \"education-num\", \"capital-gain\", \"capital-loss\", \"hours-per-week\"]"
      ]
    },
    {
      "cell_type": "code",
      "execution_count": 35,
      "metadata": {
        "id": "ZNmeL0wrIc0y"
      },
      "outputs": [],
      "source": [
        "# vamos a usar polynomial features sobre las variables numéricas\n",
        "poly = PolynomialFeatures()"
      ]
    },
    {
      "cell_type": "code",
      "execution_count": 36,
      "metadata": {
        "id": "C64tGMYeIc0y"
      },
      "outputs": [],
      "source": [
        "# Las categorías \"nuevas\" que aparezcan se imputan con el valor de unknown_value\n",
        "o_encoder = OrdinalEncoder(handle_unknown=\"use_encoded_value\", unknown_value=99999999)"
      ]
    },
    {
      "cell_type": "markdown",
      "metadata": {
        "id": "Oawzf-juIc0y"
      },
      "source": [
        "Los modelos que vamos a probar son XGBoost, LightGBM, CatBoost y Regresión logística."
      ]
    },
    {
      "cell_type": "markdown",
      "metadata": {
        "id": "zKVSjelGIc0y"
      },
      "source": [
        "Armamos un pipeline en donde:\n",
        "\n",
        "1- Usamos `ColumnTransformer` para seleccionar las columnas numéricas y aplicar `PolynomialFeatures`. `remainder=\"passthrough\"` hace que el resto de las columnas pasen sin cambios. De este paso vamos a optimizar el hiperparámetro que indica el grado del polinomio: `selector_num__poly__degree`.\n",
        "\n",
        "2- Luego aplicamos una transformación sobre las variables categóricas. Para los modelos basados en árboles usamos `OrdinalEncoder` que codifica las categorías como números. De este paso vamos a optimizar el hiperparámetro que indica cómo se representan las categorías nuevas, no vistas en train, con `ord_encoder__unknown_value`. Por último, para la regresión logística aplicamos one hot encoding.\n",
        "\n",
        "3- Finalmente aplicamos un clasificador."
      ]
    },
    {
      "cell_type": "markdown",
      "metadata": {
        "id": "h7bCBRBIIc00"
      },
      "source": [
        "Nota: los nombres de los hiperparámetros que vamos a optimizar se llaman como `nombre del step + __ + nombre del hiperparámetro`"
      ]
    },
    {
      "cell_type": "code",
      "execution_count": 37,
      "metadata": {
        "id": "tqXilHfLIc00"
      },
      "outputs": [],
      "source": [
        "pipeline = Pipeline([\n",
        "    (\"selector_num\", ColumnTransformer(\n",
        "        [\n",
        "            (\"poly\", poly, num_columns)\n",
        "        ], remainder=\"passthrough\")\n",
        "    ),\n",
        "    (\"cat_encoder\", o_encoder),\n",
        "    (\"classifier\", CatBoostClassifier())\n",
        "    ]\n",
        ")"
      ]
    },
    {
      "cell_type": "code",
      "execution_count": 38,
      "metadata": {
        "id": "nGTKQjS5Ic01"
      },
      "outputs": [],
      "source": [
        "# pipeline.get_params()"
      ]
    },
    {
      "cell_type": "code",
      "execution_count": 39,
      "metadata": {
        "id": "qd3IOutOIc01"
      },
      "outputs": [],
      "source": [
        "one_to_left = st.beta(10, 1) # Esta distribución nos dará valores entre 0 y 1 mayormente cercanos a 1"
      ]
    },
    {
      "cell_type": "code",
      "execution_count": 40,
      "metadata": {
        "id": "aDyUzdygIc01"
      },
      "outputs": [],
      "source": [
        "# este diccionario de parámetros lo vamos a usar tanto para XGBoost como para LightGBM\n",
        "params = {\n",
        "    \"classifier__n_estimators\": st.randint(20,150), # n. de árboles.\n",
        "    \"classifier__max_depth\": st.randint(3, 12),     # máxima profundiad del árbol\n",
        "    \"classifier__learning_rate\": st.uniform(0.05, 0.4), # learning rate (xgb’s “eta”)\n",
        "    \"classifier__colsample_bytree\": one_to_left, # ratio de la muestra de las columnas a la hora de construir el árbol\n",
        "    \"classifier__subsample\": one_to_left,     # ratio de la muestra de las observaciones\n",
        "    'classifier__reg_alpha': st.uniform(0.05,10),   # término de regularización L1\n",
        "    \"classifier__min_child_weight\": st.uniform(1,20), # Suma mínima del peso de la instancia (hessiano) requerida en los hijos\n",
        "}"
      ]
    },
    {
      "cell_type": "code",
      "execution_count": 41,
      "metadata": {
        "id": "rjK_dFUxIc02"
      },
      "outputs": [],
      "source": [
        "other_params = {\"selector_num__poly__degree\": [1, 2, 3],\n",
        "                \"cat_encoder__unknown_value\": [np.nan, 99999999]}"
      ]
    },
    {
      "cell_type": "markdown",
      "metadata": {
        "id": "mFSBzmnfIc02"
      },
      "source": [
        "Para optimizar modelos con distintos hiperparámetros se puede usar una lista de diccionarios, en donde cada diccionario es un hiperparámetro distinto.\n",
        "\n",
        "En primer lugar, classifier \"pisa\" el clasificador del pipeline original, en este caso `CatBoostClassifier`.\n",
        "\n",
        "En segundo lugar, pasamos los parámetros que definimos en `params` (usados en XGBoost y LightGBM) y `other_params` (que son los hiperparámetro que no corresponden al clasificador).\n",
        "\n",
        "En tercer lugar, también incluímos otros hiperparámetros de los clasificadores."
      ]
    },
    {
      "cell_type": "code",
      "execution_count": 42,
      "metadata": {
        "id": "OxbKn63wIc03"
      },
      "outputs": [],
      "source": [
        "search_space = [{\"classifier\": [XGBClassifier(n_jobs=3, eval_metric=\"logloss\", use_label_encoder=False)],\n",
        "                 **params,\n",
        "                 **other_params,\n",
        "                \"classifier__gamma\": st.uniform(0, 10), # reducción mínima de la pérdida requerida para hacer un split\n",
        "                },\n",
        "                {\"classifier\": [LGBMClassifier(n_jobs=3, verbose=-1)],\n",
        "                 **params,\n",
        "                **other_params},\n",
        "                {\"classifier\": [CatBoostClassifier(thread_count=3, verbose=False)],\n",
        "                 **other_params,\n",
        "                 \"classifier__n_estimators\": st.randint(20,150), # n. de árboles.\n",
        "                \"classifier__max_depth\": st.randint(3, 12),     # máxima profundiad del árbol\n",
        "                \"classifier__learning_rate\": st.uniform(0.05, 0.4), # learning rate (xgb’s “eta”)\n",
        "                \"classifier__subsample\": one_to_left,     # ratio de la muestra de las observaciones\n",
        "                },\n",
        "               {\n",
        "                   \"classifier\": [LogisticRegression(max_iter=1000)],\n",
        "                   \"classifier__C\": [10**x for x in range(-5, 3)],\n",
        "                   \"cat_encoder\": [OneHotEncoder(handle_unknown=\"ignore\")],\n",
        "               }]"
      ]
    },
    {
      "cell_type": "code",
      "execution_count": 43,
      "metadata": {
        "id": "QYb8nG7uIc04"
      },
      "outputs": [],
      "source": [
        "model = RandomizedSearchCV(pipeline, search_space, n_iter=10, verbose=1, cv=3)"
      ]
    },
    {
      "cell_type": "markdown",
      "metadata": {
        "id": "fK-oHPoPIc04"
      },
      "source": [
        "Comenzamos el entrenamiento"
      ]
    },
    {
      "cell_type": "code",
      "execution_count": 44,
      "metadata": {
        "colab": {
          "base_uri": "https://localhost:8080/",
          "height": 1000
        },
        "id": "yPsbnhEoIc05",
        "outputId": "d5fae0f6-0fbb-4a8f-f24e-290b7f1fa346"
      },
      "outputs": [
        {
          "output_type": "stream",
          "name": "stdout",
          "text": [
            "Fitting 3 folds for each of 10 candidates, totalling 30 fits\n"
          ]
        },
        {
          "output_type": "stream",
          "name": "stderr",
          "text": [
            "/usr/local/lib/python3.10/dist-packages/sklearn/utils/_tags.py:354: FutureWarning: The LGBMClassifier or classes from which it inherits use `_get_tags` and `_more_tags`. Please define the `__sklearn_tags__` method, or inherit from `sklearn.base.BaseEstimator` and/or other appropriate mixins such as `sklearn.base.TransformerMixin`, `sklearn.base.ClassifierMixin`, `sklearn.base.RegressorMixin`, and `sklearn.base.OutlierMixin`. From scikit-learn 1.7, not defining `__sklearn_tags__` will raise an error.\n",
            "  warnings.warn(\n",
            "/usr/local/lib/python3.10/dist-packages/sklearn/utils/deprecation.py:151: FutureWarning: 'force_all_finite' was renamed to 'ensure_all_finite' in 1.6 and will be removed in 1.8.\n",
            "  warnings.warn(\n",
            "/usr/local/lib/python3.10/dist-packages/sklearn/utils/deprecation.py:151: FutureWarning: 'force_all_finite' was renamed to 'ensure_all_finite' in 1.6 and will be removed in 1.8.\n",
            "  warnings.warn(\n",
            "/usr/local/lib/python3.10/dist-packages/sklearn/utils/_tags.py:354: FutureWarning: The LGBMClassifier or classes from which it inherits use `_get_tags` and `_more_tags`. Please define the `__sklearn_tags__` method, or inherit from `sklearn.base.BaseEstimator` and/or other appropriate mixins such as `sklearn.base.TransformerMixin`, `sklearn.base.ClassifierMixin`, `sklearn.base.RegressorMixin`, and `sklearn.base.OutlierMixin`. From scikit-learn 1.7, not defining `__sklearn_tags__` will raise an error.\n",
            "  warnings.warn(\n",
            "/usr/local/lib/python3.10/dist-packages/sklearn/utils/deprecation.py:151: FutureWarning: 'force_all_finite' was renamed to 'ensure_all_finite' in 1.6 and will be removed in 1.8.\n",
            "  warnings.warn(\n",
            "/usr/local/lib/python3.10/dist-packages/sklearn/utils/deprecation.py:151: FutureWarning: 'force_all_finite' was renamed to 'ensure_all_finite' in 1.6 and will be removed in 1.8.\n",
            "  warnings.warn(\n",
            "/usr/local/lib/python3.10/dist-packages/sklearn/utils/_tags.py:354: FutureWarning: The LGBMClassifier or classes from which it inherits use `_get_tags` and `_more_tags`. Please define the `__sklearn_tags__` method, or inherit from `sklearn.base.BaseEstimator` and/or other appropriate mixins such as `sklearn.base.TransformerMixin`, `sklearn.base.ClassifierMixin`, `sklearn.base.RegressorMixin`, and `sklearn.base.OutlierMixin`. From scikit-learn 1.7, not defining `__sklearn_tags__` will raise an error.\n",
            "  warnings.warn(\n",
            "/usr/local/lib/python3.10/dist-packages/sklearn/utils/deprecation.py:151: FutureWarning: 'force_all_finite' was renamed to 'ensure_all_finite' in 1.6 and will be removed in 1.8.\n",
            "  warnings.warn(\n",
            "/usr/local/lib/python3.10/dist-packages/sklearn/utils/deprecation.py:151: FutureWarning: 'force_all_finite' was renamed to 'ensure_all_finite' in 1.6 and will be removed in 1.8.\n",
            "  warnings.warn(\n",
            "/usr/local/lib/python3.10/dist-packages/sklearn/utils/_tags.py:354: FutureWarning: The LGBMClassifier or classes from which it inherits use `_get_tags` and `_more_tags`. Please define the `__sklearn_tags__` method, or inherit from `sklearn.base.BaseEstimator` and/or other appropriate mixins such as `sklearn.base.TransformerMixin`, `sklearn.base.ClassifierMixin`, `sklearn.base.RegressorMixin`, and `sklearn.base.OutlierMixin`. From scikit-learn 1.7, not defining `__sklearn_tags__` will raise an error.\n",
            "  warnings.warn(\n",
            "/usr/local/lib/python3.10/dist-packages/sklearn/utils/deprecation.py:151: FutureWarning: 'force_all_finite' was renamed to 'ensure_all_finite' in 1.6 and will be removed in 1.8.\n",
            "  warnings.warn(\n",
            "/usr/local/lib/python3.10/dist-packages/sklearn/utils/deprecation.py:151: FutureWarning: 'force_all_finite' was renamed to 'ensure_all_finite' in 1.6 and will be removed in 1.8.\n",
            "  warnings.warn(\n",
            "/usr/local/lib/python3.10/dist-packages/sklearn/utils/_tags.py:354: FutureWarning: The LGBMClassifier or classes from which it inherits use `_get_tags` and `_more_tags`. Please define the `__sklearn_tags__` method, or inherit from `sklearn.base.BaseEstimator` and/or other appropriate mixins such as `sklearn.base.TransformerMixin`, `sklearn.base.ClassifierMixin`, `sklearn.base.RegressorMixin`, and `sklearn.base.OutlierMixin`. From scikit-learn 1.7, not defining `__sklearn_tags__` will raise an error.\n",
            "  warnings.warn(\n",
            "/usr/local/lib/python3.10/dist-packages/sklearn/utils/deprecation.py:151: FutureWarning: 'force_all_finite' was renamed to 'ensure_all_finite' in 1.6 and will be removed in 1.8.\n",
            "  warnings.warn(\n",
            "/usr/local/lib/python3.10/dist-packages/sklearn/utils/deprecation.py:151: FutureWarning: 'force_all_finite' was renamed to 'ensure_all_finite' in 1.6 and will be removed in 1.8.\n",
            "  warnings.warn(\n",
            "/usr/local/lib/python3.10/dist-packages/sklearn/utils/_tags.py:354: FutureWarning: The LGBMClassifier or classes from which it inherits use `_get_tags` and `_more_tags`. Please define the `__sklearn_tags__` method, or inherit from `sklearn.base.BaseEstimator` and/or other appropriate mixins such as `sklearn.base.TransformerMixin`, `sklearn.base.ClassifierMixin`, `sklearn.base.RegressorMixin`, and `sklearn.base.OutlierMixin`. From scikit-learn 1.7, not defining `__sklearn_tags__` will raise an error.\n",
            "  warnings.warn(\n",
            "/usr/local/lib/python3.10/dist-packages/sklearn/utils/deprecation.py:151: FutureWarning: 'force_all_finite' was renamed to 'ensure_all_finite' in 1.6 and will be removed in 1.8.\n",
            "  warnings.warn(\n",
            "/usr/local/lib/python3.10/dist-packages/sklearn/utils/deprecation.py:151: FutureWarning: 'force_all_finite' was renamed to 'ensure_all_finite' in 1.6 and will be removed in 1.8.\n",
            "  warnings.warn(\n",
            "/usr/local/lib/python3.10/dist-packages/sklearn/utils/_tags.py:354: FutureWarning: The LGBMClassifier or classes from which it inherits use `_get_tags` and `_more_tags`. Please define the `__sklearn_tags__` method, or inherit from `sklearn.base.BaseEstimator` and/or other appropriate mixins such as `sklearn.base.TransformerMixin`, `sklearn.base.ClassifierMixin`, `sklearn.base.RegressorMixin`, and `sklearn.base.OutlierMixin`. From scikit-learn 1.7, not defining `__sklearn_tags__` will raise an error.\n",
            "  warnings.warn(\n",
            "/usr/local/lib/python3.10/dist-packages/sklearn/utils/_tags.py:354: FutureWarning: The LGBMClassifier or classes from which it inherits use `_get_tags` and `_more_tags`. Please define the `__sklearn_tags__` method, or inherit from `sklearn.base.BaseEstimator` and/or other appropriate mixins such as `sklearn.base.TransformerMixin`, `sklearn.base.ClassifierMixin`, `sklearn.base.RegressorMixin`, and `sklearn.base.OutlierMixin`. From scikit-learn 1.7, not defining `__sklearn_tags__` will raise an error.\n",
            "  warnings.warn(\n",
            "/usr/local/lib/python3.10/dist-packages/sklearn/utils/deprecation.py:151: FutureWarning: 'force_all_finite' was renamed to 'ensure_all_finite' in 1.6 and will be removed in 1.8.\n",
            "  warnings.warn(\n",
            "/usr/local/lib/python3.10/dist-packages/sklearn/utils/deprecation.py:151: FutureWarning: 'force_all_finite' was renamed to 'ensure_all_finite' in 1.6 and will be removed in 1.8.\n",
            "  warnings.warn(\n",
            "/usr/local/lib/python3.10/dist-packages/sklearn/utils/_tags.py:354: FutureWarning: The LGBMClassifier or classes from which it inherits use `_get_tags` and `_more_tags`. Please define the `__sklearn_tags__` method, or inherit from `sklearn.base.BaseEstimator` and/or other appropriate mixins such as `sklearn.base.TransformerMixin`, `sklearn.base.ClassifierMixin`, `sklearn.base.RegressorMixin`, and `sklearn.base.OutlierMixin`. From scikit-learn 1.7, not defining `__sklearn_tags__` will raise an error.\n",
            "  warnings.warn(\n",
            "/usr/local/lib/python3.10/dist-packages/sklearn/utils/deprecation.py:151: FutureWarning: 'force_all_finite' was renamed to 'ensure_all_finite' in 1.6 and will be removed in 1.8.\n",
            "  warnings.warn(\n",
            "/usr/local/lib/python3.10/dist-packages/sklearn/utils/deprecation.py:151: FutureWarning: 'force_all_finite' was renamed to 'ensure_all_finite' in 1.6 and will be removed in 1.8.\n",
            "  warnings.warn(\n",
            "/usr/local/lib/python3.10/dist-packages/sklearn/utils/_tags.py:354: FutureWarning: The LGBMClassifier or classes from which it inherits use `_get_tags` and `_more_tags`. Please define the `__sklearn_tags__` method, or inherit from `sklearn.base.BaseEstimator` and/or other appropriate mixins such as `sklearn.base.TransformerMixin`, `sklearn.base.ClassifierMixin`, `sklearn.base.RegressorMixin`, and `sklearn.base.OutlierMixin`. From scikit-learn 1.7, not defining `__sklearn_tags__` will raise an error.\n",
            "  warnings.warn(\n",
            "/usr/local/lib/python3.10/dist-packages/sklearn/utils/deprecation.py:151: FutureWarning: 'force_all_finite' was renamed to 'ensure_all_finite' in 1.6 and will be removed in 1.8.\n",
            "  warnings.warn(\n",
            "/usr/local/lib/python3.10/dist-packages/sklearn/utils/deprecation.py:151: FutureWarning: 'force_all_finite' was renamed to 'ensure_all_finite' in 1.6 and will be removed in 1.8.\n",
            "  warnings.warn(\n",
            "/usr/local/lib/python3.10/dist-packages/sklearn/utils/_tags.py:354: FutureWarning: The LGBMClassifier or classes from which it inherits use `_get_tags` and `_more_tags`. Please define the `__sklearn_tags__` method, or inherit from `sklearn.base.BaseEstimator` and/or other appropriate mixins such as `sklearn.base.TransformerMixin`, `sklearn.base.ClassifierMixin`, `sklearn.base.RegressorMixin`, and `sklearn.base.OutlierMixin`. From scikit-learn 1.7, not defining `__sklearn_tags__` will raise an error.\n",
            "  warnings.warn(\n",
            "/usr/local/lib/python3.10/dist-packages/sklearn/utils/deprecation.py:151: FutureWarning: 'force_all_finite' was renamed to 'ensure_all_finite' in 1.6 and will be removed in 1.8.\n",
            "  warnings.warn(\n",
            "/usr/local/lib/python3.10/dist-packages/sklearn/utils/deprecation.py:151: FutureWarning: 'force_all_finite' was renamed to 'ensure_all_finite' in 1.6 and will be removed in 1.8.\n",
            "  warnings.warn(\n",
            "/usr/local/lib/python3.10/dist-packages/sklearn/utils/_tags.py:354: FutureWarning: The LGBMClassifier or classes from which it inherits use `_get_tags` and `_more_tags`. Please define the `__sklearn_tags__` method, or inherit from `sklearn.base.BaseEstimator` and/or other appropriate mixins such as `sklearn.base.TransformerMixin`, `sklearn.base.ClassifierMixin`, `sklearn.base.RegressorMixin`, and `sklearn.base.OutlierMixin`. From scikit-learn 1.7, not defining `__sklearn_tags__` will raise an error.\n",
            "  warnings.warn(\n",
            "/usr/local/lib/python3.10/dist-packages/sklearn/utils/deprecation.py:151: FutureWarning: 'force_all_finite' was renamed to 'ensure_all_finite' in 1.6 and will be removed in 1.8.\n",
            "  warnings.warn(\n",
            "/usr/local/lib/python3.10/dist-packages/sklearn/utils/deprecation.py:151: FutureWarning: 'force_all_finite' was renamed to 'ensure_all_finite' in 1.6 and will be removed in 1.8.\n",
            "  warnings.warn(\n",
            "/usr/local/lib/python3.10/dist-packages/sklearn/utils/_tags.py:354: FutureWarning: The LGBMClassifier or classes from which it inherits use `_get_tags` and `_more_tags`. Please define the `__sklearn_tags__` method, or inherit from `sklearn.base.BaseEstimator` and/or other appropriate mixins such as `sklearn.base.TransformerMixin`, `sklearn.base.ClassifierMixin`, `sklearn.base.RegressorMixin`, and `sklearn.base.OutlierMixin`. From scikit-learn 1.7, not defining `__sklearn_tags__` will raise an error.\n",
            "  warnings.warn(\n",
            "/usr/local/lib/python3.10/dist-packages/sklearn/utils/deprecation.py:151: FutureWarning: 'force_all_finite' was renamed to 'ensure_all_finite' in 1.6 and will be removed in 1.8.\n",
            "  warnings.warn(\n",
            "/usr/local/lib/python3.10/dist-packages/sklearn/utils/deprecation.py:151: FutureWarning: 'force_all_finite' was renamed to 'ensure_all_finite' in 1.6 and will be removed in 1.8.\n",
            "  warnings.warn(\n",
            "/usr/local/lib/python3.10/dist-packages/sklearn/utils/_tags.py:354: FutureWarning: The LGBMClassifier or classes from which it inherits use `_get_tags` and `_more_tags`. Please define the `__sklearn_tags__` method, or inherit from `sklearn.base.BaseEstimator` and/or other appropriate mixins such as `sklearn.base.TransformerMixin`, `sklearn.base.ClassifierMixin`, `sklearn.base.RegressorMixin`, and `sklearn.base.OutlierMixin`. From scikit-learn 1.7, not defining `__sklearn_tags__` will raise an error.\n",
            "  warnings.warn(\n",
            "/usr/local/lib/python3.10/dist-packages/sklearn/utils/_tags.py:354: FutureWarning: The LGBMClassifier or classes from which it inherits use `_get_tags` and `_more_tags`. Please define the `__sklearn_tags__` method, or inherit from `sklearn.base.BaseEstimator` and/or other appropriate mixins such as `sklearn.base.TransformerMixin`, `sklearn.base.ClassifierMixin`, `sklearn.base.RegressorMixin`, and `sklearn.base.OutlierMixin`. From scikit-learn 1.7, not defining `__sklearn_tags__` will raise an error.\n",
            "  warnings.warn(\n",
            "/usr/local/lib/python3.10/dist-packages/sklearn/utils/deprecation.py:151: FutureWarning: 'force_all_finite' was renamed to 'ensure_all_finite' in 1.6 and will be removed in 1.8.\n",
            "  warnings.warn(\n",
            "/usr/local/lib/python3.10/dist-packages/sklearn/utils/deprecation.py:151: FutureWarning: 'force_all_finite' was renamed to 'ensure_all_finite' in 1.6 and will be removed in 1.8.\n",
            "  warnings.warn(\n",
            "/usr/local/lib/python3.10/dist-packages/sklearn/utils/_tags.py:354: FutureWarning: The LGBMClassifier or classes from which it inherits use `_get_tags` and `_more_tags`. Please define the `__sklearn_tags__` method, or inherit from `sklearn.base.BaseEstimator` and/or other appropriate mixins such as `sklearn.base.TransformerMixin`, `sklearn.base.ClassifierMixin`, `sklearn.base.RegressorMixin`, and `sklearn.base.OutlierMixin`. From scikit-learn 1.7, not defining `__sklearn_tags__` will raise an error.\n",
            "  warnings.warn(\n",
            "/usr/local/lib/python3.10/dist-packages/sklearn/utils/deprecation.py:151: FutureWarning: 'force_all_finite' was renamed to 'ensure_all_finite' in 1.6 and will be removed in 1.8.\n",
            "  warnings.warn(\n",
            "/usr/local/lib/python3.10/dist-packages/sklearn/utils/deprecation.py:151: FutureWarning: 'force_all_finite' was renamed to 'ensure_all_finite' in 1.6 and will be removed in 1.8.\n",
            "  warnings.warn(\n",
            "/usr/local/lib/python3.10/dist-packages/sklearn/utils/_tags.py:354: FutureWarning: The LGBMClassifier or classes from which it inherits use `_get_tags` and `_more_tags`. Please define the `__sklearn_tags__` method, or inherit from `sklearn.base.BaseEstimator` and/or other appropriate mixins such as `sklearn.base.TransformerMixin`, `sklearn.base.ClassifierMixin`, `sklearn.base.RegressorMixin`, and `sklearn.base.OutlierMixin`. From scikit-learn 1.7, not defining `__sklearn_tags__` will raise an error.\n",
            "  warnings.warn(\n",
            "/usr/local/lib/python3.10/dist-packages/sklearn/utils/deprecation.py:151: FutureWarning: 'force_all_finite' was renamed to 'ensure_all_finite' in 1.6 and will be removed in 1.8.\n",
            "  warnings.warn(\n",
            "/usr/local/lib/python3.10/dist-packages/sklearn/utils/deprecation.py:151: FutureWarning: 'force_all_finite' was renamed to 'ensure_all_finite' in 1.6 and will be removed in 1.8.\n",
            "  warnings.warn(\n",
            "/usr/local/lib/python3.10/dist-packages/sklearn/utils/_tags.py:354: FutureWarning: The LGBMClassifier or classes from which it inherits use `_get_tags` and `_more_tags`. Please define the `__sklearn_tags__` method, or inherit from `sklearn.base.BaseEstimator` and/or other appropriate mixins such as `sklearn.base.TransformerMixin`, `sklearn.base.ClassifierMixin`, `sklearn.base.RegressorMixin`, and `sklearn.base.OutlierMixin`. From scikit-learn 1.7, not defining `__sklearn_tags__` will raise an error.\n",
            "  warnings.warn(\n",
            "/usr/local/lib/python3.10/dist-packages/sklearn/utils/deprecation.py:151: FutureWarning: 'force_all_finite' was renamed to 'ensure_all_finite' in 1.6 and will be removed in 1.8.\n",
            "  warnings.warn(\n",
            "/usr/local/lib/python3.10/dist-packages/sklearn/compose/_column_transformer.py:1651: FutureWarning: \n",
            "The format of the columns of the 'remainder' transformer in ColumnTransformer.transformers_ will change in version 1.7 to match the format of the other transformers.\n",
            "At the moment the remainder columns are stored as indices (of type int). With the same ColumnTransformer configuration, in the future they will be stored as column names (of type str).\n",
            "To use the new behavior now and suppress this warning, use ColumnTransformer(force_int_remainder_cols=False).\n",
            "\n",
            "  warnings.warn(\n"
          ]
        },
        {
          "output_type": "execute_result",
          "data": {
            "text/plain": [
              "RandomizedSearchCV(cv=3,\n",
              "                   estimator=Pipeline(steps=[('selector_num',\n",
              "                                              ColumnTransformer(remainder='passthrough',\n",
              "                                                                transformers=[('poly',\n",
              "                                                                               PolynomialFeatures(),\n",
              "                                                                               ['age',\n",
              "                                                                                'fnlwgt',\n",
              "                                                                                'education-num',\n",
              "                                                                                'capital-gain',\n",
              "                                                                                'capital-loss',\n",
              "                                                                                'hours-per-week'])])),\n",
              "                                             ('cat_encoder',\n",
              "                                              OrdinalEncoder(handle_unknown='use_encoded_value',\n",
              "                                                             unknown_value=99999999)),\n",
              "                                             ('classifier',\n",
              "                                              <catboost.c...\n",
              "                                         'classifier__n_estimators': <scipy.stats._distn_infrastructure.rv_discrete_frozen object at 0x7fbe3996c9d0>,\n",
              "                                         'classifier__subsample': <scipy.stats._distn_infrastructure.rv_continuous_frozen object at 0x7fbe2ae5e3e0>,\n",
              "                                         'selector_num__poly__degree': [1, 2,\n",
              "                                                                        3]},\n",
              "                                        {'cat_encoder': [OneHotEncoder(handle_unknown='ignore')],\n",
              "                                         'classifier': [LogisticRegression(max_iter=1000)],\n",
              "                                         'classifier__C': [1e-05, 0.0001, 0.001,\n",
              "                                                           0.01, 0.1, 1, 10,\n",
              "                                                           100]}],\n",
              "                   verbose=1)"
            ],
            "text/html": [
              "<style>#sk-container-id-1 {\n",
              "  /* Definition of color scheme common for light and dark mode */\n",
              "  --sklearn-color-text: #000;\n",
              "  --sklearn-color-text-muted: #666;\n",
              "  --sklearn-color-line: gray;\n",
              "  /* Definition of color scheme for unfitted estimators */\n",
              "  --sklearn-color-unfitted-level-0: #fff5e6;\n",
              "  --sklearn-color-unfitted-level-1: #f6e4d2;\n",
              "  --sklearn-color-unfitted-level-2: #ffe0b3;\n",
              "  --sklearn-color-unfitted-level-3: chocolate;\n",
              "  /* Definition of color scheme for fitted estimators */\n",
              "  --sklearn-color-fitted-level-0: #f0f8ff;\n",
              "  --sklearn-color-fitted-level-1: #d4ebff;\n",
              "  --sklearn-color-fitted-level-2: #b3dbfd;\n",
              "  --sklearn-color-fitted-level-3: cornflowerblue;\n",
              "\n",
              "  /* Specific color for light theme */\n",
              "  --sklearn-color-text-on-default-background: var(--sg-text-color, var(--theme-code-foreground, var(--jp-content-font-color1, black)));\n",
              "  --sklearn-color-background: var(--sg-background-color, var(--theme-background, var(--jp-layout-color0, white)));\n",
              "  --sklearn-color-border-box: var(--sg-text-color, var(--theme-code-foreground, var(--jp-content-font-color1, black)));\n",
              "  --sklearn-color-icon: #696969;\n",
              "\n",
              "  @media (prefers-color-scheme: dark) {\n",
              "    /* Redefinition of color scheme for dark theme */\n",
              "    --sklearn-color-text-on-default-background: var(--sg-text-color, var(--theme-code-foreground, var(--jp-content-font-color1, white)));\n",
              "    --sklearn-color-background: var(--sg-background-color, var(--theme-background, var(--jp-layout-color0, #111)));\n",
              "    --sklearn-color-border-box: var(--sg-text-color, var(--theme-code-foreground, var(--jp-content-font-color1, white)));\n",
              "    --sklearn-color-icon: #878787;\n",
              "  }\n",
              "}\n",
              "\n",
              "#sk-container-id-1 {\n",
              "  color: var(--sklearn-color-text);\n",
              "}\n",
              "\n",
              "#sk-container-id-1 pre {\n",
              "  padding: 0;\n",
              "}\n",
              "\n",
              "#sk-container-id-1 input.sk-hidden--visually {\n",
              "  border: 0;\n",
              "  clip: rect(1px 1px 1px 1px);\n",
              "  clip: rect(1px, 1px, 1px, 1px);\n",
              "  height: 1px;\n",
              "  margin: -1px;\n",
              "  overflow: hidden;\n",
              "  padding: 0;\n",
              "  position: absolute;\n",
              "  width: 1px;\n",
              "}\n",
              "\n",
              "#sk-container-id-1 div.sk-dashed-wrapped {\n",
              "  border: 1px dashed var(--sklearn-color-line);\n",
              "  margin: 0 0.4em 0.5em 0.4em;\n",
              "  box-sizing: border-box;\n",
              "  padding-bottom: 0.4em;\n",
              "  background-color: var(--sklearn-color-background);\n",
              "}\n",
              "\n",
              "#sk-container-id-1 div.sk-container {\n",
              "  /* jupyter's `normalize.less` sets `[hidden] { display: none; }`\n",
              "     but bootstrap.min.css set `[hidden] { display: none !important; }`\n",
              "     so we also need the `!important` here to be able to override the\n",
              "     default hidden behavior on the sphinx rendered scikit-learn.org.\n",
              "     See: https://github.com/scikit-learn/scikit-learn/issues/21755 */\n",
              "  display: inline-block !important;\n",
              "  position: relative;\n",
              "}\n",
              "\n",
              "#sk-container-id-1 div.sk-text-repr-fallback {\n",
              "  display: none;\n",
              "}\n",
              "\n",
              "div.sk-parallel-item,\n",
              "div.sk-serial,\n",
              "div.sk-item {\n",
              "  /* draw centered vertical line to link estimators */\n",
              "  background-image: linear-gradient(var(--sklearn-color-text-on-default-background), var(--sklearn-color-text-on-default-background));\n",
              "  background-size: 2px 100%;\n",
              "  background-repeat: no-repeat;\n",
              "  background-position: center center;\n",
              "}\n",
              "\n",
              "/* Parallel-specific style estimator block */\n",
              "\n",
              "#sk-container-id-1 div.sk-parallel-item::after {\n",
              "  content: \"\";\n",
              "  width: 100%;\n",
              "  border-bottom: 2px solid var(--sklearn-color-text-on-default-background);\n",
              "  flex-grow: 1;\n",
              "}\n",
              "\n",
              "#sk-container-id-1 div.sk-parallel {\n",
              "  display: flex;\n",
              "  align-items: stretch;\n",
              "  justify-content: center;\n",
              "  background-color: var(--sklearn-color-background);\n",
              "  position: relative;\n",
              "}\n",
              "\n",
              "#sk-container-id-1 div.sk-parallel-item {\n",
              "  display: flex;\n",
              "  flex-direction: column;\n",
              "}\n",
              "\n",
              "#sk-container-id-1 div.sk-parallel-item:first-child::after {\n",
              "  align-self: flex-end;\n",
              "  width: 50%;\n",
              "}\n",
              "\n",
              "#sk-container-id-1 div.sk-parallel-item:last-child::after {\n",
              "  align-self: flex-start;\n",
              "  width: 50%;\n",
              "}\n",
              "\n",
              "#sk-container-id-1 div.sk-parallel-item:only-child::after {\n",
              "  width: 0;\n",
              "}\n",
              "\n",
              "/* Serial-specific style estimator block */\n",
              "\n",
              "#sk-container-id-1 div.sk-serial {\n",
              "  display: flex;\n",
              "  flex-direction: column;\n",
              "  align-items: center;\n",
              "  background-color: var(--sklearn-color-background);\n",
              "  padding-right: 1em;\n",
              "  padding-left: 1em;\n",
              "}\n",
              "\n",
              "\n",
              "/* Toggleable style: style used for estimator/Pipeline/ColumnTransformer box that is\n",
              "clickable and can be expanded/collapsed.\n",
              "- Pipeline and ColumnTransformer use this feature and define the default style\n",
              "- Estimators will overwrite some part of the style using the `sk-estimator` class\n",
              "*/\n",
              "\n",
              "/* Pipeline and ColumnTransformer style (default) */\n",
              "\n",
              "#sk-container-id-1 div.sk-toggleable {\n",
              "  /* Default theme specific background. It is overwritten whether we have a\n",
              "  specific estimator or a Pipeline/ColumnTransformer */\n",
              "  background-color: var(--sklearn-color-background);\n",
              "}\n",
              "\n",
              "/* Toggleable label */\n",
              "#sk-container-id-1 label.sk-toggleable__label {\n",
              "  cursor: pointer;\n",
              "  display: flex;\n",
              "  width: 100%;\n",
              "  margin-bottom: 0;\n",
              "  padding: 0.5em;\n",
              "  box-sizing: border-box;\n",
              "  text-align: center;\n",
              "  align-items: start;\n",
              "  justify-content: space-between;\n",
              "  gap: 0.5em;\n",
              "}\n",
              "\n",
              "#sk-container-id-1 label.sk-toggleable__label .caption {\n",
              "  font-size: 0.6rem;\n",
              "  font-weight: lighter;\n",
              "  color: var(--sklearn-color-text-muted);\n",
              "}\n",
              "\n",
              "#sk-container-id-1 label.sk-toggleable__label-arrow:before {\n",
              "  /* Arrow on the left of the label */\n",
              "  content: \"▸\";\n",
              "  float: left;\n",
              "  margin-right: 0.25em;\n",
              "  color: var(--sklearn-color-icon);\n",
              "}\n",
              "\n",
              "#sk-container-id-1 label.sk-toggleable__label-arrow:hover:before {\n",
              "  color: var(--sklearn-color-text);\n",
              "}\n",
              "\n",
              "/* Toggleable content - dropdown */\n",
              "\n",
              "#sk-container-id-1 div.sk-toggleable__content {\n",
              "  max-height: 0;\n",
              "  max-width: 0;\n",
              "  overflow: hidden;\n",
              "  text-align: left;\n",
              "  /* unfitted */\n",
              "  background-color: var(--sklearn-color-unfitted-level-0);\n",
              "}\n",
              "\n",
              "#sk-container-id-1 div.sk-toggleable__content.fitted {\n",
              "  /* fitted */\n",
              "  background-color: var(--sklearn-color-fitted-level-0);\n",
              "}\n",
              "\n",
              "#sk-container-id-1 div.sk-toggleable__content pre {\n",
              "  margin: 0.2em;\n",
              "  border-radius: 0.25em;\n",
              "  color: var(--sklearn-color-text);\n",
              "  /* unfitted */\n",
              "  background-color: var(--sklearn-color-unfitted-level-0);\n",
              "}\n",
              "\n",
              "#sk-container-id-1 div.sk-toggleable__content.fitted pre {\n",
              "  /* unfitted */\n",
              "  background-color: var(--sklearn-color-fitted-level-0);\n",
              "}\n",
              "\n",
              "#sk-container-id-1 input.sk-toggleable__control:checked~div.sk-toggleable__content {\n",
              "  /* Expand drop-down */\n",
              "  max-height: 200px;\n",
              "  max-width: 100%;\n",
              "  overflow: auto;\n",
              "}\n",
              "\n",
              "#sk-container-id-1 input.sk-toggleable__control:checked~label.sk-toggleable__label-arrow:before {\n",
              "  content: \"▾\";\n",
              "}\n",
              "\n",
              "/* Pipeline/ColumnTransformer-specific style */\n",
              "\n",
              "#sk-container-id-1 div.sk-label input.sk-toggleable__control:checked~label.sk-toggleable__label {\n",
              "  color: var(--sklearn-color-text);\n",
              "  background-color: var(--sklearn-color-unfitted-level-2);\n",
              "}\n",
              "\n",
              "#sk-container-id-1 div.sk-label.fitted input.sk-toggleable__control:checked~label.sk-toggleable__label {\n",
              "  background-color: var(--sklearn-color-fitted-level-2);\n",
              "}\n",
              "\n",
              "/* Estimator-specific style */\n",
              "\n",
              "/* Colorize estimator box */\n",
              "#sk-container-id-1 div.sk-estimator input.sk-toggleable__control:checked~label.sk-toggleable__label {\n",
              "  /* unfitted */\n",
              "  background-color: var(--sklearn-color-unfitted-level-2);\n",
              "}\n",
              "\n",
              "#sk-container-id-1 div.sk-estimator.fitted input.sk-toggleable__control:checked~label.sk-toggleable__label {\n",
              "  /* fitted */\n",
              "  background-color: var(--sklearn-color-fitted-level-2);\n",
              "}\n",
              "\n",
              "#sk-container-id-1 div.sk-label label.sk-toggleable__label,\n",
              "#sk-container-id-1 div.sk-label label {\n",
              "  /* The background is the default theme color */\n",
              "  color: var(--sklearn-color-text-on-default-background);\n",
              "}\n",
              "\n",
              "/* On hover, darken the color of the background */\n",
              "#sk-container-id-1 div.sk-label:hover label.sk-toggleable__label {\n",
              "  color: var(--sklearn-color-text);\n",
              "  background-color: var(--sklearn-color-unfitted-level-2);\n",
              "}\n",
              "\n",
              "/* Label box, darken color on hover, fitted */\n",
              "#sk-container-id-1 div.sk-label.fitted:hover label.sk-toggleable__label.fitted {\n",
              "  color: var(--sklearn-color-text);\n",
              "  background-color: var(--sklearn-color-fitted-level-2);\n",
              "}\n",
              "\n",
              "/* Estimator label */\n",
              "\n",
              "#sk-container-id-1 div.sk-label label {\n",
              "  font-family: monospace;\n",
              "  font-weight: bold;\n",
              "  display: inline-block;\n",
              "  line-height: 1.2em;\n",
              "}\n",
              "\n",
              "#sk-container-id-1 div.sk-label-container {\n",
              "  text-align: center;\n",
              "}\n",
              "\n",
              "/* Estimator-specific */\n",
              "#sk-container-id-1 div.sk-estimator {\n",
              "  font-family: monospace;\n",
              "  border: 1px dotted var(--sklearn-color-border-box);\n",
              "  border-radius: 0.25em;\n",
              "  box-sizing: border-box;\n",
              "  margin-bottom: 0.5em;\n",
              "  /* unfitted */\n",
              "  background-color: var(--sklearn-color-unfitted-level-0);\n",
              "}\n",
              "\n",
              "#sk-container-id-1 div.sk-estimator.fitted {\n",
              "  /* fitted */\n",
              "  background-color: var(--sklearn-color-fitted-level-0);\n",
              "}\n",
              "\n",
              "/* on hover */\n",
              "#sk-container-id-1 div.sk-estimator:hover {\n",
              "  /* unfitted */\n",
              "  background-color: var(--sklearn-color-unfitted-level-2);\n",
              "}\n",
              "\n",
              "#sk-container-id-1 div.sk-estimator.fitted:hover {\n",
              "  /* fitted */\n",
              "  background-color: var(--sklearn-color-fitted-level-2);\n",
              "}\n",
              "\n",
              "/* Specification for estimator info (e.g. \"i\" and \"?\") */\n",
              "\n",
              "/* Common style for \"i\" and \"?\" */\n",
              "\n",
              ".sk-estimator-doc-link,\n",
              "a:link.sk-estimator-doc-link,\n",
              "a:visited.sk-estimator-doc-link {\n",
              "  float: right;\n",
              "  font-size: smaller;\n",
              "  line-height: 1em;\n",
              "  font-family: monospace;\n",
              "  background-color: var(--sklearn-color-background);\n",
              "  border-radius: 1em;\n",
              "  height: 1em;\n",
              "  width: 1em;\n",
              "  text-decoration: none !important;\n",
              "  margin-left: 0.5em;\n",
              "  text-align: center;\n",
              "  /* unfitted */\n",
              "  border: var(--sklearn-color-unfitted-level-1) 1pt solid;\n",
              "  color: var(--sklearn-color-unfitted-level-1);\n",
              "}\n",
              "\n",
              ".sk-estimator-doc-link.fitted,\n",
              "a:link.sk-estimator-doc-link.fitted,\n",
              "a:visited.sk-estimator-doc-link.fitted {\n",
              "  /* fitted */\n",
              "  border: var(--sklearn-color-fitted-level-1) 1pt solid;\n",
              "  color: var(--sklearn-color-fitted-level-1);\n",
              "}\n",
              "\n",
              "/* On hover */\n",
              "div.sk-estimator:hover .sk-estimator-doc-link:hover,\n",
              ".sk-estimator-doc-link:hover,\n",
              "div.sk-label-container:hover .sk-estimator-doc-link:hover,\n",
              ".sk-estimator-doc-link:hover {\n",
              "  /* unfitted */\n",
              "  background-color: var(--sklearn-color-unfitted-level-3);\n",
              "  color: var(--sklearn-color-background);\n",
              "  text-decoration: none;\n",
              "}\n",
              "\n",
              "div.sk-estimator.fitted:hover .sk-estimator-doc-link.fitted:hover,\n",
              ".sk-estimator-doc-link.fitted:hover,\n",
              "div.sk-label-container:hover .sk-estimator-doc-link.fitted:hover,\n",
              ".sk-estimator-doc-link.fitted:hover {\n",
              "  /* fitted */\n",
              "  background-color: var(--sklearn-color-fitted-level-3);\n",
              "  color: var(--sklearn-color-background);\n",
              "  text-decoration: none;\n",
              "}\n",
              "\n",
              "/* Span, style for the box shown on hovering the info icon */\n",
              ".sk-estimator-doc-link span {\n",
              "  display: none;\n",
              "  z-index: 9999;\n",
              "  position: relative;\n",
              "  font-weight: normal;\n",
              "  right: .2ex;\n",
              "  padding: .5ex;\n",
              "  margin: .5ex;\n",
              "  width: min-content;\n",
              "  min-width: 20ex;\n",
              "  max-width: 50ex;\n",
              "  color: var(--sklearn-color-text);\n",
              "  box-shadow: 2pt 2pt 4pt #999;\n",
              "  /* unfitted */\n",
              "  background: var(--sklearn-color-unfitted-level-0);\n",
              "  border: .5pt solid var(--sklearn-color-unfitted-level-3);\n",
              "}\n",
              "\n",
              ".sk-estimator-doc-link.fitted span {\n",
              "  /* fitted */\n",
              "  background: var(--sklearn-color-fitted-level-0);\n",
              "  border: var(--sklearn-color-fitted-level-3);\n",
              "}\n",
              "\n",
              ".sk-estimator-doc-link:hover span {\n",
              "  display: block;\n",
              "}\n",
              "\n",
              "/* \"?\"-specific style due to the `<a>` HTML tag */\n",
              "\n",
              "#sk-container-id-1 a.estimator_doc_link {\n",
              "  float: right;\n",
              "  font-size: 1rem;\n",
              "  line-height: 1em;\n",
              "  font-family: monospace;\n",
              "  background-color: var(--sklearn-color-background);\n",
              "  border-radius: 1rem;\n",
              "  height: 1rem;\n",
              "  width: 1rem;\n",
              "  text-decoration: none;\n",
              "  /* unfitted */\n",
              "  color: var(--sklearn-color-unfitted-level-1);\n",
              "  border: var(--sklearn-color-unfitted-level-1) 1pt solid;\n",
              "}\n",
              "\n",
              "#sk-container-id-1 a.estimator_doc_link.fitted {\n",
              "  /* fitted */\n",
              "  border: var(--sklearn-color-fitted-level-1) 1pt solid;\n",
              "  color: var(--sklearn-color-fitted-level-1);\n",
              "}\n",
              "\n",
              "/* On hover */\n",
              "#sk-container-id-1 a.estimator_doc_link:hover {\n",
              "  /* unfitted */\n",
              "  background-color: var(--sklearn-color-unfitted-level-3);\n",
              "  color: var(--sklearn-color-background);\n",
              "  text-decoration: none;\n",
              "}\n",
              "\n",
              "#sk-container-id-1 a.estimator_doc_link.fitted:hover {\n",
              "  /* fitted */\n",
              "  background-color: var(--sklearn-color-fitted-level-3);\n",
              "}\n",
              "</style><div id=\"sk-container-id-1\" class=\"sk-top-container\"><div class=\"sk-text-repr-fallback\"><pre>RandomizedSearchCV(cv=3,\n",
              "                   estimator=Pipeline(steps=[(&#x27;selector_num&#x27;,\n",
              "                                              ColumnTransformer(remainder=&#x27;passthrough&#x27;,\n",
              "                                                                transformers=[(&#x27;poly&#x27;,\n",
              "                                                                               PolynomialFeatures(),\n",
              "                                                                               [&#x27;age&#x27;,\n",
              "                                                                                &#x27;fnlwgt&#x27;,\n",
              "                                                                                &#x27;education-num&#x27;,\n",
              "                                                                                &#x27;capital-gain&#x27;,\n",
              "                                                                                &#x27;capital-loss&#x27;,\n",
              "                                                                                &#x27;hours-per-week&#x27;])])),\n",
              "                                             (&#x27;cat_encoder&#x27;,\n",
              "                                              OrdinalEncoder(handle_unknown=&#x27;use_encoded_value&#x27;,\n",
              "                                                             unknown_value=99999999)),\n",
              "                                             (&#x27;classifier&#x27;,\n",
              "                                              &lt;catboost.c...\n",
              "                                         &#x27;classifier__n_estimators&#x27;: &lt;scipy.stats._distn_infrastructure.rv_discrete_frozen object at 0x7fbe3996c9d0&gt;,\n",
              "                                         &#x27;classifier__subsample&#x27;: &lt;scipy.stats._distn_infrastructure.rv_continuous_frozen object at 0x7fbe2ae5e3e0&gt;,\n",
              "                                         &#x27;selector_num__poly__degree&#x27;: [1, 2,\n",
              "                                                                        3]},\n",
              "                                        {&#x27;cat_encoder&#x27;: [OneHotEncoder(handle_unknown=&#x27;ignore&#x27;)],\n",
              "                                         &#x27;classifier&#x27;: [LogisticRegression(max_iter=1000)],\n",
              "                                         &#x27;classifier__C&#x27;: [1e-05, 0.0001, 0.001,\n",
              "                                                           0.01, 0.1, 1, 10,\n",
              "                                                           100]}],\n",
              "                   verbose=1)</pre><b>In a Jupyter environment, please rerun this cell to show the HTML representation or trust the notebook. <br />On GitHub, the HTML representation is unable to render, please try loading this page with nbviewer.org.</b></div><div class=\"sk-container\" hidden><div class=\"sk-item sk-dashed-wrapped\"><div class=\"sk-label-container\"><div class=\"sk-label fitted sk-toggleable\"><input class=\"sk-toggleable__control sk-hidden--visually\" id=\"sk-estimator-id-1\" type=\"checkbox\" ><label for=\"sk-estimator-id-1\" class=\"sk-toggleable__label fitted sk-toggleable__label-arrow\"><div><div>RandomizedSearchCV</div></div><div><a class=\"sk-estimator-doc-link fitted\" rel=\"noreferrer\" target=\"_blank\" href=\"https://scikit-learn.org/1.6/modules/generated/sklearn.model_selection.RandomizedSearchCV.html\">?<span>Documentation for RandomizedSearchCV</span></a><span class=\"sk-estimator-doc-link fitted\">i<span>Fitted</span></span></div></label><div class=\"sk-toggleable__content fitted\"><pre>RandomizedSearchCV(cv=3,\n",
              "                   estimator=Pipeline(steps=[(&#x27;selector_num&#x27;,\n",
              "                                              ColumnTransformer(remainder=&#x27;passthrough&#x27;,\n",
              "                                                                transformers=[(&#x27;poly&#x27;,\n",
              "                                                                               PolynomialFeatures(),\n",
              "                                                                               [&#x27;age&#x27;,\n",
              "                                                                                &#x27;fnlwgt&#x27;,\n",
              "                                                                                &#x27;education-num&#x27;,\n",
              "                                                                                &#x27;capital-gain&#x27;,\n",
              "                                                                                &#x27;capital-loss&#x27;,\n",
              "                                                                                &#x27;hours-per-week&#x27;])])),\n",
              "                                             (&#x27;cat_encoder&#x27;,\n",
              "                                              OrdinalEncoder(handle_unknown=&#x27;use_encoded_value&#x27;,\n",
              "                                                             unknown_value=99999999)),\n",
              "                                             (&#x27;classifier&#x27;,\n",
              "                                              &lt;catboost.c...\n",
              "                                         &#x27;classifier__n_estimators&#x27;: &lt;scipy.stats._distn_infrastructure.rv_discrete_frozen object at 0x7fbe3996c9d0&gt;,\n",
              "                                         &#x27;classifier__subsample&#x27;: &lt;scipy.stats._distn_infrastructure.rv_continuous_frozen object at 0x7fbe2ae5e3e0&gt;,\n",
              "                                         &#x27;selector_num__poly__degree&#x27;: [1, 2,\n",
              "                                                                        3]},\n",
              "                                        {&#x27;cat_encoder&#x27;: [OneHotEncoder(handle_unknown=&#x27;ignore&#x27;)],\n",
              "                                         &#x27;classifier&#x27;: [LogisticRegression(max_iter=1000)],\n",
              "                                         &#x27;classifier__C&#x27;: [1e-05, 0.0001, 0.001,\n",
              "                                                           0.01, 0.1, 1, 10,\n",
              "                                                           100]}],\n",
              "                   verbose=1)</pre></div> </div></div><div class=\"sk-parallel\"><div class=\"sk-parallel-item\"><div class=\"sk-item\"><div class=\"sk-label-container\"><div class=\"sk-label fitted sk-toggleable\"><input class=\"sk-toggleable__control sk-hidden--visually\" id=\"sk-estimator-id-2\" type=\"checkbox\" ><label for=\"sk-estimator-id-2\" class=\"sk-toggleable__label fitted sk-toggleable__label-arrow\"><div><div>best_estimator_: Pipeline</div></div></label><div class=\"sk-toggleable__content fitted\"><pre>Pipeline(steps=[(&#x27;selector_num&#x27;,\n",
              "                 ColumnTransformer(remainder=&#x27;passthrough&#x27;,\n",
              "                                   transformers=[(&#x27;poly&#x27;,\n",
              "                                                  PolynomialFeatures(degree=1),\n",
              "                                                  [&#x27;age&#x27;, &#x27;fnlwgt&#x27;,\n",
              "                                                   &#x27;education-num&#x27;,\n",
              "                                                   &#x27;capital-gain&#x27;,\n",
              "                                                   &#x27;capital-loss&#x27;,\n",
              "                                                   &#x27;hours-per-week&#x27;])])),\n",
              "                (&#x27;cat_encoder&#x27;,\n",
              "                 OrdinalEncoder(handle_unknown=&#x27;use_encoded_value&#x27;,\n",
              "                                unknown_value=nan)),\n",
              "                (&#x27;classifier&#x27;,\n",
              "                 LGBMClassifier(colsample_bytree=0.9752891296788774,\n",
              "                                learning_rate=0.14746362344921932, max_depth=4,\n",
              "                                min_child_weight=15.99679297827804,\n",
              "                                n_estimators=92, n_jobs=3,\n",
              "                                reg_alpha=2.1576179010335004,\n",
              "                                subsample=0.8027994998722092, verbose=-1))])</pre></div> </div></div><div class=\"sk-serial\"><div class=\"sk-item\"><div class=\"sk-serial\"><div class=\"sk-item sk-dashed-wrapped\"><div class=\"sk-label-container\"><div class=\"sk-label fitted sk-toggleable\"><input class=\"sk-toggleable__control sk-hidden--visually\" id=\"sk-estimator-id-3\" type=\"checkbox\" ><label for=\"sk-estimator-id-3\" class=\"sk-toggleable__label fitted sk-toggleable__label-arrow\"><div><div>selector_num: ColumnTransformer</div></div><div><a class=\"sk-estimator-doc-link fitted\" rel=\"noreferrer\" target=\"_blank\" href=\"https://scikit-learn.org/1.6/modules/generated/sklearn.compose.ColumnTransformer.html\">?<span>Documentation for selector_num: ColumnTransformer</span></a></div></label><div class=\"sk-toggleable__content fitted\"><pre>ColumnTransformer(remainder=&#x27;passthrough&#x27;,\n",
              "                  transformers=[(&#x27;poly&#x27;, PolynomialFeatures(degree=1),\n",
              "                                 [&#x27;age&#x27;, &#x27;fnlwgt&#x27;, &#x27;education-num&#x27;,\n",
              "                                  &#x27;capital-gain&#x27;, &#x27;capital-loss&#x27;,\n",
              "                                  &#x27;hours-per-week&#x27;])])</pre></div> </div></div><div class=\"sk-parallel\"><div class=\"sk-parallel-item\"><div class=\"sk-item\"><div class=\"sk-label-container\"><div class=\"sk-label fitted sk-toggleable\"><input class=\"sk-toggleable__control sk-hidden--visually\" id=\"sk-estimator-id-4\" type=\"checkbox\" ><label for=\"sk-estimator-id-4\" class=\"sk-toggleable__label fitted sk-toggleable__label-arrow\"><div><div>poly</div></div></label><div class=\"sk-toggleable__content fitted\"><pre>[&#x27;age&#x27;, &#x27;fnlwgt&#x27;, &#x27;education-num&#x27;, &#x27;capital-gain&#x27;, &#x27;capital-loss&#x27;, &#x27;hours-per-week&#x27;]</pre></div> </div></div><div class=\"sk-serial\"><div class=\"sk-item\"><div class=\"sk-estimator fitted sk-toggleable\"><input class=\"sk-toggleable__control sk-hidden--visually\" id=\"sk-estimator-id-5\" type=\"checkbox\" ><label for=\"sk-estimator-id-5\" class=\"sk-toggleable__label fitted sk-toggleable__label-arrow\"><div><div>PolynomialFeatures</div></div><div><a class=\"sk-estimator-doc-link fitted\" rel=\"noreferrer\" target=\"_blank\" href=\"https://scikit-learn.org/1.6/modules/generated/sklearn.preprocessing.PolynomialFeatures.html\">?<span>Documentation for PolynomialFeatures</span></a></div></label><div class=\"sk-toggleable__content fitted\"><pre>PolynomialFeatures(degree=1)</pre></div> </div></div></div></div></div><div class=\"sk-parallel-item\"><div class=\"sk-item\"><div class=\"sk-label-container\"><div class=\"sk-label fitted sk-toggleable\"><input class=\"sk-toggleable__control sk-hidden--visually\" id=\"sk-estimator-id-6\" type=\"checkbox\" ><label for=\"sk-estimator-id-6\" class=\"sk-toggleable__label fitted sk-toggleable__label-arrow\"><div><div>remainder</div></div></label><div class=\"sk-toggleable__content fitted\"><pre>[&#x27;workclass&#x27;, &#x27;education&#x27;, &#x27;marital-status&#x27;, &#x27;occupation&#x27;, &#x27;relationship&#x27;, &#x27;race&#x27;, &#x27;sex&#x27;, &#x27;native-country&#x27;]</pre></div> </div></div><div class=\"sk-serial\"><div class=\"sk-item\"><div class=\"sk-estimator fitted sk-toggleable\"><input class=\"sk-toggleable__control sk-hidden--visually\" id=\"sk-estimator-id-7\" type=\"checkbox\" ><label for=\"sk-estimator-id-7\" class=\"sk-toggleable__label fitted sk-toggleable__label-arrow\"><div><div>passthrough</div></div></label><div class=\"sk-toggleable__content fitted\"><pre>passthrough</pre></div> </div></div></div></div></div></div></div><div class=\"sk-item\"><div class=\"sk-estimator fitted sk-toggleable\"><input class=\"sk-toggleable__control sk-hidden--visually\" id=\"sk-estimator-id-8\" type=\"checkbox\" ><label for=\"sk-estimator-id-8\" class=\"sk-toggleable__label fitted sk-toggleable__label-arrow\"><div><div>OrdinalEncoder</div></div><div><a class=\"sk-estimator-doc-link fitted\" rel=\"noreferrer\" target=\"_blank\" href=\"https://scikit-learn.org/1.6/modules/generated/sklearn.preprocessing.OrdinalEncoder.html\">?<span>Documentation for OrdinalEncoder</span></a></div></label><div class=\"sk-toggleable__content fitted\"><pre>OrdinalEncoder(handle_unknown=&#x27;use_encoded_value&#x27;, unknown_value=nan)</pre></div> </div></div><div class=\"sk-item\"><div class=\"sk-estimator fitted sk-toggleable\"><input class=\"sk-toggleable__control sk-hidden--visually\" id=\"sk-estimator-id-9\" type=\"checkbox\" ><label for=\"sk-estimator-id-9\" class=\"sk-toggleable__label fitted sk-toggleable__label-arrow\"><div><div>LGBMClassifier</div></div></label><div class=\"sk-toggleable__content fitted\"><pre>LGBMClassifier(colsample_bytree=0.9752891296788774,\n",
              "               learning_rate=0.14746362344921932, max_depth=4,\n",
              "               min_child_weight=15.99679297827804, n_estimators=92, n_jobs=3,\n",
              "               reg_alpha=2.1576179010335004, subsample=0.8027994998722092,\n",
              "               verbose=-1)</pre></div> </div></div></div></div></div></div></div></div></div></div></div>"
            ]
          },
          "metadata": {},
          "execution_count": 44
        }
      ],
      "source": [
        "model.fit(X_train, y_train)"
      ]
    },
    {
      "cell_type": "markdown",
      "metadata": {
        "id": "bcZFChg8Ic05"
      },
      "source": [
        "Guardamos los resultados"
      ]
    },
    {
      "cell_type": "code",
      "execution_count": 45,
      "metadata": {
        "id": "KNXrr9eLIc05"
      },
      "outputs": [],
      "source": [
        "results = pd.DataFrame(model.cv_results_)"
      ]
    },
    {
      "cell_type": "code",
      "execution_count": 46,
      "metadata": {
        "colab": {
          "base_uri": "https://localhost:8080/"
        },
        "id": "jEVuv0kYIc06",
        "outputId": "1b08eebb-bff0-450f-a8a9-1b9e56aa2ff4"
      },
      "outputs": [
        {
          "output_type": "execute_result",
          "data": {
            "text/plain": [
              "Index(['mean_fit_time', 'std_fit_time', 'mean_score_time', 'std_score_time',\n",
              "       'param_cat_encoder__unknown_value', 'param_classifier',\n",
              "       'param_classifier__colsample_bytree', 'param_classifier__learning_rate',\n",
              "       'param_classifier__max_depth', 'param_classifier__min_child_weight',\n",
              "       'param_classifier__n_estimators', 'param_classifier__reg_alpha',\n",
              "       'param_classifier__subsample', 'param_selector_num__poly__degree',\n",
              "       'param_cat_encoder', 'param_classifier__C', 'params',\n",
              "       'split0_test_score', 'split1_test_score', 'split2_test_score',\n",
              "       'mean_test_score', 'std_test_score', 'rank_test_score'],\n",
              "      dtype='object')"
            ]
          },
          "metadata": {},
          "execution_count": 46
        }
      ],
      "source": [
        "results.columns"
      ]
    },
    {
      "cell_type": "code",
      "execution_count": 47,
      "metadata": {
        "colab": {
          "base_uri": "https://localhost:8080/",
          "height": 585
        },
        "id": "5EoPizQeIc06",
        "outputId": "75e82111-eed8-400d-9f43-7a02830194b8"
      },
      "outputs": [
        {
          "output_type": "execute_result",
          "data": {
            "text/plain": [
              "   mean_fit_time  std_fit_time  mean_score_time  std_score_time  \\\n",
              "0       6.728756      0.382053         2.702915        0.243329   \n",
              "1       0.460578      0.013202         0.158876        0.005608   \n",
              "2       6.477317      0.546950         3.609245        0.670651   \n",
              "3       8.801477      1.816231         0.804506        0.006272   \n",
              "4       0.987544      0.313659         0.302167        0.078482   \n",
              "5       0.624100      0.096688         0.171753        0.004091   \n",
              "6       0.692048      0.011386         0.188784        0.004300   \n",
              "7       8.578635      1.347242         0.790924        0.011944   \n",
              "8       6.948874      0.755337         3.178287        0.591363   \n",
              "9       2.150590      0.423120         0.891565        0.193180   \n",
              "\n",
              "   param_cat_encoder__unknown_value  \\\n",
              "0                               NaN   \n",
              "1                        99999999.0   \n",
              "2                        99999999.0   \n",
              "3                               NaN   \n",
              "4                               NaN   \n",
              "5                               NaN   \n",
              "6                        99999999.0   \n",
              "7                               NaN   \n",
              "8                        99999999.0   \n",
              "9                               NaN   \n",
              "\n",
              "                                    param_classifier  \\\n",
              "0               LGBMClassifier(n_jobs=3, verbose=-1)   \n",
              "1               LGBMClassifier(n_jobs=3, verbose=-1)   \n",
              "2  <catboost.core.CatBoostClassifier object at 0x...   \n",
              "3                  LogisticRegression(max_iter=1000)   \n",
              "4  <catboost.core.CatBoostClassifier object at 0x...   \n",
              "5               LGBMClassifier(n_jobs=3, verbose=-1)   \n",
              "6               LGBMClassifier(n_jobs=3, verbose=-1)   \n",
              "7                  LogisticRegression(max_iter=1000)   \n",
              "8  <catboost.core.CatBoostClassifier object at 0x...   \n",
              "9               LGBMClassifier(n_jobs=3, verbose=-1)   \n",
              "\n",
              "   param_classifier__colsample_bytree  param_classifier__learning_rate  \\\n",
              "0                            0.947911                         0.077910   \n",
              "1                            0.913455                         0.129249   \n",
              "2                                 NaN                         0.155922   \n",
              "3                                 NaN                              NaN   \n",
              "4                                 NaN                         0.115244   \n",
              "5                            0.975289                         0.147464   \n",
              "6                            0.917454                         0.281159   \n",
              "7                                 NaN                              NaN   \n",
              "8                                 NaN                         0.120634   \n",
              "9                            0.822955                         0.131240   \n",
              "\n",
              "   param_classifier__max_depth  param_classifier__min_child_weight  ...  \\\n",
              "0                          9.0                           17.125070  ...   \n",
              "1                          6.0                           12.842443  ...   \n",
              "2                          6.0                                 NaN  ...   \n",
              "3                          NaN                                 NaN  ...   \n",
              "4                          3.0                                 NaN  ...   \n",
              "5                          4.0                           15.996793  ...   \n",
              "6                          4.0                            1.247688  ...   \n",
              "7                          NaN                                 NaN  ...   \n",
              "8                          6.0                                 NaN  ...   \n",
              "9                          7.0                           17.740498  ...   \n",
              "\n",
              "   param_selector_num__poly__degree                       param_cat_encoder  \\\n",
              "0                               3.0                                     NaN   \n",
              "1                               1.0                                     NaN   \n",
              "2                               3.0                                     NaN   \n",
              "3                               NaN  OneHotEncoder(handle_unknown='ignore')   \n",
              "4                               1.0                                     NaN   \n",
              "5                               1.0                                     NaN   \n",
              "6                               1.0                                     NaN   \n",
              "7                               NaN  OneHotEncoder(handle_unknown='ignore')   \n",
              "8                               3.0                                     NaN   \n",
              "9                               2.0                                     NaN   \n",
              "\n",
              "   param_classifier__C                                             params  \\\n",
              "0                  NaN  {'cat_encoder__unknown_value': nan, 'classifie...   \n",
              "1                  NaN  {'cat_encoder__unknown_value': 99999999, 'clas...   \n",
              "2                  NaN  {'cat_encoder__unknown_value': 99999999, 'clas...   \n",
              "3                  1.0  {'cat_encoder': OneHotEncoder(handle_unknown='...   \n",
              "4                  NaN  {'cat_encoder__unknown_value': nan, 'classifie...   \n",
              "5                  NaN  {'cat_encoder__unknown_value': nan, 'classifie...   \n",
              "6                  NaN  {'cat_encoder__unknown_value': 99999999, 'clas...   \n",
              "7                  1.0  {'cat_encoder': OneHotEncoder(handle_unknown='...   \n",
              "8                  NaN  {'cat_encoder__unknown_value': 99999999, 'clas...   \n",
              "9                  NaN  {'cat_encoder__unknown_value': nan, 'classifie...   \n",
              "\n",
              "  split0_test_score  split1_test_score split2_test_score  mean_test_score  \\\n",
              "0          0.858762           0.860881          0.864830         0.861491   \n",
              "1          0.857933           0.863276          0.868516         0.863241   \n",
              "2          0.856827           0.858209          0.869990         0.861675   \n",
              "3          0.861802           0.866317          0.866765         0.864961   \n",
              "4          0.857196           0.861157          0.864646         0.860999   \n",
              "5          0.863276           0.869725          0.869529         0.867510   \n",
              "6          0.860420           0.864935          0.868147         0.864501   \n",
              "7          0.861802           0.866317          0.866765         0.864961   \n",
              "8          0.853694           0.859591          0.863540         0.858942   \n",
              "9          0.861434           0.866777          0.867594         0.865268   \n",
              "\n",
              "   std_test_score  rank_test_score  \n",
              "0        0.002515                8  \n",
              "1        0.004321                6  \n",
              "2        0.005906                7  \n",
              "3        0.002241                3  \n",
              "4        0.003044                9  \n",
              "5        0.002995                1  \n",
              "6        0.003169                5  \n",
              "7        0.002241                3  \n",
              "8        0.004046               10  \n",
              "9        0.002732                2  \n",
              "\n",
              "[10 rows x 23 columns]"
            ],
            "text/html": [
              "\n",
              "  <div id=\"df-e49fae33-7a4f-46b1-a6b6-ce89a3713817\" class=\"colab-df-container\">\n",
              "    <div>\n",
              "<style scoped>\n",
              "    .dataframe tbody tr th:only-of-type {\n",
              "        vertical-align: middle;\n",
              "    }\n",
              "\n",
              "    .dataframe tbody tr th {\n",
              "        vertical-align: top;\n",
              "    }\n",
              "\n",
              "    .dataframe thead th {\n",
              "        text-align: right;\n",
              "    }\n",
              "</style>\n",
              "<table border=\"1\" class=\"dataframe\">\n",
              "  <thead>\n",
              "    <tr style=\"text-align: right;\">\n",
              "      <th></th>\n",
              "      <th>mean_fit_time</th>\n",
              "      <th>std_fit_time</th>\n",
              "      <th>mean_score_time</th>\n",
              "      <th>std_score_time</th>\n",
              "      <th>param_cat_encoder__unknown_value</th>\n",
              "      <th>param_classifier</th>\n",
              "      <th>param_classifier__colsample_bytree</th>\n",
              "      <th>param_classifier__learning_rate</th>\n",
              "      <th>param_classifier__max_depth</th>\n",
              "      <th>param_classifier__min_child_weight</th>\n",
              "      <th>...</th>\n",
              "      <th>param_selector_num__poly__degree</th>\n",
              "      <th>param_cat_encoder</th>\n",
              "      <th>param_classifier__C</th>\n",
              "      <th>params</th>\n",
              "      <th>split0_test_score</th>\n",
              "      <th>split1_test_score</th>\n",
              "      <th>split2_test_score</th>\n",
              "      <th>mean_test_score</th>\n",
              "      <th>std_test_score</th>\n",
              "      <th>rank_test_score</th>\n",
              "    </tr>\n",
              "  </thead>\n",
              "  <tbody>\n",
              "    <tr>\n",
              "      <th>0</th>\n",
              "      <td>6.728756</td>\n",
              "      <td>0.382053</td>\n",
              "      <td>2.702915</td>\n",
              "      <td>0.243329</td>\n",
              "      <td>NaN</td>\n",
              "      <td>LGBMClassifier(n_jobs=3, verbose=-1)</td>\n",
              "      <td>0.947911</td>\n",
              "      <td>0.077910</td>\n",
              "      <td>9.0</td>\n",
              "      <td>17.125070</td>\n",
              "      <td>...</td>\n",
              "      <td>3.0</td>\n",
              "      <td>NaN</td>\n",
              "      <td>NaN</td>\n",
              "      <td>{'cat_encoder__unknown_value': nan, 'classifie...</td>\n",
              "      <td>0.858762</td>\n",
              "      <td>0.860881</td>\n",
              "      <td>0.864830</td>\n",
              "      <td>0.861491</td>\n",
              "      <td>0.002515</td>\n",
              "      <td>8</td>\n",
              "    </tr>\n",
              "    <tr>\n",
              "      <th>1</th>\n",
              "      <td>0.460578</td>\n",
              "      <td>0.013202</td>\n",
              "      <td>0.158876</td>\n",
              "      <td>0.005608</td>\n",
              "      <td>99999999.0</td>\n",
              "      <td>LGBMClassifier(n_jobs=3, verbose=-1)</td>\n",
              "      <td>0.913455</td>\n",
              "      <td>0.129249</td>\n",
              "      <td>6.0</td>\n",
              "      <td>12.842443</td>\n",
              "      <td>...</td>\n",
              "      <td>1.0</td>\n",
              "      <td>NaN</td>\n",
              "      <td>NaN</td>\n",
              "      <td>{'cat_encoder__unknown_value': 99999999, 'clas...</td>\n",
              "      <td>0.857933</td>\n",
              "      <td>0.863276</td>\n",
              "      <td>0.868516</td>\n",
              "      <td>0.863241</td>\n",
              "      <td>0.004321</td>\n",
              "      <td>6</td>\n",
              "    </tr>\n",
              "    <tr>\n",
              "      <th>2</th>\n",
              "      <td>6.477317</td>\n",
              "      <td>0.546950</td>\n",
              "      <td>3.609245</td>\n",
              "      <td>0.670651</td>\n",
              "      <td>99999999.0</td>\n",
              "      <td>&lt;catboost.core.CatBoostClassifier object at 0x...</td>\n",
              "      <td>NaN</td>\n",
              "      <td>0.155922</td>\n",
              "      <td>6.0</td>\n",
              "      <td>NaN</td>\n",
              "      <td>...</td>\n",
              "      <td>3.0</td>\n",
              "      <td>NaN</td>\n",
              "      <td>NaN</td>\n",
              "      <td>{'cat_encoder__unknown_value': 99999999, 'clas...</td>\n",
              "      <td>0.856827</td>\n",
              "      <td>0.858209</td>\n",
              "      <td>0.869990</td>\n",
              "      <td>0.861675</td>\n",
              "      <td>0.005906</td>\n",
              "      <td>7</td>\n",
              "    </tr>\n",
              "    <tr>\n",
              "      <th>3</th>\n",
              "      <td>8.801477</td>\n",
              "      <td>1.816231</td>\n",
              "      <td>0.804506</td>\n",
              "      <td>0.006272</td>\n",
              "      <td>NaN</td>\n",
              "      <td>LogisticRegression(max_iter=1000)</td>\n",
              "      <td>NaN</td>\n",
              "      <td>NaN</td>\n",
              "      <td>NaN</td>\n",
              "      <td>NaN</td>\n",
              "      <td>...</td>\n",
              "      <td>NaN</td>\n",
              "      <td>OneHotEncoder(handle_unknown='ignore')</td>\n",
              "      <td>1.0</td>\n",
              "      <td>{'cat_encoder': OneHotEncoder(handle_unknown='...</td>\n",
              "      <td>0.861802</td>\n",
              "      <td>0.866317</td>\n",
              "      <td>0.866765</td>\n",
              "      <td>0.864961</td>\n",
              "      <td>0.002241</td>\n",
              "      <td>3</td>\n",
              "    </tr>\n",
              "    <tr>\n",
              "      <th>4</th>\n",
              "      <td>0.987544</td>\n",
              "      <td>0.313659</td>\n",
              "      <td>0.302167</td>\n",
              "      <td>0.078482</td>\n",
              "      <td>NaN</td>\n",
              "      <td>&lt;catboost.core.CatBoostClassifier object at 0x...</td>\n",
              "      <td>NaN</td>\n",
              "      <td>0.115244</td>\n",
              "      <td>3.0</td>\n",
              "      <td>NaN</td>\n",
              "      <td>...</td>\n",
              "      <td>1.0</td>\n",
              "      <td>NaN</td>\n",
              "      <td>NaN</td>\n",
              "      <td>{'cat_encoder__unknown_value': nan, 'classifie...</td>\n",
              "      <td>0.857196</td>\n",
              "      <td>0.861157</td>\n",
              "      <td>0.864646</td>\n",
              "      <td>0.860999</td>\n",
              "      <td>0.003044</td>\n",
              "      <td>9</td>\n",
              "    </tr>\n",
              "    <tr>\n",
              "      <th>5</th>\n",
              "      <td>0.624100</td>\n",
              "      <td>0.096688</td>\n",
              "      <td>0.171753</td>\n",
              "      <td>0.004091</td>\n",
              "      <td>NaN</td>\n",
              "      <td>LGBMClassifier(n_jobs=3, verbose=-1)</td>\n",
              "      <td>0.975289</td>\n",
              "      <td>0.147464</td>\n",
              "      <td>4.0</td>\n",
              "      <td>15.996793</td>\n",
              "      <td>...</td>\n",
              "      <td>1.0</td>\n",
              "      <td>NaN</td>\n",
              "      <td>NaN</td>\n",
              "      <td>{'cat_encoder__unknown_value': nan, 'classifie...</td>\n",
              "      <td>0.863276</td>\n",
              "      <td>0.869725</td>\n",
              "      <td>0.869529</td>\n",
              "      <td>0.867510</td>\n",
              "      <td>0.002995</td>\n",
              "      <td>1</td>\n",
              "    </tr>\n",
              "    <tr>\n",
              "      <th>6</th>\n",
              "      <td>0.692048</td>\n",
              "      <td>0.011386</td>\n",
              "      <td>0.188784</td>\n",
              "      <td>0.004300</td>\n",
              "      <td>99999999.0</td>\n",
              "      <td>LGBMClassifier(n_jobs=3, verbose=-1)</td>\n",
              "      <td>0.917454</td>\n",
              "      <td>0.281159</td>\n",
              "      <td>4.0</td>\n",
              "      <td>1.247688</td>\n",
              "      <td>...</td>\n",
              "      <td>1.0</td>\n",
              "      <td>NaN</td>\n",
              "      <td>NaN</td>\n",
              "      <td>{'cat_encoder__unknown_value': 99999999, 'clas...</td>\n",
              "      <td>0.860420</td>\n",
              "      <td>0.864935</td>\n",
              "      <td>0.868147</td>\n",
              "      <td>0.864501</td>\n",
              "      <td>0.003169</td>\n",
              "      <td>5</td>\n",
              "    </tr>\n",
              "    <tr>\n",
              "      <th>7</th>\n",
              "      <td>8.578635</td>\n",
              "      <td>1.347242</td>\n",
              "      <td>0.790924</td>\n",
              "      <td>0.011944</td>\n",
              "      <td>NaN</td>\n",
              "      <td>LogisticRegression(max_iter=1000)</td>\n",
              "      <td>NaN</td>\n",
              "      <td>NaN</td>\n",
              "      <td>NaN</td>\n",
              "      <td>NaN</td>\n",
              "      <td>...</td>\n",
              "      <td>NaN</td>\n",
              "      <td>OneHotEncoder(handle_unknown='ignore')</td>\n",
              "      <td>1.0</td>\n",
              "      <td>{'cat_encoder': OneHotEncoder(handle_unknown='...</td>\n",
              "      <td>0.861802</td>\n",
              "      <td>0.866317</td>\n",
              "      <td>0.866765</td>\n",
              "      <td>0.864961</td>\n",
              "      <td>0.002241</td>\n",
              "      <td>3</td>\n",
              "    </tr>\n",
              "    <tr>\n",
              "      <th>8</th>\n",
              "      <td>6.948874</td>\n",
              "      <td>0.755337</td>\n",
              "      <td>3.178287</td>\n",
              "      <td>0.591363</td>\n",
              "      <td>99999999.0</td>\n",
              "      <td>&lt;catboost.core.CatBoostClassifier object at 0x...</td>\n",
              "      <td>NaN</td>\n",
              "      <td>0.120634</td>\n",
              "      <td>6.0</td>\n",
              "      <td>NaN</td>\n",
              "      <td>...</td>\n",
              "      <td>3.0</td>\n",
              "      <td>NaN</td>\n",
              "      <td>NaN</td>\n",
              "      <td>{'cat_encoder__unknown_value': 99999999, 'clas...</td>\n",
              "      <td>0.853694</td>\n",
              "      <td>0.859591</td>\n",
              "      <td>0.863540</td>\n",
              "      <td>0.858942</td>\n",
              "      <td>0.004046</td>\n",
              "      <td>10</td>\n",
              "    </tr>\n",
              "    <tr>\n",
              "      <th>9</th>\n",
              "      <td>2.150590</td>\n",
              "      <td>0.423120</td>\n",
              "      <td>0.891565</td>\n",
              "      <td>0.193180</td>\n",
              "      <td>NaN</td>\n",
              "      <td>LGBMClassifier(n_jobs=3, verbose=-1)</td>\n",
              "      <td>0.822955</td>\n",
              "      <td>0.131240</td>\n",
              "      <td>7.0</td>\n",
              "      <td>17.740498</td>\n",
              "      <td>...</td>\n",
              "      <td>2.0</td>\n",
              "      <td>NaN</td>\n",
              "      <td>NaN</td>\n",
              "      <td>{'cat_encoder__unknown_value': nan, 'classifie...</td>\n",
              "      <td>0.861434</td>\n",
              "      <td>0.866777</td>\n",
              "      <td>0.867594</td>\n",
              "      <td>0.865268</td>\n",
              "      <td>0.002732</td>\n",
              "      <td>2</td>\n",
              "    </tr>\n",
              "  </tbody>\n",
              "</table>\n",
              "<p>10 rows × 23 columns</p>\n",
              "</div>\n",
              "    <div class=\"colab-df-buttons\">\n",
              "\n",
              "  <div class=\"colab-df-container\">\n",
              "    <button class=\"colab-df-convert\" onclick=\"convertToInteractive('df-e49fae33-7a4f-46b1-a6b6-ce89a3713817')\"\n",
              "            title=\"Convert this dataframe to an interactive table.\"\n",
              "            style=\"display:none;\">\n",
              "\n",
              "  <svg xmlns=\"http://www.w3.org/2000/svg\" height=\"24px\" viewBox=\"0 -960 960 960\">\n",
              "    <path d=\"M120-120v-720h720v720H120Zm60-500h600v-160H180v160Zm220 220h160v-160H400v160Zm0 220h160v-160H400v160ZM180-400h160v-160H180v160Zm440 0h160v-160H620v160ZM180-180h160v-160H180v160Zm440 0h160v-160H620v160Z\"/>\n",
              "  </svg>\n",
              "    </button>\n",
              "\n",
              "  <style>\n",
              "    .colab-df-container {\n",
              "      display:flex;\n",
              "      gap: 12px;\n",
              "    }\n",
              "\n",
              "    .colab-df-convert {\n",
              "      background-color: #E8F0FE;\n",
              "      border: none;\n",
              "      border-radius: 50%;\n",
              "      cursor: pointer;\n",
              "      display: none;\n",
              "      fill: #1967D2;\n",
              "      height: 32px;\n",
              "      padding: 0 0 0 0;\n",
              "      width: 32px;\n",
              "    }\n",
              "\n",
              "    .colab-df-convert:hover {\n",
              "      background-color: #E2EBFA;\n",
              "      box-shadow: 0px 1px 2px rgba(60, 64, 67, 0.3), 0px 1px 3px 1px rgba(60, 64, 67, 0.15);\n",
              "      fill: #174EA6;\n",
              "    }\n",
              "\n",
              "    .colab-df-buttons div {\n",
              "      margin-bottom: 4px;\n",
              "    }\n",
              "\n",
              "    [theme=dark] .colab-df-convert {\n",
              "      background-color: #3B4455;\n",
              "      fill: #D2E3FC;\n",
              "    }\n",
              "\n",
              "    [theme=dark] .colab-df-convert:hover {\n",
              "      background-color: #434B5C;\n",
              "      box-shadow: 0px 1px 3px 1px rgba(0, 0, 0, 0.15);\n",
              "      filter: drop-shadow(0px 1px 2px rgba(0, 0, 0, 0.3));\n",
              "      fill: #FFFFFF;\n",
              "    }\n",
              "  </style>\n",
              "\n",
              "    <script>\n",
              "      const buttonEl =\n",
              "        document.querySelector('#df-e49fae33-7a4f-46b1-a6b6-ce89a3713817 button.colab-df-convert');\n",
              "      buttonEl.style.display =\n",
              "        google.colab.kernel.accessAllowed ? 'block' : 'none';\n",
              "\n",
              "      async function convertToInteractive(key) {\n",
              "        const element = document.querySelector('#df-e49fae33-7a4f-46b1-a6b6-ce89a3713817');\n",
              "        const dataTable =\n",
              "          await google.colab.kernel.invokeFunction('convertToInteractive',\n",
              "                                                    [key], {});\n",
              "        if (!dataTable) return;\n",
              "\n",
              "        const docLinkHtml = 'Like what you see? Visit the ' +\n",
              "          '<a target=\"_blank\" href=https://colab.research.google.com/notebooks/data_table.ipynb>data table notebook</a>'\n",
              "          + ' to learn more about interactive tables.';\n",
              "        element.innerHTML = '';\n",
              "        dataTable['output_type'] = 'display_data';\n",
              "        await google.colab.output.renderOutput(dataTable, element);\n",
              "        const docLink = document.createElement('div');\n",
              "        docLink.innerHTML = docLinkHtml;\n",
              "        element.appendChild(docLink);\n",
              "      }\n",
              "    </script>\n",
              "  </div>\n",
              "\n",
              "\n",
              "<div id=\"df-ee153112-66fe-424b-95e4-563713ba5463\">\n",
              "  <button class=\"colab-df-quickchart\" onclick=\"quickchart('df-ee153112-66fe-424b-95e4-563713ba5463')\"\n",
              "            title=\"Suggest charts\"\n",
              "            style=\"display:none;\">\n",
              "\n",
              "<svg xmlns=\"http://www.w3.org/2000/svg\" height=\"24px\"viewBox=\"0 0 24 24\"\n",
              "     width=\"24px\">\n",
              "    <g>\n",
              "        <path d=\"M19 3H5c-1.1 0-2 .9-2 2v14c0 1.1.9 2 2 2h14c1.1 0 2-.9 2-2V5c0-1.1-.9-2-2-2zM9 17H7v-7h2v7zm4 0h-2V7h2v10zm4 0h-2v-4h2v4z\"/>\n",
              "    </g>\n",
              "</svg>\n",
              "  </button>\n",
              "\n",
              "<style>\n",
              "  .colab-df-quickchart {\n",
              "      --bg-color: #E8F0FE;\n",
              "      --fill-color: #1967D2;\n",
              "      --hover-bg-color: #E2EBFA;\n",
              "      --hover-fill-color: #174EA6;\n",
              "      --disabled-fill-color: #AAA;\n",
              "      --disabled-bg-color: #DDD;\n",
              "  }\n",
              "\n",
              "  [theme=dark] .colab-df-quickchart {\n",
              "      --bg-color: #3B4455;\n",
              "      --fill-color: #D2E3FC;\n",
              "      --hover-bg-color: #434B5C;\n",
              "      --hover-fill-color: #FFFFFF;\n",
              "      --disabled-bg-color: #3B4455;\n",
              "      --disabled-fill-color: #666;\n",
              "  }\n",
              "\n",
              "  .colab-df-quickchart {\n",
              "    background-color: var(--bg-color);\n",
              "    border: none;\n",
              "    border-radius: 50%;\n",
              "    cursor: pointer;\n",
              "    display: none;\n",
              "    fill: var(--fill-color);\n",
              "    height: 32px;\n",
              "    padding: 0;\n",
              "    width: 32px;\n",
              "  }\n",
              "\n",
              "  .colab-df-quickchart:hover {\n",
              "    background-color: var(--hover-bg-color);\n",
              "    box-shadow: 0 1px 2px rgba(60, 64, 67, 0.3), 0 1px 3px 1px rgba(60, 64, 67, 0.15);\n",
              "    fill: var(--button-hover-fill-color);\n",
              "  }\n",
              "\n",
              "  .colab-df-quickchart-complete:disabled,\n",
              "  .colab-df-quickchart-complete:disabled:hover {\n",
              "    background-color: var(--disabled-bg-color);\n",
              "    fill: var(--disabled-fill-color);\n",
              "    box-shadow: none;\n",
              "  }\n",
              "\n",
              "  .colab-df-spinner {\n",
              "    border: 2px solid var(--fill-color);\n",
              "    border-color: transparent;\n",
              "    border-bottom-color: var(--fill-color);\n",
              "    animation:\n",
              "      spin 1s steps(1) infinite;\n",
              "  }\n",
              "\n",
              "  @keyframes spin {\n",
              "    0% {\n",
              "      border-color: transparent;\n",
              "      border-bottom-color: var(--fill-color);\n",
              "      border-left-color: var(--fill-color);\n",
              "    }\n",
              "    20% {\n",
              "      border-color: transparent;\n",
              "      border-left-color: var(--fill-color);\n",
              "      border-top-color: var(--fill-color);\n",
              "    }\n",
              "    30% {\n",
              "      border-color: transparent;\n",
              "      border-left-color: var(--fill-color);\n",
              "      border-top-color: var(--fill-color);\n",
              "      border-right-color: var(--fill-color);\n",
              "    }\n",
              "    40% {\n",
              "      border-color: transparent;\n",
              "      border-right-color: var(--fill-color);\n",
              "      border-top-color: var(--fill-color);\n",
              "    }\n",
              "    60% {\n",
              "      border-color: transparent;\n",
              "      border-right-color: var(--fill-color);\n",
              "    }\n",
              "    80% {\n",
              "      border-color: transparent;\n",
              "      border-right-color: var(--fill-color);\n",
              "      border-bottom-color: var(--fill-color);\n",
              "    }\n",
              "    90% {\n",
              "      border-color: transparent;\n",
              "      border-bottom-color: var(--fill-color);\n",
              "    }\n",
              "  }\n",
              "</style>\n",
              "\n",
              "  <script>\n",
              "    async function quickchart(key) {\n",
              "      const quickchartButtonEl =\n",
              "        document.querySelector('#' + key + ' button');\n",
              "      quickchartButtonEl.disabled = true;  // To prevent multiple clicks.\n",
              "      quickchartButtonEl.classList.add('colab-df-spinner');\n",
              "      try {\n",
              "        const charts = await google.colab.kernel.invokeFunction(\n",
              "            'suggestCharts', [key], {});\n",
              "      } catch (error) {\n",
              "        console.error('Error during call to suggestCharts:', error);\n",
              "      }\n",
              "      quickchartButtonEl.classList.remove('colab-df-spinner');\n",
              "      quickchartButtonEl.classList.add('colab-df-quickchart-complete');\n",
              "    }\n",
              "    (() => {\n",
              "      let quickchartButtonEl =\n",
              "        document.querySelector('#df-ee153112-66fe-424b-95e4-563713ba5463 button');\n",
              "      quickchartButtonEl.style.display =\n",
              "        google.colab.kernel.accessAllowed ? 'block' : 'none';\n",
              "    })();\n",
              "  </script>\n",
              "</div>\n",
              "\n",
              "  <div id=\"id_9efc6742-d4e8-49e4-b1e7-6bb7f416ece5\">\n",
              "    <style>\n",
              "      .colab-df-generate {\n",
              "        background-color: #E8F0FE;\n",
              "        border: none;\n",
              "        border-radius: 50%;\n",
              "        cursor: pointer;\n",
              "        display: none;\n",
              "        fill: #1967D2;\n",
              "        height: 32px;\n",
              "        padding: 0 0 0 0;\n",
              "        width: 32px;\n",
              "      }\n",
              "\n",
              "      .colab-df-generate:hover {\n",
              "        background-color: #E2EBFA;\n",
              "        box-shadow: 0px 1px 2px rgba(60, 64, 67, 0.3), 0px 1px 3px 1px rgba(60, 64, 67, 0.15);\n",
              "        fill: #174EA6;\n",
              "      }\n",
              "\n",
              "      [theme=dark] .colab-df-generate {\n",
              "        background-color: #3B4455;\n",
              "        fill: #D2E3FC;\n",
              "      }\n",
              "\n",
              "      [theme=dark] .colab-df-generate:hover {\n",
              "        background-color: #434B5C;\n",
              "        box-shadow: 0px 1px 3px 1px rgba(0, 0, 0, 0.15);\n",
              "        filter: drop-shadow(0px 1px 2px rgba(0, 0, 0, 0.3));\n",
              "        fill: #FFFFFF;\n",
              "      }\n",
              "    </style>\n",
              "    <button class=\"colab-df-generate\" onclick=\"generateWithVariable('results')\"\n",
              "            title=\"Generate code using this dataframe.\"\n",
              "            style=\"display:none;\">\n",
              "\n",
              "  <svg xmlns=\"http://www.w3.org/2000/svg\" height=\"24px\"viewBox=\"0 0 24 24\"\n",
              "       width=\"24px\">\n",
              "    <path d=\"M7,19H8.4L18.45,9,17,7.55,7,17.6ZM5,21V16.75L18.45,3.32a2,2,0,0,1,2.83,0l1.4,1.43a1.91,1.91,0,0,1,.58,1.4,1.91,1.91,0,0,1-.58,1.4L9.25,21ZM18.45,9,17,7.55Zm-12,3A5.31,5.31,0,0,0,4.9,8.1,5.31,5.31,0,0,0,1,6.5,5.31,5.31,0,0,0,4.9,4.9,5.31,5.31,0,0,0,6.5,1,5.31,5.31,0,0,0,8.1,4.9,5.31,5.31,0,0,0,12,6.5,5.46,5.46,0,0,0,6.5,12Z\"/>\n",
              "  </svg>\n",
              "    </button>\n",
              "    <script>\n",
              "      (() => {\n",
              "      const buttonEl =\n",
              "        document.querySelector('#id_9efc6742-d4e8-49e4-b1e7-6bb7f416ece5 button.colab-df-generate');\n",
              "      buttonEl.style.display =\n",
              "        google.colab.kernel.accessAllowed ? 'block' : 'none';\n",
              "\n",
              "      buttonEl.onclick = () => {\n",
              "        google.colab.notebook.generateWithVariable('results');\n",
              "      }\n",
              "      })();\n",
              "    </script>\n",
              "  </div>\n",
              "\n",
              "    </div>\n",
              "  </div>\n"
            ],
            "application/vnd.google.colaboratory.intrinsic+json": {
              "type": "dataframe",
              "variable_name": "results"
            }
          },
          "metadata": {},
          "execution_count": 47
        }
      ],
      "source": [
        "results"
      ]
    },
    {
      "cell_type": "markdown",
      "metadata": {
        "id": "OpFBk55gIc07"
      },
      "source": [
        "El mejor modelo es..."
      ]
    },
    {
      "cell_type": "code",
      "execution_count": 48,
      "metadata": {
        "colab": {
          "base_uri": "https://localhost:8080/",
          "height": 339
        },
        "id": "yA2qNzXuIc07",
        "outputId": "6a8626ac-0e20-4641-e024-5ac4bc59bc30"
      },
      "outputs": [
        {
          "output_type": "stream",
          "name": "stderr",
          "text": [
            "/usr/local/lib/python3.10/dist-packages/sklearn/utils/_tags.py:354: FutureWarning: The LGBMClassifier or classes from which it inherits use `_get_tags` and `_more_tags`. Please define the `__sklearn_tags__` method, or inherit from `sklearn.base.BaseEstimator` and/or other appropriate mixins such as `sklearn.base.TransformerMixin`, `sklearn.base.ClassifierMixin`, `sklearn.base.RegressorMixin`, and `sklearn.base.OutlierMixin`. From scikit-learn 1.7, not defining `__sklearn_tags__` will raise an error.\n",
            "  warnings.warn(\n"
          ]
        },
        {
          "output_type": "execute_result",
          "data": {
            "text/plain": [
              "Pipeline(steps=[('selector_num',\n",
              "                 ColumnTransformer(remainder='passthrough',\n",
              "                                   transformers=[('poly',\n",
              "                                                  PolynomialFeatures(degree=1),\n",
              "                                                  ['age', 'fnlwgt',\n",
              "                                                   'education-num',\n",
              "                                                   'capital-gain',\n",
              "                                                   'capital-loss',\n",
              "                                                   'hours-per-week'])])),\n",
              "                ('cat_encoder',\n",
              "                 OrdinalEncoder(handle_unknown='use_encoded_value',\n",
              "                                unknown_value=nan)),\n",
              "                ('classifier',\n",
              "                 LGBMClassifier(colsample_bytree=0.9752891296788774,\n",
              "                                learning_rate=0.14746362344921932, max_depth=4,\n",
              "                                min_child_weight=15.99679297827804,\n",
              "                                n_estimators=92, n_jobs=3,\n",
              "                                reg_alpha=2.1576179010335004,\n",
              "                                subsample=0.8027994998722092, verbose=-1))])"
            ],
            "text/html": [
              "<style>#sk-container-id-2 {\n",
              "  /* Definition of color scheme common for light and dark mode */\n",
              "  --sklearn-color-text: #000;\n",
              "  --sklearn-color-text-muted: #666;\n",
              "  --sklearn-color-line: gray;\n",
              "  /* Definition of color scheme for unfitted estimators */\n",
              "  --sklearn-color-unfitted-level-0: #fff5e6;\n",
              "  --sklearn-color-unfitted-level-1: #f6e4d2;\n",
              "  --sklearn-color-unfitted-level-2: #ffe0b3;\n",
              "  --sklearn-color-unfitted-level-3: chocolate;\n",
              "  /* Definition of color scheme for fitted estimators */\n",
              "  --sklearn-color-fitted-level-0: #f0f8ff;\n",
              "  --sklearn-color-fitted-level-1: #d4ebff;\n",
              "  --sklearn-color-fitted-level-2: #b3dbfd;\n",
              "  --sklearn-color-fitted-level-3: cornflowerblue;\n",
              "\n",
              "  /* Specific color for light theme */\n",
              "  --sklearn-color-text-on-default-background: var(--sg-text-color, var(--theme-code-foreground, var(--jp-content-font-color1, black)));\n",
              "  --sklearn-color-background: var(--sg-background-color, var(--theme-background, var(--jp-layout-color0, white)));\n",
              "  --sklearn-color-border-box: var(--sg-text-color, var(--theme-code-foreground, var(--jp-content-font-color1, black)));\n",
              "  --sklearn-color-icon: #696969;\n",
              "\n",
              "  @media (prefers-color-scheme: dark) {\n",
              "    /* Redefinition of color scheme for dark theme */\n",
              "    --sklearn-color-text-on-default-background: var(--sg-text-color, var(--theme-code-foreground, var(--jp-content-font-color1, white)));\n",
              "    --sklearn-color-background: var(--sg-background-color, var(--theme-background, var(--jp-layout-color0, #111)));\n",
              "    --sklearn-color-border-box: var(--sg-text-color, var(--theme-code-foreground, var(--jp-content-font-color1, white)));\n",
              "    --sklearn-color-icon: #878787;\n",
              "  }\n",
              "}\n",
              "\n",
              "#sk-container-id-2 {\n",
              "  color: var(--sklearn-color-text);\n",
              "}\n",
              "\n",
              "#sk-container-id-2 pre {\n",
              "  padding: 0;\n",
              "}\n",
              "\n",
              "#sk-container-id-2 input.sk-hidden--visually {\n",
              "  border: 0;\n",
              "  clip: rect(1px 1px 1px 1px);\n",
              "  clip: rect(1px, 1px, 1px, 1px);\n",
              "  height: 1px;\n",
              "  margin: -1px;\n",
              "  overflow: hidden;\n",
              "  padding: 0;\n",
              "  position: absolute;\n",
              "  width: 1px;\n",
              "}\n",
              "\n",
              "#sk-container-id-2 div.sk-dashed-wrapped {\n",
              "  border: 1px dashed var(--sklearn-color-line);\n",
              "  margin: 0 0.4em 0.5em 0.4em;\n",
              "  box-sizing: border-box;\n",
              "  padding-bottom: 0.4em;\n",
              "  background-color: var(--sklearn-color-background);\n",
              "}\n",
              "\n",
              "#sk-container-id-2 div.sk-container {\n",
              "  /* jupyter's `normalize.less` sets `[hidden] { display: none; }`\n",
              "     but bootstrap.min.css set `[hidden] { display: none !important; }`\n",
              "     so we also need the `!important` here to be able to override the\n",
              "     default hidden behavior on the sphinx rendered scikit-learn.org.\n",
              "     See: https://github.com/scikit-learn/scikit-learn/issues/21755 */\n",
              "  display: inline-block !important;\n",
              "  position: relative;\n",
              "}\n",
              "\n",
              "#sk-container-id-2 div.sk-text-repr-fallback {\n",
              "  display: none;\n",
              "}\n",
              "\n",
              "div.sk-parallel-item,\n",
              "div.sk-serial,\n",
              "div.sk-item {\n",
              "  /* draw centered vertical line to link estimators */\n",
              "  background-image: linear-gradient(var(--sklearn-color-text-on-default-background), var(--sklearn-color-text-on-default-background));\n",
              "  background-size: 2px 100%;\n",
              "  background-repeat: no-repeat;\n",
              "  background-position: center center;\n",
              "}\n",
              "\n",
              "/* Parallel-specific style estimator block */\n",
              "\n",
              "#sk-container-id-2 div.sk-parallel-item::after {\n",
              "  content: \"\";\n",
              "  width: 100%;\n",
              "  border-bottom: 2px solid var(--sklearn-color-text-on-default-background);\n",
              "  flex-grow: 1;\n",
              "}\n",
              "\n",
              "#sk-container-id-2 div.sk-parallel {\n",
              "  display: flex;\n",
              "  align-items: stretch;\n",
              "  justify-content: center;\n",
              "  background-color: var(--sklearn-color-background);\n",
              "  position: relative;\n",
              "}\n",
              "\n",
              "#sk-container-id-2 div.sk-parallel-item {\n",
              "  display: flex;\n",
              "  flex-direction: column;\n",
              "}\n",
              "\n",
              "#sk-container-id-2 div.sk-parallel-item:first-child::after {\n",
              "  align-self: flex-end;\n",
              "  width: 50%;\n",
              "}\n",
              "\n",
              "#sk-container-id-2 div.sk-parallel-item:last-child::after {\n",
              "  align-self: flex-start;\n",
              "  width: 50%;\n",
              "}\n",
              "\n",
              "#sk-container-id-2 div.sk-parallel-item:only-child::after {\n",
              "  width: 0;\n",
              "}\n",
              "\n",
              "/* Serial-specific style estimator block */\n",
              "\n",
              "#sk-container-id-2 div.sk-serial {\n",
              "  display: flex;\n",
              "  flex-direction: column;\n",
              "  align-items: center;\n",
              "  background-color: var(--sklearn-color-background);\n",
              "  padding-right: 1em;\n",
              "  padding-left: 1em;\n",
              "}\n",
              "\n",
              "\n",
              "/* Toggleable style: style used for estimator/Pipeline/ColumnTransformer box that is\n",
              "clickable and can be expanded/collapsed.\n",
              "- Pipeline and ColumnTransformer use this feature and define the default style\n",
              "- Estimators will overwrite some part of the style using the `sk-estimator` class\n",
              "*/\n",
              "\n",
              "/* Pipeline and ColumnTransformer style (default) */\n",
              "\n",
              "#sk-container-id-2 div.sk-toggleable {\n",
              "  /* Default theme specific background. It is overwritten whether we have a\n",
              "  specific estimator or a Pipeline/ColumnTransformer */\n",
              "  background-color: var(--sklearn-color-background);\n",
              "}\n",
              "\n",
              "/* Toggleable label */\n",
              "#sk-container-id-2 label.sk-toggleable__label {\n",
              "  cursor: pointer;\n",
              "  display: flex;\n",
              "  width: 100%;\n",
              "  margin-bottom: 0;\n",
              "  padding: 0.5em;\n",
              "  box-sizing: border-box;\n",
              "  text-align: center;\n",
              "  align-items: start;\n",
              "  justify-content: space-between;\n",
              "  gap: 0.5em;\n",
              "}\n",
              "\n",
              "#sk-container-id-2 label.sk-toggleable__label .caption {\n",
              "  font-size: 0.6rem;\n",
              "  font-weight: lighter;\n",
              "  color: var(--sklearn-color-text-muted);\n",
              "}\n",
              "\n",
              "#sk-container-id-2 label.sk-toggleable__label-arrow:before {\n",
              "  /* Arrow on the left of the label */\n",
              "  content: \"▸\";\n",
              "  float: left;\n",
              "  margin-right: 0.25em;\n",
              "  color: var(--sklearn-color-icon);\n",
              "}\n",
              "\n",
              "#sk-container-id-2 label.sk-toggleable__label-arrow:hover:before {\n",
              "  color: var(--sklearn-color-text);\n",
              "}\n",
              "\n",
              "/* Toggleable content - dropdown */\n",
              "\n",
              "#sk-container-id-2 div.sk-toggleable__content {\n",
              "  max-height: 0;\n",
              "  max-width: 0;\n",
              "  overflow: hidden;\n",
              "  text-align: left;\n",
              "  /* unfitted */\n",
              "  background-color: var(--sklearn-color-unfitted-level-0);\n",
              "}\n",
              "\n",
              "#sk-container-id-2 div.sk-toggleable__content.fitted {\n",
              "  /* fitted */\n",
              "  background-color: var(--sklearn-color-fitted-level-0);\n",
              "}\n",
              "\n",
              "#sk-container-id-2 div.sk-toggleable__content pre {\n",
              "  margin: 0.2em;\n",
              "  border-radius: 0.25em;\n",
              "  color: var(--sklearn-color-text);\n",
              "  /* unfitted */\n",
              "  background-color: var(--sklearn-color-unfitted-level-0);\n",
              "}\n",
              "\n",
              "#sk-container-id-2 div.sk-toggleable__content.fitted pre {\n",
              "  /* unfitted */\n",
              "  background-color: var(--sklearn-color-fitted-level-0);\n",
              "}\n",
              "\n",
              "#sk-container-id-2 input.sk-toggleable__control:checked~div.sk-toggleable__content {\n",
              "  /* Expand drop-down */\n",
              "  max-height: 200px;\n",
              "  max-width: 100%;\n",
              "  overflow: auto;\n",
              "}\n",
              "\n",
              "#sk-container-id-2 input.sk-toggleable__control:checked~label.sk-toggleable__label-arrow:before {\n",
              "  content: \"▾\";\n",
              "}\n",
              "\n",
              "/* Pipeline/ColumnTransformer-specific style */\n",
              "\n",
              "#sk-container-id-2 div.sk-label input.sk-toggleable__control:checked~label.sk-toggleable__label {\n",
              "  color: var(--sklearn-color-text);\n",
              "  background-color: var(--sklearn-color-unfitted-level-2);\n",
              "}\n",
              "\n",
              "#sk-container-id-2 div.sk-label.fitted input.sk-toggleable__control:checked~label.sk-toggleable__label {\n",
              "  background-color: var(--sklearn-color-fitted-level-2);\n",
              "}\n",
              "\n",
              "/* Estimator-specific style */\n",
              "\n",
              "/* Colorize estimator box */\n",
              "#sk-container-id-2 div.sk-estimator input.sk-toggleable__control:checked~label.sk-toggleable__label {\n",
              "  /* unfitted */\n",
              "  background-color: var(--sklearn-color-unfitted-level-2);\n",
              "}\n",
              "\n",
              "#sk-container-id-2 div.sk-estimator.fitted input.sk-toggleable__control:checked~label.sk-toggleable__label {\n",
              "  /* fitted */\n",
              "  background-color: var(--sklearn-color-fitted-level-2);\n",
              "}\n",
              "\n",
              "#sk-container-id-2 div.sk-label label.sk-toggleable__label,\n",
              "#sk-container-id-2 div.sk-label label {\n",
              "  /* The background is the default theme color */\n",
              "  color: var(--sklearn-color-text-on-default-background);\n",
              "}\n",
              "\n",
              "/* On hover, darken the color of the background */\n",
              "#sk-container-id-2 div.sk-label:hover label.sk-toggleable__label {\n",
              "  color: var(--sklearn-color-text);\n",
              "  background-color: var(--sklearn-color-unfitted-level-2);\n",
              "}\n",
              "\n",
              "/* Label box, darken color on hover, fitted */\n",
              "#sk-container-id-2 div.sk-label.fitted:hover label.sk-toggleable__label.fitted {\n",
              "  color: var(--sklearn-color-text);\n",
              "  background-color: var(--sklearn-color-fitted-level-2);\n",
              "}\n",
              "\n",
              "/* Estimator label */\n",
              "\n",
              "#sk-container-id-2 div.sk-label label {\n",
              "  font-family: monospace;\n",
              "  font-weight: bold;\n",
              "  display: inline-block;\n",
              "  line-height: 1.2em;\n",
              "}\n",
              "\n",
              "#sk-container-id-2 div.sk-label-container {\n",
              "  text-align: center;\n",
              "}\n",
              "\n",
              "/* Estimator-specific */\n",
              "#sk-container-id-2 div.sk-estimator {\n",
              "  font-family: monospace;\n",
              "  border: 1px dotted var(--sklearn-color-border-box);\n",
              "  border-radius: 0.25em;\n",
              "  box-sizing: border-box;\n",
              "  margin-bottom: 0.5em;\n",
              "  /* unfitted */\n",
              "  background-color: var(--sklearn-color-unfitted-level-0);\n",
              "}\n",
              "\n",
              "#sk-container-id-2 div.sk-estimator.fitted {\n",
              "  /* fitted */\n",
              "  background-color: var(--sklearn-color-fitted-level-0);\n",
              "}\n",
              "\n",
              "/* on hover */\n",
              "#sk-container-id-2 div.sk-estimator:hover {\n",
              "  /* unfitted */\n",
              "  background-color: var(--sklearn-color-unfitted-level-2);\n",
              "}\n",
              "\n",
              "#sk-container-id-2 div.sk-estimator.fitted:hover {\n",
              "  /* fitted */\n",
              "  background-color: var(--sklearn-color-fitted-level-2);\n",
              "}\n",
              "\n",
              "/* Specification for estimator info (e.g. \"i\" and \"?\") */\n",
              "\n",
              "/* Common style for \"i\" and \"?\" */\n",
              "\n",
              ".sk-estimator-doc-link,\n",
              "a:link.sk-estimator-doc-link,\n",
              "a:visited.sk-estimator-doc-link {\n",
              "  float: right;\n",
              "  font-size: smaller;\n",
              "  line-height: 1em;\n",
              "  font-family: monospace;\n",
              "  background-color: var(--sklearn-color-background);\n",
              "  border-radius: 1em;\n",
              "  height: 1em;\n",
              "  width: 1em;\n",
              "  text-decoration: none !important;\n",
              "  margin-left: 0.5em;\n",
              "  text-align: center;\n",
              "  /* unfitted */\n",
              "  border: var(--sklearn-color-unfitted-level-1) 1pt solid;\n",
              "  color: var(--sklearn-color-unfitted-level-1);\n",
              "}\n",
              "\n",
              ".sk-estimator-doc-link.fitted,\n",
              "a:link.sk-estimator-doc-link.fitted,\n",
              "a:visited.sk-estimator-doc-link.fitted {\n",
              "  /* fitted */\n",
              "  border: var(--sklearn-color-fitted-level-1) 1pt solid;\n",
              "  color: var(--sklearn-color-fitted-level-1);\n",
              "}\n",
              "\n",
              "/* On hover */\n",
              "div.sk-estimator:hover .sk-estimator-doc-link:hover,\n",
              ".sk-estimator-doc-link:hover,\n",
              "div.sk-label-container:hover .sk-estimator-doc-link:hover,\n",
              ".sk-estimator-doc-link:hover {\n",
              "  /* unfitted */\n",
              "  background-color: var(--sklearn-color-unfitted-level-3);\n",
              "  color: var(--sklearn-color-background);\n",
              "  text-decoration: none;\n",
              "}\n",
              "\n",
              "div.sk-estimator.fitted:hover .sk-estimator-doc-link.fitted:hover,\n",
              ".sk-estimator-doc-link.fitted:hover,\n",
              "div.sk-label-container:hover .sk-estimator-doc-link.fitted:hover,\n",
              ".sk-estimator-doc-link.fitted:hover {\n",
              "  /* fitted */\n",
              "  background-color: var(--sklearn-color-fitted-level-3);\n",
              "  color: var(--sklearn-color-background);\n",
              "  text-decoration: none;\n",
              "}\n",
              "\n",
              "/* Span, style for the box shown on hovering the info icon */\n",
              ".sk-estimator-doc-link span {\n",
              "  display: none;\n",
              "  z-index: 9999;\n",
              "  position: relative;\n",
              "  font-weight: normal;\n",
              "  right: .2ex;\n",
              "  padding: .5ex;\n",
              "  margin: .5ex;\n",
              "  width: min-content;\n",
              "  min-width: 20ex;\n",
              "  max-width: 50ex;\n",
              "  color: var(--sklearn-color-text);\n",
              "  box-shadow: 2pt 2pt 4pt #999;\n",
              "  /* unfitted */\n",
              "  background: var(--sklearn-color-unfitted-level-0);\n",
              "  border: .5pt solid var(--sklearn-color-unfitted-level-3);\n",
              "}\n",
              "\n",
              ".sk-estimator-doc-link.fitted span {\n",
              "  /* fitted */\n",
              "  background: var(--sklearn-color-fitted-level-0);\n",
              "  border: var(--sklearn-color-fitted-level-3);\n",
              "}\n",
              "\n",
              ".sk-estimator-doc-link:hover span {\n",
              "  display: block;\n",
              "}\n",
              "\n",
              "/* \"?\"-specific style due to the `<a>` HTML tag */\n",
              "\n",
              "#sk-container-id-2 a.estimator_doc_link {\n",
              "  float: right;\n",
              "  font-size: 1rem;\n",
              "  line-height: 1em;\n",
              "  font-family: monospace;\n",
              "  background-color: var(--sklearn-color-background);\n",
              "  border-radius: 1rem;\n",
              "  height: 1rem;\n",
              "  width: 1rem;\n",
              "  text-decoration: none;\n",
              "  /* unfitted */\n",
              "  color: var(--sklearn-color-unfitted-level-1);\n",
              "  border: var(--sklearn-color-unfitted-level-1) 1pt solid;\n",
              "}\n",
              "\n",
              "#sk-container-id-2 a.estimator_doc_link.fitted {\n",
              "  /* fitted */\n",
              "  border: var(--sklearn-color-fitted-level-1) 1pt solid;\n",
              "  color: var(--sklearn-color-fitted-level-1);\n",
              "}\n",
              "\n",
              "/* On hover */\n",
              "#sk-container-id-2 a.estimator_doc_link:hover {\n",
              "  /* unfitted */\n",
              "  background-color: var(--sklearn-color-unfitted-level-3);\n",
              "  color: var(--sklearn-color-background);\n",
              "  text-decoration: none;\n",
              "}\n",
              "\n",
              "#sk-container-id-2 a.estimator_doc_link.fitted:hover {\n",
              "  /* fitted */\n",
              "  background-color: var(--sklearn-color-fitted-level-3);\n",
              "}\n",
              "</style><div id=\"sk-container-id-2\" class=\"sk-top-container\"><div class=\"sk-text-repr-fallback\"><pre>Pipeline(steps=[(&#x27;selector_num&#x27;,\n",
              "                 ColumnTransformer(remainder=&#x27;passthrough&#x27;,\n",
              "                                   transformers=[(&#x27;poly&#x27;,\n",
              "                                                  PolynomialFeatures(degree=1),\n",
              "                                                  [&#x27;age&#x27;, &#x27;fnlwgt&#x27;,\n",
              "                                                   &#x27;education-num&#x27;,\n",
              "                                                   &#x27;capital-gain&#x27;,\n",
              "                                                   &#x27;capital-loss&#x27;,\n",
              "                                                   &#x27;hours-per-week&#x27;])])),\n",
              "                (&#x27;cat_encoder&#x27;,\n",
              "                 OrdinalEncoder(handle_unknown=&#x27;use_encoded_value&#x27;,\n",
              "                                unknown_value=nan)),\n",
              "                (&#x27;classifier&#x27;,\n",
              "                 LGBMClassifier(colsample_bytree=0.9752891296788774,\n",
              "                                learning_rate=0.14746362344921932, max_depth=4,\n",
              "                                min_child_weight=15.99679297827804,\n",
              "                                n_estimators=92, n_jobs=3,\n",
              "                                reg_alpha=2.1576179010335004,\n",
              "                                subsample=0.8027994998722092, verbose=-1))])</pre><b>In a Jupyter environment, please rerun this cell to show the HTML representation or trust the notebook. <br />On GitHub, the HTML representation is unable to render, please try loading this page with nbviewer.org.</b></div><div class=\"sk-container\" hidden><div class=\"sk-item sk-dashed-wrapped\"><div class=\"sk-label-container\"><div class=\"sk-label fitted sk-toggleable\"><input class=\"sk-toggleable__control sk-hidden--visually\" id=\"sk-estimator-id-10\" type=\"checkbox\" ><label for=\"sk-estimator-id-10\" class=\"sk-toggleable__label fitted sk-toggleable__label-arrow\"><div><div>Pipeline</div></div><div><a class=\"sk-estimator-doc-link fitted\" rel=\"noreferrer\" target=\"_blank\" href=\"https://scikit-learn.org/1.6/modules/generated/sklearn.pipeline.Pipeline.html\">?<span>Documentation for Pipeline</span></a><span class=\"sk-estimator-doc-link fitted\">i<span>Fitted</span></span></div></label><div class=\"sk-toggleable__content fitted\"><pre>Pipeline(steps=[(&#x27;selector_num&#x27;,\n",
              "                 ColumnTransformer(remainder=&#x27;passthrough&#x27;,\n",
              "                                   transformers=[(&#x27;poly&#x27;,\n",
              "                                                  PolynomialFeatures(degree=1),\n",
              "                                                  [&#x27;age&#x27;, &#x27;fnlwgt&#x27;,\n",
              "                                                   &#x27;education-num&#x27;,\n",
              "                                                   &#x27;capital-gain&#x27;,\n",
              "                                                   &#x27;capital-loss&#x27;,\n",
              "                                                   &#x27;hours-per-week&#x27;])])),\n",
              "                (&#x27;cat_encoder&#x27;,\n",
              "                 OrdinalEncoder(handle_unknown=&#x27;use_encoded_value&#x27;,\n",
              "                                unknown_value=nan)),\n",
              "                (&#x27;classifier&#x27;,\n",
              "                 LGBMClassifier(colsample_bytree=0.9752891296788774,\n",
              "                                learning_rate=0.14746362344921932, max_depth=4,\n",
              "                                min_child_weight=15.99679297827804,\n",
              "                                n_estimators=92, n_jobs=3,\n",
              "                                reg_alpha=2.1576179010335004,\n",
              "                                subsample=0.8027994998722092, verbose=-1))])</pre></div> </div></div><div class=\"sk-serial\"><div class=\"sk-item sk-dashed-wrapped\"><div class=\"sk-label-container\"><div class=\"sk-label fitted sk-toggleable\"><input class=\"sk-toggleable__control sk-hidden--visually\" id=\"sk-estimator-id-11\" type=\"checkbox\" ><label for=\"sk-estimator-id-11\" class=\"sk-toggleable__label fitted sk-toggleable__label-arrow\"><div><div>selector_num: ColumnTransformer</div></div><div><a class=\"sk-estimator-doc-link fitted\" rel=\"noreferrer\" target=\"_blank\" href=\"https://scikit-learn.org/1.6/modules/generated/sklearn.compose.ColumnTransformer.html\">?<span>Documentation for selector_num: ColumnTransformer</span></a></div></label><div class=\"sk-toggleable__content fitted\"><pre>ColumnTransformer(remainder=&#x27;passthrough&#x27;,\n",
              "                  transformers=[(&#x27;poly&#x27;, PolynomialFeatures(degree=1),\n",
              "                                 [&#x27;age&#x27;, &#x27;fnlwgt&#x27;, &#x27;education-num&#x27;,\n",
              "                                  &#x27;capital-gain&#x27;, &#x27;capital-loss&#x27;,\n",
              "                                  &#x27;hours-per-week&#x27;])])</pre></div> </div></div><div class=\"sk-parallel\"><div class=\"sk-parallel-item\"><div class=\"sk-item\"><div class=\"sk-label-container\"><div class=\"sk-label fitted sk-toggleable\"><input class=\"sk-toggleable__control sk-hidden--visually\" id=\"sk-estimator-id-12\" type=\"checkbox\" ><label for=\"sk-estimator-id-12\" class=\"sk-toggleable__label fitted sk-toggleable__label-arrow\"><div><div>poly</div></div></label><div class=\"sk-toggleable__content fitted\"><pre>[&#x27;age&#x27;, &#x27;fnlwgt&#x27;, &#x27;education-num&#x27;, &#x27;capital-gain&#x27;, &#x27;capital-loss&#x27;, &#x27;hours-per-week&#x27;]</pre></div> </div></div><div class=\"sk-serial\"><div class=\"sk-item\"><div class=\"sk-estimator fitted sk-toggleable\"><input class=\"sk-toggleable__control sk-hidden--visually\" id=\"sk-estimator-id-13\" type=\"checkbox\" ><label for=\"sk-estimator-id-13\" class=\"sk-toggleable__label fitted sk-toggleable__label-arrow\"><div><div>PolynomialFeatures</div></div><div><a class=\"sk-estimator-doc-link fitted\" rel=\"noreferrer\" target=\"_blank\" href=\"https://scikit-learn.org/1.6/modules/generated/sklearn.preprocessing.PolynomialFeatures.html\">?<span>Documentation for PolynomialFeatures</span></a></div></label><div class=\"sk-toggleable__content fitted\"><pre>PolynomialFeatures(degree=1)</pre></div> </div></div></div></div></div><div class=\"sk-parallel-item\"><div class=\"sk-item\"><div class=\"sk-label-container\"><div class=\"sk-label fitted sk-toggleable\"><input class=\"sk-toggleable__control sk-hidden--visually\" id=\"sk-estimator-id-14\" type=\"checkbox\" ><label for=\"sk-estimator-id-14\" class=\"sk-toggleable__label fitted sk-toggleable__label-arrow\"><div><div>remainder</div></div></label><div class=\"sk-toggleable__content fitted\"><pre>[&#x27;workclass&#x27;, &#x27;education&#x27;, &#x27;marital-status&#x27;, &#x27;occupation&#x27;, &#x27;relationship&#x27;, &#x27;race&#x27;, &#x27;sex&#x27;, &#x27;native-country&#x27;]</pre></div> </div></div><div class=\"sk-serial\"><div class=\"sk-item\"><div class=\"sk-estimator fitted sk-toggleable\"><input class=\"sk-toggleable__control sk-hidden--visually\" id=\"sk-estimator-id-15\" type=\"checkbox\" ><label for=\"sk-estimator-id-15\" class=\"sk-toggleable__label fitted sk-toggleable__label-arrow\"><div><div>passthrough</div></div></label><div class=\"sk-toggleable__content fitted\"><pre>passthrough</pre></div> </div></div></div></div></div></div></div><div class=\"sk-item\"><div class=\"sk-estimator fitted sk-toggleable\"><input class=\"sk-toggleable__control sk-hidden--visually\" id=\"sk-estimator-id-16\" type=\"checkbox\" ><label for=\"sk-estimator-id-16\" class=\"sk-toggleable__label fitted sk-toggleable__label-arrow\"><div><div>OrdinalEncoder</div></div><div><a class=\"sk-estimator-doc-link fitted\" rel=\"noreferrer\" target=\"_blank\" href=\"https://scikit-learn.org/1.6/modules/generated/sklearn.preprocessing.OrdinalEncoder.html\">?<span>Documentation for OrdinalEncoder</span></a></div></label><div class=\"sk-toggleable__content fitted\"><pre>OrdinalEncoder(handle_unknown=&#x27;use_encoded_value&#x27;, unknown_value=nan)</pre></div> </div></div><div class=\"sk-item\"><div class=\"sk-estimator fitted sk-toggleable\"><input class=\"sk-toggleable__control sk-hidden--visually\" id=\"sk-estimator-id-17\" type=\"checkbox\" ><label for=\"sk-estimator-id-17\" class=\"sk-toggleable__label fitted sk-toggleable__label-arrow\"><div><div>LGBMClassifier</div></div></label><div class=\"sk-toggleable__content fitted\"><pre>LGBMClassifier(colsample_bytree=0.9752891296788774,\n",
              "               learning_rate=0.14746362344921932, max_depth=4,\n",
              "               min_child_weight=15.99679297827804, n_estimators=92, n_jobs=3,\n",
              "               reg_alpha=2.1576179010335004, subsample=0.8027994998722092,\n",
              "               verbose=-1)</pre></div> </div></div></div></div></div></div>"
            ]
          },
          "metadata": {},
          "execution_count": 48
        }
      ],
      "source": [
        "model.best_estimator_"
      ]
    },
    {
      "cell_type": "markdown",
      "metadata": {
        "id": "LqSgGILYIc08"
      },
      "source": [
        "Para a dibujar la curva ROC, para eso primero usamos `predict_proba` y luego importamos `plot_roc` de `scikitplot`."
      ]
    },
    {
      "cell_type": "code",
      "execution_count": 49,
      "metadata": {
        "id": "S4sgTLVoIc08",
        "colab": {
          "base_uri": "https://localhost:8080/"
        },
        "outputId": "f5f10f08-921c-445e-e3a3-895086f943ab"
      },
      "outputs": [
        {
          "output_type": "stream",
          "name": "stderr",
          "text": [
            "/usr/local/lib/python3.10/dist-packages/sklearn/utils/deprecation.py:151: FutureWarning: 'force_all_finite' was renamed to 'ensure_all_finite' in 1.6 and will be removed in 1.8.\n",
            "  warnings.warn(\n",
            "/usr/local/lib/python3.10/dist-packages/sklearn/utils/_tags.py:354: FutureWarning: The LGBMClassifier or classes from which it inherits use `_get_tags` and `_more_tags`. Please define the `__sklearn_tags__` method, or inherit from `sklearn.base.BaseEstimator` and/or other appropriate mixins such as `sklearn.base.TransformerMixin`, `sklearn.base.ClassifierMixin`, `sklearn.base.RegressorMixin`, and `sklearn.base.OutlierMixin`. From scikit-learn 1.7, not defining `__sklearn_tags__` will raise an error.\n",
            "  warnings.warn(\n"
          ]
        }
      ],
      "source": [
        "y_predicted = model.predict_proba(X_test)"
      ]
    },
    {
      "cell_type": "code",
      "execution_count": 50,
      "metadata": {
        "colab": {
          "base_uri": "https://localhost:8080/"
        },
        "id": "lWLv8K8pIc08",
        "outputId": "4fe80e4a-16bf-49a4-d445-02ce012a0e77"
      },
      "outputs": [
        {
          "output_type": "stream",
          "name": "stdout",
          "text": [
            "Collecting scikit-plot\n",
            "  Downloading scikit_plot-0.3.7-py3-none-any.whl.metadata (7.1 kB)\n",
            "Requirement already satisfied: matplotlib>=1.4.0 in /usr/local/lib/python3.10/dist-packages (from scikit-plot) (3.8.0)\n",
            "Requirement already satisfied: scikit-learn>=0.18 in /usr/local/lib/python3.10/dist-packages (from scikit-plot) (1.6.0)\n",
            "Requirement already satisfied: scipy>=0.9 in /usr/local/lib/python3.10/dist-packages (from scikit-plot) (1.13.1)\n",
            "Requirement already satisfied: joblib>=0.10 in /usr/local/lib/python3.10/dist-packages (from scikit-plot) (1.4.2)\n",
            "Requirement already satisfied: contourpy>=1.0.1 in /usr/local/lib/python3.10/dist-packages (from matplotlib>=1.4.0->scikit-plot) (1.3.1)\n",
            "Requirement already satisfied: cycler>=0.10 in /usr/local/lib/python3.10/dist-packages (from matplotlib>=1.4.0->scikit-plot) (0.12.1)\n",
            "Requirement already satisfied: fonttools>=4.22.0 in /usr/local/lib/python3.10/dist-packages (from matplotlib>=1.4.0->scikit-plot) (4.55.3)\n",
            "Requirement already satisfied: kiwisolver>=1.0.1 in /usr/local/lib/python3.10/dist-packages (from matplotlib>=1.4.0->scikit-plot) (1.4.7)\n",
            "Requirement already satisfied: numpy<2,>=1.21 in /usr/local/lib/python3.10/dist-packages (from matplotlib>=1.4.0->scikit-plot) (1.26.4)\n",
            "Requirement already satisfied: packaging>=20.0 in /usr/local/lib/python3.10/dist-packages (from matplotlib>=1.4.0->scikit-plot) (24.2)\n",
            "Requirement already satisfied: pillow>=6.2.0 in /usr/local/lib/python3.10/dist-packages (from matplotlib>=1.4.0->scikit-plot) (11.0.0)\n",
            "Requirement already satisfied: pyparsing>=2.3.1 in /usr/local/lib/python3.10/dist-packages (from matplotlib>=1.4.0->scikit-plot) (3.2.0)\n",
            "Requirement already satisfied: python-dateutil>=2.7 in /usr/local/lib/python3.10/dist-packages (from matplotlib>=1.4.0->scikit-plot) (2.8.2)\n",
            "Requirement already satisfied: threadpoolctl>=3.1.0 in /usr/local/lib/python3.10/dist-packages (from scikit-learn>=0.18->scikit-plot) (3.5.0)\n",
            "Requirement already satisfied: six>=1.5 in /usr/local/lib/python3.10/dist-packages (from python-dateutil>=2.7->matplotlib>=1.4.0->scikit-plot) (1.17.0)\n",
            "Downloading scikit_plot-0.3.7-py3-none-any.whl (33 kB)\n",
            "Installing collected packages: scikit-plot\n",
            "Successfully installed scikit-plot-0.3.7\n"
          ]
        }
      ],
      "source": [
        "!pip install scikit-plot"
      ]
    },
    {
      "cell_type": "code",
      "execution_count": 51,
      "metadata": {
        "colab": {
          "base_uri": "https://localhost:8080/"
        },
        "id": "Mm32-ze-Opwr",
        "outputId": "f21ee59b-eadd-46ce-9edd-6f576c0efda6"
      },
      "outputs": [
        {
          "output_type": "stream",
          "name": "stdout",
          "text": [
            "Requirement already satisfied: scipy in /usr/local/lib/python3.10/dist-packages (1.13.1)\n",
            "Collecting scipy\n",
            "  Downloading scipy-1.14.1-cp310-cp310-manylinux_2_17_x86_64.manylinux2014_x86_64.whl.metadata (60 kB)\n",
            "\u001b[2K     \u001b[90m━━━━━━━━━━━━━━━━━━━━━━━━━━━━━━━━━━━━━━━━\u001b[0m \u001b[32m60.8/60.8 kB\u001b[0m \u001b[31m2.4 MB/s\u001b[0m eta \u001b[36m0:00:00\u001b[0m\n",
            "\u001b[?25hRequirement already satisfied: numpy<2.3,>=1.23.5 in /usr/local/lib/python3.10/dist-packages (from scipy) (1.26.4)\n",
            "Downloading scipy-1.14.1-cp310-cp310-manylinux_2_17_x86_64.manylinux2014_x86_64.whl (41.2 MB)\n",
            "\u001b[2K   \u001b[90m━━━━━━━━━━━━━━━━━━━━━━━━━━━━━━━━━━━━━━━━\u001b[0m \u001b[32m41.2/41.2 MB\u001b[0m \u001b[31m19.7 MB/s\u001b[0m eta \u001b[36m0:00:00\u001b[0m\n",
            "\u001b[?25hInstalling collected packages: scipy\n",
            "  Attempting uninstall: scipy\n",
            "    Found existing installation: scipy 1.13.1\n",
            "    Uninstalling scipy-1.13.1:\n",
            "      Successfully uninstalled scipy-1.13.1\n",
            "\u001b[31mERROR: pip's dependency resolver does not currently take into account all the packages that are installed. This behaviour is the source of the following dependency conflicts.\n",
            "gensim 4.3.3 requires scipy<1.14.0,>=1.7.0, but you have scipy 1.14.1 which is incompatible.\u001b[0m\u001b[31m\n",
            "\u001b[0mSuccessfully installed scipy-1.14.1\n"
          ]
        }
      ],
      "source": [
        "!pip install --upgrade scipy"
      ]
    },
    {
      "cell_type": "code",
      "execution_count": 52,
      "metadata": {
        "colab": {
          "base_uri": "https://localhost:8080/"
        },
        "id": "J1UHMrxDO42f",
        "outputId": "bed7474f-fd27-4702-e2c8-d30676b79268"
      },
      "outputs": [
        {
          "output_type": "stream",
          "name": "stdout",
          "text": [
            "Requirement already satisfied: scikit-learn in /usr/local/lib/python3.10/dist-packages (1.6.0)\n",
            "Requirement already satisfied: numpy>=1.19.5 in /usr/local/lib/python3.10/dist-packages (from scikit-learn) (1.26.4)\n",
            "Requirement already satisfied: scipy>=1.6.0 in /usr/local/lib/python3.10/dist-packages (from scikit-learn) (1.14.1)\n",
            "Requirement already satisfied: joblib>=1.2.0 in /usr/local/lib/python3.10/dist-packages (from scikit-learn) (1.4.2)\n",
            "Requirement already satisfied: threadpoolctl>=3.1.0 in /usr/local/lib/python3.10/dist-packages (from scikit-learn) (3.5.0)\n"
          ]
        }
      ],
      "source": [
        "!pip install --upgrade scikit-learn  # Update scikit-learn\n",
        "# Restart the kernel after installation\n",
        "\n"
      ]
    },
    {
      "cell_type": "code",
      "execution_count": 53,
      "metadata": {
        "id": "pIRathMYPDa5"
      },
      "outputs": [],
      "source": [
        "from sklearn.metrics import roc_curve, auc\n",
        "import matplotlib.pyplot as plt\n",
        "from scipy.interpolate import interp1d # Import interp1d instead of interp\n"
      ]
    },
    {
      "cell_type": "code",
      "execution_count": 54,
      "metadata": {
        "id": "P5LOVyVDPHwX"
      },
      "outputs": [],
      "source": [
        "def plot_roc(y_true, y_probas, title='ROC Curves', plot_micro=True, plot_macro=True, classes_to_plot=None, ax=None,\n",
        "             figsize=None, cmap='nipy_spectral', title_fontsize=\"large\", text_fontsize=\"medium\"):\n",
        "    \"\"\"Generates the ROC curves from labels and predicted scores/probabilities\n",
        "    Args:\n",
        "        y_true (array-like, shape (n_samples)):\n",
        "            Ground truth (correct) target values.\n",
        "        y_probas (array-like, shape (n_samples, n_classes)):\n",
        "            Prediction probabilities for each class returned by a classifier.\n",
        "        title (string, optional): Title of the generated plot. Defaults to\n",
        "            \"ROC Curves\".\n",
        "        plot_micro (boolean, optional): Plot the micro average ROC curve.\n",
        "            Defaults to ``True``.\n",
        "        plot_macro (boolean, optional): Plot the macro average ROC curve.\n",
        "            Defaults to ``True``.\n",
        "        classes_to_plot (list-like, optional): Classes for which the ROC\n",
        "            curve should be plotted. If specified, only curves for these\n",
        "            classes will be plotted. Defaults to ``None``, which plots curves\n",
        "            for all classes.\n",
        "        ax (:class:`matplotlib.axes.Axes`, optional): The axes upon which to\n",
        "            plot the curve. If None, the plot is drawn on a new set of axes.\n",
        "        figsize (2-tuple, optional): Tuple denoting figure size of the plot\n",
        "            e.g. (6, 6). Defaults to ``None``.\n",
        "        cmap (string or :class:`matplotlib.colors.Colormap` instance, optional):\n",
        "            Colormap used for plotting the projection. View Matplotlib colormaps\n",
        "            for available options.\n",
        "            https://matplotlib.org/users/colormaps.html\n",
        "            Defaults to \"nipy_spectral\".\n",
        "        title_fontsize (string or int, optional): Matplotlib-style fontsizes.\n",
        "            Use e.g. \"small\", \"medium\", \"large\" or integer values. Defaults to\n",
        "            \"large\".\n",
        "        text_fontsize (string or int, optional): Matplotlib-style fontsizes.\n",
        "            Use e.g. \"small\", \"medium\", \"large\" or integer values. Defaults to\n",
        "            \"medium\".\n",
        "    Returns:\n",
        "        ax (:class:`matplotlib.axes.Axes`): The axes on which the plot was\n",
        "            drawn.\n",
        "    Example:\n",
        "        >>> import scikitplot as skplt\n",
        "        >>> nb = GaussianNB()\n",
        "        >>> nb = nb.fit(X_train, y_train)\n",
        "        >>> y_probas = nb.predict_proba(X_test)\n",
        "        >>> skplt.metrics.plot_roc(y_test, y_probas)\n",
        "        <matplotlib.axes._subplots.AxesSubplot object at 0x7fe967d64490>\n",
        "        >>> plt.show()\n",
        "    .. image:: _static/examples/plot_roc.png\n",
        "       :align: center\n",
        "       :alt: ROC Curves\n",
        "    \"\"\"\n",
        "    y_true = np.array(y_true)\n",
        "    y_probas = np.array(y_probas)\n",
        "\n"
      ]
    },
    {
      "cell_type": "code",
      "execution_count": 55,
      "metadata": {
        "id": "VLAhveNSIc09"
      },
      "outputs": [],
      "source": [
        "plot_roc(y_test, y_predicted)"
      ]
    },
    {
      "cell_type": "code",
      "execution_count": 56,
      "metadata": {
        "id": "hwbGZvTiIc09"
      },
      "outputs": [],
      "source": [
        "from sklearn.metrics import roc_auc_score"
      ]
    },
    {
      "cell_type": "code",
      "execution_count": 57,
      "metadata": {
        "id": "uzxqq7Y9Ic09",
        "colab": {
          "base_uri": "https://localhost:8080/"
        },
        "outputId": "eb9e737a-1645-4b57-c5cf-cf45a617326f"
      },
      "outputs": [
        {
          "output_type": "execute_result",
          "data": {
            "text/plain": [
              "0.9224033408461387"
            ]
          },
          "metadata": {},
          "execution_count": 57
        }
      ],
      "source": [
        "roc_auc_score(y_test, y_predicted[:,1])"
      ]
    },
    {
      "cell_type": "markdown",
      "metadata": {
        "id": "MWk523pRIc09"
      },
      "source": [
        "## Uso CatBoost con categorical features"
      ]
    },
    {
      "cell_type": "code",
      "execution_count": 58,
      "metadata": {
        "id": "IWNyvj44Ic0-"
      },
      "outputs": [],
      "source": [
        "categorical_features_indices = np.where(X_train.dtypes == object)[0]"
      ]
    },
    {
      "cell_type": "code",
      "execution_count": 59,
      "metadata": {
        "id": "yujZTFy-Ic0-"
      },
      "outputs": [],
      "source": [
        "model = CatBoostClassifier(\n",
        "    random_seed=42,\n",
        "    logging_level='Silent'\n",
        ")"
      ]
    },
    {
      "cell_type": "code",
      "execution_count": null,
      "metadata": {
        "colab": {
          "background_save": true,
          "base_uri": "https://localhost:8080/",
          "height": 17,
          "referenced_widgets": [
            "b128dfe2fe154c8ea13e629af965ccc9"
          ]
        },
        "id": "a3_k-ym7Ic0-",
        "outputId": "eae49990-ba39-49fa-a154-da0fc7ec68dc"
      },
      "outputs": [
        {
          "output_type": "display_data",
          "data": {
            "text/plain": [
              "MetricVisualizer(layout=Layout(align_self='stretch', height='500px'))"
            ],
            "application/vnd.jupyter.widget-view+json": {
              "version_major": 2,
              "version_minor": 0,
              "model_id": "b128dfe2fe154c8ea13e629af965ccc9"
            }
          },
          "metadata": {}
        }
      ],
      "source": [
        "from catboost import Pool, metrics, cv\n",
        "\n",
        "cv_params = model.get_params()\n",
        "cv_params.update({\n",
        "    'loss_function': metrics.Logloss()\n",
        "})\n",
        "cv_data = cv(\n",
        "    Pool(X_train, y_train, cat_features=categorical_features_indices),\n",
        "    cv_params,\n",
        "    plot=True\n",
        ")"
      ]
    },
    {
      "cell_type": "code",
      "execution_count": null,
      "metadata": {
        "id": "9RoyxoDmIc0_"
      },
      "outputs": [],
      "source": [
        "# obtengo la mejor epoch\n",
        "cv_data[\"test-Logloss-mean\"].argmin()"
      ]
    },
    {
      "cell_type": "code",
      "execution_count": null,
      "metadata": {
        "id": "J8SzE5n7Ic0_"
      },
      "outputs": [],
      "source": [
        "# vamos a reentrenar con 811 steps"
      ]
    },
    {
      "cell_type": "code",
      "execution_count": null,
      "metadata": {
        "id": "8gmNwlQiIc1A"
      },
      "outputs": [],
      "source": [
        "model = CatBoostClassifier(\n",
        "    iterations=811,\n",
        "    random_seed=42,\n",
        "    logging_level='Silent',\n",
        "    cat_features=categorical_features_indices\n",
        ")"
      ]
    },
    {
      "cell_type": "code",
      "execution_count": null,
      "metadata": {
        "id": "mGevZQwvIc1A"
      },
      "outputs": [],
      "source": [
        "model.fit(X_train, y_train)"
      ]
    },
    {
      "cell_type": "code",
      "execution_count": null,
      "metadata": {
        "id": "VianiZnUIc1A"
      },
      "outputs": [],
      "source": [
        "predictions_probs = model.predict_proba(X_test)"
      ]
    },
    {
      "cell_type": "code",
      "execution_count": null,
      "metadata": {
        "id": "VTTRqRTZIc1A"
      },
      "outputs": [],
      "source": [
        "plot_roc(y_test, predictions_probs)"
      ]
    },
    {
      "cell_type": "code",
      "execution_count": null,
      "metadata": {
        "id": "e-wIHBwKIc1B"
      },
      "outputs": [],
      "source": [
        "roc_auc_score(y_test, predictions_probs[:,1])"
      ]
    }
  ],
  "metadata": {
    "colab": {
      "provenance": [],
      "include_colab_link": true
    },
    "environment": {
      "name": "pytorch-gpu.1-8.m71",
      "type": "gcloud",
      "uri": "gcr.io/deeplearning-platform-release/pytorch-gpu.1-8:m71"
    },
    "kernelspec": {
      "display_name": "pipeenv",
      "language": "python",
      "name": "pipeenv"
    },
    "language_info": {
      "codemirror_mode": {
        "name": "ipython",
        "version": 3
      },
      "file_extension": ".py",
      "mimetype": "text/x-python",
      "name": "python",
      "nbconvert_exporter": "python",
      "pygments_lexer": "ipython3",
      "version": "3.9.5"
    },
    "widgets": {
      "application/vnd.jupyter.widget-state+json": {
        "3a0da5d197f6449895b389615f200506": {
          "model_module": "@jupyter-widgets/controls",
          "model_name": "HBoxModel",
          "model_module_version": "1.5.0",
          "state": {
            "_dom_classes": [],
            "_model_module": "@jupyter-widgets/controls",
            "_model_module_version": "1.5.0",
            "_model_name": "HBoxModel",
            "_view_count": null,
            "_view_module": "@jupyter-widgets/controls",
            "_view_module_version": "1.5.0",
            "_view_name": "HBoxView",
            "box_style": "",
            "children": [
              "IPY_MODEL_d7d74f50e7464a95a412c618815b607c",
              "IPY_MODEL_c8c95e740fb9407cab9d2335547d1b1d",
              "IPY_MODEL_87450be039ba416990d2850588173a49"
            ],
            "layout": "IPY_MODEL_57c1b176bceb4b7bb66f810b4623880a"
          }
        },
        "d7d74f50e7464a95a412c618815b607c": {
          "model_module": "@jupyter-widgets/controls",
          "model_name": "HTMLModel",
          "model_module_version": "1.5.0",
          "state": {
            "_dom_classes": [],
            "_model_module": "@jupyter-widgets/controls",
            "_model_module_version": "1.5.0",
            "_model_name": "HTMLModel",
            "_view_count": null,
            "_view_module": "@jupyter-widgets/controls",
            "_view_module_version": "1.5.0",
            "_view_name": "HTMLView",
            "description": "",
            "description_tooltip": null,
            "layout": "IPY_MODEL_df5cea21560c4af38665225c549741da",
            "placeholder": "​",
            "style": "IPY_MODEL_35f24d24549b49d0b60c8a6cb7c87a2b",
            "value": "Done! Use &#x27;show&#x27; commands to display/save.   "
          }
        },
        "c8c95e740fb9407cab9d2335547d1b1d": {
          "model_module": "@jupyter-widgets/controls",
          "model_name": "FloatProgressModel",
          "model_module_version": "1.5.0",
          "state": {
            "_dom_classes": [],
            "_model_module": "@jupyter-widgets/controls",
            "_model_module_version": "1.5.0",
            "_model_name": "FloatProgressModel",
            "_view_count": null,
            "_view_module": "@jupyter-widgets/controls",
            "_view_module_version": "1.5.0",
            "_view_name": "ProgressView",
            "bar_style": "success",
            "description": "",
            "description_tooltip": null,
            "layout": "IPY_MODEL_9803937e514b45e1883b7e20562247e9",
            "max": 1,
            "min": 0,
            "orientation": "horizontal",
            "style": "IPY_MODEL_8566f31c156b46a280610cfa29123445",
            "value": 1
          }
        },
        "87450be039ba416990d2850588173a49": {
          "model_module": "@jupyter-widgets/controls",
          "model_name": "HTMLModel",
          "model_module_version": "1.5.0",
          "state": {
            "_dom_classes": [],
            "_model_module": "@jupyter-widgets/controls",
            "_model_module_version": "1.5.0",
            "_model_name": "HTMLModel",
            "_view_count": null,
            "_view_module": "@jupyter-widgets/controls",
            "_view_module_version": "1.5.0",
            "_view_name": "HTMLView",
            "description": "",
            "description_tooltip": null,
            "layout": "IPY_MODEL_804b0a6d60e6472b916855328df66e16",
            "placeholder": "​",
            "style": "IPY_MODEL_a112c4ddcc75469a884717f6b7f6e665",
            "value": " [100%]   00:01 -&gt; (00:00 left)"
          }
        },
        "57c1b176bceb4b7bb66f810b4623880a": {
          "model_module": "@jupyter-widgets/base",
          "model_name": "LayoutModel",
          "model_module_version": "1.2.0",
          "state": {
            "_model_module": "@jupyter-widgets/base",
            "_model_module_version": "1.2.0",
            "_model_name": "LayoutModel",
            "_view_count": null,
            "_view_module": "@jupyter-widgets/base",
            "_view_module_version": "1.2.0",
            "_view_name": "LayoutView",
            "align_content": null,
            "align_items": null,
            "align_self": null,
            "border": null,
            "bottom": null,
            "display": "inline-flex",
            "flex": null,
            "flex_flow": "row wrap",
            "grid_area": null,
            "grid_auto_columns": null,
            "grid_auto_flow": null,
            "grid_auto_rows": null,
            "grid_column": null,
            "grid_gap": null,
            "grid_row": null,
            "grid_template_areas": null,
            "grid_template_columns": null,
            "grid_template_rows": null,
            "height": null,
            "justify_content": null,
            "justify_items": null,
            "left": null,
            "margin": null,
            "max_height": null,
            "max_width": null,
            "min_height": null,
            "min_width": null,
            "object_fit": null,
            "object_position": null,
            "order": null,
            "overflow": null,
            "overflow_x": null,
            "overflow_y": null,
            "padding": null,
            "right": null,
            "top": null,
            "visibility": null,
            "width": "100%"
          }
        },
        "df5cea21560c4af38665225c549741da": {
          "model_module": "@jupyter-widgets/base",
          "model_name": "LayoutModel",
          "model_module_version": "1.2.0",
          "state": {
            "_model_module": "@jupyter-widgets/base",
            "_model_module_version": "1.2.0",
            "_model_name": "LayoutModel",
            "_view_count": null,
            "_view_module": "@jupyter-widgets/base",
            "_view_module_version": "1.2.0",
            "_view_name": "LayoutView",
            "align_content": null,
            "align_items": null,
            "align_self": null,
            "border": null,
            "bottom": null,
            "display": null,
            "flex": null,
            "flex_flow": null,
            "grid_area": null,
            "grid_auto_columns": null,
            "grid_auto_flow": null,
            "grid_auto_rows": null,
            "grid_column": null,
            "grid_gap": null,
            "grid_row": null,
            "grid_template_areas": null,
            "grid_template_columns": null,
            "grid_template_rows": null,
            "height": null,
            "justify_content": null,
            "justify_items": null,
            "left": null,
            "margin": null,
            "max_height": null,
            "max_width": null,
            "min_height": null,
            "min_width": null,
            "object_fit": null,
            "object_position": null,
            "order": null,
            "overflow": null,
            "overflow_x": null,
            "overflow_y": null,
            "padding": null,
            "right": null,
            "top": null,
            "visibility": null,
            "width": null
          }
        },
        "35f24d24549b49d0b60c8a6cb7c87a2b": {
          "model_module": "@jupyter-widgets/controls",
          "model_name": "DescriptionStyleModel",
          "model_module_version": "1.5.0",
          "state": {
            "_model_module": "@jupyter-widgets/controls",
            "_model_module_version": "1.5.0",
            "_model_name": "DescriptionStyleModel",
            "_view_count": null,
            "_view_module": "@jupyter-widgets/base",
            "_view_module_version": "1.2.0",
            "_view_name": "StyleView",
            "description_width": ""
          }
        },
        "9803937e514b45e1883b7e20562247e9": {
          "model_module": "@jupyter-widgets/base",
          "model_name": "LayoutModel",
          "model_module_version": "1.2.0",
          "state": {
            "_model_module": "@jupyter-widgets/base",
            "_model_module_version": "1.2.0",
            "_model_name": "LayoutModel",
            "_view_count": null,
            "_view_module": "@jupyter-widgets/base",
            "_view_module_version": "1.2.0",
            "_view_name": "LayoutView",
            "align_content": null,
            "align_items": null,
            "align_self": null,
            "border": null,
            "bottom": null,
            "display": null,
            "flex": "2",
            "flex_flow": null,
            "grid_area": null,
            "grid_auto_columns": null,
            "grid_auto_flow": null,
            "grid_auto_rows": null,
            "grid_column": null,
            "grid_gap": null,
            "grid_row": null,
            "grid_template_areas": null,
            "grid_template_columns": null,
            "grid_template_rows": null,
            "height": null,
            "justify_content": null,
            "justify_items": null,
            "left": null,
            "margin": null,
            "max_height": null,
            "max_width": null,
            "min_height": null,
            "min_width": null,
            "object_fit": null,
            "object_position": null,
            "order": null,
            "overflow": null,
            "overflow_x": null,
            "overflow_y": null,
            "padding": null,
            "right": null,
            "top": null,
            "visibility": null,
            "width": null
          }
        },
        "8566f31c156b46a280610cfa29123445": {
          "model_module": "@jupyter-widgets/controls",
          "model_name": "ProgressStyleModel",
          "model_module_version": "1.5.0",
          "state": {
            "_model_module": "@jupyter-widgets/controls",
            "_model_module_version": "1.5.0",
            "_model_name": "ProgressStyleModel",
            "_view_count": null,
            "_view_module": "@jupyter-widgets/base",
            "_view_module_version": "1.2.0",
            "_view_name": "StyleView",
            "bar_color": null,
            "description_width": ""
          }
        },
        "804b0a6d60e6472b916855328df66e16": {
          "model_module": "@jupyter-widgets/base",
          "model_name": "LayoutModel",
          "model_module_version": "1.2.0",
          "state": {
            "_model_module": "@jupyter-widgets/base",
            "_model_module_version": "1.2.0",
            "_model_name": "LayoutModel",
            "_view_count": null,
            "_view_module": "@jupyter-widgets/base",
            "_view_module_version": "1.2.0",
            "_view_name": "LayoutView",
            "align_content": null,
            "align_items": null,
            "align_self": null,
            "border": null,
            "bottom": null,
            "display": null,
            "flex": null,
            "flex_flow": null,
            "grid_area": null,
            "grid_auto_columns": null,
            "grid_auto_flow": null,
            "grid_auto_rows": null,
            "grid_column": null,
            "grid_gap": null,
            "grid_row": null,
            "grid_template_areas": null,
            "grid_template_columns": null,
            "grid_template_rows": null,
            "height": null,
            "justify_content": null,
            "justify_items": null,
            "left": null,
            "margin": null,
            "max_height": null,
            "max_width": null,
            "min_height": null,
            "min_width": null,
            "object_fit": null,
            "object_position": null,
            "order": null,
            "overflow": null,
            "overflow_x": null,
            "overflow_y": null,
            "padding": null,
            "right": null,
            "top": null,
            "visibility": null,
            "width": null
          }
        },
        "a112c4ddcc75469a884717f6b7f6e665": {
          "model_module": "@jupyter-widgets/controls",
          "model_name": "DescriptionStyleModel",
          "model_module_version": "1.5.0",
          "state": {
            "_model_module": "@jupyter-widgets/controls",
            "_model_module_version": "1.5.0",
            "_model_name": "DescriptionStyleModel",
            "_view_count": null,
            "_view_module": "@jupyter-widgets/base",
            "_view_module_version": "1.2.0",
            "_view_name": "StyleView",
            "description_width": ""
          }
        },
        "b128dfe2fe154c8ea13e629af965ccc9": {
          "model_module": "catboost-widget",
          "model_name": "CatboostWidgetModel",
          "model_module_version": "^1.0.0",
          "state": {
            "_dom_classes": [],
            "_model_module": "catboost-widget",
            "_model_module_version": "^1.0.0",
            "_model_name": "CatboostWidgetModel",
            "_view_count": null,
            "_view_module": "catboost-widget",
            "_view_module_version": "^1.0.0",
            "_view_name": "CatboostWidgetView",
            "data": {
              "catboost_info/fold-0": {
                "path": "catboost_info/fold-0",
                "name": "fold-0",
                "content": {
                  "passed_iterations": 999,
                  "total_iterations": 1000,
                  "data": {
                    "iterations": [
                      {
                        "learn": [
                          0.664315357
                        ],
                        "iteration": 0,
                        "passed_time": 0.1292503743,
                        "remaining_time": 129.1211239,
                        "test": [
                          0.664559656
                        ]
                      },
                      {
                        "learn": [
                          0.6338633899
                        ],
                        "iteration": 1,
                        "passed_time": 0.248577538,
                        "remaining_time": 124.0401915,
                        "test": [
                          0.6343247286
                        ]
                      },
                      {
                        "learn": [
                          0.6094572301
                        ],
                        "iteration": 2,
                        "passed_time": 0.3323505561,
                        "remaining_time": 110.4511681,
                        "test": [
                          0.6100046471
                        ]
                      },
                      {
                        "learn": [
                          0.5839182973
                        ],
                        "iteration": 3,
                        "passed_time": 0.4295229316,
                        "remaining_time": 106.95121,
                        "test": [
                          0.5846710393
                        ]
                      },
                      {
                        "learn": [
                          0.563764964
                        ],
                        "iteration": 4,
                        "passed_time": 0.5305346922,
                        "remaining_time": 105.5764037,
                        "test": [
                          0.564787178
                        ]
                      },
                      {
                        "learn": [
                          0.5435140998
                        ],
                        "iteration": 5,
                        "passed_time": 0.6324083034,
                        "remaining_time": 104.7689756,
                        "test": [
                          0.5450586385
                        ]
                      },
                      {
                        "learn": [
                          0.5235658477
                        ],
                        "iteration": 6,
                        "passed_time": 0.7340125704,
                        "remaining_time": 104.1249261,
                        "test": [
                          0.5252165589
                        ]
                      },
                      {
                        "learn": [
                          0.5092798905
                        ],
                        "iteration": 7,
                        "passed_time": 0.8363909504,
                        "remaining_time": 103.7124778,
                        "test": [
                          0.5110521451
                        ]
                      },
                      {
                        "learn": [
                          0.4936060266
                        ],
                        "iteration": 8,
                        "passed_time": 0.9571560334,
                        "remaining_time": 105.3935143,
                        "test": [
                          0.4956593402
                        ]
                      },
                      {
                        "learn": [
                          0.478893876
                        ],
                        "iteration": 9,
                        "passed_time": 1.051222889,
                        "remaining_time": 104.071066,
                        "test": [
                          0.4810557343
                        ]
                      },
                      {
                        "learn": [
                          0.464431615
                        ],
                        "iteration": 10,
                        "passed_time": 1.143813457,
                        "remaining_time": 102.8392281,
                        "test": [
                          0.4668205078
                        ]
                      },
                      {
                        "learn": [
                          0.4519177216
                        ],
                        "iteration": 11,
                        "passed_time": 1.214956104,
                        "remaining_time": 100.0313859,
                        "test": [
                          0.4545739569
                        ]
                      },
                      {
                        "learn": [
                          0.44098809
                        ],
                        "iteration": 12,
                        "passed_time": 1.267051986,
                        "remaining_time": 96.19848539,
                        "test": [
                          0.4437486532
                        ]
                      },
                      {
                        "learn": [
                          0.4308862017
                        ],
                        "iteration": 13,
                        "passed_time": 1.311557119,
                        "remaining_time": 92.37109422,
                        "test": [
                          0.433691463
                        ]
                      },
                      {
                        "learn": [
                          0.4218571707
                        ],
                        "iteration": 14,
                        "passed_time": 1.368116051,
                        "remaining_time": 89.83962069,
                        "test": [
                          0.4249396686
                        ]
                      },
                      {
                        "learn": [
                          0.4140161663
                        ],
                        "iteration": 15,
                        "passed_time": 1.41047568,
                        "remaining_time": 86.7442543,
                        "test": [
                          0.4172207612
                        ]
                      },
                      {
                        "learn": [
                          0.4067954654
                        ],
                        "iteration": 16,
                        "passed_time": 1.445605604,
                        "remaining_time": 83.59001819,
                        "test": [
                          0.4101549184
                        ]
                      },
                      {
                        "learn": [
                          0.3998263122
                        ],
                        "iteration": 17,
                        "passed_time": 1.484177777,
                        "remaining_time": 80.97014319,
                        "test": [
                          0.4033136543
                        ]
                      },
                      {
                        "learn": [
                          0.3941048875
                        ],
                        "iteration": 18,
                        "passed_time": 1.527053969,
                        "remaining_time": 78.84420754,
                        "test": [
                          0.3977359264
                        ]
                      },
                      {
                        "learn": [
                          0.3889640462
                        ],
                        "iteration": 19,
                        "passed_time": 1.570256557,
                        "remaining_time": 76.94257127,
                        "test": [
                          0.3926597458
                        ]
                      },
                      {
                        "learn": [
                          0.3838912711
                        ],
                        "iteration": 20,
                        "passed_time": 1.606457712,
                        "remaining_time": 74.89152859,
                        "test": [
                          0.3877527078
                        ]
                      },
                      {
                        "learn": [
                          0.3790557832
                        ],
                        "iteration": 21,
                        "passed_time": 1.645358817,
                        "remaining_time": 73.14367833,
                        "test": [
                          0.3830499404
                        ]
                      },
                      {
                        "learn": [
                          0.3746872099
                        ],
                        "iteration": 22,
                        "passed_time": 1.692896192,
                        "remaining_time": 71.91128609,
                        "test": [
                          0.3788755988
                        ]
                      },
                      {
                        "learn": [
                          0.3703227111
                        ],
                        "iteration": 23,
                        "passed_time": 1.735415188,
                        "remaining_time": 70.57355097,
                        "test": [
                          0.3746252409
                        ]
                      },
                      {
                        "learn": [
                          0.3668144051
                        ],
                        "iteration": 24,
                        "passed_time": 1.782343234,
                        "remaining_time": 69.51138612,
                        "test": [
                          0.3713046289
                        ]
                      },
                      {
                        "learn": [
                          0.3631414464
                        ],
                        "iteration": 25,
                        "passed_time": 1.830122898,
                        "remaining_time": 68.55921932,
                        "test": [
                          0.3677455413
                        ]
                      },
                      {
                        "learn": [
                          0.3598314973
                        ],
                        "iteration": 26,
                        "passed_time": 1.885409794,
                        "remaining_time": 67.94458256,
                        "test": [
                          0.364522787
                        ]
                      },
                      {
                        "learn": [
                          0.356793794
                        ],
                        "iteration": 27,
                        "passed_time": 1.952303319,
                        "remaining_time": 67.77281521,
                        "test": [
                          0.3615550066
                        ]
                      },
                      {
                        "learn": [
                          0.3536773372
                        ],
                        "iteration": 28,
                        "passed_time": 1.996019034,
                        "remaining_time": 66.83222351,
                        "test": [
                          0.3585534411
                        ]
                      },
                      {
                        "learn": [
                          0.3509277297
                        ],
                        "iteration": 29,
                        "passed_time": 2.048679347,
                        "remaining_time": 66.24063221,
                        "test": [
                          0.3558956317
                        ]
                      },
                      {
                        "learn": [
                          0.3487423848
                        ],
                        "iteration": 30,
                        "passed_time": 2.085887098,
                        "remaining_time": 65.20079348,
                        "test": [
                          0.3536971709
                        ]
                      },
                      {
                        "learn": [
                          0.3462157676
                        ],
                        "iteration": 31,
                        "passed_time": 2.131420695,
                        "remaining_time": 64.47547603,
                        "test": [
                          0.3512631148
                        ]
                      },
                      {
                        "learn": [
                          0.3442950884
                        ],
                        "iteration": 32,
                        "passed_time": 2.181850773,
                        "remaining_time": 63.93483932,
                        "test": [
                          0.3493748566
                        ]
                      },
                      {
                        "learn": [
                          0.3422257213
                        ],
                        "iteration": 33,
                        "passed_time": 2.240579186,
                        "remaining_time": 63.65880864,
                        "test": [
                          0.3474925794
                        ]
                      },
                      {
                        "learn": [
                          0.3398513594
                        ],
                        "iteration": 34,
                        "passed_time": 2.293385785,
                        "remaining_time": 63.23192235,
                        "test": [
                          0.3452719258
                        ]
                      },
                      {
                        "learn": [
                          0.3378510451
                        ],
                        "iteration": 35,
                        "passed_time": 2.340842713,
                        "remaining_time": 62.68256598,
                        "test": [
                          0.3433049608
                        ]
                      },
                      {
                        "learn": [
                          0.3360139876
                        ],
                        "iteration": 36,
                        "passed_time": 2.380728052,
                        "remaining_time": 61.96327335,
                        "test": [
                          0.3415512783
                        ]
                      },
                      {
                        "learn": [
                          0.334515321
                        ],
                        "iteration": 37,
                        "passed_time": 2.429584047,
                        "remaining_time": 61.50683824,
                        "test": [
                          0.3400860606
                        ]
                      },
                      {
                        "learn": [
                          0.3333107148
                        ],
                        "iteration": 38,
                        "passed_time": 2.474431152,
                        "remaining_time": 60.97252145,
                        "test": [
                          0.3389031993
                        ]
                      },
                      {
                        "learn": [
                          0.3317433458
                        ],
                        "iteration": 39,
                        "passed_time": 2.526796847,
                        "remaining_time": 60.64312432,
                        "test": [
                          0.337315056
                        ]
                      },
                      {
                        "learn": [
                          0.3302552239
                        ],
                        "iteration": 40,
                        "passed_time": 2.570564883,
                        "remaining_time": 60.12613959,
                        "test": [
                          0.3359188453
                        ]
                      },
                      {
                        "learn": [
                          0.3289694127
                        ],
                        "iteration": 41,
                        "passed_time": 2.615042611,
                        "remaining_time": 59.64787671,
                        "test": [
                          0.3347621649
                        ]
                      },
                      {
                        "learn": [
                          0.3278820511
                        ],
                        "iteration": 42,
                        "passed_time": 2.667179351,
                        "remaining_time": 59.36024741,
                        "test": [
                          0.3337679399
                        ]
                      },
                      {
                        "learn": [
                          0.3269527634
                        ],
                        "iteration": 43,
                        "passed_time": 2.717943998,
                        "remaining_time": 59.0535105,
                        "test": [
                          0.3329128589
                        ]
                      },
                      {
                        "learn": [
                          0.3256562318
                        ],
                        "iteration": 44,
                        "passed_time": 2.770945164,
                        "remaining_time": 58.80561403,
                        "test": [
                          0.3317025339
                        ]
                      },
                      {
                        "learn": [
                          0.3245441418
                        ],
                        "iteration": 45,
                        "passed_time": 2.826275881,
                        "remaining_time": 58.61450415,
                        "test": [
                          0.3306872003
                        ]
                      },
                      {
                        "learn": [
                          0.3234556298
                        ],
                        "iteration": 46,
                        "passed_time": 2.882700253,
                        "remaining_time": 58.45134769,
                        "test": [
                          0.3296578565
                        ]
                      },
                      {
                        "learn": [
                          0.3223424971
                        ],
                        "iteration": 47,
                        "passed_time": 2.95675909,
                        "remaining_time": 58.64238861,
                        "test": [
                          0.3286466485
                        ]
                      },
                      {
                        "learn": [
                          0.3214823213
                        ],
                        "iteration": 48,
                        "passed_time": 3.009197859,
                        "remaining_time": 58.40300335,
                        "test": [
                          0.3279501838
                        ]
                      },
                      {
                        "learn": [
                          0.3204502825
                        ],
                        "iteration": 49,
                        "passed_time": 3.054967649,
                        "remaining_time": 58.04438533,
                        "test": [
                          0.3269979835
                        ]
                      },
                      {
                        "learn": [
                          0.3197467823
                        ],
                        "iteration": 50,
                        "passed_time": 3.102667338,
                        "remaining_time": 57.73394713,
                        "test": [
                          0.3263145656
                        ]
                      },
                      {
                        "learn": [
                          0.3190195341
                        ],
                        "iteration": 51,
                        "passed_time": 3.151834952,
                        "remaining_time": 57.46037567,
                        "test": [
                          0.3257156914
                        ]
                      },
                      {
                        "learn": [
                          0.3183370166
                        ],
                        "iteration": 52,
                        "passed_time": 3.202385821,
                        "remaining_time": 57.21998816,
                        "test": [
                          0.3250376685
                        ]
                      },
                      {
                        "learn": [
                          0.3173070495
                        ],
                        "iteration": 53,
                        "passed_time": 3.247857179,
                        "remaining_time": 56.89764613,
                        "test": [
                          0.3240830589
                        ]
                      },
                      {
                        "learn": [
                          0.3165130789
                        ],
                        "iteration": 54,
                        "passed_time": 3.296550395,
                        "remaining_time": 56.64072952,
                        "test": [
                          0.3233782952
                        ]
                      },
                      {
                        "learn": [
                          0.3157807926
                        ],
                        "iteration": 55,
                        "passed_time": 3.340016646,
                        "remaining_time": 56.30313775,
                        "test": [
                          0.3227280072
                        ]
                      },
                      {
                        "learn": [
                          0.3150132659
                        ],
                        "iteration": 56,
                        "passed_time": 3.389224779,
                        "remaining_time": 56.07085906,
                        "test": [
                          0.3220060427
                        ]
                      },
                      {
                        "learn": [
                          0.3143114546
                        ],
                        "iteration": 57,
                        "passed_time": 3.435389008,
                        "remaining_time": 55.79545596,
                        "test": [
                          0.3213980307
                        ]
                      },
                      {
                        "learn": [
                          0.3136017869
                        ],
                        "iteration": 58,
                        "passed_time": 3.485271786,
                        "remaining_time": 55.58713137,
                        "test": [
                          0.3206992401
                        ]
                      },
                      {
                        "learn": [
                          0.3131825794
                        ],
                        "iteration": 59,
                        "passed_time": 3.533554865,
                        "remaining_time": 55.35902622,
                        "test": [
                          0.3203440385
                        ]
                      },
                      {
                        "learn": [
                          0.3124366577
                        ],
                        "iteration": 60,
                        "passed_time": 3.58179248,
                        "remaining_time": 55.13611702,
                        "test": [
                          0.3196813662
                        ]
                      },
                      {
                        "learn": [
                          0.3119419389
                        ],
                        "iteration": 61,
                        "passed_time": 3.624138318,
                        "remaining_time": 54.82970551,
                        "test": [
                          0.3192977034
                        ]
                      },
                      {
                        "learn": [
                          0.3114325383
                        ],
                        "iteration": 62,
                        "passed_time": 3.674703246,
                        "remaining_time": 54.6539197,
                        "test": [
                          0.3188672188
                        ]
                      },
                      {
                        "learn": [
                          0.3110003182
                        ],
                        "iteration": 63,
                        "passed_time": 3.720115102,
                        "remaining_time": 54.40668337,
                        "test": [
                          0.3185038195
                        ]
                      },
                      {
                        "learn": [
                          0.3104363443
                        ],
                        "iteration": 64,
                        "passed_time": 3.769729396,
                        "remaining_time": 54.22610747,
                        "test": [
                          0.3179660605
                        ]
                      },
                      {
                        "learn": [
                          0.3099322279
                        ],
                        "iteration": 65,
                        "passed_time": 3.822610085,
                        "remaining_time": 54.09572453,
                        "test": [
                          0.3175511449
                        ]
                      },
                      {
                        "learn": [
                          0.3095225764
                        ],
                        "iteration": 66,
                        "passed_time": 3.876904218,
                        "remaining_time": 53.98733784,
                        "test": [
                          0.3172223927
                        ]
                      },
                      {
                        "learn": [
                          0.3091624387
                        ],
                        "iteration": 67,
                        "passed_time": 3.931108358,
                        "remaining_time": 53.87930867,
                        "test": [
                          0.3168676498
                        ]
                      },
                      {
                        "learn": [
                          0.3087016576
                        ],
                        "iteration": 68,
                        "passed_time": 4.002359478,
                        "remaining_time": 54.00285035,
                        "test": [
                          0.3165084581
                        ]
                      },
                      {
                        "learn": [
                          0.3082727747
                        ],
                        "iteration": 69,
                        "passed_time": 4.051186401,
                        "remaining_time": 53.82290504,
                        "test": [
                          0.316121877
                        ]
                      },
                      {
                        "learn": [
                          0.3077786253
                        ],
                        "iteration": 70,
                        "passed_time": 4.100597999,
                        "remaining_time": 53.6543034,
                        "test": [
                          0.3156288544
                        ]
                      },
                      {
                        "learn": [
                          0.3072342825
                        ],
                        "iteration": 71,
                        "passed_time": 4.152132077,
                        "remaining_time": 53.516369,
                        "test": [
                          0.3151072509
                        ]
                      },
                      {
                        "learn": [
                          0.3068815689
                        ],
                        "iteration": 72,
                        "passed_time": 4.200846243,
                        "remaining_time": 53.3449927,
                        "test": [
                          0.3148396977
                        ]
                      },
                      {
                        "learn": [
                          0.3065066577
                        ],
                        "iteration": 73,
                        "passed_time": 4.25267639,
                        "remaining_time": 53.21592347,
                        "test": [
                          0.3145557772
                        ]
                      },
                      {
                        "learn": [
                          0.3062865656
                        ],
                        "iteration": 74,
                        "passed_time": 4.294743401,
                        "remaining_time": 52.96850195,
                        "test": [
                          0.3143624234
                        ]
                      },
                      {
                        "learn": [
                          0.3057938968
                        ],
                        "iteration": 75,
                        "passed_time": 4.346205513,
                        "remaining_time": 52.84070913,
                        "test": [
                          0.313883618
                        ]
                      },
                      {
                        "learn": [
                          0.3053522185
                        ],
                        "iteration": 76,
                        "passed_time": 4.399402339,
                        "remaining_time": 52.73569297,
                        "test": [
                          0.3134811906
                        ]
                      },
                      {
                        "learn": [
                          0.3048383324
                        ],
                        "iteration": 77,
                        "passed_time": 4.445725772,
                        "remaining_time": 52.55075848,
                        "test": [
                          0.3130498521
                        ]
                      },
                      {
                        "learn": [
                          0.3045546352
                        ],
                        "iteration": 78,
                        "passed_time": 4.494062412,
                        "remaining_time": 52.39280356,
                        "test": [
                          0.3127909766
                        ]
                      },
                      {
                        "learn": [
                          0.3042004491
                        ],
                        "iteration": 79,
                        "passed_time": 4.542448283,
                        "remaining_time": 52.23815526,
                        "test": [
                          0.3125205239
                        ]
                      },
                      {
                        "learn": [
                          0.3037602484
                        ],
                        "iteration": 80,
                        "passed_time": 4.592111514,
                        "remaining_time": 52.10062323,
                        "test": [
                          0.3121050024
                        ]
                      },
                      {
                        "learn": [
                          0.3034908051
                        ],
                        "iteration": 81,
                        "passed_time": 4.639094556,
                        "remaining_time": 51.9352293,
                        "test": [
                          0.3118518865
                        ]
                      },
                      {
                        "learn": [
                          0.3031174839
                        ],
                        "iteration": 82,
                        "passed_time": 4.685464873,
                        "remaining_time": 51.76591914,
                        "test": [
                          0.311518294
                        ]
                      },
                      {
                        "learn": [
                          0.3028523517
                        ],
                        "iteration": 83,
                        "passed_time": 4.730813148,
                        "remaining_time": 51.588391,
                        "test": [
                          0.3112856357
                        ]
                      },
                      {
                        "learn": [
                          0.3025870292
                        ],
                        "iteration": 84,
                        "passed_time": 4.768973851,
                        "remaining_time": 51.33660086,
                        "test": [
                          0.3110922916
                        ]
                      },
                      {
                        "learn": [
                          0.3023912494
                        ],
                        "iteration": 85,
                        "passed_time": 4.817892844,
                        "remaining_time": 51.20411697,
                        "test": [
                          0.310918322
                        ]
                      },
                      {
                        "learn": [
                          0.3019189426
                        ],
                        "iteration": 86,
                        "passed_time": 4.873171406,
                        "remaining_time": 51.14029303,
                        "test": [
                          0.3104516286
                        ]
                      },
                      {
                        "learn": [
                          0.3016274862
                        ],
                        "iteration": 87,
                        "passed_time": 4.926468463,
                        "remaining_time": 51.0561277,
                        "test": [
                          0.3102620387
                        ]
                      },
                      {
                        "learn": [
                          0.3014316685
                        ],
                        "iteration": 88,
                        "passed_time": 4.989379508,
                        "remaining_time": 51.0710644,
                        "test": [
                          0.3101389526
                        ]
                      },
                      {
                        "learn": [
                          0.3011257843
                        ],
                        "iteration": 89,
                        "passed_time": 5.055513984,
                        "remaining_time": 51.11686362,
                        "test": [
                          0.309942944
                        ]
                      },
                      {
                        "learn": [
                          0.3009219666
                        ],
                        "iteration": 90,
                        "passed_time": 5.112785435,
                        "remaining_time": 51.07166989,
                        "test": [
                          0.3097689701
                        ]
                      },
                      {
                        "learn": [
                          0.3007121397
                        ],
                        "iteration": 91,
                        "passed_time": 5.157262971,
                        "remaining_time": 50.89994324,
                        "test": [
                          0.3095990592
                        ]
                      },
                      {
                        "learn": [
                          0.3005013138
                        ],
                        "iteration": 92,
                        "passed_time": 5.207142578,
                        "remaining_time": 50.78363783,
                        "test": [
                          0.3094452572
                        ]
                      },
                      {
                        "learn": [
                          0.3002788093
                        ],
                        "iteration": 93,
                        "passed_time": 5.267064788,
                        "remaining_time": 50.76553934,
                        "test": [
                          0.3092720757
                        ]
                      },
                      {
                        "learn": [
                          0.3000536336
                        ],
                        "iteration": 94,
                        "passed_time": 5.316058564,
                        "remaining_time": 50.64245264,
                        "test": [
                          0.309101261
                        ]
                      },
                      {
                        "learn": [
                          0.2996943981
                        ],
                        "iteration": 95,
                        "passed_time": 5.369300955,
                        "remaining_time": 50.56091733,
                        "test": [
                          0.3088062992
                        ]
                      },
                      {
                        "learn": [
                          0.2994930131
                        ],
                        "iteration": 96,
                        "passed_time": 5.418509176,
                        "remaining_time": 50.44241017,
                        "test": [
                          0.3086968325
                        ]
                      },
                      {
                        "learn": [
                          0.2993121445
                        ],
                        "iteration": 97,
                        "passed_time": 5.468042716,
                        "remaining_time": 50.32831153,
                        "test": [
                          0.3085470628
                        ]
                      },
                      {
                        "learn": [
                          0.2988905873
                        ],
                        "iteration": 98,
                        "passed_time": 5.52068279,
                        "remaining_time": 50.24378984,
                        "test": [
                          0.3081633845
                        ]
                      },
                      {
                        "learn": [
                          0.2986199443
                        ],
                        "iteration": 99,
                        "passed_time": 5.57073154,
                        "remaining_time": 50.13658386,
                        "test": [
                          0.307944523
                        ]
                      },
                      {
                        "learn": [
                          0.2982244715
                        ],
                        "iteration": 100,
                        "passed_time": 5.616614631,
                        "remaining_time": 49.99343122,
                        "test": [
                          0.3075588376
                        ]
                      },
                      {
                        "learn": [
                          0.2980023157
                        ],
                        "iteration": 101,
                        "passed_time": 5.667182245,
                        "remaining_time": 49.893428,
                        "test": [
                          0.3073844699
                        ]
                      },
                      {
                        "learn": [
                          0.2975929569
                        ],
                        "iteration": 102,
                        "passed_time": 5.721574611,
                        "remaining_time": 49.82769346,
                        "test": [
                          0.306979376
                        ]
                      },
                      {
                        "learn": [
                          0.2970466815
                        ],
                        "iteration": 103,
                        "passed_time": 5.778503408,
                        "remaining_time": 49.78402936,
                        "test": [
                          0.3063594825
                        ]
                      },
                      {
                        "learn": [
                          0.2968243665
                        ],
                        "iteration": 104,
                        "passed_time": 5.828984347,
                        "remaining_time": 49.68515229,
                        "test": [
                          0.3062062325
                        ]
                      },
                      {
                        "learn": [
                          0.296609493
                        ],
                        "iteration": 105,
                        "passed_time": 5.872095669,
                        "remaining_time": 49.52503328,
                        "test": [
                          0.306077658
                        ]
                      },
                      {
                        "learn": [
                          0.2964166596
                        ],
                        "iteration": 106,
                        "passed_time": 5.921972189,
                        "remaining_time": 49.42356229,
                        "test": [
                          0.3059110892
                        ]
                      },
                      {
                        "learn": [
                          0.296386274
                        ],
                        "iteration": 107,
                        "passed_time": 5.940485072,
                        "remaining_time": 49.06400634,
                        "test": [
                          0.3058908137
                        ]
                      },
                      {
                        "learn": [
                          0.2961166671
                        ],
                        "iteration": 108,
                        "passed_time": 5.999314622,
                        "remaining_time": 49.04026906,
                        "test": [
                          0.3056355838
                        ]
                      },
                      {
                        "learn": [
                          0.2959268064
                        ],
                        "iteration": 109,
                        "passed_time": 6.058945554,
                        "remaining_time": 49.02237767,
                        "test": [
                          0.3054790391
                        ]
                      },
                      {
                        "learn": [
                          0.2957585909
                        ],
                        "iteration": 110,
                        "passed_time": 6.107969256,
                        "remaining_time": 48.9187808,
                        "test": [
                          0.3053540252
                        ]
                      },
                      {
                        "learn": [
                          0.295484793
                        ],
                        "iteration": 111,
                        "passed_time": 6.16064493,
                        "remaining_time": 48.84511337,
                        "test": [
                          0.3051134358
                        ]
                      },
                      {
                        "learn": [
                          0.2952387503
                        ],
                        "iteration": 112,
                        "passed_time": 6.20755809,
                        "remaining_time": 48.7265843,
                        "test": [
                          0.3049584358
                        ]
                      },
                      {
                        "learn": [
                          0.2950822713
                        ],
                        "iteration": 113,
                        "passed_time": 6.258976723,
                        "remaining_time": 48.64432787,
                        "test": [
                          0.3048359163
                        ]
                      },
                      {
                        "learn": [
                          0.2948669391
                        ],
                        "iteration": 114,
                        "passed_time": 6.305025152,
                        "remaining_time": 48.52128052,
                        "test": [
                          0.304683574
                        ]
                      },
                      {
                        "learn": [
                          0.2946746318
                        ],
                        "iteration": 115,
                        "passed_time": 6.350989072,
                        "remaining_time": 48.39891672,
                        "test": [
                          0.3045239482
                        ]
                      },
                      {
                        "learn": [
                          0.2945252235
                        ],
                        "iteration": 116,
                        "passed_time": 6.400718061,
                        "remaining_time": 48.30627391,
                        "test": [
                          0.3043759424
                        ]
                      },
                      {
                        "learn": [
                          0.2942194589
                        ],
                        "iteration": 117,
                        "passed_time": 6.451489604,
                        "remaining_time": 48.22215111,
                        "test": [
                          0.3040490883
                        ]
                      },
                      {
                        "learn": [
                          0.2940107604
                        ],
                        "iteration": 118,
                        "passed_time": 6.493986429,
                        "remaining_time": 48.0773281,
                        "test": [
                          0.3038550459
                        ]
                      },
                      {
                        "learn": [
                          0.2937667793
                        ],
                        "iteration": 119,
                        "passed_time": 6.538698356,
                        "remaining_time": 47.95045461,
                        "test": [
                          0.3037139092
                        ]
                      },
                      {
                        "learn": [
                          0.293608456
                        ],
                        "iteration": 120,
                        "passed_time": 6.583356214,
                        "remaining_time": 47.82454638,
                        "test": [
                          0.3035986557
                        ]
                      },
                      {
                        "learn": [
                          0.2934394512
                        ],
                        "iteration": 121,
                        "passed_time": 6.628173888,
                        "remaining_time": 47.70112028,
                        "test": [
                          0.3034755233
                        ]
                      },
                      {
                        "learn": [
                          0.2932336523
                        ],
                        "iteration": 122,
                        "passed_time": 6.677589385,
                        "remaining_time": 47.61175521,
                        "test": [
                          0.3033655535
                        ]
                      },
                      {
                        "learn": [
                          0.2930827353
                        ],
                        "iteration": 123,
                        "passed_time": 6.726128462,
                        "remaining_time": 47.516843,
                        "test": [
                          0.3032484488
                        ]
                      },
                      {
                        "learn": [
                          0.2929505503
                        ],
                        "iteration": 124,
                        "passed_time": 6.769407737,
                        "remaining_time": 47.38585416,
                        "test": [
                          0.3031535424
                        ]
                      },
                      {
                        "learn": [
                          0.2927225784
                        ],
                        "iteration": 125,
                        "passed_time": 6.816466285,
                        "remaining_time": 47.28247249,
                        "test": [
                          0.3029452941
                        ]
                      },
                      {
                        "learn": [
                          0.292579601
                        ],
                        "iteration": 126,
                        "passed_time": 6.867557845,
                        "remaining_time": 47.20770078,
                        "test": [
                          0.3027582316
                        ]
                      },
                      {
                        "learn": [
                          0.292402324
                        ],
                        "iteration": 127,
                        "passed_time": 6.92178314,
                        "remaining_time": 47.15464764,
                        "test": [
                          0.3026492734
                        ]
                      },
                      {
                        "learn": [
                          0.2921895865
                        ],
                        "iteration": 128,
                        "passed_time": 6.983190915,
                        "remaining_time": 47.15007199,
                        "test": [
                          0.3024943742
                        ]
                      },
                      {
                        "learn": [
                          0.2920032641
                        ],
                        "iteration": 129,
                        "passed_time": 7.048860059,
                        "remaining_time": 47.1731404,
                        "test": [
                          0.3023433016
                        ]
                      },
                      {
                        "learn": [
                          0.2918353839
                        ],
                        "iteration": 130,
                        "passed_time": 7.108148354,
                        "remaining_time": 47.15252611,
                        "test": [
                          0.3022630015
                        ]
                      },
                      {
                        "learn": [
                          0.2917315263
                        ],
                        "iteration": 131,
                        "passed_time": 7.154319962,
                        "remaining_time": 47.04507369,
                        "test": [
                          0.302205285
                        ]
                      },
                      {
                        "learn": [
                          0.2915447278
                        ],
                        "iteration": 132,
                        "passed_time": 7.205088004,
                        "remaining_time": 46.96850601,
                        "test": [
                          0.3020967842
                        ]
                      },
                      {
                        "learn": [
                          0.2913129505
                        ],
                        "iteration": 133,
                        "passed_time": 7.256012935,
                        "remaining_time": 46.89333733,
                        "test": [
                          0.3019357235
                        ]
                      },
                      {
                        "learn": [
                          0.2912327907
                        ],
                        "iteration": 134,
                        "passed_time": 7.304519067,
                        "remaining_time": 46.80302958,
                        "test": [
                          0.3018841193
                        ]
                      },
                      {
                        "learn": [
                          0.2910997105
                        ],
                        "iteration": 135,
                        "passed_time": 7.355826989,
                        "remaining_time": 46.73113617,
                        "test": [
                          0.3017902132
                        ]
                      },
                      {
                        "learn": [
                          0.2908861867
                        ],
                        "iteration": 136,
                        "passed_time": 7.411908568,
                        "remaining_time": 46.68961383,
                        "test": [
                          0.3015386949
                        ]
                      },
                      {
                        "learn": [
                          0.2907761195
                        ],
                        "iteration": 137,
                        "passed_time": 7.4574011,
                        "remaining_time": 46.58173731,
                        "test": [
                          0.3014983455
                        ]
                      },
                      {
                        "learn": [
                          0.2904442702
                        ],
                        "iteration": 138,
                        "passed_time": 7.511475041,
                        "remaining_time": 46.52791374,
                        "test": [
                          0.3012130841
                        ]
                      },
                      {
                        "learn": [
                          0.2903448942
                        ],
                        "iteration": 139,
                        "passed_time": 7.55646448,
                        "remaining_time": 46.41828181,
                        "test": [
                          0.3011723172
                        ]
                      },
                      {
                        "learn": [
                          0.2902039686
                        ],
                        "iteration": 140,
                        "passed_time": 7.60361029,
                        "remaining_time": 46.32270382,
                        "test": [
                          0.3010781803
                        ]
                      },
                      {
                        "learn": [
                          0.2900714295
                        ],
                        "iteration": 141,
                        "passed_time": 7.656217818,
                        "remaining_time": 46.26080907,
                        "test": [
                          0.3010557611
                        ]
                      },
                      {
                        "learn": [
                          0.289945484
                        ],
                        "iteration": 142,
                        "passed_time": 7.703215822,
                        "remaining_time": 46.16542629,
                        "test": [
                          0.3009577417
                        ]
                      },
                      {
                        "learn": [
                          0.2896885682
                        ],
                        "iteration": 143,
                        "passed_time": 7.755289094,
                        "remaining_time": 46.10088517,
                        "test": [
                          0.300721831
                        ]
                      },
                      {
                        "learn": [
                          0.289509474
                        ],
                        "iteration": 144,
                        "passed_time": 7.798816958,
                        "remaining_time": 45.98612758,
                        "test": [
                          0.3006558298
                        ]
                      },
                      {
                        "learn": [
                          0.2893811843
                        ],
                        "iteration": 145,
                        "passed_time": 7.853640789,
                        "remaining_time": 45.93841941,
                        "test": [
                          0.3005826312
                        ]
                      },
                      {
                        "learn": [
                          0.2892497294
                        ],
                        "iteration": 146,
                        "passed_time": 7.904458894,
                        "remaining_time": 45.86737032,
                        "test": [
                          0.3004747965
                        ]
                      },
                      {
                        "learn": [
                          0.2891534428
                        ],
                        "iteration": 147,
                        "passed_time": 7.949248008,
                        "remaining_time": 45.76188718,
                        "test": [
                          0.3004168844
                        ]
                      },
                      {
                        "learn": [
                          0.2890196027
                        ],
                        "iteration": 148,
                        "passed_time": 8.012878678,
                        "remaining_time": 45.76483057,
                        "test": [
                          0.3002836402
                        ]
                      },
                      {
                        "learn": [
                          0.288944475
                        ],
                        "iteration": 149,
                        "passed_time": 8.067708188,
                        "remaining_time": 45.71701307,
                        "test": [
                          0.3002320539
                        ]
                      },
                      {
                        "learn": [
                          0.2887631464
                        ],
                        "iteration": 150,
                        "passed_time": 8.128874604,
                        "remaining_time": 45.70473205,
                        "test": [
                          0.3000278963
                        ]
                      },
                      {
                        "learn": [
                          0.2886431895
                        ],
                        "iteration": 151,
                        "passed_time": 8.18105879,
                        "remaining_time": 45.64169641,
                        "test": [
                          0.299959019
                        ]
                      },
                      {
                        "learn": [
                          0.288549999
                        ],
                        "iteration": 152,
                        "passed_time": 8.229998621,
                        "remaining_time": 45.56084204,
                        "test": [
                          0.2998697953
                        ]
                      },
                      {
                        "learn": [
                          0.2883798017
                        ],
                        "iteration": 153,
                        "passed_time": 8.287630637,
                        "remaining_time": 45.52815272,
                        "test": [
                          0.299747055
                        ]
                      },
                      {
                        "learn": [
                          0.2882249492
                        ],
                        "iteration": 154,
                        "passed_time": 8.341971696,
                        "remaining_time": 45.47720054,
                        "test": [
                          0.2996368397
                        ]
                      },
                      {
                        "learn": [
                          0.2881346694
                        ],
                        "iteration": 155,
                        "passed_time": 8.383829316,
                        "remaining_time": 45.3586663,
                        "test": [
                          0.2995812491
                        ]
                      },
                      {
                        "learn": [
                          0.287990437
                        ],
                        "iteration": 156,
                        "passed_time": 8.430201358,
                        "remaining_time": 45.26534869,
                        "test": [
                          0.2995140384
                        ]
                      },
                      {
                        "learn": [
                          0.2878546288
                        ],
                        "iteration": 157,
                        "passed_time": 8.484724353,
                        "remaining_time": 45.21606269,
                        "test": [
                          0.2994148536
                        ]
                      },
                      {
                        "learn": [
                          0.2877933731
                        ],
                        "iteration": 158,
                        "passed_time": 8.534298312,
                        "remaining_time": 45.14053384,
                        "test": [
                          0.2993971434
                        ]
                      },
                      {
                        "learn": [
                          0.2876820282
                        ],
                        "iteration": 159,
                        "passed_time": 8.589579833,
                        "remaining_time": 45.09529412,
                        "test": [
                          0.2993374902
                        ]
                      },
                      {
                        "learn": [
                          0.2876203367
                        ],
                        "iteration": 160,
                        "passed_time": 8.63665233,
                        "remaining_time": 45.00715096,
                        "test": [
                          0.2993032418
                        ]
                      },
                      {
                        "learn": [
                          0.287475258
                        ],
                        "iteration": 161,
                        "passed_time": 8.677570798,
                        "remaining_time": 44.88768104,
                        "test": [
                          0.2991764979
                        ]
                      },
                      {
                        "learn": [
                          0.287381324
                        ],
                        "iteration": 162,
                        "passed_time": 8.731393706,
                        "remaining_time": 44.83543885,
                        "test": [
                          0.2991111625
                        ]
                      },
                      {
                        "learn": [
                          0.2873067722
                        ],
                        "iteration": 163,
                        "passed_time": 8.782605883,
                        "remaining_time": 44.76986902,
                        "test": [
                          0.299085778
                        ]
                      },
                      {
                        "learn": [
                          0.2870522741
                        ],
                        "iteration": 164,
                        "passed_time": 8.83715959,
                        "remaining_time": 44.72138338,
                        "test": [
                          0.2988556038
                        ]
                      },
                      {
                        "learn": [
                          0.2869560222
                        ],
                        "iteration": 165,
                        "passed_time": 8.886674696,
                        "remaining_time": 44.64751022,
                        "test": [
                          0.2988237967
                        ]
                      },
                      {
                        "learn": [
                          0.2867627038
                        ],
                        "iteration": 166,
                        "passed_time": 8.939867178,
                        "remaining_time": 44.59227161,
                        "test": [
                          0.2986484771
                        ]
                      },
                      {
                        "learn": [
                          0.2866500664
                        ],
                        "iteration": 167,
                        "passed_time": 9.005429337,
                        "remaining_time": 44.59831672,
                        "test": [
                          0.298616743
                        ]
                      },
                      {
                        "learn": [
                          0.2865565646
                        ],
                        "iteration": 168,
                        "passed_time": 9.055566655,
                        "remaining_time": 44.52766799,
                        "test": [
                          0.298574811
                        ]
                      },
                      {
                        "learn": [
                          0.2865184439
                        ],
                        "iteration": 169,
                        "passed_time": 9.112220667,
                        "remaining_time": 44.48907737,
                        "test": [
                          0.2985515177
                        ]
                      },
                      {
                        "learn": [
                          0.2865052217
                        ],
                        "iteration": 170,
                        "passed_time": 9.13856875,
                        "remaining_time": 44.30335376,
                        "test": [
                          0.2985458817
                        ]
                      },
                      {
                        "learn": [
                          0.2862368524
                        ],
                        "iteration": 171,
                        "passed_time": 9.195912237,
                        "remaining_time": 44.26869379,
                        "test": [
                          0.298290097
                        ]
                      },
                      {
                        "learn": [
                          0.2861478431
                        ],
                        "iteration": 172,
                        "passed_time": 9.236719352,
                        "remaining_time": 44.15472199,
                        "test": [
                          0.2982431387
                        ]
                      },
                      {
                        "learn": [
                          0.2859154774
                        ],
                        "iteration": 173,
                        "passed_time": 9.298481457,
                        "remaining_time": 44.14106715,
                        "test": [
                          0.297999994
                        ]
                      },
                      {
                        "learn": [
                          0.2858514988
                        ],
                        "iteration": 174,
                        "passed_time": 9.341183082,
                        "remaining_time": 44.03700596,
                        "test": [
                          0.2979419194
                        ]
                      },
                      {
                        "learn": [
                          0.2857479947
                        ],
                        "iteration": 175,
                        "passed_time": 9.388137587,
                        "remaining_time": 43.95355325,
                        "test": [
                          0.2979002794
                        ]
                      },
                      {
                        "learn": [
                          0.2857191409
                        ],
                        "iteration": 176,
                        "passed_time": 9.42785378,
                        "remaining_time": 43.83685684,
                        "test": [
                          0.2978852309
                        ]
                      },
                      {
                        "learn": [
                          0.2856461229
                        ],
                        "iteration": 177,
                        "passed_time": 9.47838677,
                        "remaining_time": 43.77097711,
                        "test": [
                          0.29782583
                        ]
                      },
                      {
                        "learn": [
                          0.285576503
                        ],
                        "iteration": 178,
                        "passed_time": 9.527246015,
                        "remaining_time": 43.69759206,
                        "test": [
                          0.2977711239
                        ]
                      },
                      {
                        "learn": [
                          0.2854843761
                        ],
                        "iteration": 179,
                        "passed_time": 9.575231801,
                        "remaining_time": 43.62050043,
                        "test": [
                          0.2977339739
                        ]
                      },
                      {
                        "learn": [
                          0.2854797682
                        ],
                        "iteration": 180,
                        "passed_time": 9.615846607,
                        "remaining_time": 43.51037774,
                        "test": [
                          0.2977339
                        ]
                      },
                      {
                        "learn": [
                          0.2853741261
                        ],
                        "iteration": 181,
                        "passed_time": 9.657905321,
                        "remaining_time": 43.40750853,
                        "test": [
                          0.2976678734
                        ]
                      },
                      {
                        "learn": [
                          0.2853463846
                        ],
                        "iteration": 182,
                        "passed_time": 9.688348179,
                        "remaining_time": 43.25344515,
                        "test": [
                          0.2976573729
                        ]
                      },
                      {
                        "learn": [
                          0.2853075037
                        ],
                        "iteration": 183,
                        "passed_time": 9.734596189,
                        "remaining_time": 43.17081788,
                        "test": [
                          0.2976395626
                        ]
                      },
                      {
                        "learn": [
                          0.2852321545
                        ],
                        "iteration": 184,
                        "passed_time": 9.77678387,
                        "remaining_time": 43.07069651,
                        "test": [
                          0.2975847958
                        ]
                      },
                      {
                        "learn": [
                          0.2851523789
                        ],
                        "iteration": 185,
                        "passed_time": 9.823935989,
                        "remaining_time": 42.99292417,
                        "test": [
                          0.2975589724
                        ]
                      },
                      {
                        "learn": [
                          0.2850355815
                        ],
                        "iteration": 186,
                        "passed_time": 9.877172796,
                        "remaining_time": 42.94193306,
                        "test": [
                          0.2975103694
                        ]
                      },
                      {
                        "learn": [
                          0.2849424896
                        ],
                        "iteration": 187,
                        "passed_time": 9.925922034,
                        "remaining_time": 42.87153559,
                        "test": [
                          0.2974449773
                        ]
                      },
                      {
                        "learn": [
                          0.2849019344
                        ],
                        "iteration": 188,
                        "passed_time": 9.981080244,
                        "remaining_time": 42.82886814,
                        "test": [
                          0.2974451469
                        ]
                      },
                      {
                        "learn": [
                          0.2847557766
                        ],
                        "iteration": 189,
                        "passed_time": 10.03845044,
                        "remaining_time": 42.79549923,
                        "test": [
                          0.2973228619
                        ]
                      },
                      {
                        "learn": [
                          0.2846043417
                        ],
                        "iteration": 190,
                        "passed_time": 10.08977475,
                        "remaining_time": 42.73627105,
                        "test": [
                          0.2971756135
                        ]
                      },
                      {
                        "learn": [
                          0.2845740802
                        ],
                        "iteration": 191,
                        "passed_time": 10.15363965,
                        "remaining_time": 42.72990021,
                        "test": [
                          0.2971628565
                        ]
                      },
                      {
                        "learn": [
                          0.2844768455
                        ],
                        "iteration": 192,
                        "passed_time": 10.19971511,
                        "remaining_time": 42.64854971,
                        "test": [
                          0.2971325057
                        ]
                      },
                      {
                        "learn": [
                          0.2844666974
                        ],
                        "iteration": 193,
                        "passed_time": 10.22056551,
                        "remaining_time": 42.46276187,
                        "test": [
                          0.297113455
                        ]
                      },
                      {
                        "learn": [
                          0.2844286639
                        ],
                        "iteration": 194,
                        "passed_time": 10.26727191,
                        "remaining_time": 42.38540455,
                        "test": [
                          0.2970743558
                        ]
                      },
                      {
                        "learn": [
                          0.2843656192
                        ],
                        "iteration": 195,
                        "passed_time": 10.31716266,
                        "remaining_time": 42.32142235,
                        "test": [
                          0.2970479054
                        ]
                      },
                      {
                        "learn": [
                          0.2841824669
                        ],
                        "iteration": 196,
                        "passed_time": 10.37498241,
                        "remaining_time": 42.2899029,
                        "test": [
                          0.2968327847
                        ]
                      },
                      {
                        "learn": [
                          0.2840956635
                        ],
                        "iteration": 197,
                        "passed_time": 10.41879105,
                        "remaining_time": 42.20136577,
                        "test": [
                          0.2967804196
                        ]
                      },
                      {
                        "learn": [
                          0.2839993124
                        ],
                        "iteration": 198,
                        "passed_time": 10.46822068,
                        "remaining_time": 42.13590336,
                        "test": [
                          0.2967384718
                        ]
                      },
                      {
                        "learn": [
                          0.2839217913
                        ],
                        "iteration": 199,
                        "passed_time": 10.5101985,
                        "remaining_time": 42.04079401,
                        "test": [
                          0.2967102696
                        ]
                      },
                      {
                        "learn": [
                          0.2838242432
                        ],
                        "iteration": 200,
                        "passed_time": 10.55944642,
                        "remaining_time": 41.97511288,
                        "test": [
                          0.2966858409
                        ]
                      },
                      {
                        "learn": [
                          0.2836823026
                        ],
                        "iteration": 201,
                        "passed_time": 10.60990443,
                        "remaining_time": 41.91437492,
                        "test": [
                          0.2966133429
                        ]
                      },
                      {
                        "learn": [
                          0.2836560759
                        ],
                        "iteration": 202,
                        "passed_time": 10.64241549,
                        "remaining_time": 41.78327657,
                        "test": [
                          0.2966175177
                        ]
                      },
                      {
                        "learn": [
                          0.283480085
                        ],
                        "iteration": 203,
                        "passed_time": 10.68948994,
                        "remaining_time": 41.70997057,
                        "test": [
                          0.2964253764
                        ]
                      },
                      {
                        "learn": [
                          0.2833443315
                        ],
                        "iteration": 204,
                        "passed_time": 10.73773475,
                        "remaining_time": 41.64145914,
                        "test": [
                          0.2963514429
                        ]
                      },
                      {
                        "learn": [
                          0.2832443146
                        ],
                        "iteration": 205,
                        "passed_time": 10.7903175,
                        "remaining_time": 41.58986455,
                        "test": [
                          0.2963084392
                        ]
                      },
                      {
                        "learn": [
                          0.2830553702
                        ],
                        "iteration": 206,
                        "passed_time": 10.84273683,
                        "remaining_time": 41.53763432,
                        "test": [
                          0.296127753
                        ]
                      },
                      {
                        "learn": [
                          0.2830389615
                        ],
                        "iteration": 207,
                        "passed_time": 10.88323942,
                        "remaining_time": 41.44002701,
                        "test": [
                          0.2961237005
                        ]
                      },
                      {
                        "learn": [
                          0.2830013515
                        ],
                        "iteration": 208,
                        "passed_time": 10.93517958,
                        "remaining_time": 41.3862538,
                        "test": [
                          0.2961031305
                        ]
                      },
                      {
                        "learn": [
                          0.2829308581
                        ],
                        "iteration": 209,
                        "passed_time": 11.00420279,
                        "remaining_time": 41.39676286,
                        "test": [
                          0.2960566236
                        ]
                      },
                      {
                        "learn": [
                          0.2828255518
                        ],
                        "iteration": 210,
                        "passed_time": 11.05308166,
                        "remaining_time": 41.33119162,
                        "test": [
                          0.2960230581
                        ]
                      },
                      {
                        "learn": [
                          0.2827952959
                        ],
                        "iteration": 211,
                        "passed_time": 11.09518378,
                        "remaining_time": 41.24058877,
                        "test": [
                          0.2960085075
                        ]
                      },
                      {
                        "learn": [
                          0.2827487049
                        ],
                        "iteration": 212,
                        "passed_time": 11.14264508,
                        "remaining_time": 41.17024261,
                        "test": [
                          0.2959715575
                        ]
                      },
                      {
                        "learn": [
                          0.282685215
                        ],
                        "iteration": 213,
                        "passed_time": 11.24584148,
                        "remaining_time": 41.30481965,
                        "test": [
                          0.2959231621
                        ]
                      },
                      {
                        "learn": [
                          0.2825978682
                        ],
                        "iteration": 214,
                        "passed_time": 11.33143078,
                        "remaining_time": 41.37289842,
                        "test": [
                          0.2958750738
                        ]
                      },
                      {
                        "learn": [
                          0.2825713283
                        ],
                        "iteration": 215,
                        "passed_time": 11.39943526,
                        "remaining_time": 41.37572797,
                        "test": [
                          0.2958670982
                        ]
                      },
                      {
                        "learn": [
                          0.2825107176
                        ],
                        "iteration": 216,
                        "passed_time": 11.47854119,
                        "remaining_time": 41.41796199,
                        "test": [
                          0.2958250433
                        ]
                      },
                      {
                        "learn": [
                          0.2824547557
                        ],
                        "iteration": 217,
                        "passed_time": 11.58336005,
                        "remaining_time": 41.55131909,
                        "test": [
                          0.2957268781
                        ]
                      },
                      {
                        "learn": [
                          0.2823649559
                        ],
                        "iteration": 218,
                        "passed_time": 11.69447474,
                        "remaining_time": 41.70495331,
                        "test": [
                          0.2956946721
                        ]
                      },
                      {
                        "learn": [
                          0.2823191405
                        ],
                        "iteration": 219,
                        "passed_time": 11.78581709,
                        "remaining_time": 41.78607877,
                        "test": [
                          0.2956889144
                        ]
                      },
                      {
                        "learn": [
                          0.2822574501
                        ],
                        "iteration": 220,
                        "passed_time": 11.87245986,
                        "remaining_time": 41.84907796,
                        "test": [
                          0.2956432564
                        ]
                      },
                      {
                        "learn": [
                          0.2821626841
                        ],
                        "iteration": 221,
                        "passed_time": 11.95663466,
                        "remaining_time": 41.90208004,
                        "test": [
                          0.2956276708
                        ]
                      },
                      {
                        "learn": [
                          0.2821070417
                        ],
                        "iteration": 222,
                        "passed_time": 12.08396676,
                        "remaining_time": 42.10422499,
                        "test": [
                          0.2955898202
                        ]
                      },
                      {
                        "learn": [
                          0.2820890624
                        ],
                        "iteration": 223,
                        "passed_time": 12.17196007,
                        "remaining_time": 42.1671474,
                        "test": [
                          0.295579022
                        ]
                      },
                      {
                        "learn": [
                          0.2820171358
                        ],
                        "iteration": 224,
                        "passed_time": 12.26828138,
                        "remaining_time": 42.25741364,
                        "test": [
                          0.2955535364
                        ]
                      },
                      {
                        "learn": [
                          0.281927075
                        ],
                        "iteration": 225,
                        "passed_time": 12.3538418,
                        "remaining_time": 42.30917502,
                        "test": [
                          0.2954914264
                        ]
                      },
                      {
                        "learn": [
                          0.281884923
                        ],
                        "iteration": 226,
                        "passed_time": 12.43857427,
                        "remaining_time": 42.3569071,
                        "test": [
                          0.2954756088
                        ]
                      },
                      {
                        "learn": [
                          0.2818382619
                        ],
                        "iteration": 227,
                        "passed_time": 12.54785428,
                        "remaining_time": 42.4865943,
                        "test": [
                          0.2954645535
                        ]
                      },
                      {
                        "learn": [
                          0.2817954102
                        ],
                        "iteration": 228,
                        "passed_time": 12.61373295,
                        "remaining_time": 42.46807031,
                        "test": [
                          0.2954456428
                        ]
                      },
                      {
                        "learn": [
                          0.2816716304
                        ],
                        "iteration": 229,
                        "passed_time": 12.70300499,
                        "remaining_time": 42.52745148,
                        "test": [
                          0.2953465821
                        ]
                      },
                      {
                        "learn": [
                          0.2815666176
                        ],
                        "iteration": 230,
                        "passed_time": 12.80169805,
                        "remaining_time": 42.61690822,
                        "test": [
                          0.2953164911
                        ]
                      },
                      {
                        "learn": [
                          0.2814817539
                        ],
                        "iteration": 231,
                        "passed_time": 12.9170399,
                        "remaining_time": 42.75985621,
                        "test": [
                          0.2952816711
                        ]
                      },
                      {
                        "learn": [
                          0.2813631442
                        ],
                        "iteration": 232,
                        "passed_time": 13.02188896,
                        "remaining_time": 42.86604648,
                        "test": [
                          0.2951676498
                        ]
                      },
                      {
                        "learn": [
                          0.2811718218
                        ],
                        "iteration": 233,
                        "passed_time": 13.125652,
                        "remaining_time": 42.96687792,
                        "test": [
                          0.2949870372
                        ]
                      },
                      {
                        "learn": [
                          0.2811151767
                        ],
                        "iteration": 234,
                        "passed_time": 13.22123921,
                        "remaining_time": 43.03935316,
                        "test": [
                          0.2949860218
                        ]
                      },
                      {
                        "learn": [
                          0.2810983745
                        ],
                        "iteration": 235,
                        "passed_time": 13.32537491,
                        "remaining_time": 43.13807809,
                        "test": [
                          0.2949766694
                        ]
                      },
                      {
                        "learn": [
                          0.2810100557
                        ],
                        "iteration": 236,
                        "passed_time": 13.43132333,
                        "remaining_time": 43.240927,
                        "test": [
                          0.2949133701
                        ]
                      },
                      {
                        "learn": [
                          0.2809644443
                        ],
                        "iteration": 237,
                        "passed_time": 13.53461699,
                        "remaining_time": 43.33352163,
                        "test": [
                          0.294903045
                        ]
                      },
                      {
                        "learn": [
                          0.2809061108
                        ],
                        "iteration": 238,
                        "passed_time": 13.61220087,
                        "remaining_time": 43.34261449,
                        "test": [
                          0.2948855307
                        ]
                      },
                      {
                        "learn": [
                          0.2808849085
                        ],
                        "iteration": 239,
                        "passed_time": 13.72199268,
                        "remaining_time": 43.45297681,
                        "test": [
                          0.2948878421
                        ]
                      },
                      {
                        "learn": [
                          0.2808832089
                        ],
                        "iteration": 240,
                        "passed_time": 13.76785388,
                        "remaining_time": 43.36017052,
                        "test": [
                          0.294887592
                        ]
                      },
                      {
                        "learn": [
                          0.280843416
                        ],
                        "iteration": 241,
                        "passed_time": 13.85510625,
                        "remaining_time": 43.39739891,
                        "test": [
                          0.2948679105
                        ]
                      },
                      {
                        "learn": [
                          0.2807453515
                        ],
                        "iteration": 242,
                        "passed_time": 13.93517014,
                        "remaining_time": 43.41120903,
                        "test": [
                          0.2948279908
                        ]
                      },
                      {
                        "learn": [
                          0.2806739383
                        ],
                        "iteration": 243,
                        "passed_time": 14.03896966,
                        "remaining_time": 43.49779123,
                        "test": [
                          0.2948073149
                        ]
                      },
                      {
                        "learn": [
                          0.2806537568
                        ],
                        "iteration": 244,
                        "passed_time": 14.14024828,
                        "remaining_time": 43.57505083,
                        "test": [
                          0.294804355
                        ]
                      },
                      {
                        "learn": [
                          0.2805996644
                        ],
                        "iteration": 245,
                        "passed_time": 14.2293167,
                        "remaining_time": 43.61343412,
                        "test": [
                          0.2947658585
                        ]
                      },
                      {
                        "learn": [
                          0.2803097423
                        ],
                        "iteration": 246,
                        "passed_time": 14.32525283,
                        "remaining_time": 43.67172219,
                        "test": [
                          0.2944695456
                        ]
                      },
                      {
                        "learn": [
                          0.2802668651
                        ],
                        "iteration": 247,
                        "passed_time": 14.43502074,
                        "remaining_time": 43.77070804,
                        "test": [
                          0.2944270457
                        ]
                      },
                      {
                        "learn": [
                          0.2802595803
                        ],
                        "iteration": 248,
                        "passed_time": 14.47290324,
                        "remaining_time": 43.65120616,
                        "test": [
                          0.2944191295
                        ]
                      },
                      {
                        "learn": [
                          0.2802064151
                        ],
                        "iteration": 249,
                        "passed_time": 14.58787864,
                        "remaining_time": 43.76363593,
                        "test": [
                          0.2943996677
                        ]
                      },
                      {
                        "learn": [
                          0.28018505
                        ],
                        "iteration": 250,
                        "passed_time": 14.6697145,
                        "remaining_time": 43.77536318,
                        "test": [
                          0.294386185
                        ]
                      },
                      {
                        "learn": [
                          0.2801304844
                        ],
                        "iteration": 251,
                        "passed_time": 14.75441647,
                        "remaining_time": 43.79485523,
                        "test": [
                          0.2943474607
                        ]
                      },
                      {
                        "learn": [
                          0.2801209781
                        ],
                        "iteration": 252,
                        "passed_time": 14.79187009,
                        "remaining_time": 43.6740196,
                        "test": [
                          0.2943503013
                        ]
                      },
                      {
                        "learn": [
                          0.2800076133
                        ],
                        "iteration": 253,
                        "passed_time": 14.88921562,
                        "remaining_time": 43.72974352,
                        "test": [
                          0.2942685583
                        ]
                      },
                      {
                        "learn": [
                          0.2799587787
                        ],
                        "iteration": 254,
                        "passed_time": 14.97113385,
                        "remaining_time": 43.73919499,
                        "test": [
                          0.2942323202
                        ]
                      },
                      {
                        "learn": [
                          0.2799280153
                        ],
                        "iteration": 255,
                        "passed_time": 15.0702368,
                        "remaining_time": 43.7978757,
                        "test": [
                          0.2942145601
                        ]
                      },
                      {
                        "learn": [
                          0.2796472414
                        ],
                        "iteration": 256,
                        "passed_time": 15.13385084,
                        "remaining_time": 43.75272831,
                        "test": [
                          0.2938801263
                        ]
                      },
                      {
                        "learn": [
                          0.2795917306
                        ],
                        "iteration": 257,
                        "passed_time": 15.18821697,
                        "remaining_time": 43.68084106,
                        "test": [
                          0.2938507132
                        ]
                      },
                      {
                        "learn": [
                          0.2794932968
                        ],
                        "iteration": 258,
                        "passed_time": 15.23873412,
                        "remaining_time": 43.59807715,
                        "test": [
                          0.2938446692
                        ]
                      },
                      {
                        "learn": [
                          0.2794650044
                        ],
                        "iteration": 259,
                        "passed_time": 15.27679161,
                        "remaining_time": 43.48009918,
                        "test": [
                          0.2938144925
                        ]
                      },
                      {
                        "learn": [
                          0.2793013448
                        ],
                        "iteration": 260,
                        "passed_time": 15.32801686,
                        "remaining_time": 43.40001709,
                        "test": [
                          0.2936156715
                        ]
                      },
                      {
                        "learn": [
                          0.2790824877
                        ],
                        "iteration": 261,
                        "passed_time": 15.38435446,
                        "remaining_time": 43.33455568,
                        "test": [
                          0.2934213441
                        ]
                      },
                      {
                        "learn": [
                          0.278999871
                        ],
                        "iteration": 262,
                        "passed_time": 15.44063195,
                        "remaining_time": 43.26899525,
                        "test": [
                          0.29337569
                        ]
                      },
                      {
                        "learn": [
                          0.2789118979
                        ],
                        "iteration": 263,
                        "passed_time": 15.49833786,
                        "remaining_time": 43.20748737,
                        "test": [
                          0.2933601892
                        ]
                      },
                      {
                        "learn": [
                          0.278806886
                        ],
                        "iteration": 264,
                        "passed_time": 15.55000625,
                        "remaining_time": 43.12926261,
                        "test": [
                          0.2933532766
                        ]
                      },
                      {
                        "learn": [
                          0.2787672286
                        ],
                        "iteration": 265,
                        "passed_time": 15.59428041,
                        "remaining_time": 43.0308339,
                        "test": [
                          0.2933359337
                        ]
                      },
                      {
                        "learn": [
                          0.2787386983
                        ],
                        "iteration": 266,
                        "passed_time": 15.63516145,
                        "remaining_time": 42.92349566,
                        "test": [
                          0.2933171927
                        ]
                      },
                      {
                        "learn": [
                          0.2786759282
                        ],
                        "iteration": 267,
                        "passed_time": 15.67374142,
                        "remaining_time": 42.81036837,
                        "test": [
                          0.293286656
                        ]
                      },
                      {
                        "learn": [
                          0.2785836247
                        ],
                        "iteration": 268,
                        "passed_time": 15.72419771,
                        "remaining_time": 42.73006886,
                        "test": [
                          0.2932703169
                        ]
                      },
                      {
                        "learn": [
                          0.2784643148
                        ],
                        "iteration": 269,
                        "passed_time": 15.77706651,
                        "remaining_time": 42.65651316,
                        "test": [
                          0.2932301413
                        ]
                      },
                      {
                        "learn": [
                          0.2784009359
                        ],
                        "iteration": 270,
                        "passed_time": 15.82259189,
                        "remaining_time": 42.56335604,
                        "test": [
                          0.2931703013
                        ]
                      },
                      {
                        "learn": [
                          0.278276415
                        ],
                        "iteration": 271,
                        "passed_time": 15.86899791,
                        "remaining_time": 42.47290617,
                        "test": [
                          0.2931297126
                        ]
                      },
                      {
                        "learn": [
                          0.2782293622
                        ],
                        "iteration": 272,
                        "passed_time": 15.92179146,
                        "remaining_time": 42.39978897,
                        "test": [
                          0.2931201772
                        ]
                      },
                      {
                        "learn": [
                          0.2782039267
                        ],
                        "iteration": 273,
                        "passed_time": 15.96731333,
                        "remaining_time": 42.30755283,
                        "test": [
                          0.2931005224
                        ]
                      },
                      {
                        "learn": [
                          0.2781601841
                        ],
                        "iteration": 274,
                        "passed_time": 16.02146373,
                        "remaining_time": 42.23840438,
                        "test": [
                          0.2930905891
                        ]
                      },
                      {
                        "learn": [
                          0.2781510142
                        ],
                        "iteration": 275,
                        "passed_time": 16.04522894,
                        "remaining_time": 42.08965853,
                        "test": [
                          0.2930904849
                        ]
                      },
                      {
                        "learn": [
                          0.2781004077
                        ],
                        "iteration": 276,
                        "passed_time": 16.11072537,
                        "remaining_time": 42.05073806,
                        "test": [
                          0.2930881942
                        ]
                      },
                      {
                        "learn": [
                          0.2780692253
                        ],
                        "iteration": 277,
                        "passed_time": 16.16230764,
                        "remaining_time": 41.97548963,
                        "test": [
                          0.2930821207
                        ]
                      },
                      {
                        "learn": [
                          0.2780142148
                        ],
                        "iteration": 278,
                        "passed_time": 16.21087087,
                        "remaining_time": 41.89260894,
                        "test": [
                          0.2930603666
                        ]
                      },
                      {
                        "learn": [
                          0.2779958163
                        ],
                        "iteration": 279,
                        "passed_time": 16.25195896,
                        "remaining_time": 41.79075161,
                        "test": [
                          0.2930561776
                        ]
                      },
                      {
                        "learn": [
                          0.2778890982
                        ],
                        "iteration": 280,
                        "passed_time": 16.3066471,
                        "remaining_time": 41.7241255,
                        "test": [
                          0.2929211961
                        ]
                      },
                      {
                        "learn": [
                          0.2777941187
                        ],
                        "iteration": 281,
                        "passed_time": 16.35852735,
                        "remaining_time": 41.65043488,
                        "test": [
                          0.292842726
                        ]
                      },
                      {
                        "learn": [
                          0.2776522382
                        ],
                        "iteration": 282,
                        "passed_time": 16.41041721,
                        "remaining_time": 41.57692276,
                        "test": [
                          0.2927370172
                        ]
                      },
                      {
                        "learn": [
                          0.2775677196
                        ],
                        "iteration": 283,
                        "passed_time": 16.45806402,
                        "remaining_time": 41.49286563,
                        "test": [
                          0.2927232365
                        ]
                      },
                      {
                        "learn": [
                          0.2775209177
                        ],
                        "iteration": 284,
                        "passed_time": 16.51828079,
                        "remaining_time": 41.44059919,
                        "test": [
                          0.2927010782
                        ]
                      },
                      {
                        "learn": [
                          0.2774442617
                        ],
                        "iteration": 285,
                        "passed_time": 16.56772897,
                        "remaining_time": 41.3613933,
                        "test": [
                          0.2927083994
                        ]
                      },
                      {
                        "learn": [
                          0.2773754984
                        ],
                        "iteration": 286,
                        "passed_time": 16.61470052,
                        "remaining_time": 41.27624206,
                        "test": [
                          0.2926752872
                        ]
                      },
                      {
                        "learn": [
                          0.2772452101
                        ],
                        "iteration": 287,
                        "passed_time": 16.66777254,
                        "remaining_time": 41.20643767,
                        "test": [
                          0.2925961971
                        ]
                      },
                      {
                        "learn": [
                          0.2772009765
                        ],
                        "iteration": 288,
                        "passed_time": 16.71546004,
                        "remaining_time": 41.12350205,
                        "test": [
                          0.2925878718
                        ]
                      },
                      {
                        "learn": [
                          0.2771376232
                        ],
                        "iteration": 289,
                        "passed_time": 16.76581552,
                        "remaining_time": 41.04734144,
                        "test": [
                          0.2925441708
                        ]
                      },
                      {
                        "learn": [
                          0.2770866952
                        ],
                        "iteration": 290,
                        "passed_time": 16.81464132,
                        "remaining_time": 40.96763126,
                        "test": [
                          0.2925365126
                        ]
                      },
                      {
                        "learn": [
                          0.2769122743
                        ],
                        "iteration": 291,
                        "passed_time": 16.86970919,
                        "remaining_time": 40.90326749,
                        "test": [
                          0.2924143357
                        ]
                      },
                      {
                        "learn": [
                          0.2768486843
                        ],
                        "iteration": 292,
                        "passed_time": 16.92888901,
                        "remaining_time": 40.84888918,
                        "test": [
                          0.2924165597
                        ]
                      },
                      {
                        "learn": [
                          0.2768092883
                        ],
                        "iteration": 293,
                        "passed_time": 16.98195132,
                        "remaining_time": 40.77978787,
                        "test": [
                          0.2923893313
                        ]
                      },
                      {
                        "learn": [
                          0.2767687085
                        ],
                        "iteration": 294,
                        "passed_time": 17.03359268,
                        "remaining_time": 40.70739946,
                        "test": [
                          0.2923822474
                        ]
                      },
                      {
                        "learn": [
                          0.2766975349
                        ],
                        "iteration": 295,
                        "passed_time": 17.0838639,
                        "remaining_time": 40.63189252,
                        "test": [
                          0.2923671035
                        ]
                      },
                      {
                        "learn": [
                          0.2766689752
                        ],
                        "iteration": 296,
                        "passed_time": 17.15656618,
                        "remaining_time": 40.6096499,
                        "test": [
                          0.2923645621
                        ]
                      },
                      {
                        "learn": [
                          0.276625932
                        ],
                        "iteration": 297,
                        "passed_time": 17.20531975,
                        "remaining_time": 40.53065257,
                        "test": [
                          0.2923578418
                        ]
                      },
                      {
                        "learn": [
                          0.2765892376
                        ],
                        "iteration": 298,
                        "passed_time": 17.26011533,
                        "remaining_time": 40.46602291,
                        "test": [
                          0.2923603265
                        ]
                      },
                      {
                        "learn": [
                          0.2765626059
                        ],
                        "iteration": 299,
                        "passed_time": 17.31176937,
                        "remaining_time": 40.39412852,
                        "test": [
                          0.2923521664
                        ]
                      },
                      {
                        "learn": [
                          0.2764467662
                        ],
                        "iteration": 300,
                        "passed_time": 17.36208094,
                        "remaining_time": 40.31925109,
                        "test": [
                          0.2923036734
                        ]
                      },
                      {
                        "learn": [
                          0.2763784984
                        ],
                        "iteration": 301,
                        "passed_time": 17.41180247,
                        "remaining_time": 40.2431726,
                        "test": [
                          0.2923130426
                        ]
                      },
                      {
                        "learn": [
                          0.2762122901
                        ],
                        "iteration": 302,
                        "passed_time": 17.46488505,
                        "remaining_time": 40.17499959,
                        "test": [
                          0.2921634941
                        ]
                      },
                      {
                        "learn": [
                          0.2761405709
                        ],
                        "iteration": 303,
                        "passed_time": 17.51483842,
                        "remaining_time": 40.09976165,
                        "test": [
                          0.2921159374
                        ]
                      },
                      {
                        "learn": [
                          0.2760991484
                        ],
                        "iteration": 304,
                        "passed_time": 17.57097606,
                        "remaining_time": 40.03878151,
                        "test": [
                          0.2920851614
                        ]
                      },
                      {
                        "learn": [
                          0.2760559977
                        ],
                        "iteration": 305,
                        "passed_time": 17.61736879,
                        "remaining_time": 39.95573183,
                        "test": [
                          0.2920878093
                        ]
                      },
                      {
                        "learn": [
                          0.2760280206
                        ],
                        "iteration": 306,
                        "passed_time": 17.66540214,
                        "remaining_time": 39.87662437,
                        "test": [
                          0.2920826271
                        ]
                      },
                      {
                        "learn": [
                          0.2759439684
                        ],
                        "iteration": 307,
                        "passed_time": 17.71894338,
                        "remaining_time": 39.81009356,
                        "test": [
                          0.2920387347
                        ]
                      },
                      {
                        "learn": [
                          0.2758429479
                        ],
                        "iteration": 308,
                        "passed_time": 17.77237915,
                        "remaining_time": 39.74341097,
                        "test": [
                          0.2919483194
                        ]
                      },
                      {
                        "learn": [
                          0.2757809679
                        ],
                        "iteration": 309,
                        "passed_time": 17.81613569,
                        "remaining_time": 39.65526977,
                        "test": [
                          0.2919295148
                        ]
                      },
                      {
                        "learn": [
                          0.2757066115
                        ],
                        "iteration": 310,
                        "passed_time": 17.85626728,
                        "remaining_time": 39.55938313,
                        "test": [
                          0.2919067521
                        ]
                      },
                      {
                        "learn": [
                          0.2755301265
                        ],
                        "iteration": 311,
                        "passed_time": 17.91171841,
                        "remaining_time": 39.49763547,
                        "test": [
                          0.2917558087
                        ]
                      },
                      {
                        "learn": [
                          0.2754288711
                        ],
                        "iteration": 312,
                        "passed_time": 17.96526556,
                        "remaining_time": 39.43174901,
                        "test": [
                          0.2917537392
                        ]
                      },
                      {
                        "learn": [
                          0.2753789378
                        ],
                        "iteration": 313,
                        "passed_time": 18.01603795,
                        "remaining_time": 39.35987908,
                        "test": [
                          0.2917539807
                        ]
                      },
                      {
                        "learn": [
                          0.2752431723
                        ],
                        "iteration": 314,
                        "passed_time": 18.07186605,
                        "remaining_time": 39.29913728,
                        "test": [
                          0.2916129957
                        ]
                      },
                      {
                        "learn": [
                          0.2751699008
                        ],
                        "iteration": 315,
                        "passed_time": 18.12210366,
                        "remaining_time": 39.22632565,
                        "test": [
                          0.2916143913
                        ]
                      },
                      {
                        "learn": [
                          0.2751158783
                        ],
                        "iteration": 316,
                        "passed_time": 18.17629147,
                        "remaining_time": 39.16216743,
                        "test": [
                          0.2916024109
                        ]
                      },
                      {
                        "learn": [
                          0.2750989185
                        ],
                        "iteration": 317,
                        "passed_time": 18.22525639,
                        "remaining_time": 39.08687062,
                        "test": [
                          0.2915952992
                        ]
                      },
                      {
                        "learn": [
                          0.274997749
                        ],
                        "iteration": 318,
                        "passed_time": 18.27173404,
                        "remaining_time": 39.00642909,
                        "test": [
                          0.2915305687
                        ]
                      },
                      {
                        "learn": [
                          0.2748980469
                        ],
                        "iteration": 319,
                        "passed_time": 18.32433107,
                        "remaining_time": 38.93920352,
                        "test": [
                          0.2914744756
                        ]
                      },
                      {
                        "learn": [
                          0.2748892451
                        ],
                        "iteration": 320,
                        "passed_time": 18.374954,
                        "remaining_time": 38.86789336,
                        "test": [
                          0.2914725146
                        ]
                      },
                      {
                        "learn": [
                          0.2748855165
                        ],
                        "iteration": 321,
                        "passed_time": 18.41963167,
                        "remaining_time": 38.7841934,
                        "test": [
                          0.2914715175
                        ]
                      },
                      {
                        "learn": [
                          0.2748217161
                        ],
                        "iteration": 322,
                        "passed_time": 18.47038915,
                        "remaining_time": 38.71347819,
                        "test": [
                          0.2914597954
                        ]
                      },
                      {
                        "learn": [
                          0.2747397082
                        ],
                        "iteration": 323,
                        "passed_time": 18.52011973,
                        "remaining_time": 38.64074364,
                        "test": [
                          0.2913977806
                        ]
                      },
                      {
                        "learn": [
                          0.2746353444
                        ],
                        "iteration": 324,
                        "passed_time": 18.58973968,
                        "remaining_time": 38.60945933,
                        "test": [
                          0.2913177267
                        ]
                      },
                      {
                        "learn": [
                          0.2746228402
                        ],
                        "iteration": 325,
                        "passed_time": 18.63139153,
                        "remaining_time": 38.52011623,
                        "test": [
                          0.291319413
                        ]
                      },
                      {
                        "learn": [
                          0.2745971525
                        ],
                        "iteration": 326,
                        "passed_time": 18.6707924,
                        "remaining_time": 38.42643206,
                        "test": [
                          0.2913079662
                        ]
                      },
                      {
                        "learn": [
                          0.2745063653
                        ],
                        "iteration": 327,
                        "passed_time": 18.71764582,
                        "remaining_time": 38.34834753,
                        "test": [
                          0.2912727194
                        ]
                      },
                      {
                        "learn": [
                          0.2744329351
                        ],
                        "iteration": 328,
                        "passed_time": 18.78161487,
                        "remaining_time": 38.30536042,
                        "test": [
                          0.2911954206
                        ]
                      },
                      {
                        "learn": [
                          0.2740566622
                        ],
                        "iteration": 329,
                        "passed_time": 18.84235995,
                        "remaining_time": 38.25570051,
                        "test": [
                          0.2908109236
                        ]
                      },
                      {
                        "learn": [
                          0.2740390624
                        ],
                        "iteration": 330,
                        "passed_time": 18.8863699,
                        "remaining_time": 38.17214944,
                        "test": [
                          0.2907982952
                        ]
                      },
                      {
                        "learn": [
                          0.2739108515
                        ],
                        "iteration": 331,
                        "passed_time": 18.94060669,
                        "remaining_time": 38.10941345,
                        "test": [
                          0.2906832772
                        ]
                      },
                      {
                        "learn": [
                          0.2738438599
                        ],
                        "iteration": 332,
                        "passed_time": 18.99124185,
                        "remaining_time": 38.03951445,
                        "test": [
                          0.2906760641
                        ]
                      },
                      {
                        "learn": [
                          0.2737562372
                        ],
                        "iteration": 333,
                        "passed_time": 19.04241838,
                        "remaining_time": 37.9708103,
                        "test": [
                          0.2906686728
                        ]
                      },
                      {
                        "learn": [
                          0.2736600051
                        ],
                        "iteration": 334,
                        "passed_time": 19.09156842,
                        "remaining_time": 37.89818806,
                        "test": [
                          0.2905641717
                        ]
                      },
                      {
                        "learn": [
                          0.2735876162
                        ],
                        "iteration": 335,
                        "passed_time": 19.17011715,
                        "remaining_time": 37.88380293,
                        "test": [
                          0.2905635138
                        ]
                      },
                      {
                        "learn": [
                          0.2735698254
                        ],
                        "iteration": 336,
                        "passed_time": 19.21045763,
                        "remaining_time": 37.79386768,
                        "test": [
                          0.2905530355
                        ]
                      },
                      {
                        "learn": [
                          0.2735015429
                        ],
                        "iteration": 337,
                        "passed_time": 19.25699407,
                        "remaining_time": 37.71636117,
                        "test": [
                          0.290550084
                        ]
                      },
                      {
                        "learn": [
                          0.2734058448
                        ],
                        "iteration": 338,
                        "passed_time": 19.31555332,
                        "remaining_time": 37.66248007,
                        "test": [
                          0.2905159896
                        ]
                      },
                      {
                        "learn": [
                          0.273336104
                        ],
                        "iteration": 339,
                        "passed_time": 19.36274248,
                        "remaining_time": 37.58650011,
                        "test": [
                          0.2905088181
                        ]
                      },
                      {
                        "learn": [
                          0.2729824967
                        ],
                        "iteration": 340,
                        "passed_time": 19.42153542,
                        "remaining_time": 37.5331139,
                        "test": [
                          0.2901229806
                        ]
                      },
                      {
                        "learn": [
                          0.2728843918
                        ],
                        "iteration": 341,
                        "passed_time": 19.47610293,
                        "remaining_time": 37.47156645,
                        "test": [
                          0.2900461906
                        ]
                      },
                      {
                        "learn": [
                          0.2727238663
                        ],
                        "iteration": 342,
                        "passed_time": 19.53048659,
                        "remaining_time": 37.40970755,
                        "test": [
                          0.2898969177
                        ]
                      },
                      {
                        "learn": [
                          0.2726923113
                        ],
                        "iteration": 343,
                        "passed_time": 19.59663433,
                        "remaining_time": 37.37032593,
                        "test": [
                          0.2898766015
                        ]
                      },
                      {
                        "learn": [
                          0.2724852728
                        ],
                        "iteration": 344,
                        "passed_time": 19.64817341,
                        "remaining_time": 37.30305386,
                        "test": [
                          0.2896891533
                        ]
                      },
                      {
                        "learn": [
                          0.2723581904
                        ],
                        "iteration": 345,
                        "passed_time": 19.70276649,
                        "remaining_time": 37.24164533,
                        "test": [
                          0.2895743332
                        ]
                      },
                      {
                        "learn": [
                          0.2722390176
                        ],
                        "iteration": 346,
                        "passed_time": 19.76080338,
                        "remaining_time": 37.18675679,
                        "test": [
                          0.2895847797
                        ]
                      },
                      {
                        "learn": [
                          0.2722054021
                        ],
                        "iteration": 347,
                        "passed_time": 19.81317897,
                        "remaining_time": 37.12124335,
                        "test": [
                          0.2895814179
                        ]
                      },
                      {
                        "learn": [
                          0.2719401547
                        ],
                        "iteration": 348,
                        "passed_time": 19.8700814,
                        "remaining_time": 37.06424926,
                        "test": [
                          0.2893020014
                        ]
                      },
                      {
                        "learn": [
                          0.2718719795
                        ],
                        "iteration": 349,
                        "passed_time": 19.93126196,
                        "remaining_time": 37.01520078,
                        "test": [
                          0.2892636312
                        ]
                      },
                      {
                        "learn": [
                          0.2718297327
                        ],
                        "iteration": 350,
                        "passed_time": 19.9778141,
                        "remaining_time": 36.93903518,
                        "test": [
                          0.2892428953
                        ]
                      },
                      {
                        "learn": [
                          0.2717811015
                        ],
                        "iteration": 351,
                        "passed_time": 20.02685228,
                        "remaining_time": 36.86761443,
                        "test": [
                          0.2892322844
                        ]
                      },
                      {
                        "learn": [
                          0.2716838357
                        ],
                        "iteration": 352,
                        "passed_time": 20.08242992,
                        "remaining_time": 36.8083064,
                        "test": [
                          0.2891655209
                        ]
                      },
                      {
                        "learn": [
                          0.2714119909
                        ],
                        "iteration": 353,
                        "passed_time": 20.14859383,
                        "remaining_time": 36.7683379,
                        "test": [
                          0.2888783683
                        ]
                      },
                      {
                        "learn": [
                          0.2713578398
                        ],
                        "iteration": 354,
                        "passed_time": 20.2151776,
                        "remaining_time": 36.72898466,
                        "test": [
                          0.2888713049
                        ]
                      },
                      {
                        "learn": [
                          0.2712608504
                        ],
                        "iteration": 355,
                        "passed_time": 20.26670145,
                        "remaining_time": 36.66223521,
                        "test": [
                          0.2888444665
                        ]
                      },
                      {
                        "learn": [
                          0.2710710166
                        ],
                        "iteration": 356,
                        "passed_time": 20.32188254,
                        "remaining_time": 36.60215818,
                        "test": [
                          0.2886492781
                        ]
                      },
                      {
                        "learn": [
                          0.2709779784
                        ],
                        "iteration": 357,
                        "passed_time": 20.37449528,
                        "remaining_time": 36.53750272,
                        "test": [
                          0.2885847943
                        ]
                      },
                      {
                        "learn": [
                          0.2708956896
                        ],
                        "iteration": 358,
                        "passed_time": 20.4257263,
                        "remaining_time": 36.47044723,
                        "test": [
                          0.2885587415
                        ]
                      },
                      {
                        "learn": [
                          0.2708269406
                        ],
                        "iteration": 359,
                        "passed_time": 20.46517089,
                        "remaining_time": 36.38252602,
                        "test": [
                          0.2885445375
                        ]
                      },
                      {
                        "learn": [
                          0.2707365164
                        ],
                        "iteration": 360,
                        "passed_time": 20.51984947,
                        "remaining_time": 36.32183881,
                        "test": [
                          0.2885038408
                        ]
                      },
                      {
                        "learn": [
                          0.2705343386
                        ],
                        "iteration": 361,
                        "passed_time": 20.57471195,
                        "remaining_time": 36.26150891,
                        "test": [
                          0.2883180227
                        ]
                      },
                      {
                        "learn": [
                          0.2705324805
                        ],
                        "iteration": 362,
                        "passed_time": 20.62939609,
                        "remaining_time": 36.20089617,
                        "test": [
                          0.2883200004
                        ]
                      },
                      {
                        "learn": [
                          0.2704761884
                        ],
                        "iteration": 363,
                        "passed_time": 20.68339753,
                        "remaining_time": 36.13912315,
                        "test": [
                          0.2882792761
                        ]
                      },
                      {
                        "learn": [
                          0.2704284538
                        ],
                        "iteration": 364,
                        "passed_time": 20.72770839,
                        "remaining_time": 36.06053377,
                        "test": [
                          0.2882822652
                        ]
                      },
                      {
                        "learn": [
                          0.2703697214
                        ],
                        "iteration": 365,
                        "passed_time": 20.7777215,
                        "remaining_time": 35.99200937,
                        "test": [
                          0.2882782592
                        ]
                      },
                      {
                        "learn": [
                          0.2702370436
                        ],
                        "iteration": 366,
                        "passed_time": 20.83451279,
                        "remaining_time": 35.93527683,
                        "test": [
                          0.2881422845
                        ]
                      },
                      {
                        "learn": [
                          0.2701264943
                        ],
                        "iteration": 367,
                        "passed_time": 20.88174851,
                        "remaining_time": 35.8621333,
                        "test": [
                          0.2881357146
                        ]
                      },
                      {
                        "learn": [
                          0.2700798808
                        ],
                        "iteration": 368,
                        "passed_time": 20.93515999,
                        "remaining_time": 35.79969093,
                        "test": [
                          0.2881317307
                        ]
                      },
                      {
                        "learn": [
                          0.2700091665
                        ],
                        "iteration": 369,
                        "passed_time": 20.9866961,
                        "remaining_time": 35.73410416,
                        "test": [
                          0.2881342301
                        ]
                      },
                      {
                        "learn": [
                          0.2699271941
                        ],
                        "iteration": 370,
                        "passed_time": 21.03902657,
                        "remaining_time": 35.66993993,
                        "test": [
                          0.2881150385
                        ]
                      },
                      {
                        "learn": [
                          0.269902173
                        ],
                        "iteration": 371,
                        "passed_time": 21.08721196,
                        "remaining_time": 35.59884169,
                        "test": [
                          0.288114251
                        ]
                      },
                      {
                        "learn": [
                          0.2698123101
                        ],
                        "iteration": 372,
                        "passed_time": 21.13833707,
                        "remaining_time": 35.53280788,
                        "test": [
                          0.2881105919
                        ]
                      },
                      {
                        "learn": [
                          0.2697025306
                        ],
                        "iteration": 373,
                        "passed_time": 21.21700781,
                        "remaining_time": 35.5129596,
                        "test": [
                          0.2880257315
                        ]
                      },
                      {
                        "learn": [
                          0.2695121076
                        ],
                        "iteration": 374,
                        "passed_time": 21.2726815,
                        "remaining_time": 35.45446917,
                        "test": [
                          0.2878225689
                        ]
                      },
                      {
                        "learn": [
                          0.2694274448
                        ],
                        "iteration": 375,
                        "passed_time": 21.32730524,
                        "remaining_time": 35.39425125,
                        "test": [
                          0.2877655848
                        ]
                      },
                      {
                        "learn": [
                          0.2693882289
                        ],
                        "iteration": 376,
                        "passed_time": 21.37907461,
                        "remaining_time": 35.3293461,
                        "test": [
                          0.2877347722
                        ]
                      },
                      {
                        "learn": [
                          0.2692834857
                        ],
                        "iteration": 377,
                        "passed_time": 21.42987154,
                        "remaining_time": 35.26291031,
                        "test": [
                          0.287758342
                        ]
                      },
                      {
                        "learn": [
                          0.2691836504
                        ],
                        "iteration": 378,
                        "passed_time": 21.48195397,
                        "remaining_time": 35.19866336,
                        "test": [
                          0.2876962683
                        ]
                      },
                      {
                        "learn": [
                          0.2691457723
                        ],
                        "iteration": 379,
                        "passed_time": 21.53039539,
                        "remaining_time": 35.12853985,
                        "test": [
                          0.2876761939
                        ]
                      },
                      {
                        "learn": [
                          0.2689815983
                        ],
                        "iteration": 380,
                        "passed_time": 21.59193411,
                        "remaining_time": 35.07980896,
                        "test": [
                          0.2875085152
                        ]
                      },
                      {
                        "learn": [
                          0.2689082138
                        ],
                        "iteration": 381,
                        "passed_time": 21.65526402,
                        "remaining_time": 35.0339088,
                        "test": [
                          0.2874965059
                        ]
                      },
                      {
                        "learn": [
                          0.2688484183
                        ],
                        "iteration": 382,
                        "passed_time": 21.70953638,
                        "remaining_time": 34.97332623,
                        "test": [
                          0.2874639742
                        ]
                      },
                      {
                        "learn": [
                          0.2688107163
                        ],
                        "iteration": 383,
                        "passed_time": 21.75938468,
                        "remaining_time": 34.90567959,
                        "test": [
                          0.2874423966
                        ]
                      },
                      {
                        "learn": [
                          0.268725167
                        ],
                        "iteration": 384,
                        "passed_time": 21.80666082,
                        "remaining_time": 34.83401663,
                        "test": [
                          0.2874134187
                        ]
                      },
                      {
                        "learn": [
                          0.268656733
                        ],
                        "iteration": 385,
                        "passed_time": 21.86105556,
                        "remaining_time": 34.77380341,
                        "test": [
                          0.2873884953
                        ]
                      },
                      {
                        "learn": [
                          0.2686269231
                        ],
                        "iteration": 386,
                        "passed_time": 21.91280079,
                        "remaining_time": 34.70942348,
                        "test": [
                          0.2873771879
                        ]
                      },
                      {
                        "learn": [
                          0.268476421
                        ],
                        "iteration": 387,
                        "passed_time": 21.97370447,
                        "remaining_time": 34.65955448,
                        "test": [
                          0.2872048086
                        ]
                      },
                      {
                        "learn": [
                          0.2683947909
                        ],
                        "iteration": 388,
                        "passed_time": 22.02963176,
                        "remaining_time": 34.60181236,
                        "test": [
                          0.2871287593
                        ]
                      },
                      {
                        "learn": [
                          0.2683209899
                        ],
                        "iteration": 389,
                        "passed_time": 22.08196089,
                        "remaining_time": 34.53845165,
                        "test": [
                          0.2871415814
                        ]
                      },
                      {
                        "learn": [
                          0.268261009
                        ],
                        "iteration": 390,
                        "passed_time": 22.13715761,
                        "remaining_time": 34.47961378,
                        "test": [
                          0.2871464208
                        ]
                      },
                      {
                        "learn": [
                          0.268086958
                        ],
                        "iteration": 391,
                        "passed_time": 22.1997922,
                        "remaining_time": 34.43233075,
                        "test": [
                          0.2869433495
                        ]
                      },
                      {
                        "learn": [
                          0.2680278363
                        ],
                        "iteration": 392,
                        "passed_time": 22.26689381,
                        "remaining_time": 34.39186906,
                        "test": [
                          0.2869365446
                        ]
                      },
                      {
                        "learn": [
                          0.2679363126
                        ],
                        "iteration": 393,
                        "passed_time": 22.31699184,
                        "remaining_time": 34.32511943,
                        "test": [
                          0.2869228272
                        ]
                      },
                      {
                        "learn": [
                          0.2678830144
                        ],
                        "iteration": 394,
                        "passed_time": 22.37322404,
                        "remaining_time": 34.26784947,
                        "test": [
                          0.2868885377
                        ]
                      },
                      {
                        "learn": [
                          0.2677930385
                        ],
                        "iteration": 395,
                        "passed_time": 22.42670558,
                        "remaining_time": 34.20638932,
                        "test": [
                          0.2868635958
                        ]
                      },
                      {
                        "learn": [
                          0.2677660556
                        ],
                        "iteration": 396,
                        "passed_time": 22.4783612,
                        "remaining_time": 34.14219598,
                        "test": [
                          0.2868594621
                        ]
                      },
                      {
                        "learn": [
                          0.2676908506
                        ],
                        "iteration": 397,
                        "passed_time": 22.52998406,
                        "remaining_time": 34.0780161,
                        "test": [
                          0.2868512146
                        ]
                      },
                      {
                        "learn": [
                          0.267583689
                        ],
                        "iteration": 398,
                        "passed_time": 22.58426592,
                        "remaining_time": 34.01790431,
                        "test": [
                          0.2868258851
                        ]
                      },
                      {
                        "learn": [
                          0.2675756316
                        ],
                        "iteration": 399,
                        "passed_time": 22.63157479,
                        "remaining_time": 33.94736219,
                        "test": [
                          0.2868279223
                        ]
                      },
                      {
                        "learn": [
                          0.2675235385
                        ],
                        "iteration": 400,
                        "passed_time": 22.69800075,
                        "remaining_time": 33.90549239,
                        "test": [
                          0.2868201033
                        ]
                      },
                      {
                        "learn": [
                          0.2674463224
                        ],
                        "iteration": 401,
                        "passed_time": 22.75859996,
                        "remaining_time": 33.85483277,
                        "test": [
                          0.2867717371
                        ]
                      },
                      {
                        "learn": [
                          0.2673773062
                        ],
                        "iteration": 402,
                        "passed_time": 22.81595969,
                        "remaining_time": 33.7993249,
                        "test": [
                          0.2867214343
                        ]
                      },
                      {
                        "learn": [
                          0.2672676967
                        ],
                        "iteration": 403,
                        "passed_time": 22.86870407,
                        "remaining_time": 33.73699907,
                        "test": [
                          0.2866304184
                        ]
                      },
                      {
                        "learn": [
                          0.2672417327
                        ],
                        "iteration": 404,
                        "passed_time": 22.9196728,
                        "remaining_time": 33.67211188,
                        "test": [
                          0.2866175353
                        ]
                      },
                      {
                        "learn": [
                          0.2671929653
                        ],
                        "iteration": 405,
                        "passed_time": 22.96527111,
                        "remaining_time": 33.59943606,
                        "test": [
                          0.2866168781
                        ]
                      },
                      {
                        "learn": [
                          0.2671021641
                        ],
                        "iteration": 406,
                        "passed_time": 23.01399,
                        "remaining_time": 33.53143998,
                        "test": [
                          0.2866023616
                        ]
                      },
                      {
                        "learn": [
                          0.2670367084
                        ],
                        "iteration": 407,
                        "passed_time": 23.06371366,
                        "remaining_time": 33.46499628,
                        "test": [
                          0.2865746632
                        ]
                      },
                      {
                        "learn": [
                          0.2669639826
                        ],
                        "iteration": 408,
                        "passed_time": 23.11514952,
                        "remaining_time": 33.40110847,
                        "test": [
                          0.2865601041
                        ]
                      },
                      {
                        "learn": [
                          0.2669251546
                        ],
                        "iteration": 409,
                        "passed_time": 23.16689885,
                        "remaining_time": 33.3377325,
                        "test": [
                          0.2865548428
                        ]
                      },
                      {
                        "learn": [
                          0.2668433827
                        ],
                        "iteration": 410,
                        "passed_time": 23.24356301,
                        "remaining_time": 33.31011828,
                        "test": [
                          0.2865659435
                        ]
                      },
                      {
                        "learn": [
                          0.266820507
                        ],
                        "iteration": 411,
                        "passed_time": 23.29875457,
                        "remaining_time": 33.25162059,
                        "test": [
                          0.2865746148
                        ]
                      },
                      {
                        "learn": [
                          0.2668173443
                        ],
                        "iteration": 412,
                        "passed_time": 23.34646157,
                        "remaining_time": 33.18250106,
                        "test": [
                          0.2865745211
                        ]
                      },
                      {
                        "learn": [
                          0.2667921536
                        ],
                        "iteration": 413,
                        "passed_time": 23.38931091,
                        "remaining_time": 33.10660917,
                        "test": [
                          0.2865692761
                        ]
                      },
                      {
                        "learn": [
                          0.266757813
                        ],
                        "iteration": 414,
                        "passed_time": 23.42290104,
                        "remaining_time": 33.01782436,
                        "test": [
                          0.2865640879
                        ]
                      },
                      {
                        "learn": [
                          0.2666709149
                        ],
                        "iteration": 415,
                        "passed_time": 23.46590485,
                        "remaining_time": 32.94252027,
                        "test": [
                          0.2865902629
                        ]
                      },
                      {
                        "learn": [
                          0.266489425
                        ],
                        "iteration": 416,
                        "passed_time": 23.52138853,
                        "remaining_time": 32.88481898,
                        "test": [
                          0.2864106615
                        ]
                      },
                      {
                        "learn": [
                          0.2664653056
                        ],
                        "iteration": 417,
                        "passed_time": 23.56255372,
                        "remaining_time": 32.80719202,
                        "test": [
                          0.2864017197
                        ]
                      },
                      {
                        "learn": [
                          0.2663987736
                        ],
                        "iteration": 418,
                        "passed_time": 23.62072599,
                        "remaining_time": 32.75332171,
                        "test": [
                          0.2863452064
                        ]
                      },
                      {
                        "learn": [
                          0.2663869345
                        ],
                        "iteration": 419,
                        "passed_time": 23.67780682,
                        "remaining_time": 32.69792371,
                        "test": [
                          0.2863493522
                        ]
                      },
                      {
                        "learn": [
                          0.2663431561
                        ],
                        "iteration": 420,
                        "passed_time": 23.74298396,
                        "remaining_time": 32.65365252,
                        "test": [
                          0.286338732
                        ]
                      },
                      {
                        "learn": [
                          0.2663090499
                        ],
                        "iteration": 421,
                        "passed_time": 23.78921496,
                        "remaining_time": 32.58333234,
                        "test": [
                          0.2863364915
                        ]
                      },
                      {
                        "learn": [
                          0.2662053927
                        ],
                        "iteration": 422,
                        "passed_time": 23.85211416,
                        "remaining_time": 32.53586257,
                        "test": [
                          0.2863386852
                        ]
                      },
                      {
                        "learn": [
                          0.2661541484
                        ],
                        "iteration": 423,
                        "passed_time": 23.9011469,
                        "remaining_time": 32.46948258,
                        "test": [
                          0.286325704
                        ]
                      },
                      {
                        "learn": [
                          0.266091612
                        ],
                        "iteration": 424,
                        "passed_time": 23.96074912,
                        "remaining_time": 32.4174841,
                        "test": [
                          0.286300269
                        ]
                      },
                      {
                        "learn": [
                          0.2660451536
                        ],
                        "iteration": 425,
                        "passed_time": 24.01074184,
                        "remaining_time": 32.35250192,
                        "test": [
                          0.2862887185
                        ]
                      },
                      {
                        "learn": [
                          0.2659944891
                        ],
                        "iteration": 426,
                        "passed_time": 24.06258493,
                        "remaining_time": 32.29007298,
                        "test": [
                          0.2862797938
                        ]
                      },
                      {
                        "learn": [
                          0.2659290528
                        ],
                        "iteration": 427,
                        "passed_time": 24.12524862,
                        "remaining_time": 32.24215469,
                        "test": [
                          0.2862257277
                        ]
                      },
                      {
                        "learn": [
                          0.265801117
                        ],
                        "iteration": 428,
                        "passed_time": 24.18036956,
                        "remaining_time": 32.18412825,
                        "test": [
                          0.2861457513
                        ]
                      },
                      {
                        "learn": [
                          0.2657310571
                        ],
                        "iteration": 429,
                        "passed_time": 24.25188344,
                        "remaining_time": 32.14784549,
                        "test": [
                          0.286137009
                        ]
                      },
                      {
                        "learn": [
                          0.2655650486
                        ],
                        "iteration": 430,
                        "passed_time": 24.31959834,
                        "remaining_time": 32.10638388,
                        "test": [
                          0.2859380251
                        ]
                      },
                      {
                        "learn": [
                          0.2654325364
                        ],
                        "iteration": 431,
                        "passed_time": 24.35474079,
                        "remaining_time": 32.021974,
                        "test": [
                          0.285774877
                        ]
                      },
                      {
                        "learn": [
                          0.2653682272
                        ],
                        "iteration": 432,
                        "passed_time": 24.42646364,
                        "remaining_time": 31.98569257,
                        "test": [
                          0.2857296392
                        ]
                      },
                      {
                        "learn": [
                          0.2652779436
                        ],
                        "iteration": 433,
                        "passed_time": 24.47966868,
                        "remaining_time": 31.92509786,
                        "test": [
                          0.2857615898
                        ]
                      },
                      {
                        "learn": [
                          0.2652308815
                        ],
                        "iteration": 434,
                        "passed_time": 24.5364529,
                        "remaining_time": 31.86918595,
                        "test": [
                          0.2857555834
                        ]
                      },
                      {
                        "learn": [
                          0.2651551355
                        ],
                        "iteration": 435,
                        "passed_time": 24.62601865,
                        "remaining_time": 31.8556755,
                        "test": [
                          0.2857281723
                        ]
                      },
                      {
                        "learn": [
                          0.2650918313
                        ],
                        "iteration": 436,
                        "passed_time": 24.72436196,
                        "remaining_time": 31.85312537,
                        "test": [
                          0.2857016846
                        ]
                      },
                      {
                        "learn": [
                          0.2650250788
                        ],
                        "iteration": 437,
                        "passed_time": 24.82973178,
                        "remaining_time": 31.85915356,
                        "test": [
                          0.2857294535
                        ]
                      },
                      {
                        "learn": [
                          0.2649671142
                        ],
                        "iteration": 438,
                        "passed_time": 24.94890699,
                        "remaining_time": 31.88231622,
                        "test": [
                          0.2856952548
                        ]
                      },
                      {
                        "learn": [
                          0.2649241591
                        ],
                        "iteration": 439,
                        "passed_time": 25.05093669,
                        "remaining_time": 31.88301033,
                        "test": [
                          0.2857145126
                        ]
                      },
                      {
                        "learn": [
                          0.2648904887
                        ],
                        "iteration": 440,
                        "passed_time": 25.15591629,
                        "remaining_time": 31.88697779,
                        "test": [
                          0.2856995466
                        ]
                      },
                      {
                        "learn": [
                          0.2648725013
                        ],
                        "iteration": 441,
                        "passed_time": 25.26450642,
                        "remaining_time": 31.89501036,
                        "test": [
                          0.2857067581
                        ]
                      },
                      {
                        "learn": [
                          0.2648346693
                        ],
                        "iteration": 442,
                        "passed_time": 25.4270759,
                        "remaining_time": 31.97038662,
                        "test": [
                          0.2856939114
                        ]
                      },
                      {
                        "learn": [
                          0.2647937608
                        ],
                        "iteration": 443,
                        "passed_time": 25.54183015,
                        "remaining_time": 31.98481433,
                        "test": [
                          0.2856940468
                        ]
                      },
                      {
                        "learn": [
                          0.2647920819
                        ],
                        "iteration": 444,
                        "passed_time": 25.62389248,
                        "remaining_time": 31.95788837,
                        "test": [
                          0.2856956915
                        ]
                      },
                      {
                        "learn": [
                          0.2646909222
                        ],
                        "iteration": 445,
                        "passed_time": 25.73795543,
                        "remaining_time": 31.97046482,
                        "test": [
                          0.2856304331
                        ]
                      },
                      {
                        "learn": [
                          0.2646785218
                        ],
                        "iteration": 446,
                        "passed_time": 25.84711631,
                        "remaining_time": 31.97641011,
                        "test": [
                          0.2856321369
                        ]
                      },
                      {
                        "learn": [
                          0.2646013227
                        ],
                        "iteration": 447,
                        "passed_time": 25.94956016,
                        "remaining_time": 31.9735652,
                        "test": [
                          0.285640852
                        ]
                      },
                      {
                        "learn": [
                          0.2645059449
                        ],
                        "iteration": 448,
                        "passed_time": 26.04737359,
                        "remaining_time": 31.96459431,
                        "test": [
                          0.2856369146
                        ]
                      },
                      {
                        "learn": [
                          0.2644698085
                        ],
                        "iteration": 449,
                        "passed_time": 26.1438764,
                        "remaining_time": 31.95362671,
                        "test": [
                          0.2856114536
                        ]
                      },
                      {
                        "learn": [
                          0.2644155834
                        ],
                        "iteration": 450,
                        "passed_time": 26.26895183,
                        "remaining_time": 31.97706109,
                        "test": [
                          0.2855794473
                        ]
                      },
                      {
                        "learn": [
                          0.2643940555
                        ],
                        "iteration": 451,
                        "passed_time": 26.42007441,
                        "remaining_time": 32.03141765,
                        "test": [
                          0.2855777723
                        ]
                      },
                      {
                        "learn": [
                          0.2643264534
                        ],
                        "iteration": 452,
                        "passed_time": 26.56390377,
                        "remaining_time": 32.0760604,
                        "test": [
                          0.2855626033
                        ]
                      },
                      {
                        "learn": [
                          0.2642985561
                        ],
                        "iteration": 453,
                        "passed_time": 26.66753501,
                        "remaining_time": 32.07152888,
                        "test": [
                          0.2855684174
                        ]
                      },
                      {
                        "learn": [
                          0.2641911166
                        ],
                        "iteration": 454,
                        "passed_time": 26.78151213,
                        "remaining_time": 32.07895409,
                        "test": [
                          0.2855549694
                        ]
                      },
                      {
                        "learn": [
                          0.2641275081
                        ],
                        "iteration": 455,
                        "passed_time": 26.88756538,
                        "remaining_time": 32.07639379,
                        "test": [
                          0.2855322233
                        ]
                      },
                      {
                        "learn": [
                          0.2641089652
                        ],
                        "iteration": 456,
                        "passed_time": 27.00164535,
                        "remaining_time": 32.08291778,
                        "test": [
                          0.2855429271
                        ]
                      },
                      {
                        "learn": [
                          0.2640582827
                        ],
                        "iteration": 457,
                        "passed_time": 27.12108495,
                        "remaining_time": 32.09525774,
                        "test": [
                          0.285527824
                        ]
                      },
                      {
                        "learn": [
                          0.2640134481
                        ],
                        "iteration": 458,
                        "passed_time": 27.20081193,
                        "remaining_time": 32.06021624,
                        "test": [
                          0.2855193331
                        ]
                      },
                      {
                        "learn": [
                          0.2639800104
                        ],
                        "iteration": 459,
                        "passed_time": 27.30464641,
                        "remaining_time": 32.05328056,
                        "test": [
                          0.2855177323
                        ]
                      },
                      {
                        "learn": [
                          0.2639487636
                        ],
                        "iteration": 460,
                        "passed_time": 27.44076537,
                        "remaining_time": 32.08367144,
                        "test": [
                          0.2855172072
                        ]
                      },
                      {
                        "learn": [
                          0.2639164425
                        ],
                        "iteration": 461,
                        "passed_time": 27.55712615,
                        "remaining_time": 32.09033305,
                        "test": [
                          0.2855032021
                        ]
                      },
                      {
                        "learn": [
                          0.2638887843
                        ],
                        "iteration": 462,
                        "passed_time": 27.66267825,
                        "remaining_time": 32.08392705,
                        "test": [
                          0.2855010743
                        ]
                      },
                      {
                        "learn": [
                          0.2638121306
                        ],
                        "iteration": 463,
                        "passed_time": 27.77175991,
                        "remaining_time": 32.08117093,
                        "test": [
                          0.2854802425
                        ]
                      },
                      {
                        "learn": [
                          0.2638034968
                        ],
                        "iteration": 464,
                        "passed_time": 27.86908891,
                        "remaining_time": 32.06443563,
                        "test": [
                          0.2854828913
                        ]
                      },
                      {
                        "learn": [
                          0.2637694003
                        ],
                        "iteration": 465,
                        "passed_time": 27.97741608,
                        "remaining_time": 32.05995749,
                        "test": [
                          0.2854900332
                        ]
                      },
                      {
                        "learn": [
                          0.2636763222
                        ],
                        "iteration": 466,
                        "passed_time": 28.09948063,
                        "remaining_time": 32.07071344,
                        "test": [
                          0.2854289763
                        ]
                      },
                      {
                        "learn": [
                          0.2636373718
                        ],
                        "iteration": 467,
                        "passed_time": 28.21642519,
                        "remaining_time": 32.07508163,
                        "test": [
                          0.2853906835
                        ]
                      },
                      {
                        "learn": [
                          0.2635994012
                        ],
                        "iteration": 468,
                        "passed_time": 28.32133026,
                        "remaining_time": 32.06530143,
                        "test": [
                          0.2853924293
                        ]
                      },
                      {
                        "learn": [
                          0.2635736621
                        ],
                        "iteration": 469,
                        "passed_time": 28.43461012,
                        "remaining_time": 32.06456035,
                        "test": [
                          0.2853991574
                        ]
                      },
                      {
                        "learn": [
                          0.263485053
                        ],
                        "iteration": 470,
                        "passed_time": 28.59092099,
                        "remaining_time": 32.11167135,
                        "test": [
                          0.2853759373
                        ]
                      },
                      {
                        "learn": [
                          0.2634327201
                        ],
                        "iteration": 471,
                        "passed_time": 28.71303366,
                        "remaining_time": 32.11966478,
                        "test": [
                          0.2853504348
                        ]
                      },
                      {
                        "learn": [
                          0.2634073414
                        ],
                        "iteration": 472,
                        "passed_time": 28.81333484,
                        "remaining_time": 32.10280647,
                        "test": [
                          0.2853455254
                        ]
                      },
                      {
                        "learn": [
                          0.2633050081
                        ],
                        "iteration": 473,
                        "passed_time": 28.9186303,
                        "remaining_time": 32.09113827,
                        "test": [
                          0.2853789588
                        ]
                      },
                      {
                        "learn": [
                          0.2632916175
                        ],
                        "iteration": 474,
                        "passed_time": 29.02560868,
                        "remaining_time": 32.08093591,
                        "test": [
                          0.2853848029
                        ]
                      },
                      {
                        "learn": [
                          0.2629793749
                        ],
                        "iteration": 475,
                        "passed_time": 29.15706329,
                        "remaining_time": 32.09727136,
                        "test": [
                          0.2850568512
                        ]
                      },
                      {
                        "learn": [
                          0.2629604274
                        ],
                        "iteration": 476,
                        "passed_time": 29.25011971,
                        "remaining_time": 32.07088597,
                        "test": [
                          0.2850577266
                        ]
                      },
                      {
                        "learn": [
                          0.2629373612
                        ],
                        "iteration": 477,
                        "passed_time": 29.36350464,
                        "remaining_time": 32.06642139,
                        "test": [
                          0.2850644326
                        ]
                      },
                      {
                        "learn": [
                          0.2628894426
                        ],
                        "iteration": 478,
                        "passed_time": 29.45462672,
                        "remaining_time": 32.0372871,
                        "test": [
                          0.2850207683
                        ]
                      },
                      {
                        "learn": [
                          0.2628838151
                        ],
                        "iteration": 479,
                        "passed_time": 29.54297775,
                        "remaining_time": 32.00489256,
                        "test": [
                          0.285023018
                        ]
                      },
                      {
                        "learn": [
                          0.2628531793
                        ],
                        "iteration": 480,
                        "passed_time": 30.16276063,
                        "remaining_time": 32.54568142,
                        "test": [
                          0.2850230321
                        ]
                      },
                      {
                        "learn": [
                          0.2628162362
                        ],
                        "iteration": 481,
                        "passed_time": 30.26989968,
                        "remaining_time": 32.53072206,
                        "test": [
                          0.2850366464
                        ]
                      },
                      {
                        "learn": [
                          0.2627896304
                        ],
                        "iteration": 482,
                        "passed_time": 30.36986915,
                        "remaining_time": 32.50770673,
                        "test": [
                          0.2850413139
                        ]
                      },
                      {
                        "learn": [
                          0.2626863939
                        ],
                        "iteration": 483,
                        "passed_time": 30.48456349,
                        "remaining_time": 32.50007182,
                        "test": [
                          0.2849872619
                        ]
                      },
                      {
                        "learn": [
                          0.2625481574
                        ],
                        "iteration": 484,
                        "passed_time": 30.59703034,
                        "remaining_time": 32.48963015,
                        "test": [
                          0.2848365124
                        ]
                      },
                      {
                        "learn": [
                          0.2625291177
                        ],
                        "iteration": 485,
                        "passed_time": 30.67838046,
                        "remaining_time": 32.44585917,
                        "test": [
                          0.284839399
                        ]
                      },
                      {
                        "learn": [
                          0.2625138198
                        ],
                        "iteration": 486,
                        "passed_time": 30.78157839,
                        "remaining_time": 32.42494807,
                        "test": [
                          0.2848488933
                        ]
                      },
                      {
                        "learn": [
                          0.2624801557
                        ],
                        "iteration": 487,
                        "passed_time": 30.89764544,
                        "remaining_time": 32.41720178,
                        "test": [
                          0.2848214032
                        ]
                      },
                      {
                        "learn": [
                          0.2624338841
                        ],
                        "iteration": 488,
                        "passed_time": 30.98390502,
                        "remaining_time": 32.37786394,
                        "test": [
                          0.2848170524
                        ]
                      },
                      {
                        "learn": [
                          0.2623700293
                        ],
                        "iteration": 489,
                        "passed_time": 31.11011401,
                        "remaining_time": 32.37991458,
                        "test": [
                          0.2847797651
                        ]
                      },
                      {
                        "learn": [
                          0.2623179919
                        ],
                        "iteration": 490,
                        "passed_time": 31.18681747,
                        "remaining_time": 32.33012238,
                        "test": [
                          0.2847900974
                        ]
                      },
                      {
                        "learn": [
                          0.2622302466
                        ],
                        "iteration": 491,
                        "passed_time": 31.24104764,
                        "remaining_time": 32.25701667,
                        "test": [
                          0.2847563963
                        ]
                      },
                      {
                        "learn": [
                          0.2621770074
                        ],
                        "iteration": 492,
                        "passed_time": 31.28491729,
                        "remaining_time": 32.17333279,
                        "test": [
                          0.2847458694
                        ]
                      },
                      {
                        "learn": [
                          0.2621586438
                        ],
                        "iteration": 493,
                        "passed_time": 31.34491626,
                        "remaining_time": 32.10633123,
                        "test": [
                          0.2847406904
                        ]
                      },
                      {
                        "learn": [
                          0.2621127176
                        ],
                        "iteration": 494,
                        "passed_time": 31.39576594,
                        "remaining_time": 32.03002384,
                        "test": [
                          0.2847208397
                        ]
                      },
                      {
                        "learn": [
                          0.2620884856
                        ],
                        "iteration": 495,
                        "passed_time": 31.45179733,
                        "remaining_time": 31.95908439,
                        "test": [
                          0.2847241574
                        ]
                      },
                      {
                        "learn": [
                          0.2619902063
                        ],
                        "iteration": 496,
                        "passed_time": 31.50561272,
                        "remaining_time": 31.88596217,
                        "test": [
                          0.2846768543
                        ]
                      },
                      {
                        "learn": [
                          0.2619593284
                        ],
                        "iteration": 497,
                        "passed_time": 31.56884734,
                        "remaining_time": 31.82241238,
                        "test": [
                          0.2846697674
                        ]
                      },
                      {
                        "learn": [
                          0.261873584
                        ],
                        "iteration": 498,
                        "passed_time": 31.6278285,
                        "remaining_time": 31.75459334,
                        "test": [
                          0.2846142698
                        ]
                      },
                      {
                        "learn": [
                          0.2618134242
                        ],
                        "iteration": 499,
                        "passed_time": 31.67555172,
                        "remaining_time": 31.67555172,
                        "test": [
                          0.2845801637
                        ]
                      },
                      {
                        "learn": [
                          0.2617992389
                        ],
                        "iteration": 500,
                        "passed_time": 31.72859428,
                        "remaining_time": 31.60193323,
                        "test": [
                          0.2845898233
                        ]
                      },
                      {
                        "learn": [
                          0.261758603
                        ],
                        "iteration": 501,
                        "passed_time": 31.77943888,
                        "remaining_time": 31.52621626,
                        "test": [
                          0.2845888551
                        ]
                      },
                      {
                        "learn": [
                          0.2617390182
                        ],
                        "iteration": 502,
                        "passed_time": 31.82033123,
                        "remaining_time": 31.44076465,
                        "test": [
                          0.2845698656
                        ]
                      },
                      {
                        "learn": [
                          0.2616969002
                        ],
                        "iteration": 503,
                        "passed_time": 31.87089075,
                        "remaining_time": 31.3650036,
                        "test": [
                          0.2845737958
                        ]
                      },
                      {
                        "learn": [
                          0.2616583488
                        ],
                        "iteration": 504,
                        "passed_time": 31.92197923,
                        "remaining_time": 31.28986083,
                        "test": [
                          0.2845689085
                        ]
                      },
                      {
                        "learn": [
                          0.2615885597
                        ],
                        "iteration": 505,
                        "passed_time": 31.97333893,
                        "remaining_time": 31.21507793,
                        "test": [
                          0.2845643334
                        ]
                      },
                      {
                        "learn": [
                          0.2615429135
                        ],
                        "iteration": 506,
                        "passed_time": 32.02600143,
                        "remaining_time": 31.14165425,
                        "test": [
                          0.2845720056
                        ]
                      },
                      {
                        "learn": [
                          0.2614443891
                        ],
                        "iteration": 507,
                        "passed_time": 32.09668613,
                        "remaining_time": 31.08576688,
                        "test": [
                          0.2845834157
                        ]
                      },
                      {
                        "learn": [
                          0.2614187996
                        ],
                        "iteration": 508,
                        "passed_time": 32.16313861,
                        "remaining_time": 31.02573882,
                        "test": [
                          0.2845851048
                        ]
                      },
                      {
                        "learn": [
                          0.2613471652
                        ],
                        "iteration": 509,
                        "passed_time": 32.21933573,
                        "remaining_time": 30.95583236,
                        "test": [
                          0.2845122082
                        ]
                      },
                      {
                        "learn": [
                          0.2613136777
                        ],
                        "iteration": 510,
                        "passed_time": 32.27101193,
                        "remaining_time": 30.8816533,
                        "test": [
                          0.2845155373
                        ]
                      },
                      {
                        "learn": [
                          0.2612633639
                        ],
                        "iteration": 511,
                        "passed_time": 32.31924373,
                        "remaining_time": 30.80427918,
                        "test": [
                          0.2845156283
                        ]
                      },
                      {
                        "learn": [
                          0.2612065174
                        ],
                        "iteration": 512,
                        "passed_time": 32.38858087,
                        "remaining_time": 30.74705435,
                        "test": [
                          0.2844944745
                        ]
                      },
                      {
                        "learn": [
                          0.2611404667
                        ],
                        "iteration": 513,
                        "passed_time": 32.44660686,
                        "remaining_time": 30.67908742,
                        "test": [
                          0.2844269486
                        ]
                      },
                      {
                        "learn": [
                          0.2610853909
                        ],
                        "iteration": 514,
                        "passed_time": 32.51012881,
                        "remaining_time": 30.61633489,
                        "test": [
                          0.2843727948
                        ]
                      },
                      {
                        "learn": [
                          0.2610487763
                        ],
                        "iteration": 515,
                        "passed_time": 32.56347251,
                        "remaining_time": 30.54403235,
                        "test": [
                          0.2843765466
                        ]
                      },
                      {
                        "learn": [
                          0.2609565833
                        ],
                        "iteration": 516,
                        "passed_time": 32.62078773,
                        "remaining_time": 30.47551348,
                        "test": [
                          0.2843573541
                        ]
                      },
                      {
                        "learn": [
                          0.2609343107
                        ],
                        "iteration": 517,
                        "passed_time": 32.66748778,
                        "remaining_time": 30.39716044,
                        "test": [
                          0.2843391992
                        ]
                      },
                      {
                        "learn": [
                          0.2609243582
                        ],
                        "iteration": 518,
                        "passed_time": 32.7170287,
                        "remaining_time": 30.32156225,
                        "test": [
                          0.284340245
                        ]
                      },
                      {
                        "learn": [
                          0.260858558
                        ],
                        "iteration": 519,
                        "passed_time": 32.76847149,
                        "remaining_time": 30.24781983,
                        "test": [
                          0.284365877
                        ]
                      },
                      {
                        "learn": [
                          0.2608377659
                        ],
                        "iteration": 520,
                        "passed_time": 32.81305404,
                        "remaining_time": 30.16785582,
                        "test": [
                          0.2843490463
                        ]
                      },
                      {
                        "learn": [
                          0.2608037473
                        ],
                        "iteration": 521,
                        "passed_time": 32.86123542,
                        "remaining_time": 30.09132285,
                        "test": [
                          0.2843412369
                        ]
                      },
                      {
                        "learn": [
                          0.2606362086
                        ],
                        "iteration": 522,
                        "passed_time": 32.91170162,
                        "remaining_time": 30.01698217,
                        "test": [
                          0.2841788575
                        ]
                      },
                      {
                        "learn": [
                          0.2606082273
                        ],
                        "iteration": 523,
                        "passed_time": 32.95661708,
                        "remaining_time": 29.93769032,
                        "test": [
                          0.2841800485
                        ]
                      },
                      {
                        "learn": [
                          0.2605955756
                        ],
                        "iteration": 524,
                        "passed_time": 33.0038841,
                        "remaining_time": 29.86065704,
                        "test": [
                          0.2841899989
                        ]
                      },
                      {
                        "learn": [
                          0.2605612162
                        ],
                        "iteration": 525,
                        "passed_time": 33.05764826,
                        "remaining_time": 29.78959178,
                        "test": [
                          0.2841943516
                        ]
                      },
                      {
                        "learn": [
                          0.2605116457
                        ],
                        "iteration": 526,
                        "passed_time": 33.13066039,
                        "remaining_time": 29.73586787,
                        "test": [
                          0.2841895475
                        ]
                      },
                      {
                        "learn": [
                          0.260495238
                        ],
                        "iteration": 527,
                        "passed_time": 33.19089172,
                        "remaining_time": 29.67064563,
                        "test": [
                          0.2841910538
                        ]
                      },
                      {
                        "learn": [
                          0.2604644447
                        ],
                        "iteration": 528,
                        "passed_time": 33.23961981,
                        "remaining_time": 29.59520025,
                        "test": [
                          0.2841806479
                        ]
                      },
                      {
                        "learn": [
                          0.2604255496
                        ],
                        "iteration": 529,
                        "passed_time": 33.28889092,
                        "remaining_time": 29.52033723,
                        "test": [
                          0.2841879754
                        ]
                      },
                      {
                        "learn": [
                          0.2603776986
                        ],
                        "iteration": 530,
                        "passed_time": 33.35232634,
                        "remaining_time": 29.45808108,
                        "test": [
                          0.284194018
                        ]
                      },
                      {
                        "learn": [
                          0.2603221176
                        ],
                        "iteration": 531,
                        "passed_time": 33.40595783,
                        "remaining_time": 29.38719599,
                        "test": [
                          0.2841636478
                        ]
                      },
                      {
                        "learn": [
                          0.2602599716
                        ],
                        "iteration": 532,
                        "passed_time": 33.45079192,
                        "remaining_time": 29.30866759,
                        "test": [
                          0.284164246
                        ]
                      },
                      {
                        "learn": [
                          0.2601776111
                        ],
                        "iteration": 533,
                        "passed_time": 33.51457758,
                        "remaining_time": 29.24680366,
                        "test": [
                          0.2841568161
                        ]
                      },
                      {
                        "learn": [
                          0.2601417367
                        ],
                        "iteration": 534,
                        "passed_time": 33.57145669,
                        "remaining_time": 29.17892965,
                        "test": [
                          0.2841607706
                        ]
                      },
                      {
                        "learn": [
                          0.2600622201
                        ],
                        "iteration": 535,
                        "passed_time": 33.61936814,
                        "remaining_time": 29.10333362,
                        "test": [
                          0.2841556412
                        ]
                      },
                      {
                        "learn": [
                          0.26003299
                        ],
                        "iteration": 536,
                        "passed_time": 33.67079381,
                        "remaining_time": 29.03087064,
                        "test": [
                          0.2841627799
                        ]
                      },
                      {
                        "learn": [
                          0.2599987864
                        ],
                        "iteration": 537,
                        "passed_time": 33.73349847,
                        "remaining_time": 28.96817155,
                        "test": [
                          0.2841298694
                        ]
                      },
                      {
                        "learn": [
                          0.2599066024
                        ],
                        "iteration": 538,
                        "passed_time": 33.79031273,
                        "remaining_time": 28.90043445,
                        "test": [
                          0.2841337007
                        ]
                      },
                      {
                        "learn": [
                          0.2596939814
                        ],
                        "iteration": 539,
                        "passed_time": 33.84833722,
                        "remaining_time": 28.83376874,
                        "test": [
                          0.2839248456
                        ]
                      },
                      {
                        "learn": [
                          0.2596880246
                        ],
                        "iteration": 540,
                        "passed_time": 33.89475555,
                        "remaining_time": 28.75728798,
                        "test": [
                          0.2839243905
                        ]
                      },
                      {
                        "learn": [
                          0.259646974
                        ],
                        "iteration": 541,
                        "passed_time": 33.940083,
                        "remaining_time": 28.67999633,
                        "test": [
                          0.2838880421
                        ]
                      },
                      {
                        "learn": [
                          0.2596148429
                        ],
                        "iteration": 542,
                        "passed_time": 33.99317455,
                        "remaining_time": 28.60935685,
                        "test": [
                          0.283892757
                        ]
                      },
                      {
                        "learn": [
                          0.2596000564
                        ],
                        "iteration": 543,
                        "passed_time": 34.03780532,
                        "remaining_time": 28.53168975,
                        "test": [
                          0.2838913656
                        ]
                      },
                      {
                        "learn": [
                          0.2595395506
                        ],
                        "iteration": 544,
                        "passed_time": 34.09071629,
                        "remaining_time": 28.46105672,
                        "test": [
                          0.2838922937
                        ]
                      },
                      {
                        "learn": [
                          0.2594669239
                        ],
                        "iteration": 545,
                        "passed_time": 34.18554323,
                        "remaining_time": 28.42534181,
                        "test": [
                          0.2838644931
                        ]
                      },
                      {
                        "learn": [
                          0.259402641
                        ],
                        "iteration": 546,
                        "passed_time": 34.23369711,
                        "remaining_time": 28.3507583,
                        "test": [
                          0.2838302891
                        ]
                      },
                      {
                        "learn": [
                          0.2593740075
                        ],
                        "iteration": 547,
                        "passed_time": 34.27660909,
                        "remaining_time": 28.27194765,
                        "test": [
                          0.2838213526
                        ]
                      },
                      {
                        "learn": [
                          0.2593559202
                        ],
                        "iteration": 548,
                        "passed_time": 34.32838148,
                        "remaining_time": 28.20054654,
                        "test": [
                          0.2838236927
                        ]
                      },
                      {
                        "learn": [
                          0.2592756679
                        ],
                        "iteration": 549,
                        "passed_time": 34.40328181,
                        "remaining_time": 28.14813967,
                        "test": [
                          0.2838167762
                        ]
                      },
                      {
                        "learn": [
                          0.259224314
                        ],
                        "iteration": 550,
                        "passed_time": 34.45198328,
                        "remaining_time": 28.07430216,
                        "test": [
                          0.2837916385
                        ]
                      },
                      {
                        "learn": [
                          0.2591704417
                        ],
                        "iteration": 551,
                        "passed_time": 34.50070101,
                        "remaining_time": 28.00056893,
                        "test": [
                          0.2837851659
                        ]
                      },
                      {
                        "learn": [
                          0.2590991668
                        ],
                        "iteration": 552,
                        "passed_time": 34.55600559,
                        "remaining_time": 27.93225045,
                        "test": [
                          0.2837894106
                        ]
                      },
                      {
                        "learn": [
                          0.2590933317
                        ],
                        "iteration": 553,
                        "passed_time": 34.6007655,
                        "remaining_time": 27.85548991,
                        "test": [
                          0.2837854248
                        ]
                      },
                      {
                        "learn": [
                          0.2590418401
                        ],
                        "iteration": 554,
                        "passed_time": 34.64963083,
                        "remaining_time": 27.78213643,
                        "test": [
                          0.2837837223
                        ]
                      },
                      {
                        "learn": [
                          0.2589759385
                        ],
                        "iteration": 555,
                        "passed_time": 34.69810233,
                        "remaining_time": 27.70855653,
                        "test": [
                          0.2837387883
                        ]
                      },
                      {
                        "learn": [
                          0.2589506839
                        ],
                        "iteration": 556,
                        "passed_time": 34.7450138,
                        "remaining_time": 27.63382606,
                        "test": [
                          0.2837465282
                        ]
                      },
                      {
                        "learn": [
                          0.2588757214
                        ],
                        "iteration": 557,
                        "passed_time": 34.80678702,
                        "remaining_time": 27.57096749,
                        "test": [
                          0.2837416429
                        ]
                      },
                      {
                        "learn": [
                          0.2588600084
                        ],
                        "iteration": 558,
                        "passed_time": 34.8572772,
                        "remaining_time": 27.49921153,
                        "test": [
                          0.2837458957
                        ]
                      },
                      {
                        "learn": [
                          0.2588441849
                        ],
                        "iteration": 559,
                        "passed_time": 34.90697136,
                        "remaining_time": 27.42690607,
                        "test": [
                          0.2837475689
                        ]
                      },
                      {
                        "learn": [
                          0.2587976069
                        ],
                        "iteration": 560,
                        "passed_time": 34.95080381,
                        "remaining_time": 27.35009424,
                        "test": [
                          0.2837435499
                        ]
                      },
                      {
                        "learn": [
                          0.2587659771
                        ],
                        "iteration": 561,
                        "passed_time": 35.00293609,
                        "remaining_time": 27.27986834,
                        "test": [
                          0.2837382271
                        ]
                      },
                      {
                        "learn": [
                          0.2587245986
                        ],
                        "iteration": 562,
                        "passed_time": 35.06318779,
                        "remaining_time": 27.21600899,
                        "test": [
                          0.2837166675
                        ]
                      },
                      {
                        "learn": [
                          0.2587005547
                        ],
                        "iteration": 563,
                        "passed_time": 35.1139658,
                        "remaining_time": 27.14483881,
                        "test": [
                          0.2837210354
                        ]
                      },
                      {
                        "learn": [
                          0.2586816755
                        ],
                        "iteration": 564,
                        "passed_time": 35.19626313,
                        "remaining_time": 27.0980079,
                        "test": [
                          0.2837286072
                        ]
                      },
                      {
                        "learn": [
                          0.2586411436
                        ],
                        "iteration": 565,
                        "passed_time": 35.27172314,
                        "remaining_time": 27.04580891,
                        "test": [
                          0.2836967685
                        ]
                      },
                      {
                        "learn": [
                          0.2585569313
                        ],
                        "iteration": 566,
                        "passed_time": 35.32401547,
                        "remaining_time": 26.97583545,
                        "test": [
                          0.283686696
                        ]
                      },
                      {
                        "learn": [
                          0.2584627947
                        ],
                        "iteration": 567,
                        "passed_time": 35.37597442,
                        "remaining_time": 26.90567068,
                        "test": [
                          0.283648432
                        ]
                      },
                      {
                        "learn": [
                          0.2584571297
                        ],
                        "iteration": 568,
                        "passed_time": 35.44014364,
                        "remaining_time": 26.84481882,
                        "test": [
                          0.2836523423
                        ]
                      },
                      {
                        "learn": [
                          0.258394026
                        ],
                        "iteration": 569,
                        "passed_time": 35.49239675,
                        "remaining_time": 26.77496597,
                        "test": [
                          0.2836540091
                        ]
                      },
                      {
                        "learn": [
                          0.2583328116
                        ],
                        "iteration": 570,
                        "passed_time": 35.54759195,
                        "remaining_time": 26.7073852,
                        "test": [
                          0.2836491825
                        ]
                      },
                      {
                        "learn": [
                          0.2583152683
                        ],
                        "iteration": 571,
                        "passed_time": 35.59893233,
                        "remaining_time": 26.63696335,
                        "test": [
                          0.2836490171
                        ]
                      },
                      {
                        "learn": [
                          0.2583011622
                        ],
                        "iteration": 572,
                        "passed_time": 35.64065384,
                        "remaining_time": 26.55944012,
                        "test": [
                          0.2836486784
                        ]
                      },
                      {
                        "learn": [
                          0.2581467202
                        ],
                        "iteration": 573,
                        "passed_time": 35.69520065,
                        "remaining_time": 26.49156007,
                        "test": [
                          0.2834947067
                        ]
                      },
                      {
                        "learn": [
                          0.2581154274
                        ],
                        "iteration": 574,
                        "passed_time": 35.75270014,
                        "remaining_time": 26.4259088,
                        "test": [
                          0.2834995232
                        ]
                      },
                      {
                        "learn": [
                          0.2580890954
                        ],
                        "iteration": 575,
                        "passed_time": 35.8034175,
                        "remaining_time": 26.35529343,
                        "test": [
                          0.2834827489
                        ]
                      },
                      {
                        "learn": [
                          0.2580306125
                        ],
                        "iteration": 576,
                        "passed_time": 35.85598597,
                        "remaining_time": 26.2861041,
                        "test": [
                          0.2834601435
                        ]
                      },
                      {
                        "learn": [
                          0.2579811282
                        ],
                        "iteration": 577,
                        "passed_time": 35.9069427,
                        "remaining_time": 26.21579553,
                        "test": [
                          0.2834585164
                        ]
                      },
                      {
                        "learn": [
                          0.2579118321
                        ],
                        "iteration": 578,
                        "passed_time": 35.95899062,
                        "remaining_time": 26.14634724,
                        "test": [
                          0.2834493468
                        ]
                      },
                      {
                        "learn": [
                          0.2578958637
                        ],
                        "iteration": 579,
                        "passed_time": 36.00772239,
                        "remaining_time": 26.07455759,
                        "test": [
                          0.2834524809
                        ]
                      },
                      {
                        "learn": [
                          0.2578908031
                        ],
                        "iteration": 580,
                        "passed_time": 36.05836297,
                        "remaining_time": 26.0042239,
                        "test": [
                          0.2834518301
                        ]
                      },
                      {
                        "learn": [
                          0.2578556984
                        ],
                        "iteration": 581,
                        "passed_time": 36.11524934,
                        "remaining_time": 25.93844368,
                        "test": [
                          0.2834502227
                        ]
                      },
                      {
                        "learn": [
                          0.2578448587
                        ],
                        "iteration": 582,
                        "passed_time": 36.15473496,
                        "remaining_time": 25.86024782,
                        "test": [
                          0.283452348
                        ]
                      },
                      {
                        "learn": [
                          0.2578395181
                        ],
                        "iteration": 583,
                        "passed_time": 36.18743402,
                        "remaining_time": 25.77735026,
                        "test": [
                          0.2834491306
                        ]
                      },
                      {
                        "learn": [
                          0.257810098
                        ],
                        "iteration": 584,
                        "passed_time": 36.28336773,
                        "remaining_time": 25.73948309,
                        "test": [
                          0.2834202867
                        ]
                      },
                      {
                        "learn": [
                          0.2577678356
                        ],
                        "iteration": 585,
                        "passed_time": 36.330993,
                        "remaining_time": 25.66728857,
                        "test": [
                          0.283434468
                        ]
                      },
                      {
                        "learn": [
                          0.2577362742
                        ],
                        "iteration": 586,
                        "passed_time": 36.38056571,
                        "remaining_time": 25.59654794,
                        "test": [
                          0.2834407863
                        ]
                      },
                      {
                        "learn": [
                          0.2576826981
                        ],
                        "iteration": 587,
                        "passed_time": 36.43788931,
                        "remaining_time": 25.53131019,
                        "test": [
                          0.2834387816
                        ]
                      },
                      {
                        "learn": [
                          0.2576157641
                        ],
                        "iteration": 588,
                        "passed_time": 36.49483536,
                        "remaining_time": 25.46583588,
                        "test": [
                          0.283439819
                        ]
                      },
                      {
                        "learn": [
                          0.2575781513
                        ],
                        "iteration": 589,
                        "passed_time": 36.54913214,
                        "remaining_time": 25.39854945,
                        "test": [
                          0.2834104314
                        ]
                      },
                      {
                        "learn": [
                          0.2575438491
                        ],
                        "iteration": 590,
                        "passed_time": 36.59648158,
                        "remaining_time": 25.3264991,
                        "test": [
                          0.2834065699
                        ]
                      },
                      {
                        "learn": [
                          0.2575305373
                        ],
                        "iteration": 591,
                        "passed_time": 36.64391805,
                        "remaining_time": 25.25459217,
                        "test": [
                          0.2834063149
                        ]
                      },
                      {
                        "learn": [
                          0.2575099618
                        ],
                        "iteration": 592,
                        "passed_time": 36.68733285,
                        "remaining_time": 25.18000754,
                        "test": [
                          0.2834051017
                        ]
                      },
                      {
                        "learn": [
                          0.2574758619
                        ],
                        "iteration": 593,
                        "passed_time": 36.74322721,
                        "remaining_time": 25.11405765,
                        "test": [
                          0.2834274574
                        ]
                      },
                      {
                        "learn": [
                          0.2574344356
                        ],
                        "iteration": 594,
                        "passed_time": 36.7896865,
                        "remaining_time": 25.04171938,
                        "test": [
                          0.2834240174
                        ]
                      },
                      {
                        "learn": [
                          0.2573652517
                        ],
                        "iteration": 595,
                        "passed_time": 36.84621151,
                        "remaining_time": 24.97629102,
                        "test": [
                          0.2834099711
                        ]
                      },
                      {
                        "learn": [
                          0.2573227356
                        ],
                        "iteration": 596,
                        "passed_time": 36.90091314,
                        "remaining_time": 24.90966163,
                        "test": [
                          0.2834078413
                        ]
                      },
                      {
                        "learn": [
                          0.2572565633
                        ],
                        "iteration": 597,
                        "passed_time": 36.95018063,
                        "remaining_time": 24.83941908,
                        "test": [
                          0.2833858924
                        ]
                      },
                      {
                        "learn": [
                          0.2572350448
                        ],
                        "iteration": 598,
                        "passed_time": 36.99665607,
                        "remaining_time": 24.76737744,
                        "test": [
                          0.2833911308
                        ]
                      },
                      {
                        "learn": [
                          0.2572138076
                        ],
                        "iteration": 599,
                        "passed_time": 37.04828376,
                        "remaining_time": 24.69885584,
                        "test": [
                          0.2833789382
                        ]
                      },
                      {
                        "learn": [
                          0.257204435
                        ],
                        "iteration": 600,
                        "passed_time": 37.08986569,
                        "remaining_time": 24.62372115,
                        "test": [
                          0.2833698202
                        ]
                      },
                      {
                        "learn": [
                          0.2571822039
                        ],
                        "iteration": 601,
                        "passed_time": 37.13484037,
                        "remaining_time": 24.55094097,
                        "test": [
                          0.2833628194
                        ]
                      },
                      {
                        "learn": [
                          0.2571212677
                        ],
                        "iteration": 602,
                        "passed_time": 37.18323631,
                        "remaining_time": 24.4805055,
                        "test": [
                          0.2833607807
                        ]
                      },
                      {
                        "learn": [
                          0.2570947586
                        ],
                        "iteration": 603,
                        "passed_time": 37.28716129,
                        "remaining_time": 24.44654946,
                        "test": [
                          0.2833539925
                        ]
                      },
                      {
                        "learn": [
                          0.2570810657
                        ],
                        "iteration": 604,
                        "passed_time": 37.33923813,
                        "remaining_time": 24.37851085,
                        "test": [
                          0.2833528553
                        ]
                      },
                      {
                        "learn": [
                          0.2570416567
                        ],
                        "iteration": 605,
                        "passed_time": 37.38844924,
                        "remaining_time": 24.30866172,
                        "test": [
                          0.2833303654
                        ]
                      },
                      {
                        "learn": [
                          0.2570226379
                        ],
                        "iteration": 606,
                        "passed_time": 37.42909969,
                        "remaining_time": 24.23333802,
                        "test": [
                          0.2833314798
                        ]
                      },
                      {
                        "learn": [
                          0.2570134802
                        ],
                        "iteration": 607,
                        "passed_time": 37.46928609,
                        "remaining_time": 24.15782919,
                        "test": [
                          0.2833330875
                        ]
                      },
                      {
                        "learn": [
                          0.2569618542
                        ],
                        "iteration": 608,
                        "passed_time": 37.52347997,
                        "remaining_time": 24.09142967,
                        "test": [
                          0.283349629
                        ]
                      },
                      {
                        "learn": [
                          0.2569516543
                        ],
                        "iteration": 609,
                        "passed_time": 37.5597912,
                        "remaining_time": 24.013637,
                        "test": [
                          0.2833602753
                        ]
                      },
                      {
                        "learn": [
                          0.2569465542
                        ],
                        "iteration": 610,
                        "passed_time": 37.60847496,
                        "remaining_time": 23.94385721,
                        "test": [
                          0.2833641675
                        ]
                      },
                      {
                        "learn": [
                          0.2568853065
                        ],
                        "iteration": 611,
                        "passed_time": 37.6628852,
                        "remaining_time": 23.87777689,
                        "test": [
                          0.2833682456
                        ]
                      },
                      {
                        "learn": [
                          0.2568264899
                        ],
                        "iteration": 612,
                        "passed_time": 37.72226084,
                        "remaining_time": 23.81486941,
                        "test": [
                          0.2834027436
                        ]
                      },
                      {
                        "learn": [
                          0.2567874245
                        ],
                        "iteration": 613,
                        "passed_time": 37.77693285,
                        "remaining_time": 23.74901641,
                        "test": [
                          0.2834087783
                        ]
                      },
                      {
                        "learn": [
                          0.2567532815
                        ],
                        "iteration": 614,
                        "passed_time": 37.82729442,
                        "remaining_time": 23.68050139,
                        "test": [
                          0.2833974494
                        ]
                      },
                      {
                        "learn": [
                          0.2567263281
                        ],
                        "iteration": 615,
                        "passed_time": 37.88244184,
                        "remaining_time": 23.61502868,
                        "test": [
                          0.283380493
                        ]
                      },
                      {
                        "learn": [
                          0.2566956472
                        ],
                        "iteration": 616,
                        "passed_time": 37.93235442,
                        "remaining_time": 23.54633994,
                        "test": [
                          0.2833815956
                        ]
                      },
                      {
                        "learn": [
                          0.256673928
                        ],
                        "iteration": 617,
                        "passed_time": 37.98555296,
                        "remaining_time": 23.47974309,
                        "test": [
                          0.2833883744
                        ]
                      },
                      {
                        "learn": [
                          0.2565900517
                        ],
                        "iteration": 618,
                        "passed_time": 38.04164059,
                        "remaining_time": 23.41496779,
                        "test": [
                          0.2833444637
                        ]
                      },
                      {
                        "learn": [
                          0.2565749577
                        ],
                        "iteration": 619,
                        "passed_time": 38.08315655,
                        "remaining_time": 23.3412895,
                        "test": [
                          0.2833316998
                        ]
                      },
                      {
                        "learn": [
                          0.2565184519
                        ],
                        "iteration": 620,
                        "passed_time": 38.13501269,
                        "remaining_time": 23.27402546,
                        "test": [
                          0.2833328106
                        ]
                      },
                      {
                        "learn": [
                          0.2565095556
                        ],
                        "iteration": 621,
                        "passed_time": 38.18265263,
                        "remaining_time": 23.20424871,
                        "test": [
                          0.2833342458
                        ]
                      },
                      {
                        "learn": [
                          0.2564917002
                        ],
                        "iteration": 622,
                        "passed_time": 38.22255091,
                        "remaining_time": 23.12985826,
                        "test": [
                          0.2833276866
                        ]
                      },
                      {
                        "learn": [
                          0.2564230705
                        ],
                        "iteration": 623,
                        "passed_time": 38.32590069,
                        "remaining_time": 23.09381195,
                        "test": [
                          0.2833305627
                        ]
                      },
                      {
                        "learn": [
                          0.256364383
                        ],
                        "iteration": 624,
                        "passed_time": 38.37774406,
                        "remaining_time": 23.02664644,
                        "test": [
                          0.2833455215
                        ]
                      },
                      {
                        "learn": [
                          0.2563352848
                        ],
                        "iteration": 625,
                        "passed_time": 38.43048762,
                        "remaining_time": 22.96006768,
                        "test": [
                          0.2833523123
                        ]
                      },
                      {
                        "learn": [
                          0.2563210113
                        ],
                        "iteration": 626,
                        "passed_time": 38.48025534,
                        "remaining_time": 22.89176275,
                        "test": [
                          0.283351938
                        ]
                      },
                      {
                        "learn": [
                          0.2562546885
                        ],
                        "iteration": 627,
                        "passed_time": 38.54779448,
                        "remaining_time": 22.83404387,
                        "test": [
                          0.2833641927
                        ]
                      },
                      {
                        "learn": [
                          0.2562191558
                        ],
                        "iteration": 628,
                        "passed_time": 38.5995995,
                        "remaining_time": 22.76701338,
                        "test": [
                          0.2833421506
                        ]
                      },
                      {
                        "learn": [
                          0.2561892313
                        ],
                        "iteration": 629,
                        "passed_time": 38.65462532,
                        "remaining_time": 22.7019228,
                        "test": [
                          0.2833401699
                        ]
                      },
                      {
                        "learn": [
                          0.2561366408
                        ],
                        "iteration": 630,
                        "passed_time": 38.71743118,
                        "remaining_time": 22.6414138,
                        "test": [
                          0.2833253212
                        ]
                      },
                      {
                        "learn": [
                          0.2561106515
                        ],
                        "iteration": 631,
                        "passed_time": 38.76304045,
                        "remaining_time": 22.57088431,
                        "test": [
                          0.2833192268
                        ]
                      },
                      {
                        "learn": [
                          0.2560701675
                        ],
                        "iteration": 632,
                        "passed_time": 38.8174916,
                        "remaining_time": 22.5055599,
                        "test": [
                          0.2833073197
                        ]
                      },
                      {
                        "learn": [
                          0.2560319401
                        ],
                        "iteration": 633,
                        "passed_time": 38.87210651,
                        "remaining_time": 22.44036433,
                        "test": [
                          0.2833032859
                        ]
                      },
                      {
                        "learn": [
                          0.2559794745
                        ],
                        "iteration": 634,
                        "passed_time": 38.92583379,
                        "remaining_time": 22.37469187,
                        "test": [
                          0.2833160894
                        ]
                      },
                      {
                        "learn": [
                          0.2559375342
                        ],
                        "iteration": 635,
                        "passed_time": 38.97596888,
                        "remaining_time": 22.30700106,
                        "test": [
                          0.2833412089
                        ]
                      },
                      {
                        "learn": [
                          0.2559015721
                        ],
                        "iteration": 636,
                        "passed_time": 39.02855999,
                        "remaining_time": 22.24076496,
                        "test": [
                          0.2833486224
                        ]
                      },
                      {
                        "learn": [
                          0.2558720745
                        ],
                        "iteration": 637,
                        "passed_time": 39.0799728,
                        "remaining_time": 22.17390306,
                        "test": [
                          0.2833499697
                        ]
                      },
                      {
                        "learn": [
                          0.2558470005
                        ],
                        "iteration": 638,
                        "passed_time": 39.12596227,
                        "remaining_time": 22.10402563,
                        "test": [
                          0.2833446322
                        ]
                      },
                      {
                        "learn": [
                          0.2558354337
                        ],
                        "iteration": 639,
                        "passed_time": 39.16773246,
                        "remaining_time": 22.03184951,
                        "test": [
                          0.2833468046
                        ]
                      },
                      {
                        "learn": [
                          0.2558164323
                        ],
                        "iteration": 640,
                        "passed_time": 39.21037749,
                        "remaining_time": 21.96025822,
                        "test": [
                          0.2833396342
                        ]
                      },
                      {
                        "learn": [
                          0.2557937096
                        ],
                        "iteration": 641,
                        "passed_time": 39.25931969,
                        "remaining_time": 21.89226861,
                        "test": [
                          0.2833407988
                        ]
                      },
                      {
                        "learn": [
                          0.2555929368
                        ],
                        "iteration": 642,
                        "passed_time": 39.36070367,
                        "remaining_time": 21.85345445,
                        "test": [
                          0.2831363164
                        ]
                      },
                      {
                        "learn": [
                          0.2555625757
                        ],
                        "iteration": 643,
                        "passed_time": 39.40757146,
                        "remaining_time": 21.78430969,
                        "test": [
                          0.2831403067
                        ]
                      },
                      {
                        "learn": [
                          0.2555273569
                        ],
                        "iteration": 644,
                        "passed_time": 39.45414686,
                        "remaining_time": 21.71507308,
                        "test": [
                          0.2831274737
                        ]
                      },
                      {
                        "learn": [
                          0.2554927834
                        ],
                        "iteration": 645,
                        "passed_time": 39.5053278,
                        "remaining_time": 21.6484304,
                        "test": [
                          0.2831089731
                        ]
                      },
                      {
                        "learn": [
                          0.2554523965
                        ],
                        "iteration": 646,
                        "passed_time": 39.56345516,
                        "remaining_time": 21.58562546,
                        "test": [
                          0.2831014877
                        ]
                      },
                      {
                        "learn": [
                          0.2554338117
                        ],
                        "iteration": 647,
                        "passed_time": 39.61235105,
                        "remaining_time": 21.51782032,
                        "test": [
                          0.2830925482
                        ]
                      },
                      {
                        "learn": [
                          0.2553714787
                        ],
                        "iteration": 648,
                        "passed_time": 39.66099893,
                        "remaining_time": 21.44993933,
                        "test": [
                          0.283102466
                        ]
                      },
                      {
                        "learn": [
                          0.2553073697
                        ],
                        "iteration": 649,
                        "passed_time": 39.71689431,
                        "remaining_time": 21.38602001,
                        "test": [
                          0.2831018813
                        ]
                      },
                      {
                        "learn": [
                          0.2552923996
                        ],
                        "iteration": 650,
                        "passed_time": 39.76458025,
                        "remaining_time": 21.31772428,
                        "test": [
                          0.2831013956
                        ]
                      },
                      {
                        "learn": [
                          0.2552633446
                        ],
                        "iteration": 651,
                        "passed_time": 39.80517944,
                        "remaining_time": 21.24570927,
                        "test": [
                          0.283094262
                        ]
                      },
                      {
                        "learn": [
                          0.2552326594
                        ],
                        "iteration": 652,
                        "passed_time": 39.86650756,
                        "remaining_time": 21.1848057,
                        "test": [
                          0.2830848309
                        ]
                      },
                      {
                        "learn": [
                          0.2551865771
                        ],
                        "iteration": 653,
                        "passed_time": 39.91568987,
                        "remaining_time": 21.11747507,
                        "test": [
                          0.2830774324
                        ]
                      },
                      {
                        "learn": [
                          0.2551655064
                        ],
                        "iteration": 654,
                        "passed_time": 39.95864548,
                        "remaining_time": 21.04692014,
                        "test": [
                          0.2830731552
                        ]
                      },
                      {
                        "learn": [
                          0.2551249972
                        ],
                        "iteration": 655,
                        "passed_time": 40.00792722,
                        "remaining_time": 20.97976671,
                        "test": [
                          0.283083707
                        ]
                      },
                      {
                        "learn": [
                          0.2550475815
                        ],
                        "iteration": 656,
                        "passed_time": 40.06068416,
                        "remaining_time": 20.91448199,
                        "test": [
                          0.2830762241
                        ]
                      },
                      {
                        "learn": [
                          0.2550105146
                        ],
                        "iteration": 657,
                        "passed_time": 40.11191102,
                        "remaining_time": 20.84844008,
                        "test": [
                          0.2830897315
                        ]
                      },
                      {
                        "learn": [
                          0.2549868928
                        ],
                        "iteration": 658,
                        "passed_time": 40.16976553,
                        "remaining_time": 20.78587261,
                        "test": [
                          0.283085215
                        ]
                      },
                      {
                        "learn": [
                          0.2549367041
                        ],
                        "iteration": 659,
                        "passed_time": 40.2191893,
                        "remaining_time": 20.71897631,
                        "test": [
                          0.2830792997
                        ]
                      },
                      {
                        "learn": [
                          0.2549081099
                        ],
                        "iteration": 660,
                        "passed_time": 40.26891028,
                        "remaining_time": 20.6522853,
                        "test": [
                          0.2830874878
                        ]
                      },
                      {
                        "learn": [
                          0.254882187
                        ],
                        "iteration": 661,
                        "passed_time": 40.34182151,
                        "remaining_time": 20.59748591,
                        "test": [
                          0.2830807274
                        ]
                      },
                      {
                        "learn": [
                          0.2548604779
                        ],
                        "iteration": 662,
                        "passed_time": 40.40190366,
                        "remaining_time": 20.53611091,
                        "test": [
                          0.2830714005
                        ]
                      },
                      {
                        "learn": [
                          0.2547982488
                        ],
                        "iteration": 663,
                        "passed_time": 40.45679081,
                        "remaining_time": 20.47211101,
                        "test": [
                          0.2831007374
                        ]
                      },
                      {
                        "learn": [
                          0.2547685404
                        ],
                        "iteration": 664,
                        "passed_time": 40.51502112,
                        "remaining_time": 20.40982267,
                        "test": [
                          0.2830956299
                        ]
                      },
                      {
                        "learn": [
                          0.2547515539
                        ],
                        "iteration": 665,
                        "passed_time": 40.5715858,
                        "remaining_time": 20.3467112,
                        "test": [
                          0.2830949977
                        ]
                      },
                      {
                        "learn": [
                          0.2547176881
                        ],
                        "iteration": 666,
                        "passed_time": 40.62469126,
                        "remaining_time": 20.28189234,
                        "test": [
                          0.2830859396
                        ]
                      },
                      {
                        "learn": [
                          0.2546701068
                        ],
                        "iteration": 667,
                        "passed_time": 40.67929921,
                        "remaining_time": 20.2178553,
                        "test": [
                          0.2830760872
                        ]
                      },
                      {
                        "learn": [
                          0.2546409933
                        ],
                        "iteration": 668,
                        "passed_time": 40.73639923,
                        "remaining_time": 20.15507944,
                        "test": [
                          0.2830724484
                        ]
                      },
                      {
                        "learn": [
                          0.2544487554
                        ],
                        "iteration": 669,
                        "passed_time": 40.79682796,
                        "remaining_time": 20.09396004,
                        "test": [
                          0.282873892
                        ]
                      },
                      {
                        "learn": [
                          0.2543895306
                        ],
                        "iteration": 670,
                        "passed_time": 40.8479952,
                        "remaining_time": 20.02830167,
                        "test": [
                          0.2828750611
                        ]
                      },
                      {
                        "learn": [
                          0.2543609986
                        ],
                        "iteration": 671,
                        "passed_time": 40.90715018,
                        "remaining_time": 19.96658521,
                        "test": [
                          0.2828674168
                        ]
                      },
                      {
                        "learn": [
                          0.2543217539
                        ],
                        "iteration": 672,
                        "passed_time": 40.95602053,
                        "remaining_time": 19.89987922,
                        "test": [
                          0.2828572919
                        ]
                      },
                      {
                        "learn": [
                          0.25427474
                        ],
                        "iteration": 673,
                        "passed_time": 41.00744125,
                        "remaining_time": 19.83445972,
                        "test": [
                          0.2828542693
                        ]
                      },
                      {
                        "learn": [
                          0.2542485333
                        ],
                        "iteration": 674,
                        "passed_time": 41.05854316,
                        "remaining_time": 19.76892819,
                        "test": [
                          0.2828447228
                        ]
                      },
                      {
                        "learn": [
                          0.2542319856
                        ],
                        "iteration": 675,
                        "passed_time": 41.10482591,
                        "remaining_time": 19.70112958,
                        "test": [
                          0.2828384528
                        ]
                      },
                      {
                        "learn": [
                          0.2541803306
                        ],
                        "iteration": 676,
                        "passed_time": 41.18281077,
                        "remaining_time": 19.64851976,
                        "test": [
                          0.2828278067
                        ]
                      },
                      {
                        "learn": [
                          0.2541136301
                        ],
                        "iteration": 677,
                        "passed_time": 41.2702989,
                        "remaining_time": 19.60034844,
                        "test": [
                          0.2828460469
                        ]
                      },
                      {
                        "learn": [
                          0.2541030475
                        ],
                        "iteration": 678,
                        "passed_time": 41.35690678,
                        "remaining_time": 19.55164518,
                        "test": [
                          0.2828468404
                        ]
                      },
                      {
                        "learn": [
                          0.2540976188
                        ],
                        "iteration": 679,
                        "passed_time": 41.4733838,
                        "remaining_time": 19.51688649,
                        "test": [
                          0.2828506914
                        ]
                      },
                      {
                        "learn": [
                          0.2540657106
                        ],
                        "iteration": 680,
                        "passed_time": 41.58374651,
                        "remaining_time": 19.47902369,
                        "test": [
                          0.2828707161
                        ]
                      },
                      {
                        "learn": [
                          0.2540169179
                        ],
                        "iteration": 681,
                        "passed_time": 41.68702299,
                        "remaining_time": 19.43764415,
                        "test": [
                          0.2828706098
                        ]
                      },
                      {
                        "learn": [
                          0.2540014348
                        ],
                        "iteration": 682,
                        "passed_time": 41.78108551,
                        "remaining_time": 19.39180689,
                        "test": [
                          0.2828746677
                        ]
                      },
                      {
                        "learn": [
                          0.2539674647
                        ],
                        "iteration": 683,
                        "passed_time": 41.89822912,
                        "remaining_time": 19.35649182,
                        "test": [
                          0.2828576556
                        ]
                      },
                      {
                        "learn": [
                          0.2539593409
                        ],
                        "iteration": 684,
                        "passed_time": 41.99188342,
                        "remaining_time": 19.31013617,
                        "test": [
                          0.2828588547
                        ]
                      },
                      {
                        "learn": [
                          0.2539538612
                        ],
                        "iteration": 685,
                        "passed_time": 42.08578963,
                        "remaining_time": 19.26375794,
                        "test": [
                          0.2828599386
                        ]
                      },
                      {
                        "learn": [
                          0.2539389393
                        ],
                        "iteration": 686,
                        "passed_time": 42.17927052,
                        "remaining_time": 19.21704756,
                        "test": [
                          0.2828632076
                        ]
                      },
                      {
                        "learn": [
                          0.253888622
                        ],
                        "iteration": 687,
                        "passed_time": 42.28045142,
                        "remaining_time": 19.17369309,
                        "test": [
                          0.282844281
                        ]
                      },
                      {
                        "learn": [
                          0.2538837484
                        ],
                        "iteration": 688,
                        "passed_time": 42.36289443,
                        "remaining_time": 19.12171287,
                        "test": [
                          0.2828482378
                        ]
                      },
                      {
                        "learn": [
                          0.2538406469
                        ],
                        "iteration": 689,
                        "passed_time": 42.49902493,
                        "remaining_time": 19.09376482,
                        "test": [
                          0.2828471078
                        ]
                      },
                      {
                        "learn": [
                          0.2537987438
                        ],
                        "iteration": 690,
                        "passed_time": 42.61341953,
                        "remaining_time": 19.05578384,
                        "test": [
                          0.2828669075
                        ]
                      },
                      {
                        "learn": [
                          0.2537397278
                        ],
                        "iteration": 691,
                        "passed_time": 42.72867422,
                        "remaining_time": 19.01796483,
                        "test": [
                          0.2828546456
                        ]
                      },
                      {
                        "learn": [
                          0.2536942067
                        ],
                        "iteration": 692,
                        "passed_time": 42.8190437,
                        "remaining_time": 18.96889815,
                        "test": [
                          0.2828444186
                        ]
                      },
                      {
                        "learn": [
                          0.2536646212
                        ],
                        "iteration": 693,
                        "passed_time": 42.9153346,
                        "remaining_time": 18.92232333,
                        "test": [
                          0.2828497923
                        ]
                      },
                      {
                        "learn": [
                          0.2536192266
                        ],
                        "iteration": 694,
                        "passed_time": 43.03372566,
                        "remaining_time": 18.88530407,
                        "test": [
                          0.282841109
                        ]
                      },
                      {
                        "learn": [
                          0.2535824613
                        ],
                        "iteration": 695,
                        "passed_time": 43.12022148,
                        "remaining_time": 18.83411973,
                        "test": [
                          0.2828319278
                        ]
                      },
                      {
                        "learn": [
                          0.2534639431
                        ],
                        "iteration": 696,
                        "passed_time": 43.23961877,
                        "remaining_time": 18.797137,
                        "test": [
                          0.282756213
                        ]
                      },
                      {
                        "learn": [
                          0.2534338091
                        ],
                        "iteration": 697,
                        "passed_time": 43.33603881,
                        "remaining_time": 18.74997668,
                        "test": [
                          0.2827750294
                        ]
                      },
                      {
                        "learn": [
                          0.2534045199
                        ],
                        "iteration": 698,
                        "passed_time": 43.43263963,
                        "remaining_time": 18.70275326,
                        "test": [
                          0.282765663
                        ]
                      },
                      {
                        "learn": [
                          0.2533550503
                        ],
                        "iteration": 699,
                        "passed_time": 43.58859315,
                        "remaining_time": 18.68082564,
                        "test": [
                          0.2827228439
                        ]
                      },
                      {
                        "learn": [
                          0.2533251642
                        ],
                        "iteration": 700,
                        "passed_time": 43.70657703,
                        "remaining_time": 18.6423203,
                        "test": [
                          0.282726331
                        ]
                      },
                      {
                        "learn": [
                          0.253295062
                        ],
                        "iteration": 701,
                        "passed_time": 43.81434184,
                        "remaining_time": 18.59925052,
                        "test": [
                          0.2827383771
                        ]
                      },
                      {
                        "learn": [
                          0.2532876112
                        ],
                        "iteration": 702,
                        "passed_time": 43.91631757,
                        "remaining_time": 18.55355095,
                        "test": [
                          0.2827380726
                        ]
                      },
                      {
                        "learn": [
                          0.2532730497
                        ],
                        "iteration": 703,
                        "passed_time": 44.02933639,
                        "remaining_time": 18.51233462,
                        "test": [
                          0.2827371241
                        ]
                      },
                      {
                        "learn": [
                          0.2531993678
                        ],
                        "iteration": 704,
                        "passed_time": 44.13001757,
                        "remaining_time": 18.46575203,
                        "test": [
                          0.282725729
                        ]
                      },
                      {
                        "learn": [
                          0.2531759394
                        ],
                        "iteration": 705,
                        "passed_time": 44.22055786,
                        "remaining_time": 18.41479322,
                        "test": [
                          0.2827402286
                        ]
                      },
                      {
                        "learn": [
                          0.2531025078
                        ],
                        "iteration": 706,
                        "passed_time": 44.31889866,
                        "remaining_time": 18.36695517,
                        "test": [
                          0.2827371095
                        ]
                      },
                      {
                        "learn": [
                          0.2530585891
                        ],
                        "iteration": 707,
                        "passed_time": 44.41668736,
                        "remaining_time": 18.31874676,
                        "test": [
                          0.2827425461
                        ]
                      },
                      {
                        "learn": [
                          0.2530104694
                        ],
                        "iteration": 708,
                        "passed_time": 44.52154351,
                        "remaining_time": 18.27329924,
                        "test": [
                          0.2827555804
                        ]
                      },
                      {
                        "learn": [
                          0.2530091575
                        ],
                        "iteration": 709,
                        "passed_time": 44.66416437,
                        "remaining_time": 18.24310939,
                        "test": [
                          0.2827569155
                        ]
                      },
                      {
                        "learn": [
                          0.2529649192
                        ],
                        "iteration": 710,
                        "passed_time": 44.81145286,
                        "remaining_time": 18.21450053,
                        "test": [
                          0.282721181
                        ]
                      },
                      {
                        "learn": [
                          0.2529291795
                        ],
                        "iteration": 711,
                        "passed_time": 44.91344446,
                        "remaining_time": 18.16723596,
                        "test": [
                          0.2827303205
                        ]
                      },
                      {
                        "learn": [
                          0.2529083079
                        ],
                        "iteration": 712,
                        "passed_time": 44.98452993,
                        "remaining_time": 18.10737741,
                        "test": [
                          0.2827180774
                        ]
                      },
                      {
                        "learn": [
                          0.2528156811
                        ],
                        "iteration": 713,
                        "passed_time": 45.04714605,
                        "remaining_time": 18.04409492,
                        "test": [
                          0.2826109679
                        ]
                      },
                      {
                        "learn": [
                          0.2527494066
                        ],
                        "iteration": 714,
                        "passed_time": 45.10187463,
                        "remaining_time": 17.97767031,
                        "test": [
                          0.2826004511
                        ]
                      },
                      {
                        "learn": [
                          0.2526934518
                        ],
                        "iteration": 715,
                        "passed_time": 45.15115048,
                        "remaining_time": 17.90911555,
                        "test": [
                          0.2825939136
                        ]
                      },
                      {
                        "learn": [
                          0.2526617828
                        ],
                        "iteration": 716,
                        "passed_time": 45.20674625,
                        "remaining_time": 17.84310905,
                        "test": [
                          0.2826038532
                        ]
                      },
                      {
                        "learn": [
                          0.2526297633
                        ],
                        "iteration": 717,
                        "passed_time": 45.25489931,
                        "remaining_time": 17.77420837,
                        "test": [
                          0.2825833199
                        ]
                      },
                      {
                        "learn": [
                          0.2525910134
                        ],
                        "iteration": 718,
                        "passed_time": 45.30350472,
                        "remaining_time": 17.70554218,
                        "test": [
                          0.2825867738
                        ]
                      },
                      {
                        "learn": [
                          0.2525769303
                        ],
                        "iteration": 719,
                        "passed_time": 45.35616391,
                        "remaining_time": 17.63850819,
                        "test": [
                          0.2825907074
                        ]
                      },
                      {
                        "learn": [
                          0.2525301532
                        ],
                        "iteration": 720,
                        "passed_time": 45.4062623,
                        "remaining_time": 17.57052314,
                        "test": [
                          0.2825846815
                        ]
                      },
                      {
                        "learn": [
                          0.2525123095
                        ],
                        "iteration": 721,
                        "passed_time": 45.46088524,
                        "remaining_time": 17.50432977,
                        "test": [
                          0.2825876412
                        ]
                      },
                      {
                        "learn": [
                          0.2524913243
                        ],
                        "iteration": 722,
                        "passed_time": 45.51243629,
                        "remaining_time": 17.4369915,
                        "test": [
                          0.2825901607
                        ]
                      },
                      {
                        "learn": [
                          0.2524573774
                        ],
                        "iteration": 723,
                        "passed_time": 45.56593722,
                        "remaining_time": 17.37044015,
                        "test": [
                          0.2826050442
                        ]
                      },
                      {
                        "learn": [
                          0.2524188724
                        ],
                        "iteration": 724,
                        "passed_time": 45.61834192,
                        "remaining_time": 17.303509,
                        "test": [
                          0.2826022726
                        ]
                      },
                      {
                        "learn": [
                          0.2523962827
                        ],
                        "iteration": 725,
                        "passed_time": 45.66679742,
                        "remaining_time": 17.2351274,
                        "test": [
                          0.2826040724
                        ]
                      },
                      {
                        "learn": [
                          0.2523864046
                        ],
                        "iteration": 726,
                        "passed_time": 45.77748681,
                        "remaining_time": 17.19017043,
                        "test": [
                          0.2825867608
                        ]
                      },
                      {
                        "learn": [
                          0.2523576272
                        ],
                        "iteration": 727,
                        "passed_time": 45.85102119,
                        "remaining_time": 17.13115077,
                        "test": [
                          0.2825930925
                        ]
                      },
                      {
                        "learn": [
                          0.2522882787
                        ],
                        "iteration": 728,
                        "passed_time": 45.90693685,
                        "remaining_time": 17.06554168,
                        "test": [
                          0.2826008196
                        ]
                      },
                      {
                        "learn": [
                          0.2522768843
                        ],
                        "iteration": 729,
                        "passed_time": 45.96460832,
                        "remaining_time": 17.00060856,
                        "test": [
                          0.2825945849
                        ]
                      },
                      {
                        "learn": [
                          0.2522587811
                        ],
                        "iteration": 730,
                        "passed_time": 46.01184864,
                        "remaining_time": 16.93185675,
                        "test": [
                          0.2826104746
                        ]
                      },
                      {
                        "learn": [
                          0.2522429373
                        ],
                        "iteration": 731,
                        "passed_time": 46.06708991,
                        "remaining_time": 16.86609303,
                        "test": [
                          0.2826188696
                        ]
                      },
                      {
                        "learn": [
                          0.2521969187
                        ],
                        "iteration": 732,
                        "passed_time": 46.12741516,
                        "remaining_time": 16.80220989,
                        "test": [
                          0.2826225288
                        ]
                      },
                      {
                        "learn": [
                          0.2521660427
                        ],
                        "iteration": 733,
                        "passed_time": 46.17726383,
                        "remaining_time": 16.73453975,
                        "test": [
                          0.2826082653
                        ]
                      },
                      {
                        "learn": [
                          0.2521159709
                        ],
                        "iteration": 734,
                        "passed_time": 46.23077809,
                        "remaining_time": 16.66823972,
                        "test": [
                          0.2825975714
                        ]
                      },
                      {
                        "learn": [
                          0.2520993816
                        ],
                        "iteration": 735,
                        "passed_time": 46.28447407,
                        "remaining_time": 16.60203961,
                        "test": [
                          0.2825987908
                        ]
                      },
                      {
                        "learn": [
                          0.252074127
                        ],
                        "iteration": 736,
                        "passed_time": 46.32962494,
                        "remaining_time": 16.5328241,
                        "test": [
                          0.2825948071
                        ]
                      },
                      {
                        "learn": [
                          0.2520037598
                        ],
                        "iteration": 737,
                        "passed_time": 46.37584384,
                        "remaining_time": 16.46405296,
                        "test": [
                          0.2825832639
                        ]
                      },
                      {
                        "learn": [
                          0.2519786961
                        ],
                        "iteration": 738,
                        "passed_time": 46.42637181,
                        "remaining_time": 16.39686474,
                        "test": [
                          0.2825717082
                        ]
                      },
                      {
                        "learn": [
                          0.2519621832
                        ],
                        "iteration": 739,
                        "passed_time": 46.47590758,
                        "remaining_time": 16.32937293,
                        "test": [
                          0.2825634982
                        ]
                      },
                      {
                        "learn": [
                          0.2519471203
                        ],
                        "iteration": 740,
                        "passed_time": 46.52691241,
                        "remaining_time": 16.26244307,
                        "test": [
                          0.2825719799
                        ]
                      },
                      {
                        "learn": [
                          0.2519267341
                        ],
                        "iteration": 741,
                        "passed_time": 46.57714071,
                        "remaining_time": 16.19528612,
                        "test": [
                          0.2825773774
                        ]
                      },
                      {
                        "learn": [
                          0.2519061173
                        ],
                        "iteration": 742,
                        "passed_time": 46.62070629,
                        "remaining_time": 16.12587014,
                        "test": [
                          0.2825864935
                        ]
                      },
                      {
                        "learn": [
                          0.2518731283
                        ],
                        "iteration": 743,
                        "passed_time": 46.67170772,
                        "remaining_time": 16.05908223,
                        "test": [
                          0.2825769813
                        ]
                      },
                      {
                        "learn": [
                          0.2518412733
                        ],
                        "iteration": 744,
                        "passed_time": 46.72451693,
                        "remaining_time": 15.99295546,
                        "test": [
                          0.2825905823
                        ]
                      },
                      {
                        "learn": [
                          0.2517358843
                        ],
                        "iteration": 745,
                        "passed_time": 46.83090354,
                        "remaining_time": 15.94510657,
                        "test": [
                          0.2824759702
                        ]
                      },
                      {
                        "learn": [
                          0.2516653625
                        ],
                        "iteration": 746,
                        "passed_time": 46.8964189,
                        "remaining_time": 15.88325834,
                        "test": [
                          0.2824401986
                        ]
                      },
                      {
                        "learn": [
                          0.2516220866
                        ],
                        "iteration": 747,
                        "passed_time": 46.95410856,
                        "remaining_time": 15.81876385,
                        "test": [
                          0.2824075963
                        ]
                      },
                      {
                        "learn": [
                          0.2516030345
                        ],
                        "iteration": 748,
                        "passed_time": 47.00678426,
                        "remaining_time": 15.75260727,
                        "test": [
                          0.2824144242
                        ]
                      },
                      {
                        "learn": [
                          0.2515935687
                        ],
                        "iteration": 749,
                        "passed_time": 47.06344735,
                        "remaining_time": 15.68781578,
                        "test": [
                          0.2824097877
                        ]
                      },
                      {
                        "learn": [
                          0.2515781777
                        ],
                        "iteration": 750,
                        "passed_time": 47.11200191,
                        "remaining_time": 15.62035749,
                        "test": [
                          0.2824030839
                        ]
                      },
                      {
                        "learn": [
                          0.2515635099
                        ],
                        "iteration": 751,
                        "passed_time": 47.15992199,
                        "remaining_time": 15.55274023,
                        "test": [
                          0.2823963827
                        ]
                      },
                      {
                        "learn": [
                          0.2515471366
                        ],
                        "iteration": 752,
                        "passed_time": 47.21383008,
                        "remaining_time": 15.48713948,
                        "test": [
                          0.2823934247
                        ]
                      },
                      {
                        "learn": [
                          0.2514744622
                        ],
                        "iteration": 753,
                        "passed_time": 47.26243859,
                        "remaining_time": 15.41984071,
                        "test": [
                          0.282361957
                        ]
                      },
                      {
                        "learn": [
                          0.2514605209
                        ],
                        "iteration": 754,
                        "passed_time": 47.29510267,
                        "remaining_time": 15.34741742,
                        "test": [
                          0.2823669943
                        ]
                      },
                      {
                        "learn": [
                          0.251442409
                        ],
                        "iteration": 755,
                        "passed_time": 47.34520677,
                        "remaining_time": 15.28072811,
                        "test": [
                          0.2823678948
                        ]
                      },
                      {
                        "learn": [
                          0.2514369867
                        ],
                        "iteration": 756,
                        "passed_time": 47.39441355,
                        "remaining_time": 15.21379457,
                        "test": [
                          0.2823682724
                        ]
                      },
                      {
                        "learn": [
                          0.2513969745
                        ],
                        "iteration": 757,
                        "passed_time": 47.44541413,
                        "remaining_time": 15.1474805,
                        "test": [
                          0.2823568975
                        ]
                      },
                      {
                        "learn": [
                          0.2513659883
                        ],
                        "iteration": 758,
                        "passed_time": 47.50097582,
                        "remaining_time": 15.08265504,
                        "test": [
                          0.2823507958
                        ]
                      },
                      {
                        "learn": [
                          0.2513144737
                        ],
                        "iteration": 759,
                        "passed_time": 47.55388701,
                        "remaining_time": 15.01701695,
                        "test": [
                          0.2823309913
                        ]
                      },
                      {
                        "learn": [
                          0.2512558185
                        ],
                        "iteration": 760,
                        "passed_time": 47.60432389,
                        "remaining_time": 14.95063523,
                        "test": [
                          0.282313828
                        ]
                      },
                      {
                        "learn": [
                          0.2512226348
                        ],
                        "iteration": 761,
                        "passed_time": 47.65510667,
                        "remaining_time": 14.8844034,
                        "test": [
                          0.2823040395
                        ]
                      },
                      {
                        "learn": [
                          0.2511839434
                        ],
                        "iteration": 762,
                        "passed_time": 47.70771844,
                        "remaining_time": 14.81878017,
                        "test": [
                          0.2822985656
                        ]
                      },
                      {
                        "learn": [
                          0.251158856
                        ],
                        "iteration": 763,
                        "passed_time": 47.7689266,
                        "remaining_time": 14.75584644,
                        "test": [
                          0.2822942949
                        ]
                      },
                      {
                        "learn": [
                          0.2511391357
                        ],
                        "iteration": 764,
                        "passed_time": 47.85776858,
                        "remaining_time": 14.70140603,
                        "test": [
                          0.2823006242
                        ]
                      },
                      {
                        "learn": [
                          0.2510513069
                        ],
                        "iteration": 765,
                        "passed_time": 47.92763865,
                        "remaining_time": 14.64108021,
                        "test": [
                          0.282198481
                        ]
                      },
                      {
                        "learn": [
                          0.2510386089
                        ],
                        "iteration": 766,
                        "passed_time": 47.9797031,
                        "remaining_time": 14.5753205,
                        "test": [
                          0.2821945581
                        ]
                      },
                      {
                        "learn": [
                          0.2509993921
                        ],
                        "iteration": 767,
                        "passed_time": 48.02717031,
                        "remaining_time": 14.5082077,
                        "test": [
                          0.2821991864
                        ]
                      },
                      {
                        "learn": [
                          0.250948208
                        ],
                        "iteration": 768,
                        "passed_time": 48.08512425,
                        "remaining_time": 14.4442961,
                        "test": [
                          0.282182408
                        ]
                      },
                      {
                        "learn": [
                          0.2509392594
                        ],
                        "iteration": 769,
                        "passed_time": 48.12243909,
                        "remaining_time": 14.37423505,
                        "test": [
                          0.2821854248
                        ]
                      },
                      {
                        "learn": [
                          0.2508746519
                        ],
                        "iteration": 770,
                        "passed_time": 48.17481943,
                        "remaining_time": 14.30873366,
                        "test": [
                          0.2821416378
                        ]
                      },
                      {
                        "learn": [
                          0.2508251302
                        ],
                        "iteration": 771,
                        "passed_time": 48.23119952,
                        "remaining_time": 14.24444753,
                        "test": [
                          0.2821550666
                        ]
                      },
                      {
                        "learn": [
                          0.2508237841
                        ],
                        "iteration": 772,
                        "passed_time": 48.27819714,
                        "remaining_time": 14.17742659,
                        "test": [
                          0.2821549543
                        ]
                      },
                      {
                        "learn": [
                          0.2507876097
                        ],
                        "iteration": 773,
                        "passed_time": 48.33012909,
                        "remaining_time": 14.11189816,
                        "test": [
                          0.282153958
                        ]
                      },
                      {
                        "learn": [
                          0.2507163781
                        ],
                        "iteration": 774,
                        "passed_time": 48.38977129,
                        "remaining_time": 14.04864328,
                        "test": [
                          0.2821414389
                        ]
                      },
                      {
                        "learn": [
                          0.2506612127
                        ],
                        "iteration": 775,
                        "passed_time": 48.43928235,
                        "remaining_time": 13.98247325,
                        "test": [
                          0.2821335964
                        ]
                      },
                      {
                        "learn": [
                          0.250645657
                        ],
                        "iteration": 776,
                        "passed_time": 48.4928766,
                        "remaining_time": 13.917518,
                        "test": [
                          0.282135493
                        ]
                      },
                      {
                        "learn": [
                          0.2506166118
                        ],
                        "iteration": 777,
                        "passed_time": 48.53515646,
                        "remaining_time": 13.84936341,
                        "test": [
                          0.282146548
                        ]
                      },
                      {
                        "learn": [
                          0.2505861661
                        ],
                        "iteration": 778,
                        "passed_time": 48.58779534,
                        "remaining_time": 13.78421408,
                        "test": [
                          0.2821383895
                        ]
                      },
                      {
                        "learn": [
                          0.2505386395
                        ],
                        "iteration": 779,
                        "passed_time": 48.63521501,
                        "remaining_time": 13.71762475,
                        "test": [
                          0.282123934
                        ]
                      },
                      {
                        "learn": [
                          0.2505260379
                        ],
                        "iteration": 780,
                        "passed_time": 48.70916851,
                        "remaining_time": 13.65852484,
                        "test": [
                          0.2821261828
                        ]
                      },
                      {
                        "learn": [
                          0.2504928176
                        ],
                        "iteration": 781,
                        "passed_time": 48.77366918,
                        "remaining_time": 13.59675177,
                        "test": [
                          0.2821098562
                        ]
                      },
                      {
                        "learn": [
                          0.2504641089
                        ],
                        "iteration": 782,
                        "passed_time": 48.87760249,
                        "remaining_time": 13.54590005,
                        "test": [
                          0.2821267999
                        ]
                      },
                      {
                        "learn": [
                          0.2504584477
                        ],
                        "iteration": 783,
                        "passed_time": 48.93673257,
                        "remaining_time": 13.48256918,
                        "test": [
                          0.2821283688
                        ]
                      },
                      {
                        "learn": [
                          0.2504137183
                        ],
                        "iteration": 784,
                        "passed_time": 48.98600003,
                        "remaining_time": 13.41654778,
                        "test": [
                          0.2821290907
                        ]
                      },
                      {
                        "learn": [
                          0.2504066344
                        ],
                        "iteration": 785,
                        "passed_time": 49.03065261,
                        "remaining_time": 13.34931254,
                        "test": [
                          0.2821310572
                        ]
                      },
                      {
                        "learn": [
                          0.2503831105
                        ],
                        "iteration": 786,
                        "passed_time": 49.08395408,
                        "remaining_time": 13.2844755,
                        "test": [
                          0.2821259592
                        ]
                      },
                      {
                        "learn": [
                          0.2503555627
                        ],
                        "iteration": 787,
                        "passed_time": 49.13154344,
                        "remaining_time": 13.21813098,
                        "test": [
                          0.2821179292
                        ]
                      },
                      {
                        "learn": [
                          0.2503348701
                        ],
                        "iteration": 788,
                        "passed_time": 49.17836939,
                        "remaining_time": 13.15162984,
                        "test": [
                          0.2821324439
                        ]
                      },
                      {
                        "learn": [
                          0.2503042496
                        ],
                        "iteration": 789,
                        "passed_time": 49.23623307,
                        "remaining_time": 13.08811259,
                        "test": [
                          0.2821272807
                        ]
                      },
                      {
                        "learn": [
                          0.2502712427
                        ],
                        "iteration": 790,
                        "passed_time": 49.28555534,
                        "remaining_time": 13.0223528,
                        "test": [
                          0.2821304189
                        ]
                      },
                      {
                        "learn": [
                          0.2502518096
                        ],
                        "iteration": 791,
                        "passed_time": 49.33010752,
                        "remaining_time": 12.95538177,
                        "test": [
                          0.2821301514
                        ]
                      },
                      {
                        "learn": [
                          0.2502351415
                        ],
                        "iteration": 792,
                        "passed_time": 49.37437241,
                        "remaining_time": 12.88839229,
                        "test": [
                          0.2821260253
                        ]
                      },
                      {
                        "learn": [
                          0.2501906976
                        ],
                        "iteration": 793,
                        "passed_time": 49.42353394,
                        "remaining_time": 12.82273047,
                        "test": [
                          0.2821108783
                        ]
                      },
                      {
                        "learn": [
                          0.2501565231
                        ],
                        "iteration": 794,
                        "passed_time": 49.47202994,
                        "remaining_time": 12.75693854,
                        "test": [
                          0.2821181722
                        ]
                      },
                      {
                        "learn": [
                          0.2501445624
                        ],
                        "iteration": 795,
                        "passed_time": 49.5221826,
                        "remaining_time": 12.69161464,
                        "test": [
                          0.2821205995
                        ]
                      },
                      {
                        "learn": [
                          0.2501062344
                        ],
                        "iteration": 796,
                        "passed_time": 49.57225222,
                        "remaining_time": 12.62630766,
                        "test": [
                          0.2821190944
                        ]
                      },
                      {
                        "learn": [
                          0.2500650435
                        ],
                        "iteration": 797,
                        "passed_time": 49.6250152,
                        "remaining_time": 12.56172064,
                        "test": [
                          0.2821237903
                        ]
                      },
                      {
                        "learn": [
                          0.250018182
                        ],
                        "iteration": 798,
                        "passed_time": 49.68336401,
                        "remaining_time": 12.49856842,
                        "test": [
                          0.2820726875
                        ]
                      },
                      {
                        "learn": [
                          0.2500047418
                        ],
                        "iteration": 799,
                        "passed_time": 49.73601387,
                        "remaining_time": 12.43400347,
                        "test": [
                          0.282073005
                        ]
                      },
                      {
                        "learn": [
                          0.2499877216
                        ],
                        "iteration": 800,
                        "passed_time": 49.79325109,
                        "remaining_time": 12.37060795,
                        "test": [
                          0.2820646152
                        ]
                      },
                      {
                        "learn": [
                          0.2499528949
                        ],
                        "iteration": 801,
                        "passed_time": 49.90595436,
                        "remaining_time": 12.3209214,
                        "test": [
                          0.2820570563
                        ]
                      },
                      {
                        "learn": [
                          0.249907426
                        ],
                        "iteration": 802,
                        "passed_time": 49.97552678,
                        "remaining_time": 12.26049661,
                        "test": [
                          0.2820411917
                        ]
                      },
                      {
                        "learn": [
                          0.2498589876
                        ],
                        "iteration": 803,
                        "passed_time": 50.02157782,
                        "remaining_time": 12.19431499,
                        "test": [
                          0.2820202761
                        ]
                      },
                      {
                        "learn": [
                          0.2497768103
                        ],
                        "iteration": 804,
                        "passed_time": 50.07962316,
                        "remaining_time": 12.13108884,
                        "test": [
                          0.2819226426
                        ]
                      },
                      {
                        "learn": [
                          0.2497318427
                        ],
                        "iteration": 805,
                        "passed_time": 50.13282188,
                        "remaining_time": 12.06670899,
                        "test": [
                          0.2819249782
                        ]
                      },
                      {
                        "learn": [
                          0.24971495
                        ],
                        "iteration": 806,
                        "passed_time": 50.17524931,
                        "remaining_time": 11.99978081,
                        "test": [
                          0.2819240083
                        ]
                      },
                      {
                        "learn": [
                          0.2496911621
                        ],
                        "iteration": 807,
                        "passed_time": 50.22886244,
                        "remaining_time": 11.93557127,
                        "test": [
                          0.2819259492
                        ]
                      },
                      {
                        "learn": [
                          0.2496609469
                        ],
                        "iteration": 808,
                        "passed_time": 50.2864047,
                        "remaining_time": 11.87231557,
                        "test": [
                          0.2819434604
                        ]
                      },
                      {
                        "learn": [
                          0.2496339498
                        ],
                        "iteration": 809,
                        "passed_time": 50.33916494,
                        "remaining_time": 11.80795227,
                        "test": [
                          0.281936499
                        ]
                      },
                      {
                        "learn": [
                          0.2496047973
                        ],
                        "iteration": 810,
                        "passed_time": 50.38896601,
                        "remaining_time": 11.74292796,
                        "test": [
                          0.2819333055
                        ]
                      },
                      {
                        "learn": [
                          0.2495771551
                        ],
                        "iteration": 811,
                        "passed_time": 50.44253694,
                        "remaining_time": 11.67881397,
                        "test": [
                          0.2819234238
                        ]
                      },
                      {
                        "learn": [
                          0.2495633696
                        ],
                        "iteration": 812,
                        "passed_time": 50.4947875,
                        "remaining_time": 11.61442222,
                        "test": [
                          0.2819316094
                        ]
                      },
                      {
                        "learn": [
                          0.2495444838
                        ],
                        "iteration": 813,
                        "passed_time": 50.54491861,
                        "remaining_time": 11.549576,
                        "test": [
                          0.2819396617
                        ]
                      },
                      {
                        "learn": [
                          0.249491238
                        ],
                        "iteration": 814,
                        "passed_time": 50.59859257,
                        "remaining_time": 11.48557009,
                        "test": [
                          0.2819376327
                        ]
                      },
                      {
                        "learn": [
                          0.2494572842
                        ],
                        "iteration": 815,
                        "passed_time": 50.64984754,
                        "remaining_time": 11.42104405,
                        "test": [
                          0.2819343509
                        ]
                      },
                      {
                        "learn": [
                          0.2494268017
                        ],
                        "iteration": 816,
                        "passed_time": 50.706601,
                        "remaining_time": 11.35778211,
                        "test": [
                          0.2819327676
                        ]
                      },
                      {
                        "learn": [
                          0.2493956583
                        ],
                        "iteration": 817,
                        "passed_time": 50.76038309,
                        "remaining_time": 11.29387497,
                        "test": [
                          0.2819359005
                        ]
                      },
                      {
                        "learn": [
                          0.2493731569
                        ],
                        "iteration": 818,
                        "passed_time": 50.81925982,
                        "remaining_time": 11.23111847,
                        "test": [
                          0.2819243707
                        ]
                      },
                      {
                        "learn": [
                          0.2493551315
                        ],
                        "iteration": 819,
                        "passed_time": 50.90256741,
                        "remaining_time": 11.17373431,
                        "test": [
                          0.2819374937
                        ]
                      },
                      {
                        "learn": [
                          0.2493358696
                        ],
                        "iteration": 820,
                        "passed_time": 50.99432013,
                        "remaining_time": 11.11812826,
                        "test": [
                          0.2819496072
                        ]
                      },
                      {
                        "learn": [
                          0.2493072858
                        ],
                        "iteration": 821,
                        "passed_time": 51.05204578,
                        "remaining_time": 11.05506587,
                        "test": [
                          0.2819500074
                        ]
                      },
                      {
                        "learn": [
                          0.2492955691
                        ],
                        "iteration": 822,
                        "passed_time": 51.09864709,
                        "remaining_time": 10.98962398,
                        "test": [
                          0.2819593803
                        ]
                      },
                      {
                        "learn": [
                          0.2492653527
                        ],
                        "iteration": 823,
                        "passed_time": 51.15568279,
                        "remaining_time": 10.92645652,
                        "test": [
                          0.2819603922
                        ]
                      },
                      {
                        "learn": [
                          0.2492221393
                        ],
                        "iteration": 824,
                        "passed_time": 51.21727483,
                        "remaining_time": 10.86427042,
                        "test": [
                          0.281912763
                        ]
                      },
                      {
                        "learn": [
                          0.2491934545
                        ],
                        "iteration": 825,
                        "passed_time": 51.2769155,
                        "remaining_time": 10.80167469,
                        "test": [
                          0.2819296454
                        ]
                      },
                      {
                        "learn": [
                          0.2491678244
                        ],
                        "iteration": 826,
                        "passed_time": 51.33107715,
                        "remaining_time": 10.73793996,
                        "test": [
                          0.2819294639
                        ]
                      },
                      {
                        "learn": [
                          0.2491549777
                        ],
                        "iteration": 827,
                        "passed_time": 51.38329791,
                        "remaining_time": 10.67382517,
                        "test": [
                          0.2819286452
                        ]
                      },
                      {
                        "learn": [
                          0.2490970089
                        ],
                        "iteration": 828,
                        "passed_time": 51.4380958,
                        "remaining_time": 10.61027067,
                        "test": [
                          0.2818898581
                        ]
                      },
                      {
                        "learn": [
                          0.2490356131
                        ],
                        "iteration": 829,
                        "passed_time": 51.49948397,
                        "remaining_time": 10.54808708,
                        "test": [
                          0.2818140855
                        ]
                      },
                      {
                        "learn": [
                          0.2490218876
                        ],
                        "iteration": 830,
                        "passed_time": 51.54907421,
                        "remaining_time": 10.48350607,
                        "test": [
                          0.2818105771
                        ]
                      },
                      {
                        "learn": [
                          0.2489700663
                        ],
                        "iteration": 831,
                        "passed_time": 51.59548135,
                        "remaining_time": 10.41831835,
                        "test": [
                          0.2818059825
                        ]
                      },
                      {
                        "learn": [
                          0.2489250826
                        ],
                        "iteration": 832,
                        "passed_time": 51.6583295,
                        "remaining_time": 10.35647182,
                        "test": [
                          0.281774388
                        ]
                      },
                      {
                        "learn": [
                          0.2488997509
                        ],
                        "iteration": 833,
                        "passed_time": 51.71564589,
                        "remaining_time": 10.29352184,
                        "test": [
                          0.2817850775
                        ]
                      },
                      {
                        "learn": [
                          0.2488671553
                        ],
                        "iteration": 834,
                        "passed_time": 51.76607266,
                        "remaining_time": 10.22922394,
                        "test": [
                          0.2817881959
                        ]
                      },
                      {
                        "learn": [
                          0.2488614664
                        ],
                        "iteration": 835,
                        "passed_time": 51.81176582,
                        "remaining_time": 10.16403062,
                        "test": [
                          0.281789289
                        ]
                      },
                      {
                        "learn": [
                          0.248830333
                        ],
                        "iteration": 836,
                        "passed_time": 51.86102042,
                        "remaining_time": 10.09957745,
                        "test": [
                          0.2817916597
                        ]
                      },
                      {
                        "learn": [
                          0.2488007044
                        ],
                        "iteration": 837,
                        "passed_time": 51.92671064,
                        "remaining_time": 10.03833786,
                        "test": [
                          0.2817862657
                        ]
                      },
                      {
                        "learn": [
                          0.2487525106
                        ],
                        "iteration": 838,
                        "passed_time": 52.02208195,
                        "remaining_time": 9.982783305,
                        "test": [
                          0.281792712
                        ]
                      },
                      {
                        "learn": [
                          0.2487263989
                        ],
                        "iteration": 839,
                        "passed_time": 52.08528543,
                        "remaining_time": 9.921006749,
                        "test": [
                          0.2818095984
                        ]
                      },
                      {
                        "learn": [
                          0.2487215425
                        ],
                        "iteration": 840,
                        "passed_time": 52.12366443,
                        "remaining_time": 9.854533465,
                        "test": [
                          0.281807947
                        ]
                      },
                      {
                        "learn": [
                          0.2486952575
                        ],
                        "iteration": 841,
                        "passed_time": 52.16703138,
                        "remaining_time": 9.789062895,
                        "test": [
                          0.2818003353
                        ]
                      },
                      {
                        "learn": [
                          0.2486597355
                        ],
                        "iteration": 842,
                        "passed_time": 52.21792752,
                        "remaining_time": 9.725046999,
                        "test": [
                          0.2818028804
                        ]
                      },
                      {
                        "learn": [
                          0.2486102028
                        ],
                        "iteration": 843,
                        "passed_time": 52.27601889,
                        "remaining_time": 9.662392117,
                        "test": [
                          0.2817749151
                        ]
                      },
                      {
                        "learn": [
                          0.2486011418
                        ],
                        "iteration": 844,
                        "passed_time": 52.32689872,
                        "remaining_time": 9.598425208,
                        "test": [
                          0.281779758
                        ]
                      },
                      {
                        "learn": [
                          0.2485774412
                        ],
                        "iteration": 845,
                        "passed_time": 52.37679175,
                        "remaining_time": 9.53430961,
                        "test": [
                          0.2817805279
                        ]
                      },
                      {
                        "learn": [
                          0.2485433038
                        ],
                        "iteration": 846,
                        "passed_time": 52.42838702,
                        "remaining_time": 9.470535082,
                        "test": [
                          0.281791638
                        ]
                      },
                      {
                        "learn": [
                          0.2485149083
                        ],
                        "iteration": 847,
                        "passed_time": 52.48156182,
                        "remaining_time": 9.407072402,
                        "test": [
                          0.2818060007
                        ]
                      },
                      {
                        "learn": [
                          0.248490375
                        ],
                        "iteration": 848,
                        "passed_time": 52.53096328,
                        "remaining_time": 9.342962844,
                        "test": [
                          0.2818007169
                        ]
                      },
                      {
                        "learn": [
                          0.248470749
                        ],
                        "iteration": 849,
                        "passed_time": 52.58546786,
                        "remaining_time": 9.279788445,
                        "test": [
                          0.2817851549
                        ]
                      },
                      {
                        "learn": [
                          0.2484423819
                        ],
                        "iteration": 850,
                        "passed_time": 52.63863467,
                        "remaining_time": 9.216400194,
                        "test": [
                          0.2817774704
                        ]
                      },
                      {
                        "learn": [
                          0.2484343223
                        ],
                        "iteration": 851,
                        "passed_time": 52.69551719,
                        "remaining_time": 9.15368139,
                        "test": [
                          0.2817767262
                        ]
                      },
                      {
                        "learn": [
                          0.2484071114
                        ],
                        "iteration": 852,
                        "passed_time": 52.745907,
                        "remaining_time": 9.089857361,
                        "test": [
                          0.281772646
                        ]
                      },
                      {
                        "learn": [
                          0.248395789
                        ],
                        "iteration": 853,
                        "passed_time": 52.79088722,
                        "remaining_time": 9.025139971,
                        "test": [
                          0.2817645649
                        ]
                      },
                      {
                        "learn": [
                          0.2483558085
                        ],
                        "iteration": 854,
                        "passed_time": 52.84111208,
                        "remaining_time": 8.961358189,
                        "test": [
                          0.281772158
                        ]
                      },
                      {
                        "learn": [
                          0.2483367655
                        ],
                        "iteration": 855,
                        "passed_time": 52.88881017,
                        "remaining_time": 8.897183019,
                        "test": [
                          0.2817765393
                        ]
                      },
                      {
                        "learn": [
                          0.2483281821
                        ],
                        "iteration": 856,
                        "passed_time": 52.92986803,
                        "remaining_time": 8.831938306,
                        "test": [
                          0.2817745736
                        ]
                      },
                      {
                        "learn": [
                          0.2483064793
                        ],
                        "iteration": 857,
                        "passed_time": 53.03224222,
                        "remaining_time": 8.776897896,
                        "test": [
                          0.281767727
                        ]
                      },
                      {
                        "learn": [
                          0.2482632243
                        ],
                        "iteration": 858,
                        "passed_time": 53.09784569,
                        "remaining_time": 8.715711575,
                        "test": [
                          0.2817534926
                        ]
                      },
                      {
                        "learn": [
                          0.2482128202
                        ],
                        "iteration": 859,
                        "passed_time": 53.15171526,
                        "remaining_time": 8.652604811,
                        "test": [
                          0.2817451013
                        ]
                      },
                      {
                        "learn": [
                          0.2481956646
                        ],
                        "iteration": 860,
                        "passed_time": 53.19909181,
                        "remaining_time": 8.588471268,
                        "test": [
                          0.2817447763
                        ]
                      },
                      {
                        "learn": [
                          0.2481828019
                        ],
                        "iteration": 861,
                        "passed_time": 53.24789541,
                        "remaining_time": 8.524605065,
                        "test": [
                          0.2817389978
                        ]
                      },
                      {
                        "learn": [
                          0.2481417325
                        ],
                        "iteration": 862,
                        "passed_time": 53.29862717,
                        "remaining_time": 8.461079863,
                        "test": [
                          0.2817236959
                        ]
                      },
                      {
                        "learn": [
                          0.2480894317
                        ],
                        "iteration": 863,
                        "passed_time": 53.35260387,
                        "remaining_time": 8.398095054,
                        "test": [
                          0.2817221995
                        ]
                      },
                      {
                        "learn": [
                          0.2480683429
                        ],
                        "iteration": 864,
                        "passed_time": 53.40448756,
                        "remaining_time": 8.334804417,
                        "test": [
                          0.2817218803
                        ]
                      },
                      {
                        "learn": [
                          0.2480447905
                        ],
                        "iteration": 865,
                        "passed_time": 53.45885406,
                        "remaining_time": 8.2719243,
                        "test": [
                          0.2817189059
                        ]
                      },
                      {
                        "learn": [
                          0.2480331744
                        ],
                        "iteration": 866,
                        "passed_time": 53.50772917,
                        "remaining_time": 8.20822143,
                        "test": [
                          0.2817139343
                        ]
                      },
                      {
                        "learn": [
                          0.248013144
                        ],
                        "iteration": 867,
                        "passed_time": 53.54463885,
                        "remaining_time": 8.142733096,
                        "test": [
                          0.2817139506
                        ]
                      },
                      {
                        "learn": [
                          0.2480032316
                        ],
                        "iteration": 868,
                        "passed_time": 53.60042337,
                        "remaining_time": 8.080155882,
                        "test": [
                          0.2817138729
                        ]
                      },
                      {
                        "learn": [
                          0.2479963821
                        ],
                        "iteration": 869,
                        "passed_time": 53.65054872,
                        "remaining_time": 8.016748659,
                        "test": [
                          0.281715107
                        ]
                      },
                      {
                        "learn": [
                          0.2479884583
                        ],
                        "iteration": 870,
                        "passed_time": 53.70156493,
                        "remaining_time": 7.953503876,
                        "test": [
                          0.2817139102
                        ]
                      },
                      {
                        "learn": [
                          0.2479741483
                        ],
                        "iteration": 871,
                        "passed_time": 53.75062258,
                        "remaining_time": 7.889999644,
                        "test": [
                          0.2817103411
                        ]
                      },
                      {
                        "learn": [
                          0.2479575323
                        ],
                        "iteration": 872,
                        "passed_time": 53.79220545,
                        "remaining_time": 7.825441114,
                        "test": [
                          0.2817070945
                        ]
                      },
                      {
                        "learn": [
                          0.2479380524
                        ],
                        "iteration": 873,
                        "passed_time": 53.84374805,
                        "remaining_time": 7.762371001,
                        "test": [
                          0.2816930646
                        ]
                      },
                      {
                        "learn": [
                          0.247887871
                        ],
                        "iteration": 874,
                        "passed_time": 53.89651641,
                        "remaining_time": 7.699502344,
                        "test": [
                          0.2816909771
                        ]
                      },
                      {
                        "learn": [
                          0.2478717989
                        ],
                        "iteration": 875,
                        "passed_time": 53.94753964,
                        "remaining_time": 7.636409721,
                        "test": [
                          0.2817002038
                        ]
                      },
                      {
                        "learn": [
                          0.2478485126
                        ],
                        "iteration": 876,
                        "passed_time": 54.03240467,
                        "remaining_time": 7.578090963,
                        "test": [
                          0.281710019
                        ]
                      },
                      {
                        "learn": [
                          0.2478245671
                        ],
                        "iteration": 877,
                        "passed_time": 54.13757791,
                        "remaining_time": 7.522533605,
                        "test": [
                          0.2817036163
                        ]
                      },
                      {
                        "learn": [
                          0.2477627216
                        ],
                        "iteration": 878,
                        "passed_time": 54.23032813,
                        "remaining_time": 7.465153246,
                        "test": [
                          0.2816892528
                        ]
                      },
                      {
                        "learn": [
                          0.2477305644
                        ],
                        "iteration": 879,
                        "passed_time": 54.28245654,
                        "remaining_time": 7.402153164,
                        "test": [
                          0.2816776424
                        ]
                      },
                      {
                        "learn": [
                          0.2476562814
                        ],
                        "iteration": 880,
                        "passed_time": 54.33590283,
                        "remaining_time": 7.339355774,
                        "test": [
                          0.281677874
                        ]
                      },
                      {
                        "learn": [
                          0.2476411145
                        ],
                        "iteration": 881,
                        "passed_time": 54.39060012,
                        "remaining_time": 7.276746954,
                        "test": [
                          0.2816865975
                        ]
                      },
                      {
                        "learn": [
                          0.2476183154
                        ],
                        "iteration": 882,
                        "passed_time": 54.44097947,
                        "remaining_time": 7.213583916,
                        "test": [
                          0.2816808683
                        ]
                      },
                      {
                        "learn": [
                          0.2475696129
                        ],
                        "iteration": 883,
                        "passed_time": 54.49155581,
                        "remaining_time": 7.150475649,
                        "test": [
                          0.2816978405
                        ]
                      },
                      {
                        "learn": [
                          0.24754087
                        ],
                        "iteration": 884,
                        "passed_time": 54.5464639,
                        "remaining_time": 7.087958586,
                        "test": [
                          0.2816912179
                        ]
                      },
                      {
                        "learn": [
                          0.2475260653
                        ],
                        "iteration": 885,
                        "passed_time": 54.60464349,
                        "remaining_time": 7.025879637,
                        "test": [
                          0.2816885807
                        ]
                      },
                      {
                        "learn": [
                          0.2475110836
                        ],
                        "iteration": 886,
                        "passed_time": 54.65288471,
                        "remaining_time": 6.962543374,
                        "test": [
                          0.2816883922
                        ]
                      },
                      {
                        "learn": [
                          0.2474670264
                        ],
                        "iteration": 887,
                        "passed_time": 54.71508802,
                        "remaining_time": 6.901002092,
                        "test": [
                          0.2816772782
                        ]
                      },
                      {
                        "learn": [
                          0.2474379515
                        ],
                        "iteration": 888,
                        "passed_time": 54.76697935,
                        "remaining_time": 6.838171775,
                        "test": [
                          0.2816698344
                        ]
                      },
                      {
                        "learn": [
                          0.2474169835
                        ],
                        "iteration": 889,
                        "passed_time": 54.81114957,
                        "remaining_time": 6.774411745,
                        "test": [
                          0.2816696299
                        ]
                      },
                      {
                        "learn": [
                          0.2473748127
                        ],
                        "iteration": 890,
                        "passed_time": 54.86889169,
                        "remaining_time": 6.712355998,
                        "test": [
                          0.2816653214
                        ]
                      },
                      {
                        "learn": [
                          0.2473420796
                        ],
                        "iteration": 891,
                        "passed_time": 54.91833666,
                        "remaining_time": 6.649305336,
                        "test": [
                          0.2816609805
                        ]
                      },
                      {
                        "learn": [
                          0.2473328793
                        ],
                        "iteration": 892,
                        "passed_time": 54.99962848,
                        "remaining_time": 6.590101061,
                        "test": [
                          0.2816610029
                        ]
                      },
                      {
                        "learn": [
                          0.2472761455
                        ],
                        "iteration": 893,
                        "passed_time": 55.15802919,
                        "remaining_time": 6.539990038,
                        "test": [
                          0.2816646462
                        ]
                      },
                      {
                        "learn": [
                          0.2472562444
                        ],
                        "iteration": 894,
                        "passed_time": 55.26346459,
                        "remaining_time": 6.483423219,
                        "test": [
                          0.2816644364
                        ]
                      },
                      {
                        "learn": [
                          0.2472510546
                        ],
                        "iteration": 895,
                        "passed_time": 55.34902183,
                        "remaining_time": 6.424440034,
                        "test": [
                          0.2816647113
                        ]
                      },
                      {
                        "learn": [
                          0.247232687
                        ],
                        "iteration": 896,
                        "passed_time": 55.42936287,
                        "remaining_time": 6.364798635,
                        "test": [
                          0.2816569833
                        ]
                      },
                      {
                        "learn": [
                          0.2472244922
                        ],
                        "iteration": 897,
                        "passed_time": 55.52935145,
                        "remaining_time": 6.307342815,
                        "test": [
                          0.2816552662
                        ]
                      },
                      {
                        "learn": [
                          0.2471723033
                        ],
                        "iteration": 898,
                        "passed_time": 55.61277317,
                        "remaining_time": 6.247931135,
                        "test": [
                          0.2816256989
                        ]
                      },
                      {
                        "learn": [
                          0.2471585261
                        ],
                        "iteration": 899,
                        "passed_time": 55.70625427,
                        "remaining_time": 6.189583808,
                        "test": [
                          0.2816206495
                        ]
                      },
                      {
                        "learn": [
                          0.2471306636
                        ],
                        "iteration": 900,
                        "passed_time": 55.7977976,
                        "remaining_time": 6.130945574,
                        "test": [
                          0.281612282
                        ]
                      },
                      {
                        "learn": [
                          0.2471113825
                        ],
                        "iteration": 901,
                        "passed_time": 55.89144861,
                        "remaining_time": 6.072463374,
                        "test": [
                          0.2816193366
                        ]
                      },
                      {
                        "learn": [
                          0.2470911548
                        ],
                        "iteration": 902,
                        "passed_time": 55.97753743,
                        "remaining_time": 6.013090953,
                        "test": [
                          0.2816127546
                        ]
                      },
                      {
                        "learn": [
                          0.2470296346
                        ],
                        "iteration": 903,
                        "passed_time": 56.07317148,
                        "remaining_time": 5.954673078,
                        "test": [
                          0.2816141779
                        ]
                      },
                      {
                        "learn": [
                          0.2470162572
                        ],
                        "iteration": 904,
                        "passed_time": 56.21687638,
                        "remaining_time": 5.901219068,
                        "test": [
                          0.2816194199
                        ]
                      },
                      {
                        "learn": [
                          0.2469860668
                        ],
                        "iteration": 905,
                        "passed_time": 56.33174042,
                        "remaining_time": 5.84457351,
                        "test": [
                          0.2816267596
                        ]
                      },
                      {
                        "learn": [
                          0.2469466363
                        ],
                        "iteration": 906,
                        "passed_time": 56.44020922,
                        "remaining_time": 5.787143834,
                        "test": [
                          0.2816222684
                        ]
                      },
                      {
                        "learn": [
                          0.2469245363
                        ],
                        "iteration": 907,
                        "passed_time": 56.55855874,
                        "remaining_time": 5.730602868,
                        "test": [
                          0.28161564
                        ]
                      },
                      {
                        "learn": [
                          0.2469010692
                        ],
                        "iteration": 908,
                        "passed_time": 56.66264848,
                        "remaining_time": 5.672498362,
                        "test": [
                          0.2816324266
                        ]
                      },
                      {
                        "learn": [
                          0.24686137
                        ],
                        "iteration": 909,
                        "passed_time": 56.77316964,
                        "remaining_time": 5.614928866,
                        "test": [
                          0.2816287913
                        ]
                      },
                      {
                        "learn": [
                          0.2468392187
                        ],
                        "iteration": 910,
                        "passed_time": 56.86817903,
                        "remaining_time": 5.555727699,
                        "test": [
                          0.2816455385
                        ]
                      },
                      {
                        "learn": [
                          0.2468175908
                        ],
                        "iteration": 911,
                        "passed_time": 56.9650694,
                        "remaining_time": 5.496629503,
                        "test": [
                          0.2816401412
                        ]
                      },
                      {
                        "learn": [
                          0.2467611108
                        ],
                        "iteration": 912,
                        "passed_time": 57.06934069,
                        "remaining_time": 5.438151852,
                        "test": [
                          0.2816697487
                        ]
                      },
                      {
                        "learn": [
                          0.2467533005
                        ],
                        "iteration": 913,
                        "passed_time": 57.14226492,
                        "remaining_time": 5.376624489,
                        "test": [
                          0.2816683312
                        ]
                      },
                      {
                        "learn": [
                          0.2467273682
                        ],
                        "iteration": 914,
                        "passed_time": 57.23546537,
                        "remaining_time": 5.316955799,
                        "test": [
                          0.2816636936
                        ]
                      },
                      {
                        "learn": [
                          0.2467085479
                        ],
                        "iteration": 915,
                        "passed_time": 57.39024694,
                        "remaining_time": 5.262861073,
                        "test": [
                          0.2816566898
                        ]
                      },
                      {
                        "learn": [
                          0.2466897863
                        ],
                        "iteration": 916,
                        "passed_time": 57.50811005,
                        "remaining_time": 5.205205162,
                        "test": [
                          0.2816582505
                        ]
                      },
                      {
                        "learn": [
                          0.246669677
                        ],
                        "iteration": 917,
                        "passed_time": 57.59522812,
                        "remaining_time": 5.144671792,
                        "test": [
                          0.2816684023
                        ]
                      },
                      {
                        "learn": [
                          0.2466372879
                        ],
                        "iteration": 918,
                        "passed_time": 57.69266808,
                        "remaining_time": 5.084990331,
                        "test": [
                          0.2816587948
                        ]
                      },
                      {
                        "learn": [
                          0.246619462
                        ],
                        "iteration": 919,
                        "passed_time": 57.78923142,
                        "remaining_time": 5.025150558,
                        "test": [
                          0.2816660021
                        ]
                      },
                      {
                        "learn": [
                          0.2465960421
                        ],
                        "iteration": 920,
                        "passed_time": 57.88788197,
                        "remaining_time": 4.965410071,
                        "test": [
                          0.2816667816
                        ]
                      },
                      {
                        "learn": [
                          0.2465628174
                        ],
                        "iteration": 921,
                        "passed_time": 57.99310387,
                        "remaining_time": 4.906141109,
                        "test": [
                          0.2816640182
                        ]
                      },
                      {
                        "learn": [
                          0.2465385231
                        ],
                        "iteration": 922,
                        "passed_time": 58.10163029,
                        "remaining_time": 4.847048247,
                        "test": [
                          0.2816512122
                        ]
                      },
                      {
                        "learn": [
                          0.2465235677
                        ],
                        "iteration": 923,
                        "passed_time": 58.19216315,
                        "remaining_time": 4.786368398,
                        "test": [
                          0.2816470222
                        ]
                      },
                      {
                        "learn": [
                          0.2464821211
                        ],
                        "iteration": 924,
                        "passed_time": 58.27375184,
                        "remaining_time": 4.724898798,
                        "test": [
                          0.2816349231
                        ]
                      },
                      {
                        "learn": [
                          0.2464688699
                        ],
                        "iteration": 925,
                        "passed_time": 58.41844961,
                        "remaining_time": 4.668429018,
                        "test": [
                          0.281634756
                        ]
                      },
                      {
                        "learn": [
                          0.246450352
                        ],
                        "iteration": 926,
                        "passed_time": 58.5427018,
                        "remaining_time": 4.610158826,
                        "test": [
                          0.2816464687
                        ]
                      },
                      {
                        "learn": [
                          0.2464255428
                        ],
                        "iteration": 927,
                        "passed_time": 58.6551541,
                        "remaining_time": 4.550830921,
                        "test": [
                          0.2816422855
                        ]
                      },
                      {
                        "learn": [
                          0.2463464144
                        ],
                        "iteration": 928,
                        "passed_time": 58.72108558,
                        "remaining_time": 4.487833236,
                        "test": [
                          0.2816467264
                        ]
                      },
                      {
                        "learn": [
                          0.246331316
                        ],
                        "iteration": 929,
                        "passed_time": 58.77153813,
                        "remaining_time": 4.423664161,
                        "test": [
                          0.2816435414
                        ]
                      },
                      {
                        "learn": [
                          0.2463151743
                        ],
                        "iteration": 930,
                        "passed_time": 58.82254109,
                        "remaining_time": 4.359565344,
                        "test": [
                          0.2816558206
                        ]
                      },
                      {
                        "learn": [
                          0.2462715302
                        ],
                        "iteration": 931,
                        "passed_time": 58.87755672,
                        "remaining_time": 4.2957874,
                        "test": [
                          0.2816459161
                        ]
                      },
                      {
                        "learn": [
                          0.246226091
                        ],
                        "iteration": 932,
                        "passed_time": 58.92443656,
                        "remaining_time": 4.231443998,
                        "test": [
                          0.2816380653
                        ]
                      },
                      {
                        "learn": [
                          0.246185952
                        ],
                        "iteration": 933,
                        "passed_time": 58.98142882,
                        "remaining_time": 4.167852572,
                        "test": [
                          0.2816325549
                        ]
                      },
                      {
                        "learn": [
                          0.2461257264
                        ],
                        "iteration": 934,
                        "passed_time": 59.04133779,
                        "remaining_time": 4.104478028,
                        "test": [
                          0.2815509398
                        ]
                      },
                      {
                        "learn": [
                          0.246115799
                        ],
                        "iteration": 935,
                        "passed_time": 59.08607952,
                        "remaining_time": 4.040073813,
                        "test": [
                          0.2815525694
                        ]
                      },
                      {
                        "learn": [
                          0.2460922686
                        ],
                        "iteration": 936,
                        "passed_time": 59.13877555,
                        "remaining_time": 3.976246382,
                        "test": [
                          0.2815586744
                        ]
                      },
                      {
                        "learn": [
                          0.2460731568
                        ],
                        "iteration": 937,
                        "passed_time": 59.2001976,
                        "remaining_time": 3.913019458,
                        "test": [
                          0.2815527414
                        ]
                      },
                      {
                        "learn": [
                          0.2460544214
                        ],
                        "iteration": 938,
                        "passed_time": 59.24778582,
                        "remaining_time": 3.848897694,
                        "test": [
                          0.2815593547
                        ]
                      },
                      {
                        "learn": [
                          0.2460331925
                        ],
                        "iteration": 939,
                        "passed_time": 59.29720039,
                        "remaining_time": 3.784927685,
                        "test": [
                          0.281561738
                        ]
                      },
                      {
                        "learn": [
                          0.246017395
                        ],
                        "iteration": 940,
                        "passed_time": 59.34487457,
                        "remaining_time": 3.72087949,
                        "test": [
                          0.2815625511
                        ]
                      },
                      {
                        "learn": [
                          0.2459687429
                        ],
                        "iteration": 941,
                        "passed_time": 59.41257567,
                        "remaining_time": 3.658099139,
                        "test": [
                          0.2815641474
                        ]
                      },
                      {
                        "learn": [
                          0.2459544778
                        ],
                        "iteration": 942,
                        "passed_time": 59.70678925,
                        "remaining_time": 3.608999987,
                        "test": [
                          0.2815721068
                        ]
                      },
                      {
                        "learn": [
                          0.2459108823
                        ],
                        "iteration": 943,
                        "passed_time": 59.75754971,
                        "remaining_time": 3.54493939,
                        "test": [
                          0.2815727673
                        ]
                      },
                      {
                        "learn": [
                          0.2458886352
                        ],
                        "iteration": 944,
                        "passed_time": 59.81421148,
                        "remaining_time": 3.481250404,
                        "test": [
                          0.2815875795
                        ]
                      },
                      {
                        "learn": [
                          0.2458631296
                        ],
                        "iteration": 945,
                        "passed_time": 59.87073172,
                        "remaining_time": 3.417568195,
                        "test": [
                          0.2815925159
                        ]
                      },
                      {
                        "learn": [
                          0.2458302931
                        ],
                        "iteration": 946,
                        "passed_time": 59.92286366,
                        "remaining_time": 3.353655516,
                        "test": [
                          0.2816006161
                        ]
                      },
                      {
                        "learn": [
                          0.2458116773
                        ],
                        "iteration": 947,
                        "passed_time": 59.97668936,
                        "remaining_time": 3.289860598,
                        "test": [
                          0.2815945506
                        ]
                      },
                      {
                        "learn": [
                          0.2457930143
                        ],
                        "iteration": 948,
                        "passed_time": 60.01803595,
                        "remaining_time": 3.225416052,
                        "test": [
                          0.2815942721
                        ]
                      },
                      {
                        "learn": [
                          0.2457234385
                        ],
                        "iteration": 949,
                        "passed_time": 60.06960518,
                        "remaining_time": 3.161558167,
                        "test": [
                          0.2816119539
                        ]
                      },
                      {
                        "learn": [
                          0.2456823909
                        ],
                        "iteration": 950,
                        "passed_time": 60.1319723,
                        "remaining_time": 3.098282484,
                        "test": [
                          0.2816078299
                        ]
                      },
                      {
                        "learn": [
                          0.2456632249
                        ],
                        "iteration": 951,
                        "passed_time": 60.18569503,
                        "remaining_time": 3.034572859,
                        "test": [
                          0.2816055726
                        ]
                      },
                      {
                        "learn": [
                          0.2456347595
                        ],
                        "iteration": 952,
                        "passed_time": 60.2282351,
                        "remaining_time": 2.970332686,
                        "test": [
                          0.2816091356
                        ]
                      },
                      {
                        "learn": [
                          0.2456251079
                        ],
                        "iteration": 953,
                        "passed_time": 60.28213617,
                        "remaining_time": 2.906685811,
                        "test": [
                          0.2816065604
                        ]
                      },
                      {
                        "learn": [
                          0.245618906
                        ],
                        "iteration": 954,
                        "passed_time": 60.33692691,
                        "remaining_time": 2.843101268,
                        "test": [
                          0.2816049241
                        ]
                      },
                      {
                        "learn": [
                          0.2456017149
                        ],
                        "iteration": 955,
                        "passed_time": 60.39414086,
                        "remaining_time": 2.779646651,
                        "test": [
                          0.2815982049
                        ]
                      },
                      {
                        "learn": [
                          0.2455707342
                        ],
                        "iteration": 956,
                        "passed_time": 60.45662754,
                        "remaining_time": 2.71644199,
                        "test": [
                          0.28160308
                        ]
                      },
                      {
                        "learn": [
                          0.2455505127
                        ],
                        "iteration": 957,
                        "passed_time": 60.50765197,
                        "remaining_time": 2.652736308,
                        "test": [
                          0.2815969751
                        ]
                      },
                      {
                        "learn": [
                          0.2455167033
                        ],
                        "iteration": 958,
                        "passed_time": 60.56403791,
                        "remaining_time": 2.589286292,
                        "test": [
                          0.2815978288
                        ]
                      },
                      {
                        "learn": [
                          0.2455037867
                        ],
                        "iteration": 959,
                        "passed_time": 60.61551195,
                        "remaining_time": 2.525646331,
                        "test": [
                          0.2815968846
                        ]
                      },
                      {
                        "learn": [
                          0.2454807683
                        ],
                        "iteration": 960,
                        "passed_time": 60.71127416,
                        "remaining_time": 2.463829024,
                        "test": [
                          0.2816024558
                        ]
                      },
                      {
                        "learn": [
                          0.245451348
                        ],
                        "iteration": 961,
                        "passed_time": 60.78329851,
                        "remaining_time": 2.401003476,
                        "test": [
                          0.2816000196
                        ]
                      },
                      {
                        "learn": [
                          0.2454288148
                        ],
                        "iteration": 962,
                        "passed_time": 60.83328728,
                        "remaining_time": 2.33731218,
                        "test": [
                          0.281607674
                        ]
                      },
                      {
                        "learn": [
                          0.2453712204
                        ],
                        "iteration": 963,
                        "passed_time": 60.88265887,
                        "remaining_time": 2.273626265,
                        "test": [
                          0.2816160073
                        ]
                      },
                      {
                        "learn": [
                          0.245353483
                        ],
                        "iteration": 964,
                        "passed_time": 60.92931612,
                        "remaining_time": 2.209871569,
                        "test": [
                          0.2816337271
                        ]
                      },
                      {
                        "learn": [
                          0.2453454415
                        ],
                        "iteration": 965,
                        "passed_time": 60.97893299,
                        "remaining_time": 2.146256441,
                        "test": [
                          0.2816320505
                        ]
                      },
                      {
                        "learn": [
                          0.2453277419
                        ],
                        "iteration": 966,
                        "passed_time": 61.02315693,
                        "remaining_time": 2.082486224,
                        "test": [
                          0.2816213899
                        ]
                      },
                      {
                        "learn": [
                          0.2453130516
                        ],
                        "iteration": 967,
                        "passed_time": 61.07861683,
                        "remaining_time": 2.019127829,
                        "test": [
                          0.2816076944
                        ]
                      },
                      {
                        "learn": [
                          0.2453023818
                        ],
                        "iteration": 968,
                        "passed_time": 61.13825802,
                        "remaining_time": 1.955919503,
                        "test": [
                          0.2816083036
                        ]
                      },
                      {
                        "learn": [
                          0.24528801
                        ],
                        "iteration": 969,
                        "passed_time": 61.18759707,
                        "remaining_time": 1.892399909,
                        "test": [
                          0.2816100384
                        ]
                      },
                      {
                        "learn": [
                          0.2452546273
                        ],
                        "iteration": 970,
                        "passed_time": 61.23670783,
                        "remaining_time": 1.828902706,
                        "test": [
                          0.2816147058
                        ]
                      },
                      {
                        "learn": [
                          0.2452202879
                        ],
                        "iteration": 971,
                        "passed_time": 61.28867751,
                        "remaining_time": 1.765517459,
                        "test": [
                          0.281604075
                        ]
                      },
                      {
                        "learn": [
                          0.2452026503
                        ],
                        "iteration": 972,
                        "passed_time": 61.34088299,
                        "remaining_time": 1.702162221,
                        "test": [
                          0.2816072747
                        ]
                      },
                      {
                        "learn": [
                          0.2451556481
                        ],
                        "iteration": 973,
                        "passed_time": 61.39518928,
                        "remaining_time": 1.638885956,
                        "test": [
                          0.281619398
                        ]
                      },
                      {
                        "learn": [
                          0.2451064037
                        ],
                        "iteration": 974,
                        "passed_time": 61.46604179,
                        "remaining_time": 1.576052353,
                        "test": [
                          0.2816137341
                        ]
                      },
                      {
                        "learn": [
                          0.245098572
                        ],
                        "iteration": 975,
                        "passed_time": 61.51262018,
                        "remaining_time": 1.512605414,
                        "test": [
                          0.2816123664
                        ]
                      },
                      {
                        "learn": [
                          0.245056124
                        ],
                        "iteration": 976,
                        "passed_time": 61.55926188,
                        "remaining_time": 1.449194497,
                        "test": [
                          0.2816037738
                        ]
                      },
                      {
                        "learn": [
                          0.2450511236
                        ],
                        "iteration": 977,
                        "passed_time": 61.60996624,
                        "remaining_time": 1.385909261,
                        "test": [
                          0.2816040097
                        ]
                      },
                      {
                        "learn": [
                          0.2449976349
                        ],
                        "iteration": 978,
                        "passed_time": 61.65953248,
                        "remaining_time": 1.322625314,
                        "test": [
                          0.2815991787
                        ]
                      },
                      {
                        "learn": [
                          0.2449790902
                        ],
                        "iteration": 979,
                        "passed_time": 61.75291064,
                        "remaining_time": 1.260263483,
                        "test": [
                          0.281596427
                        ]
                      },
                      {
                        "learn": [
                          0.2449677482
                        ],
                        "iteration": 980,
                        "passed_time": 61.82967645,
                        "remaining_time": 1.197516669,
                        "test": [
                          0.281602278
                        ]
                      },
                      {
                        "learn": [
                          0.2449532079
                        ],
                        "iteration": 981,
                        "passed_time": 61.87788552,
                        "remaining_time": 1.134217861,
                        "test": [
                          0.2816034961
                        ]
                      },
                      {
                        "learn": [
                          0.2449380015
                        ],
                        "iteration": 982,
                        "passed_time": 61.92962385,
                        "remaining_time": 1.071010789,
                        "test": [
                          0.2816160667
                        ]
                      },
                      {
                        "learn": [
                          0.2449145486
                        ],
                        "iteration": 983,
                        "passed_time": 61.97589813,
                        "remaining_time": 1.007738181,
                        "test": [
                          0.2816131612
                        ]
                      },
                      {
                        "learn": [
                          0.2448799149
                        ],
                        "iteration": 984,
                        "passed_time": 62.02527828,
                        "remaining_time": 0.944547385,
                        "test": [
                          0.2816166238
                        ]
                      },
                      {
                        "learn": [
                          0.244852724
                        ],
                        "iteration": 985,
                        "passed_time": 62.07723025,
                        "remaining_time": 0.8814211192,
                        "test": [
                          0.2816062222
                        ]
                      },
                      {
                        "learn": [
                          0.2448242282
                        ],
                        "iteration": 986,
                        "passed_time": 62.13008781,
                        "remaining_time": 0.8183294241,
                        "test": [
                          0.2816117124
                        ]
                      },
                      {
                        "learn": [
                          0.2448112416
                        ],
                        "iteration": 987,
                        "passed_time": 62.18138218,
                        "remaining_time": 0.7552394597,
                        "test": [
                          0.2816127836
                        ]
                      },
                      {
                        "learn": [
                          0.24473384
                        ],
                        "iteration": 988,
                        "passed_time": 62.23688553,
                        "remaining_time": 0.6922201626,
                        "test": [
                          0.281603038
                        ]
                      },
                      {
                        "learn": [
                          0.2447093126
                        ],
                        "iteration": 989,
                        "passed_time": 62.29732099,
                        "remaining_time": 0.6292658686,
                        "test": [
                          0.2815982083
                        ]
                      },
                      {
                        "learn": [
                          0.2447017673
                        ],
                        "iteration": 990,
                        "passed_time": 62.34984505,
                        "remaining_time": 0.5662448087,
                        "test": [
                          0.2815967538
                        ]
                      },
                      {
                        "learn": [
                          0.2446825416
                        ],
                        "iteration": 991,
                        "passed_time": 62.39649047,
                        "remaining_time": 0.5031975038,
                        "test": [
                          0.2816120911
                        ]
                      },
                      {
                        "learn": [
                          0.2446631448
                        ],
                        "iteration": 992,
                        "passed_time": 62.47109519,
                        "remaining_time": 0.4403803286,
                        "test": [
                          0.2816029305
                        ]
                      },
                      {
                        "learn": [
                          0.2446536454
                        ],
                        "iteration": 993,
                        "passed_time": 62.52061921,
                        "remaining_time": 0.3773880435,
                        "test": [
                          0.2815972337
                        ]
                      },
                      {
                        "learn": [
                          0.2446157803
                        ],
                        "iteration": 994,
                        "passed_time": 62.56647338,
                        "remaining_time": 0.3144043889,
                        "test": [
                          0.2815935519
                        ]
                      },
                      {
                        "learn": [
                          0.2445880595
                        ],
                        "iteration": 995,
                        "passed_time": 62.61759366,
                        "remaining_time": 0.2514762798,
                        "test": [
                          0.2815882358
                        ]
                      },
                      {
                        "learn": [
                          0.2445505578
                        ],
                        "iteration": 996,
                        "passed_time": 62.67115883,
                        "remaining_time": 0.1885792141,
                        "test": [
                          0.281579467
                        ]
                      },
                      {
                        "learn": [
                          0.2445196181
                        ],
                        "iteration": 997,
                        "passed_time": 62.71987793,
                        "remaining_time": 0.1256911381,
                        "test": [
                          0.2815978672
                        ]
                      },
                      {
                        "learn": [
                          0.244497965
                        ],
                        "iteration": 998,
                        "passed_time": 62.80752135,
                        "remaining_time": 0.06287039175,
                        "test": [
                          0.281588025
                        ]
                      },
                      {
                        "learn": [
                          0.2444922282
                        ],
                        "iteration": 999,
                        "passed_time": 62.89043154,
                        "remaining_time": 0,
                        "test": [
                          0.2815865714
                        ]
                      }
                    ],
                    "meta": {
                      "test_sets": [
                        "test"
                      ],
                      "test_metrics": [
                        {
                          "best_value": "Min",
                          "name": "Logloss"
                        }
                      ],
                      "learn_metrics": [
                        {
                          "best_value": "Min",
                          "name": "Logloss"
                        }
                      ],
                      "launch_mode": "Train",
                      "parameters": "",
                      "iteration_count": 1000,
                      "learn_sets": [
                        "learn"
                      ],
                      "name": "experiment"
                    }
                  }
                }
              },
              "catboost_info/fold-1": {
                "path": "catboost_info/fold-1",
                "name": "fold-1",
                "content": {
                  "passed_iterations": 897,
                  "total_iterations": 1000,
                  "data": {
                    "iterations": [
                      {
                        "learn": [
                          0.6626297224
                        ],
                        "iteration": 0,
                        "passed_time": 0.06036702978,
                        "remaining_time": 60.30666275,
                        "test": [
                          0.6628951891
                        ]
                      },
                      {
                        "learn": [
                          0.6330189646
                        ],
                        "iteration": 1,
                        "passed_time": 0.1167353336,
                        "remaining_time": 58.25093145,
                        "test": [
                          0.633455233
                        ]
                      },
                      {
                        "learn": [
                          0.6099047117
                        ],
                        "iteration": 2,
                        "passed_time": 0.1551145144,
                        "remaining_time": 51.54972361,
                        "test": [
                          0.6106638886
                        ]
                      },
                      {
                        "learn": [
                          0.5846933505
                        ],
                        "iteration": 3,
                        "passed_time": 0.2001737818,
                        "remaining_time": 49.84327166,
                        "test": [
                          0.5857121722
                        ]
                      },
                      {
                        "learn": [
                          0.5646835344
                        ],
                        "iteration": 4,
                        "passed_time": 0.2533662342,
                        "remaining_time": 50.4198806,
                        "test": [
                          0.5657703847
                        ]
                      },
                      {
                        "learn": [
                          0.5439048426
                        ],
                        "iteration": 5,
                        "passed_time": 0.2985836665,
                        "remaining_time": 49.46536075,
                        "test": [
                          0.5453480434
                        ]
                      },
                      {
                        "learn": [
                          0.5242143174
                        ],
                        "iteration": 6,
                        "passed_time": 0.3521467774,
                        "remaining_time": 49.95453571,
                        "test": [
                          0.5259609932
                        ]
                      },
                      {
                        "learn": [
                          0.5099029891
                        ],
                        "iteration": 7,
                        "passed_time": 0.3895540553,
                        "remaining_time": 48.30470285,
                        "test": [
                          0.511693545
                        ]
                      },
                      {
                        "learn": [
                          0.4950004362
                        ],
                        "iteration": 8,
                        "passed_time": 0.4375763936,
                        "remaining_time": 48.1820229,
                        "test": [
                          0.4970265141
                        ]
                      },
                      {
                        "learn": [
                          0.4817017767
                        ],
                        "iteration": 9,
                        "passed_time": 0.4832658439,
                        "remaining_time": 47.84331855,
                        "test": [
                          0.4839318534
                        ]
                      },
                      {
                        "learn": [
                          0.4691236611
                        ],
                        "iteration": 10,
                        "passed_time": 0.5526055283,
                        "remaining_time": 49.68426068,
                        "test": [
                          0.4714927497
                        ]
                      },
                      {
                        "learn": [
                          0.4565653732
                        ],
                        "iteration": 11,
                        "passed_time": 0.5933821652,
                        "remaining_time": 48.8551316,
                        "test": [
                          0.4589770331
                        ]
                      },
                      {
                        "learn": [
                          0.4460277191
                        ],
                        "iteration": 12,
                        "passed_time": 0.6366367679,
                        "remaining_time": 48.3354223,
                        "test": [
                          0.448597436
                        ]
                      },
                      {
                        "learn": [
                          0.4357369026
                        ],
                        "iteration": 13,
                        "passed_time": 0.6889110906,
                        "remaining_time": 48.51902395,
                        "test": [
                          0.438363829
                        ]
                      },
                      {
                        "learn": [
                          0.4263470986
                        ],
                        "iteration": 14,
                        "passed_time": 0.7342474687,
                        "remaining_time": 48.21558378,
                        "test": [
                          0.4290074782
                        ]
                      },
                      {
                        "learn": [
                          0.4181974676
                        ],
                        "iteration": 15,
                        "passed_time": 0.7810540229,
                        "remaining_time": 48.03482241,
                        "test": [
                          0.4208369269
                        ]
                      },
                      {
                        "learn": [
                          0.4103128939
                        ],
                        "iteration": 16,
                        "passed_time": 0.8250499277,
                        "remaining_time": 47.70729876,
                        "test": [
                          0.4128911395
                        ]
                      },
                      {
                        "learn": [
                          0.403047685
                        ],
                        "iteration": 17,
                        "passed_time": 0.8792491639,
                        "remaining_time": 47.96792661,
                        "test": [
                          0.4057113668
                        ]
                      },
                      {
                        "learn": [
                          0.3974027627
                        ],
                        "iteration": 18,
                        "passed_time": 0.9691146046,
                        "remaining_time": 50.03691721,
                        "test": [
                          0.4002088575
                        ]
                      },
                      {
                        "learn": [
                          0.3913556208
                        ],
                        "iteration": 19,
                        "passed_time": 1.023172667,
                        "remaining_time": 50.13546069,
                        "test": [
                          0.3942515012
                        ]
                      },
                      {
                        "learn": [
                          0.3863548098
                        ],
                        "iteration": 20,
                        "passed_time": 1.071517424,
                        "remaining_time": 49.95312182,
                        "test": [
                          0.3893300739
                        ]
                      },
                      {
                        "learn": [
                          0.3813195971
                        ],
                        "iteration": 21,
                        "passed_time": 1.116856999,
                        "remaining_time": 49.64937022,
                        "test": [
                          0.3843421194
                        ]
                      },
                      {
                        "learn": [
                          0.3769011396
                        ],
                        "iteration": 22,
                        "passed_time": 1.16525471,
                        "remaining_time": 49.49799357,
                        "test": [
                          0.3801212793
                        ]
                      },
                      {
                        "learn": [
                          0.3731463978
                        ],
                        "iteration": 23,
                        "passed_time": 1.216107992,
                        "remaining_time": 49.45505833,
                        "test": [
                          0.3764715746
                        ]
                      },
                      {
                        "learn": [
                          0.3698816303
                        ],
                        "iteration": 24,
                        "passed_time": 1.263277885,
                        "remaining_time": 49.26783752,
                        "test": [
                          0.3732297423
                        ]
                      },
                      {
                        "learn": [
                          0.3663371622
                        ],
                        "iteration": 25,
                        "passed_time": 1.310690994,
                        "remaining_time": 49.1005011,
                        "test": [
                          0.3697721152
                        ]
                      },
                      {
                        "learn": [
                          0.3626206627
                        ],
                        "iteration": 26,
                        "passed_time": 1.3671053,
                        "remaining_time": 49.26642434,
                        "test": [
                          0.3662287531
                        ]
                      },
                      {
                        "learn": [
                          0.3603981773
                        ],
                        "iteration": 27,
                        "passed_time": 1.421573096,
                        "remaining_time": 49.34889462,
                        "test": [
                          0.3640067703
                        ]
                      },
                      {
                        "learn": [
                          0.3570076829
                        ],
                        "iteration": 28,
                        "passed_time": 1.468583184,
                        "remaining_time": 49.17221625,
                        "test": [
                          0.3607246118
                        ]
                      },
                      {
                        "learn": [
                          0.3539641672
                        ],
                        "iteration": 29,
                        "passed_time": 1.520627186,
                        "remaining_time": 49.16694569,
                        "test": [
                          0.3577369887
                        ]
                      },
                      {
                        "learn": [
                          0.3513467563
                        ],
                        "iteration": 30,
                        "passed_time": 1.586466516,
                        "remaining_time": 49.5898727,
                        "test": [
                          0.3552572465
                        ]
                      },
                      {
                        "learn": [
                          0.3485875953
                        ],
                        "iteration": 31,
                        "passed_time": 1.634381143,
                        "remaining_time": 49.44002956,
                        "test": [
                          0.3526305507
                        ]
                      },
                      {
                        "learn": [
                          0.3459388832
                        ],
                        "iteration": 32,
                        "passed_time": 1.687176941,
                        "remaining_time": 49.43939703,
                        "test": [
                          0.3501397238
                        ]
                      },
                      {
                        "learn": [
                          0.3438740703
                        ],
                        "iteration": 33,
                        "passed_time": 1.744083165,
                        "remaining_time": 49.55248051,
                        "test": [
                          0.3481016751
                        ]
                      },
                      {
                        "learn": [
                          0.3419879066
                        ],
                        "iteration": 34,
                        "passed_time": 1.789306754,
                        "remaining_time": 49.33374336,
                        "test": [
                          0.3462995248
                        ]
                      },
                      {
                        "learn": [
                          0.3402777238
                        ],
                        "iteration": 35,
                        "passed_time": 1.830041998,
                        "remaining_time": 49.00445796,
                        "test": [
                          0.3446287634
                        ]
                      },
                      {
                        "learn": [
                          0.3386459798
                        ],
                        "iteration": 36,
                        "passed_time": 1.873726595,
                        "remaining_time": 48.76753273,
                        "test": [
                          0.343033472
                        ]
                      },
                      {
                        "learn": [
                          0.3368596981
                        ],
                        "iteration": 37,
                        "passed_time": 1.968755748,
                        "remaining_time": 49.84060604,
                        "test": [
                          0.3412597751
                        ]
                      },
                      {
                        "learn": [
                          0.3354916726
                        ],
                        "iteration": 38,
                        "passed_time": 2.040454712,
                        "remaining_time": 50.27889687,
                        "test": [
                          0.3399349122
                        ]
                      },
                      {
                        "learn": [
                          0.3340108646
                        ],
                        "iteration": 39,
                        "passed_time": 2.094667918,
                        "remaining_time": 50.27203004,
                        "test": [
                          0.3385509463
                        ]
                      },
                      {
                        "learn": [
                          0.3326462591
                        ],
                        "iteration": 40,
                        "passed_time": 2.153793779,
                        "remaining_time": 50.37776181,
                        "test": [
                          0.3373291829
                        ]
                      },
                      {
                        "learn": [
                          0.3314144857
                        ],
                        "iteration": 41,
                        "passed_time": 2.212069202,
                        "remaining_time": 50.45624513,
                        "test": [
                          0.3361934538
                        ]
                      },
                      {
                        "learn": [
                          0.3303364969
                        ],
                        "iteration": 42,
                        "passed_time": 2.266429514,
                        "remaining_time": 50.4412336,
                        "test": [
                          0.3351832756
                        ]
                      },
                      {
                        "learn": [
                          0.329220965
                        ],
                        "iteration": 43,
                        "passed_time": 2.308933343,
                        "remaining_time": 50.16682444,
                        "test": [
                          0.3341277707
                        ]
                      },
                      {
                        "learn": [
                          0.3278259363
                        ],
                        "iteration": 44,
                        "passed_time": 2.362377,
                        "remaining_time": 50.13488967,
                        "test": [
                          0.3327876506
                        ]
                      },
                      {
                        "learn": [
                          0.3265109078
                        ],
                        "iteration": 45,
                        "passed_time": 2.408371229,
                        "remaining_time": 49.94752504,
                        "test": [
                          0.3315106599
                        ]
                      },
                      {
                        "learn": [
                          0.325639474
                        ],
                        "iteration": 46,
                        "passed_time": 2.464900472,
                        "remaining_time": 49.97979043,
                        "test": [
                          0.3306376829
                        ]
                      },
                      {
                        "learn": [
                          0.3246998087
                        ],
                        "iteration": 47,
                        "passed_time": 2.515164489,
                        "remaining_time": 49.8840957,
                        "test": [
                          0.3297340767
                        ]
                      },
                      {
                        "learn": [
                          0.3236231153
                        ],
                        "iteration": 48,
                        "passed_time": 2.55996572,
                        "remaining_time": 49.68423265,
                        "test": [
                          0.3287520386
                        ]
                      },
                      {
                        "learn": [
                          0.3227719124
                        ],
                        "iteration": 49,
                        "passed_time": 2.627618948,
                        "remaining_time": 49.92476001,
                        "test": [
                          0.3279831345
                        ]
                      },
                      {
                        "learn": [
                          0.321785103
                        ],
                        "iteration": 50,
                        "passed_time": 2.676513712,
                        "remaining_time": 49.8041473,
                        "test": [
                          0.327071222
                        ]
                      },
                      {
                        "learn": [
                          0.3206428237
                        ],
                        "iteration": 51,
                        "passed_time": 2.736968619,
                        "remaining_time": 49.89704329,
                        "test": [
                          0.3259906636
                        ]
                      },
                      {
                        "learn": [
                          0.320062788
                        ],
                        "iteration": 52,
                        "passed_time": 2.790339908,
                        "remaining_time": 49.85758288,
                        "test": [
                          0.3254146746
                        ]
                      },
                      {
                        "learn": [
                          0.3191642886
                        ],
                        "iteration": 53,
                        "passed_time": 2.833808259,
                        "remaining_time": 49.64412246,
                        "test": [
                          0.3245437443
                        ]
                      },
                      {
                        "learn": [
                          0.3185521279
                        ],
                        "iteration": 54,
                        "passed_time": 2.884088851,
                        "remaining_time": 49.55389027,
                        "test": [
                          0.3239874636
                        ]
                      },
                      {
                        "learn": [
                          0.3176659249
                        ],
                        "iteration": 55,
                        "passed_time": 2.933283561,
                        "remaining_time": 49.44678002,
                        "test": [
                          0.3231984146
                        ]
                      },
                      {
                        "learn": [
                          0.3169400097
                        ],
                        "iteration": 56,
                        "passed_time": 3.025022075,
                        "remaining_time": 50.04554064,
                        "test": [
                          0.3225278572
                        ]
                      },
                      {
                        "learn": [
                          0.31630766
                        ],
                        "iteration": 57,
                        "passed_time": 3.096069209,
                        "remaining_time": 50.2844344,
                        "test": [
                          0.3220075808
                        ]
                      },
                      {
                        "learn": [
                          0.3156435999
                        ],
                        "iteration": 58,
                        "passed_time": 3.151374604,
                        "remaining_time": 50.26175428,
                        "test": [
                          0.3213773902
                        ]
                      },
                      {
                        "learn": [
                          0.3147733999
                        ],
                        "iteration": 59,
                        "passed_time": 3.20268234,
                        "remaining_time": 50.17535666,
                        "test": [
                          0.3205278519
                        ]
                      },
                      {
                        "learn": [
                          0.3142095254
                        ],
                        "iteration": 60,
                        "passed_time": 3.251215429,
                        "remaining_time": 50.04739817,
                        "test": [
                          0.3200713704
                        ]
                      },
                      {
                        "learn": [
                          0.3136348351
                        ],
                        "iteration": 61,
                        "passed_time": 3.298082939,
                        "remaining_time": 49.89680317,
                        "test": [
                          0.3195927461
                        ]
                      },
                      {
                        "learn": [
                          0.3131720295
                        ],
                        "iteration": 62,
                        "passed_time": 3.352378263,
                        "remaining_time": 49.85997512,
                        "test": [
                          0.3191972059
                        ]
                      },
                      {
                        "learn": [
                          0.3126908804
                        ],
                        "iteration": 63,
                        "passed_time": 3.403401557,
                        "remaining_time": 49.77474777,
                        "test": [
                          0.3187929482
                        ]
                      },
                      {
                        "learn": [
                          0.3121623728
                        ],
                        "iteration": 64,
                        "passed_time": 3.451083164,
                        "remaining_time": 49.64250397,
                        "test": [
                          0.3183214717
                        ]
                      },
                      {
                        "learn": [
                          0.3117118874
                        ],
                        "iteration": 65,
                        "passed_time": 3.498424097,
                        "remaining_time": 49.50800161,
                        "test": [
                          0.3179462543
                        ]
                      },
                      {
                        "learn": [
                          0.3113633449
                        ],
                        "iteration": 66,
                        "passed_time": 3.542289557,
                        "remaining_time": 49.32770383,
                        "test": [
                          0.3176178349
                        ]
                      },
                      {
                        "learn": [
                          0.3109104194
                        ],
                        "iteration": 67,
                        "passed_time": 3.591593315,
                        "remaining_time": 49.22595544,
                        "test": [
                          0.3172216992
                        ]
                      },
                      {
                        "learn": [
                          0.3104633699
                        ],
                        "iteration": 68,
                        "passed_time": 3.651312484,
                        "remaining_time": 49.26625974,
                        "test": [
                          0.316830811
                        ]
                      },
                      {
                        "learn": [
                          0.3098591463
                        ],
                        "iteration": 69,
                        "passed_time": 3.709776236,
                        "remaining_time": 49.28702714,
                        "test": [
                          0.3162835583
                        ]
                      },
                      {
                        "learn": [
                          0.3093842063
                        ],
                        "iteration": 70,
                        "passed_time": 3.763434711,
                        "remaining_time": 49.24268797,
                        "test": [
                          0.3159299971
                        ]
                      },
                      {
                        "learn": [
                          0.308742572
                        ],
                        "iteration": 71,
                        "passed_time": 3.817142429,
                        "remaining_time": 49.19872464,
                        "test": [
                          0.3153759905
                        ]
                      },
                      {
                        "learn": [
                          0.3084680369
                        ],
                        "iteration": 72,
                        "passed_time": 3.859721687,
                        "remaining_time": 49.01317814,
                        "test": [
                          0.3151767967
                        ]
                      },
                      {
                        "learn": [
                          0.3080651624
                        ],
                        "iteration": 73,
                        "passed_time": 3.904818289,
                        "remaining_time": 48.86299643,
                        "test": [
                          0.3149046555
                        ]
                      },
                      {
                        "learn": [
                          0.3075612788
                        ],
                        "iteration": 74,
                        "passed_time": 3.951214372,
                        "remaining_time": 48.73164392,
                        "test": [
                          0.3144830342
                        ]
                      },
                      {
                        "learn": [
                          0.3070697884
                        ],
                        "iteration": 75,
                        "passed_time": 4.004517531,
                        "remaining_time": 48.68650262,
                        "test": [
                          0.3140912692
                        ]
                      },
                      {
                        "learn": [
                          0.3066786579
                        ],
                        "iteration": 76,
                        "passed_time": 4.114041982,
                        "remaining_time": 49.31507466,
                        "test": [
                          0.313768088
                        ]
                      },
                      {
                        "learn": [
                          0.3063950385
                        ],
                        "iteration": 77,
                        "passed_time": 4.166856372,
                        "remaining_time": 49.25437916,
                        "test": [
                          0.3135643131
                        ]
                      },
                      {
                        "learn": [
                          0.306021592
                        ],
                        "iteration": 78,
                        "passed_time": 4.215277082,
                        "remaining_time": 49.14266066,
                        "test": [
                          0.3132601634
                        ]
                      },
                      {
                        "learn": [
                          0.3056133734
                        ],
                        "iteration": 79,
                        "passed_time": 4.260243573,
                        "remaining_time": 48.99280109,
                        "test": [
                          0.3128687731
                        ]
                      },
                      {
                        "learn": [
                          0.3052792754
                        ],
                        "iteration": 80,
                        "passed_time": 4.304001548,
                        "remaining_time": 48.83182003,
                        "test": [
                          0.312613889
                        ]
                      },
                      {
                        "learn": [
                          0.3049080045
                        ],
                        "iteration": 81,
                        "passed_time": 4.353214857,
                        "remaining_time": 48.73477121,
                        "test": [
                          0.3122736661
                        ]
                      },
                      {
                        "learn": [
                          0.3045193014
                        ],
                        "iteration": 82,
                        "passed_time": 4.410090135,
                        "remaining_time": 48.72352595,
                        "test": [
                          0.311903901
                        ]
                      },
                      {
                        "learn": [
                          0.3042480935
                        ],
                        "iteration": 83,
                        "passed_time": 4.464516533,
                        "remaining_time": 48.68448981,
                        "test": [
                          0.3116866778
                        ]
                      },
                      {
                        "learn": [
                          0.3040215433
                        ],
                        "iteration": 84,
                        "passed_time": 4.515468598,
                        "remaining_time": 48.60769137,
                        "test": [
                          0.3115402471
                        ]
                      },
                      {
                        "learn": [
                          0.303919064
                        ],
                        "iteration": 85,
                        "passed_time": 4.547785076,
                        "remaining_time": 48.33343674,
                        "test": [
                          0.3114564653
                        ]
                      },
                      {
                        "learn": [
                          0.3036356439
                        ],
                        "iteration": 86,
                        "passed_time": 4.597312748,
                        "remaining_time": 48.24536252,
                        "test": [
                          0.3112584255
                        ]
                      },
                      {
                        "learn": [
                          0.3031554781
                        ],
                        "iteration": 87,
                        "passed_time": 4.668825985,
                        "remaining_time": 48.38601475,
                        "test": [
                          0.3108056525
                        ]
                      },
                      {
                        "learn": [
                          0.3029063466
                        ],
                        "iteration": 88,
                        "passed_time": 4.726144286,
                        "remaining_time": 48.3766005,
                        "test": [
                          0.3106035405
                        ]
                      },
                      {
                        "learn": [
                          0.302647167
                        ],
                        "iteration": 89,
                        "passed_time": 4.77244654,
                        "remaining_time": 48.25473724,
                        "test": [
                          0.310390324
                        ]
                      },
                      {
                        "learn": [
                          0.3024072262
                        ],
                        "iteration": 90,
                        "passed_time": 4.820069151,
                        "remaining_time": 48.14772372,
                        "test": [
                          0.3102588973
                        ]
                      },
                      {
                        "learn": [
                          0.3022142035
                        ],
                        "iteration": 91,
                        "passed_time": 4.870682761,
                        "remaining_time": 48.07152117,
                        "test": [
                          0.3100765238
                        ]
                      },
                      {
                        "learn": [
                          0.3019284138
                        ],
                        "iteration": 92,
                        "passed_time": 4.91781964,
                        "remaining_time": 47.96196143,
                        "test": [
                          0.309864492
                        ]
                      },
                      {
                        "learn": [
                          0.3016286293
                        ],
                        "iteration": 93,
                        "passed_time": 4.972655583,
                        "remaining_time": 47.92793572,
                        "test": [
                          0.3095932117
                        ]
                      },
                      {
                        "learn": [
                          0.3012084569
                        ],
                        "iteration": 94,
                        "passed_time": 5.024893499,
                        "remaining_time": 47.86872228,
                        "test": [
                          0.309270399
                        ]
                      },
                      {
                        "learn": [
                          0.3010453443
                        ],
                        "iteration": 95,
                        "passed_time": 5.06790304,
                        "remaining_time": 47.72275363,
                        "test": [
                          0.3091571288
                        ]
                      },
                      {
                        "learn": [
                          0.3008670594
                        ],
                        "iteration": 96,
                        "passed_time": 5.172249057,
                        "remaining_time": 48.14990617,
                        "test": [
                          0.3090558448
                        ]
                      },
                      {
                        "learn": [
                          0.3004996281
                        ],
                        "iteration": 97,
                        "passed_time": 5.239561424,
                        "remaining_time": 48.22535107,
                        "test": [
                          0.3087521038
                        ]
                      },
                      {
                        "learn": [
                          0.3001314748
                        ],
                        "iteration": 98,
                        "passed_time": 5.293300424,
                        "remaining_time": 48.17438063,
                        "test": [
                          0.3084151358
                        ]
                      },
                      {
                        "learn": [
                          0.2999165874
                        ],
                        "iteration": 99,
                        "passed_time": 5.339045344,
                        "remaining_time": 48.0514081,
                        "test": [
                          0.3082222139
                        ]
                      },
                      {
                        "learn": [
                          0.2997705119
                        ],
                        "iteration": 100,
                        "passed_time": 5.38737481,
                        "remaining_time": 47.95296984,
                        "test": [
                          0.308136267
                        ]
                      },
                      {
                        "learn": [
                          0.2994693746
                        ],
                        "iteration": 101,
                        "passed_time": 5.439891061,
                        "remaining_time": 47.89237424,
                        "test": [
                          0.3079153083
                        ]
                      },
                      {
                        "learn": [
                          0.2992783247
                        ],
                        "iteration": 102,
                        "passed_time": 5.487545449,
                        "remaining_time": 47.78959484,
                        "test": [
                          0.3077738541
                        ]
                      },
                      {
                        "learn": [
                          0.2990981402
                        ],
                        "iteration": 103,
                        "passed_time": 5.531471437,
                        "remaining_time": 47.65575392,
                        "test": [
                          0.3076345478
                        ]
                      },
                      {
                        "learn": [
                          0.2986838715
                        ],
                        "iteration": 104,
                        "passed_time": 5.577775397,
                        "remaining_time": 47.54389505,
                        "test": [
                          0.3072954682
                        ]
                      },
                      {
                        "learn": [
                          0.2984410632
                        ],
                        "iteration": 105,
                        "passed_time": 5.631478691,
                        "remaining_time": 47.49567877,
                        "test": [
                          0.3071322369
                        ]
                      },
                      {
                        "learn": [
                          0.2982246591
                        ],
                        "iteration": 106,
                        "passed_time": 5.695160993,
                        "remaining_time": 47.53064268,
                        "test": [
                          0.3070216642
                        ]
                      },
                      {
                        "learn": [
                          0.2980693697
                        ],
                        "iteration": 107,
                        "passed_time": 5.760401473,
                        "remaining_time": 47.57664921,
                        "test": [
                          0.306923366
                        ]
                      },
                      {
                        "learn": [
                          0.2979154581
                        ],
                        "iteration": 108,
                        "passed_time": 5.841083581,
                        "remaining_time": 47.74683918,
                        "test": [
                          0.3068373866
                        ]
                      },
                      {
                        "learn": [
                          0.2975778711
                        ],
                        "iteration": 109,
                        "passed_time": 5.921632146,
                        "remaining_time": 47.91138737,
                        "test": [
                          0.3065646152
                        ]
                      },
                      {
                        "learn": [
                          0.2972166727
                        ],
                        "iteration": 110,
                        "passed_time": 6.012206776,
                        "remaining_time": 48.15181823,
                        "test": [
                          0.3062991632
                        ]
                      },
                      {
                        "learn": [
                          0.297000571
                        ],
                        "iteration": 111,
                        "passed_time": 6.091331201,
                        "remaining_time": 48.29555452,
                        "test": [
                          0.306104755
                        ]
                      },
                      {
                        "learn": [
                          0.2968063212
                        ],
                        "iteration": 112,
                        "passed_time": 6.260194675,
                        "remaining_time": 49.1397582,
                        "test": [
                          0.3059218329
                        ]
                      },
                      {
                        "learn": [
                          0.2962827455
                        ],
                        "iteration": 113,
                        "passed_time": 6.371103163,
                        "remaining_time": 49.51576669,
                        "test": [
                          0.30541732
                        ]
                      },
                      {
                        "learn": [
                          0.2960735924
                        ],
                        "iteration": 114,
                        "passed_time": 6.474990342,
                        "remaining_time": 49.82927351,
                        "test": [
                          0.3052004822
                        ]
                      },
                      {
                        "learn": [
                          0.2958845535
                        ],
                        "iteration": 115,
                        "passed_time": 6.581565593,
                        "remaining_time": 50.15606883,
                        "test": [
                          0.3050987776
                        ]
                      },
                      {
                        "learn": [
                          0.2957551415
                        ],
                        "iteration": 116,
                        "passed_time": 6.660238327,
                        "remaining_time": 50.26487558,
                        "test": [
                          0.3049776962
                        ]
                      },
                      {
                        "learn": [
                          0.2954759848
                        ],
                        "iteration": 117,
                        "passed_time": 6.773316833,
                        "remaining_time": 50.62767328,
                        "test": [
                          0.3048044232
                        ]
                      },
                      {
                        "learn": [
                          0.2952743639
                        ],
                        "iteration": 118,
                        "passed_time": 6.869246446,
                        "remaining_time": 50.8555136,
                        "test": [
                          0.3046738012
                        ]
                      },
                      {
                        "learn": [
                          0.2948900028
                        ],
                        "iteration": 119,
                        "passed_time": 6.967278797,
                        "remaining_time": 51.09337785,
                        "test": [
                          0.3043342259
                        ]
                      },
                      {
                        "learn": [
                          0.294737285
                        ],
                        "iteration": 120,
                        "passed_time": 7.049742863,
                        "remaining_time": 51.21259485,
                        "test": [
                          0.3042614696
                        ]
                      },
                      {
                        "learn": [
                          0.2945457922
                        ],
                        "iteration": 121,
                        "passed_time": 7.126018454,
                        "remaining_time": 51.28396887,
                        "test": [
                          0.3041409849
                        ]
                      },
                      {
                        "learn": [
                          0.2944008772
                        ],
                        "iteration": 122,
                        "passed_time": 7.229636781,
                        "remaining_time": 51.54789803,
                        "test": [
                          0.3040348252
                        ]
                      },
                      {
                        "learn": [
                          0.2941289452
                        ],
                        "iteration": 123,
                        "passed_time": 7.367917559,
                        "remaining_time": 52.05077243,
                        "test": [
                          0.3037540134
                        ]
                      },
                      {
                        "learn": [
                          0.2938357937
                        ],
                        "iteration": 124,
                        "passed_time": 7.505628759,
                        "remaining_time": 52.53940131,
                        "test": [
                          0.303487224
                        ]
                      },
                      {
                        "learn": [
                          0.293717211
                        ],
                        "iteration": 125,
                        "passed_time": 7.596741009,
                        "remaining_time": 52.6948543,
                        "test": [
                          0.3034196896
                        ]
                      },
                      {
                        "learn": [
                          0.293248649
                        ],
                        "iteration": 126,
                        "passed_time": 7.713118945,
                        "remaining_time": 53.02010109,
                        "test": [
                          0.3029811105
                        ]
                      },
                      {
                        "learn": [
                          0.2928679666
                        ],
                        "iteration": 127,
                        "passed_time": 7.806290829,
                        "remaining_time": 53.18035627,
                        "test": [
                          0.3026624514
                        ]
                      },
                      {
                        "learn": [
                          0.2925834246
                        ],
                        "iteration": 128,
                        "passed_time": 7.905334036,
                        "remaining_time": 53.37632516,
                        "test": [
                          0.3024352296
                        ]
                      },
                      {
                        "learn": [
                          0.2923052973
                        ],
                        "iteration": 129,
                        "passed_time": 8.011543472,
                        "remaining_time": 53.61571401,
                        "test": [
                          0.3021804292
                        ]
                      },
                      {
                        "learn": [
                          0.2920798018
                        ],
                        "iteration": 130,
                        "passed_time": 8.090505954,
                        "remaining_time": 53.66908148,
                        "test": [
                          0.3020436127
                        ]
                      },
                      {
                        "learn": [
                          0.2919020123
                        ],
                        "iteration": 131,
                        "passed_time": 8.184517235,
                        "remaining_time": 53.81940121,
                        "test": [
                          0.3018942214
                        ]
                      },
                      {
                        "learn": [
                          0.2918359217
                        ],
                        "iteration": 132,
                        "passed_time": 8.266694873,
                        "remaining_time": 53.88890568,
                        "test": [
                          0.3018508352
                        ]
                      },
                      {
                        "learn": [
                          0.2916581999
                        ],
                        "iteration": 133,
                        "passed_time": 8.376645487,
                        "remaining_time": 54.13563427,
                        "test": [
                          0.3016934743
                        ]
                      },
                      {
                        "learn": [
                          0.2915524943
                        ],
                        "iteration": 134,
                        "passed_time": 8.545883218,
                        "remaining_time": 54.75695543,
                        "test": [
                          0.3015963427
                        ]
                      },
                      {
                        "learn": [
                          0.2913560109
                        ],
                        "iteration": 135,
                        "passed_time": 8.651049187,
                        "remaining_time": 54.9596066,
                        "test": [
                          0.3014229949
                        ]
                      },
                      {
                        "learn": [
                          0.2912068949
                        ],
                        "iteration": 136,
                        "passed_time": 8.741176555,
                        "remaining_time": 55.06303187,
                        "test": [
                          0.3013092522
                        ]
                      },
                      {
                        "learn": [
                          0.2910541774
                        ],
                        "iteration": 137,
                        "passed_time": 8.826049065,
                        "remaining_time": 55.13082822,
                        "test": [
                          0.3012539345
                        ]
                      },
                      {
                        "learn": [
                          0.2909518504
                        ],
                        "iteration": 138,
                        "passed_time": 8.925270049,
                        "remaining_time": 55.28530584,
                        "test": [
                          0.3011976221
                        ]
                      },
                      {
                        "learn": [
                          0.2907862999
                        ],
                        "iteration": 139,
                        "passed_time": 9.026859123,
                        "remaining_time": 55.45070604,
                        "test": [
                          0.3010747251
                        ]
                      },
                      {
                        "learn": [
                          0.2906183476
                        ],
                        "iteration": 140,
                        "passed_time": 9.117956528,
                        "remaining_time": 55.54840183,
                        "test": [
                          0.3009244272
                        ]
                      },
                      {
                        "learn": [
                          0.2905491589
                        ],
                        "iteration": 141,
                        "passed_time": 9.206904062,
                        "remaining_time": 55.63044849,
                        "test": [
                          0.3009015627
                        ]
                      },
                      {
                        "learn": [
                          0.2904650389
                        ],
                        "iteration": 142,
                        "passed_time": 9.306969605,
                        "remaining_time": 55.77673393,
                        "test": [
                          0.3008572169
                        ]
                      },
                      {
                        "learn": [
                          0.2903002121
                        ],
                        "iteration": 143,
                        "passed_time": 9.409605751,
                        "remaining_time": 55.93487863,
                        "test": [
                          0.3006434527
                        ]
                      },
                      {
                        "learn": [
                          0.2900049856
                        ],
                        "iteration": 144,
                        "passed_time": 9.478342977,
                        "remaining_time": 55.88953962,
                        "test": [
                          0.300392413
                        ]
                      },
                      {
                        "learn": [
                          0.2899180933
                        ],
                        "iteration": 145,
                        "passed_time": 9.524912431,
                        "remaining_time": 55.71421381,
                        "test": [
                          0.3003406821
                        ]
                      },
                      {
                        "learn": [
                          0.2898202115
                        ],
                        "iteration": 146,
                        "passed_time": 9.636735114,
                        "remaining_time": 55.91928607,
                        "test": [
                          0.300302816
                        ]
                      },
                      {
                        "learn": [
                          0.2896755066
                        ],
                        "iteration": 147,
                        "passed_time": 9.709725219,
                        "remaining_time": 55.89652626,
                        "test": [
                          0.3001952416
                        ]
                      },
                      {
                        "learn": [
                          0.2895415064
                        ],
                        "iteration": 148,
                        "passed_time": 9.756606016,
                        "remaining_time": 55.72397127,
                        "test": [
                          0.3001074867
                        ]
                      },
                      {
                        "learn": [
                          0.289423752
                        ],
                        "iteration": 149,
                        "passed_time": 9.80910948,
                        "remaining_time": 55.58495372,
                        "test": [
                          0.3000723125
                        ]
                      },
                      {
                        "learn": [
                          0.2892422684
                        ],
                        "iteration": 150,
                        "passed_time": 9.861458778,
                        "remaining_time": 55.44621525,
                        "test": [
                          0.2998519345
                        ]
                      },
                      {
                        "learn": [
                          0.2890967063
                        ],
                        "iteration": 151,
                        "passed_time": 9.918608102,
                        "remaining_time": 55.33539257,
                        "test": [
                          0.2997470058
                        ]
                      },
                      {
                        "learn": [
                          0.2888929844
                        ],
                        "iteration": 152,
                        "passed_time": 9.97399793,
                        "remaining_time": 55.21553102,
                        "test": [
                          0.29963885
                        ]
                      },
                      {
                        "learn": [
                          0.2887825318
                        ],
                        "iteration": 153,
                        "passed_time": 10.02041649,
                        "remaining_time": 55.04722303,
                        "test": [
                          0.2996025114
                        ]
                      },
                      {
                        "learn": [
                          0.2886466278
                        ],
                        "iteration": 154,
                        "passed_time": 10.07324692,
                        "remaining_time": 54.91544287,
                        "test": [
                          0.2994978824
                        ]
                      },
                      {
                        "learn": [
                          0.288557201
                        ],
                        "iteration": 155,
                        "passed_time": 10.11806199,
                        "remaining_time": 54.74130974,
                        "test": [
                          0.2994578982
                        ]
                      },
                      {
                        "learn": [
                          0.288411005
                        ],
                        "iteration": 156,
                        "passed_time": 10.16644459,
                        "remaining_time": 54.58797955,
                        "test": [
                          0.2993551431
                        ]
                      },
                      {
                        "learn": [
                          0.2882097084
                        ],
                        "iteration": 157,
                        "passed_time": 10.21682609,
                        "remaining_time": 54.44663017,
                        "test": [
                          0.2991689593
                        ]
                      },
                      {
                        "learn": [
                          0.2878775278
                        ],
                        "iteration": 158,
                        "passed_time": 10.27387167,
                        "remaining_time": 54.34167343,
                        "test": [
                          0.298846356
                        ]
                      },
                      {
                        "learn": [
                          0.2877565894
                        ],
                        "iteration": 159,
                        "passed_time": 10.32252526,
                        "remaining_time": 54.19325759,
                        "test": [
                          0.2987684324
                        ]
                      },
                      {
                        "learn": [
                          0.2875982988
                        ],
                        "iteration": 160,
                        "passed_time": 10.36486628,
                        "remaining_time": 54.01318517,
                        "test": [
                          0.2986832196
                        ]
                      },
                      {
                        "learn": [
                          0.2875320521
                        ],
                        "iteration": 161,
                        "passed_time": 10.4092907,
                        "remaining_time": 53.84559016,
                        "test": [
                          0.2986738032
                        ]
                      },
                      {
                        "learn": [
                          0.2873733066
                        ],
                        "iteration": 162,
                        "passed_time": 10.45947879,
                        "remaining_time": 53.70910275,
                        "test": [
                          0.2985550116
                        ]
                      },
                      {
                        "learn": [
                          0.2872419893
                        ],
                        "iteration": 163,
                        "passed_time": 10.51061919,
                        "remaining_time": 53.57852223,
                        "test": [
                          0.2984945273
                        ]
                      },
                      {
                        "learn": [
                          0.2871045932
                        ],
                        "iteration": 164,
                        "passed_time": 10.55251494,
                        "remaining_time": 53.40212107,
                        "test": [
                          0.2984205081
                        ]
                      },
                      {
                        "learn": [
                          0.2869744604
                        ],
                        "iteration": 165,
                        "passed_time": 10.61577032,
                        "remaining_time": 53.33465327,
                        "test": [
                          0.2983256676
                        ]
                      },
                      {
                        "learn": [
                          0.2868567087
                        ],
                        "iteration": 166,
                        "passed_time": 10.72043588,
                        "remaining_time": 53.47379094,
                        "test": [
                          0.2982228713
                        ]
                      },
                      {
                        "learn": [
                          0.286744335
                        ],
                        "iteration": 167,
                        "passed_time": 10.76918465,
                        "remaining_time": 53.33310495,
                        "test": [
                          0.2981381447
                        ]
                      },
                      {
                        "learn": [
                          0.2866696882
                        ],
                        "iteration": 168,
                        "passed_time": 10.81450559,
                        "remaining_time": 53.17665174,
                        "test": [
                          0.2981103744
                        ]
                      },
                      {
                        "learn": [
                          0.2865683469
                        ],
                        "iteration": 169,
                        "passed_time": 10.85784666,
                        "remaining_time": 53.01183959,
                        "test": [
                          0.2980781184
                        ]
                      },
                      {
                        "learn": [
                          0.286454634
                        ],
                        "iteration": 170,
                        "passed_time": 10.90944989,
                        "remaining_time": 52.88850267,
                        "test": [
                          0.2980313346
                        ]
                      },
                      {
                        "learn": [
                          0.2863904562
                        ],
                        "iteration": 171,
                        "passed_time": 10.96731245,
                        "remaining_time": 52.79613203,
                        "test": [
                          0.2980244728
                        ]
                      },
                      {
                        "learn": [
                          0.2863814022
                        ],
                        "iteration": 172,
                        "passed_time": 10.9853581,
                        "remaining_time": 52.51382166,
                        "test": [
                          0.2980137225
                        ]
                      },
                      {
                        "learn": [
                          0.286276129
                        ],
                        "iteration": 173,
                        "passed_time": 11.0331815,
                        "remaining_time": 52.3759076,
                        "test": [
                          0.2979820134
                        ]
                      },
                      {
                        "learn": [
                          0.2862015285
                        ],
                        "iteration": 174,
                        "passed_time": 11.08396179,
                        "remaining_time": 52.25296272,
                        "test": [
                          0.2979431467
                        ]
                      },
                      {
                        "learn": [
                          0.2861203992
                        ],
                        "iteration": 175,
                        "passed_time": 11.14443027,
                        "remaining_time": 52.17619627,
                        "test": [
                          0.2978709613
                        ]
                      },
                      {
                        "learn": [
                          0.2860078131
                        ],
                        "iteration": 176,
                        "passed_time": 11.19823447,
                        "remaining_time": 52.06862695,
                        "test": [
                          0.2978188353
                        ]
                      },
                      {
                        "learn": [
                          0.2859564573
                        ],
                        "iteration": 177,
                        "passed_time": 11.24198156,
                        "remaining_time": 51.91521824,
                        "test": [
                          0.2978055224
                        ]
                      },
                      {
                        "learn": [
                          0.2858271168
                        ],
                        "iteration": 178,
                        "passed_time": 11.2889266,
                        "remaining_time": 51.77770246,
                        "test": [
                          0.2977159035
                        ]
                      },
                      {
                        "learn": [
                          0.285746137
                        ],
                        "iteration": 179,
                        "passed_time": 11.33636719,
                        "remaining_time": 51.64345051,
                        "test": [
                          0.2976777871
                        ]
                      },
                      {
                        "learn": [
                          0.2857000709
                        ],
                        "iteration": 180,
                        "passed_time": 11.3777877,
                        "remaining_time": 51.48291783,
                        "test": [
                          0.2976603616
                        ]
                      },
                      {
                        "learn": [
                          0.285583607
                        ],
                        "iteration": 181,
                        "passed_time": 11.42457335,
                        "remaining_time": 51.34780772,
                        "test": [
                          0.2976362199
                        ]
                      },
                      {
                        "learn": [
                          0.2855490137
                        ],
                        "iteration": 182,
                        "passed_time": 11.47481648,
                        "remaining_time": 51.22909871,
                        "test": [
                          0.2976284407
                        ]
                      },
                      {
                        "learn": [
                          0.2854074058
                        ],
                        "iteration": 183,
                        "passed_time": 11.52660466,
                        "remaining_time": 51.1179859,
                        "test": [
                          0.2975173564
                        ]
                      },
                      {
                        "learn": [
                          0.2852969605
                        ],
                        "iteration": 184,
                        "passed_time": 11.57400641,
                        "remaining_time": 50.9881904,
                        "test": [
                          0.2974886125
                        ]
                      },
                      {
                        "learn": [
                          0.2852115896
                        ],
                        "iteration": 185,
                        "passed_time": 11.63248167,
                        "remaining_time": 50.90774237,
                        "test": [
                          0.2974375849
                        ]
                      },
                      {
                        "learn": [
                          0.2851523504
                        ],
                        "iteration": 186,
                        "passed_time": 11.73836779,
                        "remaining_time": 51.03365246,
                        "test": [
                          0.2974276853
                        ]
                      },
                      {
                        "learn": [
                          0.2848136445
                        ],
                        "iteration": 187,
                        "passed_time": 11.83222062,
                        "remaining_time": 51.1051231,
                        "test": [
                          0.2971197076
                        ]
                      },
                      {
                        "learn": [
                          0.2847203685
                        ],
                        "iteration": 188,
                        "passed_time": 11.88296329,
                        "remaining_time": 50.98985836,
                        "test": [
                          0.2970907079
                        ]
                      },
                      {
                        "learn": [
                          0.28453671
                        ],
                        "iteration": 189,
                        "passed_time": 11.93081025,
                        "remaining_time": 50.8629279,
                        "test": [
                          0.2969165149
                        ]
                      },
                      {
                        "learn": [
                          0.2843741104
                        ],
                        "iteration": 190,
                        "passed_time": 11.98185797,
                        "remaining_time": 50.75038272,
                        "test": [
                          0.2967978427
                        ]
                      },
                      {
                        "learn": [
                          0.2843171545
                        ],
                        "iteration": 191,
                        "passed_time": 12.04323507,
                        "remaining_time": 50.68194759,
                        "test": [
                          0.2967532756
                        ]
                      },
                      {
                        "learn": [
                          0.2842402738
                        ],
                        "iteration": 192,
                        "passed_time": 12.09574418,
                        "remaining_time": 50.57650545,
                        "test": [
                          0.2967087483
                        ]
                      },
                      {
                        "learn": [
                          0.2841839039
                        ],
                        "iteration": 193,
                        "passed_time": 12.13762137,
                        "remaining_time": 50.42743725,
                        "test": [
                          0.2966955715
                        ]
                      },
                      {
                        "learn": [
                          0.2841072909
                        ],
                        "iteration": 194,
                        "passed_time": 12.18655583,
                        "remaining_time": 50.30860225,
                        "test": [
                          0.2966373785
                        ]
                      },
                      {
                        "learn": [
                          0.2840121235
                        ],
                        "iteration": 195,
                        "passed_time": 12.24315456,
                        "remaining_time": 50.22191973,
                        "test": [
                          0.2965718655
                        ]
                      },
                      {
                        "learn": [
                          0.2839929087
                        ],
                        "iteration": 196,
                        "passed_time": 12.29202197,
                        "remaining_time": 50.10402862,
                        "test": [
                          0.2965536812
                        ]
                      },
                      {
                        "learn": [
                          0.2838639788
                        ],
                        "iteration": 197,
                        "passed_time": 12.33906431,
                        "remaining_time": 49.97944229,
                        "test": [
                          0.2964794093
                        ]
                      },
                      {
                        "learn": [
                          0.2837631777
                        ],
                        "iteration": 198,
                        "passed_time": 12.39067634,
                        "remaining_time": 49.87402887,
                        "test": [
                          0.2964559133
                        ]
                      },
                      {
                        "learn": [
                          0.283680005
                        ],
                        "iteration": 199,
                        "passed_time": 12.4387114,
                        "remaining_time": 49.7548456,
                        "test": [
                          0.296429973
                        ]
                      },
                      {
                        "learn": [
                          0.2836514422
                        ],
                        "iteration": 200,
                        "passed_time": 12.46301797,
                        "remaining_time": 49.54204654,
                        "test": [
                          0.2964046273
                        ]
                      },
                      {
                        "learn": [
                          0.2833152068
                        ],
                        "iteration": 201,
                        "passed_time": 12.5189643,
                        "remaining_time": 49.45610649,
                        "test": [
                          0.2960944609
                        ]
                      },
                      {
                        "learn": [
                          0.2831302498
                        ],
                        "iteration": 202,
                        "passed_time": 12.5725533,
                        "remaining_time": 49.36120679,
                        "test": [
                          0.2959566176
                        ]
                      },
                      {
                        "learn": [
                          0.2830285574
                        ],
                        "iteration": 203,
                        "passed_time": 12.61912022,
                        "remaining_time": 49.23931221,
                        "test": [
                          0.2959323647
                        ]
                      },
                      {
                        "learn": [
                          0.2829802698
                        ],
                        "iteration": 204,
                        "passed_time": 12.67204205,
                        "remaining_time": 49.14279723,
                        "test": [
                          0.2959125416
                        ]
                      },
                      {
                        "learn": [
                          0.2829313649
                        ],
                        "iteration": 205,
                        "passed_time": 12.72754793,
                        "remaining_time": 49.05666531,
                        "test": [
                          0.2958990267
                        ]
                      },
                      {
                        "learn": [
                          0.2828386895
                        ],
                        "iteration": 206,
                        "passed_time": 12.78644305,
                        "remaining_time": 48.98381325,
                        "test": [
                          0.2958434407
                        ]
                      },
                      {
                        "learn": [
                          0.2827523511
                        ],
                        "iteration": 207,
                        "passed_time": 12.89744613,
                        "remaining_time": 49.10950643,
                        "test": [
                          0.2957882238
                        ]
                      },
                      {
                        "learn": [
                          0.2826526065
                        ],
                        "iteration": 208,
                        "passed_time": 12.93818953,
                        "remaining_time": 48.96702352,
                        "test": [
                          0.2957381142
                        ]
                      },
                      {
                        "learn": [
                          0.2825110389
                        ],
                        "iteration": 209,
                        "passed_time": 12.99081958,
                        "remaining_time": 48.87022605,
                        "test": [
                          0.2956636247
                        ]
                      },
                      {
                        "learn": [
                          0.2824384586
                        ],
                        "iteration": 210,
                        "passed_time": 13.0535763,
                        "remaining_time": 48.81171424,
                        "test": [
                          0.2956355398
                        ]
                      },
                      {
                        "learn": [
                          0.2820747409
                        ],
                        "iteration": 211,
                        "passed_time": 13.10620591,
                        "remaining_time": 48.71552008,
                        "test": [
                          0.2952951262
                        ]
                      },
                      {
                        "learn": [
                          0.281955666
                        ],
                        "iteration": 212,
                        "passed_time": 13.1577672,
                        "remaining_time": 48.61578773,
                        "test": [
                          0.2952585091
                        ]
                      },
                      {
                        "learn": [
                          0.2818903886
                        ],
                        "iteration": 213,
                        "passed_time": 13.21839643,
                        "remaining_time": 48.54981118,
                        "test": [
                          0.2952292262
                        ]
                      },
                      {
                        "learn": [
                          0.2818446656
                        ],
                        "iteration": 214,
                        "passed_time": 13.27278867,
                        "remaining_time": 48.46111213,
                        "test": [
                          0.295201039
                        ]
                      },
                      {
                        "learn": [
                          0.2817229974
                        ],
                        "iteration": 215,
                        "passed_time": 13.32569447,
                        "remaining_time": 48.36733548,
                        "test": [
                          0.295188212
                        ]
                      },
                      {
                        "learn": [
                          0.281661091
                        ],
                        "iteration": 216,
                        "passed_time": 13.37759899,
                        "remaining_time": 48.27032263,
                        "test": [
                          0.2951713453
                        ]
                      },
                      {
                        "learn": [
                          0.2815478774
                        ],
                        "iteration": 217,
                        "passed_time": 13.42705923,
                        "remaining_time": 48.1649556,
                        "test": [
                          0.2951471931
                        ]
                      },
                      {
                        "learn": [
                          0.2814494413
                        ],
                        "iteration": 218,
                        "passed_time": 13.47923613,
                        "remaining_time": 48.06978731,
                        "test": [
                          0.2951127675
                        ]
                      },
                      {
                        "learn": [
                          0.2813963629
                        ],
                        "iteration": 219,
                        "passed_time": 13.52100203,
                        "remaining_time": 47.93809811,
                        "test": [
                          0.2951049306
                        ]
                      },
                      {
                        "learn": [
                          0.281366997
                        ],
                        "iteration": 220,
                        "passed_time": 13.553679,
                        "remaining_time": 47.77518527,
                        "test": [
                          0.2950848521
                        ]
                      },
                      {
                        "learn": [
                          0.2810675655
                        ],
                        "iteration": 221,
                        "passed_time": 13.61365591,
                        "remaining_time": 47.70911846,
                        "test": [
                          0.2947859849
                        ]
                      },
                      {
                        "learn": [
                          0.2810476761
                        ],
                        "iteration": 222,
                        "passed_time": 13.63224038,
                        "remaining_time": 47.49888241,
                        "test": [
                          0.2947741116
                        ]
                      },
                      {
                        "learn": [
                          0.2810016228
                        ],
                        "iteration": 223,
                        "passed_time": 13.68376912,
                        "remaining_time": 47.40448589,
                        "test": [
                          0.294777199
                        ]
                      },
                      {
                        "learn": [
                          0.2808988137
                        ],
                        "iteration": 224,
                        "passed_time": 13.73036392,
                        "remaining_time": 47.29347572,
                        "test": [
                          0.2947481858
                        ]
                      },
                      {
                        "learn": [
                          0.2807876042
                        ],
                        "iteration": 225,
                        "passed_time": 13.77834071,
                        "remaining_time": 47.18776863,
                        "test": [
                          0.2946663264
                        ]
                      },
                      {
                        "learn": [
                          0.2807771306
                        ],
                        "iteration": 226,
                        "passed_time": 13.80498825,
                        "remaining_time": 47.00993796,
                        "test": [
                          0.2946625921
                        ]
                      },
                      {
                        "learn": [
                          0.2807522546
                        ],
                        "iteration": 227,
                        "passed_time": 13.91728509,
                        "remaining_time": 47.12343897,
                        "test": [
                          0.2946701576
                        ]
                      },
                      {
                        "learn": [
                          0.2806693806
                        ],
                        "iteration": 228,
                        "passed_time": 13.97049728,
                        "remaining_time": 47.03604105,
                        "test": [
                          0.2946490967
                        ]
                      },
                      {
                        "learn": [
                          0.2806259112
                        ],
                        "iteration": 229,
                        "passed_time": 14.01751722,
                        "remaining_time": 46.92820982,
                        "test": [
                          0.2946332798
                        ]
                      },
                      {
                        "learn": [
                          0.2805798268
                        ],
                        "iteration": 230,
                        "passed_time": 14.08239049,
                        "remaining_time": 46.8803389,
                        "test": [
                          0.2946069536
                        ]
                      },
                      {
                        "learn": [
                          0.2804687923
                        ],
                        "iteration": 231,
                        "passed_time": 14.12804323,
                        "remaining_time": 46.76869483,
                        "test": [
                          0.2946112311
                        ]
                      },
                      {
                        "learn": [
                          0.2803907251
                        ],
                        "iteration": 232,
                        "passed_time": 14.17137365,
                        "remaining_time": 46.6499725,
                        "test": [
                          0.2946054589
                        ]
                      },
                      {
                        "learn": [
                          0.2802880263
                        ],
                        "iteration": 233,
                        "passed_time": 14.22886264,
                        "remaining_time": 46.57824265,
                        "test": [
                          0.2945912772
                        ]
                      },
                      {
                        "learn": [
                          0.2802497608
                        ],
                        "iteration": 234,
                        "passed_time": 14.27520524,
                        "remaining_time": 46.47034896,
                        "test": [
                          0.2945545786
                        ]
                      },
                      {
                        "learn": [
                          0.2801922572
                        ],
                        "iteration": 235,
                        "passed_time": 14.32175806,
                        "remaining_time": 46.36365746,
                        "test": [
                          0.2945323876
                        ]
                      },
                      {
                        "learn": [
                          0.2801594901
                        ],
                        "iteration": 236,
                        "passed_time": 14.36915795,
                        "remaining_time": 46.26020049,
                        "test": [
                          0.29450398
                        ]
                      },
                      {
                        "learn": [
                          0.2800698453
                        ],
                        "iteration": 237,
                        "passed_time": 14.4190735,
                        "remaining_time": 46.16526893,
                        "test": [
                          0.2944724821
                        ]
                      },
                      {
                        "learn": [
                          0.2799409724
                        ],
                        "iteration": 238,
                        "passed_time": 14.47450299,
                        "remaining_time": 46.08827102,
                        "test": [
                          0.2943710722
                        ]
                      },
                      {
                        "learn": [
                          0.2798669663
                        ],
                        "iteration": 239,
                        "passed_time": 14.52240555,
                        "remaining_time": 45.98761757,
                        "test": [
                          0.2943590787
                        ]
                      },
                      {
                        "learn": [
                          0.2797898944
                        ],
                        "iteration": 240,
                        "passed_time": 14.5723056,
                        "remaining_time": 45.89369275,
                        "test": [
                          0.2943039026
                        ]
                      },
                      {
                        "learn": [
                          0.2797097896
                        ],
                        "iteration": 241,
                        "passed_time": 14.61294142,
                        "remaining_time": 45.77111404,
                        "test": [
                          0.2942712937
                        ]
                      },
                      {
                        "learn": [
                          0.2796310304
                        ],
                        "iteration": 242,
                        "passed_time": 14.66819028,
                        "remaining_time": 45.69473268,
                        "test": [
                          0.2942538728
                        ]
                      },
                      {
                        "learn": [
                          0.279555266
                        ],
                        "iteration": 243,
                        "passed_time": 14.73431521,
                        "remaining_time": 45.65222253,
                        "test": [
                          0.2942051875
                        ]
                      },
                      {
                        "learn": [
                          0.2794790517
                        ],
                        "iteration": 244,
                        "passed_time": 14.77667323,
                        "remaining_time": 45.53627874,
                        "test": [
                          0.2941492003
                        ]
                      },
                      {
                        "learn": [
                          0.2794219419
                        ],
                        "iteration": 245,
                        "passed_time": 14.82677568,
                        "remaining_time": 45.44467018,
                        "test": [
                          0.2941364102
                        ]
                      },
                      {
                        "learn": [
                          0.2793851115
                        ],
                        "iteration": 246,
                        "passed_time": 14.86391164,
                        "remaining_time": 45.31386828,
                        "test": [
                          0.2941212592
                        ]
                      },
                      {
                        "learn": [
                          0.2793353536
                        ],
                        "iteration": 247,
                        "passed_time": 15.18117358,
                        "remaining_time": 46.03323601,
                        "test": [
                          0.294104733
                        ]
                      },
                      {
                        "learn": [
                          0.279138428
                        ],
                        "iteration": 248,
                        "passed_time": 15.24009462,
                        "remaining_time": 45.96510467,
                        "test": [
                          0.2939244738
                        ]
                      },
                      {
                        "learn": [
                          0.2790718867
                        ],
                        "iteration": 249,
                        "passed_time": 15.2880395,
                        "remaining_time": 45.8641185,
                        "test": [
                          0.2938933766
                        ]
                      },
                      {
                        "learn": [
                          0.2790430816
                        ],
                        "iteration": 250,
                        "passed_time": 15.3323928,
                        "remaining_time": 45.75283749,
                        "test": [
                          0.2938899759
                        ]
                      },
                      {
                        "learn": [
                          0.2789758156
                        ],
                        "iteration": 251,
                        "passed_time": 15.37940089,
                        "remaining_time": 45.64996771,
                        "test": [
                          0.2938892471
                        ]
                      },
                      {
                        "learn": [
                          0.2788758651
                        ],
                        "iteration": 252,
                        "passed_time": 15.42015286,
                        "remaining_time": 45.52906793,
                        "test": [
                          0.2938887373
                        ]
                      },
                      {
                        "learn": [
                          0.2787859332
                        ],
                        "iteration": 253,
                        "passed_time": 15.46477528,
                        "remaining_time": 45.42016676,
                        "test": [
                          0.2938886836
                        ]
                      },
                      {
                        "learn": [
                          0.2786876348
                        ],
                        "iteration": 254,
                        "passed_time": 15.51172281,
                        "remaining_time": 45.31856271,
                        "test": [
                          0.2938573532
                        ]
                      },
                      {
                        "learn": [
                          0.2784104093
                        ],
                        "iteration": 255,
                        "passed_time": 15.56362488,
                        "remaining_time": 45.2317848,
                        "test": [
                          0.2936175341
                        ]
                      },
                      {
                        "learn": [
                          0.2782814219
                        ],
                        "iteration": 256,
                        "passed_time": 15.61049752,
                        "remaining_time": 45.13073795,
                        "test": [
                          0.2935295353
                        ]
                      },
                      {
                        "learn": [
                          0.2781987046
                        ],
                        "iteration": 257,
                        "passed_time": 15.67026727,
                        "remaining_time": 45.06720277,
                        "test": [
                          0.293550885
                        ]
                      },
                      {
                        "learn": [
                          0.2778306859
                        ],
                        "iteration": 258,
                        "passed_time": 15.72725025,
                        "remaining_time": 44.99572368,
                        "test": [
                          0.293179293
                        ]
                      },
                      {
                        "learn": [
                          0.2778094231
                        ],
                        "iteration": 259,
                        "passed_time": 15.77845473,
                        "remaining_time": 44.90790962,
                        "test": [
                          0.2931717579
                        ]
                      },
                      {
                        "learn": [
                          0.2776849863
                        ],
                        "iteration": 260,
                        "passed_time": 15.82605898,
                        "remaining_time": 44.81018233,
                        "test": [
                          0.293075492
                        ]
                      },
                      {
                        "learn": [
                          0.2776036833
                        ],
                        "iteration": 261,
                        "passed_time": 15.87642504,
                        "remaining_time": 44.72061711,
                        "test": [
                          0.2930277408
                        ]
                      },
                      {
                        "learn": [
                          0.2775314923
                        ],
                        "iteration": 262,
                        "passed_time": 15.924452,
                        "remaining_time": 44.62479514,
                        "test": [
                          0.2929570492
                        ]
                      },
                      {
                        "learn": [
                          0.2774510462
                        ],
                        "iteration": 263,
                        "passed_time": 15.97023342,
                        "remaining_time": 44.52307498,
                        "test": [
                          0.2929313767
                        ]
                      },
                      {
                        "learn": [
                          0.2772374521
                        ],
                        "iteration": 264,
                        "passed_time": 16.02301014,
                        "remaining_time": 44.44117907,
                        "test": [
                          0.2927398852
                        ]
                      },
                      {
                        "learn": [
                          0.2771482307
                        ],
                        "iteration": 265,
                        "passed_time": 16.07323741,
                        "remaining_time": 44.35246714,
                        "test": [
                          0.2927038957
                        ]
                      },
                      {
                        "learn": [
                          0.2771108065
                        ],
                        "iteration": 266,
                        "passed_time": 16.14867791,
                        "remaining_time": 44.33326183,
                        "test": [
                          0.2927044697
                        ]
                      },
                      {
                        "learn": [
                          0.2770508154
                        ],
                        "iteration": 267,
                        "passed_time": 16.24858741,
                        "remaining_time": 44.38047009,
                        "test": [
                          0.2926839472
                        ]
                      },
                      {
                        "learn": [
                          0.2770170246
                        ],
                        "iteration": 268,
                        "passed_time": 16.30703274,
                        "remaining_time": 44.31390681,
                        "test": [
                          0.2926842162
                        ]
                      },
                      {
                        "learn": [
                          0.2769396369
                        ],
                        "iteration": 269,
                        "passed_time": 16.34690811,
                        "remaining_time": 44.19719599,
                        "test": [
                          0.2926912476
                        ]
                      },
                      {
                        "learn": [
                          0.2768804113
                        ],
                        "iteration": 270,
                        "passed_time": 16.38962069,
                        "remaining_time": 44.08868443,
                        "test": [
                          0.2926932547
                        ]
                      },
                      {
                        "learn": [
                          0.2768521257
                        ],
                        "iteration": 271,
                        "passed_time": 16.42944701,
                        "remaining_time": 43.9729317,
                        "test": [
                          0.2926951144
                        ]
                      },
                      {
                        "learn": [
                          0.2767809269
                        ],
                        "iteration": 272,
                        "passed_time": 16.48035502,
                        "remaining_time": 43.88724578,
                        "test": [
                          0.2926876091
                        ]
                      },
                      {
                        "learn": [
                          0.2767357902
                        ],
                        "iteration": 273,
                        "passed_time": 16.52961456,
                        "remaining_time": 43.79744588,
                        "test": [
                          0.2926735039
                        ]
                      },
                      {
                        "learn": [
                          0.2767022422
                        ],
                        "iteration": 274,
                        "passed_time": 16.57919514,
                        "remaining_time": 43.70878719,
                        "test": [
                          0.2926817829
                        ]
                      },
                      {
                        "learn": [
                          0.2766091011
                        ],
                        "iteration": 275,
                        "passed_time": 16.62935461,
                        "remaining_time": 43.62193021,
                        "test": [
                          0.2926250671
                        ]
                      },
                      {
                        "learn": [
                          0.2765707345
                        ],
                        "iteration": 276,
                        "passed_time": 16.66599293,
                        "remaining_time": 43.50004653,
                        "test": [
                          0.2926278219
                        ]
                      },
                      {
                        "learn": [
                          0.2765542483
                        ],
                        "iteration": 277,
                        "passed_time": 16.70171231,
                        "remaining_time": 43.37638952,
                        "test": [
                          0.2926249536
                        ]
                      },
                      {
                        "learn": [
                          0.2765001236
                        ],
                        "iteration": 278,
                        "passed_time": 16.74724508,
                        "remaining_time": 43.27872296,
                        "test": [
                          0.2925841686
                        ]
                      },
                      {
                        "learn": [
                          0.2763865852
                        ],
                        "iteration": 279,
                        "passed_time": 16.79310541,
                        "remaining_time": 43.18227105,
                        "test": [
                          0.2924777371
                        ]
                      },
                      {
                        "learn": [
                          0.2763289286
                        ],
                        "iteration": 280,
                        "passed_time": 16.84450403,
                        "remaining_time": 43.10035016,
                        "test": [
                          0.2924842226
                        ]
                      },
                      {
                        "learn": [
                          0.2762439842
                        ],
                        "iteration": 281,
                        "passed_time": 16.88954525,
                        "remaining_time": 43.00245917,
                        "test": [
                          0.2924017282
                        ]
                      },
                      {
                        "learn": [
                          0.2761974564
                        ],
                        "iteration": 282,
                        "passed_time": 16.92852022,
                        "remaining_time": 42.88957244,
                        "test": [
                          0.2923887118
                        ]
                      },
                      {
                        "learn": [
                          0.2761716517
                        ],
                        "iteration": 283,
                        "passed_time": 16.9771814,
                        "remaining_time": 42.80162636,
                        "test": [
                          0.2923725771
                        ]
                      },
                      {
                        "learn": [
                          0.2761474545
                        ],
                        "iteration": 284,
                        "passed_time": 17.02328744,
                        "remaining_time": 42.70754568,
                        "test": [
                          0.2923815494
                        ]
                      },
                      {
                        "learn": [
                          0.2761102505
                        ],
                        "iteration": 285,
                        "passed_time": 17.08837688,
                        "remaining_time": 42.66119262,
                        "test": [
                          0.2923999627
                        ]
                      },
                      {
                        "learn": [
                          0.2760722324
                        ],
                        "iteration": 286,
                        "passed_time": 17.15796233,
                        "remaining_time": 42.62587854,
                        "test": [
                          0.2924134272
                        ]
                      },
                      {
                        "learn": [
                          0.2760437884
                        ],
                        "iteration": 287,
                        "passed_time": 17.2853758,
                        "remaining_time": 42.73329017,
                        "test": [
                          0.2924125895
                        ]
                      },
                      {
                        "learn": [
                          0.2759415586
                        ],
                        "iteration": 288,
                        "passed_time": 17.43270631,
                        "remaining_time": 42.88807676,
                        "test": [
                          0.2924023107
                        ]
                      },
                      {
                        "learn": [
                          0.2759271866
                        ],
                        "iteration": 289,
                        "passed_time": 17.50231202,
                        "remaining_time": 42.85048804,
                        "test": [
                          0.2923856547
                        ]
                      },
                      {
                        "learn": [
                          0.2758045857
                        ],
                        "iteration": 290,
                        "passed_time": 17.6305892,
                        "remaining_time": 42.95562797,
                        "test": [
                          0.2923997464
                        ]
                      },
                      {
                        "learn": [
                          0.275701676
                        ],
                        "iteration": 291,
                        "passed_time": 17.71082687,
                        "remaining_time": 42.94268981,
                        "test": [
                          0.2923692076
                        ]
                      },
                      {
                        "learn": [
                          0.2756298808
                        ],
                        "iteration": 292,
                        "passed_time": 17.79773309,
                        "remaining_time": 42.94538326,
                        "test": [
                          0.2923290363
                        ]
                      },
                      {
                        "learn": [
                          0.2755607304
                        ],
                        "iteration": 293,
                        "passed_time": 17.93271202,
                        "remaining_time": 43.0629071,
                        "test": [
                          0.2923183524
                        ]
                      },
                      {
                        "learn": [
                          0.2754886013
                        ],
                        "iteration": 294,
                        "passed_time": 18.00291991,
                        "remaining_time": 43.02392724,
                        "test": [
                          0.2922885891
                        ]
                      },
                      {
                        "learn": [
                          0.2753706986
                        ],
                        "iteration": 295,
                        "passed_time": 18.13206867,
                        "remaining_time": 43.12492009,
                        "test": [
                          0.2922018687
                        ]
                      },
                      {
                        "learn": [
                          0.2751968244
                        ],
                        "iteration": 296,
                        "passed_time": 18.27487292,
                        "remaining_time": 43.25668573,
                        "test": [
                          0.2919545043
                        ]
                      },
                      {
                        "learn": [
                          0.2751055704
                        ],
                        "iteration": 297,
                        "passed_time": 18.45161921,
                        "remaining_time": 43.46656606,
                        "test": [
                          0.2919024658
                        ]
                      },
                      {
                        "learn": [
                          0.2750376342
                        ],
                        "iteration": 298,
                        "passed_time": 18.60131722,
                        "remaining_time": 43.61044607,
                        "test": [
                          0.2918771778
                        ]
                      },
                      {
                        "learn": [
                          0.2750236567
                        ],
                        "iteration": 299,
                        "passed_time": 18.68903385,
                        "remaining_time": 43.60774565,
                        "test": [
                          0.2918892113
                        ]
                      },
                      {
                        "learn": [
                          0.2750114085
                        ],
                        "iteration": 300,
                        "passed_time": 18.80288164,
                        "remaining_time": 43.66516367,
                        "test": [
                          0.2918825319
                        ]
                      },
                      {
                        "learn": [
                          0.274796962
                        ],
                        "iteration": 301,
                        "passed_time": 18.91181031,
                        "remaining_time": 43.71007814,
                        "test": [
                          0.2916964063
                        ]
                      },
                      {
                        "learn": [
                          0.2747044902
                        ],
                        "iteration": 302,
                        "passed_time": 18.97674135,
                        "remaining_time": 43.65276807,
                        "test": [
                          0.2916264598
                        ]
                      },
                      {
                        "learn": [
                          0.2746133313
                        ],
                        "iteration": 303,
                        "passed_time": 19.02626278,
                        "remaining_time": 43.56012793,
                        "test": [
                          0.2915852775
                        ]
                      },
                      {
                        "learn": [
                          0.2745586206
                        ],
                        "iteration": 304,
                        "passed_time": 19.08180566,
                        "remaining_time": 43.48149159,
                        "test": [
                          0.2915799809
                        ]
                      },
                      {
                        "learn": [
                          0.2744384733
                        ],
                        "iteration": 305,
                        "passed_time": 19.12809128,
                        "remaining_time": 43.38201095,
                        "test": [
                          0.2914881369
                        ]
                      },
                      {
                        "learn": [
                          0.2743838792
                        ],
                        "iteration": 306,
                        "passed_time": 19.17491621,
                        "remaining_time": 43.28409424,
                        "test": [
                          0.2914696339
                        ]
                      },
                      {
                        "learn": [
                          0.2743561046
                        ],
                        "iteration": 307,
                        "passed_time": 19.23212941,
                        "remaining_time": 43.20984918,
                        "test": [
                          0.2914441873
                        ]
                      },
                      {
                        "learn": [
                          0.2742653369
                        ],
                        "iteration": 308,
                        "passed_time": 19.28465107,
                        "remaining_time": 43.12522293,
                        "test": [
                          0.2913755081
                        ]
                      },
                      {
                        "learn": [
                          0.2741796724
                        ],
                        "iteration": 309,
                        "passed_time": 19.3367756,
                        "remaining_time": 43.03991988,
                        "test": [
                          0.2913374726
                        ]
                      },
                      {
                        "learn": [
                          0.2741236139
                        ],
                        "iteration": 310,
                        "passed_time": 19.38092996,
                        "remaining_time": 42.9371728,
                        "test": [
                          0.2913324496
                        ]
                      },
                      {
                        "learn": [
                          0.2740205672
                        ],
                        "iteration": 311,
                        "passed_time": 19.42585393,
                        "remaining_time": 42.83649841,
                        "test": [
                          0.2913073554
                        ]
                      },
                      {
                        "learn": [
                          0.2738559722
                        ],
                        "iteration": 312,
                        "passed_time": 19.61863345,
                        "remaining_time": 43.06070665,
                        "test": [
                          0.2911810481
                        ]
                      },
                      {
                        "learn": [
                          0.2738344258
                        ],
                        "iteration": 313,
                        "passed_time": 19.70214478,
                        "remaining_time": 43.04353923,
                        "test": [
                          0.2911824198
                        ]
                      },
                      {
                        "learn": [
                          0.2737728253
                        ],
                        "iteration": 314,
                        "passed_time": 19.7958838,
                        "remaining_time": 43.04819176,
                        "test": [
                          0.2911712874
                        ]
                      },
                      {
                        "learn": [
                          0.2737255236
                        ],
                        "iteration": 315,
                        "passed_time": 19.89159525,
                        "remaining_time": 43.05649099,
                        "test": [
                          0.2911518003
                        ]
                      },
                      {
                        "learn": [
                          0.2736846815
                        ],
                        "iteration": 316,
                        "passed_time": 19.97238232,
                        "remaining_time": 43.03197832,
                        "test": [
                          0.291163708
                        ]
                      },
                      {
                        "learn": [
                          0.2735794236
                        ],
                        "iteration": 317,
                        "passed_time": 20.06487232,
                        "remaining_time": 43.03221046,
                        "test": [
                          0.2910624546
                        ]
                      },
                      {
                        "learn": [
                          0.2735596858
                        ],
                        "iteration": 318,
                        "passed_time": 20.14476419,
                        "remaining_time": 43.00496682,
                        "test": [
                          0.291053129
                        ]
                      },
                      {
                        "learn": [
                          0.2734983747
                        ],
                        "iteration": 319,
                        "passed_time": 20.26403468,
                        "remaining_time": 43.06107369,
                        "test": [
                          0.2910432303
                        ]
                      },
                      {
                        "learn": [
                          0.2734917899
                        ],
                        "iteration": 320,
                        "passed_time": 20.3086668,
                        "remaining_time": 42.95820797,
                        "test": [
                          0.2910368034
                        ]
                      },
                      {
                        "learn": [
                          0.2734287599
                        ],
                        "iteration": 321,
                        "passed_time": 20.39111823,
                        "remaining_time": 42.93533591,
                        "test": [
                          0.2910182083
                        ]
                      },
                      {
                        "learn": [
                          0.2733546523
                        ],
                        "iteration": 322,
                        "passed_time": 20.50192687,
                        "remaining_time": 42.97153094,
                        "test": [
                          0.2910056524
                        ]
                      },
                      {
                        "learn": [
                          0.273315109
                        ],
                        "iteration": 323,
                        "passed_time": 20.57843293,
                        "remaining_time": 42.93524895,
                        "test": [
                          0.2910024387
                        ]
                      },
                      {
                        "learn": [
                          0.2731077936
                        ],
                        "iteration": 324,
                        "passed_time": 20.76983162,
                        "remaining_time": 43.1373426,
                        "test": [
                          0.2908095118
                        ]
                      },
                      {
                        "learn": [
                          0.2730145542
                        ],
                        "iteration": 325,
                        "passed_time": 20.87427971,
                        "remaining_time": 43.15725315,
                        "test": [
                          0.2907719027
                        ]
                      },
                      {
                        "learn": [
                          0.2729631993
                        ],
                        "iteration": 326,
                        "passed_time": 20.94021216,
                        "remaining_time": 43.0971339,
                        "test": [
                          0.2907657718
                        ]
                      },
                      {
                        "learn": [
                          0.2728642148
                        ],
                        "iteration": 327,
                        "passed_time": 21.04063136,
                        "remaining_time": 43.10763498,
                        "test": [
                          0.2907082586
                        ]
                      },
                      {
                        "learn": [
                          0.2727234037
                        ],
                        "iteration": 328,
                        "passed_time": 21.14851816,
                        "remaining_time": 43.13269204,
                        "test": [
                          0.2905512888
                        ]
                      },
                      {
                        "learn": [
                          0.2726582557
                        ],
                        "iteration": 329,
                        "passed_time": 21.24208481,
                        "remaining_time": 43.12786917,
                        "test": [
                          0.2905299605
                        ]
                      },
                      {
                        "learn": [
                          0.2725141636
                        ],
                        "iteration": 330,
                        "passed_time": 21.36787088,
                        "remaining_time": 43.18763027,
                        "test": [
                          0.2904223109
                        ]
                      },
                      {
                        "learn": [
                          0.2724317736
                        ],
                        "iteration": 331,
                        "passed_time": 21.46279633,
                        "remaining_time": 43.18418057,
                        "test": [
                          0.2903500285
                        ]
                      },
                      {
                        "learn": [
                          0.2723988456
                        ],
                        "iteration": 332,
                        "passed_time": 21.56727289,
                        "remaining_time": 43.19931236,
                        "test": [
                          0.2903603393
                        ]
                      },
                      {
                        "learn": [
                          0.2723615544
                        ],
                        "iteration": 333,
                        "passed_time": 21.66278377,
                        "remaining_time": 43.19585027,
                        "test": [
                          0.2903665726
                        ]
                      },
                      {
                        "learn": [
                          0.2722370728
                        ],
                        "iteration": 334,
                        "passed_time": 21.80930385,
                        "remaining_time": 43.29309571,
                        "test": [
                          0.2902701251
                        ]
                      },
                      {
                        "learn": [
                          0.2722022487
                        ],
                        "iteration": 335,
                        "passed_time": 21.94100513,
                        "remaining_time": 43.35960537,
                        "test": [
                          0.2902721828
                        ]
                      },
                      {
                        "learn": [
                          0.2721713207
                        ],
                        "iteration": 336,
                        "passed_time": 22.03500747,
                        "remaining_time": 43.35077137,
                        "test": [
                          0.2902746888
                        ]
                      },
                      {
                        "learn": [
                          0.2721014943
                        ],
                        "iteration": 337,
                        "passed_time": 22.13729617,
                        "remaining_time": 43.35766291,
                        "test": [
                          0.2902028923
                        ]
                      },
                      {
                        "learn": [
                          0.2720114478
                        ],
                        "iteration": 338,
                        "passed_time": 22.22724474,
                        "remaining_time": 43.33984888,
                        "test": [
                          0.2901716969
                        ]
                      },
                      {
                        "learn": [
                          0.2719740867
                        ],
                        "iteration": 339,
                        "passed_time": 22.31193398,
                        "remaining_time": 43.31140126,
                        "test": [
                          0.2901701086
                        ]
                      },
                      {
                        "learn": [
                          0.2719442169
                        ],
                        "iteration": 340,
                        "passed_time": 22.40379153,
                        "remaining_time": 43.29647689,
                        "test": [
                          0.2901621256
                        ]
                      },
                      {
                        "learn": [
                          0.2718729076
                        ],
                        "iteration": 341,
                        "passed_time": 22.48242203,
                        "remaining_time": 43.25565409,
                        "test": [
                          0.2901794447
                        ]
                      },
                      {
                        "learn": [
                          0.2718323261
                        ],
                        "iteration": 342,
                        "passed_time": 22.57296475,
                        "remaining_time": 43.2374281,
                        "test": [
                          0.2901873007
                        ]
                      },
                      {
                        "learn": [
                          0.2716239126
                        ],
                        "iteration": 343,
                        "passed_time": 22.66373995,
                        "remaining_time": 43.21922501,
                        "test": [
                          0.2900172048
                        ]
                      },
                      {
                        "learn": [
                          0.271487955
                        ],
                        "iteration": 344,
                        "passed_time": 22.75905235,
                        "remaining_time": 43.20921534,
                        "test": [
                          0.2898911494
                        ]
                      },
                      {
                        "learn": [
                          0.2714277596
                        ],
                        "iteration": 345,
                        "passed_time": 22.87094722,
                        "remaining_time": 43.2300563,
                        "test": [
                          0.2898687551
                        ]
                      },
                      {
                        "learn": [
                          0.2713869618
                        ],
                        "iteration": 346,
                        "passed_time": 23.03510255,
                        "remaining_time": 43.34847829,
                        "test": [
                          0.2898628605
                        ]
                      },
                      {
                        "learn": [
                          0.2713426836
                        ],
                        "iteration": 347,
                        "passed_time": 23.1538722,
                        "remaining_time": 43.38024332,
                        "test": [
                          0.2898548399
                        ]
                      },
                      {
                        "learn": [
                          0.2711352637
                        ],
                        "iteration": 348,
                        "passed_time": 23.26401932,
                        "remaining_time": 43.39506183,
                        "test": [
                          0.2896391326
                        ]
                      },
                      {
                        "learn": [
                          0.2710653594
                        ],
                        "iteration": 349,
                        "passed_time": 23.33557001,
                        "remaining_time": 43.33748717,
                        "test": [
                          0.2896002962
                        ]
                      },
                      {
                        "learn": [
                          0.270999172
                        ],
                        "iteration": 350,
                        "passed_time": 23.38350384,
                        "remaining_time": 43.23616522,
                        "test": [
                          0.2895699788
                        ]
                      },
                      {
                        "learn": [
                          0.2709504975
                        ],
                        "iteration": 351,
                        "passed_time": 23.42867156,
                        "remaining_time": 43.13005446,
                        "test": [
                          0.2895599742
                        ]
                      },
                      {
                        "learn": [
                          0.2709281071
                        ],
                        "iteration": 352,
                        "passed_time": 23.4894513,
                        "remaining_time": 43.05290366,
                        "test": [
                          0.2895546034
                        ]
                      },
                      {
                        "learn": [
                          0.2708194417
                        ],
                        "iteration": 353,
                        "passed_time": 23.5421402,
                        "remaining_time": 42.96108071,
                        "test": [
                          0.2894319403
                        ]
                      },
                      {
                        "learn": [
                          0.2707800391
                        ],
                        "iteration": 354,
                        "passed_time": 23.59153571,
                        "remaining_time": 42.86349447,
                        "test": [
                          0.2894323617
                        ]
                      },
                      {
                        "learn": [
                          0.2707484141
                        ],
                        "iteration": 355,
                        "passed_time": 23.63590081,
                        "remaining_time": 42.757079,
                        "test": [
                          0.2894283206
                        ]
                      },
                      {
                        "learn": [
                          0.2707254563
                        ],
                        "iteration": 356,
                        "passed_time": 23.68374042,
                        "remaining_time": 42.65726917,
                        "test": [
                          0.2894232983
                        ]
                      },
                      {
                        "learn": [
                          0.2705895042
                        ],
                        "iteration": 357,
                        "passed_time": 23.7304793,
                        "remaining_time": 42.55577572,
                        "test": [
                          0.2894149112
                        ]
                      },
                      {
                        "learn": [
                          0.2705105618
                        ],
                        "iteration": 358,
                        "passed_time": 23.77713689,
                        "remaining_time": 42.45444218,
                        "test": [
                          0.2893834638
                        ]
                      },
                      {
                        "learn": [
                          0.2704339356
                        ],
                        "iteration": 359,
                        "passed_time": 23.82423139,
                        "remaining_time": 42.35418913,
                        "test": [
                          0.2893721207
                        ]
                      },
                      {
                        "learn": [
                          0.270348589
                        ],
                        "iteration": 360,
                        "passed_time": 23.87541238,
                        "remaining_time": 42.26146402,
                        "test": [
                          0.2893735836
                        ]
                      },
                      {
                        "learn": [
                          0.2702983662
                        ],
                        "iteration": 361,
                        "passed_time": 23.92969931,
                        "remaining_time": 42.17444242,
                        "test": [
                          0.2893693282
                        ]
                      },
                      {
                        "learn": [
                          0.2702414834
                        ],
                        "iteration": 362,
                        "passed_time": 23.97200821,
                        "remaining_time": 42.06658191,
                        "test": [
                          0.289353079
                        ]
                      },
                      {
                        "learn": [
                          0.2702204798
                        ],
                        "iteration": 363,
                        "passed_time": 24.01842665,
                        "remaining_time": 41.96626195,
                        "test": [
                          0.2893356881
                        ]
                      },
                      {
                        "learn": [
                          0.2701514014
                        ],
                        "iteration": 364,
                        "passed_time": 24.12346793,
                        "remaining_time": 41.96822502,
                        "test": [
                          0.2893214539
                        ]
                      },
                      {
                        "learn": [
                          0.2701207723
                        ],
                        "iteration": 365,
                        "passed_time": 24.19944579,
                        "remaining_time": 41.91925856,
                        "test": [
                          0.2893115636
                        ]
                      },
                      {
                        "learn": [
                          0.2700398618
                        ],
                        "iteration": 366,
                        "passed_time": 24.25741674,
                        "remaining_time": 41.83908664,
                        "test": [
                          0.2892325824
                        ]
                      },
                      {
                        "learn": [
                          0.2699912428
                        ],
                        "iteration": 367,
                        "passed_time": 24.31637153,
                        "remaining_time": 41.76072502,
                        "test": [
                          0.2891895394
                        ]
                      },
                      {
                        "learn": [
                          0.2698105315
                        ],
                        "iteration": 368,
                        "passed_time": 24.37133212,
                        "remaining_time": 41.6756384,
                        "test": [
                          0.2890146084
                        ]
                      },
                      {
                        "learn": [
                          0.2697835408
                        ],
                        "iteration": 369,
                        "passed_time": 24.41097042,
                        "remaining_time": 41.56462531,
                        "test": [
                          0.2890086712
                        ]
                      },
                      {
                        "learn": [
                          0.2696735736
                        ],
                        "iteration": 370,
                        "passed_time": 24.47462799,
                        "remaining_time": 41.49471968,
                        "test": [
                          0.2889291133
                        ]
                      },
                      {
                        "learn": [
                          0.269665891
                        ],
                        "iteration": 371,
                        "passed_time": 24.51999877,
                        "remaining_time": 41.39397642,
                        "test": [
                          0.288930254
                        ]
                      },
                      {
                        "learn": [
                          0.26960286
                        ],
                        "iteration": 372,
                        "passed_time": 24.56457711,
                        "remaining_time": 41.29219798,
                        "test": [
                          0.2889075223
                        ]
                      },
                      {
                        "learn": [
                          0.2695490024
                        ],
                        "iteration": 373,
                        "passed_time": 24.61666744,
                        "remaining_time": 41.20329898,
                        "test": [
                          0.2889195469
                        ]
                      },
                      {
                        "learn": [
                          0.2694816578
                        ],
                        "iteration": 374,
                        "passed_time": 24.67967622,
                        "remaining_time": 41.1327937,
                        "test": [
                          0.2888835752
                        ]
                      },
                      {
                        "learn": [
                          0.2694089492
                        ],
                        "iteration": 375,
                        "passed_time": 24.72989104,
                        "remaining_time": 41.04109577,
                        "test": [
                          0.2888800863
                        ]
                      },
                      {
                        "learn": [
                          0.269114965
                        ],
                        "iteration": 376,
                        "passed_time": 24.78980788,
                        "remaining_time": 40.96565068,
                        "test": [
                          0.2885671803
                        ]
                      },
                      {
                        "learn": [
                          0.2690428239
                        ],
                        "iteration": 377,
                        "passed_time": 24.83661088,
                        "remaining_time": 40.86870891,
                        "test": [
                          0.2885347523
                        ]
                      },
                      {
                        "learn": [
                          0.2688870731
                        ],
                        "iteration": 378,
                        "passed_time": 24.89327456,
                        "remaining_time": 40.78818866,
                        "test": [
                          0.2883599982
                        ]
                      },
                      {
                        "learn": [
                          0.2688365786
                        ],
                        "iteration": 379,
                        "passed_time": 24.95511762,
                        "remaining_time": 40.71624454,
                        "test": [
                          0.2883244668
                        ]
                      },
                      {
                        "learn": [
                          0.2687714734
                        ],
                        "iteration": 380,
                        "passed_time": 25.01132526,
                        "remaining_time": 40.63519774,
                        "test": [
                          0.2883178446
                        ]
                      },
                      {
                        "learn": [
                          0.2686973404
                        ],
                        "iteration": 381,
                        "passed_time": 25.06359822,
                        "remaining_time": 40.54791545,
                        "test": [
                          0.2882971502
                        ]
                      },
                      {
                        "learn": [
                          0.2686703444
                        ],
                        "iteration": 382,
                        "passed_time": 25.11265068,
                        "remaining_time": 40.45562786,
                        "test": [
                          0.2882932788
                        ]
                      },
                      {
                        "learn": [
                          0.2684467611
                        ],
                        "iteration": 383,
                        "passed_time": 25.24186442,
                        "remaining_time": 40.49215751,
                        "test": [
                          0.2881107678
                        ]
                      },
                      {
                        "learn": [
                          0.2683942805
                        ],
                        "iteration": 384,
                        "passed_time": 25.30749667,
                        "remaining_time": 40.42626091,
                        "test": [
                          0.2880818812
                        ]
                      },
                      {
                        "learn": [
                          0.2683770296
                        ],
                        "iteration": 385,
                        "passed_time": 25.35610551,
                        "remaining_time": 40.33328701,
                        "test": [
                          0.2880862674
                        ]
                      },
                      {
                        "learn": [
                          0.268275714
                        ],
                        "iteration": 386,
                        "passed_time": 25.40146529,
                        "remaining_time": 40.23539593,
                        "test": [
                          0.2880473639
                        ]
                      },
                      {
                        "learn": [
                          0.2682706135
                        ],
                        "iteration": 387,
                        "passed_time": 25.44197769,
                        "remaining_time": 40.13012975,
                        "test": [
                          0.2880525731
                        ]
                      },
                      {
                        "learn": [
                          0.2682078056
                        ],
                        "iteration": 388,
                        "passed_time": 25.48821148,
                        "remaining_time": 40.03418306,
                        "test": [
                          0.2880571412
                        ]
                      },
                      {
                        "learn": [
                          0.2681477505
                        ],
                        "iteration": 389,
                        "passed_time": 25.55584513,
                        "remaining_time": 39.97196289,
                        "test": [
                          0.2880563343
                        ]
                      },
                      {
                        "learn": [
                          0.2680715481
                        ],
                        "iteration": 390,
                        "passed_time": 25.60979296,
                        "remaining_time": 39.88839876,
                        "test": [
                          0.2880110985
                        ]
                      },
                      {
                        "learn": [
                          0.2679780245
                        ],
                        "iteration": 391,
                        "passed_time": 25.66900232,
                        "remaining_time": 39.81314645,
                        "test": [
                          0.2879077514
                        ]
                      },
                      {
                        "learn": [
                          0.2679726577
                        ],
                        "iteration": 392,
                        "passed_time": 25.7200764,
                        "remaining_time": 39.72541063,
                        "test": [
                          0.2879064718
                        ]
                      },
                      {
                        "learn": [
                          0.2679099866
                        ],
                        "iteration": 393,
                        "passed_time": 25.77704618,
                        "remaining_time": 39.64692889,
                        "test": [
                          0.2878758244
                        ]
                      },
                      {
                        "learn": [
                          0.2676967669
                        ],
                        "iteration": 394,
                        "passed_time": 25.84036146,
                        "remaining_time": 39.57827515,
                        "test": [
                          0.2876620373
                        ]
                      },
                      {
                        "learn": [
                          0.2676905216
                        ],
                        "iteration": 395,
                        "passed_time": 25.89032427,
                        "remaining_time": 39.48928248,
                        "test": [
                          0.2876615267
                        ]
                      },
                      {
                        "learn": [
                          0.2676010539
                        ],
                        "iteration": 396,
                        "passed_time": 25.93775346,
                        "remaining_time": 39.39663813,
                        "test": [
                          0.2876797944
                        ]
                      },
                      {
                        "learn": [
                          0.2675220245
                        ],
                        "iteration": 397,
                        "passed_time": 25.98839857,
                        "remaining_time": 39.30908528,
                        "test": [
                          0.2876896866
                        ]
                      },
                      {
                        "learn": [
                          0.2675124675
                        ],
                        "iteration": 398,
                        "passed_time": 26.0321117,
                        "remaining_time": 39.21127602,
                        "test": [
                          0.2876877986
                        ]
                      },
                      {
                        "learn": [
                          0.2673799286
                        ],
                        "iteration": 399,
                        "passed_time": 26.08780858,
                        "remaining_time": 39.13171286,
                        "test": [
                          0.2875814092
                        ]
                      },
                      {
                        "learn": [
                          0.2673593351
                        ],
                        "iteration": 400,
                        "passed_time": 26.14786992,
                        "remaining_time": 39.05878824,
                        "test": [
                          0.2875584315
                        ]
                      },
                      {
                        "learn": [
                          0.2673078056
                        ],
                        "iteration": 401,
                        "passed_time": 26.21108457,
                        "remaining_time": 38.99061834,
                        "test": [
                          0.2875362013
                        ]
                      },
                      {
                        "learn": [
                          0.2672921741
                        ],
                        "iteration": 402,
                        "passed_time": 26.32358667,
                        "remaining_time": 38.99548695,
                        "test": [
                          0.2875344625
                        ]
                      },
                      {
                        "learn": [
                          0.2672328217
                        ],
                        "iteration": 403,
                        "passed_time": 26.36959287,
                        "remaining_time": 38.90167661,
                        "test": [
                          0.2875396069
                        ]
                      },
                      {
                        "learn": [
                          0.267112879
                        ],
                        "iteration": 404,
                        "passed_time": 26.42820407,
                        "remaining_time": 38.82662079,
                        "test": [
                          0.2874327004
                        ]
                      },
                      {
                        "learn": [
                          0.266998975
                        ],
                        "iteration": 405,
                        "passed_time": 26.48410868,
                        "remaining_time": 38.7476861,
                        "test": [
                          0.2872707665
                        ]
                      },
                      {
                        "learn": [
                          0.2669123549
                        ],
                        "iteration": 406,
                        "passed_time": 26.54211645,
                        "remaining_time": 38.67192888,
                        "test": [
                          0.2872628427
                        ]
                      },
                      {
                        "learn": [
                          0.2668337475
                        ],
                        "iteration": 407,
                        "passed_time": 26.60063027,
                        "remaining_time": 38.59699294,
                        "test": [
                          0.2872566392
                        ]
                      },
                      {
                        "learn": [
                          0.26681172
                        ],
                        "iteration": 408,
                        "passed_time": 26.64746063,
                        "remaining_time": 38.50525485,
                        "test": [
                          0.2872362804
                        ]
                      },
                      {
                        "learn": [
                          0.2667059581
                        ],
                        "iteration": 409,
                        "passed_time": 26.7054648,
                        "remaining_time": 38.4298152,
                        "test": [
                          0.2871042617
                        ]
                      },
                      {
                        "learn": [
                          0.2666333361
                        ],
                        "iteration": 410,
                        "passed_time": 26.75422411,
                        "remaining_time": 38.34121168,
                        "test": [
                          0.2871024997
                        ]
                      },
                      {
                        "learn": [
                          0.2665218496
                        ],
                        "iteration": 411,
                        "passed_time": 26.80855177,
                        "remaining_time": 38.26074865,
                        "test": [
                          0.2869385443
                        ]
                      },
                      {
                        "learn": [
                          0.2664911894
                        ],
                        "iteration": 412,
                        "passed_time": 26.86124961,
                        "remaining_time": 38.17809569,
                        "test": [
                          0.286947149
                        ]
                      },
                      {
                        "learn": [
                          0.2664086509
                        ],
                        "iteration": 413,
                        "passed_time": 26.91329161,
                        "remaining_time": 38.09465914,
                        "test": [
                          0.2869099527
                        ]
                      },
                      {
                        "learn": [
                          0.2663185129
                        ],
                        "iteration": 414,
                        "passed_time": 26.96286298,
                        "remaining_time": 38.0078912,
                        "test": [
                          0.2868883471
                        ]
                      },
                      {
                        "learn": [
                          0.2663047199
                        ],
                        "iteration": 415,
                        "passed_time": 27.00673111,
                        "remaining_time": 37.9132956,
                        "test": [
                          0.2868825173
                        ]
                      },
                      {
                        "learn": [
                          0.2661638513
                        ],
                        "iteration": 416,
                        "passed_time": 27.06893838,
                        "remaining_time": 37.84458292,
                        "test": [
                          0.2867462332
                        ]
                      },
                      {
                        "learn": [
                          0.2660793302
                        ],
                        "iteration": 417,
                        "passed_time": 27.12603856,
                        "remaining_time": 37.76879053,
                        "test": [
                          0.2866492079
                        ]
                      },
                      {
                        "learn": [
                          0.2660574042
                        ],
                        "iteration": 418,
                        "passed_time": 27.17408075,
                        "remaining_time": 37.68052724,
                        "test": [
                          0.2866405788
                        ]
                      },
                      {
                        "learn": [
                          0.2659666366
                        ],
                        "iteration": 419,
                        "passed_time": 27.22083894,
                        "remaining_time": 37.59068234,
                        "test": [
                          0.2866112636
                        ]
                      },
                      {
                        "learn": [
                          0.2659468289
                        ],
                        "iteration": 420,
                        "passed_time": 27.29654531,
                        "remaining_time": 37.54085447,
                        "test": [
                          0.2866112301
                        ]
                      },
                      {
                        "learn": [
                          0.265886049
                        ],
                        "iteration": 421,
                        "passed_time": 27.41290736,
                        "remaining_time": 37.54658875,
                        "test": [
                          0.286552437
                        ]
                      },
                      {
                        "learn": [
                          0.2658598495
                        ],
                        "iteration": 422,
                        "passed_time": 27.46597263,
                        "remaining_time": 37.46540475,
                        "test": [
                          0.2865398978
                        ]
                      },
                      {
                        "learn": [
                          0.2658319532
                        ],
                        "iteration": 423,
                        "passed_time": 27.5131303,
                        "remaining_time": 37.37632795,
                        "test": [
                          0.2865410858
                        ]
                      },
                      {
                        "learn": [
                          0.2657849048
                        ],
                        "iteration": 424,
                        "passed_time": 27.56531721,
                        "remaining_time": 37.29425269,
                        "test": [
                          0.2865500068
                        ]
                      },
                      {
                        "learn": [
                          0.2657440911
                        ],
                        "iteration": 425,
                        "passed_time": 27.63075792,
                        "remaining_time": 37.23017616,
                        "test": [
                          0.2864863694
                        ]
                      },
                      {
                        "learn": [
                          0.2656874123
                        ],
                        "iteration": 426,
                        "passed_time": 27.68038597,
                        "remaining_time": 37.14487392,
                        "test": [
                          0.2864819041
                        ]
                      },
                      {
                        "learn": [
                          0.2656502451
                        ],
                        "iteration": 427,
                        "passed_time": 27.72472819,
                        "remaining_time": 37.05267412,
                        "test": [
                          0.2864810153
                        ]
                      },
                      {
                        "learn": [
                          0.2656063211
                        ],
                        "iteration": 428,
                        "passed_time": 27.78075611,
                        "remaining_time": 36.97625114,
                        "test": [
                          0.2864435431
                        ]
                      },
                      {
                        "learn": [
                          0.2655700388
                        ],
                        "iteration": 429,
                        "passed_time": 27.8330062,
                        "remaining_time": 36.89491519,
                        "test": [
                          0.2864330823
                        ]
                      },
                      {
                        "learn": [
                          0.2655461718
                        ],
                        "iteration": 430,
                        "passed_time": 27.87473443,
                        "remaining_time": 36.79982341,
                        "test": [
                          0.2864141478
                        ]
                      },
                      {
                        "learn": [
                          0.2655134894
                        ],
                        "iteration": 431,
                        "passed_time": 27.9225242,
                        "remaining_time": 36.71294849,
                        "test": [
                          0.286414243
                        ]
                      },
                      {
                        "learn": [
                          0.2654401963
                        ],
                        "iteration": 432,
                        "passed_time": 27.98036464,
                        "remaining_time": 36.63941513,
                        "test": [
                          0.2863544219
                        ]
                      },
                      {
                        "learn": [
                          0.2653660382
                        ],
                        "iteration": 433,
                        "passed_time": 28.03315,
                        "remaining_time": 36.55936152,
                        "test": [
                          0.2863706172
                        ]
                      },
                      {
                        "learn": [
                          0.2653304783
                        ],
                        "iteration": 434,
                        "passed_time": 28.08305115,
                        "remaining_time": 36.47568713,
                        "test": [
                          0.2863731135
                        ]
                      },
                      {
                        "learn": [
                          0.2653148126
                        ],
                        "iteration": 435,
                        "passed_time": 28.13214489,
                        "remaining_time": 36.39112321,
                        "test": [
                          0.2863708934
                        ]
                      },
                      {
                        "learn": [
                          0.2652259822
                        ],
                        "iteration": 436,
                        "passed_time": 28.18540953,
                        "remaining_time": 36.31209512,
                        "test": [
                          0.2863249812
                        ]
                      },
                      {
                        "learn": [
                          0.265185282
                        ],
                        "iteration": 437,
                        "passed_time": 28.24678864,
                        "remaining_time": 36.24359638,
                        "test": [
                          0.2862916304
                        ]
                      },
                      {
                        "learn": [
                          0.2651369721
                        ],
                        "iteration": 438,
                        "passed_time": 28.29860636,
                        "remaining_time": 36.16291154,
                        "test": [
                          0.2862643822
                        ]
                      },
                      {
                        "learn": [
                          0.2650582703
                        ],
                        "iteration": 439,
                        "passed_time": 28.56882617,
                        "remaining_time": 36.36032421,
                        "test": [
                          0.2862892926
                        ]
                      },
                      {
                        "learn": [
                          0.2650278222
                        ],
                        "iteration": 440,
                        "passed_time": 28.65657918,
                        "remaining_time": 36.324326,
                        "test": [
                          0.2862700668
                        ]
                      },
                      {
                        "learn": [
                          0.2649836772
                        ],
                        "iteration": 441,
                        "passed_time": 28.71727288,
                        "remaining_time": 36.25393274,
                        "test": [
                          0.2862103231
                        ]
                      },
                      {
                        "learn": [
                          0.2649174385
                        ],
                        "iteration": 442,
                        "passed_time": 28.76911368,
                        "remaining_time": 36.17245219,
                        "test": [
                          0.2862113928
                        ]
                      },
                      {
                        "learn": [
                          0.2648550046
                        ],
                        "iteration": 443,
                        "passed_time": 28.82190558,
                        "remaining_time": 36.09229617,
                        "test": [
                          0.2861933401
                        ]
                      },
                      {
                        "learn": [
                          0.2647064691
                        ],
                        "iteration": 444,
                        "passed_time": 28.87999425,
                        "remaining_time": 36.01886924,
                        "test": [
                          0.2860324478
                        ]
                      },
                      {
                        "learn": [
                          0.2646468545
                        ],
                        "iteration": 445,
                        "passed_time": 28.93068576,
                        "remaining_time": 35.93632268,
                        "test": [
                          0.2860263266
                        ]
                      },
                      {
                        "learn": [
                          0.2646078403
                        ],
                        "iteration": 446,
                        "passed_time": 28.9915218,
                        "remaining_time": 35.86646881,
                        "test": [
                          0.2859927897
                        ]
                      },
                      {
                        "learn": [
                          0.2645457722
                        ],
                        "iteration": 447,
                        "passed_time": 29.03097725,
                        "remaining_time": 35.77031125,
                        "test": [
                          0.2860013718
                        ]
                      },
                      {
                        "learn": [
                          0.2645225876
                        ],
                        "iteration": 448,
                        "passed_time": 29.08215754,
                        "remaining_time": 35.68879466,
                        "test": [
                          0.2860023456
                        ]
                      },
                      {
                        "learn": [
                          0.2644998716
                        ],
                        "iteration": 449,
                        "passed_time": 29.12581693,
                        "remaining_time": 35.59822069,
                        "test": [
                          0.2860024684
                        ]
                      },
                      {
                        "learn": [
                          0.2644631433
                        ],
                        "iteration": 450,
                        "passed_time": 29.19107102,
                        "remaining_time": 35.53414188,
                        "test": [
                          0.2859706811
                        ]
                      },
                      {
                        "learn": [
                          0.2644231268
                        ],
                        "iteration": 451,
                        "passed_time": 29.24323114,
                        "remaining_time": 35.45418289,
                        "test": [
                          0.2859727761
                        ]
                      },
                      {
                        "learn": [
                          0.264338398
                        ],
                        "iteration": 452,
                        "passed_time": 29.30337651,
                        "remaining_time": 35.38398885,
                        "test": [
                          0.2858651129
                        ]
                      },
                      {
                        "learn": [
                          0.2642703741
                        ],
                        "iteration": 453,
                        "passed_time": 29.35975317,
                        "remaining_time": 35.30930668,
                        "test": [
                          0.2858114799
                        ]
                      },
                      {
                        "learn": [
                          0.2642601987
                        ],
                        "iteration": 454,
                        "passed_time": 29.40076136,
                        "remaining_time": 35.21629657,
                        "test": [
                          0.2858102309
                        ]
                      },
                      {
                        "learn": [
                          0.2642256689
                        ],
                        "iteration": 455,
                        "passed_time": 29.46103999,
                        "remaining_time": 35.14650385,
                        "test": [
                          0.2857802349
                        ]
                      },
                      {
                        "learn": [
                          0.2641833246
                        ],
                        "iteration": 456,
                        "passed_time": 29.5052348,
                        "remaining_time": 35.05764222,
                        "test": [
                          0.2857642105
                        ]
                      },
                      {
                        "learn": [
                          0.264136341
                        ],
                        "iteration": 457,
                        "passed_time": 29.55660016,
                        "remaining_time": 34.97746132,
                        "test": [
                          0.2857476067
                        ]
                      },
                      {
                        "learn": [
                          0.26408558
                        ],
                        "iteration": 458,
                        "passed_time": 29.68592755,
                        "remaining_time": 34.98929587,
                        "test": [
                          0.2857233966
                        ]
                      },
                      {
                        "learn": [
                          0.2640759282
                        ],
                        "iteration": 459,
                        "passed_time": 29.75334949,
                        "remaining_time": 34.92784505,
                        "test": [
                          0.2857237241
                        ]
                      },
                      {
                        "learn": [
                          0.2640165951
                        ],
                        "iteration": 460,
                        "passed_time": 29.85020494,
                        "remaining_time": 34.90078192,
                        "test": [
                          0.2857189357
                        ]
                      },
                      {
                        "learn": [
                          0.2639877409
                        ],
                        "iteration": 461,
                        "passed_time": 29.92867087,
                        "remaining_time": 34.85200201,
                        "test": [
                          0.2857309617
                        ]
                      },
                      {
                        "learn": [
                          0.2639611999
                        ],
                        "iteration": 462,
                        "passed_time": 29.97386435,
                        "remaining_time": 34.76450358,
                        "test": [
                          0.2857206503
                        ]
                      },
                      {
                        "learn": [
                          0.2639045437
                        ],
                        "iteration": 463,
                        "passed_time": 30.02666859,
                        "remaining_time": 34.68597924,
                        "test": [
                          0.2857176816
                        ]
                      },
                      {
                        "learn": [
                          0.2638290997
                        ],
                        "iteration": 464,
                        "passed_time": 30.07871722,
                        "remaining_time": 34.60669616,
                        "test": [
                          0.2856795708
                        ]
                      },
                      {
                        "learn": [
                          0.2637084858
                        ],
                        "iteration": 465,
                        "passed_time": 30.13759464,
                        "remaining_time": 34.53535523,
                        "test": [
                          0.2855616965
                        ]
                      },
                      {
                        "learn": [
                          0.2636827765
                        ],
                        "iteration": 466,
                        "passed_time": 30.17717056,
                        "remaining_time": 34.44203835,
                        "test": [
                          0.2855509962
                        ]
                      },
                      {
                        "learn": [
                          0.2636388306
                        ],
                        "iteration": 467,
                        "passed_time": 30.22823145,
                        "remaining_time": 34.36200669,
                        "test": [
                          0.2855563636
                        ]
                      },
                      {
                        "learn": [
                          0.2636205122
                        ],
                        "iteration": 468,
                        "passed_time": 30.27429986,
                        "remaining_time": 34.27644611,
                        "test": [
                          0.2855631908
                        ]
                      },
                      {
                        "learn": [
                          0.2635606965
                        ],
                        "iteration": 469,
                        "passed_time": 30.32434916,
                        "remaining_time": 34.19554267,
                        "test": [
                          0.2855681535
                        ]
                      },
                      {
                        "learn": [
                          0.2635250769
                        ],
                        "iteration": 470,
                        "passed_time": 30.36365432,
                        "remaining_time": 34.10270305,
                        "test": [
                          0.2855700163
                        ]
                      },
                      {
                        "learn": [
                          0.2634450702
                        ],
                        "iteration": 471,
                        "passed_time": 30.41178394,
                        "remaining_time": 34.0199617,
                        "test": [
                          0.2855663554
                        ]
                      },
                      {
                        "learn": [
                          0.263197038
                        ],
                        "iteration": 472,
                        "passed_time": 30.47378097,
                        "remaining_time": 33.95281728,
                        "test": [
                          0.285296559
                        ]
                      },
                      {
                        "learn": [
                          0.2631462223
                        ],
                        "iteration": 473,
                        "passed_time": 30.5243384,
                        "remaining_time": 33.87299999,
                        "test": [
                          0.2852976536
                        ]
                      },
                      {
                        "learn": [
                          0.2630960304
                        ],
                        "iteration": 474,
                        "passed_time": 30.57332634,
                        "remaining_time": 33.79157122,
                        "test": [
                          0.2852906348
                        ]
                      },
                      {
                        "learn": [
                          0.2630527421
                        ],
                        "iteration": 475,
                        "passed_time": 30.62499836,
                        "remaining_time": 33.71323349,
                        "test": [
                          0.2852946738
                        ]
                      },
                      {
                        "learn": [
                          0.2629838874
                        ],
                        "iteration": 476,
                        "passed_time": 30.76950347,
                        "remaining_time": 33.73679312,
                        "test": [
                          0.2852962355
                        ]
                      },
                      {
                        "learn": [
                          0.2629461596
                        ],
                        "iteration": 477,
                        "passed_time": 30.83995426,
                        "remaining_time": 33.6787785,
                        "test": [
                          0.2852722277
                        ]
                      },
                      {
                        "learn": [
                          0.2629137808
                        ],
                        "iteration": 478,
                        "passed_time": 30.9000217,
                        "remaining_time": 33.60941817,
                        "test": [
                          0.2852439269
                        ]
                      },
                      {
                        "learn": [
                          0.2628959901
                        ],
                        "iteration": 479,
                        "passed_time": 30.94484523,
                        "remaining_time": 33.52358233,
                        "test": [
                          0.2852153301
                        ]
                      },
                      {
                        "learn": [
                          0.2628858616
                        ],
                        "iteration": 480,
                        "passed_time": 30.98567652,
                        "remaining_time": 33.43360939,
                        "test": [
                          0.2852159211
                        ]
                      },
                      {
                        "learn": [
                          0.2628195347
                        ],
                        "iteration": 481,
                        "passed_time": 31.04042277,
                        "remaining_time": 33.3587946,
                        "test": [
                          0.2852047458
                        ]
                      },
                      {
                        "learn": [
                          0.2627904896
                        ],
                        "iteration": 482,
                        "passed_time": 31.09332818,
                        "remaining_time": 33.28209248,
                        "test": [
                          0.2852025147
                        ]
                      },
                      {
                        "learn": [
                          0.2626916208
                        ],
                        "iteration": 483,
                        "passed_time": 31.15413161,
                        "remaining_time": 33.21390891,
                        "test": [
                          0.2851243125
                        ]
                      },
                      {
                        "learn": [
                          0.2626208916
                        ],
                        "iteration": 484,
                        "passed_time": 31.20864258,
                        "remaining_time": 33.13907408,
                        "test": [
                          0.2850899763
                        ]
                      },
                      {
                        "learn": [
                          0.2626091193
                        ],
                        "iteration": 485,
                        "passed_time": 31.25995291,
                        "remaining_time": 33.06093785,
                        "test": [
                          0.285083692
                        ]
                      },
                      {
                        "learn": [
                          0.2625767138
                        ],
                        "iteration": 486,
                        "passed_time": 31.31132492,
                        "remaining_time": 32.98297676,
                        "test": [
                          0.2850961695
                        ]
                      },
                      {
                        "learn": [
                          0.2625434864
                        ],
                        "iteration": 487,
                        "passed_time": 31.36522553,
                        "remaining_time": 32.9077776,
                        "test": [
                          0.2851102657
                        ]
                      },
                      {
                        "learn": [
                          0.2625232027
                        ],
                        "iteration": 488,
                        "passed_time": 31.41404727,
                        "remaining_time": 32.82735819,
                        "test": [
                          0.2851207448
                        ]
                      },
                      {
                        "learn": [
                          0.2624872045
                        ],
                        "iteration": 489,
                        "passed_time": 31.46720651,
                        "remaining_time": 32.75158228,
                        "test": [
                          0.2851245084
                        ]
                      },
                      {
                        "learn": [
                          0.2624159461
                        ],
                        "iteration": 490,
                        "passed_time": 31.5212996,
                        "remaining_time": 32.67686659,
                        "test": [
                          0.2850962759
                        ]
                      },
                      {
                        "learn": [
                          0.2624090974
                        ],
                        "iteration": 491,
                        "passed_time": 31.56346523,
                        "remaining_time": 32.58991939,
                        "test": [
                          0.2850974362
                        ]
                      },
                      {
                        "learn": [
                          0.2623578581
                        ],
                        "iteration": 492,
                        "passed_time": 31.61362531,
                        "remaining_time": 32.51137532,
                        "test": [
                          0.2850749073
                        ]
                      },
                      {
                        "learn": [
                          0.2622993064
                        ],
                        "iteration": 493,
                        "passed_time": 31.66491904,
                        "remaining_time": 32.43410735,
                        "test": [
                          0.2850588784
                        ]
                      },
                      {
                        "learn": [
                          0.2622539165
                        ],
                        "iteration": 494,
                        "passed_time": 31.73110378,
                        "remaining_time": 32.37213618,
                        "test": [
                          0.2850532084
                        ]
                      },
                      {
                        "learn": [
                          0.2621880954
                        ],
                        "iteration": 495,
                        "passed_time": 31.83788856,
                        "remaining_time": 32.35140289,
                        "test": [
                          0.285026446
                        ]
                      },
                      {
                        "learn": [
                          0.2621585331
                        ],
                        "iteration": 496,
                        "passed_time": 31.91370387,
                        "remaining_time": 32.29897997,
                        "test": [
                          0.2849998904
                        ]
                      },
                      {
                        "learn": [
                          0.2620982487
                        ],
                        "iteration": 497,
                        "passed_time": 31.96394631,
                        "remaining_time": 32.22068483,
                        "test": [
                          0.2849831727
                        ]
                      },
                      {
                        "learn": [
                          0.2620839861
                        ],
                        "iteration": 498,
                        "passed_time": 32.00409154,
                        "remaining_time": 32.13236446,
                        "test": [
                          0.284986483
                        ]
                      },
                      {
                        "learn": [
                          0.262049492
                        ],
                        "iteration": 499,
                        "passed_time": 32.05785085,
                        "remaining_time": 32.05785085,
                        "test": [
                          0.2849643559
                        ]
                      },
                      {
                        "learn": [
                          0.2620355728
                        ],
                        "iteration": 500,
                        "passed_time": 32.1048362,
                        "remaining_time": 31.97667318,
                        "test": [
                          0.2849587228
                        ]
                      },
                      {
                        "learn": [
                          0.2619785884
                        ],
                        "iteration": 501,
                        "passed_time": 32.15929021,
                        "remaining_time": 31.90304089,
                        "test": [
                          0.2849346016
                        ]
                      },
                      {
                        "learn": [
                          0.2619355667
                        ],
                        "iteration": 502,
                        "passed_time": 32.20628176,
                        "remaining_time": 31.8221114,
                        "test": [
                          0.2849343886
                        ]
                      },
                      {
                        "learn": [
                          0.2618937794
                        ],
                        "iteration": 503,
                        "passed_time": 32.25812088,
                        "remaining_time": 31.74608722,
                        "test": [
                          0.2849287484
                        ]
                      },
                      {
                        "learn": [
                          0.2618391204
                        ],
                        "iteration": 504,
                        "passed_time": 32.31381853,
                        "remaining_time": 31.67394094,
                        "test": [
                          0.2849100872
                        ]
                      },
                      {
                        "learn": [
                          0.2618284841
                        ],
                        "iteration": 505,
                        "passed_time": 32.35684018,
                        "remaining_time": 31.58948429,
                        "test": [
                          0.2849063351
                        ]
                      },
                      {
                        "learn": [
                          0.2617845732
                        ],
                        "iteration": 506,
                        "passed_time": 32.41822663,
                        "remaining_time": 31.52304878,
                        "test": [
                          0.2849111177
                        ]
                      },
                      {
                        "learn": [
                          0.2617006394
                        ],
                        "iteration": 507,
                        "passed_time": 32.47298571,
                        "remaining_time": 31.4502145,
                        "test": [
                          0.2848327265
                        ]
                      },
                      {
                        "learn": [
                          0.2616707968
                        ],
                        "iteration": 508,
                        "passed_time": 32.51930631,
                        "remaining_time": 31.3693112,
                        "test": [
                          0.2848217409
                        ]
                      },
                      {
                        "learn": [
                          0.2616079481
                        ],
                        "iteration": 509,
                        "passed_time": 32.56321161,
                        "remaining_time": 31.28622292,
                        "test": [
                          0.2848255742
                        ]
                      },
                      {
                        "learn": [
                          0.2616035384
                        ],
                        "iteration": 510,
                        "passed_time": 32.61068342,
                        "remaining_time": 31.20670096,
                        "test": [
                          0.2848255902
                        ]
                      },
                      {
                        "learn": [
                          0.2615626177
                        ],
                        "iteration": 511,
                        "passed_time": 32.66327185,
                        "remaining_time": 31.13218098,
                        "test": [
                          0.2848309041
                        ]
                      },
                      {
                        "learn": [
                          0.2615531297
                        ],
                        "iteration": 512,
                        "passed_time": 32.71056165,
                        "remaining_time": 31.05271642,
                        "test": [
                          0.2848273721
                        ]
                      },
                      {
                        "learn": [
                          0.2614870244
                        ],
                        "iteration": 513,
                        "passed_time": 32.77669244,
                        "remaining_time": 30.99119168,
                        "test": [
                          0.2848146901
                        ]
                      },
                      {
                        "learn": [
                          0.2614437711
                        ],
                        "iteration": 514,
                        "passed_time": 32.89494589,
                        "remaining_time": 30.97873545,
                        "test": [
                          0.2848216736
                        ]
                      },
                      {
                        "learn": [
                          0.2614200512
                        ],
                        "iteration": 515,
                        "passed_time": 32.9537072,
                        "remaining_time": 30.91006645,
                        "test": [
                          0.2848283723
                        ]
                      },
                      {
                        "learn": [
                          0.2613976859
                        ],
                        "iteration": 516,
                        "passed_time": 33.00220719,
                        "remaining_time": 30.83184927,
                        "test": [
                          0.2848210335
                        ]
                      },
                      {
                        "learn": [
                          0.2613257771
                        ],
                        "iteration": 517,
                        "passed_time": 33.0617472,
                        "remaining_time": 30.7640196,
                        "test": [
                          0.2847855766
                        ]
                      },
                      {
                        "learn": [
                          0.2612824943
                        ],
                        "iteration": 518,
                        "passed_time": 33.11020566,
                        "remaining_time": 30.68595168,
                        "test": [
                          0.2847211219
                        ]
                      },
                      {
                        "learn": [
                          0.2612480019
                        ],
                        "iteration": 519,
                        "passed_time": 33.15228798,
                        "remaining_time": 30.60211198,
                        "test": [
                          0.2847173631
                        ]
                      },
                      {
                        "learn": [
                          0.2611926434
                        ],
                        "iteration": 520,
                        "passed_time": 33.20074684,
                        "remaining_time": 30.52429508,
                        "test": [
                          0.2847241812
                        ]
                      },
                      {
                        "learn": [
                          0.2611668019
                        ],
                        "iteration": 521,
                        "passed_time": 33.25073775,
                        "remaining_time": 30.44799357,
                        "test": [
                          0.2847228004
                        ]
                      },
                      {
                        "learn": [
                          0.2611123839
                        ],
                        "iteration": 522,
                        "passed_time": 33.32731927,
                        "remaining_time": 30.39604454,
                        "test": [
                          0.2847233834
                        ]
                      },
                      {
                        "learn": [
                          0.2611010677
                        ],
                        "iteration": 523,
                        "passed_time": 33.39185923,
                        "remaining_time": 30.33306296,
                        "test": [
                          0.2847251949
                        ]
                      },
                      {
                        "learn": [
                          0.2610934265
                        ],
                        "iteration": 524,
                        "passed_time": 33.47009316,
                        "remaining_time": 30.28246524,
                        "test": [
                          0.2847239334
                        ]
                      },
                      {
                        "learn": [
                          0.2610669241
                        ],
                        "iteration": 525,
                        "passed_time": 33.56240856,
                        "remaining_time": 30.24445182,
                        "test": [
                          0.2847262644
                        ]
                      },
                      {
                        "learn": [
                          0.2610374583
                        ],
                        "iteration": 526,
                        "passed_time": 33.64445208,
                        "remaining_time": 30.19701297,
                        "test": [
                          0.2847178781
                        ]
                      },
                      {
                        "learn": [
                          0.2609669865
                        ],
                        "iteration": 527,
                        "passed_time": 33.7526199,
                        "remaining_time": 30.17279658,
                        "test": [
                          0.2846872546
                        ]
                      },
                      {
                        "learn": [
                          0.2608768584
                        ],
                        "iteration": 528,
                        "passed_time": 33.88630969,
                        "remaining_time": 30.17098651,
                        "test": [
                          0.2846877704
                        ]
                      },
                      {
                        "learn": [
                          0.2608306058
                        ],
                        "iteration": 529,
                        "passed_time": 34.05407595,
                        "remaining_time": 30.19889754,
                        "test": [
                          0.2846961098
                        ]
                      },
                      {
                        "learn": [
                          0.2607530453
                        ],
                        "iteration": 530,
                        "passed_time": 34.16633879,
                        "remaining_time": 30.17704877,
                        "test": [
                          0.2845912979
                        ]
                      },
                      {
                        "learn": [
                          0.2607436724
                        ],
                        "iteration": 531,
                        "passed_time": 34.23494618,
                        "remaining_time": 30.11645641,
                        "test": [
                          0.2845915466
                        ]
                      },
                      {
                        "learn": [
                          0.2606984695
                        ],
                        "iteration": 532,
                        "passed_time": 34.33473704,
                        "remaining_time": 30.08315609,
                        "test": [
                          0.2845723614
                        ]
                      },
                      {
                        "learn": [
                          0.2606724208
                        ],
                        "iteration": 533,
                        "passed_time": 34.42475325,
                        "remaining_time": 30.04107681,
                        "test": [
                          0.2845788128
                        ]
                      },
                      {
                        "learn": [
                          0.260659344
                        ],
                        "iteration": 534,
                        "passed_time": 34.52447934,
                        "remaining_time": 30.00725775,
                        "test": [
                          0.2845727916
                        ]
                      },
                      {
                        "learn": [
                          0.2606502639
                        ],
                        "iteration": 535,
                        "passed_time": 34.61628282,
                        "remaining_time": 29.96633438,
                        "test": [
                          0.2845740269
                        ]
                      },
                      {
                        "learn": [
                          0.2606442539
                        ],
                        "iteration": 536,
                        "passed_time": 34.71227142,
                        "remaining_time": 29.92882992,
                        "test": [
                          0.2845738357
                        ]
                      },
                      {
                        "learn": [
                          0.2606018137
                        ],
                        "iteration": 537,
                        "passed_time": 34.79148124,
                        "remaining_time": 29.8766995,
                        "test": [
                          0.2845538996
                        ]
                      },
                      {
                        "learn": [
                          0.2605709792
                        ],
                        "iteration": 538,
                        "passed_time": 34.88787061,
                        "remaining_time": 29.83916206,
                        "test": [
                          0.2845347866
                        ]
                      },
                      {
                        "learn": [
                          0.2605289483
                        ],
                        "iteration": 539,
                        "passed_time": 35.00126504,
                        "remaining_time": 29.81589245,
                        "test": [
                          0.2845181531
                        ]
                      },
                      {
                        "learn": [
                          0.2604820145
                        ],
                        "iteration": 540,
                        "passed_time": 35.14833382,
                        "remaining_time": 29.82085993,
                        "test": [
                          0.284522406
                        ]
                      },
                      {
                        "learn": [
                          0.2604538254
                        ],
                        "iteration": 541,
                        "passed_time": 35.26434307,
                        "remaining_time": 29.79902053,
                        "test": [
                          0.2845371075
                        ]
                      },
                      {
                        "learn": [
                          0.2603865064
                        ],
                        "iteration": 542,
                        "passed_time": 35.37303759,
                        "remaining_time": 29.77067804,
                        "test": [
                          0.2845360598
                        ]
                      },
                      {
                        "learn": [
                          0.2603388965
                        ],
                        "iteration": 543,
                        "passed_time": 35.47218159,
                        "remaining_time": 29.73403457,
                        "test": [
                          0.2845261724
                        ]
                      },
                      {
                        "learn": [
                          0.2602924384
                        ],
                        "iteration": 544,
                        "passed_time": 35.58020416,
                        "remaining_time": 29.70457411,
                        "test": [
                          0.2845252043
                        ]
                      },
                      {
                        "learn": [
                          0.2602779487
                        ],
                        "iteration": 545,
                        "passed_time": 35.65270147,
                        "remaining_time": 29.64528657,
                        "test": [
                          0.284529298
                        ]
                      },
                      {
                        "learn": [
                          0.2602397015
                        ],
                        "iteration": 546,
                        "passed_time": 35.73426292,
                        "remaining_time": 29.59345723,
                        "test": [
                          0.2845252422
                        ]
                      },
                      {
                        "learn": [
                          0.2602115741
                        ],
                        "iteration": 547,
                        "passed_time": 35.85236818,
                        "remaining_time": 29.57166134,
                        "test": [
                          0.2845006029
                        ]
                      },
                      {
                        "learn": [
                          0.2601516259
                        ],
                        "iteration": 548,
                        "passed_time": 35.94680868,
                        "remaining_time": 29.53007416,
                        "test": [
                          0.2844770886
                        ]
                      },
                      {
                        "learn": [
                          0.2600969378
                        ],
                        "iteration": 549,
                        "passed_time": 36.04786933,
                        "remaining_time": 29.49371127,
                        "test": [
                          0.2844595497
                        ]
                      },
                      {
                        "learn": [
                          0.2599827433
                        ],
                        "iteration": 550,
                        "passed_time": 36.16808745,
                        "remaining_time": 29.47272462,
                        "test": [
                          0.2843276202
                        ]
                      },
                      {
                        "learn": [
                          0.2599530328
                        ],
                        "iteration": 551,
                        "passed_time": 36.28537465,
                        "remaining_time": 29.44899972,
                        "test": [
                          0.2843320433
                        ]
                      },
                      {
                        "learn": [
                          0.2599195533
                        ],
                        "iteration": 552,
                        "passed_time": 36.43218296,
                        "remaining_time": 29.44879888,
                        "test": [
                          0.2843287567
                        ]
                      },
                      {
                        "learn": [
                          0.2598662653
                        ],
                        "iteration": 553,
                        "passed_time": 36.55230921,
                        "remaining_time": 29.42658828,
                        "test": [
                          0.28433434
                        ]
                      },
                      {
                        "learn": [
                          0.2598392805
                        ],
                        "iteration": 554,
                        "passed_time": 36.67255191,
                        "remaining_time": 29.4041182,
                        "test": [
                          0.2843455881
                        ]
                      },
                      {
                        "learn": [
                          0.2598129238
                        ],
                        "iteration": 555,
                        "passed_time": 36.78484709,
                        "remaining_time": 29.37494983,
                        "test": [
                          0.2843224816
                        ]
                      },
                      {
                        "learn": [
                          0.2597393934
                        ],
                        "iteration": 556,
                        "passed_time": 36.88423024,
                        "remaining_time": 29.33521364,
                        "test": [
                          0.2843355418
                        ]
                      },
                      {
                        "learn": [
                          0.2597069237
                        ],
                        "iteration": 557,
                        "passed_time": 36.9798329,
                        "remaining_time": 29.29226907,
                        "test": [
                          0.2843475762
                        ]
                      },
                      {
                        "learn": [
                          0.2596801508
                        ],
                        "iteration": 558,
                        "passed_time": 37.07822946,
                        "remaining_time": 29.25134024,
                        "test": [
                          0.284362818
                        ]
                      },
                      {
                        "learn": [
                          0.2596465988
                        ],
                        "iteration": 559,
                        "passed_time": 37.13976099,
                        "remaining_time": 29.18124078,
                        "test": [
                          0.2843571118
                        ]
                      },
                      {
                        "learn": [
                          0.2596247855
                        ],
                        "iteration": 560,
                        "passed_time": 37.18910675,
                        "remaining_time": 29.10163612,
                        "test": [
                          0.2843636736
                        ]
                      },
                      {
                        "learn": [
                          0.2596165059
                        ],
                        "iteration": 561,
                        "passed_time": 37.23914393,
                        "remaining_time": 29.02267801,
                        "test": [
                          0.2843606228
                        ]
                      },
                      {
                        "learn": [
                          0.2595444035
                        ],
                        "iteration": 562,
                        "passed_time": 37.2952678,
                        "remaining_time": 28.94854712,
                        "test": [
                          0.2843310236
                        ]
                      },
                      {
                        "learn": [
                          0.2595179574
                        ],
                        "iteration": 563,
                        "passed_time": 37.3432597,
                        "remaining_time": 28.86819367,
                        "test": [
                          0.2843382109
                        ]
                      },
                      {
                        "learn": [
                          0.2594118259
                        ],
                        "iteration": 564,
                        "passed_time": 37.39649666,
                        "remaining_time": 28.791993,
                        "test": [
                          0.2843579879
                        ]
                      },
                      {
                        "learn": [
                          0.2593991505
                        ],
                        "iteration": 565,
                        "passed_time": 37.46686718,
                        "remaining_time": 28.72901123,
                        "test": [
                          0.2843541198
                        ]
                      },
                      {
                        "learn": [
                          0.2593398494
                        ],
                        "iteration": 566,
                        "passed_time": 37.59231581,
                        "remaining_time": 28.7080648,
                        "test": [
                          0.2843320681
                        ]
                      },
                      {
                        "learn": [
                          0.2592793132
                        ],
                        "iteration": 567,
                        "passed_time": 37.65235952,
                        "remaining_time": 28.63700583,
                        "test": [
                          0.2843371181
                        ]
                      },
                      {
                        "learn": [
                          0.2592353744
                        ],
                        "iteration": 568,
                        "passed_time": 37.70058515,
                        "remaining_time": 28.55703374,
                        "test": [
                          0.2843368222
                        ]
                      },
                      {
                        "learn": [
                          0.2592158412
                        ],
                        "iteration": 569,
                        "passed_time": 37.74799971,
                        "remaining_time": 28.47656119,
                        "test": [
                          0.2843375507
                        ]
                      },
                      {
                        "learn": [
                          0.2591821861
                        ],
                        "iteration": 570,
                        "passed_time": 37.79432934,
                        "remaining_time": 28.39538929,
                        "test": [
                          0.2843291943
                        ]
                      },
                      {
                        "learn": [
                          0.2591666636
                        ],
                        "iteration": 571,
                        "passed_time": 37.84218458,
                        "remaining_time": 28.31548077,
                        "test": [
                          0.284338601
                        ]
                      },
                      {
                        "learn": [
                          0.2591311654
                        ],
                        "iteration": 572,
                        "passed_time": 37.89559161,
                        "remaining_time": 28.23982132,
                        "test": [
                          0.2843484123
                        ]
                      },
                      {
                        "learn": [
                          0.2590501404
                        ],
                        "iteration": 573,
                        "passed_time": 37.95000473,
                        "remaining_time": 28.16498609,
                        "test": [
                          0.284322591
                        ]
                      },
                      {
                        "learn": [
                          0.2590212418
                        ],
                        "iteration": 574,
                        "passed_time": 37.9951669,
                        "remaining_time": 28.08338423,
                        "test": [
                          0.2843201417
                        ]
                      },
                      {
                        "learn": [
                          0.2589784788
                        ],
                        "iteration": 575,
                        "passed_time": 38.04244196,
                        "remaining_time": 28.00346422,
                        "test": [
                          0.2843254592
                        ]
                      },
                      {
                        "learn": [
                          0.2589559975
                        ],
                        "iteration": 576,
                        "passed_time": 38.11486917,
                        "remaining_time": 27.94209647,
                        "test": [
                          0.2843250127
                        ]
                      },
                      {
                        "learn": [
                          0.2589348031
                        ],
                        "iteration": 577,
                        "passed_time": 38.15040298,
                        "remaining_time": 27.85375442,
                        "test": [
                          0.2843250693
                        ]
                      },
                      {
                        "learn": [
                          0.2589169002
                        ],
                        "iteration": 578,
                        "passed_time": 38.19646102,
                        "remaining_time": 27.77324713,
                        "test": [
                          0.2843302014
                        ]
                      },
                      {
                        "learn": [
                          0.2588722495
                        ],
                        "iteration": 579,
                        "passed_time": 38.25008736,
                        "remaining_time": 27.69833912,
                        "test": [
                          0.2843336857
                        ]
                      },
                      {
                        "learn": [
                          0.258863285
                        ],
                        "iteration": 580,
                        "passed_time": 38.29696883,
                        "remaining_time": 27.61864017,
                        "test": [
                          0.2843339117
                        ]
                      },
                      {
                        "learn": [
                          0.2587866587
                        ],
                        "iteration": 581,
                        "passed_time": 38.35722428,
                        "remaining_time": 27.54865936,
                        "test": [
                          0.2842999274
                        ]
                      },
                      {
                        "learn": [
                          0.2587460589
                        ],
                        "iteration": 582,
                        "passed_time": 38.41259464,
                        "remaining_time": 27.47521778,
                        "test": [
                          0.2842988195
                        ]
                      },
                      {
                        "learn": [
                          0.2586903652
                        ],
                        "iteration": 583,
                        "passed_time": 38.46623347,
                        "remaining_time": 27.40060466,
                        "test": [
                          0.2843059522
                        ]
                      },
                      {
                        "learn": [
                          0.2586758379
                        ],
                        "iteration": 584,
                        "passed_time": 38.50993167,
                        "remaining_time": 27.31901135,
                        "test": [
                          0.2843154008
                        ]
                      },
                      {
                        "learn": [
                          0.258633582
                        ],
                        "iteration": 585,
                        "passed_time": 38.65612101,
                        "remaining_time": 27.3099558,
                        "test": [
                          0.2843156893
                        ]
                      },
                      {
                        "learn": [
                          0.2585914315
                        ],
                        "iteration": 586,
                        "passed_time": 38.7072081,
                        "remaining_time": 27.2335212,
                        "test": [
                          0.2843149437
                        ]
                      },
                      {
                        "learn": [
                          0.2585628607
                        ],
                        "iteration": 587,
                        "passed_time": 38.7582153,
                        "remaining_time": 27.15711684,
                        "test": [
                          0.2843228693
                        ]
                      },
                      {
                        "learn": [
                          0.2585138363
                        ],
                        "iteration": 588,
                        "passed_time": 38.80788695,
                        "remaining_time": 27.07986679,
                        "test": [
                          0.2843295833
                        ]
                      },
                      {
                        "learn": [
                          0.2584541482
                        ],
                        "iteration": 589,
                        "passed_time": 38.86453046,
                        "remaining_time": 27.00755507,
                        "test": [
                          0.2843280844
                        ]
                      },
                      {
                        "learn": [
                          0.2584232867
                        ],
                        "iteration": 590,
                        "passed_time": 38.92311816,
                        "remaining_time": 26.93664184,
                        "test": [
                          0.2843096725
                        ]
                      },
                      {
                        "learn": [
                          0.2583870316
                        ],
                        "iteration": 591,
                        "passed_time": 38.97279916,
                        "remaining_time": 26.85963185,
                        "test": [
                          0.2843047723
                        ]
                      },
                      {
                        "learn": [
                          0.2583255832
                        ],
                        "iteration": 592,
                        "passed_time": 39.01850898,
                        "remaining_time": 26.77998846,
                        "test": [
                          0.2843029833
                        ]
                      },
                      {
                        "learn": [
                          0.2582615354
                        ],
                        "iteration": 593,
                        "passed_time": 39.07237459,
                        "remaining_time": 26.70603381,
                        "test": [
                          0.2843219918
                        ]
                      },
                      {
                        "learn": [
                          0.2582286335
                        ],
                        "iteration": 594,
                        "passed_time": 39.12491919,
                        "remaining_time": 26.63124751,
                        "test": [
                          0.2843199334
                        ]
                      },
                      {
                        "learn": [
                          0.2581880169
                        ],
                        "iteration": 595,
                        "passed_time": 39.19448317,
                        "remaining_time": 26.56807248,
                        "test": [
                          0.2843132793
                        ]
                      },
                      {
                        "learn": [
                          0.258146062
                        ],
                        "iteration": 596,
                        "passed_time": 39.24088245,
                        "remaining_time": 26.48923891,
                        "test": [
                          0.2843196243
                        ]
                      },
                      {
                        "learn": [
                          0.2580798955
                        ],
                        "iteration": 597,
                        "passed_time": 39.28620139,
                        "remaining_time": 26.40978756,
                        "test": [
                          0.2843072397
                        ]
                      },
                      {
                        "learn": [
                          0.2580111605
                        ],
                        "iteration": 598,
                        "passed_time": 39.33574886,
                        "remaining_time": 26.33328096,
                        "test": [
                          0.2843371969
                        ]
                      },
                      {
                        "learn": [
                          0.2579531532
                        ],
                        "iteration": 599,
                        "passed_time": 39.37239371,
                        "remaining_time": 26.24826247,
                        "test": [
                          0.2843370148
                        ]
                      },
                      {
                        "learn": [
                          0.2578887484
                        ],
                        "iteration": 600,
                        "passed_time": 39.40553416,
                        "remaining_time": 26.16107842,
                        "test": [
                          0.2843699089
                        ]
                      },
                      {
                        "learn": [
                          0.2578454073
                        ],
                        "iteration": 601,
                        "passed_time": 39.45731549,
                        "remaining_time": 26.08639795,
                        "test": [
                          0.2843727119
                        ]
                      },
                      {
                        "learn": [
                          0.2578224378
                        ],
                        "iteration": 602,
                        "passed_time": 39.50109008,
                        "remaining_time": 26.00652199,
                        "test": [
                          0.2843755919
                        ]
                      },
                      {
                        "learn": [
                          0.2577768561
                        ],
                        "iteration": 603,
                        "passed_time": 39.55240727,
                        "remaining_time": 25.93171073,
                        "test": [
                          0.2843653729
                        ]
                      },
                      {
                        "learn": [
                          0.2576789555
                        ],
                        "iteration": 604,
                        "passed_time": 39.65051708,
                        "remaining_time": 25.88752768,
                        "test": [
                          0.2843881455
                        ]
                      },
                      {
                        "learn": [
                          0.2576185975
                        ],
                        "iteration": 605,
                        "passed_time": 39.73856666,
                        "remaining_time": 25.83662585,
                        "test": [
                          0.2843833118
                        ]
                      },
                      {
                        "learn": [
                          0.2575963332
                        ],
                        "iteration": 606,
                        "passed_time": 39.78724309,
                        "remaining_time": 25.76010961,
                        "test": [
                          0.2843905356
                        ]
                      },
                      {
                        "learn": [
                          0.2575029547
                        ],
                        "iteration": 607,
                        "passed_time": 39.83527453,
                        "remaining_time": 25.6832691,
                        "test": [
                          0.2844071877
                        ]
                      },
                      {
                        "learn": [
                          0.2574723504
                        ],
                        "iteration": 608,
                        "passed_time": 39.88694686,
                        "remaining_time": 25.60886079,
                        "test": [
                          0.2843848525
                        ]
                      },
                      {
                        "learn": [
                          0.2574268844
                        ],
                        "iteration": 609,
                        "passed_time": 39.93694006,
                        "remaining_time": 25.53345348,
                        "test": [
                          0.2843866809
                        ]
                      },
                      {
                        "learn": [
                          0.2573922743
                        ],
                        "iteration": 610,
                        "passed_time": 39.99401689,
                        "remaining_time": 25.46263923,
                        "test": [
                          0.2843955488
                        ]
                      },
                      {
                        "learn": [
                          0.2573880636
                        ],
                        "iteration": 611,
                        "passed_time": 40.04266002,
                        "remaining_time": 25.38652302,
                        "test": [
                          0.2843940149
                        ]
                      },
                      {
                        "learn": [
                          0.2573342976
                        ],
                        "iteration": 612,
                        "passed_time": 40.09938331,
                        "remaining_time": 25.31559762,
                        "test": [
                          0.2843388223
                        ]
                      },
                      {
                        "learn": [
                          0.2573192704
                        ],
                        "iteration": 613,
                        "passed_time": 40.15301968,
                        "remaining_time": 25.24277784,
                        "test": [
                          0.2843375252
                        ]
                      },
                      {
                        "learn": [
                          0.2572499729
                        ],
                        "iteration": 614,
                        "passed_time": 40.21665824,
                        "remaining_time": 25.17628199,
                        "test": [
                          0.2842718998
                        ]
                      },
                      {
                        "learn": [
                          0.257223045
                        ],
                        "iteration": 615,
                        "passed_time": 40.26398383,
                        "remaining_time": 25.09962629,
                        "test": [
                          0.2842612817
                        ]
                      },
                      {
                        "learn": [
                          0.2571712888
                        ],
                        "iteration": 616,
                        "passed_time": 40.32538774,
                        "remaining_time": 25.03180471,
                        "test": [
                          0.2842333853
                        ]
                      },
                      {
                        "learn": [
                          0.2571041662
                        ],
                        "iteration": 617,
                        "passed_time": 40.38967539,
                        "remaining_time": 24.96578641,
                        "test": [
                          0.2841425193
                        ]
                      },
                      {
                        "learn": [
                          0.2570905649
                        ],
                        "iteration": 618,
                        "passed_time": 40.44197359,
                        "remaining_time": 24.89239408,
                        "test": [
                          0.2841518568
                        ]
                      },
                      {
                        "learn": [
                          0.2570623342
                        ],
                        "iteration": 619,
                        "passed_time": 40.50091251,
                        "remaining_time": 24.82313993,
                        "test": [
                          0.2841353356
                        ]
                      },
                      {
                        "learn": [
                          0.2570135002
                        ],
                        "iteration": 620,
                        "passed_time": 40.54821659,
                        "remaining_time": 24.74681818,
                        "test": [
                          0.2841368497
                        ]
                      },
                      {
                        "learn": [
                          0.2569734892
                        ],
                        "iteration": 621,
                        "passed_time": 40.59743188,
                        "remaining_time": 24.6717512,
                        "test": [
                          0.2841295114
                        ]
                      },
                      {
                        "learn": [
                          0.2567580658
                        ],
                        "iteration": 622,
                        "passed_time": 40.65967694,
                        "remaining_time": 24.60465202,
                        "test": [
                          0.2839038842
                        ]
                      },
                      {
                        "learn": [
                          0.2567050063
                        ],
                        "iteration": 623,
                        "passed_time": 40.9719693,
                        "remaining_time": 24.68823791,
                        "test": [
                          0.2838963563
                        ]
                      },
                      {
                        "learn": [
                          0.2566824386
                        ],
                        "iteration": 624,
                        "passed_time": 41.03959403,
                        "remaining_time": 24.62375642,
                        "test": [
                          0.2839031965
                        ]
                      },
                      {
                        "learn": [
                          0.2566112557
                        ],
                        "iteration": 625,
                        "passed_time": 41.10092336,
                        "remaining_time": 24.55550373,
                        "test": [
                          0.2838718869
                        ]
                      },
                      {
                        "learn": [
                          0.2565632609
                        ],
                        "iteration": 626,
                        "passed_time": 41.15863922,
                        "remaining_time": 24.48512349,
                        "test": [
                          0.2838658253
                        ]
                      },
                      {
                        "learn": [
                          0.2565375608
                        ],
                        "iteration": 627,
                        "passed_time": 41.21557258,
                        "remaining_time": 24.41432006,
                        "test": [
                          0.2838680909
                        ]
                      },
                      {
                        "learn": [
                          0.2565180057
                        ],
                        "iteration": 628,
                        "passed_time": 41.26432909,
                        "remaining_time": 24.33873783,
                        "test": [
                          0.2838693847
                        ]
                      },
                      {
                        "learn": [
                          0.2564956889
                        ],
                        "iteration": 629,
                        "passed_time": 41.30403419,
                        "remaining_time": 24.25792484,
                        "test": [
                          0.2838769183
                        ]
                      },
                      {
                        "learn": [
                          0.2564736486
                        ],
                        "iteration": 630,
                        "passed_time": 41.35563663,
                        "remaining_time": 24.18419955,
                        "test": [
                          0.2838766617
                        ]
                      },
                      {
                        "learn": [
                          0.2564313607
                        ],
                        "iteration": 631,
                        "passed_time": 41.40987494,
                        "remaining_time": 24.11207908,
                        "test": [
                          0.2838705625
                        ]
                      },
                      {
                        "learn": [
                          0.2563726026
                        ],
                        "iteration": 632,
                        "passed_time": 41.45936536,
                        "remaining_time": 24.03726238,
                        "test": [
                          0.2838659532
                        ]
                      },
                      {
                        "learn": [
                          0.2563453988
                        ],
                        "iteration": 633,
                        "passed_time": 41.5109118,
                        "remaining_time": 23.96371249,
                        "test": [
                          0.2838489125
                        ]
                      },
                      {
                        "learn": [
                          0.2562990584
                        ],
                        "iteration": 634,
                        "passed_time": 41.56247388,
                        "remaining_time": 23.89024089,
                        "test": [
                          0.2838586419
                        ]
                      },
                      {
                        "learn": [
                          0.2562475845
                        ],
                        "iteration": 635,
                        "passed_time": 41.62265965,
                        "remaining_time": 23.82177376,
                        "test": [
                          0.2838508344
                        ]
                      },
                      {
                        "learn": [
                          0.2562233505
                        ],
                        "iteration": 636,
                        "passed_time": 41.66495347,
                        "remaining_time": 23.74313675,
                        "test": [
                          0.2838533707
                        ]
                      },
                      {
                        "learn": [
                          0.2562059022
                        ],
                        "iteration": 637,
                        "passed_time": 41.71703536,
                        "remaining_time": 23.6701674,
                        "test": [
                          0.283854552
                        ]
                      },
                      {
                        "learn": [
                          0.2561858309
                        ],
                        "iteration": 638,
                        "passed_time": 41.79007131,
                        "remaining_time": 23.60910132,
                        "test": [
                          0.2838691942
                        ]
                      },
                      {
                        "learn": [
                          0.2561640241
                        ],
                        "iteration": 639,
                        "passed_time": 41.85192575,
                        "remaining_time": 23.54170824,
                        "test": [
                          0.2838461414
                        ]
                      },
                      {
                        "learn": [
                          0.2561420554
                        ],
                        "iteration": 640,
                        "passed_time": 41.8937626,
                        "remaining_time": 23.46312133,
                        "test": [
                          0.2838437945
                        ]
                      },
                      {
                        "learn": [
                          0.2560859277
                        ],
                        "iteration": 641,
                        "passed_time": 41.96416085,
                        "remaining_time": 23.40057568,
                        "test": [
                          0.2838452946
                        ]
                      },
                      {
                        "learn": [
                          0.2560338074
                        ],
                        "iteration": 642,
                        "passed_time": 42.08067214,
                        "remaining_time": 23.36360801,
                        "test": [
                          0.2838475475
                        ]
                      },
                      {
                        "learn": [
                          0.2560071414
                        ],
                        "iteration": 643,
                        "passed_time": 42.14422464,
                        "remaining_time": 23.29711797,
                        "test": [
                          0.2838482015
                        ]
                      },
                      {
                        "learn": [
                          0.2559582783
                        ],
                        "iteration": 644,
                        "passed_time": 42.18747401,
                        "remaining_time": 23.21946244,
                        "test": [
                          0.2838540547
                        ]
                      },
                      {
                        "learn": [
                          0.2559054534
                        ],
                        "iteration": 645,
                        "passed_time": 42.25537545,
                        "remaining_time": 23.15542246,
                        "test": [
                          0.2838433933
                        ]
                      },
                      {
                        "learn": [
                          0.2558296966
                        ],
                        "iteration": 646,
                        "passed_time": 42.30411399,
                        "remaining_time": 23.08091536,
                        "test": [
                          0.28383847
                        ]
                      },
                      {
                        "learn": [
                          0.2557816261
                        ],
                        "iteration": 647,
                        "passed_time": 42.35323864,
                        "remaining_time": 23.00669753,
                        "test": [
                          0.2838531381
                        ]
                      },
                      {
                        "learn": [
                          0.2556855995
                        ],
                        "iteration": 648,
                        "passed_time": 42.41588174,
                        "remaining_time": 22.93986824,
                        "test": [
                          0.2837400712
                        ]
                      },
                      {
                        "learn": [
                          0.2556360762
                        ],
                        "iteration": 649,
                        "passed_time": 42.47555699,
                        "remaining_time": 22.87145377,
                        "test": [
                          0.2836742824
                        ]
                      },
                      {
                        "learn": [
                          0.2555927081
                        ],
                        "iteration": 650,
                        "passed_time": 42.52815196,
                        "remaining_time": 22.79927041,
                        "test": [
                          0.2836483264
                        ]
                      },
                      {
                        "learn": [
                          0.2555528227
                        ],
                        "iteration": 651,
                        "passed_time": 42.57662772,
                        "remaining_time": 22.72494854,
                        "test": [
                          0.2836551221
                        ]
                      },
                      {
                        "learn": [
                          0.2555147211
                        ],
                        "iteration": 652,
                        "passed_time": 42.62815204,
                        "remaining_time": 22.65232581,
                        "test": [
                          0.2836272073
                        ]
                      },
                      {
                        "learn": [
                          0.2554794634
                        ],
                        "iteration": 653,
                        "passed_time": 42.67957061,
                        "remaining_time": 22.57971167,
                        "test": [
                          0.2836307723
                        ]
                      },
                      {
                        "learn": [
                          0.2554283818
                        ],
                        "iteration": 654,
                        "passed_time": 42.73053042,
                        "remaining_time": 22.5069206,
                        "test": [
                          0.2836423724
                        ]
                      },
                      {
                        "learn": [
                          0.2553999342
                        ],
                        "iteration": 655,
                        "passed_time": 42.77959469,
                        "remaining_time": 22.43320209,
                        "test": [
                          0.2836555556
                        ]
                      },
                      {
                        "learn": [
                          0.2553685155
                        ],
                        "iteration": 656,
                        "passed_time": 42.83567032,
                        "remaining_time": 22.36321906,
                        "test": [
                          0.2836156141
                        ]
                      },
                      {
                        "learn": [
                          0.2553269608
                        ],
                        "iteration": 657,
                        "passed_time": 42.88358923,
                        "remaining_time": 22.28903878,
                        "test": [
                          0.28361504
                        ]
                      },
                      {
                        "learn": [
                          0.2553059077
                        ],
                        "iteration": 658,
                        "passed_time": 42.94695044,
                        "remaining_time": 22.22292883,
                        "test": [
                          0.2835967171
                        ]
                      },
                      {
                        "learn": [
                          0.2552403289
                        ],
                        "iteration": 659,
                        "passed_time": 43.02798583,
                        "remaining_time": 22.16593209,
                        "test": [
                          0.2835691499
                        ]
                      },
                      {
                        "learn": [
                          0.2552004091
                        ],
                        "iteration": 660,
                        "passed_time": 43.14820429,
                        "remaining_time": 22.12895803,
                        "test": [
                          0.2835696805
                        ]
                      },
                      {
                        "learn": [
                          0.2551879095
                        ],
                        "iteration": 661,
                        "passed_time": 43.22321434,
                        "remaining_time": 22.06865022,
                        "test": [
                          0.2835789642
                        ]
                      },
                      {
                        "learn": [
                          0.2551575716
                        ],
                        "iteration": 662,
                        "passed_time": 43.27909624,
                        "remaining_time": 21.99857531,
                        "test": [
                          0.283584375
                        ]
                      },
                      {
                        "learn": [
                          0.2551324635
                        ],
                        "iteration": 663,
                        "passed_time": 43.32794773,
                        "remaining_time": 21.9249856,
                        "test": [
                          0.2835688062
                        ]
                      },
                      {
                        "learn": [
                          0.2551206765
                        ],
                        "iteration": 664,
                        "passed_time": 43.3584875,
                        "remaining_time": 21.84224558,
                        "test": [
                          0.2835781004
                        ]
                      },
                      {
                        "learn": [
                          0.2550966887
                        ],
                        "iteration": 665,
                        "passed_time": 43.40911691,
                        "remaining_time": 21.76973731,
                        "test": [
                          0.283583616
                        ]
                      },
                      {
                        "learn": [
                          0.2550376787
                        ],
                        "iteration": 666,
                        "passed_time": 43.45968547,
                        "remaining_time": 21.69726426,
                        "test": [
                          0.2836183864
                        ]
                      },
                      {
                        "learn": [
                          0.2550214975
                        ],
                        "iteration": 667,
                        "passed_time": 43.507418,
                        "remaining_time": 21.62344727,
                        "test": [
                          0.283624992
                        ]
                      },
                      {
                        "learn": [
                          0.2550024133
                        ],
                        "iteration": 668,
                        "passed_time": 43.54509587,
                        "remaining_time": 21.54473353,
                        "test": [
                          0.2836301331
                        ]
                      },
                      {
                        "learn": [
                          0.2549867703
                        ],
                        "iteration": 669,
                        "passed_time": 43.57744094,
                        "remaining_time": 21.46351569,
                        "test": [
                          0.2836356994
                        ]
                      },
                      {
                        "learn": [
                          0.2549256954
                        ],
                        "iteration": 670,
                        "passed_time": 43.62399629,
                        "remaining_time": 21.389411,
                        "test": [
                          0.2836428762
                        ]
                      },
                      {
                        "learn": [
                          0.2548560207
                        ],
                        "iteration": 671,
                        "passed_time": 43.67528653,
                        "remaining_time": 21.31769938,
                        "test": [
                          0.2836348702
                        ]
                      },
                      {
                        "learn": [
                          0.2548073316
                        ],
                        "iteration": 672,
                        "passed_time": 43.73125867,
                        "remaining_time": 21.24832331,
                        "test": [
                          0.2836244396
                        ]
                      },
                      {
                        "learn": [
                          0.2547417889
                        ],
                        "iteration": 673,
                        "passed_time": 43.7825825,
                        "remaining_time": 21.17673872,
                        "test": [
                          0.2836318311
                        ]
                      },
                      {
                        "learn": [
                          0.2546886057
                        ],
                        "iteration": 674,
                        "passed_time": 43.83258359,
                        "remaining_time": 21.10457728,
                        "test": [
                          0.283658261
                        ]
                      },
                      {
                        "learn": [
                          0.2546487801
                        ],
                        "iteration": 675,
                        "passed_time": 43.87972211,
                        "remaining_time": 21.03110941,
                        "test": [
                          0.2836540162
                        ]
                      },
                      {
                        "learn": [
                          0.2546172997
                        ],
                        "iteration": 676,
                        "passed_time": 43.92860101,
                        "remaining_time": 20.95854967,
                        "test": [
                          0.2836581533
                        ]
                      },
                      {
                        "learn": [
                          0.254591307
                        ],
                        "iteration": 677,
                        "passed_time": 43.97316008,
                        "remaining_time": 20.88400818,
                        "test": [
                          0.2836630715
                        ]
                      },
                      {
                        "learn": [
                          0.2545467511
                        ],
                        "iteration": 678,
                        "passed_time": 44.02307415,
                        "remaining_time": 20.8120866,
                        "test": [
                          0.283649113
                        ]
                      },
                      {
                        "learn": [
                          0.2544881189
                        ],
                        "iteration": 679,
                        "passed_time": 44.10446233,
                        "remaining_time": 20.7550411,
                        "test": [
                          0.2836378757
                        ]
                      },
                      {
                        "learn": [
                          0.2544081281
                        ],
                        "iteration": 680,
                        "passed_time": 44.22790716,
                        "remaining_time": 20.71762465,
                        "test": [
                          0.2836375961
                        ]
                      },
                      {
                        "learn": [
                          0.2543710134
                        ],
                        "iteration": 681,
                        "passed_time": 44.29162088,
                        "remaining_time": 20.65210475,
                        "test": [
                          0.2836204753
                        ]
                      },
                      {
                        "learn": [
                          0.2543362689
                        ],
                        "iteration": 682,
                        "passed_time": 44.33766755,
                        "remaining_time": 20.57839036,
                        "test": [
                          0.2835976181
                        ]
                      },
                      {
                        "learn": [
                          0.2543111276
                        ],
                        "iteration": 683,
                        "passed_time": 44.40123187,
                        "remaining_time": 20.51284981,
                        "test": [
                          0.2835842841
                        ]
                      },
                      {
                        "learn": [
                          0.2542517126
                        ],
                        "iteration": 684,
                        "passed_time": 44.44721976,
                        "remaining_time": 20.43923244,
                        "test": [
                          0.2835710962
                        ]
                      },
                      {
                        "learn": [
                          0.2542081116
                        ],
                        "iteration": 685,
                        "passed_time": 44.50479038,
                        "remaining_time": 20.37099734,
                        "test": [
                          0.2835605858
                        ]
                      },
                      {
                        "learn": [
                          0.2541985234
                        ],
                        "iteration": 686,
                        "passed_time": 44.54981821,
                        "remaining_time": 20.29707875,
                        "test": [
                          0.2835588034
                        ]
                      },
                      {
                        "learn": [
                          0.2541729716
                        ],
                        "iteration": 687,
                        "passed_time": 44.60124058,
                        "remaining_time": 20.22614399,
                        "test": [
                          0.283564753
                        ]
                      },
                      {
                        "learn": [
                          0.2541253454
                        ],
                        "iteration": 688,
                        "passed_time": 44.66448607,
                        "remaining_time": 20.16060257,
                        "test": [
                          0.2835398527
                        ]
                      },
                      {
                        "learn": [
                          0.2540687909
                        ],
                        "iteration": 689,
                        "passed_time": 44.71346952,
                        "remaining_time": 20.08866022,
                        "test": [
                          0.2835368032
                        ]
                      },
                      {
                        "learn": [
                          0.2540301574
                        ],
                        "iteration": 690,
                        "passed_time": 44.76669247,
                        "remaining_time": 20.01868014,
                        "test": [
                          0.2835091922
                        ]
                      },
                      {
                        "learn": [
                          0.2539895264
                        ],
                        "iteration": 691,
                        "passed_time": 44.81438536,
                        "remaining_time": 19.94628713,
                        "test": [
                          0.2834807876
                        ]
                      },
                      {
                        "learn": [
                          0.2539459738
                        ],
                        "iteration": 692,
                        "passed_time": 44.8624508,
                        "remaining_time": 19.87413044,
                        "test": [
                          0.2834958862
                        ]
                      },
                      {
                        "learn": [
                          0.2538987604
                        ],
                        "iteration": 693,
                        "passed_time": 44.91446903,
                        "remaining_time": 19.80378606,
                        "test": [
                          0.2834877224
                        ]
                      },
                      {
                        "learn": [
                          0.2538584953
                        ],
                        "iteration": 694,
                        "passed_time": 44.96423986,
                        "remaining_time": 19.73250814,
                        "test": [
                          0.2834900605
                        ]
                      },
                      {
                        "learn": [
                          0.2538266194
                        ],
                        "iteration": 695,
                        "passed_time": 45.01611805,
                        "remaining_time": 19.66221248,
                        "test": [
                          0.2835013971
                        ]
                      },
                      {
                        "learn": [
                          0.2537903368
                        ],
                        "iteration": 696,
                        "passed_time": 45.0740199,
                        "remaining_time": 19.59458828,
                        "test": [
                          0.2835141532
                        ]
                      },
                      {
                        "learn": [
                          0.2537294012
                        ],
                        "iteration": 697,
                        "passed_time": 45.13674948,
                        "remaining_time": 19.52908072,
                        "test": [
                          0.2834885307
                        ]
                      },
                      {
                        "learn": [
                          0.2537058962
                        ],
                        "iteration": 698,
                        "passed_time": 45.24344614,
                        "remaining_time": 19.48251401,
                        "test": [
                          0.2834789594
                        ]
                      },
                      {
                        "learn": [
                          0.2536801749
                        ],
                        "iteration": 699,
                        "passed_time": 45.34698477,
                        "remaining_time": 19.43442205,
                        "test": [
                          0.2834836372
                        ]
                      },
                      {
                        "learn": [
                          0.2536647485
                        ],
                        "iteration": 700,
                        "passed_time": 45.40326651,
                        "remaining_time": 19.36601524,
                        "test": [
                          0.2834873294
                        ]
                      },
                      {
                        "learn": [
                          0.2536230895
                        ],
                        "iteration": 701,
                        "passed_time": 45.45222845,
                        "remaining_time": 19.29453572,
                        "test": [
                          0.2834963173
                        ]
                      },
                      {
                        "learn": [
                          0.2535965643
                        ],
                        "iteration": 702,
                        "passed_time": 45.50102798,
                        "remaining_time": 19.22305165,
                        "test": [
                          0.2834886071
                        ]
                      },
                      {
                        "learn": [
                          0.2535529503
                        ],
                        "iteration": 703,
                        "passed_time": 45.5552877,
                        "remaining_time": 19.15392778,
                        "test": [
                          0.283505887
                        ]
                      },
                      {
                        "learn": [
                          0.2535063201
                        ],
                        "iteration": 704,
                        "passed_time": 45.61782748,
                        "remaining_time": 19.08831079,
                        "test": [
                          0.2835160592
                        ]
                      },
                      {
                        "learn": [
                          0.2534876124
                        ],
                        "iteration": 705,
                        "passed_time": 45.67714603,
                        "remaining_time": 19.02136109,
                        "test": [
                          0.283518708
                        ]
                      },
                      {
                        "learn": [
                          0.2534386141
                        ],
                        "iteration": 706,
                        "passed_time": 45.72805426,
                        "remaining_time": 18.95094752,
                        "test": [
                          0.2835500995
                        ]
                      },
                      {
                        "learn": [
                          0.253423877
                        ],
                        "iteration": 707,
                        "passed_time": 45.77408589,
                        "remaining_time": 18.8785778,
                        "test": [
                          0.2835571726
                        ]
                      },
                      {
                        "learn": [
                          0.2533924497
                        ],
                        "iteration": 708,
                        "passed_time": 45.81465533,
                        "remaining_time": 18.80404048,
                        "test": [
                          0.2835496807
                        ]
                      },
                      {
                        "learn": [
                          0.2533722704
                        ],
                        "iteration": 709,
                        "passed_time": 45.86412853,
                        "remaining_time": 18.7332356,
                        "test": [
                          0.2835432281
                        ]
                      },
                      {
                        "learn": [
                          0.2533470408
                        ],
                        "iteration": 710,
                        "passed_time": 45.91570808,
                        "remaining_time": 18.66334688,
                        "test": [
                          0.2835428169
                        ]
                      },
                      {
                        "learn": [
                          0.2533143559
                        ],
                        "iteration": 711,
                        "passed_time": 45.96024231,
                        "remaining_time": 18.59065981,
                        "test": [
                          0.2835611277
                        ]
                      },
                      {
                        "learn": [
                          0.2532591419
                        ],
                        "iteration": 712,
                        "passed_time": 46.00832772,
                        "remaining_time": 18.51948114,
                        "test": [
                          0.2835648797
                        ]
                      },
                      {
                        "learn": [
                          0.2532479855
                        ],
                        "iteration": 713,
                        "passed_time": 46.05486258,
                        "remaining_time": 18.44774607,
                        "test": [
                          0.2835737595
                        ]
                      },
                      {
                        "learn": [
                          0.2532218278
                        ],
                        "iteration": 714,
                        "passed_time": 46.10874642,
                        "remaining_time": 18.37901081,
                        "test": [
                          0.2835793117
                        ]
                      },
                      {
                        "learn": [
                          0.2531716856
                        ],
                        "iteration": 715,
                        "passed_time": 46.16027454,
                        "remaining_time": 18.30938264,
                        "test": [
                          0.2835780055
                        ]
                      },
                      {
                        "learn": [
                          0.2531660105
                        ],
                        "iteration": 716,
                        "passed_time": 46.20189513,
                        "remaining_time": 18.23589445,
                        "test": [
                          0.283578059
                        ]
                      },
                      {
                        "learn": [
                          0.2531048718
                        ],
                        "iteration": 717,
                        "passed_time": 46.2803176,
                        "remaining_time": 18.17694925,
                        "test": [
                          0.2835251488
                        ]
                      },
                      {
                        "learn": [
                          0.2530875112
                        ],
                        "iteration": 718,
                        "passed_time": 46.40664427,
                        "remaining_time": 18.13667182,
                        "test": [
                          0.2835350796
                        ]
                      },
                      {
                        "learn": [
                          0.2530214314
                        ],
                        "iteration": 719,
                        "passed_time": 46.47114089,
                        "remaining_time": 18.07211035,
                        "test": [
                          0.2835354242
                        ]
                      },
                      {
                        "learn": [
                          0.2529678782
                        ],
                        "iteration": 720,
                        "passed_time": 46.51886122,
                        "remaining_time": 18.00105725,
                        "test": [
                          0.2835277891
                        ]
                      },
                      {
                        "learn": [
                          0.2529219139
                        ],
                        "iteration": 721,
                        "passed_time": 46.57012401,
                        "remaining_time": 17.93143279,
                        "test": [
                          0.2835074491
                        ]
                      },
                      {
                        "learn": [
                          0.2528713321
                        ],
                        "iteration": 722,
                        "passed_time": 46.63199165,
                        "remaining_time": 17.86592211,
                        "test": [
                          0.2834737163
                        ]
                      },
                      {
                        "learn": [
                          0.2528239182
                        ],
                        "iteration": 723,
                        "passed_time": 46.67879337,
                        "remaining_time": 17.79467814,
                        "test": [
                          0.2834768638
                        ]
                      },
                      {
                        "learn": [
                          0.2527896956
                        ],
                        "iteration": 724,
                        "passed_time": 46.73022842,
                        "remaining_time": 17.72525906,
                        "test": [
                          0.2834892796
                        ]
                      },
                      {
                        "learn": [
                          0.2527704008
                        ],
                        "iteration": 725,
                        "passed_time": 46.77737314,
                        "remaining_time": 17.6542703,
                        "test": [
                          0.2834961317
                        ]
                      },
                      {
                        "learn": [
                          0.2527470831
                        ],
                        "iteration": 726,
                        "passed_time": 46.82867207,
                        "remaining_time": 17.58490712,
                        "test": [
                          0.2834958067
                        ]
                      },
                      {
                        "learn": [
                          0.2526866664
                        ],
                        "iteration": 727,
                        "passed_time": 46.88508261,
                        "remaining_time": 17.51750339,
                        "test": [
                          0.2834794836
                        ]
                      },
                      {
                        "learn": [
                          0.252658689
                        ],
                        "iteration": 728,
                        "passed_time": 46.93997549,
                        "remaining_time": 17.44956565,
                        "test": [
                          0.2834431494
                        ]
                      },
                      {
                        "learn": [
                          0.252630351
                        ],
                        "iteration": 729,
                        "passed_time": 46.99038093,
                        "remaining_time": 17.38000391,
                        "test": [
                          0.2834390435
                        ]
                      },
                      {
                        "learn": [
                          0.2526200223
                        ],
                        "iteration": 730,
                        "passed_time": 47.02900904,
                        "remaining_time": 17.30616065,
                        "test": [
                          0.2834479095
                        ]
                      },
                      {
                        "learn": [
                          0.2526036919
                        ],
                        "iteration": 731,
                        "passed_time": 47.0880813,
                        "remaining_time": 17.23989862,
                        "test": [
                          0.2834479824
                        ]
                      },
                      {
                        "learn": [
                          0.2525463394
                        ],
                        "iteration": 732,
                        "passed_time": 47.176387,
                        "remaining_time": 17.18430468,
                        "test": [
                          0.2834445697
                        ]
                      },
                      {
                        "learn": [
                          0.2525229653
                        ],
                        "iteration": 733,
                        "passed_time": 47.26592415,
                        "remaining_time": 17.12906788,
                        "test": [
                          0.2834453714
                        ]
                      },
                      {
                        "learn": [
                          0.2524689008
                        ],
                        "iteration": 734,
                        "passed_time": 47.41826635,
                        "remaining_time": 17.09638174,
                        "test": [
                          0.2833824488
                        ]
                      },
                      {
                        "learn": [
                          0.2524080171
                        ],
                        "iteration": 735,
                        "passed_time": 47.56986944,
                        "remaining_time": 17.06310534,
                        "test": [
                          0.2833810716
                        ]
                      },
                      {
                        "learn": [
                          0.2523851429
                        ],
                        "iteration": 736,
                        "passed_time": 47.67433536,
                        "remaining_time": 17.01268684,
                        "test": [
                          0.2833974838
                        ]
                      },
                      {
                        "learn": [
                          0.2523437438
                        ],
                        "iteration": 737,
                        "passed_time": 47.78844016,
                        "remaining_time": 16.9655438,
                        "test": [
                          0.2833761958
                        ]
                      },
                      {
                        "learn": [
                          0.2522952037
                        ],
                        "iteration": 738,
                        "passed_time": 47.876561,
                        "remaining_time": 16.90904252,
                        "test": [
                          0.2833858179
                        ]
                      },
                      {
                        "learn": [
                          0.2522395946
                        ],
                        "iteration": 739,
                        "passed_time": 47.99022425,
                        "remaining_time": 16.86143014,
                        "test": [
                          0.283310665
                        ]
                      },
                      {
                        "learn": [
                          0.2522180927
                        ],
                        "iteration": 740,
                        "passed_time": 48.08863622,
                        "remaining_time": 16.80830875,
                        "test": [
                          0.2833158186
                        ]
                      },
                      {
                        "learn": [
                          0.2521388069
                        ],
                        "iteration": 741,
                        "passed_time": 48.17985089,
                        "remaining_time": 16.75256271,
                        "test": [
                          0.2833149438
                        ]
                      },
                      {
                        "learn": [
                          0.2520740027
                        ],
                        "iteration": 742,
                        "passed_time": 48.27981879,
                        "remaining_time": 16.6997489,
                        "test": [
                          0.2833113785
                        ]
                      },
                      {
                        "learn": [
                          0.2520459377
                        ],
                        "iteration": 743,
                        "passed_time": 48.38115221,
                        "remaining_time": 16.64727818,
                        "test": [
                          0.283307854
                        ]
                      },
                      {
                        "learn": [
                          0.2520132276
                        ],
                        "iteration": 744,
                        "passed_time": 48.49294881,
                        "remaining_time": 16.59825765,
                        "test": [
                          0.2832964484
                        ]
                      },
                      {
                        "learn": [
                          0.2520028825
                        ],
                        "iteration": 745,
                        "passed_time": 48.64066981,
                        "remaining_time": 16.56130044,
                        "test": [
                          0.2832968566
                        ]
                      },
                      {
                        "learn": [
                          0.2519423922
                        ],
                        "iteration": 746,
                        "passed_time": 48.78109602,
                        "remaining_time": 16.52157603,
                        "test": [
                          0.2833003237
                        ]
                      },
                      {
                        "learn": [
                          0.2519045899
                        ],
                        "iteration": 747,
                        "passed_time": 48.91163119,
                        "remaining_time": 16.47825008,
                        "test": [
                          0.2833070345
                        ]
                      },
                      {
                        "learn": [
                          0.2518770316
                        ],
                        "iteration": 748,
                        "passed_time": 49.00271344,
                        "remaining_time": 16.42147006,
                        "test": [
                          0.2833154363
                        ]
                      },
                      {
                        "learn": [
                          0.2518686371
                        ],
                        "iteration": 749,
                        "passed_time": 49.09677455,
                        "remaining_time": 16.36559152,
                        "test": [
                          0.2833171335
                        ]
                      },
                      {
                        "learn": [
                          0.2518481802
                        ],
                        "iteration": 750,
                        "passed_time": 49.18511304,
                        "remaining_time": 16.30771391,
                        "test": [
                          0.2833240273
                        ]
                      },
                      {
                        "learn": [
                          0.2518263885
                        ],
                        "iteration": 751,
                        "passed_time": 49.27882878,
                        "remaining_time": 16.25152864,
                        "test": [
                          0.2833257023
                        ]
                      },
                      {
                        "learn": [
                          0.2518225431
                        ],
                        "iteration": 752,
                        "passed_time": 49.36228452,
                        "remaining_time": 16.19187819,
                        "test": [
                          0.2833270565
                        ]
                      },
                      {
                        "learn": [
                          0.2518053128
                        ],
                        "iteration": 753,
                        "passed_time": 49.4455463,
                        "remaining_time": 16.13210131,
                        "test": [
                          0.2833399611
                        ]
                      },
                      {
                        "learn": [
                          0.2517482757
                        ],
                        "iteration": 754,
                        "passed_time": 49.5266371,
                        "remaining_time": 16.07155774,
                        "test": [
                          0.283340281
                        ]
                      },
                      {
                        "learn": [
                          0.2517433951
                        ],
                        "iteration": 755,
                        "passed_time": 49.61482295,
                        "remaining_time": 16.01324974,
                        "test": [
                          0.2833371566
                        ]
                      },
                      {
                        "learn": [
                          0.2517404849
                        ],
                        "iteration": 756,
                        "passed_time": 49.68936926,
                        "remaining_time": 15.95048445,
                        "test": [
                          0.2833371976
                        ]
                      },
                      {
                        "learn": [
                          0.2517216343
                        ],
                        "iteration": 757,
                        "passed_time": 50.01936789,
                        "remaining_time": 15.9692441,
                        "test": [
                          0.2833538919
                        ]
                      },
                      {
                        "learn": [
                          0.2517052603
                        ],
                        "iteration": 758,
                        "passed_time": 50.20523379,
                        "remaining_time": 15.94131929,
                        "test": [
                          0.2833354355
                        ]
                      },
                      {
                        "learn": [
                          0.251665688
                        ],
                        "iteration": 759,
                        "passed_time": 50.3331815,
                        "remaining_time": 15.89468889,
                        "test": [
                          0.2833460993
                        ]
                      },
                      {
                        "learn": [
                          0.2516296067
                        ],
                        "iteration": 760,
                        "passed_time": 50.43327979,
                        "remaining_time": 15.83909838,
                        "test": [
                          0.2833557401
                        ]
                      },
                      {
                        "learn": [
                          0.2515736923
                        ],
                        "iteration": 761,
                        "passed_time": 50.55020273,
                        "remaining_time": 15.788646,
                        "test": [
                          0.2833331193
                        ]
                      },
                      {
                        "learn": [
                          0.2515625929
                        ],
                        "iteration": 762,
                        "passed_time": 50.66485368,
                        "remaining_time": 15.73731366,
                        "test": [
                          0.2833180151
                        ]
                      },
                      {
                        "learn": [
                          0.2515386114
                        ],
                        "iteration": 763,
                        "passed_time": 50.76952324,
                        "remaining_time": 15.68273231,
                        "test": [
                          0.2833006052
                        ]
                      },
                      {
                        "learn": [
                          0.2515098664
                        ],
                        "iteration": 764,
                        "passed_time": 50.86207589,
                        "remaining_time": 15.62429782,
                        "test": [
                          0.2833046012
                        ]
                      },
                      {
                        "learn": [
                          0.2514660299
                        ],
                        "iteration": 765,
                        "passed_time": 50.96083957,
                        "remaining_time": 15.56767162,
                        "test": [
                          0.2833093201
                        ]
                      },
                      {
                        "learn": [
                          0.2514456105
                        ],
                        "iteration": 766,
                        "passed_time": 51.03380268,
                        "remaining_time": 15.50309782,
                        "test": [
                          0.2833119633
                        ]
                      },
                      {
                        "learn": [
                          0.2514076585
                        ],
                        "iteration": 767,
                        "passed_time": 51.08513212,
                        "remaining_time": 15.431967,
                        "test": [
                          0.2833202145
                        ]
                      },
                      {
                        "learn": [
                          0.2513472219
                        ],
                        "iteration": 768,
                        "passed_time": 51.13673809,
                        "remaining_time": 15.36097074,
                        "test": [
                          0.2833118192
                        ]
                      },
                      {
                        "learn": [
                          0.2513133219
                        ],
                        "iteration": 769,
                        "passed_time": 51.18453613,
                        "remaining_time": 15.28888742,
                        "test": [
                          0.2833182788
                        ]
                      },
                      {
                        "learn": [
                          0.2512772827
                        ],
                        "iteration": 770,
                        "passed_time": 51.26024887,
                        "remaining_time": 15.22515822,
                        "test": [
                          0.2833206526
                        ]
                      },
                      {
                        "learn": [
                          0.2512516508
                        ],
                        "iteration": 771,
                        "passed_time": 51.42271783,
                        "remaining_time": 15.18702029,
                        "test": [
                          0.2833236454
                        ]
                      },
                      {
                        "learn": [
                          0.2512123884
                        ],
                        "iteration": 772,
                        "passed_time": 51.47469865,
                        "remaining_time": 15.11611461,
                        "test": [
                          0.2833340681
                        ]
                      },
                      {
                        "learn": [
                          0.2511893905
                        ],
                        "iteration": 773,
                        "passed_time": 51.5200279,
                        "remaining_time": 15.04331564,
                        "test": [
                          0.283343592
                        ]
                      },
                      {
                        "learn": [
                          0.2511334916
                        ],
                        "iteration": 774,
                        "passed_time": 51.55964908,
                        "remaining_time": 14.96893038,
                        "test": [
                          0.2833162
                        ]
                      },
                      {
                        "learn": [
                          0.251077568
                        ],
                        "iteration": 775,
                        "passed_time": 51.63390755,
                        "remaining_time": 14.90463311,
                        "test": [
                          0.2833319779
                        ]
                      },
                      {
                        "learn": [
                          0.2510240636
                        ],
                        "iteration": 776,
                        "passed_time": 51.68752539,
                        "remaining_time": 14.83438631,
                        "test": [
                          0.2833371028
                        ]
                      },
                      {
                        "learn": [
                          0.2509387977
                        ],
                        "iteration": 777,
                        "passed_time": 51.74514312,
                        "remaining_time": 14.76532362,
                        "test": [
                          0.2832779419
                        ]
                      },
                      {
                        "learn": [
                          0.2509316342
                        ],
                        "iteration": 778,
                        "passed_time": 51.79389253,
                        "remaining_time": 14.69377439,
                        "test": [
                          0.2832810913
                        ]
                      },
                      {
                        "learn": [
                          0.2509119692
                        ],
                        "iteration": 779,
                        "passed_time": 51.84000384,
                        "remaining_time": 14.62153954,
                        "test": [
                          0.283287449
                        ]
                      },
                      {
                        "learn": [
                          0.2508595718
                        ],
                        "iteration": 780,
                        "passed_time": 51.90046346,
                        "remaining_time": 14.553395,
                        "test": [
                          0.2832665812
                        ]
                      },
                      {
                        "learn": [
                          0.2508159394
                        ],
                        "iteration": 781,
                        "passed_time": 51.9869356,
                        "remaining_time": 14.49252169,
                        "test": [
                          0.2832645259
                        ]
                      },
                      {
                        "learn": [
                          0.2507993492
                        ],
                        "iteration": 782,
                        "passed_time": 52.04723994,
                        "remaining_time": 14.42433087,
                        "test": [
                          0.2832678854
                        ]
                      },
                      {
                        "learn": [
                          0.2507937049
                        ],
                        "iteration": 783,
                        "passed_time": 52.09282841,
                        "remaining_time": 14.35210579,
                        "test": [
                          0.2832698751
                        ]
                      },
                      {
                        "learn": [
                          0.2507510731
                        ],
                        "iteration": 784,
                        "passed_time": 52.14889165,
                        "remaining_time": 14.28281746,
                        "test": [
                          0.2832724839
                        ]
                      },
                      {
                        "learn": [
                          0.2507181547
                        ],
                        "iteration": 785,
                        "passed_time": 52.20608487,
                        "remaining_time": 14.21387044,
                        "test": [
                          0.2832828084
                        ]
                      },
                      {
                        "learn": [
                          0.2506869979
                        ],
                        "iteration": 786,
                        "passed_time": 52.25932746,
                        "remaining_time": 14.14388405,
                        "test": [
                          0.2832874358
                        ]
                      },
                      {
                        "learn": [
                          0.2506563569
                        ],
                        "iteration": 787,
                        "passed_time": 52.30354338,
                        "remaining_time": 14.07151167,
                        "test": [
                          0.2832757842
                        ]
                      },
                      {
                        "learn": [
                          0.2505943773
                        ],
                        "iteration": 788,
                        "passed_time": 52.34995602,
                        "remaining_time": 13.99979813,
                        "test": [
                          0.2832937605
                        ]
                      },
                      {
                        "learn": [
                          0.2505582167
                        ],
                        "iteration": 789,
                        "passed_time": 52.48299139,
                        "remaining_time": 13.95117493,
                        "test": [
                          0.2833122871
                        ]
                      },
                      {
                        "learn": [
                          0.2505305095
                        ],
                        "iteration": 790,
                        "passed_time": 52.57430465,
                        "remaining_time": 13.89131438,
                        "test": [
                          0.2832971316
                        ]
                      },
                      {
                        "learn": [
                          0.2504806411
                        ],
                        "iteration": 791,
                        "passed_time": 52.67535595,
                        "remaining_time": 13.83393186,
                        "test": [
                          0.2833061386
                        ]
                      },
                      {
                        "learn": [
                          0.250465408
                        ],
                        "iteration": 792,
                        "passed_time": 52.73379605,
                        "remaining_time": 13.76531624,
                        "test": [
                          0.2833046019
                        ]
                      },
                      {
                        "learn": [
                          0.2504314328
                        ],
                        "iteration": 793,
                        "passed_time": 52.78690333,
                        "remaining_time": 13.69534268,
                        "test": [
                          0.2832741278
                        ]
                      },
                      {
                        "learn": [
                          0.2503728357
                        ],
                        "iteration": 794,
                        "passed_time": 52.83353083,
                        "remaining_time": 13.62374066,
                        "test": [
                          0.2832890778
                        ]
                      },
                      {
                        "learn": [
                          0.2503474226
                        ],
                        "iteration": 795,
                        "passed_time": 52.88386981,
                        "remaining_time": 13.55315257,
                        "test": [
                          0.2832983014
                        ]
                      },
                      {
                        "learn": [
                          0.2503217792
                        ],
                        "iteration": 796,
                        "passed_time": 52.93807231,
                        "remaining_time": 13.48359935,
                        "test": [
                          0.2833012044
                        ]
                      },
                      {
                        "learn": [
                          0.2503028455
                        ],
                        "iteration": 797,
                        "passed_time": 52.98784087,
                        "remaining_time": 13.41296222,
                        "test": [
                          0.2833082632
                        ]
                      },
                      {
                        "learn": [
                          0.2502519607
                        ],
                        "iteration": 798,
                        "passed_time": 53.04647456,
                        "remaining_time": 13.34460749,
                        "test": [
                          0.2833016861
                        ]
                      },
                      {
                        "learn": [
                          0.2502055481
                        ],
                        "iteration": 799,
                        "passed_time": 53.11047459,
                        "remaining_time": 13.27761865,
                        "test": [
                          0.2833032544
                        ]
                      },
                      {
                        "learn": [
                          0.2501829895
                        ],
                        "iteration": 800,
                        "passed_time": 53.17019647,
                        "remaining_time": 13.2095744,
                        "test": [
                          0.2833052658
                        ]
                      },
                      {
                        "learn": [
                          0.2501307657
                        ],
                        "iteration": 801,
                        "passed_time": 53.22379615,
                        "remaining_time": 13.14003945,
                        "test": [
                          0.283321948
                        ]
                      },
                      {
                        "learn": [
                          0.2501081163
                        ],
                        "iteration": 802,
                        "passed_time": 53.2757384,
                        "remaining_time": 13.07013756,
                        "test": [
                          0.2833168743
                        ]
                      },
                      {
                        "learn": [
                          0.2500835654
                        ],
                        "iteration": 803,
                        "passed_time": 53.32378669,
                        "remaining_time": 12.99933108,
                        "test": [
                          0.2833206759
                        ]
                      },
                      {
                        "learn": [
                          0.2500693048
                        ],
                        "iteration": 804,
                        "passed_time": 53.37805945,
                        "remaining_time": 12.93008893,
                        "test": [
                          0.2833182588
                        ]
                      },
                      {
                        "learn": [
                          0.2500210511
                        ],
                        "iteration": 805,
                        "passed_time": 53.42782205,
                        "remaining_time": 12.85979836,
                        "test": [
                          0.2833395743
                        ]
                      },
                      {
                        "learn": [
                          0.2500061621
                        ],
                        "iteration": 806,
                        "passed_time": 53.54049597,
                        "remaining_time": 12.80460436,
                        "test": [
                          0.2833459586
                        ]
                      },
                      {
                        "learn": [
                          0.2499846666
                        ],
                        "iteration": 807,
                        "passed_time": 53.63940575,
                        "remaining_time": 12.74599741,
                        "test": [
                          0.2833415187
                        ]
                      },
                      {
                        "learn": [
                          0.2499450027
                        ],
                        "iteration": 808,
                        "passed_time": 53.71143715,
                        "remaining_time": 12.68094499,
                        "test": [
                          0.2833438574
                        ]
                      },
                      {
                        "learn": [
                          0.249928526
                        ],
                        "iteration": 809,
                        "passed_time": 53.76039166,
                        "remaining_time": 12.61046224,
                        "test": [
                          0.2833615198
                        ]
                      },
                      {
                        "learn": [
                          0.2498224911
                        ],
                        "iteration": 810,
                        "passed_time": 53.82095773,
                        "remaining_time": 12.54273861,
                        "test": [
                          0.2832364705
                        ]
                      },
                      {
                        "learn": [
                          0.2497826232
                        ],
                        "iteration": 811,
                        "passed_time": 53.86874309,
                        "remaining_time": 12.47207352,
                        "test": [
                          0.2832175274
                        ]
                      },
                      {
                        "learn": [
                          0.2497473302
                        ],
                        "iteration": 812,
                        "passed_time": 53.9191305,
                        "remaining_time": 12.40206323,
                        "test": [
                          0.283213603
                        ]
                      },
                      {
                        "learn": [
                          0.2497106162
                        ],
                        "iteration": 813,
                        "passed_time": 53.97491023,
                        "remaining_time": 12.3333333,
                        "test": [
                          0.2832262954
                        ]
                      },
                      {
                        "learn": [
                          0.2496758535
                        ],
                        "iteration": 814,
                        "passed_time": 54.02745161,
                        "remaining_time": 12.26390006,
                        "test": [
                          0.2832267153
                        ]
                      },
                      {
                        "learn": [
                          0.2496307603
                        ],
                        "iteration": 815,
                        "passed_time": 54.0775484,
                        "remaining_time": 12.19395699,
                        "test": [
                          0.2831903527
                        ]
                      },
                      {
                        "learn": [
                          0.2494569458
                        ],
                        "iteration": 816,
                        "passed_time": 54.13732763,
                        "remaining_time": 12.12623128,
                        "test": [
                          0.2830094122
                        ]
                      },
                      {
                        "learn": [
                          0.249425181
                        ],
                        "iteration": 817,
                        "passed_time": 54.19444543,
                        "remaining_time": 12.05793285,
                        "test": [
                          0.2829807297
                        ]
                      },
                      {
                        "learn": [
                          0.2494072005
                        ],
                        "iteration": 818,
                        "passed_time": 54.25273777,
                        "remaining_time": 11.98992129,
                        "test": [
                          0.282988718
                        ]
                      },
                      {
                        "learn": [
                          0.249389437
                        ],
                        "iteration": 819,
                        "passed_time": 54.3022054,
                        "remaining_time": 11.91999631,
                        "test": [
                          0.2829782602
                        ]
                      },
                      {
                        "learn": [
                          0.2493439424
                        ],
                        "iteration": 820,
                        "passed_time": 54.35258282,
                        "remaining_time": 11.85031952,
                        "test": [
                          0.2829904002
                        ]
                      },
                      {
                        "learn": [
                          0.2493344526
                        ],
                        "iteration": 821,
                        "passed_time": 54.40398834,
                        "remaining_time": 11.78091232,
                        "test": [
                          0.2829989192
                        ]
                      },
                      {
                        "learn": [
                          0.2492854311
                        ],
                        "iteration": 822,
                        "passed_time": 54.45526204,
                        "remaining_time": 11.71152051,
                        "test": [
                          0.2830163224
                        ]
                      },
                      {
                        "learn": [
                          0.2492741919
                        ],
                        "iteration": 823,
                        "passed_time": 54.49962988,
                        "remaining_time": 11.64069764,
                        "test": [
                          0.2830214905
                        ]
                      },
                      {
                        "learn": [
                          0.2492370192
                        ],
                        "iteration": 824,
                        "passed_time": 54.59223141,
                        "remaining_time": 11.5801703,
                        "test": [
                          0.2830000835
                        ]
                      },
                      {
                        "learn": [
                          0.2492115919
                        ],
                        "iteration": 825,
                        "passed_time": 54.71193802,
                        "remaining_time": 11.52527508,
                        "test": [
                          0.2830043967
                        ]
                      },
                      {
                        "learn": [
                          0.249160527
                        ],
                        "iteration": 826,
                        "passed_time": 54.78778806,
                        "remaining_time": 11.46104877,
                        "test": [
                          0.2829809118
                        ]
                      },
                      {
                        "learn": [
                          0.2491325696
                        ],
                        "iteration": 827,
                        "passed_time": 54.83909278,
                        "remaining_time": 11.3916956,
                        "test": [
                          0.2829751267
                        ]
                      },
                      {
                        "learn": [
                          0.2491024449
                        ],
                        "iteration": 828,
                        "passed_time": 54.88994277,
                        "remaining_time": 11.32229218,
                        "test": [
                          0.2829750201
                        ]
                      },
                      {
                        "learn": [
                          0.2490702021
                        ],
                        "iteration": 829,
                        "passed_time": 54.94508104,
                        "remaining_time": 11.25381178,
                        "test": [
                          0.2829838064
                        ]
                      },
                      {
                        "learn": [
                          0.249039254
                        ],
                        "iteration": 830,
                        "passed_time": 54.99625177,
                        "remaining_time": 11.18455662,
                        "test": [
                          0.2829888945
                        ]
                      },
                      {
                        "learn": [
                          0.2490351435
                        ],
                        "iteration": 831,
                        "passed_time": 55.04331419,
                        "remaining_time": 11.11451536,
                        "test": [
                          0.2829893201
                        ]
                      },
                      {
                        "learn": [
                          0.2489904416
                        ],
                        "iteration": 832,
                        "passed_time": 55.09328679,
                        "remaining_time": 11.04511272,
                        "test": [
                          0.2829938211
                        ]
                      },
                      {
                        "learn": [
                          0.248943827
                        ],
                        "iteration": 833,
                        "passed_time": 55.14513165,
                        "remaining_time": 10.97612932,
                        "test": [
                          0.2829907249
                        ]
                      },
                      {
                        "learn": [
                          0.2489114872
                        ],
                        "iteration": 834,
                        "passed_time": 55.2020066,
                        "remaining_time": 10.90818095,
                        "test": [
                          0.2829835071
                        ]
                      },
                      {
                        "learn": [
                          0.2488605784
                        ],
                        "iteration": 835,
                        "passed_time": 55.24688582,
                        "remaining_time": 10.83790583,
                        "test": [
                          0.2829851938
                        ]
                      },
                      {
                        "learn": [
                          0.2488012279
                        ],
                        "iteration": 836,
                        "passed_time": 55.30102763,
                        "remaining_time": 10.76949523,
                        "test": [
                          0.2829926185
                        ]
                      },
                      {
                        "learn": [
                          0.2487925491
                        ],
                        "iteration": 837,
                        "passed_time": 55.34334683,
                        "remaining_time": 10.69883316,
                        "test": [
                          0.2829955635
                        ]
                      },
                      {
                        "learn": [
                          0.2487735586
                        ],
                        "iteration": 838,
                        "passed_time": 55.39423775,
                        "remaining_time": 10.62988353,
                        "test": [
                          0.2829987274
                        ]
                      },
                      {
                        "learn": [
                          0.2487314879
                        ],
                        "iteration": 839,
                        "passed_time": 55.44761445,
                        "remaining_time": 10.56145037,
                        "test": [
                          0.28298931
                        ]
                      },
                      {
                        "learn": [
                          0.2487150949
                        ],
                        "iteration": 840,
                        "passed_time": 55.49880805,
                        "remaining_time": 10.49264029,
                        "test": [
                          0.2829879322
                        ]
                      },
                      {
                        "learn": [
                          0.248697018
                        ],
                        "iteration": 841,
                        "passed_time": 55.54466808,
                        "remaining_time": 10.42287121,
                        "test": [
                          0.2829838599
                        ]
                      },
                      {
                        "learn": [
                          0.248675209
                        ],
                        "iteration": 842,
                        "passed_time": 55.60187198,
                        "remaining_time": 10.35527153,
                        "test": [
                          0.282978797
                        ]
                      },
                      {
                        "learn": [
                          0.2486598508
                        ],
                        "iteration": 843,
                        "passed_time": 55.72629909,
                        "remaining_time": 10.30012163,
                        "test": [
                          0.2829829311
                        ]
                      },
                      {
                        "learn": [
                          0.24861724
                        ],
                        "iteration": 844,
                        "passed_time": 55.82804992,
                        "remaining_time": 10.24064821,
                        "test": [
                          0.2829747168
                        ]
                      },
                      {
                        "learn": [
                          0.2484487112
                        ],
                        "iteration": 845,
                        "passed_time": 55.88756533,
                        "remaining_time": 10.1733866,
                        "test": [
                          0.282813919
                        ]
                      },
                      {
                        "learn": [
                          0.2482960432
                        ],
                        "iteration": 846,
                        "passed_time": 55.94404695,
                        "remaining_time": 10.10559526,
                        "test": [
                          0.2826680033
                        ]
                      },
                      {
                        "learn": [
                          0.2482671551
                        ],
                        "iteration": 847,
                        "passed_time": 55.99253222,
                        "remaining_time": 10.03639728,
                        "test": [
                          0.2826853048
                        ]
                      },
                      {
                        "learn": [
                          0.2482326772
                        ],
                        "iteration": 848,
                        "passed_time": 56.03593487,
                        "remaining_time": 9.966344128,
                        "test": [
                          0.2826922969
                        ]
                      },
                      {
                        "learn": [
                          0.2481851735
                        ],
                        "iteration": 849,
                        "passed_time": 56.07775839,
                        "remaining_time": 9.89607501,
                        "test": [
                          0.282694038
                        ]
                      },
                      {
                        "learn": [
                          0.2481671988
                        ],
                        "iteration": 850,
                        "passed_time": 56.13344315,
                        "remaining_time": 9.828299681,
                        "test": [
                          0.2826879899
                        ]
                      },
                      {
                        "learn": [
                          0.2481539921
                        ],
                        "iteration": 851,
                        "passed_time": 56.17866343,
                        "remaining_time": 9.758734962,
                        "test": [
                          0.2827012485
                        ]
                      },
                      {
                        "learn": [
                          0.2481401672
                        ],
                        "iteration": 852,
                        "passed_time": 56.21490986,
                        "remaining_time": 9.687680831,
                        "test": [
                          0.2827149226
                        ]
                      },
                      {
                        "learn": [
                          0.248099963
                        ],
                        "iteration": 853,
                        "passed_time": 56.26342503,
                        "remaining_time": 9.618805684,
                        "test": [
                          0.2827220942
                        ]
                      },
                      {
                        "learn": [
                          0.2480868424
                        ],
                        "iteration": 854,
                        "passed_time": 56.30833739,
                        "remaining_time": 9.549367159,
                        "test": [
                          0.2827165434
                        ]
                      },
                      {
                        "learn": [
                          0.2480430806
                        ],
                        "iteration": 855,
                        "passed_time": 56.35910656,
                        "remaining_time": 9.480971197,
                        "test": [
                          0.2826855939
                        ]
                      },
                      {
                        "learn": [
                          0.248015463
                        ],
                        "iteration": 856,
                        "passed_time": 56.4258239,
                        "remaining_time": 9.415277501,
                        "test": [
                          0.2826649496
                        ]
                      },
                      {
                        "learn": [
                          0.2479883023
                        ],
                        "iteration": 857,
                        "passed_time": 56.48382117,
                        "remaining_time": 9.348138236,
                        "test": [
                          0.2826548475
                        ]
                      },
                      {
                        "learn": [
                          0.2479472805
                        ],
                        "iteration": 858,
                        "passed_time": 56.51970184,
                        "remaining_time": 9.277389941,
                        "test": [
                          0.2826280003
                        ]
                      },
                      {
                        "learn": [
                          0.2478175744
                        ],
                        "iteration": 859,
                        "passed_time": 56.58216311,
                        "remaining_time": 9.211049808,
                        "test": [
                          0.2825007589
                        ]
                      },
                      {
                        "learn": [
                          0.2478036791
                        ],
                        "iteration": 860,
                        "passed_time": 56.63407918,
                        "remaining_time": 9.143016268,
                        "test": [
                          0.2825024107
                        ]
                      },
                      {
                        "learn": [
                          0.2477693878
                        ],
                        "iteration": 861,
                        "passed_time": 56.68629616,
                        "remaining_time": 9.075068295,
                        "test": [
                          0.2825065453
                        ]
                      },
                      {
                        "learn": [
                          0.2477317065
                        ],
                        "iteration": 862,
                        "passed_time": 56.80956145,
                        "remaining_time": 9.018435596,
                        "test": [
                          0.2825148831
                        ]
                      },
                      {
                        "learn": [
                          0.2476912195
                        ],
                        "iteration": 863,
                        "passed_time": 56.90331419,
                        "remaining_time": 8.95700316,
                        "test": [
                          0.2825093088
                        ]
                      },
                      {
                        "learn": [
                          0.2475723297
                        ],
                        "iteration": 864,
                        "passed_time": 57.00992473,
                        "remaining_time": 8.897502703,
                        "test": [
                          0.2823922724
                        ]
                      },
                      {
                        "learn": [
                          0.2475615144
                        ],
                        "iteration": 865,
                        "passed_time": 57.05795756,
                        "remaining_time": 8.82882946,
                        "test": [
                          0.282392567
                        ]
                      },
                      {
                        "learn": [
                          0.2475328831
                        ],
                        "iteration": 866,
                        "passed_time": 57.10710114,
                        "remaining_time": 8.760374224,
                        "test": [
                          0.2824016539
                        ]
                      },
                      {
                        "learn": [
                          0.2475109179
                        ],
                        "iteration": 867,
                        "passed_time": 57.15237187,
                        "remaining_time": 8.691374524,
                        "test": [
                          0.2824044646
                        ]
                      },
                      {
                        "learn": [
                          0.2474659607
                        ],
                        "iteration": 868,
                        "passed_time": 57.2109997,
                        "remaining_time": 8.624442992,
                        "test": [
                          0.2823956815
                        ]
                      },
                      {
                        "learn": [
                          0.2474534442
                        ],
                        "iteration": 869,
                        "passed_time": 57.24667166,
                        "remaining_time": 8.554100363,
                        "test": [
                          0.2823989546
                        ]
                      },
                      {
                        "learn": [
                          0.2474038042
                        ],
                        "iteration": 870,
                        "passed_time": 57.29228191,
                        "remaining_time": 8.485309262,
                        "test": [
                          0.2824222019
                        ]
                      },
                      {
                        "learn": [
                          0.2473625051
                        ],
                        "iteration": 871,
                        "passed_time": 57.34170436,
                        "remaining_time": 8.417130915,
                        "test": [
                          0.2824139365
                        ]
                      },
                      {
                        "learn": [
                          0.2473056618
                        ],
                        "iteration": 872,
                        "passed_time": 57.38957562,
                        "remaining_time": 8.348769878,
                        "test": [
                          0.2824045485
                        ]
                      },
                      {
                        "learn": [
                          0.247293826
                        ],
                        "iteration": 873,
                        "passed_time": 57.42992753,
                        "remaining_time": 8.279371704,
                        "test": [
                          0.2824073467
                        ]
                      },
                      {
                        "learn": [
                          0.2471794238
                        ],
                        "iteration": 874,
                        "passed_time": 57.48918528,
                        "remaining_time": 8.212740755,
                        "test": [
                          0.282315937
                        ]
                      },
                      {
                        "learn": [
                          0.2471636912
                        ],
                        "iteration": 875,
                        "passed_time": 57.5311578,
                        "remaining_time": 8.143679871,
                        "test": [
                          0.2823181695
                        ]
                      },
                      {
                        "learn": [
                          0.2471017554
                        ],
                        "iteration": 876,
                        "passed_time": 57.58371401,
                        "remaining_time": 8.076165135,
                        "test": [
                          0.2823100536
                        ]
                      },
                      {
                        "learn": [
                          0.2470732326
                        ],
                        "iteration": 877,
                        "passed_time": 57.63184438,
                        "remaining_time": 8.008069492,
                        "test": [
                          0.2823288338
                        ]
                      },
                      {
                        "learn": [
                          0.2470421566
                        ],
                        "iteration": 878,
                        "passed_time": 57.67798209,
                        "remaining_time": 7.939744975,
                        "test": [
                          0.2823232461
                        ]
                      },
                      {
                        "learn": [
                          0.2469990842
                        ],
                        "iteration": 879,
                        "passed_time": 57.72696577,
                        "remaining_time": 7.871858969,
                        "test": [
                          0.2823320604
                        ]
                      },
                      {
                        "learn": [
                          0.2469855306
                        ],
                        "iteration": 880,
                        "passed_time": 57.79255965,
                        "remaining_time": 7.806259477,
                        "test": [
                          0.2823331119
                        ]
                      },
                      {
                        "learn": [
                          0.2469553848
                        ],
                        "iteration": 881,
                        "passed_time": 57.91997147,
                        "remaining_time": 7.748930423,
                        "test": [
                          0.2823325887
                        ]
                      },
                      {
                        "learn": [
                          0.2469323895
                        ],
                        "iteration": 882,
                        "passed_time": 58.00320756,
                        "remaining_time": 7.685589223,
                        "test": [
                          0.2823444259
                        ]
                      },
                      {
                        "learn": [
                          0.2469190515
                        ],
                        "iteration": 883,
                        "passed_time": 58.04663257,
                        "remaining_time": 7.616978934,
                        "test": [
                          0.2823381813
                        ]
                      },
                      {
                        "learn": [
                          0.2468766788
                        ],
                        "iteration": 884,
                        "passed_time": 58.09781125,
                        "remaining_time": 7.5494331,
                        "test": [
                          0.2823306572
                        ]
                      },
                      {
                        "learn": [
                          0.2468200153
                        ],
                        "iteration": 885,
                        "passed_time": 58.14692785,
                        "remaining_time": 7.481658888,
                        "test": [
                          0.2823205047
                        ]
                      },
                      {
                        "learn": [
                          0.2467627703
                        ],
                        "iteration": 886,
                        "passed_time": 58.19737126,
                        "remaining_time": 7.414095774,
                        "test": [
                          0.2823118249
                        ]
                      },
                      {
                        "learn": [
                          0.2467169273
                        ],
                        "iteration": 887,
                        "passed_time": 58.24967378,
                        "remaining_time": 7.346805701,
                        "test": [
                          0.2823138516
                        ]
                      },
                      {
                        "learn": [
                          0.2466792851
                        ],
                        "iteration": 888,
                        "passed_time": 58.30232428,
                        "remaining_time": 7.279592796,
                        "test": [
                          0.282336944
                        ]
                      },
                      {
                        "learn": [
                          0.2466689707
                        ],
                        "iteration": 889,
                        "passed_time": 58.34738231,
                        "remaining_time": 7.211474218,
                        "test": [
                          0.2823370887
                        ]
                      },
                      {
                        "learn": [
                          0.2466316506
                        ],
                        "iteration": 890,
                        "passed_time": 58.39824415,
                        "remaining_time": 7.14411741,
                        "test": [
                          0.2823480322
                        ]
                      },
                      {
                        "learn": [
                          0.2466097703
                        ],
                        "iteration": 891,
                        "passed_time": 58.45511144,
                        "remaining_time": 7.077524704,
                        "test": [
                          0.2823450678
                        ]
                      },
                      {
                        "learn": [
                          0.2465588206
                        ],
                        "iteration": 892,
                        "passed_time": 58.50965486,
                        "remaining_time": 7.01067533,
                        "test": [
                          0.2823591764
                        ]
                      },
                      {
                        "learn": [
                          0.2465361179
                        ],
                        "iteration": 893,
                        "passed_time": 58.57686704,
                        "remaining_time": 6.9453556,
                        "test": [
                          0.2823605852
                        ]
                      },
                      {
                        "learn": [
                          0.246487388
                        ],
                        "iteration": 894,
                        "passed_time": 58.631597,
                        "remaining_time": 6.878567246,
                        "test": [
                          0.2823147429
                        ]
                      },
                      {
                        "learn": [
                          0.2464770886
                        ],
                        "iteration": 895,
                        "passed_time": 58.67910123,
                        "remaining_time": 6.810967107,
                        "test": [
                          0.2823174047
                        ]
                      },
                      {
                        "learn": [
                          0.2464496471
                        ],
                        "iteration": 896,
                        "passed_time": 58.73199204,
                        "remaining_time": 6.744030301,
                        "test": [
                          0.2822911386
                        ]
                      },
                      {
                        "learn": [
                          0.2464031738
                        ],
                        "iteration": 897,
                        "passed_time": 58.80001325,
                        "remaining_time": 6.678843376,
                        "test": [
                          0.2822699845
                        ]
                      }
                    ],
                    "meta": {
                      "test_sets": [
                        "test"
                      ],
                      "test_metrics": [
                        {
                          "best_value": "Min",
                          "name": "Logloss"
                        }
                      ],
                      "learn_metrics": [
                        {
                          "best_value": "Min",
                          "name": "Logloss"
                        }
                      ],
                      "launch_mode": "Train",
                      "parameters": "",
                      "iteration_count": 1000,
                      "learn_sets": [
                        "learn"
                      ],
                      "name": "experiment"
                    }
                  }
                }
              },
              "catboost_info/fold-2": {
                "path": "catboost_info/fold-2",
                "name": "fold-2",
                "content": {
                  "passed_iterations": 0,
                  "total_iterations": 0,
                  "data": {
                    "iterations": [],
                    "meta": {}
                  }
                }
              }
            },
            "layout": "IPY_MODEL_66fa45d5a64649559de04fc391d31cb3"
          }
        }
      }
    }
  },
  "nbformat": 4,
  "nbformat_minor": 0
}