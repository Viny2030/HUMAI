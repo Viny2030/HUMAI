{
  "cells": [
    {
      "cell_type": "markdown",
      "metadata": {
        "id": "view-in-github",
        "colab_type": "text"
      },
      "source": [
        "<a href=\"https://colab.research.google.com/github/Viny2030/HUMAI/blob/main/ejercicios_solucion.ipynb\" target=\"_parent\"><img src=\"https://colab.research.google.com/assets/colab-badge.svg\" alt=\"Open In Colab\"/></a>"
      ]
    },
    {
      "cell_type": "markdown",
      "metadata": {
        "id": "eK_cm9zp5WTw"
      },
      "source": [
        "<a href=\"https://colab.research.google.com/github/institutohumai/cursos-python/blob/master/Introduccion/4_Intro_Poo/ejercicio/ejercicio-solucion.ipynb\"> <img src='https://colab.research.google.com/assets/colab-badge.svg' /> </a>\n",
        "<div align=\"center\"> Recordá abrir en una nueva pestaña </div>"
      ]
    },
    {
      "cell_type": "markdown",
      "metadata": {
        "id": "5il_4Z0J5WTz"
      },
      "source": [
        "## Programación orientada a objetos\n",
        "\n",
        "En este ejercicio vamos a programar un carrito de compras.\n",
        "\n",
        "Para esto vamos a escribir dos clases: Carrito e Item.\n",
        "\n",
        "El ítem va a tener como propiedades un nombre, un precio y una url de la imágen que lo representa. Por default, la url se inicializa en blanco.\n",
        "\n",
        "El Carrito tiene como propiedad una lista de diccionarios, la variable _lineas.\n",
        "\n",
        "Los carritos se inicializan vacíos y luego se agregan líneas utilizando el método agregar_línea(). Cada línea es un diccionario con dos claves: \"ítem\" que contiene un objeto de tipo ítem y \"cantidad\" según la cantidad que queremos agregar al carrito.\n",
        "\n",
        "Por último los carritos tienen un método get_total() que devuelve la suma de los precios de los ítems, multiplicados por las cantidades que hay en cada línea."
      ]
    },
    {
      "cell_type": "code",
      "execution_count": null,
      "metadata": {
        "id": "Jz7Gkbgw5WT2"
      },
      "outputs": [],
      "source": [
        "# Clase Item\n",
        "\n",
        "class Item():\n",
        "    def __init__(self, nombre, precio, url_imagen=''):\n",
        "        \"\"\"\n",
        "        Todas las propiedades del ítem son obligatorias menos url_imagen\n",
        "        En el ítem todas las propiedades son \"públicas\". Esto va a ser útil para acceder al precio desde el carrito.\n",
        "        \"\"\"\n",
        "        self.nombre = nombre\n",
        "        self.precio = precio\n",
        "        self.url_imagen = url_imagen\n"
      ]
    },
    {
      "cell_type": "code",
      "execution_count": null,
      "metadata": {
        "id": "mpzldsDV5WT4"
      },
      "outputs": [],
      "source": [
        "# Crear los ítems banana de $49.5 y yoghurt de $32.5\n",
        "\n",
        "banana = Item(\"banana\",49.5)\n",
        "yoghurt = Item(\"yoghurt\",32.5)"
      ]
    },
    {
      "cell_type": "code",
      "execution_count": null,
      "metadata": {
        "id": "bZlnAxvi5WT5"
      },
      "outputs": [],
      "source": [
        "# Crear la clase Carrito\n",
        "\n",
        "class Carrito():\n",
        "    def __init__(self):\n",
        "        \"\"\"\n",
        "        El Carrito siempre se inicializa con una lista de Ítems.\n",
        "        En el carrito la única propiedad es privada.\n",
        "        \"\"\"\n",
        "        self._lineas = []\n",
        "\n",
        "    def get_total(self):\n",
        "        total = 0\n",
        "        for linea in self._lineas:\n",
        "            total = total + (linea['cantidad'] * linea['item'].precio)\n",
        "        return total\n",
        "\n",
        "    def agregar_item(self,linea):\n",
        "        self._lineas.append(linea)"
      ]
    },
    {
      "cell_type": "markdown",
      "metadata": {
        "id": "Q-lnxvGB5WT5"
      },
      "source": [
        "Ahora vamos a instanciar el carrito y agregarle una \"línea\" con dos bananas y otra con tres yoghures."
      ]
    },
    {
      "cell_type": "code",
      "execution_count": null,
      "metadata": {
        "id": "HsLxgOvB5WT6"
      },
      "outputs": [],
      "source": [
        "# Instancias el carrito\n",
        "carrito = Carrito()"
      ]
    },
    {
      "cell_type": "code",
      "execution_count": null,
      "metadata": {
        "id": "-fuP0Xll5WT6"
      },
      "outputs": [],
      "source": [
        "# Agregar bananas\n",
        "carrito.agregar_item({'item':banana,'cantidad':2})"
      ]
    },
    {
      "cell_type": "code",
      "execution_count": null,
      "metadata": {
        "id": "rnSOqqa95WT7"
      },
      "outputs": [],
      "source": [
        "# Agregar yoghures\n",
        "carrito.agregar_item({'item':yoghurt,'cantidad':3})"
      ]
    },
    {
      "cell_type": "code",
      "execution_count": null,
      "metadata": {
        "id": "_Qhx9SPA5WT8",
        "outputId": "817426c0-9ecf-4aa3-9e0d-62af0c2fecd1"
      },
      "outputs": [
        {
          "data": {
            "text/plain": [
              "196.5"
            ]
          },
          "execution_count": 7,
          "metadata": {},
          "output_type": "execute_result"
        }
      ],
      "source": [
        "# Obtener el total\n",
        "carrito.get_total()"
      ]
    },
    {
      "cell_type": "markdown",
      "metadata": {
        "id": "8mL-KRTB5WUA"
      },
      "source": [
        "## Ejer II"
      ]
    },
    {
      "cell_type": "code",
      "execution_count": null,
      "metadata": {
        "id": "-87DHJe95WUC"
      },
      "outputs": [],
      "source": [
        "class Rectangulo:\n",
        "    def __init__(self, alto, ancho):\n",
        "        self.alto = alto\n",
        "        self.ancho = ancho\n",
        "\n",
        "    def area(self):\n",
        "        return self.alto * self.ancho\n",
        "\n",
        "    def perimetro(self):\n",
        "        return 2 * self.alto + 2 * self.ancho\n",
        "\n",
        "# Here we declare that the Cuadrado class inherits from the Rectangulo class\n",
        "class Cuadrado(Rectangulo):\n",
        "    def __init__(self, alto):\n",
        "        super().__init__(alto, alto)"
      ]
    },
    {
      "cell_type": "code",
      "execution_count": null,
      "metadata": {
        "id": "vysk9US95WUD"
      },
      "outputs": [],
      "source": [
        "class Cubo(Cuadrado):\n",
        "    def superficie(self):\n",
        "        face_area = super().area()\n",
        "        return face_area * 6"
      ]
    }
  ],
  "metadata": {
    "kernelspec": {
      "display_name": "conda_python3",
      "language": "python",
      "name": "conda_python3"
    },
    "language_info": {
      "codemirror_mode": {
        "name": "ipython",
        "version": 3
      },
      "file_extension": ".py",
      "mimetype": "text/x-python",
      "name": "python",
      "nbconvert_exporter": "python",
      "pygments_lexer": "ipython3",
      "version": "3.6.10"
    },
    "colab": {
      "provenance": [],
      "include_colab_link": true
    }
  },
  "nbformat": 4,
  "nbformat_minor": 0
}