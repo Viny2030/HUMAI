{
  "cells": [
    {
      "cell_type": "markdown",
      "metadata": {
        "id": "view-in-github",
        "colab_type": "text"
      },
      "source": [
        "<a href=\"https://colab.research.google.com/github/Viny2030/HUMAI/blob/main/ejercicios_clase_tres_consigna.ipynb\" target=\"_parent\"><img src=\"https://colab.research.google.com/assets/colab-badge.svg\" alt=\"Open In Colab\"/></a>"
      ]
    },
    {
      "cell_type": "markdown",
      "id": "702d6e86",
      "metadata": {
        "id": "702d6e86"
      },
      "source": [
        "# Ejercicios Embeddings de palabras"
      ]
    },
    {
      "cell_type": "markdown",
      "id": "75cf53f7",
      "metadata": {
        "id": "75cf53f7"
      },
      "source": [
        "## Ejercicio - Submuestreo de Palabras\n",
        "Implementa una función que haga un submuestreo de palabras de un corpus. t debe ser un hiperparámetro, pre establecido en 1e-4. La función debe descartar palabras con una probabilidad dada por la fórmula propuesta:\n",
        "$$ P(w_i) = \\max\\left(1 - \\sqrt{\\frac{t}{f(w_i)}}, 0\\right),$$\n",
        "donde $f(w_i)$ es la relación entre la cantidad de palabras $w_i$ y la cantidad total de palabras en el dataset."
      ]
    },
    {
      "cell_type": "code",
      "execution_count": 1,
      "id": "317d153b",
      "metadata": {
        "cellView": "form",
        "id": "317d153b"
      },
      "outputs": [],
      "source": [
        "#@markdown Set Up\n",
        "corpus = [\n",
        "    \"tener una mascota puede brindar compañia y alegria en nuestro dia a dia, ya que su presencia nos reconforta y nos hace sentir acompañados\",\n",
        "    \"la responsabilidad de tener una mascota implica dedicar tiempo y esfuerzo para proporcionarles los cuidados necesarios, como alimentacion adecuada, ejercicio y atencion veterinaria regular\",\n",
        "    \"las mascotas nos enseñan valores importantes como la paciencia, la empatia y la lealtad, ya que requieren cuidado constante y responden con amor incondicional\",\n",
        "    \"la presencia de una mascota en nuestro hogar puede mejorar nuestra salud y bienestar, ya que se ha demostrado que interactuar con animales reduce el estres y promueve la relajacion\",\n",
        "    \"cuidar de una mascota implica establecer rutinas diarias, como paseos regulares, horarios de alimentacion y tiempo de juego, lo cual nos ayuda a organizar nuestras actividades diarias\",\n",
        "    \"las mascotas nos enseñan sobre la importancia de establecer limites y normas, ya que necesitan aprender y seguir reglas para su bienestar y convivencia en el hogar\",\n",
        "    \"tener una mascota implica proveerles un entorno seguro y comodo, con un espacio adecuado para que puedan descansar, jugar y moverse libremente\",\n",
        "    \"las mascotas pueden convertirse en compañeros fieles y confidentes, ya que estan siempre dispuestas a escucharnos sin juzgar y nos brindan apoyo emocional\",\n",
        "    \"la interaccion con animales puede ser especialmente beneficiosa para los niños, ya que les ayuda a desarrollar habilidades sociales, responsabilidad y empatia hacia otros seres vivos\",\n",
        "    \"cuidar de una mascota nos permite experimentar la gratitud y la satisfaccion de hacer algo bueno por otro ser vivo, lo cual contribuye a nuestro crecimiento personal\",\n",
        "    \"las mascotas nos brindan la oportunidad de aprender sobre diferentes especies y razas, asi como de comprender mejor las necesidades y comportamientos de los animales\",\n",
        "    \"tener una mascota implica estar dispuesto a adaptarse a sus necesidades cambiantes a lo largo de su vida, desde la infancia hasta la vejez, brindándoles cuidados adecuados en cada etapa\",\n",
        "    \"las mascotas pueden ser una fuente de diversión y entretenimiento, ya que su curiosidad y travesuras nos sacan sonrisas y nos hacen disfrutar de momentos divertidos\",\n",
        "    \"la relacion con nuestras mascotas nos enseña sobre la importancia de la comunicacion no verbal, ya que aprendemos a interpretar sus gestos, expresiones y comportamientos para comprender sus necesidades\",\n",
        "    \"cuidar de una mascota implica tomar decisiones informadas sobre su bienestar, como elegir una dieta equilibrada, proporcionarles suficiente ejercicio y garantizar su salud mediante visitas regulares al veterinario\",\n",
        "    \"las mascotas nos enseñan sobre la importancia de ser responsables y comprometidos, ya que dependen de nosotros para cubrir sus necesidades basicas y brindarles un hogar amoroso\",\n",
        "    \"tener una mascota nos ayuda a desarrollar una mayor conciencia sobre el mundo natural y la importancia de proteger el medio ambiente, ya que nos conectamos con la vida animal de manera mas cercana\",\n",
        "    \"las mascotas nos brindan la oportunidad de experimentar el ciclo de la vida de cerca, desde la llegada de una nueva mascota al hogar hasta el acompañamiento en su envejecimiento y despedida\",\n",
        "    \"cuidar de una mascota nos permite fortalecer nuestros lazos familiares, ya que compartimos responsabilidades, cuidados y momentos de afecto con todos los miembros del hogar\",\n",
        "    \"las mascotas nos enseñan a apreciar las pequeñas cosas de la vida, como un ronroneo, un ladrido o una mirada de cariño, recordándonos la importancia de disfrutar de los momentos simples\",\n",
        "    \"tener una mascota implica ser consciente de la importancia de la esterilizacion y castracion como medidas responsables para controlar la reproduccion y evitar el abandono de animales\",\n",
        "    \"las mascotas nos brindan la oportunidad de practicar la generosidad y la compasion, al rescatar o adoptar animales en situacion de abandono o brindarles un hogar temporal como voluntarios\",\n",
        "    \"cuidar de una mascota nos ayuda a desarrollar habilidades de organizacion y gestion del tiempo, ya que debemos cumplir con sus necesidades diarias en medio de nuestras responsabilidades\",\n",
        "    \"las mascotas nos enseñan sobre la importancia de la aceptacion incondicional, ya que nos aman tal como somos, sin importar nuestro aspecto fisico, estado de animo o circunstancias\",\n",
        "    \"tener una mascota nos brinda la oportunidad de fomentar valores de respeto y cuidado hacia otros seres vivos, promoviendo una convivencia armoniosa y pacifica en nuestra comunidad\",\n",
        "    \"las mascotas nos ayudan a desarrollar habilidades de empatia y comprension, ya que debemos aprender a interpretar sus señales y necesidades para brindarles el cuidado adecuado\",\n",
        "    \"cuidar de una mascota nos permite experimentar la alegría de ver su crecimiento y desarrollo, desde los primeros pasos de un cachorro hasta la madurez de un animal adulto\",\n",
        "    \"las mascotas nos brindan la oportunidad de cultivar relaciones sociales, ya que al pasear o participar en actividades relacionadas con nuestras mascotas, podemos interactuar con otros dueños de mascotas\",\n",
        "    \"tener una mascota nos ayuda a aprender sobre la importancia de establecer limites y normas, tanto para su bienestar como para mantener una convivencia equilibrada en nuestro entorno\",\n",
        "    \"las mascotas nos enseñan sobre la importancia de la paciencia y la perseverancia, ya que su entrenamiento y adaptacion pueden requerir tiempo y esfuerzo, pero los resultados valen la pena\",\n",
        "    \"cuidar de una mascota nos brinda la oportunidad de desarrollar habilidades de resolucion de problemas, ya que debemos enfrentar desafios cotidianos relacionados con su alimentacion, salud y comportamiento\",\n",
        "    \"las mascotas nos brindan momentos de alegria y amor incondicional, recordandonos la importancia de valorar y cuidar a los seres queridos que nos rodean en nuestra\"\n",
        "]\n"
      ]
    },
    {
      "cell_type": "code",
      "execution_count": 2,
      "id": "c3b6366e",
      "metadata": {
        "id": "c3b6366e"
      },
      "outputs": [],
      "source": [
        "from collections import Counter, OrderedDict\n",
        "from math import sqrt\n",
        "import random"
      ]
    },
    {
      "cell_type": "code",
      "execution_count": 3,
      "id": "91d40c9c",
      "metadata": {
        "colab": {
          "base_uri": "https://localhost:8080/"
        },
        "id": "91d40c9c",
        "outputId": "257e4ff2-2140-4d8c-fe2c-c4fe79af8f1f"
      },
      "outputs": [
        {
          "output_type": "execute_result",
          "data": {
            "text/plain": [
              "['tener una mascota puede brindar compañia y alegria en nuestro dia a dia, ya que su presencia nos reconforta y nos hace sentir acompañados',\n",
              " 'la responsabilidad de tener una mascota implica dedicar tiempo y esfuerzo para proporcionarles los cuidados necesarios, como alimentacion adecuada, ejercicio y atencion veterinaria regular',\n",
              " 'las mascotas nos enseñan valores importantes como la paciencia, la empatia y la lealtad, ya que requieren cuidado constante y responden con amor incondicional',\n",
              " 'la presencia de una mascota en nuestro hogar puede mejorar nuestra salud y bienestar, ya que se ha demostrado que interactuar con animales reduce el estres y promueve la relajacion',\n",
              " 'cuidar de una mascota implica establecer rutinas diarias, como paseos regulares, horarios de alimentacion y tiempo de juego, lo cual nos ayuda a organizar nuestras actividades diarias']"
            ]
          },
          "metadata": {},
          "execution_count": 3
        }
      ],
      "source": [
        "corpus[:5]"
      ]
    },
    {
      "cell_type": "code",
      "execution_count": 4,
      "id": "bed26c4b",
      "metadata": {
        "id": "bed26c4b"
      },
      "outputs": [],
      "source": [
        "def subsample_corpus(corpus, t=1e-4):\n",
        "    # Cálculo de la frecuencia de cada palabra\n",
        "\n",
        "    # Submuestreo\n",
        "\n",
        "    return subsampled_corpus"
      ]
    },
    {
      "cell_type": "code",
      "execution_count": 5,
      "id": "435f91b3",
      "metadata": {
        "id": "435f91b3",
        "colab": {
          "base_uri": "https://localhost:8080/",
          "height": 228
        },
        "outputId": "9a08f1c4-91b4-485e-8101-b3692e80d0da"
      },
      "outputs": [
        {
          "output_type": "error",
          "ename": "NameError",
          "evalue": "name 'subsampled_corpus' is not defined",
          "traceback": [
            "\u001b[0;31m---------------------------------------------------------------------------\u001b[0m",
            "\u001b[0;31mNameError\u001b[0m                                 Traceback (most recent call last)",
            "\u001b[0;32m<ipython-input-5-184a0450ede4>\u001b[0m in \u001b[0;36m<cell line: 0>\u001b[0;34m()\u001b[0m\n\u001b[0;32m----> 1\u001b[0;31m \u001b[0msubsample_corpus\u001b[0m\u001b[0;34m(\u001b[0m\u001b[0mcorpus\u001b[0m\u001b[0;34m)\u001b[0m\u001b[0;34m\u001b[0m\u001b[0;34m\u001b[0m\u001b[0m\n\u001b[0m",
            "\u001b[0;32m<ipython-input-4-27f49e15b466>\u001b[0m in \u001b[0;36msubsample_corpus\u001b[0;34m(corpus, t)\u001b[0m\n\u001b[1;32m      4\u001b[0m     \u001b[0;31m# Submuestreo\u001b[0m\u001b[0;34m\u001b[0m\u001b[0;34m\u001b[0m\u001b[0m\n\u001b[1;32m      5\u001b[0m \u001b[0;34m\u001b[0m\u001b[0m\n\u001b[0;32m----> 6\u001b[0;31m     \u001b[0;32mreturn\u001b[0m \u001b[0msubsampled_corpus\u001b[0m\u001b[0;34m\u001b[0m\u001b[0;34m\u001b[0m\u001b[0m\n\u001b[0m",
            "\u001b[0;31mNameError\u001b[0m: name 'subsampled_corpus' is not defined"
          ]
        }
      ],
      "source": [
        "subsample_corpus(corpus)"
      ]
    }
  ],
  "metadata": {
    "kernelspec": {
      "display_name": "env_humai",
      "language": "python",
      "name": "python3"
    },
    "language_info": {
      "codemirror_mode": {
        "name": "ipython",
        "version": 3
      },
      "file_extension": ".py",
      "mimetype": "text/x-python",
      "name": "python",
      "nbconvert_exporter": "python",
      "pygments_lexer": "ipython3",
      "version": "3.11.3"
    },
    "colab": {
      "provenance": [],
      "include_colab_link": true
    }
  },
  "nbformat": 4,
  "nbformat_minor": 5
}