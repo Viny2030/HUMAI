{
  "cells": [
    {
      "cell_type": "markdown",
      "metadata": {
        "id": "view-in-github",
        "colab_type": "text"
      },
      "source": [
        "<a href=\"https://colab.research.google.com/github/Viny2030/HUMAI/blob/main/ejercicios_solucionstring.ipynb\" target=\"_parent\"><img src=\"https://colab.research.google.com/assets/colab-badge.svg\" alt=\"Open In Colab\"/></a>"
      ]
    },
    {
      "cell_type": "markdown",
      "id": "ea1e07b2-c37d-4cd4-983c-418b68f71383",
      "metadata": {
        "id": "ea1e07b2-c37d-4cd4-983c-418b68f71383",
        "tags": []
      },
      "source": [
        "## Ejercicio: búsqueda difusa\n",
        "\n",
        "Dado el siguiente DataFrame, aplicar la búsqueda difusa de strings para la primera palabra de la descripción de cada producto (columna denominación)\n",
        "\n",
        "Fuentes:\n",
        "- http://inal.sifega.anmat.gov.ar/consultadeRegistroAlimentos/\n",
        "- http://datos.salud.gob.ar/dataset/alimentos-libres-de-gluten/archivo/853d467c-5de5-46ae-bf04-5642c4960d1d"
      ]
    },
    {
      "cell_type": "code",
      "execution_count": 1,
      "id": "1da7c36d-7f60-4490-98c1-5e5f541643c4",
      "metadata": {
        "id": "1da7c36d-7f60-4490-98c1-5e5f541643c4",
        "outputId": "de96a8c3-7945-4b3c-f584-206a28fffad1",
        "colab": {
          "base_uri": "https://localhost:8080/"
        }
      },
      "outputs": [
        {
          "output_type": "stream",
          "name": "stdout",
          "text": [
            "Collecting thefuzz[speedup]\n",
            "  Downloading thefuzz-0.22.1-py3-none-any.whl.metadata (3.9 kB)\n",
            "Collecting rapidfuzz<4.0.0,>=3.0.0 (from thefuzz[speedup])\n",
            "  Downloading rapidfuzz-3.12.2-cp311-cp311-manylinux_2_17_x86_64.manylinux2014_x86_64.whl.metadata (12 kB)\n",
            "Downloading rapidfuzz-3.12.2-cp311-cp311-manylinux_2_17_x86_64.manylinux2014_x86_64.whl (3.1 MB)\n",
            "\u001b[2K   \u001b[90m━━━━━━━━━━━━━━━━━━━━━━━━━━━━━━━━━━━━━━━━\u001b[0m \u001b[32m3.1/3.1 MB\u001b[0m \u001b[31m12.4 MB/s\u001b[0m eta \u001b[36m0:00:00\u001b[0m\n",
            "\u001b[?25hDownloading thefuzz-0.22.1-py3-none-any.whl (8.2 kB)\n",
            "Installing collected packages: rapidfuzz, thefuzz\n",
            "Successfully installed rapidfuzz-3.12.2 thefuzz-0.22.1\n"
          ]
        }
      ],
      "source": [
        "!pip install thefuzz[speedup]"
      ]
    },
    {
      "cell_type": "code",
      "execution_count": 2,
      "id": "d756a5f4-f4ff-4bf7-9219-a96c0bee6ca5",
      "metadata": {
        "id": "d756a5f4-f4ff-4bf7-9219-a96c0bee6ca5"
      },
      "outputs": [],
      "source": [
        "from thefuzz import process, fuzz\n",
        "import pandas as pd"
      ]
    },
    {
      "cell_type": "code",
      "execution_count": 3,
      "id": "9a218a25-81af-4522-b640-bbf8e0852e00",
      "metadata": {
        "id": "9a218a25-81af-4522-b640-bbf8e0852e00"
      },
      "outputs": [],
      "source": [
        "url = \"http://datos.salud.gob.ar/dataset/2ebd602e-3138-40c0-847a-f3eb8f520887/resource/853d467c-5de5-46ae-bf04-5642c4960d1d/download/alimentos-libres-de-gluten.csv\"\n",
        "df = pd.read_csv(url)"
      ]
    },
    {
      "cell_type": "code",
      "execution_count": 4,
      "id": "b922f4c2-e6f8-4e23-a7c2-c4dfa1f2425a",
      "metadata": {
        "id": "b922f4c2-e6f8-4e23-a7c2-c4dfa1f2425a",
        "outputId": "f8bcf268-df49-494c-9d8f-e22ad6a34413",
        "colab": {
          "base_uri": "https://localhost:8080/",
          "height": 81
        }
      },
      "outputs": [
        {
          "output_type": "execute_result",
          "data": {
            "text/plain": [
              "               marca nombre_fantasia  \\\n",
              "13803  Genacol Derma   Genacol Derma   \n",
              "\n",
              "                                            denominacion       RNPA  \n",
              "13803  Suplemento dietario a base de colágeno hidroli...  21-112721  "
            ],
            "text/html": [
              "\n",
              "  <div id=\"df-862dd4a5-b255-42c3-b57c-a82f5f12a999\" class=\"colab-df-container\">\n",
              "    <div>\n",
              "<style scoped>\n",
              "    .dataframe tbody tr th:only-of-type {\n",
              "        vertical-align: middle;\n",
              "    }\n",
              "\n",
              "    .dataframe tbody tr th {\n",
              "        vertical-align: top;\n",
              "    }\n",
              "\n",
              "    .dataframe thead th {\n",
              "        text-align: right;\n",
              "    }\n",
              "</style>\n",
              "<table border=\"1\" class=\"dataframe\">\n",
              "  <thead>\n",
              "    <tr style=\"text-align: right;\">\n",
              "      <th></th>\n",
              "      <th>marca</th>\n",
              "      <th>nombre_fantasia</th>\n",
              "      <th>denominacion</th>\n",
              "      <th>RNPA</th>\n",
              "    </tr>\n",
              "  </thead>\n",
              "  <tbody>\n",
              "    <tr>\n",
              "      <th>13803</th>\n",
              "      <td>Genacol Derma</td>\n",
              "      <td>Genacol Derma</td>\n",
              "      <td>Suplemento dietario a base de colágeno hidroli...</td>\n",
              "      <td>21-112721</td>\n",
              "    </tr>\n",
              "  </tbody>\n",
              "</table>\n",
              "</div>\n",
              "    <div class=\"colab-df-buttons\">\n",
              "\n",
              "  <div class=\"colab-df-container\">\n",
              "    <button class=\"colab-df-convert\" onclick=\"convertToInteractive('df-862dd4a5-b255-42c3-b57c-a82f5f12a999')\"\n",
              "            title=\"Convert this dataframe to an interactive table.\"\n",
              "            style=\"display:none;\">\n",
              "\n",
              "  <svg xmlns=\"http://www.w3.org/2000/svg\" height=\"24px\" viewBox=\"0 -960 960 960\">\n",
              "    <path d=\"M120-120v-720h720v720H120Zm60-500h600v-160H180v160Zm220 220h160v-160H400v160Zm0 220h160v-160H400v160ZM180-400h160v-160H180v160Zm440 0h160v-160H620v160ZM180-180h160v-160H180v160Zm440 0h160v-160H620v160Z\"/>\n",
              "  </svg>\n",
              "    </button>\n",
              "\n",
              "  <style>\n",
              "    .colab-df-container {\n",
              "      display:flex;\n",
              "      gap: 12px;\n",
              "    }\n",
              "\n",
              "    .colab-df-convert {\n",
              "      background-color: #E8F0FE;\n",
              "      border: none;\n",
              "      border-radius: 50%;\n",
              "      cursor: pointer;\n",
              "      display: none;\n",
              "      fill: #1967D2;\n",
              "      height: 32px;\n",
              "      padding: 0 0 0 0;\n",
              "      width: 32px;\n",
              "    }\n",
              "\n",
              "    .colab-df-convert:hover {\n",
              "      background-color: #E2EBFA;\n",
              "      box-shadow: 0px 1px 2px rgba(60, 64, 67, 0.3), 0px 1px 3px 1px rgba(60, 64, 67, 0.15);\n",
              "      fill: #174EA6;\n",
              "    }\n",
              "\n",
              "    .colab-df-buttons div {\n",
              "      margin-bottom: 4px;\n",
              "    }\n",
              "\n",
              "    [theme=dark] .colab-df-convert {\n",
              "      background-color: #3B4455;\n",
              "      fill: #D2E3FC;\n",
              "    }\n",
              "\n",
              "    [theme=dark] .colab-df-convert:hover {\n",
              "      background-color: #434B5C;\n",
              "      box-shadow: 0px 1px 3px 1px rgba(0, 0, 0, 0.15);\n",
              "      filter: drop-shadow(0px 1px 2px rgba(0, 0, 0, 0.3));\n",
              "      fill: #FFFFFF;\n",
              "    }\n",
              "  </style>\n",
              "\n",
              "    <script>\n",
              "      const buttonEl =\n",
              "        document.querySelector('#df-862dd4a5-b255-42c3-b57c-a82f5f12a999 button.colab-df-convert');\n",
              "      buttonEl.style.display =\n",
              "        google.colab.kernel.accessAllowed ? 'block' : 'none';\n",
              "\n",
              "      async function convertToInteractive(key) {\n",
              "        const element = document.querySelector('#df-862dd4a5-b255-42c3-b57c-a82f5f12a999');\n",
              "        const dataTable =\n",
              "          await google.colab.kernel.invokeFunction('convertToInteractive',\n",
              "                                                    [key], {});\n",
              "        if (!dataTable) return;\n",
              "\n",
              "        const docLinkHtml = 'Like what you see? Visit the ' +\n",
              "          '<a target=\"_blank\" href=https://colab.research.google.com/notebooks/data_table.ipynb>data table notebook</a>'\n",
              "          + ' to learn more about interactive tables.';\n",
              "        element.innerHTML = '';\n",
              "        dataTable['output_type'] = 'display_data';\n",
              "        await google.colab.output.renderOutput(dataTable, element);\n",
              "        const docLink = document.createElement('div');\n",
              "        docLink.innerHTML = docLinkHtml;\n",
              "        element.appendChild(docLink);\n",
              "      }\n",
              "    </script>\n",
              "  </div>\n",
              "\n",
              "\n",
              "    </div>\n",
              "  </div>\n"
            ],
            "application/vnd.google.colaboratory.intrinsic+json": {
              "type": "dataframe",
              "summary": "{\n  \"name\": \"df\",\n  \"rows\": 1,\n  \"fields\": [\n    {\n      \"column\": \"marca\",\n      \"properties\": {\n        \"dtype\": \"string\",\n        \"num_unique_values\": 1,\n        \"samples\": [\n          \"Genacol Derma\"\n        ],\n        \"semantic_type\": \"\",\n        \"description\": \"\"\n      }\n    },\n    {\n      \"column\": \"nombre_fantasia\",\n      \"properties\": {\n        \"dtype\": \"string\",\n        \"num_unique_values\": 1,\n        \"samples\": [\n          \"Genacol Derma\"\n        ],\n        \"semantic_type\": \"\",\n        \"description\": \"\"\n      }\n    },\n    {\n      \"column\": \"denominacion\",\n      \"properties\": {\n        \"dtype\": \"string\",\n        \"num_unique_values\": 1,\n        \"samples\": [\n          \"Suplemento dietario a base de col\\u00e1geno hidrolizado, magnesio y lisina libre de gluten\"\n        ],\n        \"semantic_type\": \"\",\n        \"description\": \"\"\n      }\n    },\n    {\n      \"column\": \"RNPA\",\n      \"properties\": {\n        \"dtype\": \"string\",\n        \"num_unique_values\": 1,\n        \"samples\": [\n          \"21-112721\"\n        ],\n        \"semantic_type\": \"\",\n        \"description\": \"\"\n      }\n    }\n  ]\n}"
            }
          },
          "metadata": {},
          "execution_count": 4
        }
      ],
      "source": [
        "df.sample()"
      ]
    },
    {
      "cell_type": "code",
      "execution_count": 5,
      "id": "cc32d5f6-1399-4a15-85a2-09b5570b7a4c",
      "metadata": {
        "colab": {
          "base_uri": "https://localhost:8080/",
          "height": 489
        },
        "id": "cc32d5f6-1399-4a15-85a2-09b5570b7a4c",
        "outputId": "21abbe4d-7bbe-4329-b73f-f1380cefd795"
      },
      "outputs": [
        {
          "output_type": "execute_result",
          "data": {
            "text/plain": [
              "denominacion\n",
              "Dulce de leche libre de gluten                                                                         74\n",
              "Queso cremoso libre de gluten                                                                          63\n",
              "Duraznos amarillos en mitades comunes en jarabe diluido – Libre de gluten                              47\n",
              "Queso sardo libre de gluten                                                                            45\n",
              "Queso tybo libre de gluten                                                                             44\n",
              "                                                                                                       ..\n",
              "Producto de harina de maíz tipo fideo seco - Libre de gluten - (en sus diversos tamaños y formatos)     1\n",
              "Pasta fresca rellena sobre congelada: ravioles libre de gluten sin TACC                                 1\n",
              "Pasta fresca rellena sobrecongelada: sorrentinos libre de gluten sin T.A.C.C.                           1\n",
              "Pastas frescas con huevo sobrecongelados - Libre de gluten sin TACC                                     1\n",
              "Salsa oleosa a base de yogurt y pepino - Libre de gluten                                                1\n",
              "Name: count, Length: 10631, dtype: int64"
            ],
            "text/html": [
              "<div>\n",
              "<style scoped>\n",
              "    .dataframe tbody tr th:only-of-type {\n",
              "        vertical-align: middle;\n",
              "    }\n",
              "\n",
              "    .dataframe tbody tr th {\n",
              "        vertical-align: top;\n",
              "    }\n",
              "\n",
              "    .dataframe thead th {\n",
              "        text-align: right;\n",
              "    }\n",
              "</style>\n",
              "<table border=\"1\" class=\"dataframe\">\n",
              "  <thead>\n",
              "    <tr style=\"text-align: right;\">\n",
              "      <th></th>\n",
              "      <th>count</th>\n",
              "    </tr>\n",
              "    <tr>\n",
              "      <th>denominacion</th>\n",
              "      <th></th>\n",
              "    </tr>\n",
              "  </thead>\n",
              "  <tbody>\n",
              "    <tr>\n",
              "      <th>Dulce de leche libre de gluten</th>\n",
              "      <td>74</td>\n",
              "    </tr>\n",
              "    <tr>\n",
              "      <th>Queso cremoso libre de gluten</th>\n",
              "      <td>63</td>\n",
              "    </tr>\n",
              "    <tr>\n",
              "      <th>Duraznos amarillos en mitades comunes en jarabe diluido – Libre de gluten</th>\n",
              "      <td>47</td>\n",
              "    </tr>\n",
              "    <tr>\n",
              "      <th>Queso sardo libre de gluten</th>\n",
              "      <td>45</td>\n",
              "    </tr>\n",
              "    <tr>\n",
              "      <th>Queso tybo libre de gluten</th>\n",
              "      <td>44</td>\n",
              "    </tr>\n",
              "    <tr>\n",
              "      <th>...</th>\n",
              "      <td>...</td>\n",
              "    </tr>\n",
              "    <tr>\n",
              "      <th>Producto de harina de maíz tipo fideo seco - Libre de gluten - (en sus diversos tamaños y formatos)</th>\n",
              "      <td>1</td>\n",
              "    </tr>\n",
              "    <tr>\n",
              "      <th>Pasta fresca rellena sobre congelada: ravioles libre de gluten sin TACC</th>\n",
              "      <td>1</td>\n",
              "    </tr>\n",
              "    <tr>\n",
              "      <th>Pasta fresca rellena sobrecongelada: sorrentinos libre de gluten sin T.A.C.C.</th>\n",
              "      <td>1</td>\n",
              "    </tr>\n",
              "    <tr>\n",
              "      <th>Pastas frescas con huevo sobrecongelados - Libre de gluten sin TACC</th>\n",
              "      <td>1</td>\n",
              "    </tr>\n",
              "    <tr>\n",
              "      <th>Salsa oleosa a base de yogurt y pepino - Libre de gluten</th>\n",
              "      <td>1</td>\n",
              "    </tr>\n",
              "  </tbody>\n",
              "</table>\n",
              "<p>10631 rows × 1 columns</p>\n",
              "</div><br><label><b>dtype:</b> int64</label>"
            ]
          },
          "metadata": {},
          "execution_count": 5
        }
      ],
      "source": [
        "df['denominacion'].value_counts()"
      ]
    },
    {
      "cell_type": "markdown",
      "id": "7f80e6ca-6a36-4d50-96c1-54627e4713a8",
      "metadata": {
        "id": "7f80e6ca-6a36-4d50-96c1-54627e4713a8"
      },
      "source": [
        "Vemos que hay muchas palabras similares pero escritas distinto\n",
        "\n",
        "- \"libre de gluten\" / \"Libre de Gluten\"  \n",
        "- \"sobre congelada\" / \"sobrecongeladas\"  \n",
        "- etc"
      ]
    },
    {
      "cell_type": "code",
      "execution_count": 6,
      "id": "957ac3e5-bd46-4b9a-823d-47cb0af1fbfd",
      "metadata": {
        "id": "957ac3e5-bd46-4b9a-823d-47cb0af1fbfd",
        "outputId": "2e091932-3dac-45d0-9a84-7d2c38deea1d",
        "colab": {
          "base_uri": "https://localhost:8080/"
        }
      },
      "outputs": [
        {
          "output_type": "execute_result",
          "data": {
            "text/plain": [
              "1"
            ]
          },
          "metadata": {},
          "execution_count": 6
        }
      ],
      "source": [
        "# Contar nulos en \"denominacion\"\n",
        "df.denominacion.isnull().sum()"
      ]
    },
    {
      "cell_type": "code",
      "execution_count": 7,
      "id": "b24fd7d7-7082-4589-8a3f-29f3577da370",
      "metadata": {
        "id": "b24fd7d7-7082-4589-8a3f-29f3577da370",
        "outputId": "176eb4d4-b046-4765-ca62-ae2ef6bb83fa",
        "colab": {
          "base_uri": "https://localhost:8080/",
          "height": 81
        }
      },
      "outputs": [
        {
          "output_type": "execute_result",
          "data": {
            "text/plain": [
              "           marca nombre_fantasia denominacion RNPA\n",
              "6578  ;02-567232             NaN          NaN  NaN"
            ],
            "text/html": [
              "\n",
              "  <div id=\"df-d542ac74-8d5f-458d-926e-6b79e28312d9\" class=\"colab-df-container\">\n",
              "    <div>\n",
              "<style scoped>\n",
              "    .dataframe tbody tr th:only-of-type {\n",
              "        vertical-align: middle;\n",
              "    }\n",
              "\n",
              "    .dataframe tbody tr th {\n",
              "        vertical-align: top;\n",
              "    }\n",
              "\n",
              "    .dataframe thead th {\n",
              "        text-align: right;\n",
              "    }\n",
              "</style>\n",
              "<table border=\"1\" class=\"dataframe\">\n",
              "  <thead>\n",
              "    <tr style=\"text-align: right;\">\n",
              "      <th></th>\n",
              "      <th>marca</th>\n",
              "      <th>nombre_fantasia</th>\n",
              "      <th>denominacion</th>\n",
              "      <th>RNPA</th>\n",
              "    </tr>\n",
              "  </thead>\n",
              "  <tbody>\n",
              "    <tr>\n",
              "      <th>6578</th>\n",
              "      <td>;02-567232</td>\n",
              "      <td>NaN</td>\n",
              "      <td>NaN</td>\n",
              "      <td>NaN</td>\n",
              "    </tr>\n",
              "  </tbody>\n",
              "</table>\n",
              "</div>\n",
              "    <div class=\"colab-df-buttons\">\n",
              "\n",
              "  <div class=\"colab-df-container\">\n",
              "    <button class=\"colab-df-convert\" onclick=\"convertToInteractive('df-d542ac74-8d5f-458d-926e-6b79e28312d9')\"\n",
              "            title=\"Convert this dataframe to an interactive table.\"\n",
              "            style=\"display:none;\">\n",
              "\n",
              "  <svg xmlns=\"http://www.w3.org/2000/svg\" height=\"24px\" viewBox=\"0 -960 960 960\">\n",
              "    <path d=\"M120-120v-720h720v720H120Zm60-500h600v-160H180v160Zm220 220h160v-160H400v160Zm0 220h160v-160H400v160ZM180-400h160v-160H180v160Zm440 0h160v-160H620v160ZM180-180h160v-160H180v160Zm440 0h160v-160H620v160Z\"/>\n",
              "  </svg>\n",
              "    </button>\n",
              "\n",
              "  <style>\n",
              "    .colab-df-container {\n",
              "      display:flex;\n",
              "      gap: 12px;\n",
              "    }\n",
              "\n",
              "    .colab-df-convert {\n",
              "      background-color: #E8F0FE;\n",
              "      border: none;\n",
              "      border-radius: 50%;\n",
              "      cursor: pointer;\n",
              "      display: none;\n",
              "      fill: #1967D2;\n",
              "      height: 32px;\n",
              "      padding: 0 0 0 0;\n",
              "      width: 32px;\n",
              "    }\n",
              "\n",
              "    .colab-df-convert:hover {\n",
              "      background-color: #E2EBFA;\n",
              "      box-shadow: 0px 1px 2px rgba(60, 64, 67, 0.3), 0px 1px 3px 1px rgba(60, 64, 67, 0.15);\n",
              "      fill: #174EA6;\n",
              "    }\n",
              "\n",
              "    .colab-df-buttons div {\n",
              "      margin-bottom: 4px;\n",
              "    }\n",
              "\n",
              "    [theme=dark] .colab-df-convert {\n",
              "      background-color: #3B4455;\n",
              "      fill: #D2E3FC;\n",
              "    }\n",
              "\n",
              "    [theme=dark] .colab-df-convert:hover {\n",
              "      background-color: #434B5C;\n",
              "      box-shadow: 0px 1px 3px 1px rgba(0, 0, 0, 0.15);\n",
              "      filter: drop-shadow(0px 1px 2px rgba(0, 0, 0, 0.3));\n",
              "      fill: #FFFFFF;\n",
              "    }\n",
              "  </style>\n",
              "\n",
              "    <script>\n",
              "      const buttonEl =\n",
              "        document.querySelector('#df-d542ac74-8d5f-458d-926e-6b79e28312d9 button.colab-df-convert');\n",
              "      buttonEl.style.display =\n",
              "        google.colab.kernel.accessAllowed ? 'block' : 'none';\n",
              "\n",
              "      async function convertToInteractive(key) {\n",
              "        const element = document.querySelector('#df-d542ac74-8d5f-458d-926e-6b79e28312d9');\n",
              "        const dataTable =\n",
              "          await google.colab.kernel.invokeFunction('convertToInteractive',\n",
              "                                                    [key], {});\n",
              "        if (!dataTable) return;\n",
              "\n",
              "        const docLinkHtml = 'Like what you see? Visit the ' +\n",
              "          '<a target=\"_blank\" href=https://colab.research.google.com/notebooks/data_table.ipynb>data table notebook</a>'\n",
              "          + ' to learn more about interactive tables.';\n",
              "        element.innerHTML = '';\n",
              "        dataTable['output_type'] = 'display_data';\n",
              "        await google.colab.output.renderOutput(dataTable, element);\n",
              "        const docLink = document.createElement('div');\n",
              "        docLink.innerHTML = docLinkHtml;\n",
              "        element.appendChild(docLink);\n",
              "      }\n",
              "    </script>\n",
              "  </div>\n",
              "\n",
              "\n",
              "    </div>\n",
              "  </div>\n"
            ],
            "application/vnd.google.colaboratory.intrinsic+json": {
              "type": "dataframe",
              "repr_error": "0"
            }
          },
          "metadata": {},
          "execution_count": 7
        }
      ],
      "source": [
        "# Ver los casos donde \"denominacion\" es nulo\n",
        "df[df.denominacion.isnull()]"
      ]
    },
    {
      "cell_type": "code",
      "execution_count": 8,
      "id": "b0394419-0ded-4580-92f1-ef28d10e8c62",
      "metadata": {
        "id": "b0394419-0ded-4580-92f1-ef28d10e8c62"
      },
      "outputs": [],
      "source": [
        "# Descartar casos donde \"denominacion\" es nulo\n",
        "df = df.dropna(subset=['denominacion'])"
      ]
    },
    {
      "cell_type": "markdown",
      "id": "2bd45103-99f0-4d58-8f9d-2fd8989e8b61",
      "metadata": {
        "id": "2bd45103-99f0-4d58-8f9d-2fd8989e8b61"
      },
      "source": [
        "Queremos contar la cantidad de alimentos por categoría (\"Queso\", \"Yogur\"...).\n",
        "\n",
        "Para eso vamos a:\n",
        " 1. Tomar la primer palabra de \"denominacion\"\n",
        " 2. Ver con .value_counts() el resultado\n",
        "\n",
        "Ahí veremos que hay palabras escritas con variaciones, de número u otras (ej \"Lomitos\", \"Lomito\"). Entonces vamos a intentar normalizar las palabras. Para eso tenemos dos enfoques:\n",
        "A) Normalizar con pasos conocidos:\n",
        " 1. Pasar a minúsculas\n",
        " 2. Sacar espacios\n",
        " 3. Sacar tildes\n",
        " 4. Sacar puntuación\n",
        "\n",
        "B) Normalizar palabras infrecuentes.\n",
        " 1. Tomamos las palabras infrecuentes. Para eso podríamos tomar las que están por debajo de cierto percentil (ej. 1%), o las que aparecen una sola vez\n",
        " 2. Luego, utilizando búsqueda difusa, intentamos matchear las palabras infrecuentes con las más frecuentes"
      ]
    },
    {
      "cell_type": "code",
      "execution_count": 9,
      "id": "4cf08b61-54e8-4759-be46-68c41d81780f",
      "metadata": {
        "colab": {
          "base_uri": "https://localhost:8080/",
          "height": 594
        },
        "id": "4cf08b61-54e8-4759-be46-68c41d81780f",
        "outputId": "76aaa84e-f62e-4baa-b7f7-5ddc7b088200"
      },
      "outputs": [
        {
          "output_type": "stream",
          "name": "stderr",
          "text": [
            "<ipython-input-9-79e5afa51490>:3: SettingWithCopyWarning: \n",
            "A value is trying to be set on a copy of a slice from a DataFrame.\n",
            "Try using .loc[row_indexer,col_indexer] = value instead\n",
            "\n",
            "See the caveats in the documentation: https://pandas.pydata.org/pandas-docs/stable/user_guide/indexing.html#returning-a-view-versus-a-copy\n",
            "  df.loc[:, 'simple'] = df['denominacion'].apply(lambda x: x.split()[0])\n"
          ]
        },
        {
          "output_type": "execute_result",
          "data": {
            "text/plain": [
              "simple\n",
              "Queso                       1493\n",
              "Leche                        682\n",
              "Alimento                     668\n",
              "Mermelada                    549\n",
              "Yogur                        503\n",
              "                            ... \n",
              "Estabilizante                  1\n",
              "Lomitos                        1\n",
              "Perejil                        1\n",
              "Aromatizante/saborizante       1\n",
              "Vainillas,                     1\n",
              "Name: count, Length: 535, dtype: int64"
            ],
            "text/html": [
              "<div>\n",
              "<style scoped>\n",
              "    .dataframe tbody tr th:only-of-type {\n",
              "        vertical-align: middle;\n",
              "    }\n",
              "\n",
              "    .dataframe tbody tr th {\n",
              "        vertical-align: top;\n",
              "    }\n",
              "\n",
              "    .dataframe thead th {\n",
              "        text-align: right;\n",
              "    }\n",
              "</style>\n",
              "<table border=\"1\" class=\"dataframe\">\n",
              "  <thead>\n",
              "    <tr style=\"text-align: right;\">\n",
              "      <th></th>\n",
              "      <th>count</th>\n",
              "    </tr>\n",
              "    <tr>\n",
              "      <th>simple</th>\n",
              "      <th></th>\n",
              "    </tr>\n",
              "  </thead>\n",
              "  <tbody>\n",
              "    <tr>\n",
              "      <th>Queso</th>\n",
              "      <td>1493</td>\n",
              "    </tr>\n",
              "    <tr>\n",
              "      <th>Leche</th>\n",
              "      <td>682</td>\n",
              "    </tr>\n",
              "    <tr>\n",
              "      <th>Alimento</th>\n",
              "      <td>668</td>\n",
              "    </tr>\n",
              "    <tr>\n",
              "      <th>Mermelada</th>\n",
              "      <td>549</td>\n",
              "    </tr>\n",
              "    <tr>\n",
              "      <th>Yogur</th>\n",
              "      <td>503</td>\n",
              "    </tr>\n",
              "    <tr>\n",
              "      <th>...</th>\n",
              "      <td>...</td>\n",
              "    </tr>\n",
              "    <tr>\n",
              "      <th>Estabilizante</th>\n",
              "      <td>1</td>\n",
              "    </tr>\n",
              "    <tr>\n",
              "      <th>Lomitos</th>\n",
              "      <td>1</td>\n",
              "    </tr>\n",
              "    <tr>\n",
              "      <th>Perejil</th>\n",
              "      <td>1</td>\n",
              "    </tr>\n",
              "    <tr>\n",
              "      <th>Aromatizante/saborizante</th>\n",
              "      <td>1</td>\n",
              "    </tr>\n",
              "    <tr>\n",
              "      <th>Vainillas,</th>\n",
              "      <td>1</td>\n",
              "    </tr>\n",
              "  </tbody>\n",
              "</table>\n",
              "<p>535 rows × 1 columns</p>\n",
              "</div><br><label><b>dtype:</b> int64</label>"
            ]
          },
          "metadata": {},
          "execution_count": 9
        }
      ],
      "source": [
        "# Nos quedamos con la primer palabra de \"denominacion\"\n",
        "# como palabra clave\n",
        "df.loc[:, 'simple'] = df['denominacion'].apply(lambda x: x.split()[0])\n",
        "df['simple'].value_counts()"
      ]
    },
    {
      "cell_type": "code",
      "source": [
        "!pip install unidecode"
      ],
      "metadata": {
        "colab": {
          "base_uri": "https://localhost:8080/"
        },
        "id": "txuSauQxJnpG",
        "outputId": "4bda3901-9c39-4073-feb3-63fc7eeaa162"
      },
      "id": "txuSauQxJnpG",
      "execution_count": 12,
      "outputs": [
        {
          "output_type": "stream",
          "name": "stdout",
          "text": [
            "Collecting unidecode\n",
            "  Downloading Unidecode-1.3.8-py3-none-any.whl.metadata (13 kB)\n",
            "Downloading Unidecode-1.3.8-py3-none-any.whl (235 kB)\n",
            "\u001b[2K   \u001b[90m━━━━━━━━━━━━━━━━━━━━━━━━━━━━━━━━━━━━━━━━\u001b[0m \u001b[32m235.5/235.5 kB\u001b[0m \u001b[31m4.2 MB/s\u001b[0m eta \u001b[36m0:00:00\u001b[0m\n",
            "\u001b[?25hInstalling collected packages: unidecode\n",
            "Successfully installed unidecode-1.3.8\n"
          ]
        }
      ]
    },
    {
      "cell_type": "code",
      "execution_count": 13,
      "id": "66a2b2ad-28f1-4f2e-9c84-65b974f334ee",
      "metadata": {
        "id": "66a2b2ad-28f1-4f2e-9c84-65b974f334ee"
      },
      "outputs": [],
      "source": [
        "from unidecode import unidecode\n",
        "import string\n",
        "\n",
        "def normalizar(s):\n",
        "    # todo a minusculas\n",
        "    s = s.lower()\n",
        "    # sacar espacios\n",
        "    s = s.strip()\n",
        "    # sin tildes\n",
        "    s = unidecode(s)\n",
        "    # sacamos puntuacion\n",
        "    letras_no_punct = [l if l not in string.punctuation else '' for l in s]\n",
        "    return ''.join(letras_no_punct)\n",
        "\n",
        "# normalizar('Vainillás,')"
      ]
    },
    {
      "cell_type": "code",
      "execution_count": 14,
      "id": "a8501158-8f97-4e17-9cf9-f4edb3b7490a",
      "metadata": {
        "id": "a8501158-8f97-4e17-9cf9-f4edb3b7490a"
      },
      "outputs": [],
      "source": [
        "def get_match(string, lista_strings):\n",
        "    \"\"\"Para buscar coincidencias entre nombre con los nombres\"\"\"\n",
        "    mejor_match, puntaje = process.extractBests(string.strip(), lista_strings, scorer=fuzz.ratio)[0]\n",
        "    return mejor_match, puntaje\n",
        "\n",
        "def find_match(busqueda: str, vocab: list, th=85):\n",
        "    \"\"\"Si lo encuentra, devuelve el resultado de la búsqueda. Si no, mantiene lo mismo\"\"\"\n",
        "    match, puntaje = get_match(busqueda, vocab)\n",
        "    if puntaje > th:\n",
        "        return match\n",
        "    else:\n",
        "        return busqueda"
      ]
    },
    {
      "cell_type": "code",
      "execution_count": 15,
      "id": "00d0b07d-e1dd-456f-ae84-141b300befc3",
      "metadata": {
        "colab": {
          "base_uri": "https://localhost:8080/",
          "height": 489
        },
        "id": "00d0b07d-e1dd-456f-ae84-141b300befc3",
        "outputId": "b0c17db1-05c2-4e50-d969-e95f6a5959cf"
      },
      "outputs": [
        {
          "output_type": "execute_result",
          "data": {
            "text/plain": [
              "simple\n",
              "Queso                       1493\n",
              "Leche                        682\n",
              "Alimento                     668\n",
              "Mermelada                    549\n",
              "Yogur                        503\n",
              "                            ... \n",
              "Estabilizante                  1\n",
              "Lomitos                        1\n",
              "Perejil                        1\n",
              "Aromatizante/saborizante       1\n",
              "Vainillas,                     1\n",
              "Name: count, Length: 535, dtype: int64"
            ],
            "text/html": [
              "<div>\n",
              "<style scoped>\n",
              "    .dataframe tbody tr th:only-of-type {\n",
              "        vertical-align: middle;\n",
              "    }\n",
              "\n",
              "    .dataframe tbody tr th {\n",
              "        vertical-align: top;\n",
              "    }\n",
              "\n",
              "    .dataframe thead th {\n",
              "        text-align: right;\n",
              "    }\n",
              "</style>\n",
              "<table border=\"1\" class=\"dataframe\">\n",
              "  <thead>\n",
              "    <tr style=\"text-align: right;\">\n",
              "      <th></th>\n",
              "      <th>count</th>\n",
              "    </tr>\n",
              "    <tr>\n",
              "      <th>simple</th>\n",
              "      <th></th>\n",
              "    </tr>\n",
              "  </thead>\n",
              "  <tbody>\n",
              "    <tr>\n",
              "      <th>Queso</th>\n",
              "      <td>1493</td>\n",
              "    </tr>\n",
              "    <tr>\n",
              "      <th>Leche</th>\n",
              "      <td>682</td>\n",
              "    </tr>\n",
              "    <tr>\n",
              "      <th>Alimento</th>\n",
              "      <td>668</td>\n",
              "    </tr>\n",
              "    <tr>\n",
              "      <th>Mermelada</th>\n",
              "      <td>549</td>\n",
              "    </tr>\n",
              "    <tr>\n",
              "      <th>Yogur</th>\n",
              "      <td>503</td>\n",
              "    </tr>\n",
              "    <tr>\n",
              "      <th>...</th>\n",
              "      <td>...</td>\n",
              "    </tr>\n",
              "    <tr>\n",
              "      <th>Estabilizante</th>\n",
              "      <td>1</td>\n",
              "    </tr>\n",
              "    <tr>\n",
              "      <th>Lomitos</th>\n",
              "      <td>1</td>\n",
              "    </tr>\n",
              "    <tr>\n",
              "      <th>Perejil</th>\n",
              "      <td>1</td>\n",
              "    </tr>\n",
              "    <tr>\n",
              "      <th>Aromatizante/saborizante</th>\n",
              "      <td>1</td>\n",
              "    </tr>\n",
              "    <tr>\n",
              "      <th>Vainillas,</th>\n",
              "      <td>1</td>\n",
              "    </tr>\n",
              "  </tbody>\n",
              "</table>\n",
              "<p>535 rows × 1 columns</p>\n",
              "</div><br><label><b>dtype:</b> int64</label>"
            ]
          },
          "metadata": {},
          "execution_count": 15
        }
      ],
      "source": [
        "# 535 \"categorias\" distintas\n",
        "p = df['simple'].value_counts()\n",
        "p"
      ]
    },
    {
      "cell_type": "code",
      "execution_count": 16,
      "id": "fc79905c-0bf8-41cd-8f2d-69b1f7897008",
      "metadata": {
        "colab": {
          "base_uri": "https://localhost:8080/",
          "height": 430
        },
        "id": "fc79905c-0bf8-41cd-8f2d-69b1f7897008",
        "outputId": "b0810ed9-8d6b-4342-9cfe-8ec5ee82434c"
      },
      "outputs": [
        {
          "output_type": "display_data",
          "data": {
            "text/plain": [
              "<Figure size 640x480 with 1 Axes>"
            ],
            "image/png": "[encoded data removed]"
          },
          "metadata": {}
        }
      ],
      "source": [
        "p.plot.hist(bins=50);"
      ]
    },
    {
      "cell_type": "code",
      "execution_count": 17,
      "id": "30ff1df8-ba99-4f84-b997-9687365cec5d",
      "metadata": {
        "colab": {
          "base_uri": "https://localhost:8080/"
        },
        "id": "30ff1df8-ba99-4f84-b997-9687365cec5d",
        "outputId": "8dbc8ab7-1451-4953-b9df-677391a85ff0"
      },
      "outputs": [
        {
          "output_type": "execute_result",
          "data": {
            "text/plain": [
              "176"
            ]
          },
          "metadata": {},
          "execution_count": 17
        }
      ],
      "source": [
        "p[p == 1].count()"
      ]
    },
    {
      "cell_type": "code",
      "execution_count": 18,
      "id": "9a83729a-4daf-451c-a00e-9439574fede8",
      "metadata": {
        "colab": {
          "base_uri": "https://localhost:8080/"
        },
        "id": "9a83729a-4daf-451c-a00e-9439574fede8",
        "outputId": "c16b0f88-f9b0-44a3-a50d-077d5debe44c"
      },
      "outputs": [
        {
          "output_type": "execute_result",
          "data": {
            "text/plain": [
              "Index(['Trozos', 'Premezcla,', 'Fecula', 'Bastoncitos', 'Biscuits',\n",
              "       'Polvorones', 'Bebida,', 'Frambuesa', 'Pretzels', 'Guinda',\n",
              "       ...\n",
              "       'Acaí', 'Espesantes', 'Cazuela', 'Celulosa', 'Antiaglutinante',\n",
              "       'Estabilizante', 'Lomitos', 'Perejil', 'Aromatizante/saborizante',\n",
              "       'Vainillas,'],\n",
              "      dtype='object', name='simple', length=176)"
            ]
          },
          "metadata": {},
          "execution_count": 18
        }
      ],
      "source": [
        "dudosas = p[p == 1].index\n",
        "dudosas"
      ]
    },
    {
      "cell_type": "code",
      "execution_count": 19,
      "id": "6e14273c-117f-4769-baed-f3d48ad0223d",
      "metadata": {
        "colab": {
          "base_uri": "https://localhost:8080/"
        },
        "id": "6e14273c-117f-4769-baed-f3d48ad0223d",
        "outputId": "29f2c582-f7ad-41a6-8b4b-6a3b8253056d"
      },
      "outputs": [
        {
          "output_type": "execute_result",
          "data": {
            "text/plain": [
              "Index(['Queso', 'Leche', 'Alimento', 'Mermelada', 'Yogur', 'Suplemento',\n",
              "       'Dulce', 'Galletitas', 'Polvo', 'Bebida',\n",
              "       ...\n",
              "       'Moras', 'Durazno', 'Rebozador-', 'Pre-pizza', 'Ñoquis', 'Trigo',\n",
              "       'Amaranto', 'Cereza', 'Garrapiñada', 'Tallarines'],\n",
              "      dtype='object', name='simple', length=359)"
            ]
          },
          "metadata": {},
          "execution_count": 19
        }
      ],
      "source": [
        "vocab = p[p > 1].index\n",
        "vocab"
      ]
    },
    {
      "cell_type": "code",
      "execution_count": 20,
      "id": "d38ab378-1be6-4b95-979b-d7def022afb2",
      "metadata": {
        "id": "d38ab378-1be6-4b95-979b-d7def022afb2"
      },
      "outputs": [],
      "source": [
        "matches = dudosas.map(lambda x: find_match(x, vocab))"
      ]
    },
    {
      "cell_type": "code",
      "execution_count": 21,
      "id": "de8052c6-1ce7-4585-a9da-0795407ec994",
      "metadata": {
        "colab": {
          "base_uri": "https://localhost:8080/"
        },
        "id": "de8052c6-1ce7-4585-a9da-0795407ec994",
        "outputId": "796a3788-505e-4412-e338-561f963b8ee3"
      },
      "outputs": [
        {
          "output_type": "execute_result",
          "data": {
            "text/plain": [
              "Index(['Trozos', 'Premezcla', 'Fecula', 'Bastoncitos', 'Biscuits',\n",
              "       'Polvorones', 'Bebida', 'Frambuesas', 'Pretzel', 'Guindas',\n",
              "       ...\n",
              "       'Acaí', 'Espesante', 'Cazuela', 'Celulosa', 'Antiaglutinante',\n",
              "       'Estabilizante', 'Lomito', 'Perejil', 'Aromatizante/saborizante',\n",
              "       'Vainillas'],\n",
              "      dtype='object', name='simple', length=176)"
            ]
          },
          "metadata": {},
          "execution_count": 21
        }
      ],
      "source": [
        "matches"
      ]
    },
    {
      "cell_type": "code",
      "execution_count": 22,
      "id": "03c73feb-6d3f-4ef4-8945-b2e57126ba01",
      "metadata": {
        "id": "03c73feb-6d3f-4ef4-8945-b2e57126ba01"
      },
      "outputs": [],
      "source": [
        "resultado = pd.DataFrame({'original':dudosas, 'matches':matches})"
      ]
    },
    {
      "cell_type": "code",
      "execution_count": 23,
      "id": "62087a3b-ee91-497b-949d-81a653d8b747",
      "metadata": {
        "colab": {
          "base_uri": "https://localhost:8080/",
          "height": 423
        },
        "id": "62087a3b-ee91-497b-949d-81a653d8b747",
        "outputId": "4f90ff1b-9ef3-438f-fdb7-96f59764ca2e"
      },
      "outputs": [
        {
          "output_type": "execute_result",
          "data": {
            "text/plain": [
              "       original     matches\n",
              "1    Premezcla,   Premezcla\n",
              "6       Bebida,      Bebida\n",
              "7     Frambuesa  Frambuesas\n",
              "8      Pretzels     Pretzel\n",
              "9        Guinda     Guindas\n",
              "..          ...         ...\n",
              "163       Mora,       Moras\n",
              "164        Mora       Moras\n",
              "167  Espesantes   Espesante\n",
              "172     Lomitos      Lomito\n",
              "175  Vainillas,   Vainillas\n",
              "\n",
              "[67 rows x 2 columns]"
            ],
            "text/html": [
              "\n",
              "  <div id=\"df-3d817164-3210-4fca-9e1f-7174a2c7e069\" class=\"colab-df-container\">\n",
              "    <div>\n",
              "<style scoped>\n",
              "    .dataframe tbody tr th:only-of-type {\n",
              "        vertical-align: middle;\n",
              "    }\n",
              "\n",
              "    .dataframe tbody tr th {\n",
              "        vertical-align: top;\n",
              "    }\n",
              "\n",
              "    .dataframe thead th {\n",
              "        text-align: right;\n",
              "    }\n",
              "</style>\n",
              "<table border=\"1\" class=\"dataframe\">\n",
              "  <thead>\n",
              "    <tr style=\"text-align: right;\">\n",
              "      <th></th>\n",
              "      <th>original</th>\n",
              "      <th>matches</th>\n",
              "    </tr>\n",
              "  </thead>\n",
              "  <tbody>\n",
              "    <tr>\n",
              "      <th>1</th>\n",
              "      <td>Premezcla,</td>\n",
              "      <td>Premezcla</td>\n",
              "    </tr>\n",
              "    <tr>\n",
              "      <th>6</th>\n",
              "      <td>Bebida,</td>\n",
              "      <td>Bebida</td>\n",
              "    </tr>\n",
              "    <tr>\n",
              "      <th>7</th>\n",
              "      <td>Frambuesa</td>\n",
              "      <td>Frambuesas</td>\n",
              "    </tr>\n",
              "    <tr>\n",
              "      <th>8</th>\n",
              "      <td>Pretzels</td>\n",
              "      <td>Pretzel</td>\n",
              "    </tr>\n",
              "    <tr>\n",
              "      <th>9</th>\n",
              "      <td>Guinda</td>\n",
              "      <td>Guindas</td>\n",
              "    </tr>\n",
              "    <tr>\n",
              "      <th>...</th>\n",
              "      <td>...</td>\n",
              "      <td>...</td>\n",
              "    </tr>\n",
              "    <tr>\n",
              "      <th>163</th>\n",
              "      <td>Mora,</td>\n",
              "      <td>Moras</td>\n",
              "    </tr>\n",
              "    <tr>\n",
              "      <th>164</th>\n",
              "      <td>Mora</td>\n",
              "      <td>Moras</td>\n",
              "    </tr>\n",
              "    <tr>\n",
              "      <th>167</th>\n",
              "      <td>Espesantes</td>\n",
              "      <td>Espesante</td>\n",
              "    </tr>\n",
              "    <tr>\n",
              "      <th>172</th>\n",
              "      <td>Lomitos</td>\n",
              "      <td>Lomito</td>\n",
              "    </tr>\n",
              "    <tr>\n",
              "      <th>175</th>\n",
              "      <td>Vainillas,</td>\n",
              "      <td>Vainillas</td>\n",
              "    </tr>\n",
              "  </tbody>\n",
              "</table>\n",
              "<p>67 rows × 2 columns</p>\n",
              "</div>\n",
              "    <div class=\"colab-df-buttons\">\n",
              "\n",
              "  <div class=\"colab-df-container\">\n",
              "    <button class=\"colab-df-convert\" onclick=\"convertToInteractive('df-3d817164-3210-4fca-9e1f-7174a2c7e069')\"\n",
              "            title=\"Convert this dataframe to an interactive table.\"\n",
              "            style=\"display:none;\">\n",
              "\n",
              "  <svg xmlns=\"http://www.w3.org/2000/svg\" height=\"24px\" viewBox=\"0 -960 960 960\">\n",
              "    <path d=\"M120-120v-720h720v720H120Zm60-500h600v-160H180v160Zm220 220h160v-160H400v160Zm0 220h160v-160H400v160ZM180-400h160v-160H180v160Zm440 0h160v-160H620v160ZM180-180h160v-160H180v160Zm440 0h160v-160H620v160Z\"/>\n",
              "  </svg>\n",
              "    </button>\n",
              "\n",
              "  <style>\n",
              "    .colab-df-container {\n",
              "      display:flex;\n",
              "      gap: 12px;\n",
              "    }\n",
              "\n",
              "    .colab-df-convert {\n",
              "      background-color: #E8F0FE;\n",
              "      border: none;\n",
              "      border-radius: 50%;\n",
              "      cursor: pointer;\n",
              "      display: none;\n",
              "      fill: #1967D2;\n",
              "      height: 32px;\n",
              "      padding: 0 0 0 0;\n",
              "      width: 32px;\n",
              "    }\n",
              "\n",
              "    .colab-df-convert:hover {\n",
              "      background-color: #E2EBFA;\n",
              "      box-shadow: 0px 1px 2px rgba(60, 64, 67, 0.3), 0px 1px 3px 1px rgba(60, 64, 67, 0.15);\n",
              "      fill: #174EA6;\n",
              "    }\n",
              "\n",
              "    .colab-df-buttons div {\n",
              "      margin-bottom: 4px;\n",
              "    }\n",
              "\n",
              "    [theme=dark] .colab-df-convert {\n",
              "      background-color: #3B4455;\n",
              "      fill: #D2E3FC;\n",
              "    }\n",
              "\n",
              "    [theme=dark] .colab-df-convert:hover {\n",
              "      background-color: #434B5C;\n",
              "      box-shadow: 0px 1px 3px 1px rgba(0, 0, 0, 0.15);\n",
              "      filter: drop-shadow(0px 1px 2px rgba(0, 0, 0, 0.3));\n",
              "      fill: #FFFFFF;\n",
              "    }\n",
              "  </style>\n",
              "\n",
              "    <script>\n",
              "      const buttonEl =\n",
              "        document.querySelector('#df-3d817164-3210-4fca-9e1f-7174a2c7e069 button.colab-df-convert');\n",
              "      buttonEl.style.display =\n",
              "        google.colab.kernel.accessAllowed ? 'block' : 'none';\n",
              "\n",
              "      async function convertToInteractive(key) {\n",
              "        const element = document.querySelector('#df-3d817164-3210-4fca-9e1f-7174a2c7e069');\n",
              "        const dataTable =\n",
              "          await google.colab.kernel.invokeFunction('convertToInteractive',\n",
              "                                                    [key], {});\n",
              "        if (!dataTable) return;\n",
              "\n",
              "        const docLinkHtml = 'Like what you see? Visit the ' +\n",
              "          '<a target=\"_blank\" href=https://colab.research.google.com/notebooks/data_table.ipynb>data table notebook</a>'\n",
              "          + ' to learn more about interactive tables.';\n",
              "        element.innerHTML = '';\n",
              "        dataTable['output_type'] = 'display_data';\n",
              "        await google.colab.output.renderOutput(dataTable, element);\n",
              "        const docLink = document.createElement('div');\n",
              "        docLink.innerHTML = docLinkHtml;\n",
              "        element.appendChild(docLink);\n",
              "      }\n",
              "    </script>\n",
              "  </div>\n",
              "\n",
              "\n",
              "<div id=\"df-f79b1ad4-0df5-43c7-95b8-33e347a3a996\">\n",
              "  <button class=\"colab-df-quickchart\" onclick=\"quickchart('df-f79b1ad4-0df5-43c7-95b8-33e347a3a996')\"\n",
              "            title=\"Suggest charts\"\n",
              "            style=\"display:none;\">\n",
              "\n",
              "<svg xmlns=\"http://www.w3.org/2000/svg\" height=\"24px\"viewBox=\"0 0 24 24\"\n",
              "     width=\"24px\">\n",
              "    <g>\n",
              "        <path d=\"M19 3H5c-1.1 0-2 .9-2 2v14c0 1.1.9 2 2 2h14c1.1 0 2-.9 2-2V5c0-1.1-.9-2-2-2zM9 17H7v-7h2v7zm4 0h-2V7h2v10zm4 0h-2v-4h2v4z\"/>\n",
              "    </g>\n",
              "</svg>\n",
              "  </button>\n",
              "\n",
              "<style>\n",
              "  .colab-df-quickchart {\n",
              "      --bg-color: #E8F0FE;\n",
              "      --fill-color: #1967D2;\n",
              "      --hover-bg-color: #E2EBFA;\n",
              "      --hover-fill-color: #174EA6;\n",
              "      --disabled-fill-color: #AAA;\n",
              "      --disabled-bg-color: #DDD;\n",
              "  }\n",
              "\n",
              "  [theme=dark] .colab-df-quickchart {\n",
              "      --bg-color: #3B4455;\n",
              "      --fill-color: #D2E3FC;\n",
              "      --hover-bg-color: #434B5C;\n",
              "      --hover-fill-color: #FFFFFF;\n",
              "      --disabled-bg-color: #3B4455;\n",
              "      --disabled-fill-color: #666;\n",
              "  }\n",
              "\n",
              "  .colab-df-quickchart {\n",
              "    background-color: var(--bg-color);\n",
              "    border: none;\n",
              "    border-radius: 50%;\n",
              "    cursor: pointer;\n",
              "    display: none;\n",
              "    fill: var(--fill-color);\n",
              "    height: 32px;\n",
              "    padding: 0;\n",
              "    width: 32px;\n",
              "  }\n",
              "\n",
              "  .colab-df-quickchart:hover {\n",
              "    background-color: var(--hover-bg-color);\n",
              "    box-shadow: 0 1px 2px rgba(60, 64, 67, 0.3), 0 1px 3px 1px rgba(60, 64, 67, 0.15);\n",
              "    fill: var(--button-hover-fill-color);\n",
              "  }\n",
              "\n",
              "  .colab-df-quickchart-complete:disabled,\n",
              "  .colab-df-quickchart-complete:disabled:hover {\n",
              "    background-color: var(--disabled-bg-color);\n",
              "    fill: var(--disabled-fill-color);\n",
              "    box-shadow: none;\n",
              "  }\n",
              "\n",
              "  .colab-df-spinner {\n",
              "    border: 2px solid var(--fill-color);\n",
              "    border-color: transparent;\n",
              "    border-bottom-color: var(--fill-color);\n",
              "    animation:\n",
              "      spin 1s steps(1) infinite;\n",
              "  }\n",
              "\n",
              "  @keyframes spin {\n",
              "    0% {\n",
              "      border-color: transparent;\n",
              "      border-bottom-color: var(--fill-color);\n",
              "      border-left-color: var(--fill-color);\n",
              "    }\n",
              "    20% {\n",
              "      border-color: transparent;\n",
              "      border-left-color: var(--fill-color);\n",
              "      border-top-color: var(--fill-color);\n",
              "    }\n",
              "    30% {\n",
              "      border-color: transparent;\n",
              "      border-left-color: var(--fill-color);\n",
              "      border-top-color: var(--fill-color);\n",
              "      border-right-color: var(--fill-color);\n",
              "    }\n",
              "    40% {\n",
              "      border-color: transparent;\n",
              "      border-right-color: var(--fill-color);\n",
              "      border-top-color: var(--fill-color);\n",
              "    }\n",
              "    60% {\n",
              "      border-color: transparent;\n",
              "      border-right-color: var(--fill-color);\n",
              "    }\n",
              "    80% {\n",
              "      border-color: transparent;\n",
              "      border-right-color: var(--fill-color);\n",
              "      border-bottom-color: var(--fill-color);\n",
              "    }\n",
              "    90% {\n",
              "      border-color: transparent;\n",
              "      border-bottom-color: var(--fill-color);\n",
              "    }\n",
              "  }\n",
              "</style>\n",
              "\n",
              "  <script>\n",
              "    async function quickchart(key) {\n",
              "      const quickchartButtonEl =\n",
              "        document.querySelector('#' + key + ' button');\n",
              "      quickchartButtonEl.disabled = true;  // To prevent multiple clicks.\n",
              "      quickchartButtonEl.classList.add('colab-df-spinner');\n",
              "      try {\n",
              "        const charts = await google.colab.kernel.invokeFunction(\n",
              "            'suggestCharts', [key], {});\n",
              "      } catch (error) {\n",
              "        console.error('Error during call to suggestCharts:', error);\n",
              "      }\n",
              "      quickchartButtonEl.classList.remove('colab-df-spinner');\n",
              "      quickchartButtonEl.classList.add('colab-df-quickchart-complete');\n",
              "    }\n",
              "    (() => {\n",
              "      let quickchartButtonEl =\n",
              "        document.querySelector('#df-f79b1ad4-0df5-43c7-95b8-33e347a3a996 button');\n",
              "      quickchartButtonEl.style.display =\n",
              "        google.colab.kernel.accessAllowed ? 'block' : 'none';\n",
              "    })();\n",
              "  </script>\n",
              "</div>\n",
              "\n",
              "    </div>\n",
              "  </div>\n"
            ],
            "application/vnd.google.colaboratory.intrinsic+json": {
              "type": "dataframe",
              "summary": "{\n  \"name\": \"resultado[resultado['original'] != resultado['matches']]\",\n  \"rows\": 67,\n  \"fields\": [\n    {\n      \"column\": \"original\",\n      \"properties\": {\n        \"dtype\": \"string\",\n        \"num_unique_values\": 67,\n        \"samples\": [\n          \"Brownies-\",\n          \"Extrusados\",\n          \"Guinda\"\n        ],\n        \"semantic_type\": \"\",\n        \"description\": \"\"\n      }\n    },\n    {\n      \"column\": \"matches\",\n      \"properties\": {\n        \"dtype\": \"string\",\n        \"num_unique_values\": 57,\n        \"samples\": [\n          \"Premezcla\",\n          \"Cebolla\",\n          \"Lentejas\"\n        ],\n        \"semantic_type\": \"\",\n        \"description\": \"\"\n      }\n    }\n  ]\n}"
            }
          },
          "metadata": {},
          "execution_count": 23
        }
      ],
      "source": [
        "resultado[resultado['original'] != resultado['matches']]"
      ]
    },
    {
      "cell_type": "code",
      "execution_count": 24,
      "id": "73a285a1-9ae6-40cb-a501-9a3a34c5d4dd",
      "metadata": {
        "colab": {
          "base_uri": "https://localhost:8080/"
        },
        "id": "73a285a1-9ae6-40cb-a501-9a3a34c5d4dd",
        "outputId": "fc8f19db-63a1-482b-dde7-2d45839e4a2b"
      },
      "outputs": [
        {
          "output_type": "stream",
          "name": "stdout",
          "text": [
            "CPU times: user 3.03 s, sys: 3.52 ms, total: 3.04 s\n",
            "Wall time: 3.21 s\n"
          ]
        }
      ],
      "source": [
        "%%time\n",
        "df['simple_correct'] = df['simple'].map(lambda x: find_match(x, vocab))"
      ]
    },
    {
      "cell_type": "code",
      "execution_count": 25,
      "id": "ed43128c-a9e9-4ff6-85b5-9d95b768fde6",
      "metadata": {
        "colab": {
          "base_uri": "https://localhost:8080/",
          "height": 489
        },
        "id": "ed43128c-a9e9-4ff6-85b5-9d95b768fde6",
        "outputId": "03dddb5f-ca14-46f3-feb9-90c291d68165"
      },
      "outputs": [
        {
          "output_type": "execute_result",
          "data": {
            "text/plain": [
              "simple_correct\n",
              "Queso              1493\n",
              "Leche               682\n",
              "Alimento            668\n",
              "Mermelada           549\n",
              "Yogur               503\n",
              "                   ... \n",
              "Estabilizante         1\n",
              "Antiaglutinante       1\n",
              "Celulosa              1\n",
              "Acaí                  1\n",
              "Castañas              1\n",
              "Name: count, Length: 457, dtype: int64"
            ],
            "text/html": [
              "<div>\n",
              "<style scoped>\n",
              "    .dataframe tbody tr th:only-of-type {\n",
              "        vertical-align: middle;\n",
              "    }\n",
              "\n",
              "    .dataframe tbody tr th {\n",
              "        vertical-align: top;\n",
              "    }\n",
              "\n",
              "    .dataframe thead th {\n",
              "        text-align: right;\n",
              "    }\n",
              "</style>\n",
              "<table border=\"1\" class=\"dataframe\">\n",
              "  <thead>\n",
              "    <tr style=\"text-align: right;\">\n",
              "      <th></th>\n",
              "      <th>count</th>\n",
              "    </tr>\n",
              "    <tr>\n",
              "      <th>simple_correct</th>\n",
              "      <th></th>\n",
              "    </tr>\n",
              "  </thead>\n",
              "  <tbody>\n",
              "    <tr>\n",
              "      <th>Queso</th>\n",
              "      <td>1493</td>\n",
              "    </tr>\n",
              "    <tr>\n",
              "      <th>Leche</th>\n",
              "      <td>682</td>\n",
              "    </tr>\n",
              "    <tr>\n",
              "      <th>Alimento</th>\n",
              "      <td>668</td>\n",
              "    </tr>\n",
              "    <tr>\n",
              "      <th>Mermelada</th>\n",
              "      <td>549</td>\n",
              "    </tr>\n",
              "    <tr>\n",
              "      <th>Yogur</th>\n",
              "      <td>503</td>\n",
              "    </tr>\n",
              "    <tr>\n",
              "      <th>...</th>\n",
              "      <td>...</td>\n",
              "    </tr>\n",
              "    <tr>\n",
              "      <th>Estabilizante</th>\n",
              "      <td>1</td>\n",
              "    </tr>\n",
              "    <tr>\n",
              "      <th>Antiaglutinante</th>\n",
              "      <td>1</td>\n",
              "    </tr>\n",
              "    <tr>\n",
              "      <th>Celulosa</th>\n",
              "      <td>1</td>\n",
              "    </tr>\n",
              "    <tr>\n",
              "      <th>Acaí</th>\n",
              "      <td>1</td>\n",
              "    </tr>\n",
              "    <tr>\n",
              "      <th>Castañas</th>\n",
              "      <td>1</td>\n",
              "    </tr>\n",
              "  </tbody>\n",
              "</table>\n",
              "<p>457 rows × 1 columns</p>\n",
              "</div><br><label><b>dtype:</b> int64</label>"
            ]
          },
          "metadata": {},
          "execution_count": 25
        }
      ],
      "source": [
        "df['simple_correct'].value_counts()"
      ]
    },
    {
      "cell_type": "markdown",
      "id": "23744afe-552c-47cb-9068-9824648a3566",
      "metadata": {
        "id": "23744afe-552c-47cb-9068-9824648a3566"
      },
      "source": [
        "# Bonus:\n",
        "- Aplicar la normalización sobre los nombres completos de los productos.\n",
        "\n",
        "Va a requerrir un poco más de pasos, ej podrían borrar \"sin TACC\" (usar RegEx), \"libre de gluten\""
      ]
    },
    {
      "cell_type": "code",
      "source": [
        "# prompt: Aplicar la normalización sobre los nombres completos de los productos.\n",
        "# Va a requerrir un poco más de pasos, ej podrían borrar \"sin TACC\" (usar RegEx), \"libre de gluten\"\n",
        "\n",
        "import re\n",
        "\n",
        "def normalize_product_name(name):\n",
        "    \"\"\"Normalizes product names by removing specific phrases and applying general normalization.\"\"\"\n",
        "    name = re.sub(r'\\bsin tacc\\b', '', name, flags=re.IGNORECASE)  # Remove \"sin TACC\"\n",
        "    name = re.sub(r'\\blibre de gluten\\b', '', name, flags=re.IGNORECASE)  # Remove \"libre de gluten\"\n",
        "    name = normalizar(name) # Apply existing normalization\n",
        "    name = name.strip() # Remove extra whitespace\n",
        "    return name\n",
        "\n",
        "# Example usage (assuming 'denominacion' column exists):\n",
        "df['normalized_name'] = df['denominacion'].apply(normalize_product_name)\n",
        "\n",
        "# Display the updated DataFrame\n",
        "print(df[['denominacion', 'normalized_name']].head())\n"
      ],
      "metadata": {
        "colab": {
          "base_uri": "https://localhost:8080/"
        },
        "id": "7gvFLtAdKJx2",
        "outputId": "82d4a35e-f8b8-4028-a5dc-990f4fee78de"
      },
      "id": "7gvFLtAdKJx2",
      "execution_count": 26,
      "outputs": [
        {
          "output_type": "stream",
          "name": "stdout",
          "text": [
            "                                     denominacion  \\\n",
            "0       Aceite de maíz, libre de gluten, sin TACC   \n",
            "1                Aceite de maíz - Libre de gluten   \n",
            "2         Aceite de oliva virgen libre de gluten.   \n",
            "3           Aceite de oliva extra libre de gluten   \n",
            "4  Aceite de oliva virgen extra – Libre de gluten   \n",
            "\n",
            "                normalized_name  \n",
            "0                aceite de maiz  \n",
            "1                aceite de maiz  \n",
            "2        aceite de oliva virgen  \n",
            "3         aceite de oliva extra  \n",
            "4  aceite de oliva virgen extra  \n"
          ]
        }
      ]
    }
  ],
  "metadata": {
    "kernelspec": {
      "display_name": "Python 3 (ipykernel)",
      "language": "python",
      "name": "python3"
    },
    "language_info": {
      "codemirror_mode": {
        "name": "ipython",
        "version": 3
      },
      "file_extension": ".py",
      "mimetype": "text/x-python",
      "name": "python",
      "nbconvert_exporter": "python",
      "pygments_lexer": "ipython3",
      "version": "3.10.9"
    },
    "colab": {
      "provenance": [],
      "include_colab_link": true
    }
  },
  "nbformat": 4,
  "nbformat_minor": 5
}