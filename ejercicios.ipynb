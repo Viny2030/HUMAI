{
  "cells": [
    {
      "cell_type": "markdown",
      "metadata": {
        "id": "view-in-github",
        "colab_type": "text"
      },
      "source": [
        "<a href=\"https://colab.research.google.com/github/Viny2030/HUMAI/blob/main/ejercicios.ipynb\" target=\"_parent\"><img src=\"https://colab.research.google.com/assets/colab-badge.svg\" alt=\"Open In Colab\"/></a>"
      ]
    },
    {
      "cell_type": "markdown",
      "metadata": {
        "id": "gPlA4-_Pazio"
      },
      "source": [
        "<a href=\"https://colab.research.google.com/github/institutohumai/machine_learning/blob/main/6_Ensamble/ejercicios/ejercicios.ipynb\"> <img src='https://colab.research.google.com/assets/colab-badge.svg' /> </a>"
      ]
    },
    {
      "cell_type": "markdown",
      "metadata": {
        "id": "28R3qlO5IsKR"
      },
      "source": [
        "# Práctica Ensambles I\n",
        "\n",
        "## Consignas\n",
        "El objetivo de esta práctica es comparar la performance de diferentes clasificadores basados en ensamble learning y un clasificador simple (árbol de decisión, regresión logística u otros).\n",
        "\n",
        "**1. Cargamos los paquetes a utilizar**\n"
      ]
    },
    {
      "cell_type": "code",
      "execution_count": null,
      "metadata": {
        "id": "kNlndivZ2wL1"
      },
      "outputs": [],
      "source": [
        "from sklearn.ensemble import RandomForestClassifier, ExtraTreesClassifier, AdaBoostClassifier, GradientBoostingClassifier\n",
        "from sklearn.model_selection import train_test_split\n",
        "from sklearn.svm import LinearSVC\n",
        "from sklearn.neural_network import MLPClassifier\n",
        "from sklearn.linear_model import LogisticRegression\n",
        "from sklearn.preprocessing import StandardScaler\n",
        "from sklearn.tree import DecisionTreeClassifier\n",
        "from sklearn.datasets import fetch_openml\n",
        "import numpy as np\n",
        "from matplotlib import pyplot as plt"
      ]
    },
    {
      "cell_type": "markdown",
      "metadata": {
        "id": "h_5Uhr7TJsYI"
      },
      "source": [
        "**2. Importamos el dataset mnist**"
      ]
    },
    {
      "cell_type": "code",
      "execution_count": null,
      "metadata": {
        "id": "oDijUpkd3R14",
        "outputId": "94ee40e3-d422-4b71-e007-ffc9f549ce4f"
      },
      "outputs": [
        {
          "name": "stderr",
          "output_type": "stream",
          "text": [
            "c:\\Users\\gere-\\AppData\\Local\\Programs\\Python\\Python310\\lib\\site-packages\\sklearn\\datasets\\_openml.py:968: FutureWarning: The default value of `parser` will change from `'liac-arff'` to `'auto'` in 1.4. You can set `parser='auto'` to silence this warning. Therefore, an `ImportError` will be raised from 1.4 if the dataset is dense and pandas is not installed. Note that the pandas parser may return different data types. See the Notes Section in fetch_openml's API doc for details.\n",
            "  warn(\n"
          ]
        }
      ],
      "source": [
        "mnist = fetch_openml('mnist_784', version=1, as_frame=False)\n",
        "mnist.target = mnist.target.astype(np.uint8)"
      ]
    },
    {
      "cell_type": "markdown",
      "metadata": {
        "id": "BsCfgaPKMS1_"
      },
      "source": [
        "Se trata de un dataset de digitos escritos a mano.\n",
        "\n",
        "Los dígitos se normalizaron en tamaño y se centraron en una imagen de tamaño fijo. Es una buena base de datos para las personas que desean probar técnicas de aprendizaje y métodos de reconocimiento de patrones en datos del mundo real mientras dedican un esfuerzo mínimo al preprocesamiento y formateo.\n",
        "\n",
        "Las imágenes originales en blanco y negro (dos niveles) del NIST se normalizaron en tamaño para que cupieran en un cuadro de 20 x 20 píxeles conservando su relación de aspecto.\n",
        "\n",
        "Las imágenes resultantes contienen niveles de gris como resultado de la técnica de suavizado utilizada por el algoritmo de normalización. las imágenes se centraron en una imagen de 28x28 calculando el centro de masa de los píxeles y traduciendo la imagen para posicionar este punto en el centro del campo de 28x28."
      ]
    },
    {
      "cell_type": "code",
      "execution_count": null,
      "metadata": {
        "colab": {
          "base_uri": "https://localhost:8080/",
          "height": 353
        },
        "id": "D-s7o6xyKC7G",
        "outputId": "cc29a62c-2cd7-4149-ee72-a50a2b50e77e"
      },
      "outputs": [
        {
          "data": {
            "image/png": "[encoded data removed]",
            "text/plain": [
              "<Figure size 640x480 with 1 Axes>"
            ]
          },
          "metadata": {},
          "output_type": "display_data"
        },
        {
          "data": {
            "image/png": "[encoded data removed]",
            "text/plain": [
              "<Figure size 640x480 with 1 Axes>"
            ]
          },
          "metadata": {},
          "output_type": "display_data"
        },
        {
          "data": {
            "image/png": "[encoded data removed]",
            "text/plain": [
              "<Figure size 640x480 with 1 Axes>"
            ]
          },
          "metadata": {},
          "output_type": "display_data"
        }
      ],
      "source": [
        "for i in range(0,3):\n",
        "  plt.subplot(130 + 1 + i)\n",
        "  d = np.array(mnist.data[i,:]).reshape(28, 28)\n",
        "  plt.imshow(d, cmap=plt.get_cmap('gray'))\n",
        "  plt.axis('off')\n",
        "  plt.show()"
      ]
    },
    {
      "cell_type": "markdown",
      "metadata": {
        "id": "8mTqX7MaKBQu"
      },
      "source": [
        "**3. Dividimos en train y test**"
      ]
    },
    {
      "cell_type": "code",
      "execution_count": null,
      "metadata": {
        "id": "QH7e-WdG3fH1"
      },
      "outputs": [],
      "source": []
    },
    {
      "cell_type": "markdown",
      "metadata": {
        "id": "VvBtA4_RNVZD"
      },
      "source": [
        ">> ¿Qué forma/dimensión tienen los datos?"
      ]
    },
    {
      "cell_type": "code",
      "execution_count": null,
      "metadata": {
        "id": "JjIeUTRlazi6"
      },
      "outputs": [],
      "source": []
    },
    {
      "cell_type": "markdown",
      "metadata": {
        "id": "q0u66DD_NBiX"
      },
      "source": [
        "**4. Instanciamos los clasificadores**"
      ]
    },
    {
      "cell_type": "code",
      "execution_count": null,
      "metadata": {
        "id": "VLc9E5OD34t9"
      },
      "outputs": [],
      "source": []
    },
    {
      "cell_type": "markdown",
      "metadata": {
        "id": "zZIiKa5oNChh"
      },
      "source": [
        "**5. Hacemos el entrenamiento de cada uno de los modelos elegidos**"
      ]
    },
    {
      "cell_type": "code",
      "execution_count": null,
      "metadata": {
        "id": "49FsJQvt4ABj"
      },
      "outputs": [],
      "source": []
    },
    {
      "cell_type": "markdown",
      "metadata": {
        "id": "KKzP-jggNmzW"
      },
      "source": [
        "**6. Evaluamos los resultados**\n",
        "\n",
        "> ¿Cuál sería la métrica más adecuada para evaluar estos modelos?\n",
        "\n",
        "> ¿Cuál es el mejor modelo?\n",
        "\n",
        "> ¿Qué diferencias ven entre los clasificadores?\n"
      ]
    },
    {
      "cell_type": "code",
      "execution_count": null,
      "metadata": {
        "id": "K1hY8sotazi9"
      },
      "outputs": [],
      "source": []
    },
    {
      "cell_type": "code",
      "execution_count": null,
      "metadata": {
        "id": "l8802aG4azi9"
      },
      "outputs": [],
      "source": []
    },
    {
      "cell_type": "markdown",
      "metadata": {
        "id": "MDUGe6igv0q2"
      },
      "source": [
        "Ahora intenten graficar. Recuerden que hay metodos para graficar que pueden hacer que el grafico quede mas limpio, y con ello, mas analizable."
      ]
    },
    {
      "cell_type": "code",
      "execution_count": null,
      "metadata": {
        "id": "b9m4RA7Tazi-"
      },
      "outputs": [],
      "source": []
    },
    {
      "cell_type": "markdown",
      "metadata": {
        "id": "MLyGTuhwOJBx"
      },
      "source": [
        "**7. Mejorando los resultados?**\n",
        "\n",
        "> ¿Qué podría hacerse para mejorar la performance de los diferentes modelos?\n",
        "\n",
        "> ¿Cuál es el modelo que podría tunearse de forma mpas efectiva?  Avanzar en el tuneo de los hiperparámetros del mismo"
      ]
    },
    {
      "cell_type": "code",
      "execution_count": null,
      "metadata": {
        "id": "wzi3TOMfOnW1"
      },
      "outputs": [],
      "source": [
        "#Pueden utilizar las siguientes librerias\n",
        "#from sklearn.model_selection import StratifiedKFold, GridSearchCV, RandomizedSearchCV\n",
        "\n",
        "# Definimos la grilla de valores sobre los que vamos a buscar\n",
        "\n",
        "# Seteamos el modo de evaluación\n",
        "\n",
        "# Definimos el proceso de búsqueda (en este caso, exhaustivo)\n",
        "\n",
        "# Ejecutamos la búsqueda\n"
      ]
    }
  ],
  "metadata": {
    "colab": {
      "provenance": [],
      "include_colab_link": true
    },
    "kernelspec": {
      "display_name": "Python 3",
      "name": "python3"
    },
    "language_info": {
      "codemirror_mode": {
        "name": "ipython",
        "version": 3
      },
      "file_extension": ".py",
      "mimetype": "text/x-python",
      "name": "python",
      "nbconvert_exporter": "python",
      "pygments_lexer": "ipython3",
      "version": "3.10.7"
    }
  },
  "nbformat": 4,
  "nbformat_minor": 0
}