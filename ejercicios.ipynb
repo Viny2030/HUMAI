{
  "cells": [
    {
      "cell_type": "markdown",
      "metadata": {
        "id": "view-in-github",
        "colab_type": "text"
      },
      "source": [
        "<a href=\"https://colab.research.google.com/github/Viny2030/HUMAI/blob/main/ejercicios.ipynb\" target=\"_parent\"><img src=\"https://colab.research.google.com/assets/colab-badge.svg\" alt=\"Open In Colab\"/></a>"
      ]
    },
    {
      "cell_type": "markdown",
      "metadata": {
        "id": "Wk4h6mjY_9Yu"
      },
      "source": [
        "<a href=\"https://colab.research.google.com/github/institutohumai/cursos-python/blob/master/Introduccion/1_TiposDatos/ejercicio/ejercicios.ipynb\"> <img src='https://colab.research.google.com/assets/colab-badge.svg' /> </a>\n",
        "<div align=\"center\"> Recordá abrir en una nueva pestaña </div>\n"
      ]
    },
    {
      "cell_type": "markdown",
      "metadata": {
        "id": "icvqxGGg_9Y6"
      },
      "source": [
        "# Ejercicios I"
      ]
    },
    {
      "cell_type": "markdown",
      "metadata": {
        "id": "5BT4_2Gd_9Y7"
      },
      "source": [
        "## 1- Cambiar un texto\n",
        "\n",
        "Necesitamos mostrar en nuestra web la sinopsis de las películas. El problema es que tenemos los textos separados por pipes (\"|\") en lugar de saltos de línea."
      ]
    },
    {
      "cell_type": "code",
      "execution_count": 1,
      "metadata": {
        "id": "YjRIKwyb_9Y9"
      },
      "outputs": [],
      "source": [
        "string = 'Sinopsis | Marty McFly, un típico adolescente americano de los años ochenta, '\\\n",
        "'es accidentalmente enviado de vuelta a 1955 en una \"máquina del tiempo\" realizada con'\\\n",
        "'un DeLorean inventada por un científico un poco loco. | En este viaje, Marty debe '\\\n",
        "'asegurarse de que sus padres se encuentren y se enamoren, para que pueda volver a su tiempo. '"
      ]
    },
    {
      "cell_type": "code",
      "execution_count": 2,
      "metadata": {
        "id": "S-JDll4__9ZA",
        "outputId": "6ee111d8-0e9e-4aa3-de94-0311933515bd",
        "colab": {
          "base_uri": "https://localhost:8080/"
        }
      },
      "outputs": [
        {
          "output_type": "stream",
          "name": "stdout",
          "text": [
            "Sinopsis | Marty McFly, un típico adolescente americano de los años ochenta, es accidentalmente enviado de vuelta a 1955 en una \"máquina del tiempo\" realizada conun DeLorean inventada por un científico un poco loco. | En este viaje, Marty debe asegurarse de que sus padres se encuentren y se enamoren, para que pueda volver a su tiempo. \n"
          ]
        }
      ],
      "source": [
        "print(string)"
      ]
    },
    {
      "cell_type": "markdown",
      "metadata": {
        "id": "WR5pRiH3_9ZD"
      },
      "source": [
        "## 2 - Crear un acrónimo\n",
        "\n",
        "Ahora nos piden crear un acrónimo (una palabra compuesta por la primera letra de cada palabra) de cada título. Pero antes de eso es necesario que transformemos los títulos a \"title case\" porque no todos van a llegar prolijos. Entonces, el acrónimo de \"Volver al futuro\" debería ser \"VAF\".\n"
      ]
    },
    {
      "cell_type": "code",
      "execution_count": 3,
      "metadata": {
        "id": "9pGrRm4B_9ZE"
      },
      "outputs": [],
      "source": [
        "titulo = 'Volver al futuro'"
      ]
    },
    {
      "cell_type": "code",
      "execution_count": 4,
      "metadata": {
        "id": "PuN3KLdB_9ZG"
      },
      "outputs": [],
      "source": [
        "# 1. Transformar el string a \"title case\"\n",
        "# 1. Transformar el string a \"title case\"\n",
        "\n",
        "titulo = titulo.title()"
      ]
    },
    {
      "cell_type": "code",
      "execution_count": 5,
      "metadata": {
        "id": "t_p2fgdr_9ZK"
      },
      "outputs": [],
      "source": [
        "# 2. Crear una lista con todas las palabras del string\n",
        "# 2. Crear una lista con todas las palabras del string\n",
        "\n",
        "lista_palabras = titulo.split(' ')"
      ]
    },
    {
      "cell_type": "code",
      "execution_count": 6,
      "metadata": {
        "id": "leJ7MZGd_9ZL",
        "colab": {
          "base_uri": "https://localhost:8080/"
        },
        "outputId": "503c9ced-6786-4132-d3c1-eaa8ddde0916"
      },
      "outputs": [
        {
          "output_type": "stream",
          "name": "stdout",
          "text": [
            "VAF\n"
          ]
        }
      ],
      "source": [
        "# 3. Recorrer la lista y agregar al acrónimo la primera letra de cada palabra\n",
        "\n",
        "# 3. Recorrer la lista y agregar al acrónimo la primera letra de cada palabra\n",
        "\n",
        "acronimo = ''\n",
        "for palabra in lista_palabras:\n",
        "    acronimo = acronimo + palabra[0]\n",
        "\n",
        "print(acronimo)"
      ]
    },
    {
      "cell_type": "markdown",
      "source": [
        "## 3 - Evaluar si un número es par o impar\n",
        "\n",
        "Con que operación podríamos evaluar si un número es par o impar"
      ],
      "metadata": {
        "id": "uYRnWj-B4sw1"
      }
    },
    {
      "cell_type": "code",
      "source": [
        "numero = 3\n",
        "\n",
        "if numero % 2 == 0: # Recordemos que el operador '%' devuelve el resto de la división.\n",
        "  print('El número es par.')\n",
        "else:\n",
        "  print('El número es impar.')"
      ],
      "metadata": {
        "id": "SwHvDZHUD9ak",
        "colab": {
          "base_uri": "https://localhost:8080/"
        },
        "outputId": "7b09dd31-d507-4318-b3bd-b838f83469f1"
      },
      "execution_count": 7,
      "outputs": [
        {
          "output_type": "stream",
          "name": "stdout",
          "text": [
            "El número es impar.\n"
          ]
        }
      ]
    },
    {
      "cell_type": "markdown",
      "source": [
        "## 4 - Dividir pares e impartes  \n",
        "\n",
        "Dado un rango de valores enteros con distancia de una unidad\n",
        "\n",
        "```\n",
        "range(4,10)\n",
        "```\n",
        "\n",
        "separar en listas los números pares e impartes iterando por cada elemento del intervalo"
      ],
      "metadata": {
        "id": "xlXusP6h72uI"
      }
    },
    {
      "cell_type": "code",
      "source": [
        "range(4,10)"
      ],
      "metadata": {
        "id": "0BNXso5oG2yd",
        "colab": {
          "base_uri": "https://localhost:8080/"
        },
        "outputId": "968fcc50-fb09-4aa7-cbed-a700061a57f1"
      },
      "execution_count": 8,
      "outputs": [
        {
          "output_type": "execute_result",
          "data": {
            "text/plain": [
              "range(4, 10)"
            ]
          },
          "metadata": {},
          "execution_count": 8
        }
      ]
    },
    {
      "cell_type": "code",
      "source": [
        "pares = []\n",
        "impares = []\n",
        "\n",
        "for i in range(4,10):\n",
        "  if i%2 == 0:\n",
        "    pares.append(i)\n",
        "  else:\n",
        "    impares.append(i)\n",
        "\n",
        "print('pares:', pares, 'impares:', impares)"
      ],
      "metadata": {
        "colab": {
          "base_uri": "https://localhost:8080/"
        },
        "id": "PHxGckNZeznP",
        "outputId": "25088067-429a-4824-d3c1-320beab22a74"
      },
      "execution_count": 9,
      "outputs": [
        {
          "output_type": "stream",
          "name": "stdout",
          "text": [
            "pares: [4, 6, 8] impares: [5, 7, 9]\n"
          ]
        }
      ]
    },
    {
      "cell_type": "code",
      "source": [
        "# Otra posibilidad es utilizar listas de comprensión\n",
        "\n",
        "pares = [i for i in range(4,10) if i%2 == 0]\n",
        "impares = [i for i in range(4,10) if i%2 != 0]\n",
        "\n",
        "print('pares:', pares, 'impares:', impares)"
      ],
      "metadata": {
        "colab": {
          "base_uri": "https://localhost:8080/"
        },
        "id": "1_lmEJtKe5dF",
        "outputId": "d75b95a5-991b-4104-a654-da93a76d6be6"
      },
      "execution_count": 10,
      "outputs": [
        {
          "output_type": "stream",
          "name": "stdout",
          "text": [
            "pares: [4, 6, 8] impares: [5, 7, 9]\n"
          ]
        }
      ]
    }
  ],
  "metadata": {
    "kernelspec": {
      "display_name": "conda_python3",
      "language": "python",
      "name": "conda_python3"
    },
    "language_info": {
      "codemirror_mode": {
        "name": "ipython",
        "version": 3
      },
      "file_extension": ".py",
      "mimetype": "text/x-python",
      "name": "python",
      "nbconvert_exporter": "python",
      "pygments_lexer": "ipython3",
      "version": "3.6.10"
    },
    "colab": {
      "provenance": [],
      "include_colab_link": true
    }
  },
  "nbformat": 4,
  "nbformat_minor": 0
}