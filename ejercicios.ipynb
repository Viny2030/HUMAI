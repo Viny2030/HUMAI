{
  "cells": [
    {
      "cell_type": "markdown",
      "metadata": {
        "id": "view-in-github",
        "colab_type": "text"
      },
      "source": [
        "<a href=\"https://colab.research.google.com/github/Viny2030/HUMAI/blob/main/ejercicios.ipynb\" target=\"_parent\"><img src=\"https://colab.research.google.com/assets/colab-badge.svg\" alt=\"Open In Colab\"/></a>"
      ]
    },
    {
      "cell_type": "markdown",
      "metadata": {
        "id": "2vrEGVvLZD4m"
      },
      "source": [
        "<a href=\"https://colab.research.google.com/github/institutohumai/cursos-python/blob/master/Introduccion/2_Listas_Y_Funciones/ejercicio/ejercicio.ipynb\"> <img src='https://colab.research.google.com/assets/colab-badge.svg' /> </a>\n",
        "<div align=\"center\"> Recordá abrir en una nueva pestaña </div>\n"
      ]
    },
    {
      "cell_type": "markdown",
      "metadata": {
        "id": "aQhGaUriZD4o"
      },
      "source": [
        "# Ejercicios II"
      ]
    },
    {
      "cell_type": "markdown",
      "metadata": {
        "id": "fEBJxj4zZD4p"
      },
      "source": [
        "## El contador de palabras\n",
        "\n",
        "Una revista científica quiere publicar los abstracts de los trabajos que aprobó recientemente pero primero tiene que asegurarse de que ninguno de los abstracts tenga más de 200 palabras.\n",
        "\n",
        "Para interactuar con los archivos que tenemos en nuestro \"file system\" vamos a utilizar el módulo os. No se preocupen por entender todos los detalles ahora, vamos a ir profundizando en la utilización de módulos."
      ]
    },
    {
      "cell_type": "code",
      "execution_count": 1,
      "metadata": {
        "id": "Fvgr68cxZD4r",
        "colab": {
          "base_uri": "https://localhost:8080/"
        },
        "outputId": "99213662-0657-482a-e70d-a459fd9fb68a"
      },
      "outputs": [
        {
          "output_type": "stream",
          "name": "stdout",
          "text": [
            "--2024-12-28 21:09:54--  https://storage.googleapis.com/humai-datasets/aws_s3/intro_a_python/2_Listas_Y_Funciones/ejercicios/publicaciones.zip\n",
            "Resolving storage.googleapis.com (storage.googleapis.com)... 142.251.183.207, 64.233.179.207, 74.125.202.207, ...\n",
            "Connecting to storage.googleapis.com (storage.googleapis.com)|142.251.183.207|:443... connected.\n",
            "HTTP request sent, awaiting response... 200 OK\n",
            "Length: 4342 (4.2K) [application/zip]\n",
            "Saving to: ‘publicaciones.zip’\n",
            "\n",
            "\rpublicaciones.zip     0%[                    ]       0  --.-KB/s               \rpublicaciones.zip   100%[===================>]   4.24K  --.-KB/s    in 0s      \n",
            "\n",
            "2024-12-28 21:09:55 (51.6 MB/s) - ‘publicaciones.zip’ saved [4342/4342]\n",
            "\n"
          ]
        }
      ],
      "source": [
        "!wget https://storage.googleapis.com/humai-datasets/aws_s3/intro_a_python/2_Listas_Y_Funciones/ejercicios/publicaciones.zip"
      ]
    },
    {
      "cell_type": "code",
      "execution_count": 2,
      "metadata": {
        "id": "cWY2LxsAZD4t",
        "colab": {
          "base_uri": "https://localhost:8080/"
        },
        "outputId": "a2a434d2-d3dd-4baa-a100-335752cf457a"
      },
      "outputs": [
        {
          "output_type": "stream",
          "name": "stdout",
          "text": [
            "Archive:  publicaciones.zip\n",
            "   creating: publicaciones/\n",
            "  inflating: publicaciones/Yukon Delta Salmon Management.txt  \n",
            "  inflating: publicaciones/The Citrus Solution Phase II.txt  \n",
            "  inflating: publicaciones/Characterization of Iron Deposition in Recombinant Heteropolymer.txt  \n",
            "  inflating: publicaciones/Using GIS Site Suitability Analysis to Study Adaptability.txt  \n"
          ]
        }
      ],
      "source": [
        "!unzip publicaciones.zip"
      ]
    },
    {
      "cell_type": "code",
      "execution_count": 3,
      "metadata": {
        "id": "TLIIurWtZD4u"
      },
      "outputs": [],
      "source": [
        "import os"
      ]
    },
    {
      "cell_type": "code",
      "execution_count": 4,
      "metadata": {
        "id": "AOzYFgi2ZD4w"
      },
      "outputs": [],
      "source": [
        "archivos_directorio = os.listdir('publicaciones')"
      ]
    },
    {
      "cell_type": "code",
      "execution_count": 5,
      "metadata": {
        "id": "l_OLnlemZD4x",
        "colab": {
          "base_uri": "https://localhost:8080/"
        },
        "outputId": "264e2bae-ff06-41a8-c7ff-f369aa24ffc4"
      },
      "outputs": [
        {
          "output_type": "stream",
          "name": "stdout",
          "text": [
            "['Using GIS Site Suitability Analysis to Study Adaptability.txt', 'The Citrus Solution Phase II.txt', 'Characterization of Iron Deposition in Recombinant Heteropolymer.txt', 'Yukon Delta Salmon Management.txt']\n"
          ]
        }
      ],
      "source": [
        "print(archivos_directorio)"
      ]
    },
    {
      "cell_type": "markdown",
      "metadata": {
        "id": "GwxNQeDnZD4y"
      },
      "source": [
        "La función listdir nos devuelve una lista con todos los archivos que están en la carpeta publicaciones. Noten que solamente nos devuelve los nombres de los archivos, no la ruta completa que necesitamos para acceder a los mismos desde la ubicación en el filesystem donde se encuentra esta notebook.\n",
        "\n",
        "Las rutas hasta los archivos cambian con el sistema operativo, por eso si están en Windows, la forma de acceder al archivo Yukon Delta Salmon Management.txt es ejercicios\\\\Yukon Delta Salmon Management.txt mientras que si están en Linux o Unix la forma de acceder es ejercicios/Yukon Delta Salmon Management.txt .  Para evitar problemas y que el código sea ejecutable desde cualquier sistema operativo, el módulo os tiene la función os.join.\n",
        "\n",
        "Entonces para crear las rutas vamos a usar la función os.path.join y para esto es ideal una lista por comprensión"
      ]
    },
    {
      "cell_type": "code",
      "execution_count": 6,
      "metadata": {
        "id": "P1-fVmQ8ZD4z"
      },
      "outputs": [],
      "source": [
        "rutas_archivos = [os.path.join('publicaciones',archivo) for archivo in archivos_directorio]"
      ]
    },
    {
      "cell_type": "code",
      "execution_count": 7,
      "metadata": {
        "id": "qIeG9t9lZD4z",
        "colab": {
          "base_uri": "https://localhost:8080/"
        },
        "outputId": "b141a7e6-155a-4ef2-d4fd-339afd3b2f17"
      },
      "outputs": [
        {
          "output_type": "execute_result",
          "data": {
            "text/plain": [
              "['publicaciones/Using GIS Site Suitability Analysis to Study Adaptability.txt',\n",
              " 'publicaciones/The Citrus Solution Phase II.txt',\n",
              " 'publicaciones/Characterization of Iron Deposition in Recombinant Heteropolymer.txt',\n",
              " 'publicaciones/Yukon Delta Salmon Management.txt']"
            ]
          },
          "metadata": {},
          "execution_count": 7
        }
      ],
      "source": [
        "rutas_archivos"
      ]
    },
    {
      "cell_type": "markdown",
      "metadata": {
        "id": "Jt0OLr4fZD41"
      },
      "source": [
        "Ahora vamos a unir estas dos listas del mismo tamaño en una lista de tuplas utilizando la función \"zip\" de Python nativo. Como el zip de Python devuelve un objeto iterable, vamos a convertirlo en lista para trabajar mejor"
      ]
    },
    {
      "cell_type": "code",
      "execution_count": 8,
      "metadata": {
        "id": "vXFc91eeZD42"
      },
      "outputs": [],
      "source": [
        "tuplas_archivos = list(zip(rutas_archivos,archivos_directorio))"
      ]
    },
    {
      "cell_type": "code",
      "execution_count": 9,
      "metadata": {
        "id": "sbKpKsmXZD43",
        "colab": {
          "base_uri": "https://localhost:8080/"
        },
        "outputId": "cb335340-1471-46f0-d4fd-4ceeee5a6dc4"
      },
      "outputs": [
        {
          "output_type": "stream",
          "name": "stdout",
          "text": [
            "('publicaciones/Using GIS Site Suitability Analysis to Study Adaptability.txt', 'Using GIS Site Suitability Analysis to Study Adaptability.txt')\n",
            "('publicaciones/The Citrus Solution Phase II.txt', 'The Citrus Solution Phase II.txt')\n",
            "('publicaciones/Characterization of Iron Deposition in Recombinant Heteropolymer.txt', 'Characterization of Iron Deposition in Recombinant Heteropolymer.txt')\n",
            "('publicaciones/Yukon Delta Salmon Management.txt', 'Yukon Delta Salmon Management.txt')\n"
          ]
        }
      ],
      "source": [
        "for tupla in tuplas_archivos:\n",
        "    print(tupla)"
      ]
    },
    {
      "cell_type": "markdown",
      "metadata": {
        "id": "tAi5_wX6ZD43"
      },
      "source": [
        "Ahora sí, vamos a pedirles que creen una función que reciba una tupla con la ruta y el nombre del archivo. Necesitamos que esta función cuente las palabras que hay en el txt que se encuentra en esa ruta y luego imprima el nombre del archivo y la cantidad.\n",
        "Después vamos a escribir un for loop que recorra la lista tuplas_archivos y devuelve una tupla con el nombre del archivo y la cantidad de palabras. Desde el loop for vamos a imprimir esa tupla.\n"
      ]
    },
    {
      "cell_type": "code",
      "execution_count": 10,
      "metadata": {
        "id": "0Rhdnc2dZD43"
      },
      "outputs": [],
      "source": [
        "# 1. Escribir la función"
      ]
    },
    {
      "cell_type": "code",
      "execution_count": 11,
      "metadata": {
        "id": "dxFKltxyZD44"
      },
      "outputs": [],
      "source": [
        "# 2. Recorrer en un loop tuplas_archivos invocando a la función"
      ]
    },
    {
      "cell_type": "markdown",
      "metadata": {
        "id": "EZIdaPbcZD45"
      },
      "source": [
        "Entonces ¿Cuáles superan las 250 palabras? Si quieren ir una milla extra modifiquen la función para que devuelva True si supera y False si no supera en lugar de devolver la cantidad."
      ]
    },
    {
      "cell_type": "code",
      "execution_count": 12,
      "metadata": {
        "id": "GEAPf3qoZD45"
      },
      "outputs": [],
      "source": [
        "# 3. Modifiquen la función"
      ]
    },
    {
      "cell_type": "code",
      "execution_count": 13,
      "metadata": {
        "id": "XRAxBYAtZD46"
      },
      "outputs": [],
      "source": [
        "#4. Vuelvan a llamarla"
      ]
    },
    {
      "cell_type": "code",
      "execution_count": 13,
      "metadata": {
        "id": "0_Isw1esZD46"
      },
      "outputs": [],
      "source": []
    },
    {
      "cell_type": "markdown",
      "source": [
        "###por extension de define la lista y Lista por comprension se establece una propiedad"
      ],
      "metadata": {
        "id": "4-D9wjrYG3YG"
      }
    },
    {
      "cell_type": "markdown",
      "source": [
        "https://pythoninstitute.org/certification-tracks\n"
      ],
      "metadata": {
        "id": "XZWW6UclIkWt"
      }
    },
    {
      "cell_type": "markdown",
      "source": [
        "https://edupython.blogspot.com/\n"
      ],
      "metadata": {
        "id": "J6R4JKdTIZzb"
      }
    },
    {
      "cell_type": "code",
      "source": [
        "b = {x for x in range(1, 6)}"
      ],
      "metadata": {
        "id": "OkhtFVxrHkWH"
      },
      "execution_count": 15,
      "outputs": []
    },
    {
      "cell_type": "code",
      "source": [
        "b"
      ],
      "metadata": {
        "colab": {
          "base_uri": "https://localhost:8080/"
        },
        "id": "Qkjm8_iGIJEm",
        "outputId": "8a5c02f7-8b1f-488b-e17b-dd0786ff516a"
      },
      "execution_count": 16,
      "outputs": [
        {
          "output_type": "execute_result",
          "data": {
            "text/plain": [
              "{1, 2, 3, 4, 5}"
            ]
          },
          "metadata": {},
          "execution_count": 16
        }
      ]
    },
    {
      "cell_type": "code",
      "source": [
        "numeros = []\n",
        "for i in range(1,6):\n",
        "  numeros.append(i)"
      ],
      "metadata": {
        "id": "F7JxObn8JjwA"
      },
      "execution_count": 18,
      "outputs": []
    },
    {
      "cell_type": "code",
      "source": [
        "numeros"
      ],
      "metadata": {
        "colab": {
          "base_uri": "https://localhost:8080/"
        },
        "id": "yfCpikQPJvBa",
        "outputId": "3f73f79a-3b6a-4dd3-9240-9737708c5ab7"
      },
      "execution_count": 19,
      "outputs": [
        {
          "output_type": "execute_result",
          "data": {
            "text/plain": [
              "[1, 2, 3, 4, 5]"
            ]
          },
          "metadata": {},
          "execution_count": 19
        }
      ]
    },
    {
      "cell_type": "code",
      "source": [
        "numeros = [n for n in range(1,6)]  ## expresion dato, o dato * 2 , un bucle for n in\n",
        "numeros"
      ],
      "metadata": {
        "colab": {
          "base_uri": "https://localhost:8080/"
        },
        "id": "FwQtPtyHK1fp",
        "outputId": "a2d2fac3-e84e-4327-9d4d-62403dee70d5"
      },
      "execution_count": 22,
      "outputs": [
        {
          "output_type": "execute_result",
          "data": {
            "text/plain": [
              "[1, 2, 3, 4, 5]"
            ]
          },
          "metadata": {},
          "execution_count": 22
        }
      ]
    },
    {
      "cell_type": "code",
      "source": [
        "numeros = [n*2 for n in range(1,11)]  ## expresion dato, o dato * 2 , un bucle for n in\n",
        "numeros"
      ],
      "metadata": {
        "colab": {
          "base_uri": "https://localhost:8080/"
        },
        "id": "Utm1tousLKC9",
        "outputId": "f573ae21-1a45-4450-d26a-d7e5d58796ce"
      },
      "execution_count": 24,
      "outputs": [
        {
          "output_type": "execute_result",
          "data": {
            "text/plain": [
              "[2, 4, 6, 8, 10, 12, 14, 16, 18, 20]"
            ]
          },
          "metadata": {},
          "execution_count": 24
        }
      ]
    },
    {
      "cell_type": "code",
      "source": [
        "frase1 = [\"palabra1\", \"palabra2_larga\", \"otra_palabra\", \"corta\"]  # Define frase1 with some example words\n",
        "acortado = [palabra if len(palabra) <= 5 else palabra[:5] + \"@\" for palabra in frase1]"
      ],
      "metadata": {
        "id": "Zh-mRDJ7LqRQ"
      },
      "execution_count": 27,
      "outputs": []
    },
    {
      "cell_type": "code",
      "source": [
        "\n",
        "\n",
        "acortado"
      ],
      "metadata": {
        "colab": {
          "base_uri": "https://localhost:8080/"
        },
        "id": "V0cNUnXkLeUZ",
        "outputId": "822359d3-888d-4cfb-8325-1abc8ae48552"
      },
      "execution_count": 28,
      "outputs": [
        {
          "output_type": "execute_result",
          "data": {
            "text/plain": [
              "['palab@', 'palab@', 'otra_@', 'corta']"
            ]
          },
          "metadata": {},
          "execution_count": 28
        }
      ]
    },
    {
      "cell_type": "code",
      "source": [
        "numeros = [1, 2, 3, 4, 5, 6, 7, 8, 9, 10]\n",
        "paresYCeros1 = [numero if numero%2 == 0 else 0 for numero in numeros]\n",
        "\n",
        "paresYCeros2 = []\n",
        "for numero in numeros:\n",
        "    if numero%2 == 0:\n",
        "        paresYCeros2.append(numero)\n",
        "    else:\n",
        "        paresYCeros2.append(0)\n",
        "print(paresYCeros1)\n",
        "print(paresYCeros2)"
      ],
      "metadata": {
        "colab": {
          "base_uri": "https://localhost:8080/"
        },
        "id": "Cd56ZhAYLk41",
        "outputId": "8b968640-9a0f-40fa-c954-253276d8abca"
      },
      "execution_count": 26,
      "outputs": [
        {
          "output_type": "stream",
          "name": "stdout",
          "text": [
            "[0, 2, 0, 4, 0, 6, 0, 8, 0, 10]\n",
            "[0, 2, 0, 4, 0, 6, 0, 8, 0, 10]\n"
          ]
        }
      ]
    },
    {
      "cell_type": "markdown",
      "source": [
        "listas ordenadas, heterogeneas y mutables [] ,"
      ],
      "metadata": {
        "id": "4RyiVHUUP98z"
      }
    },
    {
      "cell_type": "code",
      "source": [
        "numeros[2] =\"pepe\""
      ],
      "metadata": {
        "id": "-21Hp0XTWKXj"
      },
      "execution_count": 29,
      "outputs": []
    },
    {
      "cell_type": "code",
      "source": [
        "numeros"
      ],
      "metadata": {
        "colab": {
          "base_uri": "https://localhost:8080/"
        },
        "id": "NiK_RUfpWQHi",
        "outputId": "d3c1fea2-74d4-4227-b8a0-18e681795121"
      },
      "execution_count": 30,
      "outputs": [
        {
          "output_type": "execute_result",
          "data": {
            "text/plain": [
              "[1, 2, 'pepe', 4, 5, 6, 7, 8, 9, 10]"
            ]
          },
          "metadata": {},
          "execution_count": 30
        }
      ]
    },
    {
      "cell_type": "markdown",
      "source": [
        "## tuplas ordenadas y heterogeneas"
      ],
      "metadata": {
        "id": "O8wXzno5WUJm"
      }
    },
    {
      "cell_type": "code",
      "source": [
        "tupla = (\"la tierra es redonda\", True, False)"
      ],
      "metadata": {
        "id": "YuKUslQ-X6Bt"
      },
      "execution_count": 31,
      "outputs": []
    },
    {
      "cell_type": "code",
      "source": [
        "tupla"
      ],
      "metadata": {
        "colab": {
          "base_uri": "https://localhost:8080/"
        },
        "id": "wgMX7pH8YGQA",
        "outputId": "241d31dd-be7a-4b32-bb33-95a3700ca68d"
      },
      "execution_count": 32,
      "outputs": [
        {
          "output_type": "execute_result",
          "data": {
            "text/plain": [
              "('la tierra es redonda', True, False)"
            ]
          },
          "metadata": {},
          "execution_count": 32
        }
      ]
    },
    {
      "cell_type": "code",
      "source": [
        "print(1,)"
      ],
      "metadata": {
        "colab": {
          "base_uri": "https://localhost:8080/"
        },
        "id": "oWaLS4wyYINc",
        "outputId": "499dcb0e-4924-4e60-b581-d233704bdcf9"
      },
      "execution_count": 33,
      "outputs": [
        {
          "output_type": "stream",
          "name": "stdout",
          "text": [
            "1\n"
          ]
        }
      ]
    },
    {
      "cell_type": "markdown",
      "source": [
        "## comjuntos, no ordenados, heterogeneos, mutables, sin repeticion"
      ],
      "metadata": {
        "id": "HeAf6yY8YOcz"
      }
    },
    {
      "cell_type": "code",
      "source": [
        "print(set[1,2,3,4,])"
      ],
      "metadata": {
        "colab": {
          "base_uri": "https://localhost:8080/"
        },
        "id": "HtBVLyAXYbfL",
        "outputId": "554590f6-0dbf-4e1a-e95a-cd63f1259173"
      },
      "execution_count": 34,
      "outputs": [
        {
          "output_type": "stream",
          "name": "stdout",
          "text": [
            "set[1, 2, 3, 4]\n"
          ]
        }
      ]
    },
    {
      "cell_type": "markdown",
      "source": [
        "## diccionarios = {key: valor}= no ordenados , heterogeneos, mutables"
      ],
      "metadata": {
        "id": "yZ4x1ptxYmlt"
      }
    }
  ],
  "metadata": {
    "kernelspec": {
      "display_name": "conda_python3",
      "language": "python",
      "name": "conda_python3"
    },
    "language_info": {
      "codemirror_mode": {
        "name": "ipython",
        "version": 3
      },
      "file_extension": ".py",
      "mimetype": "text/x-python",
      "name": "python",
      "nbconvert_exporter": "python",
      "pygments_lexer": "ipython3",
      "version": "3.6.10"
    },
    "colab": {
      "provenance": [],
      "include_colab_link": true
    }
  },
  "nbformat": 4,
  "nbformat_minor": 0
}