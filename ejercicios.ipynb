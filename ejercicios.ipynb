{
  "cells": [
    {
      "cell_type": "markdown",
      "metadata": {
        "id": "view-in-github",
        "colab_type": "text"
      },
      "source": [
        "<a href=\"https://colab.research.google.com/github/Viny2030/HUMAI/blob/main/ejercicios.ipynb\" target=\"_parent\"><img src=\"https://colab.research.google.com/assets/colab-badge.svg\" alt=\"Open In Colab\"/></a>"
      ]
    },
    {
      "cell_type": "markdown",
      "id": "10da208c",
      "metadata": {
        "id": "10da208c"
      },
      "source": [
        "<div align=\"center\">\n",
        "<a href=\"https://colab.research.google.com/github/institutohumai/machine_learning/blob/main/8_ShapyAnomalias/ejercicios/ejercicios.ipynb\"> <img src='https://colab.research.google.com/assets/colab-badge.svg' /> </a>\n",
        " Recordá abrir en una nueva pestaña </div>\n",
        "\n"
      ]
    },
    {
      "cell_type": "markdown",
      "id": "0631fcc2",
      "metadata": {
        "id": "0631fcc2"
      },
      "source": [
        "# Detección de anomalías\n",
        "\n",
        "En ciencia de datos, la *detección de anomalías* es la identificación de observaciones raras, que se desvían significativamente de la \"normalidad\" definida en un conjunto de datos.\n",
        "\n",
        "![](https://i.imgur.com/vTIXxm8m.jpg)\n",
        "\n",
        "\n",
        "Entendida como **un paso en el análisis exploratorio de datos o EDA**, podemos buscar anomalías considerándolas ruido en los datos que puede ensuciar la muestra y deteriorar la capacidad de un clasificador o un regresor. En estos escenarios hablamos de detección y limpieza de _outliers_. En la clase teórica y la notebook asociada podrán ver técnicas relacionadas con esto como las Tukey's fences.\n",
        "\n",
        "Pero la detección de anomalías es a veces también **un fin en sí misma**. En estos casos, no consideramos \"ruido\" a los datos atípicos ni buscamos desecharlos: al contrario, identificarlos resulta del mayor valor. Por ejemplo, en un entorno médico podría ser de interés detectar muestras de sangre o imágenes anómalas. Otro ejemplo podría ser los sensores de una turbina de un avión: la detección de una anomalía podría ser de enorme relevancia en estos casos.\n",
        "\n",
        "Si bien existen otros enfoques, la detección de anomalías suele encararse como un problema de **Aprendizaje Automático No-Supervisado**. En este enfoque, se ajusta un modelo a los datos, pero no hay etiquetas `y`, solamente la `X`. Esto se debe a que, por definición, las anomalías son escasas y no es fácil conseguir un dataset con muchas de ellas.\n",
        "\n",
        "\n",
        "Existen diferentes formas de ajustar modelos. Podemos pensar que se busca construir una cierta idea de \"normalidad\" a partir de los datos para, desde esa idea, identificar los datos que se apartan de ella como \"anomalías\".\n"
      ]
    },
    {
      "cell_type": "markdown",
      "id": "844d846b",
      "metadata": {
        "id": "844d846b"
      },
      "source": [
        "# Detección de anomalías en un dataset de cáncer de mama\n",
        "\n",
        "Vamos a usar un dataset público de mamografías bajado de [ODDS](http://odds.cs.stonybrook.edu/mammography-dataset/). Este consiste de `11183` mamografías con `6` caracteristicas (anonimizadas). De estas, solo `260` corresponden a tumores malignos.\n",
        "\n",
        "Entrenaremos un modelo de detección de anomalías sin considerar la etiqueta y veremos cuán bien funciona esta detección de anomalías para identificar tumores malignos."
      ]
    },
    {
      "cell_type": "code",
      "execution_count": 1,
      "id": "cc0a39ff",
      "metadata": {
        "id": "cc0a39ff"
      },
      "outputs": [],
      "source": [
        "# Importamos las librerías relevantes\n",
        "import numpy as np\n",
        "import pandas as pd\n",
        "import warnings; warnings.simplefilter('ignore')\n",
        "\n",
        "from sklearn.ensemble import IsolationForest\n",
        "from sklearn.model_selection import train_test_split\n",
        "from sklearn.metrics import confusion_matrix, classification_report, recall_score"
      ]
    },
    {
      "cell_type": "code",
      "execution_count": 2,
      "id": "902524d0",
      "metadata": {
        "id": "902524d0"
      },
      "outputs": [],
      "source": [
        "try:\n",
        "    df = pd.read_csv(\"odds-mammografia-cancer-de-mama.csv\")\n",
        "except:\n",
        "    df = pd.read_csv(\"https://storage.googleapis.com/humai-datasets/aws_s3/ml_avanzado/3_Deteccion_de_anomalias_y_shap_values/ejercicios/odds-mammografia-cancer-de-mama.csv\")\n",
        "    df.to_csv(\"odds-mammografia-cancer-de-mama.csv\", index=False)"
      ]
    },
    {
      "cell_type": "code",
      "execution_count": 3,
      "id": "4eb1ce37",
      "metadata": {
        "id": "4eb1ce37",
        "outputId": "33080653-bf34-4c6e-edaa-8e1c05cfec12",
        "colab": {
          "base_uri": "https://localhost:8080/",
          "height": 223
        }
      },
      "outputs": [
        {
          "output_type": "stream",
          "name": "stdout",
          "text": [
            "(11183, 7)\n"
          ]
        },
        {
          "output_type": "execute_result",
          "data": {
            "text/plain": [
              "     attr_0    attr_1    attr_2    attr_3    attr_4    attr_5  es_cancer\n",
              "0  0.230020  5.072578 -0.276061  0.832444 -0.377866  0.480322          0\n",
              "1  0.155491 -0.169390  0.670652 -0.859553 -0.377866 -0.945723          0\n",
              "2 -0.784415 -0.443654  5.674705 -0.859553 -0.377866 -0.945723          0\n",
              "3  0.546088  0.131415 -0.456387 -0.859553 -0.377866 -0.945723          0\n",
              "4 -0.102987 -0.394994 -0.140816  0.979703 -0.377866  1.013566          0"
            ],
            "text/html": [
              "\n",
              "  <div id=\"df-52f6f985-b5d4-42b7-87ef-ccbc3b254a9d\" class=\"colab-df-container\">\n",
              "    <div>\n",
              "<style scoped>\n",
              "    .dataframe tbody tr th:only-of-type {\n",
              "        vertical-align: middle;\n",
              "    }\n",
              "\n",
              "    .dataframe tbody tr th {\n",
              "        vertical-align: top;\n",
              "    }\n",
              "\n",
              "    .dataframe thead th {\n",
              "        text-align: right;\n",
              "    }\n",
              "</style>\n",
              "<table border=\"1\" class=\"dataframe\">\n",
              "  <thead>\n",
              "    <tr style=\"text-align: right;\">\n",
              "      <th></th>\n",
              "      <th>attr_0</th>\n",
              "      <th>attr_1</th>\n",
              "      <th>attr_2</th>\n",
              "      <th>attr_3</th>\n",
              "      <th>attr_4</th>\n",
              "      <th>attr_5</th>\n",
              "      <th>es_cancer</th>\n",
              "    </tr>\n",
              "  </thead>\n",
              "  <tbody>\n",
              "    <tr>\n",
              "      <th>0</th>\n",
              "      <td>0.230020</td>\n",
              "      <td>5.072578</td>\n",
              "      <td>-0.276061</td>\n",
              "      <td>0.832444</td>\n",
              "      <td>-0.377866</td>\n",
              "      <td>0.480322</td>\n",
              "      <td>0</td>\n",
              "    </tr>\n",
              "    <tr>\n",
              "      <th>1</th>\n",
              "      <td>0.155491</td>\n",
              "      <td>-0.169390</td>\n",
              "      <td>0.670652</td>\n",
              "      <td>-0.859553</td>\n",
              "      <td>-0.377866</td>\n",
              "      <td>-0.945723</td>\n",
              "      <td>0</td>\n",
              "    </tr>\n",
              "    <tr>\n",
              "      <th>2</th>\n",
              "      <td>-0.784415</td>\n",
              "      <td>-0.443654</td>\n",
              "      <td>5.674705</td>\n",
              "      <td>-0.859553</td>\n",
              "      <td>-0.377866</td>\n",
              "      <td>-0.945723</td>\n",
              "      <td>0</td>\n",
              "    </tr>\n",
              "    <tr>\n",
              "      <th>3</th>\n",
              "      <td>0.546088</td>\n",
              "      <td>0.131415</td>\n",
              "      <td>-0.456387</td>\n",
              "      <td>-0.859553</td>\n",
              "      <td>-0.377866</td>\n",
              "      <td>-0.945723</td>\n",
              "      <td>0</td>\n",
              "    </tr>\n",
              "    <tr>\n",
              "      <th>4</th>\n",
              "      <td>-0.102987</td>\n",
              "      <td>-0.394994</td>\n",
              "      <td>-0.140816</td>\n",
              "      <td>0.979703</td>\n",
              "      <td>-0.377866</td>\n",
              "      <td>1.013566</td>\n",
              "      <td>0</td>\n",
              "    </tr>\n",
              "  </tbody>\n",
              "</table>\n",
              "</div>\n",
              "    <div class=\"colab-df-buttons\">\n",
              "\n",
              "  <div class=\"colab-df-container\">\n",
              "    <button class=\"colab-df-convert\" onclick=\"convertToInteractive('df-52f6f985-b5d4-42b7-87ef-ccbc3b254a9d')\"\n",
              "            title=\"Convert this dataframe to an interactive table.\"\n",
              "            style=\"display:none;\">\n",
              "\n",
              "  <svg xmlns=\"http://www.w3.org/2000/svg\" height=\"24px\" viewBox=\"0 -960 960 960\">\n",
              "    <path d=\"M120-120v-720h720v720H120Zm60-500h600v-160H180v160Zm220 220h160v-160H400v160Zm0 220h160v-160H400v160ZM180-400h160v-160H180v160Zm440 0h160v-160H620v160ZM180-180h160v-160H180v160Zm440 0h160v-160H620v160Z\"/>\n",
              "  </svg>\n",
              "    </button>\n",
              "\n",
              "  <style>\n",
              "    .colab-df-container {\n",
              "      display:flex;\n",
              "      gap: 12px;\n",
              "    }\n",
              "\n",
              "    .colab-df-convert {\n",
              "      background-color: #E8F0FE;\n",
              "      border: none;\n",
              "      border-radius: 50%;\n",
              "      cursor: pointer;\n",
              "      display: none;\n",
              "      fill: #1967D2;\n",
              "      height: 32px;\n",
              "      padding: 0 0 0 0;\n",
              "      width: 32px;\n",
              "    }\n",
              "\n",
              "    .colab-df-convert:hover {\n",
              "      background-color: #E2EBFA;\n",
              "      box-shadow: 0px 1px 2px rgba(60, 64, 67, 0.3), 0px 1px 3px 1px rgba(60, 64, 67, 0.15);\n",
              "      fill: #174EA6;\n",
              "    }\n",
              "\n",
              "    .colab-df-buttons div {\n",
              "      margin-bottom: 4px;\n",
              "    }\n",
              "\n",
              "    [theme=dark] .colab-df-convert {\n",
              "      background-color: #3B4455;\n",
              "      fill: #D2E3FC;\n",
              "    }\n",
              "\n",
              "    [theme=dark] .colab-df-convert:hover {\n",
              "      background-color: #434B5C;\n",
              "      box-shadow: 0px 1px 3px 1px rgba(0, 0, 0, 0.15);\n",
              "      filter: drop-shadow(0px 1px 2px rgba(0, 0, 0, 0.3));\n",
              "      fill: #FFFFFF;\n",
              "    }\n",
              "  </style>\n",
              "\n",
              "    <script>\n",
              "      const buttonEl =\n",
              "        document.querySelector('#df-52f6f985-b5d4-42b7-87ef-ccbc3b254a9d button.colab-df-convert');\n",
              "      buttonEl.style.display =\n",
              "        google.colab.kernel.accessAllowed ? 'block' : 'none';\n",
              "\n",
              "      async function convertToInteractive(key) {\n",
              "        const element = document.querySelector('#df-52f6f985-b5d4-42b7-87ef-ccbc3b254a9d');\n",
              "        const dataTable =\n",
              "          await google.colab.kernel.invokeFunction('convertToInteractive',\n",
              "                                                    [key], {});\n",
              "        if (!dataTable) return;\n",
              "\n",
              "        const docLinkHtml = 'Like what you see? Visit the ' +\n",
              "          '<a target=\"_blank\" href=https://colab.research.google.com/notebooks/data_table.ipynb>data table notebook</a>'\n",
              "          + ' to learn more about interactive tables.';\n",
              "        element.innerHTML = '';\n",
              "        dataTable['output_type'] = 'display_data';\n",
              "        await google.colab.output.renderOutput(dataTable, element);\n",
              "        const docLink = document.createElement('div');\n",
              "        docLink.innerHTML = docLinkHtml;\n",
              "        element.appendChild(docLink);\n",
              "      }\n",
              "    </script>\n",
              "  </div>\n",
              "\n",
              "\n",
              "<div id=\"df-61407fa6-c8db-4893-81df-2c3d1945a83f\">\n",
              "  <button class=\"colab-df-quickchart\" onclick=\"quickchart('df-61407fa6-c8db-4893-81df-2c3d1945a83f')\"\n",
              "            title=\"Suggest charts\"\n",
              "            style=\"display:none;\">\n",
              "\n",
              "<svg xmlns=\"http://www.w3.org/2000/svg\" height=\"24px\"viewBox=\"0 0 24 24\"\n",
              "     width=\"24px\">\n",
              "    <g>\n",
              "        <path d=\"M19 3H5c-1.1 0-2 .9-2 2v14c0 1.1.9 2 2 2h14c1.1 0 2-.9 2-2V5c0-1.1-.9-2-2-2zM9 17H7v-7h2v7zm4 0h-2V7h2v10zm4 0h-2v-4h2v4z\"/>\n",
              "    </g>\n",
              "</svg>\n",
              "  </button>\n",
              "\n",
              "<style>\n",
              "  .colab-df-quickchart {\n",
              "      --bg-color: #E8F0FE;\n",
              "      --fill-color: #1967D2;\n",
              "      --hover-bg-color: #E2EBFA;\n",
              "      --hover-fill-color: #174EA6;\n",
              "      --disabled-fill-color: #AAA;\n",
              "      --disabled-bg-color: #DDD;\n",
              "  }\n",
              "\n",
              "  [theme=dark] .colab-df-quickchart {\n",
              "      --bg-color: #3B4455;\n",
              "      --fill-color: #D2E3FC;\n",
              "      --hover-bg-color: #434B5C;\n",
              "      --hover-fill-color: #FFFFFF;\n",
              "      --disabled-bg-color: #3B4455;\n",
              "      --disabled-fill-color: #666;\n",
              "  }\n",
              "\n",
              "  .colab-df-quickchart {\n",
              "    background-color: var(--bg-color);\n",
              "    border: none;\n",
              "    border-radius: 50%;\n",
              "    cursor: pointer;\n",
              "    display: none;\n",
              "    fill: var(--fill-color);\n",
              "    height: 32px;\n",
              "    padding: 0;\n",
              "    width: 32px;\n",
              "  }\n",
              "\n",
              "  .colab-df-quickchart:hover {\n",
              "    background-color: var(--hover-bg-color);\n",
              "    box-shadow: 0 1px 2px rgba(60, 64, 67, 0.3), 0 1px 3px 1px rgba(60, 64, 67, 0.15);\n",
              "    fill: var(--button-hover-fill-color);\n",
              "  }\n",
              "\n",
              "  .colab-df-quickchart-complete:disabled,\n",
              "  .colab-df-quickchart-complete:disabled:hover {\n",
              "    background-color: var(--disabled-bg-color);\n",
              "    fill: var(--disabled-fill-color);\n",
              "    box-shadow: none;\n",
              "  }\n",
              "\n",
              "  .colab-df-spinner {\n",
              "    border: 2px solid var(--fill-color);\n",
              "    border-color: transparent;\n",
              "    border-bottom-color: var(--fill-color);\n",
              "    animation:\n",
              "      spin 1s steps(1) infinite;\n",
              "  }\n",
              "\n",
              "  @keyframes spin {\n",
              "    0% {\n",
              "      border-color: transparent;\n",
              "      border-bottom-color: var(--fill-color);\n",
              "      border-left-color: var(--fill-color);\n",
              "    }\n",
              "    20% {\n",
              "      border-color: transparent;\n",
              "      border-left-color: var(--fill-color);\n",
              "      border-top-color: var(--fill-color);\n",
              "    }\n",
              "    30% {\n",
              "      border-color: transparent;\n",
              "      border-left-color: var(--fill-color);\n",
              "      border-top-color: var(--fill-color);\n",
              "      border-right-color: var(--fill-color);\n",
              "    }\n",
              "    40% {\n",
              "      border-color: transparent;\n",
              "      border-right-color: var(--fill-color);\n",
              "      border-top-color: var(--fill-color);\n",
              "    }\n",
              "    60% {\n",
              "      border-color: transparent;\n",
              "      border-right-color: var(--fill-color);\n",
              "    }\n",
              "    80% {\n",
              "      border-color: transparent;\n",
              "      border-right-color: var(--fill-color);\n",
              "      border-bottom-color: var(--fill-color);\n",
              "    }\n",
              "    90% {\n",
              "      border-color: transparent;\n",
              "      border-bottom-color: var(--fill-color);\n",
              "    }\n",
              "  }\n",
              "</style>\n",
              "\n",
              "  <script>\n",
              "    async function quickchart(key) {\n",
              "      const quickchartButtonEl =\n",
              "        document.querySelector('#' + key + ' button');\n",
              "      quickchartButtonEl.disabled = true;  // To prevent multiple clicks.\n",
              "      quickchartButtonEl.classList.add('colab-df-spinner');\n",
              "      try {\n",
              "        const charts = await google.colab.kernel.invokeFunction(\n",
              "            'suggestCharts', [key], {});\n",
              "      } catch (error) {\n",
              "        console.error('Error during call to suggestCharts:', error);\n",
              "      }\n",
              "      quickchartButtonEl.classList.remove('colab-df-spinner');\n",
              "      quickchartButtonEl.classList.add('colab-df-quickchart-complete');\n",
              "    }\n",
              "    (() => {\n",
              "      let quickchartButtonEl =\n",
              "        document.querySelector('#df-61407fa6-c8db-4893-81df-2c3d1945a83f button');\n",
              "      quickchartButtonEl.style.display =\n",
              "        google.colab.kernel.accessAllowed ? 'block' : 'none';\n",
              "    })();\n",
              "  </script>\n",
              "</div>\n",
              "\n",
              "    </div>\n",
              "  </div>\n"
            ],
            "application/vnd.google.colaboratory.intrinsic+json": {
              "type": "dataframe",
              "variable_name": "df",
              "summary": "{\n  \"name\": \"df\",\n  \"rows\": 11183,\n  \"fields\": [\n    {\n      \"column\": \"attr_0\",\n      \"properties\": {\n        \"dtype\": \"number\",\n        \"std\": 1.0000000020730389,\n        \"min\": -0.78441482,\n        \"max\": 31.508443,\n        \"num_unique_values\": 5435,\n        \"samples\": [\n          0.31183157,\n          -0.062165963,\n          0.58995836\n        ],\n        \"semantic_type\": \"\",\n        \"description\": \"\"\n      }\n    },\n    {\n      \"column\": \"attr_1\",\n      \"properties\": {\n        \"dtype\": \"number\",\n        \"std\": 1.0000000002552323,\n        \"min\": -0.47019533,\n        \"max\": 5.0858491,\n        \"num_unique_values\": 883,\n        \"samples\": [\n          -0.15611958,\n          4.1038094,\n          3.2412069\n        ],\n        \"semantic_type\": \"\",\n        \"description\": \"\"\n      }\n    },\n    {\n      \"column\": \"attr_2\",\n      \"properties\": {\n        \"dtype\": \"number\",\n        \"std\": 1.0000000027226326,\n        \"min\": -0.59163147,\n        \"max\": 29.477769,\n        \"num_unique_values\": 160,\n        \"samples\": [\n          3.4657089,\n          2.2935883,\n          18.207379\n        ],\n        \"semantic_type\": \"\",\n        \"description\": \"\"\n      }\n    },\n    {\n      \"column\": \"attr_3\",\n      \"properties\": {\n        \"dtype\": \"number\",\n        \"std\": 1.000000001945281,\n        \"min\": -0.85955255,\n        \"max\": 9.591164,\n        \"num_unique_values\": 2800,\n        \"samples\": [\n          1.1826579,\n          0.76662081,\n          0.9970024\n        ],\n        \"semantic_type\": \"\",\n        \"description\": \"\"\n      }\n    },\n    {\n      \"column\": \"attr_4\",\n      \"properties\": {\n        \"dtype\": \"number\",\n        \"std\": 0.9999999990706335,\n        \"min\": -0.37786573,\n        \"max\": 23.617122,\n        \"num_unique_values\": 1739,\n        \"samples\": [\n          5.1251739,\n          0.81024454,\n          0.91323495\n        ],\n        \"semantic_type\": \"\",\n        \"description\": \"\"\n      }\n    },\n    {\n      \"column\": \"attr_5\",\n      \"properties\": {\n        \"dtype\": \"number\",\n        \"std\": 0.9999999983376999,\n        \"min\": -0.94572324,\n        \"max\": 1.9490273,\n        \"num_unique_values\": 550,\n        \"samples\": [\n          0.96481214,\n          0.91910555,\n          0.035444847\n        ],\n        \"semantic_type\": \"\",\n        \"description\": \"\"\n      }\n    },\n    {\n      \"column\": \"es_cancer\",\n      \"properties\": {\n        \"dtype\": \"number\",\n        \"std\": 0,\n        \"min\": 0,\n        \"max\": 1,\n        \"num_unique_values\": 2,\n        \"samples\": [\n          1,\n          0\n        ],\n        \"semantic_type\": \"\",\n        \"description\": \"\"\n      }\n    }\n  ]\n}"
            }
          },
          "metadata": {},
          "execution_count": 3
        }
      ],
      "source": [
        "# 6 features anonimizados\n",
        "print(df.shape)\n",
        "df.head()"
      ]
    },
    {
      "cell_type": "code",
      "execution_count": 4,
      "id": "33c56c7b",
      "metadata": {
        "id": "33c56c7b",
        "outputId": "0a33d31a-f9aa-427f-e601-ea13ee8b5637",
        "colab": {
          "base_uri": "https://localhost:8080/",
          "height": 178
        }
      },
      "outputs": [
        {
          "output_type": "execute_result",
          "data": {
            "text/plain": [
              "es_cancer\n",
              "0    10923\n",
              "1      260\n",
              "Name: count, dtype: int64"
            ],
            "text/html": [
              "<div>\n",
              "<style scoped>\n",
              "    .dataframe tbody tr th:only-of-type {\n",
              "        vertical-align: middle;\n",
              "    }\n",
              "\n",
              "    .dataframe tbody tr th {\n",
              "        vertical-align: top;\n",
              "    }\n",
              "\n",
              "    .dataframe thead th {\n",
              "        text-align: right;\n",
              "    }\n",
              "</style>\n",
              "<table border=\"1\" class=\"dataframe\">\n",
              "  <thead>\n",
              "    <tr style=\"text-align: right;\">\n",
              "      <th></th>\n",
              "      <th>count</th>\n",
              "    </tr>\n",
              "    <tr>\n",
              "      <th>es_cancer</th>\n",
              "      <th></th>\n",
              "    </tr>\n",
              "  </thead>\n",
              "  <tbody>\n",
              "    <tr>\n",
              "      <th>0</th>\n",
              "      <td>10923</td>\n",
              "    </tr>\n",
              "    <tr>\n",
              "      <th>1</th>\n",
              "      <td>260</td>\n",
              "    </tr>\n",
              "  </tbody>\n",
              "</table>\n",
              "</div><br><label><b>dtype:</b> int64</label>"
            ]
          },
          "metadata": {},
          "execution_count": 4
        }
      ],
      "source": [
        "# Solo 260 datos son tumores malignos\n",
        "df['es_cancer'].value_counts()"
      ]
    },
    {
      "cell_type": "code",
      "execution_count": 5,
      "id": "8bc342f4",
      "metadata": {
        "id": "8bc342f4",
        "outputId": "3175a01c-c50a-4628-faff-c5d97d9e0eea",
        "colab": {
          "base_uri": "https://localhost:8080/",
          "height": 178
        }
      },
      "outputs": [
        {
          "output_type": "execute_result",
          "data": {
            "text/plain": [
              "es_cancer\n",
              "0    0.97675\n",
              "1    0.02325\n",
              "Name: proportion, dtype: float64"
            ],
            "text/html": [
              "<div>\n",
              "<style scoped>\n",
              "    .dataframe tbody tr th:only-of-type {\n",
              "        vertical-align: middle;\n",
              "    }\n",
              "\n",
              "    .dataframe tbody tr th {\n",
              "        vertical-align: top;\n",
              "    }\n",
              "\n",
              "    .dataframe thead th {\n",
              "        text-align: right;\n",
              "    }\n",
              "</style>\n",
              "<table border=\"1\" class=\"dataframe\">\n",
              "  <thead>\n",
              "    <tr style=\"text-align: right;\">\n",
              "      <th></th>\n",
              "      <th>proportion</th>\n",
              "    </tr>\n",
              "    <tr>\n",
              "      <th>es_cancer</th>\n",
              "      <th></th>\n",
              "    </tr>\n",
              "  </thead>\n",
              "  <tbody>\n",
              "    <tr>\n",
              "      <th>0</th>\n",
              "      <td>0.97675</td>\n",
              "    </tr>\n",
              "    <tr>\n",
              "      <th>1</th>\n",
              "      <td>0.02325</td>\n",
              "    </tr>\n",
              "  </tbody>\n",
              "</table>\n",
              "</div><br><label><b>dtype:</b> float64</label>"
            ]
          },
          "metadata": {},
          "execution_count": 5
        }
      ],
      "source": [
        "# Corresponde al 2.3% de los datos\n",
        "df['es_cancer'].value_counts(normalize=True)"
      ]
    },
    {
      "cell_type": "markdown",
      "id": "d82e80f2",
      "metadata": {
        "id": "d82e80f2"
      },
      "source": [
        "## Entrenamos un modelo [`IsolationForest`](https://scikit-learn.org/stable/modules/generated/sklearn.ensemble.IsolationForest.html#sklearn.ensemble.IsolationForest)\n",
        "\n",
        "Isolation Forest es un algoritmo de detección de anomalias. Este se basa en construir un árbol de decisión sobre los datos (varios, en realidad) y medir cuantos cortes fueron necesarios para _aislar_ un punto (de ahí su nombre).\n",
        "Esta técnica se diferencia de la mayoría de los modelos de detección de anomalías que construyen una representación de \"normalidad\" para luego ver cuánto se aparta un punto de esta.\n",
        "\n",
        "<img src='https://i.imgur.com/LkIceyM.png' style=\"width:800px;height:300px\">"
      ]
    },
    {
      "cell_type": "markdown",
      "id": "d5f9be8d",
      "metadata": {
        "id": "d5f9be8d"
      },
      "source": [
        "Separemos el set de datos en datos de entrenamiento y validación de la forma usual:"
      ]
    },
    {
      "cell_type": "code",
      "execution_count": 6,
      "id": "a7af0386",
      "metadata": {
        "id": "a7af0386"
      },
      "outputs": [],
      "source": [
        "X, y = df.drop('es_cancer',axis=1), df['es_cancer']"
      ]
    },
    {
      "cell_type": "code",
      "execution_count": 7,
      "id": "1db3317d",
      "metadata": {
        "id": "1db3317d",
        "outputId": "50348a23-2817-4690-a419-1186fad1409f",
        "colab": {
          "base_uri": "https://localhost:8080/"
        }
      },
      "outputs": [
        {
          "output_type": "execute_result",
          "data": {
            "text/plain": [
              "0.023250268272326218"
            ]
          },
          "metadata": {},
          "execution_count": 7
        }
      ],
      "source": [
        "X_train, X_test, y_train, y_test = train_test_split(X, y, stratify=y, random_state=1)\n",
        "contamination = y_train.value_counts(normalize=True)[1]\n",
        "contamination"
      ]
    },
    {
      "cell_type": "code",
      "execution_count": 8,
      "id": "a5a27b21",
      "metadata": {
        "id": "a5a27b21",
        "outputId": "b83378ca-5a8a-48b6-af7f-9e970a35bae2",
        "colab": {
          "base_uri": "https://localhost:8080/",
          "height": 178
        }
      },
      "outputs": [
        {
          "output_type": "execute_result",
          "data": {
            "text/plain": [
              "es_cancer\n",
              "0    2731\n",
              "1      65\n",
              "Name: count, dtype: int64"
            ],
            "text/html": [
              "<div>\n",
              "<style scoped>\n",
              "    .dataframe tbody tr th:only-of-type {\n",
              "        vertical-align: middle;\n",
              "    }\n",
              "\n",
              "    .dataframe tbody tr th {\n",
              "        vertical-align: top;\n",
              "    }\n",
              "\n",
              "    .dataframe thead th {\n",
              "        text-align: right;\n",
              "    }\n",
              "</style>\n",
              "<table border=\"1\" class=\"dataframe\">\n",
              "  <thead>\n",
              "    <tr style=\"text-align: right;\">\n",
              "      <th></th>\n",
              "      <th>count</th>\n",
              "    </tr>\n",
              "    <tr>\n",
              "      <th>es_cancer</th>\n",
              "      <th></th>\n",
              "    </tr>\n",
              "  </thead>\n",
              "  <tbody>\n",
              "    <tr>\n",
              "      <th>0</th>\n",
              "      <td>2731</td>\n",
              "    </tr>\n",
              "    <tr>\n",
              "      <th>1</th>\n",
              "      <td>65</td>\n",
              "    </tr>\n",
              "  </tbody>\n",
              "</table>\n",
              "</div><br><label><b>dtype:</b> int64</label>"
            ]
          },
          "metadata": {},
          "execution_count": 8
        }
      ],
      "source": [
        "y_test.value_counts()"
      ]
    },
    {
      "cell_type": "code",
      "execution_count": 9,
      "id": "4bf560df",
      "metadata": {
        "id": "4bf560df"
      },
      "outputs": [],
      "source": [
        "model = IsolationForest(contamination='auto', random_state=1)"
      ]
    },
    {
      "cell_type": "code",
      "execution_count": 10,
      "id": "e67ade04",
      "metadata": {
        "id": "e67ade04",
        "outputId": "c0bd875e-eaec-46be-b778-80849513b14d",
        "colab": {
          "base_uri": "https://localhost:8080/",
          "height": 80
        }
      },
      "outputs": [
        {
          "output_type": "execute_result",
          "data": {
            "text/plain": [
              "IsolationForest(random_state=1)"
            ],
            "text/html": [
              "<style>#sk-container-id-1 {\n",
              "  /* Definition of color scheme common for light and dark mode */\n",
              "  --sklearn-color-text: #000;\n",
              "  --sklearn-color-text-muted: #666;\n",
              "  --sklearn-color-line: gray;\n",
              "  /* Definition of color scheme for unfitted estimators */\n",
              "  --sklearn-color-unfitted-level-0: #fff5e6;\n",
              "  --sklearn-color-unfitted-level-1: #f6e4d2;\n",
              "  --sklearn-color-unfitted-level-2: #ffe0b3;\n",
              "  --sklearn-color-unfitted-level-3: chocolate;\n",
              "  /* Definition of color scheme for fitted estimators */\n",
              "  --sklearn-color-fitted-level-0: #f0f8ff;\n",
              "  --sklearn-color-fitted-level-1: #d4ebff;\n",
              "  --sklearn-color-fitted-level-2: #b3dbfd;\n",
              "  --sklearn-color-fitted-level-3: cornflowerblue;\n",
              "\n",
              "  /* Specific color for light theme */\n",
              "  --sklearn-color-text-on-default-background: var(--sg-text-color, var(--theme-code-foreground, var(--jp-content-font-color1, black)));\n",
              "  --sklearn-color-background: var(--sg-background-color, var(--theme-background, var(--jp-layout-color0, white)));\n",
              "  --sklearn-color-border-box: var(--sg-text-color, var(--theme-code-foreground, var(--jp-content-font-color1, black)));\n",
              "  --sklearn-color-icon: #696969;\n",
              "\n",
              "  @media (prefers-color-scheme: dark) {\n",
              "    /* Redefinition of color scheme for dark theme */\n",
              "    --sklearn-color-text-on-default-background: var(--sg-text-color, var(--theme-code-foreground, var(--jp-content-font-color1, white)));\n",
              "    --sklearn-color-background: var(--sg-background-color, var(--theme-background, var(--jp-layout-color0, #111)));\n",
              "    --sklearn-color-border-box: var(--sg-text-color, var(--theme-code-foreground, var(--jp-content-font-color1, white)));\n",
              "    --sklearn-color-icon: #878787;\n",
              "  }\n",
              "}\n",
              "\n",
              "#sk-container-id-1 {\n",
              "  color: var(--sklearn-color-text);\n",
              "}\n",
              "\n",
              "#sk-container-id-1 pre {\n",
              "  padding: 0;\n",
              "}\n",
              "\n",
              "#sk-container-id-1 input.sk-hidden--visually {\n",
              "  border: 0;\n",
              "  clip: rect(1px 1px 1px 1px);\n",
              "  clip: rect(1px, 1px, 1px, 1px);\n",
              "  height: 1px;\n",
              "  margin: -1px;\n",
              "  overflow: hidden;\n",
              "  padding: 0;\n",
              "  position: absolute;\n",
              "  width: 1px;\n",
              "}\n",
              "\n",
              "#sk-container-id-1 div.sk-dashed-wrapped {\n",
              "  border: 1px dashed var(--sklearn-color-line);\n",
              "  margin: 0 0.4em 0.5em 0.4em;\n",
              "  box-sizing: border-box;\n",
              "  padding-bottom: 0.4em;\n",
              "  background-color: var(--sklearn-color-background);\n",
              "}\n",
              "\n",
              "#sk-container-id-1 div.sk-container {\n",
              "  /* jupyter's `normalize.less` sets `[hidden] { display: none; }`\n",
              "     but bootstrap.min.css set `[hidden] { display: none !important; }`\n",
              "     so we also need the `!important` here to be able to override the\n",
              "     default hidden behavior on the sphinx rendered scikit-learn.org.\n",
              "     See: https://github.com/scikit-learn/scikit-learn/issues/21755 */\n",
              "  display: inline-block !important;\n",
              "  position: relative;\n",
              "}\n",
              "\n",
              "#sk-container-id-1 div.sk-text-repr-fallback {\n",
              "  display: none;\n",
              "}\n",
              "\n",
              "div.sk-parallel-item,\n",
              "div.sk-serial,\n",
              "div.sk-item {\n",
              "  /* draw centered vertical line to link estimators */\n",
              "  background-image: linear-gradient(var(--sklearn-color-text-on-default-background), var(--sklearn-color-text-on-default-background));\n",
              "  background-size: 2px 100%;\n",
              "  background-repeat: no-repeat;\n",
              "  background-position: center center;\n",
              "}\n",
              "\n",
              "/* Parallel-specific style estimator block */\n",
              "\n",
              "#sk-container-id-1 div.sk-parallel-item::after {\n",
              "  content: \"\";\n",
              "  width: 100%;\n",
              "  border-bottom: 2px solid var(--sklearn-color-text-on-default-background);\n",
              "  flex-grow: 1;\n",
              "}\n",
              "\n",
              "#sk-container-id-1 div.sk-parallel {\n",
              "  display: flex;\n",
              "  align-items: stretch;\n",
              "  justify-content: center;\n",
              "  background-color: var(--sklearn-color-background);\n",
              "  position: relative;\n",
              "}\n",
              "\n",
              "#sk-container-id-1 div.sk-parallel-item {\n",
              "  display: flex;\n",
              "  flex-direction: column;\n",
              "}\n",
              "\n",
              "#sk-container-id-1 div.sk-parallel-item:first-child::after {\n",
              "  align-self: flex-end;\n",
              "  width: 50%;\n",
              "}\n",
              "\n",
              "#sk-container-id-1 div.sk-parallel-item:last-child::after {\n",
              "  align-self: flex-start;\n",
              "  width: 50%;\n",
              "}\n",
              "\n",
              "#sk-container-id-1 div.sk-parallel-item:only-child::after {\n",
              "  width: 0;\n",
              "}\n",
              "\n",
              "/* Serial-specific style estimator block */\n",
              "\n",
              "#sk-container-id-1 div.sk-serial {\n",
              "  display: flex;\n",
              "  flex-direction: column;\n",
              "  align-items: center;\n",
              "  background-color: var(--sklearn-color-background);\n",
              "  padding-right: 1em;\n",
              "  padding-left: 1em;\n",
              "}\n",
              "\n",
              "\n",
              "/* Toggleable style: style used for estimator/Pipeline/ColumnTransformer box that is\n",
              "clickable and can be expanded/collapsed.\n",
              "- Pipeline and ColumnTransformer use this feature and define the default style\n",
              "- Estimators will overwrite some part of the style using the `sk-estimator` class\n",
              "*/\n",
              "\n",
              "/* Pipeline and ColumnTransformer style (default) */\n",
              "\n",
              "#sk-container-id-1 div.sk-toggleable {\n",
              "  /* Default theme specific background. It is overwritten whether we have a\n",
              "  specific estimator or a Pipeline/ColumnTransformer */\n",
              "  background-color: var(--sklearn-color-background);\n",
              "}\n",
              "\n",
              "/* Toggleable label */\n",
              "#sk-container-id-1 label.sk-toggleable__label {\n",
              "  cursor: pointer;\n",
              "  display: flex;\n",
              "  width: 100%;\n",
              "  margin-bottom: 0;\n",
              "  padding: 0.5em;\n",
              "  box-sizing: border-box;\n",
              "  text-align: center;\n",
              "  align-items: start;\n",
              "  justify-content: space-between;\n",
              "  gap: 0.5em;\n",
              "}\n",
              "\n",
              "#sk-container-id-1 label.sk-toggleable__label .caption {\n",
              "  font-size: 0.6rem;\n",
              "  font-weight: lighter;\n",
              "  color: var(--sklearn-color-text-muted);\n",
              "}\n",
              "\n",
              "#sk-container-id-1 label.sk-toggleable__label-arrow:before {\n",
              "  /* Arrow on the left of the label */\n",
              "  content: \"▸\";\n",
              "  float: left;\n",
              "  margin-right: 0.25em;\n",
              "  color: var(--sklearn-color-icon);\n",
              "}\n",
              "\n",
              "#sk-container-id-1 label.sk-toggleable__label-arrow:hover:before {\n",
              "  color: var(--sklearn-color-text);\n",
              "}\n",
              "\n",
              "/* Toggleable content - dropdown */\n",
              "\n",
              "#sk-container-id-1 div.sk-toggleable__content {\n",
              "  max-height: 0;\n",
              "  max-width: 0;\n",
              "  overflow: hidden;\n",
              "  text-align: left;\n",
              "  /* unfitted */\n",
              "  background-color: var(--sklearn-color-unfitted-level-0);\n",
              "}\n",
              "\n",
              "#sk-container-id-1 div.sk-toggleable__content.fitted {\n",
              "  /* fitted */\n",
              "  background-color: var(--sklearn-color-fitted-level-0);\n",
              "}\n",
              "\n",
              "#sk-container-id-1 div.sk-toggleable__content pre {\n",
              "  margin: 0.2em;\n",
              "  border-radius: 0.25em;\n",
              "  color: var(--sklearn-color-text);\n",
              "  /* unfitted */\n",
              "  background-color: var(--sklearn-color-unfitted-level-0);\n",
              "}\n",
              "\n",
              "#sk-container-id-1 div.sk-toggleable__content.fitted pre {\n",
              "  /* unfitted */\n",
              "  background-color: var(--sklearn-color-fitted-level-0);\n",
              "}\n",
              "\n",
              "#sk-container-id-1 input.sk-toggleable__control:checked~div.sk-toggleable__content {\n",
              "  /* Expand drop-down */\n",
              "  max-height: 200px;\n",
              "  max-width: 100%;\n",
              "  overflow: auto;\n",
              "}\n",
              "\n",
              "#sk-container-id-1 input.sk-toggleable__control:checked~label.sk-toggleable__label-arrow:before {\n",
              "  content: \"▾\";\n",
              "}\n",
              "\n",
              "/* Pipeline/ColumnTransformer-specific style */\n",
              "\n",
              "#sk-container-id-1 div.sk-label input.sk-toggleable__control:checked~label.sk-toggleable__label {\n",
              "  color: var(--sklearn-color-text);\n",
              "  background-color: var(--sklearn-color-unfitted-level-2);\n",
              "}\n",
              "\n",
              "#sk-container-id-1 div.sk-label.fitted input.sk-toggleable__control:checked~label.sk-toggleable__label {\n",
              "  background-color: var(--sklearn-color-fitted-level-2);\n",
              "}\n",
              "\n",
              "/* Estimator-specific style */\n",
              "\n",
              "/* Colorize estimator box */\n",
              "#sk-container-id-1 div.sk-estimator input.sk-toggleable__control:checked~label.sk-toggleable__label {\n",
              "  /* unfitted */\n",
              "  background-color: var(--sklearn-color-unfitted-level-2);\n",
              "}\n",
              "\n",
              "#sk-container-id-1 div.sk-estimator.fitted input.sk-toggleable__control:checked~label.sk-toggleable__label {\n",
              "  /* fitted */\n",
              "  background-color: var(--sklearn-color-fitted-level-2);\n",
              "}\n",
              "\n",
              "#sk-container-id-1 div.sk-label label.sk-toggleable__label,\n",
              "#sk-container-id-1 div.sk-label label {\n",
              "  /* The background is the default theme color */\n",
              "  color: var(--sklearn-color-text-on-default-background);\n",
              "}\n",
              "\n",
              "/* On hover, darken the color of the background */\n",
              "#sk-container-id-1 div.sk-label:hover label.sk-toggleable__label {\n",
              "  color: var(--sklearn-color-text);\n",
              "  background-color: var(--sklearn-color-unfitted-level-2);\n",
              "}\n",
              "\n",
              "/* Label box, darken color on hover, fitted */\n",
              "#sk-container-id-1 div.sk-label.fitted:hover label.sk-toggleable__label.fitted {\n",
              "  color: var(--sklearn-color-text);\n",
              "  background-color: var(--sklearn-color-fitted-level-2);\n",
              "}\n",
              "\n",
              "/* Estimator label */\n",
              "\n",
              "#sk-container-id-1 div.sk-label label {\n",
              "  font-family: monospace;\n",
              "  font-weight: bold;\n",
              "  display: inline-block;\n",
              "  line-height: 1.2em;\n",
              "}\n",
              "\n",
              "#sk-container-id-1 div.sk-label-container {\n",
              "  text-align: center;\n",
              "}\n",
              "\n",
              "/* Estimator-specific */\n",
              "#sk-container-id-1 div.sk-estimator {\n",
              "  font-family: monospace;\n",
              "  border: 1px dotted var(--sklearn-color-border-box);\n",
              "  border-radius: 0.25em;\n",
              "  box-sizing: border-box;\n",
              "  margin-bottom: 0.5em;\n",
              "  /* unfitted */\n",
              "  background-color: var(--sklearn-color-unfitted-level-0);\n",
              "}\n",
              "\n",
              "#sk-container-id-1 div.sk-estimator.fitted {\n",
              "  /* fitted */\n",
              "  background-color: var(--sklearn-color-fitted-level-0);\n",
              "}\n",
              "\n",
              "/* on hover */\n",
              "#sk-container-id-1 div.sk-estimator:hover {\n",
              "  /* unfitted */\n",
              "  background-color: var(--sklearn-color-unfitted-level-2);\n",
              "}\n",
              "\n",
              "#sk-container-id-1 div.sk-estimator.fitted:hover {\n",
              "  /* fitted */\n",
              "  background-color: var(--sklearn-color-fitted-level-2);\n",
              "}\n",
              "\n",
              "/* Specification for estimator info (e.g. \"i\" and \"?\") */\n",
              "\n",
              "/* Common style for \"i\" and \"?\" */\n",
              "\n",
              ".sk-estimator-doc-link,\n",
              "a:link.sk-estimator-doc-link,\n",
              "a:visited.sk-estimator-doc-link {\n",
              "  float: right;\n",
              "  font-size: smaller;\n",
              "  line-height: 1em;\n",
              "  font-family: monospace;\n",
              "  background-color: var(--sklearn-color-background);\n",
              "  border-radius: 1em;\n",
              "  height: 1em;\n",
              "  width: 1em;\n",
              "  text-decoration: none !important;\n",
              "  margin-left: 0.5em;\n",
              "  text-align: center;\n",
              "  /* unfitted */\n",
              "  border: var(--sklearn-color-unfitted-level-1) 1pt solid;\n",
              "  color: var(--sklearn-color-unfitted-level-1);\n",
              "}\n",
              "\n",
              ".sk-estimator-doc-link.fitted,\n",
              "a:link.sk-estimator-doc-link.fitted,\n",
              "a:visited.sk-estimator-doc-link.fitted {\n",
              "  /* fitted */\n",
              "  border: var(--sklearn-color-fitted-level-1) 1pt solid;\n",
              "  color: var(--sklearn-color-fitted-level-1);\n",
              "}\n",
              "\n",
              "/* On hover */\n",
              "div.sk-estimator:hover .sk-estimator-doc-link:hover,\n",
              ".sk-estimator-doc-link:hover,\n",
              "div.sk-label-container:hover .sk-estimator-doc-link:hover,\n",
              ".sk-estimator-doc-link:hover {\n",
              "  /* unfitted */\n",
              "  background-color: var(--sklearn-color-unfitted-level-3);\n",
              "  color: var(--sklearn-color-background);\n",
              "  text-decoration: none;\n",
              "}\n",
              "\n",
              "div.sk-estimator.fitted:hover .sk-estimator-doc-link.fitted:hover,\n",
              ".sk-estimator-doc-link.fitted:hover,\n",
              "div.sk-label-container:hover .sk-estimator-doc-link.fitted:hover,\n",
              ".sk-estimator-doc-link.fitted:hover {\n",
              "  /* fitted */\n",
              "  background-color: var(--sklearn-color-fitted-level-3);\n",
              "  color: var(--sklearn-color-background);\n",
              "  text-decoration: none;\n",
              "}\n",
              "\n",
              "/* Span, style for the box shown on hovering the info icon */\n",
              ".sk-estimator-doc-link span {\n",
              "  display: none;\n",
              "  z-index: 9999;\n",
              "  position: relative;\n",
              "  font-weight: normal;\n",
              "  right: .2ex;\n",
              "  padding: .5ex;\n",
              "  margin: .5ex;\n",
              "  width: min-content;\n",
              "  min-width: 20ex;\n",
              "  max-width: 50ex;\n",
              "  color: var(--sklearn-color-text);\n",
              "  box-shadow: 2pt 2pt 4pt #999;\n",
              "  /* unfitted */\n",
              "  background: var(--sklearn-color-unfitted-level-0);\n",
              "  border: .5pt solid var(--sklearn-color-unfitted-level-3);\n",
              "}\n",
              "\n",
              ".sk-estimator-doc-link.fitted span {\n",
              "  /* fitted */\n",
              "  background: var(--sklearn-color-fitted-level-0);\n",
              "  border: var(--sklearn-color-fitted-level-3);\n",
              "}\n",
              "\n",
              ".sk-estimator-doc-link:hover span {\n",
              "  display: block;\n",
              "}\n",
              "\n",
              "/* \"?\"-specific style due to the `<a>` HTML tag */\n",
              "\n",
              "#sk-container-id-1 a.estimator_doc_link {\n",
              "  float: right;\n",
              "  font-size: 1rem;\n",
              "  line-height: 1em;\n",
              "  font-family: monospace;\n",
              "  background-color: var(--sklearn-color-background);\n",
              "  border-radius: 1rem;\n",
              "  height: 1rem;\n",
              "  width: 1rem;\n",
              "  text-decoration: none;\n",
              "  /* unfitted */\n",
              "  color: var(--sklearn-color-unfitted-level-1);\n",
              "  border: var(--sklearn-color-unfitted-level-1) 1pt solid;\n",
              "}\n",
              "\n",
              "#sk-container-id-1 a.estimator_doc_link.fitted {\n",
              "  /* fitted */\n",
              "  border: var(--sklearn-color-fitted-level-1) 1pt solid;\n",
              "  color: var(--sklearn-color-fitted-level-1);\n",
              "}\n",
              "\n",
              "/* On hover */\n",
              "#sk-container-id-1 a.estimator_doc_link:hover {\n",
              "  /* unfitted */\n",
              "  background-color: var(--sklearn-color-unfitted-level-3);\n",
              "  color: var(--sklearn-color-background);\n",
              "  text-decoration: none;\n",
              "}\n",
              "\n",
              "#sk-container-id-1 a.estimator_doc_link.fitted:hover {\n",
              "  /* fitted */\n",
              "  background-color: var(--sklearn-color-fitted-level-3);\n",
              "}\n",
              "</style><div id=\"sk-container-id-1\" class=\"sk-top-container\"><div class=\"sk-text-repr-fallback\"><pre>IsolationForest(random_state=1)</pre><b>In a Jupyter environment, please rerun this cell to show the HTML representation or trust the notebook. <br />On GitHub, the HTML representation is unable to render, please try loading this page with nbviewer.org.</b></div><div class=\"sk-container\" hidden><div class=\"sk-item\"><div class=\"sk-estimator fitted sk-toggleable\"><input class=\"sk-toggleable__control sk-hidden--visually\" id=\"sk-estimator-id-1\" type=\"checkbox\" checked><label for=\"sk-estimator-id-1\" class=\"sk-toggleable__label fitted sk-toggleable__label-arrow\"><div><div>IsolationForest</div></div><div><a class=\"sk-estimator-doc-link fitted\" rel=\"noreferrer\" target=\"_blank\" href=\"https://scikit-learn.org/1.6/modules/generated/sklearn.ensemble.IsolationForest.html\">?<span>Documentation for IsolationForest</span></a><span class=\"sk-estimator-doc-link fitted\">i<span>Fitted</span></span></div></label><div class=\"sk-toggleable__content fitted\"><pre>IsolationForest(random_state=1)</pre></div> </div></div></div></div>"
            ]
          },
          "metadata": {},
          "execution_count": 10
        }
      ],
      "source": [
        "# El método fit no usa y_train!! Está aprendiendo a detectar anomalías, no etiquetas o clases\n",
        "model.fit(X_train)"
      ]
    },
    {
      "cell_type": "markdown",
      "id": "1336cb6a",
      "metadata": {
        "id": "1336cb6a"
      },
      "source": [
        "El método `predict` de un modelo de detección de anomalías retorna `1` (outlier) o `-1` (normal):\n",
        "\n",
        "```python\n",
        "Signature: model.predict(X)\n",
        "Docstring:\n",
        "Predict if a particular sample is an outlier or not.\n",
        "\n",
        "Parameters\n",
        "----------\n",
        "X : {array-like, sparse matrix} of shape (n_samples, n_features)\n",
        "    The input samples. Internally, it will be converted to\n",
        "    ``dtype=np.float32`` and if a sparse matrix is provided\n",
        "    to a sparse ``csr_matrix``.\n",
        "\n",
        "Returns\n",
        "-------\n",
        "is_inlier : ndarray of shape (n_samples,)\n",
        "    For each observation, tells whether or not (+1 or -1) it should\n",
        "    be considered as an inlier according to the fitted model.\n",
        "```"
      ]
    },
    {
      "cell_type": "code",
      "execution_count": null,
      "id": "3f863f46",
      "metadata": {
        "id": "3f863f46"
      },
      "outputs": [],
      "source": [
        "y_pred = model.predict(X_test)\n",
        "y_pred = [1 if y == -1 else 0 for y in y_pred]"
      ]
    },
    {
      "cell_type": "markdown",
      "id": "17ea6d5d",
      "metadata": {
        "id": "17ea6d5d"
      },
      "source": [
        "Veamos la matriz de confusión y el reporte de clasificación para este detector:"
      ]
    },
    {
      "cell_type": "code",
      "execution_count": null,
      "id": "5c2fadae",
      "metadata": {
        "id": "5c2fadae",
        "outputId": "a7f591d6-6fa7-4802-942f-ff3b1fc88f31"
      },
      "outputs": [
        {
          "data": {
            "text/html": [
              "<div>\n",
              "<style scoped>\n",
              "    .dataframe tbody tr th:only-of-type {\n",
              "        vertical-align: middle;\n",
              "    }\n",
              "\n",
              "    .dataframe tbody tr th {\n",
              "        vertical-align: top;\n",
              "    }\n",
              "\n",
              "    .dataframe thead th {\n",
              "        text-align: right;\n",
              "    }\n",
              "</style>\n",
              "<table border=\"1\" class=\"dataframe\">\n",
              "  <thead>\n",
              "    <tr style=\"text-align: right;\">\n",
              "      <th></th>\n",
              "      <th>Pred=Sano</th>\n",
              "      <th>Pred=Cancer</th>\n",
              "    </tr>\n",
              "  </thead>\n",
              "  <tbody>\n",
              "    <tr>\n",
              "      <th>Actual=Sano</th>\n",
              "      <td>2401</td>\n",
              "      <td>330</td>\n",
              "    </tr>\n",
              "    <tr>\n",
              "      <th>Actual=Cancer</th>\n",
              "      <td>22</td>\n",
              "      <td>43</td>\n",
              "    </tr>\n",
              "  </tbody>\n",
              "</table>\n",
              "</div>"
            ],
            "text/plain": [
              "               Pred=Sano  Pred=Cancer\n",
              "Actual=Sano         2401          330\n",
              "Actual=Cancer         22           43"
            ]
          },
          "execution_count": 12,
          "metadata": {},
          "output_type": "execute_result"
        }
      ],
      "source": [
        "cm = confusion_matrix(y_test, y_pred)\n",
        "cm = pd.DataFrame(cm, columns=['Pred=Sano', 'Pred=Cancer'], index=['Actual=Sano', 'Actual=Cancer'])\n",
        "cm"
      ]
    },
    {
      "cell_type": "code",
      "execution_count": null,
      "id": "e5917744",
      "metadata": {
        "id": "e5917744",
        "outputId": "1a0e3c3d-47d5-47c4-dcc3-18b75debf5dc"
      },
      "outputs": [
        {
          "name": "stdout",
          "output_type": "stream",
          "text": [
            "              precision    recall  f1-score   support\n",
            "\n",
            "           0       0.99      0.88      0.93      2731\n",
            "           1       0.12      0.66      0.20        65\n",
            "\n",
            "    accuracy                           0.87      2796\n",
            "   macro avg       0.55      0.77      0.56      2796\n",
            "weighted avg       0.97      0.87      0.91      2796\n",
            "\n"
          ]
        }
      ],
      "source": [
        "print(classification_report(y_test, y_pred))"
      ]
    },
    {
      "cell_type": "markdown",
      "id": "45eb86f0",
      "metadata": {
        "id": "45eb86f0"
      },
      "source": [
        "Obtuvimos un `66%` de exhaustividad en identificación de muestras cancerosas con este sencillo detector de anomalías.\n",
        "\n",
        "Veremos la tasa de falsos positivos, que funciona como un \"trade-off\" con la exhaustividad. Esto es, podemos aumentar la exhaustividad aumentando la tasa de falsos positivos.\n"
      ]
    },
    {
      "cell_type": "code",
      "execution_count": null,
      "id": "a6480268",
      "metadata": {
        "id": "a6480268",
        "outputId": "656c70b6-70b3-401c-f82b-15ce8026df25"
      },
      "outputs": [
        {
          "data": {
            "text/plain": [
              "0.6615384615384615"
            ]
          },
          "execution_count": 14,
          "metadata": {},
          "output_type": "execute_result"
        }
      ],
      "source": [
        "recall_score(y_test, y_pred)"
      ]
    },
    {
      "cell_type": "code",
      "execution_count": null,
      "id": "e00bd4b4",
      "metadata": {
        "id": "e00bd4b4",
        "outputId": "487a7785-096b-46d0-f723-44883d92cae7"
      },
      "outputs": [
        {
          "data": {
            "text/plain": [
              "0.1208348590259978"
            ]
          },
          "execution_count": 15,
          "metadata": {},
          "output_type": "execute_result"
        }
      ],
      "source": [
        "# Ratio de Falsos Positivos False positive rate FPR\n",
        "fp = cm.loc['Actual=Sano', 'Pred=Cancer']\n",
        "p  = cm.loc['Actual=Sano'].sum()\n",
        "fpr = fp / p\n",
        "fpr"
      ]
    },
    {
      "cell_type": "markdown",
      "id": "94b4f357",
      "metadata": {
        "id": "94b4f357"
      },
      "source": [
        "La tasa de falsos positivos es de 12%.\n",
        "Vamos a probar diferentes valores del parámetro \"contamination\" para ver cómo se mueven la exhaustividad y la tasa de falsos positivos, y ver si encontramos alguna combinación que nos guste más..."
      ]
    },
    {
      "cell_type": "code",
      "execution_count": null,
      "id": "a2af3524",
      "metadata": {
        "id": "a2af3524"
      },
      "outputs": [],
      "source": [
        "def get_results_for_factor(X_train, y_train, X_test, y_test, contamination_factor, verbose=False):\n",
        "    contamination = y_train.value_counts(normalize=True)[1]\n",
        "    C = contamination_factor*contamination\n",
        "    model = IsolationForest(contamination=C, random_state=1)\n",
        "    model.fit(X_train)\n",
        "    y_pred = model.predict(X_test)\n",
        "    y_pred = [1 if y == -1 else 0 for y in y_pred]\n",
        "\n",
        "    cm = confusion_matrix(y_test, y_pred)\n",
        "    cm = pd.DataFrame(cm, columns=['Pred=Sano', 'Pred=Cancer'], index=['Actual=Sano', 'Actual=Cancer'])\n",
        "    fp = cm.loc['Actual=Sano', 'Pred=Cancer']\n",
        "    p  = cm.loc['Actual=Sano'].sum()\n",
        "    fpr = fp / p\n",
        "    recall = recall_score(y_test, y_pred)\n",
        "    results = {'contamination_factor': contamination_factor, 'recall': round(recall, 2), 'fpr': round(fpr, 2)}\n",
        "\n",
        "    if verbose:\n",
        "        print(results)\n",
        "        print(classification_report(y_test, y_pred))\n",
        "        display(cm)\n",
        "    return results"
      ]
    },
    {
      "cell_type": "code",
      "execution_count": null,
      "id": "fc54b963",
      "metadata": {
        "id": "fc54b963",
        "outputId": "f382356d-44cb-4fdf-ee0e-e2d2d42640a1"
      },
      "outputs": [
        {
          "name": "stdout",
          "output_type": "stream",
          "text": [
            "{'contamination_factor': 1, 'recall': 0.22, 'fpr': 0.01}\n",
            "{'contamination_factor': 2, 'recall': 0.32, 'fpr': 0.03}\n",
            "{'contamination_factor': 3, 'recall': 0.49, 'fpr': 0.06}\n",
            "{'contamination_factor': 4, 'recall': 0.54, 'fpr': 0.08}\n",
            "{'contamination_factor': 5, 'recall': 0.62, 'fpr': 0.11}\n",
            "{'contamination_factor': 6, 'recall': 0.72, 'fpr': 0.13}\n",
            "{'contamination_factor': 7, 'recall': 0.8, 'fpr': 0.15}\n",
            "{'contamination_factor': 8, 'recall': 0.82, 'fpr': 0.19}\n",
            "{'contamination_factor': 9, 'recall': 0.82, 'fpr': 0.21}\n",
            "{'contamination_factor': 10, 'recall': 0.83, 'fpr': 0.24}\n",
            "{'contamination_factor': 11, 'recall': 0.86, 'fpr': 0.26}\n",
            "{'contamination_factor': 12, 'recall': 0.91, 'fpr': 0.28}\n",
            "{'contamination_factor': 13, 'recall': 0.92, 'fpr': 0.31}\n",
            "{'contamination_factor': 14, 'recall': 0.92, 'fpr': 0.33}\n",
            "{'contamination_factor': 15, 'recall': 0.92, 'fpr': 0.35}\n",
            "{'contamination_factor': 16, 'recall': 0.92, 'fpr': 0.37}\n",
            "{'contamination_factor': 17, 'recall': 0.92, 'fpr': 0.4}\n",
            "{'contamination_factor': 18, 'recall': 0.92, 'fpr': 0.42}\n",
            "{'contamination_factor': 19, 'recall': 0.94, 'fpr': 0.44}\n"
          ]
        }
      ],
      "source": [
        "all_res = []\n",
        "for factor in range(1, 20):\n",
        "    res = get_results_for_factor(X_train, y_train, X_test, y_test, factor)\n",
        "    print(res)\n",
        "    all_res.append(res)"
      ]
    },
    {
      "cell_type": "markdown",
      "id": "eacf3aed",
      "metadata": {
        "id": "eacf3aed"
      },
      "source": [
        "### 80% de exhaustividad (recall) con solo 15% de falsos positivos!!"
      ]
    },
    {
      "cell_type": "code",
      "execution_count": null,
      "id": "1ff829e5",
      "metadata": {
        "id": "1ff829e5",
        "outputId": "fde3e067-7eb3-4e32-a3b5-2d28e114aebf"
      },
      "outputs": [
        {
          "name": "stdout",
          "output_type": "stream",
          "text": [
            "{'contamination_factor': 7, 'recall': 0.8, 'fpr': 0.15}\n",
            "              precision    recall  f1-score   support\n",
            "\n",
            "           0       0.99      0.85      0.91      2731\n",
            "           1       0.11      0.80      0.19        65\n",
            "\n",
            "    accuracy                           0.84      2796\n",
            "   macro avg       0.55      0.82      0.55      2796\n",
            "weighted avg       0.97      0.84      0.90      2796\n",
            "\n"
          ]
        },
        {
          "data": {
            "text/html": [
              "<div>\n",
              "<style scoped>\n",
              "    .dataframe tbody tr th:only-of-type {\n",
              "        vertical-align: middle;\n",
              "    }\n",
              "\n",
              "    .dataframe tbody tr th {\n",
              "        vertical-align: top;\n",
              "    }\n",
              "\n",
              "    .dataframe thead th {\n",
              "        text-align: right;\n",
              "    }\n",
              "</style>\n",
              "<table border=\"1\" class=\"dataframe\">\n",
              "  <thead>\n",
              "    <tr style=\"text-align: right;\">\n",
              "      <th></th>\n",
              "      <th>Pred=Sano</th>\n",
              "      <th>Pred=Cancer</th>\n",
              "    </tr>\n",
              "  </thead>\n",
              "  <tbody>\n",
              "    <tr>\n",
              "      <th>Actual=Sano</th>\n",
              "      <td>2310</td>\n",
              "      <td>421</td>\n",
              "    </tr>\n",
              "    <tr>\n",
              "      <th>Actual=Cancer</th>\n",
              "      <td>13</td>\n",
              "      <td>52</td>\n",
              "    </tr>\n",
              "  </tbody>\n",
              "</table>\n",
              "</div>"
            ],
            "text/plain": [
              "               Pred=Sano  Pred=Cancer\n",
              "Actual=Sano         2310          421\n",
              "Actual=Cancer         13           52"
            ]
          },
          "metadata": {},
          "output_type": "display_data"
        }
      ],
      "source": [
        "res = get_results_for_factor(X_train, y_train, X_test, y_test, 7, verbose=True)"
      ]
    },
    {
      "cell_type": "markdown",
      "id": "9a25b842",
      "metadata": {
        "id": "9a25b842"
      },
      "source": [
        "# Ejercicios:\n",
        "\n",
        "1. Importar un nuevo modelo de Detección de Anomalías de sklearn\n",
        "Por ejemplo:\n",
        "```python\n",
        "from sklearn.neighbors import LocalOutlierFactor\n",
        "```\n",
        "\n",
        "[Esta página de la documentación de sklearn](https://scikit-learn.org/stable/auto_examples/miscellaneous/plot_anomaly_comparison.html#sphx-glr-auto-examples-miscellaneous-plot-anomaly-comparison-py) puede ser de utilidad para aquellos que se den maña con el Inglés.\n",
        "\n",
        "2. Hacer un split entrenatimento-validación y ajustar el modelo sobre los datos de entrenamiento. Revisar la documentación de sklearn para entender qué argumentos tiene el modelo.\n",
        "3. Obtener predicciones de anomalías probables para los datos de validación\n",
        "4. Comparar esas predicciones de anomalías con la etiqueta \"es cancer\" para los datos de validación (`y_test`) usando las métricas de clasificación binaria conocidas\n",
        "\n",
        "\n",
        "5. _Chequeo de comprensión: ¿En qué se diferencia lo que estamos haciendo con una clasificación binaria supervisada? ¿Te parece que los modelos de detección de anomalías no supervisados deberían funcionar mejor o peor que un clasificador binario para identificar muestras que corresponden a tumores malignos? ¿Por qué lo pensás?_\n",
        "\n",
        "\n",
        "### Opcional - para el hogar\n",
        "6. Intentar superar los resultados obtenidos por `IsolationForest` previamente (considerando el `Recall` y el `FPR`) con cualquier estrategía (buscar otros modelos de sklearn, argumentos de los constructores, etc).\n"
      ]
    }
  ],
  "metadata": {
    "kernelspec": {
      "display_name": "Python 3 (ipykernel)",
      "language": "python",
      "name": "python3"
    },
    "language_info": {
      "codemirror_mode": {
        "name": "ipython",
        "version": 3
      },
      "file_extension": ".py",
      "mimetype": "text/x-python",
      "name": "python",
      "nbconvert_exporter": "python",
      "pygments_lexer": "ipython3",
      "version": "3.8.13"
    },
    "colab": {
      "provenance": [],
      "include_colab_link": true
    }
  },
  "nbformat": 4,
  "nbformat_minor": 5
}