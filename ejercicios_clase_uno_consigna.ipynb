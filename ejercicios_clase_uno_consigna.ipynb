{
  "cells": [
    {
      "cell_type": "markdown",
      "metadata": {
        "id": "view-in-github",
        "colab_type": "text"
      },
      "source": [
        "<a href=\"https://colab.research.google.com/github/Viny2030/HUMAI/blob/main/ejercicios_clase_uno_consigna.ipynb\" target=\"_parent\"><img src=\"https://colab.research.google.com/assets/colab-badge.svg\" alt=\"Open In Colab\"/></a>"
      ]
    },
    {
      "cell_type": "markdown",
      "id": "23026057",
      "metadata": {
        "id": "23026057"
      },
      "source": [
        "# Ejercicios embeddings de oraciones"
      ]
    },
    {
      "cell_type": "code",
      "execution_count": null,
      "id": "4a1e365e",
      "metadata": {
        "id": "4a1e365e"
      },
      "outputs": [],
      "source": [
        "!pip install spacy\n",
        "!pip install scikit-learn\n",
        "!python -m spacy download es_core_news_md"
      ]
    },
    {
      "cell_type": "markdown",
      "id": "b960b83e",
      "metadata": {
        "id": "b960b83e"
      },
      "source": [
        "# Ejercicio 1\n",
        "\n",
        "Desarrolla una función que tome dos argumentos: una oración objetivo y una lista de oraciones. Esta función debe calcular y devolver la oración de la lista que es más similar a la oración objetivo, basándose en la medida de la similitud coseno. Además, la función también debe retornar el puntaje de similitud obtenido por esta oración."
      ]
    },
    {
      "cell_type": "code",
      "execution_count": null,
      "id": "bc14d42f",
      "metadata": {
        "id": "bc14d42f"
      },
      "outputs": [],
      "source": [
        "import spacy\n",
        "\n",
        "# Cargar el modelo de lenguaje en español\n",
        "nlp = spacy.load('es_core_news_md')\n",
        "\n",
        "def encontrar_frase_similar(frase_objetivo, lista_de_frases):\n",
        "    # Crear un embedding para la frase objetivo\n",
        "    objetivo_embedding = nlp(frase_objetivo)\n",
        "\n",
        "    mayor_similitud = -1\n",
        "    frase_similar = None\n",
        "\n",
        "    # Iterar sobre todas las frases en la lista\n",
        "    for frase in lista_de_frases:\n",
        "        # Crear un embedding para la frase actual\n",
        "        frase_embedding = nlp(frase)\n",
        "\n",
        "        # Calcular la similitud coseno entre la frase objetivo y la frase actual\n",
        "        similitud = objetivo_embedding.similarity(frase_embedding)\n",
        "\n",
        "        # Si la similitud es mayor que la similitud más alta encontrada hasta ahora,\n",
        "        # actualizamos la similitud más alta y la frase más similar\n",
        "        if similitud > mayor_similitud:\n",
        "            mayor_similitud = similitud\n",
        "            frase_similar = frase\n",
        "\n",
        "    # Devolver la frase más similar y su similitud con la frase objetivo\n",
        "    return frase_similar, mayor_similitud"
      ]
    },
    {
      "cell_type": "code",
      "execution_count": null,
      "id": "e0de9564",
      "metadata": {
        "colab": {
          "base_uri": "https://localhost:8080/"
        },
        "id": "e0de9564",
        "outputId": "b84cd6a4-42a6-4bb3-c5b3-313340a4cf6b"
      },
      "outputs": [
        {
          "output_type": "execute_result",
          "data": {
            "text/plain": [
              "('amo el helado de vainilla', 0.9888834836736868)"
            ]
          },
          "metadata": {},
          "execution_count": 3
        }
      ],
      "source": [
        "encontrar_frase_similar('amo el helado de chocolate', ['amo el helado de vainilla', 'amo la ensalada de pepino'])"
      ]
    },
    {
      "cell_type": "markdown",
      "id": "440e631b",
      "metadata": {
        "id": "440e631b"
      },
      "source": [
        "# Ejercicio 2\n",
        "\n",
        "Desarrolla la misma funcion, pero esta vez utilizando TF-IDF en lugar de Spacy para crear los vectores."
      ]
    },
    {
      "cell_type": "code",
      "execution_count": null,
      "id": "6eeb8f6f",
      "metadata": {
        "id": "6eeb8f6f"
      },
      "outputs": [],
      "source": [
        "from sklearn.feature_extraction.text import TfidfVectorizer\n",
        "from sklearn.metrics.pairwise import cosine_similarity\n",
        "\n",
        "def encontrar_frase_similar_tfidf(frase_objetivo, lista_de_frases_input):\n",
        "    # Incluir la frase objetivo en la lista de frases\n",
        "    lista_de_frases = lista_de_frases_input.copy()\n",
        "    lista_de_frases.append(frase_objetivo)\n",
        "\n",
        "    # Crear el TfidfVectorizer y transformar la lista de frases\n",
        "    vectorizer = TfidfVectorizer()\n",
        "    tfidf_matrix = vectorizer.fit_transform(lista_de_frases)\n",
        "\n",
        "    # Calcular la similitud coseno entre la frase objetivo (la última en la matriz)\n",
        "    # y todas las demás frases\n",
        "    similitudes = cosine_similarity(tfidf_matrix[-1:], tfidf_matrix)\n",
        "\n",
        "    # Obtener el índice de la frase con la mayor similitud (excluyendo la última)\n",
        "    indice_similar = similitudes.argsort()[0][-2]\n",
        "\n",
        "    # Normalizar el puntaje de similitud a que esté entre 0 y 1\n",
        "\n",
        "    # Devolver la frase más similar y su puntaje de similitud\n",
        "    return lista_de_frases[indice_similar], similitudes[0, indice_similar]"
      ]
    },
    {
      "cell_type": "code",
      "execution_count": null,
      "id": "573760f2",
      "metadata": {
        "colab": {
          "base_uri": "https://localhost:8080/"
        },
        "id": "573760f2",
        "outputId": "7279853a-b9bd-4d62-cd6e-40a885f55967"
      },
      "outputs": [
        {
          "output_type": "execute_result",
          "data": {
            "text/plain": [
              "('amo el helado de vainilla', 0.6496702663128741)"
            ]
          },
          "metadata": {},
          "execution_count": 5
        }
      ],
      "source": [
        "encontrar_frase_similar_tfidf('amo el helado de chocolate', ['amo el helado de vainilla', 'amo la ensalada de pepino'])"
      ]
    },
    {
      "cell_type": "markdown",
      "id": "64638f45",
      "metadata": {
        "id": "64638f45"
      },
      "source": [
        "# Ejercicio 3\n",
        "\n",
        "Prueba ambas funciones con el siguiente dataset. Encuentras una diferencia en el rendimiento? A qué se debe? Cuándo sería mejor utilizar una respecto a otra?\n"
      ]
    },
    {
      "cell_type": "code",
      "execution_count": null,
      "id": "6c4275a0",
      "metadata": {
        "colab": {
          "base_uri": "https://localhost:8080/"
        },
        "id": "6c4275a0",
        "outputId": "9934ac4d-3500-4134-d07c-e4ee4bbca4e4"
      },
      "outputs": [
        {
          "output_type": "execute_result",
          "data": {
            "text/plain": [
              "('El deporte favorito de María es el baloncesto, y su equipo es River Plate.',\n",
              " 0.4747570003382626)"
            ]
          },
          "metadata": {},
          "execution_count": 7
        }
      ],
      "source": [
        "oracion_objetivo = \"Me gusta mucho el fútbol, mi equipo favorito es River Plate.\"\n",
        "\n",
        "dataset = [\"A él también le encanta el fútbol, siempre lo está viendo.\",\n",
        "            \"El deporte favorito de María es el baloncesto, y su equipo es River Plate.\",\n",
        "            \"El fútbol es un deporte muy popular en el mundo.\",\n",
        "            \"Nunca he entendido por qué a la gente le gusta tanto el fútbol.\",\n",
        "            \"El helado de vainilla es mi sabor favorito.\",\n",
        "            \"Estoy aprendiendo a tocar la guitarra.\",\n",
        "            \"Me encanta leer libros, es mi pasatiempo favorito.\"]"
      ]
    },
    {
      "cell_type": "code",
      "source": [
        "encontrar_frase_similar_tfidf(oracion_objetivo, dataset)"
      ],
      "metadata": {
        "id": "o6WZRRI5JpOj"
      },
      "id": "o6WZRRI5JpOj",
      "execution_count": null,
      "outputs": []
    },
    {
      "cell_type": "code",
      "source": [
        "encontrar_frase_similar(oracion_objetivo, dataset)"
      ],
      "metadata": {
        "id": "sbQpllZyJrjE"
      },
      "id": "sbQpllZyJrjE",
      "execution_count": null,
      "outputs": []
    }
  ],
  "metadata": {
    "kernelspec": {
      "display_name": "env_humai",
      "language": "python",
      "name": "python3"
    },
    "language_info": {
      "codemirror_mode": {
        "name": "ipython",
        "version": 3
      },
      "file_extension": ".py",
      "mimetype": "text/x-python",
      "name": "python",
      "nbconvert_exporter": "python",
      "pygments_lexer": "ipython3",
      "version": "3.11.3"
    },
    "colab": {
      "provenance": [],
      "include_colab_link": true
    }
  },
  "nbformat": 4,
  "nbformat_minor": 5
}