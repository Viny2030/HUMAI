{
  "cells": [
    {
      "cell_type": "markdown",
      "metadata": {
        "id": "view-in-github",
        "colab_type": "text"
      },
      "source": [
        "<a href=\"https://colab.research.google.com/github/Viny2030/HUMAI/blob/main/listas_funciones.ipynb\" target=\"_parent\"><img src=\"https://colab.research.google.com/assets/colab-badge.svg\" alt=\"Open In Colab\"/></a>"
      ]
    },
    {
      "cell_type": "markdown",
      "metadata": {
        "id": "EyvB9FHY06q3"
      },
      "source": [
        "<a href=\"https://colab.research.google.com/github/institutohumai/cursos-python/blob/master/Introduccion/2_Listas_Y_Funciones/listas-funciones.ipynb\"> <img src='https://colab.research.google.com/assets/colab-badge.svg' /> </a>\n",
        "<div align=\"center\"> Recordá abrir en una nueva pestaña </div>\n",
        "\n",
        "\n",
        "## Listas, Funciones, Errores\n"
      ]
    },
    {
      "cell_type": "markdown",
      "metadata": {
        "id": "VvZ5ewFI06q4"
      },
      "source": [
        "- [Control de flujo](#Control-de-flujo)\n",
        "- [Tuplas](#Tuplas)\n",
        "- [Errores](#Errores)\n",
        "- [List Comprehension](#List-Comprehension)\n",
        "- [Funciones](#Funciones)"
      ]
    },
    {
      "cell_type": "markdown",
      "metadata": {
        "id": "LsaITzky06q4"
      },
      "source": [
        "### Pequeño Repaso"
      ]
    },
    {
      "cell_type": "code",
      "execution_count": 1,
      "metadata": {
        "id": "ihLtW2nW06q5",
        "outputId": "45d1eed0-ef30-44f0-d5a3-a63518fbdad2",
        "colab": {
          "base_uri": "https://localhost:8080/"
        }
      },
      "outputs": [
        {
          "output_type": "stream",
          "name": "stdout",
          "text": [
            "El número 2 es par\n",
            "El número 4 es par\n",
            "El número 6 es par\n",
            "El número 8 es par\n"
          ]
        }
      ],
      "source": [
        "for i in range(1, 10):## el primer numero si divido 2 el resto es igual a 0 imprimo i si es par\n",
        "    if i % 2 == 0:\n",
        "        print(f\"El número {i} es par\")"
      ]
    },
    {
      "cell_type": "code",
      "source": [
        "for i in range(1, 10):## el primer numero si divido 2 el resto es igual a 0 imprimo i si es par\n",
        "    print(\"i\",i)\n",
        "    if i % 2 == 0:\n",
        "       print(f\"El número {i} es par\")"
      ],
      "metadata": {
        "colab": {
          "base_uri": "https://localhost:8080/"
        },
        "id": "vf3_Ii_EpLdp",
        "outputId": "00b63118-366f-43cc-c6ae-89f87ecd2c4a"
      },
      "execution_count": 2,
      "outputs": [
        {
          "output_type": "stream",
          "name": "stdout",
          "text": [
            "i 1\n",
            "i 2\n",
            "El número 2 es par\n",
            "i 3\n",
            "i 4\n",
            "El número 4 es par\n",
            "i 5\n",
            "i 6\n",
            "El número 6 es par\n",
            "i 7\n",
            "i 8\n",
            "El número 8 es par\n",
            "i 9\n"
          ]
        }
      ]
    },
    {
      "cell_type": "markdown",
      "source": [
        "range(start, stop, (step))"
      ],
      "metadata": {
        "id": "dECJ2vNvouew"
      }
    },
    {
      "cell_type": "code",
      "source": [
        "list(range(10))"
      ],
      "metadata": {
        "colab": {
          "base_uri": "https://localhost:8080/"
        },
        "id": "U273PqVaoww_",
        "outputId": "11d9f647-0f0d-4753-984d-4f6df6d2d857"
      },
      "execution_count": 3,
      "outputs": [
        {
          "output_type": "execute_result",
          "data": {
            "text/plain": [
              "[0, 1, 2, 3, 4, 5, 6, 7, 8, 9]"
            ]
          },
          "metadata": {},
          "execution_count": 3
        }
      ]
    },
    {
      "cell_type": "code",
      "source": [
        "range(0)"
      ],
      "metadata": {
        "colab": {
          "base_uri": "https://localhost:8080/"
        },
        "id": "u2Vfq6nroh-a",
        "outputId": "9e799e96-fb0e-4457-a77f-244118afe2d7"
      },
      "execution_count": 4,
      "outputs": [
        {
          "output_type": "execute_result",
          "data": {
            "text/plain": [
              "range(0, 0)"
            ]
          },
          "metadata": {},
          "execution_count": 4
        }
      ]
    },
    {
      "cell_type": "code",
      "source": [
        "for i in range (1,100):\n",
        "  if i < 50:\n",
        "    print(i)\n",
        "  else:\n",
        "    print(\"the end\")"
      ],
      "metadata": {
        "colab": {
          "base_uri": "https://localhost:8080/"
        },
        "id": "jS-aNvmtn3SB",
        "outputId": "65312602-dbb6-4693-be83-a581af74b3a8"
      },
      "execution_count": 5,
      "outputs": [
        {
          "output_type": "stream",
          "name": "stdout",
          "text": [
            "1\n",
            "2\n",
            "3\n",
            "4\n",
            "5\n",
            "6\n",
            "7\n",
            "8\n",
            "9\n",
            "10\n",
            "11\n",
            "12\n",
            "13\n",
            "14\n",
            "15\n",
            "16\n",
            "17\n",
            "18\n",
            "19\n",
            "20\n",
            "21\n",
            "22\n",
            "23\n",
            "24\n",
            "25\n",
            "26\n",
            "27\n",
            "28\n",
            "29\n",
            "30\n",
            "31\n",
            "32\n",
            "33\n",
            "34\n",
            "35\n",
            "36\n",
            "37\n",
            "38\n",
            "39\n",
            "40\n",
            "41\n",
            "42\n",
            "43\n",
            "44\n",
            "45\n",
            "46\n",
            "47\n",
            "48\n",
            "49\n",
            "the end\n",
            "the end\n",
            "the end\n",
            "the end\n",
            "the end\n",
            "the end\n",
            "the end\n",
            "the end\n",
            "the end\n",
            "the end\n",
            "the end\n",
            "the end\n",
            "the end\n",
            "the end\n",
            "the end\n",
            "the end\n",
            "the end\n",
            "the end\n",
            "the end\n",
            "the end\n",
            "the end\n",
            "the end\n",
            "the end\n",
            "the end\n",
            "the end\n",
            "the end\n",
            "the end\n",
            "the end\n",
            "the end\n",
            "the end\n",
            "the end\n",
            "the end\n",
            "the end\n",
            "the end\n",
            "the end\n",
            "the end\n",
            "the end\n",
            "the end\n",
            "the end\n",
            "the end\n",
            "the end\n",
            "the end\n",
            "the end\n",
            "the end\n",
            "the end\n",
            "the end\n",
            "the end\n",
            "the end\n",
            "the end\n",
            "the end\n"
          ]
        }
      ]
    },
    {
      "cell_type": "code",
      "source": [
        "for i in range (1,100):\n",
        "  if i < 50:\n",
        "    print(i)\n",
        "    break\n",
        "  else:\n",
        "    print(\"the end\")"
      ],
      "metadata": {
        "colab": {
          "base_uri": "https://localhost:8080/"
        },
        "id": "ypmzzjxdngvB",
        "outputId": "45dfa9a2-26f4-4e3d-c6a3-a5cecfb37f1b"
      },
      "execution_count": 6,
      "outputs": [
        {
          "output_type": "stream",
          "name": "stdout",
          "text": [
            "1\n"
          ]
        }
      ]
    },
    {
      "cell_type": "markdown",
      "metadata": {
        "id": "yd15XnmB06q5"
      },
      "source": [
        "## Control de flujo\n",
        "\n",
        "Contamos con 3 _keywords_ que modifican el orden de ejecución **dentro de un bucle**\n",
        "\n",
        "- **continue**: interrumpe el flujo del bucle y retoma la ejecución en la siguiente iteración\n",
        "- **break**: termina el bucle\n",
        "- **pass**: no tiene efecto, se usa para evitar error cuando lo exige la sintáxis\n"
      ]
    },
    {
      "cell_type": "markdown",
      "source": [
        "## terminos reservados en python no definir variables"
      ],
      "metadata": {
        "id": "jvDdtGHPsNmX"
      }
    },
    {
      "cell_type": "markdown",
      "metadata": {
        "id": "tKr92kvt06q6"
      },
      "source": [
        "Vamos a simular una base de datos de usuarios empleando un diccionario. Este diccionario tiene como llave un id representando por un entero. Como valor tiene un diccionario con nombre, apellido y dni."
      ]
    },
    {
      "cell_type": "code",
      "execution_count": 7,
      "metadata": {
        "id": "VbfhBznE06q6"
      },
      "outputs": [],
      "source": [
        "base = {\n",
        "    1: {\"nombre\":\"Fernanda\",\n",
        "        \"apellido\":\"Fernandez\",\n",
        "        \"dni\":333333331},\n",
        "    2: {\"nombre\":\"Gonzalo\",\n",
        "        \"apellido\":\"Gonzalez\",\n",
        "        \"dni\":333333332},\n",
        "    3: {\"nombre\":\"Rodrigo\",\n",
        "        \"apellido\":\"Rodriguez\",\n",
        "        \"dni\":333333333}\n",
        "    }"
      ]
    },
    {
      "cell_type": "markdown",
      "metadata": {
        "id": "-oiyLNzH06q6"
      },
      "source": [
        "Supongamos que en una página web tenemos un formulario en el cual las personas que acceden completan con su dni y queremos saber el nombre y apellido si contamos con el mismo en la base, y si no lo tenemos sólo queremos saber cuál es el dni."
      ]
    },
    {
      "cell_type": "code",
      "execution_count": 8,
      "metadata": {
        "id": "WJ3ggWpm06q6"
      },
      "outputs": [],
      "source": [
        "dnis = [333333331, 333333336, 333333339, 333333332, None, 333333333]"
      ]
    },
    {
      "cell_type": "code",
      "source": [
        "base.items() ## llamo al diccionario"
      ],
      "metadata": {
        "colab": {
          "base_uri": "https://localhost:8080/"
        },
        "id": "doPzplpqtSfL",
        "outputId": "b9c64354-258a-41e8-9bc2-1548e8b92488"
      },
      "execution_count": 9,
      "outputs": [
        {
          "output_type": "execute_result",
          "data": {
            "text/plain": [
              "dict_items([(1, {'nombre': 'Fernanda', 'apellido': 'Fernandez', 'dni': 333333331}), (2, {'nombre': 'Gonzalo', 'apellido': 'Gonzalez', 'dni': 333333332}), (3, {'nombre': 'Rodrigo', 'apellido': 'Rodriguez', 'dni': 333333333})])"
            ]
          },
          "metadata": {},
          "execution_count": 9
        }
      ]
    },
    {
      "cell_type": "code",
      "source": [
        "funciona= True"
      ],
      "metadata": {
        "id": "u-Cc6ffsvy-7"
      },
      "execution_count": 10,
      "outputs": []
    },
    {
      "cell_type": "code",
      "source": [
        "'maria_rodriguez'.title()"
      ],
      "metadata": {
        "colab": {
          "base_uri": "https://localhost:8080/",
          "height": 35
        },
        "id": "m1GDdmAHwGAb",
        "outputId": "8df14c42-8b84-4346-cc3a-623b464a74a9"
      },
      "execution_count": 13,
      "outputs": [
        {
          "output_type": "execute_result",
          "data": {
            "text/plain": [
              "'Maria_Rodriguez'"
            ],
            "application/vnd.google.colaboratory.intrinsic+json": {
              "type": "string"
            }
          },
          "metadata": {},
          "execution_count": 13
        }
      ]
    },
    {
      "cell_type": "code",
      "execution_count": 14,
      "metadata": {
        "id": "aVDmMK-b06q6",
        "outputId": "cd275e78-9f3f-42ee-9cd8-41fc85574ef5",
        "colab": {
          "base_uri": "https://localhost:8080/"
        }
      },
      "outputs": [
        {
          "output_type": "stream",
          "name": "stdout",
          "text": [
            "valor es {'nombre': 'Fernanda', 'apellido': 'Fernandez', 'dni': 333333331}\n",
            "valor [\"dni\"] 333333331\n",
            "Fernanda Fernandez ingreso a nuestra web\n",
            "Hasta el momento se encontraron 1 casos\n",
            "valor es {'nombre': 'Fernanda', 'apellido': 'Fernandez', 'dni': 333333331}\n",
            "valor [\"dni\"] 333333331\n",
            "valor es {'nombre': 'Gonzalo', 'apellido': 'Gonzalez', 'dni': 333333332}\n",
            "valor [\"dni\"] 333333332\n",
            "valor es {'nombre': 'Rodrigo', 'apellido': 'Rodriguez', 'dni': 333333333}\n",
            "valor [\"dni\"] 333333333\n",
            "El dni 333333336 no se encuentra en la base...\n",
            "valor es {'nombre': 'Fernanda', 'apellido': 'Fernandez', 'dni': 333333331}\n",
            "valor [\"dni\"] 333333331\n",
            "valor es {'nombre': 'Gonzalo', 'apellido': 'Gonzalez', 'dni': 333333332}\n",
            "valor [\"dni\"] 333333332\n",
            "valor es {'nombre': 'Rodrigo', 'apellido': 'Rodriguez', 'dni': 333333333}\n",
            "valor [\"dni\"] 333333333\n",
            "El dni 333333339 no se encuentra en la base...\n",
            "valor es {'nombre': 'Fernanda', 'apellido': 'Fernandez', 'dni': 333333331}\n",
            "valor [\"dni\"] 333333331\n",
            "valor es {'nombre': 'Gonzalo', 'apellido': 'Gonzalez', 'dni': 333333332}\n",
            "valor [\"dni\"] 333333332\n",
            "Gonzalo Gonzalez ingreso a nuestra web\n",
            "Hasta el momento se encontraron 2 casos\n",
            "valor es {'nombre': 'Fernanda', 'apellido': 'Fernandez', 'dni': 333333331}\n",
            "valor [\"dni\"] 333333331\n",
            "valor es {'nombre': 'Gonzalo', 'apellido': 'Gonzalez', 'dni': 333333332}\n",
            "valor [\"dni\"] 333333332\n",
            "valor es {'nombre': 'Rodrigo', 'apellido': 'Rodriguez', 'dni': 333333333}\n",
            "valor [\"dni\"] 333333333\n",
            "Rodrigo Rodriguez ingreso a nuestra web\n",
            "Hasta el momento se encontraron 3 casos\n"
          ]
        }
      ],
      "source": [
        "n_encontrados = 0\n",
        "\n",
        "for dni in dnis: # itero por todos los dnis\n",
        "\n",
        "    if type(dni) == int: # si el tipo es entero\n",
        "        dni_encontrado = False # inicializo una variable con valor False, ya van a ver para qué :-)\n",
        "\n",
        "        # Ahora viene la parte complicada, ¿cómo sé si ese dni ya está en mi base?\n",
        "        # 1- Recordemos que base es un diccionario y como tal tiene el método items(), pruébenlo afuera de esta celda\n",
        "        # me devuelve una tupla, con la llave en el primer elemento y el valor en el segundo\n",
        "\n",
        "        # itero por todos los elementos\n",
        "        for i in base.items():\n",
        "            valor = i[1] # guardo el valor en una variable\n",
        "            print(\"valor es\", valor)\n",
        "            print('valor [\"dni\"]' ,valor[\"dni\"] )\n",
        "            if dni == valor[\"dni\"]: # si el dni es el mismo que estoy buscando...\n",
        "                dni_encontrado = True\n",
        "                nombre_completo = valor[\"nombre\"] + \" \" + valor[\"apellido\"]\n",
        "                n_encontrados += 1 # esto equivale a encontrados = encontrados + 1, agrega uno\n",
        "                break # freno la búsqueda, ésto evita que siga buscando\n",
        "\n",
        "        if dni_encontrado: # entra acá si es True\n",
        "            print(f\"{nombre_completo.title()} ingreso a nuestra web\")\n",
        "\n",
        "        elif not dni_encontrado: # noten el not\n",
        "            print(f'El dni {dni} no se encuentra en la base...')\n",
        "            continue # sigo con la búsqueda, NO paso a la siguiente línea\n",
        "\n",
        "        print(f\"Hasta el momento se encontraron {n_encontrados} casos\")\n",
        "\n",
        "    else:\n",
        "        pass # si dni no es un entero entonces no hacemos nada, suponemos que hubo algún tipo de error"
      ]
    },
    {
      "cell_type": "markdown",
      "metadata": {
        "id": "twISV3ym06q7"
      },
      "source": [
        "## Tuplas"
      ]
    },
    {
      "cell_type": "markdown",
      "metadata": {
        "id": "yoxw6iam06q7"
      },
      "source": [
        "Una **tupla** es una secuencia **inmutable** de longitud fija. Las tuplas generalmente se utilizan para representar secuencias de elementos que tienen longitud fija."
      ]
    },
    {
      "cell_type": "code",
      "execution_count": 15,
      "metadata": {
        "id": "xCF9Bxfs06q7"
      },
      "outputs": [],
      "source": [
        "registro = ('Argentina', 112000, 'Bariloche')"
      ]
    },
    {
      "cell_type": "markdown",
      "metadata": {
        "id": "jOgSRBuR06q7"
      },
      "source": [
        "Podemos acceder a un elemento por un índice como con una lista"
      ]
    },
    {
      "cell_type": "code",
      "execution_count": 16,
      "metadata": {
        "colab": {
          "base_uri": "https://localhost:8080/",
          "height": 35
        },
        "id": "ckk0oAhZGgJY",
        "outputId": "de935831-85ca-4b7c-ad14-368619e1f7ef"
      },
      "outputs": [
        {
          "output_type": "execute_result",
          "data": {
            "text/plain": [
              "'Argentina'"
            ],
            "application/vnd.google.colaboratory.intrinsic+json": {
              "type": "string"
            }
          },
          "metadata": {},
          "execution_count": 16
        }
      ],
      "source": [
        "registro[0]"
      ]
    },
    {
      "cell_type": "markdown",
      "metadata": {
        "id": "N_n5tvMG06q7"
      },
      "source": [
        "#### Unpacking\n",
        "\n",
        "Con una tupla, o una lista podemos separar una secuencia en variables de la siguiente manera"
      ]
    },
    {
      "cell_type": "code",
      "execution_count": 17,
      "metadata": {
        "id": "FR2vyl3906q7",
        "outputId": "4e474cf0-f046-45aa-8db5-755414f06e90",
        "colab": {
          "base_uri": "https://localhost:8080/"
        }
      },
      "outputs": [
        {
          "output_type": "stream",
          "name": "stdout",
          "text": [
            "País: Argentina\n",
            "Población: 112000\n",
            "Ciudad: Bariloche\n"
          ]
        }
      ],
      "source": [
        "pais, poblacion, ciudad = registro\n",
        "\n",
        "print(\"País:\", pais)\n",
        "print(\"Población:\", poblacion)\n",
        "print(\"Ciudad:\", ciudad)"
      ]
    },
    {
      "cell_type": "code",
      "execution_count": 18,
      "metadata": {
        "id": "ck5lAsi-JUsX",
        "outputId": "158d265f-1ef3-48d0-af21-0690eb360cac",
        "colab": {
          "base_uri": "https://localhost:8080/"
        }
      },
      "outputs": [
        {
          "output_type": "execute_result",
          "data": {
            "text/plain": [
              "('Brasil', 477000, 'Florianópolis')"
            ]
          },
          "metadata": {},
          "execution_count": 18
        }
      ],
      "source": [
        "registros = [registro, ('Brasil', 477000, 'Florianópolis')]\n",
        "registros[1]"
      ]
    },
    {
      "cell_type": "markdown",
      "metadata": {
        "id": "RMhsoymy06q7"
      },
      "source": [
        "Pero como las tuplas son **inmutables** no se pueden modificar"
      ]
    },
    {
      "cell_type": "code",
      "execution_count": 19,
      "metadata": {
        "id": "JNw3dTGz06q8",
        "outputId": "d382f66f-76bf-429f-d867-eb8267926fd6",
        "colab": {
          "base_uri": "https://localhost:8080/"
        }
      },
      "outputs": [
        {
          "output_type": "execute_result",
          "data": {
            "text/plain": [
              "[4, 2, 3]"
            ]
          },
          "metadata": {},
          "execution_count": 19
        }
      ],
      "source": [
        "# Una lista sí se puede modificar\n",
        "lista = [1, 2, 3]\n",
        "\n",
        "lista[0] = 4\n",
        "\n",
        "lista"
      ]
    },
    {
      "cell_type": "markdown",
      "metadata": {
        "id": "zXNXKmKB06q8"
      },
      "source": [
        "En cambio una tupla no se puede modificar o, como dice el cartel de error, no permite asignación:"
      ]
    },
    {
      "cell_type": "code",
      "execution_count": 20,
      "metadata": {
        "colab": {
          "base_uri": "https://localhost:8080/",
          "height": 176
        },
        "id": "jfOf0WAymLDQ",
        "outputId": "366d649b-c658-47bb-a0f1-bbbe0f646d37"
      },
      "outputs": [
        {
          "output_type": "stream",
          "name": "stdout",
          "text": [
            "('Argentina', 112000, 'Bariloche')\n"
          ]
        },
        {
          "output_type": "error",
          "ename": "TypeError",
          "evalue": "'tuple' object does not support item assignment",
          "traceback": [
            "\u001b[0;31m---------------------------------------------------------------------------\u001b[0m",
            "\u001b[0;31mTypeError\u001b[0m                                 Traceback (most recent call last)",
            "\u001b[0;32m<ipython-input-20-943f179ec8dc>\u001b[0m in \u001b[0;36m<cell line: 2>\u001b[0;34m()\u001b[0m\n\u001b[1;32m      1\u001b[0m \u001b[0mprint\u001b[0m\u001b[0;34m(\u001b[0m\u001b[0mregistro\u001b[0m\u001b[0;34m)\u001b[0m\u001b[0;34m\u001b[0m\u001b[0;34m\u001b[0m\u001b[0m\n\u001b[0;32m----> 2\u001b[0;31m \u001b[0mregistro\u001b[0m\u001b[0;34m[\u001b[0m\u001b[0;36m0\u001b[0m\u001b[0;34m]\u001b[0m \u001b[0;34m=\u001b[0m \u001b[0;34m'Chile'\u001b[0m\u001b[0;34m\u001b[0m\u001b[0;34m\u001b[0m\u001b[0m\n\u001b[0m",
            "\u001b[0;31mTypeError\u001b[0m: 'tuple' object does not support item assignment"
          ]
        }
      ],
      "source": [
        "print(registro)\n",
        "registro[0] = 'Chile'"
      ]
    },
    {
      "cell_type": "code",
      "execution_count": 21,
      "metadata": {
        "id": "uh3bHrsd06q8",
        "outputId": "50e766d0-aded-4e8e-851f-491ad96a230c",
        "colab": {
          "base_uri": "https://localhost:8080/",
          "height": 158
        }
      },
      "outputs": [
        {
          "output_type": "error",
          "ename": "TypeError",
          "evalue": "'tuple' object doesn't support item deletion",
          "traceback": [
            "\u001b[0;31m---------------------------------------------------------------------------\u001b[0m",
            "\u001b[0;31mTypeError\u001b[0m                                 Traceback (most recent call last)",
            "\u001b[0;32m<ipython-input-21-de3b5b100261>\u001b[0m in \u001b[0;36m<cell line: 2>\u001b[0;34m()\u001b[0m\n\u001b[1;32m      1\u001b[0m \u001b[0;31m# tampoco se puede borrar ninguno de sus elementos\u001b[0m\u001b[0;34m\u001b[0m\u001b[0;34m\u001b[0m\u001b[0m\n\u001b[0;32m----> 2\u001b[0;31m \u001b[0;32mdel\u001b[0m \u001b[0mregistro\u001b[0m\u001b[0;34m[\u001b[0m\u001b[0;36m0\u001b[0m\u001b[0;34m]\u001b[0m\u001b[0;34m\u001b[0m\u001b[0;34m\u001b[0m\u001b[0m\n\u001b[0m",
            "\u001b[0;31mTypeError\u001b[0m: 'tuple' object doesn't support item deletion"
          ]
        }
      ],
      "source": [
        "# tampoco se puede borrar ninguno de sus elementos\n",
        "del registro[0]"
      ]
    },
    {
      "cell_type": "markdown",
      "metadata": {
        "id": "JEC5bLgE06q8"
      },
      "source": [
        "## Tipos de errores\n",
        "\n",
        "En el ejemplo de arriba vimos una pantalla de error. El **traceback** o **stack trace** nos muestra el camino del error: veremos más adelante que cuando tenemos funciones anidadas, vemos aquí como el error se propaga.\n",
        "\n",
        "Las cosas a las que en principio les debemos prestar atención son:\n",
        "\n",
        "   1. El nombre del error, en este caso **TypeError**\n",
        "   2. La explicación dada en el último renglón: \"'tuple' object doesn't support item deletion\"\n",
        "   3. La flecha que nos indica la línea en la que ocurrió el error"
      ]
    },
    {
      "cell_type": "markdown",
      "metadata": {
        "id": "6JWTLK5t06q8"
      },
      "source": [
        "Existen distintos tipos de errores en Python, pueden consultar la lista de todas las excepciones básicas acá:\n",
        "https://docs.python.org/3/library/exceptions.html#bltin-exceptions\n",
        "\n",
        "Sin embargo, las excepciones más frecuentes son:\n",
        "\n",
        "**AttributeError**: cuando tratamos de llamar a una referencia que no existe.\n",
        "\n",
        "**NameError**: cuando se llama a una variable u otro nombre que no está definido en el ambiente en que estamos trabajando.\n",
        "\n",
        "**KeyError**: cuando queremos llamar a una llave que no existe, por ejemplo, en un diccionario.\n",
        "\n",
        "**SyntaxError**: cuando hay un problema de sintaxis, errores muy comunes al comienzo pueden ser que no se cerró una llave o corchete, que falta alguna coma o dos puntos.\n",
        "\n",
        "**TypeError**: cuando el tipo de soporta una determinada operación.\n",
        "\n",
        "**IndexError**: cuando el índice al que se quiere acceder no existe, generalmente debido a que se llama a un índice mayor al largo de la lista."
      ]
    },
    {
      "cell_type": "markdown",
      "metadata": {
        "id": "0-SGJKzA06q8"
      },
      "source": [
        "Veamos algunos ejemplos:"
      ]
    },
    {
      "cell_type": "code",
      "execution_count": 22,
      "metadata": {
        "id": "KWh0_3w506q8",
        "outputId": "c6531e2e-7237-4ff7-d90f-9e1ce8539824",
        "colab": {
          "base_uri": "https://localhost:8080/",
          "height": 141
        }
      },
      "outputs": [
        {
          "output_type": "error",
          "ename": "NameError",
          "evalue": "name 'no_definido' is not defined",
          "traceback": [
            "\u001b[0;31m---------------------------------------------------------------------------\u001b[0m",
            "\u001b[0;31mNameError\u001b[0m                                 Traceback (most recent call last)",
            "\u001b[0;32m<ipython-input-22-7eac29aaea1e>\u001b[0m in \u001b[0;36m<cell line: 1>\u001b[0;34m()\u001b[0m\n\u001b[0;32m----> 1\u001b[0;31m \u001b[0mprint\u001b[0m\u001b[0;34m(\u001b[0m\u001b[0mno_definido\u001b[0m\u001b[0;34m)\u001b[0m\u001b[0;34m\u001b[0m\u001b[0;34m\u001b[0m\u001b[0m\n\u001b[0m",
            "\u001b[0;31mNameError\u001b[0m: name 'no_definido' is not defined"
          ]
        }
      ],
      "source": [
        "print(no_definido)"
      ]
    },
    {
      "cell_type": "code",
      "execution_count": 23,
      "metadata": {
        "id": "coPetdwk06q-",
        "outputId": "6e6c5e07-402a-4dfa-88a9-5f3f25ae2540",
        "colab": {
          "base_uri": "https://localhost:8080/"
        }
      },
      "outputs": [
        {
          "output_type": "stream",
          "name": "stdout",
          "text": [
            "{1: {'nombre': 'Fernanda', 'apellido': 'Fernandez', 'dni': 333333331}, 2: {'nombre': 'Gonzalo', 'apellido': 'Gonzalez', 'dni': 333333332}, 3: {'nombre': 'Rodrigo', 'apellido': 'Rodriguez', 'dni': 333333333}}\n"
          ]
        }
      ],
      "source": [
        "print(base) # recordamos base"
      ]
    },
    {
      "cell_type": "code",
      "execution_count": 24,
      "metadata": {
        "id": "C1SCxbEa06q_",
        "outputId": "51533118-0bdd-4495-a30c-33c4fd22cea7",
        "colab": {
          "base_uri": "https://localhost:8080/",
          "height": 141
        }
      },
      "outputs": [
        {
          "output_type": "error",
          "ename": "KeyError",
          "evalue": "'Gertrudis'",
          "traceback": [
            "\u001b[0;31m---------------------------------------------------------------------------\u001b[0m",
            "\u001b[0;31mKeyError\u001b[0m                                  Traceback (most recent call last)",
            "\u001b[0;32m<ipython-input-24-dfebdfd799e0>\u001b[0m in \u001b[0;36m<cell line: 1>\u001b[0;34m()\u001b[0m\n\u001b[0;32m----> 1\u001b[0;31m \u001b[0mbase\u001b[0m\u001b[0;34m[\u001b[0m\u001b[0;34m'Gertrudis'\u001b[0m\u001b[0;34m]\u001b[0m\u001b[0;34m\u001b[0m\u001b[0;34m\u001b[0m\u001b[0m\n\u001b[0m",
            "\u001b[0;31mKeyError\u001b[0m: 'Gertrudis'"
          ]
        }
      ],
      "source": [
        "base['Gertrudis']"
      ]
    },
    {
      "cell_type": "markdown",
      "metadata": {
        "id": "Yf9pb5sg06q_"
      },
      "source": [
        "### Ejercicios"
      ]
    },
    {
      "cell_type": "markdown",
      "metadata": {
        "id": "7eNTJgi706q_"
      },
      "source": [
        "Prueben y arreglen los siguientes errores de código:\n",
        "\n",
        "\n",
        "1. ¿Qué está pasando en este código?"
      ]
    },
    {
      "cell_type": "code",
      "execution_count": 26,
      "metadata": {
        "id": "oc-ADJpb06q_",
        "outputId": "b79b00ea-29ea-4d72-8423-a451d3025615",
        "colab": {
          "base_uri": "https://localhost:8080/"
        }
      },
      "outputs": [
        {
          "output_type": "stream",
          "name": "stdout",
          "text": [
            "Qué está pasando?\n"
          ]
        }
      ],
      "source": [
        "if 10 > 5:\n",
        "    print('Qué está pasando?')"
      ]
    },
    {
      "cell_type": "markdown",
      "metadata": {
        "id": "X2bolrFi06q_"
      },
      "source": [
        "2. ¿Y en este? Traten de arreglarlo"
      ]
    },
    {
      "cell_type": "code",
      "source": [
        "a = 5\n",
        "b = \"3\"\n",
        "a + int(b) != 8 # Convert 'b' to an integer using int()"
      ],
      "metadata": {
        "colab": {
          "base_uri": "https://localhost:8080/"
        },
        "id": "NLLQreMbPtC9",
        "outputId": "b10999c7-a0bd-4db0-c7f1-3201b16ee897"
      },
      "execution_count": 29,
      "outputs": [
        {
          "output_type": "execute_result",
          "data": {
            "text/plain": [
              "False"
            ]
          },
          "metadata": {},
          "execution_count": 29
        }
      ]
    },
    {
      "cell_type": "code",
      "execution_count": 28,
      "metadata": {
        "id": "RFzi3hZq06q_",
        "outputId": "4adb8def-537b-45d0-b1ef-edc8a55ee32e",
        "colab": {
          "base_uri": "https://localhost:8080/",
          "height": 176
        }
      },
      "outputs": [
        {
          "output_type": "error",
          "ename": "TypeError",
          "evalue": "unsupported operand type(s) for +: 'int' and 'str'",
          "traceback": [
            "\u001b[0;31m---------------------------------------------------------------------------\u001b[0m",
            "\u001b[0;31mTypeError\u001b[0m                                 Traceback (most recent call last)",
            "\u001b[0;32m<ipython-input-28-d0e5fceaa23e>\u001b[0m in \u001b[0;36m<cell line: 3>\u001b[0;34m()\u001b[0m\n\u001b[1;32m      1\u001b[0m \u001b[0ma\u001b[0m \u001b[0;34m=\u001b[0m \u001b[0;36m5\u001b[0m\u001b[0;34m\u001b[0m\u001b[0;34m\u001b[0m\u001b[0m\n\u001b[1;32m      2\u001b[0m \u001b[0mb\u001b[0m \u001b[0;34m=\u001b[0m \u001b[0;34m\"3\"\u001b[0m\u001b[0;34m\u001b[0m\u001b[0;34m\u001b[0m\u001b[0m\n\u001b[0;32m----> 3\u001b[0;31m \u001b[0ma\u001b[0m \u001b[0;34m+\u001b[0m \u001b[0mb\u001b[0m \u001b[0;34m!=\u001b[0m \u001b[0;36m8\u001b[0m\u001b[0;34m\u001b[0m\u001b[0;34m\u001b[0m\u001b[0m\n\u001b[0m",
            "\u001b[0;31mTypeError\u001b[0m: unsupported operand type(s) for +: 'int' and 'str'"
          ]
        }
      ],
      "source": [
        "a = 5\n",
        "b = \"3\"\n",
        "a + b != 8"
      ]
    },
    {
      "cell_type": "markdown",
      "metadata": {
        "id": "EWebciAg06q_"
      },
      "source": [
        "3. ¿Y continuación?"
      ]
    },
    {
      "cell_type": "code",
      "execution_count": 31,
      "metadata": {
        "id": "DqdP0jQo06q_",
        "outputId": "00fbaa13-78b7-4b96-fbfc-e4e165a5d66c",
        "colab": {
          "base_uri": "https://localhost:8080/",
          "height": 35
        }
      },
      "outputs": [
        {
          "output_type": "execute_result",
          "data": {
            "text/plain": [
              "'led zepellin'"
            ],
            "application/vnd.google.colaboratory.intrinsic+json": {
              "type": "string"
            }
          },
          "metadata": {},
          "execution_count": 31
        }
      ],
      "source": [
        "a = [\"the beatles\", \"the rolling stones\", \"queen\", \"led zepellin\"]\n",
        "\n",
        "a[3]"
      ]
    },
    {
      "cell_type": "markdown",
      "metadata": {
        "id": "izYzJujN06q_"
      },
      "source": [
        "4- ¿Y acá? ¿qué pasó?"
      ]
    },
    {
      "cell_type": "markdown",
      "metadata": {
        "id": "lXNP0_N306q_"
      },
      "source": [
        "## Manejo de errores"
      ]
    },
    {
      "cell_type": "markdown",
      "metadata": {
        "id": "5L6S5OBW06rC"
      },
      "source": [
        "Para anticipar y manejar los errores, podemos usar la clausula **try** y **except**"
      ]
    },
    {
      "cell_type": "code",
      "execution_count": 33,
      "metadata": {
        "id": "n_cWiwN206rD",
        "outputId": "e3a9ee23-a8dc-48fd-9366-9eb595723147",
        "colab": {
          "base_uri": "https://localhost:8080/"
        }
      },
      "outputs": [
        {
          "output_type": "stream",
          "name": "stdout",
          "text": [
            "25\n"
          ]
        }
      ],
      "source": [
        "a = '20'\n",
        "b = 5\n",
        "\n",
        "try:\n",
        "    print(a+b)\n",
        "except:\n",
        "    print(int(a)+int(b)) # convierto a int ambas variables"
      ]
    },
    {
      "cell_type": "markdown",
      "metadata": {
        "id": "yxKf36Nc06rD"
      },
      "source": [
        "Si queremos ver qué excepción ocurrió, podemos usar la siguiente sintáxis:"
      ]
    },
    {
      "cell_type": "code",
      "execution_count": 34,
      "metadata": {
        "id": "S_hHeuUf06rD",
        "outputId": "27181dac-5ba6-4671-959e-b1ecf7be61ba",
        "colab": {
          "base_uri": "https://localhost:8080/"
        }
      },
      "outputs": [
        {
          "output_type": "stream",
          "name": "stdout",
          "text": [
            "El error fue can only concatenate str (not \"int\") to str\n"
          ]
        }
      ],
      "source": [
        "try:\n",
        "    print(a+b)\n",
        "except Exception as e:\n",
        "    print(f\"El error fue {e}\")"
      ]
    },
    {
      "cell_type": "markdown",
      "metadata": {
        "id": "9qm7Fprj06rD"
      },
      "source": [
        "También podemos especificar qué hacer para distintos tipos de error:"
      ]
    },
    {
      "cell_type": "code",
      "execution_count": 35,
      "metadata": {
        "id": "rg5_vP9J06rD",
        "outputId": "9c0a925c-ef79-45ef-d9fb-20d441227e7a",
        "colab": {
          "base_uri": "https://localhost:8080/"
        }
      },
      "outputs": [
        {
          "output_type": "stream",
          "name": "stdout",
          "text": [
            "la tupla es ('3', 8)\n",
            "intento dividir...\n",
            "Error en el tipo de datos\n",
            "la tupla es (5, 0)\n",
            "intento dividir...\n",
            "No se puede dividir por cero\n",
            "la tupla es (3,)\n",
            "intento dividir...\n",
            "El largo está mal\n",
            "la tupla es (4, 6)\n",
            "intento dividir...\n",
            "0.6666666666666666\n",
            "éxito!\n"
          ]
        }
      ],
      "source": [
        "lista_tuplas = [('3', 8),\n",
        "                (5, 0),\n",
        "                (3, ),\n",
        "                (4, 6)]\n",
        "\n",
        "for t in lista_tuplas:\n",
        "    print(f\"la tupla es {t}\")\n",
        "\n",
        "    try:\n",
        "        print(\"intento dividir...\")\n",
        "        print(t[0] / t[1])\n",
        "        print(\"éxito!\")\n",
        "    except IndexError:\n",
        "        print('El largo está mal')\n",
        "    except TypeError:\n",
        "        print('Error en el tipo de datos')\n",
        "    except ZeroDivisionError:\n",
        "        print(\"No se puede dividir por cero\")"
      ]
    },
    {
      "cell_type": "markdown",
      "metadata": {
        "id": "egkXcS0e06rD"
      },
      "source": [
        "# Listas por comprensión (List Comprehension)"
      ]
    },
    {
      "cell_type": "markdown",
      "metadata": {
        "id": "eJcqrQrY06rD"
      },
      "source": [
        "Las **listas por comprensión** son una funcionalidad muy flexible de Python que permite crear listas de un modo más \"descriptivo\", basandose en la notación de definición de conjuntos."
      ]
    },
    {
      "cell_type": "markdown",
      "metadata": {
        "id": "kzLViJPr06rD"
      },
      "source": [
        "Supongamos que necesitamos obtener una lista con los elementos de una lista original elevados al cuadrado.\n",
        "\n",
        "Sin listas por comprensión haríamos..."
      ]
    },
    {
      "cell_type": "code",
      "execution_count": 36,
      "metadata": {
        "id": "rENucAwN06rD",
        "outputId": "320ed3fb-bade-48fa-ff20-b549b5e79a27",
        "colab": {
          "base_uri": "https://localhost:8080/"
        }
      },
      "outputs": [
        {
          "output_type": "execute_result",
          "data": {
            "text/plain": [
              "[1, 4, 9, 16, 25]"
            ]
          },
          "metadata": {},
          "execution_count": 36
        }
      ],
      "source": [
        "lista = [1,2,3,4,5]\n",
        "\n",
        "cuadrados = []\n",
        "\n",
        "for x in lista:\n",
        "    cuadrados.append(x**2)\n",
        "\n",
        "cuadrados"
      ]
    },
    {
      "cell_type": "markdown",
      "metadata": {
        "id": "n4lB3Rd606rD"
      },
      "source": [
        "En cambio, con listas por comprensión usamos esta expresión:"
      ]
    },
    {
      "cell_type": "code",
      "execution_count": 50,
      "metadata": {
        "id": "fAtNWwLb06rD",
        "colab": {
          "base_uri": "https://localhost:8080/",
          "height": 193
        },
        "outputId": "2afff014-e116-454c-930d-58d76bdc89f2"
      },
      "outputs": [
        {
          "output_type": "error",
          "ename": "TypeError",
          "evalue": "unsupported operand type(s) for ** or pow(): 'str' and 'int'",
          "traceback": [
            "\u001b[0;31m---------------------------------------------------------------------------\u001b[0m",
            "\u001b[0;31mTypeError\u001b[0m                                 Traceback (most recent call last)",
            "\u001b[0;32m<ipython-input-50-e515983b6d57>\u001b[0m in \u001b[0;36m<cell line: 1>\u001b[0;34m()\u001b[0m\n\u001b[0;32m----> 1\u001b[0;31m \u001b[0mcuadrados\u001b[0m \u001b[0;34m=\u001b[0m \u001b[0;34m[\u001b[0m\u001b[0mx\u001b[0m\u001b[0;34m**\u001b[0m\u001b[0;36m2\u001b[0m \u001b[0;32mfor\u001b[0m \u001b[0mx\u001b[0m \u001b[0;32min\u001b[0m \u001b[0mlista\u001b[0m\u001b[0;34m]\u001b[0m\u001b[0;34m\u001b[0m\u001b[0;34m\u001b[0m\u001b[0m\n\u001b[0m",
            "\u001b[0;32m<ipython-input-50-e515983b6d57>\u001b[0m in \u001b[0;36m<listcomp>\u001b[0;34m(.0)\u001b[0m\n\u001b[0;32m----> 1\u001b[0;31m \u001b[0mcuadrados\u001b[0m \u001b[0;34m=\u001b[0m \u001b[0;34m[\u001b[0m\u001b[0mx\u001b[0m\u001b[0;34m**\u001b[0m\u001b[0;36m2\u001b[0m \u001b[0;32mfor\u001b[0m \u001b[0mx\u001b[0m \u001b[0;32min\u001b[0m \u001b[0mlista\u001b[0m\u001b[0;34m]\u001b[0m\u001b[0;34m\u001b[0m\u001b[0;34m\u001b[0m\u001b[0m\n\u001b[0m",
            "\u001b[0;31mTypeError\u001b[0m: unsupported operand type(s) for ** or pow(): 'str' and 'int'"
          ]
        }
      ],
      "source": [
        "cuadrados = [x**2 for x in lista]"
      ]
    },
    {
      "cell_type": "code",
      "source": [
        "animales = ['mantarraya', 'pandas', 'narval', 'unicornio']\n",
        "\n",
        "primera_letra = [(a, len(a)) for a in animales]"
      ],
      "metadata": {
        "id": "4MY6DJhZSFop"
      },
      "execution_count": 53,
      "outputs": []
    },
    {
      "cell_type": "code",
      "source": [
        "primera_letra"
      ],
      "metadata": {
        "colab": {
          "base_uri": "https://localhost:8080/"
        },
        "id": "zWstfPP_SgoA",
        "outputId": "0ebe4bf2-1e11-48ac-9449-84ac7381aa84"
      },
      "execution_count": 54,
      "outputs": [
        {
          "output_type": "execute_result",
          "data": {
            "text/plain": [
              "[('mantarraya', 10), ('pandas', 6), ('narval', 6), ('unicornio', 9)]"
            ]
          },
          "metadata": {},
          "execution_count": 54
        }
      ]
    },
    {
      "cell_type": "code",
      "source": [
        "lista = ['a', 'ante', 'bajo', 'cabe', 'con']\n",
        "[i[0] for i in lista]"
      ],
      "metadata": {
        "colab": {
          "base_uri": "https://localhost:8080/"
        },
        "id": "T8MKR2xFSlp5",
        "outputId": "00ddc5eb-915f-4384-d2fe-325103b84350"
      },
      "execution_count": 57,
      "outputs": [
        {
          "output_type": "execute_result",
          "data": {
            "text/plain": [
              "['a', 'a', 'b', 'c', 'c']"
            ]
          },
          "metadata": {},
          "execution_count": 57
        }
      ]
    },
    {
      "cell_type": "code",
      "source": [
        "frase = 'Cambiar el mundo es mi objetivo'"
      ],
      "metadata": {
        "id": "pVFm7cdFTEzs"
      },
      "execution_count": 58,
      "outputs": []
    },
    {
      "cell_type": "code",
      "source": [
        "[len(palabra) for palabra in frase.replace(\".\",\".\")]"
      ],
      "metadata": {
        "colab": {
          "base_uri": "https://localhost:8080/"
        },
        "id": "JMaHB7pGTM-e",
        "outputId": "434e6c45-b5a5-4d8d-a07d-c45fdc07264b"
      },
      "execution_count": 59,
      "outputs": [
        {
          "output_type": "execute_result",
          "data": {
            "text/plain": [
              "[1,\n",
              " 1,\n",
              " 1,\n",
              " 1,\n",
              " 1,\n",
              " 1,\n",
              " 1,\n",
              " 1,\n",
              " 1,\n",
              " 1,\n",
              " 1,\n",
              " 1,\n",
              " 1,\n",
              " 1,\n",
              " 1,\n",
              " 1,\n",
              " 1,\n",
              " 1,\n",
              " 1,\n",
              " 1,\n",
              " 1,\n",
              " 1,\n",
              " 1,\n",
              " 1,\n",
              " 1,\n",
              " 1,\n",
              " 1,\n",
              " 1,\n",
              " 1,\n",
              " 1,\n",
              " 1]"
            ]
          },
          "metadata": {},
          "execution_count": 59
        }
      ]
    },
    {
      "cell_type": "markdown",
      "metadata": {
        "id": "GqULCdFb06rD"
      },
      "source": [
        "En las listas por comprensión también podemos incluir condicionales en una sola línea, vean la siguiente expresión:"
      ]
    },
    {
      "cell_type": "code",
      "execution_count": 38,
      "metadata": {
        "id": "4TGf__Vr06rD",
        "outputId": "ed6ce709-063f-4497-de17-ee0f657a8c52",
        "colab": {
          "base_uri": "https://localhost:8080/"
        }
      },
      "outputs": [
        {
          "output_type": "stream",
          "name": "stdout",
          "text": [
            "0\n"
          ]
        }
      ],
      "source": [
        "x = 10\n",
        "print(x if x > 15 else 0)"
      ]
    },
    {
      "cell_type": "code",
      "execution_count": 39,
      "metadata": {
        "id": "tiyxjw5W06rD",
        "outputId": "15f9d10c-1862-4ee0-a008-2a70d0c09af3",
        "colab": {
          "base_uri": "https://localhost:8080/"
        }
      },
      "outputs": [
        {
          "output_type": "stream",
          "name": "stdout",
          "text": [
            "16\n"
          ]
        }
      ],
      "source": [
        "x = 16\n",
        "print(x if x > 15 else 0)"
      ]
    },
    {
      "cell_type": "markdown",
      "metadata": {
        "id": "Y5Kh3BPM06rD"
      },
      "source": [
        "Ahora vamos a generar una lista por comprensión sólo con los números donde el cuadrado sea menor a 15"
      ]
    },
    {
      "cell_type": "code",
      "execution_count": 40,
      "metadata": {
        "id": "_cP5_BoV06rE",
        "outputId": "ad85c191-b046-4ab6-b6d3-176d55965803",
        "colab": {
          "base_uri": "https://localhost:8080/"
        }
      },
      "outputs": [
        {
          "output_type": "execute_result",
          "data": {
            "text/plain": [
              "[1, 4, 9]"
            ]
          },
          "metadata": {},
          "execution_count": 40
        }
      ],
      "source": [
        "cuadrados = [x**2 for x in lista if x**2 < 15]\n",
        "cuadrados"
      ]
    },
    {
      "cell_type": "markdown",
      "metadata": {
        "id": "88UI62oZ06rE"
      },
      "source": [
        "La sintáxis para **filtrar** con condicionales es\n",
        "\n",
        "> [ (elemento) ( for x in (iterable) ) ( if condicion ) ]\n",
        "\n",
        "Donde \"elemento\" es lo que vayamos a guardar en la lista. Incluyendo un **else**:\n",
        "\n",
        "> [ (elemento) (if condicion else otro_elemento) ( for x in (iterable) ) ]\n",
        "\n",
        "Pueden hacerse loops anidados:\n",
        "\n",
        "> [i for i in range(x) for j in range(y)]"
      ]
    },
    {
      "cell_type": "markdown",
      "metadata": {
        "id": "0Tqe059j06rE"
      },
      "source": [
        "Otra forma de pensar la sintaxis es a partir de teoría de conjuntos. Por ejemplo:\n",
        "Un conjunto S definido por todos los números X / 4 que pertenecen a los Naturales y cumplen que su cuadrado es menor a 20\n",
        "\n",
        "$$S=\\{\\,\\frac{x}{4}\\mid x \\in \\mathbb{N},\\ x^2<60\\,\\}$$"
      ]
    },
    {
      "cell_type": "markdown",
      "metadata": {
        "id": "_ld0s4zO06rE"
      },
      "source": [
        "Con un loop for:"
      ]
    },
    {
      "cell_type": "code",
      "execution_count": 41,
      "metadata": {
        "id": "2BPEeVzx06rE",
        "outputId": "3bd8bb92-dfe2-44d8-f9df-12b569f9363e",
        "colab": {
          "base_uri": "https://localhost:8080/"
        }
      },
      "outputs": [
        {
          "output_type": "execute_result",
          "data": {
            "text/plain": [
              "[0.0, 0.25, 0.5, 0.75, 1.0, 1.25, 1.5, 1.75]"
            ]
          },
          "metadata": {},
          "execution_count": 41
        }
      ],
      "source": [
        "S = []\n",
        "\n",
        "for x in range(1000):\n",
        "    if x ** 2 < 60:\n",
        "        S.append(x/4)\n",
        "S"
      ]
    },
    {
      "cell_type": "markdown",
      "metadata": {
        "id": "6__qaXMz06rE"
      },
      "source": [
        "Con listas por comprensión:"
      ]
    },
    {
      "cell_type": "code",
      "execution_count": 42,
      "metadata": {
        "id": "DAD-mQ9C06rE",
        "outputId": "ce17a539-9e04-4d4f-b4d3-9793d0a3f292",
        "colab": {
          "base_uri": "https://localhost:8080/"
        }
      },
      "outputs": [
        {
          "output_type": "execute_result",
          "data": {
            "text/plain": [
              "[0.0, 0.25, 0.5, 0.75, 1.0, 1.25, 1.5, 1.75]"
            ]
          },
          "metadata": {},
          "execution_count": 42
        }
      ],
      "source": [
        "S = [x/4 for x in range(1000) if x**2 < 60]\n",
        "S"
      ]
    },
    {
      "cell_type": "code",
      "execution_count": 43,
      "metadata": {
        "id": "ghpVWOxm06rE",
        "outputId": "6bd54a7a-0d07-452a-b294-9af3243812a5",
        "colab": {
          "base_uri": "https://localhost:8080/"
        }
      },
      "outputs": [
        {
          "output_type": "stream",
          "name": "stdout",
          "text": [
            "0 a\n",
            "0 b\n",
            "0 c\n",
            "1 a\n",
            "1 b\n",
            "1 c\n",
            "2 a\n",
            "2 b\n",
            "2 c\n"
          ]
        }
      ],
      "source": [
        "for x in range(3):\n",
        "    for y in 'abc':\n",
        "        print(x,y)"
      ]
    },
    {
      "cell_type": "code",
      "execution_count": 44,
      "metadata": {
        "id": "H4A9Jybz06rE",
        "outputId": "72741e52-2bd9-476c-dda7-68eb4669ecb6",
        "colab": {
          "base_uri": "https://localhost:8080/"
        }
      },
      "outputs": [
        {
          "output_type": "execute_result",
          "data": {
            "text/plain": [
              "[(0, 'a'),\n",
              " (0, 'b'),\n",
              " (0, 'c'),\n",
              " (1, 'a'),\n",
              " (1, 'b'),\n",
              " (1, 'c'),\n",
              " (2, 'a'),\n",
              " (2, 'b'),\n",
              " (2, 'c')]"
            ]
          },
          "metadata": {},
          "execution_count": 44
        }
      ],
      "source": [
        "[(x, y) for x in range(3) for y in 'abc']"
      ]
    },
    {
      "cell_type": "markdown",
      "metadata": {
        "id": "f_WL9vk006rE"
      },
      "source": [
        "O comprensiones anidadas:\n",
        "\n",
        "> [ [i for i in range(x) ] for j in range(y) ]"
      ]
    },
    {
      "cell_type": "code",
      "execution_count": 45,
      "metadata": {
        "id": "hTnM-KFf06rE",
        "outputId": "51aed4d3-adcb-4be9-a806-e77587cbfe3f",
        "colab": {
          "base_uri": "https://localhost:8080/"
        }
      },
      "outputs": [
        {
          "output_type": "execute_result",
          "data": {
            "text/plain": [
              "[['', '', ''], ['a', 'b', 'c'], ['aa', 'bb', 'cc']]"
            ]
          },
          "metadata": {},
          "execution_count": 45
        }
      ],
      "source": [
        "[[l*n for l in 'abc'] for n in range(3)]"
      ]
    },
    {
      "cell_type": "markdown",
      "metadata": {
        "id": "ZaFyYgbn06rE"
      },
      "source": [
        "Además, el elemento que se genera puede ser de otro tipo, en este caso una tupla:"
      ]
    },
    {
      "cell_type": "code",
      "execution_count": 46,
      "metadata": {
        "id": "GCeliEME06rE",
        "outputId": "17e173b7-05b1-49c9-fa33-2ef2ad73d437",
        "colab": {
          "base_uri": "https://localhost:8080/"
        }
      },
      "outputs": [
        {
          "output_type": "execute_result",
          "data": {
            "text/plain": [
              "[('mantarraya', 10), ('pandas', 6), ('narval', 6), ('unicornio', 9)]"
            ]
          },
          "metadata": {},
          "execution_count": 46
        }
      ],
      "source": [
        "animales = ['mantarraya', 'pandas', 'narval', 'unicornio']\n",
        "\n",
        "[(a, len(a)) for a in animales]"
      ]
    },
    {
      "cell_type": "markdown",
      "metadata": {
        "id": "auAWt3vt06rE"
      },
      "source": [
        "### Ejercicios"
      ]
    },
    {
      "cell_type": "markdown",
      "metadata": {
        "id": "UTWCyPzt06rE"
      },
      "source": [
        "1- Dado el siguiente grupo de palabras, crear otra lista que contenga sólo la primera letra de cada una"
      ]
    },
    {
      "cell_type": "code",
      "execution_count": 47,
      "metadata": {
        "id": "TnRuIJlI06rE"
      },
      "outputs": [],
      "source": [
        "lista = ['a','ante','bajo','cabe','con']"
      ]
    },
    {
      "cell_type": "markdown",
      "metadata": {
        "id": "7AQmuSRu06rE"
      },
      "source": [
        "2- Dada la siguiente frase, crear una lista con el largo de cada palabra.\n",
        "Tip: Antes de aplicar listas por comprensión pueden usar la función split que vimos la clase pasada y la función replace para remover la puntuación."
      ]
    },
    {
      "cell_type": "code",
      "execution_count": null,
      "metadata": {
        "id": "RYWD2RFq06rE"
      },
      "outputs": [],
      "source": [
        "frase = 'Cambiar el mundo, amigo Sancho, no es ni utopía ni locura, es justicia'"
      ]
    },
    {
      "cell_type": "markdown",
      "metadata": {
        "id": "BEMJz-JS06rF"
      },
      "source": [
        "# I/O\n",
        "\n",
        "Ahora veremos como abrir archivos usando Python base. Para hacerlo usaremos la sentencia **with** para definir un **contexto** del siguiente modo:\n",
        "\n",
        "    with open('corpus.txt', 'r') as inp:\n",
        "        string_contenido = inp.read()\n",
        "\n",
        "Lo que significa: con el archivo \"corpus.txt\" abierto en **modo** lectura (\"r\" de read) con el **alias** _inp_, definimos la variable contenido usando el método **.read()** para leer el archivo. Algunas aclaraciones:\n",
        "\n",
        "- El método .read() es propio del objeto de input, que **en esta ocasión** llamamos _inp_. Otro método útil es **.readlines()** que nos permite iterar por renglones.\n",
        "- La ruta al archivo puede ser **relativa** como en este caso, donde el archivo se encontraría en la misma carpeta que la notebook. También se puede dar el path completo, como podría ser \"C:/Usuarios/Matías/Documentos/corpus.txt\""
      ]
    },
    {
      "cell_type": "markdown",
      "metadata": {
        "id": "Qk2syf6F06rF"
      },
      "source": [
        "Existen varios modos de abrir un archivo, incluyendo:\n",
        "\n",
        "    - r: read, lectura\n",
        "    - w: write, escritura\n",
        "    - a: append, agregar al final del archivo\n",
        "\n",
        "Por ejemplo, para escribir en un archivo, haríamos:\n",
        "\n",
        "    with open(outpath, 'w') as f:\n",
        "        f.write(string)"
      ]
    },
    {
      "cell_type": "code",
      "source": [
        "url = \"https://raw.githubusercontent.com/Viny2030/datasets/refs/heads/main/frankie.txt\""
      ],
      "metadata": {
        "id": "2uKewjxVUNCG"
      },
      "execution_count": 72,
      "outputs": []
    },
    {
      "cell_type": "code",
      "source": [
        "import pandas as pd"
      ],
      "metadata": {
        "id": "s4YcBxMOWPDi"
      },
      "execution_count": 79,
      "outputs": []
    },
    {
      "cell_type": "code",
      "source": [
        "df = pd.read_fwf(url, header=None)"
      ],
      "metadata": {
        "id": "4QVwcgB2WG1Q"
      },
      "execution_count": 80,
      "outputs": []
    },
    {
      "cell_type": "code",
      "source": [
        "df"
      ],
      "metadata": {
        "colab": {
          "base_uri": "https://localhost:8080/",
          "height": 423
        },
        "id": "bcsZudwWWTCj",
        "outputId": "f9772e62-1344-4c40-af43-eda5f8147cd8"
      },
      "execution_count": 81,
      "outputs": [
        {
          "output_type": "execute_result",
          "data": {
            "text/plain": [
              "                                                      0\n",
              "0                                                     0\n",
              "1     0 The  studio  was  ﬁlled  with  the  rich  od...\n",
              "2     1 the  garden,  there  came  through  the  ope...\n",
              "3                              2 pink-flowering  thorn.\n",
              "4     3 From  the  corner  of  the  divan  of  Persi...\n",
              "...                                                 ...\n",
              "4656  4655 keep  eBooks  in  compliance  with  any  ...\n",
              "4657  4656 Most  people  start  at  our  website  wh...\n",
              "4658  4657 This  website  includes  information  abo...\n",
              "4659  4658 Project  Gutenberg  Literary  Archive  Fo...\n",
              "4660  4659 subscribe  to  our  email  newsletter  to...\n",
              "\n",
              "[4661 rows x 1 columns]"
            ],
            "text/html": [
              "\n",
              "  <div id=\"df-a8c05f29-fdb3-417e-92b3-bf57a07a5a49\" class=\"colab-df-container\">\n",
              "    <div>\n",
              "<style scoped>\n",
              "    .dataframe tbody tr th:only-of-type {\n",
              "        vertical-align: middle;\n",
              "    }\n",
              "\n",
              "    .dataframe tbody tr th {\n",
              "        vertical-align: top;\n",
              "    }\n",
              "\n",
              "    .dataframe thead th {\n",
              "        text-align: right;\n",
              "    }\n",
              "</style>\n",
              "<table border=\"1\" class=\"dataframe\">\n",
              "  <thead>\n",
              "    <tr style=\"text-align: right;\">\n",
              "      <th></th>\n",
              "      <th>0</th>\n",
              "    </tr>\n",
              "  </thead>\n",
              "  <tbody>\n",
              "    <tr>\n",
              "      <th>0</th>\n",
              "      <td>0</td>\n",
              "    </tr>\n",
              "    <tr>\n",
              "      <th>1</th>\n",
              "      <td>0 The  studio  was  ﬁlled  with  the  rich  od...</td>\n",
              "    </tr>\n",
              "    <tr>\n",
              "      <th>2</th>\n",
              "      <td>1 the  garden,  there  came  through  the  ope...</td>\n",
              "    </tr>\n",
              "    <tr>\n",
              "      <th>3</th>\n",
              "      <td>2 pink-flowering  thorn.</td>\n",
              "    </tr>\n",
              "    <tr>\n",
              "      <th>4</th>\n",
              "      <td>3 From  the  corner  of  the  divan  of  Persi...</td>\n",
              "    </tr>\n",
              "    <tr>\n",
              "      <th>...</th>\n",
              "      <td>...</td>\n",
              "    </tr>\n",
              "    <tr>\n",
              "      <th>4656</th>\n",
              "      <td>4655 keep  eBooks  in  compliance  with  any  ...</td>\n",
              "    </tr>\n",
              "    <tr>\n",
              "      <th>4657</th>\n",
              "      <td>4656 Most  people  start  at  our  website  wh...</td>\n",
              "    </tr>\n",
              "    <tr>\n",
              "      <th>4658</th>\n",
              "      <td>4657 This  website  includes  information  abo...</td>\n",
              "    </tr>\n",
              "    <tr>\n",
              "      <th>4659</th>\n",
              "      <td>4658 Project  Gutenberg  Literary  Archive  Fo...</td>\n",
              "    </tr>\n",
              "    <tr>\n",
              "      <th>4660</th>\n",
              "      <td>4659 subscribe  to  our  email  newsletter  to...</td>\n",
              "    </tr>\n",
              "  </tbody>\n",
              "</table>\n",
              "<p>4661 rows × 1 columns</p>\n",
              "</div>\n",
              "    <div class=\"colab-df-buttons\">\n",
              "\n",
              "  <div class=\"colab-df-container\">\n",
              "    <button class=\"colab-df-convert\" onclick=\"convertToInteractive('df-a8c05f29-fdb3-417e-92b3-bf57a07a5a49')\"\n",
              "            title=\"Convert this dataframe to an interactive table.\"\n",
              "            style=\"display:none;\">\n",
              "\n",
              "  <svg xmlns=\"http://www.w3.org/2000/svg\" height=\"24px\" viewBox=\"0 -960 960 960\">\n",
              "    <path d=\"M120-120v-720h720v720H120Zm60-500h600v-160H180v160Zm220 220h160v-160H400v160Zm0 220h160v-160H400v160ZM180-400h160v-160H180v160Zm440 0h160v-160H620v160ZM180-180h160v-160H180v160Zm440 0h160v-160H620v160Z\"/>\n",
              "  </svg>\n",
              "    </button>\n",
              "\n",
              "  <style>\n",
              "    .colab-df-container {\n",
              "      display:flex;\n",
              "      gap: 12px;\n",
              "    }\n",
              "\n",
              "    .colab-df-convert {\n",
              "      background-color: #E8F0FE;\n",
              "      border: none;\n",
              "      border-radius: 50%;\n",
              "      cursor: pointer;\n",
              "      display: none;\n",
              "      fill: #1967D2;\n",
              "      height: 32px;\n",
              "      padding: 0 0 0 0;\n",
              "      width: 32px;\n",
              "    }\n",
              "\n",
              "    .colab-df-convert:hover {\n",
              "      background-color: #E2EBFA;\n",
              "      box-shadow: 0px 1px 2px rgba(60, 64, 67, 0.3), 0px 1px 3px 1px rgba(60, 64, 67, 0.15);\n",
              "      fill: #174EA6;\n",
              "    }\n",
              "\n",
              "    .colab-df-buttons div {\n",
              "      margin-bottom: 4px;\n",
              "    }\n",
              "\n",
              "    [theme=dark] .colab-df-convert {\n",
              "      background-color: #3B4455;\n",
              "      fill: #D2E3FC;\n",
              "    }\n",
              "\n",
              "    [theme=dark] .colab-df-convert:hover {\n",
              "      background-color: #434B5C;\n",
              "      box-shadow: 0px 1px 3px 1px rgba(0, 0, 0, 0.15);\n",
              "      filter: drop-shadow(0px 1px 2px rgba(0, 0, 0, 0.3));\n",
              "      fill: #FFFFFF;\n",
              "    }\n",
              "  </style>\n",
              "\n",
              "    <script>\n",
              "      const buttonEl =\n",
              "        document.querySelector('#df-a8c05f29-fdb3-417e-92b3-bf57a07a5a49 button.colab-df-convert');\n",
              "      buttonEl.style.display =\n",
              "        google.colab.kernel.accessAllowed ? 'block' : 'none';\n",
              "\n",
              "      async function convertToInteractive(key) {\n",
              "        const element = document.querySelector('#df-a8c05f29-fdb3-417e-92b3-bf57a07a5a49');\n",
              "        const dataTable =\n",
              "          await google.colab.kernel.invokeFunction('convertToInteractive',\n",
              "                                                    [key], {});\n",
              "        if (!dataTable) return;\n",
              "\n",
              "        const docLinkHtml = 'Like what you see? Visit the ' +\n",
              "          '<a target=\"_blank\" href=https://colab.research.google.com/notebooks/data_table.ipynb>data table notebook</a>'\n",
              "          + ' to learn more about interactive tables.';\n",
              "        element.innerHTML = '';\n",
              "        dataTable['output_type'] = 'display_data';\n",
              "        await google.colab.output.renderOutput(dataTable, element);\n",
              "        const docLink = document.createElement('div');\n",
              "        docLink.innerHTML = docLinkHtml;\n",
              "        element.appendChild(docLink);\n",
              "      }\n",
              "    </script>\n",
              "  </div>\n",
              "\n",
              "\n",
              "<div id=\"df-42aa5603-7c43-4e14-81b7-f3a7a05780f4\">\n",
              "  <button class=\"colab-df-quickchart\" onclick=\"quickchart('df-42aa5603-7c43-4e14-81b7-f3a7a05780f4')\"\n",
              "            title=\"Suggest charts\"\n",
              "            style=\"display:none;\">\n",
              "\n",
              "<svg xmlns=\"http://www.w3.org/2000/svg\" height=\"24px\"viewBox=\"0 0 24 24\"\n",
              "     width=\"24px\">\n",
              "    <g>\n",
              "        <path d=\"M19 3H5c-1.1 0-2 .9-2 2v14c0 1.1.9 2 2 2h14c1.1 0 2-.9 2-2V5c0-1.1-.9-2-2-2zM9 17H7v-7h2v7zm4 0h-2V7h2v10zm4 0h-2v-4h2v4z\"/>\n",
              "    </g>\n",
              "</svg>\n",
              "  </button>\n",
              "\n",
              "<style>\n",
              "  .colab-df-quickchart {\n",
              "      --bg-color: #E8F0FE;\n",
              "      --fill-color: #1967D2;\n",
              "      --hover-bg-color: #E2EBFA;\n",
              "      --hover-fill-color: #174EA6;\n",
              "      --disabled-fill-color: #AAA;\n",
              "      --disabled-bg-color: #DDD;\n",
              "  }\n",
              "\n",
              "  [theme=dark] .colab-df-quickchart {\n",
              "      --bg-color: #3B4455;\n",
              "      --fill-color: #D2E3FC;\n",
              "      --hover-bg-color: #434B5C;\n",
              "      --hover-fill-color: #FFFFFF;\n",
              "      --disabled-bg-color: #3B4455;\n",
              "      --disabled-fill-color: #666;\n",
              "  }\n",
              "\n",
              "  .colab-df-quickchart {\n",
              "    background-color: var(--bg-color);\n",
              "    border: none;\n",
              "    border-radius: 50%;\n",
              "    cursor: pointer;\n",
              "    display: none;\n",
              "    fill: var(--fill-color);\n",
              "    height: 32px;\n",
              "    padding: 0;\n",
              "    width: 32px;\n",
              "  }\n",
              "\n",
              "  .colab-df-quickchart:hover {\n",
              "    background-color: var(--hover-bg-color);\n",
              "    box-shadow: 0 1px 2px rgba(60, 64, 67, 0.3), 0 1px 3px 1px rgba(60, 64, 67, 0.15);\n",
              "    fill: var(--button-hover-fill-color);\n",
              "  }\n",
              "\n",
              "  .colab-df-quickchart-complete:disabled,\n",
              "  .colab-df-quickchart-complete:disabled:hover {\n",
              "    background-color: var(--disabled-bg-color);\n",
              "    fill: var(--disabled-fill-color);\n",
              "    box-shadow: none;\n",
              "  }\n",
              "\n",
              "  .colab-df-spinner {\n",
              "    border: 2px solid var(--fill-color);\n",
              "    border-color: transparent;\n",
              "    border-bottom-color: var(--fill-color);\n",
              "    animation:\n",
              "      spin 1s steps(1) infinite;\n",
              "  }\n",
              "\n",
              "  @keyframes spin {\n",
              "    0% {\n",
              "      border-color: transparent;\n",
              "      border-bottom-color: var(--fill-color);\n",
              "      border-left-color: var(--fill-color);\n",
              "    }\n",
              "    20% {\n",
              "      border-color: transparent;\n",
              "      border-left-color: var(--fill-color);\n",
              "      border-top-color: var(--fill-color);\n",
              "    }\n",
              "    30% {\n",
              "      border-color: transparent;\n",
              "      border-left-color: var(--fill-color);\n",
              "      border-top-color: var(--fill-color);\n",
              "      border-right-color: var(--fill-color);\n",
              "    }\n",
              "    40% {\n",
              "      border-color: transparent;\n",
              "      border-right-color: var(--fill-color);\n",
              "      border-top-color: var(--fill-color);\n",
              "    }\n",
              "    60% {\n",
              "      border-color: transparent;\n",
              "      border-right-color: var(--fill-color);\n",
              "    }\n",
              "    80% {\n",
              "      border-color: transparent;\n",
              "      border-right-color: var(--fill-color);\n",
              "      border-bottom-color: var(--fill-color);\n",
              "    }\n",
              "    90% {\n",
              "      border-color: transparent;\n",
              "      border-bottom-color: var(--fill-color);\n",
              "    }\n",
              "  }\n",
              "</style>\n",
              "\n",
              "  <script>\n",
              "    async function quickchart(key) {\n",
              "      const quickchartButtonEl =\n",
              "        document.querySelector('#' + key + ' button');\n",
              "      quickchartButtonEl.disabled = true;  // To prevent multiple clicks.\n",
              "      quickchartButtonEl.classList.add('colab-df-spinner');\n",
              "      try {\n",
              "        const charts = await google.colab.kernel.invokeFunction(\n",
              "            'suggestCharts', [key], {});\n",
              "      } catch (error) {\n",
              "        console.error('Error during call to suggestCharts:', error);\n",
              "      }\n",
              "      quickchartButtonEl.classList.remove('colab-df-spinner');\n",
              "      quickchartButtonEl.classList.add('colab-df-quickchart-complete');\n",
              "    }\n",
              "    (() => {\n",
              "      let quickchartButtonEl =\n",
              "        document.querySelector('#df-42aa5603-7c43-4e14-81b7-f3a7a05780f4 button');\n",
              "      quickchartButtonEl.style.display =\n",
              "        google.colab.kernel.accessAllowed ? 'block' : 'none';\n",
              "    })();\n",
              "  </script>\n",
              "</div>\n",
              "\n",
              "  <div id=\"id_0aadca37-a48c-4110-9024-c31048675eb3\">\n",
              "    <style>\n",
              "      .colab-df-generate {\n",
              "        background-color: #E8F0FE;\n",
              "        border: none;\n",
              "        border-radius: 50%;\n",
              "        cursor: pointer;\n",
              "        display: none;\n",
              "        fill: #1967D2;\n",
              "        height: 32px;\n",
              "        padding: 0 0 0 0;\n",
              "        width: 32px;\n",
              "      }\n",
              "\n",
              "      .colab-df-generate:hover {\n",
              "        background-color: #E2EBFA;\n",
              "        box-shadow: 0px 1px 2px rgba(60, 64, 67, 0.3), 0px 1px 3px 1px rgba(60, 64, 67, 0.15);\n",
              "        fill: #174EA6;\n",
              "      }\n",
              "\n",
              "      [theme=dark] .colab-df-generate {\n",
              "        background-color: #3B4455;\n",
              "        fill: #D2E3FC;\n",
              "      }\n",
              "\n",
              "      [theme=dark] .colab-df-generate:hover {\n",
              "        background-color: #434B5C;\n",
              "        box-shadow: 0px 1px 3px 1px rgba(0, 0, 0, 0.15);\n",
              "        filter: drop-shadow(0px 1px 2px rgba(0, 0, 0, 0.3));\n",
              "        fill: #FFFFFF;\n",
              "      }\n",
              "    </style>\n",
              "    <button class=\"colab-df-generate\" onclick=\"generateWithVariable('df')\"\n",
              "            title=\"Generate code using this dataframe.\"\n",
              "            style=\"display:none;\">\n",
              "\n",
              "  <svg xmlns=\"http://www.w3.org/2000/svg\" height=\"24px\"viewBox=\"0 0 24 24\"\n",
              "       width=\"24px\">\n",
              "    <path d=\"M7,19H8.4L18.45,9,17,7.55,7,17.6ZM5,21V16.75L18.45,3.32a2,2,0,0,1,2.83,0l1.4,1.43a1.91,1.91,0,0,1,.58,1.4,1.91,1.91,0,0,1-.58,1.4L9.25,21ZM18.45,9,17,7.55Zm-12,3A5.31,5.31,0,0,0,4.9,8.1,5.31,5.31,0,0,0,1,6.5,5.31,5.31,0,0,0,4.9,4.9,5.31,5.31,0,0,0,6.5,1,5.31,5.31,0,0,0,8.1,4.9,5.31,5.31,0,0,0,12,6.5,5.46,5.46,0,0,0,6.5,12Z\"/>\n",
              "  </svg>\n",
              "    </button>\n",
              "    <script>\n",
              "      (() => {\n",
              "      const buttonEl =\n",
              "        document.querySelector('#id_0aadca37-a48c-4110-9024-c31048675eb3 button.colab-df-generate');\n",
              "      buttonEl.style.display =\n",
              "        google.colab.kernel.accessAllowed ? 'block' : 'none';\n",
              "\n",
              "      buttonEl.onclick = () => {\n",
              "        google.colab.notebook.generateWithVariable('df');\n",
              "      }\n",
              "      })();\n",
              "    </script>\n",
              "  </div>\n",
              "\n",
              "    </div>\n",
              "  </div>\n"
            ],
            "application/vnd.google.colaboratory.intrinsic+json": {
              "type": "dataframe",
              "variable_name": "df",
              "summary": "{\n  \"name\": \"df\",\n  \"rows\": 4661,\n  \"fields\": [\n    {\n      \"column\": 0,\n      \"properties\": {\n        \"dtype\": \"string\",\n        \"num_unique_values\": 4661,\n        \"samples\": [\n          \"1267 with  a  spasm  of  pain.  Sybil  rushed  to  her,  \\ufb02ung  her  arms  round  her  neck,  and  kissed  her.  \\u201cForgive  me,  Mother.  I\",\n          \"1845 looking  round  at  the  silent  square,  with  its  blank,  close-shuttered  windows  and  its  staring  blinds.  The  sky  was\",\n          \"2276 thoughts,  new  ideas.  I  am  di\\ufb00erent,  but  you  must  not  like  me  less.  I  am  changed,  but  you  must  always  be  my\"\n        ],\n        \"semantic_type\": \"\",\n        \"description\": \"\"\n      }\n    }\n  ]\n}"
            }
          },
          "metadata": {},
          "execution_count": 81
        }
      ]
    },
    {
      "cell_type": "code",
      "source": [
        "print(nuevo)"
      ],
      "metadata": {
        "colab": {
          "base_uri": "https://localhost:8080/"
        },
        "id": "4CPY9GFFU1vS",
        "outputId": "7212e4da-f4ef-44ad-86e5-9508b0042cdd"
      },
      "execution_count": 76,
      "outputs": [
        {
          "output_type": "stream",
          "name": "stdout",
          "text": [
            "https://raw.githubusercontent.com/Viny2030/datasets/refs/heads/main/frankie.txt\n"
          ]
        }
      ]
    },
    {
      "cell_type": "code",
      "execution_count": 70,
      "metadata": {
        "id": "FLHIygR706rF"
      },
      "outputs": [],
      "source": [
        "with open('nuevo.txt', 'w') as f:\n",
        "    f.write('nuevo')"
      ]
    },
    {
      "cell_type": "code",
      "execution_count": 71,
      "metadata": {
        "id": "4CKKQsbA06rF",
        "outputId": "74bb62eb-f8a9-4482-af1d-9aba755db50e",
        "colab": {
          "base_uri": "https://localhost:8080/"
        }
      },
      "outputs": [
        {
          "output_type": "stream",
          "name": "stdout",
          "text": [
            "nuevo\n"
          ]
        }
      ],
      "source": [
        "with open('nuevo.txt', 'r') as f:\n",
        "    contenido = f.read()\n",
        "\n",
        "print(contenido)"
      ]
    },
    {
      "cell_type": "markdown",
      "metadata": {
        "id": "AKDk2L6a06rF"
      },
      "source": [
        "En Python se puede pedir un input del usuario de la siguiente manera:"
      ]
    },
    {
      "cell_type": "code",
      "execution_count": 62,
      "metadata": {
        "id": "K7rNPuPr06rF",
        "outputId": "c04409f3-2f9e-4d60-d01c-bc0d9153ee22",
        "colab": {
          "base_uri": "https://localhost:8080/"
        }
      },
      "outputs": [
        {
          "output_type": "stream",
          "name": "stdout",
          "text": [
            "Ingrese un numero12\n",
            "Su numero fue 12! :D\n"
          ]
        }
      ],
      "source": [
        "while True:\n",
        "    usuario_dijo = input('Ingrese un numero')\n",
        "\n",
        "    try:\n",
        "        num = int(usuario_dijo)\n",
        "        break\n",
        "    except:\n",
        "        print('No anduvo, intente de nuevo')\n",
        "\n",
        "print(f'Su numero fue {num}! :D')"
      ]
    },
    {
      "cell_type": "markdown",
      "metadata": {
        "id": "1sHKlHpk06rF"
      },
      "source": [
        "# Funciones\n",
        "\n",
        "Las funciones nos permiten estandarizar y reutilizar un proceso en múltiples ocasiones.\n",
        "\n",
        "Como patrón de diseño, las funciones tienen que ser lo más atómicas posibles, es decir, resolver un problema lo más pequeño posible y bien definido.\n",
        "\n",
        "Los nombres también son importantes, el nombre de la función tiene que reflejar lo mejor posible lo que hace.\n",
        "\n",
        "\n",
        "Las funciones se definen de la siguiente manera:\n",
        "\n",
        "    def nombre_de_funcion(argumentos):\n",
        "        \"\"\"docstring opcional\"\"\"\n",
        "        resultado = procedimiento(argumentos)\n",
        "        return resultado\n",
        "\n",
        "Las variables definidias en el contexto de una función son locales, es decir, sólo viven dentro de esa función. Por otra parte, si desde una función se llama a una variable que no está definida en la función tratará de buscarla afuera. En general, es buena práctica usar sólo variables definidas dentro de la función o argumentos.\n",
        "\n",
        "Los argumentos son variables que le pasamos a la función para que *haga algo*.\n",
        "\n",
        "Las funciones emplean dos términos reservados:\n",
        "\n",
        "- def: que indica el comienzo de la definición de la función\n",
        "\n",
        "- return: establece la variable o variables que devuelve la función\n",
        "\n",
        "En este punto vale la pena mencionar que en Python los nombres (de variables, funciones, etc.) se almacenan y ordenan en NameSpaces. En este punto, la información definida dentro de la función no es compartida con el exterior de la función (salvo algunas excepciones que no vienen al caso), por lo tanto, para compartirla, la función debe enviar desde el NameSpace local (el de la función) al NameSpace global (donde está el resto del programa). Para ello, el término return indica qué se devolverá al ambiente global. Para que efectivamente esa/s variable/s que la función devuelve se guarden una variable en el ambiente global debemos asignar el resultado a una variable. Esto va a quedar más claro con el código.\n",
        "\n",
        "Por último, vale la pena mencionar que *print* sólo nos muestra el contenido de una variable pero no envía la información desde la función hacia afuera."
      ]
    },
    {
      "cell_type": "code",
      "source": [
        "lista"
      ],
      "metadata": {
        "colab": {
          "base_uri": "https://localhost:8080/"
        },
        "id": "uJoxsY8VXO34",
        "outputId": "a7730df2-2d27-4144-f099-59c5475e8b2a"
      },
      "execution_count": 89,
      "outputs": [
        {
          "output_type": "execute_result",
          "data": {
            "text/plain": [
              "[89, -24, 9, 2]"
            ]
          },
          "metadata": {},
          "execution_count": 89
        }
      ]
    },
    {
      "cell_type": "code",
      "execution_count": 82,
      "metadata": {
        "id": "B5wssmOp06rF"
      },
      "outputs": [],
      "source": [
        "def promedio(lista):\n",
        "    return sum(lista) / len(lista)"
      ]
    },
    {
      "cell_type": "code",
      "execution_count": 83,
      "metadata": {
        "id": "XOiz_Lte06rG",
        "outputId": "ca8b2f42-df04-4913-cffd-204b3d3c0c0c",
        "colab": {
          "base_uri": "https://localhost:8080/"
        }
      },
      "outputs": [
        {
          "output_type": "stream",
          "name": "stdout",
          "text": [
            "1.5\n"
          ]
        }
      ],
      "source": [
        "resultado = promedio([0,1,2,3]) # asigno el resultado\n",
        "print(resultado)"
      ]
    },
    {
      "cell_type": "code",
      "execution_count": 84,
      "metadata": {
        "id": "XU1ztvJk06rG"
      },
      "outputs": [],
      "source": [
        "def suma(a,b):\n",
        "    \"\"\"Esta función recibe dos numeros y devuelve la suma\"\"\"\n",
        "    return a+b"
      ]
    },
    {
      "cell_type": "code",
      "execution_count": 85,
      "metadata": {
        "id": "mjIeVQ8506rG",
        "outputId": "61b11863-7271-403a-ec10-97caf53f676d",
        "colab": {
          "base_uri": "https://localhost:8080/"
        }
      },
      "outputs": [
        {
          "output_type": "stream",
          "name": "stdout",
          "text": [
            "8\n"
          ]
        }
      ],
      "source": [
        "r = suma(3,5) # asigno el resultado\n",
        "print(r)"
      ]
    },
    {
      "cell_type": "code",
      "execution_count": 86,
      "metadata": {
        "id": "-PO6m6cF06rG"
      },
      "outputs": [],
      "source": [
        "def rango(lista):\n",
        "    return max(lista) - min(lista)"
      ]
    },
    {
      "cell_type": "code",
      "execution_count": 87,
      "metadata": {
        "id": "OohEOGlP06rG",
        "outputId": "2f0a451c-10aa-4a40-e302-9c6f7f716211",
        "colab": {
          "base_uri": "https://localhost:8080/"
        }
      },
      "outputs": [
        {
          "output_type": "execute_result",
          "data": {
            "text/plain": [
              "113"
            ]
          },
          "metadata": {},
          "execution_count": 87
        }
      ],
      "source": [
        "lista = [89, -24, 9, 2]\n",
        "rango(lista)"
      ]
    },
    {
      "cell_type": "markdown",
      "metadata": {
        "id": "mJ-ePNxd06rG"
      },
      "source": [
        "### Ejercicios:\n",
        "\n",
        "1- Escribir una función que reciba una lista con números y devuelva la suma de todos los pares\n",
        "\n",
        "2- Escribir una función que tome una lista con distintos elementos (de cualquier tipo) y devuelva una lista sólo con los últimos tres números que aparecen."
      ]
    },
    {
      "cell_type": "markdown",
      "metadata": {
        "id": "lyn-iq5z06rH"
      },
      "source": [
        "En las funciones existen argumentos se pueden pasar por posición o por su nombre. Algunos de los argumentos tienen un valor por default."
      ]
    },
    {
      "cell_type": "code",
      "execution_count": 88,
      "metadata": {
        "id": "CqhbBiOd06rH"
      },
      "outputs": [],
      "source": [
        "def unir_lista(lista, conector=' '):\n",
        "    \"\"\"Esta funcion recibe dos argumentos, una lista y un conector\n",
        "    y devuelve la lista unida usando el conector.\"\"\"\n",
        "\n",
        "    unida = conector.join([str(e) for e in lista])\n",
        "\n",
        "    return unida"
      ]
    },
    {
      "cell_type": "code",
      "execution_count": 90,
      "metadata": {
        "id": "FluQzzEI06rH",
        "outputId": "1159188d-b722-4b57-cd1f-510364dd5025",
        "colab": {
          "base_uri": "https://localhost:8080/",
          "height": 35
        }
      },
      "outputs": [
        {
          "output_type": "execute_result",
          "data": {
            "text/plain": [
              "'unir 3 cosas'"
            ],
            "application/vnd.google.colaboratory.intrinsic+json": {
              "type": "string"
            }
          },
          "metadata": {},
          "execution_count": 90
        }
      ],
      "source": [
        "unir_lista(['unir',3,'cosas'])"
      ]
    },
    {
      "cell_type": "code",
      "execution_count": 91,
      "metadata": {
        "id": "B3sptivq06rH",
        "outputId": "852c4a1a-c347-4dc3-c987-cbfbfb0106ef",
        "colab": {
          "base_uri": "https://localhost:8080/",
          "height": 35
        }
      },
      "outputs": [
        {
          "output_type": "execute_result",
          "data": {
            "text/plain": [
              "'probando,unir,lista,123'"
            ],
            "application/vnd.google.colaboratory.intrinsic+json": {
              "type": "string"
            }
          },
          "metadata": {},
          "execution_count": 91
        }
      ],
      "source": [
        "unir_lista(['probando', 'unir', 'lista', 123], conector = ',')"
      ]
    },
    {
      "cell_type": "markdown",
      "metadata": {
        "id": "Pd8ftl3D06rH"
      },
      "source": [
        "Lo que no podemos hacer es pasar el argumento nombrado antes de el o los posicionales"
      ]
    },
    {
      "cell_type": "code",
      "execution_count": 93,
      "metadata": {
        "id": "V3uVoQhr06rH",
        "outputId": "66d7dc9d-c931-48ab-839f-3e517f7ec470",
        "colab": {
          "base_uri": "https://localhost:8080/",
          "height": 35
        }
      },
      "outputs": [
        {
          "output_type": "execute_result",
          "data": {
            "text/plain": [
              "'probando,unir,lista,123'"
            ],
            "application/vnd.google.colaboratory.intrinsic+json": {
              "type": "string"
            }
          },
          "metadata": {},
          "execution_count": 93
        }
      ],
      "source": [
        "unir_lista(conector=',', lista=['probando', 'unir', 'lista', 123])"
      ]
    },
    {
      "cell_type": "markdown",
      "metadata": {
        "id": "fP8EB92k06rH"
      },
      "source": [
        "Cuando uso los argumentos por su nombre, puedo pasarlos en cualquier orden"
      ]
    },
    {
      "cell_type": "code",
      "execution_count": 94,
      "metadata": {
        "id": "HXxsfqlJ06rH",
        "outputId": "a43a96bc-055e-4eee-e817-cde5c0d3f37b",
        "colab": {
          "base_uri": "https://localhost:8080/",
          "height": 35
        }
      },
      "outputs": [
        {
          "output_type": "execute_result",
          "data": {
            "text/plain": [
              "'probando,unir,lista,123'"
            ],
            "application/vnd.google.colaboratory.intrinsic+json": {
              "type": "string"
            }
          },
          "metadata": {},
          "execution_count": 94
        }
      ],
      "source": [
        "unir_lista(conector = ',',lista = ['probando', 'unir', 'lista', 123])"
      ]
    },
    {
      "cell_type": "markdown",
      "metadata": {
        "id": "znNEfNCp06rH"
      },
      "source": [
        "Existen distintos tipos de argumentos, principalmente los llamados \"args\" y \"kwargs\", o argumentos y \"keyword arguments\" es decir argumentos nombrados."
      ]
    },
    {
      "cell_type": "markdown",
      "metadata": {
        "id": "KpqXo2jW06rH"
      },
      "source": [
        "También podemos tener un numero variable de argumentos, usando el symbolo *, por conveción al parámetro se le llama 'args'"
      ]
    },
    {
      "cell_type": "markdown",
      "metadata": {
        "id": "dlB2Qm6R06rH"
      },
      "source": [
        "Internamente, los elementos de *args se tratan como una tupla"
      ]
    },
    {
      "cell_type": "code",
      "execution_count": 95,
      "metadata": {
        "id": "6vk27Yvo06rH"
      },
      "outputs": [],
      "source": [
        "def suma_todos(*args):\n",
        "    print(type(args))\n",
        "    return sum(args)"
      ]
    },
    {
      "cell_type": "code",
      "execution_count": 96,
      "metadata": {
        "id": "800CEnIp06rH",
        "outputId": "76cde68c-b11a-42b0-8e3d-bc58aacac1a2",
        "colab": {
          "base_uri": "https://localhost:8080/"
        }
      },
      "outputs": [
        {
          "output_type": "stream",
          "name": "stdout",
          "text": [
            "<class 'tuple'>\n"
          ]
        },
        {
          "output_type": "execute_result",
          "data": {
            "text/plain": [
              "16"
            ]
          },
          "metadata": {},
          "execution_count": 96
        }
      ],
      "source": [
        "suma_todos(9,1,4,2)"
      ]
    },
    {
      "cell_type": "markdown",
      "metadata": {
        "id": "WZl1Epvq06rH"
      },
      "source": [
        "En cambio los elementos de **kwargs se tratan como un diccionario"
      ]
    },
    {
      "cell_type": "code",
      "execution_count": 97,
      "metadata": {
        "id": "zh3XT84506rH"
      },
      "outputs": [],
      "source": [
        "def consulta(**kwargs):\n",
        "    print(type(kwargs))\n",
        "    texto = f\"Su consulta es {kwargs['fecha']} a las {kwargs['hora']}\"\n",
        "    return texto"
      ]
    },
    {
      "cell_type": "code",
      "execution_count": 98,
      "metadata": {
        "id": "8s4aeSfC06rH",
        "outputId": "535cebd8-6c47-4f61-a961-7172fe2287e3",
        "colab": {
          "base_uri": "https://localhost:8080/",
          "height": 53
        }
      },
      "outputs": [
        {
          "output_type": "stream",
          "name": "stdout",
          "text": [
            "<class 'dict'>\n"
          ]
        },
        {
          "output_type": "execute_result",
          "data": {
            "text/plain": [
              "'Su consulta es hoy a las 4PM'"
            ],
            "application/vnd.google.colaboratory.intrinsic+json": {
              "type": "string"
            }
          },
          "metadata": {},
          "execution_count": 98
        }
      ],
      "source": [
        "consulta(fecha='hoy',hora='4PM')"
      ]
    },
    {
      "cell_type": "markdown",
      "metadata": {
        "id": "pU0Vq6KP06rH"
      },
      "source": [
        "Finalmente, podemos juntar todo lo visto en una misma función, es decir, tener argumentos sin nombre sin valor default, argumentos con valores default, args y kwargs. Esto es especialmente útil cuando necesitamos enviar args o kwargs a otras funciones usadas dentro de una función."
      ]
    },
    {
      "cell_type": "code",
      "execution_count": 99,
      "metadata": {
        "id": "qo7i6E_B06rH"
      },
      "outputs": [],
      "source": [
        "valor_consulta = {\"consulta\":10, \"arreglos_caries\":20, \"flúor\":15}"
      ]
    },
    {
      "cell_type": "code",
      "execution_count": 100,
      "metadata": {
        "id": "UKgduM7K06rH",
        "outputId": "43e59604-82c3-417d-c67d-0710953180e5",
        "colab": {
          "base_uri": "https://localhost:8080/"
        }
      },
      "outputs": [
        {
          "output_type": "execute_result",
          "data": {
            "text/plain": [
              "[10, 20, 15]"
            ]
          },
          "metadata": {},
          "execution_count": 100
        }
      ],
      "source": [
        "costos = list(valor_consulta.values())\n",
        "costos"
      ]
    },
    {
      "cell_type": "code",
      "execution_count": 101,
      "metadata": {
        "id": "aH7meqqt06rH"
      },
      "outputs": [],
      "source": [
        "def emitir_factura(nombre, dni, tipo=\"DNI\", *args, **kwargs):\n",
        "    factura = \"\"\n",
        "    factura += f\"Gracias por su visita Nombre:{nombre} \\n\"\n",
        "    factura += f\"{tipo} {dni} \\n\"\n",
        "    costo = suma_todos(*args) # hago unpacking de args\n",
        "    factura += f\"El costo es {costo} \\n\"\n",
        "    factura += consulta(**kwargs) # hago unpacking de kwargs\n",
        "    return factura"
      ]
    },
    {
      "cell_type": "code",
      "execution_count": 102,
      "metadata": {
        "id": "nApRnwNS06rI",
        "outputId": "d6a4b137-4034-45b9-ddb7-611ea1346f9a",
        "colab": {
          "base_uri": "https://localhost:8080/"
        }
      },
      "outputs": [
        {
          "output_type": "stream",
          "name": "stdout",
          "text": [
            "<class 'tuple'>\n",
            "<class 'dict'>\n"
          ]
        }
      ],
      "source": [
        "factura = emitir_factura(\"Obi Wan\", 370310455, \"DNI\", *costos, fecha=\"hoy\", hora=\"5PM\")"
      ]
    },
    {
      "cell_type": "code",
      "execution_count": 103,
      "metadata": {
        "id": "DePSi-mv06rI",
        "outputId": "1ed02c49-de91-4a1c-a0a1-edb2637f0115",
        "colab": {
          "base_uri": "https://localhost:8080/"
        }
      },
      "outputs": [
        {
          "output_type": "stream",
          "name": "stdout",
          "text": [
            "Gracias por su visita Nombre:Obi Wan \n",
            "DNI 370310455 \n",
            "El costo es 45 \n",
            "Su consulta es hoy a las 5PM\n"
          ]
        }
      ],
      "source": [
        "print(factura)"
      ]
    },
    {
      "cell_type": "code",
      "execution_count": null,
      "metadata": {
        "id": "Lwb74fDN06rI"
      },
      "outputs": [],
      "source": []
    }
  ],
  "metadata": {
    "kernelspec": {
      "display_name": "Python (base)",
      "language": "python",
      "name": "base"
    },
    "language_info": {
      "codemirror_mode": {
        "name": "ipython",
        "version": 3
      },
      "file_extension": ".py",
      "mimetype": "text/x-python",
      "name": "python",
      "nbconvert_exporter": "python",
      "pygments_lexer": "ipython3",
      "version": "3.7.3"
    },
    "colab": {
      "provenance": [],
      "include_colab_link": true
    }
  },
  "nbformat": 4,
  "nbformat_minor": 0
}