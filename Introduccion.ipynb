{
  "cells": [
    {
      "cell_type": "markdown",
      "metadata": {
        "id": "view-in-github",
        "colab_type": "text"
      },
      "source": [
        "<a href=\"https://colab.research.google.com/github/Viny2030/HUMAI/blob/main/Introduccion.ipynb\" target=\"_parent\"><img src=\"https://colab.research.google.com/assets/colab-badge.svg\" alt=\"Open In Colab\"/></a>"
      ]
    },
    {
      "cell_type": "markdown",
      "metadata": {
        "id": "tNWLqlg7AQsF"
      },
      "source": [
        "<a href=\"https://colab.research.google.com/github/institutohumai/cursos-python/blob/master/NLP/1_Introduccion/Introduccion.ipynb\"> <img src='https://colab.research.google.com/assets/colab-badge.svg' /> </a>"
      ]
    },
    {
      "cell_type": "markdown",
      "metadata": {
        "id": "VKH84FQgSJq6"
      },
      "source": [
        "## TOKENIZACION DIVIDIR EL TEXTO EN PALABRAS\n",
        "## TOKEN UNIDAD MAS BASICA EN NLP\n",
        "## COMO ABORDAN ESTO LOS ALGORITMOS\n",
        "## NORMALIZACION LLEVAR UN ESPACIO VARIADO A UN ESPACIO TIPIFICADO\n",
        "## TRANSFORMACIONES A LOS TEXTOS QUE DISMINUYAN LAS FUENTES DE VARIABILIDAD\n",
        "## PARA PODER IDENTIFICAR INSTANCIAS DEL MISMO SIGNIFICADO\n",
        "## SACAR ESPACIOS, TILDES, REDUCIR A MINUSCULAS\n",
        "## LIBRERIA UNIDECODE HABRA MODELOS QUE NO NECESITA N HACER ESO\n",
        "## .LOWER MINUSCULA .SPLIT('')\n",
        "## SE PUEDEN HACER OTRAS NORMALIZACIONES VAN A SER MAS SOFISTICADAS, SINGULAR A PLURA , A OTRO GENERO, MAS SOFISTICADO CONOCIMIENTO DE LENGUAJE, CONJUGAR VERBOS EN INFINITIVO, BASE DE VERBOS O SISTEMA QUE PUEDEN HACER ESTO\n",
        "## TODO ESTO SE HACE PARA QUE FUNCIONE BIEN EL ALGORITMO\n",
        "## REGEX EXPRESIONES REGULARES , NOS PERMITE HACER BUSQUEDA EN STRINGS, PATRON DE BUSQUEDA, NOS PERMITE , EXTRAER DATOS DE HACER BUSQUEDA, MINERIA, WERB SCRAPPING, LIMPIEZA"
      ]
    },
    {
      "cell_type": "markdown",
      "metadata": {
        "id": "75kmJv70LfUY"
      },
      "source": [
        "# Procesamiento de Lenguaje Natural (NLP)\n",
        "\n"
      ]
    },
    {
      "cell_type": "code",
      "execution_count": null,
      "metadata": {
        "colab": {
          "background_save": true
        },
        "id": "sp_Fxu6FNRz6"
      },
      "outputs": [],
      "source": [
        "#@title Preparamos Dataset de Medios de Latinoamérica\n",
        "%%capture\n",
        "!pip install datasets\n",
        "import pandas as pd\n",
        "from datasets import load_dataset\n",
        "\n",
        "data = [] # Changed to a list to store DataFrames\n",
        "configs = ['ar', 'bo', 'br', 'cl', 'co', 'cr', 'gt', 'hn', 'mx', 'ni', 'pa', 'pe', 'pr', 'py', 'sv', 'uy', 've'] # 'com', 'es'\n",
        "for c in configs:\n",
        "  data_ = load_dataset(\"LeoCordoba/CC-NEWS-ES\", c)\n",
        "  data.append(data_['train'].to_pandas()) # Appending each DataFrame to the list\n",
        "\n",
        "data = pd.concat(data, ignore_index=True) # Concatenating all DataFrames in the list\n",
        "# Hacemos \"downsampling\" tomando maximo n_min para\n",
        "# los grupos que tienen > n_min, y todos para los que tienen menos\n",
        "n_min = 1000\n",
        "df_grouped = data.groupby(\"country\")\n",
        "df_grouped.groups.values()\n",
        "frames_of_groups = [x.sample(n_min) if x.shape[0] > n_min else x for y, x in df_grouped]\n",
        "data = pd.concat(frames_of_groups)"
      ]
    },
    {
      "cell_type": "code",
      "execution_count": null,
      "metadata": {
        "colab": {
          "background_save": true
        },
        "id": "-Jvv5qO15vvu",
        "outputId": "1b305e77-a7ab-4b21-da52-040b1ea459f1"
      },
      "outputs": [
        {
          "name": "stdout",
          "output_type": "stream",
          "text": [
            "15561\n"
          ]
        },
        {
          "data": {
            "application/vnd.google.colaboratory.intrinsic+json": {
              "summary": "{\n  \"name\": \"data\",\n  \"rows\": 2,\n  \"fields\": [\n    {\n      \"column\": \"country\",\n      \"properties\": {\n        \"dtype\": \"string\",\n        \"num_unique_values\": 2,\n        \"samples\": [\n          \"cl\",\n          \"pr\"\n        ],\n        \"semantic_type\": \"\",\n        \"description\": \"\"\n      }\n    },\n    {\n      \"column\": \"text\",\n      \"properties\": {\n        \"dtype\": \"string\",\n        \"num_unique_values\": 2,\n        \"samples\": [\n          \"Chanchullos en la pol\\u00edtica, en la administraci\\u00f3n p\\u00fablica, en los negocios, en los tribunales, en el ej\\u00e9rcito, en la polic\\u00eda, en los municipios, en las universidades, etc. Hasta ahora cre\\u00edamos que los m\\u00e1s grandes chanchullos son los que cometen los grandes empresarios que evaden impuestos y transfieren sus ganancias a para\\u00edsos fiscales.\\tPero no, a\\u00fan faltaba el Gran Chanchullo, el chanchullo hist\\u00f3rico, ese que pretende pasar por el aro a todo el pa\\u00eds. Finalmente ya lo tenemos. Lo est\\u00e1 cometiendo la casta pol\\u00edtica que intenta hacer caer a los ciudadanos y ciudadanas en la trampa de una \\u201cConvenci\\u00f3n Constituyente\\u201d amarrada de pies y manos, incapaz de cambiar nada y cuyas resoluciones estar\\u00e1n ama\\u00f1adas desde ahora por los titiriteros de la pol\\u00edtica.\\tLo que el pueblo exige desde hace dos meses en las calles -a costa de crueles violaciones de sus derechos humanos- es una Asamblea Constituyente independiente y soberana. Una Asamblea con las manos libres para redactar y proponer una nueva Constituci\\u00f3n Pol\\u00edtica sin el \\u201cpeso de la noche\\u201d de los intereses olig\\u00e1rquicos que administran este pa\\u00eds como un feudo.\\tUna Asamblea Constituyente como la que exige el pueblo rebelde desde el 18 de octubre, permitir\\u00eda que por primera vez en nuestra historia republicana \\u2013plagada de guerras civiles, golpes de estado, dictaduras, masacres obreras, cr\\u00edmenes pol\\u00edticos, desigualdad social y racial, y menguadas democracias- la Constituci\\u00f3n Pol\\u00edtica, madre de todas las leyes y de las instituciones civiles y militares, fuese escrita por la mano segura y el genio fraterno del pueblo chileno.\\tPero la casta pol\\u00edtica no pod\\u00eda permitir que se concretara ese anhelo. Moros y cristianos -entre ellos quiz\\u00e1s tambi\\u00e9n un par de bobos despistados- se confabularon el 15 de noviembre para parir un engendro al que bautizaron \\u201cAcuerdo por la Paz Social y Nueva Constituci\\u00f3n\\u201d. Es el t\\u00edpico documento hip\\u00f3crita y sibilino de nuestra casta pol\\u00edtica. Bajo la apariencia de ceder a las demandas del pueblo insurreccionado, lo que en verdad hace es cerrar el camino a una Asamblea Constituyente independiente y soberana. El mecanismo fue perfeccionado por una \\u201ccomisi\\u00f3n t\\u00e9cnica\\u201d de los c\\u00f3mplices de la operaci\\u00f3n. Finalmente ese balurdo -otro fruto de la inagotable astucia de la oligarqu\\u00eda chilena- ser\\u00e1 santificado por el Congreso, promulgado como reforma constitucional y puesto en pr\\u00e1ctica a partir del plebiscito del 26 de abril.\\tLos conspiradores ni siquiera concedieron que la Asamblea Constituyente se llamara como tal. Su chanchullo se denomina \\u201cConvenci\\u00f3n Constitucional\\u201d. Le tuvieron miedo hasta al nombre del momento estelar de la soberan\\u00eda de los pueblos que es la Asamblea Constituyente. As\\u00ed se llam\\u00f3 la que en 1789 proclam\\u00f3 en Francia los Derechos del Hombre y del Ciudadano, y as\\u00ed se han llamado las que siguieron construyendo la historia universal de la democracia.\\tLa colosal estafa en curso pretende que los chilenos aceptemos pasivamente una \\u201cConvenci\\u00f3n Constituyente\\u201d carente de toda independencia para hacer su trabajo. Los partidos que la prohijaron ostentan r\\u00e9cords de desprestigio y lo mismo el Congreso que le dar\\u00e1 los zurcidos finales. La forma en que ha sido planificada permite anticipar lo que la Convenci\\u00f3n podr\\u00e1 o no hacer y qu\\u00e9 materias decidir\\u00e1 sin chocar con el qu\\u00f3rum de los dos tercios. Los vericuetos y t\\u00faneles habituales del quehacer parlamentario y la valla insalvable del qu\\u00f3rum, har\\u00e1n que los escasos convencionales independientes no tengan posibilidad ninguna de imponer los cambios que Chile pide a gritos en las calles. Los detalles de instalaci\\u00f3n de la Convenci\\u00f3n, la forma para elegir sus autoridades, las modalidades de trabajo, etc., todo ha sido previsto. Los partidos que intentan escamotear al pueblo su derecho a decidir el contenido de la nueva Constituci\\u00f3n, lo han previsto todo, con la minuciosidad que exigen los grandes cr\\u00edmenes pol\\u00edticos de la historia.\",\n          \"En el mensaje que comparte junto a una noticia de la muerte de su padre en Facebook, la hija de Carlos Jos\\u00e9 Correa Reyes asesinado el fin de semana en Salinas, le expres\\u00f3 a Rodr\\u00edguez que aceptaba su perd\\u00f3n, y que sin importar el comentario de los dem\\u00e1s siempre le apoyar\\u00e1 \\\"porque t\\u00fa te defendiste\\\".\"\n        ],\n        \"semantic_type\": \"\",\n        \"description\": \"\"\n      }\n    },\n    {\n      \"column\": \"id\",\n      \"properties\": {\n        \"dtype\": \"int32\",\n        \"num_unique_values\": 2,\n        \"samples\": [\n          634791,\n          7322269\n        ],\n        \"semantic_type\": \"\",\n        \"description\": \"\"\n      }\n    }\n  ]\n}",
              "type": "dataframe"
            },
            "text/html": [
              "\n",
              "  <div id=\"df-52cc8ddd-cfb0-4cd8-94cc-9226146656f6\" class=\"colab-df-container\">\n",
              "    <div>\n",
              "<style scoped>\n",
              "    .dataframe tbody tr th:only-of-type {\n",
              "        vertical-align: middle;\n",
              "    }\n",
              "\n",
              "    .dataframe tbody tr th {\n",
              "        vertical-align: top;\n",
              "    }\n",
              "\n",
              "    .dataframe thead th {\n",
              "        text-align: right;\n",
              "    }\n",
              "</style>\n",
              "<table border=\"1\" class=\"dataframe\">\n",
              "  <thead>\n",
              "    <tr style=\"text-align: right;\">\n",
              "      <th></th>\n",
              "      <th>country</th>\n",
              "      <th>text</th>\n",
              "      <th>id</th>\n",
              "    </tr>\n",
              "  </thead>\n",
              "  <tbody>\n",
              "    <tr>\n",
              "      <th>1760033</th>\n",
              "      <td>pr</td>\n",
              "      <td>En el mensaje que comparte junto a una noticia...</td>\n",
              "      <td>7322269</td>\n",
              "    </tr>\n",
              "    <tr>\n",
              "      <th>634790</th>\n",
              "      <td>cl</td>\n",
              "      <td>Chanchullos en la política, en la administraci...</td>\n",
              "      <td>634791</td>\n",
              "    </tr>\n",
              "  </tbody>\n",
              "</table>\n",
              "</div>\n",
              "    <div class=\"colab-df-buttons\">\n",
              "\n",
              "  <div class=\"colab-df-container\">\n",
              "    <button class=\"colab-df-convert\" onclick=\"convertToInteractive('df-52cc8ddd-cfb0-4cd8-94cc-9226146656f6')\"\n",
              "            title=\"Convert this dataframe to an interactive table.\"\n",
              "            style=\"display:none;\">\n",
              "\n",
              "  <svg xmlns=\"http://www.w3.org/2000/svg\" height=\"24px\" viewBox=\"0 -960 960 960\">\n",
              "    <path d=\"M120-120v-720h720v720H120Zm60-500h600v-160H180v160Zm220 220h160v-160H400v160Zm0 220h160v-160H400v160ZM180-400h160v-160H180v160Zm440 0h160v-160H620v160ZM180-180h160v-160H180v160Zm440 0h160v-160H620v160Z\"/>\n",
              "  </svg>\n",
              "    </button>\n",
              "\n",
              "  <style>\n",
              "    .colab-df-container {\n",
              "      display:flex;\n",
              "      gap: 12px;\n",
              "    }\n",
              "\n",
              "    .colab-df-convert {\n",
              "      background-color: #E8F0FE;\n",
              "      border: none;\n",
              "      border-radius: 50%;\n",
              "      cursor: pointer;\n",
              "      display: none;\n",
              "      fill: #1967D2;\n",
              "      height: 32px;\n",
              "      padding: 0 0 0 0;\n",
              "      width: 32px;\n",
              "    }\n",
              "\n",
              "    .colab-df-convert:hover {\n",
              "      background-color: #E2EBFA;\n",
              "      box-shadow: 0px 1px 2px rgba(60, 64, 67, 0.3), 0px 1px 3px 1px rgba(60, 64, 67, 0.15);\n",
              "      fill: #174EA6;\n",
              "    }\n",
              "\n",
              "    .colab-df-buttons div {\n",
              "      margin-bottom: 4px;\n",
              "    }\n",
              "\n",
              "    [theme=dark] .colab-df-convert {\n",
              "      background-color: #3B4455;\n",
              "      fill: #D2E3FC;\n",
              "    }\n",
              "\n",
              "    [theme=dark] .colab-df-convert:hover {\n",
              "      background-color: #434B5C;\n",
              "      box-shadow: 0px 1px 3px 1px rgba(0, 0, 0, 0.15);\n",
              "      filter: drop-shadow(0px 1px 2px rgba(0, 0, 0, 0.3));\n",
              "      fill: #FFFFFF;\n",
              "    }\n",
              "  </style>\n",
              "\n",
              "    <script>\n",
              "      const buttonEl =\n",
              "        document.querySelector('#df-52cc8ddd-cfb0-4cd8-94cc-9226146656f6 button.colab-df-convert');\n",
              "      buttonEl.style.display =\n",
              "        google.colab.kernel.accessAllowed ? 'block' : 'none';\n",
              "\n",
              "      async function convertToInteractive(key) {\n",
              "        const element = document.querySelector('#df-52cc8ddd-cfb0-4cd8-94cc-9226146656f6');\n",
              "        const dataTable =\n",
              "          await google.colab.kernel.invokeFunction('convertToInteractive',\n",
              "                                                    [key], {});\n",
              "        if (!dataTable) return;\n",
              "\n",
              "        const docLinkHtml = 'Like what you see? Visit the ' +\n",
              "          '<a target=\"_blank\" href=https://colab.research.google.com/notebooks/data_table.ipynb>data table notebook</a>'\n",
              "          + ' to learn more about interactive tables.';\n",
              "        element.innerHTML = '';\n",
              "        dataTable['output_type'] = 'display_data';\n",
              "        await google.colab.output.renderOutput(dataTable, element);\n",
              "        const docLink = document.createElement('div');\n",
              "        docLink.innerHTML = docLinkHtml;\n",
              "        element.appendChild(docLink);\n",
              "      }\n",
              "    </script>\n",
              "  </div>\n",
              "\n",
              "\n",
              "<div id=\"df-ae73f879-f401-475e-90c8-debefa00681d\">\n",
              "  <button class=\"colab-df-quickchart\" onclick=\"quickchart('df-ae73f879-f401-475e-90c8-debefa00681d')\"\n",
              "            title=\"Suggest charts\"\n",
              "            style=\"display:none;\">\n",
              "\n",
              "<svg xmlns=\"http://www.w3.org/2000/svg\" height=\"24px\"viewBox=\"0 0 24 24\"\n",
              "     width=\"24px\">\n",
              "    <g>\n",
              "        <path d=\"M19 3H5c-1.1 0-2 .9-2 2v14c0 1.1.9 2 2 2h14c1.1 0 2-.9 2-2V5c0-1.1-.9-2-2-2zM9 17H7v-7h2v7zm4 0h-2V7h2v10zm4 0h-2v-4h2v4z\"/>\n",
              "    </g>\n",
              "</svg>\n",
              "  </button>\n",
              "\n",
              "<style>\n",
              "  .colab-df-quickchart {\n",
              "      --bg-color: #E8F0FE;\n",
              "      --fill-color: #1967D2;\n",
              "      --hover-bg-color: #E2EBFA;\n",
              "      --hover-fill-color: #174EA6;\n",
              "      --disabled-fill-color: #AAA;\n",
              "      --disabled-bg-color: #DDD;\n",
              "  }\n",
              "\n",
              "  [theme=dark] .colab-df-quickchart {\n",
              "      --bg-color: #3B4455;\n",
              "      --fill-color: #D2E3FC;\n",
              "      --hover-bg-color: #434B5C;\n",
              "      --hover-fill-color: #FFFFFF;\n",
              "      --disabled-bg-color: #3B4455;\n",
              "      --disabled-fill-color: #666;\n",
              "  }\n",
              "\n",
              "  .colab-df-quickchart {\n",
              "    background-color: var(--bg-color);\n",
              "    border: none;\n",
              "    border-radius: 50%;\n",
              "    cursor: pointer;\n",
              "    display: none;\n",
              "    fill: var(--fill-color);\n",
              "    height: 32px;\n",
              "    padding: 0;\n",
              "    width: 32px;\n",
              "  }\n",
              "\n",
              "  .colab-df-quickchart:hover {\n",
              "    background-color: var(--hover-bg-color);\n",
              "    box-shadow: 0 1px 2px rgba(60, 64, 67, 0.3), 0 1px 3px 1px rgba(60, 64, 67, 0.15);\n",
              "    fill: var(--button-hover-fill-color);\n",
              "  }\n",
              "\n",
              "  .colab-df-quickchart-complete:disabled,\n",
              "  .colab-df-quickchart-complete:disabled:hover {\n",
              "    background-color: var(--disabled-bg-color);\n",
              "    fill: var(--disabled-fill-color);\n",
              "    box-shadow: none;\n",
              "  }\n",
              "\n",
              "  .colab-df-spinner {\n",
              "    border: 2px solid var(--fill-color);\n",
              "    border-color: transparent;\n",
              "    border-bottom-color: var(--fill-color);\n",
              "    animation:\n",
              "      spin 1s steps(1) infinite;\n",
              "  }\n",
              "\n",
              "  @keyframes spin {\n",
              "    0% {\n",
              "      border-color: transparent;\n",
              "      border-bottom-color: var(--fill-color);\n",
              "      border-left-color: var(--fill-color);\n",
              "    }\n",
              "    20% {\n",
              "      border-color: transparent;\n",
              "      border-left-color: var(--fill-color);\n",
              "      border-top-color: var(--fill-color);\n",
              "    }\n",
              "    30% {\n",
              "      border-color: transparent;\n",
              "      border-left-color: var(--fill-color);\n",
              "      border-top-color: var(--fill-color);\n",
              "      border-right-color: var(--fill-color);\n",
              "    }\n",
              "    40% {\n",
              "      border-color: transparent;\n",
              "      border-right-color: var(--fill-color);\n",
              "      border-top-color: var(--fill-color);\n",
              "    }\n",
              "    60% {\n",
              "      border-color: transparent;\n",
              "      border-right-color: var(--fill-color);\n",
              "    }\n",
              "    80% {\n",
              "      border-color: transparent;\n",
              "      border-right-color: var(--fill-color);\n",
              "      border-bottom-color: var(--fill-color);\n",
              "    }\n",
              "    90% {\n",
              "      border-color: transparent;\n",
              "      border-bottom-color: var(--fill-color);\n",
              "    }\n",
              "  }\n",
              "</style>\n",
              "\n",
              "  <script>\n",
              "    async function quickchart(key) {\n",
              "      const quickchartButtonEl =\n",
              "        document.querySelector('#' + key + ' button');\n",
              "      quickchartButtonEl.disabled = true;  // To prevent multiple clicks.\n",
              "      quickchartButtonEl.classList.add('colab-df-spinner');\n",
              "      try {\n",
              "        const charts = await google.colab.kernel.invokeFunction(\n",
              "            'suggestCharts', [key], {});\n",
              "      } catch (error) {\n",
              "        console.error('Error during call to suggestCharts:', error);\n",
              "      }\n",
              "      quickchartButtonEl.classList.remove('colab-df-spinner');\n",
              "      quickchartButtonEl.classList.add('colab-df-quickchart-complete');\n",
              "    }\n",
              "    (() => {\n",
              "      let quickchartButtonEl =\n",
              "        document.querySelector('#df-ae73f879-f401-475e-90c8-debefa00681d button');\n",
              "      quickchartButtonEl.style.display =\n",
              "        google.colab.kernel.accessAllowed ? 'block' : 'none';\n",
              "    })();\n",
              "  </script>\n",
              "</div>\n",
              "\n",
              "    </div>\n",
              "  </div>\n"
            ],
            "text/plain": [
              "        country                                               text       id\n",
              "1760033      pr  En el mensaje que comparte junto a una noticia...  7322269\n",
              "634790       cl  Chanchullos en la política, en la administraci...   634791"
            ]
          },
          "execution_count": 2,
          "metadata": {},
          "output_type": "execute_result"
        }
      ],
      "source": [
        "# Ejecutar la celda de arriba para preparar los datos\n",
        "print(data.shape[0])\n",
        "data.sample(2)"
      ]
    },
    {
      "cell_type": "markdown",
      "metadata": {
        "id": "75mfEJiAKTu6"
      },
      "source": [
        "### Definición"
      ]
    },
    {
      "cell_type": "markdown",
      "metadata": {
        "id": "_L0keaB9KXfI"
      },
      "source": [
        "\n",
        "El Procesamiento de Lenguaje Natural (NLP por sus siglas en inglés, **Natural Language Processing**) es un campo compartido entre Lingüística y la Computación, incluyendo al Aprendizaje Automático (ML).\n",
        "\n",
        "Busca, como su nombre lo dice, aplicar sobre el lenguaje natural con herramientas algorítmicas para extraer información, categorizar, traducir, entre otras tareas con el objetivo de fondo el objetivo es lograr que las computadoras \"comprendan\" el lenguaje,\n",
        "\n",
        "Puede, o no, usar aprendizaje automático: computar las N palabras más frecuentes en un texto por ejemplo, sería un proceso básico de NLP, que no utiliza ML."
      ]
    },
    {
      "cell_type": "markdown",
      "metadata": {
        "id": "kM5HEqEIKUGG"
      },
      "source": [
        "### Tareas Importantes"
      ]
    },
    {
      "cell_type": "markdown",
      "metadata": {
        "id": "qNOzO7EGKUIc"
      },
      "source": [
        "- Traducción de habla a escritura: la conversión de los fonemas en un audio a su representación escrita (grafema)\n",
        "\n",
        "- Clasificación:\n",
        "  - Clasificar oraciones enteras: detectar si un E-mail es spam o no, determinar si una oración es gramaticalmente correcta, análisis de sentimiento, moderación de ofensas, etc.\n",
        "\n",
        "  - Clasificar cada palabra en una oración: identificar los componentes gramaticales (sustantivo, adjetivo, verbo) o las entidades mencionadas (persona, lugar, organización)\n",
        "\n",
        "  - Modelado de Tópicos, usado mucho en *social listening*.\n",
        "\n",
        "- Generación de texto:\n",
        "  - Generar texto: generar copy para publicidades, escribir noticias, conversar, arte, etc.\n",
        "\n",
        "  - Resumen abstractivo / resumen extractivo: Extraer de una respuesta de un texto: responder una pregunta dada en base al contexto\n",
        "\n",
        "  - Traducción: Traducir un texto de un idioma a otro o de un estilo a otro (style transfer)\n",
        "\n",
        "- Agentes de Diálogo: asistentes virtuales, atención al cliente, chatbots orientados a tareas específicas.\n",
        "\n",
        "Los dominios de aplicación de estas tecnologías son innumerables, yendo desde aplicaciones triviales hasta aplicaciones como [*Speech2face*](https://speech2face.github.io/)\n",
        "\n",
        "<center><img src=\"https://speech2face.github.io/images/teaser_side.jpg\" alt=\"Paris\" align=\"center\" width=\"300px\" style=\"text-align:center;\"></center>"
      ]
    },
    {
      "cell_type": "markdown",
      "metadata": {
        "id": "6x8dMANDKbVf"
      },
      "source": [
        "# Métodos tradicionales del NLP\n",
        "\n",
        "En las próximas clases se verá el *estado del arte* basado en Aprendizaje Profundo. Sin embargo, existe un gran repertorio de técnicas más allá de eso. Conocerlas nos servirá para entender esas herramientas, y en muchas ocasiones estas técnicas tradicionales son un buen complemento para preparación y limpieza de datos, o incluso pueden ser la solución deseada si una red neuronal pesada no es conveniente.\n",
        "\n",
        "Las próximas clases se centrarán en redes usando PyTorch. Hoy conoceremos las siguientes técnias y liberías:\n",
        "\n",
        "Herramientas de NLP que veremos:\n",
        " - Expresiones Regulares con `re`\n",
        " - Búsqueda difusa de string con `thefuzz`\n",
        "\n",
        "Procesos de normalización, preprocesamiento:\n",
        " - *Stemming* con `nltk`\n",
        " - *Lemmatización* con `spacy`\n",
        " - *Stop Words*\n",
        "\n",
        "Modos de representación:\n",
        " - Bolsa de Palabras y\n",
        " - TF-IDF `con sklearn`\n"
      ]
    },
    {
      "cell_type": "markdown",
      "metadata": {
        "id": "giOXzHQl57NM"
      },
      "source": [
        "### Tokenización"
      ]
    },
    {
      "cell_type": "markdown",
      "metadata": {
        "id": "AgxW5OKgxvi5"
      },
      "source": [
        "Quizás una de las operaciones más básicas que podemos hacer es contar palabras. Imaginemos un caso extremadamente sencillo relacionado al aprendizaje automático. Pensemos en un **clasificador de positividad / negatividad**.\n",
        "\n",
        "Podríamos usar una regla como:\n",
        "\n",
        "```si \"bueno\" está en el texto, clasificamos como positivo```.\n",
        "\n",
        "Claramente un enfoque tan sencillo va a ser propenso a muchos errores. Iremos viendo cómo aplicarlo y mejorarlo.\n",
        "\n",
        "La operación de separar los textos en unidades básicas (o ***tokens***) la llamamos ***tokenización***."
      ]
    },
    {
      "cell_type": "code",
      "execution_count": null,
      "metadata": {
        "colab": {
          "background_save": true
        },
        "id": "IksMesuyYmvj"
      },
      "outputs": [],
      "source": [
        "doc1=\"Jane bought me these books.Jane bought a book for me.She dropped a line to him. Thank you.She sleeps.I sleep a lot.I was born in Madrid the cat was chased by the dog.I was born in Madrid during 1995.Out of all this , something good will come.Susan left afterthe rehearsal. She did it well.She sleeps during the morning, but she sleeps.\""
      ]
    },
    {
      "cell_type": "code",
      "execution_count": null,
      "metadata": {
        "colab": {
          "background_save": true
        },
        "id": "_LU7f80-ZD_n",
        "outputId": "908ed025-3f88-44a9-e1fb-00b7c6506877"
      },
      "outputs": [
        {
          "data": {
            "text/plain": [
              "['Jane',\n",
              " 'bought',\n",
              " 'me',\n",
              " 'these',\n",
              " 'books.Jane',\n",
              " 'bought',\n",
              " 'a',\n",
              " 'book',\n",
              " 'for',\n",
              " 'me.She',\n",
              " 'dropped',\n",
              " 'a',\n",
              " 'line',\n",
              " 'to',\n",
              " 'him.',\n",
              " 'Thank',\n",
              " 'you.She',\n",
              " 'sleeps.I',\n",
              " 'sleep',\n",
              " 'a',\n",
              " 'lot.I',\n",
              " 'was',\n",
              " 'born',\n",
              " 'in',\n",
              " 'Madrid',\n",
              " 'the',\n",
              " 'cat',\n",
              " 'was',\n",
              " 'chased',\n",
              " 'by',\n",
              " 'the',\n",
              " 'dog.I',\n",
              " 'was',\n",
              " 'born',\n",
              " 'in',\n",
              " 'Madrid',\n",
              " 'during',\n",
              " '1995.Out',\n",
              " 'of',\n",
              " 'all',\n",
              " 'this',\n",
              " ',',\n",
              " 'something',\n",
              " 'good',\n",
              " 'will',\n",
              " 'come.Susan',\n",
              " 'left',\n",
              " 'afterthe',\n",
              " 'rehearsal.',\n",
              " 'She',\n",
              " 'did',\n",
              " 'it',\n",
              " 'well.She',\n",
              " 'sleeps',\n",
              " 'during',\n",
              " 'the',\n",
              " 'morning,',\n",
              " 'but',\n",
              " 'she',\n",
              " 'sleeps.']"
            ]
          },
          "execution_count": 4,
          "metadata": {},
          "output_type": "execute_result"
        }
      ],
      "source": [
        "doc1.split(' ') ##  tokenizacion"
      ]
    },
    {
      "cell_type": "code",
      "execution_count": null,
      "metadata": {
        "colab": {
          "background_save": true
        },
        "id": "G1T_WHRo37qj",
        "outputId": "19cfb2f0-5936-4ce7-f071-ac25b5cf4ae1"
      },
      "outputs": [
        {
          "data": {
            "text/plain": [
              "['Usualmente,',\n",
              " 'existe',\n",
              " 'una',\n",
              " 'relación',\n",
              " 'costo-beneficio',\n",
              " 'entre',\n",
              " 'las',\n",
              " 'distintas',\n",
              " 'técnicas.']"
            ]
          },
          "execution_count": 5,
          "metadata": {},
          "output_type": "execute_result"
        }
      ],
      "source": [
        "doc2 = 'Usualmente, existe una relación costo-beneficio entre las distintas técnicas.'\n",
        "doc2.split(' ') ## divide por espacios vacios devuelve lista"
      ]
    },
    {
      "cell_type": "markdown",
      "metadata": {
        "id": "AdWVd-YUPKz9"
      },
      "source": [
        "Vemos que en castellano, el lenguaje natural (escrito) puede tener distintas fuentes de variaciones:\n",
        " - Mayúsculas\n",
        " - Tildes\n",
        " - Signos ortográficos\n",
        " - Errores de tipeo\n",
        " - Variaciones propias del lenguaje como la conjugación\n",
        " - Artefactos de la escritura informal como \"holaaa\"\n",
        "\n",
        "¿Cómo abordarán esto nuestros algorítmos?\n",
        "\n",
        "Una solución es la **normalización**: con acepción similar aunque distinta a la que usamos en estadística, va a significar transformar a los strings a representaciones iguales.\n",
        "\n",
        "Podemos:\n",
        "- Sacar espacios\n",
        "- Pasar a minúsculas\n",
        "- Quitar tildes"
      ]
    },
    {
      "cell_type": "code",
      "execution_count": null,
      "metadata": {
        "colab": {
          "background_save": true
        },
        "id": "3Rvt1S7VoMHa"
      },
      "outputs": [],
      "source": [
        "%%capture\n",
        "!pip install unidecode"
      ]
    },
    {
      "cell_type": "code",
      "execution_count": null,
      "metadata": {
        "colab": {
          "background_save": true
        },
        "id": "cCfALy12aM1b",
        "outputId": "4d3a7929-a587-416b-b1f9-0c1c1e608d6e"
      },
      "outputs": [
        {
          "data": {
            "text/plain": [
              "['jane',\n",
              " 'bought',\n",
              " 'me',\n",
              " 'these',\n",
              " 'books.jane',\n",
              " 'bought',\n",
              " 'a',\n",
              " 'book',\n",
              " 'for',\n",
              " 'me.she',\n",
              " 'dropped',\n",
              " 'a',\n",
              " 'line',\n",
              " 'to',\n",
              " 'him.',\n",
              " 'thank',\n",
              " 'you.she',\n",
              " 'sleeps.i',\n",
              " 'sleep',\n",
              " 'a',\n",
              " 'lot.i',\n",
              " 'was',\n",
              " 'born',\n",
              " 'in',\n",
              " 'madrid',\n",
              " 'the',\n",
              " 'cat',\n",
              " 'was',\n",
              " 'chased',\n",
              " 'by',\n",
              " 'the',\n",
              " 'dog.i',\n",
              " 'was',\n",
              " 'born',\n",
              " 'in',\n",
              " 'madrid',\n",
              " 'during',\n",
              " '1995.out',\n",
              " 'of',\n",
              " 'all',\n",
              " 'this',\n",
              " ',',\n",
              " 'something',\n",
              " 'good',\n",
              " 'will',\n",
              " 'come.susan',\n",
              " 'left',\n",
              " 'afterthe',\n",
              " 'rehearsal.',\n",
              " 'she',\n",
              " 'did',\n",
              " 'it',\n",
              " 'well.she',\n",
              " 'sleeps',\n",
              " 'during',\n",
              " 'the',\n",
              " 'morning,',\n",
              " 'but',\n",
              " 'she',\n",
              " 'sleeps.']"
            ]
          },
          "execution_count": 7,
          "metadata": {},
          "output_type": "execute_result"
        }
      ],
      "source": [
        "import unidecode\n",
        "[unidecode.unidecode(w.lower().strip()) for w in doc1.split(' ')]"
      ]
    },
    {
      "cell_type": "code",
      "execution_count": null,
      "metadata": {
        "colab": {
          "background_save": true
        },
        "id": "NWCgv4tzP7ww",
        "outputId": "5843139d-5bb4-4a00-cf85-52afd89e2677"
      },
      "outputs": [
        {
          "data": {
            "text/plain": [
              "['usualmente,',\n",
              " 'existe',\n",
              " 'una',\n",
              " 'relacion',\n",
              " 'costo-beneficio',\n",
              " 'entre',\n",
              " 'las',\n",
              " 'distintas',\n",
              " 'tecnicas.']"
            ]
          },
          "execution_count": 8,
          "metadata": {},
          "output_type": "execute_result"
        }
      ],
      "source": [
        "import unidecode\n",
        "[unidecode.unidecode(w.lower().strip()) for w in doc2.split(' ')]  ## minuscula .lower. espacios extra con .strip y despues de las palabras"
      ]
    },
    {
      "cell_type": "markdown",
      "metadata": {
        "id": "bSvMQDaOa35m"
      },
      "source": [
        "###sofisticacion  de las normalizaciones, pasar al mismo genero, conjugar los verbos en infinitivo ,l procedmientos pára que el algoritmo funcione bien"
      ]
    },
    {
      "cell_type": "markdown",
      "metadata": {
        "id": "P4YXF4rVQa9-"
      },
      "source": [
        "Otras normalizaciones más sofisticadas serían:\n",
        "- Pasar de plural a singular\n",
        "- Convertir el género de la palabra\n",
        "- Conjugar los verbos en infinitivo\n",
        "\n",
        "¡Es de esperarse que esto requiera métodos más complejos!\n",
        "\n",
        "Vemos que con la tokenización anterior, todavía tenemos palabras con signos de puntuación pegados. Armar nuestro vocabulario es un paso clave para nuestros modelos de *Machine Learning*."
      ]
    },
    {
      "cell_type": "markdown",
      "metadata": {
        "id": "0CWjnPBjbiN0"
      },
      "source": [
        "https://github.com/institutohumai/cursos-python/blob/master/Automatizacion/Automatizaci%C3%B3n_2/clase_automatizacion_2_ejercicios.ipynb\n"
      ]
    },
    {
      "cell_type": "markdown",
      "metadata": {
        "id": "UiTDZ9AIdKvu"
      },
      "source": [
        "## Expresiones regulares\n",
        "\n",
        "\n",
        "También conocido popularmente como **RegEx**. Es un mini lenguaje de programación diseñado para realizar búsquedas en strings. Son extremadamente útiles para:\n",
        "- Extraer datos de distintos tipos de archivos, texto o con otro tipo de codificación.\n",
        "- Web scraping: como veremos en las próximas clases, las regex son un buen método para encontrar la información que se necesita en un sitio web.\n",
        "- Limpieza de datos: herramienta fundamental en el repertorio del científico de datos para limpiar datos quitando caracteres \"ruidosos\", o armando nuevos \"features\" según la presencia o no de cierto texto.\n",
        "\n",
        "\n",
        "Para profundizar en esta importante herramienta, ver la [clase de Expresiones Regulares](https://github.com/institutohumai/cursos-python/tree/master/Automatizacion) del curso de Automatización.\n"
      ]
    },
    {
      "cell_type": "markdown",
      "metadata": {
        "id": "O_E5sG15A0aB"
      },
      "source": [
        "Recursos útiles para regex:\n",
        "\n",
        "- [Sitio para armar RegEx online](https://regexr.com/)\n",
        "- [Alternativa](https://regex101.com/)\n",
        "- [CheatSheet](https://www.dataquest.io/wp-content/uploads/2019/03/python-regular-expressions-cheat-sheet.pdf)\n"
      ]
    },
    {
      "cell_type": "markdown",
      "metadata": {
        "id": "J0ECMOvov8sC"
      },
      "source": [
        "Python utiliza la libreria llamada **re** para todo lo relacionado a regular expressions"
      ]
    },
    {
      "cell_type": "code",
      "execution_count": null,
      "metadata": {
        "colab": {
          "background_save": true
        },
        "id": "OeHyStr1cSuc",
        "outputId": "e0afe636-327d-41aa-d07b-04de2d5dd7d6"
      },
      "outputs": [
        {
          "data": {
            "text/plain": [
              "['Jane',\n",
              " 'bought',\n",
              " 'me',\n",
              " 'these',\n",
              " 'books',\n",
              " 'Jane',\n",
              " 'bought',\n",
              " 'a',\n",
              " 'book',\n",
              " 'for',\n",
              " 'me',\n",
              " 'She',\n",
              " 'dropped',\n",
              " 'a',\n",
              " 'line',\n",
              " 'to',\n",
              " 'him',\n",
              " 'Thank',\n",
              " 'you',\n",
              " 'She',\n",
              " 'sleeps',\n",
              " 'I',\n",
              " 'sleep',\n",
              " 'a',\n",
              " 'lot',\n",
              " 'I',\n",
              " 'was',\n",
              " 'born',\n",
              " 'in',\n",
              " 'Madrid',\n",
              " 'the',\n",
              " 'cat',\n",
              " 'was',\n",
              " 'chased',\n",
              " 'by',\n",
              " 'the',\n",
              " 'dog',\n",
              " 'I',\n",
              " 'was',\n",
              " 'born',\n",
              " 'in',\n",
              " 'Madrid',\n",
              " 'during',\n",
              " '1995',\n",
              " 'Out',\n",
              " 'of',\n",
              " 'all',\n",
              " 'this',\n",
              " 'something',\n",
              " 'good',\n",
              " 'will',\n",
              " 'come',\n",
              " 'Susan',\n",
              " 'left',\n",
              " 'afterthe',\n",
              " 'rehearsal',\n",
              " 'She',\n",
              " 'did',\n",
              " 'it',\n",
              " 'well',\n",
              " 'She',\n",
              " 'sleeps',\n",
              " 'during',\n",
              " 'the',\n",
              " 'morning',\n",
              " 'but',\n",
              " 'she',\n",
              " 'sleeps']"
            ]
          },
          "execution_count": 9,
          "metadata": {},
          "output_type": "execute_result"
        }
      ],
      "source": [
        "import re\n",
        "tokens = re.findall(r'\\w+|\\d+', doc1)  # tokenizacion por palabras o numeros por separado  ENCONTRAME LAS COINCIDENCIAS DE ESTE PATRON EN ESTE TEXTO w + d+\n",
        "tokens"
      ]
    },
    {
      "cell_type": "code",
      "execution_count": null,
      "metadata": {
        "colab": {
          "background_save": true
        },
        "id": "UmRMUpcXcen8",
        "outputId": "383ed76a-1819-4f63-d94c-046e4f36b7ff"
      },
      "outputs": [
        {
          "data": {
            "text/plain": [
              "['Jane',\n",
              " 'bought',\n",
              " 'me',\n",
              " 'these',\n",
              " 'books',\n",
              " '.',\n",
              " 'Jane',\n",
              " 'bought',\n",
              " 'a',\n",
              " 'book',\n",
              " 'for',\n",
              " 'me',\n",
              " '.',\n",
              " 'She',\n",
              " 'dropped',\n",
              " 'a',\n",
              " 'line',\n",
              " 'to',\n",
              " 'him',\n",
              " '.',\n",
              " 'Thank',\n",
              " 'you',\n",
              " '.',\n",
              " 'She',\n",
              " 'sleeps',\n",
              " '.',\n",
              " 'I',\n",
              " 'sleep',\n",
              " 'a',\n",
              " 'lot',\n",
              " '.',\n",
              " 'I',\n",
              " 'was',\n",
              " 'born',\n",
              " 'in',\n",
              " 'Madrid',\n",
              " 'the',\n",
              " 'cat',\n",
              " 'was',\n",
              " 'chased',\n",
              " 'by',\n",
              " 'the',\n",
              " 'dog',\n",
              " '.',\n",
              " 'I',\n",
              " 'was',\n",
              " 'born',\n",
              " 'in',\n",
              " 'Madrid',\n",
              " 'during',\n",
              " '1995',\n",
              " '.',\n",
              " 'Out',\n",
              " 'of',\n",
              " 'all',\n",
              " 'this',\n",
              " ',',\n",
              " 'something',\n",
              " 'good',\n",
              " 'will',\n",
              " 'come',\n",
              " '.',\n",
              " 'Susan',\n",
              " 'left',\n",
              " 'afterthe',\n",
              " 'rehearsal',\n",
              " '.',\n",
              " 'She',\n",
              " 'did',\n",
              " 'it',\n",
              " 'well',\n",
              " '.',\n",
              " 'She',\n",
              " 'sleeps',\n",
              " 'during',\n",
              " 'the',\n",
              " 'morning',\n",
              " ',',\n",
              " 'but',\n",
              " 'she',\n",
              " 'sleeps',\n",
              " '.']"
            ]
          },
          "execution_count": 10,
          "metadata": {},
          "output_type": "execute_result"
        }
      ],
      "source": [
        "import re\n",
        "tokens1 = re.findall(r'\\w+|\\S', doc1)  # Busca palabras o cualquier carácter no espacio en blanco\n",
        "tokens1"
      ]
    },
    {
      "cell_type": "code",
      "execution_count": null,
      "metadata": {
        "colab": {
          "background_save": true
        },
        "id": "dj08wNTccld2",
        "outputId": "817c2f50-9d35-42d0-80a3-7616e6cacde6"
      },
      "outputs": [
        {
          "data": {
            "text/plain": [
              "['Jane',\n",
              " 'bought',\n",
              " 'me',\n",
              " 'these',\n",
              " 'books',\n",
              " 'Jane',\n",
              " 'bought',\n",
              " 'a',\n",
              " 'book',\n",
              " 'for',\n",
              " 'me',\n",
              " 'She',\n",
              " 'dropped',\n",
              " 'a',\n",
              " 'line',\n",
              " 'to',\n",
              " 'him',\n",
              " 'Thank',\n",
              " 'you',\n",
              " 'She',\n",
              " 'sleeps',\n",
              " 'I',\n",
              " 'sleep',\n",
              " 'a',\n",
              " 'lot',\n",
              " 'I',\n",
              " 'was',\n",
              " 'born',\n",
              " 'in',\n",
              " 'Madrid',\n",
              " 'the',\n",
              " 'cat',\n",
              " 'was',\n",
              " 'chased',\n",
              " 'by',\n",
              " 'the',\n",
              " 'dog',\n",
              " 'I',\n",
              " 'was',\n",
              " 'born',\n",
              " 'in',\n",
              " 'Madrid',\n",
              " 'during',\n",
              " 'Out',\n",
              " 'of',\n",
              " 'all',\n",
              " 'this',\n",
              " 'something',\n",
              " 'good',\n",
              " 'will',\n",
              " 'come',\n",
              " 'Susan',\n",
              " 'left',\n",
              " 'afterthe',\n",
              " 'rehearsal',\n",
              " 'She',\n",
              " 'did',\n",
              " 'it',\n",
              " 'well',\n",
              " 'She',\n",
              " 'sleeps',\n",
              " 'during',\n",
              " 'the',\n",
              " 'morning',\n",
              " 'but',\n",
              " 'she',\n",
              " 'sleeps']"
            ]
          },
          "execution_count": 11,
          "metadata": {},
          "output_type": "execute_result"
        }
      ],
      "source": [
        "import re\n",
        "tokens2 = re.findall(r'[A-Z][a-z]+|[A-Z]+|[a-z]+', doc1)  # Busca palabras con mayúscula inicial, palabras totalmente en mayúscula o minúscula\n",
        "tokens2"
      ]
    },
    {
      "cell_type": "code",
      "execution_count": null,
      "metadata": {
        "colab": {
          "background_save": true
        },
        "id": "_c1nS212csqr",
        "outputId": "0079a17b-c1f1-4ac0-ddfb-4eb97e73f2ca"
      },
      "outputs": [
        {
          "name": "stdout",
          "output_type": "stream",
          "text": [
            "['Jane', 'bought', 'me', 'these', 'books', '.Jane', 'bought', 'a', 'book', 'for', 'me', '.She', 'dropped', 'a', 'line', 'to', 'him', '.', 'Thank', 'you', '.She', 'sleeps', '.I', 'sleep', 'a', 'lot', '.I', 'was', 'born', 'in', 'Madridthe', 'cat', 'was', 'chased', 'by', 'the', 'dog', '.I', 'was', 'born', 'in', 'Madrid', 'during', '1995', '.Out', 'of', 'all', 'this', ',', 'something', 'good', 'will', 'come', '.Susan', 'left', 'afterthe', 'rehearsal', '.', 'She', 'did', 'it', 'well', '.She', 'sleeps', 'during', 'the', 'morning', ',', 'but', 'she', 'sleeps', '.']\n"
          ]
        }
      ],
      "source": [
        "import re\n",
        "\n",
        "def tokenize(text, pattern):\n",
        "  \"\"\"Tokeniza un texto utilizando una expresión regular.\n",
        "\n",
        "  Args:\n",
        "    text: El texto a tokenizar.\n",
        "    pattern: La expresión regular a utilizar.\n",
        "\n",
        "  Returns:\n",
        "    Una lista con los tokens encontrados.\n",
        "  \"\"\"\n",
        "  return re.findall(pattern, text)\n",
        "\n",
        "# Ejemplo de uso:\n",
        "doc1=\"Jane bought me these books.Jane bought a book for me.She dropped a line to him. Thank you.She sleeps.I sleep a lot.I was born in Madridthe cat was chased by the dog.I was born in Madrid during 1995.Out of all this , something good will come.Susan left afterthe rehearsal. She did it well.She sleeps during the morning, but she sleeps.\"\n",
        "tokens4 = tokenize(doc1, r'\\w+|\\d+|\\S+')  # Tokeniza palabras, números y otros caracteres\n",
        "print(tokens4)"
      ]
    },
    {
      "cell_type": "code",
      "execution_count": null,
      "metadata": {
        "colab": {
          "background_save": true
        },
        "id": "IByrcWFQb1Ve",
        "outputId": "54317321-2a2e-4b26-ff6c-7d1405b8028d"
      },
      "outputs": [
        {
          "data": {
            "text/plain": [
              "['Jane',\n",
              " 'bought',\n",
              " 'me',\n",
              " 'these',\n",
              " 'books',\n",
              " 'Jane',\n",
              " 'bought',\n",
              " 'a',\n",
              " 'book',\n",
              " 'for',\n",
              " 'me',\n",
              " 'She',\n",
              " 'dropped',\n",
              " 'a',\n",
              " 'line',\n",
              " 'to',\n",
              " 'him',\n",
              " 'Thank',\n",
              " 'you',\n",
              " 'She',\n",
              " 'sleeps',\n",
              " 'I',\n",
              " 'sleep',\n",
              " 'a',\n",
              " 'lot',\n",
              " 'I',\n",
              " 'was',\n",
              " 'born',\n",
              " 'in',\n",
              " 'Madridthe',\n",
              " 'cat',\n",
              " 'was',\n",
              " 'chased',\n",
              " 'by',\n",
              " 'the',\n",
              " 'dog',\n",
              " 'I',\n",
              " 'was',\n",
              " 'born',\n",
              " 'in',\n",
              " 'Madrid',\n",
              " 'during',\n",
              " '1995',\n",
              " 'Out',\n",
              " 'of',\n",
              " 'all',\n",
              " 'this',\n",
              " 'something',\n",
              " 'good',\n",
              " 'will',\n",
              " 'come',\n",
              " 'Susan',\n",
              " 'left',\n",
              " 'afterthe',\n",
              " 'rehearsal',\n",
              " 'She',\n",
              " 'did',\n",
              " 'it',\n",
              " 'well',\n",
              " 'She',\n",
              " 'sleeps',\n",
              " 'during',\n",
              " 'the',\n",
              " 'morning',\n",
              " 'but',\n",
              " 'she',\n",
              " 'sleeps']"
            ]
          },
          "execution_count": 13,
          "metadata": {},
          "output_type": "execute_result"
        }
      ],
      "source": [
        "# Tokenización simple con RegEx\n",
        "import re\n",
        "re.findall('\\w+', doc1)  ## UNO O MAS DE CUALQUIER CARACTER ALFANUMERICO"
      ]
    },
    {
      "cell_type": "code",
      "execution_count": null,
      "metadata": {
        "colab": {
          "background_save": true
        },
        "id": "cmf7SrCgWOdP",
        "outputId": "1ff52a0c-e158-41c2-b4b4-d19601ef7c65"
      },
      "outputs": [
        {
          "data": {
            "application/vnd.google.colaboratory.intrinsic+json": {
              "type": "string"
            },
            "text/plain": [
              "'Usualmente, existe una relación costo-beneficio entre las distintas técnicas.'"
            ]
          },
          "execution_count": 14,
          "metadata": {},
          "output_type": "execute_result"
        }
      ],
      "source": [
        "doc2"
      ]
    },
    {
      "cell_type": "code",
      "execution_count": null,
      "metadata": {
        "colab": {
          "background_save": true
        },
        "id": "h2kqp9jZA0aD",
        "outputId": "f63b56fc-b8a8-467d-eefb-da5ff0708404"
      },
      "outputs": [
        {
          "data": {
            "text/plain": [
              "['Usualmente',\n",
              " 'existe',\n",
              " 'una',\n",
              " 'relación',\n",
              " 'costo',\n",
              " 'beneficio',\n",
              " 'entre',\n",
              " 'las',\n",
              " 'distintas',\n",
              " 'técnicas']"
            ]
          },
          "execution_count": 15,
          "metadata": {},
          "output_type": "execute_result"
        }
      ],
      "source": [
        "# Tokenización simple con RegEx\n",
        "import re\n",
        "re.findall('\\w+', doc2)  ### motor de expresiones regulares llega a la coma no lo incluye"
      ]
    },
    {
      "cell_type": "markdown",
      "metadata": {
        "id": "pXv_btBWXllc"
      },
      "source": [
        "## estudiar"
      ]
    },
    {
      "cell_type": "markdown",
      "metadata": {
        "id": "ehXCdPH-ontb"
      },
      "source": [
        "## NLTK\n",
        "\n",
        "La librería [Natural Languaje Toolkit](https://www.nltk.org/) es un *de facto* para NLP en Python para diversos idiomas. No solo contiene algoritmos para operaciones de NLP si no también corpus de textos y vocabulario organizado como [WordNet](https://wordnet.princeton.edu)."
      ]
    },
    {
      "cell_type": "code",
      "execution_count": null,
      "metadata": {
        "colab": {
          "background_save": true
        },
        "id": "vS1y1o7eogPg",
        "outputId": "3881aad7-134e-4d8b-9444-f9566fbd9d43"
      },
      "outputs": [
        {
          "name": "stderr",
          "output_type": "stream",
          "text": [
            "[nltk_data] Downloading package punkt to /root/nltk_data...\n",
            "[nltk_data]   Package punkt is already up-to-date!\n"
          ]
        },
        {
          "data": {
            "text/plain": [
              "True"
            ]
          },
          "execution_count": 16,
          "metadata": {},
          "output_type": "execute_result"
        }
      ],
      "source": [
        "# Tokenización con NLTK\n",
        "import nltk\n",
        "nltk.download('punkt')"
      ]
    },
    {
      "cell_type": "code",
      "execution_count": null,
      "metadata": {
        "colab": {
          "background_save": true
        },
        "id": "RC99ZxU-ddWz",
        "outputId": "180c751d-1629-4418-e3e8-20f0d9066925"
      },
      "outputs": [
        {
          "name": "stderr",
          "output_type": "stream",
          "text": [
            "[nltk_data] Downloading package punkt_tab to /root/nltk_data...\n",
            "[nltk_data]   Package punkt_tab is already up-to-date!\n"
          ]
        },
        {
          "data": {
            "text/plain": [
              "True"
            ]
          },
          "execution_count": 17,
          "metadata": {},
          "output_type": "execute_result"
        }
      ],
      "source": [
        "import nltk\n",
        "nltk.download('punkt_tab')"
      ]
    },
    {
      "cell_type": "code",
      "execution_count": null,
      "metadata": {
        "colab": {
          "background_save": true
        },
        "id": "BKPmEp2fdiIh",
        "outputId": "6492c58c-52d9-4b0e-9a67-66518779e4b2"
      },
      "outputs": [
        {
          "name": "stdout",
          "output_type": "stream",
          "text": [
            "['Jane', 'bought', 'me', 'these', 'books.Jane', 'bought', 'a', 'book', 'for', 'me.She', 'dropped', 'a', 'line', 'to', 'him', '.', 'Thank', 'you.She', 'sleeps.I', 'sleep', 'a', 'lot.I', 'was', 'born', 'in', 'Madridthe', 'cat', 'was', 'chased', 'by', 'the', 'dog.I', 'was', 'born', 'in', 'Madrid', 'during', '1995.Out', 'of', 'all', 'this', ',', 'something', 'good', 'will', 'come.Susan', 'left', 'afterthe', 'rehearsal', '.', 'She', 'did', 'it', 'well.She', 'sleeps', 'during', 'the', 'morning', ',', 'but', 'she', 'sleeps', '.']\n"
          ]
        }
      ],
      "source": [
        "tokens4 = nltk.word_tokenize(doc1)\n",
        "print(tokens4)"
      ]
    },
    {
      "cell_type": "code",
      "execution_count": null,
      "metadata": {
        "colab": {
          "background_save": true
        },
        "id": "ttp5WoMJZWGI",
        "outputId": "e00a36f4-82b1-49b3-f9be-ee67a5845ed2"
      },
      "outputs": [
        {
          "name": "stdout",
          "output_type": "stream",
          "text": [
            "['Usualmente', ',', 'existe', 'una', 'relación', 'costo-beneficio', 'entre', 'las', 'distintas', 'técnicas', '.']\n"
          ]
        }
      ],
      "source": [
        "tokens = nltk.word_tokenize(doc2)\n",
        "print(tokens)"
      ]
    },
    {
      "cell_type": "markdown",
      "metadata": {
        "id": "gZIZSwq3dsfI"
      },
      "source": [
        "## la puntuacion la devuelve aparte signo de exclamacion"
      ]
    },
    {
      "cell_type": "markdown",
      "metadata": {
        "id": "azpsex_cfy4K"
      },
      "source": [
        "##herramientas de nlp de algoritmos y otros algoritmos"
      ]
    },
    {
      "cell_type": "markdown",
      "metadata": {
        "id": "QkHgBvavADgm"
      },
      "source": [
        "## Distancia de edición\n",
        "\n",
        "Para afrontar el \"ruido\" en nuestros textos, tenemos una importante herramienta: la distancia de edición.\n",
        "\n",
        "También llamada Distancia de Levenshtein, nos dice la cantidad mínima de operaciones requerida para llevar de un string al otro. Expresandola de una manera sencilla (y en su versión sin normalizar entre 0 y 1) podemos explicarla así:\n",
        "\n",
        "$$\\mathit{L} = S+D+I$$ / N\n",
        "\n",
        "Donde $S$ = sustitución, $D$ = Eliminación, $I$ = inserción (de un caracter).\n",
        "------------------------------------------\n",
        "                    N\n",
        "\n",
        "Como en muchos idiomas la raíz importa más que el resto de la palabra, a veces se usa la métrica Jaro Winkler que pondera más los caracteres iniciales."
      ]
    },
    {
      "cell_type": "code",
      "execution_count": null,
      "metadata": {
        "colab": {
          "background_save": true
        },
        "id": "qtLW-PVpEhp2"
      },
      "outputs": [],
      "source": [
        "%%capture\n",
        "!pip install pyjarowinkler\n",
        "from nltk.metrics import edit_distance\n",
        "from pyjarowinkler import distance as jwdist"
      ]
    },
    {
      "cell_type": "code",
      "execution_count": null,
      "metadata": {
        "colab": {
          "background_save": true
        },
        "id": "z6e8fQ-R57PY",
        "outputId": "87960d65-bcaa-495c-92b2-6c2359544acd"
      },
      "outputs": [
        {
          "name": "stdout",
          "output_type": "stream",
          "text": [
            "'pero' vs 'perro':\n",
            "Distancia Levenshtein -> 1\n",
            "Similitud Jaro Winkler -> 0.95\n",
            "----------------------------------------\n",
            "'pero' vs 'pierdo':\n",
            "Distancia Levenshtein -> 2\n",
            "Similitud Jaro Winkler -> 0.9\n",
            "----------------------------------------\n",
            "'nueve' vs 'mueve':\n",
            "Distancia Levenshtein -> 1\n",
            "Similitud Jaro Winkler -> 0.87\n",
            "----------------------------------------\n",
            "'totalmente' vs 'diferentes':\n",
            "Distancia Levenshtein -> 7\n",
            "Similitud Jaro Winkler -> 0.52\n",
            "----------------------------------------\n",
            "'pero' vs 'basta':\n",
            "Distancia Levenshtein -> 5\n",
            "Similitud Jaro Winkler -> 0.0\n",
            "----------------------------------------\n"
          ]
        }
      ],
      "source": [
        "# Definimos una lista de tuplas de palabras\n",
        "palabras = [(\"pero\", \"perro\"),(\"pero\", \"pierdo\"), (\"nueve\", \"mueve\"),  (\"totalmente\",\"diferentes\"), (\"pero\", \"basta\")]\n",
        "\n",
        "# Calculamos las metricas de distancia pasando cada tupla como argumentos a levdist() y get_jaro_distance()\n",
        "for x,y in palabras:\n",
        "    print(f\"'{x}' vs '{y}':\")\n",
        "    print(\"Distancia Levenshtein ->\", edit_distance(x,y)) ## EDIT DISTANCE DE NLTK\n",
        "    print(\"Similitud Jaro Winkler ->\",jwdist.get_jaro_distance(x,y)) ## en % la distancia de edicion\n",
        "    print(\"-\"*40) ## inserciones en levenstein , cant de operaciones para llegar de un string a otro"
      ]
    },
    {
      "cell_type": "markdown",
      "metadata": {
        "id": "RO5bZiHshD-y"
      },
      "source": [
        "### JARO WINKLER BAJA DEBIDO A LA MAYOR DISTANCIA LEVENSTEIN"
      ]
    },
    {
      "cell_type": "markdown",
      "metadata": {
        "id": "44F9E4z9dJCu"
      },
      "source": [
        "## Búsqueda difusa de strings (fuzzy string matching)\n",
        "\n",
        "Técnica muy útil para tener en el repertorio, nos permite encontrar coincidencias que no son exactas. En el caso más sencillo, la búsqueda difusa nos devolverá un puntaje de similitud entre los strings relacionada a las diferencias entre los caracteres. Existen variaciones que consideran cuántas unidades (palabras, tokens) coinciden, que ordenan la oración antes, o que borran repetidos."
      ]
    },
    {
      "cell_type": "markdown",
      "metadata": {
        "id": "Fo8zLV2Jh9uC"
      },
      "source": [
        "## BUSQUEDAS NO SON EXACTAS de levenstein"
      ]
    },
    {
      "cell_type": "code",
      "execution_count": null,
      "metadata": {
        "colab": {
          "background_save": true
        },
        "id": "N1H5I_nSpxMe"
      },
      "outputs": [],
      "source": [
        "%%capture\n",
        "!pip install thefuzz[speedup]\n",
        "from thefuzz import process, fuzz"
      ]
    },
    {
      "cell_type": "code",
      "execution_count": null,
      "metadata": {
        "colab": {
          "background_save": true
        },
        "id": "EaIGqFoPp30R"
      },
      "outputs": [],
      "source": [
        "def get_match(string, lista_strings):  ## funcion encapsulada la busqueda del string\n",
        "    \"\"\"Para buscar coincidencias entre nombre con los nombres\"\"\"\n",
        "    mejor_match, puntaje = process.extractBests(string.strip(), lista_strings, scorer=fuzz.token_set_ratio)[0]\n",
        "    return mejor_match, puntaje"
      ]
    },
    {
      "cell_type": "code",
      "execution_count": null,
      "metadata": {
        "colab": {
          "background_save": true
        },
        "id": "U-brWWiIp9OR",
        "outputId": "44290d18-7065-44f2-f951-5c2e9e82c2c7"
      },
      "outputs": [
        {
          "data": {
            "text/plain": [
              "('Pedro', 80)"
            ]
          },
          "execution_count": 24,
          "metadata": {},
          "output_type": "execute_result"
        }
      ],
      "source": [
        "# Completar\n",
        "busqueda = 'Pebro'\n",
        "candidatos = 'María, Fabio, Paula, Natu, Pedro, Miguel'.split(', ')\n",
        "\n",
        "get_match(busqueda, candidatos) ## nombre y lista de candidatos"
      ]
    },
    {
      "cell_type": "markdown",
      "metadata": {
        "id": "5gU8tfX9bbnb"
      },
      "source": [
        "# Hacia el ML: Representación"
      ]
    },
    {
      "cell_type": "markdown",
      "metadata": {
        "id": "yKcJRgtLny2T"
      },
      "source": [
        "Lo anterior nos puede servir para un sinfín de algorítmos útiles de NLP. En el caso del *Machine Learning* (ML) para usar nuestro modelo (o para cualquier operación vectorial), tendremos que llevar a nuestros datos a una representación matricial. Las maneras de lograr esto se pueden denominar \"**vectorizar**\".\n",
        "\n",
        "\n",
        "En un caso de querer **clasificar artículos** en algunas categorías predeterminadas, una tabla simple de ejemplo se podría ver así:"
      ]
    },
    {
      "cell_type": "markdown",
      "metadata": {
        "id": "qn_7qHMQidNW"
      },
      "source": [
        "## LLEVAR LOS TEXTOS A FILAS Y COLUMNAS VECTOR OBJETIVO O VARIABLE OBJETIVO EN SUPERVISADO"
      ]
    },
    {
      "cell_type": "markdown",
      "source": [
        "# ***shallow machine learning***"
      ],
      "metadata": {
        "id": "zvZYKzOaUL4F"
      }
    },
    {
      "cell_type": "code",
      "execution_count": null,
      "metadata": {
        "colab": {
          "background_save": true
        },
        "id": "2nRuk1FhbZ0W",
        "outputId": "1fa4b26c-d1ee-4791-e3cd-874ed2fcd2ee"
      },
      "outputs": [
        {
          "data": {
            "image/png": "[encoded data removed]",
            "text/plain": [
              "<Figure size 600x400 with 1 Axes>"
            ]
          },
          "metadata": {},
          "output_type": "display_data"
        }
      ],
      "source": [
        "#@title Matriz de Features\n",
        "import matplotlib.pyplot as plt\n",
        "\n",
        "fig = plt.figure(figsize=(6, 4))\n",
        "ax = fig.add_axes([0, 0, 1, 1])\n",
        "ax.axis('off')\n",
        "ax.axis('equal')\n",
        "\n",
        "# Draw features matrix\n",
        "ax.vlines(range(6), ymin=0, ymax=9, lw=1)\n",
        "ax.hlines(range(10), xmin=0, xmax=5, lw=1)\n",
        "font_prop = dict(size=12, family='monospace')\n",
        "ax.text(-1, -1, \"Matriz de Features ($X$)\", size=14)\n",
        "ax.text(0.1, -0.3, r'n_features $\\longrightarrow$', **font_prop)\n",
        "ax.text(-0.1, 0.1, r'$\\longleftarrow$ n_observaciones', rotation=90,\n",
        "        va='top', ha='right', **font_prop)\n",
        "\n",
        "# Draw labels vector\n",
        "ax.vlines(range(8, 10), ymin=0, ymax=9, lw=1)\n",
        "ax.hlines(range(10), xmin=8, xmax=9, lw=1)\n",
        "ax.text(7, -1, \"Vector Target ($y$)\", size=14)\n",
        "ax.text(7.9, 0.1, r'$\\longleftarrow$ n_observaciones', rotation=90,\n",
        "        va='top', ha='right', **font_prop)\n",
        "\n",
        "ax.set_ylim(10, -2);"
      ]
    },
    {
      "cell_type": "code",
      "execution_count": null,
      "metadata": {
        "colab": {
          "background_save": true
        },
        "id": "xiaePbFWYGG0",
        "outputId": "b9e3bcaf-6bc5-4438-b53f-b42abbbfdc55"
      },
      "outputs": [
        {
          "data": {
            "image/png": "[encoded data removed]",
            "text/plain": [
              "<Figure size 640x480 with 1 Axes>"
            ]
          },
          "metadata": {},
          "output_type": "display_data"
        }
      ],
      "source": [
        "#@title Tabla Ejemplo\n",
        "import numpy as np\n",
        "import matplotlib.pyplot as plt\n",
        "title_text = 'Datos'\n",
        "footer_text = '22 de Agosto, 2022'\n",
        "fig_background_color = 'skyblue'\n",
        "fig_border = 'steelblue'\n",
        "data_ =  [\n",
        "            [         'N Adjetivos', 'N Verbos', 'Largo Total', 'Menciones', 'Categoría'],\n",
        "            [ 'Doc 1',  386, 296,   1331,  17008,  1],\n",
        "            ['Doc 2',  230, 139,   145,   9308, 2],\n",
        "            ['Doc 3',  135,  1552,  2558,  47981, 0],\n",
        "            ['Doc 4',  415,  858,  656,  93263,  1],\n",
        "            ['Doc 5', 361, 1509,  3164,  181380,  2],\n",
        "        ]\n",
        "column_headers = data_.pop(0)\n",
        "row_headers = [x.pop(0) for x in data_]\n",
        "\n",
        "cell_text = []\n",
        "for row in data_:\n",
        "    cell_text.append([f'{x}' for x in row])\n",
        "rcolors = plt.cm.BuPu(np.full(len(row_headers), 0.1))\n",
        "ccolors = plt.cm.BuPu(np.full(len(column_headers), 0.1))\n",
        "plt.figure(linewidth=2,\n",
        "           edgecolor=fig_border,\n",
        "           facecolor=fig_background_color,\n",
        "           tight_layout={'pad':1},\n",
        "           #figsize=(5,3)\n",
        "          )\n",
        "the_table = plt.table(cellText=cell_text,\n",
        "                      rowLabels=row_headers,\n",
        "                      rowColours=rcolors,\n",
        "                      rowLoc='right',\n",
        "                      colColours=ccolors,\n",
        "                      colLabels=column_headers,\n",
        "                      loc='center')\n",
        "the_table.scale(1, 2.5)\n",
        "ax = plt.gca()\n",
        "ax.get_xaxis().set_visible(False)\n",
        "ax.get_yaxis().set_visible(False)\n",
        "plt.box(on=None)\n",
        "plt.suptitle(title_text)\n",
        "plt.figtext(0.95, 0.05, footer_text, horizontalalignment='right', size=10, weight='light')\n",
        "plt.draw()"
      ]
    },
    {
      "cell_type": "markdown",
      "metadata": {
        "id": "jH5wKFXhcJNJ"
      },
      "source": [
        "Para operar sobre la información de texto directamente, el enfoque tradicional más sencillo es la **bolsa de palabras**. Vamos a crearla con sci-kit learn:"
      ]
    },
    {
      "cell_type": "markdown",
      "metadata": {
        "id": "6v3q3E6qFDiA"
      },
      "source": [
        "###count vectorizer matriz de frecuencia de terminos , contar cuantas veces aparece cada palabra"
      ]
    },
    {
      "cell_type": "markdown",
      "source": [
        "## matriz de termino y frecuencia"
      ],
      "metadata": {
        "id": "zuao3ZAvUXm_"
      }
    },
    {
      "cell_type": "code",
      "execution_count": null,
      "metadata": {
        "colab": {
          "background_save": true
        },
        "id": "VqfktxZwEO7J"
      },
      "outputs": [],
      "source": [
        "from sklearn.feature_extraction.text import CountVectorizer"
      ]
    },
    {
      "cell_type": "code",
      "execution_count": null,
      "metadata": {
        "colab": {
          "background_save": true
        },
        "id": "nVqakV0Hi5wh"
      },
      "outputs": [],
      "source": [
        "# Instanciamos el CV\n",
        "vec = CountVectorizer()\n",
        "doc1=\"Jane bought me these books.Jane bought a book for me.She dropped a line to him. Thank you.She sleeps.I sleep a lot.I was born in Madridthe cat was chased by the dog.I was born in Madrid during 1995.Out of all this , something good will come.Susan left afterthe rehearsal. She did it well.She sleeps during the morning, but she sleeps.\"\n",
        "\n",
        "\n",
        "# Definimos una lista con todos los strings\n",
        "texto = [doc1]\n",
        "\n",
        "# Ajustamos el CV y transformamos los datos\n",
        "X1 = vec.fit_transform(texto)"
      ]
    },
    {
      "cell_type": "code",
      "execution_count": null,
      "metadata": {
        "colab": {
          "background_save": true
        },
        "id": "3I-bPZ6ljYjr",
        "outputId": "7dbdd2bd-54c5-481b-8d5f-1e797b058b4e"
      },
      "outputs": [
        {
          "data": {
            "text/html": [
              "<style type=\"text/css\">\n",
              "#T_ca039_row0_col0, #T_ca039_row0_col1, #T_ca039_row0_col2, #T_ca039_row0_col3, #T_ca039_row0_col4, #T_ca039_row0_col5, #T_ca039_row0_col6, #T_ca039_row0_col7, #T_ca039_row0_col8, #T_ca039_row0_col9, #T_ca039_row0_col10, #T_ca039_row0_col11, #T_ca039_row0_col12, #T_ca039_row0_col13, #T_ca039_row0_col14, #T_ca039_row0_col15, #T_ca039_row0_col16, #T_ca039_row0_col17, #T_ca039_row0_col18, #T_ca039_row0_col19, #T_ca039_row0_col20, #T_ca039_row0_col21, #T_ca039_row0_col22, #T_ca039_row0_col23, #T_ca039_row0_col24, #T_ca039_row0_col25, #T_ca039_row0_col26, #T_ca039_row0_col27, #T_ca039_row0_col28, #T_ca039_row0_col29, #T_ca039_row0_col30, #T_ca039_row0_col31, #T_ca039_row0_col32, #T_ca039_row0_col33, #T_ca039_row0_col34, #T_ca039_row0_col35, #T_ca039_row0_col36, #T_ca039_row0_col37, #T_ca039_row0_col38, #T_ca039_row0_col39, #T_ca039_row0_col40, #T_ca039_row0_col41, #T_ca039_row0_col42, #T_ca039_row0_col43, #T_ca039_row0_col44, #T_ca039_row0_col45 {\n",
              "  background-color: #fff7fb;\n",
              "  color: #000000;\n",
              "}\n",
              "</style>\n",
              "<table id=\"T_ca039\" class=\"dataframe\">\n",
              "  <thead>\n",
              "    <tr>\n",
              "      <th class=\"blank level0\" >&nbsp;</th>\n",
              "      <th id=\"T_ca039_level0_col0\" class=\"col_heading level0 col0\" >1995</th>\n",
              "      <th id=\"T_ca039_level0_col1\" class=\"col_heading level0 col1\" >afterthe</th>\n",
              "      <th id=\"T_ca039_level0_col2\" class=\"col_heading level0 col2\" >all</th>\n",
              "      <th id=\"T_ca039_level0_col3\" class=\"col_heading level0 col3\" >book</th>\n",
              "      <th id=\"T_ca039_level0_col4\" class=\"col_heading level0 col4\" >books</th>\n",
              "      <th id=\"T_ca039_level0_col5\" class=\"col_heading level0 col5\" >born</th>\n",
              "      <th id=\"T_ca039_level0_col6\" class=\"col_heading level0 col6\" >bought</th>\n",
              "      <th id=\"T_ca039_level0_col7\" class=\"col_heading level0 col7\" >but</th>\n",
              "      <th id=\"T_ca039_level0_col8\" class=\"col_heading level0 col8\" >by</th>\n",
              "      <th id=\"T_ca039_level0_col9\" class=\"col_heading level0 col9\" >cat</th>\n",
              "      <th id=\"T_ca039_level0_col10\" class=\"col_heading level0 col10\" >chased</th>\n",
              "      <th id=\"T_ca039_level0_col11\" class=\"col_heading level0 col11\" >come</th>\n",
              "      <th id=\"T_ca039_level0_col12\" class=\"col_heading level0 col12\" >did</th>\n",
              "      <th id=\"T_ca039_level0_col13\" class=\"col_heading level0 col13\" >dog</th>\n",
              "      <th id=\"T_ca039_level0_col14\" class=\"col_heading level0 col14\" >dropped</th>\n",
              "      <th id=\"T_ca039_level0_col15\" class=\"col_heading level0 col15\" >during</th>\n",
              "      <th id=\"T_ca039_level0_col16\" class=\"col_heading level0 col16\" >for</th>\n",
              "      <th id=\"T_ca039_level0_col17\" class=\"col_heading level0 col17\" >good</th>\n",
              "      <th id=\"T_ca039_level0_col18\" class=\"col_heading level0 col18\" >him</th>\n",
              "      <th id=\"T_ca039_level0_col19\" class=\"col_heading level0 col19\" >in</th>\n",
              "      <th id=\"T_ca039_level0_col20\" class=\"col_heading level0 col20\" >it</th>\n",
              "      <th id=\"T_ca039_level0_col21\" class=\"col_heading level0 col21\" >jane</th>\n",
              "      <th id=\"T_ca039_level0_col22\" class=\"col_heading level0 col22\" >left</th>\n",
              "      <th id=\"T_ca039_level0_col23\" class=\"col_heading level0 col23\" >line</th>\n",
              "      <th id=\"T_ca039_level0_col24\" class=\"col_heading level0 col24\" >lot</th>\n",
              "      <th id=\"T_ca039_level0_col25\" class=\"col_heading level0 col25\" >madrid</th>\n",
              "      <th id=\"T_ca039_level0_col26\" class=\"col_heading level0 col26\" >madridthe</th>\n",
              "      <th id=\"T_ca039_level0_col27\" class=\"col_heading level0 col27\" >me</th>\n",
              "      <th id=\"T_ca039_level0_col28\" class=\"col_heading level0 col28\" >morning</th>\n",
              "      <th id=\"T_ca039_level0_col29\" class=\"col_heading level0 col29\" >of</th>\n",
              "      <th id=\"T_ca039_level0_col30\" class=\"col_heading level0 col30\" >out</th>\n",
              "      <th id=\"T_ca039_level0_col31\" class=\"col_heading level0 col31\" >rehearsal</th>\n",
              "      <th id=\"T_ca039_level0_col32\" class=\"col_heading level0 col32\" >she</th>\n",
              "      <th id=\"T_ca039_level0_col33\" class=\"col_heading level0 col33\" >sleep</th>\n",
              "      <th id=\"T_ca039_level0_col34\" class=\"col_heading level0 col34\" >sleeps</th>\n",
              "      <th id=\"T_ca039_level0_col35\" class=\"col_heading level0 col35\" >something</th>\n",
              "      <th id=\"T_ca039_level0_col36\" class=\"col_heading level0 col36\" >susan</th>\n",
              "      <th id=\"T_ca039_level0_col37\" class=\"col_heading level0 col37\" >thank</th>\n",
              "      <th id=\"T_ca039_level0_col38\" class=\"col_heading level0 col38\" >the</th>\n",
              "      <th id=\"T_ca039_level0_col39\" class=\"col_heading level0 col39\" >these</th>\n",
              "      <th id=\"T_ca039_level0_col40\" class=\"col_heading level0 col40\" >this</th>\n",
              "      <th id=\"T_ca039_level0_col41\" class=\"col_heading level0 col41\" >to</th>\n",
              "      <th id=\"T_ca039_level0_col42\" class=\"col_heading level0 col42\" >was</th>\n",
              "      <th id=\"T_ca039_level0_col43\" class=\"col_heading level0 col43\" >well</th>\n",
              "      <th id=\"T_ca039_level0_col44\" class=\"col_heading level0 col44\" >will</th>\n",
              "      <th id=\"T_ca039_level0_col45\" class=\"col_heading level0 col45\" >you</th>\n",
              "    </tr>\n",
              "  </thead>\n",
              "  <tbody>\n",
              "    <tr>\n",
              "      <th id=\"T_ca039_level0_row0\" class=\"row_heading level0 row0\" >0</th>\n",
              "      <td id=\"T_ca039_row0_col0\" class=\"data row0 col0\" >1</td>\n",
              "      <td id=\"T_ca039_row0_col1\" class=\"data row0 col1\" >1</td>\n",
              "      <td id=\"T_ca039_row0_col2\" class=\"data row0 col2\" >1</td>\n",
              "      <td id=\"T_ca039_row0_col3\" class=\"data row0 col3\" >1</td>\n",
              "      <td id=\"T_ca039_row0_col4\" class=\"data row0 col4\" >1</td>\n",
              "      <td id=\"T_ca039_row0_col5\" class=\"data row0 col5\" >2</td>\n",
              "      <td id=\"T_ca039_row0_col6\" class=\"data row0 col6\" >2</td>\n",
              "      <td id=\"T_ca039_row0_col7\" class=\"data row0 col7\" >1</td>\n",
              "      <td id=\"T_ca039_row0_col8\" class=\"data row0 col8\" >1</td>\n",
              "      <td id=\"T_ca039_row0_col9\" class=\"data row0 col9\" >1</td>\n",
              "      <td id=\"T_ca039_row0_col10\" class=\"data row0 col10\" >1</td>\n",
              "      <td id=\"T_ca039_row0_col11\" class=\"data row0 col11\" >1</td>\n",
              "      <td id=\"T_ca039_row0_col12\" class=\"data row0 col12\" >1</td>\n",
              "      <td id=\"T_ca039_row0_col13\" class=\"data row0 col13\" >1</td>\n",
              "      <td id=\"T_ca039_row0_col14\" class=\"data row0 col14\" >1</td>\n",
              "      <td id=\"T_ca039_row0_col15\" class=\"data row0 col15\" >2</td>\n",
              "      <td id=\"T_ca039_row0_col16\" class=\"data row0 col16\" >1</td>\n",
              "      <td id=\"T_ca039_row0_col17\" class=\"data row0 col17\" >1</td>\n",
              "      <td id=\"T_ca039_row0_col18\" class=\"data row0 col18\" >1</td>\n",
              "      <td id=\"T_ca039_row0_col19\" class=\"data row0 col19\" >2</td>\n",
              "      <td id=\"T_ca039_row0_col20\" class=\"data row0 col20\" >1</td>\n",
              "      <td id=\"T_ca039_row0_col21\" class=\"data row0 col21\" >2</td>\n",
              "      <td id=\"T_ca039_row0_col22\" class=\"data row0 col22\" >1</td>\n",
              "      <td id=\"T_ca039_row0_col23\" class=\"data row0 col23\" >1</td>\n",
              "      <td id=\"T_ca039_row0_col24\" class=\"data row0 col24\" >1</td>\n",
              "      <td id=\"T_ca039_row0_col25\" class=\"data row0 col25\" >1</td>\n",
              "      <td id=\"T_ca039_row0_col26\" class=\"data row0 col26\" >1</td>\n",
              "      <td id=\"T_ca039_row0_col27\" class=\"data row0 col27\" >2</td>\n",
              "      <td id=\"T_ca039_row0_col28\" class=\"data row0 col28\" >1</td>\n",
              "      <td id=\"T_ca039_row0_col29\" class=\"data row0 col29\" >1</td>\n",
              "      <td id=\"T_ca039_row0_col30\" class=\"data row0 col30\" >1</td>\n",
              "      <td id=\"T_ca039_row0_col31\" class=\"data row0 col31\" >1</td>\n",
              "      <td id=\"T_ca039_row0_col32\" class=\"data row0 col32\" >5</td>\n",
              "      <td id=\"T_ca039_row0_col33\" class=\"data row0 col33\" >1</td>\n",
              "      <td id=\"T_ca039_row0_col34\" class=\"data row0 col34\" >3</td>\n",
              "      <td id=\"T_ca039_row0_col35\" class=\"data row0 col35\" >1</td>\n",
              "      <td id=\"T_ca039_row0_col36\" class=\"data row0 col36\" >1</td>\n",
              "      <td id=\"T_ca039_row0_col37\" class=\"data row0 col37\" >1</td>\n",
              "      <td id=\"T_ca039_row0_col38\" class=\"data row0 col38\" >2</td>\n",
              "      <td id=\"T_ca039_row0_col39\" class=\"data row0 col39\" >1</td>\n",
              "      <td id=\"T_ca039_row0_col40\" class=\"data row0 col40\" >1</td>\n",
              "      <td id=\"T_ca039_row0_col41\" class=\"data row0 col41\" >1</td>\n",
              "      <td id=\"T_ca039_row0_col42\" class=\"data row0 col42\" >3</td>\n",
              "      <td id=\"T_ca039_row0_col43\" class=\"data row0 col43\" >1</td>\n",
              "      <td id=\"T_ca039_row0_col44\" class=\"data row0 col44\" >1</td>\n",
              "      <td id=\"T_ca039_row0_col45\" class=\"data row0 col45\" >1</td>\n",
              "    </tr>\n",
              "  </tbody>\n",
              "</table>\n"
            ],
            "text/plain": [
              "<pandas.io.formats.style.Styler at 0x7ad264069ba0>"
            ]
          },
          "execution_count": 29,
          "metadata": {},
          "output_type": "execute_result"
        }
      ],
      "source": [
        "import pandas as pd\n",
        "\n",
        "# Re-fit the vectorizer to get the correct feature names for X1\n",
        "# This assumes 'textos' still contains the document used to create X1\n",
        "vec.fit(texto)\n",
        "\n",
        "# Now create the DataFrame\n",
        "pd.DataFrame(data=X1.todense(), columns=vec.get_feature_names_out()).style.background_gradient()  #3 cuenta cuantas veces aparece cada palabra"
      ]
    },
    {
      "cell_type": "markdown",
      "source": [
        "## 2 documentos asunciones que estamos tomando"
      ],
      "metadata": {
        "id": "sMMtnpAvUhJD"
      }
    },
    {
      "cell_type": "code",
      "execution_count": null,
      "metadata": {
        "colab": {
          "background_save": true
        },
        "id": "dFU2_FH71kE0"
      },
      "outputs": [],
      "source": [
        "# Instanciamos el CV\n",
        "vec = CountVectorizer()\n",
        "\n",
        "doc1 = 'la matriz de frecuencias otorga información del contenido de un documento'\n",
        "doc2 = 'las palabras que aparecen en un documento reflejan sus tópicos'\n",
        "\n",
        "# Definimos una lista con todos los strings\n",
        "textos = [doc1, doc2]\n",
        "\n",
        "# Ajustamos el CV y transformamos los datos\n",
        "X = vec.fit_transform(textos)  ## ajusta los parametros de coount vectorizer para darnos la matriz con los textos vectorizados"
      ]
    },
    {
      "cell_type": "markdown",
      "metadata": {
        "id": "UgRrQuTCQpWJ"
      },
      "source": [
        "Podemos volcar este resultado en un `DataFrame`. Para obtener el encabezado de las columnas, vamos a utilizar el método `get_feature_names_out()`, propio del vectorizador."
      ]
    },
    {
      "cell_type": "code",
      "execution_count": null,
      "metadata": {
        "colab": {
          "background_save": true
        },
        "id": "60EnFi-oQpWJ",
        "outputId": "7b4c1bd7-5387-41fc-e4f2-9015f6d3b809"
      },
      "outputs": [
        {
          "data": {
            "text/html": [
              "<style type=\"text/css\">\n",
              "#T_0e5f5_row0_col0, #T_0e5f5_row0_col4, #T_0e5f5_row0_col5, #T_0e5f5_row0_col9, #T_0e5f5_row0_col12, #T_0e5f5_row0_col13, #T_0e5f5_row0_col14, #T_0e5f5_row0_col15, #T_0e5f5_row0_col16, #T_0e5f5_row0_col17, #T_0e5f5_row1_col1, #T_0e5f5_row1_col2, #T_0e5f5_row1_col3, #T_0e5f5_row1_col4, #T_0e5f5_row1_col6, #T_0e5f5_row1_col7, #T_0e5f5_row1_col8, #T_0e5f5_row1_col10, #T_0e5f5_row1_col11, #T_0e5f5_row1_col17 {\n",
              "  background-color: #fff7fb;\n",
              "  color: #000000;\n",
              "}\n",
              "#T_0e5f5_row0_col1, #T_0e5f5_row0_col2, #T_0e5f5_row0_col3, #T_0e5f5_row0_col6, #T_0e5f5_row0_col7, #T_0e5f5_row0_col8, #T_0e5f5_row0_col10, #T_0e5f5_row0_col11, #T_0e5f5_row1_col0, #T_0e5f5_row1_col5, #T_0e5f5_row1_col9, #T_0e5f5_row1_col12, #T_0e5f5_row1_col13, #T_0e5f5_row1_col14, #T_0e5f5_row1_col15, #T_0e5f5_row1_col16 {\n",
              "  background-color: #023858;\n",
              "  color: #f1f1f1;\n",
              "}\n",
              "</style>\n",
              "<table id=\"T_0e5f5\" class=\"dataframe\">\n",
              "  <thead>\n",
              "    <tr>\n",
              "      <th class=\"blank level0\" >&nbsp;</th>\n",
              "      <th id=\"T_0e5f5_level0_col0\" class=\"col_heading level0 col0\" >aparecen</th>\n",
              "      <th id=\"T_0e5f5_level0_col1\" class=\"col_heading level0 col1\" >contenido</th>\n",
              "      <th id=\"T_0e5f5_level0_col2\" class=\"col_heading level0 col2\" >de</th>\n",
              "      <th id=\"T_0e5f5_level0_col3\" class=\"col_heading level0 col3\" >del</th>\n",
              "      <th id=\"T_0e5f5_level0_col4\" class=\"col_heading level0 col4\" >documento</th>\n",
              "      <th id=\"T_0e5f5_level0_col5\" class=\"col_heading level0 col5\" >en</th>\n",
              "      <th id=\"T_0e5f5_level0_col6\" class=\"col_heading level0 col6\" >frecuencias</th>\n",
              "      <th id=\"T_0e5f5_level0_col7\" class=\"col_heading level0 col7\" >información</th>\n",
              "      <th id=\"T_0e5f5_level0_col8\" class=\"col_heading level0 col8\" >la</th>\n",
              "      <th id=\"T_0e5f5_level0_col9\" class=\"col_heading level0 col9\" >las</th>\n",
              "      <th id=\"T_0e5f5_level0_col10\" class=\"col_heading level0 col10\" >matriz</th>\n",
              "      <th id=\"T_0e5f5_level0_col11\" class=\"col_heading level0 col11\" >otorga</th>\n",
              "      <th id=\"T_0e5f5_level0_col12\" class=\"col_heading level0 col12\" >palabras</th>\n",
              "      <th id=\"T_0e5f5_level0_col13\" class=\"col_heading level0 col13\" >que</th>\n",
              "      <th id=\"T_0e5f5_level0_col14\" class=\"col_heading level0 col14\" >reflejan</th>\n",
              "      <th id=\"T_0e5f5_level0_col15\" class=\"col_heading level0 col15\" >sus</th>\n",
              "      <th id=\"T_0e5f5_level0_col16\" class=\"col_heading level0 col16\" >tópicos</th>\n",
              "      <th id=\"T_0e5f5_level0_col17\" class=\"col_heading level0 col17\" >un</th>\n",
              "    </tr>\n",
              "  </thead>\n",
              "  <tbody>\n",
              "    <tr>\n",
              "      <th id=\"T_0e5f5_level0_row0\" class=\"row_heading level0 row0\" >0</th>\n",
              "      <td id=\"T_0e5f5_row0_col0\" class=\"data row0 col0\" >0</td>\n",
              "      <td id=\"T_0e5f5_row0_col1\" class=\"data row0 col1\" >1</td>\n",
              "      <td id=\"T_0e5f5_row0_col2\" class=\"data row0 col2\" >2</td>\n",
              "      <td id=\"T_0e5f5_row0_col3\" class=\"data row0 col3\" >1</td>\n",
              "      <td id=\"T_0e5f5_row0_col4\" class=\"data row0 col4\" >1</td>\n",
              "      <td id=\"T_0e5f5_row0_col5\" class=\"data row0 col5\" >0</td>\n",
              "      <td id=\"T_0e5f5_row0_col6\" class=\"data row0 col6\" >1</td>\n",
              "      <td id=\"T_0e5f5_row0_col7\" class=\"data row0 col7\" >1</td>\n",
              "      <td id=\"T_0e5f5_row0_col8\" class=\"data row0 col8\" >1</td>\n",
              "      <td id=\"T_0e5f5_row0_col9\" class=\"data row0 col9\" >0</td>\n",
              "      <td id=\"T_0e5f5_row0_col10\" class=\"data row0 col10\" >1</td>\n",
              "      <td id=\"T_0e5f5_row0_col11\" class=\"data row0 col11\" >1</td>\n",
              "      <td id=\"T_0e5f5_row0_col12\" class=\"data row0 col12\" >0</td>\n",
              "      <td id=\"T_0e5f5_row0_col13\" class=\"data row0 col13\" >0</td>\n",
              "      <td id=\"T_0e5f5_row0_col14\" class=\"data row0 col14\" >0</td>\n",
              "      <td id=\"T_0e5f5_row0_col15\" class=\"data row0 col15\" >0</td>\n",
              "      <td id=\"T_0e5f5_row0_col16\" class=\"data row0 col16\" >0</td>\n",
              "      <td id=\"T_0e5f5_row0_col17\" class=\"data row0 col17\" >1</td>\n",
              "    </tr>\n",
              "    <tr>\n",
              "      <th id=\"T_0e5f5_level0_row1\" class=\"row_heading level0 row1\" >1</th>\n",
              "      <td id=\"T_0e5f5_row1_col0\" class=\"data row1 col0\" >1</td>\n",
              "      <td id=\"T_0e5f5_row1_col1\" class=\"data row1 col1\" >0</td>\n",
              "      <td id=\"T_0e5f5_row1_col2\" class=\"data row1 col2\" >0</td>\n",
              "      <td id=\"T_0e5f5_row1_col3\" class=\"data row1 col3\" >0</td>\n",
              "      <td id=\"T_0e5f5_row1_col4\" class=\"data row1 col4\" >1</td>\n",
              "      <td id=\"T_0e5f5_row1_col5\" class=\"data row1 col5\" >1</td>\n",
              "      <td id=\"T_0e5f5_row1_col6\" class=\"data row1 col6\" >0</td>\n",
              "      <td id=\"T_0e5f5_row1_col7\" class=\"data row1 col7\" >0</td>\n",
              "      <td id=\"T_0e5f5_row1_col8\" class=\"data row1 col8\" >0</td>\n",
              "      <td id=\"T_0e5f5_row1_col9\" class=\"data row1 col9\" >1</td>\n",
              "      <td id=\"T_0e5f5_row1_col10\" class=\"data row1 col10\" >0</td>\n",
              "      <td id=\"T_0e5f5_row1_col11\" class=\"data row1 col11\" >0</td>\n",
              "      <td id=\"T_0e5f5_row1_col12\" class=\"data row1 col12\" >1</td>\n",
              "      <td id=\"T_0e5f5_row1_col13\" class=\"data row1 col13\" >1</td>\n",
              "      <td id=\"T_0e5f5_row1_col14\" class=\"data row1 col14\" >1</td>\n",
              "      <td id=\"T_0e5f5_row1_col15\" class=\"data row1 col15\" >1</td>\n",
              "      <td id=\"T_0e5f5_row1_col16\" class=\"data row1 col16\" >1</td>\n",
              "      <td id=\"T_0e5f5_row1_col17\" class=\"data row1 col17\" >1</td>\n",
              "    </tr>\n",
              "  </tbody>\n",
              "</table>\n"
            ],
            "text/plain": [
              "<pandas.io.formats.style.Styler at 0x7ad2a2f43190>"
            ]
          },
          "execution_count": 31,
          "metadata": {},
          "output_type": "execute_result"
        }
      ],
      "source": [
        "import pandas as pd\n",
        "pd.DataFrame(data = X.todense(), columns = vec.get_feature_names_out()).style.background_gradient()"
      ]
    },
    {
      "cell_type": "markdown",
      "source": [
        "##refleja el contenido de un documento que pueden identificar crece con nuevas palabras del vocabulario."
      ],
      "metadata": {
        "id": "ujpJCC5SVXy3"
      }
    },
    {
      "cell_type": "markdown",
      "metadata": {
        "id": "cQ5qU9Tu00xh"
      },
      "source": [
        "Una vez que tenemos nuestros datos ordenados, podemos ajustar nuestro modelo de aprendizaje automático aproximadamente así:\n",
        "\n",
        "```python\n",
        "from sklearn.familia_de_modelos import Modelo\n",
        "mi_modelo = Modelo(hiperparámetros)\n",
        "mi_modelo.fit(X, y)\n",
        "\n",
        "predicción = mi_modelo.predict(nuevo_X)\n",
        "```\n",
        "\n",
        "Para ajustar nuestros modelos de machine learning, vamos a tener nuestra matriz de features **X** y un vector **y** (en el caso de ML supervisado), donde **X** tiene la forma ``(n_observaciones, n_variables)`` e **y** ``(n_observaciones)``"
      ]
    },
    {
      "cell_type": "markdown",
      "metadata": {
        "id": "m6yZVb5nGrmG"
      },
      "source": [
        "###que limitaciones o problemas traera, la matriz crece con cada palabra se agrega NUEVA DEL VOCABULARIO O VARIACIONES DE CADA PALABRA, crece muy rapido, LAS PALABRAS TIPICAS OCOMO DE APARECE  varias veces alli aparece TF_IDF"
      ]
    },
    {
      "cell_type": "markdown",
      "metadata": {
        "id": "nqyfm6WGHyfp"
      },
      "source": [
        "##matriz TF-IDF COMPENSA LA APARICION, NORMALIZA CUANTAS VECES APARECE Y HACE 2 normalizaciones ponderar la frecuencia relativa de cada documentos y en cuales documentos aparece, cuando es mas informativa una palabra, en cambio muy poco informativa aparece en la misma proporcion , pone frecuencia relativa , dividiendo por la aparicion total y en cuantos documentos aparece, tecnica muy efectiva base donde construimos los algoritmos"
      ]
    },
    {
      "cell_type": "markdown",
      "source": [
        "# **matriz de termino y frecuencia**"
      ],
      "metadata": {
        "id": "r6XM1Qf5XDN_"
      }
    },
    {
      "cell_type": "markdown",
      "metadata": {
        "id": "T4aQ4Ohmqcpb"
      },
      "source": [
        "# TF-IDF\n",
        "\n",
        "**Term frequency-inverse document frequency (TF–IDF)** es una técnica alternativa que computa la frecuencia relativa de cada palabra por documento, ponderada por la inversa de su frecuencia relativa a lo largo del *corpus* (colección de documentos). Este método funciona mejor con ciertos algoritmos de clasificación, y es ámpliamente utilizada"
      ]
    },
    {
      "cell_type": "markdown",
      "source": [
        "## frecuencia que aparece cada palabra"
      ],
      "metadata": {
        "id": "SZ5lMgXBXIIe"
      }
    },
    {
      "cell_type": "markdown",
      "metadata": {
        "id": "EbLpYY_iY5d0"
      },
      "source": [
        "Vamos a calcular las matrices de ocurrencias de términos usando sklearn.\n",
        "\n",
        "Ámbas clases primero construyen el vocabulario total, y luego:  \n",
        "- **CountVectorizer** nos devuelve la frecuencia absoluta de cada término por cada documento.\n",
        "- [**TF-IDF**](https://en.wikipedia.org/wiki/Tf%E2%80%93idf): calcula la frecuencia de cada término por documento, y normaliza por el total de documentos donde el término aparece.\n",
        "\n",
        "$${tf} (t,d)={\\frac {f_{t,d}}{\\sum _{t'\\in d}{f_{t',d}}}}$$\n",
        "\n",
        "$$\n",
        "idf( t, D ) = log \\frac{ \\text{| } D \\text{ |} }{ 1 + \\text{| } \\{ d \\in D : t \\in d \\} \\text{ |} }\n",
        "$$\n",
        "\n",
        "\n",
        "$$ tfidf( t, d, D ) = tf( t, d ) \\times idf( t, D )\n",
        "$$\n"
      ]
    },
    {
      "cell_type": "code",
      "execution_count": null,
      "metadata": {
        "colab": {
          "background_save": true
        },
        "id": "dtJtANUnCZ33",
        "outputId": "3b3bd7d2-d1c0-4026-ee61-3091d05eb49c"
      },
      "outputs": [
        {
          "data": {
            "text/html": [
              "<style type=\"text/css\">\n",
              "#T_25fce_row0_col0, #T_25fce_row0_col4, #T_25fce_row0_col5, #T_25fce_row0_col9, #T_25fce_row0_col12, #T_25fce_row0_col13, #T_25fce_row0_col14, #T_25fce_row0_col15, #T_25fce_row0_col16, #T_25fce_row0_col17, #T_25fce_row1_col1, #T_25fce_row1_col2, #T_25fce_row1_col3, #T_25fce_row1_col6, #T_25fce_row1_col7, #T_25fce_row1_col8, #T_25fce_row1_col10, #T_25fce_row1_col11 {\n",
              "  background-color: #fff7fb;\n",
              "  color: #000000;\n",
              "}\n",
              "#T_25fce_row0_col1, #T_25fce_row0_col2, #T_25fce_row0_col3, #T_25fce_row0_col6, #T_25fce_row0_col7, #T_25fce_row0_col8, #T_25fce_row0_col10, #T_25fce_row0_col11, #T_25fce_row1_col0, #T_25fce_row1_col4, #T_25fce_row1_col5, #T_25fce_row1_col9, #T_25fce_row1_col12, #T_25fce_row1_col13, #T_25fce_row1_col14, #T_25fce_row1_col15, #T_25fce_row1_col16, #T_25fce_row1_col17 {\n",
              "  background-color: #023858;\n",
              "  color: #f1f1f1;\n",
              "}\n",
              "</style>\n",
              "<table id=\"T_25fce\" class=\"dataframe\">\n",
              "  <thead>\n",
              "    <tr>\n",
              "      <th class=\"blank level0\" >&nbsp;</th>\n",
              "      <th id=\"T_25fce_level0_col0\" class=\"col_heading level0 col0\" >aparecen</th>\n",
              "      <th id=\"T_25fce_level0_col1\" class=\"col_heading level0 col1\" >contenido</th>\n",
              "      <th id=\"T_25fce_level0_col2\" class=\"col_heading level0 col2\" >de</th>\n",
              "      <th id=\"T_25fce_level0_col3\" class=\"col_heading level0 col3\" >del</th>\n",
              "      <th id=\"T_25fce_level0_col4\" class=\"col_heading level0 col4\" >documento</th>\n",
              "      <th id=\"T_25fce_level0_col5\" class=\"col_heading level0 col5\" >en</th>\n",
              "      <th id=\"T_25fce_level0_col6\" class=\"col_heading level0 col6\" >frecuencias</th>\n",
              "      <th id=\"T_25fce_level0_col7\" class=\"col_heading level0 col7\" >información</th>\n",
              "      <th id=\"T_25fce_level0_col8\" class=\"col_heading level0 col8\" >la</th>\n",
              "      <th id=\"T_25fce_level0_col9\" class=\"col_heading level0 col9\" >las</th>\n",
              "      <th id=\"T_25fce_level0_col10\" class=\"col_heading level0 col10\" >matriz</th>\n",
              "      <th id=\"T_25fce_level0_col11\" class=\"col_heading level0 col11\" >otorga</th>\n",
              "      <th id=\"T_25fce_level0_col12\" class=\"col_heading level0 col12\" >palabras</th>\n",
              "      <th id=\"T_25fce_level0_col13\" class=\"col_heading level0 col13\" >que</th>\n",
              "      <th id=\"T_25fce_level0_col14\" class=\"col_heading level0 col14\" >reflejan</th>\n",
              "      <th id=\"T_25fce_level0_col15\" class=\"col_heading level0 col15\" >sus</th>\n",
              "      <th id=\"T_25fce_level0_col16\" class=\"col_heading level0 col16\" >tópicos</th>\n",
              "      <th id=\"T_25fce_level0_col17\" class=\"col_heading level0 col17\" >un</th>\n",
              "    </tr>\n",
              "  </thead>\n",
              "  <tbody>\n",
              "    <tr>\n",
              "      <th id=\"T_25fce_level0_row0\" class=\"row_heading level0 row0\" >0</th>\n",
              "      <td id=\"T_25fce_row0_col0\" class=\"data row0 col0\" >0.000000</td>\n",
              "      <td id=\"T_25fce_row0_col1\" class=\"data row0 col1\" >0.288525</td>\n",
              "      <td id=\"T_25fce_row0_col2\" class=\"data row0 col2\" >0.577050</td>\n",
              "      <td id=\"T_25fce_row0_col3\" class=\"data row0 col3\" >0.288525</td>\n",
              "      <td id=\"T_25fce_row0_col4\" class=\"data row0 col4\" >0.205288</td>\n",
              "      <td id=\"T_25fce_row0_col5\" class=\"data row0 col5\" >0.000000</td>\n",
              "      <td id=\"T_25fce_row0_col6\" class=\"data row0 col6\" >0.288525</td>\n",
              "      <td id=\"T_25fce_row0_col7\" class=\"data row0 col7\" >0.288525</td>\n",
              "      <td id=\"T_25fce_row0_col8\" class=\"data row0 col8\" >0.288525</td>\n",
              "      <td id=\"T_25fce_row0_col9\" class=\"data row0 col9\" >0.000000</td>\n",
              "      <td id=\"T_25fce_row0_col10\" class=\"data row0 col10\" >0.288525</td>\n",
              "      <td id=\"T_25fce_row0_col11\" class=\"data row0 col11\" >0.288525</td>\n",
              "      <td id=\"T_25fce_row0_col12\" class=\"data row0 col12\" >0.000000</td>\n",
              "      <td id=\"T_25fce_row0_col13\" class=\"data row0 col13\" >0.000000</td>\n",
              "      <td id=\"T_25fce_row0_col14\" class=\"data row0 col14\" >0.000000</td>\n",
              "      <td id=\"T_25fce_row0_col15\" class=\"data row0 col15\" >0.000000</td>\n",
              "      <td id=\"T_25fce_row0_col16\" class=\"data row0 col16\" >0.000000</td>\n",
              "      <td id=\"T_25fce_row0_col17\" class=\"data row0 col17\" >0.205288</td>\n",
              "    </tr>\n",
              "    <tr>\n",
              "      <th id=\"T_25fce_level0_row1\" class=\"row_heading level0 row1\" >1</th>\n",
              "      <td id=\"T_25fce_row1_col0\" class=\"data row1 col0\" >0.333102</td>\n",
              "      <td id=\"T_25fce_row1_col1\" class=\"data row1 col1\" >0.000000</td>\n",
              "      <td id=\"T_25fce_row1_col2\" class=\"data row1 col2\" >0.000000</td>\n",
              "      <td id=\"T_25fce_row1_col3\" class=\"data row1 col3\" >0.000000</td>\n",
              "      <td id=\"T_25fce_row1_col4\" class=\"data row1 col4\" >0.237005</td>\n",
              "      <td id=\"T_25fce_row1_col5\" class=\"data row1 col5\" >0.333102</td>\n",
              "      <td id=\"T_25fce_row1_col6\" class=\"data row1 col6\" >0.000000</td>\n",
              "      <td id=\"T_25fce_row1_col7\" class=\"data row1 col7\" >0.000000</td>\n",
              "      <td id=\"T_25fce_row1_col8\" class=\"data row1 col8\" >0.000000</td>\n",
              "      <td id=\"T_25fce_row1_col9\" class=\"data row1 col9\" >0.333102</td>\n",
              "      <td id=\"T_25fce_row1_col10\" class=\"data row1 col10\" >0.000000</td>\n",
              "      <td id=\"T_25fce_row1_col11\" class=\"data row1 col11\" >0.000000</td>\n",
              "      <td id=\"T_25fce_row1_col12\" class=\"data row1 col12\" >0.333102</td>\n",
              "      <td id=\"T_25fce_row1_col13\" class=\"data row1 col13\" >0.333102</td>\n",
              "      <td id=\"T_25fce_row1_col14\" class=\"data row1 col14\" >0.333102</td>\n",
              "      <td id=\"T_25fce_row1_col15\" class=\"data row1 col15\" >0.333102</td>\n",
              "      <td id=\"T_25fce_row1_col16\" class=\"data row1 col16\" >0.333102</td>\n",
              "      <td id=\"T_25fce_row1_col17\" class=\"data row1 col17\" >0.237005</td>\n",
              "    </tr>\n",
              "  </tbody>\n",
              "</table>\n"
            ],
            "text/plain": [
              "<pandas.io.formats.style.Styler at 0x7ad26406b220>"
            ]
          },
          "execution_count": 32,
          "metadata": {},
          "output_type": "execute_result"
        }
      ],
      "source": [
        "from sklearn.feature_extraction.text import TfidfVectorizer\n",
        "vec = TfidfVectorizer()\n",
        "X = vec.fit_transform(textos)\n",
        "pd.DataFrame(data = X.todense(),\n",
        "             columns = vec.get_feature_names_out()).style.background_gradient()"
      ]
    },
    {
      "cell_type": "markdown",
      "source": [
        "### **contar cuantas veces aparece cada palabra refleja el contenido del documento, que problemas traera este enfoque , crece con cada palabra nueva del vocabulario esta matriz tiene cuestiones como la palabra de y no refleja el contenido del documento alli aparece la matriz tf-idf\n",
        " term frecuency-inverse document frecuency-compensa eso hace 2 normalizaciones, ponderar la frecuencia relativa con, de la palabra en cada documento y cuantas veces aparece en los otros documentos, palabra muy informativa, aparece muchas veces en un documento, si siempre en la misma proprocion enm todos los documentos, dividiendo por la aparicion total y cuantos documentos\n",
        " LO TRANSFORMA EN FLOAT % , VECTORIZACION DATOS BASE SOBRE DONDE CONSTRUIMOS LOS ALGORITMOS **"
      ],
      "metadata": {
        "id": "Giy9oARkZDcO"
      }
    },
    {
      "cell_type": "markdown",
      "source": [
        "### TEMA DE SEMANTICA DE LOS TEXTOS\n",
        "TOMAMOS LOS VECTORES Y QUE TEXTOS SE PARECEN ENTRE SI SISTEMAS DE PRODUCCION .."
      ],
      "metadata": {
        "id": "5xHm_kU_bFxH"
      }
    },
    {
      "cell_type": "markdown",
      "metadata": {
        "id": "lDdCuUc-HFVc"
      },
      "source": [
        "## Similitud coseno\n",
        "\n",
        "Recordando rápidamente la métrica de similitud coseno, podemos utilizarla en conjunto con TF-IDF para calcular similitud entre textos!\n",
        "\n",
        "$$sim(\\pmb x, \\pmb y) = \\frac {\\pmb x \\cdot \\pmb y}{||\\pmb x|| \\cdot ||\\pmb y||}$$\n",
        "\n",
        "Con los elementos vistos ya podemos construir el algoritmo de Análisis Semántico Latente, que fue de vanguardia y muy exitoso por muchos años.\n",
        "\n",
        "Para un ejemplo de TF-IDF con similitud coseno, en el contexto de sistemas de recomendación, véase [la última clase de Machine Learning](https://github.com/institutohumai/cursos-python)."
      ]
    },
    {
      "cell_type": "markdown",
      "metadata": {
        "id": "ixWq038tJ0bX"
      },
      "source": [
        "SEMANTICA DE DISTINTOS TEXTOS Y COMO APARECEN ENTRE SI SE TIENE EL lSA analisis semantico , usando tf-idf, similitud coseno , en el contenido en la semantica de distintos textos si se parecen entre si, sistemas en produccion, ultima clase de machine learning.se tiene el analisis semantico latente lsa, se construye la matriz tf-idf, se hace reduccion de dimensionalidad de aprendizaje no supervisado, se puede computar simuilitud coseno entre los vectores,\n",
        "\n"
      ]
    },
    {
      "cell_type": "markdown",
      "metadata": {
        "id": "CW_ewqHVK5a3"
      },
      "source": [
        "Hipotesis distribucional, el significado de la palabra se puede identificar a partir de su contextos, palabras que identifican contextos parecidos, el significado de la palabra se define por el contexto, PALABRAS TIENEN CONTEXTOS SIMILARES, el significado mismo se establece en el contexto que aparece"
      ]
    },
    {
      "cell_type": "markdown",
      "metadata": {
        "id": "OBhhKExoLJoL"
      },
      "source": [
        "## construir la matriz con una bolsa de palabras, no se considera el orden, palabras al lado, estamos perdiendo que palabras por si solas no significan, palabras compuestas.."
      ]
    },
    {
      "cell_type": "markdown",
      "metadata": {
        "id": "FfOX-BC9LShh"
      },
      "source": [
        "palabras que no significan, LA RIOJA. ITALOAMERICANO, juntas singnificado, en tf -idf, perdemos el significado."
      ]
    },
    {
      "cell_type": "markdown",
      "metadata": {
        "id": "DcAN4Y9v57Oo"
      },
      "source": [
        "## N-gramas\n",
        "\n",
        "Muchas veces la unidad lingüística no es una palabra si no que es una palabra compuesta, ya sea en un nombre (ej. \"La Rioja\") como en palabras compuestas (\"italo-americano\"). Tomando palabras sueltas, esos significados se pierden.\n",
        "Para contemplar esto, se pueden tomar combinaciones de N palabras: **n-gramas**."
      ]
    },
    {
      "cell_type": "markdown",
      "source": [
        "##solucion  a esto los n gramas buscan combinacion de palabras en lugar de palabras sueltas"
      ],
      "metadata": {
        "id": "NYStGKMFcm69"
      }
    },
    {
      "cell_type": "markdown",
      "source": [
        "## si tomamos 3 gramas es la dimensionallidad de nuestra matriz crece enormemente, memoria, complica proceso , proceso seleccion de variable, tomar los ngramas de umbral de frecuencia"
      ],
      "metadata": {
        "id": "4vOPmnxvc6Nt"
      }
    },
    {
      "cell_type": "markdown",
      "metadata": {
        "id": "hws4Kkj5LeNl"
      },
      "source": [
        "retenemos el significado, tomamos 3 gramas, la dimensionalidad de la matriz de vocabulario crece, podemos hacer proceso de seleccion de variables, n gramas de umbral de frecuencia, especificar procedimientos"
      ]
    },
    {
      "cell_type": "code",
      "execution_count": null,
      "metadata": {
        "colab": {
          "background_save": true
        },
        "id": "GopqmKYl-I9Q"
      },
      "outputs": [],
      "source": [
        "data['text'] = data['text'].apply(lambda x: x[:1000])  ##"
      ]
    },
    {
      "cell_type": "markdown",
      "metadata": {
        "id": "PevMienTOX9i"
      },
      "source": [
        "## que n-gramas superan este umbral de frecuencia y son los mas preponderantes"
      ]
    },
    {
      "cell_type": "markdown",
      "source": [
        "##min_df min of fredoom cuantas veces aparecen 20\n",
        "## ngram_range 2 a 3 palabras armamos la matriz de fecuencia por palabra, frecuencia total y en cuantos textos, vectorizar para aplicar modelos de machine learning"
      ],
      "metadata": {
        "id": "NoWP3rzsdNM7"
      }
    },
    {
      "cell_type": "code",
      "execution_count": null,
      "metadata": {
        "colab": {
          "background_save": true
        },
        "id": "HB9_s2R-57Oo",
        "outputId": "3f1eeeaf-ac85-4a8b-ffe1-df010f9fd129"
      },
      "outputs": [
        {
          "name": "stdout",
          "output_type": "stream",
          "text": [
            "[[0 0 0 ... 0 0 0]\n",
            " [0 0 0 ... 0 0 0]\n",
            " [0 0 0 ... 0 0 0]\n",
            " ...\n",
            " [0 0 0 ... 0 0 0]\n",
            " [0 0 0 ... 0 0 0]\n",
            " [0 0 0 ... 0 0 0]]\n",
            "['00 de' '00 de la' '00 en' ... 'únicamente una nueva' 'único de'\n",
            " 'único que']\n"
          ]
        }
      ],
      "source": [
        "# Definimos una lista con los documentos\n",
        "textos = data['text']\n",
        "\n",
        "# Instanciamos un CountVectorizer con una tupla indicando el rango de los n-gramas a considerar\n",
        "vectorizer = CountVectorizer(ngram_range=(2,3), min_df=20) ### , combinaciones de 2 o 3 palabras y minimos grados de libertad cuantas apariciones debe superar cada palabra con las que aparece 20 veces o fraccion\n",
        "\n",
        "# Usamos .fit_transform() para ajustar el CV y transformar los datos\n",
        "X = vectorizer.fit_transform(textos)\n",
        "print(X.toarray())\n",
        "\n",
        "# Usando .get_feature_names_out() podemos acceder al indice de palabras\n",
        "print(vectorizer.get_feature_names_out())"
      ]
    },
    {
      "cell_type": "code",
      "execution_count": null,
      "metadata": {
        "colab": {
          "background_save": true
        },
        "id": "PB69Ub00Dff4",
        "outputId": "d46a2ee5-7e53-420a-a673-1bce9b6bdac0"
      },
      "outputs": [
        {
          "data": {
            "image/png": "[encoded data removed]",
            "text/plain": [
              "<Figure size 640x480 with 1 Axes>"
            ]
          },
          "metadata": {},
          "output_type": "display_data"
        }
      ],
      "source": [
        "pd.DataFrame(X.sum(axis=0).T,\n",
        "            index=vectorizer.get_feature_names_out(),\n",
        "            columns=['freq']).sort_values(by='freq',\n",
        "                                          ascending=False)[:20].plot(kind='bar',title='N Gramas');"
      ]
    },
    {
      "cell_type": "markdown",
      "source": [
        "## palabras mas frecuentes, las combinaciones de los contenidos de las noticias"
      ],
      "metadata": {
        "id": "9ms9byNheCjz"
      }
    },
    {
      "cell_type": "markdown",
      "metadata": {
        "id": "vEXUzE6SOkd8"
      },
      "source": [
        "## no nos aporto informacion , sobre los contenidos de las noticias , proximo paso bolsa de palabras tf-idf, sacar las palabras que no aportan informacion"
      ]
    },
    {
      "cell_type": "markdown",
      "metadata": {
        "id": "M-yy_LsP57NY"
      },
      "source": [
        "## Stop Words\n",
        "\n"
      ]
    },
    {
      "cell_type": "markdown",
      "source": [
        "## saco las palabras mas frecuentes,"
      ],
      "metadata": {
        "id": "zTmCTpBGeLb8"
      }
    },
    {
      "cell_type": "code",
      "execution_count": null,
      "metadata": {
        "colab": {
          "background_save": true
        },
        "id": "Fy41qLlo57Na",
        "outputId": "118a42d3-847e-4e4e-c335-d059f6d67961"
      },
      "outputs": [
        {
          "name": "stdout",
          "output_type": "stream",
          "text": [
            "Requirement already satisfied: stop_words in /usr/local/lib/python3.10/dist-packages (2018.7.23)\n"
          ]
        }
      ],
      "source": [
        "!pip install stop_words\n",
        "import stop_words\n",
        "# Usamos stop words del español\n",
        "stop_words = stop_words.get_stop_words('es')"
      ]
    },
    {
      "cell_type": "markdown",
      "source": [
        "## tiene conectores , verbos, lista de stopwords y limpiar la matriz"
      ],
      "metadata": {
        "id": "eAMa-xPKePdH"
      }
    },
    {
      "cell_type": "code",
      "execution_count": null,
      "metadata": {
        "colab": {
          "background_save": true
        },
        "id": "1CgaAPJVOyGb",
        "outputId": "39655a66-f2e3-455a-e223-40cb88a8bc51"
      },
      "outputs": [
        {
          "data": {
            "text/plain": [
              "['a',\n",
              " 'al',\n",
              " 'algo',\n",
              " 'algunas',\n",
              " 'algunos',\n",
              " 'ante',\n",
              " 'antes',\n",
              " 'como',\n",
              " 'con',\n",
              " 'contra',\n",
              " 'cual',\n",
              " 'cuando',\n",
              " 'de',\n",
              " 'del',\n",
              " 'desde',\n",
              " 'donde',\n",
              " 'durante',\n",
              " 'e',\n",
              " 'el',\n",
              " 'ella',\n",
              " 'ellas',\n",
              " 'ellos',\n",
              " 'en',\n",
              " 'entre',\n",
              " 'era',\n",
              " 'erais',\n",
              " 'eran',\n",
              " 'eras',\n",
              " 'eres',\n",
              " 'es',\n",
              " 'esa',\n",
              " 'esas',\n",
              " 'ese',\n",
              " 'eso',\n",
              " 'esos',\n",
              " 'esta',\n",
              " 'estaba',\n",
              " 'estabais',\n",
              " 'estaban',\n",
              " 'estabas',\n",
              " 'estad',\n",
              " 'estada',\n",
              " 'estadas',\n",
              " 'estado',\n",
              " 'estados',\n",
              " 'estamos',\n",
              " 'estando',\n",
              " 'estar',\n",
              " 'estaremos',\n",
              " 'estará',\n",
              " 'estarán',\n",
              " 'estarás',\n",
              " 'estaré',\n",
              " 'estaréis',\n",
              " 'estaría',\n",
              " 'estaríais',\n",
              " 'estaríamos',\n",
              " 'estarían',\n",
              " 'estarías',\n",
              " 'estas',\n",
              " 'este',\n",
              " 'estemos',\n",
              " 'esto',\n",
              " 'estos',\n",
              " 'estoy',\n",
              " 'estuve',\n",
              " 'estuviera',\n",
              " 'estuvierais',\n",
              " 'estuvieran',\n",
              " 'estuvieras',\n",
              " 'estuvieron',\n",
              " 'estuviese',\n",
              " 'estuvieseis',\n",
              " 'estuviesen',\n",
              " 'estuvieses',\n",
              " 'estuvimos',\n",
              " 'estuviste',\n",
              " 'estuvisteis',\n",
              " 'estuviéramos',\n",
              " 'estuviésemos',\n",
              " 'estuvo',\n",
              " 'está',\n",
              " 'estábamos',\n",
              " 'estáis',\n",
              " 'están',\n",
              " 'estás',\n",
              " 'esté',\n",
              " 'estéis',\n",
              " 'estén',\n",
              " 'estés',\n",
              " 'fue',\n",
              " 'fuera',\n",
              " 'fuerais',\n",
              " 'fueran',\n",
              " 'fueras',\n",
              " 'fueron',\n",
              " 'fuese',\n",
              " 'fueseis',\n",
              " 'fuesen',\n",
              " 'fueses',\n",
              " 'fui',\n",
              " 'fuimos',\n",
              " 'fuiste',\n",
              " 'fuisteis',\n",
              " 'fuéramos',\n",
              " 'fuésemos',\n",
              " 'ha',\n",
              " 'habida',\n",
              " 'habidas',\n",
              " 'habido',\n",
              " 'habidos',\n",
              " 'habiendo',\n",
              " 'habremos',\n",
              " 'habrá',\n",
              " 'habrán',\n",
              " 'habrás',\n",
              " 'habré',\n",
              " 'habréis',\n",
              " 'habría',\n",
              " 'habríais',\n",
              " 'habríamos',\n",
              " 'habrían',\n",
              " 'habrías',\n",
              " 'habéis',\n",
              " 'había',\n",
              " 'habíais',\n",
              " 'habíamos',\n",
              " 'habían',\n",
              " 'habías',\n",
              " 'han',\n",
              " 'has',\n",
              " 'hasta',\n",
              " 'hay',\n",
              " 'haya',\n",
              " 'hayamos',\n",
              " 'hayan',\n",
              " 'hayas',\n",
              " 'hayáis',\n",
              " 'he',\n",
              " 'hemos',\n",
              " 'hube',\n",
              " 'hubiera',\n",
              " 'hubierais',\n",
              " 'hubieran',\n",
              " 'hubieras',\n",
              " 'hubieron',\n",
              " 'hubiese',\n",
              " 'hubieseis',\n",
              " 'hubiesen',\n",
              " 'hubieses',\n",
              " 'hubimos',\n",
              " 'hubiste',\n",
              " 'hubisteis',\n",
              " 'hubiéramos',\n",
              " 'hubiésemos',\n",
              " 'hubo',\n",
              " 'la',\n",
              " 'las',\n",
              " 'le',\n",
              " 'les',\n",
              " 'lo',\n",
              " 'los',\n",
              " 'me',\n",
              " 'mi',\n",
              " 'mis',\n",
              " 'mucho',\n",
              " 'muchos',\n",
              " 'muy',\n",
              " 'más',\n",
              " 'mí',\n",
              " 'mía',\n",
              " 'mías',\n",
              " 'mío',\n",
              " 'míos',\n",
              " 'nada',\n",
              " 'ni',\n",
              " 'no',\n",
              " 'nos',\n",
              " 'nosotras',\n",
              " 'nosotros',\n",
              " 'nuestra',\n",
              " 'nuestras',\n",
              " 'nuestro',\n",
              " 'nuestros',\n",
              " 'o',\n",
              " 'os',\n",
              " 'otra',\n",
              " 'otras',\n",
              " 'otro',\n",
              " 'otros',\n",
              " 'para',\n",
              " 'pero',\n",
              " 'poco',\n",
              " 'por',\n",
              " 'porque',\n",
              " 'que',\n",
              " 'quien',\n",
              " 'quienes',\n",
              " 'qué',\n",
              " 'se',\n",
              " 'sea',\n",
              " 'seamos',\n",
              " 'sean',\n",
              " 'seas',\n",
              " 'seremos',\n",
              " 'será',\n",
              " 'serán',\n",
              " 'serás',\n",
              " 'seré',\n",
              " 'seréis',\n",
              " 'sería',\n",
              " 'seríais',\n",
              " 'seríamos',\n",
              " 'serían',\n",
              " 'serías',\n",
              " 'seáis',\n",
              " 'sido',\n",
              " 'siendo',\n",
              " 'sin',\n",
              " 'sobre',\n",
              " 'sois',\n",
              " 'somos',\n",
              " 'son',\n",
              " 'soy',\n",
              " 'su',\n",
              " 'sus',\n",
              " 'suya',\n",
              " 'suyas',\n",
              " 'suyo',\n",
              " 'suyos',\n",
              " 'sí',\n",
              " 'también',\n",
              " 'tanto',\n",
              " 'te',\n",
              " 'tendremos',\n",
              " 'tendrá',\n",
              " 'tendrán',\n",
              " 'tendrás',\n",
              " 'tendré',\n",
              " 'tendréis',\n",
              " 'tendría',\n",
              " 'tendríais',\n",
              " 'tendríamos',\n",
              " 'tendrían',\n",
              " 'tendrías',\n",
              " 'tened',\n",
              " 'tenemos',\n",
              " 'tenga',\n",
              " 'tengamos',\n",
              " 'tengan',\n",
              " 'tengas',\n",
              " 'tengo',\n",
              " 'tengáis',\n",
              " 'tenida',\n",
              " 'tenidas',\n",
              " 'tenido',\n",
              " 'tenidos',\n",
              " 'teniendo',\n",
              " 'tenéis',\n",
              " 'tenía',\n",
              " 'teníais',\n",
              " 'teníamos',\n",
              " 'tenían',\n",
              " 'tenías',\n",
              " 'ti',\n",
              " 'tiene',\n",
              " 'tienen',\n",
              " 'tienes',\n",
              " 'todo',\n",
              " 'todos',\n",
              " 'tu',\n",
              " 'tus',\n",
              " 'tuve',\n",
              " 'tuviera',\n",
              " 'tuvierais',\n",
              " 'tuvieran',\n",
              " 'tuvieras',\n",
              " 'tuvieron',\n",
              " 'tuviese',\n",
              " 'tuvieseis',\n",
              " 'tuviesen',\n",
              " 'tuvieses',\n",
              " 'tuvimos',\n",
              " 'tuviste',\n",
              " 'tuvisteis',\n",
              " 'tuviéramos',\n",
              " 'tuviésemos',\n",
              " 'tuvo',\n",
              " 'tuya',\n",
              " 'tuyas',\n",
              " 'tuyo',\n",
              " 'tuyos',\n",
              " 'tú',\n",
              " 'un',\n",
              " 'una',\n",
              " 'uno',\n",
              " 'unos',\n",
              " 'vosotras',\n",
              " 'vosotros',\n",
              " 'vuestra',\n",
              " 'vuestras',\n",
              " 'vuestro',\n",
              " 'vuestros',\n",
              " 'y',\n",
              " 'ya',\n",
              " 'yo',\n",
              " 'él',\n",
              " 'éramos']"
            ]
          },
          "execution_count": 37,
          "metadata": {},
          "output_type": "execute_result"
        }
      ],
      "source": [
        "stop_words ## lista de stop words para retener las palabras mas informativas"
      ]
    },
    {
      "cell_type": "markdown",
      "source": [
        "## ajustamos la matriz"
      ],
      "metadata": {
        "id": "mWmTUs2feXcq"
      }
    },
    {
      "cell_type": "code",
      "execution_count": null,
      "metadata": {
        "colab": {
          "background_save": true
        },
        "id": "yoTBwJzEcmMx"
      },
      "outputs": [],
      "source": [
        "# Instanciamos un CountVectorizer con una tupla indicando el rango de los n-gramas a considerar\n",
        "vectorizer = CountVectorizer(ngram_range=(2,3), min_df=10, stop_words=stop_words)  ### ajustamos el objeto considere 2 0 3 ngramas, aparicion minima 10 veces, y reduzca los stopwords se la pasa al constructor de este objeto\n",
        "\n",
        "# Usamos .fit_transform() para ajustar el CV y transformar los datos\n",
        "X = vectorizer.fit_transform(textos)"
      ]
    },
    {
      "cell_type": "code",
      "execution_count": null,
      "metadata": {
        "colab": {
          "background_save": true
        },
        "id": "-DW9gWIBIy99",
        "outputId": "76dafeaa-a5a1-45ba-fb4c-37653bc1c33d"
      },
      "outputs": [
        {
          "data": {
            "image/png": "[encoded data removed]",
            "text/plain": [
              "<Figure size 640x480 with 1 Axes>"
            ]
          },
          "metadata": {},
          "output_type": "display_data"
        }
      ],
      "source": [
        "import matplotlib.pyplot as plt  ## frecuencia de las palabras conjunto de palabras usando los ngramas para refelejar contenido\n",
        "pd.DataFrame(X.sum(axis=0).T,\n",
        "            index=vectorizer.get_feature_names_out(),\n",
        "            columns=['freq']).sort_values(by='freq',\n",
        "                                          ascending=False)[:20].plot(kind='barh',title='N Gramas');"
      ]
    },
    {
      "cell_type": "markdown",
      "source": [
        "## AHORA TENEMOS LAS PALABRAS MAS FECUENTES, VEMOS QUE SON CONJUNTOS DE PALABRAS SI NO USAMOS LOS NGRAMAS Y LA REMOCION DE LOS STOPWORDS"
      ],
      "metadata": {
        "id": "yLX0jH20eanT"
      }
    },
    {
      "cell_type": "markdown",
      "metadata": {
        "id": "Ms5uHFvNPP6-"
      },
      "source": [
        "## conjuntos de palabras sin usar n-gramas no encontramos los terminos mas informativos que generan contenido"
      ]
    },
    {
      "cell_type": "markdown",
      "metadata": {
        "id": "8rrAXKB757OU"
      },
      "source": [
        "## Stemming--Stemm raiz de las palabras"
      ]
    },
    {
      "cell_type": "markdown",
      "metadata": {
        "id": "ppvp06OWRYDG"
      },
      "source": [
        "##El stemming es una técnica de preprocesamiento de textos en el procesamiento del lenguaje natural (PLN) que consiste en reducir las palabras flexionadas a su raíz o lema,"
      ]
    },
    {
      "cell_type": "markdown",
      "source": [
        "# **El stemming y la lematización son técnicas de preprocesamiento de texto que reducen las variantes de palabras a una forma base.**\n",
        "\n",
        "# **El stemming y la lematización son técnicas de preprocesamiento de textos en el procesamiento del lenguaje natural (PLN). En concreto, reducen las formas flexionadas de las palabras en un conjunto de datos de texto a una palabra raíz común o forma de diccionario, también conocida como \"lema\" en lingüística computacional.1**\n",
        "\n",
        "# **El stemming y la lematización son especialmente útiles en los sistemas de recuperación de información, como los motores de búsqueda, donde los usuarios pueden enviar una consulta con una palabra (por ejemplo, meditar) pero esperar resultados que utilicen cualquier forma declinada de la palabra (por ejemplo, medita, meditación, etc.). El stemming y la lematización también tienen como objetivo mejorar el procesamiento de texto en los algoritmos de machine learning.**\n",
        "\n"
      ],
      "metadata": {
        "id": "Wo7_rgbMgX6s"
      }
    },
    {
      "cell_type": "markdown",
      "source": [
        "![image.png](data:image/png;base64,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)"
      ],
      "metadata": {
        "id": "WKVOKA_Fghga"
      }
    },
    {
      "cell_type": "markdown",
      "source": [
        "# **El stemming frente a la lematización**\n",
        "El stemming y la lematización funcionan como una etapa en los oleoductos de minería de texto que convierten los datos de texto sin procesar en un formato estructurado para su procesamiento automático. Tanto el stemming como la lematización eliminan los afijos de las formas de las palabras declinadas, dejando solo una forma raíz.4 Estos procesos equivalen a eliminar caracteres del principio y el final de los tokens de palabra. Las raíces resultantes, o palabras base, se transmiten para su posterior procesamiento. Más allá de esta similitud básica, el stemming y la lematización tienen diferencias clave en la forma en que reducen las diferentes formas de una palabra a una forma base común."
      ],
      "metadata": {
        "id": "gVn8_QsGgm03"
      }
    },
    {
      "cell_type": "markdown",
      "metadata": {
        "id": "2XEbNH-VSDKl"
      },
      "source": [
        "construir dentro de la bolsa de palabras, recortar a la raiz de las palabras"
      ]
    },
    {
      "cell_type": "code",
      "execution_count": null,
      "metadata": {
        "colab": {
          "background_save": true
        },
        "id": "z_sH6aTC57OW"
      },
      "outputs": [],
      "source": [
        "# Instanciamos SnowballStemmer() de NLTK en español\n",
        "from nltk.stem import SnowballStemmer\n",
        "stemmer = SnowballStemmer('spanish')"
      ]
    },
    {
      "cell_type": "code",
      "execution_count": null,
      "metadata": {
        "colab": {
          "background_save": true
        },
        "id": "o-ULS9vxSnsW"
      },
      "outputs": [],
      "source": [
        "# Instanciamos SnowballStemmer() de NLTK en español\n",
        "from nltk.stem import SnowballStemmer\n",
        "stemmer1 = SnowballStemmer('english')"
      ]
    },
    {
      "cell_type": "code",
      "execution_count": null,
      "metadata": {
        "colab": {
          "background_save": true
        },
        "id": "z_ZBtP1HSPCq",
        "outputId": "d3daff66-261d-44ce-997d-78e12a4d7507"
      },
      "outputs": [
        {
          "data": {
            "text/plain": [
              "['jane',\n",
              " 'bought',\n",
              " 'me',\n",
              " 'these',\n",
              " 'books.jan',\n",
              " 'bought',\n",
              " 'a',\n",
              " 'book',\n",
              " 'for',\n",
              " 'me.sh',\n",
              " 'drop',\n",
              " 'a',\n",
              " 'line',\n",
              " 'to',\n",
              " 'him',\n",
              " '.',\n",
              " 'thank',\n",
              " 'you.sh',\n",
              " 'sleeps.i',\n",
              " 'sleep',\n",
              " 'a',\n",
              " 'lot.i',\n",
              " 'was',\n",
              " 'born',\n",
              " 'in',\n",
              " 'madrid',\n",
              " 'the',\n",
              " 'cat',\n",
              " 'was',\n",
              " 'chase',\n",
              " 'by',\n",
              " 'the',\n",
              " 'dog.i',\n",
              " 'was',\n",
              " 'born',\n",
              " 'in',\n",
              " 'madrid',\n",
              " 'dure',\n",
              " '1995.out',\n",
              " 'of',\n",
              " 'all',\n",
              " 'this',\n",
              " ',',\n",
              " 'someth',\n",
              " 'good',\n",
              " 'will',\n",
              " 'come.susan',\n",
              " 'left',\n",
              " 'afterth',\n",
              " 'rehears',\n",
              " '.',\n",
              " 'she',\n",
              " 'did',\n",
              " 'it',\n",
              " 'well.sh',\n",
              " 'sleep',\n",
              " 'dure',\n",
              " 'the',\n",
              " 'morn',\n",
              " ',',\n",
              " 'but',\n",
              " 'she',\n",
              " 'sleep',\n",
              " '.']"
            ]
          },
          "execution_count": 42,
          "metadata": {},
          "output_type": "execute_result"
        }
      ],
      "source": [
        "# Aplicamos el stemming para cada palabra pasando el string al metodo .stem()\n",
        "ejemplo1 = \"Jane bought me these books.Jane bought a book for me.She dropped a line to him. Thank you.She sleeps.I sleep a lot.I was born in Madrid the cat was chased by the dog.I was born in Madrid during 1995.Out of all this , something good will come.Susan left afterthe rehearsal. She did it well.She sleeps during the morning, but she sleeps.\"\n",
        "[stemmer1.stem(i) for i in nltk.word_tokenize(ejemplo1)]"
      ]
    },
    {
      "cell_type": "code",
      "execution_count": null,
      "metadata": {
        "colab": {
          "background_save": true
        },
        "id": "dQl_KZ1G57Og",
        "outputId": "c1129d37-3678-481a-d87e-ae45f5c52cf0"
      },
      "outputs": [
        {
          "data": {
            "text/plain": [
              "['mir', 'mir', 'cod', 'hac', 'hach']"
            ]
          },
          "execution_count": 43,
          "metadata": {},
          "output_type": "execute_result"
        }
      ],
      "source": [
        "# Aplicamos el stemming para cada palabra pasando el string al metodo .stem()\n",
        "ejemplo = 'mirar miraré codear hacer hachas'\n",
        "[stemmer.stem(i) for i in nltk.word_tokenize(ejemplo)]"
      ]
    },
    {
      "cell_type": "markdown",
      "source": [
        "## mirar y mirare comparten la misma matriz, tiempo verbal de estas palabras, lo gra unificar cierta informacion, normalizar estas palabras"
      ],
      "metadata": {
        "id": "BIf7iuG4g0Bz"
      }
    },
    {
      "cell_type": "markdown",
      "metadata": {
        "id": "aGWbyIf_Z0dW"
      },
      "source": [
        "¿Qué ventajas y desventajas piensan que conlleva el uso de *stemming*?"
      ]
    },
    {
      "cell_type": "markdown",
      "metadata": {
        "id": "OrOVGFfdS78i"
      },
      "source": [
        "## estamos perdiendo informacion, el tiempo verbal de estas palabras es importante, afecta al algoritmo, tenemos una manera de normalizar las palabras , lemmatizacion"
      ]
    },
    {
      "cell_type": "markdown",
      "metadata": {
        "id": "VOqWjwsSSNEp"
      },
      "source": []
    },
    {
      "cell_type": "markdown",
      "source": [
        "lematizacion sin genero sin numero"
      ],
      "metadata": {
        "id": "hdC_3fHImZ5h"
      }
    },
    {
      "cell_type": "markdown",
      "source": [
        "# **###el stemming y la lematización tienen sus respectivas desventajas. Como se ilustra con el ejemplo de Hamlet, el stemming es un proceso relativamente heurístico y basado en reglas de eliminación de cadenas de caracteres. El overstemming y el understemming son dos errores comunes que surgen. El primero sucede cuando dos palabras semánticamente distintas se reducen a la misma raíz (por ejemplo, news a new); el understemming se produce cuando dos palabras relacionadas semánticamente no se reducen a la misma raíz (por ejemplo, knavish y knave a knavish y knave respectivamente).9 Además, el stemming solo elimina los sufijos de las palabras y, por lo tanto, no puede tener en cuenta las formas verbales irregulares o los prefijos como lo hace la lematización. Por supuesto, el stemming es relativamente sencillo y fácil de aplicar, mientras que la lematización puede ser más costosa desde el punto de vista informático y requerir más tiempo en función del tamaño de los datos procesados.**\n",
        "\n"
      ],
      "metadata": {
        "id": "1NZ4WZpFhl1m"
      }
    },
    {
      "cell_type": "markdown",
      "metadata": {
        "id": "D0Rs6ABnxUcU"
      },
      "source": [
        "# SpaCy\n",
        "\n",
        "Mientras NLTK se centra en técnicas más bien tradicionales, [spaCy](https://spacy.io/) ofrece una API muy cómoda que integra modelos de aprendizaje automático que resuelven tareas típicas de lingüística computacional.\n"
      ]
    },
    {
      "cell_type": "code",
      "execution_count": 1,
      "metadata": {
        "id": "O0A1YNxlHq4O"
      },
      "outputs": [],
      "source": [
        "%%capture\n",
        "!python -m spacy download es_core_news_md  ## modelos de noticias en español de tamaño mediano\n",
        "import numpy as np\n",
        "import spacy\n",
        "from spacy import displacy"
      ]
    },
    {
      "cell_type": "code",
      "execution_count": 2,
      "metadata": {
        "id": "8w3z8ZugxUcV"
      },
      "outputs": [],
      "source": [
        "# Inicializamos Spacy con modelos en español\n",
        "nlp = spacy.load('es_core_news_md')  ## noticias en español de tamaño mediano"
      ]
    },
    {
      "cell_type": "code",
      "execution_count": 3,
      "metadata": {
        "id": "QF_uKXtf0enc"
      },
      "outputs": [],
      "source": [
        "ejemplo = 'El Doctor afirmó que actuando de maneras probabilísticas el cerebro aprende conceptos discretos. ¡Qué fenómeno misterioso!'"
      ]
    },
    {
      "cell_type": "code",
      "execution_count": 4,
      "metadata": {
        "colab": {
          "base_uri": "https://localhost:8080/"
        },
        "id": "KsuwNwjVxUcd",
        "outputId": "e1718f9d-986f-4cfd-bd99-9d3f1ec1a094"
      },
      "outputs": [
        {
          "output_type": "execute_result",
          "data": {
            "text/plain": [
              "spacy.tokens.doc.Doc"
            ]
          },
          "metadata": {},
          "execution_count": 4
        }
      ],
      "source": [
        "# Instanciamos un Doc de spacy con nuestro texto\n",
        "doc = nlp(ejemplo)  ## objeto nlp spacy\n",
        "type(doc)"
      ]
    },
    {
      "cell_type": "code",
      "execution_count": 5,
      "metadata": {
        "colab": {
          "base_uri": "https://localhost:8080/"
        },
        "id": "5u9H5jwUTm5z",
        "outputId": "4d6295ea-f7d1-4d94-ea4b-1e9e35c9a2c5"
      },
      "outputs": [
        {
          "output_type": "execute_result",
          "data": {
            "text/plain": [
              "El Doctor afirmó que actuando de maneras probabilísticas el cerebro aprende conceptos discretos. ¡Qué fenómeno misterioso!"
            ]
          },
          "metadata": {},
          "execution_count": 5
        }
      ],
      "source": [
        "doc## tokeniza por si mismo"
      ]
    },
    {
      "cell_type": "code",
      "execution_count": 6,
      "metadata": {
        "colab": {
          "base_uri": "https://localhost:8080/"
        },
        "id": "6x8t-odvTpEO",
        "outputId": "8aa14e13-aa69-456f-a42a-a0e39ab562c0"
      },
      "outputs": [
        {
          "output_type": "execute_result",
          "data": {
            "text/plain": [
              "afirmó"
            ]
          },
          "metadata": {},
          "execution_count": 6
        }
      ],
      "source": [
        "doc[2] ## tokenizo las palabras"
      ]
    },
    {
      "cell_type": "markdown",
      "source": [
        "## *la lematizacion es normalizacion llevar cada palabra a su forma neutra, canonica esencial , sin genero sin numero **texto en negrita**"
      ],
      "metadata": {
        "id": "lz1YvID3mjVV"
      }
    },
    {
      "cell_type": "code",
      "source": [
        "from nltk.stem.snowball import SnowballStemmer\n",
        "\n",
        "stemmer = SnowballStemmer(\"spanish\") # Assuming you're working with Spanish text\n",
        "for word in doc:\n",
        "  print(word.lemma_, word.text, word.pos_, stemmer.stem(word.text), word.morph, word.ent_id_, word.ent_kb_id_) # Change stemm to stem"
      ],
      "metadata": {
        "colab": {
          "base_uri": "https://localhost:8080/"
        },
        "id": "W8UHN2ZPmEJZ",
        "outputId": "01d9ce2f-1fff-43a0-ea54-9b989a10a802"
      },
      "execution_count": 24,
      "outputs": [
        {
          "output_type": "stream",
          "name": "stdout",
          "text": [
            "el El DET el Definite=Def|Gender=Masc|Number=Sing|PronType=Art  \n",
            "Doctor Doctor PROPN doctor   \n",
            "afirmar afirmó VERB afirm Mood=Ind|Number=Sing|Person=3|Tense=Past|VerbForm=Fin  \n",
            "que que SCONJ que   \n",
            "actuar actuando VERB actu VerbForm=Ger  \n",
            "de de ADP de   \n",
            "manera maneras NOUN maner Gender=Fem|Number=Plur  \n",
            "probabilística probabilísticas ADJ probabilist Gender=Fem|Number=Plur  \n",
            "el el DET el Definite=Def|Gender=Masc|Number=Sing|PronType=Art  \n",
            "cerebro cerebro NOUN cerebr Gender=Masc|Number=Sing  \n",
            "aprender aprende VERB aprend Mood=Ind|Number=Sing|Person=3|Tense=Pres|VerbForm=Fin  \n",
            "concepto conceptos NOUN concept Gender=Masc|Number=Plur  \n",
            "discreto discretos ADJ discret Gender=Masc|Number=Plur  \n",
            ". . PUNCT . PunctType=Peri  \n",
            "¡ ¡ PUNCT ¡ PunctSide=Ini|PunctType=Excl  \n",
            "qué Qué DET que PronType=Int,Rel  \n",
            "fenómeno fenómeno NOUN fenomen Gender=Masc|Number=Sing  \n",
            "misterioso misterioso ADJ misteri Gender=Masc|Number=Sing  \n",
            "! ! PUNCT ! PunctSide=Fin|PunctType=Excl  \n"
          ]
        }
      ]
    },
    {
      "cell_type": "markdown",
      "source": [
        "## LEMATIZAR ES PREFERIBLE AL STEAMMING, SI APLICAMOS LA LEMATIZACION ANTES REDUCIMOS LAS COLUMNAS PARA APLICAR EL ALGORITMO"
      ],
      "metadata": {
        "id": "2x9Ix-tAm6oY"
      }
    },
    {
      "cell_type": "code",
      "execution_count": 23,
      "metadata": {
        "colab": {
          "base_uri": "https://localhost:8080/"
        },
        "id": "Hg8kunNYxUcy",
        "outputId": "8a55a583-1128-4ca7-cf12-12da2dda346a"
      },
      "outputs": [
        {
          "output_type": "stream",
          "name": "stdout",
          "text": [
            "el El DET el\n",
            "Doctor Doctor PROPN doctor\n",
            "afirmar afirmó VERB afirm\n",
            "que que SCONJ que\n",
            "actuar actuando VERB actu\n",
            "de de ADP de\n",
            "manera maneras NOUN maner\n",
            "probabilística probabilísticas ADJ probabilist\n",
            "el el DET el\n",
            "cerebro cerebro NOUN cerebr\n",
            "aprender aprende VERB aprend\n",
            "concepto conceptos NOUN concept\n",
            "discreto discretos ADJ discret\n",
            ". . PUNCT .\n",
            "¡ ¡ PUNCT ¡\n",
            "qué Qué DET que\n",
            "fenómeno fenómeno NOUN fenomen\n",
            "misterioso misterioso ADJ misteri\n",
            "! ! PUNCT !\n"
          ]
        }
      ],
      "source": [
        "from nltk.stem.snowball import SnowballStemmer\n",
        "\n",
        "stemmer = SnowballStemmer(\"spanish\") # Assuming you're working with Spanish text\n",
        "for word in doc:\n",
        "  print(word.lemma_, word.text, word.pos_, stemmer.stem(word.text)) # Change stemm to stem\n"
      ]
    },
    {
      "cell_type": "code",
      "execution_count": null,
      "metadata": {
        "colab": {
          "background_save": true
        },
        "id": "2QZNMBF_xUci",
        "outputId": "9245ecba-2f12-43f5-d2b1-45f3d336c06e"
      },
      "outputs": [
        {
          "data": {
            "text/plain": [
              "de"
            ]
          },
          "execution_count": 51,
          "metadata": {},
          "output_type": "execute_result"
        }
      ],
      "source": [
        "doc[5]"
      ]
    },
    {
      "cell_type": "markdown",
      "metadata": {
        "id": "k70BkVqxxUd3"
      },
      "source": [
        "## Lemmatización\n",
        "\n",
        "El *stemming* vemos que es un enfoque bastante bruto para normalizar, desechando parte de la información de la palabra. Podemos tener un problema de polisemia, con una raíz refiriendo a palabras muy distintas. La solución a esto es la **lematización**, que busca llevar a una palabra a su forma canónica o esencial."
      ]
    },
    {
      "cell_type": "markdown",
      "metadata": {
        "id": "vcWKmvc7fxsR"
      },
      "source": [
        "# **Es decir que las palabras polisémicas son aquellas que tienen más de un significado. En el ejemplo anterior, \"carta\" significa papel escrito que una persona envía a otra para comunicarse y también quiere decir la lista de platos y bebidas que se pueden elegir en un restaurante**"
      ]
    },
    {
      "cell_type": "markdown",
      "metadata": {
        "id": "ttQbJidLnoXV"
      },
      "source": [
        "##si aplicamos la lemmatizacion borramos el ruido reducir las columnas al minimo para el algoritmo"
      ]
    },
    {
      "cell_type": "markdown",
      "metadata": {
        "id": "hveWam27WVTA"
      },
      "source": [
        "###es preferible la lemmatizacion frecuencia por terminos haciendo las normalizaciones"
      ]
    },
    {
      "cell_type": "code",
      "source": [
        "doc"
      ],
      "metadata": {
        "colab": {
          "base_uri": "https://localhost:8080/"
        },
        "id": "2oNpgvsYnKgL",
        "outputId": "7d1437ad-3e5a-4100-bce8-f09b1a6302dc"
      },
      "execution_count": 25,
      "outputs": [
        {
          "output_type": "execute_result",
          "data": {
            "text/plain": [
              "El Doctor afirmó que actuando de maneras probabilísticas el cerebro aprende conceptos discretos. ¡Qué fenómeno misterioso!"
            ]
          },
          "metadata": {},
          "execution_count": 25
        }
      ]
    },
    {
      "cell_type": "code",
      "source": [
        "from nltk.stem.snowball import SnowballStemmer\n",
        "\n",
        "stemmer = SnowballStemmer(\"spanish\") # Assuming you're working with Spanish text\n",
        "for word in doc:\n",
        "  print( stemmer.stem(word.text))"
      ],
      "metadata": {
        "colab": {
          "base_uri": "https://localhost:8080/"
        },
        "id": "LhX0cw9wnQLb",
        "outputId": "b45aa892-acc0-4d36-e2cc-8b9dbc072556"
      },
      "execution_count": 27,
      "outputs": [
        {
          "output_type": "stream",
          "name": "stdout",
          "text": [
            "el\n",
            "doctor\n",
            "afirm\n",
            "que\n",
            "actu\n",
            "de\n",
            "maner\n",
            "probabilist\n",
            "el\n",
            "cerebr\n",
            "aprend\n",
            "concept\n",
            "discret\n",
            ".\n",
            "¡\n",
            "que\n",
            "fenomen\n",
            "misteri\n",
            "!\n"
          ]
        }
      ]
    },
    {
      "cell_type": "code",
      "execution_count": 26,
      "metadata": {
        "colab": {
          "base_uri": "https://localhost:8080/"
        },
        "id": "nOl_sc8VxUd4",
        "outputId": "ffeceae0-abb3-4654-fc29-ee56e8b92db3"
      },
      "outputs": [
        {
          "output_type": "stream",
          "name": "stdout",
          "text": [
            "el\n",
            "Doctor\n",
            "afirmar\n",
            "que\n",
            "actuar\n",
            "de\n",
            "manera\n",
            "probabilística\n",
            "el\n",
            "cerebro\n",
            "aprender\n",
            "concepto\n",
            "discreto\n",
            ".\n",
            "¡\n",
            "qué\n",
            "fenómeno\n",
            "misterioso\n",
            "!\n"
          ]
        }
      ],
      "source": [
        "for word in doc:\n",
        "    print(word.lemma_)  ## llevar cada palabra a su forma original sin conjugacion accedemos al atributo .lemma"
      ]
    },
    {
      "cell_type": "markdown",
      "metadata": {
        "id": "iON3Yu76UJsV"
      },
      "source": [
        "## observamos los cambios de las palabras afirmo- afirmar, actuando-actuar, manera-maneras, probabilisticas-probabilistica, concepto-conceptos, discretos-discreto, Doctor no lo cambio a minuscula"
      ]
    },
    {
      "cell_type": "code",
      "execution_count": null,
      "metadata": {
        "colab": {
          "background_save": true
        },
        "id": "7WzAI-iIViYS",
        "outputId": "40369334-59fc-4cd0-aa58-1ddf5a57737e"
      },
      "outputs": [
        {
          "name": "stdout",
          "output_type": "stream",
          "text": [
            "El 11488171005156075516\n",
            "Doctor 5516728874780999063\n",
            "afirmó 1815597472243515746\n",
            "que 11474801393294414462\n",
            "actuando 5460998838003484928\n",
            "de 11144093025662894627\n",
            "maneras 498987833452431579\n",
            "probabilísticas 14609753298320265066\n",
            "el 11488171005156075516\n",
            "cerebro 15177324354612517497\n",
            "aprende 5119772408535974645\n",
            "conceptos 17486625023035285430\n",
            "discretos 12509690925715513048\n",
            ". 12646065887601541794\n",
            "¡ 2520741703198981157\n",
            "Qué 2438889091638947136\n",
            "fenómeno 2623919855711220242\n",
            "misterioso 17711745696740136068\n",
            "! 17494803046312582752\n"
          ]
        }
      ],
      "source": [
        "for word in doc:  # Asumiendo que 'words' es una lista de objetos 'word'\n",
        "    print(word.text, word.lemma)"
      ]
    },
    {
      "cell_type": "markdown",
      "metadata": {
        "id": "Gvlwb9NqV26g"
      },
      "source": [
        "## valor hash o embeddings"
      ]
    },
    {
      "cell_type": "markdown",
      "metadata": {
        "id": "Q-7wpmQBOePm"
      },
      "source": [
        "## Limitaciones de la Bolsa de Palabras\n",
        "\n",
        "Utilizando las técnicas que vimos (normalización, n-gramas, stop words) podemos mejorar significativamente el rendimiento de algoritmos de Aprendizaje Automático que se basan en bolsa de palabras.\n",
        "\n",
        "Sin embargo, si entrenamos un clasificador usando esta matriz, lo que hará es encontrar relaciones estadísticas entre la ocurrencia de cierto token con su categoría (en el caso supervisado). ¿Qué problemas se te puede que puede tener?\n",
        "\n",
        "- Contexto\n",
        "- Orden\n",
        "- Dimensionalidad (variaciones en las palabras, n gramas)\n",
        "\n",
        "\n",
        "En las próximas clases veremos cómo las redes neuronales abordan estos obstáculos."
      ]
    },
    {
      "cell_type": "markdown",
      "metadata": {
        "id": "JSVvtqT4gGwE"
      },
      "source": [
        "# **se puede perder la ironia, la polisemia , alli aparece las redes neuronales artificiales profundas**"
      ]
    },
    {
      "cell_type": "markdown",
      "metadata": {
        "id": "0ML6niFYOfer"
      },
      "source": [
        "# Tareas de NLP\n",
        "\n",
        "SpaCy integra en su API de una manera elegante atributos y métodos generados por modelos de Aprendizaje Automático."
      ]
    },
    {
      "cell_type": "markdown",
      "metadata": {
        "id": "xMeVpNzTxUc4"
      },
      "source": [
        "## Segmentación de oraciones, lenaguaje hablado es compleja, tokenizar oraciones doc.sents"
      ]
    },
    {
      "cell_type": "code",
      "execution_count": 28,
      "metadata": {
        "colab": {
          "base_uri": "https://localhost:8080/"
        },
        "id": "eYasvkfvxUc7",
        "outputId": "bc2aaf7e-ad41-4d21-8519-a65c2f31d0fa"
      },
      "outputs": [
        {
          "output_type": "execute_result",
          "data": {
            "text/plain": [
              "[El Doctor afirmó que actuando de maneras probabilísticas el cerebro aprende conceptos discretos.,\n",
              " ¡Qué fenómeno misterioso!]"
            ]
          },
          "metadata": {},
          "execution_count": 28
        }
      ],
      "source": [
        "list(doc.sents)  ## segmentacion de oraciones"
      ]
    },
    {
      "cell_type": "markdown",
      "metadata": {
        "id": "lyWeO8cNxUdD"
      },
      "source": [
        "## Part-Of-Speech Tags\n",
        "\n",
        "Podemos estimar la función gramatical de cada palabra, accediendo directamente al atributo `.pos_` de cada token:\n"
      ]
    },
    {
      "cell_type": "code",
      "execution_count": 29,
      "metadata": {
        "colab": {
          "base_uri": "https://localhost:8080/"
        },
        "id": "dMQkMahvxUdF",
        "outputId": "1e3a86d1-be87-43cd-ec40-17a600e2dde6"
      },
      "outputs": [
        {
          "output_type": "stream",
          "name": "stdout",
          "text": [
            "El DET\n",
            "Doctor PROPN\n",
            "afirmó VERB\n",
            "que SCONJ\n",
            "actuando VERB\n",
            "de ADP\n",
            "maneras NOUN\n",
            "probabilísticas ADJ\n",
            "el DET\n",
            "cerebro NOUN\n",
            "aprende VERB\n",
            "conceptos NOUN\n",
            "discretos ADJ\n",
            ". PUNCT\n",
            "¡ PUNCT\n",
            "Qué DET\n",
            "fenómeno NOUN\n",
            "misterioso ADJ\n",
            "! PUNCT\n"
          ]
        }
      ],
      "source": [
        "for word in doc:\n",
        "    print(word.text, word.pos_) ##.pos etiqueta parte del discurso esta cumpliendo la palabra atributo .pos parte del discurso esta cumpliendo la palabra"
      ]
    },
    {
      "cell_type": "markdown",
      "metadata": {
        "id": "xpDkIHnXgmNg"
      },
      "source": [
        "### **queremos medir el nivel de agresion de los verbos de las oraciones, caracteristicas de los verbos, identificar el verbo y continuar en nuestro sistema, **"
      ]
    },
    {
      "cell_type": "markdown",
      "metadata": {
        "id": "iU-3XumnxUdQ"
      },
      "source": [
        "## Dependency parsing\n",
        "\n",
        "¡También contamos con información sobre la co-referencia o dependencia sintáctica entre términos!"
      ]
    },
    {
      "cell_type": "markdown",
      "metadata": {
        "id": "X9yMAWDMgzN3"
      },
      "source": [
        "PARSEO, QUE RELACIONES TENEMOS ENTRE LAS PALABRAS identificacion de dependencias entre las palabras"
      ]
    },
    {
      "cell_type": "markdown",
      "source": [
        "## sentimiento de las personas se usan y las palabras que se refieren a esa entidad que sentimiento tienen"
      ],
      "metadata": {
        "id": "QUwvo8C4n_aT"
      }
    },
    {
      "cell_type": "code",
      "execution_count": 30,
      "metadata": {
        "colab": {
          "base_uri": "https://localhost:8080/",
          "height": 616
        },
        "id": "6n5rWDQSxUdV",
        "outputId": "cfe8b9c4-3cd2-4e7e-deef-7d7f5c64051f"
      },
      "outputs": [
        {
          "output_type": "display_data",
          "data": {
            "text/plain": [
              "<IPython.core.display.HTML object>"
            ],
            "text/html": [
              "<span class=\"tex2jax_ignore\"><svg xmlns=\"http://www.w3.org/2000/svg\" xmlns:xlink=\"http://www.w3.org/1999/xlink\" xml:lang=\"es\" id=\"acf6a09ed3c8444282d1fe2fabeda07a-0\" class=\"displacy\" width=\"2850\" height=\"574.5\" direction=\"ltr\" style=\"max-width: none; height: 574.5px; color: #000000; background: #ffffff; font-family: Arial; direction: ltr\">\n",
              "<text class=\"displacy-token\" fill=\"currentColor\" text-anchor=\"middle\" y=\"484.5\">\n",
              "    <tspan class=\"displacy-word\" fill=\"currentColor\" x=\"50\">El</tspan>\n",
              "    <tspan class=\"displacy-tag\" dy=\"2em\" fill=\"currentColor\" x=\"50\">DET</tspan>\n",
              "</text>\n",
              "\n",
              "<text class=\"displacy-token\" fill=\"currentColor\" text-anchor=\"middle\" y=\"484.5\">\n",
              "    <tspan class=\"displacy-word\" fill=\"currentColor\" x=\"225\">Doctor</tspan>\n",
              "    <tspan class=\"displacy-tag\" dy=\"2em\" fill=\"currentColor\" x=\"225\">PROPN</tspan>\n",
              "</text>\n",
              "\n",
              "<text class=\"displacy-token\" fill=\"currentColor\" text-anchor=\"middle\" y=\"484.5\">\n",
              "    <tspan class=\"displacy-word\" fill=\"currentColor\" x=\"400\">afirmó</tspan>\n",
              "    <tspan class=\"displacy-tag\" dy=\"2em\" fill=\"currentColor\" x=\"400\">VERB</tspan>\n",
              "</text>\n",
              "\n",
              "<text class=\"displacy-token\" fill=\"currentColor\" text-anchor=\"middle\" y=\"484.5\">\n",
              "    <tspan class=\"displacy-word\" fill=\"currentColor\" x=\"575\">que</tspan>\n",
              "    <tspan class=\"displacy-tag\" dy=\"2em\" fill=\"currentColor\" x=\"575\">SCONJ</tspan>\n",
              "</text>\n",
              "\n",
              "<text class=\"displacy-token\" fill=\"currentColor\" text-anchor=\"middle\" y=\"484.5\">\n",
              "    <tspan class=\"displacy-word\" fill=\"currentColor\" x=\"750\">actuando</tspan>\n",
              "    <tspan class=\"displacy-tag\" dy=\"2em\" fill=\"currentColor\" x=\"750\">VERB</tspan>\n",
              "</text>\n",
              "\n",
              "<text class=\"displacy-token\" fill=\"currentColor\" text-anchor=\"middle\" y=\"484.5\">\n",
              "    <tspan class=\"displacy-word\" fill=\"currentColor\" x=\"925\">de</tspan>\n",
              "    <tspan class=\"displacy-tag\" dy=\"2em\" fill=\"currentColor\" x=\"925\">ADP</tspan>\n",
              "</text>\n",
              "\n",
              "<text class=\"displacy-token\" fill=\"currentColor\" text-anchor=\"middle\" y=\"484.5\">\n",
              "    <tspan class=\"displacy-word\" fill=\"currentColor\" x=\"1100\">maneras</tspan>\n",
              "    <tspan class=\"displacy-tag\" dy=\"2em\" fill=\"currentColor\" x=\"1100\">NOUN</tspan>\n",
              "</text>\n",
              "\n",
              "<text class=\"displacy-token\" fill=\"currentColor\" text-anchor=\"middle\" y=\"484.5\">\n",
              "    <tspan class=\"displacy-word\" fill=\"currentColor\" x=\"1275\">probabilísticas</tspan>\n",
              "    <tspan class=\"displacy-tag\" dy=\"2em\" fill=\"currentColor\" x=\"1275\">ADJ</tspan>\n",
              "</text>\n",
              "\n",
              "<text class=\"displacy-token\" fill=\"currentColor\" text-anchor=\"middle\" y=\"484.5\">\n",
              "    <tspan class=\"displacy-word\" fill=\"currentColor\" x=\"1450\">el</tspan>\n",
              "    <tspan class=\"displacy-tag\" dy=\"2em\" fill=\"currentColor\" x=\"1450\">DET</tspan>\n",
              "</text>\n",
              "\n",
              "<text class=\"displacy-token\" fill=\"currentColor\" text-anchor=\"middle\" y=\"484.5\">\n",
              "    <tspan class=\"displacy-word\" fill=\"currentColor\" x=\"1625\">cerebro</tspan>\n",
              "    <tspan class=\"displacy-tag\" dy=\"2em\" fill=\"currentColor\" x=\"1625\">NOUN</tspan>\n",
              "</text>\n",
              "\n",
              "<text class=\"displacy-token\" fill=\"currentColor\" text-anchor=\"middle\" y=\"484.5\">\n",
              "    <tspan class=\"displacy-word\" fill=\"currentColor\" x=\"1800\">aprende</tspan>\n",
              "    <tspan class=\"displacy-tag\" dy=\"2em\" fill=\"currentColor\" x=\"1800\">VERB</tspan>\n",
              "</text>\n",
              "\n",
              "<text class=\"displacy-token\" fill=\"currentColor\" text-anchor=\"middle\" y=\"484.5\">\n",
              "    <tspan class=\"displacy-word\" fill=\"currentColor\" x=\"1975\">conceptos</tspan>\n",
              "    <tspan class=\"displacy-tag\" dy=\"2em\" fill=\"currentColor\" x=\"1975\">NOUN</tspan>\n",
              "</text>\n",
              "\n",
              "<text class=\"displacy-token\" fill=\"currentColor\" text-anchor=\"middle\" y=\"484.5\">\n",
              "    <tspan class=\"displacy-word\" fill=\"currentColor\" x=\"2150\">discretos. ¡</tspan>\n",
              "    <tspan class=\"displacy-tag\" dy=\"2em\" fill=\"currentColor\" x=\"2150\">ADJ</tspan>\n",
              "</text>\n",
              "\n",
              "<text class=\"displacy-token\" fill=\"currentColor\" text-anchor=\"middle\" y=\"484.5\">\n",
              "    <tspan class=\"displacy-word\" fill=\"currentColor\" x=\"2325\">Qué</tspan>\n",
              "    <tspan class=\"displacy-tag\" dy=\"2em\" fill=\"currentColor\" x=\"2325\">DET</tspan>\n",
              "</text>\n",
              "\n",
              "<text class=\"displacy-token\" fill=\"currentColor\" text-anchor=\"middle\" y=\"484.5\">\n",
              "    <tspan class=\"displacy-word\" fill=\"currentColor\" x=\"2500\">fenómeno</tspan>\n",
              "    <tspan class=\"displacy-tag\" dy=\"2em\" fill=\"currentColor\" x=\"2500\">NOUN</tspan>\n",
              "</text>\n",
              "\n",
              "<text class=\"displacy-token\" fill=\"currentColor\" text-anchor=\"middle\" y=\"484.5\">\n",
              "    <tspan class=\"displacy-word\" fill=\"currentColor\" x=\"2675\">misterioso!</tspan>\n",
              "    <tspan class=\"displacy-tag\" dy=\"2em\" fill=\"currentColor\" x=\"2675\">ADJ</tspan>\n",
              "</text>\n",
              "\n",
              "<g class=\"displacy-arrow\">\n",
              "    <path class=\"displacy-arc\" id=\"arrow-acf6a09ed3c8444282d1fe2fabeda07a-0-0\" stroke-width=\"2px\" d=\"M70,439.5 C70,352.0 205.0,352.0 205.0,439.5\" fill=\"none\" stroke=\"currentColor\"/>\n",
              "    <text dy=\"1.25em\" style=\"font-size: 0.8em; letter-spacing: 1px\">\n",
              "        <textPath xlink:href=\"#arrow-acf6a09ed3c8444282d1fe2fabeda07a-0-0\" class=\"displacy-label\" startOffset=\"50%\" side=\"left\" fill=\"currentColor\" text-anchor=\"middle\">det</textPath>\n",
              "    </text>\n",
              "    <path class=\"displacy-arrowhead\" d=\"M70,441.5 L62,429.5 78,429.5\" fill=\"currentColor\"/>\n",
              "</g>\n",
              "\n",
              "<g class=\"displacy-arrow\">\n",
              "    <path class=\"displacy-arc\" id=\"arrow-acf6a09ed3c8444282d1fe2fabeda07a-0-1\" stroke-width=\"2px\" d=\"M245,439.5 C245,352.0 380.0,352.0 380.0,439.5\" fill=\"none\" stroke=\"currentColor\"/>\n",
              "    <text dy=\"1.25em\" style=\"font-size: 0.8em; letter-spacing: 1px\">\n",
              "        <textPath xlink:href=\"#arrow-acf6a09ed3c8444282d1fe2fabeda07a-0-1\" class=\"displacy-label\" startOffset=\"50%\" side=\"left\" fill=\"currentColor\" text-anchor=\"middle\">nsubj</textPath>\n",
              "    </text>\n",
              "    <path class=\"displacy-arrowhead\" d=\"M245,441.5 L237,429.5 253,429.5\" fill=\"currentColor\"/>\n",
              "</g>\n",
              "\n",
              "<g class=\"displacy-arrow\">\n",
              "    <path class=\"displacy-arc\" id=\"arrow-acf6a09ed3c8444282d1fe2fabeda07a-0-2\" stroke-width=\"2px\" d=\"M595,439.5 C595,89.5 1795.0,89.5 1795.0,439.5\" fill=\"none\" stroke=\"currentColor\"/>\n",
              "    <text dy=\"1.25em\" style=\"font-size: 0.8em; letter-spacing: 1px\">\n",
              "        <textPath xlink:href=\"#arrow-acf6a09ed3c8444282d1fe2fabeda07a-0-2\" class=\"displacy-label\" startOffset=\"50%\" side=\"left\" fill=\"currentColor\" text-anchor=\"middle\">mark</textPath>\n",
              "    </text>\n",
              "    <path class=\"displacy-arrowhead\" d=\"M595,441.5 L587,429.5 603,429.5\" fill=\"currentColor\"/>\n",
              "</g>\n",
              "\n",
              "<g class=\"displacy-arrow\">\n",
              "    <path class=\"displacy-arc\" id=\"arrow-acf6a09ed3c8444282d1fe2fabeda07a-0-3\" stroke-width=\"2px\" d=\"M770,439.5 C770,177.0 1790.0,177.0 1790.0,439.5\" fill=\"none\" stroke=\"currentColor\"/>\n",
              "    <text dy=\"1.25em\" style=\"font-size: 0.8em; letter-spacing: 1px\">\n",
              "        <textPath xlink:href=\"#arrow-acf6a09ed3c8444282d1fe2fabeda07a-0-3\" class=\"displacy-label\" startOffset=\"50%\" side=\"left\" fill=\"currentColor\" text-anchor=\"middle\">advcl</textPath>\n",
              "    </text>\n",
              "    <path class=\"displacy-arrowhead\" d=\"M770,441.5 L762,429.5 778,429.5\" fill=\"currentColor\"/>\n",
              "</g>\n",
              "\n",
              "<g class=\"displacy-arrow\">\n",
              "    <path class=\"displacy-arc\" id=\"arrow-acf6a09ed3c8444282d1fe2fabeda07a-0-4\" stroke-width=\"2px\" d=\"M945,439.5 C945,352.0 1080.0,352.0 1080.0,439.5\" fill=\"none\" stroke=\"currentColor\"/>\n",
              "    <text dy=\"1.25em\" style=\"font-size: 0.8em; letter-spacing: 1px\">\n",
              "        <textPath xlink:href=\"#arrow-acf6a09ed3c8444282d1fe2fabeda07a-0-4\" class=\"displacy-label\" startOffset=\"50%\" side=\"left\" fill=\"currentColor\" text-anchor=\"middle\">case</textPath>\n",
              "    </text>\n",
              "    <path class=\"displacy-arrowhead\" d=\"M945,441.5 L937,429.5 953,429.5\" fill=\"currentColor\"/>\n",
              "</g>\n",
              "\n",
              "<g class=\"displacy-arrow\">\n",
              "    <path class=\"displacy-arc\" id=\"arrow-acf6a09ed3c8444282d1fe2fabeda07a-0-5\" stroke-width=\"2px\" d=\"M770,439.5 C770,264.5 1085.0,264.5 1085.0,439.5\" fill=\"none\" stroke=\"currentColor\"/>\n",
              "    <text dy=\"1.25em\" style=\"font-size: 0.8em; letter-spacing: 1px\">\n",
              "        <textPath xlink:href=\"#arrow-acf6a09ed3c8444282d1fe2fabeda07a-0-5\" class=\"displacy-label\" startOffset=\"50%\" side=\"left\" fill=\"currentColor\" text-anchor=\"middle\">obl</textPath>\n",
              "    </text>\n",
              "    <path class=\"displacy-arrowhead\" d=\"M1085.0,441.5 L1093.0,429.5 1077.0,429.5\" fill=\"currentColor\"/>\n",
              "</g>\n",
              "\n",
              "<g class=\"displacy-arrow\">\n",
              "    <path class=\"displacy-arc\" id=\"arrow-acf6a09ed3c8444282d1fe2fabeda07a-0-6\" stroke-width=\"2px\" d=\"M1120,439.5 C1120,352.0 1255.0,352.0 1255.0,439.5\" fill=\"none\" stroke=\"currentColor\"/>\n",
              "    <text dy=\"1.25em\" style=\"font-size: 0.8em; letter-spacing: 1px\">\n",
              "        <textPath xlink:href=\"#arrow-acf6a09ed3c8444282d1fe2fabeda07a-0-6\" class=\"displacy-label\" startOffset=\"50%\" side=\"left\" fill=\"currentColor\" text-anchor=\"middle\">amod</textPath>\n",
              "    </text>\n",
              "    <path class=\"displacy-arrowhead\" d=\"M1255.0,441.5 L1263.0,429.5 1247.0,429.5\" fill=\"currentColor\"/>\n",
              "</g>\n",
              "\n",
              "<g class=\"displacy-arrow\">\n",
              "    <path class=\"displacy-arc\" id=\"arrow-acf6a09ed3c8444282d1fe2fabeda07a-0-7\" stroke-width=\"2px\" d=\"M1470,439.5 C1470,352.0 1605.0,352.0 1605.0,439.5\" fill=\"none\" stroke=\"currentColor\"/>\n",
              "    <text dy=\"1.25em\" style=\"font-size: 0.8em; letter-spacing: 1px\">\n",
              "        <textPath xlink:href=\"#arrow-acf6a09ed3c8444282d1fe2fabeda07a-0-7\" class=\"displacy-label\" startOffset=\"50%\" side=\"left\" fill=\"currentColor\" text-anchor=\"middle\">det</textPath>\n",
              "    </text>\n",
              "    <path class=\"displacy-arrowhead\" d=\"M1470,441.5 L1462,429.5 1478,429.5\" fill=\"currentColor\"/>\n",
              "</g>\n",
              "\n",
              "<g class=\"displacy-arrow\">\n",
              "    <path class=\"displacy-arc\" id=\"arrow-acf6a09ed3c8444282d1fe2fabeda07a-0-8\" stroke-width=\"2px\" d=\"M1645,439.5 C1645,352.0 1780.0,352.0 1780.0,439.5\" fill=\"none\" stroke=\"currentColor\"/>\n",
              "    <text dy=\"1.25em\" style=\"font-size: 0.8em; letter-spacing: 1px\">\n",
              "        <textPath xlink:href=\"#arrow-acf6a09ed3c8444282d1fe2fabeda07a-0-8\" class=\"displacy-label\" startOffset=\"50%\" side=\"left\" fill=\"currentColor\" text-anchor=\"middle\">nsubj</textPath>\n",
              "    </text>\n",
              "    <path class=\"displacy-arrowhead\" d=\"M1645,441.5 L1637,429.5 1653,429.5\" fill=\"currentColor\"/>\n",
              "</g>\n",
              "\n",
              "<g class=\"displacy-arrow\">\n",
              "    <path class=\"displacy-arc\" id=\"arrow-acf6a09ed3c8444282d1fe2fabeda07a-0-9\" stroke-width=\"2px\" d=\"M420,439.5 C420,2.0 1800.0,2.0 1800.0,439.5\" fill=\"none\" stroke=\"currentColor\"/>\n",
              "    <text dy=\"1.25em\" style=\"font-size: 0.8em; letter-spacing: 1px\">\n",
              "        <textPath xlink:href=\"#arrow-acf6a09ed3c8444282d1fe2fabeda07a-0-9\" class=\"displacy-label\" startOffset=\"50%\" side=\"left\" fill=\"currentColor\" text-anchor=\"middle\">ccomp</textPath>\n",
              "    </text>\n",
              "    <path class=\"displacy-arrowhead\" d=\"M1800.0,441.5 L1808.0,429.5 1792.0,429.5\" fill=\"currentColor\"/>\n",
              "</g>\n",
              "\n",
              "<g class=\"displacy-arrow\">\n",
              "    <path class=\"displacy-arc\" id=\"arrow-acf6a09ed3c8444282d1fe2fabeda07a-0-10\" stroke-width=\"2px\" d=\"M1820,439.5 C1820,352.0 1955.0,352.0 1955.0,439.5\" fill=\"none\" stroke=\"currentColor\"/>\n",
              "    <text dy=\"1.25em\" style=\"font-size: 0.8em; letter-spacing: 1px\">\n",
              "        <textPath xlink:href=\"#arrow-acf6a09ed3c8444282d1fe2fabeda07a-0-10\" class=\"displacy-label\" startOffset=\"50%\" side=\"left\" fill=\"currentColor\" text-anchor=\"middle\">obj</textPath>\n",
              "    </text>\n",
              "    <path class=\"displacy-arrowhead\" d=\"M1955.0,441.5 L1963.0,429.5 1947.0,429.5\" fill=\"currentColor\"/>\n",
              "</g>\n",
              "\n",
              "<g class=\"displacy-arrow\">\n",
              "    <path class=\"displacy-arc\" id=\"arrow-acf6a09ed3c8444282d1fe2fabeda07a-0-11\" stroke-width=\"2px\" d=\"M1995,439.5 C1995,352.0 2130.0,352.0 2130.0,439.5\" fill=\"none\" stroke=\"currentColor\"/>\n",
              "    <text dy=\"1.25em\" style=\"font-size: 0.8em; letter-spacing: 1px\">\n",
              "        <textPath xlink:href=\"#arrow-acf6a09ed3c8444282d1fe2fabeda07a-0-11\" class=\"displacy-label\" startOffset=\"50%\" side=\"left\" fill=\"currentColor\" text-anchor=\"middle\">amod</textPath>\n",
              "    </text>\n",
              "    <path class=\"displacy-arrowhead\" d=\"M2130.0,441.5 L2138.0,429.5 2122.0,429.5\" fill=\"currentColor\"/>\n",
              "</g>\n",
              "\n",
              "<g class=\"displacy-arrow\">\n",
              "    <path class=\"displacy-arc\" id=\"arrow-acf6a09ed3c8444282d1fe2fabeda07a-0-12\" stroke-width=\"2px\" d=\"M2345,439.5 C2345,352.0 2480.0,352.0 2480.0,439.5\" fill=\"none\" stroke=\"currentColor\"/>\n",
              "    <text dy=\"1.25em\" style=\"font-size: 0.8em; letter-spacing: 1px\">\n",
              "        <textPath xlink:href=\"#arrow-acf6a09ed3c8444282d1fe2fabeda07a-0-12\" class=\"displacy-label\" startOffset=\"50%\" side=\"left\" fill=\"currentColor\" text-anchor=\"middle\">det</textPath>\n",
              "    </text>\n",
              "    <path class=\"displacy-arrowhead\" d=\"M2345,441.5 L2337,429.5 2353,429.5\" fill=\"currentColor\"/>\n",
              "</g>\n",
              "\n",
              "<g class=\"displacy-arrow\">\n",
              "    <path class=\"displacy-arc\" id=\"arrow-acf6a09ed3c8444282d1fe2fabeda07a-0-13\" stroke-width=\"2px\" d=\"M2520,439.5 C2520,352.0 2655.0,352.0 2655.0,439.5\" fill=\"none\" stroke=\"currentColor\"/>\n",
              "    <text dy=\"1.25em\" style=\"font-size: 0.8em; letter-spacing: 1px\">\n",
              "        <textPath xlink:href=\"#arrow-acf6a09ed3c8444282d1fe2fabeda07a-0-13\" class=\"displacy-label\" startOffset=\"50%\" side=\"left\" fill=\"currentColor\" text-anchor=\"middle\">amod</textPath>\n",
              "    </text>\n",
              "    <path class=\"displacy-arrowhead\" d=\"M2655.0,441.5 L2663.0,429.5 2647.0,429.5\" fill=\"currentColor\"/>\n",
              "</g>\n",
              "</svg></span>"
            ]
          },
          "metadata": {}
        }
      ],
      "source": [
        "displacy.render(doc, style='dep', jupyter=True)"
      ]
    },
    {
      "cell_type": "markdown",
      "metadata": {
        "id": "1LAHWulSqfoW"
      },
      "source": [
        "que relaciones tenemos entre las palabras, ver el sentimiento con cada persona, social cuando aparece la persona y las palabras que refieren a esa entidad que sentimiento tienen"
      ]
    },
    {
      "cell_type": "markdown",
      "metadata": {
        "id": "PhSznS5QxUdg"
      },
      "source": [
        "## Reconocimiento de Entidades\n",
        "\n",
        "Podemos encontrar las personas (más general, \"entes\") que se mencionan en los textos:"
      ]
    },
    {
      "cell_type": "markdown",
      "metadata": {
        "id": "8ZXgK0dSqtJ4"
      },
      "source": [
        "## entidades organizaciones, personas"
      ]
    },
    {
      "cell_type": "code",
      "execution_count": 33,
      "metadata": {
        "colab": {
          "base_uri": "https://localhost:8080/"
        },
        "id": "vWzeZ-DVxUdk",
        "outputId": "54bd8075-1ae3-43b3-c90d-5f15e5be82d1"
      },
      "outputs": [
        {
          "output_type": "execute_result",
          "data": {
            "text/plain": [
              "()"
            ]
          },
          "metadata": {},
          "execution_count": 33
        }
      ],
      "source": [
        "doc.ents"
      ]
    },
    {
      "cell_type": "code",
      "execution_count": 32,
      "metadata": {
        "colab": {
          "base_uri": "https://localhost:8080/",
          "height": 107
        },
        "id": "IbrftXE0xUdw",
        "outputId": "15efcc85-000d-4208-8d4e-78b6639fd561"
      },
      "outputs": [
        {
          "output_type": "stream",
          "name": "stderr",
          "text": [
            "/usr/local/lib/python3.10/dist-packages/spacy/displacy/__init__.py:213: UserWarning: [W006] No entities to visualize found in Doc object. If this is surprising to you, make sure the Doc was processed using a model that supports named entity recognition, and check the `doc.ents` property manually if necessary.\n",
            "  warnings.warn(Warnings.W006)\n"
          ]
        },
        {
          "output_type": "display_data",
          "data": {
            "text/plain": [
              "<IPython.core.display.HTML object>"
            ],
            "text/html": [
              "<span class=\"tex2jax_ignore\"><div class=\"entities\" style=\"line-height: 2.5; direction: ltr\">El Doctor afirmó que actuando de maneras probabilísticas el cerebro aprende conceptos discretos. ¡Qué fenómeno misterioso!</div></span>"
            ]
          },
          "metadata": {}
        }
      ],
      "source": [
        "displacy.render(doc, style='ent', jupyter=True);"
      ]
    },
    {
      "cell_type": "markdown",
      "metadata": {
        "id": "WURAKPdPxUeC"
      },
      "source": [
        "## Vectores de Palabras\n",
        "\n",
        "Podemos acceder a los vectores con `.vector`. ¡Veremos en detalle este tema en las próximas clases!"
      ]
    },
    {
      "cell_type": "markdown",
      "metadata": {
        "id": "9iEgLZbuq3rq"
      },
      "source": [
        "## vectores de palabras reflejan el significado de las palabras , vector con las frecuencias normalizadas de cada palabra, en nuestra matriz tf-idf , un documento por fila una palabra en columna, reducuimos la dimensionalidad del vector nos dan significado documentos y palabras, podemos calcular la similitud semantica de cada palabra"
      ]
    },
    {
      "cell_type": "code",
      "execution_count": 34,
      "metadata": {
        "id": "UZoIw0m_xUeZ"
      },
      "outputs": [],
      "source": [
        "def cosine_similarity(x, y):\n",
        "    return x @ y / (np.linalg.norm(x) * np.linalg.norm(y))"
      ]
    },
    {
      "cell_type": "code",
      "execution_count": 35,
      "metadata": {
        "colab": {
          "base_uri": "https://localhost:8080/"
        },
        "id": "8mcqyIvc-SZl",
        "outputId": "f11ad0e4-e233-4ab9-d98d-2566c1e79792"
      },
      "outputs": [
        {
          "output_type": "execute_result",
          "data": {
            "text/plain": [
              "El Doctor afirmó que actuando de maneras probabilísticas el cerebro aprende conceptos discretos. ¡Qué fenómeno misterioso!"
            ]
          },
          "metadata": {},
          "execution_count": 35
        }
      ],
      "source": [
        "doc"
      ]
    },
    {
      "cell_type": "code",
      "execution_count": 36,
      "metadata": {
        "id": "Cfr8bINixUe1"
      },
      "outputs": [],
      "source": [
        "doc2 = nlp(\"La curiosidad por nuevas ideas es lo que impulsa a derivar ecuaciones y descubrir simetrías.\")\n",
        "doc3 = nlp(\"Una pizza de napolitana con ajo, una de muzzarella con jamón, media de chocolate y una cerveza roja.\")"
      ]
    },
    {
      "cell_type": "code",
      "execution_count": 37,
      "metadata": {
        "colab": {
          "base_uri": "https://localhost:8080/"
        },
        "id": "Q4FjTaWhLKhS",
        "outputId": "b162f0dd-eca6-46ce-9755-e352f4222584"
      },
      "outputs": [
        {
          "output_type": "execute_result",
          "data": {
            "text/plain": [
              "0.4817427186959799"
            ]
          },
          "metadata": {},
          "execution_count": 37
        }
      ],
      "source": [
        "doc.similarity(doc2)"
      ]
    },
    {
      "cell_type": "code",
      "execution_count": 38,
      "metadata": {
        "colab": {
          "base_uri": "https://localhost:8080/"
        },
        "id": "1oPVW-gx9slo",
        "outputId": "4298747b-6b2c-4b21-8a10-4404d31c15b2"
      },
      "outputs": [
        {
          "output_type": "execute_result",
          "data": {
            "text/plain": [
              "0.3420021954777671"
            ]
          },
          "metadata": {},
          "execution_count": 38
        }
      ],
      "source": [
        "doc.similarity(doc3)"
      ]
    },
    {
      "cell_type": "markdown",
      "source": [
        "### **si reducimos la dimensionalidad de cada matriz los vectores los usamos para calcular la similitud semantica de la frase.**\n",
        "doc.similarity(doc3)\n",
        "%"
      ],
      "metadata": {
        "id": "-EwgTZuapD12"
      }
    },
    {
      "cell_type": "markdown",
      "metadata": {
        "id": "AepTXG_j3zQM"
      },
      "source": [
        "# Referencias:\n",
        "\n",
        "- [Libro Jurafsky](https://web.stanford.edu/~jurafsky/slp3/)\n",
        "- [Curso de HuggingFace](https://huggingface.co/course/chapter1/2?fw=pt)"
      ]
    },
    {
      "cell_type": "markdown",
      "metadata": {
        "id": "Fa4HXNmIq1ZL"
      },
      "source": [
        "\n",
        "![](https://thumbor.forbes.com/thumbor/960x0/https%3A%2F%2Fblogs-images.forbes.com%2Fgilpress%2Ffiles%2F2016%2F03%2FTime-1200x511.jpg)\n",
        "\n"
      ]
    },
    {
      "cell_type": "markdown",
      "metadata": {
        "id": "5EeMD_Eyy6Id"
      },
      "source": [
        "# Caso: Clasificación de textos como Positivo o Negativo o _Sentiment Analysis_\n",
        "\n",
        "Vamos a ver un ejemplo sencillo de clasificación de texto, haciendo un sentiment análisis de frases o positivas o negativas."
      ]
    },
    {
      "cell_type": "code",
      "execution_count": 39,
      "metadata": {
        "id": "-SURyyTirZO6"
      },
      "outputs": [],
      "source": [
        "# Importamos\n",
        "\n",
        "import pandas as pd\n",
        "from sklearn.model_selection import train_test_split\n",
        "from sklearn.naive_bayes import MultinomialNB\n",
        "from sklearn.feature_extraction.text import TfidfVectorizer\n",
        "from sklearn.pipeline import make_pipeline\n",
        "from sklearn.metrics import confusion_matrix,accuracy_score\n",
        "import seaborn as sns\n",
        "import matplotlib.pyplot as plt"
      ]
    },
    {
      "cell_type": "code",
      "execution_count": 40,
      "metadata": {
        "colab": {
          "base_uri": "https://localhost:8080/"
        },
        "id": "EupDnGS-vyFg",
        "outputId": "f23e4832-67f2-4530-a7dd-0f49f346cff7"
      },
      "outputs": [
        {
          "output_type": "stream",
          "name": "stdout",
          "text": [
            "Mounted at /content/drive\n"
          ]
        }
      ],
      "source": [
        "from google.colab import drive\n",
        "drive.mount('/content/drive')"
      ]
    },
    {
      "cell_type": "code",
      "execution_count": 41,
      "metadata": {
        "colab": {
          "base_uri": "https://localhost:8080/",
          "height": 363
        },
        "id": "E56rERUwrZO9",
        "outputId": "dab56f9c-9538-47b6-b1e3-38765a409ad5"
      },
      "outputs": [
        {
          "output_type": "execute_result",
          "data": {
            "text/plain": [
              "                                                  review sentiment\n",
              "16374  I must give credit to Billy Dee for trying to ...  negative\n",
              "8686   Madison is not too bad-Âif you like simplisti...  negative\n",
              "13311  Green Street, as it was called in the UK, or H...  negative\n",
              "45244  I understand \"Checking Out\" will likely be rel...  positive\n",
              "15316  When I heard the plot for this movie I simply ...  negative\n",
              "26368  I've only seen this film once when it was show...  positive\n",
              "21445  The master of movie spectacle Cecil B. De Mill...  positive\n",
              "28703  Yes, the video cover of this movie made me wan...  negative\n",
              "28561  This is exactly the reason why many people rem...  negative\n",
              "39098  Kazuo Komizu, who hasn't made one decent film,...  negative"
            ],
            "text/html": [
              "\n",
              "  <div id=\"df-a65ab173-803e-4420-9360-d3fd9a160122\" class=\"colab-df-container\">\n",
              "    <div>\n",
              "<style scoped>\n",
              "    .dataframe tbody tr th:only-of-type {\n",
              "        vertical-align: middle;\n",
              "    }\n",
              "\n",
              "    .dataframe tbody tr th {\n",
              "        vertical-align: top;\n",
              "    }\n",
              "\n",
              "    .dataframe thead th {\n",
              "        text-align: right;\n",
              "    }\n",
              "</style>\n",
              "<table border=\"1\" class=\"dataframe\">\n",
              "  <thead>\n",
              "    <tr style=\"text-align: right;\">\n",
              "      <th></th>\n",
              "      <th>review</th>\n",
              "      <th>sentiment</th>\n",
              "    </tr>\n",
              "  </thead>\n",
              "  <tbody>\n",
              "    <tr>\n",
              "      <th>16374</th>\n",
              "      <td>I must give credit to Billy Dee for trying to ...</td>\n",
              "      <td>negative</td>\n",
              "    </tr>\n",
              "    <tr>\n",
              "      <th>8686</th>\n",
              "      <td>Madison is not too bad-Âif you like simplisti...</td>\n",
              "      <td>negative</td>\n",
              "    </tr>\n",
              "    <tr>\n",
              "      <th>13311</th>\n",
              "      <td>Green Street, as it was called in the UK, or H...</td>\n",
              "      <td>negative</td>\n",
              "    </tr>\n",
              "    <tr>\n",
              "      <th>45244</th>\n",
              "      <td>I understand \"Checking Out\" will likely be rel...</td>\n",
              "      <td>positive</td>\n",
              "    </tr>\n",
              "    <tr>\n",
              "      <th>15316</th>\n",
              "      <td>When I heard the plot for this movie I simply ...</td>\n",
              "      <td>negative</td>\n",
              "    </tr>\n",
              "    <tr>\n",
              "      <th>26368</th>\n",
              "      <td>I've only seen this film once when it was show...</td>\n",
              "      <td>positive</td>\n",
              "    </tr>\n",
              "    <tr>\n",
              "      <th>21445</th>\n",
              "      <td>The master of movie spectacle Cecil B. De Mill...</td>\n",
              "      <td>positive</td>\n",
              "    </tr>\n",
              "    <tr>\n",
              "      <th>28703</th>\n",
              "      <td>Yes, the video cover of this movie made me wan...</td>\n",
              "      <td>negative</td>\n",
              "    </tr>\n",
              "    <tr>\n",
              "      <th>28561</th>\n",
              "      <td>This is exactly the reason why many people rem...</td>\n",
              "      <td>negative</td>\n",
              "    </tr>\n",
              "    <tr>\n",
              "      <th>39098</th>\n",
              "      <td>Kazuo Komizu, who hasn't made one decent film,...</td>\n",
              "      <td>negative</td>\n",
              "    </tr>\n",
              "  </tbody>\n",
              "</table>\n",
              "</div>\n",
              "    <div class=\"colab-df-buttons\">\n",
              "\n",
              "  <div class=\"colab-df-container\">\n",
              "    <button class=\"colab-df-convert\" onclick=\"convertToInteractive('df-a65ab173-803e-4420-9360-d3fd9a160122')\"\n",
              "            title=\"Convert this dataframe to an interactive table.\"\n",
              "            style=\"display:none;\">\n",
              "\n",
              "  <svg xmlns=\"http://www.w3.org/2000/svg\" height=\"24px\" viewBox=\"0 -960 960 960\">\n",
              "    <path d=\"M120-120v-720h720v720H120Zm60-500h600v-160H180v160Zm220 220h160v-160H400v160Zm0 220h160v-160H400v160ZM180-400h160v-160H180v160Zm440 0h160v-160H620v160ZM180-180h160v-160H180v160Zm440 0h160v-160H620v160Z\"/>\n",
              "  </svg>\n",
              "    </button>\n",
              "\n",
              "  <style>\n",
              "    .colab-df-container {\n",
              "      display:flex;\n",
              "      gap: 12px;\n",
              "    }\n",
              "\n",
              "    .colab-df-convert {\n",
              "      background-color: #E8F0FE;\n",
              "      border: none;\n",
              "      border-radius: 50%;\n",
              "      cursor: pointer;\n",
              "      display: none;\n",
              "      fill: #1967D2;\n",
              "      height: 32px;\n",
              "      padding: 0 0 0 0;\n",
              "      width: 32px;\n",
              "    }\n",
              "\n",
              "    .colab-df-convert:hover {\n",
              "      background-color: #E2EBFA;\n",
              "      box-shadow: 0px 1px 2px rgba(60, 64, 67, 0.3), 0px 1px 3px 1px rgba(60, 64, 67, 0.15);\n",
              "      fill: #174EA6;\n",
              "    }\n",
              "\n",
              "    .colab-df-buttons div {\n",
              "      margin-bottom: 4px;\n",
              "    }\n",
              "\n",
              "    [theme=dark] .colab-df-convert {\n",
              "      background-color: #3B4455;\n",
              "      fill: #D2E3FC;\n",
              "    }\n",
              "\n",
              "    [theme=dark] .colab-df-convert:hover {\n",
              "      background-color: #434B5C;\n",
              "      box-shadow: 0px 1px 3px 1px rgba(0, 0, 0, 0.15);\n",
              "      filter: drop-shadow(0px 1px 2px rgba(0, 0, 0, 0.3));\n",
              "      fill: #FFFFFF;\n",
              "    }\n",
              "  </style>\n",
              "\n",
              "    <script>\n",
              "      const buttonEl =\n",
              "        document.querySelector('#df-a65ab173-803e-4420-9360-d3fd9a160122 button.colab-df-convert');\n",
              "      buttonEl.style.display =\n",
              "        google.colab.kernel.accessAllowed ? 'block' : 'none';\n",
              "\n",
              "      async function convertToInteractive(key) {\n",
              "        const element = document.querySelector('#df-a65ab173-803e-4420-9360-d3fd9a160122');\n",
              "        const dataTable =\n",
              "          await google.colab.kernel.invokeFunction('convertToInteractive',\n",
              "                                                    [key], {});\n",
              "        if (!dataTable) return;\n",
              "\n",
              "        const docLinkHtml = 'Like what you see? Visit the ' +\n",
              "          '<a target=\"_blank\" href=https://colab.research.google.com/notebooks/data_table.ipynb>data table notebook</a>'\n",
              "          + ' to learn more about interactive tables.';\n",
              "        element.innerHTML = '';\n",
              "        dataTable['output_type'] = 'display_data';\n",
              "        await google.colab.output.renderOutput(dataTable, element);\n",
              "        const docLink = document.createElement('div');\n",
              "        docLink.innerHTML = docLinkHtml;\n",
              "        element.appendChild(docLink);\n",
              "      }\n",
              "    </script>\n",
              "  </div>\n",
              "\n",
              "\n",
              "<div id=\"df-3de409f2-0e19-499c-a25f-d2645ce98158\">\n",
              "  <button class=\"colab-df-quickchart\" onclick=\"quickchart('df-3de409f2-0e19-499c-a25f-d2645ce98158')\"\n",
              "            title=\"Suggest charts\"\n",
              "            style=\"display:none;\">\n",
              "\n",
              "<svg xmlns=\"http://www.w3.org/2000/svg\" height=\"24px\"viewBox=\"0 0 24 24\"\n",
              "     width=\"24px\">\n",
              "    <g>\n",
              "        <path d=\"M19 3H5c-1.1 0-2 .9-2 2v14c0 1.1.9 2 2 2h14c1.1 0 2-.9 2-2V5c0-1.1-.9-2-2-2zM9 17H7v-7h2v7zm4 0h-2V7h2v10zm4 0h-2v-4h2v4z\"/>\n",
              "    </g>\n",
              "</svg>\n",
              "  </button>\n",
              "\n",
              "<style>\n",
              "  .colab-df-quickchart {\n",
              "      --bg-color: #E8F0FE;\n",
              "      --fill-color: #1967D2;\n",
              "      --hover-bg-color: #E2EBFA;\n",
              "      --hover-fill-color: #174EA6;\n",
              "      --disabled-fill-color: #AAA;\n",
              "      --disabled-bg-color: #DDD;\n",
              "  }\n",
              "\n",
              "  [theme=dark] .colab-df-quickchart {\n",
              "      --bg-color: #3B4455;\n",
              "      --fill-color: #D2E3FC;\n",
              "      --hover-bg-color: #434B5C;\n",
              "      --hover-fill-color: #FFFFFF;\n",
              "      --disabled-bg-color: #3B4455;\n",
              "      --disabled-fill-color: #666;\n",
              "  }\n",
              "\n",
              "  .colab-df-quickchart {\n",
              "    background-color: var(--bg-color);\n",
              "    border: none;\n",
              "    border-radius: 50%;\n",
              "    cursor: pointer;\n",
              "    display: none;\n",
              "    fill: var(--fill-color);\n",
              "    height: 32px;\n",
              "    padding: 0;\n",
              "    width: 32px;\n",
              "  }\n",
              "\n",
              "  .colab-df-quickchart:hover {\n",
              "    background-color: var(--hover-bg-color);\n",
              "    box-shadow: 0 1px 2px rgba(60, 64, 67, 0.3), 0 1px 3px 1px rgba(60, 64, 67, 0.15);\n",
              "    fill: var(--button-hover-fill-color);\n",
              "  }\n",
              "\n",
              "  .colab-df-quickchart-complete:disabled,\n",
              "  .colab-df-quickchart-complete:disabled:hover {\n",
              "    background-color: var(--disabled-bg-color);\n",
              "    fill: var(--disabled-fill-color);\n",
              "    box-shadow: none;\n",
              "  }\n",
              "\n",
              "  .colab-df-spinner {\n",
              "    border: 2px solid var(--fill-color);\n",
              "    border-color: transparent;\n",
              "    border-bottom-color: var(--fill-color);\n",
              "    animation:\n",
              "      spin 1s steps(1) infinite;\n",
              "  }\n",
              "\n",
              "  @keyframes spin {\n",
              "    0% {\n",
              "      border-color: transparent;\n",
              "      border-bottom-color: var(--fill-color);\n",
              "      border-left-color: var(--fill-color);\n",
              "    }\n",
              "    20% {\n",
              "      border-color: transparent;\n",
              "      border-left-color: var(--fill-color);\n",
              "      border-top-color: var(--fill-color);\n",
              "    }\n",
              "    30% {\n",
              "      border-color: transparent;\n",
              "      border-left-color: var(--fill-color);\n",
              "      border-top-color: var(--fill-color);\n",
              "      border-right-color: var(--fill-color);\n",
              "    }\n",
              "    40% {\n",
              "      border-color: transparent;\n",
              "      border-right-color: var(--fill-color);\n",
              "      border-top-color: var(--fill-color);\n",
              "    }\n",
              "    60% {\n",
              "      border-color: transparent;\n",
              "      border-right-color: var(--fill-color);\n",
              "    }\n",
              "    80% {\n",
              "      border-color: transparent;\n",
              "      border-right-color: var(--fill-color);\n",
              "      border-bottom-color: var(--fill-color);\n",
              "    }\n",
              "    90% {\n",
              "      border-color: transparent;\n",
              "      border-bottom-color: var(--fill-color);\n",
              "    }\n",
              "  }\n",
              "</style>\n",
              "\n",
              "  <script>\n",
              "    async function quickchart(key) {\n",
              "      const quickchartButtonEl =\n",
              "        document.querySelector('#' + key + ' button');\n",
              "      quickchartButtonEl.disabled = true;  // To prevent multiple clicks.\n",
              "      quickchartButtonEl.classList.add('colab-df-spinner');\n",
              "      try {\n",
              "        const charts = await google.colab.kernel.invokeFunction(\n",
              "            'suggestCharts', [key], {});\n",
              "      } catch (error) {\n",
              "        console.error('Error during call to suggestCharts:', error);\n",
              "      }\n",
              "      quickchartButtonEl.classList.remove('colab-df-spinner');\n",
              "      quickchartButtonEl.classList.add('colab-df-quickchart-complete');\n",
              "    }\n",
              "    (() => {\n",
              "      let quickchartButtonEl =\n",
              "        document.querySelector('#df-3de409f2-0e19-499c-a25f-d2645ce98158 button');\n",
              "      quickchartButtonEl.style.display =\n",
              "        google.colab.kernel.accessAllowed ? 'block' : 'none';\n",
              "    })();\n",
              "  </script>\n",
              "</div>\n",
              "\n",
              "    </div>\n",
              "  </div>\n"
            ],
            "application/vnd.google.colaboratory.intrinsic+json": {
              "type": "dataframe",
              "summary": "{\n  \"name\": \"df\",\n  \"rows\": 10,\n  \"fields\": [\n    {\n      \"column\": \"review\",\n      \"properties\": {\n        \"dtype\": \"string\",\n        \"num_unique_values\": 10,\n        \"samples\": [\n          \"This is exactly the reason why many people remain homeless . . . because stupid producers pay their money to make awful films like this instead of donating if they can bother!<br /><br />This film is even worse than white chicks! Little Man has a lame excuse for posing a character midget as a baby. Story is awful considering it was written by six people. The idea still wouldn't be too bad though, if it was original and not a rip-off of a cartoon episode. it has funny moments but some of them are way over-done and some are just stupid. The acting was very, very bad. So was the directing. Anyone involved in this film should be ashamed of themselves. it is racist and very offensive to midgets. I mean, instead of showing sympathy to them, the film-makers make fun of them! It really disgusts me how they do it. They see midgets being just like babies. And for a character who is a midget, pretending to be an abandoned baby just to get a diamond from a certain family. That is its lame excuse for showing something like that. It just was not worth it. Don't watch this film. It is a huge waste of time and money.\",\n          \"Madison is not too bad-\\u00c2\\u0097if you like simplistic, non-offensive, \\\"family-friendly\\\" fare and, more importantly, if you know absolutely nothing about unlimited hydroplane racing. If, like me, you grew up with the sport and your heroes had names like Musson, Muncey, Cantrell, Slovak, etc., prepare to be disappointed.<br /><br />Professional film critics have commented at length on the formulaic nature of the film and its penchant for utilizing every hackneyed sports clich\\u00c3\\u00a9 in the book. I needn't repeat what they've said. What I felt was sadly missing was any sense of the real excitement of unlimited hydro racing in the \\\"glory years\\\" (which many would argue were already past in 1971).<br /><br />Yes, it was wonderful to see the old classic boats roaring down the course six abreast, though it was clear that the restored versions (hats off to the volunteers at the Hydroplane and Race Boat Museum) were being nursed through the scenes at reduced speed. But where was the sound? Much of the thrill of the old hydros was the mind-numbing roar of six Allison or Rolls-Merlin aircraft engines, wound up to RPM's never imagined by their designers, hitting the starting line right in front of you. You didn't hear it, you FELT it. Real hydro buffs know exactly what I'm talking about. There's none of that in Madison. Instead, every racing scene is buried under what is supposed to be a \\\"heroic\\\" musical score.<br /><br />And then there are the close-up shots of the drivers, riding smoothly and comfortably in the cockpits as if they were relaxing in the latest luxury limousines, in some cases taking time to smile evilly as they contemplate how best to thwart the poor home-town hero. Or, in one particularly ridiculous shot, taking time to spot Jake Lloyd giving a \\\"Rocky\\\" salute from a bridge pier. In reality, some unlimited drivers wore flak vests to minimize the beating they took as the boats slammed across the rock-hard water at speeds above 150 mph.<br /><br />As one reviewer so aptly put it, \\\"The sport deserves better than this.\\\"<br /><br />Finally, since another user brought up anachronisms, I'll add one: the establishing shot of Seattle shows the Kingdome and Safeco Field. Neither existed in 1971\",\n          \"I've only seen this film once when it was shown on tv but I can still remember it 15 years later so that must say something about it. I thought it was an intelligent look into schooling, friendship, bullying and the influence it can have leading into adult life.<br /><br />The title really refers to how being good or bad at sports can either make you the lowest of the low or you will be tolerated by the cliques within school and even later on into adulthood if you're good at it- this is set in a private school in England but it could be anywhere.<br /><br />The main character is bad at games, seeks revenge in later life which all culminates in a climactic confrontation on a cricket pitch. I must admit I was gutted by the ending - it was powerful and saddening.\"\n        ],\n        \"semantic_type\": \"\",\n        \"description\": \"\"\n      }\n    },\n    {\n      \"column\": \"sentiment\",\n      \"properties\": {\n        \"dtype\": \"category\",\n        \"num_unique_values\": 2,\n        \"samples\": [\n          \"positive\",\n          \"negative\"\n        ],\n        \"semantic_type\": \"\",\n        \"description\": \"\"\n      }\n    }\n  ]\n}"
            }
          },
          "metadata": {},
          "execution_count": 41
        }
      ],
      "source": [
        "df = pd.read_csv('/content/drive/MyDrive/UNED/IMDB Dataset.csv', encoding='latin-1')  # or 'cp1252', 'ISO-8859-1')\n",
        "df.sample(10)"
      ]
    },
    {
      "cell_type": "code",
      "execution_count": 43,
      "metadata": {
        "colab": {
          "base_uri": "https://localhost:8080/",
          "height": 178
        },
        "id": "vw4EOJIArZPE",
        "outputId": "f773ad3f-e76f-4c33-e66b-449072138e24"
      },
      "outputs": [
        {
          "output_type": "execute_result",
          "data": {
            "text/plain": [
              "sentiment\n",
              "positive    25000\n",
              "negative    25000\n",
              "Name: count, dtype: int64"
            ],
            "text/html": [
              "<div>\n",
              "<style scoped>\n",
              "    .dataframe tbody tr th:only-of-type {\n",
              "        vertical-align: middle;\n",
              "    }\n",
              "\n",
              "    .dataframe tbody tr th {\n",
              "        vertical-align: top;\n",
              "    }\n",
              "\n",
              "    .dataframe thead th {\n",
              "        text-align: right;\n",
              "    }\n",
              "</style>\n",
              "<table border=\"1\" class=\"dataframe\">\n",
              "  <thead>\n",
              "    <tr style=\"text-align: right;\">\n",
              "      <th></th>\n",
              "      <th>count</th>\n",
              "    </tr>\n",
              "    <tr>\n",
              "      <th>sentiment</th>\n",
              "      <th></th>\n",
              "    </tr>\n",
              "  </thead>\n",
              "  <tbody>\n",
              "    <tr>\n",
              "      <th>positive</th>\n",
              "      <td>25000</td>\n",
              "    </tr>\n",
              "    <tr>\n",
              "      <th>negative</th>\n",
              "      <td>25000</td>\n",
              "    </tr>\n",
              "  </tbody>\n",
              "</table>\n",
              "</div><br><label><b>dtype:</b> int64</label>"
            ]
          },
          "metadata": {},
          "execution_count": 43
        }
      ],
      "source": [
        "df['sentiment'].value_counts()  ## Balance del df"
      ]
    },
    {
      "cell_type": "code",
      "execution_count": 44,
      "metadata": {
        "colab": {
          "base_uri": "https://localhost:8080/",
          "height": 519
        },
        "id": "8mGZQw_WyKXA",
        "outputId": "13423647-3c69-42db-edf9-5c2d53f4dd95"
      },
      "outputs": [
        {
          "output_type": "display_data",
          "data": {
            "text/plain": [
              "<Figure size 640x480 with 1 Axes>"
            ],
            "image/png": "[encoded data removed]"
          },
          "metadata": {}
        }
      ],
      "source": [
        "df.sentiment.value_counts().plot(kind='bar', title='Distribución de las etiquetas');"
      ]
    },
    {
      "cell_type": "markdown",
      "metadata": {
        "id": "OFNTbgiAyqwF"
      },
      "source": [
        "###transformar los textos en vectores"
      ]
    },
    {
      "cell_type": "code",
      "execution_count": 45,
      "metadata": {
        "id": "8RD7wAxtrZPH"
      },
      "outputs": [],
      "source": [
        "# separamos train y test\n",
        "train, test = train_test_split(df, test_size=0.33)"
      ]
    },
    {
      "cell_type": "markdown",
      "metadata": {
        "id": "FuhUYOJFzUNX"
      },
      "source": [
        "## transformar el texto en vectores"
      ]
    },
    {
      "cell_type": "code",
      "execution_count": 46,
      "metadata": {
        "id": "Casl17qwxpFA"
      },
      "outputs": [],
      "source": [
        "# Separamos en X e y\n",
        "train_y = train.iloc[:,0]\n",
        "train_X = train.iloc[:,1].astype(str) # Convert train_X to string type\n",
        "test_y = test.iloc[:,0]  ## y minuscula es vector\n",
        "test_X = test.iloc[:,1].astype(str) # Convert test_X to string type  ## X mayuscula matriz\n",
        "\n",
        "# Vectorizamos los textos por TF-IDF\n",
        "vec = TfidfVectorizer(min_df=3)  ## instanciamos que considere palabras  aparezcan minimo 3 veces\n",
        "model = MultinomialNB()  ## instanciar el naive\n",
        "clf = make_pipeline(vec,model) ## entrenamos el modelo vector, modelo\n",
        "\n",
        "clf = clf.fit(train_X, train_y) ## .fit clasificador ajustado  es rapido el modelo naive bayes rapido"
      ]
    },
    {
      "cell_type": "code",
      "execution_count": 47,
      "metadata": {
        "colab": {
          "base_uri": "https://localhost:8080/",
          "height": 458
        },
        "id": "-Vhh11A4rZPV",
        "outputId": "c9e7fa4e-fe45-446f-ecc4-1aa501be19fd"
      },
      "outputs": [
        {
          "output_type": "execute_result",
          "data": {
            "text/plain": [
              "30183    positive\n",
              "43883    positive\n",
              "22506    positive\n",
              "7194     positive\n",
              "47299    negative\n",
              "           ...   \n",
              "10174    positive\n",
              "13621    negative\n",
              "35812    negative\n",
              "20451    negative\n",
              "22919    positive\n",
              "Name: sentiment, Length: 16500, dtype: object"
            ],
            "text/html": [
              "<div>\n",
              "<style scoped>\n",
              "    .dataframe tbody tr th:only-of-type {\n",
              "        vertical-align: middle;\n",
              "    }\n",
              "\n",
              "    .dataframe tbody tr th {\n",
              "        vertical-align: top;\n",
              "    }\n",
              "\n",
              "    .dataframe thead th {\n",
              "        text-align: right;\n",
              "    }\n",
              "</style>\n",
              "<table border=\"1\" class=\"dataframe\">\n",
              "  <thead>\n",
              "    <tr style=\"text-align: right;\">\n",
              "      <th></th>\n",
              "      <th>sentiment</th>\n",
              "    </tr>\n",
              "  </thead>\n",
              "  <tbody>\n",
              "    <tr>\n",
              "      <th>30183</th>\n",
              "      <td>positive</td>\n",
              "    </tr>\n",
              "    <tr>\n",
              "      <th>43883</th>\n",
              "      <td>positive</td>\n",
              "    </tr>\n",
              "    <tr>\n",
              "      <th>22506</th>\n",
              "      <td>positive</td>\n",
              "    </tr>\n",
              "    <tr>\n",
              "      <th>7194</th>\n",
              "      <td>positive</td>\n",
              "    </tr>\n",
              "    <tr>\n",
              "      <th>47299</th>\n",
              "      <td>negative</td>\n",
              "    </tr>\n",
              "    <tr>\n",
              "      <th>...</th>\n",
              "      <td>...</td>\n",
              "    </tr>\n",
              "    <tr>\n",
              "      <th>10174</th>\n",
              "      <td>positive</td>\n",
              "    </tr>\n",
              "    <tr>\n",
              "      <th>13621</th>\n",
              "      <td>negative</td>\n",
              "    </tr>\n",
              "    <tr>\n",
              "      <th>35812</th>\n",
              "      <td>negative</td>\n",
              "    </tr>\n",
              "    <tr>\n",
              "      <th>20451</th>\n",
              "      <td>negative</td>\n",
              "    </tr>\n",
              "    <tr>\n",
              "      <th>22919</th>\n",
              "      <td>positive</td>\n",
              "    </tr>\n",
              "  </tbody>\n",
              "</table>\n",
              "<p>16500 rows × 1 columns</p>\n",
              "</div><br><label><b>dtype:</b> object</label>"
            ]
          },
          "metadata": {},
          "execution_count": 47
        }
      ],
      "source": [
        "test_X"
      ]
    },
    {
      "cell_type": "code",
      "execution_count": 48,
      "metadata": {
        "id": "ZXrmV8pHrZPY"
      },
      "outputs": [],
      "source": [
        "predictions = clf.predict(test_X)"
      ]
    },
    {
      "cell_type": "code",
      "execution_count": 49,
      "metadata": {
        "colab": {
          "base_uri": "https://localhost:8080/"
        },
        "id": "iCoxFEYN1Bzf",
        "outputId": "87e517a4-7983-4518-b40c-29b8f6752db6"
      },
      "outputs": [
        {
          "output_type": "execute_result",
          "data": {
            "text/plain": [
              "6.0606060606060605e-05"
            ]
          },
          "metadata": {},
          "execution_count": 49
        }
      ],
      "source": [
        "accuracy_score(test_y, predictions)"
      ]
    },
    {
      "cell_type": "code",
      "execution_count": 50,
      "metadata": {
        "colab": {
          "base_uri": "https://localhost:8080/"
        },
        "id": "8uMnVYQHKMww",
        "outputId": "94967e0d-162a-46af-871c-9d0b69411f18"
      },
      "outputs": [
        {
          "output_type": "execute_result",
          "data": {
            "text/plain": [
              "6.0606060606060605e-05"
            ]
          },
          "metadata": {},
          "execution_count": 50
        }
      ],
      "source": [
        "sum(predictions == test_y) / len(test_y)"
      ]
    },
    {
      "cell_type": "code",
      "execution_count": 51,
      "metadata": {
        "colab": {
          "base_uri": "https://localhost:8080/"
        },
        "id": "LVdNZITGrZPc",
        "outputId": "85af6b94-6a21-43f6-e4dc-ce883b8519a9"
      },
      "outputs": [
        {
          "output_type": "execute_result",
          "data": {
            "text/plain": [
              "6.0606060606060605e-05"
            ]
          },
          "metadata": {},
          "execution_count": 51
        }
      ],
      "source": [
        "accuracy_score(test_y, predictions)"
      ]
    },
    {
      "cell_type": "code",
      "execution_count": null,
      "metadata": {
        "id": "W_oq59CArZPo"
      },
      "outputs": [],
      "source": [
        "import numpy as np\n",
        "import matplotlib.pyplot as plt\n",
        "import seaborn as sns\n",
        "from sklearn.metrics import confusion_matrix\n",
        "df_cm = confusion_matrix(test_y,predictions,labels=test_y.unique())\n",
        "heatmap = sns.heatmap(df_cm, annot=True, fmt=\"d\")\n",
        "heatmap.yaxis.set_ticklabels(test_y.unique(), rotation=0, ha='right')\n",
        "heatmap.xaxis.set_ticklabels(test_y.unique(), rotation=45, ha='right')\n",
        "plt.ylabel('Valor Verdadero')\n",
        "plt.xlabel('Valor Predicho');"
      ]
    },
    {
      "cell_type": "markdown",
      "metadata": {
        "id": "JaT7UsjA1IPi"
      },
      "source": [
        "## usar el modelo para hacer la prediccion"
      ]
    },
    {
      "cell_type": "code",
      "execution_count": null,
      "metadata": {
        "id": "AtQ_Ui8xQ7BZ"
      },
      "outputs": [],
      "source": [
        "to_predict = \"Fue terrible la clase, el profesor se tom\\xF3 una siesta y nos hizo usar machine learning para ver cu\\xE1nto tiempo dorm\\xEDa\" #@param {type:\"string\"}\n",
        "clf.predict([to_predict])[0]"
      ]
    },
    {
      "cell_type": "markdown",
      "metadata": {
        "id": "D34WiHc1xytE"
      },
      "source": [
        "## naive bayes distribucion binomial, vectorizacion por tf y df"
      ]
    }
  ],
  "metadata": {
    "colab": {
      "machine_shape": "hm",
      "provenance": [],
      "include_colab_link": true
    },
    "kernelspec": {
      "display_name": "Python 3",
      "name": "python3"
    },
    "language_info": {
      "name": "python",
      "version": "3.8.8"
    },
    "vscode": {
      "interpreter": {
        "hash": "988c801e8fa6188d3e53012a7256361dd6100dad47899d4700f624e035bcb20b"
      }
    }
  },
  "nbformat": 4,
  "nbformat_minor": 0
}