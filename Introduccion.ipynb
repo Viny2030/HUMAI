{
  "cells": [
    {
      "cell_type": "markdown",
      "metadata": {
        "id": "view-in-github",
        "colab_type": "text"
      },
      "source": [
        "<a href=\"https://colab.research.google.com/github/Viny2030/HUMAI/blob/main/Introduccion.ipynb\" target=\"_parent\"><img src=\"https://colab.research.google.com/assets/colab-badge.svg\" alt=\"Open In Colab\"/></a>"
      ]
    },
    {
      "cell_type": "markdown",
      "metadata": {
        "id": "tNWLqlg7AQsF"
      },
      "source": [
        "<a href=\"https://colab.research.google.com/github/institutohumai/cursos-python/blob/master/NLP/1_Introduccion/Introduccion.ipynb\"> <img src='https://colab.research.google.com/assets/colab-badge.svg' /> </a>"
      ]
    },
    {
      "cell_type": "markdown",
      "metadata": {
        "id": "75kmJv70LfUY"
      },
      "source": [
        "# Procesamiento de Lenguaje Natural (NLP)\n",
        "\n"
      ]
    },
    {
      "cell_type": "code",
      "source": [
        "#@title Preparamos Dataset de Medios de Latinoamérica\n",
        "%%capture\n",
        "!pip install datasets\n",
        "import pandas as pd\n",
        "from datasets import load_dataset\n",
        "\n",
        "data = [] # Changed to a list to store DataFrames\n",
        "configs = ['ar', 'bo', 'br', 'cl', 'co', 'cr', 'gt', 'hn', 'mx', 'ni', 'pa', 'pe', 'pr', 'py', 'sv', 'uy', 've'] # 'com', 'es'\n",
        "for c in configs:\n",
        "  data_ = load_dataset(\"LeoCordoba/CC-NEWS-ES\", c)\n",
        "  data.append(data_['train'].to_pandas()) # Appending each DataFrame to the list\n",
        "\n",
        "data = pd.concat(data, ignore_index=True) # Concatenating all DataFrames in the list\n",
        "# Hacemos \"downsampling\" tomando maximo n_min para\n",
        "# los grupos que tienen > n_min, y todos para los que tienen menos\n",
        "n_min = 1000\n",
        "df_grouped = data.groupby(\"country\")\n",
        "df_grouped.groups.values()\n",
        "frames_of_groups = [x.sample(n_min) if x.shape[0] > n_min else x for y, x in df_grouped]\n",
        "data = pd.concat(frames_of_groups)"
      ],
      "metadata": {
        "id": "sp_Fxu6FNRz6"
      },
      "execution_count": 5,
      "outputs": []
    },
    {
      "cell_type": "code",
      "execution_count": 6,
      "metadata": {
        "colab": {
          "base_uri": "https://localhost:8080/",
          "height": 129
        },
        "id": "-Jvv5qO15vvu",
        "outputId": "6cacd2f1-48d6-4bd7-a21b-4b40ae689ca8"
      },
      "outputs": [
        {
          "output_type": "stream",
          "name": "stdout",
          "text": [
            "15561\n"
          ]
        },
        {
          "output_type": "execute_result",
          "data": {
            "text/plain": [
              "        country                                               text       id\n",
              "415598       ar  El Consejo Federal confirmó ayer el día y hora...   415599\n",
              "1478330      ni  En lo que va del año esta sería la segunda vis...  7040566"
            ],
            "text/html": [
              "\n",
              "  <div id=\"df-fd25e3fd-f318-4360-ba6c-0a84d09419c4\" class=\"colab-df-container\">\n",
              "    <div>\n",
              "<style scoped>\n",
              "    .dataframe tbody tr th:only-of-type {\n",
              "        vertical-align: middle;\n",
              "    }\n",
              "\n",
              "    .dataframe tbody tr th {\n",
              "        vertical-align: top;\n",
              "    }\n",
              "\n",
              "    .dataframe thead th {\n",
              "        text-align: right;\n",
              "    }\n",
              "</style>\n",
              "<table border=\"1\" class=\"dataframe\">\n",
              "  <thead>\n",
              "    <tr style=\"text-align: right;\">\n",
              "      <th></th>\n",
              "      <th>country</th>\n",
              "      <th>text</th>\n",
              "      <th>id</th>\n",
              "    </tr>\n",
              "  </thead>\n",
              "  <tbody>\n",
              "    <tr>\n",
              "      <th>415598</th>\n",
              "      <td>ar</td>\n",
              "      <td>El Consejo Federal confirmó ayer el día y hora...</td>\n",
              "      <td>415599</td>\n",
              "    </tr>\n",
              "    <tr>\n",
              "      <th>1478330</th>\n",
              "      <td>ni</td>\n",
              "      <td>En lo que va del año esta sería la segunda vis...</td>\n",
              "      <td>7040566</td>\n",
              "    </tr>\n",
              "  </tbody>\n",
              "</table>\n",
              "</div>\n",
              "    <div class=\"colab-df-buttons\">\n",
              "\n",
              "  <div class=\"colab-df-container\">\n",
              "    <button class=\"colab-df-convert\" onclick=\"convertToInteractive('df-fd25e3fd-f318-4360-ba6c-0a84d09419c4')\"\n",
              "            title=\"Convert this dataframe to an interactive table.\"\n",
              "            style=\"display:none;\">\n",
              "\n",
              "  <svg xmlns=\"http://www.w3.org/2000/svg\" height=\"24px\" viewBox=\"0 -960 960 960\">\n",
              "    <path d=\"M120-120v-720h720v720H120Zm60-500h600v-160H180v160Zm220 220h160v-160H400v160Zm0 220h160v-160H400v160ZM180-400h160v-160H180v160Zm440 0h160v-160H620v160ZM180-180h160v-160H180v160Zm440 0h160v-160H620v160Z\"/>\n",
              "  </svg>\n",
              "    </button>\n",
              "\n",
              "  <style>\n",
              "    .colab-df-container {\n",
              "      display:flex;\n",
              "      gap: 12px;\n",
              "    }\n",
              "\n",
              "    .colab-df-convert {\n",
              "      background-color: #E8F0FE;\n",
              "      border: none;\n",
              "      border-radius: 50%;\n",
              "      cursor: pointer;\n",
              "      display: none;\n",
              "      fill: #1967D2;\n",
              "      height: 32px;\n",
              "      padding: 0 0 0 0;\n",
              "      width: 32px;\n",
              "    }\n",
              "\n",
              "    .colab-df-convert:hover {\n",
              "      background-color: #E2EBFA;\n",
              "      box-shadow: 0px 1px 2px rgba(60, 64, 67, 0.3), 0px 1px 3px 1px rgba(60, 64, 67, 0.15);\n",
              "      fill: #174EA6;\n",
              "    }\n",
              "\n",
              "    .colab-df-buttons div {\n",
              "      margin-bottom: 4px;\n",
              "    }\n",
              "\n",
              "    [theme=dark] .colab-df-convert {\n",
              "      background-color: #3B4455;\n",
              "      fill: #D2E3FC;\n",
              "    }\n",
              "\n",
              "    [theme=dark] .colab-df-convert:hover {\n",
              "      background-color: #434B5C;\n",
              "      box-shadow: 0px 1px 3px 1px rgba(0, 0, 0, 0.15);\n",
              "      filter: drop-shadow(0px 1px 2px rgba(0, 0, 0, 0.3));\n",
              "      fill: #FFFFFF;\n",
              "    }\n",
              "  </style>\n",
              "\n",
              "    <script>\n",
              "      const buttonEl =\n",
              "        document.querySelector('#df-fd25e3fd-f318-4360-ba6c-0a84d09419c4 button.colab-df-convert');\n",
              "      buttonEl.style.display =\n",
              "        google.colab.kernel.accessAllowed ? 'block' : 'none';\n",
              "\n",
              "      async function convertToInteractive(key) {\n",
              "        const element = document.querySelector('#df-fd25e3fd-f318-4360-ba6c-0a84d09419c4');\n",
              "        const dataTable =\n",
              "          await google.colab.kernel.invokeFunction('convertToInteractive',\n",
              "                                                    [key], {});\n",
              "        if (!dataTable) return;\n",
              "\n",
              "        const docLinkHtml = 'Like what you see? Visit the ' +\n",
              "          '<a target=\"_blank\" href=https://colab.research.google.com/notebooks/data_table.ipynb>data table notebook</a>'\n",
              "          + ' to learn more about interactive tables.';\n",
              "        element.innerHTML = '';\n",
              "        dataTable['output_type'] = 'display_data';\n",
              "        await google.colab.output.renderOutput(dataTable, element);\n",
              "        const docLink = document.createElement('div');\n",
              "        docLink.innerHTML = docLinkHtml;\n",
              "        element.appendChild(docLink);\n",
              "      }\n",
              "    </script>\n",
              "  </div>\n",
              "\n",
              "\n",
              "<div id=\"df-a3e04ba8-f74e-4388-a430-8d852cc1bf51\">\n",
              "  <button class=\"colab-df-quickchart\" onclick=\"quickchart('df-a3e04ba8-f74e-4388-a430-8d852cc1bf51')\"\n",
              "            title=\"Suggest charts\"\n",
              "            style=\"display:none;\">\n",
              "\n",
              "<svg xmlns=\"http://www.w3.org/2000/svg\" height=\"24px\"viewBox=\"0 0 24 24\"\n",
              "     width=\"24px\">\n",
              "    <g>\n",
              "        <path d=\"M19 3H5c-1.1 0-2 .9-2 2v14c0 1.1.9 2 2 2h14c1.1 0 2-.9 2-2V5c0-1.1-.9-2-2-2zM9 17H7v-7h2v7zm4 0h-2V7h2v10zm4 0h-2v-4h2v4z\"/>\n",
              "    </g>\n",
              "</svg>\n",
              "  </button>\n",
              "\n",
              "<style>\n",
              "  .colab-df-quickchart {\n",
              "      --bg-color: #E8F0FE;\n",
              "      --fill-color: #1967D2;\n",
              "      --hover-bg-color: #E2EBFA;\n",
              "      --hover-fill-color: #174EA6;\n",
              "      --disabled-fill-color: #AAA;\n",
              "      --disabled-bg-color: #DDD;\n",
              "  }\n",
              "\n",
              "  [theme=dark] .colab-df-quickchart {\n",
              "      --bg-color: #3B4455;\n",
              "      --fill-color: #D2E3FC;\n",
              "      --hover-bg-color: #434B5C;\n",
              "      --hover-fill-color: #FFFFFF;\n",
              "      --disabled-bg-color: #3B4455;\n",
              "      --disabled-fill-color: #666;\n",
              "  }\n",
              "\n",
              "  .colab-df-quickchart {\n",
              "    background-color: var(--bg-color);\n",
              "    border: none;\n",
              "    border-radius: 50%;\n",
              "    cursor: pointer;\n",
              "    display: none;\n",
              "    fill: var(--fill-color);\n",
              "    height: 32px;\n",
              "    padding: 0;\n",
              "    width: 32px;\n",
              "  }\n",
              "\n",
              "  .colab-df-quickchart:hover {\n",
              "    background-color: var(--hover-bg-color);\n",
              "    box-shadow: 0 1px 2px rgba(60, 64, 67, 0.3), 0 1px 3px 1px rgba(60, 64, 67, 0.15);\n",
              "    fill: var(--button-hover-fill-color);\n",
              "  }\n",
              "\n",
              "  .colab-df-quickchart-complete:disabled,\n",
              "  .colab-df-quickchart-complete:disabled:hover {\n",
              "    background-color: var(--disabled-bg-color);\n",
              "    fill: var(--disabled-fill-color);\n",
              "    box-shadow: none;\n",
              "  }\n",
              "\n",
              "  .colab-df-spinner {\n",
              "    border: 2px solid var(--fill-color);\n",
              "    border-color: transparent;\n",
              "    border-bottom-color: var(--fill-color);\n",
              "    animation:\n",
              "      spin 1s steps(1) infinite;\n",
              "  }\n",
              "\n",
              "  @keyframes spin {\n",
              "    0% {\n",
              "      border-color: transparent;\n",
              "      border-bottom-color: var(--fill-color);\n",
              "      border-left-color: var(--fill-color);\n",
              "    }\n",
              "    20% {\n",
              "      border-color: transparent;\n",
              "      border-left-color: var(--fill-color);\n",
              "      border-top-color: var(--fill-color);\n",
              "    }\n",
              "    30% {\n",
              "      border-color: transparent;\n",
              "      border-left-color: var(--fill-color);\n",
              "      border-top-color: var(--fill-color);\n",
              "      border-right-color: var(--fill-color);\n",
              "    }\n",
              "    40% {\n",
              "      border-color: transparent;\n",
              "      border-right-color: var(--fill-color);\n",
              "      border-top-color: var(--fill-color);\n",
              "    }\n",
              "    60% {\n",
              "      border-color: transparent;\n",
              "      border-right-color: var(--fill-color);\n",
              "    }\n",
              "    80% {\n",
              "      border-color: transparent;\n",
              "      border-right-color: var(--fill-color);\n",
              "      border-bottom-color: var(--fill-color);\n",
              "    }\n",
              "    90% {\n",
              "      border-color: transparent;\n",
              "      border-bottom-color: var(--fill-color);\n",
              "    }\n",
              "  }\n",
              "</style>\n",
              "\n",
              "  <script>\n",
              "    async function quickchart(key) {\n",
              "      const quickchartButtonEl =\n",
              "        document.querySelector('#' + key + ' button');\n",
              "      quickchartButtonEl.disabled = true;  // To prevent multiple clicks.\n",
              "      quickchartButtonEl.classList.add('colab-df-spinner');\n",
              "      try {\n",
              "        const charts = await google.colab.kernel.invokeFunction(\n",
              "            'suggestCharts', [key], {});\n",
              "      } catch (error) {\n",
              "        console.error('Error during call to suggestCharts:', error);\n",
              "      }\n",
              "      quickchartButtonEl.classList.remove('colab-df-spinner');\n",
              "      quickchartButtonEl.classList.add('colab-df-quickchart-complete');\n",
              "    }\n",
              "    (() => {\n",
              "      let quickchartButtonEl =\n",
              "        document.querySelector('#df-a3e04ba8-f74e-4388-a430-8d852cc1bf51 button');\n",
              "      quickchartButtonEl.style.display =\n",
              "        google.colab.kernel.accessAllowed ? 'block' : 'none';\n",
              "    })();\n",
              "  </script>\n",
              "</div>\n",
              "\n",
              "    </div>\n",
              "  </div>\n"
            ],
            "application/vnd.google.colaboratory.intrinsic+json": {
              "type": "dataframe",
              "summary": "{\n  \"name\": \"data\",\n  \"rows\": 2,\n  \"fields\": [\n    {\n      \"column\": \"country\",\n      \"properties\": {\n        \"dtype\": \"string\",\n        \"num_unique_values\": 2,\n        \"samples\": [\n          \"ni\",\n          \"ar\"\n        ],\n        \"semantic_type\": \"\",\n        \"description\": \"\"\n      }\n    },\n    {\n      \"column\": \"text\",\n      \"properties\": {\n        \"dtype\": \"string\",\n        \"num_unique_values\": 2,\n        \"samples\": [\n          \"En lo que va del a\\u00f1o esta ser\\u00eda la segunda visita que realizar\\u00e1 el Fondo Monetario Internacional (FMI) al pa\\u00eds para dejar sus recomendaciones, porque desde que el gobierno aplic\\u00f3 este a\\u00f1o una reforma a la Ley de Concertaci\\u00f3n Tributaria ha generado d\\u00e9ficit en las finanzas p\\u00fablicas y una contracci\\u00f3n en la econom\\u00eda por las medidas recaudatorias que afectan a las empresas y consumidores finales.\\tLa situaci\\u00f3n actual de las Reservas Internacionales del Banco Central se encuentran ca\\u00eddas, estoy seguro que el gobierno estar\\u00eda deseoso de poder firmar un nuevo acuerdo con el FMI, pero no se dar\\u00e1 por las restricciones que impuso Estados Unidos a Nicaragua con la Ley NicaAct, explic\\u00f3 Alfredo C\\u00e9sar, expresidente del Banco Central de Nicaragua.\",\n          \"El Consejo Federal confirm\\u00f3 ayer el d\\u00eda y horario de la revancha entre Puerto San Mart\\u00edn y Ben Hur, v\\u00e1lido por la segunda fase del Torneo Regional Amateur. Finalmente, el encuentro en la localidad de San Lorenzo se disputar\\u00e1 el domingo desde las 15:30 con el arbitraje del casildense Juan Cruz Caldez. La dirigencia de PSM hab\\u00eda pedido en un primer momento jugar el s\\u00e1bado, pero la BH no dio el OK, con lo cual el encuentro se confirm\\u00f3 para el d\\u00eda siguiente. En cuanto a lo deportivo, reci\\u00e9n este jueves el entrenador Carlos Trullet dar\\u00e1 los primeros indicios del probable equipo titular, recordando que el Lobo se impuso por 1 a 0 en los primeros 90\\u2019 disputados en barrio Parque el \\u00faltimo fin de semana. Por lo pronto, se producir\\u00eda un s\\u00f3lo cambio, ya que Leandro Sola cumpli\\u00f3 con la fecha de sanci\\u00f3n y recuperar\\u00eda su lugar en el sector del mediocampo en reemplazo de Joaqu\\u00edn Castellano, manteni\\u00e9ndose Ezequiel Saavedra como uno de los volantes centrales pese a que Santiago Paz tambi\\u00e9n cumpli\\u00f3 con la fecha de suspensi\\u00f3n y puede ser tenido en cuenta por el t\\u00e9cnico.\"\n        ],\n        \"semantic_type\": \"\",\n        \"description\": \"\"\n      }\n    },\n    {\n      \"column\": \"id\",\n      \"properties\": {\n        \"dtype\": \"int32\",\n        \"num_unique_values\": 2,\n        \"samples\": [\n          7040566,\n          415599\n        ],\n        \"semantic_type\": \"\",\n        \"description\": \"\"\n      }\n    }\n  ]\n}"
            }
          },
          "metadata": {},
          "execution_count": 6
        }
      ],
      "source": [
        "# Ejecutar la celda de arriba para preparar los datos\n",
        "print(data.shape[0])\n",
        "data.sample(2)"
      ]
    },
    {
      "cell_type": "markdown",
      "metadata": {
        "id": "75mfEJiAKTu6"
      },
      "source": [
        "### Definición"
      ]
    },
    {
      "cell_type": "markdown",
      "metadata": {
        "id": "_L0keaB9KXfI"
      },
      "source": [
        "\n",
        "El Procesamiento de Lenguaje Natural (NLP por sus siglas en inglés, **Natural Language Processing**) es un campo compartido entre Lingüística y la Computación, incluyendo al Aprendizaje Automático (ML).\n",
        "\n",
        "Busca, como su nombre lo dice, aplicar sobre el lenguaje natural con herramientas algorítmicas para extraer información, categorizar, traducir, entre otras tareas con el objetivo de fondo el objetivo es lograr que las computadoras \"comprendan\" el lenguaje,\n",
        "\n",
        "Puede, o no, usar aprendizaje automático: computar las N palabras más frecuentes en un texto por ejemplo, sería un proceso básico de NLP, que no utiliza ML."
      ]
    },
    {
      "cell_type": "markdown",
      "metadata": {
        "id": "kM5HEqEIKUGG"
      },
      "source": [
        "### Tareas Importantes"
      ]
    },
    {
      "cell_type": "markdown",
      "metadata": {
        "id": "qNOzO7EGKUIc"
      },
      "source": [
        "- Traducción de habla a escritura: la conversión de los fonemas en un audio a su representación escrita (grafema)\n",
        "\n",
        "- Clasificación:\n",
        "  - Clasificar oraciones enteras: detectar si un E-mail es spam o no, determinar si una oración es gramaticalmente correcta, análisis de sentimiento, moderación de ofensas, etc.\n",
        "\n",
        "  - Clasificar cada palabra en una oración: identificar los componentes gramaticales (sustantivo, adjetivo, verbo) o las entidades mencionadas (persona, lugar, organización)\n",
        "\n",
        "  - Modelado de Tópicos, usado mucho en *social listening*.\n",
        "\n",
        "- Generación de texto:\n",
        "  - Generar texto: generar copy para publicidades, escribir noticias, conversar, arte, etc.\n",
        "\n",
        "  - Resumen abstractivo / resumen extractivo: Extraer de una respuesta de un texto: responder una pregunta dada en base al contexto\n",
        "\n",
        "  - Traducción: Traducir un texto de un idioma a otro o de un estilo a otro (style transfer)\n",
        "\n",
        "- Agentes de Diálogo: asistentes virtuales, atención al cliente, chatbots orientados a tareas específicas.\n",
        "\n",
        "Los dominios de aplicación de estas tecnologías son innumerables, yendo desde aplicaciones triviales hasta aplicaciones como [*Speech2face*](https://speech2face.github.io/)\n",
        "\n",
        "<center><img src=\"https://speech2face.github.io/images/teaser_side.jpg\" alt=\"Paris\" align=\"center\" width=\"300px\" style=\"text-align:center;\"></center>"
      ]
    },
    {
      "cell_type": "markdown",
      "metadata": {
        "id": "6x8dMANDKbVf"
      },
      "source": [
        "# Métodos tradicionales del NLP\n",
        "\n",
        "En las próximas clases se verá el *estado del arte* basado en Aprendizaje Profundo. Sin embargo, existe un gran repertorio de técnicas más allá de eso. Conocerlas nos servirá para entender esas herramientas, y en muchas ocasiones estas técnicas tradicionales son un buen complemento para preparación y limpieza de datos, o incluso pueden ser la solución deseada si una red neuronal pesada no es conveniente.\n",
        "\n",
        "Las próximas clases se centrarán en redes usando PyTorch. Hoy conoceremos las siguientes técnias y liberías:\n",
        "\n",
        "Herramientas de NLP que veremos:\n",
        " - Expresiones Regulares con `re`\n",
        " - Búsqueda difusa de string con `thefuzz`\n",
        "\n",
        "Procesos de normalización, preprocesamiento:\n",
        " - *Stemming* con `nltk`\n",
        " - *Lemmatización* con `spacy`\n",
        " - *Stop Words*\n",
        "\n",
        "Modos de representación:\n",
        " - Bolsa de Palabras y\n",
        " - TF-IDF `con sklearn`\n"
      ]
    },
    {
      "cell_type": "markdown",
      "metadata": {
        "id": "giOXzHQl57NM"
      },
      "source": [
        "### Tokenización"
      ]
    },
    {
      "cell_type": "markdown",
      "metadata": {
        "id": "AgxW5OKgxvi5"
      },
      "source": [
        "Quizás una de las operaciones más básicas que podemos hacer es contar palabras. Imaginemos un caso extremadamente sencillo relacionado al aprendizaje automático. Pensemos en un **clasificador de positividad / negatividad**.\n",
        "\n",
        "Podríamos usar una regla como:\n",
        "\n",
        "```si \"bueno\" está en el texto, clasificamos como positivo```.\n",
        "\n",
        "Claramente un enfoque tan sencillo va a ser propenso a muchos errores. Iremos viendo cómo aplicarlo y mejorarlo.\n",
        "\n",
        "La operación de separar los textos en unidades básicas (o ***tokens***) la llamamos ***tokenización***."
      ]
    },
    {
      "cell_type": "code",
      "source": [
        "doc1=\"Jane bought me these books.Jane bought a book for me.She dropped a line to him. Thank you.She sleeps.I sleep a lot.I was born in Madrid the cat was chased by the dog.I was born in Madrid during 1995.Out of all this , something good will come.Susan left afterthe rehearsal. She did it well.She sleeps during the morning, but she sleeps.\""
      ],
      "metadata": {
        "id": "IksMesuyYmvj"
      },
      "execution_count": 7,
      "outputs": []
    },
    {
      "cell_type": "code",
      "source": [
        "doc1.split(' ') ##  tokenizacion"
      ],
      "metadata": {
        "colab": {
          "base_uri": "https://localhost:8080/"
        },
        "id": "_LU7f80-ZD_n",
        "outputId": "a0527e11-cc50-4d8c-f962-275abc0cb094"
      },
      "execution_count": 8,
      "outputs": [
        {
          "output_type": "execute_result",
          "data": {
            "text/plain": [
              "['Jane',\n",
              " 'bought',\n",
              " 'me',\n",
              " 'these',\n",
              " 'books.Jane',\n",
              " 'bought',\n",
              " 'a',\n",
              " 'book',\n",
              " 'for',\n",
              " 'me.She',\n",
              " 'dropped',\n",
              " 'a',\n",
              " 'line',\n",
              " 'to',\n",
              " 'him.',\n",
              " 'Thank',\n",
              " 'you.She',\n",
              " 'sleeps.I',\n",
              " 'sleep',\n",
              " 'a',\n",
              " 'lot.I',\n",
              " 'was',\n",
              " 'born',\n",
              " 'in',\n",
              " 'Madrid',\n",
              " 'the',\n",
              " 'cat',\n",
              " 'was',\n",
              " 'chased',\n",
              " 'by',\n",
              " 'the',\n",
              " 'dog.I',\n",
              " 'was',\n",
              " 'born',\n",
              " 'in',\n",
              " 'Madrid',\n",
              " 'during',\n",
              " '1995.Out',\n",
              " 'of',\n",
              " 'all',\n",
              " 'this',\n",
              " ',',\n",
              " 'something',\n",
              " 'good',\n",
              " 'will',\n",
              " 'come.Susan',\n",
              " 'left',\n",
              " 'afterthe',\n",
              " 'rehearsal.',\n",
              " 'She',\n",
              " 'did',\n",
              " 'it',\n",
              " 'well.She',\n",
              " 'sleeps',\n",
              " 'during',\n",
              " 'the',\n",
              " 'morning,',\n",
              " 'but',\n",
              " 'she',\n",
              " 'sleeps.']"
            ]
          },
          "metadata": {},
          "execution_count": 8
        }
      ]
    },
    {
      "cell_type": "code",
      "execution_count": 9,
      "metadata": {
        "colab": {
          "base_uri": "https://localhost:8080/"
        },
        "id": "G1T_WHRo37qj",
        "outputId": "9ee3df4a-23c8-4407-a42f-b492f8392a2f"
      },
      "outputs": [
        {
          "output_type": "execute_result",
          "data": {
            "text/plain": [
              "['Usualmente,',\n",
              " 'existe',\n",
              " 'una',\n",
              " 'relación',\n",
              " 'costo-beneficio',\n",
              " 'entre',\n",
              " 'las',\n",
              " 'distintas',\n",
              " 'técnicas.']"
            ]
          },
          "metadata": {},
          "execution_count": 9
        }
      ],
      "source": [
        "doc2 = 'Usualmente, existe una relación costo-beneficio entre las distintas técnicas.'\n",
        "doc2.split(' ') ## divide por espacios vacios devuelve lista"
      ]
    },
    {
      "cell_type": "markdown",
      "metadata": {
        "id": "AdWVd-YUPKz9"
      },
      "source": [
        "Vemos que en castellano, el lenguaje natural (escrito) puede tener distintas fuentes de variaciones:\n",
        " - Mayúsculas\n",
        " - Tildes\n",
        " - Signos ortográficos\n",
        " - Errores de tipeo\n",
        " - Variaciones propias del lenguaje como la conjugación\n",
        " - Artefactos de la escritura informal como \"holaaa\"\n",
        "\n",
        "¿Cómo abordarán esto nuestros algorítmos?\n",
        "\n",
        "Una solución es la **normalización**: con acepción similar aunque distinta a la que usamos en estadística, va a significar transformar a los strings a representaciones iguales.\n",
        "\n",
        "Podemos:\n",
        "- Sacar espacios\n",
        "- Pasar a minúsculas\n",
        "- Quitar tildes"
      ]
    },
    {
      "cell_type": "code",
      "execution_count": 10,
      "metadata": {
        "id": "3Rvt1S7VoMHa"
      },
      "outputs": [],
      "source": [
        "%%capture\n",
        "!pip install unidecode"
      ]
    },
    {
      "cell_type": "code",
      "source": [
        "import unidecode\n",
        "[unidecode.unidecode(w.lower().strip()) for w in doc1.split(' ')]"
      ],
      "metadata": {
        "colab": {
          "base_uri": "https://localhost:8080/"
        },
        "id": "cCfALy12aM1b",
        "outputId": "3cfed282-4e0b-489e-ef53-c2285cf8a7c9"
      },
      "execution_count": 11,
      "outputs": [
        {
          "output_type": "execute_result",
          "data": {
            "text/plain": [
              "['jane',\n",
              " 'bought',\n",
              " 'me',\n",
              " 'these',\n",
              " 'books.jane',\n",
              " 'bought',\n",
              " 'a',\n",
              " 'book',\n",
              " 'for',\n",
              " 'me.she',\n",
              " 'dropped',\n",
              " 'a',\n",
              " 'line',\n",
              " 'to',\n",
              " 'him.',\n",
              " 'thank',\n",
              " 'you.she',\n",
              " 'sleeps.i',\n",
              " 'sleep',\n",
              " 'a',\n",
              " 'lot.i',\n",
              " 'was',\n",
              " 'born',\n",
              " 'in',\n",
              " 'madrid',\n",
              " 'the',\n",
              " 'cat',\n",
              " 'was',\n",
              " 'chased',\n",
              " 'by',\n",
              " 'the',\n",
              " 'dog.i',\n",
              " 'was',\n",
              " 'born',\n",
              " 'in',\n",
              " 'madrid',\n",
              " 'during',\n",
              " '1995.out',\n",
              " 'of',\n",
              " 'all',\n",
              " 'this',\n",
              " ',',\n",
              " 'something',\n",
              " 'good',\n",
              " 'will',\n",
              " 'come.susan',\n",
              " 'left',\n",
              " 'afterthe',\n",
              " 'rehearsal.',\n",
              " 'she',\n",
              " 'did',\n",
              " 'it',\n",
              " 'well.she',\n",
              " 'sleeps',\n",
              " 'during',\n",
              " 'the',\n",
              " 'morning,',\n",
              " 'but',\n",
              " 'she',\n",
              " 'sleeps.']"
            ]
          },
          "metadata": {},
          "execution_count": 11
        }
      ]
    },
    {
      "cell_type": "code",
      "execution_count": 12,
      "metadata": {
        "colab": {
          "base_uri": "https://localhost:8080/"
        },
        "id": "NWCgv4tzP7ww",
        "outputId": "5dfcb62e-5371-42c3-c0be-3126c1d0f41f"
      },
      "outputs": [
        {
          "output_type": "execute_result",
          "data": {
            "text/plain": [
              "['usualmente,',\n",
              " 'existe',\n",
              " 'una',\n",
              " 'relacion',\n",
              " 'costo-beneficio',\n",
              " 'entre',\n",
              " 'las',\n",
              " 'distintas',\n",
              " 'tecnicas.']"
            ]
          },
          "metadata": {},
          "execution_count": 12
        }
      ],
      "source": [
        "import unidecode\n",
        "[unidecode.unidecode(w.lower().strip()) for w in doc2.split(' ')]  ## minuscula .lower. espacios extra con .strip y despues de las palabras"
      ]
    },
    {
      "cell_type": "markdown",
      "source": [
        "###sofisticacion  de las normalizaciones, pasar al mismo genero, conjugar los verbos en infinitivo ,l procedmientos pára que el algoritmo funcione bien"
      ],
      "metadata": {
        "id": "bSvMQDaOa35m"
      }
    },
    {
      "cell_type": "markdown",
      "metadata": {
        "id": "P4YXF4rVQa9-"
      },
      "source": [
        "Otras normalizaciones más sofisticadas serían:\n",
        "- Pasar de plural a singular\n",
        "- Convertir el género de la palabra\n",
        "- Conjugar los verbos en infinitivo\n",
        "\n",
        "¡Es de esperarse que esto requiera métodos más complejos!\n",
        "\n",
        "Vemos que con la tokenización anterior, todavía tenemos palabras con signos de puntuación pegados. Armar nuestro vocabulario es un paso clave para nuestros modelos de *Machine Learning*."
      ]
    },
    {
      "cell_type": "markdown",
      "source": [
        "https://github.com/institutohumai/cursos-python/blob/master/Automatizacion/Automatizaci%C3%B3n_2/clase_automatizacion_2_ejercicios.ipynb\n"
      ],
      "metadata": {
        "id": "0CWjnPBjbiN0"
      }
    },
    {
      "cell_type": "markdown",
      "metadata": {
        "id": "UiTDZ9AIdKvu"
      },
      "source": [
        "## Expresiones regulares\n",
        "\n",
        "\n",
        "También conocido popularmente como **RegEx**. Es un mini lenguaje de programación diseñado para realizar búsquedas en strings. Son extremadamente útiles para:\n",
        "- Extraer datos de distintos tipos de archivos, texto o con otro tipo de codificación.\n",
        "- Web scraping: como veremos en las próximas clases, las regex son un buen método para encontrar la información que se necesita en un sitio web.\n",
        "- Limpieza de datos: herramienta fundamental en el repertorio del científico de datos para limpiar datos quitando caracteres \"ruidosos\", o armando nuevos \"features\" según la presencia o no de cierto texto.\n",
        "\n",
        "\n",
        "Para profundizar en esta importante herramienta, ver la [clase de Expresiones Regulares](https://github.com/institutohumai/cursos-python/tree/master/Automatizacion) del curso de Automatización.\n"
      ]
    },
    {
      "cell_type": "markdown",
      "metadata": {
        "id": "O_E5sG15A0aB"
      },
      "source": [
        "Recursos útiles para regex:\n",
        "\n",
        "- [Sitio para armar RegEx online](https://regexr.com/)\n",
        "- [Alternativa](https://regex101.com/)\n",
        "- [CheatSheet](https://www.dataquest.io/wp-content/uploads/2019/03/python-regular-expressions-cheat-sheet.pdf)\n"
      ]
    },
    {
      "cell_type": "markdown",
      "metadata": {
        "id": "J0ECMOvov8sC"
      },
      "source": [
        "Python utiliza la libreria llamada **re** para todo lo relacionado a regular expressions"
      ]
    },
    {
      "cell_type": "code",
      "source": [
        "import re\n",
        "tokens = re.findall(r'\\w+|\\d+', doc1)  # tokenizacion por palabras o numeros por separado\n",
        "tokens"
      ],
      "metadata": {
        "colab": {
          "base_uri": "https://localhost:8080/"
        },
        "id": "OeHyStr1cSuc",
        "outputId": "66c44789-ed69-47bf-cdc2-73a4be01b5fa"
      },
      "execution_count": 13,
      "outputs": [
        {
          "output_type": "execute_result",
          "data": {
            "text/plain": [
              "['Jane',\n",
              " 'bought',\n",
              " 'me',\n",
              " 'these',\n",
              " 'books',\n",
              " 'Jane',\n",
              " 'bought',\n",
              " 'a',\n",
              " 'book',\n",
              " 'for',\n",
              " 'me',\n",
              " 'She',\n",
              " 'dropped',\n",
              " 'a',\n",
              " 'line',\n",
              " 'to',\n",
              " 'him',\n",
              " 'Thank',\n",
              " 'you',\n",
              " 'She',\n",
              " 'sleeps',\n",
              " 'I',\n",
              " 'sleep',\n",
              " 'a',\n",
              " 'lot',\n",
              " 'I',\n",
              " 'was',\n",
              " 'born',\n",
              " 'in',\n",
              " 'Madrid',\n",
              " 'the',\n",
              " 'cat',\n",
              " 'was',\n",
              " 'chased',\n",
              " 'by',\n",
              " 'the',\n",
              " 'dog',\n",
              " 'I',\n",
              " 'was',\n",
              " 'born',\n",
              " 'in',\n",
              " 'Madrid',\n",
              " 'during',\n",
              " '1995',\n",
              " 'Out',\n",
              " 'of',\n",
              " 'all',\n",
              " 'this',\n",
              " 'something',\n",
              " 'good',\n",
              " 'will',\n",
              " 'come',\n",
              " 'Susan',\n",
              " 'left',\n",
              " 'afterthe',\n",
              " 'rehearsal',\n",
              " 'She',\n",
              " 'did',\n",
              " 'it',\n",
              " 'well',\n",
              " 'She',\n",
              " 'sleeps',\n",
              " 'during',\n",
              " 'the',\n",
              " 'morning',\n",
              " 'but',\n",
              " 'she',\n",
              " 'sleeps']"
            ]
          },
          "metadata": {},
          "execution_count": 13
        }
      ]
    },
    {
      "cell_type": "code",
      "source": [
        "import re\n",
        "tokens1 = re.findall(r'\\w+|\\S', doc1)  # Busca palabras o cualquier carácter no espacio en blanco\n",
        "tokens1"
      ],
      "metadata": {
        "colab": {
          "base_uri": "https://localhost:8080/"
        },
        "id": "UmRMUpcXcen8",
        "outputId": "b293ebee-d609-43b3-91e9-933cf192d2d4"
      },
      "execution_count": 14,
      "outputs": [
        {
          "output_type": "execute_result",
          "data": {
            "text/plain": [
              "['Jane',\n",
              " 'bought',\n",
              " 'me',\n",
              " 'these',\n",
              " 'books',\n",
              " '.',\n",
              " 'Jane',\n",
              " 'bought',\n",
              " 'a',\n",
              " 'book',\n",
              " 'for',\n",
              " 'me',\n",
              " '.',\n",
              " 'She',\n",
              " 'dropped',\n",
              " 'a',\n",
              " 'line',\n",
              " 'to',\n",
              " 'him',\n",
              " '.',\n",
              " 'Thank',\n",
              " 'you',\n",
              " '.',\n",
              " 'She',\n",
              " 'sleeps',\n",
              " '.',\n",
              " 'I',\n",
              " 'sleep',\n",
              " 'a',\n",
              " 'lot',\n",
              " '.',\n",
              " 'I',\n",
              " 'was',\n",
              " 'born',\n",
              " 'in',\n",
              " 'Madrid',\n",
              " 'the',\n",
              " 'cat',\n",
              " 'was',\n",
              " 'chased',\n",
              " 'by',\n",
              " 'the',\n",
              " 'dog',\n",
              " '.',\n",
              " 'I',\n",
              " 'was',\n",
              " 'born',\n",
              " 'in',\n",
              " 'Madrid',\n",
              " 'during',\n",
              " '1995',\n",
              " '.',\n",
              " 'Out',\n",
              " 'of',\n",
              " 'all',\n",
              " 'this',\n",
              " ',',\n",
              " 'something',\n",
              " 'good',\n",
              " 'will',\n",
              " 'come',\n",
              " '.',\n",
              " 'Susan',\n",
              " 'left',\n",
              " 'afterthe',\n",
              " 'rehearsal',\n",
              " '.',\n",
              " 'She',\n",
              " 'did',\n",
              " 'it',\n",
              " 'well',\n",
              " '.',\n",
              " 'She',\n",
              " 'sleeps',\n",
              " 'during',\n",
              " 'the',\n",
              " 'morning',\n",
              " ',',\n",
              " 'but',\n",
              " 'she',\n",
              " 'sleeps',\n",
              " '.']"
            ]
          },
          "metadata": {},
          "execution_count": 14
        }
      ]
    },
    {
      "cell_type": "code",
      "source": [
        "import re\n",
        "tokens2 = re.findall(r'[A-Z][a-z]+|[A-Z]+|[a-z]+', doc1)  # Busca palabras con mayúscula inicial, palabras totalmente en mayúscula o minúscula\n",
        "tokens2"
      ],
      "metadata": {
        "colab": {
          "base_uri": "https://localhost:8080/"
        },
        "id": "dj08wNTccld2",
        "outputId": "fe4e82e4-c16f-4cc2-c7ea-569da3b33426"
      },
      "execution_count": 15,
      "outputs": [
        {
          "output_type": "execute_result",
          "data": {
            "text/plain": [
              "['Jane',\n",
              " 'bought',\n",
              " 'me',\n",
              " 'these',\n",
              " 'books',\n",
              " 'Jane',\n",
              " 'bought',\n",
              " 'a',\n",
              " 'book',\n",
              " 'for',\n",
              " 'me',\n",
              " 'She',\n",
              " 'dropped',\n",
              " 'a',\n",
              " 'line',\n",
              " 'to',\n",
              " 'him',\n",
              " 'Thank',\n",
              " 'you',\n",
              " 'She',\n",
              " 'sleeps',\n",
              " 'I',\n",
              " 'sleep',\n",
              " 'a',\n",
              " 'lot',\n",
              " 'I',\n",
              " 'was',\n",
              " 'born',\n",
              " 'in',\n",
              " 'Madrid',\n",
              " 'the',\n",
              " 'cat',\n",
              " 'was',\n",
              " 'chased',\n",
              " 'by',\n",
              " 'the',\n",
              " 'dog',\n",
              " 'I',\n",
              " 'was',\n",
              " 'born',\n",
              " 'in',\n",
              " 'Madrid',\n",
              " 'during',\n",
              " 'Out',\n",
              " 'of',\n",
              " 'all',\n",
              " 'this',\n",
              " 'something',\n",
              " 'good',\n",
              " 'will',\n",
              " 'come',\n",
              " 'Susan',\n",
              " 'left',\n",
              " 'afterthe',\n",
              " 'rehearsal',\n",
              " 'She',\n",
              " 'did',\n",
              " 'it',\n",
              " 'well',\n",
              " 'She',\n",
              " 'sleeps',\n",
              " 'during',\n",
              " 'the',\n",
              " 'morning',\n",
              " 'but',\n",
              " 'she',\n",
              " 'sleeps']"
            ]
          },
          "metadata": {},
          "execution_count": 15
        }
      ]
    },
    {
      "cell_type": "code",
      "source": [
        "import re\n",
        "\n",
        "def tokenize(text, pattern):\n",
        "  \"\"\"Tokeniza un texto utilizando una expresión regular.\n",
        "\n",
        "  Args:\n",
        "    text: El texto a tokenizar.\n",
        "    pattern: La expresión regular a utilizar.\n",
        "\n",
        "  Returns:\n",
        "    Una lista con los tokens encontrados.\n",
        "  \"\"\"\n",
        "  return re.findall(pattern, text)\n",
        "\n",
        "# Ejemplo de uso:\n",
        "doc1=\"Jane bought me these books.Jane bought a book for me.She dropped a line to him. Thank you.She sleeps.I sleep a lot.I was born in Madridthe cat was chased by the dog.I was born in Madrid during 1995.Out of all this , something good will come.Susan left afterthe rehearsal. She did it well.She sleeps during the morning, but she sleeps.\"\n",
        "tokens4 = tokenize(doc1, r'\\w+|\\d+|\\S+')  # Tokeniza palabras, números y otros caracteres\n",
        "print(tokens4)"
      ],
      "metadata": {
        "colab": {
          "base_uri": "https://localhost:8080/"
        },
        "id": "_c1nS212csqr",
        "outputId": "2b56af29-1d8d-4603-b2c8-1a896ca4cd7a"
      },
      "execution_count": 16,
      "outputs": [
        {
          "output_type": "stream",
          "name": "stdout",
          "text": [
            "['Jane', 'bought', 'me', 'these', 'books', '.Jane', 'bought', 'a', 'book', 'for', 'me', '.She', 'dropped', 'a', 'line', 'to', 'him', '.', 'Thank', 'you', '.She', 'sleeps', '.I', 'sleep', 'a', 'lot', '.I', 'was', 'born', 'in', 'Madridthe', 'cat', 'was', 'chased', 'by', 'the', 'dog', '.I', 'was', 'born', 'in', 'Madrid', 'during', '1995', '.Out', 'of', 'all', 'this', ',', 'something', 'good', 'will', 'come', '.Susan', 'left', 'afterthe', 'rehearsal', '.', 'She', 'did', 'it', 'well', '.She', 'sleeps', 'during', 'the', 'morning', ',', 'but', 'she', 'sleeps', '.']\n"
          ]
        }
      ]
    },
    {
      "cell_type": "code",
      "source": [
        "# Tokenización simple con RegEx\n",
        "import re\n",
        "re.findall('\\w+', doc1)"
      ],
      "metadata": {
        "colab": {
          "base_uri": "https://localhost:8080/"
        },
        "id": "IByrcWFQb1Ve",
        "outputId": "c0d747e9-5226-4ec2-ca2a-3f1bc8ae8ef9"
      },
      "execution_count": 17,
      "outputs": [
        {
          "output_type": "execute_result",
          "data": {
            "text/plain": [
              "['Jane',\n",
              " 'bought',\n",
              " 'me',\n",
              " 'these',\n",
              " 'books',\n",
              " 'Jane',\n",
              " 'bought',\n",
              " 'a',\n",
              " 'book',\n",
              " 'for',\n",
              " 'me',\n",
              " 'She',\n",
              " 'dropped',\n",
              " 'a',\n",
              " 'line',\n",
              " 'to',\n",
              " 'him',\n",
              " 'Thank',\n",
              " 'you',\n",
              " 'She',\n",
              " 'sleeps',\n",
              " 'I',\n",
              " 'sleep',\n",
              " 'a',\n",
              " 'lot',\n",
              " 'I',\n",
              " 'was',\n",
              " 'born',\n",
              " 'in',\n",
              " 'Madridthe',\n",
              " 'cat',\n",
              " 'was',\n",
              " 'chased',\n",
              " 'by',\n",
              " 'the',\n",
              " 'dog',\n",
              " 'I',\n",
              " 'was',\n",
              " 'born',\n",
              " 'in',\n",
              " 'Madrid',\n",
              " 'during',\n",
              " '1995',\n",
              " 'Out',\n",
              " 'of',\n",
              " 'all',\n",
              " 'this',\n",
              " 'something',\n",
              " 'good',\n",
              " 'will',\n",
              " 'come',\n",
              " 'Susan',\n",
              " 'left',\n",
              " 'afterthe',\n",
              " 'rehearsal',\n",
              " 'She',\n",
              " 'did',\n",
              " 'it',\n",
              " 'well',\n",
              " 'She',\n",
              " 'sleeps',\n",
              " 'during',\n",
              " 'the',\n",
              " 'morning',\n",
              " 'but',\n",
              " 'she',\n",
              " 'sleeps']"
            ]
          },
          "metadata": {},
          "execution_count": 17
        }
      ]
    },
    {
      "cell_type": "code",
      "execution_count": 18,
      "metadata": {
        "colab": {
          "base_uri": "https://localhost:8080/"
        },
        "id": "h2kqp9jZA0aD",
        "outputId": "75dd6cbd-20dc-4782-9ea5-041b13289ee4"
      },
      "outputs": [
        {
          "output_type": "execute_result",
          "data": {
            "text/plain": [
              "['Usualmente',\n",
              " 'existe',\n",
              " 'una',\n",
              " 'relación',\n",
              " 'costo',\n",
              " 'beneficio',\n",
              " 'entre',\n",
              " 'las',\n",
              " 'distintas',\n",
              " 'técnicas']"
            ]
          },
          "metadata": {},
          "execution_count": 18
        }
      ],
      "source": [
        "# Tokenización simple con RegEx\n",
        "import re\n",
        "re.findall('\\w+', doc2)  ### motor de expresiones regulares llega a la coma no lo incluye"
      ]
    },
    {
      "cell_type": "markdown",
      "metadata": {
        "id": "ehXCdPH-ontb"
      },
      "source": [
        "## NLTK\n",
        "\n",
        "La librería [Natural Languaje Toolkit](https://www.nltk.org/) es un *de facto* para NLP en Python para diversos idiomas. No solo contiene algoritmos para operaciones de NLP si no también corpus de textos y vocabulario organizado como [WordNet](https://wordnet.princeton.edu)."
      ]
    },
    {
      "cell_type": "code",
      "execution_count": 19,
      "metadata": {
        "colab": {
          "base_uri": "https://localhost:8080/"
        },
        "id": "vS1y1o7eogPg",
        "outputId": "3b3ae66e-be7c-4a73-8cab-0d116a018d9d"
      },
      "outputs": [
        {
          "output_type": "stream",
          "name": "stderr",
          "text": [
            "[nltk_data] Downloading package punkt to /root/nltk_data...\n",
            "[nltk_data]   Unzipping tokenizers/punkt.zip.\n"
          ]
        },
        {
          "output_type": "execute_result",
          "data": {
            "text/plain": [
              "True"
            ]
          },
          "metadata": {},
          "execution_count": 19
        }
      ],
      "source": [
        "# Tokenización con NLTK\n",
        "import nltk\n",
        "nltk.download('punkt')"
      ]
    },
    {
      "cell_type": "code",
      "source": [
        "import nltk\n",
        "nltk.download('punkt_tab')"
      ],
      "metadata": {
        "colab": {
          "base_uri": "https://localhost:8080/"
        },
        "id": "RC99ZxU-ddWz",
        "outputId": "97518f2d-73ad-4a19-e613-751844ac59bc"
      },
      "execution_count": 20,
      "outputs": [
        {
          "output_type": "stream",
          "name": "stderr",
          "text": [
            "[nltk_data] Downloading package punkt_tab to /root/nltk_data...\n",
            "[nltk_data]   Unzipping tokenizers/punkt_tab.zip.\n"
          ]
        },
        {
          "output_type": "execute_result",
          "data": {
            "text/plain": [
              "True"
            ]
          },
          "metadata": {},
          "execution_count": 20
        }
      ]
    },
    {
      "cell_type": "code",
      "source": [
        "tokens4 = nltk.word_tokenize(doc1)\n",
        "print(tokens4)"
      ],
      "metadata": {
        "colab": {
          "base_uri": "https://localhost:8080/"
        },
        "id": "BKPmEp2fdiIh",
        "outputId": "5cad663f-4f54-4c71-edad-46779541e295"
      },
      "execution_count": 21,
      "outputs": [
        {
          "output_type": "stream",
          "name": "stdout",
          "text": [
            "['Jane', 'bought', 'me', 'these', 'books.Jane', 'bought', 'a', 'book', 'for', 'me.She', 'dropped', 'a', 'line', 'to', 'him', '.', 'Thank', 'you.She', 'sleeps.I', 'sleep', 'a', 'lot.I', 'was', 'born', 'in', 'Madridthe', 'cat', 'was', 'chased', 'by', 'the', 'dog.I', 'was', 'born', 'in', 'Madrid', 'during', '1995.Out', 'of', 'all', 'this', ',', 'something', 'good', 'will', 'come.Susan', 'left', 'afterthe', 'rehearsal', '.', 'She', 'did', 'it', 'well.She', 'sleeps', 'during', 'the', 'morning', ',', 'but', 'she', 'sleeps', '.']\n"
          ]
        }
      ]
    },
    {
      "cell_type": "code",
      "execution_count": 22,
      "metadata": {
        "colab": {
          "base_uri": "https://localhost:8080/"
        },
        "id": "ttp5WoMJZWGI",
        "outputId": "ff917bcd-941e-4f36-bd9e-2fabdc5059c2"
      },
      "outputs": [
        {
          "output_type": "stream",
          "name": "stdout",
          "text": [
            "['Usualmente', ',', 'existe', 'una', 'relación', 'costo-beneficio', 'entre', 'las', 'distintas', 'técnicas', '.']\n"
          ]
        }
      ],
      "source": [
        "tokens = nltk.word_tokenize(doc2)\n",
        "print(tokens)"
      ]
    },
    {
      "cell_type": "markdown",
      "source": [
        "## la puntuacion la devuelve aparte signo de exclamacion"
      ],
      "metadata": {
        "id": "gZIZSwq3dsfI"
      }
    },
    {
      "cell_type": "markdown",
      "source": [
        "##herramientas de nlp de algoritmos y otros algoritmos"
      ],
      "metadata": {
        "id": "azpsex_cfy4K"
      }
    },
    {
      "cell_type": "markdown",
      "metadata": {
        "id": "QkHgBvavADgm"
      },
      "source": [
        "## Distancia de edición\n",
        "\n",
        "Para afrontar el \"ruido\" en nuestros textos, tenemos una importante herramienta: la distancia de edición.\n",
        "\n",
        "También llamada Distancia de Levenshtein, nos dice la cantidad mínima de operaciones requerida para llevar de un string al otro. Expresandola de una manera sencilla (y en su versión sin normalizar entre 0 y 1) podemos explicarla así:\n",
        "\n",
        "$$\\mathit{L} = S+D+I$$ / N\n",
        "\n",
        "Donde $S$ = sustitución, $D$ = Eliminación, $I$ = inserción (de un caracter).\n",
        "------------------------------------------\n",
        "                    N\n",
        "\n",
        "Como en muchos idiomas la raíz importa más que el resto de la palabra, a veces se usa la métrica Jaro Winkler que pondera más los caracteres iniciales."
      ]
    },
    {
      "cell_type": "code",
      "execution_count": 23,
      "metadata": {
        "id": "qtLW-PVpEhp2"
      },
      "outputs": [],
      "source": [
        "%%capture\n",
        "!pip install pyjarowinkler\n",
        "from nltk.metrics import edit_distance\n",
        "from pyjarowinkler import distance as jwdist"
      ]
    },
    {
      "cell_type": "code",
      "execution_count": 24,
      "metadata": {
        "colab": {
          "base_uri": "https://localhost:8080/"
        },
        "id": "z6e8fQ-R57PY",
        "outputId": "f7e158e4-1af8-456c-ba41-629069da5447"
      },
      "outputs": [
        {
          "output_type": "stream",
          "name": "stdout",
          "text": [
            "'pero' vs 'perro':\n",
            "Distancia Levenshtein -> 1\n",
            "Similitud Jaro Winkler -> 0.95\n",
            "----------------------------------------\n",
            "'pero' vs 'pierdo':\n",
            "Distancia Levenshtein -> 2\n",
            "Similitud Jaro Winkler -> 0.9\n",
            "----------------------------------------\n",
            "'nueve' vs 'mueve':\n",
            "Distancia Levenshtein -> 1\n",
            "Similitud Jaro Winkler -> 0.87\n",
            "----------------------------------------\n",
            "'totalmente' vs 'diferentes':\n",
            "Distancia Levenshtein -> 7\n",
            "Similitud Jaro Winkler -> 0.52\n",
            "----------------------------------------\n",
            "'pero' vs 'basta':\n",
            "Distancia Levenshtein -> 5\n",
            "Similitud Jaro Winkler -> 0.0\n",
            "----------------------------------------\n"
          ]
        }
      ],
      "source": [
        "# Definimos una lista de tuplas de palabras\n",
        "palabras = [(\"pero\", \"perro\"),(\"pero\", \"pierdo\"), (\"nueve\", \"mueve\"),  (\"totalmente\",\"diferentes\"), (\"pero\", \"basta\")]\n",
        "\n",
        "# Calculamos las metricas de distancia pasando cada tupla como argumentos a levdist() y get_jaro_distance()\n",
        "for x,y in palabras:\n",
        "    print(f\"'{x}' vs '{y}':\")\n",
        "    print(\"Distancia Levenshtein ->\", edit_distance(x,y)) ## EDIT DISTANCE DE NLTK\n",
        "    print(\"Similitud Jaro Winkler ->\",jwdist.get_jaro_distance(x,y))\n",
        "    print(\"-\"*40) ## inserciones en levenstein , cant de operaciones para llegar de un string a otro"
      ]
    },
    {
      "cell_type": "markdown",
      "source": [
        "### JARO WINKLER BAJA DEBIDO A LA MAYOR DISTANCIA LEVENSTEIN"
      ],
      "metadata": {
        "id": "RO5bZiHshD-y"
      }
    },
    {
      "cell_type": "markdown",
      "metadata": {
        "id": "44F9E4z9dJCu"
      },
      "source": [
        "## Búsqueda difusa de strings (fuzzy string matching)\n",
        "\n",
        "Técnica muy útil para tener en el repertorio, nos permite encontrar coincidencias que no son exactas. En el caso más sencillo, la búsqueda difusa nos devolverá un puntaje de similitud entre los strings relacionada a las diferencias entre los caracteres. Existen variaciones que consideran cuántas unidades (palabras, tokens) coinciden, que ordenan la oración antes, o que borran repetidos."
      ]
    },
    {
      "cell_type": "markdown",
      "source": [
        "## BUSQUEDAS NO SON EXACTAS"
      ],
      "metadata": {
        "id": "Fo8zLV2Jh9uC"
      }
    },
    {
      "cell_type": "code",
      "execution_count": 25,
      "metadata": {
        "id": "N1H5I_nSpxMe"
      },
      "outputs": [],
      "source": [
        "%%capture\n",
        "!pip install thefuzz[speedup]\n",
        "from thefuzz import process, fuzz"
      ]
    },
    {
      "cell_type": "code",
      "execution_count": 26,
      "metadata": {
        "id": "EaIGqFoPp30R"
      },
      "outputs": [],
      "source": [
        "def get_match(string, lista_strings):\n",
        "    \"\"\"Para buscar coincidencias entre nombre con los nombres\"\"\"\n",
        "    mejor_match, puntaje = process.extractBests(string.strip(), lista_strings, scorer=fuzz.token_set_ratio)[0]\n",
        "    return mejor_match, puntaje"
      ]
    },
    {
      "cell_type": "code",
      "execution_count": 27,
      "metadata": {
        "colab": {
          "base_uri": "https://localhost:8080/"
        },
        "id": "U-brWWiIp9OR",
        "outputId": "13a53bbd-7ac2-4239-a960-3ce831a97fd1"
      },
      "outputs": [
        {
          "output_type": "execute_result",
          "data": {
            "text/plain": [
              "('Pedro', 80)"
            ]
          },
          "metadata": {},
          "execution_count": 27
        }
      ],
      "source": [
        "# Completar\n",
        "busqueda = 'Pebro'\n",
        "candidatos = 'María, Fabio, Paula, Natu, Pedro, Miguel'.split(', ')\n",
        "\n",
        "get_match(busqueda, candidatos)"
      ]
    },
    {
      "cell_type": "markdown",
      "metadata": {
        "id": "5gU8tfX9bbnb"
      },
      "source": [
        "# Hacia el ML: Representación"
      ]
    },
    {
      "cell_type": "markdown",
      "metadata": {
        "id": "yKcJRgtLny2T"
      },
      "source": [
        "Lo anterior nos puede servir para un sinfín de algorítmos útiles de NLP. En el caso del *Machine Learning* (ML) para usar nuestro modelo (o para cualquier operación vectorial), tendremos que llevar a nuestros datos a una representación matricial. Las maneras de lograr esto se pueden denominar \"**vectorizar**\".\n",
        "\n",
        "\n",
        "En un caso de querer **clasificar artículos** en algunas categorías predeterminadas, una tabla simple de ejemplo se podría ver así:"
      ]
    },
    {
      "cell_type": "markdown",
      "source": [
        "## LLEVAR LOS TEXTOS A FILAS Y COLUMNAS VECTOR OBJETIVO O VARIABLE OBJETIVO EN SUPERVISADO"
      ],
      "metadata": {
        "id": "qn_7qHMQidNW"
      }
    },
    {
      "cell_type": "code",
      "execution_count": 28,
      "metadata": {
        "colab": {
          "base_uri": "https://localhost:8080/",
          "height": 436
        },
        "id": "2nRuk1FhbZ0W",
        "outputId": "6349aecb-6671-44bc-96f1-35ad7f03aba5"
      },
      "outputs": [
        {
          "output_type": "display_data",
          "data": {
            "text/plain": [
              "<Figure size 600x400 with 1 Axes>"
            ],
            "image/png": "[encoded data removed]"
          },
          "metadata": {}
        }
      ],
      "source": [
        "#@title Matriz de Features\n",
        "import matplotlib.pyplot as plt\n",
        "\n",
        "fig = plt.figure(figsize=(6, 4))\n",
        "ax = fig.add_axes([0, 0, 1, 1])\n",
        "ax.axis('off')\n",
        "ax.axis('equal')\n",
        "\n",
        "# Draw features matrix\n",
        "ax.vlines(range(6), ymin=0, ymax=9, lw=1)\n",
        "ax.hlines(range(10), xmin=0, xmax=5, lw=1)\n",
        "font_prop = dict(size=12, family='monospace')\n",
        "ax.text(-1, -1, \"Matriz de Features ($X$)\", size=14)\n",
        "ax.text(0.1, -0.3, r'n_features $\\longrightarrow$', **font_prop)\n",
        "ax.text(-0.1, 0.1, r'$\\longleftarrow$ n_observaciones', rotation=90,\n",
        "        va='top', ha='right', **font_prop)\n",
        "\n",
        "# Draw labels vector\n",
        "ax.vlines(range(8, 10), ymin=0, ymax=9, lw=1)\n",
        "ax.hlines(range(10), xmin=8, xmax=9, lw=1)\n",
        "ax.text(7, -1, \"Vector Target ($y$)\", size=14)\n",
        "ax.text(7.9, 0.1, r'$\\longleftarrow$ n_observaciones', rotation=90,\n",
        "        va='top', ha='right', **font_prop)\n",
        "\n",
        "ax.set_ylim(10, -2);"
      ]
    },
    {
      "cell_type": "code",
      "execution_count": 29,
      "metadata": {
        "cellView": "form",
        "colab": {
          "base_uri": "https://localhost:8080/",
          "height": 493
        },
        "id": "xiaePbFWYGG0",
        "outputId": "b70f8af9-bd42-4926-9de8-a0a84c216d4b"
      },
      "outputs": [
        {
          "output_type": "display_data",
          "data": {
            "text/plain": [
              "<Figure size 640x480 with 1 Axes>"
            ],
            "image/png": "[encoded data removed]"
          },
          "metadata": {}
        }
      ],
      "source": [
        "#@title Tabla Ejemplo\n",
        "import numpy as np\n",
        "import matplotlib.pyplot as plt\n",
        "title_text = 'Datos'\n",
        "footer_text = '22 de Agosto, 2022'\n",
        "fig_background_color = 'skyblue'\n",
        "fig_border = 'steelblue'\n",
        "data_ =  [\n",
        "            [         'N Adjetivos', 'N Verbos', 'Largo Total', 'Menciones', 'Categoría'],\n",
        "            [ 'Doc 1',  386, 296,   1331,  17008,  1],\n",
        "            ['Doc 2',  230, 139,   145,   9308, 2],\n",
        "            ['Doc 3',  135,  1552,  2558,  47981, 0],\n",
        "            ['Doc 4',  415,  858,  656,  93263,  1],\n",
        "            ['Doc 5', 361, 1509,  3164,  181380,  2],\n",
        "        ]\n",
        "column_headers = data_.pop(0)\n",
        "row_headers = [x.pop(0) for x in data_]\n",
        "\n",
        "cell_text = []\n",
        "for row in data_:\n",
        "    cell_text.append([f'{x}' for x in row])\n",
        "rcolors = plt.cm.BuPu(np.full(len(row_headers), 0.1))\n",
        "ccolors = plt.cm.BuPu(np.full(len(column_headers), 0.1))\n",
        "plt.figure(linewidth=2,\n",
        "           edgecolor=fig_border,\n",
        "           facecolor=fig_background_color,\n",
        "           tight_layout={'pad':1},\n",
        "           #figsize=(5,3)\n",
        "          )\n",
        "the_table = plt.table(cellText=cell_text,\n",
        "                      rowLabels=row_headers,\n",
        "                      rowColours=rcolors,\n",
        "                      rowLoc='right',\n",
        "                      colColours=ccolors,\n",
        "                      colLabels=column_headers,\n",
        "                      loc='center')\n",
        "the_table.scale(1, 2.5)\n",
        "ax = plt.gca()\n",
        "ax.get_xaxis().set_visible(False)\n",
        "ax.get_yaxis().set_visible(False)\n",
        "plt.box(on=None)\n",
        "plt.suptitle(title_text)\n",
        "plt.figtext(0.95, 0.05, footer_text, horizontalalignment='right', size=10, weight='light')\n",
        "plt.draw()"
      ]
    },
    {
      "cell_type": "markdown",
      "metadata": {
        "id": "jH5wKFXhcJNJ"
      },
      "source": [
        "Para operar sobre la información de texto directamente, el enfoque tradicional más sencillo es la **bolsa de palabras**. Vamos a crearla con sci-kit learn:"
      ]
    },
    {
      "cell_type": "markdown",
      "source": [
        "###count vectorizer matriz de frecuencia de terminos , contar cuantas veces aparece cada palabra"
      ],
      "metadata": {
        "id": "6v3q3E6qFDiA"
      }
    },
    {
      "cell_type": "code",
      "execution_count": 30,
      "metadata": {
        "id": "VqfktxZwEO7J"
      },
      "outputs": [],
      "source": [
        "from sklearn.feature_extraction.text import CountVectorizer"
      ]
    },
    {
      "cell_type": "code",
      "source": [
        "# Instanciamos el CV\n",
        "vec = CountVectorizer()\n",
        "doc1=\"Jane bought me these books.Jane bought a book for me.She dropped a line to him. Thank you.She sleeps.I sleep a lot.I was born in Madridthe cat was chased by the dog.I was born in Madrid during 1995.Out of all this , something good will come.Susan left afterthe rehearsal. She did it well.She sleeps during the morning, but she sleeps.\"\n",
        "\n",
        "\n",
        "# Definimos una lista con todos los strings\n",
        "texto = [doc1]\n",
        "\n",
        "# Ajustamos el CV y transformamos los datos\n",
        "X1 = vec.fit_transform(texto)"
      ],
      "metadata": {
        "id": "nVqakV0Hi5wh"
      },
      "execution_count": 31,
      "outputs": []
    },
    {
      "cell_type": "code",
      "source": [
        "import pandas as pd\n",
        "\n",
        "# Re-fit the vectorizer to get the correct feature names for X1\n",
        "# This assumes 'textos' still contains the document used to create X1\n",
        "vec.fit(texto)\n",
        "\n",
        "# Now create the DataFrame\n",
        "pd.DataFrame(data=X1.todense(), columns=vec.get_feature_names_out()).style.background_gradient()  #3 cuenta cuantas veces aparece cada palabra"
      ],
      "metadata": {
        "colab": {
          "base_uri": "https://localhost:8080/",
          "height": 100
        },
        "id": "3I-bPZ6ljYjr",
        "outputId": "0dd8d479-f570-4478-faf4-039c3c8be070"
      },
      "execution_count": 32,
      "outputs": [
        {
          "output_type": "execute_result",
          "data": {
            "text/plain": [
              "<pandas.io.formats.style.Styler at 0x7c2b2a671e40>"
            ],
            "text/html": [
              "<style type=\"text/css\">\n",
              "#T_09c87_row0_col0, #T_09c87_row0_col1, #T_09c87_row0_col2, #T_09c87_row0_col3, #T_09c87_row0_col4, #T_09c87_row0_col5, #T_09c87_row0_col6, #T_09c87_row0_col7, #T_09c87_row0_col8, #T_09c87_row0_col9, #T_09c87_row0_col10, #T_09c87_row0_col11, #T_09c87_row0_col12, #T_09c87_row0_col13, #T_09c87_row0_col14, #T_09c87_row0_col15, #T_09c87_row0_col16, #T_09c87_row0_col17, #T_09c87_row0_col18, #T_09c87_row0_col19, #T_09c87_row0_col20, #T_09c87_row0_col21, #T_09c87_row0_col22, #T_09c87_row0_col23, #T_09c87_row0_col24, #T_09c87_row0_col25, #T_09c87_row0_col26, #T_09c87_row0_col27, #T_09c87_row0_col28, #T_09c87_row0_col29, #T_09c87_row0_col30, #T_09c87_row0_col31, #T_09c87_row0_col32, #T_09c87_row0_col33, #T_09c87_row0_col34, #T_09c87_row0_col35, #T_09c87_row0_col36, #T_09c87_row0_col37, #T_09c87_row0_col38, #T_09c87_row0_col39, #T_09c87_row0_col40, #T_09c87_row0_col41, #T_09c87_row0_col42, #T_09c87_row0_col43, #T_09c87_row0_col44, #T_09c87_row0_col45 {\n",
              "  background-color: #fff7fb;\n",
              "  color: #000000;\n",
              "}\n",
              "</style>\n",
              "<table id=\"T_09c87\" class=\"dataframe\">\n",
              "  <thead>\n",
              "    <tr>\n",
              "      <th class=\"blank level0\" >&nbsp;</th>\n",
              "      <th id=\"T_09c87_level0_col0\" class=\"col_heading level0 col0\" >1995</th>\n",
              "      <th id=\"T_09c87_level0_col1\" class=\"col_heading level0 col1\" >afterthe</th>\n",
              "      <th id=\"T_09c87_level0_col2\" class=\"col_heading level0 col2\" >all</th>\n",
              "      <th id=\"T_09c87_level0_col3\" class=\"col_heading level0 col3\" >book</th>\n",
              "      <th id=\"T_09c87_level0_col4\" class=\"col_heading level0 col4\" >books</th>\n",
              "      <th id=\"T_09c87_level0_col5\" class=\"col_heading level0 col5\" >born</th>\n",
              "      <th id=\"T_09c87_level0_col6\" class=\"col_heading level0 col6\" >bought</th>\n",
              "      <th id=\"T_09c87_level0_col7\" class=\"col_heading level0 col7\" >but</th>\n",
              "      <th id=\"T_09c87_level0_col8\" class=\"col_heading level0 col8\" >by</th>\n",
              "      <th id=\"T_09c87_level0_col9\" class=\"col_heading level0 col9\" >cat</th>\n",
              "      <th id=\"T_09c87_level0_col10\" class=\"col_heading level0 col10\" >chased</th>\n",
              "      <th id=\"T_09c87_level0_col11\" class=\"col_heading level0 col11\" >come</th>\n",
              "      <th id=\"T_09c87_level0_col12\" class=\"col_heading level0 col12\" >did</th>\n",
              "      <th id=\"T_09c87_level0_col13\" class=\"col_heading level0 col13\" >dog</th>\n",
              "      <th id=\"T_09c87_level0_col14\" class=\"col_heading level0 col14\" >dropped</th>\n",
              "      <th id=\"T_09c87_level0_col15\" class=\"col_heading level0 col15\" >during</th>\n",
              "      <th id=\"T_09c87_level0_col16\" class=\"col_heading level0 col16\" >for</th>\n",
              "      <th id=\"T_09c87_level0_col17\" class=\"col_heading level0 col17\" >good</th>\n",
              "      <th id=\"T_09c87_level0_col18\" class=\"col_heading level0 col18\" >him</th>\n",
              "      <th id=\"T_09c87_level0_col19\" class=\"col_heading level0 col19\" >in</th>\n",
              "      <th id=\"T_09c87_level0_col20\" class=\"col_heading level0 col20\" >it</th>\n",
              "      <th id=\"T_09c87_level0_col21\" class=\"col_heading level0 col21\" >jane</th>\n",
              "      <th id=\"T_09c87_level0_col22\" class=\"col_heading level0 col22\" >left</th>\n",
              "      <th id=\"T_09c87_level0_col23\" class=\"col_heading level0 col23\" >line</th>\n",
              "      <th id=\"T_09c87_level0_col24\" class=\"col_heading level0 col24\" >lot</th>\n",
              "      <th id=\"T_09c87_level0_col25\" class=\"col_heading level0 col25\" >madrid</th>\n",
              "      <th id=\"T_09c87_level0_col26\" class=\"col_heading level0 col26\" >madridthe</th>\n",
              "      <th id=\"T_09c87_level0_col27\" class=\"col_heading level0 col27\" >me</th>\n",
              "      <th id=\"T_09c87_level0_col28\" class=\"col_heading level0 col28\" >morning</th>\n",
              "      <th id=\"T_09c87_level0_col29\" class=\"col_heading level0 col29\" >of</th>\n",
              "      <th id=\"T_09c87_level0_col30\" class=\"col_heading level0 col30\" >out</th>\n",
              "      <th id=\"T_09c87_level0_col31\" class=\"col_heading level0 col31\" >rehearsal</th>\n",
              "      <th id=\"T_09c87_level0_col32\" class=\"col_heading level0 col32\" >she</th>\n",
              "      <th id=\"T_09c87_level0_col33\" class=\"col_heading level0 col33\" >sleep</th>\n",
              "      <th id=\"T_09c87_level0_col34\" class=\"col_heading level0 col34\" >sleeps</th>\n",
              "      <th id=\"T_09c87_level0_col35\" class=\"col_heading level0 col35\" >something</th>\n",
              "      <th id=\"T_09c87_level0_col36\" class=\"col_heading level0 col36\" >susan</th>\n",
              "      <th id=\"T_09c87_level0_col37\" class=\"col_heading level0 col37\" >thank</th>\n",
              "      <th id=\"T_09c87_level0_col38\" class=\"col_heading level0 col38\" >the</th>\n",
              "      <th id=\"T_09c87_level0_col39\" class=\"col_heading level0 col39\" >these</th>\n",
              "      <th id=\"T_09c87_level0_col40\" class=\"col_heading level0 col40\" >this</th>\n",
              "      <th id=\"T_09c87_level0_col41\" class=\"col_heading level0 col41\" >to</th>\n",
              "      <th id=\"T_09c87_level0_col42\" class=\"col_heading level0 col42\" >was</th>\n",
              "      <th id=\"T_09c87_level0_col43\" class=\"col_heading level0 col43\" >well</th>\n",
              "      <th id=\"T_09c87_level0_col44\" class=\"col_heading level0 col44\" >will</th>\n",
              "      <th id=\"T_09c87_level0_col45\" class=\"col_heading level0 col45\" >you</th>\n",
              "    </tr>\n",
              "  </thead>\n",
              "  <tbody>\n",
              "    <tr>\n",
              "      <th id=\"T_09c87_level0_row0\" class=\"row_heading level0 row0\" >0</th>\n",
              "      <td id=\"T_09c87_row0_col0\" class=\"data row0 col0\" >1</td>\n",
              "      <td id=\"T_09c87_row0_col1\" class=\"data row0 col1\" >1</td>\n",
              "      <td id=\"T_09c87_row0_col2\" class=\"data row0 col2\" >1</td>\n",
              "      <td id=\"T_09c87_row0_col3\" class=\"data row0 col3\" >1</td>\n",
              "      <td id=\"T_09c87_row0_col4\" class=\"data row0 col4\" >1</td>\n",
              "      <td id=\"T_09c87_row0_col5\" class=\"data row0 col5\" >2</td>\n",
              "      <td id=\"T_09c87_row0_col6\" class=\"data row0 col6\" >2</td>\n",
              "      <td id=\"T_09c87_row0_col7\" class=\"data row0 col7\" >1</td>\n",
              "      <td id=\"T_09c87_row0_col8\" class=\"data row0 col8\" >1</td>\n",
              "      <td id=\"T_09c87_row0_col9\" class=\"data row0 col9\" >1</td>\n",
              "      <td id=\"T_09c87_row0_col10\" class=\"data row0 col10\" >1</td>\n",
              "      <td id=\"T_09c87_row0_col11\" class=\"data row0 col11\" >1</td>\n",
              "      <td id=\"T_09c87_row0_col12\" class=\"data row0 col12\" >1</td>\n",
              "      <td id=\"T_09c87_row0_col13\" class=\"data row0 col13\" >1</td>\n",
              "      <td id=\"T_09c87_row0_col14\" class=\"data row0 col14\" >1</td>\n",
              "      <td id=\"T_09c87_row0_col15\" class=\"data row0 col15\" >2</td>\n",
              "      <td id=\"T_09c87_row0_col16\" class=\"data row0 col16\" >1</td>\n",
              "      <td id=\"T_09c87_row0_col17\" class=\"data row0 col17\" >1</td>\n",
              "      <td id=\"T_09c87_row0_col18\" class=\"data row0 col18\" >1</td>\n",
              "      <td id=\"T_09c87_row0_col19\" class=\"data row0 col19\" >2</td>\n",
              "      <td id=\"T_09c87_row0_col20\" class=\"data row0 col20\" >1</td>\n",
              "      <td id=\"T_09c87_row0_col21\" class=\"data row0 col21\" >2</td>\n",
              "      <td id=\"T_09c87_row0_col22\" class=\"data row0 col22\" >1</td>\n",
              "      <td id=\"T_09c87_row0_col23\" class=\"data row0 col23\" >1</td>\n",
              "      <td id=\"T_09c87_row0_col24\" class=\"data row0 col24\" >1</td>\n",
              "      <td id=\"T_09c87_row0_col25\" class=\"data row0 col25\" >1</td>\n",
              "      <td id=\"T_09c87_row0_col26\" class=\"data row0 col26\" >1</td>\n",
              "      <td id=\"T_09c87_row0_col27\" class=\"data row0 col27\" >2</td>\n",
              "      <td id=\"T_09c87_row0_col28\" class=\"data row0 col28\" >1</td>\n",
              "      <td id=\"T_09c87_row0_col29\" class=\"data row0 col29\" >1</td>\n",
              "      <td id=\"T_09c87_row0_col30\" class=\"data row0 col30\" >1</td>\n",
              "      <td id=\"T_09c87_row0_col31\" class=\"data row0 col31\" >1</td>\n",
              "      <td id=\"T_09c87_row0_col32\" class=\"data row0 col32\" >5</td>\n",
              "      <td id=\"T_09c87_row0_col33\" class=\"data row0 col33\" >1</td>\n",
              "      <td id=\"T_09c87_row0_col34\" class=\"data row0 col34\" >3</td>\n",
              "      <td id=\"T_09c87_row0_col35\" class=\"data row0 col35\" >1</td>\n",
              "      <td id=\"T_09c87_row0_col36\" class=\"data row0 col36\" >1</td>\n",
              "      <td id=\"T_09c87_row0_col37\" class=\"data row0 col37\" >1</td>\n",
              "      <td id=\"T_09c87_row0_col38\" class=\"data row0 col38\" >2</td>\n",
              "      <td id=\"T_09c87_row0_col39\" class=\"data row0 col39\" >1</td>\n",
              "      <td id=\"T_09c87_row0_col40\" class=\"data row0 col40\" >1</td>\n",
              "      <td id=\"T_09c87_row0_col41\" class=\"data row0 col41\" >1</td>\n",
              "      <td id=\"T_09c87_row0_col42\" class=\"data row0 col42\" >3</td>\n",
              "      <td id=\"T_09c87_row0_col43\" class=\"data row0 col43\" >1</td>\n",
              "      <td id=\"T_09c87_row0_col44\" class=\"data row0 col44\" >1</td>\n",
              "      <td id=\"T_09c87_row0_col45\" class=\"data row0 col45\" >1</td>\n",
              "    </tr>\n",
              "  </tbody>\n",
              "</table>\n"
            ]
          },
          "metadata": {},
          "execution_count": 32
        }
      ]
    },
    {
      "cell_type": "code",
      "execution_count": 33,
      "metadata": {
        "id": "dFU2_FH71kE0"
      },
      "outputs": [],
      "source": [
        "# Instanciamos el CV\n",
        "vec = CountVectorizer()\n",
        "\n",
        "doc1 = 'la matriz de frecuencias otorga información del contenido de un documento'\n",
        "doc2 = 'las palabras que aparecen en un documento reflejan sus tópicos'\n",
        "\n",
        "# Definimos una lista con todos los strings\n",
        "textos = [doc1, doc2]\n",
        "\n",
        "# Ajustamos el CV y transformamos los datos\n",
        "X = vec.fit_transform(textos)  ## ajusta los parametros de coount vectorizer para darnos la matriz con los textos vectorizados"
      ]
    },
    {
      "cell_type": "markdown",
      "metadata": {
        "id": "UgRrQuTCQpWJ"
      },
      "source": [
        "Podemos volcar este resultado en un `DataFrame`. Para obtener el encabezado de las columnas, vamos a utilizar el método `get_feature_names_out()`, propio del vectorizador."
      ]
    },
    {
      "cell_type": "code",
      "execution_count": 34,
      "metadata": {
        "colab": {
          "base_uri": "https://localhost:8080/",
          "height": 112
        },
        "id": "60EnFi-oQpWJ",
        "outputId": "2ca2f156-be54-4326-beaf-8c8c27e5484a"
      },
      "outputs": [
        {
          "output_type": "execute_result",
          "data": {
            "text/plain": [
              "<pandas.io.formats.style.Styler at 0x7c2b1814dd50>"
            ],
            "text/html": [
              "<style type=\"text/css\">\n",
              "#T_341df_row0_col0, #T_341df_row0_col4, #T_341df_row0_col5, #T_341df_row0_col9, #T_341df_row0_col12, #T_341df_row0_col13, #T_341df_row0_col14, #T_341df_row0_col15, #T_341df_row0_col16, #T_341df_row0_col17, #T_341df_row1_col1, #T_341df_row1_col2, #T_341df_row1_col3, #T_341df_row1_col4, #T_341df_row1_col6, #T_341df_row1_col7, #T_341df_row1_col8, #T_341df_row1_col10, #T_341df_row1_col11, #T_341df_row1_col17 {\n",
              "  background-color: #fff7fb;\n",
              "  color: #000000;\n",
              "}\n",
              "#T_341df_row0_col1, #T_341df_row0_col2, #T_341df_row0_col3, #T_341df_row0_col6, #T_341df_row0_col7, #T_341df_row0_col8, #T_341df_row0_col10, #T_341df_row0_col11, #T_341df_row1_col0, #T_341df_row1_col5, #T_341df_row1_col9, #T_341df_row1_col12, #T_341df_row1_col13, #T_341df_row1_col14, #T_341df_row1_col15, #T_341df_row1_col16 {\n",
              "  background-color: #023858;\n",
              "  color: #f1f1f1;\n",
              "}\n",
              "</style>\n",
              "<table id=\"T_341df\" class=\"dataframe\">\n",
              "  <thead>\n",
              "    <tr>\n",
              "      <th class=\"blank level0\" >&nbsp;</th>\n",
              "      <th id=\"T_341df_level0_col0\" class=\"col_heading level0 col0\" >aparecen</th>\n",
              "      <th id=\"T_341df_level0_col1\" class=\"col_heading level0 col1\" >contenido</th>\n",
              "      <th id=\"T_341df_level0_col2\" class=\"col_heading level0 col2\" >de</th>\n",
              "      <th id=\"T_341df_level0_col3\" class=\"col_heading level0 col3\" >del</th>\n",
              "      <th id=\"T_341df_level0_col4\" class=\"col_heading level0 col4\" >documento</th>\n",
              "      <th id=\"T_341df_level0_col5\" class=\"col_heading level0 col5\" >en</th>\n",
              "      <th id=\"T_341df_level0_col6\" class=\"col_heading level0 col6\" >frecuencias</th>\n",
              "      <th id=\"T_341df_level0_col7\" class=\"col_heading level0 col7\" >información</th>\n",
              "      <th id=\"T_341df_level0_col8\" class=\"col_heading level0 col8\" >la</th>\n",
              "      <th id=\"T_341df_level0_col9\" class=\"col_heading level0 col9\" >las</th>\n",
              "      <th id=\"T_341df_level0_col10\" class=\"col_heading level0 col10\" >matriz</th>\n",
              "      <th id=\"T_341df_level0_col11\" class=\"col_heading level0 col11\" >otorga</th>\n",
              "      <th id=\"T_341df_level0_col12\" class=\"col_heading level0 col12\" >palabras</th>\n",
              "      <th id=\"T_341df_level0_col13\" class=\"col_heading level0 col13\" >que</th>\n",
              "      <th id=\"T_341df_level0_col14\" class=\"col_heading level0 col14\" >reflejan</th>\n",
              "      <th id=\"T_341df_level0_col15\" class=\"col_heading level0 col15\" >sus</th>\n",
              "      <th id=\"T_341df_level0_col16\" class=\"col_heading level0 col16\" >tópicos</th>\n",
              "      <th id=\"T_341df_level0_col17\" class=\"col_heading level0 col17\" >un</th>\n",
              "    </tr>\n",
              "  </thead>\n",
              "  <tbody>\n",
              "    <tr>\n",
              "      <th id=\"T_341df_level0_row0\" class=\"row_heading level0 row0\" >0</th>\n",
              "      <td id=\"T_341df_row0_col0\" class=\"data row0 col0\" >0</td>\n",
              "      <td id=\"T_341df_row0_col1\" class=\"data row0 col1\" >1</td>\n",
              "      <td id=\"T_341df_row0_col2\" class=\"data row0 col2\" >2</td>\n",
              "      <td id=\"T_341df_row0_col3\" class=\"data row0 col3\" >1</td>\n",
              "      <td id=\"T_341df_row0_col4\" class=\"data row0 col4\" >1</td>\n",
              "      <td id=\"T_341df_row0_col5\" class=\"data row0 col5\" >0</td>\n",
              "      <td id=\"T_341df_row0_col6\" class=\"data row0 col6\" >1</td>\n",
              "      <td id=\"T_341df_row0_col7\" class=\"data row0 col7\" >1</td>\n",
              "      <td id=\"T_341df_row0_col8\" class=\"data row0 col8\" >1</td>\n",
              "      <td id=\"T_341df_row0_col9\" class=\"data row0 col9\" >0</td>\n",
              "      <td id=\"T_341df_row0_col10\" class=\"data row0 col10\" >1</td>\n",
              "      <td id=\"T_341df_row0_col11\" class=\"data row0 col11\" >1</td>\n",
              "      <td id=\"T_341df_row0_col12\" class=\"data row0 col12\" >0</td>\n",
              "      <td id=\"T_341df_row0_col13\" class=\"data row0 col13\" >0</td>\n",
              "      <td id=\"T_341df_row0_col14\" class=\"data row0 col14\" >0</td>\n",
              "      <td id=\"T_341df_row0_col15\" class=\"data row0 col15\" >0</td>\n",
              "      <td id=\"T_341df_row0_col16\" class=\"data row0 col16\" >0</td>\n",
              "      <td id=\"T_341df_row0_col17\" class=\"data row0 col17\" >1</td>\n",
              "    </tr>\n",
              "    <tr>\n",
              "      <th id=\"T_341df_level0_row1\" class=\"row_heading level0 row1\" >1</th>\n",
              "      <td id=\"T_341df_row1_col0\" class=\"data row1 col0\" >1</td>\n",
              "      <td id=\"T_341df_row1_col1\" class=\"data row1 col1\" >0</td>\n",
              "      <td id=\"T_341df_row1_col2\" class=\"data row1 col2\" >0</td>\n",
              "      <td id=\"T_341df_row1_col3\" class=\"data row1 col3\" >0</td>\n",
              "      <td id=\"T_341df_row1_col4\" class=\"data row1 col4\" >1</td>\n",
              "      <td id=\"T_341df_row1_col5\" class=\"data row1 col5\" >1</td>\n",
              "      <td id=\"T_341df_row1_col6\" class=\"data row1 col6\" >0</td>\n",
              "      <td id=\"T_341df_row1_col7\" class=\"data row1 col7\" >0</td>\n",
              "      <td id=\"T_341df_row1_col8\" class=\"data row1 col8\" >0</td>\n",
              "      <td id=\"T_341df_row1_col9\" class=\"data row1 col9\" >1</td>\n",
              "      <td id=\"T_341df_row1_col10\" class=\"data row1 col10\" >0</td>\n",
              "      <td id=\"T_341df_row1_col11\" class=\"data row1 col11\" >0</td>\n",
              "      <td id=\"T_341df_row1_col12\" class=\"data row1 col12\" >1</td>\n",
              "      <td id=\"T_341df_row1_col13\" class=\"data row1 col13\" >1</td>\n",
              "      <td id=\"T_341df_row1_col14\" class=\"data row1 col14\" >1</td>\n",
              "      <td id=\"T_341df_row1_col15\" class=\"data row1 col15\" >1</td>\n",
              "      <td id=\"T_341df_row1_col16\" class=\"data row1 col16\" >1</td>\n",
              "      <td id=\"T_341df_row1_col17\" class=\"data row1 col17\" >1</td>\n",
              "    </tr>\n",
              "  </tbody>\n",
              "</table>\n"
            ]
          },
          "metadata": {},
          "execution_count": 34
        }
      ],
      "source": [
        "import pandas as pd\n",
        "pd.DataFrame(data = X.todense(), columns = vec.get_feature_names_out()).style.background_gradient()"
      ]
    },
    {
      "cell_type": "markdown",
      "metadata": {
        "id": "cQ5qU9Tu00xh"
      },
      "source": [
        "Una vez que tenemos nuestros datos ordenados, podemos ajustar nuestro modelo de aprendizaje automático aproximadamente así:\n",
        "\n",
        "```python\n",
        "from sklearn.familia_de_modelos import Modelo\n",
        "mi_modelo = Modelo(hiperparámetros)\n",
        "mi_modelo.fit(X, y)\n",
        "\n",
        "predicción = mi_modelo.predict(nuevo_X)\n",
        "```\n",
        "\n",
        "Para ajustar nuestros modelos de machine learning, vamos a tener nuestra matriz de features **X** y un vector **y** (en el caso de ML supervisado), donde **X** tiene la forma ``(n_observaciones, n_variables)`` e **y** ``(n_observaciones)``"
      ]
    },
    {
      "cell_type": "markdown",
      "source": [
        "###que limitaciones o problemas traera, la matriz crece con cada palabra se agrega NUEVA DEL VOCABULARIO O VARIACIONES DE CADA PALABRA, crece muy rapido, LAS PALABRAS TIPICAS OCOMO DE APARECE  varias veces alli aparece TF_IDF"
      ],
      "metadata": {
        "id": "m6yZVb5nGrmG"
      }
    },
    {
      "cell_type": "markdown",
      "source": [
        "##matriz TF-IDF COMPENSA LA APARICION, NORMALIZA CUANTAS VECES APARECE Y HACE 2 normalizaciones ponderar la frecuencia relativa de cada documentos y en cuales documentos aparece, cuando es mas informativa una palabra, en cambio muy poco informativa aparece en la misma proporcion , pone frecuencia relativa , dividiendo por la aparicion total y en cuantos documentos aparece, tecnica muy efectiva base donde construimos los algoritmos"
      ],
      "metadata": {
        "id": "nqyfm6WGHyfp"
      }
    },
    {
      "cell_type": "markdown",
      "metadata": {
        "id": "T4aQ4Ohmqcpb"
      },
      "source": [
        "# TF-IDF\n",
        "\n",
        "**Term frequency-inverse document frequency (TF–IDF)** es una técnica alternativa que computa la frecuencia relativa de cada palabra por documento, ponderada por la inversa de su frecuencia relativa a lo largo del *corpus* (colección de documentos). Este método funciona mejor con ciertos algoritmos de clasificación, y es ámpliamente utilizada"
      ]
    },
    {
      "cell_type": "markdown",
      "metadata": {
        "id": "EbLpYY_iY5d0"
      },
      "source": [
        "Vamos a calcular las matrices de ocurrencias de términos usando sklearn.\n",
        "\n",
        "Ámbas clases primero construyen el vocabulario total, y luego:  \n",
        "- **CountVectorizer** nos devuelve la frecuencia absoluta de cada término por cada documento.\n",
        "- [**TF-IDF**](https://en.wikipedia.org/wiki/Tf%E2%80%93idf): calcula la frecuencia de cada término por documento, y normaliza por el total de documentos donde el término aparece.\n",
        "\n",
        "$${tf} (t,d)={\\frac {f_{t,d}}{\\sum _{t'\\in d}{f_{t',d}}}}$$\n",
        "\n",
        "$$\n",
        "idf( t, D ) = log \\frac{ \\text{| } D \\text{ |} }{ 1 + \\text{| } \\{ d \\in D : t \\in d \\} \\text{ |} }\n",
        "$$\n",
        "\n",
        "\n",
        "$$ tfidf( t, d, D ) = tf( t, d ) \\times idf( t, D )\n",
        "$$\n"
      ]
    },
    {
      "cell_type": "code",
      "execution_count": 35,
      "metadata": {
        "colab": {
          "base_uri": "https://localhost:8080/",
          "height": 132
        },
        "id": "dtJtANUnCZ33",
        "outputId": "adae349e-58a1-4287-9c07-94984e58f43b"
      },
      "outputs": [
        {
          "output_type": "execute_result",
          "data": {
            "text/plain": [
              "<pandas.io.formats.style.Styler at 0x7c2b1814e0b0>"
            ],
            "text/html": [
              "<style type=\"text/css\">\n",
              "#T_cea85_row0_col0, #T_cea85_row0_col4, #T_cea85_row0_col5, #T_cea85_row0_col9, #T_cea85_row0_col12, #T_cea85_row0_col13, #T_cea85_row0_col14, #T_cea85_row0_col15, #T_cea85_row0_col16, #T_cea85_row0_col17, #T_cea85_row1_col1, #T_cea85_row1_col2, #T_cea85_row1_col3, #T_cea85_row1_col6, #T_cea85_row1_col7, #T_cea85_row1_col8, #T_cea85_row1_col10, #T_cea85_row1_col11 {\n",
              "  background-color: #fff7fb;\n",
              "  color: #000000;\n",
              "}\n",
              "#T_cea85_row0_col1, #T_cea85_row0_col2, #T_cea85_row0_col3, #T_cea85_row0_col6, #T_cea85_row0_col7, #T_cea85_row0_col8, #T_cea85_row0_col10, #T_cea85_row0_col11, #T_cea85_row1_col0, #T_cea85_row1_col4, #T_cea85_row1_col5, #T_cea85_row1_col9, #T_cea85_row1_col12, #T_cea85_row1_col13, #T_cea85_row1_col14, #T_cea85_row1_col15, #T_cea85_row1_col16, #T_cea85_row1_col17 {\n",
              "  background-color: #023858;\n",
              "  color: #f1f1f1;\n",
              "}\n",
              "</style>\n",
              "<table id=\"T_cea85\" class=\"dataframe\">\n",
              "  <thead>\n",
              "    <tr>\n",
              "      <th class=\"blank level0\" >&nbsp;</th>\n",
              "      <th id=\"T_cea85_level0_col0\" class=\"col_heading level0 col0\" >aparecen</th>\n",
              "      <th id=\"T_cea85_level0_col1\" class=\"col_heading level0 col1\" >contenido</th>\n",
              "      <th id=\"T_cea85_level0_col2\" class=\"col_heading level0 col2\" >de</th>\n",
              "      <th id=\"T_cea85_level0_col3\" class=\"col_heading level0 col3\" >del</th>\n",
              "      <th id=\"T_cea85_level0_col4\" class=\"col_heading level0 col4\" >documento</th>\n",
              "      <th id=\"T_cea85_level0_col5\" class=\"col_heading level0 col5\" >en</th>\n",
              "      <th id=\"T_cea85_level0_col6\" class=\"col_heading level0 col6\" >frecuencias</th>\n",
              "      <th id=\"T_cea85_level0_col7\" class=\"col_heading level0 col7\" >información</th>\n",
              "      <th id=\"T_cea85_level0_col8\" class=\"col_heading level0 col8\" >la</th>\n",
              "      <th id=\"T_cea85_level0_col9\" class=\"col_heading level0 col9\" >las</th>\n",
              "      <th id=\"T_cea85_level0_col10\" class=\"col_heading level0 col10\" >matriz</th>\n",
              "      <th id=\"T_cea85_level0_col11\" class=\"col_heading level0 col11\" >otorga</th>\n",
              "      <th id=\"T_cea85_level0_col12\" class=\"col_heading level0 col12\" >palabras</th>\n",
              "      <th id=\"T_cea85_level0_col13\" class=\"col_heading level0 col13\" >que</th>\n",
              "      <th id=\"T_cea85_level0_col14\" class=\"col_heading level0 col14\" >reflejan</th>\n",
              "      <th id=\"T_cea85_level0_col15\" class=\"col_heading level0 col15\" >sus</th>\n",
              "      <th id=\"T_cea85_level0_col16\" class=\"col_heading level0 col16\" >tópicos</th>\n",
              "      <th id=\"T_cea85_level0_col17\" class=\"col_heading level0 col17\" >un</th>\n",
              "    </tr>\n",
              "  </thead>\n",
              "  <tbody>\n",
              "    <tr>\n",
              "      <th id=\"T_cea85_level0_row0\" class=\"row_heading level0 row0\" >0</th>\n",
              "      <td id=\"T_cea85_row0_col0\" class=\"data row0 col0\" >0.000000</td>\n",
              "      <td id=\"T_cea85_row0_col1\" class=\"data row0 col1\" >0.288525</td>\n",
              "      <td id=\"T_cea85_row0_col2\" class=\"data row0 col2\" >0.577050</td>\n",
              "      <td id=\"T_cea85_row0_col3\" class=\"data row0 col3\" >0.288525</td>\n",
              "      <td id=\"T_cea85_row0_col4\" class=\"data row0 col4\" >0.205288</td>\n",
              "      <td id=\"T_cea85_row0_col5\" class=\"data row0 col5\" >0.000000</td>\n",
              "      <td id=\"T_cea85_row0_col6\" class=\"data row0 col6\" >0.288525</td>\n",
              "      <td id=\"T_cea85_row0_col7\" class=\"data row0 col7\" >0.288525</td>\n",
              "      <td id=\"T_cea85_row0_col8\" class=\"data row0 col8\" >0.288525</td>\n",
              "      <td id=\"T_cea85_row0_col9\" class=\"data row0 col9\" >0.000000</td>\n",
              "      <td id=\"T_cea85_row0_col10\" class=\"data row0 col10\" >0.288525</td>\n",
              "      <td id=\"T_cea85_row0_col11\" class=\"data row0 col11\" >0.288525</td>\n",
              "      <td id=\"T_cea85_row0_col12\" class=\"data row0 col12\" >0.000000</td>\n",
              "      <td id=\"T_cea85_row0_col13\" class=\"data row0 col13\" >0.000000</td>\n",
              "      <td id=\"T_cea85_row0_col14\" class=\"data row0 col14\" >0.000000</td>\n",
              "      <td id=\"T_cea85_row0_col15\" class=\"data row0 col15\" >0.000000</td>\n",
              "      <td id=\"T_cea85_row0_col16\" class=\"data row0 col16\" >0.000000</td>\n",
              "      <td id=\"T_cea85_row0_col17\" class=\"data row0 col17\" >0.205288</td>\n",
              "    </tr>\n",
              "    <tr>\n",
              "      <th id=\"T_cea85_level0_row1\" class=\"row_heading level0 row1\" >1</th>\n",
              "      <td id=\"T_cea85_row1_col0\" class=\"data row1 col0\" >0.333102</td>\n",
              "      <td id=\"T_cea85_row1_col1\" class=\"data row1 col1\" >0.000000</td>\n",
              "      <td id=\"T_cea85_row1_col2\" class=\"data row1 col2\" >0.000000</td>\n",
              "      <td id=\"T_cea85_row1_col3\" class=\"data row1 col3\" >0.000000</td>\n",
              "      <td id=\"T_cea85_row1_col4\" class=\"data row1 col4\" >0.237005</td>\n",
              "      <td id=\"T_cea85_row1_col5\" class=\"data row1 col5\" >0.333102</td>\n",
              "      <td id=\"T_cea85_row1_col6\" class=\"data row1 col6\" >0.000000</td>\n",
              "      <td id=\"T_cea85_row1_col7\" class=\"data row1 col7\" >0.000000</td>\n",
              "      <td id=\"T_cea85_row1_col8\" class=\"data row1 col8\" >0.000000</td>\n",
              "      <td id=\"T_cea85_row1_col9\" class=\"data row1 col9\" >0.333102</td>\n",
              "      <td id=\"T_cea85_row1_col10\" class=\"data row1 col10\" >0.000000</td>\n",
              "      <td id=\"T_cea85_row1_col11\" class=\"data row1 col11\" >0.000000</td>\n",
              "      <td id=\"T_cea85_row1_col12\" class=\"data row1 col12\" >0.333102</td>\n",
              "      <td id=\"T_cea85_row1_col13\" class=\"data row1 col13\" >0.333102</td>\n",
              "      <td id=\"T_cea85_row1_col14\" class=\"data row1 col14\" >0.333102</td>\n",
              "      <td id=\"T_cea85_row1_col15\" class=\"data row1 col15\" >0.333102</td>\n",
              "      <td id=\"T_cea85_row1_col16\" class=\"data row1 col16\" >0.333102</td>\n",
              "      <td id=\"T_cea85_row1_col17\" class=\"data row1 col17\" >0.237005</td>\n",
              "    </tr>\n",
              "  </tbody>\n",
              "</table>\n"
            ]
          },
          "metadata": {},
          "execution_count": 35
        }
      ],
      "source": [
        "from sklearn.feature_extraction.text import TfidfVectorizer\n",
        "vec = TfidfVectorizer()\n",
        "X = vec.fit_transform(textos)\n",
        "pd.DataFrame(data = X.todense(),\n",
        "             columns = vec.get_feature_names_out()).style.background_gradient()"
      ]
    },
    {
      "cell_type": "markdown",
      "metadata": {
        "id": "lDdCuUc-HFVc"
      },
      "source": [
        "## Similitud coseno\n",
        "\n",
        "Recordando rápidamente la métrica de similitud coseno, podemos utilizarla en conjunto con TF-IDF para calcular similitud entre textos!\n",
        "\n",
        "$$sim(\\pmb x, \\pmb y) = \\frac {\\pmb x \\cdot \\pmb y}{||\\pmb x|| \\cdot ||\\pmb y||}$$\n",
        "\n",
        "Con los elementos vistos ya podemos construir el algoritmo de Análisis Semántico Latente, que fue de vanguardia y muy exitoso por muchos años.\n",
        "\n",
        "Para un ejemplo de TF-IDF con similitud coseno, en el contexto de sistemas de recomendación, véase [la última clase de Machine Learning](https://github.com/institutohumai/cursos-python)."
      ]
    },
    {
      "cell_type": "markdown",
      "source": [
        "SEMANTICA DE DISTINTOS TEXTOS Y COMO APARECEN ENTRE SI SE TIENE EL lSA analisis semantico , usando tf-idf, similitud coseno , en el contenido en la semantica de distintos textos si se parecen entre si, sistemas en produccion, ultima clase de machine learning.se tiene el analisis semantico latente lsa, se construye la matriz tf-idf, se hace reduccion de dimensionalidad de aprendizaje no supervisado, se puede computar simuilitud coseno entre los vectores,\n",
        "\n"
      ],
      "metadata": {
        "id": "ixWq038tJ0bX"
      }
    },
    {
      "cell_type": "markdown",
      "source": [
        "Hipotesis distribucional, el significado de la palabra se puede identificar a partir de su contextos, palabras que identifican contextos parecidos, el significado de la palabra se define por el contexto"
      ],
      "metadata": {
        "id": "CW_ewqHVK5a3"
      }
    },
    {
      "cell_type": "markdown",
      "source": [
        "## construir la matriz con una bolsa de palabras"
      ],
      "metadata": {
        "id": "OBhhKExoLJoL"
      }
    },
    {
      "cell_type": "markdown",
      "source": [
        "palabras que no significan, LA RIOJA. ITALOAMERICANO, juntas singnificado, en tf -idf, perdemos el significado."
      ],
      "metadata": {
        "id": "FfOX-BC9LShh"
      }
    },
    {
      "cell_type": "markdown",
      "metadata": {
        "id": "DcAN4Y9v57Oo"
      },
      "source": [
        "## N-gramas\n",
        "\n",
        "Muchas veces la unidad lingüística no es una palabra si no que es una palabra compuesta, ya sea en un nombre (ej. \"La Rioja\") como en palabras compuestas (\"italo-americano\"). Tomando palabras sueltas, esos significados se pierden.\n",
        "Para contemplar esto, se pueden tomar combinaciones de N palabras: **n-gramas**."
      ]
    },
    {
      "cell_type": "markdown",
      "source": [
        "retenemos el significado, tomamos 3 gramas, la dimensionalidad de la matriz de vocabulario crece, podemos hacer proceso de seleccion de variables, n gramas de umbral de frecuencia, especificar procedimientos"
      ],
      "metadata": {
        "id": "hws4Kkj5LeNl"
      }
    },
    {
      "cell_type": "code",
      "execution_count": 63,
      "metadata": {
        "id": "GopqmKYl-I9Q"
      },
      "outputs": [],
      "source": [
        "data['text'] = data['text'].apply(lambda x: x[:1000])  ##"
      ]
    },
    {
      "cell_type": "markdown",
      "source": [
        "## que n-gramas superan este umbral de frecuencia y son los mas preponderantes"
      ],
      "metadata": {
        "id": "PevMienTOX9i"
      }
    },
    {
      "cell_type": "code",
      "execution_count": 37,
      "metadata": {
        "colab": {
          "base_uri": "https://localhost:8080/"
        },
        "id": "HB9_s2R-57Oo",
        "outputId": "e968adf3-539a-4778-e1b5-7134e7d6d007"
      },
      "outputs": [
        {
          "output_type": "stream",
          "name": "stdout",
          "text": [
            "[[0 0 0 ... 0 0 0]\n",
            " [0 0 0 ... 0 0 0]\n",
            " [0 0 0 ... 0 0 0]\n",
            " ...\n",
            " [0 0 0 ... 0 0 0]\n",
            " [0 0 0 ... 0 0 0]\n",
            " [0 0 0 ... 0 0 0]]\n",
            "['00 de' '00 de la' '00 en' ... 'únicamente una' 'únicamente una nueva'\n",
            " 'único que']\n"
          ]
        }
      ],
      "source": [
        "# Definimos una lista con los documentos\n",
        "textos = data['text']\n",
        "\n",
        "# Instanciamos un CountVectorizer con una tupla indicando el rango de los n-gramas a considerar\n",
        "vectorizer = CountVectorizer(ngram_range=(2,3), min_df=20) ### , combinaciones de 2 o 3 palabras y minimos grados de libertad cuantas apariciones debe superar cada palabra con las que aparece 20 veces o fraccion\n",
        "\n",
        "# Usamos .fit_transform() para ajustar el CV y transformar los datos\n",
        "X = vectorizer.fit_transform(textos)\n",
        "print(X.toarray())\n",
        "\n",
        "# Usando .get_feature_names_out() podemos acceder al indice de palabras\n",
        "print(vectorizer.get_feature_names_out())"
      ]
    },
    {
      "cell_type": "code",
      "execution_count": 38,
      "metadata": {
        "colab": {
          "base_uri": "https://localhost:8080/",
          "height": 486
        },
        "id": "PB69Ub00Dff4",
        "outputId": "a3be94b5-a36f-4457-bc69-7fd148f25b73"
      },
      "outputs": [
        {
          "output_type": "display_data",
          "data": {
            "text/plain": [
              "<Figure size 640x480 with 1 Axes>"
            ],
            "image/png": "[encoded data removed]"
          },
          "metadata": {}
        }
      ],
      "source": [
        "pd.DataFrame(X.sum(axis=0).T,\n",
        "            index=vectorizer.get_feature_names_out(),\n",
        "            columns=['freq']).sort_values(by='freq',\n",
        "                                          ascending=False)[:20].plot(kind='bar',title='N Gramas');"
      ]
    },
    {
      "cell_type": "markdown",
      "source": [
        "## no nos aporto informacion , sobre los contenidos de las noticias , proximo paso bolsa de palabras tf-idf, sacar las palabras que no aportan informacion"
      ],
      "metadata": {
        "id": "vEXUzE6SOkd8"
      }
    },
    {
      "cell_type": "markdown",
      "metadata": {
        "id": "M-yy_LsP57NY"
      },
      "source": [
        "## Stop Words\n",
        "\n"
      ]
    },
    {
      "cell_type": "code",
      "execution_count": 39,
      "metadata": {
        "id": "Fy41qLlo57Na",
        "colab": {
          "base_uri": "https://localhost:8080/"
        },
        "outputId": "0df39a66-7421-4a8d-9d45-7e0831e8b110"
      },
      "outputs": [
        {
          "output_type": "stream",
          "name": "stdout",
          "text": [
            "Collecting stop_words\n",
            "  Downloading stop-words-2018.7.23.tar.gz (31 kB)\n",
            "  Preparing metadata (setup.py) ... \u001b[?25l\u001b[?25hdone\n",
            "Building wheels for collected packages: stop_words\n",
            "  Building wheel for stop_words (setup.py) ... \u001b[?25l\u001b[?25hdone\n",
            "  Created wheel for stop_words: filename=stop_words-2018.7.23-py3-none-any.whl size=32894 sha256=36dc2410970af488ef0c51099dbc281532055b375ebecbbd012d982e9e6b36cf\n",
            "  Stored in directory: /root/.cache/pip/wheels/d0/1a/23/f12552a50cb09bcc1694a5ebb6c2cd5f2a0311de2b8c3d9a89\n",
            "Successfully built stop_words\n",
            "Installing collected packages: stop_words\n",
            "Successfully installed stop_words-2018.7.23\n"
          ]
        }
      ],
      "source": [
        "!pip install stop_words\n",
        "import stop_words\n",
        "# Usamos stop words del español\n",
        "stop_words = stop_words.get_stop_words('es')"
      ]
    },
    {
      "cell_type": "code",
      "source": [
        "stop_words ## lista de stop words para retener las palabras mas informativas"
      ],
      "metadata": {
        "colab": {
          "base_uri": "https://localhost:8080/"
        },
        "id": "1CgaAPJVOyGb",
        "outputId": "f7225bac-49b7-4bd7-9eb8-ed4aef3b2b10"
      },
      "execution_count": 65,
      "outputs": [
        {
          "output_type": "execute_result",
          "data": {
            "text/plain": [
              "['a',\n",
              " 'al',\n",
              " 'algo',\n",
              " 'algunas',\n",
              " 'algunos',\n",
              " 'ante',\n",
              " 'antes',\n",
              " 'como',\n",
              " 'con',\n",
              " 'contra',\n",
              " 'cual',\n",
              " 'cuando',\n",
              " 'de',\n",
              " 'del',\n",
              " 'desde',\n",
              " 'donde',\n",
              " 'durante',\n",
              " 'e',\n",
              " 'el',\n",
              " 'ella',\n",
              " 'ellas',\n",
              " 'ellos',\n",
              " 'en',\n",
              " 'entre',\n",
              " 'era',\n",
              " 'erais',\n",
              " 'eran',\n",
              " 'eras',\n",
              " 'eres',\n",
              " 'es',\n",
              " 'esa',\n",
              " 'esas',\n",
              " 'ese',\n",
              " 'eso',\n",
              " 'esos',\n",
              " 'esta',\n",
              " 'estaba',\n",
              " 'estabais',\n",
              " 'estaban',\n",
              " 'estabas',\n",
              " 'estad',\n",
              " 'estada',\n",
              " 'estadas',\n",
              " 'estado',\n",
              " 'estados',\n",
              " 'estamos',\n",
              " 'estando',\n",
              " 'estar',\n",
              " 'estaremos',\n",
              " 'estará',\n",
              " 'estarán',\n",
              " 'estarás',\n",
              " 'estaré',\n",
              " 'estaréis',\n",
              " 'estaría',\n",
              " 'estaríais',\n",
              " 'estaríamos',\n",
              " 'estarían',\n",
              " 'estarías',\n",
              " 'estas',\n",
              " 'este',\n",
              " 'estemos',\n",
              " 'esto',\n",
              " 'estos',\n",
              " 'estoy',\n",
              " 'estuve',\n",
              " 'estuviera',\n",
              " 'estuvierais',\n",
              " 'estuvieran',\n",
              " 'estuvieras',\n",
              " 'estuvieron',\n",
              " 'estuviese',\n",
              " 'estuvieseis',\n",
              " 'estuviesen',\n",
              " 'estuvieses',\n",
              " 'estuvimos',\n",
              " 'estuviste',\n",
              " 'estuvisteis',\n",
              " 'estuviéramos',\n",
              " 'estuviésemos',\n",
              " 'estuvo',\n",
              " 'está',\n",
              " 'estábamos',\n",
              " 'estáis',\n",
              " 'están',\n",
              " 'estás',\n",
              " 'esté',\n",
              " 'estéis',\n",
              " 'estén',\n",
              " 'estés',\n",
              " 'fue',\n",
              " 'fuera',\n",
              " 'fuerais',\n",
              " 'fueran',\n",
              " 'fueras',\n",
              " 'fueron',\n",
              " 'fuese',\n",
              " 'fueseis',\n",
              " 'fuesen',\n",
              " 'fueses',\n",
              " 'fui',\n",
              " 'fuimos',\n",
              " 'fuiste',\n",
              " 'fuisteis',\n",
              " 'fuéramos',\n",
              " 'fuésemos',\n",
              " 'ha',\n",
              " 'habida',\n",
              " 'habidas',\n",
              " 'habido',\n",
              " 'habidos',\n",
              " 'habiendo',\n",
              " 'habremos',\n",
              " 'habrá',\n",
              " 'habrán',\n",
              " 'habrás',\n",
              " 'habré',\n",
              " 'habréis',\n",
              " 'habría',\n",
              " 'habríais',\n",
              " 'habríamos',\n",
              " 'habrían',\n",
              " 'habrías',\n",
              " 'habéis',\n",
              " 'había',\n",
              " 'habíais',\n",
              " 'habíamos',\n",
              " 'habían',\n",
              " 'habías',\n",
              " 'han',\n",
              " 'has',\n",
              " 'hasta',\n",
              " 'hay',\n",
              " 'haya',\n",
              " 'hayamos',\n",
              " 'hayan',\n",
              " 'hayas',\n",
              " 'hayáis',\n",
              " 'he',\n",
              " 'hemos',\n",
              " 'hube',\n",
              " 'hubiera',\n",
              " 'hubierais',\n",
              " 'hubieran',\n",
              " 'hubieras',\n",
              " 'hubieron',\n",
              " 'hubiese',\n",
              " 'hubieseis',\n",
              " 'hubiesen',\n",
              " 'hubieses',\n",
              " 'hubimos',\n",
              " 'hubiste',\n",
              " 'hubisteis',\n",
              " 'hubiéramos',\n",
              " 'hubiésemos',\n",
              " 'hubo',\n",
              " 'la',\n",
              " 'las',\n",
              " 'le',\n",
              " 'les',\n",
              " 'lo',\n",
              " 'los',\n",
              " 'me',\n",
              " 'mi',\n",
              " 'mis',\n",
              " 'mucho',\n",
              " 'muchos',\n",
              " 'muy',\n",
              " 'más',\n",
              " 'mí',\n",
              " 'mía',\n",
              " 'mías',\n",
              " 'mío',\n",
              " 'míos',\n",
              " 'nada',\n",
              " 'ni',\n",
              " 'no',\n",
              " 'nos',\n",
              " 'nosotras',\n",
              " 'nosotros',\n",
              " 'nuestra',\n",
              " 'nuestras',\n",
              " 'nuestro',\n",
              " 'nuestros',\n",
              " 'o',\n",
              " 'os',\n",
              " 'otra',\n",
              " 'otras',\n",
              " 'otro',\n",
              " 'otros',\n",
              " 'para',\n",
              " 'pero',\n",
              " 'poco',\n",
              " 'por',\n",
              " 'porque',\n",
              " 'que',\n",
              " 'quien',\n",
              " 'quienes',\n",
              " 'qué',\n",
              " 'se',\n",
              " 'sea',\n",
              " 'seamos',\n",
              " 'sean',\n",
              " 'seas',\n",
              " 'seremos',\n",
              " 'será',\n",
              " 'serán',\n",
              " 'serás',\n",
              " 'seré',\n",
              " 'seréis',\n",
              " 'sería',\n",
              " 'seríais',\n",
              " 'seríamos',\n",
              " 'serían',\n",
              " 'serías',\n",
              " 'seáis',\n",
              " 'sido',\n",
              " 'siendo',\n",
              " 'sin',\n",
              " 'sobre',\n",
              " 'sois',\n",
              " 'somos',\n",
              " 'son',\n",
              " 'soy',\n",
              " 'su',\n",
              " 'sus',\n",
              " 'suya',\n",
              " 'suyas',\n",
              " 'suyo',\n",
              " 'suyos',\n",
              " 'sí',\n",
              " 'también',\n",
              " 'tanto',\n",
              " 'te',\n",
              " 'tendremos',\n",
              " 'tendrá',\n",
              " 'tendrán',\n",
              " 'tendrás',\n",
              " 'tendré',\n",
              " 'tendréis',\n",
              " 'tendría',\n",
              " 'tendríais',\n",
              " 'tendríamos',\n",
              " 'tendrían',\n",
              " 'tendrías',\n",
              " 'tened',\n",
              " 'tenemos',\n",
              " 'tenga',\n",
              " 'tengamos',\n",
              " 'tengan',\n",
              " 'tengas',\n",
              " 'tengo',\n",
              " 'tengáis',\n",
              " 'tenida',\n",
              " 'tenidas',\n",
              " 'tenido',\n",
              " 'tenidos',\n",
              " 'teniendo',\n",
              " 'tenéis',\n",
              " 'tenía',\n",
              " 'teníais',\n",
              " 'teníamos',\n",
              " 'tenían',\n",
              " 'tenías',\n",
              " 'ti',\n",
              " 'tiene',\n",
              " 'tienen',\n",
              " 'tienes',\n",
              " 'todo',\n",
              " 'todos',\n",
              " 'tu',\n",
              " 'tus',\n",
              " 'tuve',\n",
              " 'tuviera',\n",
              " 'tuvierais',\n",
              " 'tuvieran',\n",
              " 'tuvieras',\n",
              " 'tuvieron',\n",
              " 'tuviese',\n",
              " 'tuvieseis',\n",
              " 'tuviesen',\n",
              " 'tuvieses',\n",
              " 'tuvimos',\n",
              " 'tuviste',\n",
              " 'tuvisteis',\n",
              " 'tuviéramos',\n",
              " 'tuviésemos',\n",
              " 'tuvo',\n",
              " 'tuya',\n",
              " 'tuyas',\n",
              " 'tuyo',\n",
              " 'tuyos',\n",
              " 'tú',\n",
              " 'un',\n",
              " 'una',\n",
              " 'uno',\n",
              " 'unos',\n",
              " 'vosotras',\n",
              " 'vosotros',\n",
              " 'vuestra',\n",
              " 'vuestras',\n",
              " 'vuestro',\n",
              " 'vuestros',\n",
              " 'y',\n",
              " 'ya',\n",
              " 'yo',\n",
              " 'él',\n",
              " 'éramos']"
            ]
          },
          "metadata": {},
          "execution_count": 65
        }
      ]
    },
    {
      "cell_type": "code",
      "execution_count": 68,
      "metadata": {
        "id": "yoTBwJzEcmMx"
      },
      "outputs": [],
      "source": [
        "# Instanciamos un CountVectorizer con una tupla indicando el rango de los n-gramas a considerar\n",
        "vectorizer = CountVectorizer(ngram_range=(2,3), min_df=10, stop_words=stop_words)  ### ajustamos el objeto considere 2 0 3 ngramas, aparicion minima 10 veces, y reduzca los stopwords se la pasa al constructor de este objeto\n",
        "\n",
        "# Usamos .fit_transform() para ajustar el CV y transformar los datos\n",
        "X = vectorizer.fit_transform(textos)"
      ]
    },
    {
      "cell_type": "code",
      "execution_count": 69,
      "metadata": {
        "colab": {
          "base_uri": "https://localhost:8080/",
          "height": 452
        },
        "id": "-DW9gWIBIy99",
        "outputId": "9453162c-46bb-4137-a3bf-ed08d59527a7"
      },
      "outputs": [
        {
          "output_type": "display_data",
          "data": {
            "text/plain": [
              "<Figure size 640x480 with 1 Axes>"
            ],
            "image/png": "[encoded data removed]"
          },
          "metadata": {}
        }
      ],
      "source": [
        "import matplotlib.pyplot as plt  ## frecuencia de las palabras conjunto de palabras usando los ngramas para refelejar contenido\n",
        "pd.DataFrame(X.sum(axis=0).T,\n",
        "            index=vectorizer.get_feature_names_out(),\n",
        "            columns=['freq']).sort_values(by='freq',\n",
        "                                          ascending=False)[:20].plot(kind='barh',title='N Gramas');"
      ]
    },
    {
      "cell_type": "markdown",
      "source": [
        "## conjuntos de palabras sin usar n-gramas no encontramos los terminos mas informativos que generan contenido"
      ],
      "metadata": {
        "id": "Ms5uHFvNPP6-"
      }
    },
    {
      "cell_type": "markdown",
      "metadata": {
        "id": "8rrAXKB757OU"
      },
      "source": [
        "## Stemming"
      ]
    },
    {
      "cell_type": "markdown",
      "source": [
        "##El stemming es una técnica de preprocesamiento de textos en el procesamiento del lenguaje natural (PLN) que consiste en reducir las palabras flexionadas a su raíz o lema"
      ],
      "metadata": {
        "id": "ppvp06OWRYDG"
      }
    },
    {
      "cell_type": "markdown",
      "source": [
        "construir dentro de la bolsa de palabras, recortar a la raiz de las palabras"
      ],
      "metadata": {
        "id": "2XEbNH-VSDKl"
      }
    },
    {
      "cell_type": "code",
      "execution_count": 42,
      "metadata": {
        "id": "z_sH6aTC57OW"
      },
      "outputs": [],
      "source": [
        "# Instanciamos SnowballStemmer() de NLTK en español\n",
        "from nltk.stem import SnowballStemmer\n",
        "stemmer = SnowballStemmer('spanish')"
      ]
    },
    {
      "cell_type": "code",
      "source": [
        "# Instanciamos SnowballStemmer() de NLTK en español\n",
        "from nltk.stem import SnowballStemmer\n",
        "stemmer1 = SnowballStemmer('english')"
      ],
      "metadata": {
        "id": "o-ULS9vxSnsW"
      },
      "execution_count": 73,
      "outputs": []
    },
    {
      "cell_type": "code",
      "source": [
        "# Aplicamos el stemming para cada palabra pasando el string al metodo .stem()\n",
        "ejemplo1 = \"Jane bought me these books.Jane bought a book for me.She dropped a line to him. Thank you.She sleeps.I sleep a lot.I was born in Madrid the cat was chased by the dog.I was born in Madrid during 1995.Out of all this , something good will come.Susan left afterthe rehearsal. She did it well.She sleeps during the morning, but she sleeps.\"\n",
        "[stemmer1.stem(i) for i in nltk.word_tokenize(ejemplo1)]"
      ],
      "metadata": {
        "colab": {
          "base_uri": "https://localhost:8080/"
        },
        "id": "z_ZBtP1HSPCq",
        "outputId": "20fdae24-dfb9-4f88-b7d1-59df91af4b38"
      },
      "execution_count": 75,
      "outputs": [
        {
          "output_type": "execute_result",
          "data": {
            "text/plain": [
              "['jane',\n",
              " 'bought',\n",
              " 'me',\n",
              " 'these',\n",
              " 'books.jan',\n",
              " 'bought',\n",
              " 'a',\n",
              " 'book',\n",
              " 'for',\n",
              " 'me.sh',\n",
              " 'drop',\n",
              " 'a',\n",
              " 'line',\n",
              " 'to',\n",
              " 'him',\n",
              " '.',\n",
              " 'thank',\n",
              " 'you.sh',\n",
              " 'sleeps.i',\n",
              " 'sleep',\n",
              " 'a',\n",
              " 'lot.i',\n",
              " 'was',\n",
              " 'born',\n",
              " 'in',\n",
              " 'madrid',\n",
              " 'the',\n",
              " 'cat',\n",
              " 'was',\n",
              " 'chase',\n",
              " 'by',\n",
              " 'the',\n",
              " 'dog.i',\n",
              " 'was',\n",
              " 'born',\n",
              " 'in',\n",
              " 'madrid',\n",
              " 'dure',\n",
              " '1995.out',\n",
              " 'of',\n",
              " 'all',\n",
              " 'this',\n",
              " ',',\n",
              " 'someth',\n",
              " 'good',\n",
              " 'will',\n",
              " 'come.susan',\n",
              " 'left',\n",
              " 'afterth',\n",
              " 'rehears',\n",
              " '.',\n",
              " 'she',\n",
              " 'did',\n",
              " 'it',\n",
              " 'well.sh',\n",
              " 'sleep',\n",
              " 'dure',\n",
              " 'the',\n",
              " 'morn',\n",
              " ',',\n",
              " 'but',\n",
              " 'she',\n",
              " 'sleep',\n",
              " '.']"
            ]
          },
          "metadata": {},
          "execution_count": 75
        }
      ]
    },
    {
      "cell_type": "code",
      "execution_count": 43,
      "metadata": {
        "colab": {
          "base_uri": "https://localhost:8080/"
        },
        "id": "dQl_KZ1G57Og",
        "outputId": "36a8e968-7a79-4363-a97e-02da856c1548"
      },
      "outputs": [
        {
          "output_type": "execute_result",
          "data": {
            "text/plain": [
              "['mir', 'mir', 'cod', 'hac', 'hach']"
            ]
          },
          "metadata": {},
          "execution_count": 43
        }
      ],
      "source": [
        "# Aplicamos el stemming para cada palabra pasando el string al metodo .stem()\n",
        "ejemplo = 'mirar miraré codear hacer hachas'\n",
        "[stemmer.stem(i) for i in nltk.word_tokenize(ejemplo)]"
      ]
    },
    {
      "cell_type": "markdown",
      "metadata": {
        "id": "aGWbyIf_Z0dW"
      },
      "source": [
        "¿Qué ventajas y desventajas piensan que conlleva el uso de *stemming*?"
      ]
    },
    {
      "cell_type": "markdown",
      "source": [
        "## estamos perdiendo informacion, el tiempo verbal de estas palabras es importante, afecta al algoritmo, tenemos una manera de normalizar las palabras , lemmatizacion"
      ],
      "metadata": {
        "id": "OrOVGFfdS78i"
      }
    },
    {
      "cell_type": "markdown",
      "source": [],
      "metadata": {
        "id": "VOqWjwsSSNEp"
      }
    },
    {
      "cell_type": "markdown",
      "metadata": {
        "id": "D0Rs6ABnxUcU"
      },
      "source": [
        "# SpaCy\n",
        "\n",
        "Mientras NLTK se centra en técnicas más bien tradicionales, [spaCy](https://spacy.io/) ofrece una API muy cómoda que integra modelos de aprendizaje automático que resuelven tareas típicas de lingüística computacional.\n"
      ]
    },
    {
      "cell_type": "code",
      "execution_count": 76,
      "metadata": {
        "id": "O0A1YNxlHq4O"
      },
      "outputs": [],
      "source": [
        "%%capture\n",
        "!python -m spacy download es_core_news_md  ## modelos de noticias en español de tamaño mediano\n",
        "import numpy as np\n",
        "import spacy\n",
        "from spacy import displacy"
      ]
    },
    {
      "cell_type": "code",
      "execution_count": 45,
      "metadata": {
        "id": "8w3z8ZugxUcV"
      },
      "outputs": [],
      "source": [
        "# Inicializamos Spacy con modelos en español\n",
        "nlp = spacy.load('es_core_news_md')"
      ]
    },
    {
      "cell_type": "code",
      "execution_count": 46,
      "metadata": {
        "id": "QF_uKXtf0enc"
      },
      "outputs": [],
      "source": [
        "ejemplo = 'El Doctor afirmó que actuando de maneras probabilísticas el cerebro aprende conceptos discretos. ¡Qué fenómeno misterioso!'"
      ]
    },
    {
      "cell_type": "code",
      "execution_count": 77,
      "metadata": {
        "colab": {
          "base_uri": "https://localhost:8080/"
        },
        "id": "KsuwNwjVxUcd",
        "outputId": "bd42a485-8d19-4a60-d37d-202bd89dc13f"
      },
      "outputs": [
        {
          "output_type": "execute_result",
          "data": {
            "text/plain": [
              "spacy.tokens.doc.Doc"
            ]
          },
          "metadata": {},
          "execution_count": 77
        }
      ],
      "source": [
        "# Instanciamos un Doc de spacy con nuestro texto\n",
        "doc = nlp(ejemplo)  ## objeto nlp spacy\n",
        "type(doc)"
      ]
    },
    {
      "cell_type": "code",
      "source": [
        "doc## tokeniza por si mismo"
      ],
      "metadata": {
        "colab": {
          "base_uri": "https://localhost:8080/"
        },
        "id": "5u9H5jwUTm5z",
        "outputId": "d938eb90-227d-46e7-ed6f-035ca6811194"
      },
      "execution_count": 98,
      "outputs": [
        {
          "output_type": "execute_result",
          "data": {
            "text/plain": [
              "El Doctor afirmó que actuando de maneras probabilísticas el cerebro aprende conceptos discretos. ¡Qué fenómeno misterioso!"
            ]
          },
          "metadata": {},
          "execution_count": 98
        }
      ]
    },
    {
      "cell_type": "code",
      "source": [
        "doc[2] ## tokenizo las palabras"
      ],
      "metadata": {
        "colab": {
          "base_uri": "https://localhost:8080/"
        },
        "id": "6x8t-odvTpEO",
        "outputId": "b3722936-9dbf-4fda-99e4-f8f9dd8cea69"
      },
      "execution_count": 80,
      "outputs": [
        {
          "output_type": "execute_result",
          "data": {
            "text/plain": [
              "afirmó"
            ]
          },
          "metadata": {},
          "execution_count": 80
        }
      ]
    },
    {
      "cell_type": "code",
      "execution_count": 82,
      "metadata": {
        "colab": {
          "base_uri": "https://localhost:8080/"
        },
        "id": "Hg8kunNYxUcy",
        "outputId": "aed539a7-fce2-41e7-e4e3-d7f80b8a6bac"
      },
      "outputs": [
        {
          "output_type": "stream",
          "name": "stdout",
          "text": [
            "El\n",
            "Doctor\n",
            "afirmó\n",
            "que\n",
            "actuando\n",
            "de\n",
            "maneras\n",
            "probabilísticas\n",
            "el\n",
            "cerebro\n",
            "aprende\n",
            "conceptos\n",
            "discretos\n",
            ".\n",
            "¡\n",
            "Qué\n",
            "fenómeno\n",
            "misterioso\n",
            "!\n"
          ]
        }
      ],
      "source": [
        "for word in doc:\n",
        "    print(word.text) ## iteramos el objeto y nos va dando cada texto, objeto de spacy word."
      ]
    },
    {
      "cell_type": "code",
      "execution_count": 99,
      "metadata": {
        "colab": {
          "base_uri": "https://localhost:8080/"
        },
        "id": "2QZNMBF_xUci",
        "outputId": "2f2baa06-fcaf-4636-acda-4ecb2fecadfb"
      },
      "outputs": [
        {
          "output_type": "execute_result",
          "data": {
            "text/plain": [
              "de"
            ]
          },
          "metadata": {},
          "execution_count": 99
        }
      ],
      "source": [
        "doc[5]"
      ]
    },
    {
      "cell_type": "markdown",
      "metadata": {
        "id": "k70BkVqxxUd3"
      },
      "source": [
        "## Lemmatización\n",
        "\n",
        "El *stemming* vemos que es un enfoque bastante bruto para normalizar, desechando parte de la información de la palabra. Podemos tener un problema de polisemia, con una raíz refiriendo a palabras muy distintas. La solución a esto es la **lematización**, que busca llevar a una palabra a su forma canónica o esencial."
      ]
    },
    {
      "cell_type": "markdown",
      "source": [
        "# **Es decir que las palabras polisémicas son aquellas que tienen más de un significado. En el ejemplo anterior, \"carta\" significa papel escrito que una persona envía a otra para comunicarse y también quiere decir la lista de platos y bebidas que se pueden elegir en un restaurante**"
      ],
      "metadata": {
        "id": "vcWKmvc7fxsR"
      }
    },
    {
      "cell_type": "markdown",
      "source": [
        "##si aplicamos la lemmatizacion borramos el ruido reducir las columnas al minimo para el algoritmo"
      ],
      "metadata": {
        "id": "ttQbJidLnoXV"
      }
    },
    {
      "cell_type": "markdown",
      "source": [
        "###es preferible la lemmatizacion frecuencia por terminos haciendo las normalizaciones"
      ],
      "metadata": {
        "id": "hveWam27WVTA"
      }
    },
    {
      "cell_type": "code",
      "execution_count": 83,
      "metadata": {
        "colab": {
          "base_uri": "https://localhost:8080/"
        },
        "id": "nOl_sc8VxUd4",
        "outputId": "dc1bbbc9-22bb-4263-8e64-c4bbd990aae9"
      },
      "outputs": [
        {
          "output_type": "stream",
          "name": "stdout",
          "text": [
            "el\n",
            "Doctor\n",
            "afirmar\n",
            "que\n",
            "actuar\n",
            "de\n",
            "manera\n",
            "probabilística\n",
            "el\n",
            "cerebro\n",
            "aprender\n",
            "concepto\n",
            "discreto\n",
            ".\n",
            "¡\n",
            "qué\n",
            "fenómeno\n",
            "misterioso\n",
            "!\n"
          ]
        }
      ],
      "source": [
        "for word in doc:\n",
        "    print(word.lemma_)  ## llevar cada palabra a su forma original sin conjugacion accedemos al atributo .lemma"
      ]
    },
    {
      "cell_type": "code",
      "source": [
        "word."
      ],
      "metadata": {
        "colab": {
          "base_uri": "https://localhost:8080/",
          "height": 35
        },
        "id": "8UM5IVk9fVEb",
        "outputId": "d2253206-e7de-42b6-f7ee-48fd4e9708b6"
      },
      "execution_count": 101,
      "outputs": [
        {
          "output_type": "execute_result",
          "data": {
            "text/plain": [
              "'!'"
            ],
            "application/vnd.google.colaboratory.intrinsic+json": {
              "type": "string"
            }
          },
          "metadata": {},
          "execution_count": 101
        }
      ]
    },
    {
      "cell_type": "markdown",
      "source": [
        "## observamos los cambios de las palabras afirmo- afirmar, actuando-actuar, manera-maneras, probabilisticas-probabilistica, concepto-conceptos, discretos-discreto, Doctor no lo cambio a minuscula"
      ],
      "metadata": {
        "id": "iON3Yu76UJsV"
      }
    },
    {
      "cell_type": "code",
      "source": [
        "for word in doc:  # Asumiendo que 'words' es una lista de objetos 'word'\n",
        "    print(word.text, word.lemma)"
      ],
      "metadata": {
        "colab": {
          "base_uri": "https://localhost:8080/"
        },
        "id": "7WzAI-iIViYS",
        "outputId": "fda0abfa-98f4-4a06-e54d-7e59469d6ab0"
      },
      "execution_count": 97,
      "outputs": [
        {
          "output_type": "stream",
          "name": "stdout",
          "text": [
            "El 11488171005156075516\n",
            "Doctor 5516728874780999063\n",
            "afirmó 1815597472243515746\n",
            "que 11474801393294414462\n",
            "actuando 5460998838003484928\n",
            "de 11144093025662894627\n",
            "maneras 498987833452431579\n",
            "probabilísticas 14609753298320265066\n",
            "el 11488171005156075516\n",
            "cerebro 15177324354612517497\n",
            "aprende 5119772408535974645\n",
            "conceptos 17486625023035285430\n",
            "discretos 12509690925715513048\n",
            ". 12646065887601541794\n",
            "¡ 2520741703198981157\n",
            "Qué 2438889091638947136\n",
            "fenómeno 2623919855711220242\n",
            "misterioso 17711745696740136068\n",
            "! 17494803046312582752\n"
          ]
        }
      ]
    },
    {
      "cell_type": "markdown",
      "source": [
        "## valor hash o embeddings"
      ],
      "metadata": {
        "id": "Gvlwb9NqV26g"
      }
    },
    {
      "cell_type": "markdown",
      "metadata": {
        "id": "Q-7wpmQBOePm"
      },
      "source": [
        "## Limitaciones de la Bolsa de Palabras\n",
        "\n",
        "Utilizando las técnicas que vimos (normalización, n-gramas, stop words) podemos mejorar significativamente el rendimiento de algoritmos de Aprendizaje Automático que se basan en bolsa de palabras.\n",
        "\n",
        "Sin embargo, si entrenamos un clasificador usando esta matriz, lo que hará es encontrar relaciones estadísticas entre la ocurrencia de cierto token con su categoría (en el caso supervisado). ¿Qué problemas se te puede que puede tener?\n",
        "\n",
        "- Contexto\n",
        "- Orden\n",
        "- Dimensionalidad (variaciones en las palabras, n gramas)\n",
        "\n",
        "\n",
        "En las próximas clases veremos cómo las redes neuronales abordan estos obstáculos."
      ]
    },
    {
      "cell_type": "markdown",
      "source": [
        "# **se puede perder la ironia, la polisemia , alli aparece las redes neuronales artificiales profundas**"
      ],
      "metadata": {
        "id": "JSVvtqT4gGwE"
      }
    },
    {
      "cell_type": "markdown",
      "metadata": {
        "id": "0ML6niFYOfer"
      },
      "source": [
        "# Tareas de NLP\n",
        "\n",
        "SpaCy integra en su API de una manera elegante atributos y métodos generados por modelos de Aprendizaje Automático."
      ]
    },
    {
      "cell_type": "markdown",
      "metadata": {
        "id": "xMeVpNzTxUc4"
      },
      "source": [
        "## Segmentación de oraciones"
      ]
    },
    {
      "cell_type": "code",
      "execution_count": 103,
      "metadata": {
        "colab": {
          "base_uri": "https://localhost:8080/"
        },
        "id": "eYasvkfvxUc7",
        "outputId": "06d22dd6-f3f6-4cfe-e77f-97142f7d7dc6"
      },
      "outputs": [
        {
          "output_type": "execute_result",
          "data": {
            "text/plain": [
              "[El Doctor afirmó que actuando de maneras probabilísticas el cerebro aprende conceptos discretos.,\n",
              " ¡Qué fenómeno misterioso!]"
            ]
          },
          "metadata": {},
          "execution_count": 103
        }
      ],
      "source": [
        "list(doc.sents)  ## segmentacion de oraciones"
      ]
    },
    {
      "cell_type": "markdown",
      "metadata": {
        "id": "lyWeO8cNxUdD"
      },
      "source": [
        "## Part-Of-Speech Tags\n",
        "\n",
        "Podemos estimar la función gramatical de cada palabra, accediendo directamente al atributo `.pos_` de cada token:\n"
      ]
    },
    {
      "cell_type": "code",
      "execution_count": 105,
      "metadata": {
        "colab": {
          "base_uri": "https://localhost:8080/"
        },
        "id": "dMQkMahvxUdF",
        "outputId": "344f4517-eeca-46af-9525-30c2cfabcb80"
      },
      "outputs": [
        {
          "output_type": "stream",
          "name": "stdout",
          "text": [
            "El DET\n",
            "Doctor PROPN\n",
            "afirmó VERB\n",
            "que SCONJ\n",
            "actuando VERB\n",
            "de ADP\n",
            "maneras NOUN\n",
            "probabilísticas ADJ\n",
            "el DET\n",
            "cerebro NOUN\n",
            "aprende VERB\n",
            "conceptos NOUN\n",
            "discretos ADJ\n",
            ". PUNCT\n",
            "¡ PUNCT\n",
            "Qué DET\n",
            "fenómeno NOUN\n",
            "misterioso ADJ\n",
            "! PUNCT\n"
          ]
        }
      ],
      "source": [
        "for word in doc:\n",
        "    print(word.text, word.pos_) ##.pos etiqueta parte del discurso esta cumpliendo la palabra atributo .pos parte del discurso esta cumpliendo la palabra"
      ]
    },
    {
      "cell_type": "markdown",
      "source": [
        "### **queremos medir el nivel de agresion de los verbos de las oraciones, caracteristicas de los verbos, identificar el verbo y continuar en nuestro sistema, **"
      ],
      "metadata": {
        "id": "xpDkIHnXgmNg"
      }
    },
    {
      "cell_type": "markdown",
      "metadata": {
        "id": "iU-3XumnxUdQ"
      },
      "source": [
        "## Dependency parsing\n",
        "\n",
        "¡También contamos con información sobre la co-referencia o dependencia sintáctica entre términos!"
      ]
    },
    {
      "cell_type": "markdown",
      "source": [
        "PARSEO, QUE RELACIONES TENEMOS ENTRE LAS PALABRAS identificacion de dependencias entre las palabras"
      ],
      "metadata": {
        "id": "X9yMAWDMgzN3"
      }
    },
    {
      "cell_type": "code",
      "execution_count": 53,
      "metadata": {
        "colab": {
          "base_uri": "https://localhost:8080/",
          "height": 616
        },
        "id": "6n5rWDQSxUdV",
        "outputId": "b3f52dbe-d8e8-4651-8d85-12de19d7f0b9"
      },
      "outputs": [
        {
          "output_type": "display_data",
          "data": {
            "text/plain": [
              "<IPython.core.display.HTML object>"
            ],
            "text/html": [
              "<span class=\"tex2jax_ignore\"><svg xmlns=\"http://www.w3.org/2000/svg\" xmlns:xlink=\"http://www.w3.org/1999/xlink\" xml:lang=\"es\" id=\"c1abc7a1bb744ba082f4bfafba5c3db9-0\" class=\"displacy\" width=\"2850\" height=\"574.5\" direction=\"ltr\" style=\"max-width: none; height: 574.5px; color: #000000; background: #ffffff; font-family: Arial; direction: ltr\">\n",
              "<text class=\"displacy-token\" fill=\"currentColor\" text-anchor=\"middle\" y=\"484.5\">\n",
              "    <tspan class=\"displacy-word\" fill=\"currentColor\" x=\"50\">El</tspan>\n",
              "    <tspan class=\"displacy-tag\" dy=\"2em\" fill=\"currentColor\" x=\"50\">DET</tspan>\n",
              "</text>\n",
              "\n",
              "<text class=\"displacy-token\" fill=\"currentColor\" text-anchor=\"middle\" y=\"484.5\">\n",
              "    <tspan class=\"displacy-word\" fill=\"currentColor\" x=\"225\">Doctor</tspan>\n",
              "    <tspan class=\"displacy-tag\" dy=\"2em\" fill=\"currentColor\" x=\"225\">PROPN</tspan>\n",
              "</text>\n",
              "\n",
              "<text class=\"displacy-token\" fill=\"currentColor\" text-anchor=\"middle\" y=\"484.5\">\n",
              "    <tspan class=\"displacy-word\" fill=\"currentColor\" x=\"400\">afirmó</tspan>\n",
              "    <tspan class=\"displacy-tag\" dy=\"2em\" fill=\"currentColor\" x=\"400\">VERB</tspan>\n",
              "</text>\n",
              "\n",
              "<text class=\"displacy-token\" fill=\"currentColor\" text-anchor=\"middle\" y=\"484.5\">\n",
              "    <tspan class=\"displacy-word\" fill=\"currentColor\" x=\"575\">que</tspan>\n",
              "    <tspan class=\"displacy-tag\" dy=\"2em\" fill=\"currentColor\" x=\"575\">SCONJ</tspan>\n",
              "</text>\n",
              "\n",
              "<text class=\"displacy-token\" fill=\"currentColor\" text-anchor=\"middle\" y=\"484.5\">\n",
              "    <tspan class=\"displacy-word\" fill=\"currentColor\" x=\"750\">actuando</tspan>\n",
              "    <tspan class=\"displacy-tag\" dy=\"2em\" fill=\"currentColor\" x=\"750\">VERB</tspan>\n",
              "</text>\n",
              "\n",
              "<text class=\"displacy-token\" fill=\"currentColor\" text-anchor=\"middle\" y=\"484.5\">\n",
              "    <tspan class=\"displacy-word\" fill=\"currentColor\" x=\"925\">de</tspan>\n",
              "    <tspan class=\"displacy-tag\" dy=\"2em\" fill=\"currentColor\" x=\"925\">ADP</tspan>\n",
              "</text>\n",
              "\n",
              "<text class=\"displacy-token\" fill=\"currentColor\" text-anchor=\"middle\" y=\"484.5\">\n",
              "    <tspan class=\"displacy-word\" fill=\"currentColor\" x=\"1100\">maneras</tspan>\n",
              "    <tspan class=\"displacy-tag\" dy=\"2em\" fill=\"currentColor\" x=\"1100\">NOUN</tspan>\n",
              "</text>\n",
              "\n",
              "<text class=\"displacy-token\" fill=\"currentColor\" text-anchor=\"middle\" y=\"484.5\">\n",
              "    <tspan class=\"displacy-word\" fill=\"currentColor\" x=\"1275\">probabilísticas</tspan>\n",
              "    <tspan class=\"displacy-tag\" dy=\"2em\" fill=\"currentColor\" x=\"1275\">ADJ</tspan>\n",
              "</text>\n",
              "\n",
              "<text class=\"displacy-token\" fill=\"currentColor\" text-anchor=\"middle\" y=\"484.5\">\n",
              "    <tspan class=\"displacy-word\" fill=\"currentColor\" x=\"1450\">el</tspan>\n",
              "    <tspan class=\"displacy-tag\" dy=\"2em\" fill=\"currentColor\" x=\"1450\">DET</tspan>\n",
              "</text>\n",
              "\n",
              "<text class=\"displacy-token\" fill=\"currentColor\" text-anchor=\"middle\" y=\"484.5\">\n",
              "    <tspan class=\"displacy-word\" fill=\"currentColor\" x=\"1625\">cerebro</tspan>\n",
              "    <tspan class=\"displacy-tag\" dy=\"2em\" fill=\"currentColor\" x=\"1625\">NOUN</tspan>\n",
              "</text>\n",
              "\n",
              "<text class=\"displacy-token\" fill=\"currentColor\" text-anchor=\"middle\" y=\"484.5\">\n",
              "    <tspan class=\"displacy-word\" fill=\"currentColor\" x=\"1800\">aprende</tspan>\n",
              "    <tspan class=\"displacy-tag\" dy=\"2em\" fill=\"currentColor\" x=\"1800\">VERB</tspan>\n",
              "</text>\n",
              "\n",
              "<text class=\"displacy-token\" fill=\"currentColor\" text-anchor=\"middle\" y=\"484.5\">\n",
              "    <tspan class=\"displacy-word\" fill=\"currentColor\" x=\"1975\">conceptos</tspan>\n",
              "    <tspan class=\"displacy-tag\" dy=\"2em\" fill=\"currentColor\" x=\"1975\">NOUN</tspan>\n",
              "</text>\n",
              "\n",
              "<text class=\"displacy-token\" fill=\"currentColor\" text-anchor=\"middle\" y=\"484.5\">\n",
              "    <tspan class=\"displacy-word\" fill=\"currentColor\" x=\"2150\">discretos. ¡</tspan>\n",
              "    <tspan class=\"displacy-tag\" dy=\"2em\" fill=\"currentColor\" x=\"2150\">ADJ</tspan>\n",
              "</text>\n",
              "\n",
              "<text class=\"displacy-token\" fill=\"currentColor\" text-anchor=\"middle\" y=\"484.5\">\n",
              "    <tspan class=\"displacy-word\" fill=\"currentColor\" x=\"2325\">Qué</tspan>\n",
              "    <tspan class=\"displacy-tag\" dy=\"2em\" fill=\"currentColor\" x=\"2325\">DET</tspan>\n",
              "</text>\n",
              "\n",
              "<text class=\"displacy-token\" fill=\"currentColor\" text-anchor=\"middle\" y=\"484.5\">\n",
              "    <tspan class=\"displacy-word\" fill=\"currentColor\" x=\"2500\">fenómeno</tspan>\n",
              "    <tspan class=\"displacy-tag\" dy=\"2em\" fill=\"currentColor\" x=\"2500\">NOUN</tspan>\n",
              "</text>\n",
              "\n",
              "<text class=\"displacy-token\" fill=\"currentColor\" text-anchor=\"middle\" y=\"484.5\">\n",
              "    <tspan class=\"displacy-word\" fill=\"currentColor\" x=\"2675\">misterioso!</tspan>\n",
              "    <tspan class=\"displacy-tag\" dy=\"2em\" fill=\"currentColor\" x=\"2675\">ADJ</tspan>\n",
              "</text>\n",
              "\n",
              "<g class=\"displacy-arrow\">\n",
              "    <path class=\"displacy-arc\" id=\"arrow-c1abc7a1bb744ba082f4bfafba5c3db9-0-0\" stroke-width=\"2px\" d=\"M70,439.5 C70,352.0 205.0,352.0 205.0,439.5\" fill=\"none\" stroke=\"currentColor\"/>\n",
              "    <text dy=\"1.25em\" style=\"font-size: 0.8em; letter-spacing: 1px\">\n",
              "        <textPath xlink:href=\"#arrow-c1abc7a1bb744ba082f4bfafba5c3db9-0-0\" class=\"displacy-label\" startOffset=\"50%\" side=\"left\" fill=\"currentColor\" text-anchor=\"middle\">det</textPath>\n",
              "    </text>\n",
              "    <path class=\"displacy-arrowhead\" d=\"M70,441.5 L62,429.5 78,429.5\" fill=\"currentColor\"/>\n",
              "</g>\n",
              "\n",
              "<g class=\"displacy-arrow\">\n",
              "    <path class=\"displacy-arc\" id=\"arrow-c1abc7a1bb744ba082f4bfafba5c3db9-0-1\" stroke-width=\"2px\" d=\"M245,439.5 C245,352.0 380.0,352.0 380.0,439.5\" fill=\"none\" stroke=\"currentColor\"/>\n",
              "    <text dy=\"1.25em\" style=\"font-size: 0.8em; letter-spacing: 1px\">\n",
              "        <textPath xlink:href=\"#arrow-c1abc7a1bb744ba082f4bfafba5c3db9-0-1\" class=\"displacy-label\" startOffset=\"50%\" side=\"left\" fill=\"currentColor\" text-anchor=\"middle\">nsubj</textPath>\n",
              "    </text>\n",
              "    <path class=\"displacy-arrowhead\" d=\"M245,441.5 L237,429.5 253,429.5\" fill=\"currentColor\"/>\n",
              "</g>\n",
              "\n",
              "<g class=\"displacy-arrow\">\n",
              "    <path class=\"displacy-arc\" id=\"arrow-c1abc7a1bb744ba082f4bfafba5c3db9-0-2\" stroke-width=\"2px\" d=\"M595,439.5 C595,89.5 1795.0,89.5 1795.0,439.5\" fill=\"none\" stroke=\"currentColor\"/>\n",
              "    <text dy=\"1.25em\" style=\"font-size: 0.8em; letter-spacing: 1px\">\n",
              "        <textPath xlink:href=\"#arrow-c1abc7a1bb744ba082f4bfafba5c3db9-0-2\" class=\"displacy-label\" startOffset=\"50%\" side=\"left\" fill=\"currentColor\" text-anchor=\"middle\">mark</textPath>\n",
              "    </text>\n",
              "    <path class=\"displacy-arrowhead\" d=\"M595,441.5 L587,429.5 603,429.5\" fill=\"currentColor\"/>\n",
              "</g>\n",
              "\n",
              "<g class=\"displacy-arrow\">\n",
              "    <path class=\"displacy-arc\" id=\"arrow-c1abc7a1bb744ba082f4bfafba5c3db9-0-3\" stroke-width=\"2px\" d=\"M770,439.5 C770,177.0 1790.0,177.0 1790.0,439.5\" fill=\"none\" stroke=\"currentColor\"/>\n",
              "    <text dy=\"1.25em\" style=\"font-size: 0.8em; letter-spacing: 1px\">\n",
              "        <textPath xlink:href=\"#arrow-c1abc7a1bb744ba082f4bfafba5c3db9-0-3\" class=\"displacy-label\" startOffset=\"50%\" side=\"left\" fill=\"currentColor\" text-anchor=\"middle\">advcl</textPath>\n",
              "    </text>\n",
              "    <path class=\"displacy-arrowhead\" d=\"M770,441.5 L762,429.5 778,429.5\" fill=\"currentColor\"/>\n",
              "</g>\n",
              "\n",
              "<g class=\"displacy-arrow\">\n",
              "    <path class=\"displacy-arc\" id=\"arrow-c1abc7a1bb744ba082f4bfafba5c3db9-0-4\" stroke-width=\"2px\" d=\"M945,439.5 C945,352.0 1080.0,352.0 1080.0,439.5\" fill=\"none\" stroke=\"currentColor\"/>\n",
              "    <text dy=\"1.25em\" style=\"font-size: 0.8em; letter-spacing: 1px\">\n",
              "        <textPath xlink:href=\"#arrow-c1abc7a1bb744ba082f4bfafba5c3db9-0-4\" class=\"displacy-label\" startOffset=\"50%\" side=\"left\" fill=\"currentColor\" text-anchor=\"middle\">case</textPath>\n",
              "    </text>\n",
              "    <path class=\"displacy-arrowhead\" d=\"M945,441.5 L937,429.5 953,429.5\" fill=\"currentColor\"/>\n",
              "</g>\n",
              "\n",
              "<g class=\"displacy-arrow\">\n",
              "    <path class=\"displacy-arc\" id=\"arrow-c1abc7a1bb744ba082f4bfafba5c3db9-0-5\" stroke-width=\"2px\" d=\"M770,439.5 C770,264.5 1085.0,264.5 1085.0,439.5\" fill=\"none\" stroke=\"currentColor\"/>\n",
              "    <text dy=\"1.25em\" style=\"font-size: 0.8em; letter-spacing: 1px\">\n",
              "        <textPath xlink:href=\"#arrow-c1abc7a1bb744ba082f4bfafba5c3db9-0-5\" class=\"displacy-label\" startOffset=\"50%\" side=\"left\" fill=\"currentColor\" text-anchor=\"middle\">obl</textPath>\n",
              "    </text>\n",
              "    <path class=\"displacy-arrowhead\" d=\"M1085.0,441.5 L1093.0,429.5 1077.0,429.5\" fill=\"currentColor\"/>\n",
              "</g>\n",
              "\n",
              "<g class=\"displacy-arrow\">\n",
              "    <path class=\"displacy-arc\" id=\"arrow-c1abc7a1bb744ba082f4bfafba5c3db9-0-6\" stroke-width=\"2px\" d=\"M1120,439.5 C1120,352.0 1255.0,352.0 1255.0,439.5\" fill=\"none\" stroke=\"currentColor\"/>\n",
              "    <text dy=\"1.25em\" style=\"font-size: 0.8em; letter-spacing: 1px\">\n",
              "        <textPath xlink:href=\"#arrow-c1abc7a1bb744ba082f4bfafba5c3db9-0-6\" class=\"displacy-label\" startOffset=\"50%\" side=\"left\" fill=\"currentColor\" text-anchor=\"middle\">amod</textPath>\n",
              "    </text>\n",
              "    <path class=\"displacy-arrowhead\" d=\"M1255.0,441.5 L1263.0,429.5 1247.0,429.5\" fill=\"currentColor\"/>\n",
              "</g>\n",
              "\n",
              "<g class=\"displacy-arrow\">\n",
              "    <path class=\"displacy-arc\" id=\"arrow-c1abc7a1bb744ba082f4bfafba5c3db9-0-7\" stroke-width=\"2px\" d=\"M1470,439.5 C1470,352.0 1605.0,352.0 1605.0,439.5\" fill=\"none\" stroke=\"currentColor\"/>\n",
              "    <text dy=\"1.25em\" style=\"font-size: 0.8em; letter-spacing: 1px\">\n",
              "        <textPath xlink:href=\"#arrow-c1abc7a1bb744ba082f4bfafba5c3db9-0-7\" class=\"displacy-label\" startOffset=\"50%\" side=\"left\" fill=\"currentColor\" text-anchor=\"middle\">det</textPath>\n",
              "    </text>\n",
              "    <path class=\"displacy-arrowhead\" d=\"M1470,441.5 L1462,429.5 1478,429.5\" fill=\"currentColor\"/>\n",
              "</g>\n",
              "\n",
              "<g class=\"displacy-arrow\">\n",
              "    <path class=\"displacy-arc\" id=\"arrow-c1abc7a1bb744ba082f4bfafba5c3db9-0-8\" stroke-width=\"2px\" d=\"M1645,439.5 C1645,352.0 1780.0,352.0 1780.0,439.5\" fill=\"none\" stroke=\"currentColor\"/>\n",
              "    <text dy=\"1.25em\" style=\"font-size: 0.8em; letter-spacing: 1px\">\n",
              "        <textPath xlink:href=\"#arrow-c1abc7a1bb744ba082f4bfafba5c3db9-0-8\" class=\"displacy-label\" startOffset=\"50%\" side=\"left\" fill=\"currentColor\" text-anchor=\"middle\">nsubj</textPath>\n",
              "    </text>\n",
              "    <path class=\"displacy-arrowhead\" d=\"M1645,441.5 L1637,429.5 1653,429.5\" fill=\"currentColor\"/>\n",
              "</g>\n",
              "\n",
              "<g class=\"displacy-arrow\">\n",
              "    <path class=\"displacy-arc\" id=\"arrow-c1abc7a1bb744ba082f4bfafba5c3db9-0-9\" stroke-width=\"2px\" d=\"M420,439.5 C420,2.0 1800.0,2.0 1800.0,439.5\" fill=\"none\" stroke=\"currentColor\"/>\n",
              "    <text dy=\"1.25em\" style=\"font-size: 0.8em; letter-spacing: 1px\">\n",
              "        <textPath xlink:href=\"#arrow-c1abc7a1bb744ba082f4bfafba5c3db9-0-9\" class=\"displacy-label\" startOffset=\"50%\" side=\"left\" fill=\"currentColor\" text-anchor=\"middle\">ccomp</textPath>\n",
              "    </text>\n",
              "    <path class=\"displacy-arrowhead\" d=\"M1800.0,441.5 L1808.0,429.5 1792.0,429.5\" fill=\"currentColor\"/>\n",
              "</g>\n",
              "\n",
              "<g class=\"displacy-arrow\">\n",
              "    <path class=\"displacy-arc\" id=\"arrow-c1abc7a1bb744ba082f4bfafba5c3db9-0-10\" stroke-width=\"2px\" d=\"M1820,439.5 C1820,352.0 1955.0,352.0 1955.0,439.5\" fill=\"none\" stroke=\"currentColor\"/>\n",
              "    <text dy=\"1.25em\" style=\"font-size: 0.8em; letter-spacing: 1px\">\n",
              "        <textPath xlink:href=\"#arrow-c1abc7a1bb744ba082f4bfafba5c3db9-0-10\" class=\"displacy-label\" startOffset=\"50%\" side=\"left\" fill=\"currentColor\" text-anchor=\"middle\">obj</textPath>\n",
              "    </text>\n",
              "    <path class=\"displacy-arrowhead\" d=\"M1955.0,441.5 L1963.0,429.5 1947.0,429.5\" fill=\"currentColor\"/>\n",
              "</g>\n",
              "\n",
              "<g class=\"displacy-arrow\">\n",
              "    <path class=\"displacy-arc\" id=\"arrow-c1abc7a1bb744ba082f4bfafba5c3db9-0-11\" stroke-width=\"2px\" d=\"M1995,439.5 C1995,352.0 2130.0,352.0 2130.0,439.5\" fill=\"none\" stroke=\"currentColor\"/>\n",
              "    <text dy=\"1.25em\" style=\"font-size: 0.8em; letter-spacing: 1px\">\n",
              "        <textPath xlink:href=\"#arrow-c1abc7a1bb744ba082f4bfafba5c3db9-0-11\" class=\"displacy-label\" startOffset=\"50%\" side=\"left\" fill=\"currentColor\" text-anchor=\"middle\">amod</textPath>\n",
              "    </text>\n",
              "    <path class=\"displacy-arrowhead\" d=\"M2130.0,441.5 L2138.0,429.5 2122.0,429.5\" fill=\"currentColor\"/>\n",
              "</g>\n",
              "\n",
              "<g class=\"displacy-arrow\">\n",
              "    <path class=\"displacy-arc\" id=\"arrow-c1abc7a1bb744ba082f4bfafba5c3db9-0-12\" stroke-width=\"2px\" d=\"M2345,439.5 C2345,352.0 2480.0,352.0 2480.0,439.5\" fill=\"none\" stroke=\"currentColor\"/>\n",
              "    <text dy=\"1.25em\" style=\"font-size: 0.8em; letter-spacing: 1px\">\n",
              "        <textPath xlink:href=\"#arrow-c1abc7a1bb744ba082f4bfafba5c3db9-0-12\" class=\"displacy-label\" startOffset=\"50%\" side=\"left\" fill=\"currentColor\" text-anchor=\"middle\">det</textPath>\n",
              "    </text>\n",
              "    <path class=\"displacy-arrowhead\" d=\"M2345,441.5 L2337,429.5 2353,429.5\" fill=\"currentColor\"/>\n",
              "</g>\n",
              "\n",
              "<g class=\"displacy-arrow\">\n",
              "    <path class=\"displacy-arc\" id=\"arrow-c1abc7a1bb744ba082f4bfafba5c3db9-0-13\" stroke-width=\"2px\" d=\"M2520,439.5 C2520,352.0 2655.0,352.0 2655.0,439.5\" fill=\"none\" stroke=\"currentColor\"/>\n",
              "    <text dy=\"1.25em\" style=\"font-size: 0.8em; letter-spacing: 1px\">\n",
              "        <textPath xlink:href=\"#arrow-c1abc7a1bb744ba082f4bfafba5c3db9-0-13\" class=\"displacy-label\" startOffset=\"50%\" side=\"left\" fill=\"currentColor\" text-anchor=\"middle\">amod</textPath>\n",
              "    </text>\n",
              "    <path class=\"displacy-arrowhead\" d=\"M2655.0,441.5 L2663.0,429.5 2647.0,429.5\" fill=\"currentColor\"/>\n",
              "</g>\n",
              "</svg></span>"
            ]
          },
          "metadata": {}
        }
      ],
      "source": [
        "displacy.render(doc, style='dep', jupyter=True)"
      ]
    },
    {
      "cell_type": "markdown",
      "source": [
        "que relaciones tenemos entre las palabras, ver el sentimiento con cada persona, social cuando aparece la persona y las palabras que refieren a esa entidad que sentimiento tienen"
      ],
      "metadata": {
        "id": "1LAHWulSqfoW"
      }
    },
    {
      "cell_type": "markdown",
      "metadata": {
        "id": "PhSznS5QxUdg"
      },
      "source": [
        "## Reconocimiento de Entidades\n",
        "\n",
        "Podemos encontrar las personas (más general, \"entes\") que se mencionan en los textos:"
      ]
    },
    {
      "cell_type": "markdown",
      "source": [
        "## entidades organizaciones, personas"
      ],
      "metadata": {
        "id": "8ZXgK0dSqtJ4"
      }
    },
    {
      "cell_type": "code",
      "execution_count": 54,
      "metadata": {
        "colab": {
          "base_uri": "https://localhost:8080/"
        },
        "id": "vWzeZ-DVxUdk",
        "outputId": "9660637f-58df-4add-8e51-2aab0768b518"
      },
      "outputs": [
        {
          "output_type": "execute_result",
          "data": {
            "text/plain": [
              "()"
            ]
          },
          "metadata": {},
          "execution_count": 54
        }
      ],
      "source": [
        "doc.ents"
      ]
    },
    {
      "cell_type": "code",
      "execution_count": 55,
      "metadata": {
        "colab": {
          "base_uri": "https://localhost:8080/",
          "height": 107
        },
        "id": "IbrftXE0xUdw",
        "outputId": "a81daf62-d0b0-4995-90f5-dc575dd582d4"
      },
      "outputs": [
        {
          "output_type": "stream",
          "name": "stderr",
          "text": [
            "/usr/local/lib/python3.10/dist-packages/spacy/displacy/__init__.py:213: UserWarning: [W006] No entities to visualize found in Doc object. If this is surprising to you, make sure the Doc was processed using a model that supports named entity recognition, and check the `doc.ents` property manually if necessary.\n",
            "  warnings.warn(Warnings.W006)\n"
          ]
        },
        {
          "output_type": "display_data",
          "data": {
            "text/plain": [
              "<IPython.core.display.HTML object>"
            ],
            "text/html": [
              "<span class=\"tex2jax_ignore\"><div class=\"entities\" style=\"line-height: 2.5; direction: ltr\">El Doctor afirmó que actuando de maneras probabilísticas el cerebro aprende conceptos discretos. ¡Qué fenómeno misterioso!</div></span>"
            ]
          },
          "metadata": {}
        }
      ],
      "source": [
        "displacy.render(doc, style='ent', jupyter=True);"
      ]
    },
    {
      "cell_type": "markdown",
      "metadata": {
        "id": "WURAKPdPxUeC"
      },
      "source": [
        "## Vectores de Palabras\n",
        "\n",
        "Podemos acceder a los vectores con `.vector`. ¡Veremos en detalle este tema en las próximas clases!"
      ]
    },
    {
      "cell_type": "markdown",
      "source": [
        "## vectores de palabras reflejan el significado de las palabras , vector con las frecuencias normalizadas de cada palabra, en nuestra matriz tf-idf , un documento por fila una palabra en columna, reducuimos la dimensionalidad del vector nos dan significado documentos y palabras, podemos calcular la similitud semantica de cada palabra"
      ],
      "metadata": {
        "id": "9iEgLZbuq3rq"
      }
    },
    {
      "cell_type": "code",
      "execution_count": 56,
      "metadata": {
        "id": "UZoIw0m_xUeZ"
      },
      "outputs": [],
      "source": [
        "def cosine_similarity(x, y):\n",
        "    return x @ y / (np.linalg.norm(x) * np.linalg.norm(y))"
      ]
    },
    {
      "cell_type": "code",
      "execution_count": 57,
      "metadata": {
        "colab": {
          "base_uri": "https://localhost:8080/"
        },
        "id": "8mcqyIvc-SZl",
        "outputId": "fb0741c6-1af3-41ae-8f8b-dd8b3d127cec"
      },
      "outputs": [
        {
          "output_type": "execute_result",
          "data": {
            "text/plain": [
              "El Doctor afirmó que actuando de maneras probabilísticas el cerebro aprende conceptos discretos. ¡Qué fenómeno misterioso!"
            ]
          },
          "metadata": {},
          "execution_count": 57
        }
      ],
      "source": [
        "doc"
      ]
    },
    {
      "cell_type": "code",
      "execution_count": 58,
      "metadata": {
        "id": "Cfr8bINixUe1"
      },
      "outputs": [],
      "source": [
        "doc2 = nlp(\"La curiosidad por nuevas ideas es lo que impulsa a derivar ecuaciones y descubrir simetrías.\")\n",
        "doc3 = nlp(\"Una pizza de napolitana con ajo, una de muzzarella con jamón, media de chocolate y una cerveza roja.\")"
      ]
    },
    {
      "cell_type": "code",
      "execution_count": 59,
      "metadata": {
        "colab": {
          "base_uri": "https://localhost:8080/"
        },
        "id": "Q4FjTaWhLKhS",
        "outputId": "2141c823-2d3d-42e2-cf32-c844f3722cfe"
      },
      "outputs": [
        {
          "output_type": "execute_result",
          "data": {
            "text/plain": [
              "0.4817427186959799"
            ]
          },
          "metadata": {},
          "execution_count": 59
        }
      ],
      "source": [
        "doc.similarity(doc2)"
      ]
    },
    {
      "cell_type": "code",
      "execution_count": 60,
      "metadata": {
        "colab": {
          "base_uri": "https://localhost:8080/"
        },
        "id": "1oPVW-gx9slo",
        "outputId": "688450a5-e6b9-4fd9-cf00-a38e6b59560d"
      },
      "outputs": [
        {
          "output_type": "execute_result",
          "data": {
            "text/plain": [
              "0.3420021954777671"
            ]
          },
          "metadata": {},
          "execution_count": 60
        }
      ],
      "source": [
        "doc.similarity(doc3)"
      ]
    },
    {
      "cell_type": "markdown",
      "metadata": {
        "id": "AepTXG_j3zQM"
      },
      "source": [
        "# Referencias:\n",
        "\n",
        "- [Libro Jurafsky](https://web.stanford.edu/~jurafsky/slp3/)\n",
        "- [Curso de HuggingFace](https://huggingface.co/course/chapter1/2?fw=pt)"
      ]
    },
    {
      "cell_type": "markdown",
      "metadata": {
        "id": "Fa4HXNmIq1ZL"
      },
      "source": [
        "\n",
        "![](https://thumbor.forbes.com/thumbor/960x0/https%3A%2F%2Fblogs-images.forbes.com%2Fgilpress%2Ffiles%2F2016%2F03%2FTime-1200x511.jpg)\n",
        "\n"
      ]
    },
    {
      "cell_type": "code",
      "source": [],
      "metadata": {
        "id": "FKYAO6CLv4aw"
      },
      "execution_count": null,
      "outputs": []
    },
    {
      "cell_type": "markdown",
      "metadata": {
        "id": "5EeMD_Eyy6Id"
      },
      "source": [
        "# Caso: Clasificación de textos como Positivo o Negativo o _Sentiment Analysis_\n",
        "\n",
        "Vamos a ver un ejemplo sencillo de clasificación de texto, haciendo un sentiment análisis de frases o positivas o negativas."
      ]
    },
    {
      "cell_type": "code",
      "execution_count": 1,
      "metadata": {
        "id": "-SURyyTirZO6"
      },
      "outputs": [],
      "source": [
        "# Importamos\n",
        "\n",
        "import pandas as pd\n",
        "from sklearn.model_selection import train_test_split\n",
        "from sklearn.naive_bayes import MultinomialNB\n",
        "from sklearn.feature_extraction.text import TfidfVectorizer\n",
        "from sklearn.pipeline import make_pipeline\n",
        "from sklearn.metrics import confusion_matrix,accuracy_score\n",
        "import seaborn as sns\n",
        "import matplotlib.pyplot as plt"
      ]
    },
    {
      "cell_type": "code",
      "source": [
        "from google.colab import drive\n",
        "drive.mount('/content/drive')"
      ],
      "metadata": {
        "colab": {
          "base_uri": "https://localhost:8080/"
        },
        "id": "EupDnGS-vyFg",
        "outputId": "83810258-fb1f-4c18-9ff9-5102921a6444"
      },
      "execution_count": 2,
      "outputs": [
        {
          "output_type": "stream",
          "name": "stdout",
          "text": [
            "Mounted at /content/drive\n"
          ]
        }
      ]
    },
    {
      "cell_type": "code",
      "execution_count": 3,
      "metadata": {
        "colab": {
          "base_uri": "https://localhost:8080/",
          "height": 467
        },
        "id": "E56rERUwrZO9",
        "outputId": "a0e42408-a99d-4709-90c0-8a63c60f13e4"
      },
      "outputs": [
        {
          "output_type": "stream",
          "name": "stderr",
          "text": [
            "<ipython-input-3-e58a5ebf1b74>:1: DtypeWarning: Columns (1,2) have mixed types. Specify dtype option on import or set low_memory=False.\n",
            "  df = pd.read_csv('/content/drive/MyDrive/UNED/sentiment.csv', encoding='latin-1')  # or 'cp1252', 'ISO-8859-1')\n"
          ]
        },
        {
          "output_type": "execute_result",
          "data": {
            "text/plain": [
              "                                              ProductName  \\\n",
              "32874   gyzmofreakz 3.5mm Clip Microphone For Youtube ...   \n",
              "160604  Catvision CSR-401HP WIFI Media Streaming Devic...   \n",
              "131303  POCO C31 (Royal Blue, 64 GB)?ÃÂÃÂÃÂÃÂ?...   \n",
              "19324   Seagate One Touch with Password Protection for...   \n",
              "10232   SportSoul Cotton Gym & Athletic Abdomen Suppor...   \n",
              "97017   Manogyam Soft Yoga Chest Expander Resistance T...   \n",
              "12511   IFB Neptune VX Free Standing 12 Place Settings...   \n",
              "3496    OnePlus Bullets Wireless Z2 Bluetooth Headset?...   \n",
              "99808                  Dr Ortho Knee Support Knee Support   \n",
              "59739                 VH000010A Analog Watch  - For Women   \n",
              "\n",
              "                       ProductPrice Rate               Review  \\\n",
              "32874                           219    5     Perfect product!   \n",
              "160604                       1550.0  5.0    Terrific purchase   \n",
              "131303                       7499.0  5.0       Classy product   \n",
              "19324                          5599    5  Best in the market!   \n",
              "10232                           249    5            Wonderful   \n",
              "97017   ÃÂÃÂ¢ÃÂÃÂÃÂÃÂ¹189    1            Very poor   \n",
              "12511                         38490    5            Must buy!   \n",
              "3496                           1999    5            Must buy!   \n",
              "99808   ÃÂÃÂ¢ÃÂÃÂÃÂÃÂ¹288    3                 Nice   \n",
              "59739                          1169    5                  Nan   \n",
              "\n",
              "                                                  Summary Sentiment  \n",
              "32874                                                good  positive  \n",
              "160604  good productbest as compare to otherwifi conne...  positive  \n",
              "131303                                   i love flipkart   positive  \n",
              "19324                                       thx flip kart  positive  \n",
              "10232                                         all is well  positive  \n",
              "97017                     quality of the tube is not good  negative  \n",
              "12511                               good product from ifb  positive  \n",
              "3496    super bass an sound quality super 5 ster onepl...  positive  \n",
              "99808                                               ok ok   neutral  \n",
              "59739                                           very good  positive  "
            ],
            "text/html": [
              "\n",
              "  <div id=\"df-3705e2f3-0513-4779-a670-c859fd681db4\" class=\"colab-df-container\">\n",
              "    <div>\n",
              "<style scoped>\n",
              "    .dataframe tbody tr th:only-of-type {\n",
              "        vertical-align: middle;\n",
              "    }\n",
              "\n",
              "    .dataframe tbody tr th {\n",
              "        vertical-align: top;\n",
              "    }\n",
              "\n",
              "    .dataframe thead th {\n",
              "        text-align: right;\n",
              "    }\n",
              "</style>\n",
              "<table border=\"1\" class=\"dataframe\">\n",
              "  <thead>\n",
              "    <tr style=\"text-align: right;\">\n",
              "      <th></th>\n",
              "      <th>ProductName</th>\n",
              "      <th>ProductPrice</th>\n",
              "      <th>Rate</th>\n",
              "      <th>Review</th>\n",
              "      <th>Summary</th>\n",
              "      <th>Sentiment</th>\n",
              "    </tr>\n",
              "  </thead>\n",
              "  <tbody>\n",
              "    <tr>\n",
              "      <th>32874</th>\n",
              "      <td>gyzmofreakz 3.5mm Clip Microphone For Youtube ...</td>\n",
              "      <td>219</td>\n",
              "      <td>5</td>\n",
              "      <td>Perfect product!</td>\n",
              "      <td>good</td>\n",
              "      <td>positive</td>\n",
              "    </tr>\n",
              "    <tr>\n",
              "      <th>160604</th>\n",
              "      <td>Catvision CSR-401HP WIFI Media Streaming Devic...</td>\n",
              "      <td>1550.0</td>\n",
              "      <td>5.0</td>\n",
              "      <td>Terrific purchase</td>\n",
              "      <td>good productbest as compare to otherwifi conne...</td>\n",
              "      <td>positive</td>\n",
              "    </tr>\n",
              "    <tr>\n",
              "      <th>131303</th>\n",
              "      <td>POCO C31 (Royal Blue, 64 GB)?ÃÂÃÂÃÂÃÂ?...</td>\n",
              "      <td>7499.0</td>\n",
              "      <td>5.0</td>\n",
              "      <td>Classy product</td>\n",
              "      <td>i love flipkart</td>\n",
              "      <td>positive</td>\n",
              "    </tr>\n",
              "    <tr>\n",
              "      <th>19324</th>\n",
              "      <td>Seagate One Touch with Password Protection for...</td>\n",
              "      <td>5599</td>\n",
              "      <td>5</td>\n",
              "      <td>Best in the market!</td>\n",
              "      <td>thx flip kart</td>\n",
              "      <td>positive</td>\n",
              "    </tr>\n",
              "    <tr>\n",
              "      <th>10232</th>\n",
              "      <td>SportSoul Cotton Gym &amp; Athletic Abdomen Suppor...</td>\n",
              "      <td>249</td>\n",
              "      <td>5</td>\n",
              "      <td>Wonderful</td>\n",
              "      <td>all is well</td>\n",
              "      <td>positive</td>\n",
              "    </tr>\n",
              "    <tr>\n",
              "      <th>97017</th>\n",
              "      <td>Manogyam Soft Yoga Chest Expander Resistance T...</td>\n",
              "      <td>ÃÂÃÂ¢ÃÂÃÂÃÂÃÂ¹189</td>\n",
              "      <td>1</td>\n",
              "      <td>Very poor</td>\n",
              "      <td>quality of the tube is not good</td>\n",
              "      <td>negative</td>\n",
              "    </tr>\n",
              "    <tr>\n",
              "      <th>12511</th>\n",
              "      <td>IFB Neptune VX Free Standing 12 Place Settings...</td>\n",
              "      <td>38490</td>\n",
              "      <td>5</td>\n",
              "      <td>Must buy!</td>\n",
              "      <td>good product from ifb</td>\n",
              "      <td>positive</td>\n",
              "    </tr>\n",
              "    <tr>\n",
              "      <th>3496</th>\n",
              "      <td>OnePlus Bullets Wireless Z2 Bluetooth Headset?...</td>\n",
              "      <td>1999</td>\n",
              "      <td>5</td>\n",
              "      <td>Must buy!</td>\n",
              "      <td>super bass an sound quality super 5 ster onepl...</td>\n",
              "      <td>positive</td>\n",
              "    </tr>\n",
              "    <tr>\n",
              "      <th>99808</th>\n",
              "      <td>Dr Ortho Knee Support Knee Support</td>\n",
              "      <td>ÃÂÃÂ¢ÃÂÃÂÃÂÃÂ¹288</td>\n",
              "      <td>3</td>\n",
              "      <td>Nice</td>\n",
              "      <td>ok ok</td>\n",
              "      <td>neutral</td>\n",
              "    </tr>\n",
              "    <tr>\n",
              "      <th>59739</th>\n",
              "      <td>VH000010A Analog Watch  - For Women</td>\n",
              "      <td>1169</td>\n",
              "      <td>5</td>\n",
              "      <td>Nan</td>\n",
              "      <td>very good</td>\n",
              "      <td>positive</td>\n",
              "    </tr>\n",
              "  </tbody>\n",
              "</table>\n",
              "</div>\n",
              "    <div class=\"colab-df-buttons\">\n",
              "\n",
              "  <div class=\"colab-df-container\">\n",
              "    <button class=\"colab-df-convert\" onclick=\"convertToInteractive('df-3705e2f3-0513-4779-a670-c859fd681db4')\"\n",
              "            title=\"Convert this dataframe to an interactive table.\"\n",
              "            style=\"display:none;\">\n",
              "\n",
              "  <svg xmlns=\"http://www.w3.org/2000/svg\" height=\"24px\" viewBox=\"0 -960 960 960\">\n",
              "    <path d=\"M120-120v-720h720v720H120Zm60-500h600v-160H180v160Zm220 220h160v-160H400v160Zm0 220h160v-160H400v160ZM180-400h160v-160H180v160Zm440 0h160v-160H620v160ZM180-180h160v-160H180v160Zm440 0h160v-160H620v160Z\"/>\n",
              "  </svg>\n",
              "    </button>\n",
              "\n",
              "  <style>\n",
              "    .colab-df-container {\n",
              "      display:flex;\n",
              "      gap: 12px;\n",
              "    }\n",
              "\n",
              "    .colab-df-convert {\n",
              "      background-color: #E8F0FE;\n",
              "      border: none;\n",
              "      border-radius: 50%;\n",
              "      cursor: pointer;\n",
              "      display: none;\n",
              "      fill: #1967D2;\n",
              "      height: 32px;\n",
              "      padding: 0 0 0 0;\n",
              "      width: 32px;\n",
              "    }\n",
              "\n",
              "    .colab-df-convert:hover {\n",
              "      background-color: #E2EBFA;\n",
              "      box-shadow: 0px 1px 2px rgba(60, 64, 67, 0.3), 0px 1px 3px 1px rgba(60, 64, 67, 0.15);\n",
              "      fill: #174EA6;\n",
              "    }\n",
              "\n",
              "    .colab-df-buttons div {\n",
              "      margin-bottom: 4px;\n",
              "    }\n",
              "\n",
              "    [theme=dark] .colab-df-convert {\n",
              "      background-color: #3B4455;\n",
              "      fill: #D2E3FC;\n",
              "    }\n",
              "\n",
              "    [theme=dark] .colab-df-convert:hover {\n",
              "      background-color: #434B5C;\n",
              "      box-shadow: 0px 1px 3px 1px rgba(0, 0, 0, 0.15);\n",
              "      filter: drop-shadow(0px 1px 2px rgba(0, 0, 0, 0.3));\n",
              "      fill: #FFFFFF;\n",
              "    }\n",
              "  </style>\n",
              "\n",
              "    <script>\n",
              "      const buttonEl =\n",
              "        document.querySelector('#df-3705e2f3-0513-4779-a670-c859fd681db4 button.colab-df-convert');\n",
              "      buttonEl.style.display =\n",
              "        google.colab.kernel.accessAllowed ? 'block' : 'none';\n",
              "\n",
              "      async function convertToInteractive(key) {\n",
              "        const element = document.querySelector('#df-3705e2f3-0513-4779-a670-c859fd681db4');\n",
              "        const dataTable =\n",
              "          await google.colab.kernel.invokeFunction('convertToInteractive',\n",
              "                                                    [key], {});\n",
              "        if (!dataTable) return;\n",
              "\n",
              "        const docLinkHtml = 'Like what you see? Visit the ' +\n",
              "          '<a target=\"_blank\" href=https://colab.research.google.com/notebooks/data_table.ipynb>data table notebook</a>'\n",
              "          + ' to learn more about interactive tables.';\n",
              "        element.innerHTML = '';\n",
              "        dataTable['output_type'] = 'display_data';\n",
              "        await google.colab.output.renderOutput(dataTable, element);\n",
              "        const docLink = document.createElement('div');\n",
              "        docLink.innerHTML = docLinkHtml;\n",
              "        element.appendChild(docLink);\n",
              "      }\n",
              "    </script>\n",
              "  </div>\n",
              "\n",
              "\n",
              "<div id=\"df-33f6f7ef-35ad-4987-80d2-78032b85b55e\">\n",
              "  <button class=\"colab-df-quickchart\" onclick=\"quickchart('df-33f6f7ef-35ad-4987-80d2-78032b85b55e')\"\n",
              "            title=\"Suggest charts\"\n",
              "            style=\"display:none;\">\n",
              "\n",
              "<svg xmlns=\"http://www.w3.org/2000/svg\" height=\"24px\"viewBox=\"0 0 24 24\"\n",
              "     width=\"24px\">\n",
              "    <g>\n",
              "        <path d=\"M19 3H5c-1.1 0-2 .9-2 2v14c0 1.1.9 2 2 2h14c1.1 0 2-.9 2-2V5c0-1.1-.9-2-2-2zM9 17H7v-7h2v7zm4 0h-2V7h2v10zm4 0h-2v-4h2v4z\"/>\n",
              "    </g>\n",
              "</svg>\n",
              "  </button>\n",
              "\n",
              "<style>\n",
              "  .colab-df-quickchart {\n",
              "      --bg-color: #E8F0FE;\n",
              "      --fill-color: #1967D2;\n",
              "      --hover-bg-color: #E2EBFA;\n",
              "      --hover-fill-color: #174EA6;\n",
              "      --disabled-fill-color: #AAA;\n",
              "      --disabled-bg-color: #DDD;\n",
              "  }\n",
              "\n",
              "  [theme=dark] .colab-df-quickchart {\n",
              "      --bg-color: #3B4455;\n",
              "      --fill-color: #D2E3FC;\n",
              "      --hover-bg-color: #434B5C;\n",
              "      --hover-fill-color: #FFFFFF;\n",
              "      --disabled-bg-color: #3B4455;\n",
              "      --disabled-fill-color: #666;\n",
              "  }\n",
              "\n",
              "  .colab-df-quickchart {\n",
              "    background-color: var(--bg-color);\n",
              "    border: none;\n",
              "    border-radius: 50%;\n",
              "    cursor: pointer;\n",
              "    display: none;\n",
              "    fill: var(--fill-color);\n",
              "    height: 32px;\n",
              "    padding: 0;\n",
              "    width: 32px;\n",
              "  }\n",
              "\n",
              "  .colab-df-quickchart:hover {\n",
              "    background-color: var(--hover-bg-color);\n",
              "    box-shadow: 0 1px 2px rgba(60, 64, 67, 0.3), 0 1px 3px 1px rgba(60, 64, 67, 0.15);\n",
              "    fill: var(--button-hover-fill-color);\n",
              "  }\n",
              "\n",
              "  .colab-df-quickchart-complete:disabled,\n",
              "  .colab-df-quickchart-complete:disabled:hover {\n",
              "    background-color: var(--disabled-bg-color);\n",
              "    fill: var(--disabled-fill-color);\n",
              "    box-shadow: none;\n",
              "  }\n",
              "\n",
              "  .colab-df-spinner {\n",
              "    border: 2px solid var(--fill-color);\n",
              "    border-color: transparent;\n",
              "    border-bottom-color: var(--fill-color);\n",
              "    animation:\n",
              "      spin 1s steps(1) infinite;\n",
              "  }\n",
              "\n",
              "  @keyframes spin {\n",
              "    0% {\n",
              "      border-color: transparent;\n",
              "      border-bottom-color: var(--fill-color);\n",
              "      border-left-color: var(--fill-color);\n",
              "    }\n",
              "    20% {\n",
              "      border-color: transparent;\n",
              "      border-left-color: var(--fill-color);\n",
              "      border-top-color: var(--fill-color);\n",
              "    }\n",
              "    30% {\n",
              "      border-color: transparent;\n",
              "      border-left-color: var(--fill-color);\n",
              "      border-top-color: var(--fill-color);\n",
              "      border-right-color: var(--fill-color);\n",
              "    }\n",
              "    40% {\n",
              "      border-color: transparent;\n",
              "      border-right-color: var(--fill-color);\n",
              "      border-top-color: var(--fill-color);\n",
              "    }\n",
              "    60% {\n",
              "      border-color: transparent;\n",
              "      border-right-color: var(--fill-color);\n",
              "    }\n",
              "    80% {\n",
              "      border-color: transparent;\n",
              "      border-right-color: var(--fill-color);\n",
              "      border-bottom-color: var(--fill-color);\n",
              "    }\n",
              "    90% {\n",
              "      border-color: transparent;\n",
              "      border-bottom-color: var(--fill-color);\n",
              "    }\n",
              "  }\n",
              "</style>\n",
              "\n",
              "  <script>\n",
              "    async function quickchart(key) {\n",
              "      const quickchartButtonEl =\n",
              "        document.querySelector('#' + key + ' button');\n",
              "      quickchartButtonEl.disabled = true;  // To prevent multiple clicks.\n",
              "      quickchartButtonEl.classList.add('colab-df-spinner');\n",
              "      try {\n",
              "        const charts = await google.colab.kernel.invokeFunction(\n",
              "            'suggestCharts', [key], {});\n",
              "      } catch (error) {\n",
              "        console.error('Error during call to suggestCharts:', error);\n",
              "      }\n",
              "      quickchartButtonEl.classList.remove('colab-df-spinner');\n",
              "      quickchartButtonEl.classList.add('colab-df-quickchart-complete');\n",
              "    }\n",
              "    (() => {\n",
              "      let quickchartButtonEl =\n",
              "        document.querySelector('#df-33f6f7ef-35ad-4987-80d2-78032b85b55e button');\n",
              "      quickchartButtonEl.style.display =\n",
              "        google.colab.kernel.accessAllowed ? 'block' : 'none';\n",
              "    })();\n",
              "  </script>\n",
              "</div>\n",
              "\n",
              "    </div>\n",
              "  </div>\n"
            ],
            "application/vnd.google.colaboratory.intrinsic+json": {
              "type": "dataframe",
              "summary": "{\n  \"name\": \"df\",\n  \"rows\": 10,\n  \"fields\": [\n    {\n      \"column\": \"ProductName\",\n      \"properties\": {\n        \"dtype\": \"string\",\n        \"num_unique_values\": 10,\n        \"samples\": [\n          \"Dr Ortho Knee Support Knee Support\",\n          \"Catvision CSR-401HP WIFI Media Streaming Device????(Black)\",\n          \"Manogyam Soft Yoga Chest Expander Resistance Tube\\u00c3\\u0083\\u00c2\\u0083\\u00c3\\u0082\\u00c2\\u0082\\u00c3\\u0083\\u00c2\\u0082\\u00c3\\u0082\\u00c2\\u00a0\\u00c3\\u0083\\u00c2\\u0083\\u00c3\\u0082\\u00c2\\u0082\\u00c3\\u0083\\u00c2\\u0082\\u00c3\\u0082\\u00c2\\u00a0(Multicolor)\"\n        ],\n        \"semantic_type\": \"\",\n        \"description\": \"\"\n      }\n    },\n    {\n      \"column\": \"ProductPrice\",\n      \"properties\": {\n        \"dtype\": \"string\",\n        \"num_unique_values\": 10,\n        \"samples\": [\n          \"\\u00c3\\u0083\\u00c2\\u0083\\u00c3\\u0082\\u00c2\\u00a2\\u00c3\\u0083\\u00c2\\u0082\\u00c3\\u0082\\u00c2\\u0082\\u00c3\\u0083\\u00c2\\u0082\\u00c3\\u0082\\u00c2\\u00b9288\",\n          1550.0,\n          \"\\u00c3\\u0083\\u00c2\\u0083\\u00c3\\u0082\\u00c2\\u00a2\\u00c3\\u0083\\u00c2\\u0082\\u00c3\\u0082\\u00c2\\u0082\\u00c3\\u0083\\u00c2\\u0082\\u00c3\\u0082\\u00c2\\u00b9189\"\n        ],\n        \"semantic_type\": \"\",\n        \"description\": \"\"\n      }\n    },\n    {\n      \"column\": \"Rate\",\n      \"properties\": {\n        \"dtype\": \"category\",\n        \"num_unique_values\": 4,\n        \"samples\": [\n          5.0,\n          \"3\",\n          \"5\"\n        ],\n        \"semantic_type\": \"\",\n        \"description\": \"\"\n      }\n    },\n    {\n      \"column\": \"Review\",\n      \"properties\": {\n        \"dtype\": \"string\",\n        \"num_unique_values\": 9,\n        \"samples\": [\n          \"Nice\",\n          \"Terrific purchase\",\n          \"Very poor\"\n        ],\n        \"semantic_type\": \"\",\n        \"description\": \"\"\n      }\n    },\n    {\n      \"column\": \"Summary\",\n      \"properties\": {\n        \"dtype\": \"string\",\n        \"num_unique_values\": 10,\n        \"samples\": [\n          \"ok ok\",\n          \"good productbest as compare to otherwifi connectivity very fast and recommended all\",\n          \"quality of the tube is not good\"\n        ],\n        \"semantic_type\": \"\",\n        \"description\": \"\"\n      }\n    },\n    {\n      \"column\": \"Sentiment\",\n      \"properties\": {\n        \"dtype\": \"category\",\n        \"num_unique_values\": 3,\n        \"samples\": [\n          \"positive\",\n          \"negative\",\n          \"neutral\"\n        ],\n        \"semantic_type\": \"\",\n        \"description\": \"\"\n      }\n    }\n  ]\n}"
            }
          },
          "metadata": {},
          "execution_count": 3
        }
      ],
      "source": [
        "df = pd.read_csv('/content/drive/MyDrive/UNED/sentiment.csv', encoding='latin-1')  # or 'cp1252', 'ISO-8859-1')\n",
        "df.sample(10)"
      ]
    },
    {
      "cell_type": "code",
      "execution_count": 4,
      "metadata": {
        "id": "vw4EOJIArZPE",
        "colab": {
          "base_uri": "https://localhost:8080/",
          "height": 303
        },
        "outputId": "3eb2aa48-99aa-4306-d466-fe9aaabe579e"
      },
      "outputs": [
        {
          "output_type": "execute_result",
          "data": {
            "text/plain": [
              "Sentiment\n",
              "positive    111103\n",
              "negative     41956\n",
              "neutral      13692\n",
              "Negative      4163\n",
              "Neutral        446\n",
              "Positive        19\n",
              "Name: count, dtype: int64"
            ],
            "text/html": [
              "<div>\n",
              "<style scoped>\n",
              "    .dataframe tbody tr th:only-of-type {\n",
              "        vertical-align: middle;\n",
              "    }\n",
              "\n",
              "    .dataframe tbody tr th {\n",
              "        vertical-align: top;\n",
              "    }\n",
              "\n",
              "    .dataframe thead th {\n",
              "        text-align: right;\n",
              "    }\n",
              "</style>\n",
              "<table border=\"1\" class=\"dataframe\">\n",
              "  <thead>\n",
              "    <tr style=\"text-align: right;\">\n",
              "      <th></th>\n",
              "      <th>count</th>\n",
              "    </tr>\n",
              "    <tr>\n",
              "      <th>Sentiment</th>\n",
              "      <th></th>\n",
              "    </tr>\n",
              "  </thead>\n",
              "  <tbody>\n",
              "    <tr>\n",
              "      <th>positive</th>\n",
              "      <td>111103</td>\n",
              "    </tr>\n",
              "    <tr>\n",
              "      <th>negative</th>\n",
              "      <td>41956</td>\n",
              "    </tr>\n",
              "    <tr>\n",
              "      <th>neutral</th>\n",
              "      <td>13692</td>\n",
              "    </tr>\n",
              "    <tr>\n",
              "      <th>Negative</th>\n",
              "      <td>4163</td>\n",
              "    </tr>\n",
              "    <tr>\n",
              "      <th>Neutral</th>\n",
              "      <td>446</td>\n",
              "    </tr>\n",
              "    <tr>\n",
              "      <th>Positive</th>\n",
              "      <td>19</td>\n",
              "    </tr>\n",
              "  </tbody>\n",
              "</table>\n",
              "</div><br><label><b>dtype:</b> int64</label>"
            ]
          },
          "metadata": {},
          "execution_count": 4
        }
      ],
      "source": [
        "df['Sentiment'].value_counts()  ## Balance del df"
      ]
    },
    {
      "cell_type": "code",
      "source": [
        "df.Sentiment.value_counts().plot(kind='bar', title='Distribución de las etiquetas');"
      ],
      "metadata": {
        "colab": {
          "base_uri": "https://localhost:8080/",
          "height": 521
        },
        "id": "8mGZQw_WyKXA",
        "outputId": "ae564212-687d-40f8-92c8-9ce8228641b5"
      },
      "execution_count": 5,
      "outputs": [
        {
          "output_type": "display_data",
          "data": {
            "text/plain": [
              "<Figure size 640x480 with 1 Axes>"
            ],
            "image/png": "[encoded data removed]"
          },
          "metadata": {}
        }
      ]
    },
    {
      "cell_type": "markdown",
      "source": [
        "###transformar los textos en vectores"
      ],
      "metadata": {
        "id": "OFNTbgiAyqwF"
      }
    },
    {
      "cell_type": "code",
      "execution_count": 7,
      "metadata": {
        "id": "8RD7wAxtrZPH"
      },
      "outputs": [],
      "source": [
        "# separamos train y test\n",
        "train, test = train_test_split(df, test_size=0.33)"
      ]
    },
    {
      "cell_type": "markdown",
      "source": [
        "## transformar el texto en vectores"
      ],
      "metadata": {
        "id": "FuhUYOJFzUNX"
      }
    },
    {
      "cell_type": "code",
      "source": [
        "# Separamos en X e y\n",
        "train_y = train.iloc[:,0]\n",
        "train_X = train.iloc[:,1].astype(str) # Convert train_X to string type\n",
        "test_y = test.iloc[:,0]  ## y minuscula es vector\n",
        "test_X = test.iloc[:,1].astype(str) # Convert test_X to string type  ## X mayuscula matriz\n",
        "\n",
        "# Vectorizamos los textos por TF-IDF\n",
        "vec = TfidfVectorizer(min_df=3)  ## instanciamos que considere palabras  aparezcan minimo 3 veces\n",
        "model = MultinomialNB()  ## instanciar el naive\n",
        "clf = make_pipeline(vec,model) ## entrenamos el modelo vector, modelo\n",
        "\n",
        "clf = clf.fit(train_X, train_y) ## .fit clasificador ajustado  es rapido el modelo naive bayes rapido"
      ],
      "metadata": {
        "id": "Casl17qwxpFA"
      },
      "execution_count": 8,
      "outputs": []
    },
    {
      "cell_type": "code",
      "execution_count": 9,
      "metadata": {
        "id": "-Vhh11A4rZPV",
        "colab": {
          "base_uri": "https://localhost:8080/",
          "height": 458
        },
        "outputId": "5833a24b-41c9-4678-8b0f-ed2dc6d472ea"
      },
      "outputs": [
        {
          "output_type": "execute_result",
          "data": {
            "text/plain": [
              "47807         159\n",
              "135139     1149.0\n",
              "115723        113\n",
              "155418    29990.0\n",
              "120718       2999\n",
              "           ...   \n",
              "75992       10499\n",
              "122669       3399\n",
              "65806         218\n",
              "48255        2299\n",
              "161194     1550.0\n",
              "Name: ProductPrice, Length: 56556, dtype: object"
            ],
            "text/html": [
              "<div>\n",
              "<style scoped>\n",
              "    .dataframe tbody tr th:only-of-type {\n",
              "        vertical-align: middle;\n",
              "    }\n",
              "\n",
              "    .dataframe tbody tr th {\n",
              "        vertical-align: top;\n",
              "    }\n",
              "\n",
              "    .dataframe thead th {\n",
              "        text-align: right;\n",
              "    }\n",
              "</style>\n",
              "<table border=\"1\" class=\"dataframe\">\n",
              "  <thead>\n",
              "    <tr style=\"text-align: right;\">\n",
              "      <th></th>\n",
              "      <th>ProductPrice</th>\n",
              "    </tr>\n",
              "  </thead>\n",
              "  <tbody>\n",
              "    <tr>\n",
              "      <th>47807</th>\n",
              "      <td>159</td>\n",
              "    </tr>\n",
              "    <tr>\n",
              "      <th>135139</th>\n",
              "      <td>1149.0</td>\n",
              "    </tr>\n",
              "    <tr>\n",
              "      <th>115723</th>\n",
              "      <td>113</td>\n",
              "    </tr>\n",
              "    <tr>\n",
              "      <th>155418</th>\n",
              "      <td>29990.0</td>\n",
              "    </tr>\n",
              "    <tr>\n",
              "      <th>120718</th>\n",
              "      <td>2999</td>\n",
              "    </tr>\n",
              "    <tr>\n",
              "      <th>...</th>\n",
              "      <td>...</td>\n",
              "    </tr>\n",
              "    <tr>\n",
              "      <th>75992</th>\n",
              "      <td>10499</td>\n",
              "    </tr>\n",
              "    <tr>\n",
              "      <th>122669</th>\n",
              "      <td>3399</td>\n",
              "    </tr>\n",
              "    <tr>\n",
              "      <th>65806</th>\n",
              "      <td>218</td>\n",
              "    </tr>\n",
              "    <tr>\n",
              "      <th>48255</th>\n",
              "      <td>2299</td>\n",
              "    </tr>\n",
              "    <tr>\n",
              "      <th>161194</th>\n",
              "      <td>1550.0</td>\n",
              "    </tr>\n",
              "  </tbody>\n",
              "</table>\n",
              "<p>56556 rows × 1 columns</p>\n",
              "</div><br><label><b>dtype:</b> object</label>"
            ]
          },
          "metadata": {},
          "execution_count": 9
        }
      ],
      "source": [
        "test_X"
      ]
    },
    {
      "cell_type": "code",
      "execution_count": 10,
      "metadata": {
        "id": "ZXrmV8pHrZPY"
      },
      "outputs": [],
      "source": [
        "predictions = clf.predict(test_X)"
      ]
    },
    {
      "cell_type": "code",
      "source": [
        "accuracy_score(test_y, predictions)"
      ],
      "metadata": {
        "colab": {
          "base_uri": "https://localhost:8080/"
        },
        "id": "iCoxFEYN1Bzf",
        "outputId": "96eabde4-38f5-4746-97f1-c8c81a688056"
      },
      "execution_count": 12,
      "outputs": [
        {
          "output_type": "execute_result",
          "data": {
            "text/plain": [
              "0.7449961100502157"
            ]
          },
          "metadata": {},
          "execution_count": 12
        }
      ]
    },
    {
      "cell_type": "code",
      "execution_count": 13,
      "metadata": {
        "id": "8uMnVYQHKMww",
        "colab": {
          "base_uri": "https://localhost:8080/"
        },
        "outputId": "82ec91e8-0663-4558-f8bf-8ab3127b7a1f"
      },
      "outputs": [
        {
          "output_type": "execute_result",
          "data": {
            "text/plain": [
              "0.7449961100502157"
            ]
          },
          "metadata": {},
          "execution_count": 13
        }
      ],
      "source": [
        "sum(predictions == test_y) / len(test_y)"
      ]
    },
    {
      "cell_type": "code",
      "execution_count": 14,
      "metadata": {
        "id": "LVdNZITGrZPc",
        "colab": {
          "base_uri": "https://localhost:8080/"
        },
        "outputId": "b40856c4-0aab-4b06-dd99-a2d181a760b4"
      },
      "outputs": [
        {
          "output_type": "execute_result",
          "data": {
            "text/plain": [
              "0.7449961100502157"
            ]
          },
          "metadata": {},
          "execution_count": 14
        }
      ],
      "source": [
        "accuracy_score(test_y, predictions)"
      ]
    },
    {
      "cell_type": "code",
      "source": [
        "import numpy as np\n",
        "import matplotlib.pyplot as plt\n",
        "import seaborn as sns\n",
        "from sklearn.metrics import confusion_matrix\n",
        "\n",
        "# ... (your existing code) ...\n",
        "\n",
        "df_cm = confusion_matrix(test_y, predictions, labels=test_y.unique())\n",
        "\n",
        "# Get the unique labels and their corresponding indices\n",
        "unique_labels = test_y.unique()\n",
        "label_indices = np.arange(len(unique_labels))\n",
        "\n",
        "# Create the heatmap\n",
        "heatmap = sns.heatmap(df_cm, annot=True, fmt=\"d\", xticklabels=unique_labels, yticklabels=unique_labels)\n",
        "\n",
        "# Set tick locations and labels for better readability (optional)\n",
        "heatmap.set_xticks(label_indices)\n",
        "heatmap.set_yticks(label_indices)\n",
        "\n",
        "# Rotate x-axis labels if needed\n",
        "plt.xticks(rotation=45, ha='right')\n",
        "\n",
        "plt.ylabel('Valor Verdadero')\n",
        "plt.xlabel('Valor Predicho');\n",
        "plt.show()"
      ],
      "metadata": {
        "id": "8DDlVOCE3sdR"
      },
      "execution_count": null,
      "outputs": []
    },
    {
      "cell_type": "code",
      "execution_count": null,
      "metadata": {
        "id": "W_oq59CArZPo",
        "colab": {
          "base_uri": "https://localhost:8080/",
          "height": 688
        },
        "outputId": "25b867d0-50d0-4b40-e923-bafaa37c2983"
      },
      "outputs": [
        {
          "ename": "ValueError",
          "evalue": "The number of FixedLocator locations (26), usually from a call to set_ticks, does not match the number of labels (936).",
          "output_type": "error",
          "traceback": [
            "\u001b[0;31m---------------------------------------------------------------------------\u001b[0m",
            "\u001b[0;31mValueError\u001b[0m                                Traceback (most recent call last)",
            "\u001b[0;32m<ipython-input-15-020a1ff96f68>\u001b[0m in \u001b[0;36m<cell line: 3>\u001b[0;34m()\u001b[0m\n\u001b[1;32m      1\u001b[0m \u001b[0mdf_cm\u001b[0m \u001b[0;34m=\u001b[0m \u001b[0mconfusion_matrix\u001b[0m\u001b[0;34m(\u001b[0m\u001b[0mtest_y\u001b[0m\u001b[0;34m,\u001b[0m\u001b[0mpredictions\u001b[0m\u001b[0;34m,\u001b[0m\u001b[0mlabels\u001b[0m\u001b[0;34m=\u001b[0m\u001b[0mtest_y\u001b[0m\u001b[0;34m.\u001b[0m\u001b[0munique\u001b[0m\u001b[0;34m(\u001b[0m\u001b[0;34m)\u001b[0m\u001b[0;34m)\u001b[0m\u001b[0;34m\u001b[0m\u001b[0;34m\u001b[0m\u001b[0m\n\u001b[1;32m      2\u001b[0m \u001b[0mheatmap\u001b[0m \u001b[0;34m=\u001b[0m \u001b[0msns\u001b[0m\u001b[0;34m.\u001b[0m\u001b[0mheatmap\u001b[0m\u001b[0;34m(\u001b[0m\u001b[0mdf_cm\u001b[0m\u001b[0;34m,\u001b[0m \u001b[0mannot\u001b[0m\u001b[0;34m=\u001b[0m\u001b[0;32mTrue\u001b[0m\u001b[0;34m,\u001b[0m \u001b[0mfmt\u001b[0m\u001b[0;34m=\u001b[0m\u001b[0;34m\"d\"\u001b[0m\u001b[0;34m)\u001b[0m\u001b[0;34m\u001b[0m\u001b[0;34m\u001b[0m\u001b[0m\n\u001b[0;32m----> 3\u001b[0;31m \u001b[0mheatmap\u001b[0m\u001b[0;34m.\u001b[0m\u001b[0myaxis\u001b[0m\u001b[0;34m.\u001b[0m\u001b[0mset_ticklabels\u001b[0m\u001b[0;34m(\u001b[0m\u001b[0mtest_y\u001b[0m\u001b[0;34m.\u001b[0m\u001b[0munique\u001b[0m\u001b[0;34m(\u001b[0m\u001b[0;34m)\u001b[0m\u001b[0;34m,\u001b[0m \u001b[0mrotation\u001b[0m\u001b[0;34m=\u001b[0m\u001b[0;36m0\u001b[0m\u001b[0;34m,\u001b[0m \u001b[0mha\u001b[0m\u001b[0;34m=\u001b[0m\u001b[0;34m'right'\u001b[0m\u001b[0;34m)\u001b[0m\u001b[0;34m\u001b[0m\u001b[0;34m\u001b[0m\u001b[0m\n\u001b[0m\u001b[1;32m      4\u001b[0m \u001b[0mheatmap\u001b[0m\u001b[0;34m.\u001b[0m\u001b[0mxaxis\u001b[0m\u001b[0;34m.\u001b[0m\u001b[0mset_ticklabels\u001b[0m\u001b[0;34m(\u001b[0m\u001b[0mtest_y\u001b[0m\u001b[0;34m.\u001b[0m\u001b[0munique\u001b[0m\u001b[0;34m(\u001b[0m\u001b[0;34m)\u001b[0m\u001b[0;34m,\u001b[0m \u001b[0mrotation\u001b[0m\u001b[0;34m=\u001b[0m\u001b[0;36m45\u001b[0m\u001b[0;34m,\u001b[0m \u001b[0mha\u001b[0m\u001b[0;34m=\u001b[0m\u001b[0;34m'right'\u001b[0m\u001b[0;34m)\u001b[0m\u001b[0;34m\u001b[0m\u001b[0;34m\u001b[0m\u001b[0m\n\u001b[1;32m      5\u001b[0m \u001b[0mplt\u001b[0m\u001b[0;34m.\u001b[0m\u001b[0mylabel\u001b[0m\u001b[0;34m(\u001b[0m\u001b[0;34m'Valor Verdadero'\u001b[0m\u001b[0;34m)\u001b[0m\u001b[0;34m\u001b[0m\u001b[0;34m\u001b[0m\u001b[0m\n",
            "\u001b[0;32m/usr/local/lib/python3.10/dist-packages/matplotlib/axis.py\u001b[0m in \u001b[0;36mset_ticklabels\u001b[0;34m(self, labels, minor, fontdict, **kwargs)\u001b[0m\n\u001b[1;32m   2115\u001b[0m             \u001b[0;31m# remove all tick labels, so only error for > 0 labels\u001b[0m\u001b[0;34m\u001b[0m\u001b[0;34m\u001b[0m\u001b[0m\n\u001b[1;32m   2116\u001b[0m             \u001b[0;32mif\u001b[0m \u001b[0mlen\u001b[0m\u001b[0;34m(\u001b[0m\u001b[0mlocator\u001b[0m\u001b[0;34m.\u001b[0m\u001b[0mlocs\u001b[0m\u001b[0;34m)\u001b[0m \u001b[0;34m!=\u001b[0m \u001b[0mlen\u001b[0m\u001b[0;34m(\u001b[0m\u001b[0mlabels\u001b[0m\u001b[0;34m)\u001b[0m \u001b[0;32mand\u001b[0m \u001b[0mlen\u001b[0m\u001b[0;34m(\u001b[0m\u001b[0mlabels\u001b[0m\u001b[0;34m)\u001b[0m \u001b[0;34m!=\u001b[0m \u001b[0;36m0\u001b[0m\u001b[0;34m:\u001b[0m\u001b[0;34m\u001b[0m\u001b[0;34m\u001b[0m\u001b[0m\n\u001b[0;32m-> 2117\u001b[0;31m                 raise ValueError(\n\u001b[0m\u001b[1;32m   2118\u001b[0m                     \u001b[0;34m\"The number of FixedLocator locations\"\u001b[0m\u001b[0;34m\u001b[0m\u001b[0;34m\u001b[0m\u001b[0m\n\u001b[1;32m   2119\u001b[0m                     \u001b[0;34mf\" ({len(locator.locs)}), usually from a call to\"\u001b[0m\u001b[0;34m\u001b[0m\u001b[0;34m\u001b[0m\u001b[0m\n",
            "\u001b[0;31mValueError\u001b[0m: The number of FixedLocator locations (26), usually from a call to set_ticks, does not match the number of labels (936)."
          ]
        },
        {
          "output_type": "stream",
          "name": "stdout",
          "text": [
            "Error in callback <function _draw_all_if_interactive at 0x7e59d8acf1c0> (for post_execute):\n"
          ]
        },
        {
          "output_type": "error",
          "ename": "KeyboardInterrupt",
          "evalue": "",
          "traceback": [
            "\u001b[0;31m---------------------------------------------------------------------------\u001b[0m",
            "\u001b[0;31mKeyboardInterrupt\u001b[0m                         Traceback (most recent call last)",
            "\u001b[0;32m/usr/local/lib/python3.10/dist-packages/matplotlib/pyplot.py\u001b[0m in \u001b[0;36m_draw_all_if_interactive\u001b[0;34m()\u001b[0m\n\u001b[1;32m    277\u001b[0m \u001b[0;32mdef\u001b[0m \u001b[0m_draw_all_if_interactive\u001b[0m\u001b[0;34m(\u001b[0m\u001b[0;34m)\u001b[0m \u001b[0;34m->\u001b[0m \u001b[0;32mNone\u001b[0m\u001b[0;34m:\u001b[0m\u001b[0;34m\u001b[0m\u001b[0;34m\u001b[0m\u001b[0m\n\u001b[1;32m    278\u001b[0m     \u001b[0;32mif\u001b[0m \u001b[0mmatplotlib\u001b[0m\u001b[0;34m.\u001b[0m\u001b[0mis_interactive\u001b[0m\u001b[0;34m(\u001b[0m\u001b[0;34m)\u001b[0m\u001b[0;34m:\u001b[0m\u001b[0;34m\u001b[0m\u001b[0;34m\u001b[0m\u001b[0m\n\u001b[0;32m--> 279\u001b[0;31m         \u001b[0mdraw_all\u001b[0m\u001b[0;34m(\u001b[0m\u001b[0;34m)\u001b[0m\u001b[0;34m\u001b[0m\u001b[0;34m\u001b[0m\u001b[0m\n\u001b[0m\u001b[1;32m    280\u001b[0m \u001b[0;34m\u001b[0m\u001b[0m\n\u001b[1;32m    281\u001b[0m \u001b[0;34m\u001b[0m\u001b[0m\n",
            "\u001b[0;32m/usr/local/lib/python3.10/dist-packages/matplotlib/_pylab_helpers.py\u001b[0m in \u001b[0;36mdraw_all\u001b[0;34m(cls, force)\u001b[0m\n\u001b[1;32m    129\u001b[0m         \u001b[0;32mfor\u001b[0m \u001b[0mmanager\u001b[0m \u001b[0;32min\u001b[0m \u001b[0mcls\u001b[0m\u001b[0;34m.\u001b[0m\u001b[0mget_all_fig_managers\u001b[0m\u001b[0;34m(\u001b[0m\u001b[0;34m)\u001b[0m\u001b[0;34m:\u001b[0m\u001b[0;34m\u001b[0m\u001b[0;34m\u001b[0m\u001b[0m\n\u001b[1;32m    130\u001b[0m             \u001b[0;32mif\u001b[0m \u001b[0mforce\u001b[0m \u001b[0;32mor\u001b[0m \u001b[0mmanager\u001b[0m\u001b[0;34m.\u001b[0m\u001b[0mcanvas\u001b[0m\u001b[0;34m.\u001b[0m\u001b[0mfigure\u001b[0m\u001b[0;34m.\u001b[0m\u001b[0mstale\u001b[0m\u001b[0;34m:\u001b[0m\u001b[0;34m\u001b[0m\u001b[0;34m\u001b[0m\u001b[0m\n\u001b[0;32m--> 131\u001b[0;31m                 \u001b[0mmanager\u001b[0m\u001b[0;34m.\u001b[0m\u001b[0mcanvas\u001b[0m\u001b[0;34m.\u001b[0m\u001b[0mdraw_idle\u001b[0m\u001b[0;34m(\u001b[0m\u001b[0;34m)\u001b[0m\u001b[0;34m\u001b[0m\u001b[0;34m\u001b[0m\u001b[0m\n\u001b[0m\u001b[1;32m    132\u001b[0m \u001b[0;34m\u001b[0m\u001b[0m\n\u001b[1;32m    133\u001b[0m \u001b[0;34m\u001b[0m\u001b[0m\n",
            "\u001b[0;32m/usr/local/lib/python3.10/dist-packages/matplotlib/backend_bases.py\u001b[0m in \u001b[0;36mdraw_idle\u001b[0;34m(self, *args, **kwargs)\u001b[0m\n\u001b[1;32m   1889\u001b[0m         \u001b[0;32mif\u001b[0m \u001b[0;32mnot\u001b[0m \u001b[0mself\u001b[0m\u001b[0;34m.\u001b[0m\u001b[0m_is_idle_drawing\u001b[0m\u001b[0;34m:\u001b[0m\u001b[0;34m\u001b[0m\u001b[0;34m\u001b[0m\u001b[0m\n\u001b[1;32m   1890\u001b[0m             \u001b[0;32mwith\u001b[0m \u001b[0mself\u001b[0m\u001b[0;34m.\u001b[0m\u001b[0m_idle_draw_cntx\u001b[0m\u001b[0;34m(\u001b[0m\u001b[0;34m)\u001b[0m\u001b[0;34m:\u001b[0m\u001b[0;34m\u001b[0m\u001b[0;34m\u001b[0m\u001b[0m\n\u001b[0;32m-> 1891\u001b[0;31m                 \u001b[0mself\u001b[0m\u001b[0;34m.\u001b[0m\u001b[0mdraw\u001b[0m\u001b[0;34m(\u001b[0m\u001b[0;34m*\u001b[0m\u001b[0margs\u001b[0m\u001b[0;34m,\u001b[0m \u001b[0;34m**\u001b[0m\u001b[0mkwargs\u001b[0m\u001b[0;34m)\u001b[0m\u001b[0;34m\u001b[0m\u001b[0;34m\u001b[0m\u001b[0m\n\u001b[0m\u001b[1;32m   1892\u001b[0m \u001b[0;34m\u001b[0m\u001b[0m\n\u001b[1;32m   1893\u001b[0m     \u001b[0;34m@\u001b[0m\u001b[0mproperty\u001b[0m\u001b[0;34m\u001b[0m\u001b[0;34m\u001b[0m\u001b[0m\n",
            "\u001b[0;32m/usr/local/lib/python3.10/dist-packages/matplotlib/backends/backend_agg.py\u001b[0m in \u001b[0;36mdraw\u001b[0;34m(self)\u001b[0m\n\u001b[1;32m    380\u001b[0m         with (self.toolbar._wait_cursor_for_draw_cm() if self.toolbar\n\u001b[1;32m    381\u001b[0m               else nullcontext()):\n\u001b[0;32m--> 382\u001b[0;31m             \u001b[0mself\u001b[0m\u001b[0;34m.\u001b[0m\u001b[0mfigure\u001b[0m\u001b[0;34m.\u001b[0m\u001b[0mdraw\u001b[0m\u001b[0;34m(\u001b[0m\u001b[0mself\u001b[0m\u001b[0;34m.\u001b[0m\u001b[0mrenderer\u001b[0m\u001b[0;34m)\u001b[0m\u001b[0;34m\u001b[0m\u001b[0;34m\u001b[0m\u001b[0m\n\u001b[0m\u001b[1;32m    383\u001b[0m             \u001b[0;31m# A GUI class may be need to update a window using this draw, so\u001b[0m\u001b[0;34m\u001b[0m\u001b[0;34m\u001b[0m\u001b[0m\n\u001b[1;32m    384\u001b[0m             \u001b[0;31m# don't forget to call the superclass.\u001b[0m\u001b[0;34m\u001b[0m\u001b[0;34m\u001b[0m\u001b[0m\n",
            "\u001b[0;32m/usr/local/lib/python3.10/dist-packages/matplotlib/artist.py\u001b[0m in \u001b[0;36mdraw_wrapper\u001b[0;34m(artist, renderer, *args, **kwargs)\u001b[0m\n\u001b[1;32m     92\u001b[0m     \u001b[0;34m@\u001b[0m\u001b[0mwraps\u001b[0m\u001b[0;34m(\u001b[0m\u001b[0mdraw\u001b[0m\u001b[0;34m)\u001b[0m\u001b[0;34m\u001b[0m\u001b[0;34m\u001b[0m\u001b[0m\n\u001b[1;32m     93\u001b[0m     \u001b[0;32mdef\u001b[0m \u001b[0mdraw_wrapper\u001b[0m\u001b[0;34m(\u001b[0m\u001b[0martist\u001b[0m\u001b[0;34m,\u001b[0m \u001b[0mrenderer\u001b[0m\u001b[0;34m,\u001b[0m \u001b[0;34m*\u001b[0m\u001b[0margs\u001b[0m\u001b[0;34m,\u001b[0m \u001b[0;34m**\u001b[0m\u001b[0mkwargs\u001b[0m\u001b[0;34m)\u001b[0m\u001b[0;34m:\u001b[0m\u001b[0;34m\u001b[0m\u001b[0;34m\u001b[0m\u001b[0m\n\u001b[0;32m---> 94\u001b[0;31m         \u001b[0mresult\u001b[0m \u001b[0;34m=\u001b[0m \u001b[0mdraw\u001b[0m\u001b[0;34m(\u001b[0m\u001b[0martist\u001b[0m\u001b[0;34m,\u001b[0m \u001b[0mrenderer\u001b[0m\u001b[0;34m,\u001b[0m \u001b[0;34m*\u001b[0m\u001b[0margs\u001b[0m\u001b[0;34m,\u001b[0m \u001b[0;34m**\u001b[0m\u001b[0mkwargs\u001b[0m\u001b[0;34m)\u001b[0m\u001b[0;34m\u001b[0m\u001b[0;34m\u001b[0m\u001b[0m\n\u001b[0m\u001b[1;32m     95\u001b[0m         \u001b[0;32mif\u001b[0m \u001b[0mrenderer\u001b[0m\u001b[0;34m.\u001b[0m\u001b[0m_rasterizing\u001b[0m\u001b[0;34m:\u001b[0m\u001b[0;34m\u001b[0m\u001b[0;34m\u001b[0m\u001b[0m\n\u001b[1;32m     96\u001b[0m             \u001b[0mrenderer\u001b[0m\u001b[0;34m.\u001b[0m\u001b[0mstop_rasterizing\u001b[0m\u001b[0;34m(\u001b[0m\u001b[0;34m)\u001b[0m\u001b[0;34m\u001b[0m\u001b[0;34m\u001b[0m\u001b[0m\n",
            "\u001b[0;32m/usr/local/lib/python3.10/dist-packages/matplotlib/artist.py\u001b[0m in \u001b[0;36mdraw_wrapper\u001b[0;34m(artist, renderer)\u001b[0m\n\u001b[1;32m     69\u001b[0m                 \u001b[0mrenderer\u001b[0m\u001b[0;34m.\u001b[0m\u001b[0mstart_filter\u001b[0m\u001b[0;34m(\u001b[0m\u001b[0;34m)\u001b[0m\u001b[0;34m\u001b[0m\u001b[0;34m\u001b[0m\u001b[0m\n\u001b[1;32m     70\u001b[0m \u001b[0;34m\u001b[0m\u001b[0m\n\u001b[0;32m---> 71\u001b[0;31m             \u001b[0;32mreturn\u001b[0m \u001b[0mdraw\u001b[0m\u001b[0;34m(\u001b[0m\u001b[0martist\u001b[0m\u001b[0;34m,\u001b[0m \u001b[0mrenderer\u001b[0m\u001b[0;34m)\u001b[0m\u001b[0;34m\u001b[0m\u001b[0;34m\u001b[0m\u001b[0m\n\u001b[0m\u001b[1;32m     72\u001b[0m         \u001b[0;32mfinally\u001b[0m\u001b[0;34m:\u001b[0m\u001b[0;34m\u001b[0m\u001b[0;34m\u001b[0m\u001b[0m\n\u001b[1;32m     73\u001b[0m             \u001b[0;32mif\u001b[0m \u001b[0martist\u001b[0m\u001b[0;34m.\u001b[0m\u001b[0mget_agg_filter\u001b[0m\u001b[0;34m(\u001b[0m\u001b[0;34m)\u001b[0m \u001b[0;32mis\u001b[0m \u001b[0;32mnot\u001b[0m \u001b[0;32mNone\u001b[0m\u001b[0;34m:\u001b[0m\u001b[0;34m\u001b[0m\u001b[0;34m\u001b[0m\u001b[0m\n",
            "\u001b[0;32m/usr/local/lib/python3.10/dist-packages/matplotlib/figure.py\u001b[0m in \u001b[0;36mdraw\u001b[0;34m(self, renderer)\u001b[0m\n\u001b[1;32m   3255\u001b[0m \u001b[0;34m\u001b[0m\u001b[0m\n\u001b[1;32m   3256\u001b[0m                 \u001b[0mself\u001b[0m\u001b[0;34m.\u001b[0m\u001b[0mpatch\u001b[0m\u001b[0;34m.\u001b[0m\u001b[0mdraw\u001b[0m\u001b[0;34m(\u001b[0m\u001b[0mrenderer\u001b[0m\u001b[0;34m)\u001b[0m\u001b[0;34m\u001b[0m\u001b[0;34m\u001b[0m\u001b[0m\n\u001b[0;32m-> 3257\u001b[0;31m                 mimage._draw_list_compositing_images(\n\u001b[0m\u001b[1;32m   3258\u001b[0m                     renderer, self, artists, self.suppressComposite)\n\u001b[1;32m   3259\u001b[0m \u001b[0;34m\u001b[0m\u001b[0m\n",
            "\u001b[0;32m/usr/local/lib/python3.10/dist-packages/matplotlib/image.py\u001b[0m in \u001b[0;36m_draw_list_compositing_images\u001b[0;34m(renderer, parent, artists, suppress_composite)\u001b[0m\n\u001b[1;32m    132\u001b[0m     \u001b[0;32mif\u001b[0m \u001b[0mnot_composite\u001b[0m \u001b[0;32mor\u001b[0m \u001b[0;32mnot\u001b[0m \u001b[0mhas_images\u001b[0m\u001b[0;34m:\u001b[0m\u001b[0;34m\u001b[0m\u001b[0;34m\u001b[0m\u001b[0m\n\u001b[1;32m    133\u001b[0m         \u001b[0;32mfor\u001b[0m \u001b[0ma\u001b[0m \u001b[0;32min\u001b[0m \u001b[0martists\u001b[0m\u001b[0;34m:\u001b[0m\u001b[0;34m\u001b[0m\u001b[0;34m\u001b[0m\u001b[0m\n\u001b[0;32m--> 134\u001b[0;31m             \u001b[0ma\u001b[0m\u001b[0;34m.\u001b[0m\u001b[0mdraw\u001b[0m\u001b[0;34m(\u001b[0m\u001b[0mrenderer\u001b[0m\u001b[0;34m)\u001b[0m\u001b[0;34m\u001b[0m\u001b[0;34m\u001b[0m\u001b[0m\n\u001b[0m\u001b[1;32m    135\u001b[0m     \u001b[0;32melse\u001b[0m\u001b[0;34m:\u001b[0m\u001b[0;34m\u001b[0m\u001b[0;34m\u001b[0m\u001b[0m\n\u001b[1;32m    136\u001b[0m         \u001b[0;31m# Composite any adjacent images together\u001b[0m\u001b[0;34m\u001b[0m\u001b[0;34m\u001b[0m\u001b[0m\n",
            "\u001b[0;32m/usr/local/lib/python3.10/dist-packages/matplotlib/artist.py\u001b[0m in \u001b[0;36mdraw_wrapper\u001b[0;34m(artist, renderer)\u001b[0m\n\u001b[1;32m     69\u001b[0m                 \u001b[0mrenderer\u001b[0m\u001b[0;34m.\u001b[0m\u001b[0mstart_filter\u001b[0m\u001b[0;34m(\u001b[0m\u001b[0;34m)\u001b[0m\u001b[0;34m\u001b[0m\u001b[0;34m\u001b[0m\u001b[0m\n\u001b[1;32m     70\u001b[0m \u001b[0;34m\u001b[0m\u001b[0m\n\u001b[0;32m---> 71\u001b[0;31m             \u001b[0;32mreturn\u001b[0m \u001b[0mdraw\u001b[0m\u001b[0;34m(\u001b[0m\u001b[0martist\u001b[0m\u001b[0;34m,\u001b[0m \u001b[0mrenderer\u001b[0m\u001b[0;34m)\u001b[0m\u001b[0;34m\u001b[0m\u001b[0;34m\u001b[0m\u001b[0m\n\u001b[0m\u001b[1;32m     72\u001b[0m         \u001b[0;32mfinally\u001b[0m\u001b[0;34m:\u001b[0m\u001b[0;34m\u001b[0m\u001b[0;34m\u001b[0m\u001b[0m\n\u001b[1;32m     73\u001b[0m             \u001b[0;32mif\u001b[0m \u001b[0martist\u001b[0m\u001b[0;34m.\u001b[0m\u001b[0mget_agg_filter\u001b[0m\u001b[0;34m(\u001b[0m\u001b[0;34m)\u001b[0m \u001b[0;32mis\u001b[0m \u001b[0;32mnot\u001b[0m \u001b[0;32mNone\u001b[0m\u001b[0;34m:\u001b[0m\u001b[0;34m\u001b[0m\u001b[0;34m\u001b[0m\u001b[0m\n",
            "\u001b[0;32m/usr/local/lib/python3.10/dist-packages/matplotlib/axes/_base.py\u001b[0m in \u001b[0;36mdraw\u001b[0;34m(self, renderer)\u001b[0m\n\u001b[1;32m   3179\u001b[0m             \u001b[0m_draw_rasterized\u001b[0m\u001b[0;34m(\u001b[0m\u001b[0mself\u001b[0m\u001b[0;34m.\u001b[0m\u001b[0mget_figure\u001b[0m\u001b[0;34m(\u001b[0m\u001b[0mroot\u001b[0m\u001b[0;34m=\u001b[0m\u001b[0;32mTrue\u001b[0m\u001b[0;34m)\u001b[0m\u001b[0;34m,\u001b[0m \u001b[0martists_rasterized\u001b[0m\u001b[0;34m,\u001b[0m \u001b[0mrenderer\u001b[0m\u001b[0;34m)\u001b[0m\u001b[0;34m\u001b[0m\u001b[0;34m\u001b[0m\u001b[0m\n\u001b[1;32m   3180\u001b[0m \u001b[0;34m\u001b[0m\u001b[0m\n\u001b[0;32m-> 3181\u001b[0;31m         mimage._draw_list_compositing_images(\n\u001b[0m\u001b[1;32m   3182\u001b[0m             renderer, self, artists, self.get_figure(root=True).suppressComposite)\n\u001b[1;32m   3183\u001b[0m \u001b[0;34m\u001b[0m\u001b[0m\n",
            "\u001b[0;32m/usr/local/lib/python3.10/dist-packages/matplotlib/image.py\u001b[0m in \u001b[0;36m_draw_list_compositing_images\u001b[0;34m(renderer, parent, artists, suppress_composite)\u001b[0m\n\u001b[1;32m    132\u001b[0m     \u001b[0;32mif\u001b[0m \u001b[0mnot_composite\u001b[0m \u001b[0;32mor\u001b[0m \u001b[0;32mnot\u001b[0m \u001b[0mhas_images\u001b[0m\u001b[0;34m:\u001b[0m\u001b[0;34m\u001b[0m\u001b[0;34m\u001b[0m\u001b[0m\n\u001b[1;32m    133\u001b[0m         \u001b[0;32mfor\u001b[0m \u001b[0ma\u001b[0m \u001b[0;32min\u001b[0m \u001b[0martists\u001b[0m\u001b[0;34m:\u001b[0m\u001b[0;34m\u001b[0m\u001b[0;34m\u001b[0m\u001b[0m\n\u001b[0;32m--> 134\u001b[0;31m             \u001b[0ma\u001b[0m\u001b[0;34m.\u001b[0m\u001b[0mdraw\u001b[0m\u001b[0;34m(\u001b[0m\u001b[0mrenderer\u001b[0m\u001b[0;34m)\u001b[0m\u001b[0;34m\u001b[0m\u001b[0;34m\u001b[0m\u001b[0m\n\u001b[0m\u001b[1;32m    135\u001b[0m     \u001b[0;32melse\u001b[0m\u001b[0;34m:\u001b[0m\u001b[0;34m\u001b[0m\u001b[0;34m\u001b[0m\u001b[0m\n\u001b[1;32m    136\u001b[0m         \u001b[0;31m# Composite any adjacent images together\u001b[0m\u001b[0;34m\u001b[0m\u001b[0;34m\u001b[0m\u001b[0m\n",
            "\u001b[0;32m/usr/local/lib/python3.10/dist-packages/matplotlib/artist.py\u001b[0m in \u001b[0;36mdraw_wrapper\u001b[0;34m(artist, renderer)\u001b[0m\n\u001b[1;32m     69\u001b[0m                 \u001b[0mrenderer\u001b[0m\u001b[0;34m.\u001b[0m\u001b[0mstart_filter\u001b[0m\u001b[0;34m(\u001b[0m\u001b[0;34m)\u001b[0m\u001b[0;34m\u001b[0m\u001b[0;34m\u001b[0m\u001b[0m\n\u001b[1;32m     70\u001b[0m \u001b[0;34m\u001b[0m\u001b[0m\n\u001b[0;32m---> 71\u001b[0;31m             \u001b[0;32mreturn\u001b[0m \u001b[0mdraw\u001b[0m\u001b[0;34m(\u001b[0m\u001b[0martist\u001b[0m\u001b[0;34m,\u001b[0m \u001b[0mrenderer\u001b[0m\u001b[0;34m)\u001b[0m\u001b[0;34m\u001b[0m\u001b[0;34m\u001b[0m\u001b[0m\n\u001b[0m\u001b[1;32m     72\u001b[0m         \u001b[0;32mfinally\u001b[0m\u001b[0;34m:\u001b[0m\u001b[0;34m\u001b[0m\u001b[0;34m\u001b[0m\u001b[0m\n\u001b[1;32m     73\u001b[0m             \u001b[0;32mif\u001b[0m \u001b[0martist\u001b[0m\u001b[0;34m.\u001b[0m\u001b[0mget_agg_filter\u001b[0m\u001b[0;34m(\u001b[0m\u001b[0;34m)\u001b[0m \u001b[0;32mis\u001b[0m \u001b[0;32mnot\u001b[0m \u001b[0;32mNone\u001b[0m\u001b[0;34m:\u001b[0m\u001b[0;34m\u001b[0m\u001b[0;34m\u001b[0m\u001b[0m\n",
            "\u001b[0;32m/usr/local/lib/python3.10/dist-packages/matplotlib/text.py\u001b[0m in \u001b[0;36mdraw\u001b[0;34m(self, renderer)\u001b[0m\n\u001b[1;32m    806\u001b[0m                                           mtext=mtext)\n\u001b[1;32m    807\u001b[0m                 \u001b[0;32melse\u001b[0m\u001b[0;34m:\u001b[0m\u001b[0;34m\u001b[0m\u001b[0;34m\u001b[0m\u001b[0m\n\u001b[0;32m--> 808\u001b[0;31m                     textrenderer.draw_text(gc, x, y, clean_line,\n\u001b[0m\u001b[1;32m    809\u001b[0m                                            \u001b[0mself\u001b[0m\u001b[0;34m.\u001b[0m\u001b[0m_fontproperties\u001b[0m\u001b[0;34m,\u001b[0m \u001b[0mangle\u001b[0m\u001b[0;34m,\u001b[0m\u001b[0;34m\u001b[0m\u001b[0;34m\u001b[0m\u001b[0m\n\u001b[1;32m    810\u001b[0m                                            ismath=ismath, mtext=mtext)\n",
            "\u001b[0;32m/usr/local/lib/python3.10/dist-packages/matplotlib/backends/backend_agg.py\u001b[0m in \u001b[0;36mdraw_text\u001b[0;34m(self, gc, x, y, s, prop, angle, ismath, mtext)\u001b[0m\n\u001b[1;32m    190\u001b[0m         \u001b[0;31m# We pass '0' for angle here, since it will be rotated (in raster\u001b[0m\u001b[0;34m\u001b[0m\u001b[0;34m\u001b[0m\u001b[0m\n\u001b[1;32m    191\u001b[0m         \u001b[0;31m# space) in the following call to draw_text_image).\u001b[0m\u001b[0;34m\u001b[0m\u001b[0;34m\u001b[0m\u001b[0m\n\u001b[0;32m--> 192\u001b[0;31m         \u001b[0mfont\u001b[0m\u001b[0;34m.\u001b[0m\u001b[0mset_text\u001b[0m\u001b[0;34m(\u001b[0m\u001b[0ms\u001b[0m\u001b[0;34m,\u001b[0m \u001b[0;36m0\u001b[0m\u001b[0;34m,\u001b[0m \u001b[0mflags\u001b[0m\u001b[0;34m=\u001b[0m\u001b[0mget_hinting_flag\u001b[0m\u001b[0;34m(\u001b[0m\u001b[0;34m)\u001b[0m\u001b[0;34m)\u001b[0m\u001b[0;34m\u001b[0m\u001b[0;34m\u001b[0m\u001b[0m\n\u001b[0m\u001b[1;32m    193\u001b[0m         font.draw_glyphs_to_bitmap(\n\u001b[1;32m    194\u001b[0m             antialiased=gc.get_antialiased())\n",
            "\u001b[0;31mKeyboardInterrupt\u001b[0m: "
          ]
        }
      ],
      "source": [
        "df_cm = confusion_matrix(test_y,predictions,labels=test_y.unique())\n",
        "heatmap = sns.heatmap(df_cm, annot=True, fmt=\"d\")\n",
        "heatmap.yaxis.set_ticklabels(test_y.unique(), rotation=0, ha='right')\n",
        "heatmap.xaxis.set_ticklabels(test_y.unique(), rotation=45, ha='right')\n",
        "plt.ylabel('Valor Verdadero')\n",
        "plt.xlabel('Valor Predicho');"
      ]
    },
    {
      "cell_type": "markdown",
      "source": [
        "## usar el modelo para hacer la prediccion"
      ],
      "metadata": {
        "id": "JaT7UsjA1IPi"
      }
    },
    {
      "cell_type": "code",
      "execution_count": null,
      "metadata": {
        "id": "AtQ_Ui8xQ7BZ"
      },
      "outputs": [],
      "source": [
        "to_predict = \"Fue terrible la clase, el profesor se tom\\xF3 una siesta y nos hizo usar machine learning para ver cu\\xE1nto tiempo dorm\\xEDa\" #@param {type:\"string\"}\n",
        "clf.predict([to_predict])[0]"
      ]
    },
    {
      "cell_type": "markdown",
      "source": [
        "## naive bayes distribucion binomial, vectorizacion por tf y df"
      ],
      "metadata": {
        "id": "D34WiHc1xytE"
      }
    }
  ],
  "metadata": {
    "colab": {
      "provenance": [],
      "include_colab_link": true
    },
    "kernelspec": {
      "display_name": "Python 3",
      "name": "python3"
    },
    "language_info": {
      "name": "python",
      "version": "3.8.8"
    },
    "vscode": {
      "interpreter": {
        "hash": "988c801e8fa6188d3e53012a7256361dd6100dad47899d4700f624e035bcb20b"
      }
    }
  },
  "nbformat": 4,
  "nbformat_minor": 0
}