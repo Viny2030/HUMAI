{
  "cells": [
    {
      "cell_type": "markdown",
      "metadata": {
        "id": "view-in-github",
        "colab_type": "text"
      },
      "source": [
        "<a href=\"https://colab.research.google.com/github/Viny2030/HUMAI/blob/main/web_scraping_http_inicial.ipynb\" target=\"_parent\"><img src=\"https://colab.research.google.com/assets/colab-badge.svg\" alt=\"Open In Colab\"/></a>"
      ]
    },
    {
      "cell_type": "markdown",
      "metadata": {
        "id": "q2ZflpmKy8wU"
      },
      "source": [
        "<a href=\"https://colab.research.google.com/github/institutohumai/cursos-python/blob/master/Scraping/1_HTTP_Inicial/web_scraping_http_inicial.ipynb\" target=\"_parent\"><img src=\"https://colab.research.google.com/assets/colab-badge.svg\" alt=\"Open In Colab\" data-canonical-src=\"https://colab.research.google.com/assets/colab-badge.svg\"></a>"
      ]
    },
    {
      "cell_type": "markdown",
      "metadata": {
        "id": "dJikR8QwA0Zt"
      },
      "source": [
        "# **Web Scraping: Extrayendo datos de Internet**"
      ]
    },
    {
      "cell_type": "markdown",
      "metadata": {
        "id": "bTg_uMsf2sXB"
      },
      "source": [
        "## **¿Qué es el web scraping?**  🤔\n",
        "\n",
        "*La práctica de **recopilar datos** a través de cualquier medio que no sea un programa que interactúa con una API o un humano que usa un navegador web. **Normalmente mediante un programa automatizado** que consulta un servidor web, solicita datos (generalmente en forma de HTML y otros archivos que componen las páginas web) y luego analiza esos datos para extraer la información necesaria.*\n",
        "\n",
        "<br>\n",
        "\n",
        "<center>\n",
        "<img src=\"https://images-na.ssl-images-amazon.com/images/I/517z2NUzcEL._SX198_BO1,204,203,200_QL40_ML2_.jpg\">\n",
        "</center>\n",
        "\n",
        "<br>\n",
        "\n",
        "*Por otro lado, el **web crawling o indexación** se utiliza para indexar la información de la página mediante bots también conocidos como crawlers (lo que hacen los motores de búsqueda). Se trata de ver una página como un todo e indexarla. Cuando un bot rastrea un sitio web, **recorre todas las páginas y todos los enlaces**, hasta la última línea del sitio web, en busca de **CUALQUIER información**.*"
      ]
    },
    {
      "cell_type": "markdown",
      "metadata": {
        "id": "wDfhvFueahvR"
      },
      "source": [
        "## **Antes de empezar** ⚠️\n",
        "\n",
        "1. *Aspectos éticos y legales del web scraping*\n",
        "  * El web scraping es una forma automática de guardar información que se presenta en nuestro navegador muy utilizada tanto en la industria como en la academia, sus aspectos legales dependerán de cada sitio y de cada estado. Respecto a la ética es importante que nos detengamos a pensar si estamos o no generando algun perjuicio. En ambos casos el debate está abierto y hay mucha bibliografía al respecto como por ejemplo [este trabajo](https://www.researchgate.net/profile/Vlad-Krotov/publication/324907302_Legality_and_Ethics_of_Web_Scraping/links/5aea622345851588dd8287dc/Legality-and-Ethics-of-Web-Scraping.pdf)\n",
        "\n",
        "2. *No reinventar la rueda*\n",
        "  * Emprender un proyecto de web scraping a veces es rapido y sencillo, pero normalmente requiere tiempo y esfuerzo. Siempre es aconsejable asegurarse de que valga la pena y antes iniciar hacerse algunas preguntas:<br>\n",
        "    - ¿La informacion que necesito ya se encuentra disponible? (ej: APIs)\n",
        "    - ¿Vale la pena automatizarlo o es algo que lleva poco trabajo a mano?\n",
        "\n",
        "\n",
        "\n"
      ]
    },
    {
      "cell_type": "markdown",
      "metadata": {
        "id": "JodftJTr_eGi"
      },
      "source": [
        "## **Conceptos básicos sobre la web**\n",
        "\n",
        "#### HTML, CSS y JavaScript son los tres lenguajes principales con los que está hecho la parte de la web que vemos (*front-end*).\n",
        "\n",
        "<center>\n",
        "<img src=\"https://www.nicepng.com/png/detail/142-1423886_html5-css3-js-html-css-javascript.png\" width=\"400\">\n",
        "\n",
        "<img src=\"https://geekflare.com/wp-content/uploads/2019/12/css-gif.gif\" width=\"243\">\n",
        "\n",
        "\n",
        "</center>\n",
        "\n",
        "<br>\n",
        "<br>\n",
        "\n",
        "| ESTRUCTURA  | ESTILO | FUNCIONALIDAD|\n",
        "|-----|----------------| ---------- |\n",
        "|HTML| CSS | JAVASCRIPT|\n",
        "\n",
        "<font color=\"gray\">\n",
        "Fuente de las imágenes: <br>\n",
        "https://geekflare.com/es/css-formatting-optimization-tools/ <br>\n",
        "https://www.nicepng.com/ourpic/u2q8i1o0e6q8r5t4_html5-css3-js-html-css-javascript/\n",
        "</font>\n",
        "\n"
      ]
    },
    {
      "cell_type": "markdown",
      "metadata": {
        "id": "UvoyAdrL2pGS"
      },
      "source": [
        "## Introducción a HTML"
      ]
    },
    {
      "cell_type": "markdown",
      "metadata": {
        "id": "WZ8PvQ87A0Z1"
      },
      "source": [
        "El lenguaje principal de la internet es HTML, cuando nosotros vemos algo así:\n",
        "\n",
        "![](https://github.com/institutohumai/cursos-python/blob/master/Scraping/1_HTTP_Inicial/multimedia/hello-world.jpeg?raw=1)\n",
        "\n",
        "Eso se genera a partir de una código que luce así\n",
        "\n",
        "```html\n",
        "<html>\n",
        "  <header>\n",
        "    <title>Web Scraping - Instituto Humai</title>\n",
        "  </header>\n",
        "  <body>\n",
        "    <h1>¡Hola!</h1>\n",
        "    <p>Esto es un sitio web</p>\n",
        "  </body>\n",
        "</html>\n",
        "```\n",
        "\n",
        "**_Nota_**: Para saber más sobre HTML podés consultar [acá](https://www.w3schools.com/TAGS/default.ASP) la lista de etiquetas de este lenguaje."
      ]
    },
    {
      "cell_type": "markdown",
      "metadata": {
        "id": "B6sSeFHDGY26"
      },
      "source": [
        "\n",
        "```html\n",
        "  <head>\n",
        "    <title>Mi primer pagina</title>\n",
        "  </head>\n",
        "  <body>\n",
        "    <h1 id='titulo'>Hola</h1>\n",
        "    <h2 style='color:red;'>Subtitulo en rojo</h2>\n",
        "    <p>Primer parrafo</p>\n",
        "    <hr>\n",
        "    <img src=\"https://i.pinimg.com/564x/8f/14/25/8f142555ef5006abd82d8c5c7f9f8570.jpg\" alt=\"gato\" width=400>\n",
        "  </body>\n",
        "```\n",
        "<center>\n",
        "<img src=\"https://i.ibb.co/9pqvGSv/HTML-gatito.png\"  width=800> <br>\n",
        "<h3>Probar el código: <a>https://codepen.io/GEJ1/pen/GRmVNPb</a></h3>\n",
        "</center>\n"
      ]
    },
    {
      "cell_type": "markdown",
      "metadata": {
        "id": "MrnbZl5CETFL"
      },
      "source": [
        "## DOM (Document Object Model)\n",
        "\n",
        "\n",
        "Interfaz independiente del lenguaje que trata un documento XML o HTML como una estructura de tipo **árbol**\n",
        "<figure>\n",
        "<img src=\"https://upload.wikimedia.org/wikipedia/commons/thumb/5/5a/DOM-model.svg/330px-DOM-model.svg.png\" width=\"500\">\n",
        "\n",
        "```html\n",
        "<html>\n",
        "  <head>\n",
        "    <title>My title</title>\n",
        "  </head>\n",
        "  <body>\n",
        "    <h1>A heading</h1>\n",
        "    <a href>Link text</a>\n",
        "  </body>\n",
        "</html>\n",
        "```\n",
        "</figure>\n",
        "\n",
        "<font color=\"gray\"> Fuente: https://en.wikipedia.org/wiki/Document_Object_Model\n",
        "<br>Autor: Birger Eriksson\n",
        "</font>\n"
      ]
    },
    {
      "cell_type": "markdown",
      "metadata": {
        "id": "B3s4n2eqA0Z3"
      },
      "source": [
        "## ¿Cómo consigo el código HTML?\n",
        "\n",
        "Ahora que sabemos cuál es el componente principal de los sitios webs podemos intentar programar a nuestra computadora para leer HTML y extraer información útil.\n",
        "\n",
        "Para conseguir el código de un sitio web podemos presionar `ctrl+u` en el navegador.\n",
        "\n",
        "Para hacer lo mismo desde Python podemos hacer lo siguiente:"
      ]
    },
    {
      "cell_type": "code",
      "execution_count": 1,
      "metadata": {
        "colab": {
          "base_uri": "https://localhost:8080/"
        },
        "id": "lCA6aQ1gA0Z5",
        "outputId": "8d697bf9-c556-41fb-b78b-077ec02e9c84"
      },
      "outputs": [
        {
          "output_type": "stream",
          "name": "stdout",
          "text": [
            "<!DOCTYPE html>\n",
            "<html class=\"client-nojs vector-feature-language-in-header-enabled vector-feature-language-in-main-page-header-disabled vector-feature-sticky-header-disabled vector-feature-page-tools-pinned-disabled vector-feature-toc-pinned-clientpref-1 vector-feature-main-menu-pinned-disabled vector-feature-limited-width-clientpref-1 vector-feature-limited-width-content-enabled vector-feature-custom-font-size-clientpref-1 vector-feature-appearance-pinned-clientpref-1 vector-feature-night-mode-enabled skin-theme-clientpref-day vector-toc-available\" lang=\"es\" dir=\"ltr\">\n",
            "<head>\n",
            "<meta charset=\"UTF-8\">\n",
            "<title>HTML - Wikipedia, la enciclopedia libre</title>\n",
            "<script>(function(){var className=\"client-js vector-feature-language-in-header-enabled vector-feature-language-in-main-page-header-disabled vector-feature-sticky-header-disabled vector-feature-page-tools-pinned-disabled vector-feature-toc-pinned-clientpref-1 vector-feature-main-menu-pinned-disabled vector-feature-limited-width-clientpre\n"
          ]
        }
      ],
      "source": [
        "#Importamos la libreria necesaria\n",
        "import requests\n",
        "\n",
        "un_sitio_web = \"https://es.wikipedia.org/wiki/HTML\"\n",
        "\n",
        "# esto descarga la información del sitio web\n",
        "# Es similar a lo que hace un navegador web antes de mostrar el contenido de forma amigable para un humano\n",
        "resultado = requests.get(un_sitio_web)\n",
        "\n",
        "# accedemos al código a través del atributo \"text\" del resultado\n",
        "codigo_html = resultado.text\n",
        "print(codigo_html[:1000])"
      ]
    },
    {
      "cell_type": "markdown",
      "metadata": {
        "id": "fyGIaAQNA0Z7"
      },
      "source": [
        "### ¿Qué acabamos de hacer?\n",
        "\n",
        "Veamos algunos detalles más sobre cómo descargar el contenido de un sitio web (O cómo se le suele decir en la jerga de la programación _realizar un request_). Como dijimos, en python se puede utilizar la función get de la libreria requests para hacer esto, veamos con mayor profundidad cómo se utiliza."
      ]
    },
    {
      "cell_type": "code",
      "execution_count": 2,
      "metadata": {
        "colab": {
          "base_uri": "https://localhost:8080/"
        },
        "id": "ekwXCdmkA0Z8",
        "outputId": "dde79439-9579-42aa-bbfe-adbbaedfa8a1"
      },
      "outputs": [
        {
          "output_type": "stream",
          "name": "stdout",
          "text": [
            "------------------------------\n",
            "Respuesta sin headers\n",
            "{\n",
            "  \"headers\": {\n",
            "    \"Accept\": \"*/*\", \n",
            "    \"Accept-Encoding\": \"gzip, deflate\", \n",
            "    \"Host\": \"httpbin.org\", \n",
            "    \"User-Agent\": \"python-requests/2.32.3\", \n",
            "    \"X-Amzn-Trace-Id\": \"Root=1-67675846-55a0c8df7a9347f8520e4d14\"\n",
            "  }\n",
            "}\n",
            "\n",
            "------------------------------\n",
            "Respuesta con headers\n",
            "{\n",
            "  \"headers\": {\n",
            "    \"Accept\": \"*/*\", \n",
            "    \"Accept-Encoding\": \"gzip, deflate\", \n",
            "    \"Host\": \"httpbin.org\", \n",
            "    \"User-Agent\": \"Mozilla/5.0 (X11; Linux x86_64) AppleWebKit/537.36 (KHTML, like Gecko) Chrome/84.0.4147.105 Safari/537.36\", \n",
            "    \"X-Amzn-Trace-Id\": \"Root=1-67675846-5c5d8de3427cca2403d0a983\"\n",
            "  }\n",
            "}\n",
            "\n"
          ]
        }
      ],
      "source": [
        "# httpbin es una pagina para testear pedidos HTTP, en particular la siguiente URL nos devuelve nuestro header.\n",
        "url = 'http://httpbin.org/headers'\n",
        "resp = requests.get(url)\n",
        "\n",
        "print('------------------------------')\n",
        "print('Respuesta sin headers')\n",
        "print(resp.text)\n",
        "\n",
        "print('------------------------------')\n",
        "print('Respuesta con headers')\n",
        "nuestros_headers = {\n",
        "    'user-agent': 'Mozilla/5.0 (X11; Linux x86_64) AppleWebKit/537.36 (KHTML, like Gecko) Chrome/84.0.4147.105 Safari/537.36'\n",
        "    }\n",
        "resp_con_headers = requests.get(url, headers = nuestros_headers)\n",
        "print(resp_con_headers.text)\n"
      ]
    },
    {
      "cell_type": "markdown",
      "metadata": {
        "id": "XhxvusaLA0Z8"
      },
      "source": [
        "A parte de la _url_, muchas veces se especifican los _headers_, estos son objetos que proveen datos sobre nuestro _request_, por ejemplo en el campo user-agent brindamos detalles sobre quienes somos (Nuestro sistema operativo, navegador web y demás). En este caso, como no estamos usando un navegador sino que hacemos el _request_ desde Python normalmente se omite este campo, o en caso de ser obligatorio se puede inventar, ya que algunos sitios nos van a ignorar a menos que especifiquemos este campo.\n",
        "\n",
        "Pueden ver más en esta [Lista de Headers](https://en.wikipedia.org/wiki/List_of_HTTP_header_fields)\n",
        "\n",
        "- Consultas\n",
        "    - ¿Por qué los sitios te podrían bloquear/ignorar?\n",
        "    - ¿De donde saco un user-agent?\n"
      ]
    },
    {
      "cell_type": "markdown",
      "metadata": {
        "id": "MdRjN5y1CuBK"
      },
      "source": [
        "### Protocolo HTTP"
      ]
    },
    {
      "cell_type": "markdown",
      "metadata": {
        "id": "2w07ITLwHmi8"
      },
      "source": [
        "La web utiliza ampliamente el protocolo HTTP (de _Hypertext Transfer Protocol_) para interactuar con sus recursos. Este protocolo indica cómo estructurar un mensaje de texto que describa la petición (**request**) del usuario a un servidor. Hay distintos tipos de peticios que un usuario puede realizar, algunas de ellas son:\n",
        "\n",
        "* **GET**: Solicita una representación de un recurso alojado en el servidor.\n",
        "* **POST**: Envía datos al servidor para crear un recurso nuevo.\n",
        "* **PUT**: Crea o modifica un recurso del servidor.\n",
        "* **DELETE**: Elimina un recurso del servidor.\n",
        "\n",
        "Existen otros métodos que no nos van a ser relevantes por ahora.\n",
        "\n",
        "Cada vez que vamos al navegador y escribimos la dirección de una página web, **estamos haciendo un GET request** a un servidor.\n",
        "Esto es una petición para adquirir el código de un recurso que queremos visualizar en el navegador."
      ]
    },
    {
      "cell_type": "markdown",
      "metadata": {
        "id": "U_wuF5Mq1ikJ"
      },
      "source": [
        "Como vimos antes la función `get` retorna un objeto, el cual llamamos _resp_, este es un elemento de la clase **_Response_** y tiene distintos atributos a los que podemos acceder.\n",
        "\n",
        "El objeto **_Response_** de requests tiene los siguientes elementos principales:\n",
        "\n",
        "- **.text**: devuelve el contenido como string.\n",
        "- **.content**: devuelve el contenido en bytes.\n",
        "- **.json()**: el contenido en formato JSON, si es posible.\n",
        "- **.status_code**: el código de respuesta.\n",
        "\n",
        "\n",
        "El código de status (*status code*) nos informa del estado de nuestra *request*\n",
        "\n",
        "Códigos posibles:\n",
        "\n",
        "- 1xx Mensaje de información\n",
        "- 2xx Éxito\n",
        "- 3xx Redirigir a otra URL\n",
        "- 4xx Error del cliente\n",
        "- 5xx Error del servidor\n",
        "\n",
        "<center>\n",
        "<img alt=\"http-status-codes\" src=\"https://miro.medium.com/max/1400/1*w_iicbG7L3xEQTArjHUS6g.jpeg\" width=\"500\"> <br>\n",
        "<font color='gray'>Fuente: https://www.youtube.com/watch?v=LtNSd_4txVc\n",
        "</font>\n",
        "</center>\n",
        "\n"
      ]
    },
    {
      "cell_type": "code",
      "execution_count": 3,
      "metadata": {
        "colab": {
          "base_uri": "https://localhost:8080/"
        },
        "id": "BJoW-QxnA0Z9",
        "outputId": "4d84908c-90ab-44ae-e431-650c48cfc22e"
      },
      "outputs": [
        {
          "output_type": "execute_result",
          "data": {
            "text/plain": [
              "200"
            ]
          },
          "metadata": {},
          "execution_count": 3
        }
      ],
      "source": [
        "#Vemos el código de estado\n",
        "# 200 es que esta todo bien, 5xx o 4xx es que esta todo mal (Por ejemplo el clasico 404)\n",
        "resp.status_code"
      ]
    },
    {
      "cell_type": "code",
      "execution_count": 4,
      "metadata": {
        "id": "LyzTCE9lA0Z-",
        "outputId": "0733d2b1-d778-4504-de44-3573db40d239",
        "colab": {
          "base_uri": "https://localhost:8080/"
        }
      },
      "outputs": [
        {
          "output_type": "execute_result",
          "data": {
            "text/plain": [
              "{'User-Agent': 'python-requests/2.32.3', 'Accept-Encoding': 'gzip, deflate', 'Accept': '*/*', 'Connection': 'keep-alive'}"
            ]
          },
          "metadata": {},
          "execution_count": 4
        }
      ],
      "source": [
        "#Vemos los headers que enviamos\n",
        "resp.request.headers"
      ]
    },
    {
      "cell_type": "markdown",
      "metadata": {
        "id": "tgd3ifvlA0Z_"
      },
      "source": [
        "El atributo que nos interesa particularmente es resp.text, que guardan el contenido de la página.\n",
        "\n",
        "Como vamos a descargar el codigo de un sitio frecuentemente armamos una funcion para no reescribir lo mismo muchas veces"
      ]
    },
    {
      "cell_type": "code",
      "execution_count": 5,
      "metadata": {
        "id": "ZtjjqrYdA0Z_"
      },
      "outputs": [],
      "source": [
        "def codigo_html(url):\n",
        "    headers = {\n",
        "        'user-agent': 'Mozilla/5.0 (X11; Linux x86_64) AppleWebKit/537.36 (KHTML, like Gecko) Chrome/84.0.4147.105 Safari/537.36'\n",
        "        }\n",
        "    resp = requests.get(url, headers = headers)\n",
        "    return resp.text"
      ]
    },
    {
      "cell_type": "code",
      "execution_count": 6,
      "metadata": {
        "id": "dp8KOmTafohn",
        "colab": {
          "base_uri": "https://localhost:8080/"
        },
        "outputId": "c53d3b77-a8a6-4662-a52a-dfc66bb92e39"
      },
      "outputs": [
        {
          "output_type": "stream",
          "name": "stdout",
          "text": [
            "Este es el contenido en bytes: \n",
            " b'\\x89PNG\\r\\n\\x1a\\n\\x00\\x00\\x00\\rIHDR\\x00\\x00\\x01%\\x00\\x00\\x01\\x9d\\x08\\x06\\x00\\x00\\x00T\\xfeeo\\x00\\x00\\x00 cHRM\\x00\\x00z&\\x00\\x00\\x80\\x84\\x00\\x00\\xfa\\x00\\x00\\x00\\x80\\xe8\\x00\\x00u0\\x00\\x00\\xea`\\x00\\x00:\\x98\\x00\\x00\\x17p\\x9c\\xbaQ<\\x00\\x00\\x00\\x01sRGB\\x00\\xae\\xce\\x1c\\xe9\\x00\\x00\\x00\\x04gAMA\\x00\\x00'\n"
          ]
        }
      ],
      "source": [
        "# Tambien podemos scrapear otro tipo de a que no sea texto\n",
        "import requests\n",
        "\n",
        "# defino la URL\n",
        "image_url = 'https://storage.googleapis.com/humai-datasets/imagenes/automatizacion_scraping/cursos-index.png'\n",
        "\n",
        "# Hago una peticion y guardo la respuesta\n",
        "image_response = requests.get(image_url)\n",
        "\n",
        "# Accedemos al contenido de la imagen en bytes\n",
        "image_response_content = image_response.content\n",
        "\n",
        "print(f'Este es el contenido en bytes: \\n {image_response_content[:100]}')"
      ]
    },
    {
      "cell_type": "code",
      "execution_count": 7,
      "metadata": {
        "id": "XCeM77vEf70c",
        "colab": {
          "base_uri": "https://localhost:8080/",
          "height": 465
        },
        "outputId": "a28d48e7-6124-47ea-edfa-b818cc1bfb82"
      },
      "outputs": [
        {
          "output_type": "stream",
          "name": "stdout",
          "text": [
            "Esta imagen la bajamos de internet usando Python! \n",
            " \n"
          ]
        },
        {
          "output_type": "execute_result",
          "data": {
            "text/plain": [
              "<PIL.PngImagePlugin.PngImageFile image mode=RGBA size=293x413>"
            ],
            "image/png": "[encoded data removed]"
          },
          "metadata": {},
          "execution_count": 7
        }
      ],
      "source": [
        "# Importamos librerias para manejar imagenes (no tienen nada que ver con el scrapeo)\n",
        "from PIL import Image\n",
        "from io import BytesIO\n",
        "\n",
        "# Mostramos la imagen\n",
        "image_from_url = Image.open(BytesIO(image_response_content))\n",
        "print('Esta imagen la bajamos de internet usando Python! \\n ')\n",
        "image_from_url"
      ]
    },
    {
      "cell_type": "markdown",
      "metadata": {
        "id": "h1cGseCPA0aA"
      },
      "source": [
        "### Documentación\n",
        "La función get y la clase Response fueron desarrolladas por lxs programadores que crearon la librería requests. Si quieren saber mas sobre algún detalle siempre es recomendable buscar en la [documentación oficial de la librería](https://docs.python-requests.org/en/latest/)."
      ]
    },
    {
      "cell_type": "markdown",
      "metadata": {
        "id": "NYNXMrDgA0aA"
      },
      "source": [
        "## ¿Cómo extraigo datos útiles del código HTML?\n",
        "\n",
        "- Veamos un ejemplo inspeccionando con chrome un sitio web:\n",
        "1. Nos posicionamos sobre el elemento que nos interesa.\n",
        "2. Presionamos click derecho -> *inspeccionar elemento* para abrir las *herramientas de desarrollo* (o presionando `CTRL + SHIFT + I`)\n",
        "4. Esto nos da acceso al codigo de HTML correspondiente al elemento de la pagina que nos interesa.\n",
        "\n",
        "\n",
        "<img src=\"https://i.ibb.co/1RSNcs5/inspect.png\" alt=\"inspect\" width=\"1100\">\n",
        "\n",
        "<hr>\n",
        "<br>\n",
        "<br>\n",
        "\n",
        "En **Elements** vamos a poder inspeccionar el código HTML, para ubicar los datos de nuestro interés. Para identificar la ubicación de uno, podemos posicionarnos con el cursor sobre el sitio, hacer click derecho, y seleccionar \"Inspeccionar elemento\".\n",
        "\n",
        "En la solapa **Network** podemos ver todos los paquetes HTTP que realiza nuestro navegador interactuando con un sitio. Identificando los paquetes de las APIs que traen los datos, podemos _scrapear_ datos más facilmente. **[Esto lo verán en la clase de APIs]**\n",
        "\n",
        "<br>\n",
        "<br>\n",
        "\n",
        "<img src='https://i2.wp.com/abodeqa.com/wp-content/uploads/2019/02/Inspect-Element-Using-Select-Tool.gif'>\n",
        "\n"
      ]
    },
    {
      "cell_type": "markdown",
      "metadata": {
        "id": "j208C_1eH8Z4"
      },
      "source": [
        "### **Método 1: Expresiones regulares**"
      ]
    },
    {
      "cell_type": "markdown",
      "metadata": {
        "id": "IIprwSHYA0aA"
      },
      "source": [
        "RegEx para los amigos. Son un mini lenguaje de programación diseñado para realizar búsquedas en strings."
      ]
    },
    {
      "cell_type": "markdown",
      "metadata": {
        "id": "BhrBctRSA0aB"
      },
      "source": [
        "Las funciones principales de la librería re son:\n",
        "- re.findall(pattern, string) para encontrar todos los resultados de una búsqueda\n",
        "- re.search(pattern, string) para encontrar el primer resultado que coincida\n",
        "- re.sub(pattern, replace, string) para substituir un texto por otro\n",
        "\n",
        "Recursos útiles\n",
        "\n",
        "- [Testeo de regex online](https://regex101.com/)\n",
        "- [CheatSheet](https://www.dataquest.io/wp-content/uploads/2019/03/python-regular-expressions-cheat-sheet.pdf)"
      ]
    },
    {
      "cell_type": "markdown",
      "metadata": {
        "id": "XIxDi3ZiA0aG"
      },
      "source": [
        "#### Aplicandolo a la web\n",
        "##### Ejemplo 1: Usamos regex para extraer los títulos del diario La Prensa.\n",
        "\n",
        "\n",
        "```html\n",
        "<h2 class=\"entry__title\"><a href=\"http://www.laprensa.com.ar/491843-Dilemas-de-la-batalla-cultural-I.note.aspx\" target=\"_self\" onclick=\"javascript:if(typeof(_gaq)!='undefined'){_gaq.push(['_trackEvent', 'Notas', 'Cultura', 'Dilemas de la batalla cultural (I)'])};\">Dilemas de la batalla cultural (I)</a></h2>\n",
        "```\n"
      ]
    },
    {
      "cell_type": "code",
      "execution_count": 8,
      "metadata": {
        "id": "kz1d61KNA0aH"
      },
      "outputs": [],
      "source": [
        "#Usamos el navegador para identificar la estructura de los datos que queremos extraer y creamos el patrón de búsqueda\n",
        "regla_de_busqueda = r'_self\">(.+)</a></h2>'"
      ]
    },
    {
      "cell_type": "code",
      "execution_count": 9,
      "metadata": {
        "id": "rTtKkAsfA0aH"
      },
      "outputs": [],
      "source": [
        "#Usamos findall para encontrar todas las coincidencias\n",
        "import re\n",
        "import requests\n",
        "titles = [m for m in re.findall(regla_de_busqueda, codigo_html(\"http://www.laprensa.com.ar/\"))]"
      ]
    },
    {
      "cell_type": "code",
      "execution_count": 10,
      "metadata": {
        "id": "Ssh-aWNdA0aH",
        "colab": {
          "base_uri": "https://localhost:8080/"
        },
        "outputId": "e1d39b76-a016-46f2-d5bf-3b04d2c2554d"
      },
      "outputs": [
        {
          "output_type": "stream",
          "name": "stdout",
          "text": [
            "['Sturzenegger celebró el cierre de 200 áreas del Estado', 'Investigan llamados telefónicos a comisarías haciéndose pasar por Rosatti', 'El Gobierno impulsó un proyecto de ley contra las barrabravas', 'Al menos 37 muertos en un accidente entre varios vehículos en Brasil', 'Con una destacada actuación de \"Dibu\" Martínez, Aston Villa le ganó 2-1 al Manchester City', \"Trump nombró al productor de 'The Voice' y 'The Apprentice' como enviado especial para el Reino Unido\", 'Brasil y México son los más expuestos en América Latina a la política arancelaria de Trump', 'Bartolomé Abdala consideró inoportuno un incremento de las dietas en el Senado', 'Cristina Kirchner cuestionó la relación entre el Gobierno y el PRO: \"Derecha farsante\"', 'Los gastos de una familia de clase media porteña ya superan los 2.000.000 de pesos por mes', 'El papa expresó su \"dolor\" por el ataque contra un mercado navideño que dejó 5 muertos en Alemania', 'Cristina Kirchner cuestionó la relación entre el Gobierno y el PRO: \"Derecha farsante\"', 'Bartolomé Abdala consideró inoportuno un incremento de las dietas en el Senado', 'Educar para formar familias', '“Vivimos una dictadura judicial en Brasil”', \"Trump nombró al productor de 'The Voice' y 'The Apprentice' como enviado especial para el Reino Unido\", 'Brasil y México son los más expuestos en América Latina a la política arancelaria de Trump', 'Morón: abusó de una chica que conoció por redes y fue condenado a 7 años de prisión', 'Al menos diez muertos y ocho heridos por una estampida en una iglesia en Nigeria', 'Con una destacada actuación de \"Dibu\" Martínez, Aston Villa le ganó 2-1 al Manchester City', 'Messi lanzó un perfume', 'Willington, el famoso Cordobés…', '¡Qué jugador fue el Bichi!', 'Mario Boyé, El Atómico', 'Saccardi, un guerrero con el corazón teñido de verde', 'El Poeta de la zurda', 'Rojitas, el dueño del corazón de la mitad más uno del país', 'Pontoni, exquisitez al servicio del gol', 'Comportamiento de la dirigencia', 'De fealdades, ignorancias y bellezas', 'Pornografía escolar', 'Jorge Roberto Ibarzabal: muerto en el campo de batalla', 'Mentiroso', 'Los niños y la ESI', 'Padre de la democracia', 'Radicales', 'El Renault Kwid volvió para posicionarse otra vez como el auto más barato del mercado', 'Chevrolet lanzó la preventa de la Silverado, renovó Spin y S10 y mostró el Blazer EV y la Trailblazer', 'Gran festejo de Ford por los 60 años del Mustang en el autódromo porteño', 'F-150 Tremor: la potencia y el poder de Ford en una pickup ', 'El iX2 es el primer BMW 100% eléctrico del país', 'La planta de Volkswagen Camiones y Buses de Córdoba cumple sus objetivos y se prepara para ampliar la producción', 'Pilot Sport EV y e.Primacy: los nuevos neumáticos que Michelin desarrolló para vehículos híbridos y eléctricos', 'Cinco estrellas en seguridad para el Volkswagen T-Cross', 'Verborrea transgresora de un falso predicador', 'Contra el feminismo cancelador', 'La intimidad de San Martín en el exilio', 'Literatura que explica sin proponer lecciones', '¿Quién piensa en los solitarios?', 'Causas de un hecho bisagra de la historia', 'Espejo que refleja varios mundos', '“El lenguaje no se cambia por decreto”', 'Cinco lecciones para mejorar la seguridad cibernética empresarial', 'El calor de República Dominicana presente en Times Square en pleno invierno neoyorquino', 'Gobierno-macrismo: Maíz por maíz se come un maizal', 'Raphael fue internado por un fallo cerebrovascular y confirman que se encuentra en buen estado', 'Murió Marisa Paredes, leyenda del cine', 'Fue un gran cierre de temporada', 'Beats Modernos celebra a Charly despidiendo el año en Vorterix', 'Lanzaron ‘Prego’ un rico vermut artesanal', 'Dandy’ se expande en el mar', 'Restós emblemáticos, nuevas cartas', 'Tradición y legado en Palermo', 'Aires clásicos y cosmopolitas', 'Sabores mediterráneos con estilo local', 'Una parrilla popular y de calidad']\n"
          ]
        }
      ],
      "source": [
        "print(titles)"
      ]
    },
    {
      "cell_type": "markdown",
      "metadata": {
        "id": "H8oKjJkHFj2K"
      },
      "source": [
        "####  <font color='red'> Ejercicio </font>\n",
        "\n",
        "####  Modifiquen la regla de búsqueda para que descargue los links a las notas en vez del título"
      ]
    },
    {
      "cell_type": "code",
      "execution_count": null,
      "metadata": {
        "id": "-Q2ms9IQFvBS"
      },
      "outputs": [],
      "source": [
        "# Resolución\n"
      ]
    },
    {
      "cell_type": "markdown",
      "metadata": {
        "id": "ahxVvZazA0aI"
      },
      "source": [
        "### **Método 2: BeautifulSoup**\n",
        "* Esta librería provee un *parser* de html, o sea un programa que entiende el código, permitiendonos hacer consultas más sofisticadas de forma simple, por ejemplo \"buscame todos los titulos h2 del sitio\".\n",
        "\n",
        "\n",
        "* Se usa para extraer los datos de archivos HTML. Crea un árbol de análisis a partir del código fuente de la página que se puede utilizar para extraer datos de forma jerárquica y más legible.\n",
        "\n",
        "<center>\n",
        "<img alt=\"\" width=\"700\" role=\"presentation\" src=\"https://miro.medium.com/max/700/0*ETFzXPCNHkPpqNv_.png\"> <br>\n",
        "\n",
        "<font color=\"gray\">\n",
        "Fuente: https://medium.com/milooproject/python-simple-crawling-using-beautifulsoup-8247657c2de5\n",
        "<font>\n",
        "</center>"
      ]
    },
    {
      "cell_type": "markdown",
      "metadata": {
        "id": "BGXRo8BWtIDc"
      },
      "source": [
        "## Generalidades"
      ]
    },
    {
      "cell_type": "code",
      "execution_count": 11,
      "metadata": {
        "id": "YLnDRuoftSDX"
      },
      "outputs": [],
      "source": [
        "from bs4 import BeautifulSoup\n",
        "from IPython.display import HTML\n",
        "import requests\n",
        "\n",
        "# Vamos a jugar un poco con la pagina de Exactas\n",
        "url_base = 'https://exactas.uba.ar/'\n",
        "endpoint_calendario = 'calendario-academico/'\n",
        "html_obtenido = requests.get(url_base + endpoint_calendario)\n",
        "soup = BeautifulSoup(html_obtenido.text, \"html.parser\")\n",
        "# print(soup)\n",
        "# print(type(soup))\n",
        "# print(soup.prettify())\n",
        "\n",
        "## Tambien podemos mostrar renderizar el html aca en Colab :D\n",
        "# HTML(html_obtenido.text)"
      ]
    },
    {
      "cell_type": "code",
      "execution_count": 12,
      "metadata": {
        "id": "Jo7AkWAhh23W",
        "colab": {
          "base_uri": "https://localhost:8080/"
        },
        "outputId": "fb8fecd2-c045-4c57-9a04-fb83f8861c0f"
      },
      "outputs": [
        {
          "output_type": "stream",
          "name": "stdout",
          "text": [
            "<h3>INSCRIPCIÓN PRIMER CUATRIMESTRE 2025</h3>\n"
          ]
        }
      ],
      "source": [
        "# Si queremos quedarnos con un tag\n",
        "\n",
        "# El método \"find\" busca el primer elemento de la pagina con ese tag\n",
        "primer_h3 = soup.find('h3')\n",
        "print(primer_h3)\n",
        "\n",
        "# equivalente a:\n",
        "# print(soup.h3.text)"
      ]
    },
    {
      "cell_type": "code",
      "execution_count": 13,
      "metadata": {
        "id": "Az5VWD8qh5XP",
        "colab": {
          "base_uri": "https://localhost:8080/"
        },
        "outputId": "d3613c17-1c4a-4f61-c2f8-a27a47c989a1"
      },
      "outputs": [
        {
          "output_type": "stream",
          "name": "stdout",
          "text": [
            "[<h3>INSCRIPCIÓN PRIMER CUATRIMESTRE 2025</h3>, <h3>EXÁMENES – TURNO FEBRERO-MARZO 2025</h3>, <h3>PRIMER BIMESTRE 2025 (8 semanas)</h3>, <h3>SEGUNDO BIMESTRE 2025 (8 semanas)</h3>, <h3>INSCRIPCIÓN SEGUNDO CUATRIMESTRE 2025</h3>, <h3>SEMANAS DE LAS CIENCIAS 2025</h3>, <h3><strong>FERIADOS 2025 </strong></h3>, <h3 class=\"widget-title\"><a href=\"https://exactas.uba.ar/agenda/\">Agenda →</a></h3>, <h3 class=\"widget-title\">Seguinos en</h3>, <h3 class=\"widget-title\">Buscar</h3>]\n"
          ]
        }
      ],
      "source": [
        "# El método \"find_all\" busca TODOS los elementos de la pagina con ese tag y devuelve una lista que los contiene (en realidad devuelve un objeto de la clase \"bs4.element.ResultSet\")\n",
        "h3_todos = soup.find_all('h3')\n",
        "print(h3_todos)\n",
        "\n",
        "# Si usamos el parametro limit = 1, emulamos al metodo find:\n",
        "# h3_uno_solo = soup.find_all('h3',limit=1)\n",
        "# print(h3_uno_solo)"
      ]
    },
    {
      "cell_type": "code",
      "execution_count": 14,
      "metadata": {
        "id": "g_pjutuZh9wz",
        "colab": {
          "base_uri": "https://localhost:8080/"
        },
        "outputId": "6ebc6e97-89ec-4e69-fd22-3e8801b06913"
      },
      "outputs": [
        {
          "output_type": "stream",
          "name": "stdout",
          "text": [
            "INSCRIPCIÓN PRIMER CUATRIMESTRE 2025\n",
            "EXÁMENES – TURNO FEBRERO-MARZO 2025\n",
            "PRIMER BIMESTRE 2025 (8 semanas)\n",
            "SEGUNDO BIMESTRE 2025 (8 semanas)\n",
            "INSCRIPCIÓN SEGUNDO CUATRIMESTRE 2025\n",
            "SEMANAS DE LAS CIENCIAS 2025\n",
            "FERIADOS 2025 \n",
            "Agenda →\n",
            "Seguinos en\n"
          ]
        }
      ],
      "source": [
        "# podemos iterar sobre el objeto\n",
        "for fecha in h3_todos[:-1]:\n",
        "  # Extraemos el texto que se encuentra dentro del tag\n",
        "  print(fecha.text)"
      ]
    },
    {
      "cell_type": "code",
      "execution_count": 15,
      "metadata": {
        "id": "2KTxwctZiAC4",
        "colab": {
          "base_uri": "https://localhost:8080/"
        },
        "outputId": "b763fa4e-fac8-4aec-dedc-0fc2d41a86f4"
      },
      "outputs": [
        {
          "output_type": "stream",
          "name": "stdout",
          "text": [
            "Agenda →\n",
            "\n",
            "31 diciembre, 2024, : Finaliza Encuesta de Exposición a riesgos por uso de agentes químicos, físicos, biológicos y/ó cancerígenos  | + INFO\n",
            "\n",
            "\n"
          ]
        }
      ],
      "source": [
        "# Busco por clase, escribo class_ porque \"class\" es una palabra reservada en Python\n",
        "eventos_proximos = soup.find('aside', class_ = 'widget_my_calendar_upcoming_widget')\n",
        "for evento in eventos_proximos:\n",
        "  print(evento.text)"
      ]
    },
    {
      "cell_type": "code",
      "execution_count": 16,
      "metadata": {
        "id": "fVxip8F0iEYA",
        "colab": {
          "base_uri": "https://localhost:8080/"
        },
        "outputId": "ce737334-5c3a-4670-d3ea-c08240650e43"
      },
      "outputs": [
        {
          "output_type": "stream",
          "name": "stdout",
          "text": [
            "Conocé Exactas: https://exactas.uba.ar/institucional/la-facultad/\n",
            "Carreras de Grado: https://exactas.uba.ar/ensenanza/carreras-de-grado/\n",
            "Carreras de Posgrado: https://exactas.uba.ar/ensenanza/carreras-de-posgrado/\n",
            "Cursos de Posgrado: https://exactas.uba.ar/ensenanza/cursos-de-posgrado/\n",
            "Internacionales: https://internacionales.exactas.uba.ar/\n",
            "Orientación Vocacional: https://exactas.uba.ar/extension/ov/\n",
            "Becas para estudio: https://exactas.uba.ar/becas-para-estudio/\n",
            "Trámites administrativos: https://exactas.uba.ar/tramites-administrativos/\n",
            "Carreras de Grado: https://exactas.uba.ar/ensenanza/carreras-de-grado/\n",
            "Calendario Académico: https://exactas.uba.ar/calendario-academico/\n",
            "Inscripción Ingresantes: https://exactas.uba.ar/inscripcion-ingresantes/\n",
            "Programa de Ingresantes: https://ingresantes.exactas.uba.ar/\n",
            "Inscripción a materias: http://inscripciones.exactas.uba.ar/exactas/\n",
            "Becas para estudio: https://exactas.uba.ar/becas-para-estudio/\n",
            "Becas de Investigación: https://exactas.uba.ar/becas-de-investigacion/\n",
            "Distribución de Aulas Facultad: https://exactas.uba.ar/aulas-de-la-facultad/\n",
            "Distribución de aulas CBC: https://exactas.uba.ar/distribucion-de-aulas-cbc/\n",
            "Orientación Vocacional: https://exactas.uba.ar/extension/ov/\n",
            "Bibliotecas: https://exactas.uba.ar/ensenanza/bibliotecas/\n",
            "Pasantías Educativas: https://exactas.uba.ar/pasantias-educativas/\n",
            "Campus Virtual: http://campus.exactas.uba.ar/\n",
            "Diplomas y certificados: https://exactas.uba.ar/diplomas-y-certificados/\n",
            "Internacionales: https://internacionales.exactas.uba.ar/\n",
            "Ofertas de trabajo profesional: https://exactas.uba.ar/ofertas-de-trabajo-profesional/\n",
            "Programa de Formación y Trabajo en Biblioteca: https://exactas.uba.ar/programa-de-formacion-y-trabajo/\n",
            "Prácticas sociales educativas: https://exactas.uba.ar/practicas-sociales-educativas/\n",
            "Trámites administrativos: https://exactas.uba.ar/tramites-administrativos/\n",
            "Estudiantes Posgrado: http:// \n",
            "Doctorados: https://doctorado.exactas.uba.ar/\n",
            "Maestrías: https://exactas.uba.ar/ensenanza/carreras-de-posgrado/maestrias/\n",
            "Especializaciones: https://exactas.uba.ar/ensenanza/carreras-de-posgrado/especializaciones/\n",
            "Cursos de Posgrado: https://exactas.uba.ar/ensenanza/cursos-de-posgrado/\n",
            "Becas de Investigación: https://exactas.uba.ar/becas-de-investigacion/\n",
            "Calendario Académico: https://exactas.uba.ar/calendario-academico/\n",
            "Inscripción Ingresantes: https://exactas.uba.ar/inscripcion-ingresantes/\n",
            "Aulas de la Facultad: https://exactas.uba.ar/aulas-de-la-facultad/\n",
            "Bibliotecas: https://exactas.uba.ar/ensenanza/bibliotecas/\n",
            "Campus Virtual: http://campus.exactas.uba.ar/\n",
            "Internacionales: https://internacionales.exactas.uba.ar/\n",
            "Trámites administrativos: https://exactas.uba.ar/tramites-administrativos/\n",
            "Concursos: https://exactas.uba.ar/institucional/concursos/\n",
            "Sistema de Inscripciones: http://inscripciones.exactas.uba.ar\n",
            "Calendario Académico: https://exactas.uba.ar/calendario-academico/\n",
            "Aulas de la Facultad: https://exactas.uba.ar/aulas-de-la-facultad/\n",
            "Trámites: https://exactas.uba.ar/tramites/\n",
            "Campus Virtual: http://campus.exactas.uba.ar/\n",
            "Internacionales: https://internacionales.exactas.uba.ar/\n",
            "Concursos Nodocentes: https://exactas.uba.ar/institucional/concursos/concursos-no-docentes/\n",
            "Trámites: https://exactas.uba.ar/tramites/\n",
            "Recursos Humanos UBA: https://autogestion.rrhh.uba.ar/\n",
            "Juras: https://exactas.uba.ar/juras/\n",
            "Becas de Investigación: https://exactas.uba.ar/becas-de-investigacion/\n",
            "Padrón de Graduadas/os: https://exactas.uba.ar/padron-de-graduados-as/\n",
            "Base y Lista de Graduadas/os: https://exactas.uba.ar/base-y-lista-de-graduados/\n",
            "Información y actividades: https://exactas.uba.ar/area-de-graduados/\n",
            "Ofertas de trabajo profesional: https://exactas.uba.ar/ofertas-de-trabajo-profesional/\n",
            "Becas de Investigación: https://exactas.uba.ar/becas-de-investigacion/\n",
            "Incentivos: https://exactas.uba.ar/incentivos/\n",
            "Subsidios Nacionales: https://exactas.uba.ar/subsidios/\n",
            "Subsidios Internacionales: https://internacionales.exactas.uba.ar/subsidios-internacionales/\n",
            "Gestión de convenios: https://exactas.uba.ar/gestion-de-convenios/\n",
            "Propiedad Intelectual – Patentamiento: https://exactas.uba.ar/vinculacion/propiedad-intelectual/\n",
            "Experimentación animal: https://exactas.uba.ar/cicual/\n",
            "Internacionales: https://internacionales.exactas.uba.ar/\n",
            "Proxy de Revistas: https://exactas.uba.ar/proxy-de-revistas/\n",
            "Trámites: https://exactas.uba.ar/tramites/\n",
            "Bibliotecas: https://exactas.uba.ar/ensenanza/bibliotecas/\n",
            "Comisión de Hábitat: https://exactas.uba.ar/comision-de-habitat/\n",
            "Exactas Verde: https://exactas.uba.ar/exactas-verde/\n",
            "Talleres Culturales: https://exactas.uba.ar/talleres-culturales/\n",
            "Deportes: https://exactas.uba.ar/deportes/\n",
            "Jardín Maternal: http://jardin.exactas.uba.ar/\n",
            "Cursos de Idiomas: https://exactas.uba.ar/cursos-de-idiomas/\n",
            "Comedores: https://exactas.uba.ar/comedores/\n",
            "Avisos Exactas: https://exactas.uba.ar/avisos-exactas/\n",
            "Solicitud de Eventos en la Facultad: https://exactas.uba.ar/eventos-en-la-facultad/\n",
            "Intranet: http://intranet.exactas.uba.ar/\n",
            "Directorio de teléfonos y correos: https://exactas.uba.ar/directorio-telefonico/\n",
            "Digesto normativo: https://exactas.uba.ar/institucional/la-facultad/digesto-normativo/\n",
            "Elecciones Consejo Directivo: https://exactas.uba.ar/elecciones-consejo-directivo/\n",
            ": https://twitter.com/exactas_uba\n",
            ": https://www.facebook.com/UBAExactas\n",
            ": https://www.youtube.com/exactasubaoficial\n",
            ": https://www.linkedin.com/company/facultad-de-ciencias-exactas-y-naturales-uba\n",
            ": https://www.instagram.com/exactas_uba/\n",
            "\n",
            "\n",
            "\n",
            "\n",
            ": https://exactas.uba.ar/\n",
            "La Facultad: https://exactas.uba.ar/institucional/la-facultad/\n",
            "Decanato y Secretarías: https://exactas.uba.ar/institucional/autoridades/decanato-y-secretarias/\n",
            "Consejo Directivo: https://exactas.uba.ar/institucional/autoridades/informacion-del-consejo/\n",
            "Concursos: https://exactas.uba.ar/institucional/concursos/\n",
            "Seguridad laboral y ambiental: https://exactas.uba.ar/higieneyseguridad/\n",
            "Memoria y Derechos Humanos: https://exactas.uba.ar/institucional/memoria-derechos-humanos/\n",
            "Programa por la Igualdad de Género: https://exactas.uba.ar/genex/\n",
            "Programa FCEN Sin Barreras: https://exactas.uba.ar/equidadygeneros/fcen-sin-barreras/\n",
            "Programa Abordajes socioeducativos: https://exactas.uba.ar/equidadygeneros/abordajes-socioeducativos/\n",
            "Programa de Historia de la FCEN: https://exactas.uba.ar/institucional/programa-de-historia-de-la-fcen/\n",
            "Carreras de Grado: https://exactas.uba.ar/ensenanza/carreras-de-grado/\n",
            "Carreras de Posgrado: https://exactas.uba.ar/ensenanza/carreras-de-posgrado/\n",
            "Diplomaturas: https://exactas.uba.ar/ensenanza/diplomaturas/\n",
            "Departamentos Docentes: https://exactas.uba.ar/ensenanza/departamentos-docentes/\n",
            "Bibliotecas: https://exactas.uba.ar/ensenanza/bibliotecas/\n",
            "Internacionales: http://internacionales.exactas.uba.ar\n",
            "Programas Temáticos: https://exactas.uba.ar/investigacion/areas-de-investigacion/\n",
            "Institutos de investigación: https://exactas.uba.ar/investigacion/institutos-de-investigacion/\n",
            "Oficina de Vinculación y Transferencia Tecnológica: https://exactas.uba.ar/vinculacion/\n",
            "Facilidades y Equipamiento para la Investigación, la Vinculación y la Transferencia Tecnológica: https://exactas.uba.ar/sic/\n",
            "Comunicación Pública de la Ciencia: https://exactas.uba.ar/extension/comunicacion-publica-de-la-ciencia/\n",
            "Articulación Territorial: https://exactas.uba.ar/extension/articulacion-territorial/\n",
            "Escuelas Secundarias: https://exactas.uba.ar/extension/escuelas-secundarias/\n",
            "Ambiente: https://exactas.uba.ar/extension/ambiente/\n",
            "\n",
            "\n",
            "\n",
            "\n",
            ": https://exactas.uba.ar/\n",
            "La Facultad: https://exactas.uba.ar/institucional/la-facultad/\n",
            "Decanato y Secretarías: https://exactas.uba.ar/institucional/autoridades/decanato-y-secretarias/\n",
            "Consejo Directivo: https://exactas.uba.ar/institucional/autoridades/informacion-del-consejo/\n",
            "Concursos: https://exactas.uba.ar/institucional/concursos/\n",
            "Seguridad laboral y ambiental: https://exactas.uba.ar/higieneyseguridad/\n",
            "Memoria y Derechos Humanos: https://exactas.uba.ar/institucional/memoria-derechos-humanos/\n",
            "Programa por la Igualdad de Género: https://exactas.uba.ar/genex/\n",
            "Programa FCEN Sin Barreras: https://exactas.uba.ar/equidadygeneros/fcen-sin-barreras/\n",
            "Programa Abordajes socioeducativos: https://exactas.uba.ar/equidadygeneros/abordajes-socioeducativos/\n",
            "Programa de Historia de la FCEN: https://exactas.uba.ar/institucional/programa-de-historia-de-la-fcen/\n",
            "Carreras de Grado: https://exactas.uba.ar/ensenanza/carreras-de-grado/\n",
            "Carreras de Posgrado: https://exactas.uba.ar/ensenanza/carreras-de-posgrado/\n",
            "Diplomaturas: https://exactas.uba.ar/ensenanza/diplomaturas/\n",
            "Departamentos Docentes: https://exactas.uba.ar/ensenanza/departamentos-docentes/\n",
            "Bibliotecas: https://exactas.uba.ar/ensenanza/bibliotecas/\n",
            "Internacionales: http://internacionales.exactas.uba.ar\n",
            "Programas Temáticos: https://exactas.uba.ar/investigacion/areas-de-investigacion/\n",
            "Institutos de investigación: https://exactas.uba.ar/investigacion/institutos-de-investigacion/\n",
            "Oficina de Vinculación y Transferencia Tecnológica: https://exactas.uba.ar/vinculacion/\n",
            "Facilidades y Equipamiento para la Investigación, la Vinculación y la Transferencia Tecnológica: https://exactas.uba.ar/sic/\n",
            "Comunicación Pública de la Ciencia: https://exactas.uba.ar/extension/comunicacion-publica-de-la-ciencia/\n",
            "Articulación Territorial: https://exactas.uba.ar/extension/articulacion-territorial/\n",
            "Escuelas Secundarias: https://exactas.uba.ar/extension/escuelas-secundarias/\n",
            "Ambiente: https://exactas.uba.ar/extension/ambiente/\n",
            "Inicio: https://exactas.uba.ar\n",
            ": #almanaque\n",
            ": https://exactas.uba.ar/wp-content/uploads/2024/02/almanaque2024.pdf\n",
            "Agenda →: https://exactas.uba.ar/agenda/\n",
            "+ INFO: https://exactas.uba.ar/agenda/?mc_id=2570\n",
            "La Facultad: https://exactas.uba.ar/institucional/la-facultad/\n",
            "Decanato y Secretarías: https://exactas.uba.ar/institucional/autoridades/decanato-y-secretarias/\n",
            "Consejo Directivo: https://exactas.uba.ar/institucional/autoridades/informacion-del-consejo/\n",
            "Concursos: https://exactas.uba.ar/institucional/concursos/\n",
            "Seguridad laboral y ambiental: https://exactas.uba.ar/higieneyseguridad/\n",
            "Memoria y Derechos Humanos: https://exactas.uba.ar/institucional/memoria-derechos-humanos/\n",
            "Programa por la Igualdad de Género: https://exactas.uba.ar/genex/\n",
            "Programa FCEN Sin Barreras: https://exactas.uba.ar/equidadygeneros/fcen-sin-barreras/\n",
            "Programa Abordajes socioeducativos: https://exactas.uba.ar/equidadygeneros/abordajes-socioeducativos/\n",
            "Programa de Historia de la FCEN: https://exactas.uba.ar/institucional/programa-de-historia-de-la-fcen/\n",
            "Carreras de Grado: https://exactas.uba.ar/ensenanza/carreras-de-grado/\n",
            "Carreras de Posgrado: https://exactas.uba.ar/ensenanza/carreras-de-posgrado/\n",
            "Diplomaturas: https://exactas.uba.ar/ensenanza/diplomaturas/\n",
            "Departamentos Docentes: https://exactas.uba.ar/ensenanza/departamentos-docentes/\n",
            "Bibliotecas: https://exactas.uba.ar/ensenanza/bibliotecas/\n",
            "Internacionales: http://internacionales.exactas.uba.ar\n",
            "Programas Temáticos: https://exactas.uba.ar/investigacion/areas-de-investigacion/\n",
            "Institutos de investigación: https://exactas.uba.ar/investigacion/institutos-de-investigacion/\n",
            "Oficina de Vinculación y Transferencia Tecnológica: https://exactas.uba.ar/vinculacion/\n",
            "Facilidades y Equipamiento para la Investigación, la Vinculación y la Transferencia Tecnológica: https://exactas.uba.ar/sic/\n",
            "Comunicación Pública de la Ciencia: https://exactas.uba.ar/extension/comunicacion-publica-de-la-ciencia/\n",
            "Articulación Territorial: https://exactas.uba.ar/extension/articulacion-territorial/\n",
            "Escuelas Secundarias: https://exactas.uba.ar/extension/escuelas-secundarias/\n",
            "Ambiente: https://exactas.uba.ar/extension/ambiente/\n",
            ": https://twitter.com/exactas_uba\n",
            ": https://www.facebook.com/UBAExactas\n",
            ": https://www.youtube.com/exactasubaoficial\n",
            ": https://www.linkedin.com/company/facultad-de-ciencias-exactas-y-naturales-uba\n",
            ": https://www.instagram.com/exactas_uba/\n",
            "Campus Virtual: http://campus.exactas.uba.ar\n",
            "Trámites: http://exactas.uba.ar/tramites/\n",
            "Intranet: http://intranet.exactas.uba.ar/\n",
            "Webmail: http://webmail.exactas.uba.ar/\n",
            "Contacto: /contacto/\n",
            "UBA: http://www.uba.ar/\n",
            ": https://exactas.uba.ar\n",
            "Inicio: https://exactas.uba.ar/\n",
            "Institucional: #\n",
            "La Facultad: https://exactas.uba.ar/institucional/la-facultad/\n",
            "Decanato y Secretarías: https://exactas.uba.ar/institucional/autoridades/decanato-y-secretarias/\n",
            "Consejo Directivo: https://exactas.uba.ar/institucional/autoridades/informacion-del-consejo/\n",
            "Concursos: https://exactas.uba.ar/institucional/concursos/\n",
            "Seguridad laboral y ambiental: https://exactas.uba.ar/higieneyseguridad/\n",
            "Memoria y Derechos Humanos: https://exactas.uba.ar/institucional/memoria-derechos-humanos/\n",
            "Programa por la Igualdad de Género: https://exactas.uba.ar/genex/\n",
            "Programa FCEN Sin Barreras: https://exactas.uba.ar/equidadygeneros/fcen-sin-barreras/\n",
            "Programa Abordajes Socioeducativos: https://exactas.uba.ar/equidadygeneros/abordajes-socioeducativos/\n",
            "Programa de Historia de la FCEN: https://exactas.uba.ar/institucional/programa-de-historia-de-la-fcen/\n",
            "Carreras de Grado: https://exactas.uba.ar/ensenanza/carreras-de-grado/\n",
            "Carreras de Posgrado: https://exactas.uba.ar/ensenanza/carreras-de-posgrado/\n",
            "Diplomaturas: https://exactas.uba.ar/ensenanza/diplomaturas/\n",
            "Departamentos Docentes: https://exactas.uba.ar/ensenanza/departamentos-docentes/\n",
            "Bibliotecas: https://exactas.uba.ar/ensenanza/bibliotecas/\n",
            "Internacionales: http://internacionales.exactas.uba.ar\n",
            "Programas Temáticos: https://exactas.uba.ar/investigacion/areas-de-investigacion/\n",
            "Institutos de investigación: https://exactas.uba.ar/investigacion/institutos-de-investigacion/\n",
            "Oficina de Vinculación y Transferencia Tecnológica: https://exactas.uba.ar/vinculacion/\n",
            "Facilidades y Equipamiento para la Investigación, la Vinculación y la Transferencia Tecnológica: https://exactas.uba.ar/sic/\n",
            "Comunicación Pública de la Ciencia: https://exactas.uba.ar/extension/comunicacion-publica-de-la-ciencia/\n",
            "Articulación Territorial: https://exactas.uba.ar/extension/articulacion-territorial/\n",
            "Escuelas Secundarias: https://exactas.uba.ar/extension/escuelas-secundarias/\n",
            "Ambiente: https://exactas.uba.ar/extension/ambiente/\n",
            "Conocé Exactas: http://exactas.uba.ar/es/la-facultad/\n",
            "Carreras de Grado: https://exactas.uba.ar/ensenanza/carreras-de-grado/\n",
            "Carreras de Posgrado: https://exactas.uba.ar/ensenanza/carreras-de-posgrado/\n",
            "Cursos de Posgrado: https://exactas.uba.ar/ensenanza/cursos-de-posgrado/\n",
            "Internacionales: https://internacionales.exactas.uba.ar/\n",
            "Orientación Vocacional: https://exactas.uba.ar/extension/ov/\n",
            "Becas para estudio: https://exactas.uba.ar/becas-para-estudio/\n",
            "Trámites administrativos: https://exactas.uba.ar/tramites-administrativos/\n",
            "Carreras de Grado: https://exactas.uba.ar/ensenanza/carreras-de-grado/\n",
            "Calendario Académico: https://exactas.uba.ar/calendario-academico/\n",
            "Inscripción Ingresantes: https://exactas.uba.ar/inscripcion-ingresantes/\n",
            "Programa de Ingresantes: https://ingresantes.exactas.uba.ar/\n",
            "Inscripción a materias: http://inscripciones.exactas.uba.ar/exactas/\n",
            "Becas para estudio: https://exactas.uba.ar/becas-para-estudio/\n",
            "Becas de Investigación: https://exactas.uba.ar/becas-de-investigacion/\n",
            "Aulas de la Facultad: https://exactas.uba.ar/aulas-de-la-facultad/\n",
            "Orientación Vocacional: https://exactas.uba.ar/extension/ov/\n",
            "Bibliotecas: https://exactas.uba.ar/ensenanza/bibliotecas/\n",
            "Pasantías Educativas: https://exactas.uba.ar/pasantias-educativas/\n",
            "Campus Virtual: http://campus.exactas.uba.ar/\n",
            "Diplomas y certificados: https://exactas.uba.ar/diplomas-y-certificados/\n",
            "Internacionales: https://internacionales.exactas.uba.ar/\n",
            "Ofertas de trabajo profesional: https://exactas.uba.ar/ofertas-de-trabajo-profesional/\n",
            "Programa de Formación y Trabajo en Biblioteca: https://exactas.uba.ar/programa-de-formacion-y-trabajo/\n",
            "Prácticas sociales educativas: https://exactas.uba.ar/practicas-sociales-educativas/\n",
            "Trámites administrativos: https://exactas.uba.ar/tramites-administrativos/\n",
            "Estudiantes Posgrado: http:// \n",
            "Doctorados: https://doctorado.exactas.uba.ar/\n",
            "Maestrías: https://exactas.uba.ar/ensenanza/carreras-de-posgrado/maestrias/\n",
            "Especializaciones: https://exactas.uba.ar/ensenanza/carreras-de-posgrado/especializaciones/\n",
            "Cursos de Posgrado: https://exactas.uba.ar/ensenanza/cursos-de-posgrado/\n",
            "Becas de Investigación: https://exactas.uba.ar/becas-de-investigacion/\n",
            "Calendario Académico: https://exactas.uba.ar/calendario-academico/\n",
            "Inscripción Ingresantes: https://exactas.uba.ar/inscripcion-ingresantes/\n",
            "Aulas de la Facultad: https://exactas.uba.ar/aulas-de-la-facultad/\n",
            "Bibliotecas: https://exactas.uba.ar/ensenanza/bibliotecas/\n",
            "Internacionales: https://internacionales.exactas.uba.ar/\n",
            "Campus Virtual: http://campus.exactas.uba.ar/\n",
            "Trámites administrativos: https://exactas.uba.ar/tramites-administrativos/\n",
            "Concursos: https://exactas.uba.ar/institucional/concursos/\n",
            "Sistema de Inscripciones: http://inscripciones.exactas.uba.ar\n",
            "Calendario Académico: https://exactas.uba.ar/calendario-academico/\n",
            "Aulas de la Facultad: https://exactas.uba.ar/aulas-de-la-facultad/\n",
            "Trámites: https://exactas.uba.ar/tramites/\n",
            "Campus Virtual: http://campus.exactas.uba.ar/\n",
            "Internacionales: https://internacionales.exactas.uba.ar/\n",
            "Concursos Nodocentes: https://exactas.uba.ar/institucional/concursos/concursos-no-docentes/\n",
            "Trámites: https://exactas.uba.ar/tramites/\n",
            "Recursos Humanos UBA: https://autogestion.rrhh.uba.ar/\n",
            "Juras: https://exactas.uba.ar/juras/\n",
            "Becas de Investigación: https://exactas.uba.ar/becas-de-investigacion/\n",
            "Padrón de Graduadas/os: https://exactas.uba.ar/padron-de-graduados-as/\n",
            "Base y Lista de Graduadas/os: https://exactas.uba.ar/base-y-lista-de-graduados/\n",
            "Información y actividades: https://exactas.uba.ar/area-de-graduados/\n",
            "Ofertas de trabajo profesional: https://exactas.uba.ar/ofertas-de-trabajo-profesional/\n",
            "Becas de Investigación: https://exactas.uba.ar/becas-de-investigacion/\n",
            "Incentivos: https://exactas.uba.ar/incentivos/\n",
            "Subsidios Nacionales: https://exactas.uba.ar/subsidios/\n",
            "Subsidios Internacionales: https://internacionales.exactas.uba.ar/subsidios-internacionales/\n",
            "Gestión de convenios: https://exactas.uba.ar/gestion-de-convenios/\n",
            "Propiedad Intelectual – Patentamiento: https://exactas.uba.ar/vinculacion/propiedad-intelectual/\n",
            "Experimentación animal: https://exactas.uba.ar/cicual/\n",
            "Internacionales: https://internacionales.exactas.uba.ar/\n",
            "Proxy de Revistas: https://exactas.uba.ar/proxy-de-revistas/\n",
            "Trámites: https://exactas.uba.ar/tramites/\n",
            "Bibliotecas: https://exactas.uba.ar/ensenanza/bibliotecas/\n",
            "Comisión de Hábitat: https://exactas.uba.ar/comision-de-habitat/\n",
            "Exactas Verde: https://exactas.uba.ar/exactas-verde/\n",
            "Talleres Culturales: https://exactas.uba.ar/talleres-culturales/\n",
            "Deportes: https://exactas.uba.ar/deportes/\n",
            "Cursos de Idiomas: https://exactas.uba.ar/cursos-de-idiomas/\n",
            "Jardín Maternal: http://jardin.exactas.uba.ar/\n",
            "Comedores: https://exactas.uba.ar/comedores/\n",
            "Avisos Exactas: https://exactas.uba.ar/avisos-exactas/\n",
            "Solicitud de Eventos en la Facultad: https://exactas.uba.ar/eventos-en-la-facultad/\n",
            "Intranet: http://intranet.exactas.uba.ar/\n",
            "Directorio de teléfonos y correos: https://exactas.uba.ar/directorio-telefonico/\n",
            "Digesto normativo: https://exactas.uba.ar/institucional/la-facultad/digesto-normativo/\n",
            "Elecciones Consejo Directivo: https://exactas.uba.ar/elecciones-consejo-directivo/\n",
            "Contacto: https://exactas.uba.ar/contacto/\n"
          ]
        }
      ],
      "source": [
        "# Todos los links. Esto podría ser útil para seguir scrapeando todo el sitio haciendo requests en ellos\n",
        "a_todos = soup.find_all('a', href=True)\n",
        "for a in a_todos:\n",
        "  print(f\"{a.text}: {a['href']}\")"
      ]
    },
    {
      "cell_type": "code",
      "execution_count": 17,
      "metadata": {
        "id": "HuLP4tVviG-D",
        "colab": {
          "base_uri": "https://localhost:8080/"
        },
        "outputId": "44746933-7cb3-4a1e-9650-d8a1e5fc2889"
      },
      "outputs": [
        {
          "output_type": "stream",
          "name": "stdout",
          "text": [
            " Dia: 1 de enero           | fecha: Año Nuevo                                                      | evento: Inamovible           \n",
            " Dia: 3 de marzo           | fecha: Carnaval                                                       | evento: Inamovible           \n",
            " Dia: 4 de marzo           | fecha: Carnaval                                                       | evento: Inamovible           \n",
            " Dia: 24 de marzo          | fecha: Día Nacional de la Memoria por la Verdad y la Justicia         | evento: Inamovible           \n",
            " Dia: 2 de abril           | fecha: Día del Veterano y de los Caídos en la Guerra de Malvinas      | evento: Inamovible           \n",
            " Dia: 17 de abril          | fecha: Jueves Santo                                                   | evento: No laborable y no trasladable \n",
            " Dia: 25 de mayo           | fecha: Día de la Revolución de Mayo                                   | evento:                      \n",
            " Dia: 16 de junio          | fecha: Paso a la Inmortalidad del General Güemes                      | evento: Inamovible           \n",
            " Dia: 20 de junio          | fecha: Paso a la Inmortalidad del General Belgrano                    | evento: trasladable correspondeal 17 de junio \n",
            " Dia: 9 de julio           | fecha: Día de la Independencia                                        | evento: Inamovible           \n",
            " Dia: 17 de agosto         | fecha: Paso a la Inmortalidad del Gral. José de San Martín            | evento: Inamovible           \n",
            " Dia: 21 de septiembre     | fecha: Día del Estudiante                                             | evento:                      \n",
            " Dia: 18 de noviembre      | fecha: Día de la Soberanía Nacional (20/11)                           | evento: Corresponde al 17 de agosto \n",
            " Dia: 8 de diciembre       | fecha: Inmaculada Concepción de María                                 | evento:                      \n",
            " Dia: 24 de diciembre      | fecha:                                                                | evento:                      \n",
            " Dia: 25 de diciembre      | fecha: Navidad                                                        | evento:                      \n",
            " Dia: 31 de diciembre      | fecha:                                                                | evento: Inamovible           \n"
          ]
        }
      ],
      "source": [
        "# Podemos tambien scrapear un tabla y traernos los feriados\n",
        "tabla_feriados = soup.find_all('td')\n",
        "\n",
        "# Con 'attr' podemos acceder a cualquier atributo de a etiqueta usando un diccionario\n",
        "dias = soup.find_all('td', attrs={'style':\"width: 14.8064%; height: 56px;\"})\n",
        "fechas = soup.find_all('td', attrs={'style':\"width: 48.6333%; height: 56px;\"})\n",
        "eventos = soup.find_all('td', attrs={'style':\"width: 26.6515%; height: 56px;\"})\n",
        "# print(tabla_feriados)\n",
        "\n",
        "for pos in range(len(dias)):\n",
        "  print(f\" Dia: {dias[pos].text.strip():<20} | fecha: {fechas[pos].text.strip():<62} | evento: {eventos[pos].text.strip():<20} \")"
      ]
    },
    {
      "cell_type": "markdown",
      "metadata": {
        "id": "wfxO0wO5ubqt"
      },
      "source": [
        "<font color='red'>Ejercicio</font>\n",
        "\n",
        "* Generar diccionario cuyas claves sean los nombres de las carreras de grado vigentes en Exactas y sus valores el link asociado a cada una de ellas. https://exactas.uba.ar/ensenanza/carreras-de-grado/\n",
        "\n",
        "**¡A trabajar!**\n",
        "\n",
        "<img src=\"https://storage.googleapis.com/humai-datasets/imagenes/automatizacion_scraping/2_Introduccion_a_web_scraping/spade.png\" width=\"80\" height=\"auto\"/>\n"
      ]
    },
    {
      "cell_type": "code",
      "execution_count": 18,
      "metadata": {
        "id": "WCmp2i2a5nqr",
        "colab": {
          "base_uri": "https://localhost:8080/"
        },
        "outputId": "6feb05ff-3208-40f3-c80c-c795bdf2cab8"
      },
      "outputs": [
        {
          "output_type": "execute_result",
          "data": {
            "text/plain": [
              "{'Ciencias Biológicas': 'https://exactas.uba.ar/ensenanza/carreras-de-grado/ciencias-biologicas/',\n",
              " 'Ciencias de Datos': 'https://exactas.uba.ar/ensenanza/carreras-de-grado/ciencias-de-datos/',\n",
              " 'Ciencias de la Atmósfera': 'https://exactas.uba.ar/ensenanza/carreras-de-grado/ciencias-de-la-atmosfera/',\n",
              " 'Ciencias de la Computación': 'https://exactas.uba.ar/ensenanza/carreras-de-grado/ciencias-de-la-computacion/',\n",
              " 'Ciencias Físicas': 'https://exactas.uba.ar/ensenanza/carreras-de-grado/ciencias-fisicas/',\n",
              " 'Ciencias Geológicas': 'https://exactas.uba.ar/ensenanza/carreras-de-grado/ciencias-geologicas/',\n",
              " 'Ciencias Matemáticas': 'https://exactas.uba.ar/ensenanza/carreras-de-grado/ciencias-matematicas/',\n",
              " 'Ciencias Químicas': 'https://exactas.uba.ar/ensenanza/carreras-de-grado/ciencias-quimicas/',\n",
              " 'Ciencia y Tecnología de Alimentos': 'https://exactas.uba.ar/ensenanza/carreras-de-grado/ciencia-y-tecnologia-de-alimentos/',\n",
              " 'Oceanografía': 'https://exactas.uba.ar/ensenanza/carreras-de-grado/oceanografia/',\n",
              " 'Paleontología': 'https://exactas.uba.ar/ensenanza/carreras-de-grado/paleontologia/',\n",
              " 'Profesorados en Ciencias': 'https://exactas.uba.ar/ensenanza/carreras-de-grado/profesorados-en-ciencias/'}"
            ]
          },
          "metadata": {},
          "execution_count": 18
        }
      ],
      "source": [
        "# Resolución\n",
        "\n",
        "# Obtenemos la información\n",
        "url_base = 'https://exactas.uba.ar/'\n",
        "endpoint_grado = '/ensenanza/carreras-de-grado/'\n",
        "html_obtenido = requests.get(url_base + endpoint_grado)\n",
        "soup = BeautifulSoup(html_obtenido.text, \"html.parser\")\n",
        "\n",
        "# La parseamos\n",
        "ul = soup.find('ul', class_ = \"listado carreras grado\")\n",
        "carreras = {li.h2.text : li.a['href'] for li in ul if li != '\\n'}\n",
        "carreras"
      ]
    },
    {
      "cell_type": "markdown",
      "metadata": {
        "id": "GNkLPmfyA0aJ"
      },
      "source": [
        "#### Ejemplo 2: Cortazar"
      ]
    },
    {
      "cell_type": "code",
      "execution_count": 19,
      "metadata": {
        "id": "vgHsDKT6A0aJ",
        "colab": {
          "base_uri": "https://localhost:8080/"
        },
        "outputId": "ba0e343d-6d2a-42fc-e4f0-63e092b7327c"
      },
      "outputs": [
        {
          "output_type": "stream",
          "name": "stdout",
          "text": [
            "Guardando alguien-que-anda-por-ahi\n",
            "Guardando almuerzos\n",
            "Guardando amor-77\n",
            "Guardando apocalipsis-de-solentiname\n",
            "Guardando axolotl\n",
            "Guardando bestiario\n",
            "Guardando carta-a-una-senorita-en-paris\n",
            "Guardando cartas-de-mama\n",
            "Guardando casa-tomada\n",
            "Guardando cefalea\n",
            "Guardando circe\n",
            "Guardando condor-y-cronopio\n",
            "Guardando conducta-en-los-velorios\n",
            "Guardando conservacion-de-los-recuerdos\n",
            "Guardando continuidad-de-los-parques\n",
            "Guardando cortisimo-metraje\n",
            "Guardando datos-para-entender-a-los-perqueos\n",
            "Guardando desayuno-cortazar\n",
            "Guardando deshoras\n",
            "Guardando despues-del-almuerzo\n",
            "Guardando educacion-de-principe\n",
            "Guardando el-diario-a-diario\n",
            "Guardando el-otro-cielo\n",
            "Guardando el-perseguidor-cortazar\n",
            "Guardando en-un-vaso-de-agua-fria-o-preferentemente-tibia\n",
            "Guardando epigrafe-de-rayuela\n",
            "Guardando eugenesia-cortazar\n",
            "Guardando final-del-juego\n",
            "Guardando grafitti-cortazar\n",
            "Guardando historia-cortazar\n",
            "Guardando historia-veridica\n",
            "Guardando instrucciones-para-cantar\n",
            "Guardando instrucciones-para-dar-cuerda-al-reloj\n",
            "Guardando instrucciones-para-john-howell\n",
            "Guardando instrucciones-para-llorar\n",
            "Guardando instrucciones-para-subir-una-escalera\n",
            "Guardando la-autopista-del-sur\n",
            "Guardando la-caricia-mas-profunda\n",
            "Guardando la-fe-en-el-tercer-mundo\n",
            "Guardando la-isla-a-mediodia\n",
            "Guardando la-noche-boca-arriba\n",
            "Guardando la-puerta-condenada\n",
            "Guardando la-salud-de-los-enfermos\n",
            "Guardando la-senorita-cora\n",
            "Guardando las-armas-secretas\n",
            "Guardando las-babas-del-diablo\n",
            "Guardando las-lineas-de-la-mano\n",
            "Guardando las-menades\n",
            "Guardando las-puertas-del-cielo\n",
            "Guardando lazos-de-familia-cortazar\n",
            "Guardando lejana\n",
            "Guardando liliana-llorando\n",
            "Guardando los-buenos-servicios\n",
            "Guardando los-testigos\n",
            "Guardando los-venenos\n",
            "Guardando lucas-sus-largas-marchas\n",
            "Guardando lucas-sus-roces-sociales\n",
            "Guardando lugar-llamado-kindberg\n",
            "Guardando manuscrito-hallado-en-un-bolsillo\n",
            "Guardando omnibus\n",
            "Guardando pagina-asesina\n",
            "Guardando patio-de-tarde\n",
            "Guardando perdida-y-recuperacion-del-pelo-cortazar\n",
            "Guardando peripecias-del-agua\n",
            "Guardando por-escrito-gallina-una\n",
            "Guardando queremos-tanto-a-glenda\n",
            "Guardando rayuela-capitulo-68\n",
            "Guardando relato-con-un-fondo-de-agua\n",
            "Guardando reunion\n",
            "Guardando secuencias\n",
            "Guardando tema-para-un-tapiz\n",
            "Guardando teoria-del-cangrejo\n",
            "Guardando todos-los-fuegos-el-fuego\n",
            "Guardando torito\n",
            "Guardando una-flor-amarilla\n",
            "Guardando usted-se-tendio-a-tu-lado\n",
            "Guardando verano-cortazar\n",
            "Guardando vestir-una-sombra\n",
            "Guardando vialidad\n"
          ]
        }
      ],
      "source": [
        "# Creo carpeta donde voy a guardar los cuentos\n",
        "!mkdir -p multimedia/cortazar/\n",
        "\n",
        "import re\n",
        "codigo_html_crudo = codigo_html('http://ciudadseva.com/autor/julio-cortazar/cuentos/')\n",
        "\n",
        "regla_para_url_de_un_cuento = r'(https://ciudadseva.com/texto/.+/)'\n",
        "\n",
        "for url_de_un_cuento in re.findall(regla_para_url_de_un_cuento, codigo_html_crudo):\n",
        "    codigo_html_interpretado = BeautifulSoup(codigo_html(url_de_un_cuento), 'html.parser')\n",
        "    elem = codigo_html_interpretado.find(\"div\", { \"class\" : \"text-justify\" })\n",
        "    cuento = elem.text\n",
        "\n",
        "    # Asi podemos guardar los resultados\n",
        "    nombre_del_archivo = url_de_un_cuento.split('/')[-2]\n",
        "    with open (f\"multimedia/cortazar/{nombre_del_archivo}.txt\", 'w') as out:\n",
        "        print(f'Guardando {nombre_del_archivo}')\n",
        "        out.write(cuento)"
      ]
    },
    {
      "cell_type": "markdown",
      "metadata": {
        "id": "pVzzO2iXA0aK"
      },
      "source": [
        "## Práctica: Mercadolibre"
      ]
    },
    {
      "cell_type": "markdown",
      "metadata": {
        "id": "oUGQfsEwSMXj"
      },
      "source": [
        "<font color='red'> Ejercicio </font>\n",
        "\n",
        "Descargá y calculá el promedio de los precios que aparecen en la primer página de mercado libre al buscar gibson"
      ]
    },
    {
      "cell_type": "code",
      "execution_count": 20,
      "metadata": {
        "id": "VqFNpq-tA0aK"
      },
      "outputs": [],
      "source": [
        "# Resolución\n",
        "import requests\n",
        "import re\n",
        "\n",
        "def precios_gibson():\n",
        "    url = \"https://listado.mercadolibre.com.ar/gibson\"\n",
        "    soup = BeautifulSoup(codigo_html(url), 'html.parser')\n",
        "    prices = []\n",
        "    # COMPLETAR\n"
      ]
    },
    {
      "cell_type": "markdown",
      "metadata": {
        "id": "QAOTO4i5VFqg"
      },
      "source": [
        "## Usando cookies 🍪\n",
        "\n",
        "Las [*cookies*](https://es.wikipedia.org/wiki/Cookie_(inform%C3%A1tica)) son bloques de datos creados por un servidor con información enviada por un sitio web y almacenada en el navegador del usuario, de manera que el sitio web puede consultar la actividad previa del navegador.\n",
        "\n",
        "Sus principales funciones son:\n",
        "\n",
        "* Recordar accesos para saber si ya se ha visitado la página (ejemplo: cuando nos *loggeamos* se guardan cookies).\n",
        "\n",
        "* Conocer información sobre los hábitos de navegación.\n",
        "\n",
        "También hay otro tipo de información que se guarda en algunas páginas que son las *sessions*, básicamente es un dato similar a una cookie pero que se guarda en el servidor en lugar de hacerlo en el cliente (nuestro navegador).\n",
        "\n",
        "Para algunos proyectos de *web scraping* puede ser útil interactuar con ellas."
      ]
    },
    {
      "cell_type": "code",
      "execution_count": 21,
      "metadata": {
        "id": "J9ToN5a0JswW",
        "colab": {
          "base_uri": "https://localhost:8080/"
        },
        "outputId": "b902c15e-dda2-4897-a253-bb002f9942c7"
      },
      "outputs": [
        {
          "output_type": "stream",
          "name": "stdout",
          "text": [
            "<class 'requests.cookies.RequestsCookieJar'>\n",
            "[<RequestsCookieJar[Cookie(version=0, name='CLIENT-TOKEN', value='eyJhbGciOiJub25lIiwidHlwIjoiSldUIn0.eyJpc3MiOiJrYWdnbGUiLCJhdWQiOiJjbGllbnQiLCJzdWIiOiIiLCJuYnQiOiIyMDI0LTEyLTIyVDAwOjEyOjEyLjc5NjgwODNaIiwiaWF0IjoiMjAyNC0xMi0yMlQwMDoxMjoxMi43OTY4MDgzWiIsImp0aSI6ImMwMGJhNGI5LWUyZTItNDFjYy1hZGJhLTk5ODg2MzRkYjgxMSIsImV4cCI6IjIwMjUtMDEtMjJUMDA6MTI6MTIuNzk2ODA4M1oiLCJhbm9uIjp0cnVlLCJmZiI6WyJDb21wZXRpdGlvblNpbXVsYXRpb25TZXR0aW5ncyIsIktlcm5lbHNMc3BVcGRhdGVkIiwiS2VybmVsVmlld2VyRGV0YWlsVXBkYXRlIiwiS2VybmVsc0ZpcmViYXNlTG9uZ1BvbGxpbmciLCJBbGxvd0ZvcnVtQXR0YWNobWVudHMiLCJGcm9udGVuZEVycm9yUmVwb3J0aW5nIiwiUmVnaXN0cmF0aW9uTmV3c0VtYWlsU2lnbnVwSXNPcHRPdXQiLCJEYXRhc2V0VXBsb2FkZXJEdXBsaWNhdGVEZXRlY3Rpb24iLCJMaW5rT3Blbk1sRGF0YXNldHMiLCJEYXRhc2V0VmVyc2lvbnNJbkZsaWdodCIsIkJhZGdlcyIsIk1ldGFzdG9yZUNoZWNrQWdncmVnYXRlRmlsZUhhc2hlcyIsIkNoZWNrRWZmaWNpZW50RXh0ZW5zaW9ucyIsIlVzZXJMaWNlbnNlQWdyZWVtZW50U3RhbGVuZXNzVHJhY2tpbmciLCJDb21tdW5pdHlDb21wZXRpdGlvblByaXplIiwiQWRtaW5Pbmx5T3JnYW5pemF0aW9uQ3JlYXRpb24iLCJGYWN0QmVuY2hMZWFkZXJib2FyZCJdLCJmZmQiOnsiS2VybmVsRWRpdG9yQXV0b3NhdmVUaHJvdHRsZU1zIjoiMzAwMDAiLCJQaW5Gb3J1bU1lc3NhZ2VzIjoicHJpdmF0ZSIsIkFkbWluTW92ZUZvcnVtVG9waWNzIjoicHJpdmF0ZSIsIkVtZXJnZW5jeUFsZXJ0QmFubmVyIjoie30iLCJDbGllbnRScGNSYXRlTGltaXRRcHMiOiI0MCIsIkNsaWVudFJwY1JhdGVMaW1pdFFwbSI6IjUwMCIsIkZlYXR1cmVkQ29tbXVuaXR5Q29tcGV0aXRpb25zIjoiNjAwOTUsNTQwMDAsNTcxNjMsODA4NzQsODE3ODYsODE3MDQsODI2MTEsODUyMTAiLCJBZGRGZWF0dXJlRmxhZ3NUb1BhZ2VMb2FkVGFnIjoiZGlzYWJsZWQiLCJNb2RlbEluZmVyZW5jZVBhcmFtZXRlcnMiOiJ7IFwibWF4X3Rva2Vuc1wiOiAxMjgsIFwidGVtcGVyYXR1cmVcIjogMC40LCBcInRvcF9rXCI6IDUgfSIsIkNvbXBldGl0aW9uTWV0cmljVGltZW91dE1pbnV0ZXMiOiIzMCIsIktlcm5lbHNMNEdQVUNvbXBzIjoiODYwMjMsODQ3OTUsODg5MjUiLCJTcG90bGlnaHRDb21tdW5pdHlDb21wZXRpdGlvbnMiOiI4NTg3LDI3NTI0In0sInBpZCI6ImthZ2dsZS0xNjE2MDciLCJzdmMiOiJ3ZWItZmUiLCJzZGFrIjoiQUl6YVN5QTRlTnFVZFJSc2tKc0NaV1Z6LXFMNjU1WGE1SkVNcmVFIiwiYmxkIjoiZTIzNmRkOTBmMjUxMTJiMzk2Y2QzZWM1Yzk2NzUyNjY3ZWE4NjI5YyJ9.', port=None, port_specified=False, domain='www.kaggle.com', domain_specified=False, domain_initial_dot=False, path='/', path_specified=True, secure=True, expires=None, discard=True, comment=None, comment_url=None, rest={'samesite': 'lax'}, rfc2109=False), Cookie(version=0, name='CSRF-TOKEN', value='CfDJ8L3o_FPsMQlKvPRAcaVvXWNN4Ck4LJA2HGqBAv3QY1InNMDmpFTyZCLtAarDtdYla8uhhDTjfGZ-UXcZEKcSAhX79GkSAeNbVRWnV4Xoqg', port=None, port_specified=False, domain='www.kaggle.com', domain_specified=False, domain_initial_dot=False, path='/', path_specified=True, secure=True, expires=None, discard=True, comment=None, comment_url=None, rest={'samesite': 'strict', 'httponly': None}, rfc2109=False), Cookie(version=0, name='GCLB', value='COWoyOLDytus9gEQAw', port=None, port_specified=False, domain='www.kaggle.com', domain_specified=False, domain_initial_dot=False, path='/', path_specified=True, secure=False, expires=None, discard=True, comment=None, comment_url=None, rest={'HttpOnly': None}, rfc2109=False), Cookie(version=0, name='XSRF-TOKEN', value='CfDJ8L3o_FPsMQlKvPRAcaVvXWOmaiq194dKwRbXV3dwChYJbxIr4u4jLKgn2D0Ij9UvgLtPSTMSkc3hvsNRoVmIe7XDWdU4-1pcRaUv_Nq3j9LKfw', port=None, port_specified=False, domain='www.kaggle.com', domain_specified=False, domain_initial_dot=False, path='/', path_specified=True, secure=True, expires=None, discard=True, comment=None, comment_url=None, rest={'samesite': 'strict'}, rfc2109=False), Cookie(version=0, name='ka_sessionid', value='776444cda0fcd447175bf99d19731712', port=None, port_specified=False, domain='www.kaggle.com', domain_specified=False, domain_initial_dot=False, path='/', path_specified=True, secure=False, expires=1737452892, discard=False, comment=None, comment_url=None, rest={}, rfc2109=False)]>]\n"
          ]
        }
      ],
      "source": [
        "import requests\n",
        "from IPython.display import HTML\n",
        "\n",
        "response = requests.get('https://www.kaggle.com/')\n",
        "\n",
        "# Obtenemos el atributo cookies\n",
        "cookies = response.cookies\n",
        "print(type(cookies))\n",
        "print([cookies])"
      ]
    },
    {
      "cell_type": "code",
      "execution_count": 22,
      "metadata": {
        "id": "GpPlQ7brg1__",
        "colab": {
          "base_uri": "https://localhost:8080/"
        },
        "outputId": "bed07277-41b6-41ed-83de-a8b540250469"
      },
      "outputs": [
        {
          "output_type": "stream",
          "name": "stdout",
          "text": [
            "domain:  www.kaggle.com\n",
            "name:  CLIENT-TOKEN\n",
            "value:  eyJhbGciOiJub25lIiwidHlwIjoiSldUIn0.eyJpc3MiOiJrYWdnbGUiLCJhdWQiOiJjbGllbnQiLCJzdWIiOiIiLCJuYnQiOiIyMDI0LTEyLTIyVDAwOjEyOjEyLjc5NjgwODNaIiwiaWF0IjoiMjAyNC0xMi0yMlQwMDoxMjoxMi43OTY4MDgzWiIsImp0aSI6ImMwMGJhNGI5LWUyZTItNDFjYy1hZGJhLTk5ODg2MzRkYjgxMSIsImV4cCI6IjIwMjUtMDEtMjJUMDA6MTI6MTIuNzk2ODA4M1oiLCJhbm9uIjp0cnVlLCJmZiI6WyJDb21wZXRpdGlvblNpbXVsYXRpb25TZXR0aW5ncyIsIktlcm5lbHNMc3BVcGRhdGVkIiwiS2VybmVsVmlld2VyRGV0YWlsVXBkYXRlIiwiS2VybmVsc0ZpcmViYXNlTG9uZ1BvbGxpbmciLCJBbGxvd0ZvcnVtQXR0YWNobWVudHMiLCJGcm9udGVuZEVycm9yUmVwb3J0aW5nIiwiUmVnaXN0cmF0aW9uTmV3c0VtYWlsU2lnbnVwSXNPcHRPdXQiLCJEYXRhc2V0VXBsb2FkZXJEdXBsaWNhdGVEZXRlY3Rpb24iLCJMaW5rT3Blbk1sRGF0YXNldHMiLCJEYXRhc2V0VmVyc2lvbnNJbkZsaWdodCIsIkJhZGdlcyIsIk1ldGFzdG9yZUNoZWNrQWdncmVnYXRlRmlsZUhhc2hlcyIsIkNoZWNrRWZmaWNpZW50RXh0ZW5zaW9ucyIsIlVzZXJMaWNlbnNlQWdyZWVtZW50U3RhbGVuZXNzVHJhY2tpbmciLCJDb21tdW5pdHlDb21wZXRpdGlvblByaXplIiwiQWRtaW5Pbmx5T3JnYW5pemF0aW9uQ3JlYXRpb24iLCJGYWN0QmVuY2hMZWFkZXJib2FyZCJdLCJmZmQiOnsiS2VybmVsRWRpdG9yQXV0b3NhdmVUaHJvdHRsZU1zIjoiMzAwMDAiLCJQaW5Gb3J1bU1lc3NhZ2VzIjoicHJpdmF0ZSIsIkFkbWluTW92ZUZvcnVtVG9waWNzIjoicHJpdmF0ZSIsIkVtZXJnZW5jeUFsZXJ0QmFubmVyIjoie30iLCJDbGllbnRScGNSYXRlTGltaXRRcHMiOiI0MCIsIkNsaWVudFJwY1JhdGVMaW1pdFFwbSI6IjUwMCIsIkZlYXR1cmVkQ29tbXVuaXR5Q29tcGV0aXRpb25zIjoiNjAwOTUsNTQwMDAsNTcxNjMsODA4NzQsODE3ODYsODE3MDQsODI2MTEsODUyMTAiLCJBZGRGZWF0dXJlRmxhZ3NUb1BhZ2VMb2FkVGFnIjoiZGlzYWJsZWQiLCJNb2RlbEluZmVyZW5jZVBhcmFtZXRlcnMiOiJ7IFwibWF4X3Rva2Vuc1wiOiAxMjgsIFwidGVtcGVyYXR1cmVcIjogMC40LCBcInRvcF9rXCI6IDUgfSIsIkNvbXBldGl0aW9uTWV0cmljVGltZW91dE1pbnV0ZXMiOiIzMCIsIktlcm5lbHNMNEdQVUNvbXBzIjoiODYwMjMsODQ3OTUsODg5MjUiLCJTcG90bGlnaHRDb21tdW5pdHlDb21wZXRpdGlvbnMiOiI4NTg3LDI3NTI0In0sInBpZCI6ImthZ2dsZS0xNjE2MDciLCJzdmMiOiJ3ZWItZmUiLCJzZGFrIjoiQUl6YVN5QTRlTnFVZFJSc2tKc0NaV1Z6LXFMNjU1WGE1SkVNcmVFIiwiYmxkIjoiZTIzNmRkOTBmMjUxMTJiMzk2Y2QzZWM1Yzk2NzUyNjY3ZWE4NjI5YyJ9.\n",
            "------------------------\n",
            "domain:  www.kaggle.com\n",
            "name:  CSRF-TOKEN\n",
            "value:  CfDJ8L3o_FPsMQlKvPRAcaVvXWNN4Ck4LJA2HGqBAv3QY1InNMDmpFTyZCLtAarDtdYla8uhhDTjfGZ-UXcZEKcSAhX79GkSAeNbVRWnV4Xoqg\n",
            "------------------------\n",
            "domain:  www.kaggle.com\n",
            "name:  GCLB\n",
            "value:  COWoyOLDytus9gEQAw\n",
            "------------------------\n",
            "domain:  www.kaggle.com\n",
            "name:  XSRF-TOKEN\n",
            "value:  CfDJ8L3o_FPsMQlKvPRAcaVvXWOmaiq194dKwRbXV3dwChYJbxIr4u4jLKgn2D0Ij9UvgLtPSTMSkc3hvsNRoVmIe7XDWdU4-1pcRaUv_Nq3j9LKfw\n",
            "------------------------\n",
            "domain:  www.kaggle.com\n",
            "name:  ka_sessionid\n",
            "value:  776444cda0fcd447175bf99d19731712\n",
            "------------------------\n"
          ]
        }
      ],
      "source": [
        "# iteramos sobre las cookies en el cookie jar\n",
        "for cookie in cookies:\n",
        "  print('domain: ' ,cookie.domain)\n",
        "  print('name: ', cookie.name)\n",
        "  print('value: ', cookie.value)\n",
        "  print('------------------------')"
      ]
    },
    {
      "cell_type": "markdown",
      "metadata": {
        "id": "Jziv4geBHFmS"
      },
      "source": [
        "Podemos enviar cookies junto con nuestro request. Esto puede ser util para ciertos sitios que usan la ausencia de cookies como criterio para bloquear el acceso."
      ]
    },
    {
      "cell_type": "code",
      "execution_count": 23,
      "metadata": {
        "id": "8CM8ZB9cG0T8",
        "colab": {
          "base_uri": "https://localhost:8080/"
        },
        "outputId": "1204578d-beba-4f38-e8e7-20b2adc3be92"
      },
      "outputs": [
        {
          "output_type": "stream",
          "name": "stdout",
          "text": [
            "{'name': 'mi nombre', 'password': 'superSeguro1234'}\n"
          ]
        },
        {
          "output_type": "execute_result",
          "data": {
            "text/plain": [
              "<Response [200]>"
            ]
          },
          "metadata": {},
          "execution_count": 23
        }
      ],
      "source": [
        "url = 'https://www.kaggle.com/'\n",
        "\n",
        "mis_cookies = {\n",
        "    'name':'mi nombre',\n",
        "    'password':'superSeguro1234'\n",
        "    }\n",
        "print(mis_cookies)\n",
        "\n",
        "# Mando mis propias cookies\n",
        "respuesta = requests.get(url, cookies=mis_cookies)\n",
        "\n",
        "respuesta"
      ]
    },
    {
      "cell_type": "markdown",
      "metadata": {
        "id": "w52rjRnsA0aK"
      },
      "source": [
        "## ¿Entonces me puedo descargar todo internet?\n",
        "\n",
        "En la próximas clases veremos algunas limitaciones de este método y sus alternativas. Mas allá de eso es importante ponerse de vez en cuando en el lugar del sitio del cual estamos descargando datos.\n",
        "\n",
        "\n",
        "Muchas veces las páginas web obtienen sus ingresos a partir del uso de usuarios tradicionales (humanos) pero no de los scrapers (máquinas). Por lo que estos no generan ganancias al sitio y encima pueden causar congestión en los servidores (Pudiendo causar incluso la rotura del sitio similar a lo que pasa con los [ataques DDOS](https://es.wikipedia.org/wiki/Ataque_de_denegaci%C3%B3n_de_servicio)).\n",
        "\n",
        "Por esta razón los sitios webs suelen tener una pagina [/robots.txt](https://es.wikipedia.org/wiki/Est%C3%A1ndar_de_exclusi%C3%B3n_de_robots) donde especifican que tipo de scrapeo prefieren evitar para poder mantener su sitio funcionando correctamente sin problemas.\n",
        "\n",
        "Pueden ver, como ejemplos:\n",
        "\n",
        "- https://www.google.com/robots.txt\n",
        "- https://en.wikipedia.org/robots.txt"
      ]
    }
  ],
  "metadata": {
    "colab": {
      "provenance": [],
      "include_colab_link": true
    },
    "instance_type": "ml.t3.medium",
    "interpreter": {
      "hash": "916dbcbb3f70747c44a77c7bcd40155683ae19c65e1c03b4aa3499c5328201f1"
    },
    "kernelspec": {
      "display_name": "Python 3.8.10 64-bit",
      "name": "python3"
    },
    "language_info": {
      "codemirror_mode": {
        "name": "ipython",
        "version": 3
      },
      "file_extension": ".py",
      "mimetype": "text/x-python",
      "name": "python",
      "nbconvert_exporter": "python",
      "pygments_lexer": "ipython3",
      "version": "3.8.10"
    }
  },
  "nbformat": 4,
  "nbformat_minor": 0
}