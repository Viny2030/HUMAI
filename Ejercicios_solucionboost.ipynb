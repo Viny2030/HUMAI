{
  "cells": [
    {
      "cell_type": "markdown",
      "metadata": {
        "id": "view-in-github",
        "colab_type": "text"
      },
      "source": [
        "<a href=\"https://colab.research.google.com/github/Viny2030/HUMAI/blob/main/Ejercicios_solucionboost.ipynb\" target=\"_parent\"><img src=\"https://colab.research.google.com/assets/colab-badge.svg\" alt=\"Open In Colab\"/></a>"
      ]
    },
    {
      "cell_type": "markdown",
      "source": [
        "<a href=\"https://colab.research.google.com/github/institutohumai/machine_learning/blob/main/7_XGBoost/Ejercicios/Ejercicios_solucion.ipynb\"> <img src='https://colab.research.google.com/assets/colab-badge.svg' /> </a>"
      ],
      "metadata": {
        "id": "UKVv6w4hTqST"
      },
      "id": "UKVv6w4hTqST"
    },
    {
      "cell_type": "markdown",
      "id": "c3ea51a2",
      "metadata": {
        "id": "c3ea51a2"
      },
      "source": [
        "# Ejercicios XGBoost, LightGBM, CatBoost y NGBoost"
      ]
    },
    {
      "cell_type": "markdown",
      "source": [
        "Recuerden activar la opción de acelerador por hardaware \"gpu\" La cual se encuentra en \"Entorno de ejecución\" y dentro de \"cambiar tipo de entorno de ejecución\"\n",
        "\n"
      ],
      "metadata": {
        "id": "SNylqREBCMf2"
      },
      "id": "SNylqREBCMf2"
    },
    {
      "cell_type": "markdown",
      "id": "1a67b451",
      "metadata": {
        "id": "1a67b451"
      },
      "source": [
        "## Diseño de Modelo XGBoost para predicción de salarios\n",
        "Utilizando la librería XGBoost:\n",
        "1. Limpie el Dataset eliminando los valores nulos y conviertendo las variables categóricas mediante OneHotEncoding o similar.\n",
        "2. Divida el conjunto de datos en datos de entrenamiento y prueba.\n",
        "3. Implemente un modelo XGBoost para predecir si una persona gana más de 50K en función de las otras características y entrénelo con el set de entrenamiento.\n",
        "4. Evalúe el rendimiento del modelo usando el conjunto de prueba y la métrica ROC_AUC.\n"
      ]
    },
    {
      "cell_type": "code",
      "source": [
        "import xgboost as xgb\n",
        "from sklearn.metrics import roc_auc_score\n",
        "from sklearn.model_selection import train_test_split\n",
        "from sklearn.preprocessing import OneHotEncoder\n",
        "import pandas as pd\n",
        "import numpy as np"
      ],
      "metadata": {
        "id": "nJvvIkDZ8Ybn"
      },
      "id": "nJvvIkDZ8Ybn",
      "execution_count": 3,
      "outputs": []
    },
    {
      "cell_type": "code",
      "source": [
        "# Leer el dataset\n",
        "df = pd.read_csv(\"https://storage.googleapis.com/humai-datasets/aws_s3/ml_avanzado/2_Boosting_de_arboles/adult_train.csv\")\n",
        "\n",
        "# Limpieza de datos y Encoding\n",
        "df = df.replace('?', np.nan)\n",
        "df = df.dropna()\n",
        "ohe = OneHotEncoder()\n",
        "df_encoded = ohe.fit_transform(df)\n",
        "\n",
        "# Data Split\n",
        "X = df_encoded[:, :-1]  # Todas las columnas excepto la última (target)\n",
        "y = df_encoded[:, -1]   # Última columna (target)\n",
        "\n",
        "# Convertir las matrices dispersas a arreglos NumPy\n",
        "X = X.toarray()\n",
        "y = y.toarray().ravel()\n",
        "\n",
        "# División de datos en entrenamiento y prueba, excluyendo la columna objetivo\n",
        "X_train, X_test, y_train, y_test = train_test_split(X[:, :-1], y, test_size=0.2, random_state=42)"
      ],
      "metadata": {
        "id": "mQW0xknNCxRu"
      },
      "id": "mQW0xknNCxRu",
      "execution_count": 4,
      "outputs": []
    },
    {
      "cell_type": "code",
      "execution_count": 5,
      "id": "df2e77f4",
      "metadata": {
        "colab": {
          "base_uri": "https://localhost:8080/"
        },
        "id": "df2e77f4",
        "outputId": "134b2e8d-8f42-4271-a3ea-da751c9d5db1"
      },
      "outputs": [
        {
          "output_type": "stream",
          "name": "stderr",
          "text": [
            "/usr/local/lib/python3.10/dist-packages/xgboost/core.py:158: UserWarning: [22:30:47] WARNING: /workspace/src/common/error_msg.cc:27: The tree method `gpu_hist` is deprecated since 2.0.0. To use GPU training, set the `device` parameter to CUDA instead.\n",
            "\n",
            "    E.g. tree_method = \"hist\", device = \"cuda\"\n",
            "\n",
            "  warnings.warn(smsg, UserWarning)\n",
            "/usr/local/lib/python3.10/dist-packages/xgboost/core.py:158: UserWarning: [22:30:49] WARNING: /workspace/src/common/error_msg.cc:27: The tree method `gpu_hist` is deprecated since 2.0.0. To use GPU training, set the `device` parameter to CUDA instead.\n",
            "\n",
            "    E.g. tree_method = \"hist\", device = \"cuda\"\n",
            "\n",
            "  warnings.warn(smsg, UserWarning)\n",
            "/usr/local/lib/python3.10/dist-packages/xgboost/core.py:158: UserWarning: [22:30:49] WARNING: /workspace/src/common/error_msg.cc:58: Falling back to prediction using DMatrix due to mismatched devices. This might lead to higher memory usage and slower performance. XGBoost is running on: cuda:0, while the input data is on: cpu.\n",
            "Potential solutions:\n",
            "- Use a data structure that matches the device ordinal in the booster.\n",
            "- Set the device for booster before call to inplace_predict.\n",
            "\n",
            "This warning will only be shown once.\n",
            "\n",
            "  warnings.warn(smsg, UserWarning)\n"
          ]
        },
        {
          "output_type": "stream",
          "name": "stdout",
          "text": [
            "El resultado de ROC AUC es: 0.7583436750227517\n"
          ]
        }
      ],
      "source": [
        "# Modelo\n",
        "xg_cl = xgb.XGBClassifier(objective='binary:logistic', n_estimators=10, seed=42, tree_method='gpu_hist')\n",
        "xg_cl.fit(X_train, y_train)\n",
        "\n",
        "# Evaluación\n",
        "preds = xg_cl.predict(X_test)\n",
        "auc_score_xgboost = roc_auc_score(y_test, preds)\n",
        "print('El resultado de ROC AUC es:', auc_score_xgboost)\n"
      ]
    },
    {
      "cell_type": "markdown",
      "source": [
        "## Empleo de Lightgbm para predicciones salariales\n",
        "Implemente y entrene un modelo Lightgbm utilizando el dataset adult para predecir el salario de una persona. Evalúe el rendimiento del modelo usando el conjunto de datos de prueba y la métrica ROC_AUC."
      ],
      "metadata": {
        "id": "1LykjecF9UFK"
      },
      "id": "1LykjecF9UFK"
    },
    {
      "cell_type": "code",
      "source": [
        "import lightgbm as lgb\n",
        "\n",
        "# Crear el dataset LightGBM\n",
        "train_data = lgb.Dataset(X_train, label=y_train)\n",
        "\n",
        "# Definir los parámetros del modelo LightGBM\n",
        "params = {\n",
        "    'objective': 'binary',\n",
        "    'metric': 'auc',\n",
        "    'seed': 42,\n",
        "}\n",
        "\n",
        "# Entrenar el modelo LightGBM en la GPU\n",
        "lgbm_cl = lgb.train(params, train_data, num_boost_round=1)\n",
        "\n",
        "# Evaluación\n",
        "preds = lgbm_cl.predict(X_test)\n",
        "auc_score_lightgbm = roc_auc_score(y_test, preds)\n",
        "print('El resultado de ROC AUC es:', auc_score_lightgbm)"
      ],
      "metadata": {
        "colab": {
          "base_uri": "https://localhost:8080/"
        },
        "id": "ToRRQKpT9UZR",
        "outputId": "abaf8aa9-2910-4e51-fc36-ceceb85a5855"
      },
      "id": "ToRRQKpT9UZR",
      "execution_count": 6,
      "outputs": [
        {
          "output_type": "stream",
          "name": "stderr",
          "text": [
            "/usr/local/lib/python3.10/dist-packages/dask/dataframe/__init__.py:42: FutureWarning: \n",
            "Dask dataframe query planning is disabled because dask-expr is not installed.\n",
            "\n",
            "You can install it with `pip install dask[dataframe]` or `conda install dask`.\n",
            "This will raise in a future version.\n",
            "\n",
            "  warnings.warn(msg, FutureWarning)\n"
          ]
        },
        {
          "output_type": "stream",
          "name": "stdout",
          "text": [
            "[LightGBM] [Info] Number of positive: 5978, number of negative: 18151\n",
            "[LightGBM] [Info] Auto-choosing row-wise multi-threading, the overhead of testing was 0.009899 seconds.\n",
            "You can set `force_row_wise=true` to remove the overhead.\n",
            "And if memory is not enough, you can set `force_col_wise=true`.\n",
            "[LightGBM] [Info] Total Bins 508\n",
            "[LightGBM] [Info] Number of data points in the train set: 24129, number of used features: 254\n",
            "[LightGBM] [Info] [binary:BoostFromScore]: pavg=0.247752 -> initscore=-1.110640\n",
            "[LightGBM] [Info] Start training from score -1.110640\n",
            "El resultado de ROC AUC es: 0.8684468161385512\n"
          ]
        }
      ]
    },
    {
      "cell_type": "markdown",
      "id": "a5f12c98",
      "metadata": {
        "id": "a5f12c98"
      },
      "source": [
        "## Empleo de CatBoost para predicciones salariales\n",
        "Implemente y entrene un modelo CatBoost utilizando el dataset adult para predecir el salario de una persona. Evalúe el rendimiento del modelo usando el conjunto de datos de prueba y la métrica ROC_AUC.\n"
      ]
    },
    {
      "cell_type": "code",
      "source": [
        "!pip install catboost"
      ],
      "metadata": {
        "colab": {
          "base_uri": "https://localhost:8080/"
        },
        "id": "dgtCFv-85J4S",
        "outputId": "8ca3bd46-081c-4f4c-9224-ded763965d3e"
      },
      "id": "dgtCFv-85J4S",
      "execution_count": 7,
      "outputs": [
        {
          "output_type": "stream",
          "name": "stdout",
          "text": [
            "Requirement already satisfied: catboost in /usr/local/lib/python3.10/dist-packages (1.2.7)\n",
            "Requirement already satisfied: graphviz in /usr/local/lib/python3.10/dist-packages (from catboost) (0.20.3)\n",
            "Requirement already satisfied: matplotlib in /usr/local/lib/python3.10/dist-packages (from catboost) (3.8.0)\n",
            "Requirement already satisfied: numpy<2.0,>=1.16.0 in /usr/local/lib/python3.10/dist-packages (from catboost) (1.26.4)\n",
            "Requirement already satisfied: pandas>=0.24 in /usr/local/lib/python3.10/dist-packages (from catboost) (2.2.2)\n",
            "Requirement already satisfied: scipy in /usr/local/lib/python3.10/dist-packages (from catboost) (1.13.1)\n",
            "Requirement already satisfied: plotly in /usr/local/lib/python3.10/dist-packages (from catboost) (5.24.1)\n",
            "Requirement already satisfied: six in /usr/local/lib/python3.10/dist-packages (from catboost) (1.17.0)\n",
            "Requirement already satisfied: python-dateutil>=2.8.2 in /usr/local/lib/python3.10/dist-packages (from pandas>=0.24->catboost) (2.8.2)\n",
            "Requirement already satisfied: pytz>=2020.1 in /usr/local/lib/python3.10/dist-packages (from pandas>=0.24->catboost) (2024.2)\n",
            "Requirement already satisfied: tzdata>=2022.7 in /usr/local/lib/python3.10/dist-packages (from pandas>=0.24->catboost) (2024.2)\n",
            "Requirement already satisfied: contourpy>=1.0.1 in /usr/local/lib/python3.10/dist-packages (from matplotlib->catboost) (1.3.1)\n",
            "Requirement already satisfied: cycler>=0.10 in /usr/local/lib/python3.10/dist-packages (from matplotlib->catboost) (0.12.1)\n",
            "Requirement already satisfied: fonttools>=4.22.0 in /usr/local/lib/python3.10/dist-packages (from matplotlib->catboost) (4.55.3)\n",
            "Requirement already satisfied: kiwisolver>=1.0.1 in /usr/local/lib/python3.10/dist-packages (from matplotlib->catboost) (1.4.7)\n",
            "Requirement already satisfied: packaging>=20.0 in /usr/local/lib/python3.10/dist-packages (from matplotlib->catboost) (24.2)\n",
            "Requirement already satisfied: pillow>=6.2.0 in /usr/local/lib/python3.10/dist-packages (from matplotlib->catboost) (11.0.0)\n",
            "Requirement already satisfied: pyparsing>=2.3.1 in /usr/local/lib/python3.10/dist-packages (from matplotlib->catboost) (3.2.0)\n",
            "Requirement already satisfied: tenacity>=6.2.0 in /usr/local/lib/python3.10/dist-packages (from plotly->catboost) (9.0.0)\n"
          ]
        }
      ]
    },
    {
      "cell_type": "code",
      "execution_count": 8,
      "id": "c8d1944b",
      "metadata": {
        "id": "c8d1944b",
        "colab": {
          "base_uri": "https://localhost:8080/"
        },
        "outputId": "4ffcd513-1b7c-4bd4-dc96-5c0271081838"
      },
      "outputs": [
        {
          "output_type": "stream",
          "name": "stdout",
          "text": [
            "El resultado de ROC AUC es: 0.7796044467087302\n"
          ]
        }
      ],
      "source": [
        "from catboost import CatBoostClassifier\n",
        "from sklearn.metrics import roc_auc_score\n",
        "from sklearn.model_selection import train_test_split\n",
        "\n",
        "# Modelo\n",
        "catb_cl = CatBoostClassifier(verbose=0, n_estimators=100, task_type='GPU')\n",
        "catb_cl.fit(X_train, y_train)\n",
        "\n",
        "# Evaluación\n",
        "preds = catb_cl.predict(X_test)\n",
        "auc_score_catboost = roc_auc_score(y_test, preds)\n",
        "print('El resultado de ROC AUC es:', auc_score_catboost)\n"
      ]
    },
    {
      "cell_type": "markdown",
      "source": [
        "## Empleo de NGBoost para predicciones salariales\n",
        "Implemente y entrene un modelo NGBoost utilizando el dataset adult para predecir el salario de una persona. Evalúe el rendimiento del modelo usando el conjunto de datos de prueba y la métrica ROC_AUC."
      ],
      "metadata": {
        "id": "pAyfiT20B9zo"
      },
      "id": "pAyfiT20B9zo"
    },
    {
      "cell_type": "code",
      "source": [
        "!pip install ngboost"
      ],
      "metadata": {
        "id": "8Mpj9mkbAqpL",
        "colab": {
          "base_uri": "https://localhost:8080/"
        },
        "outputId": "de1e5932-14e8-434b-8ff7-29a10e876090"
      },
      "id": "8Mpj9mkbAqpL",
      "execution_count": 9,
      "outputs": [
        {
          "output_type": "stream",
          "name": "stdout",
          "text": [
            "Requirement already satisfied: ngboost in /usr/local/lib/python3.10/dist-packages (0.5.1)\n",
            "Requirement already satisfied: lifelines>=0.25 in /usr/local/lib/python3.10/dist-packages (from ngboost) (0.30.0)\n",
            "Requirement already satisfied: numpy>=1.21.2 in /usr/local/lib/python3.10/dist-packages (from ngboost) (1.26.4)\n",
            "Requirement already satisfied: scikit-learn>=1.0.2 in /usr/local/lib/python3.10/dist-packages (from ngboost) (1.6.0)\n",
            "Requirement already satisfied: scipy>=1.7.2 in /usr/local/lib/python3.10/dist-packages (from ngboost) (1.13.1)\n",
            "Requirement already satisfied: tqdm>=4.3 in /usr/local/lib/python3.10/dist-packages (from ngboost) (4.67.1)\n",
            "Requirement already satisfied: pandas>=2.1 in /usr/local/lib/python3.10/dist-packages (from lifelines>=0.25->ngboost) (2.2.2)\n",
            "Requirement already satisfied: matplotlib>=3.0 in /usr/local/lib/python3.10/dist-packages (from lifelines>=0.25->ngboost) (3.8.0)\n",
            "Requirement already satisfied: autograd>=1.5 in /usr/local/lib/python3.10/dist-packages (from lifelines>=0.25->ngboost) (1.7.0)\n",
            "Requirement already satisfied: autograd-gamma>=0.3 in /usr/local/lib/python3.10/dist-packages (from lifelines>=0.25->ngboost) (0.5.0)\n",
            "Requirement already satisfied: formulaic>=0.2.2 in /usr/local/lib/python3.10/dist-packages (from lifelines>=0.25->ngboost) (1.1.1)\n",
            "Requirement already satisfied: joblib>=1.2.0 in /usr/local/lib/python3.10/dist-packages (from scikit-learn>=1.0.2->ngboost) (1.4.2)\n",
            "Requirement already satisfied: threadpoolctl>=3.1.0 in /usr/local/lib/python3.10/dist-packages (from scikit-learn>=1.0.2->ngboost) (3.5.0)\n",
            "Requirement already satisfied: interface-meta>=1.2.0 in /usr/local/lib/python3.10/dist-packages (from formulaic>=0.2.2->lifelines>=0.25->ngboost) (1.3.0)\n",
            "Requirement already satisfied: typing-extensions>=4.2.0 in /usr/local/lib/python3.10/dist-packages (from formulaic>=0.2.2->lifelines>=0.25->ngboost) (4.12.2)\n",
            "Requirement already satisfied: wrapt>=1.0 in /usr/local/lib/python3.10/dist-packages (from formulaic>=0.2.2->lifelines>=0.25->ngboost) (1.17.0)\n",
            "Requirement already satisfied: contourpy>=1.0.1 in /usr/local/lib/python3.10/dist-packages (from matplotlib>=3.0->lifelines>=0.25->ngboost) (1.3.1)\n",
            "Requirement already satisfied: cycler>=0.10 in /usr/local/lib/python3.10/dist-packages (from matplotlib>=3.0->lifelines>=0.25->ngboost) (0.12.1)\n",
            "Requirement already satisfied: fonttools>=4.22.0 in /usr/local/lib/python3.10/dist-packages (from matplotlib>=3.0->lifelines>=0.25->ngboost) (4.55.3)\n",
            "Requirement already satisfied: kiwisolver>=1.0.1 in /usr/local/lib/python3.10/dist-packages (from matplotlib>=3.0->lifelines>=0.25->ngboost) (1.4.7)\n",
            "Requirement already satisfied: packaging>=20.0 in /usr/local/lib/python3.10/dist-packages (from matplotlib>=3.0->lifelines>=0.25->ngboost) (24.2)\n",
            "Requirement already satisfied: pillow>=6.2.0 in /usr/local/lib/python3.10/dist-packages (from matplotlib>=3.0->lifelines>=0.25->ngboost) (11.0.0)\n",
            "Requirement already satisfied: pyparsing>=2.3.1 in /usr/local/lib/python3.10/dist-packages (from matplotlib>=3.0->lifelines>=0.25->ngboost) (3.2.0)\n",
            "Requirement already satisfied: python-dateutil>=2.7 in /usr/local/lib/python3.10/dist-packages (from matplotlib>=3.0->lifelines>=0.25->ngboost) (2.8.2)\n",
            "Requirement already satisfied: pytz>=2020.1 in /usr/local/lib/python3.10/dist-packages (from pandas>=2.1->lifelines>=0.25->ngboost) (2024.2)\n",
            "Requirement already satisfied: tzdata>=2022.7 in /usr/local/lib/python3.10/dist-packages (from pandas>=2.1->lifelines>=0.25->ngboost) (2024.2)\n",
            "Requirement already satisfied: six>=1.5 in /usr/local/lib/python3.10/dist-packages (from python-dateutil>=2.7->matplotlib>=3.0->lifelines>=0.25->ngboost) (1.17.0)\n"
          ]
        }
      ]
    },
    {
      "cell_type": "markdown",
      "source": [
        "Esta celda ayuda a que los modelos puedan correr en un colab debido a que reduce la dimensionalidad de los datos. No es necesario igualmente en todos los modelos que realicen. Se utiliza principalmente en el ngboost debido a que no tiene la posibilidad de correr el modelo utilizando la gpu que brinda colab. Hay que tener en cuenta que los resultados se veran afectados al reducir la dimensionalidad del dataset"
      ],
      "metadata": {
        "id": "F_QB9e6cm897"
      },
      "id": "F_QB9e6cm897"
    },
    {
      "cell_type": "code",
      "source": [
        "\n",
        "from sklearn.decomposition import PCA\n",
        "from sklearn.preprocessing import LabelEncoder\n",
        "from sklearn.model_selection import train_test_split\n",
        "\n",
        "# Reducción de dimensionalidad con PCA\n",
        "pca = PCA(n_components=10)  # Número de componentes principales deseados\n",
        "X_pca = pca.fit_transform(X[:, :-1])\n",
        "\n",
        "# División de datos en entrenamiento y prueba con datos reducidos por PCA\n",
        "X_train, X_test, y_train, y_test = train_test_split(X_pca, y, test_size=0.2, random_state=42)\n",
        "\n",
        "# Convertir las etiquetas a formato entero\n",
        "label_encoder = LabelEncoder()\n",
        "y_train = label_encoder.fit_transform(y_train)\n",
        "y_test = label_encoder.transform(y_test)\n"
      ],
      "metadata": {
        "id": "9qU9ta_Km8lh"
      },
      "id": "9qU9ta_Km8lh",
      "execution_count": null,
      "outputs": []
    },
    {
      "cell_type": "code",
      "source": [
        "from ngboost import NGBClassifier\n",
        "from ngboost.distns import Bernoulli\n",
        "\n",
        "# Modelo\n",
        "ngb_cl = NGBClassifier(Dist=Bernoulli, n_estimators=100) # Se especifica Bernoulli como la distribución de la clase Dist para problemas de clasificación binaria\n",
        "ngb_cl.fit(X_train, y_train)\n",
        "\n",
        "# Evaluación\n",
        "preds = ngb_cl.predict_proba(X_test)[:, 1]\n",
        "auc_score_ngboost = roc_auc_score(y_test, preds)\n",
        "print('El resultado de ROC AUC es:', auc_score_ngboost)\n"
      ],
      "metadata": {
        "id": "TXULEfLqAnEz"
      },
      "id": "TXULEfLqAnEz",
      "execution_count": null,
      "outputs": []
    },
    {
      "cell_type": "markdown",
      "id": "d08ed568",
      "metadata": {
        "id": "d08ed568"
      },
      "source": [
        "## Comparación de Modelos\n",
        "Compare el rendimiento de cada modelo y determine cuál se desempeña mejor en función de la métrica ROC_AUC.\n"
      ]
    },
    {
      "cell_type": "code",
      "execution_count": null,
      "id": "1b1d0f5e",
      "metadata": {
        "id": "1b1d0f5e"
      },
      "outputs": [],
      "source": [
        "print(f'XGBoost AUC Score: {auc_score_xgboost}')\n",
        "print(f'LightGBM AUC Score: {auc_score_lightgbm}')\n",
        "print(f'CatBoost AUC Score: {auc_score_catboost}')\n",
        "print(f'NGBoost AUC Score: {auc_score_ngboost}')"
      ]
    }
  ],
  "metadata": {
    "colab": {
      "provenance": [],
      "gpuType": "T4",
      "include_colab_link": true
    },
    "language_info": {
      "name": "python"
    },
    "kernelspec": {
      "name": "python3",
      "display_name": "Python 3"
    },
    "accelerator": "GPU"
  },
  "nbformat": 4,
  "nbformat_minor": 5
}