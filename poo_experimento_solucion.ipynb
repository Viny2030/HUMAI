{
  "cells": [
    {
      "cell_type": "markdown",
      "metadata": {
        "id": "view-in-github",
        "colab_type": "text"
      },
      "source": [
        "<a href=\"https://colab.research.google.com/github/Viny2030/HUMAI/blob/main/poo_experimento_solucion.ipynb\" target=\"_parent\"><img src=\"https://colab.research.google.com/assets/colab-badge.svg\" alt=\"Open In Colab\"/></a>"
      ]
    },
    {
      "cell_type": "markdown",
      "metadata": {
        "id": "RiBvNUmVhqxS"
      },
      "source": [
        "<a href=\"https://colab.research.google.com/github/institutohumai/cursos-python/blob/master/Introduccion/5_Poo_Experimento/poo-experimento-solucion.ipynb\"> <img src='https://colab.research.google.com/assets/colab-badge.svg' /> </a>\n",
        "<div align=\"center\"> Recordá abrir en una nueva pestaña </div>"
      ]
    },
    {
      "cell_type": "code",
      "execution_count": 1,
      "metadata": {
        "id": "nfsYGQvihqxW",
        "outputId": "b57e2392-9e10-4edc-d53a-403ad91cb93a",
        "colab": {
          "base_uri": "https://localhost:8080/"
        }
      },
      "outputs": [
        {
          "output_type": "stream",
          "name": "stdout",
          "text": [
            "Collecting python-docx\n",
            "  Downloading python_docx-1.1.2-py3-none-any.whl.metadata (2.0 kB)\n",
            "Requirement already satisfied: lxml>=3.1.0 in /usr/local/lib/python3.11/dist-packages (from python-docx) (5.3.0)\n",
            "Requirement already satisfied: typing-extensions>=4.9.0 in /usr/local/lib/python3.11/dist-packages (from python-docx) (4.12.2)\n",
            "Downloading python_docx-1.1.2-py3-none-any.whl (244 kB)\n",
            "\u001b[2K   \u001b[90m━━━━━━━━━━━━━━━━━━━━━━━━━━━━━━━━━━━━━━━━\u001b[0m \u001b[32m244.3/244.3 kB\u001b[0m \u001b[31m5.6 MB/s\u001b[0m eta \u001b[36m0:00:00\u001b[0m\n",
            "\u001b[?25hInstalling collected packages: python-docx\n",
            "Successfully installed python-docx-1.1.2\n"
          ]
        }
      ],
      "source": [
        "!pip install python-docx"
      ]
    },
    {
      "cell_type": "markdown",
      "metadata": {
        "id": "MdedLeaLhqxb"
      },
      "source": [
        "##### Aplicación de POO: Experimento de Tiempo de Reacción\n",
        "\n",
        "En esta clase vamos a utilizar un diseño de POO para crear una batería de experimentos:\n",
        "\n",
        "- Tiempo de Reacción\n",
        "- Cuestionario\n",
        "\n",
        "Para eso, tendremos una clase Sujeto que contendrá un id de sujeto, una clase abstracta **Experimento** de la cual heredarán las de **Tiempo de Reacción** y **Cuestionario**, y una clase para generar un **Reporte** de los resultados automáticamente."
      ]
    },
    {
      "cell_type": "markdown",
      "metadata": {
        "id": "f23t277ohqxc"
      },
      "source": [
        "Empezamos creando una clase para definir el *sujeto* del experimento."
      ]
    },
    {
      "cell_type": "code",
      "execution_count": 2,
      "metadata": {
        "id": "-pOk4K5fhqxd"
      },
      "outputs": [],
      "source": [
        "class Sujeto():\n",
        "    '''Clase para un Sujeto experimental.\n",
        "    info contiene datos por ejemplo sociodemográficos previos\n",
        "    en resultados guardaremos los resultados de las pruebas'''\n",
        "    def __init__(self, sujeto_id, info: dict):\n",
        "        self.id = sujeto_id\n",
        "        self.info = info\n",
        "        self.resultados = dict()\n",
        "\n",
        "    def __repr__(self):\n",
        "        # Funcion mágica para mostrar los datos del sujeto\n",
        "        # el :<20 hace un relleno de máximo 20 espacios\n",
        "        s = f'Datos de ID {self.id:<20}\\n\\n'\n",
        "        for k, v in self.info.items():\n",
        "            s += f\"{k:<20} {v:<20}\\n\"\n",
        "        for k, v in self.resultados.items():\n",
        "            s += f\"{k:<20} {v:<20}\\n\"\n",
        "        return s"
      ]
    },
    {
      "cell_type": "markdown",
      "metadata": {
        "id": "C3UECU_zhqxe"
      },
      "source": [
        "Veamos como funciona nuestra clase."
      ]
    },
    {
      "cell_type": "code",
      "execution_count": 3,
      "metadata": {
        "id": "-R0fIXdAhqxf"
      },
      "outputs": [],
      "source": [
        "# Instanciamos\n",
        "info = {'edad':22, 'fecha_nacimiento':'01-01-1998', 'años_educacion':6}\n",
        "sujeto = Sujeto('123456789', info)"
      ]
    },
    {
      "cell_type": "code",
      "execution_count": 4,
      "metadata": {
        "id": "T2PIn20Bhqxg",
        "outputId": "66d67d4e-c2c8-4627-970d-4bdbb50908b3",
        "colab": {
          "base_uri": "https://localhost:8080/"
        }
      },
      "outputs": [
        {
          "output_type": "stream",
          "name": "stdout",
          "text": [
            "Datos de ID 123456789           \n",
            "\n",
            "edad                 22                  \n",
            "fecha_nacimiento     01-01-1998          \n",
            "años_educacion       6                   \n",
            "\n"
          ]
        }
      ],
      "source": [
        "print(sujeto)"
      ]
    },
    {
      "cell_type": "markdown",
      "metadata": {
        "id": "ZHzba5-Zhqxh"
      },
      "source": [
        "Una vez que ya contamos con sujeto. Definimos una clase para la realización del experimento.  \n",
        "\n",
        "La clase tendrá tres métodos:\n",
        ">- instruccion: dará una pauta sobre como realizar el experimento.\n",
        ">- corregir_datos: toma los datos crudos y calcula un resultado\n",
        ">- tomar_experimento: realizará el experimento."
      ]
    },
    {
      "cell_type": "code",
      "execution_count": 5,
      "metadata": {
        "id": "IjNazTMEhqxi"
      },
      "outputs": [],
      "source": [
        "class Experimento():\n",
        "    def __init__(self, sujeto: Sujeto, consigna='atencion!', nombre='Experimento'):\n",
        "        self.nombre = nombre\n",
        "        self.sujeto = sujeto\n",
        "        self.consigna = consigna\n",
        "        self.datos = []\n",
        "\n",
        "    def instruccion(self):\n",
        "        print(self.consigna)\n",
        "\n",
        "    def corregir_datos(self):\n",
        "        pass\n",
        "\n",
        "    def tomar_experimento(self):\n",
        "        pass"
      ]
    },
    {
      "cell_type": "code",
      "execution_count": 6,
      "metadata": {
        "id": "LS5itLLthqxj"
      },
      "outputs": [],
      "source": [
        "exp = Experimento(sujeto)"
      ]
    },
    {
      "cell_type": "code",
      "execution_count": 7,
      "metadata": {
        "id": "czIJL9qmhqxl",
        "outputId": "debb75d2-c844-4391-8f7a-4325278a2acb",
        "colab": {
          "base_uri": "https://localhost:8080/",
          "height": 35
        }
      },
      "outputs": [
        {
          "output_type": "execute_result",
          "data": {
            "text/plain": [
              "'Experimento'"
            ],
            "application/vnd.google.colaboratory.intrinsic+json": {
              "type": "string"
            }
          },
          "metadata": {},
          "execution_count": 7
        }
      ],
      "source": [
        "exp.nombre"
      ]
    },
    {
      "cell_type": "markdown",
      "metadata": {
        "id": "P6PcdF98hqxm"
      },
      "source": [
        "### Tiempo de Reacción"
      ]
    },
    {
      "cell_type": "markdown",
      "metadata": {
        "id": "Y87eF7XJhqxn"
      },
      "source": [
        "Para tomar el experimento se utilizarán dos modulos/librerias: **time** y **random**.\n",
        "\n",
        ">- **time**, nos va a ayudar a calcular el tiempo durante nuestro experimento.  \n",
        ">- **random**, nos va a permitir generar números aleatorios."
      ]
    },
    {
      "cell_type": "markdown",
      "metadata": {
        "id": "D9ihTiakhqxo"
      },
      "source": [
        "### Ejercicio:\n",
        "\n",
        "Crear una función *tomar_experimento* que ejecute una prueba de tiempo de reacción. Para esto, recibe como argumento \"rango_pausa\", que es el rango de segundos máximo que puede demorar entre un estímulo y el siguiente.\n",
        "\n",
        "Usando:\n",
        "\n",
        "- La función **time.time()** para devolver el tiempo actual en segundos\n",
        "- La función **random.random()** para generar un número aleatorio entre 0 y 1 y variar el tiempo de pausa\n",
        "- La función **time.sleep(s)** para hacer una pausa de *s* segundos\n",
        "- Y la función **input()** que aguarda una entrada del usuario, bloqueando la ejecución hasta que ingresa la tecla *ENTER*."
      ]
    },
    {
      "cell_type": "markdown",
      "metadata": {
        "id": "fkl3SGfbhqxo"
      },
      "source": [
        "Pista en pseudocódigo:"
      ]
    },
    {
      "cell_type": "raw",
      "metadata": {
        "id": "oD34a14chqxp"
      },
      "source": [
        "Dada una lista vacía\n",
        "Dado un entero \"n_trials\"\n",
        "\n",
        "Hacer \"n_trials\" veces:\n",
        "  Tomar un tiempo 0\n",
        "  Aguardar input\n",
        "  Tomar un tiempo 1\n",
        "  Calcular diferencia entre tiempos\n",
        "  Agregar diferencia a la lista\n",
        "  Hacer una pausa random de tiempo"
      ]
    },
    {
      "cell_type": "code",
      "execution_count": 8,
      "metadata": {
        "id": "ugUVvlYwhqxp"
      },
      "outputs": [],
      "source": [
        "import time\n",
        "import random"
      ]
    },
    {
      "cell_type": "code",
      "execution_count": 9,
      "metadata": {
        "id": "fmXF0bXEhqxq"
      },
      "outputs": [],
      "source": [
        "def tomar_experimento(n_trials, rango_pausa=10):\n",
        "    pass"
      ]
    },
    {
      "cell_type": "code",
      "execution_count": 10,
      "metadata": {
        "id": "ywKpRaGEhqxr"
      },
      "outputs": [],
      "source": [
        "class TiempoDeReaccion(Experimento):\n",
        "    '''Hereda la clase Experimento'''\n",
        "    def __init__(self, *args, **kwargs):\n",
        "        super().__init__(*args, **kwargs)\n",
        "\n",
        "    def corregir_datos(self):\n",
        "        mu = sum(self.datos) / len(self.datos)\n",
        "        var = sum([(x - mu)**2 for x in self.datos]) / len(self.datos)\n",
        "        self.sujeto.resultados['MediaReaccion'] = mu\n",
        "        self.sujeto.resultados['VarianzaReaccion'] = var\n",
        "\n",
        "    # COMPLETAR\n",
        "    # Usar la función tomar_experimento, esta vez con self en los argumentos\n",
        "    # y guardar el resultado en self.datos\n",
        "    # Al final del experimento, llamar a la función \"corregir_datos\"\n",
        "    def tomar_experimento(self, n_trials, rango_pausa=10):\n",
        "        for n in range(n_trials):\n",
        "            t0 = time.time()      # tiempo inicial\n",
        "            pausa = random.random() * rango_pausa\n",
        "            time.sleep(pausa)     # esperar tiempo aleatorio\n",
        "            self.instruccion()    # repetir consigna\n",
        "            input()               # esperar reacción\n",
        "            t1 = time.time() - t0 - pausa # cálculo diferencia de tiempo\n",
        "            self.datos.append(t1) # guardar dato\n",
        "        self.corregir_datos()     # corregir datos\n",
        "        print('Fin!')"
      ]
    },
    {
      "cell_type": "markdown",
      "metadata": {
        "id": "Zz5R6z1dhqxs"
      },
      "source": [
        "### Utilizando nuestra clase\n"
      ]
    },
    {
      "cell_type": "code",
      "execution_count": 11,
      "metadata": {
        "id": "nrobVGZzhqxs",
        "outputId": "52b19d2a-73bb-4f82-a31e-146a43aace53",
        "colab": {
          "base_uri": "https://localhost:8080/",
          "height": 35
        }
      },
      "outputs": [
        {
          "output_type": "execute_result",
          "data": {
            "text/plain": [
              "'4477736533036232'"
            ],
            "application/vnd.google.colaboratory.intrinsic+json": {
              "type": "string"
            }
          },
          "metadata": {},
          "execution_count": 11
        }
      ],
      "source": [
        "# Generar un str random como ID\n",
        "import random\n",
        "\n",
        "sujeto_id = str(random.random())[2:]\n",
        "sujeto_id"
      ]
    },
    {
      "cell_type": "code",
      "execution_count": 12,
      "metadata": {
        "id": "wpGRKvZMhqxt"
      },
      "outputs": [],
      "source": [
        "# Instanciar Sujeto\n",
        "info = {'edad':'32', 'fecha_nacimiento':'01-01-1998', 'años_educacion':12}\n",
        "sujeto = Sujeto(sujeto_id, info)"
      ]
    },
    {
      "cell_type": "code",
      "execution_count": 13,
      "metadata": {
        "id": "0peT1q72hqxt"
      },
      "outputs": [],
      "source": [
        "# Instanciar TiempoDeReaccion\n",
        "tr = TiempoDeReaccion(sujeto, nombre='Tiempo de Reacción', consigna='¡Apretá ENTER!')"
      ]
    },
    {
      "cell_type": "code",
      "execution_count": 14,
      "metadata": {
        "id": "BlNgNf3Whqxu",
        "outputId": "d7a219d6-0402-4531-e35d-89773fc6ae76",
        "colab": {
          "base_uri": "https://localhost:8080/"
        }
      },
      "outputs": [
        {
          "output_type": "stream",
          "name": "stdout",
          "text": [
            "¡Apretá ENTER!\n",
            "\n",
            "¡Apretá ENTER!\n",
            "\n",
            "¡Apretá ENTER!\n",
            "\n",
            "¡Apretá ENTER!\n",
            "\n",
            "¡Apretá ENTER!\n",
            "\n",
            "Fin!\n"
          ]
        }
      ],
      "source": [
        "# Llamar metodo tomar_experimento\n",
        "tr.tomar_experimento(n_trials=5, rango_pausa=3)"
      ]
    },
    {
      "cell_type": "markdown",
      "metadata": {
        "id": "PclZHRimhqxu"
      },
      "source": [
        "¿Que datos contiene?"
      ]
    },
    {
      "cell_type": "code",
      "execution_count": 15,
      "metadata": {
        "id": "itKdmKD4hqxv",
        "outputId": "1cace1cb-f773-44fe-9542-32ae64d3072a",
        "colab": {
          "base_uri": "https://localhost:8080/"
        }
      },
      "outputs": [
        {
          "output_type": "execute_result",
          "data": {
            "text/plain": [
              "[4.2944361300104745,\n",
              " 2.088185648140452,\n",
              " 1.1163543336394088,\n",
              " 1.4138380370148615,\n",
              " 1.3470367617589756]"
            ]
          },
          "metadata": {},
          "execution_count": 15
        }
      ],
      "source": [
        "# Llamamos un atributo\n",
        "tr.datos"
      ]
    },
    {
      "cell_type": "code",
      "execution_count": 16,
      "metadata": {
        "id": "1vFua_khhqxw",
        "outputId": "fb3c651c-7197-4e5d-8e8e-834e6f9a2ae1",
        "colab": {
          "base_uri": "https://localhost:8080/"
        }
      },
      "outputs": [
        {
          "output_type": "execute_result",
          "data": {
            "text/plain": [
              "Datos de ID 4477736533036232    \n",
              "\n",
              "edad                 32                  \n",
              "fecha_nacimiento     01-01-1998          \n",
              "años_educacion       12                  \n",
              "MediaReaccion        2.0519701821128344  \n",
              "VarianzaReaccion     1.3618971730227676  "
            ]
          },
          "metadata": {},
          "execution_count": 16
        }
      ],
      "source": [
        "sujeto"
      ]
    },
    {
      "cell_type": "markdown",
      "metadata": {
        "id": "U__kVwzuhqxw"
      },
      "source": [
        "### Cuestionario"
      ]
    },
    {
      "cell_type": "markdown",
      "metadata": {
        "id": "OBLZ_rLthqxw"
      },
      "source": [
        "Generamos un cuestionario de ejemplo. Cada pregunta debe estar separada en un renglón (es decir por un caracter de *newline*, generalmente '\\n')"
      ]
    },
    {
      "cell_type": "code",
      "execution_count": 17,
      "metadata": {
        "id": "WFhYDh6whqxx"
      },
      "outputs": [],
      "source": [
        "with open('cuestionario.txt', 'w') as out:\n",
        "    out.write(\n",
        "'''1. Me siento calmado.\n",
        "2. Me siento seguro.\n",
        "3. Estoy tenso.\n",
        "4. Estoy contrariado.\n",
        "5. Me siento a gusto.''')"
      ]
    },
    {
      "cell_type": "code",
      "execution_count": 18,
      "metadata": {
        "id": "bKVNyXzfhqxx"
      },
      "outputs": [],
      "source": [
        "class Cuestionario(Experimento):\n",
        "    '''Otro caso de prueba que hereda de experimento. Esta vez la inicialización\n",
        "    incluye cargar las preguntas en el atributo self.preguntas'''\n",
        "    def __init__(self, path_cuestionario, *args, **kwargs):  ### funcion de inicializacion, path ruta al cuestionario a tomar\n",
        "        super().__init__(*args, **kwargs)\n",
        "        self.cargar_preguntas(path_cuestionario)\n",
        "\n",
        "    def cargar_preguntas(self, path):\n",
        "        # COMPLETAR\n",
        "        # Función que lee el txt y guarda cada renglón en self.preguntas\n",
        "        with open(path, 'r') as f:  ## identacion f archivo abierto\n",
        "            preguntas = f.read().split('\\n') # separamos por renglon\n",
        "        self.preguntas = preguntas\n",
        "\n",
        "    def corregir_datos(self):  ## funciones\n",
        "        self.sujeto.resultados[f'Total{self.nombre}'] = sum(self.datos)\n",
        "\n",
        "    def tomar_experimento(self):  ## funciones\n",
        "        # COMPLETAR\n",
        "        # Dar la instruccion\n",
        "        # Tomar cada pregunta con input()\n",
        "        # Convertir la entrada a entero\n",
        "        # Guardar la respuesta en self.datos\n",
        "        # Al finalizar, ejecutar corregir_datos\n",
        "        self.instruccion()  ## mnuestra la consigna del experimento\n",
        "        for pre in self.preguntas:\n",
        "            respuesta = input(pre)\n",
        "            self.datos.append(int(respuesta))  ## chequea\n",
        "        self.corregir_datos()\n",
        "\n",
        "        # Extra: agregar un chequeo de respuesta correcta y que sea int"
      ]
    },
    {
      "cell_type": "markdown",
      "source": [
        "##Este código define una clase llamada Cuestionario que hereda de la clase Experimento que vimos anteriormente. Esto significa que Cuestionario  tiene todas las características de Experimento (atributos como nombre, sujeto, consigna, datos y métodos como instruccion), pero además añade funcionalidades específicas para manejar cuestionarios.\n",
        "\n",
        "Vamos a analizarlo paso a paso:\n",
        "\n",
        "# 1. class Cuestionario(Experimento):\n",
        "\n",
        "Define una clase llamada Cuestionario que hereda de Experimento. Esto es la herencia en programación orientada a objetos: Cuestionario es un tipo especial de Experimento.\n",
        "'''Documentación...''': Este comentario explica que la clase carga preguntas desde un archivo.\n",
        "# 2. def __init__(self, path_cuestionario, *args, **kwargs):\n",
        "\n",
        "# Constructor de la clase Cuestionario.\n",
        "path_cuestionario: Ruta al archivo de texto con las preguntas del cuestionario.\n",
        "*args, **kwargs: Estos argumentos permiten pasar cualquier otro argumento que necesite la clase padre (Experimento) en su constructor.\n",
        "super().__init__(*args, **kwargs): Llama al constructor de la clase padre (Experimento) para inicializar los atributos heredados.\n",
        "self.cargar_preguntas(path_cuestionario): Llama al método cargar_preguntas para leer las preguntas del archivo.\n",
        "3. def cargar_preguntas(self, path):\n",
        "\n",
        "# Este método lee las preguntas del cuestionario desde un archivo de texto.\n",
        "with open(path, 'r') as f:: Abre el archivo en modo lectura ('r').\n",
        "preguntas = f.read().split('\\n'): Lee todo el contenido del archivo y lo divide en una lista de cadenas de texto, usando el carácter de nueva línea (\\n) como separador. Cada elemento de la lista será una pregunta.\n",
        "self.preguntas = preguntas: Guarda la lista de preguntas en el atributo preguntas del objeto.\n",
        "4. def corregir_datos(self):\n",
        "\n",
        "Este método sobrescribe el método corregir_datos de la clase padre.\n",
        "self.sujeto.resultados[f'Total{self.nombre}'] = sum(self.datos): Calcula la suma de las respuestas (que se almacenan en self.datos) y la guarda en el diccionario resultados del objeto Sujeto asociado al experimento, usando como clave 'Total' seguido del nombre del experimento.\n",
        "5. def tomar_experimento(self):\n",
        "\n",
        "Este método sobrescribe el método tomar_experimento de la clase padre para definir la lógica específica de un cuestionario.\n",
        "self.instruccion(): Muestra la consigna del experimento.\n",
        "for pre in self.preguntas: Recorre la lista de preguntas.\n",
        "respuesta = input(pre): Muestra la pregunta al usuario y guarda su respuesta.\n",
        "self.datos.append(int(respuesta)): Convierte la respuesta a entero (asumiendo que las respuestas son numéricas) y la añade a la lista datos.\n",
        "self.corregir_datos(): Llama al método corregir_datos para calcular el total.\n",
        "# Extra...: Este comentario sugiere añadir una comprobación para validar que la respuesta sea un entero y, potencialmente, si es correcta.\n",
        "# En resumen, la clase Cuestionario:\n",
        "\n",
        "Hereda de Experimento y especializa su comportamiento para manejar cuestionarios.\n",
        "Carga preguntas desde un archivo de texto.\n",
        "Muestra las preguntas al usuario y guarda sus respuestas.\n",
        "Calcula la puntuación total del cuestionario.\n"
      ],
      "metadata": {
        "id": "kfxD0aCxoZ5h"
      }
    },
    {
      "cell_type": "code",
      "source": [
        "import random\n",
        "sujeto_id = str(random.random())[2:]\n",
        "sujeto = Sujeto(sujeto_id, info)"
      ],
      "metadata": {
        "id": "4VBeY_H1pS3y"
      },
      "execution_count": 19,
      "outputs": []
    },
    {
      "cell_type": "code",
      "source": [
        "## instanciar sujeto\n",
        "info = {'edad':'32', 'fecha_nacimiento':'01-01-1998', 'años_educacion':12}\n",
        "sujeto = Sujeto(sujeto_id, info)"
      ],
      "metadata": {
        "id": "d2egN6o1paZD"
      },
      "execution_count": 20,
      "outputs": []
    },
    {
      "cell_type": "code",
      "source": [
        "sujeto"
      ],
      "metadata": {
        "colab": {
          "base_uri": "https://localhost:8080/"
        },
        "id": "XXYLxP74piUZ",
        "outputId": "9592b77a-1f38-441c-fe3d-fd1435cf9408"
      },
      "execution_count": 21,
      "outputs": [
        {
          "output_type": "execute_result",
          "data": {
            "text/plain": [
              "Datos de ID 23065280293005164   \n",
              "\n",
              "edad                 32                  \n",
              "fecha_nacimiento     01-01-1998          \n",
              "años_educacion       12                  "
            ]
          },
          "metadata": {},
          "execution_count": 21
        }
      ]
    },
    {
      "cell_type": "code",
      "source": [
        "tr = TiempoDeReaccion(sujeto, nombre='Tiempo de Reacción', consigna='¡Apretá ENTER!')"
      ],
      "metadata": {
        "id": "JT4Cc7RTqHE_"
      },
      "execution_count": 22,
      "outputs": []
    },
    {
      "cell_type": "code",
      "source": [
        "tr.tomar_experimento(n_trials=5, rango_pausa=3)"
      ],
      "metadata": {
        "colab": {
          "base_uri": "https://localhost:8080/"
        },
        "id": "oKxKzplRqKyP",
        "outputId": "d7021440-baf9-4957-a223-6a564d54cf29"
      },
      "execution_count": 23,
      "outputs": [
        {
          "output_type": "stream",
          "name": "stdout",
          "text": [
            "¡Apretá ENTER!\n",
            "\n",
            "¡Apretá ENTER!\n",
            "\n",
            "¡Apretá ENTER!\n",
            "\n",
            "¡Apretá ENTER!\n",
            "\n",
            "¡Apretá ENTER!\n",
            "\n",
            "Fin!\n"
          ]
        }
      ]
    },
    {
      "cell_type": "code",
      "source": [
        "tr.datos"
      ],
      "metadata": {
        "colab": {
          "base_uri": "https://localhost:8080/"
        },
        "id": "A5_xiwcYqVXO",
        "outputId": "8efdac57-802c-4738-ec30-b69320372b99"
      },
      "execution_count": 24,
      "outputs": [
        {
          "output_type": "execute_result",
          "data": {
            "text/plain": [
              "[2.743389787472989,\n",
              " 1.1462203468349976,\n",
              " 0.9114311086202695,\n",
              " 1.0951099611036232,\n",
              " 1.2236084723171574]"
            ]
          },
          "metadata": {},
          "execution_count": 24
        }
      ]
    },
    {
      "cell_type": "code",
      "source": [
        "tr.corregir_datos()"
      ],
      "metadata": {
        "id": "qXgqS8j4qXpF"
      },
      "execution_count": 25,
      "outputs": []
    },
    {
      "cell_type": "code",
      "source": [
        "tr.sujeto.resultados"
      ],
      "metadata": {
        "colab": {
          "base_uri": "https://localhost:8080/"
        },
        "id": "vNq4vswKqbBf",
        "outputId": "8320d47d-7b1a-4c5d-cb25-5205c3501f6f"
      },
      "execution_count": 26,
      "outputs": [
        {
          "output_type": "execute_result",
          "data": {
            "text/plain": [
              "{'MediaReaccion': 1.4239519352698076, 'VarianzaReaccion': 0.4458006451823933}"
            ]
          },
          "metadata": {},
          "execution_count": 26
        }
      ]
    },
    {
      "cell_type": "code",
      "source": [
        "sujeto"
      ],
      "metadata": {
        "colab": {
          "base_uri": "https://localhost:8080/"
        },
        "id": "1ORqXYeaqlse",
        "outputId": "0b702f5f-3225-40d7-ce1d-c4fc09c3438e"
      },
      "execution_count": 27,
      "outputs": [
        {
          "output_type": "execute_result",
          "data": {
            "text/plain": [
              "Datos de ID 23065280293005164   \n",
              "\n",
              "edad                 32                  \n",
              "fecha_nacimiento     01-01-1998          \n",
              "años_educacion       12                  \n",
              "MediaReaccion        1.4239519352698076  \n",
              "VarianzaReaccion     0.4458006451823933  "
            ]
          },
          "metadata": {},
          "execution_count": 27
        }
      ]
    },
    {
      "cell_type": "code",
      "source": [
        "## Cuestionario"
      ],
      "metadata": {
        "id": "--b14TSNq8wv"
      },
      "execution_count": 28,
      "outputs": []
    },
    {
      "cell_type": "code",
      "source": [
        "with open ('cuestionario.txt', 'w') as out:\n",
        "    out.write(\n",
        "\"\"\"1. Me siento calmado.\n",
        "2. Me siento seguro.\n",
        "3. Estoy tenso.\n",
        "4. Estoy contrariado.\n",
        "5. Me siento a gusto.\"\"\")"
      ],
      "metadata": {
        "id": "KpfQrUrQq_zE"
      },
      "execution_count": 29,
      "outputs": []
    },
    {
      "cell_type": "markdown",
      "metadata": {
        "id": "Rzlhtu-Ehqxz"
      },
      "source": [
        "Usamos la clase anterior para tomar el cuestionario"
      ]
    },
    {
      "cell_type": "code",
      "execution_count": 30,
      "metadata": {
        "id": "_yJsGHdkhqxz"
      },
      "outputs": [],
      "source": [
        "consigna = '''Aparecerán abajo algunas expresiones que las personas usan para describirse.\n",
        "Lea cada frase y presione el número que indique cómo se siente ahora mismo, siendo\n",
        "0 = NO, 1 = POCO, 2 = BASTANTE, 3 = MUCHO.\n",
        "'''\n",
        "\n",
        "stai = Cuestionario('cuestionario.txt',sujeto, consigna = consigna, nombre='Cuestionario')  ## instanciamos la variable"
      ]
    },
    {
      "cell_type": "code",
      "execution_count": 31,
      "metadata": {
        "id": "nq84kNl5hqx0",
        "outputId": "3fbf0b50-7bae-4187-aff0-e2ef6293b734",
        "colab": {
          "base_uri": "https://localhost:8080/"
        }
      },
      "outputs": [
        {
          "name": "stdout",
          "output_type": "stream",
          "text": [
            "Aparecerán abajo algunas expresiones que las personas usan para describirse.\n",
            "Lea cada frase y presione el número que indique cómo se siente ahora mismo, siendo\n",
            "0 = NO, 1 = POCO, 2 = BASTANTE, 3 = MUCHO.\n",
            "\n",
            "1. Me siento calmado.3\n",
            "2. Me siento seguro.3\n",
            "3. Estoy tenso.3\n",
            "4. Estoy contrariado.3\n",
            "5. Me siento a gusto.3\n"
          ]
        }
      ],
      "source": [
        "stai.tomar_experimento()"
      ]
    },
    {
      "cell_type": "code",
      "source": [
        "stai.datos"
      ],
      "metadata": {
        "colab": {
          "base_uri": "https://localhost:8080/"
        },
        "id": "OtetdQc4subm",
        "outputId": "9d1da6f0-56f3-4ea7-a73b-2776d13bcaf9"
      },
      "execution_count": 32,
      "outputs": [
        {
          "output_type": "execute_result",
          "data": {
            "text/plain": [
              "[3, 3, 3, 3, 3]"
            ]
          },
          "metadata": {},
          "execution_count": 32
        }
      ]
    },
    {
      "cell_type": "code",
      "source": [
        "stai.corregir_datos()"
      ],
      "metadata": {
        "id": "zabwjrBUsz2t"
      },
      "execution_count": 33,
      "outputs": []
    },
    {
      "cell_type": "code",
      "source": [
        "stai.cargar_preguntas('cuestionario.txt')"
      ],
      "metadata": {
        "id": "v77r0ROFs3Bx"
      },
      "execution_count": 34,
      "outputs": []
    },
    {
      "cell_type": "code",
      "execution_count": 35,
      "metadata": {
        "id": "DSWH-7Gbhqx0",
        "outputId": "b109bb06-18be-473d-8ec1-d151e54d0855",
        "colab": {
          "base_uri": "https://localhost:8080/"
        }
      },
      "outputs": [
        {
          "output_type": "execute_result",
          "data": {
            "text/plain": [
              "Datos de ID 23065280293005164   \n",
              "\n",
              "edad                 32                  \n",
              "fecha_nacimiento     01-01-1998          \n",
              "años_educacion       12                  \n",
              "MediaReaccion        1.4239519352698076  \n",
              "VarianzaReaccion     0.4458006451823933  \n",
              "TotalCuestionario    15                  "
            ]
          },
          "metadata": {},
          "execution_count": 35
        }
      ],
      "source": [
        "sujeto"
      ]
    },
    {
      "cell_type": "markdown",
      "metadata": {
        "id": "tdxLP9dThqx2"
      },
      "source": [
        "### Generando Reporte"
      ]
    },
    {
      "cell_type": "markdown",
      "metadata": {
        "id": "YUF5-eMahqx3"
      },
      "source": [
        "Una vez realizado el ejercicio vamos a generar una clase para realizar el reporte del experimento.\n",
        "\n",
        "La clase Reporte va a generar un documento que contendrá:\n",
        "- Un método para analizar los datos resultado del experimento;\n",
        "- Un método para crear gráficos a partir de los resultados.\n",
        "- Un método para para generar el informe final"
      ]
    },
    {
      "cell_type": "markdown",
      "metadata": {
        "id": "ytGU846Zhqx3"
      },
      "source": [
        "Para los gráficos vamos a usar matplotlib, que tiene métodos como \"plot\" donde recibe listas de números y genera un objeto \"Figura\". En este tema de visualización se ahonda en el curso de Análisis de Datos.\n",
        "La función **sns.set()** simplemente aplica un estilo."
      ]
    },
    {
      "cell_type": "code",
      "execution_count": 36,
      "metadata": {
        "id": "tNB4BdZPhqx6",
        "outputId": "d8180b6a-b105-4292-a148-1fc6530ef2be",
        "colab": {
          "base_uri": "https://localhost:8080/",
          "height": 434
        }
      },
      "outputs": [
        {
          "output_type": "display_data",
          "data": {
            "text/plain": [
              "<Figure size 640x480 with 1 Axes>"
            ],
            "image/png": "[encoded data removed]"
          },
          "metadata": {}
        }
      ],
      "source": [
        "import matplotlib.pyplot as plt\n",
        "import seaborn as sns\n",
        "sns.set()\n",
        "\n",
        "# Pequeño ejemplo de matplotlib\n",
        "plt.hist([1,2,3,6,4,1,2,3,2,4]);"
      ]
    },
    {
      "cell_type": "code",
      "execution_count": 37,
      "metadata": {
        "id": "BNlbUK50hqx7"
      },
      "outputs": [],
      "source": [
        "from docx import Document\n",
        "from docx.shared import Cm"
      ]
    },
    {
      "cell_type": "code",
      "execution_count": 38,
      "metadata": {
        "id": "ftobODEDhqx8"
      },
      "outputs": [],
      "source": [
        "\n",
        "class Reporte():\n",
        "    '''Esta clase va a generar un reporte para un Sujeto a partir de un Experimento'''\n",
        "    def __init__(self, sujeto: Sujeto, experimento: Experimento, img_path = 'tmp.png'):\n",
        "        self.suj = sujeto\n",
        "        self.exp = experimento\n",
        "        self.img_path = img_path ## ruta de imagen\n",
        "\n",
        "    def crear_graficos(self):  ## funcion crear graficos\n",
        "        '''Genera un gráfico de lineas y un histograma para\n",
        "        los datos de los experimentos'''\n",
        "        fig, ax = plt.subplots(1,2, figsize=(11,4))\n",
        "        ax[0].plot(self.exp.datos)\n",
        "        ax[0].set_ylabel('Error (ms)')\n",
        "        ax[0].set_xlabel('Trials')\n",
        "        sns.distplot(self.exp.datos, ax=ax[1])\n",
        "        ax[1].set_ylabel('Frequencia')\n",
        "        ax[1].set_xlabel('Error (ms)')\n",
        "        return ax\n",
        "\n",
        "    def generar_reporte(self):  ## automatizar documentos con python\n",
        "        '''Función que genera un documento de Word en base a los datos\n",
        "        de Sujeto y Experimento. Ver más en:\n",
        "\n",
        "        https://python-docx.readthedocs.io/en/latest/\n",
        "        '''\n",
        "        # Instanciamos un Documento\n",
        "        documento = Document()\n",
        "\n",
        "        # Agregamos un Titulo\n",
        "        documento.add_heading(f'Informe de Resultados', 0) ## titulo 0 jerarquia de titulo\n",
        "        # Info del sujeto\n",
        "        p = documento.add_paragraph(f'Sujeto ID: ')\n",
        "        p.add_run(f'{self.suj.id}').bold = True  ## parrafo\n",
        "\n",
        "        # Agregamos una lista de items iterando\n",
        "        # el diccionario de info del Sujeto\n",
        "        for k, v in self.suj.info.items():\n",
        "            documento.add_paragraph(f'{k}= {v}',\n",
        "                                   style='List Bullet')  ## estilo\n",
        "\n",
        "        # Agregamos resultados, hay distintos estilos disponibles\n",
        "        p = documento.add_paragraph(f'Resultados de {self.exp.nombre}',\n",
        "                                   style='Intense Quote')\n",
        "\n",
        "        # COMPLETAR\n",
        "        # iterar los resultados en self.suj.resultados\n",
        "        # agregando otra lista de items\n",
        "        for k, v in self.suj.resultados.items(): ## resultados\n",
        "            documento.add_paragraph(f'{k}= {v}',\n",
        "                                   style='List Bullet')\n",
        "\n",
        "        # Agregamos los gráficos\n",
        "        ax = self.crear_graficos()\n",
        "        plt.savefig(self.img_path) # usamos esta ruta provisorialmente\n",
        "        plt.close() # para no mostrar el plot y solo guardarlo\n",
        "        documento.add_picture(self.img_path, width=Cm(14))\n",
        "\n",
        "        # Guardamos el archivo docx\n",
        "        fp = f'reporte_{self.suj.id}.docx'\n",
        "        documento.save(fp)\n",
        "        return fp"
      ]
    },
    {
      "cell_type": "markdown",
      "source": [
        "##Este código define una clase Reporte que genera un informe en formato Word (.docx) con los resultados de un experimento realizado por un sujeto. Utiliza la librería python-docx para crear el documento y matplotlib (con seaborn) para generar gráficos.\n",
        "\n",
        "Análisis del código:\n",
        "\n",
        "1. class Reporte():\n",
        "\n",
        "Define la clase Reporte.\n",
        "'''Documentación...''': Explica el propósito de la clase.\n",
        "2. def __init__(self, sujeto: Sujeto, experimento: Experimento, img_path = 'tmp.png'):\n",
        "\n",
        "Constructor de la clase.\n",
        "sujeto: Sujeto: Objeto de la clase Sujeto que representa al sujeto del experimento.\n",
        "experimento: Experimento: Objeto de la clase Experimento con los datos del experimento.\n",
        "img_path = 'tmp.png': Ruta por defecto para guardar la imagen de los gráficos.\n",
        "self.suj = sujeto: Guarda el objeto Sujeto en el atributo suj.\n",
        "self.exp = experimento: Guarda el objeto Experimento en el atributo exp.\n",
        "self.img_path = img_path: Guarda la ruta de la imagen en el atributo img_path.\n",
        "3. def crear_graficos(self):\n",
        "\n",
        "Crea dos gráficos: un gráfico de líneas y un histograma.\n",
        "fig, ax = plt.subplots(1,2, figsize=(11,4)): Crea una figura con dos subplots (uno al lado del otro) con un tamaño de 11x4 pulgadas.\n",
        "ax[0].plot(self.exp.datos): Crea un gráfico de líneas con los datos del experimento en el primer subplot.\n",
        "ax[0].set_ylabel('Error (ms)'): Etiqueta el eje Y del primer subplot como \"Error (ms)\".\n",
        "ax[0].set_xlabel('Trials'): Etiqueta el eje X del primer subplot como \"Trials\".\n",
        "sns.distplot(self.exp.datos, ax=ax[1]): Crea un histograma con los datos del experimento en el segundo subplot.\n",
        "ax[1].set_ylabel('Frequencia'): Etiqueta el eje Y del segundo subplot como \"Frequencia\".\n",
        "ax[1].set_xlabel('Error (ms)'): Etiqueta el eje X del segundo subplot como \"Error (ms)\".\n",
        "return ax: Retorna los ejes de los subplots.\n",
        "4. def generar_reporte(self):\n",
        "\n",
        "Genera el reporte en formato Word (.docx).\n",
        "documento = Document(): Crea un nuevo documento de Word.\n",
        "documento.add_heading(f'Informe de Resultados', 0): Agrega un título al documento.\n",
        "p = documento.add_paragraph(f'Sujeto ID: '): Agrega un párrafo con el texto \"Sujeto ID: \".\n",
        "p.add_run(f'{self.suj.id}').bold = True: Agrega el ID del sujeto en negrita al párrafo anterior.\n",
        "for k, v in self.suj.info.items():: Itera sobre el diccionario info del sujeto.\n",
        "documento.add_paragraph(f'{k}= {v}', style='List Bullet'): Agrega cada elemento del diccionario como una viñeta en el documento.\n",
        "p = documento.add_paragraph(f'Resultados de {self.exp.nombre}', style='Intense Quote'): Agrega un párrafo con los resultados del experimento en un estilo de cita.\n",
        "for k, v in self.suj.resultados.items():: Itera sobre el diccionario resultados del sujeto.\n",
        "documento.add_paragraph(f'{k}= {v}', style='List Bullet'): Agrega cada resultado como una viñeta en el documento.\n",
        "ax = self.crear_graficos(): Llama al método crear_graficos para generar los gráficos.\n",
        "plt.savefig(self.img_path): Guarda los gráficos en un archivo de imagen.\n",
        "plt.close(): Cierra la figura para evitar que se muestre en pantalla.\n",
        "documento.add_picture(self.img_path, width=Cm(14)): Agrega la imagen de los gráficos al documento.\n",
        "fp = f'reporte_{self.suj.id}.docx': Crea la ruta del archivo del reporte.\n",
        "documento.save(fp): Guarda el documento en la ruta especificada.\n",
        "return fp: Retorna la ruta del archivo del reporte.\n",
        "En resumen, la clase Reporte:\n",
        "\n",
        "Genera un informe en Word con los resultados de un experimento.\n",
        "Incluye información del sujeto y del experimento.\n",
        "Genera gráficos de líneas e histogramas con los datos del experimento.\n",
        "Guarda el reporte en un archivo .docx."
      ],
      "metadata": {
        "id": "Yn02yNU0txSJ"
      }
    },
    {
      "cell_type": "code",
      "execution_count": 39,
      "metadata": {
        "id": "_uHDVfHYhqyG"
      },
      "outputs": [],
      "source": [
        "# Instanciamos\n",
        "rep = Reporte(sujeto, tr)"
      ]
    },
    {
      "cell_type": "code",
      "execution_count": 40,
      "metadata": {
        "id": "SIhti_YohqyI",
        "outputId": "047c4170-4d14-481b-a237-d29626f78034",
        "colab": {
          "base_uri": "https://localhost:8080/"
        }
      },
      "outputs": [
        {
          "output_type": "stream",
          "name": "stderr",
          "text": [
            "<ipython-input-38-ffb8ace7f82d>:15: UserWarning: \n",
            "\n",
            "`distplot` is a deprecated function and will be removed in seaborn v0.14.0.\n",
            "\n",
            "Please adapt your code to use either `displot` (a figure-level function with\n",
            "similar flexibility) or `histplot` (an axes-level function for histograms).\n",
            "\n",
            "For a guide to updating your code to use the new functions, please see\n",
            "https://gist.github.com/mwaskom/de44147ed2974457ad6372750bbe5751\n",
            "\n",
            "  sns.distplot(self.exp.datos, ax=ax[1])\n"
          ]
        }
      ],
      "source": [
        "# Generar reporte\n",
        "fp = rep.generar_reporte()"
      ]
    },
    {
      "cell_type": "code",
      "execution_count": 41,
      "metadata": {
        "id": "Hpew5nbEhqyM",
        "colab": {
          "base_uri": "https://localhost:8080/",
          "height": 17
        },
        "outputId": "49a98317-4db1-46ef-900f-6440abd5ef10"
      },
      "outputs": [
        {
          "output_type": "display_data",
          "data": {
            "text/plain": [
              "<IPython.core.display.Javascript object>"
            ],
            "application/javascript": [
              "\n",
              "    async function download(id, filename, size) {\n",
              "      if (!google.colab.kernel.accessAllowed) {\n",
              "        return;\n",
              "      }\n",
              "      const div = document.createElement('div');\n",
              "      const label = document.createElement('label');\n",
              "      label.textContent = `Downloading \"${filename}\": `;\n",
              "      div.appendChild(label);\n",
              "      const progress = document.createElement('progress');\n",
              "      progress.max = size;\n",
              "      div.appendChild(progress);\n",
              "      document.body.appendChild(div);\n",
              "\n",
              "      const buffers = [];\n",
              "      let downloaded = 0;\n",
              "\n",
              "      const channel = await google.colab.kernel.comms.open(id);\n",
              "      // Send a message to notify the kernel that we're ready.\n",
              "      channel.send({})\n",
              "\n",
              "      for await (const message of channel.messages) {\n",
              "        // Send a message to notify the kernel that we're ready.\n",
              "        channel.send({})\n",
              "        if (message.buffers) {\n",
              "          for (const buffer of message.buffers) {\n",
              "            buffers.push(buffer);\n",
              "            downloaded += buffer.byteLength;\n",
              "            progress.value = downloaded;\n",
              "          }\n",
              "        }\n",
              "      }\n",
              "      const blob = new Blob(buffers, {type: 'application/binary'});\n",
              "      const a = document.createElement('a');\n",
              "      a.href = window.URL.createObjectURL(blob);\n",
              "      a.download = filename;\n",
              "      div.appendChild(a);\n",
              "      a.click();\n",
              "      div.remove();\n",
              "    }\n",
              "  "
            ]
          },
          "metadata": {}
        },
        {
          "output_type": "display_data",
          "data": {
            "text/plain": [
              "<IPython.core.display.Javascript object>"
            ],
            "application/javascript": [
              "download(\"download_fec3e04d-c8ce-4d7f-bd3a-1430fa1816a9\", \"reporte_23065280293005164.docx\", 67441)"
            ]
          },
          "metadata": {}
        }
      ],
      "source": [
        "# Para descargar el doc en Colab\n",
        "from google.colab import files\n",
        "\n",
        "files.download(fp)"
      ]
    }
  ],
  "metadata": {
    "kernelspec": {
      "display_name": "Python 3",
      "language": "python",
      "name": "python3"
    },
    "language_info": {
      "codemirror_mode": {
        "name": "ipython",
        "version": 3
      },
      "file_extension": ".py",
      "mimetype": "text/x-python",
      "name": "python",
      "nbconvert_exporter": "python",
      "pygments_lexer": "ipython3",
      "version": "3.8.5"
    },
    "colab": {
      "provenance": [],
      "include_colab_link": true
    }
  },
  "nbformat": 4,
  "nbformat_minor": 0
}