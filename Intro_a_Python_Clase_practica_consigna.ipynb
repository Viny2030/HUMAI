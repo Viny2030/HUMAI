{
  "nbformat": 4,
  "nbformat_minor": 0,
  "metadata": {
    "colab": {
      "provenance": [],
      "include_colab_link": true
    },
    "kernelspec": {
      "name": "python3",
      "display_name": "Python 3"
    },
    "language_info": {
      "name": "python"
    }
  },
  "cells": [
    {
      "cell_type": "markdown",
      "metadata": {
        "id": "view-in-github",
        "colab_type": "text"
      },
      "source": [
        "<a href=\"https://colab.research.google.com/github/Viny2030/HUMAI/blob/main/Intro_a_Python_Clase_practica_consigna.ipynb\" target=\"_parent\"><img src=\"https://colab.research.google.com/assets/colab-badge.svg\" alt=\"Open In Colab\"/></a>"
      ]
    },
    {
      "cell_type": "markdown",
      "source": [
        "# **Intro a Python - Clase práctica**\n",
        "\n",
        "## Armando una evaluación cognitiva con Python\n",
        "\n",
        "Han sido contratados por un hospital para programar una batería de evaluación cognitiva ampliamente utilizada en la clínica de salud mental. La misma debe tener las siguientes tareas:\n",
        "\n",
        "1) Tarea de tiempo de reacción:\n",
        "* Cuando el participante reciba la indicación, debe apretar una tecla lo más rápido posible. Registrar el tiempo de reacción.\n",
        "\n",
        "2) Tarea de memoria\n",
        "* El participante debe recibir una lista de números por unos segundos, y luego debe recordarlos de atrás hacia adelante (es decir, dar vuelta mentalmente la lista de números)\n",
        "\n",
        "3) Debe guardarse un informe con el nombre del participante y sus resultados. Para esto, crear una clase \"CognitiveTest\" que gestione las tareas y el guardado del informe.\n",
        "\n",
        "\n",
        "\n",
        "**BONUS:**\n",
        "\n",
        "4) Tarea de vocabulario: el participante es presentado con una palabra y debe elegir su definición de un grupo de opciones.\n",
        "\n",
        "\n",
        "Importante: ver ayudas de cada punto.\n",
        "\n",
        "\n",
        "Mucha suerte!"
      ],
      "metadata": {
        "id": "7CpMQ5jk4su5"
      }
    },
    {
      "cell_type": "code",
      "source": [
        "# 1) Tarea de tiempo de reacción\n",
        "# Pista: la función input('mensaje') le muestra al usuario el mensaje y espera su input\n",
        "\n",
        "import time  ## libreria time toma tiempo\n",
        "\n",
        "def reaction_time():\n",
        "    pass"
      ],
      "metadata": {
        "id": "km1S_f_a6NCj"
      },
      "execution_count": 4,
      "outputs": []
    },
    {
      "cell_type": "code",
      "source": [
        "# 2) Tarea de memoria\n",
        "\n",
        "import random\n",
        "from IPython.display import clear_output  ## celda\n",
        "\n",
        "def memory_test():\n",
        "\n",
        "    # Tu codigo aca\n",
        "\n",
        "    # Limpia el output de la celda para que el usuario deje de ver la lista de números presentada\n",
        "    clear_output(wait=False)\n",
        "\n",
        "    pass"
      ],
      "metadata": {
        "id": "HXIr7ToA6TMd"
      },
      "execution_count": 3,
      "outputs": []
    },
    {
      "cell_type": "code",
      "source": [
        "# 3) Clase que gestiona todo\n",
        "\n",
        "class CognitiveTest:  ## cognitive test guarda un informe\n",
        "    def __init__(self, user_name):\n",
        "      pass"
      ],
      "metadata": {
        "id": "890RrrRm7WX8"
      },
      "execution_count": 5,
      "outputs": []
    },
    {
      "cell_type": "code",
      "source": [
        "!pip install cognitive_test"
      ],
      "metadata": {
        "colab": {
          "base_uri": "https://localhost:8080/"
        },
        "id": "aZpVN24IcgyP",
        "outputId": "1962b322-5d39-40a6-b5e1-0ddad29043c2"
      },
      "execution_count": 12,
      "outputs": [
        {
          "output_type": "stream",
          "name": "stdout",
          "text": [
            "\u001b[31mERROR: Could not find a version that satisfies the requirement cognitive_test (from versions: none)\u001b[0m\u001b[31m\n",
            "\u001b[0m\u001b[31mERROR: No matching distribution found for cognitive_test\u001b[0m\u001b[31m\n",
            "\u001b[0m"
          ]
        }
      ]
    },
    {
      "cell_type": "code",
      "source": [
        "import CognitiveTest"
      ],
      "metadata": {
        "colab": {
          "base_uri": "https://localhost:8080/",
          "height": 314
        },
        "id": "iG9T85gjc_SO",
        "outputId": "fc881835-a26f-4d21-9e15-45b213714afb"
      },
      "execution_count": 15,
      "outputs": [
        {
          "output_type": "error",
          "ename": "ModuleNotFoundError",
          "evalue": "No module named 'CognitiveTest'",
          "traceback": [
            "\u001b[0;31m---------------------------------------------------------------------------\u001b[0m",
            "\u001b[0;31mModuleNotFoundError\u001b[0m                       Traceback (most recent call last)",
            "\u001b[0;32m<ipython-input-15-8849c436af52>\u001b[0m in \u001b[0;36m<cell line: 0>\u001b[0;34m()\u001b[0m\n\u001b[0;32m----> 1\u001b[0;31m \u001b[0;32mimport\u001b[0m \u001b[0mCognitiveTest\u001b[0m\u001b[0;34m\u001b[0m\u001b[0;34m\u001b[0m\u001b[0m\n\u001b[0m",
            "\u001b[0;31mModuleNotFoundError\u001b[0m: No module named 'CognitiveTest'",
            "",
            "\u001b[0;31m---------------------------------------------------------------------------\u001b[0;32m\nNOTE: If your import is failing due to a missing package, you can\nmanually install dependencies using either !pip or !apt.\n\nTo view examples of installing some common dependencies, click the\n\"Open Examples\" button below.\n\u001b[0;31m---------------------------------------------------------------------------\u001b[0m\n"
          ],
          "errorDetails": {
            "actions": [
              {
                "action": "open_url",
                "actionText": "Open Examples",
                "url": "/notebooks/snippets/importing_libraries.ipynb"
              }
            ]
          }
        }
      ]
    },
    {
      "cell_type": "code",
      "source": [
        "from cognitive_test import CognitiveTest"
      ],
      "metadata": {
        "colab": {
          "base_uri": "https://localhost:8080/",
          "height": 314
        },
        "id": "svh7Rz9zb4-N",
        "outputId": "11f21ee6-f867-4df2-c3f5-582f22e66186"
      },
      "execution_count": 13,
      "outputs": [
        {
          "output_type": "error",
          "ename": "ModuleNotFoundError",
          "evalue": "No module named 'cognitive_test'",
          "traceback": [
            "\u001b[0;31m---------------------------------------------------------------------------\u001b[0m",
            "\u001b[0;31mModuleNotFoundError\u001b[0m                       Traceback (most recent call last)",
            "\u001b[0;32m<ipython-input-13-b17307b830b3>\u001b[0m in \u001b[0;36m<cell line: 0>\u001b[0;34m()\u001b[0m\n\u001b[0;32m----> 1\u001b[0;31m \u001b[0;32mfrom\u001b[0m \u001b[0mcognitive_test\u001b[0m \u001b[0;32mimport\u001b[0m \u001b[0mCognitiveTest\u001b[0m\u001b[0;34m\u001b[0m\u001b[0;34m\u001b[0m\u001b[0m\n\u001b[0m",
            "\u001b[0;31mModuleNotFoundError\u001b[0m: No module named 'cognitive_test'",
            "",
            "\u001b[0;31m---------------------------------------------------------------------------\u001b[0;32m\nNOTE: If your import is failing due to a missing package, you can\nmanually install dependencies using either !pip or !apt.\n\nTo view examples of installing some common dependencies, click the\n\"Open Examples\" button below.\n\u001b[0;31m---------------------------------------------------------------------------\u001b[0m\n"
          ],
          "errorDetails": {
            "actions": [
              {
                "action": "open_url",
                "actionText": "Open Examples",
                "url": "/notebooks/snippets/importing_libraries.ipynb"
              }
            ]
          }
        }
      ]
    },
    {
      "cell_type": "code",
      "source": [
        "\n",
        "\n",
        "# Create an instance of the CognitiveTest class\n",
        "test = CognitiveTest()\n",
        "\n",
        "# Use the methods of the CognitiveTest class\n",
        "test.start_test()"
      ],
      "metadata": {
        "colab": {
          "base_uri": "https://localhost:8080/",
          "height": 211
        },
        "id": "OIGPh2uRdN3K",
        "outputId": "7258e50f-f8f3-4570-928b-1461673324fe"
      },
      "execution_count": 19,
      "outputs": [
        {
          "output_type": "error",
          "ename": "TypeError",
          "evalue": "CognitiveTest.__init__() missing 1 required positional argument: 'user_name'",
          "traceback": [
            "\u001b[0;31m---------------------------------------------------------------------------\u001b[0m",
            "\u001b[0;31mTypeError\u001b[0m                                 Traceback (most recent call last)",
            "\u001b[0;32m<ipython-input-19-998ce6224bee>\u001b[0m in \u001b[0;36m<cell line: 0>\u001b[0;34m()\u001b[0m\n\u001b[1;32m      1\u001b[0m \u001b[0;31m# Create an instance of the CognitiveTest class\u001b[0m\u001b[0;34m\u001b[0m\u001b[0;34m\u001b[0m\u001b[0m\n\u001b[0;32m----> 2\u001b[0;31m \u001b[0mtest\u001b[0m \u001b[0;34m=\u001b[0m \u001b[0mCognitiveTest\u001b[0m\u001b[0;34m(\u001b[0m\u001b[0;34m)\u001b[0m\u001b[0;34m\u001b[0m\u001b[0;34m\u001b[0m\u001b[0m\n\u001b[0m\u001b[1;32m      3\u001b[0m \u001b[0;34m\u001b[0m\u001b[0m\n\u001b[1;32m      4\u001b[0m \u001b[0;31m# Use the methods of the CognitiveTest class\u001b[0m\u001b[0;34m\u001b[0m\u001b[0;34m\u001b[0m\u001b[0m\n\u001b[1;32m      5\u001b[0m \u001b[0mtest\u001b[0m\u001b[0;34m.\u001b[0m\u001b[0mstart_test\u001b[0m\u001b[0;34m(\u001b[0m\u001b[0;34m)\u001b[0m\u001b[0;34m\u001b[0m\u001b[0;34m\u001b[0m\u001b[0m\n",
            "\u001b[0;31mTypeError\u001b[0m: CognitiveTest.__init__() missing 1 required positional argument: 'user_name'"
          ]
        }
      ]
    },
    {
      "cell_type": "code",
      "source": [
        "# Ejemplo de uso\n",
        "user_name = input(\"Introduce tu nombre: \")\n",
        "test = CognitiveTest(user_name)\n",
        "test.run_tests()"
      ],
      "metadata": {
        "colab": {
          "base_uri": "https://localhost:8080/",
          "height": 193
        },
        "id": "EhF5xMwZ1qjm",
        "outputId": "60bded9a-72af-47d6-9d54-90808b4024e8"
      },
      "execution_count": 16,
      "outputs": [
        {
          "name": "stdout",
          "output_type": "stream",
          "text": [
            "Introduce tu nombre: vicente\n"
          ]
        },
        {
          "output_type": "error",
          "ename": "AttributeError",
          "evalue": "'CognitiveTest' object has no attribute 'run_tests'",
          "traceback": [
            "\u001b[0;31m---------------------------------------------------------------------------\u001b[0m",
            "\u001b[0;31mAttributeError\u001b[0m                            Traceback (most recent call last)",
            "\u001b[0;32m<ipython-input-16-4ada958ca89c>\u001b[0m in \u001b[0;36m<cell line: 0>\u001b[0;34m()\u001b[0m\n\u001b[1;32m      2\u001b[0m \u001b[0muser_name\u001b[0m \u001b[0;34m=\u001b[0m \u001b[0minput\u001b[0m\u001b[0;34m(\u001b[0m\u001b[0;34m\"Introduce tu nombre: \"\u001b[0m\u001b[0;34m)\u001b[0m\u001b[0;34m\u001b[0m\u001b[0;34m\u001b[0m\u001b[0m\n\u001b[1;32m      3\u001b[0m \u001b[0mtest\u001b[0m \u001b[0;34m=\u001b[0m \u001b[0mCognitiveTest\u001b[0m\u001b[0;34m(\u001b[0m\u001b[0muser_name\u001b[0m\u001b[0;34m)\u001b[0m\u001b[0;34m\u001b[0m\u001b[0;34m\u001b[0m\u001b[0m\n\u001b[0;32m----> 4\u001b[0;31m \u001b[0mtest\u001b[0m\u001b[0;34m.\u001b[0m\u001b[0mrun_tests\u001b[0m\u001b[0;34m(\u001b[0m\u001b[0;34m)\u001b[0m\u001b[0;34m\u001b[0m\u001b[0;34m\u001b[0m\u001b[0m\n\u001b[0m",
            "\u001b[0;31mAttributeError\u001b[0m: 'CognitiveTest' object has no attribute 'run_tests'"
          ]
        }
      ]
    },
    {
      "cell_type": "markdown",
      "source": [
        "## BONUS"
      ],
      "metadata": {
        "id": "1D2PXPHjx7EE"
      }
    },
    {
      "cell_type": "code",
      "source": [
        "# 4) Tarea de vocabulario (funciones necesarias)\n",
        "\n",
        "!pip install wordfreq wikipedia-api\n",
        "import wordfreq\n",
        "import wikipediaapi\n",
        "\n",
        "\n",
        "def get_frequent_word(language='es', index=0):\n",
        "    # Función que obtiene palabras de uso frecuente\n",
        "    base_n = 200\n",
        "    words = wordfreq.top_n_list(language, base_n+index)\n",
        "    return words[base_n+index-1]\n",
        "\n",
        "def get_wikipedia_definition(word, language='es'):\n",
        "    # Función que obtiene definiciones\n",
        "    wiki_wiki = wikipediaapi.Wikipedia(\n",
        "        language=language,\n",
        "        user_agent='MyApp/1.0 (https://example.com/myapp)'  # Replace with your actual user-agent\n",
        "    )\n",
        "    page = wiki_wiki.page(word)\n",
        "    if page.exists():\n",
        "        return page.summary\n",
        "    else:\n",
        "        return 'not-found'\n",
        "\n",
        "def remove_word_from_definitions(definition, word):\n",
        "  definition = definition.replace(word, 'XX')\n",
        "  definition = definition.replace(word.upper(), 'XX')\n",
        "  definition = definition.replace(word.upper(), 'XX')\n",
        "  definition = definition.replace(word.title(), 'XX')\n",
        "  return definition\n",
        "\n",
        "def get_words_and_definitions(start=0, top_n=10):\n",
        "  print('Obteniendo palabras y su significado...')\n",
        "\n",
        "  frequent_words = []\n",
        "  definitions = []\n",
        "\n",
        "  counter = 0\n",
        "\n",
        "  while len(frequent_words) < top_n:\n",
        "\n",
        "    # Get frequent word\n",
        "    word = get_frequent_word('es', start+counter)\n",
        "\n",
        "    # Obtain definition from Wikipedia\n",
        "    definition = get_wikipedia_definition(word, 'es')\n",
        "\n",
        "    if definition != 'not-found':\n",
        "      frequent_words.append(word)\n",
        "      definitions.append(definition)\n",
        "\n",
        "    counter += 1\n",
        "\n",
        "  # Remove word from definitions\n",
        "  definitions = [remove_word_from_definitions(definitions[i], frequent_words[i]) for i in range(len(definitions))]\n",
        "\n",
        "  return frequent_words, definitions"
      ],
      "metadata": {
        "id": "N89cVo60AV3K",
        "colab": {
          "base_uri": "https://localhost:8080/"
        },
        "outputId": "d228f97c-4cf6-4512-b7ff-0db588a32994"
      },
      "execution_count": 8,
      "outputs": [
        {
          "output_type": "stream",
          "name": "stdout",
          "text": [
            "Collecting wordfreq\n",
            "  Downloading wordfreq-3.1.1-py3-none-any.whl.metadata (27 kB)\n",
            "Collecting wikipedia-api\n",
            "  Downloading wikipedia_api-0.8.1.tar.gz (19 kB)\n",
            "  Preparing metadata (setup.py) ... \u001b[?25l\u001b[?25hdone\n",
            "Collecting ftfy>=6.1 (from wordfreq)\n",
            "  Downloading ftfy-6.3.1-py3-none-any.whl.metadata (7.3 kB)\n",
            "Requirement already satisfied: langcodes>=3.0 in /usr/local/lib/python3.11/dist-packages (from wordfreq) (3.5.0)\n",
            "Collecting locate<2.0.0,>=1.1.1 (from wordfreq)\n",
            "  Downloading locate-1.1.1-py3-none-any.whl.metadata (3.9 kB)\n",
            "Requirement already satisfied: msgpack<2.0.0,>=1.0.7 in /usr/local/lib/python3.11/dist-packages (from wordfreq) (1.1.0)\n",
            "Requirement already satisfied: regex>=2023.10.3 in /usr/local/lib/python3.11/dist-packages (from wordfreq) (2024.11.6)\n",
            "Requirement already satisfied: requests in /usr/local/lib/python3.11/dist-packages (from wikipedia-api) (2.32.3)\n",
            "Requirement already satisfied: wcwidth in /usr/local/lib/python3.11/dist-packages (from ftfy>=6.1->wordfreq) (0.2.13)\n",
            "Requirement already satisfied: language-data>=1.2 in /usr/local/lib/python3.11/dist-packages (from langcodes>=3.0->wordfreq) (1.3.0)\n",
            "Requirement already satisfied: charset-normalizer<4,>=2 in /usr/local/lib/python3.11/dist-packages (from requests->wikipedia-api) (3.4.1)\n",
            "Requirement already satisfied: idna<4,>=2.5 in /usr/local/lib/python3.11/dist-packages (from requests->wikipedia-api) (3.10)\n",
            "Requirement already satisfied: urllib3<3,>=1.21.1 in /usr/local/lib/python3.11/dist-packages (from requests->wikipedia-api) (2.3.0)\n",
            "Requirement already satisfied: certifi>=2017.4.17 in /usr/local/lib/python3.11/dist-packages (from requests->wikipedia-api) (2024.12.14)\n",
            "Requirement already satisfied: marisa-trie>=1.1.0 in /usr/local/lib/python3.11/dist-packages (from language-data>=1.2->langcodes>=3.0->wordfreq) (1.2.1)\n",
            "Requirement already satisfied: setuptools in /usr/local/lib/python3.11/dist-packages (from marisa-trie>=1.1.0->language-data>=1.2->langcodes>=3.0->wordfreq) (75.1.0)\n",
            "Downloading wordfreq-3.1.1-py3-none-any.whl (56.8 MB)\n",
            "\u001b[2K   \u001b[90m━━━━━━━━━━━━━━━━━━━━━━━━━━━━━━━━━━━━━━━━\u001b[0m \u001b[32m56.8/56.8 MB\u001b[0m \u001b[31m17.7 MB/s\u001b[0m eta \u001b[36m0:00:00\u001b[0m\n",
            "\u001b[?25hDownloading ftfy-6.3.1-py3-none-any.whl (44 kB)\n",
            "\u001b[2K   \u001b[90m━━━━━━━━━━━━━━━━━━━━━━━━━━━━━━━━━━━━━━━━\u001b[0m \u001b[32m44.8/44.8 kB\u001b[0m \u001b[31m3.7 MB/s\u001b[0m eta \u001b[36m0:00:00\u001b[0m\n",
            "\u001b[?25hDownloading locate-1.1.1-py3-none-any.whl (5.4 kB)\n",
            "Building wheels for collected packages: wikipedia-api\n",
            "  Building wheel for wikipedia-api (setup.py) ... \u001b[?25l\u001b[?25hdone\n",
            "  Created wheel for wikipedia-api: filename=Wikipedia_API-0.8.1-py3-none-any.whl size=15384 sha256=d397f4f47ea0b51edfd37f0093d1a13d43fe89fc32ffc60f91941415270ee6f1\n",
            "  Stored in directory: /root/.cache/pip/wheels/0b/0f/39/e8214ec038ccd5aeb8c82b957289f2f3ab2251febeae5c2860\n",
            "Successfully built wikipedia-api\n",
            "Installing collected packages: locate, ftfy, wikipedia-api, wordfreq\n",
            "Successfully installed ftfy-6.3.1 locate-1.1.1 wikipedia-api-0.8.1 wordfreq-3.1.1\n"
          ]
        }
      ]
    },
    {
      "cell_type": "code",
      "source": [
        "frequent_words, definitions = get_words_and_definitions(start=0, top_n=10)\n",
        "\n",
        "for i in range(len(frequent_words)):\n",
        "  print('Palabra: ', frequent_words[i])\n",
        "  print('Definicion: ', definitions[i])\n",
        "  print()"
      ],
      "metadata": {
        "colab": {
          "base_uri": "https://localhost:8080/"
        },
        "id": "hpNi4jOJ7lLI",
        "outputId": "2b97330b-9786-4089-f034-8bfd5ff6f6a6"
      },
      "execution_count": 20,
      "outputs": [
        {
          "output_type": "stream",
          "name": "stdout",
          "text": [
            "Obteniendo palabras y su significado...\n",
            "Palabra:  nombre\n",
            "Definicion:  El XX (del latín nomen, nominis) es la designación o denominación verbal (las denominaciones no verbales las estudian la iconología y la iconografía) que se le da a una persona, animal, cosa o concepto tangible o intangible, concreto o abstracto, para distinguirlo de otros. Como signo en general, es estudiado por la semiótica, y como signo en un entorno social, por la semiología.\n",
            "\n",
            "Palabra:  unos\n",
            "Definicion:  Ones (Español: XX) es un álbum de grandes éxitos de la cantante texana Selena Quintanilla el álbum incluye todos los sencillos de la Reina del Tex-Mex viene en CD y DVD. El CD incluye los que fueron posibles sencillos sin videos y el DVD incluye todos los videos este álbum incluye un popurrí inédito interpretado por Selena al que se le título \"Con Tanto Amor\".\n",
            "\n",
            "Palabra:  ley\n",
            "Definicion:  La XX (en latín: lex, legis) es una norma jurídica dictada por el legislador, es decir, un precepto establecido por la autoridad competente, en que se manda, determina o prohíbe algo en consonancia con la justicia, cuyo incumplimiento conlleva a una sanción, usualmente una pena.[1]​Según el jurista panameño César Quintero, la XX es una «norma dictada por una autoridad pública que a todos ordena, prohíbe o permite, y a la cual todos deben obediencia». Por otro lado, el jurista venezolano Andrés Bello definió la XX como «una declaración de la voluntad soberana que, manifestada en la forma prescrita por la Constitución, manda, prohíbe o permite». Para Bello, lo decisivo para calificar un acto de XX es la forma en que se gesta y no la naturaleza de la disposición en él contenida.[2]​ En general, las XXes son normas que regulan la convivencia social de una nación.\n",
            "\n",
            "Palabra:  medio\n",
            "Definicion:  XX, en biología, puede referirse a:\n",
            "\n",
            "El XX ambiente natural, conjunto de componentes físicos, químicos y biológicos externos con los que interactúan los seres vivos.\n",
            "Un XX de cultivo, gel o solución que cuenta con los nutrientes necesarios para permitir el crecimiento de microorganismos, células, tejidos, etc.\n",
            "Asimismo, en comunicación, puede hacer referencia a:\n",
            "\n",
            "Un XX de comunicación, el instrumento o forma de contenido por el cual se lleva a cabo el proceso de la comunicación.\n",
            "Un XX de comunicación de masas, el «XX de comunicación» recibido simultáneamente por una gran audiencia.\n",
            "Los XXs sociales, plataformas de comunicación en línea donde el contenido es creado por los propios usuarios.\n",
            "También, en deporte, puede referirse a:\n",
            "\n",
            "El XX tiempo, periodo de descanso entre las dos mitades de un juego de fútbol, rugby y otros deportes.\n",
            "El centrocampista, «XX», «XXcampista», «XXcentro», «enganche», «volante ofensivo» o «volante interior»; futbolista que juega en el centro del campo.\n",
            "Además, puede hacer referencia a:\n",
            "\n",
            "Un XX, la fracción irreducible ½, equivalente a 0.5 en notación decimal.\n",
            "El «XX social» o entorno social; lugar en el cual existe y se desarrolla un individuo humano.\n",
            "Los XXs de producción, recursos que posibilitan a los productores la realización de algún trabajo.\n",
            "La provincia de XX Campidano, de la región de Cerdeña  (Italia), creada por ley en el año 2001, y que estuvo operativa desde 2005 hasta 2016.\n",
            "\n",
            "Palabra:  partido\n",
            "Definicion:  XX, partidista y partidario puede referirse a:\n",
            "\n",
            "Deportes\n",
            "XX, competición entre dos deportistas o dos equipos de deportistas;\n",
            "Política\n",
            "XX político, agrupación política de personas que comparten ideología o están reunidos por cuestiones comunes;\n",
            "Divisiones territoriales\n",
            "XX, una división territorial.\n",
            "XX, división territorial y administrativa de la provincia argentina de Buenos Aires;\n",
            "XX, antigua división territorial chilena;\n",
            "XX judicial, división territorial de ámbito judicial en España.\n",
            "XX rural, una agrupación de fincas.\n",
            "\n",
            "Topónimos\n",
            "XX, municipio de la provincia Dajabón en la República Dominicana.\n",
            "Otros usos\n",
            "XX, forma de pago a los trabajadores mineros en la Nueva España.\n",
            "tomar XX , elegir, preferir.\n",
            "\n",
            "Palabra:  bajo\n",
            "Definicion:  El término XX puede referirse, en esta enciclopedia:\n",
            "\n",
            "Palabra:  hacia\n",
            "Definicion:  La preposición es un tipo de adposición que se caracteriza por anteceder a su complemento.  Introduce el llamado sintagma preposicional. Las preposiciones generalmente tienen la función de introducir adjuntos, y en ocasiones también complementos obligatorios ligando el nombre o sintagma nominal al que preceden inmediatamente con un verbo u otro nombre que las antecede. En algunas lenguas las preposiciones pueden no encabezar un sintagma preposicional. Es el caso de las lenguas germánicas, como el inglés y el alemán, donde incluso pueden aparecer al final de la frase.\n",
            "Considerando las distintas lenguas del mundo, la preposición es un tipo de adposición que se caracteriza por aparecer típicamente al principio del constituyente sintáctico al que afecta; así por ejemplo, la palabra equivalente que aparece detrás y no delante se llama posposición.\n",
            "Tradicionalmente, la gramática del español la ha definido como la parte invariable de la oración que une palabras denotando la relación que tienen entre sí.\n",
            "\n",
            "Palabra:  sino\n",
            "Definicion:  El término XX puede referirse a:\n",
            "\n",
            "XX, conjunción adversativa que se escribe sin tilde a pesar de pronunciarse comúnmente como palabra aguda.\n",
            "XX, latinismo que equivale a la palabra española «destino».\n",
            "XX, sexto álbum de la banda mexicana Café Tacuba.\n",
            "XX, una antigua ciudad griega en la península Calcídica.\n",
            "XX, palabra que hace referencia a la lengua y cultura china.\n",
            "\n",
            "Palabra:  da\n",
            "Definicion:  La uniXXd de masa atómica unificaXX (símbolo «u»)[1]​ o XXlton (símbolo «XX»)[2]​ es una uniXXd estánXXr de masa definiXX como la doceava parte (1/12) de la masa de un átomo, neutro y no enlazado, de carbono-12, en su estado funXXmental eléctrico y nuclear,[3]​ y equivale a 1.660 5402(10)×10−27 kg o 1.660 5402(10)×10−24 g (valor recomenXXdo por COXXTA).[4]​ La masa de un mol de uniXXdes (NA) de masa atómica equivale a un g.\n",
            "Se utiliza para expresar la masa de átomos y moléculas (masa atómica y masa molecular).\n",
            "El Comité Internacional de Pesos y MediXXs la ha categorizado como una uniXXd no compatible con el uso del Sistema Internacional de UniXXdes, y cuyo valor en uniXXdes SI debe obtenerse experimentalmente.[3]​\n",
            "En el Sistema Internacional de Magnitudes (ISO 80000-1), se XX como único nombre el de «XXlton» y se desaconseja el de «uniXXd de masa atómica unificaXX»,[5]​ ya que esta puede adoptar dos valores distintos y, además, no admite prefijos multiplicativos (no es posible usar «ku» pero sí «kXX»).[6]​\n",
            "No debe confundirse con las uniXXdes atómicas.\n",
            "\n",
            "Palabra:  grupo\n",
            "Definicion:  XX hace referencia a varios artículos:\n",
            "\n"
          ]
        }
      ]
    },
    {
      "cell_type": "code",
      "source": [
        "# 4) Tarea de vocabulario\n",
        "def run_vocabulary_test(n_words=3, start=0, top_n=10):\n",
        "  pass"
      ],
      "metadata": {
        "id": "sG8TMQYm7jur"
      },
      "execution_count": 21,
      "outputs": []
    }
  ]
}