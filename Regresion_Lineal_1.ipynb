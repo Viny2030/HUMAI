{
  "cells": [
    {
      "cell_type": "markdown",
      "metadata": {
        "id": "view-in-github",
        "colab_type": "text"
      },
      "source": [
        "<a href=\"https://colab.research.google.com/github/Viny2030/HUMAI/blob/main/Regresion_Lineal_1.ipynb\" target=\"_parent\"><img src=\"https://colab.research.google.com/assets/colab-badge.svg\" alt=\"Open In Colab\"/></a>"
      ]
    },
    {
      "cell_type": "markdown",
      "metadata": {
        "id": "cpK9JEXehxtJ"
      },
      "source": [
        "<a href=\"https://colab.research.google.com/github/institutohumai/cursos-python/blob/master/DeepLearning/2_RedesDeUnaCapa/1_regresion_lineal.ipynb\" target=\"_parent\"><img src=\"https://colab.research.google.com/assets/colab-badge.svg\" alt=\"Open in Colab\"/></a>"
      ]
    },
    {
      "cell_type": "markdown",
      "metadata": {
        "id": "p6h-9OAbMv6G"
      },
      "source": [
        "# Redes Neuronales de Una Capa"
      ]
    },
    {
      "cell_type": "markdown",
      "metadata": {
        "id": "PLfy42WKz6Ue",
        "origin_pos": 0
      },
      "source": [
        "# Regresión lineal desde cero\n",
        "\n",
        "Si estás acá en principio sabés que es una regresión lineal. Una regresión lineal una forma de analizar como ciertas variables dependen de otras.\n",
        "\n"
      ]
    },
    {
      "cell_type": "markdown",
      "metadata": {
        "id": "y5NgPf5Z4O14"
      },
      "source": [
        "![Linear_regression.svg](https://i.imgur.com/P3WseWv.png)"
      ]
    },
    {
      "cell_type": "markdown",
      "metadata": {
        "id": "Vj4qRAqTfMaY"
      },
      "source": [
        "Una regresión lineal, nos relaciona variables independientes o features con una variable dependiente objetivo. Por medio de sumás y productos de las diferentes cantidades independientes, se busca obtener la variable dependiente."
      ]
    },
    {
      "cell_type": "markdown",
      "metadata": {
        "id": "cj63SacOV8XQ"
      },
      "source": [
        "Consideremos la llamada fórmula de Dulong. La formula de Dulong es un resultado experimental surgido de analizar la energía liberda en la combustión de combustibles fósiles. La formula predice el valor de energía liberada en función la proporción de cada elemento en el combustible.\n",
        "\n",
        "$$E\\left[\\frac{kJ}{g}\\right] = 38,2C + 84,9 (H − \\frac{O}{8})  − 0,5l -  0,62s$$\n",
        "\n",
        "Donde $C$ es la proporción en masa de carbono en el combustible, $H$ la proporción de hidrógeno, $O$ la de oxígeno, $l$ vale 1 solamente si el combustible es líquido, $s$ vale 1 solamente si el combustible es sólido\n",
        "\n",
        "Por ejemplo, al quemar gas metáno se obtiene las siguientes proporciones, $C = 0.75$, $H = 0.25$ y $O = 0.00$\n",
        "\n",
        "En nuestra fórmula eso nos devuelve $49.87\\frac{kJ}{g}$ frente al valor $50.01\\frac{kJ}{g}$ reportado en tablas.\n",
        "\n",
        "> Nota: esos valores provienen de lo siguiente:\n",
        "> * Fórmula del metano: $CH_4$\n",
        "> * Masa molar del metano: $16 \\frac{g}{mol}$\n",
        "> * Masa molar del carbono: $12 \\frac{g}{mol}$\n",
        "> * Masa molar del hidrógeno: $1 \\frac{g}{mol}$\n",
        "> * $C = \\frac{12}{16} = 0.75$\n",
        "> * $C = 4\\times\\frac{1}{16} = 0.25$ porque hay 4 hidrógenos."
      ]
    },
    {
      "cell_type": "markdown",
      "metadata": {
        "id": "RcjNCv-iiMMd"
      },
      "source": [
        "El punto de este comentario no es discutir un resultado de termódinámica química, sino señalar que la regresión lineal es una técnica usada desde hace años en areas de las más variopintas. Sin ir más lejos, la formula de Dulong es un resultado del siglo XIX que sigue teniendo utilidad. Tal es así que los coeficientes de la versión que hemos presentado corresponden a un resultado de [2016](https://www.sciencedirect.com/science/article/pii/S0378382016302995?via%3Dihubtps://) La única diferencia con el otro modelo presentado es que aquí hemos decidido usar una notación con one-hot vectors para el estado del combustible."
      ]
    },
    {
      "cell_type": "markdown",
      "metadata": {
        "id": "0TP0efkvj20T"
      },
      "source": [
        "Siguiento el ejemplo anterior consideremos que hemos estudiado solo dos combustibles, el gas metano y el alcohol etílico.\n",
        "\n",
        "||$C$|$H$|$O$|gas|líquido|sólido|$E$\n",
        "|---|---|---|---|---|---|---|---|\n",
        "metano|0.75|0.25|0.00|1|0|0|50.01|\n",
        "alcohol etílico ($C_2H_5OH$)|0.52|0.13|0.35|0|1|0|26.70|\n",
        "\n",
        "Notar que para repersentar el estado de agregación del combustible, hemos usado una codificación de one hot vectors.\n",
        "\n",
        "En la columna $E$ reportamos el valor medido en laboratorio. Consideremos por ahora solo los valores nuestras variables independientes y pongamos la dentro de una matriz:\n",
        "\n",
        "\\begin{align}\n",
        "     X = \\left[\\begin{array}{cccccc}\n",
        "     0.75&0.25&0.00&1&0&0\\\\\n",
        "     0.52&0.13&0.35&0&1&0\n",
        "     \\end{array}\\right]\n",
        "     \\end{align}\n",
        "\n",
        "Consideremos también un vector donde guardaremos los valores reales o los ground truth de nuestos datos\n",
        "\n",
        "\\begin{align}\n",
        "     y = \\left[\\begin{array}{c}\n",
        "     50.01\\\\\n",
        "     26.7\n",
        "     \\end{array}\\right]\n",
        "     \\end{align}\n",
        "\n",
        "Esta matriz $X$, se conoce como matriz de diseño y nos permite guardar toda la información de los ejemplos que quiesieramos estudiar. Además, la matriz $X$ tiene una propiedad interesante. Condiremos lo coeficientes de la fórmula de Dulong y guardemoslos en un vector $w$\n",
        "\n",
        "\\begin{align}\n",
        "     w^T = \\left[\\begin{array}{cccccc}\n",
        "     38.2&84.9&-10.6125&0&-0.5&-0.62\n",
        "     \\end{array}\\right]\n",
        "     \\end{align}\n",
        "\n",
        "por que $-\\frac{84.9}{8} = -1.6125$\n",
        "\n",
        "Consideremos ahora el vector:\n",
        "\n",
        "$$\\hat{y} = Xw$$\n",
        "\\begin{align}\n",
        "     \\hat{y} = \\left[\\begin{array}{cccccc}\n",
        "     0.75&0.25&0.00&1&0&0\\\\\n",
        "     0.52&0.13&0.35&0&1&0\n",
        "     \\end{array}\\right]\\left[\\begin{array}{c}\n",
        "     38.2\\\\84.9\\\\-10.6125\\\\0\\\\-0.5\\\\-0.62\n",
        "     \\end{array}\\right]\n",
        "     \\end{align}\n",
        "\\begin{align}\n",
        "     \\hat{y} = \\left[\\begin{array}{cc}\n",
        "     49.87\\\\\n",
        "     26.69\n",
        "     \\end{array}\\right]\n",
        "     \\end{align}\n",
        "\n",
        "Al guardar nuestros datos y nuestros parametros en matrices, ahora podemos calcular nuestras predicciones como una mera multiplicación de matrices. Además podemos estimar el error absoluto entre nuestra predicción y el valor real como una operación matricial.\n",
        "\n",
        "$$e=\\hat{y} - y$$\n",
        "\n",
        "De más está decir que de lo anterior podemos tratar de calcular la varianza de los valores en el vector $e$, suponiendo que un buen modelo debe tener dispersión media igual a 0 con respecto a los valore reales.\n",
        "\n",
        "$$Var(e)$$"
      ]
    },
    {
      "cell_type": "markdown",
      "metadata": {
        "id": "cbasYgvG4OaA"
      },
      "source": [
        "La formula anterior y todo el analisis es para señalar que es una neurona artificial\n",
        "\n"
      ]
    },
    {
      "cell_type": "markdown",
      "metadata": {
        "id": "2ah9UDoO6aDf"
      },
      "source": [
        "<img src='https://storage.googleapis.com/humai-datasets/imagenes/deep_learning/2_RedesNeuronalesDeUnaCapa/5c8ef532-6649-4141-aa83-bf39d9c3ca1e_imagen.png' />"
      ]
    },
    {
      "cell_type": "markdown",
      "metadata": {
        "id": "J83vbLc1CtB-"
      },
      "source": [
        "La fórmula de Dulong, como toda regresión lineal, tiene una serie de variables independientes que influyen en el resultado de una variable dependiente. En el caso anterior tenemos, proporcion de diferentes átomos y estado de agregación del combustible (sólido, líquido, gas).\n",
        "\n",
        "Esta estructura es similar a una neurona que recibe 6 estimulos y produce una única respuesta. Es por esto que decimos que es una neurona."
      ]
    },
    {
      "cell_type": "markdown",
      "metadata": {
        "id": "4IJQRzZxj2Fc"
      },
      "source": [
        "Minimizar la varianza de nuestro error abosoluto es equivalente a pedir un ajuste lineal por mínimos cuadrados. Es decir, el entrenamiento de nuestra neurona, consistirá en encontrar los parametos $w$ que al aplicarlos sobre nuestros datos $X$ nos permitan obtener las mejores predicciones $\\hat{y}$ de tal manera que se acerque lo más posible a nuestros valores reales $y$ En este contexto, encontrar esos parametros es equivalente a minimizar la varianza. A la cantidad a minimizar la llamaremos **función de pérdida**"
      ]
    },
    {
      "cell_type": "markdown",
      "metadata": {
        "id": "fdSvvb7brVK5"
      },
      "source": [
        "Hemos elegido un caso de análisis como es el calor liberado por un combustible en función de sus constituyentes para señalar que el principio con el que opera la técnica es tan general que puede aplicarse a un monton de otras areas. Sin ir más lejos, podríamos ir un paso más alla y en lugar de entrenar solo una neurona para que nos dé la energía liberada, podríamos entrenar una segunda neurona que nos dé la masa molar del combustible. O una tercer neurona para que nos entregue otra propiedad del combustible, como por ejemplo el índice de refracción.\n",
        "\n",
        "En caso de tener varias neuronas, nuestros parámetros deberían ser almacenados en una matriz de pesos. Es decir:\n",
        "\n",
        "$$\\hat{y} = XW$$\n",
        "\\begin{align}\n",
        "     \\hat{y} = \\left[\\begin{array}{cccccc}\n",
        "     0.75&0.25&0.00&1&0&0\\\\\n",
        "     0.52&0.13&0.35&0&1&0\n",
        "     \\end{array}\\right]\\left[\\begin{array}{cc}\n",
        "     38.2&1\\\\84.9&1\\\\-1.6125&1\\\\0&-1\\\\-0.5&1\\\\-0.62&2\n",
        "     \\end{array}\\right]\n",
        "     \\end{align}\n",
        "\\begin{align}\n",
        "     \\hat{y} = \\left[\\begin{array}{cc}\n",
        "     49.87&0\\\\\n",
        "     26.69&2\n",
        "     \\end{array}\\right]\n",
        "     \\end{align}\n",
        "\n",
        "Donde la segunda columna corresponde a una segunda neurona que aprendió a devolver alguna otra propiedad de los combustibles"
      ]
    },
    {
      "cell_type": "markdown",
      "metadata": {
        "id": "6QR4cq47sGht"
      },
      "source": [
        "Esperamos que con lo aquí descripto, se entienda que es una neurona, red de una capa de neuronas y en que consiste encontrar los parametros óptimos al problema."
      ]
    },
    {
      "cell_type": "markdown",
      "metadata": {
        "id": "yGPRN3ihsUFG"
      },
      "source": [
        "## Presentando el pipeline"
      ]
    },
    {
      "cell_type": "markdown",
      "metadata": {
        "id": "VTm-V3vE4hYT"
      },
      "source": [
        "Ahora, lo que describiremos será como es el proceso general para entrenar una red:\n",
        "\n",
        "1. Carga de los datos\n",
        "1. Separación de los datos en lotes\n",
        "1. Inicialización de parámetros\n",
        "1. Definición del modelo\n",
        "1. Definición de la función de pérdida\n",
        "1. Definición del algoritmo de optimización\n",
        "\n",
        "Para nuestro primer ejemplo lo que haremos será trabajar con datos sintéticos. Es decir, tomaremos los datos generados de un modelo lineal. Nuestra intención con esto es múltiple:\n",
        "\n",
        "* Queremos mostrar un ejemplo que nos permita entender el significado de los parámetros de nuestro modelo.\n",
        "* Queremos saber que tan buenas son nuestras estimaciones\n",
        "* Queremos usar un modelo sencillo que nos permita analizar cada paso del pipeline.\n",
        "\n",
        "Este último punto es el principal motivo de esta parte. Por lo general, los frameworks de deep learning tiene multiples herramientas que nos permite simplificar cada uno de los pasos. Sin embargo, también es común que necesitemos ajustar detalles del modelo que usaremos. Es en este sentido que \"reinventar la rueda\", nos puede ayudar entender como funcionan las herramientas preexistentes en los frameworks que usaremos."
      ]
    },
    {
      "cell_type": "code",
      "execution_count": null,
      "metadata": {
        "id": "CSaDWMHXz6Ug",
        "origin_pos": 2,
        "tab": [
          "pytorch"
        ]
      },
      "outputs": [],
      "source": [
        "%matplotlib inline\n",
        "import random\n",
        "import torch\n",
        "from matplotlib import pyplot as plt\n",
        "from matplotlib_inline import backend_inline"
      ]
    },
    {
      "cell_type": "markdown",
      "metadata": {
        "id": "CRgOrKSwz6Uh",
        "origin_pos": 4
      },
      "source": [
        "### \"Dataset\"\n",
        "\n",
        "Comencemos con un modelo lineal sencillo al que añadiremos ruido gaussiano\n",
        "\n",
        "**$$\\mathbf{y}= \\mathbf{X} \\mathbf{w} + b + \\mathbf\\epsilon.$$**\n",
        "\n",
        "$$\\mathbf{w} = [2, -3.4]^\\top$$\n",
        "$$b = 4.2$$\n"
      ]
    },
    {
      "cell_type": "code",
      "execution_count": null,
      "metadata": {
        "id": "FkoyQUAez6Uj",
        "origin_pos": 5,
        "tab": [
          "pytorch"
        ]
      },
      "outputs": [],
      "source": [
        "def synthetic_data(w, b, num_examples):\n",
        "    X = torch.normal(0, 1, (num_examples, len(w)))\n",
        "    y = torch.matmul(X, w) + b\n",
        "    y += torch.normal(0, 0.01, y.shape)\n",
        "    return X, y.reshape((-1, 1))"
      ]
    },
    {
      "cell_type": "code",
      "execution_count": null,
      "metadata": {
        "id": "RvV55S-Wz6Ul",
        "origin_pos": 7,
        "tab": [
          "pytorch"
        ]
      },
      "outputs": [],
      "source": [
        "true_w = torch.tensor([2, -3.4])\n",
        "true_b = 4.2\n",
        "features, labels = synthetic_data(true_w, true_b, 1000)"
      ]
    },
    {
      "cell_type": "markdown",
      "metadata": {
        "id": "PNpW_tkoz6Un",
        "origin_pos": 8
      },
      "source": [
        "Es importante ver cual es la dimensionalidad de nuestros features y nuestras etiquetas.\n"
      ]
    },
    {
      "cell_type": "code",
      "execution_count": null,
      "metadata": {
        "colab": {
          "base_uri": "https://localhost:8080/"
        },
        "id": "MBDt723Tz6Up",
        "origin_pos": 9,
        "outputId": "4d9abb3a-aa43-46bb-abc9-a89d9b34176b",
        "tab": [
          "pytorch"
        ]
      },
      "outputs": [
        {
          "name": "stdout",
          "output_type": "stream",
          "text": [
            "features: torch.Size([1000, 2]) \n",
            "label: torch.Size([1000, 1])\n"
          ]
        }
      ],
      "source": [
        "print('features:', features.shape,'\\nlabel:', labels.shape)"
      ]
    },
    {
      "cell_type": "markdown",
      "metadata": {
        "id": "Cz4ZRY0mz6Ur",
        "origin_pos": 10
      },
      "source": [
        "Podemos graficar la etiqueta y una de las features para ver este comportamiento lineal\n"
      ]
    },
    {
      "cell_type": "code",
      "execution_count": null,
      "metadata": {
        "colab": {
          "base_uri": "https://localhost:8080/",
          "height": 243
        },
        "id": "Mm0OJKdaz6Us",
        "origin_pos": 11,
        "outputId": "d19dc6ca-323e-4a7b-9bc6-cc827c5d6d90",
        "tab": [
          "pytorch"
        ]
      },
      "outputs": [
        {
          "data": {
            "image/svg+xml": "<?xml version=\"1.0\" encoding=\"utf-8\" standalone=\"no\"?>\n<!DOCTYPE svg PUBLIC \"-//W3C//DTD SVG 1.1//EN\"\n  \"http://www.w3.org/Graphics/SVG/1.1/DTD/svg11.dtd\">\n<!-- Created with matplotlib (https://matplotlib.org/) -->\n<svg height=\"166.978125pt\" version=\"1.1\" viewBox=\"0 0 237.804688 166.978125\" width=\"237.804688pt\" xmlns=\"http://www.w3.org/2000/svg\" xmlns:xlink=\"http://www.w3.org/1999/xlink\">\n <defs>\n  <style type=\"text/css\">\n*{stroke-linecap:butt;stroke-linejoin:round;}\n  </style>\n </defs>\n <g id=\"figure_1\">\n  <g id=\"patch_1\">\n   <path d=\"M 0 166.978125 \nL 237.804688 166.978125 \nL 237.804688 0 \nL 0 0 \nz\n\" style=\"fill:none;\"/>\n  </g>\n  <g id=\"axes_1\">\n   <g id=\"patch_2\">\n    <path d=\"M 35.304688 143.1 \nL 230.604688 143.1 \nL 230.604688 7.2 \nL 35.304688 7.2 \nz\n\" style=\"fill:#ffffff;\"/>\n   </g>\n   <g id=\"PathCollection_1\">\n    <defs>\n     <path d=\"M 0 0.5 \nC 0.132602 0.5 0.25979 0.447317 0.353553 0.353553 \nC 0.447317 0.25979 0.5 0.132602 0.5 0 \nC 0.5 -0.132602 0.447317 -0.25979 0.353553 -0.353553 \nC 0.25979 -0.447317 0.132602 -0.5 0 -0.5 \nC -0.132602 -0.5 -0.25979 -0.447317 -0.353553 -0.353553 \nC -0.447317 -0.25979 -0.5 -0.132602 -0.5 0 \nC -0.5 0.132602 -0.447317 0.25979 -0.353553 0.353553 \nC -0.25979 0.447317 -0.132602 0.5 0 0.5 \nz\n\" id=\"m96747f1b0f\" style=\"stroke:#1f77b4;\"/>\n    </defs>\n    <g clip-path=\"url(#pcc3ae7a94f)\">\n     <use style=\"fill:#1f77b4;stroke:#1f77b4;\" x=\"120.969763\" xlink:href=\"#m96747f1b0f\" y=\"66.11047\"/>\n     <use style=\"fill:#1f77b4;stroke:#1f77b4;\" x=\"199.958599\" xlink:href=\"#m96747f1b0f\" y=\"84.495689\"/>\n     <use style=\"fill:#1f77b4;stroke:#1f77b4;\" x=\"168.530333\" xlink:href=\"#m96747f1b0f\" y=\"90.140168\"/>\n     <use style=\"fill:#1f77b4;stroke:#1f77b4;\" x=\"216.770125\" xlink:href=\"#m96747f1b0f\" y=\"100.712005\"/>\n     <use style=\"fill:#1f77b4;stroke:#1f77b4;\" x=\"136.580704\" xlink:href=\"#m96747f1b0f\" y=\"71.870175\"/>\n     <use style=\"fill:#1f77b4;stroke:#1f77b4;\" x=\"126.340532\" xlink:href=\"#m96747f1b0f\" y=\"46.272578\"/>\n     <use style=\"fill:#1f77b4;stroke:#1f77b4;\" x=\"135.069041\" xlink:href=\"#m96747f1b0f\" y=\"57.112726\"/>\n     <use style=\"fill:#1f77b4;stroke:#1f77b4;\" x=\"206.419878\" xlink:href=\"#m96747f1b0f\" y=\"132.194608\"/>\n     <use style=\"fill:#1f77b4;stroke:#1f77b4;\" x=\"121.54331\" xlink:href=\"#m96747f1b0f\" y=\"60.718788\"/>\n     <use style=\"fill:#1f77b4;stroke:#1f77b4;\" x=\"142.261411\" xlink:href=\"#m96747f1b0f\" y=\"69.61154\"/>\n     <use style=\"fill:#1f77b4;stroke:#1f77b4;\" x=\"125.069345\" xlink:href=\"#m96747f1b0f\" y=\"68.649531\"/>\n     <use style=\"fill:#1f77b4;stroke:#1f77b4;\" x=\"105.471221\" xlink:href=\"#m96747f1b0f\" y=\"47.394673\"/>\n     <use style=\"fill:#1f77b4;stroke:#1f77b4;\" x=\"173.250946\" xlink:href=\"#m96747f1b0f\" y=\"84.521975\"/>\n     <use style=\"fill:#1f77b4;stroke:#1f77b4;\" x=\"138.40962\" xlink:href=\"#m96747f1b0f\" y=\"79.924306\"/>\n     <use style=\"fill:#1f77b4;stroke:#1f77b4;\" x=\"162.256642\" xlink:href=\"#m96747f1b0f\" y=\"95.163567\"/>\n     <use style=\"fill:#1f77b4;stroke:#1f77b4;\" x=\"187.347845\" xlink:href=\"#m96747f1b0f\" y=\"101.362966\"/>\n     <use style=\"fill:#1f77b4;stroke:#1f77b4;\" x=\"191.98731\" xlink:href=\"#m96747f1b0f\" y=\"106.793833\"/>\n     <use style=\"fill:#1f77b4;stroke:#1f77b4;\" x=\"151.196856\" xlink:href=\"#m96747f1b0f\" y=\"81.784662\"/>\n     <use style=\"fill:#1f77b4;stroke:#1f77b4;\" x=\"161.774323\" xlink:href=\"#m96747f1b0f\" y=\"94.104297\"/>\n     <use style=\"fill:#1f77b4;stroke:#1f77b4;\" x=\"121.460421\" xlink:href=\"#m96747f1b0f\" y=\"69.732991\"/>\n     <use style=\"fill:#1f77b4;stroke:#1f77b4;\" x=\"153.939095\" xlink:href=\"#m96747f1b0f\" y=\"64.880269\"/>\n     <use style=\"fill:#1f77b4;stroke:#1f77b4;\" x=\"154.146597\" xlink:href=\"#m96747f1b0f\" y=\"78.724745\"/>\n     <use style=\"fill:#1f77b4;stroke:#1f77b4;\" x=\"136.866875\" xlink:href=\"#m96747f1b0f\" y=\"87.669291\"/>\n     <use style=\"fill:#1f77b4;stroke:#1f77b4;\" x=\"155.521498\" xlink:href=\"#m96747f1b0f\" y=\"87.237895\"/>\n     <use style=\"fill:#1f77b4;stroke:#1f77b4;\" x=\"147.728141\" xlink:href=\"#m96747f1b0f\" y=\"81.177359\"/>\n     <use style=\"fill:#1f77b4;stroke:#1f77b4;\" x=\"198.169786\" xlink:href=\"#m96747f1b0f\" y=\"107.213847\"/>\n     <use style=\"fill:#1f77b4;stroke:#1f77b4;\" x=\"143.902614\" xlink:href=\"#m96747f1b0f\" y=\"67.085452\"/>\n     <use style=\"fill:#1f77b4;stroke:#1f77b4;\" x=\"121.871773\" xlink:href=\"#m96747f1b0f\" y=\"79.251998\"/>\n     <use style=\"fill:#1f77b4;stroke:#1f77b4;\" x=\"90.732014\" xlink:href=\"#m96747f1b0f\" y=\"56.887933\"/>\n     <use style=\"fill:#1f77b4;stroke:#1f77b4;\" x=\"169.706494\" xlink:href=\"#m96747f1b0f\" y=\"98.644885\"/>\n     <use style=\"fill:#1f77b4;stroke:#1f77b4;\" x=\"106.035989\" xlink:href=\"#m96747f1b0f\" y=\"65.803024\"/>\n     <use style=\"fill:#1f77b4;stroke:#1f77b4;\" x=\"172.780815\" xlink:href=\"#m96747f1b0f\" y=\"106.828784\"/>\n     <use style=\"fill:#1f77b4;stroke:#1f77b4;\" x=\"115.999754\" xlink:href=\"#m96747f1b0f\" y=\"69.405952\"/>\n     <use style=\"fill:#1f77b4;stroke:#1f77b4;\" x=\"173.816472\" xlink:href=\"#m96747f1b0f\" y=\"98.060016\"/>\n     <use style=\"fill:#1f77b4;stroke:#1f77b4;\" x=\"130.086404\" xlink:href=\"#m96747f1b0f\" y=\"67.093614\"/>\n     <use style=\"fill:#1f77b4;stroke:#1f77b4;\" x=\"197.525997\" xlink:href=\"#m96747f1b0f\" y=\"100.200336\"/>\n     <use style=\"fill:#1f77b4;stroke:#1f77b4;\" x=\"166.431013\" xlink:href=\"#m96747f1b0f\" y=\"67.360282\"/>\n     <use style=\"fill:#1f77b4;stroke:#1f77b4;\" x=\"143.449343\" xlink:href=\"#m96747f1b0f\" y=\"71.810542\"/>\n     <use style=\"fill:#1f77b4;stroke:#1f77b4;\" x=\"161.121808\" xlink:href=\"#m96747f1b0f\" y=\"90.924746\"/>\n     <use style=\"fill:#1f77b4;stroke:#1f77b4;\" x=\"136.332507\" xlink:href=\"#m96747f1b0f\" y=\"66.36171\"/>\n     <use style=\"fill:#1f77b4;stroke:#1f77b4;\" x=\"105.648182\" xlink:href=\"#m96747f1b0f\" y=\"45.871151\"/>\n     <use style=\"fill:#1f77b4;stroke:#1f77b4;\" x=\"188.51262\" xlink:href=\"#m96747f1b0f\" y=\"97.875321\"/>\n     <use style=\"fill:#1f77b4;stroke:#1f77b4;\" x=\"152.272595\" xlink:href=\"#m96747f1b0f\" y=\"88.172304\"/>\n     <use style=\"fill:#1f77b4;stroke:#1f77b4;\" x=\"111.655578\" xlink:href=\"#m96747f1b0f\" y=\"69.01286\"/>\n     <use style=\"fill:#1f77b4;stroke:#1f77b4;\" x=\"105.782675\" xlink:href=\"#m96747f1b0f\" y=\"43.737224\"/>\n     <use style=\"fill:#1f77b4;stroke:#1f77b4;\" x=\"155.129519\" xlink:href=\"#m96747f1b0f\" y=\"56.649079\"/>\n     <use style=\"fill:#1f77b4;stroke:#1f77b4;\" x=\"189.539184\" xlink:href=\"#m96747f1b0f\" y=\"96.088057\"/>\n     <use style=\"fill:#1f77b4;stroke:#1f77b4;\" x=\"86.902651\" xlink:href=\"#m96747f1b0f\" y=\"61.130339\"/>\n     <use style=\"fill:#1f77b4;stroke:#1f77b4;\" x=\"100.788591\" xlink:href=\"#m96747f1b0f\" y=\"66.22707\"/>\n     <use style=\"fill:#1f77b4;stroke:#1f77b4;\" x=\"159.205408\" xlink:href=\"#m96747f1b0f\" y=\"82.116621\"/>\n     <use style=\"fill:#1f77b4;stroke:#1f77b4;\" x=\"145.760459\" xlink:href=\"#m96747f1b0f\" y=\"76.815848\"/>\n     <use style=\"fill:#1f77b4;stroke:#1f77b4;\" x=\"147.414181\" xlink:href=\"#m96747f1b0f\" y=\"75.089295\"/>\n     <use style=\"fill:#1f77b4;stroke:#1f77b4;\" x=\"146.145272\" xlink:href=\"#m96747f1b0f\" y=\"68.568774\"/>\n     <use style=\"fill:#1f77b4;stroke:#1f77b4;\" x=\"148.764795\" xlink:href=\"#m96747f1b0f\" y=\"76.002751\"/>\n     <use style=\"fill:#1f77b4;stroke:#1f77b4;\" x=\"165.101157\" xlink:href=\"#m96747f1b0f\" y=\"99.824605\"/>\n     <use style=\"fill:#1f77b4;stroke:#1f77b4;\" x=\"104.253\" xlink:href=\"#m96747f1b0f\" y=\"30.976466\"/>\n     <use style=\"fill:#1f77b4;stroke:#1f77b4;\" x=\"125.800026\" xlink:href=\"#m96747f1b0f\" y=\"70.688004\"/>\n     <use style=\"fill:#1f77b4;stroke:#1f77b4;\" x=\"133.910056\" xlink:href=\"#m96747f1b0f\" y=\"59.680074\"/>\n     <use style=\"fill:#1f77b4;stroke:#1f77b4;\" x=\"203.68961\" xlink:href=\"#m96747f1b0f\" y=\"93.617766\"/>\n     <use style=\"fill:#1f77b4;stroke:#1f77b4;\" x=\"121.742796\" xlink:href=\"#m96747f1b0f\" y=\"54.380855\"/>\n     <use style=\"fill:#1f77b4;stroke:#1f77b4;\" x=\"117.510252\" xlink:href=\"#m96747f1b0f\" y=\"58.24566\"/>\n     <use style=\"fill:#1f77b4;stroke:#1f77b4;\" x=\"193.517513\" xlink:href=\"#m96747f1b0f\" y=\"93.706553\"/>\n     <use style=\"fill:#1f77b4;stroke:#1f77b4;\" x=\"145.252491\" xlink:href=\"#m96747f1b0f\" y=\"79.856455\"/>\n     <use style=\"fill:#1f77b4;stroke:#1f77b4;\" x=\"121.172803\" xlink:href=\"#m96747f1b0f\" y=\"82.111118\"/>\n     <use style=\"fill:#1f77b4;stroke:#1f77b4;\" x=\"151.349866\" xlink:href=\"#m96747f1b0f\" y=\"84.937897\"/>\n     <use style=\"fill:#1f77b4;stroke:#1f77b4;\" x=\"160.498225\" xlink:href=\"#m96747f1b0f\" y=\"95.486412\"/>\n     <use style=\"fill:#1f77b4;stroke:#1f77b4;\" x=\"110.340208\" xlink:href=\"#m96747f1b0f\" y=\"61.50558\"/>\n     <use style=\"fill:#1f77b4;stroke:#1f77b4;\" x=\"137.815593\" xlink:href=\"#m96747f1b0f\" y=\"77.363424\"/>\n     <use style=\"fill:#1f77b4;stroke:#1f77b4;\" x=\"130.943289\" xlink:href=\"#m96747f1b0f\" y=\"68.118541\"/>\n     <use style=\"fill:#1f77b4;stroke:#1f77b4;\" x=\"163.838757\" xlink:href=\"#m96747f1b0f\" y=\"90.414418\"/>\n     <use style=\"fill:#1f77b4;stroke:#1f77b4;\" x=\"179.999758\" xlink:href=\"#m96747f1b0f\" y=\"95.729152\"/>\n     <use style=\"fill:#1f77b4;stroke:#1f77b4;\" x=\"135.247604\" xlink:href=\"#m96747f1b0f\" y=\"55.831871\"/>\n     <use style=\"fill:#1f77b4;stroke:#1f77b4;\" x=\"134.935225\" xlink:href=\"#m96747f1b0f\" y=\"65.300761\"/>\n     <use style=\"fill:#1f77b4;stroke:#1f77b4;\" x=\"181.434066\" xlink:href=\"#m96747f1b0f\" y=\"98.581414\"/>\n     <use style=\"fill:#1f77b4;stroke:#1f77b4;\" x=\"190.59021\" xlink:href=\"#m96747f1b0f\" y=\"92.251247\"/>\n     <use style=\"fill:#1f77b4;stroke:#1f77b4;\" x=\"153.295188\" xlink:href=\"#m96747f1b0f\" y=\"91.75031\"/>\n     <use style=\"fill:#1f77b4;stroke:#1f77b4;\" x=\"144.405444\" xlink:href=\"#m96747f1b0f\" y=\"68.588124\"/>\n     <use style=\"fill:#1f77b4;stroke:#1f77b4;\" x=\"213.180953\" xlink:href=\"#m96747f1b0f\" y=\"109.254112\"/>\n     <use style=\"fill:#1f77b4;stroke:#1f77b4;\" x=\"150.080084\" xlink:href=\"#m96747f1b0f\" y=\"80.537618\"/>\n     <use style=\"fill:#1f77b4;stroke:#1f77b4;\" x=\"86.267852\" xlink:href=\"#m96747f1b0f\" y=\"37.387473\"/>\n     <use style=\"fill:#1f77b4;stroke:#1f77b4;\" x=\"170.717628\" xlink:href=\"#m96747f1b0f\" y=\"70.100426\"/>\n     <use style=\"fill:#1f77b4;stroke:#1f77b4;\" x=\"186.534248\" xlink:href=\"#m96747f1b0f\" y=\"97.826027\"/>\n     <use style=\"fill:#1f77b4;stroke:#1f77b4;\" x=\"126.212601\" xlink:href=\"#m96747f1b0f\" y=\"59.153108\"/>\n     <use style=\"fill:#1f77b4;stroke:#1f77b4;\" x=\"70.89955\" xlink:href=\"#m96747f1b0f\" y=\"24.736653\"/>\n     <use style=\"fill:#1f77b4;stroke:#1f77b4;\" x=\"100.252152\" xlink:href=\"#m96747f1b0f\" y=\"61.670615\"/>\n     <use style=\"fill:#1f77b4;stroke:#1f77b4;\" x=\"155.605638\" xlink:href=\"#m96747f1b0f\" y=\"86.909742\"/>\n     <use style=\"fill:#1f77b4;stroke:#1f77b4;\" x=\"121.934752\" xlink:href=\"#m96747f1b0f\" y=\"72.304563\"/>\n     <use style=\"fill:#1f77b4;stroke:#1f77b4;\" x=\"77.380892\" xlink:href=\"#m96747f1b0f\" y=\"45.001172\"/>\n     <use style=\"fill:#1f77b4;stroke:#1f77b4;\" x=\"91.214062\" xlink:href=\"#m96747f1b0f\" y=\"67.487543\"/>\n     <use style=\"fill:#1f77b4;stroke:#1f77b4;\" x=\"185.441579\" xlink:href=\"#m96747f1b0f\" y=\"96.940466\"/>\n     <use style=\"fill:#1f77b4;stroke:#1f77b4;\" x=\"148.571049\" xlink:href=\"#m96747f1b0f\" y=\"91.766978\"/>\n     <use style=\"fill:#1f77b4;stroke:#1f77b4;\" x=\"202.584548\" xlink:href=\"#m96747f1b0f\" y=\"118.847777\"/>\n     <use style=\"fill:#1f77b4;stroke:#1f77b4;\" x=\"92.352709\" xlink:href=\"#m96747f1b0f\" y=\"52.064609\"/>\n     <use style=\"fill:#1f77b4;stroke:#1f77b4;\" x=\"169.493946\" xlink:href=\"#m96747f1b0f\" y=\"72.549575\"/>\n     <use style=\"fill:#1f77b4;stroke:#1f77b4;\" x=\"125.133669\" xlink:href=\"#m96747f1b0f\" y=\"65.873688\"/>\n     <use style=\"fill:#1f77b4;stroke:#1f77b4;\" x=\"165.81944\" xlink:href=\"#m96747f1b0f\" y=\"83.059608\"/>\n     <use style=\"fill:#1f77b4;stroke:#1f77b4;\" x=\"166.258309\" xlink:href=\"#m96747f1b0f\" y=\"85.077915\"/>\n     <use style=\"fill:#1f77b4;stroke:#1f77b4;\" x=\"122.281925\" xlink:href=\"#m96747f1b0f\" y=\"81.880703\"/>\n     <use style=\"fill:#1f77b4;stroke:#1f77b4;\" x=\"124.380599\" xlink:href=\"#m96747f1b0f\" y=\"72.907833\"/>\n     <use style=\"fill:#1f77b4;stroke:#1f77b4;\" x=\"140.893929\" xlink:href=\"#m96747f1b0f\" y=\"72.132858\"/>\n     <use style=\"fill:#1f77b4;stroke:#1f77b4;\" x=\"123.552755\" xlink:href=\"#m96747f1b0f\" y=\"68.061702\"/>\n     <use style=\"fill:#1f77b4;stroke:#1f77b4;\" x=\"73.47859\" xlink:href=\"#m96747f1b0f\" y=\"48.911151\"/>\n     <use style=\"fill:#1f77b4;stroke:#1f77b4;\" x=\"141.215452\" xlink:href=\"#m96747f1b0f\" y=\"92.837083\"/>\n     <use style=\"fill:#1f77b4;stroke:#1f77b4;\" x=\"173.833655\" xlink:href=\"#m96747f1b0f\" y=\"90.053234\"/>\n     <use style=\"fill:#1f77b4;stroke:#1f77b4;\" x=\"128.007541\" xlink:href=\"#m96747f1b0f\" y=\"52.903037\"/>\n     <use style=\"fill:#1f77b4;stroke:#1f77b4;\" x=\"181.769609\" xlink:href=\"#m96747f1b0f\" y=\"101.97056\"/>\n     <use style=\"fill:#1f77b4;stroke:#1f77b4;\" x=\"173.919735\" xlink:href=\"#m96747f1b0f\" y=\"110.192564\"/>\n     <use style=\"fill:#1f77b4;stroke:#1f77b4;\" x=\"102.631388\" xlink:href=\"#m96747f1b0f\" y=\"55.107198\"/>\n     <use style=\"fill:#1f77b4;stroke:#1f77b4;\" x=\"121.988661\" xlink:href=\"#m96747f1b0f\" y=\"55.283614\"/>\n     <use style=\"fill:#1f77b4;stroke:#1f77b4;\" x=\"161.302224\" xlink:href=\"#m96747f1b0f\" y=\"90.668881\"/>\n     <use style=\"fill:#1f77b4;stroke:#1f77b4;\" x=\"161.75249\" xlink:href=\"#m96747f1b0f\" y=\"73.369294\"/>\n     <use style=\"fill:#1f77b4;stroke:#1f77b4;\" x=\"165.090568\" xlink:href=\"#m96747f1b0f\" y=\"85.25197\"/>\n     <use style=\"fill:#1f77b4;stroke:#1f77b4;\" x=\"198.551772\" xlink:href=\"#m96747f1b0f\" y=\"118.646682\"/>\n     <use style=\"fill:#1f77b4;stroke:#1f77b4;\" x=\"205.708323\" xlink:href=\"#m96747f1b0f\" y=\"111.034328\"/>\n     <use style=\"fill:#1f77b4;stroke:#1f77b4;\" x=\"118.325593\" xlink:href=\"#m96747f1b0f\" y=\"61.409357\"/>\n     <use style=\"fill:#1f77b4;stroke:#1f77b4;\" x=\"139.819737\" xlink:href=\"#m96747f1b0f\" y=\"89.900981\"/>\n     <use style=\"fill:#1f77b4;stroke:#1f77b4;\" x=\"140.822846\" xlink:href=\"#m96747f1b0f\" y=\"75.209197\"/>\n     <use style=\"fill:#1f77b4;stroke:#1f77b4;\" x=\"85.684346\" xlink:href=\"#m96747f1b0f\" y=\"30.650654\"/>\n     <use style=\"fill:#1f77b4;stroke:#1f77b4;\" x=\"176.81697\" xlink:href=\"#m96747f1b0f\" y=\"89.514859\"/>\n     <use style=\"fill:#1f77b4;stroke:#1f77b4;\" x=\"116.17363\" xlink:href=\"#m96747f1b0f\" y=\"79.162918\"/>\n     <use style=\"fill:#1f77b4;stroke:#1f77b4;\" x=\"105.220573\" xlink:href=\"#m96747f1b0f\" y=\"50.612011\"/>\n     <use style=\"fill:#1f77b4;stroke:#1f77b4;\" x=\"94.328851\" xlink:href=\"#m96747f1b0f\" y=\"60.84594\"/>\n     <use style=\"fill:#1f77b4;stroke:#1f77b4;\" x=\"122.198587\" xlink:href=\"#m96747f1b0f\" y=\"52.497832\"/>\n     <use style=\"fill:#1f77b4;stroke:#1f77b4;\" x=\"140.395167\" xlink:href=\"#m96747f1b0f\" y=\"84.440768\"/>\n     <use style=\"fill:#1f77b4;stroke:#1f77b4;\" x=\"206.244227\" xlink:href=\"#m96747f1b0f\" y=\"99.109401\"/>\n     <use style=\"fill:#1f77b4;stroke:#1f77b4;\" x=\"103.87577\" xlink:href=\"#m96747f1b0f\" y=\"40.457091\"/>\n     <use style=\"fill:#1f77b4;stroke:#1f77b4;\" x=\"156.65156\" xlink:href=\"#m96747f1b0f\" y=\"92.486025\"/>\n     <use style=\"fill:#1f77b4;stroke:#1f77b4;\" x=\"152.797861\" xlink:href=\"#m96747f1b0f\" y=\"64.159106\"/>\n     <use style=\"fill:#1f77b4;stroke:#1f77b4;\" x=\"85.561783\" xlink:href=\"#m96747f1b0f\" y=\"53.390505\"/>\n     <use style=\"fill:#1f77b4;stroke:#1f77b4;\" x=\"135.737717\" xlink:href=\"#m96747f1b0f\" y=\"64.588734\"/>\n     <use style=\"fill:#1f77b4;stroke:#1f77b4;\" x=\"162.317762\" xlink:href=\"#m96747f1b0f\" y=\"93.200324\"/>\n     <use style=\"fill:#1f77b4;stroke:#1f77b4;\" x=\"146.07588\" xlink:href=\"#m96747f1b0f\" y=\"74.468042\"/>\n     <use style=\"fill:#1f77b4;stroke:#1f77b4;\" x=\"147.538541\" xlink:href=\"#m96747f1b0f\" y=\"76.895022\"/>\n     <use style=\"fill:#1f77b4;stroke:#1f77b4;\" x=\"155.288506\" xlink:href=\"#m96747f1b0f\" y=\"82.89012\"/>\n     <use style=\"fill:#1f77b4;stroke:#1f77b4;\" x=\"163.514267\" xlink:href=\"#m96747f1b0f\" y=\"85.1734\"/>\n     <use style=\"fill:#1f77b4;stroke:#1f77b4;\" x=\"96.099964\" xlink:href=\"#m96747f1b0f\" y=\"62.783421\"/>\n     <use style=\"fill:#1f77b4;stroke:#1f77b4;\" x=\"121.509811\" xlink:href=\"#m96747f1b0f\" y=\"57.168205\"/>\n     <use style=\"fill:#1f77b4;stroke:#1f77b4;\" x=\"184.142321\" xlink:href=\"#m96747f1b0f\" y=\"95.705667\"/>\n     <use style=\"fill:#1f77b4;stroke:#1f77b4;\" x=\"187.731952\" xlink:href=\"#m96747f1b0f\" y=\"95.872082\"/>\n     <use style=\"fill:#1f77b4;stroke:#1f77b4;\" x=\"163.72987\" xlink:href=\"#m96747f1b0f\" y=\"64.203784\"/>\n     <use style=\"fill:#1f77b4;stroke:#1f77b4;\" x=\"157.072761\" xlink:href=\"#m96747f1b0f\" y=\"82.399245\"/>\n     <use style=\"fill:#1f77b4;stroke:#1f77b4;\" x=\"143.594914\" xlink:href=\"#m96747f1b0f\" y=\"65.731385\"/>\n     <use style=\"fill:#1f77b4;stroke:#1f77b4;\" x=\"180.853619\" xlink:href=\"#m96747f1b0f\" y=\"86.263027\"/>\n     <use style=\"fill:#1f77b4;stroke:#1f77b4;\" x=\"153.218269\" xlink:href=\"#m96747f1b0f\" y=\"70.261336\"/>\n     <use style=\"fill:#1f77b4;stroke:#1f77b4;\" x=\"157.733994\" xlink:href=\"#m96747f1b0f\" y=\"66.764162\"/>\n     <use style=\"fill:#1f77b4;stroke:#1f77b4;\" x=\"137.08199\" xlink:href=\"#m96747f1b0f\" y=\"65.183072\"/>\n     <use style=\"fill:#1f77b4;stroke:#1f77b4;\" x=\"148.078859\" xlink:href=\"#m96747f1b0f\" y=\"78.74989\"/>\n     <use style=\"fill:#1f77b4;stroke:#1f77b4;\" x=\"137.455691\" xlink:href=\"#m96747f1b0f\" y=\"72.968805\"/>\n     <use style=\"fill:#1f77b4;stroke:#1f77b4;\" x=\"168.530221\" xlink:href=\"#m96747f1b0f\" y=\"71.921836\"/>\n     <use style=\"fill:#1f77b4;stroke:#1f77b4;\" x=\"79.25701\" xlink:href=\"#m96747f1b0f\" y=\"41.830816\"/>\n     <use style=\"fill:#1f77b4;stroke:#1f77b4;\" x=\"143.042437\" xlink:href=\"#m96747f1b0f\" y=\"72.935229\"/>\n     <use style=\"fill:#1f77b4;stroke:#1f77b4;\" x=\"120.942679\" xlink:href=\"#m96747f1b0f\" y=\"66.381333\"/>\n     <use style=\"fill:#1f77b4;stroke:#1f77b4;\" x=\"155.207086\" xlink:href=\"#m96747f1b0f\" y=\"93.356043\"/>\n     <use style=\"fill:#1f77b4;stroke:#1f77b4;\" x=\"100.927335\" xlink:href=\"#m96747f1b0f\" y=\"44.108602\"/>\n     <use style=\"fill:#1f77b4;stroke:#1f77b4;\" x=\"141.035785\" xlink:href=\"#m96747f1b0f\" y=\"79.429211\"/>\n     <use style=\"fill:#1f77b4;stroke:#1f77b4;\" x=\"202.904977\" xlink:href=\"#m96747f1b0f\" y=\"108.979083\"/>\n     <use style=\"fill:#1f77b4;stroke:#1f77b4;\" x=\"111.795334\" xlink:href=\"#m96747f1b0f\" y=\"55.707909\"/>\n     <use style=\"fill:#1f77b4;stroke:#1f77b4;\" x=\"146.438206\" xlink:href=\"#m96747f1b0f\" y=\"64.019113\"/>\n     <use style=\"fill:#1f77b4;stroke:#1f77b4;\" x=\"117.412907\" xlink:href=\"#m96747f1b0f\" y=\"56.996725\"/>\n     <use style=\"fill:#1f77b4;stroke:#1f77b4;\" x=\"156.81956\" xlink:href=\"#m96747f1b0f\" y=\"96.881985\"/>\n     <use style=\"fill:#1f77b4;stroke:#1f77b4;\" x=\"181.959271\" xlink:href=\"#m96747f1b0f\" y=\"88.026263\"/>\n     <use style=\"fill:#1f77b4;stroke:#1f77b4;\" x=\"83.913805\" xlink:href=\"#m96747f1b0f\" y=\"58.924107\"/>\n     <use style=\"fill:#1f77b4;stroke:#1f77b4;\" x=\"116.550253\" xlink:href=\"#m96747f1b0f\" y=\"57.743686\"/>\n     <use style=\"fill:#1f77b4;stroke:#1f77b4;\" x=\"113.570105\" xlink:href=\"#m96747f1b0f\" y=\"48.830626\"/>\n     <use style=\"fill:#1f77b4;stroke:#1f77b4;\" x=\"176.844367\" xlink:href=\"#m96747f1b0f\" y=\"114.550174\"/>\n     <use style=\"fill:#1f77b4;stroke:#1f77b4;\" x=\"113.760191\" xlink:href=\"#m96747f1b0f\" y=\"51.477165\"/>\n     <use style=\"fill:#1f77b4;stroke:#1f77b4;\" x=\"97.963928\" xlink:href=\"#m96747f1b0f\" y=\"61.974991\"/>\n     <use style=\"fill:#1f77b4;stroke:#1f77b4;\" x=\"159.229651\" xlink:href=\"#m96747f1b0f\" y=\"93.756852\"/>\n     <use style=\"fill:#1f77b4;stroke:#1f77b4;\" x=\"175.20379\" xlink:href=\"#m96747f1b0f\" y=\"94.876342\"/>\n     <use style=\"fill:#1f77b4;stroke:#1f77b4;\" x=\"128.811177\" xlink:href=\"#m96747f1b0f\" y=\"80.707674\"/>\n     <use style=\"fill:#1f77b4;stroke:#1f77b4;\" x=\"135.000655\" xlink:href=\"#m96747f1b0f\" y=\"78.770463\"/>\n     <use style=\"fill:#1f77b4;stroke:#1f77b4;\" x=\"156.847693\" xlink:href=\"#m96747f1b0f\" y=\"56.546435\"/>\n     <use style=\"fill:#1f77b4;stroke:#1f77b4;\" x=\"181.607466\" xlink:href=\"#m96747f1b0f\" y=\"95.624422\"/>\n     <use style=\"fill:#1f77b4;stroke:#1f77b4;\" x=\"173.370723\" xlink:href=\"#m96747f1b0f\" y=\"89.220619\"/>\n     <use style=\"fill:#1f77b4;stroke:#1f77b4;\" x=\"162.196419\" xlink:href=\"#m96747f1b0f\" y=\"94.198233\"/>\n     <use style=\"fill:#1f77b4;stroke:#1f77b4;\" x=\"114.029709\" xlink:href=\"#m96747f1b0f\" y=\"57.984994\"/>\n     <use style=\"fill:#1f77b4;stroke:#1f77b4;\" x=\"144.589855\" xlink:href=\"#m96747f1b0f\" y=\"75.537759\"/>\n     <use style=\"fill:#1f77b4;stroke:#1f77b4;\" x=\"155.132251\" xlink:href=\"#m96747f1b0f\" y=\"87.895035\"/>\n     <use style=\"fill:#1f77b4;stroke:#1f77b4;\" x=\"111.011977\" xlink:href=\"#m96747f1b0f\" y=\"60.967503\"/>\n     <use style=\"fill:#1f77b4;stroke:#1f77b4;\" x=\"128.724631\" xlink:href=\"#m96747f1b0f\" y=\"71.230683\"/>\n     <use style=\"fill:#1f77b4;stroke:#1f77b4;\" x=\"97.690764\" xlink:href=\"#m96747f1b0f\" y=\"37.750689\"/>\n     <use style=\"fill:#1f77b4;stroke:#1f77b4;\" x=\"114.805912\" xlink:href=\"#m96747f1b0f\" y=\"63.705241\"/>\n     <use style=\"fill:#1f77b4;stroke:#1f77b4;\" x=\"121.43717\" xlink:href=\"#m96747f1b0f\" y=\"83.021443\"/>\n     <use style=\"fill:#1f77b4;stroke:#1f77b4;\" x=\"137.517722\" xlink:href=\"#m96747f1b0f\" y=\"81.009722\"/>\n     <use style=\"fill:#1f77b4;stroke:#1f77b4;\" x=\"140.217102\" xlink:href=\"#m96747f1b0f\" y=\"65.950662\"/>\n     <use style=\"fill:#1f77b4;stroke:#1f77b4;\" x=\"150.397521\" xlink:href=\"#m96747f1b0f\" y=\"70.738809\"/>\n     <use style=\"fill:#1f77b4;stroke:#1f77b4;\" x=\"91.388716\" xlink:href=\"#m96747f1b0f\" y=\"58.174697\"/>\n     <use style=\"fill:#1f77b4;stroke:#1f77b4;\" x=\"150.372381\" xlink:href=\"#m96747f1b0f\" y=\"86.306849\"/>\n     <use style=\"fill:#1f77b4;stroke:#1f77b4;\" x=\"150.434244\" xlink:href=\"#m96747f1b0f\" y=\"78.332696\"/>\n     <use style=\"fill:#1f77b4;stroke:#1f77b4;\" x=\"122.917734\" xlink:href=\"#m96747f1b0f\" y=\"67.048531\"/>\n     <use style=\"fill:#1f77b4;stroke:#1f77b4;\" x=\"178.781923\" xlink:href=\"#m96747f1b0f\" y=\"85.202482\"/>\n     <use style=\"fill:#1f77b4;stroke:#1f77b4;\" x=\"115.209503\" xlink:href=\"#m96747f1b0f\" y=\"46.084637\"/>\n     <use style=\"fill:#1f77b4;stroke:#1f77b4;\" x=\"111.714671\" xlink:href=\"#m96747f1b0f\" y=\"62.724198\"/>\n     <use style=\"fill:#1f77b4;stroke:#1f77b4;\" x=\"130.435166\" xlink:href=\"#m96747f1b0f\" y=\"87.331843\"/>\n     <use style=\"fill:#1f77b4;stroke:#1f77b4;\" x=\"85.629012\" xlink:href=\"#m96747f1b0f\" y=\"31.672185\"/>\n     <use style=\"fill:#1f77b4;stroke:#1f77b4;\" x=\"159.732531\" xlink:href=\"#m96747f1b0f\" y=\"76.988653\"/>\n     <use style=\"fill:#1f77b4;stroke:#1f77b4;\" x=\"86.360724\" xlink:href=\"#m96747f1b0f\" y=\"35.937206\"/>\n     <use style=\"fill:#1f77b4;stroke:#1f77b4;\" x=\"168.179444\" xlink:href=\"#m96747f1b0f\" y=\"82.073487\"/>\n     <use style=\"fill:#1f77b4;stroke:#1f77b4;\" x=\"136.029415\" xlink:href=\"#m96747f1b0f\" y=\"70.079305\"/>\n     <use style=\"fill:#1f77b4;stroke:#1f77b4;\" x=\"148.065711\" xlink:href=\"#m96747f1b0f\" y=\"80.597517\"/>\n     <use style=\"fill:#1f77b4;stroke:#1f77b4;\" x=\"141.034072\" xlink:href=\"#m96747f1b0f\" y=\"71.116475\"/>\n     <use style=\"fill:#1f77b4;stroke:#1f77b4;\" x=\"161.207325\" xlink:href=\"#m96747f1b0f\" y=\"86.682349\"/>\n     <use style=\"fill:#1f77b4;stroke:#1f77b4;\" x=\"130.124637\" xlink:href=\"#m96747f1b0f\" y=\"72.801299\"/>\n     <use style=\"fill:#1f77b4;stroke:#1f77b4;\" x=\"125.38596\" xlink:href=\"#m96747f1b0f\" y=\"64.737484\"/>\n     <use style=\"fill:#1f77b4;stroke:#1f77b4;\" x=\"137.213489\" xlink:href=\"#m96747f1b0f\" y=\"87.714559\"/>\n     <use style=\"fill:#1f77b4;stroke:#1f77b4;\" x=\"87.076659\" xlink:href=\"#m96747f1b0f\" y=\"48.11354\"/>\n     <use style=\"fill:#1f77b4;stroke:#1f77b4;\" x=\"166.453522\" xlink:href=\"#m96747f1b0f\" y=\"86.621651\"/>\n     <use style=\"fill:#1f77b4;stroke:#1f77b4;\" x=\"162.997906\" xlink:href=\"#m96747f1b0f\" y=\"109.115912\"/>\n     <use style=\"fill:#1f77b4;stroke:#1f77b4;\" x=\"149.801226\" xlink:href=\"#m96747f1b0f\" y=\"79.768504\"/>\n     <use style=\"fill:#1f77b4;stroke:#1f77b4;\" x=\"165.826466\" xlink:href=\"#m96747f1b0f\" y=\"83.015291\"/>\n     <use style=\"fill:#1f77b4;stroke:#1f77b4;\" x=\"186.920709\" xlink:href=\"#m96747f1b0f\" y=\"113.553665\"/>\n     <use style=\"fill:#1f77b4;stroke:#1f77b4;\" x=\"186.367058\" xlink:href=\"#m96747f1b0f\" y=\"116.908353\"/>\n     <use style=\"fill:#1f77b4;stroke:#1f77b4;\" x=\"185.641279\" xlink:href=\"#m96747f1b0f\" y=\"89.109664\"/>\n     <use style=\"fill:#1f77b4;stroke:#1f77b4;\" x=\"178.00352\" xlink:href=\"#m96747f1b0f\" y=\"97.778157\"/>\n     <use style=\"fill:#1f77b4;stroke:#1f77b4;\" x=\"132.44375\" xlink:href=\"#m96747f1b0f\" y=\"56.689233\"/>\n     <use style=\"fill:#1f77b4;stroke:#1f77b4;\" x=\"135.869191\" xlink:href=\"#m96747f1b0f\" y=\"80.398552\"/>\n     <use style=\"fill:#1f77b4;stroke:#1f77b4;\" x=\"134.992232\" xlink:href=\"#m96747f1b0f\" y=\"63.794155\"/>\n     <use style=\"fill:#1f77b4;stroke:#1f77b4;\" x=\"162.145754\" xlink:href=\"#m96747f1b0f\" y=\"82.145422\"/>\n     <use style=\"fill:#1f77b4;stroke:#1f77b4;\" x=\"164.28051\" xlink:href=\"#m96747f1b0f\" y=\"85.736976\"/>\n     <use style=\"fill:#1f77b4;stroke:#1f77b4;\" x=\"189.359652\" xlink:href=\"#m96747f1b0f\" y=\"101.095935\"/>\n     <use style=\"fill:#1f77b4;stroke:#1f77b4;\" x=\"173.397675\" xlink:href=\"#m96747f1b0f\" y=\"78.694567\"/>\n     <use style=\"fill:#1f77b4;stroke:#1f77b4;\" x=\"102.699922\" xlink:href=\"#m96747f1b0f\" y=\"64.995971\"/>\n     <use style=\"fill:#1f77b4;stroke:#1f77b4;\" x=\"114.710269\" xlink:href=\"#m96747f1b0f\" y=\"45.014426\"/>\n     <use style=\"fill:#1f77b4;stroke:#1f77b4;\" x=\"124.719359\" xlink:href=\"#m96747f1b0f\" y=\"69.396307\"/>\n     <use style=\"fill:#1f77b4;stroke:#1f77b4;\" x=\"191.305441\" xlink:href=\"#m96747f1b0f\" y=\"100.856261\"/>\n     <use style=\"fill:#1f77b4;stroke:#1f77b4;\" x=\"167.867289\" xlink:href=\"#m96747f1b0f\" y=\"73.578163\"/>\n     <use style=\"fill:#1f77b4;stroke:#1f77b4;\" x=\"136.415011\" xlink:href=\"#m96747f1b0f\" y=\"73.900771\"/>\n     <use style=\"fill:#1f77b4;stroke:#1f77b4;\" x=\"151.915655\" xlink:href=\"#m96747f1b0f\" y=\"80.33892\"/>\n     <use style=\"fill:#1f77b4;stroke:#1f77b4;\" x=\"173.706444\" xlink:href=\"#m96747f1b0f\" y=\"97.898228\"/>\n     <use style=\"fill:#1f77b4;stroke:#1f77b4;\" x=\"129.0251\" xlink:href=\"#m96747f1b0f\" y=\"80.847112\"/>\n     <use style=\"fill:#1f77b4;stroke:#1f77b4;\" x=\"119.051038\" xlink:href=\"#m96747f1b0f\" y=\"65.045402\"/>\n     <use style=\"fill:#1f77b4;stroke:#1f77b4;\" x=\"123.020706\" xlink:href=\"#m96747f1b0f\" y=\"65.804889\"/>\n     <use style=\"fill:#1f77b4;stroke:#1f77b4;\" x=\"58.00562\" xlink:href=\"#m96747f1b0f\" y=\"24.907335\"/>\n     <use style=\"fill:#1f77b4;stroke:#1f77b4;\" x=\"148.002811\" xlink:href=\"#m96747f1b0f\" y=\"75.898082\"/>\n     <use style=\"fill:#1f77b4;stroke:#1f77b4;\" x=\"196.886827\" xlink:href=\"#m96747f1b0f\" y=\"125.769543\"/>\n     <use style=\"fill:#1f77b4;stroke:#1f77b4;\" x=\"144.219344\" xlink:href=\"#m96747f1b0f\" y=\"63.031349\"/>\n     <use style=\"fill:#1f77b4;stroke:#1f77b4;\" x=\"183.939503\" xlink:href=\"#m96747f1b0f\" y=\"106.277406\"/>\n     <use style=\"fill:#1f77b4;stroke:#1f77b4;\" x=\"129.399203\" xlink:href=\"#m96747f1b0f\" y=\"73.189713\"/>\n     <use style=\"fill:#1f77b4;stroke:#1f77b4;\" x=\"163.199528\" xlink:href=\"#m96747f1b0f\" y=\"89.630178\"/>\n     <use style=\"fill:#1f77b4;stroke:#1f77b4;\" x=\"118.329551\" xlink:href=\"#m96747f1b0f\" y=\"43.36209\"/>\n     <use style=\"fill:#1f77b4;stroke:#1f77b4;\" x=\"193.968661\" xlink:href=\"#m96747f1b0f\" y=\"100.827281\"/>\n     <use style=\"fill:#1f77b4;stroke:#1f77b4;\" x=\"163.466374\" xlink:href=\"#m96747f1b0f\" y=\"84.890963\"/>\n     <use style=\"fill:#1f77b4;stroke:#1f77b4;\" x=\"143.779806\" xlink:href=\"#m96747f1b0f\" y=\"61.30896\"/>\n     <use style=\"fill:#1f77b4;stroke:#1f77b4;\" x=\"145.669027\" xlink:href=\"#m96747f1b0f\" y=\"76.373197\"/>\n     <use style=\"fill:#1f77b4;stroke:#1f77b4;\" x=\"166.905862\" xlink:href=\"#m96747f1b0f\" y=\"90.016477\"/>\n     <use style=\"fill:#1f77b4;stroke:#1f77b4;\" x=\"115.505803\" xlink:href=\"#m96747f1b0f\" y=\"63.768494\"/>\n     <use style=\"fill:#1f77b4;stroke:#1f77b4;\" x=\"102.930512\" xlink:href=\"#m96747f1b0f\" y=\"62.083759\"/>\n     <use style=\"fill:#1f77b4;stroke:#1f77b4;\" x=\"125.35717\" xlink:href=\"#m96747f1b0f\" y=\"63.583068\"/>\n     <use style=\"fill:#1f77b4;stroke:#1f77b4;\" x=\"118.961417\" xlink:href=\"#m96747f1b0f\" y=\"69.101338\"/>\n     <use style=\"fill:#1f77b4;stroke:#1f77b4;\" x=\"163.751122\" xlink:href=\"#m96747f1b0f\" y=\"87.18346\"/>\n     <use style=\"fill:#1f77b4;stroke:#1f77b4;\" x=\"143.267319\" xlink:href=\"#m96747f1b0f\" y=\"69.726311\"/>\n     <use style=\"fill:#1f77b4;stroke:#1f77b4;\" x=\"73.247322\" xlink:href=\"#m96747f1b0f\" y=\"51.030969\"/>\n     <use style=\"fill:#1f77b4;stroke:#1f77b4;\" x=\"143.785032\" xlink:href=\"#m96747f1b0f\" y=\"73.439098\"/>\n     <use style=\"fill:#1f77b4;stroke:#1f77b4;\" x=\"155.178068\" xlink:href=\"#m96747f1b0f\" y=\"87.413193\"/>\n     <use style=\"fill:#1f77b4;stroke:#1f77b4;\" x=\"130.915006\" xlink:href=\"#m96747f1b0f\" y=\"67.045448\"/>\n     <use style=\"fill:#1f77b4;stroke:#1f77b4;\" x=\"177.725644\" xlink:href=\"#m96747f1b0f\" y=\"100.027\"/>\n     <use style=\"fill:#1f77b4;stroke:#1f77b4;\" x=\"153.921751\" xlink:href=\"#m96747f1b0f\" y=\"84.940373\"/>\n     <use style=\"fill:#1f77b4;stroke:#1f77b4;\" x=\"127.307984\" xlink:href=\"#m96747f1b0f\" y=\"64.359092\"/>\n     <use style=\"fill:#1f77b4;stroke:#1f77b4;\" x=\"114.735242\" xlink:href=\"#m96747f1b0f\" y=\"67.399994\"/>\n     <use style=\"fill:#1f77b4;stroke:#1f77b4;\" x=\"173.623362\" xlink:href=\"#m96747f1b0f\" y=\"88.4294\"/>\n     <use style=\"fill:#1f77b4;stroke:#1f77b4;\" x=\"129.69999\" xlink:href=\"#m96747f1b0f\" y=\"68.551005\"/>\n     <use style=\"fill:#1f77b4;stroke:#1f77b4;\" x=\"138.04917\" xlink:href=\"#m96747f1b0f\" y=\"83.098284\"/>\n     <use style=\"fill:#1f77b4;stroke:#1f77b4;\" x=\"144.707312\" xlink:href=\"#m96747f1b0f\" y=\"72.522295\"/>\n     <use style=\"fill:#1f77b4;stroke:#1f77b4;\" x=\"86.489925\" xlink:href=\"#m96747f1b0f\" y=\"34.34292\"/>\n     <use style=\"fill:#1f77b4;stroke:#1f77b4;\" x=\"119.316813\" xlink:href=\"#m96747f1b0f\" y=\"80.293132\"/>\n     <use style=\"fill:#1f77b4;stroke:#1f77b4;\" x=\"78.892305\" xlink:href=\"#m96747f1b0f\" y=\"34.625361\"/>\n     <use style=\"fill:#1f77b4;stroke:#1f77b4;\" x=\"168.326093\" xlink:href=\"#m96747f1b0f\" y=\"81.153639\"/>\n     <use style=\"fill:#1f77b4;stroke:#1f77b4;\" x=\"92.509725\" xlink:href=\"#m96747f1b0f\" y=\"56.807804\"/>\n     <use style=\"fill:#1f77b4;stroke:#1f77b4;\" x=\"155.33954\" xlink:href=\"#m96747f1b0f\" y=\"66.744277\"/>\n     <use style=\"fill:#1f77b4;stroke:#1f77b4;\" x=\"188.824056\" xlink:href=\"#m96747f1b0f\" y=\"107.051268\"/>\n     <use style=\"fill:#1f77b4;stroke:#1f77b4;\" x=\"116.229496\" xlink:href=\"#m96747f1b0f\" y=\"65.560337\"/>\n     <use style=\"fill:#1f77b4;stroke:#1f77b4;\" x=\"181.237395\" xlink:href=\"#m96747f1b0f\" y=\"93.340427\"/>\n     <use style=\"fill:#1f77b4;stroke:#1f77b4;\" x=\"123.97363\" xlink:href=\"#m96747f1b0f\" y=\"62.736881\"/>\n     <use style=\"fill:#1f77b4;stroke:#1f77b4;\" x=\"155.634325\" xlink:href=\"#m96747f1b0f\" y=\"91.591164\"/>\n     <use style=\"fill:#1f77b4;stroke:#1f77b4;\" x=\"141.95709\" xlink:href=\"#m96747f1b0f\" y=\"58.956357\"/>\n     <use style=\"fill:#1f77b4;stroke:#1f77b4;\" x=\"148.016197\" xlink:href=\"#m96747f1b0f\" y=\"66.400986\"/>\n     <use style=\"fill:#1f77b4;stroke:#1f77b4;\" x=\"107.436459\" xlink:href=\"#m96747f1b0f\" y=\"43.473119\"/>\n     <use style=\"fill:#1f77b4;stroke:#1f77b4;\" x=\"142.886982\" xlink:href=\"#m96747f1b0f\" y=\"64.306175\"/>\n     <use style=\"fill:#1f77b4;stroke:#1f77b4;\" x=\"178.533563\" xlink:href=\"#m96747f1b0f\" y=\"82.489788\"/>\n     <use style=\"fill:#1f77b4;stroke:#1f77b4;\" x=\"191.524085\" xlink:href=\"#m96747f1b0f\" y=\"111.000635\"/>\n     <use style=\"fill:#1f77b4;stroke:#1f77b4;\" x=\"159.681091\" xlink:href=\"#m96747f1b0f\" y=\"74.018968\"/>\n     <use style=\"fill:#1f77b4;stroke:#1f77b4;\" x=\"110.564764\" xlink:href=\"#m96747f1b0f\" y=\"69.982111\"/>\n     <use style=\"fill:#1f77b4;stroke:#1f77b4;\" x=\"110.084858\" xlink:href=\"#m96747f1b0f\" y=\"43.147036\"/>\n     <use style=\"fill:#1f77b4;stroke:#1f77b4;\" x=\"173.90717\" xlink:href=\"#m96747f1b0f\" y=\"93.204435\"/>\n     <use style=\"fill:#1f77b4;stroke:#1f77b4;\" x=\"151.557358\" xlink:href=\"#m96747f1b0f\" y=\"51.822187\"/>\n     <use style=\"fill:#1f77b4;stroke:#1f77b4;\" x=\"95.285484\" xlink:href=\"#m96747f1b0f\" y=\"46.760317\"/>\n     <use style=\"fill:#1f77b4;stroke:#1f77b4;\" x=\"105.983618\" xlink:href=\"#m96747f1b0f\" y=\"54.666027\"/>\n     <use style=\"fill:#1f77b4;stroke:#1f77b4;\" x=\"153.477649\" xlink:href=\"#m96747f1b0f\" y=\"79.175268\"/>\n     <use style=\"fill:#1f77b4;stroke:#1f77b4;\" x=\"193.003611\" xlink:href=\"#m96747f1b0f\" y=\"101.477122\"/>\n     <use style=\"fill:#1f77b4;stroke:#1f77b4;\" x=\"103.26615\" xlink:href=\"#m96747f1b0f\" y=\"50.402374\"/>\n     <use style=\"fill:#1f77b4;stroke:#1f77b4;\" x=\"186.576899\" xlink:href=\"#m96747f1b0f\" y=\"93.447232\"/>\n     <use style=\"fill:#1f77b4;stroke:#1f77b4;\" x=\"160.642089\" xlink:href=\"#m96747f1b0f\" y=\"89.474139\"/>\n     <use style=\"fill:#1f77b4;stroke:#1f77b4;\" x=\"178.176043\" xlink:href=\"#m96747f1b0f\" y=\"101.666925\"/>\n     <use style=\"fill:#1f77b4;stroke:#1f77b4;\" x=\"128.910076\" xlink:href=\"#m96747f1b0f\" y=\"74.148624\"/>\n     <use style=\"fill:#1f77b4;stroke:#1f77b4;\" x=\"163.158773\" xlink:href=\"#m96747f1b0f\" y=\"73.410806\"/>\n     <use style=\"fill:#1f77b4;stroke:#1f77b4;\" x=\"140.474317\" xlink:href=\"#m96747f1b0f\" y=\"73.864884\"/>\n     <use style=\"fill:#1f77b4;stroke:#1f77b4;\" x=\"167.492207\" xlink:href=\"#m96747f1b0f\" y=\"99.839408\"/>\n     <use style=\"fill:#1f77b4;stroke:#1f77b4;\" x=\"125.076581\" xlink:href=\"#m96747f1b0f\" y=\"66.410146\"/>\n     <use style=\"fill:#1f77b4;stroke:#1f77b4;\" x=\"82.630978\" xlink:href=\"#m96747f1b0f\" y=\"49.614827\"/>\n     <use style=\"fill:#1f77b4;stroke:#1f77b4;\" x=\"195.070239\" xlink:href=\"#m96747f1b0f\" y=\"110.666052\"/>\n     <use style=\"fill:#1f77b4;stroke:#1f77b4;\" x=\"178.681509\" xlink:href=\"#m96747f1b0f\" y=\"93.20584\"/>\n     <use style=\"fill:#1f77b4;stroke:#1f77b4;\" x=\"141.559681\" xlink:href=\"#m96747f1b0f\" y=\"68.453822\"/>\n     <use style=\"fill:#1f77b4;stroke:#1f77b4;\" x=\"94.420924\" xlink:href=\"#m96747f1b0f\" y=\"55.682657\"/>\n     <use style=\"fill:#1f77b4;stroke:#1f77b4;\" x=\"149.475078\" xlink:href=\"#m96747f1b0f\" y=\"92.55541\"/>\n     <use style=\"fill:#1f77b4;stroke:#1f77b4;\" x=\"173.323141\" xlink:href=\"#m96747f1b0f\" y=\"99.212003\"/>\n     <use style=\"fill:#1f77b4;stroke:#1f77b4;\" x=\"123.07372\" xlink:href=\"#m96747f1b0f\" y=\"75.868752\"/>\n     <use style=\"fill:#1f77b4;stroke:#1f77b4;\" x=\"168.314412\" xlink:href=\"#m96747f1b0f\" y=\"100.441827\"/>\n     <use style=\"fill:#1f77b4;stroke:#1f77b4;\" x=\"87.73737\" xlink:href=\"#m96747f1b0f\" y=\"68.289351\"/>\n     <use style=\"fill:#1f77b4;stroke:#1f77b4;\" x=\"190.683354\" xlink:href=\"#m96747f1b0f\" y=\"103.922186\"/>\n     <use style=\"fill:#1f77b4;stroke:#1f77b4;\" x=\"187.060887\" xlink:href=\"#m96747f1b0f\" y=\"103.160047\"/>\n     <use style=\"fill:#1f77b4;stroke:#1f77b4;\" x=\"143.860632\" xlink:href=\"#m96747f1b0f\" y=\"59.845528\"/>\n     <use style=\"fill:#1f77b4;stroke:#1f77b4;\" x=\"118.133518\" xlink:href=\"#m96747f1b0f\" y=\"76.19369\"/>\n     <use style=\"fill:#1f77b4;stroke:#1f77b4;\" x=\"116.594648\" xlink:href=\"#m96747f1b0f\" y=\"59.991411\"/>\n     <use style=\"fill:#1f77b4;stroke:#1f77b4;\" x=\"96.97158\" xlink:href=\"#m96747f1b0f\" y=\"65.838965\"/>\n     <use style=\"fill:#1f77b4;stroke:#1f77b4;\" x=\"172.312202\" xlink:href=\"#m96747f1b0f\" y=\"82.702872\"/>\n     <use style=\"fill:#1f77b4;stroke:#1f77b4;\" x=\"108.042426\" xlink:href=\"#m96747f1b0f\" y=\"62.676212\"/>\n     <use style=\"fill:#1f77b4;stroke:#1f77b4;\" x=\"214.220287\" xlink:href=\"#m96747f1b0f\" y=\"107.09204\"/>\n     <use style=\"fill:#1f77b4;stroke:#1f77b4;\" x=\"119.340011\" xlink:href=\"#m96747f1b0f\" y=\"70.873828\"/>\n     <use style=\"fill:#1f77b4;stroke:#1f77b4;\" x=\"154.066845\" xlink:href=\"#m96747f1b0f\" y=\"78.022065\"/>\n     <use style=\"fill:#1f77b4;stroke:#1f77b4;\" x=\"159.659451\" xlink:href=\"#m96747f1b0f\" y=\"73.225086\"/>\n     <use style=\"fill:#1f77b4;stroke:#1f77b4;\" x=\"121.180401\" xlink:href=\"#m96747f1b0f\" y=\"72.131435\"/>\n     <use style=\"fill:#1f77b4;stroke:#1f77b4;\" x=\"148.96039\" xlink:href=\"#m96747f1b0f\" y=\"72.284196\"/>\n     <use style=\"fill:#1f77b4;stroke:#1f77b4;\" x=\"196.945073\" xlink:href=\"#m96747f1b0f\" y=\"90.78636\"/>\n     <use style=\"fill:#1f77b4;stroke:#1f77b4;\" x=\"145.520756\" xlink:href=\"#m96747f1b0f\" y=\"89.727696\"/>\n     <use style=\"fill:#1f77b4;stroke:#1f77b4;\" x=\"156.142871\" xlink:href=\"#m96747f1b0f\" y=\"83.741048\"/>\n     <use style=\"fill:#1f77b4;stroke:#1f77b4;\" x=\"123.280611\" xlink:href=\"#m96747f1b0f\" y=\"81.970308\"/>\n     <use style=\"fill:#1f77b4;stroke:#1f77b4;\" x=\"130.424406\" xlink:href=\"#m96747f1b0f\" y=\"65.487326\"/>\n     <use style=\"fill:#1f77b4;stroke:#1f77b4;\" x=\"129.257026\" xlink:href=\"#m96747f1b0f\" y=\"78.666469\"/>\n     <use style=\"fill:#1f77b4;stroke:#1f77b4;\" x=\"204.170602\" xlink:href=\"#m96747f1b0f\" y=\"105.256458\"/>\n     <use style=\"fill:#1f77b4;stroke:#1f77b4;\" x=\"134.545606\" xlink:href=\"#m96747f1b0f\" y=\"74.777845\"/>\n     <use style=\"fill:#1f77b4;stroke:#1f77b4;\" x=\"78.477889\" xlink:href=\"#m96747f1b0f\" y=\"27.882849\"/>\n     <use style=\"fill:#1f77b4;stroke:#1f77b4;\" x=\"142.195055\" xlink:href=\"#m96747f1b0f\" y=\"74.166457\"/>\n     <use style=\"fill:#1f77b4;stroke:#1f77b4;\" x=\"167.782647\" xlink:href=\"#m96747f1b0f\" y=\"82.339986\"/>\n     <use style=\"fill:#1f77b4;stroke:#1f77b4;\" x=\"120.394485\" xlink:href=\"#m96747f1b0f\" y=\"63.049426\"/>\n     <use style=\"fill:#1f77b4;stroke:#1f77b4;\" x=\"118.660412\" xlink:href=\"#m96747f1b0f\" y=\"69.954661\"/>\n     <use style=\"fill:#1f77b4;stroke:#1f77b4;\" x=\"112.596651\" xlink:href=\"#m96747f1b0f\" y=\"45.165608\"/>\n     <use style=\"fill:#1f77b4;stroke:#1f77b4;\" x=\"215.263164\" xlink:href=\"#m96747f1b0f\" y=\"107.049802\"/>\n     <use style=\"fill:#1f77b4;stroke:#1f77b4;\" x=\"189.244293\" xlink:href=\"#m96747f1b0f\" y=\"98.330985\"/>\n     <use style=\"fill:#1f77b4;stroke:#1f77b4;\" x=\"183.087356\" xlink:href=\"#m96747f1b0f\" y=\"90.780298\"/>\n     <use style=\"fill:#1f77b4;stroke:#1f77b4;\" x=\"191.108697\" xlink:href=\"#m96747f1b0f\" y=\"86.525955\"/>\n     <use style=\"fill:#1f77b4;stroke:#1f77b4;\" x=\"145.055113\" xlink:href=\"#m96747f1b0f\" y=\"68.668222\"/>\n     <use style=\"fill:#1f77b4;stroke:#1f77b4;\" x=\"174.82466\" xlink:href=\"#m96747f1b0f\" y=\"88.448379\"/>\n     <use style=\"fill:#1f77b4;stroke:#1f77b4;\" x=\"120.883645\" xlink:href=\"#m96747f1b0f\" y=\"83.209512\"/>\n     <use style=\"fill:#1f77b4;stroke:#1f77b4;\" x=\"172.74043\" xlink:href=\"#m96747f1b0f\" y=\"87.69745\"/>\n     <use style=\"fill:#1f77b4;stroke:#1f77b4;\" x=\"139.125207\" xlink:href=\"#m96747f1b0f\" y=\"81.280563\"/>\n     <use style=\"fill:#1f77b4;stroke:#1f77b4;\" x=\"198.561884\" xlink:href=\"#m96747f1b0f\" y=\"99.386369\"/>\n     <use style=\"fill:#1f77b4;stroke:#1f77b4;\" x=\"128.382444\" xlink:href=\"#m96747f1b0f\" y=\"59.236678\"/>\n     <use style=\"fill:#1f77b4;stroke:#1f77b4;\" x=\"114.697414\" xlink:href=\"#m96747f1b0f\" y=\"63.364066\"/>\n     <use style=\"fill:#1f77b4;stroke:#1f77b4;\" x=\"78.535016\" xlink:href=\"#m96747f1b0f\" y=\"53.58904\"/>\n     <use style=\"fill:#1f77b4;stroke:#1f77b4;\" x=\"175.158186\" xlink:href=\"#m96747f1b0f\" y=\"80.622606\"/>\n     <use style=\"fill:#1f77b4;stroke:#1f77b4;\" x=\"141.396448\" xlink:href=\"#m96747f1b0f\" y=\"83.744655\"/>\n     <use style=\"fill:#1f77b4;stroke:#1f77b4;\" x=\"121.677968\" xlink:href=\"#m96747f1b0f\" y=\"68.408753\"/>\n     <use style=\"fill:#1f77b4;stroke:#1f77b4;\" x=\"156.348275\" xlink:href=\"#m96747f1b0f\" y=\"67.311047\"/>\n     <use style=\"fill:#1f77b4;stroke:#1f77b4;\" x=\"127.318415\" xlink:href=\"#m96747f1b0f\" y=\"62.790271\"/>\n     <use style=\"fill:#1f77b4;stroke:#1f77b4;\" x=\"147.126435\" xlink:href=\"#m96747f1b0f\" y=\"81.798955\"/>\n     <use style=\"fill:#1f77b4;stroke:#1f77b4;\" x=\"67.299903\" xlink:href=\"#m96747f1b0f\" y=\"53.794578\"/>\n     <use style=\"fill:#1f77b4;stroke:#1f77b4;\" x=\"76.363571\" xlink:href=\"#m96747f1b0f\" y=\"43.066885\"/>\n     <use style=\"fill:#1f77b4;stroke:#1f77b4;\" x=\"147.099999\" xlink:href=\"#m96747f1b0f\" y=\"59.052764\"/>\n     <use style=\"fill:#1f77b4;stroke:#1f77b4;\" x=\"92.357125\" xlink:href=\"#m96747f1b0f\" y=\"54.21722\"/>\n     <use style=\"fill:#1f77b4;stroke:#1f77b4;\" x=\"142.783439\" xlink:href=\"#m96747f1b0f\" y=\"80.392533\"/>\n     <use style=\"fill:#1f77b4;stroke:#1f77b4;\" x=\"162.551388\" xlink:href=\"#m96747f1b0f\" y=\"87.27253\"/>\n     <use style=\"fill:#1f77b4;stroke:#1f77b4;\" x=\"176.267855\" xlink:href=\"#m96747f1b0f\" y=\"102.804609\"/>\n     <use style=\"fill:#1f77b4;stroke:#1f77b4;\" x=\"114.020364\" xlink:href=\"#m96747f1b0f\" y=\"55.033885\"/>\n     <use style=\"fill:#1f77b4;stroke:#1f77b4;\" x=\"101.35074\" xlink:href=\"#m96747f1b0f\" y=\"57.637616\"/>\n     <use style=\"fill:#1f77b4;stroke:#1f77b4;\" x=\"181.811377\" xlink:href=\"#m96747f1b0f\" y=\"96.280022\"/>\n     <use style=\"fill:#1f77b4;stroke:#1f77b4;\" x=\"132.153495\" xlink:href=\"#m96747f1b0f\" y=\"87.452433\"/>\n     <use style=\"fill:#1f77b4;stroke:#1f77b4;\" x=\"133.221236\" xlink:href=\"#m96747f1b0f\" y=\"76.65048\"/>\n     <use style=\"fill:#1f77b4;stroke:#1f77b4;\" x=\"95.115271\" xlink:href=\"#m96747f1b0f\" y=\"57.16133\"/>\n     <use style=\"fill:#1f77b4;stroke:#1f77b4;\" x=\"142.754562\" xlink:href=\"#m96747f1b0f\" y=\"84.241972\"/>\n     <use style=\"fill:#1f77b4;stroke:#1f77b4;\" x=\"151.012871\" xlink:href=\"#m96747f1b0f\" y=\"77.628663\"/>\n     <use style=\"fill:#1f77b4;stroke:#1f77b4;\" x=\"216.238123\" xlink:href=\"#m96747f1b0f\" y=\"115.457352\"/>\n     <use style=\"fill:#1f77b4;stroke:#1f77b4;\" x=\"164.927075\" xlink:href=\"#m96747f1b0f\" y=\"97.958458\"/>\n     <use style=\"fill:#1f77b4;stroke:#1f77b4;\" x=\"137.645534\" xlink:href=\"#m96747f1b0f\" y=\"74.407863\"/>\n     <use style=\"fill:#1f77b4;stroke:#1f77b4;\" x=\"205.594054\" xlink:href=\"#m96747f1b0f\" y=\"123.153069\"/>\n     <use style=\"fill:#1f77b4;stroke:#1f77b4;\" x=\"120.225674\" xlink:href=\"#m96747f1b0f\" y=\"72.150184\"/>\n     <use style=\"fill:#1f77b4;stroke:#1f77b4;\" x=\"179.660694\" xlink:href=\"#m96747f1b0f\" y=\"95.398762\"/>\n     <use style=\"fill:#1f77b4;stroke:#1f77b4;\" x=\"50.664153\" xlink:href=\"#m96747f1b0f\" y=\"15.638766\"/>\n     <use style=\"fill:#1f77b4;stroke:#1f77b4;\" x=\"120.131488\" xlink:href=\"#m96747f1b0f\" y=\"53.7944\"/>\n     <use style=\"fill:#1f77b4;stroke:#1f77b4;\" x=\"114.949404\" xlink:href=\"#m96747f1b0f\" y=\"61.049516\"/>\n     <use style=\"fill:#1f77b4;stroke:#1f77b4;\" x=\"168.708253\" xlink:href=\"#m96747f1b0f\" y=\"110.946377\"/>\n     <use style=\"fill:#1f77b4;stroke:#1f77b4;\" x=\"152.837361\" xlink:href=\"#m96747f1b0f\" y=\"72.851004\"/>\n     <use style=\"fill:#1f77b4;stroke:#1f77b4;\" x=\"174.601087\" xlink:href=\"#m96747f1b0f\" y=\"99.894303\"/>\n     <use style=\"fill:#1f77b4;stroke:#1f77b4;\" x=\"114.572112\" xlink:href=\"#m96747f1b0f\" y=\"64.621575\"/>\n     <use style=\"fill:#1f77b4;stroke:#1f77b4;\" x=\"197.826012\" xlink:href=\"#m96747f1b0f\" y=\"98.765659\"/>\n     <use style=\"fill:#1f77b4;stroke:#1f77b4;\" x=\"122.711823\" xlink:href=\"#m96747f1b0f\" y=\"70.366195\"/>\n     <use style=\"fill:#1f77b4;stroke:#1f77b4;\" x=\"203.61885\" xlink:href=\"#m96747f1b0f\" y=\"106.838333\"/>\n     <use style=\"fill:#1f77b4;stroke:#1f77b4;\" x=\"135.705581\" xlink:href=\"#m96747f1b0f\" y=\"84.836952\"/>\n     <use style=\"fill:#1f77b4;stroke:#1f77b4;\" x=\"93.560051\" xlink:href=\"#m96747f1b0f\" y=\"42.014463\"/>\n     <use style=\"fill:#1f77b4;stroke:#1f77b4;\" x=\"206.094132\" xlink:href=\"#m96747f1b0f\" y=\"113.165323\"/>\n     <use style=\"fill:#1f77b4;stroke:#1f77b4;\" x=\"140.250839\" xlink:href=\"#m96747f1b0f\" y=\"71.85321\"/>\n     <use style=\"fill:#1f77b4;stroke:#1f77b4;\" x=\"166.553299\" xlink:href=\"#m96747f1b0f\" y=\"76.152788\"/>\n     <use style=\"fill:#1f77b4;stroke:#1f77b4;\" x=\"140.14322\" xlink:href=\"#m96747f1b0f\" y=\"76.807079\"/>\n     <use style=\"fill:#1f77b4;stroke:#1f77b4;\" x=\"150.507471\" xlink:href=\"#m96747f1b0f\" y=\"69.019759\"/>\n     <use style=\"fill:#1f77b4;stroke:#1f77b4;\" x=\"145.735754\" xlink:href=\"#m96747f1b0f\" y=\"74.842131\"/>\n     <use style=\"fill:#1f77b4;stroke:#1f77b4;\" x=\"174.199229\" xlink:href=\"#m96747f1b0f\" y=\"81.618501\"/>\n     <use style=\"fill:#1f77b4;stroke:#1f77b4;\" x=\"85.153665\" xlink:href=\"#m96747f1b0f\" y=\"61.566841\"/>\n     <use style=\"fill:#1f77b4;stroke:#1f77b4;\" x=\"199.400282\" xlink:href=\"#m96747f1b0f\" y=\"100.308167\"/>\n     <use style=\"fill:#1f77b4;stroke:#1f77b4;\" x=\"92.549119\" xlink:href=\"#m96747f1b0f\" y=\"45.156132\"/>\n     <use style=\"fill:#1f77b4;stroke:#1f77b4;\" x=\"83.941078\" xlink:href=\"#m96747f1b0f\" y=\"41.969159\"/>\n     <use style=\"fill:#1f77b4;stroke:#1f77b4;\" x=\"165.462306\" xlink:href=\"#m96747f1b0f\" y=\"92.518418\"/>\n     <use style=\"fill:#1f77b4;stroke:#1f77b4;\" x=\"164.830909\" xlink:href=\"#m96747f1b0f\" y=\"88.218943\"/>\n     <use style=\"fill:#1f77b4;stroke:#1f77b4;\" x=\"136.83326\" xlink:href=\"#m96747f1b0f\" y=\"87.909867\"/>\n     <use style=\"fill:#1f77b4;stroke:#1f77b4;\" x=\"109.623228\" xlink:href=\"#m96747f1b0f\" y=\"58.48523\"/>\n     <use style=\"fill:#1f77b4;stroke:#1f77b4;\" x=\"149.924291\" xlink:href=\"#m96747f1b0f\" y=\"68.09286\"/>\n     <use style=\"fill:#1f77b4;stroke:#1f77b4;\" x=\"140.88887\" xlink:href=\"#m96747f1b0f\" y=\"67.992441\"/>\n     <use style=\"fill:#1f77b4;stroke:#1f77b4;\" x=\"141.586045\" xlink:href=\"#m96747f1b0f\" y=\"56.370536\"/>\n     <use style=\"fill:#1f77b4;stroke:#1f77b4;\" x=\"152.35021\" xlink:href=\"#m96747f1b0f\" y=\"81.177016\"/>\n     <use style=\"fill:#1f77b4;stroke:#1f77b4;\" x=\"153.238568\" xlink:href=\"#m96747f1b0f\" y=\"75.874316\"/>\n     <use style=\"fill:#1f77b4;stroke:#1f77b4;\" x=\"201.880346\" xlink:href=\"#m96747f1b0f\" y=\"107.156242\"/>\n     <use style=\"fill:#1f77b4;stroke:#1f77b4;\" x=\"164.912826\" xlink:href=\"#m96747f1b0f\" y=\"89.593825\"/>\n     <use style=\"fill:#1f77b4;stroke:#1f77b4;\" x=\"164.242055\" xlink:href=\"#m96747f1b0f\" y=\"88.068641\"/>\n     <use style=\"fill:#1f77b4;stroke:#1f77b4;\" x=\"156.317129\" xlink:href=\"#m96747f1b0f\" y=\"89.012732\"/>\n     <use style=\"fill:#1f77b4;stroke:#1f77b4;\" x=\"151.562039\" xlink:href=\"#m96747f1b0f\" y=\"84.354002\"/>\n     <use style=\"fill:#1f77b4;stroke:#1f77b4;\" x=\"135.885511\" xlink:href=\"#m96747f1b0f\" y=\"78.622282\"/>\n     <use style=\"fill:#1f77b4;stroke:#1f77b4;\" x=\"162.13424\" xlink:href=\"#m96747f1b0f\" y=\"85.652381\"/>\n     <use style=\"fill:#1f77b4;stroke:#1f77b4;\" x=\"124.724757\" xlink:href=\"#m96747f1b0f\" y=\"64.643863\"/>\n     <use style=\"fill:#1f77b4;stroke:#1f77b4;\" x=\"120.365414\" xlink:href=\"#m96747f1b0f\" y=\"62.329192\"/>\n     <use style=\"fill:#1f77b4;stroke:#1f77b4;\" x=\"190.031274\" xlink:href=\"#m96747f1b0f\" y=\"102.732285\"/>\n     <use style=\"fill:#1f77b4;stroke:#1f77b4;\" x=\"132.239718\" xlink:href=\"#m96747f1b0f\" y=\"76.586162\"/>\n     <use style=\"fill:#1f77b4;stroke:#1f77b4;\" x=\"173.049045\" xlink:href=\"#m96747f1b0f\" y=\"96.33668\"/>\n     <use style=\"fill:#1f77b4;stroke:#1f77b4;\" x=\"207.18014\" xlink:href=\"#m96747f1b0f\" y=\"118.746415\"/>\n     <use style=\"fill:#1f77b4;stroke:#1f77b4;\" x=\"161.04842\" xlink:href=\"#m96747f1b0f\" y=\"82.261211\"/>\n     <use style=\"fill:#1f77b4;stroke:#1f77b4;\" x=\"106.541803\" xlink:href=\"#m96747f1b0f\" y=\"49.534008\"/>\n     <use style=\"fill:#1f77b4;stroke:#1f77b4;\" x=\"136.195549\" xlink:href=\"#m96747f1b0f\" y=\"54.407972\"/>\n     <use style=\"fill:#1f77b4;stroke:#1f77b4;\" x=\"169.556969\" xlink:href=\"#m96747f1b0f\" y=\"102.179958\"/>\n     <use style=\"fill:#1f77b4;stroke:#1f77b4;\" x=\"99.500516\" xlink:href=\"#m96747f1b0f\" y=\"58.08687\"/>\n     <use style=\"fill:#1f77b4;stroke:#1f77b4;\" x=\"134.444786\" xlink:href=\"#m96747f1b0f\" y=\"67.75312\"/>\n     <use style=\"fill:#1f77b4;stroke:#1f77b4;\" x=\"142.97026\" xlink:href=\"#m96747f1b0f\" y=\"79.04417\"/>\n     <use style=\"fill:#1f77b4;stroke:#1f77b4;\" x=\"165.247584\" xlink:href=\"#m96747f1b0f\" y=\"81.178953\"/>\n     <use style=\"fill:#1f77b4;stroke:#1f77b4;\" x=\"173.25954\" xlink:href=\"#m96747f1b0f\" y=\"83.912826\"/>\n     <use style=\"fill:#1f77b4;stroke:#1f77b4;\" x=\"82.737157\" xlink:href=\"#m96747f1b0f\" y=\"47.317516\"/>\n     <use style=\"fill:#1f77b4;stroke:#1f77b4;\" x=\"136.606045\" xlink:href=\"#m96747f1b0f\" y=\"66.836793\"/>\n     <use style=\"fill:#1f77b4;stroke:#1f77b4;\" x=\"154.090072\" xlink:href=\"#m96747f1b0f\" y=\"54.664815\"/>\n     <use style=\"fill:#1f77b4;stroke:#1f77b4;\" x=\"156.676173\" xlink:href=\"#m96747f1b0f\" y=\"76.529432\"/>\n     <use style=\"fill:#1f77b4;stroke:#1f77b4;\" x=\"157.119556\" xlink:href=\"#m96747f1b0f\" y=\"72.910029\"/>\n     <use style=\"fill:#1f77b4;stroke:#1f77b4;\" x=\"83.706358\" xlink:href=\"#m96747f1b0f\" y=\"43.395565\"/>\n     <use style=\"fill:#1f77b4;stroke:#1f77b4;\" x=\"111.385539\" xlink:href=\"#m96747f1b0f\" y=\"59.47501\"/>\n     <use style=\"fill:#1f77b4;stroke:#1f77b4;\" x=\"136.031283\" xlink:href=\"#m96747f1b0f\" y=\"100.504235\"/>\n     <use style=\"fill:#1f77b4;stroke:#1f77b4;\" x=\"167.86902\" xlink:href=\"#m96747f1b0f\" y=\"78.979699\"/>\n     <use style=\"fill:#1f77b4;stroke:#1f77b4;\" x=\"143.848736\" xlink:href=\"#m96747f1b0f\" y=\"57.655935\"/>\n     <use style=\"fill:#1f77b4;stroke:#1f77b4;\" x=\"180.68133\" xlink:href=\"#m96747f1b0f\" y=\"94.780995\"/>\n     <use style=\"fill:#1f77b4;stroke:#1f77b4;\" x=\"117.169871\" xlink:href=\"#m96747f1b0f\" y=\"59.643001\"/>\n     <use style=\"fill:#1f77b4;stroke:#1f77b4;\" x=\"129.39304\" xlink:href=\"#m96747f1b0f\" y=\"63.776355\"/>\n     <use style=\"fill:#1f77b4;stroke:#1f77b4;\" x=\"146.093906\" xlink:href=\"#m96747f1b0f\" y=\"58.691896\"/>\n     <use style=\"fill:#1f77b4;stroke:#1f77b4;\" x=\"162.42441\" xlink:href=\"#m96747f1b0f\" y=\"86.777578\"/>\n     <use style=\"fill:#1f77b4;stroke:#1f77b4;\" x=\"186.547441\" xlink:href=\"#m96747f1b0f\" y=\"102.263744\"/>\n     <use style=\"fill:#1f77b4;stroke:#1f77b4;\" x=\"123.842628\" xlink:href=\"#m96747f1b0f\" y=\"73.245526\"/>\n     <use style=\"fill:#1f77b4;stroke:#1f77b4;\" x=\"144.85208\" xlink:href=\"#m96747f1b0f\" y=\"70.946972\"/>\n     <use style=\"fill:#1f77b4;stroke:#1f77b4;\" x=\"158.500339\" xlink:href=\"#m96747f1b0f\" y=\"88.624046\"/>\n     <use style=\"fill:#1f77b4;stroke:#1f77b4;\" x=\"115.755867\" xlink:href=\"#m96747f1b0f\" y=\"44.316216\"/>\n     <use style=\"fill:#1f77b4;stroke:#1f77b4;\" x=\"136.759951\" xlink:href=\"#m96747f1b0f\" y=\"70.486887\"/>\n     <use style=\"fill:#1f77b4;stroke:#1f77b4;\" x=\"116.103745\" xlink:href=\"#m96747f1b0f\" y=\"64.50424\"/>\n     <use style=\"fill:#1f77b4;stroke:#1f77b4;\" x=\"147.883128\" xlink:href=\"#m96747f1b0f\" y=\"76.989515\"/>\n     <use style=\"fill:#1f77b4;stroke:#1f77b4;\" x=\"133.566328\" xlink:href=\"#m96747f1b0f\" y=\"77.902382\"/>\n     <use style=\"fill:#1f77b4;stroke:#1f77b4;\" x=\"147.633779\" xlink:href=\"#m96747f1b0f\" y=\"75.874024\"/>\n     <use style=\"fill:#1f77b4;stroke:#1f77b4;\" x=\"204.535501\" xlink:href=\"#m96747f1b0f\" y=\"103.876638\"/>\n     <use style=\"fill:#1f77b4;stroke:#1f77b4;\" x=\"206.577478\" xlink:href=\"#m96747f1b0f\" y=\"108.624203\"/>\n     <use style=\"fill:#1f77b4;stroke:#1f77b4;\" x=\"140.915096\" xlink:href=\"#m96747f1b0f\" y=\"77.814359\"/>\n     <use style=\"fill:#1f77b4;stroke:#1f77b4;\" x=\"183.78848\" xlink:href=\"#m96747f1b0f\" y=\"93.76447\"/>\n     <use style=\"fill:#1f77b4;stroke:#1f77b4;\" x=\"137.831883\" xlink:href=\"#m96747f1b0f\" y=\"70.423585\"/>\n     <use style=\"fill:#1f77b4;stroke:#1f77b4;\" x=\"184.640833\" xlink:href=\"#m96747f1b0f\" y=\"92.944826\"/>\n     <use style=\"fill:#1f77b4;stroke:#1f77b4;\" x=\"137.379541\" xlink:href=\"#m96747f1b0f\" y=\"72.968014\"/>\n     <use style=\"fill:#1f77b4;stroke:#1f77b4;\" x=\"114.300699\" xlink:href=\"#m96747f1b0f\" y=\"59.81886\"/>\n     <use style=\"fill:#1f77b4;stroke:#1f77b4;\" x=\"91.405785\" xlink:href=\"#m96747f1b0f\" y=\"50.747824\"/>\n     <use style=\"fill:#1f77b4;stroke:#1f77b4;\" x=\"122.682232\" xlink:href=\"#m96747f1b0f\" y=\"67.198829\"/>\n     <use style=\"fill:#1f77b4;stroke:#1f77b4;\" x=\"165.027136\" xlink:href=\"#m96747f1b0f\" y=\"94.530595\"/>\n     <use style=\"fill:#1f77b4;stroke:#1f77b4;\" x=\"129.665458\" xlink:href=\"#m96747f1b0f\" y=\"80.666997\"/>\n     <use style=\"fill:#1f77b4;stroke:#1f77b4;\" x=\"147.427417\" xlink:href=\"#m96747f1b0f\" y=\"89.97711\"/>\n     <use style=\"fill:#1f77b4;stroke:#1f77b4;\" x=\"130.680616\" xlink:href=\"#m96747f1b0f\" y=\"62.996578\"/>\n     <use style=\"fill:#1f77b4;stroke:#1f77b4;\" x=\"152.785125\" xlink:href=\"#m96747f1b0f\" y=\"80.61467\"/>\n     <use style=\"fill:#1f77b4;stroke:#1f77b4;\" x=\"115.887617\" xlink:href=\"#m96747f1b0f\" y=\"69.132911\"/>\n     <use style=\"fill:#1f77b4;stroke:#1f77b4;\" x=\"185.186698\" xlink:href=\"#m96747f1b0f\" y=\"100.701379\"/>\n     <use style=\"fill:#1f77b4;stroke:#1f77b4;\" x=\"131.391842\" xlink:href=\"#m96747f1b0f\" y=\"63.691326\"/>\n     <use style=\"fill:#1f77b4;stroke:#1f77b4;\" x=\"150.83521\" xlink:href=\"#m96747f1b0f\" y=\"69.537454\"/>\n     <use style=\"fill:#1f77b4;stroke:#1f77b4;\" x=\"184.68058\" xlink:href=\"#m96747f1b0f\" y=\"113.134039\"/>\n     <use style=\"fill:#1f77b4;stroke:#1f77b4;\" x=\"148.935199\" xlink:href=\"#m96747f1b0f\" y=\"75.332671\"/>\n     <use style=\"fill:#1f77b4;stroke:#1f77b4;\" x=\"153.759263\" xlink:href=\"#m96747f1b0f\" y=\"79.189325\"/>\n     <use style=\"fill:#1f77b4;stroke:#1f77b4;\" x=\"200.149911\" xlink:href=\"#m96747f1b0f\" y=\"101.335766\"/>\n     <use style=\"fill:#1f77b4;stroke:#1f77b4;\" x=\"164.881401\" xlink:href=\"#m96747f1b0f\" y=\"100.421691\"/>\n     <use style=\"fill:#1f77b4;stroke:#1f77b4;\" x=\"157.329172\" xlink:href=\"#m96747f1b0f\" y=\"85.478411\"/>\n     <use style=\"fill:#1f77b4;stroke:#1f77b4;\" x=\"135.541639\" xlink:href=\"#m96747f1b0f\" y=\"91.903077\"/>\n     <use style=\"fill:#1f77b4;stroke:#1f77b4;\" x=\"150.58976\" xlink:href=\"#m96747f1b0f\" y=\"86.242047\"/>\n     <use style=\"fill:#1f77b4;stroke:#1f77b4;\" x=\"175.343858\" xlink:href=\"#m96747f1b0f\" y=\"82.911103\"/>\n     <use style=\"fill:#1f77b4;stroke:#1f77b4;\" x=\"118.025863\" xlink:href=\"#m96747f1b0f\" y=\"75.559451\"/>\n     <use style=\"fill:#1f77b4;stroke:#1f77b4;\" x=\"134.036541\" xlink:href=\"#m96747f1b0f\" y=\"65.464587\"/>\n     <use style=\"fill:#1f77b4;stroke:#1f77b4;\" x=\"158.026664\" xlink:href=\"#m96747f1b0f\" y=\"103.585419\"/>\n     <use style=\"fill:#1f77b4;stroke:#1f77b4;\" x=\"87.783153\" xlink:href=\"#m96747f1b0f\" y=\"37.686225\"/>\n     <use style=\"fill:#1f77b4;stroke:#1f77b4;\" x=\"74.751517\" xlink:href=\"#m96747f1b0f\" y=\"41.46421\"/>\n     <use style=\"fill:#1f77b4;stroke:#1f77b4;\" x=\"192.287284\" xlink:href=\"#m96747f1b0f\" y=\"112.376034\"/>\n     <use style=\"fill:#1f77b4;stroke:#1f77b4;\" x=\"171.900789\" xlink:href=\"#m96747f1b0f\" y=\"74.514562\"/>\n     <use style=\"fill:#1f77b4;stroke:#1f77b4;\" x=\"105.735175\" xlink:href=\"#m96747f1b0f\" y=\"59.14224\"/>\n     <use style=\"fill:#1f77b4;stroke:#1f77b4;\" x=\"162.219522\" xlink:href=\"#m96747f1b0f\" y=\"81.289593\"/>\n     <use style=\"fill:#1f77b4;stroke:#1f77b4;\" x=\"117.079256\" xlink:href=\"#m96747f1b0f\" y=\"44.34018\"/>\n     <use style=\"fill:#1f77b4;stroke:#1f77b4;\" x=\"88.285179\" xlink:href=\"#m96747f1b0f\" y=\"52.545942\"/>\n     <use style=\"fill:#1f77b4;stroke:#1f77b4;\" x=\"159.942806\" xlink:href=\"#m96747f1b0f\" y=\"88.036724\"/>\n     <use style=\"fill:#1f77b4;stroke:#1f77b4;\" x=\"194.22938\" xlink:href=\"#m96747f1b0f\" y=\"89.645776\"/>\n     <use style=\"fill:#1f77b4;stroke:#1f77b4;\" x=\"152.473342\" xlink:href=\"#m96747f1b0f\" y=\"70.715534\"/>\n     <use style=\"fill:#1f77b4;stroke:#1f77b4;\" x=\"148.398923\" xlink:href=\"#m96747f1b0f\" y=\"73.234645\"/>\n     <use style=\"fill:#1f77b4;stroke:#1f77b4;\" x=\"152.359226\" xlink:href=\"#m96747f1b0f\" y=\"74.793429\"/>\n     <use style=\"fill:#1f77b4;stroke:#1f77b4;\" x=\"136.743342\" xlink:href=\"#m96747f1b0f\" y=\"68.756067\"/>\n     <use style=\"fill:#1f77b4;stroke:#1f77b4;\" x=\"191.631019\" xlink:href=\"#m96747f1b0f\" y=\"96.662673\"/>\n     <use style=\"fill:#1f77b4;stroke:#1f77b4;\" x=\"149.994548\" xlink:href=\"#m96747f1b0f\" y=\"82.413254\"/>\n     <use style=\"fill:#1f77b4;stroke:#1f77b4;\" x=\"123.66449\" xlink:href=\"#m96747f1b0f\" y=\"70.820261\"/>\n     <use style=\"fill:#1f77b4;stroke:#1f77b4;\" x=\"108.664403\" xlink:href=\"#m96747f1b0f\" y=\"59.504534\"/>\n     <use style=\"fill:#1f77b4;stroke:#1f77b4;\" x=\"155.221846\" xlink:href=\"#m96747f1b0f\" y=\"78.187796\"/>\n     <use style=\"fill:#1f77b4;stroke:#1f77b4;\" x=\"126.18968\" xlink:href=\"#m96747f1b0f\" y=\"64.373219\"/>\n     <use style=\"fill:#1f77b4;stroke:#1f77b4;\" x=\"136.354005\" xlink:href=\"#m96747f1b0f\" y=\"74.081012\"/>\n     <use style=\"fill:#1f77b4;stroke:#1f77b4;\" x=\"122.885575\" xlink:href=\"#m96747f1b0f\" y=\"70.719712\"/>\n     <use style=\"fill:#1f77b4;stroke:#1f77b4;\" x=\"193.69096\" xlink:href=\"#m96747f1b0f\" y=\"103.406398\"/>\n     <use style=\"fill:#1f77b4;stroke:#1f77b4;\" x=\"198.768249\" xlink:href=\"#m96747f1b0f\" y=\"113.645125\"/>\n     <use style=\"fill:#1f77b4;stroke:#1f77b4;\" x=\"153.096131\" xlink:href=\"#m96747f1b0f\" y=\"79.563841\"/>\n     <use style=\"fill:#1f77b4;stroke:#1f77b4;\" x=\"163.089135\" xlink:href=\"#m96747f1b0f\" y=\"80.766273\"/>\n     <use style=\"fill:#1f77b4;stroke:#1f77b4;\" x=\"180.595533\" xlink:href=\"#m96747f1b0f\" y=\"105.41605\"/>\n     <use style=\"fill:#1f77b4;stroke:#1f77b4;\" x=\"138.142435\" xlink:href=\"#m96747f1b0f\" y=\"74.000458\"/>\n     <use style=\"fill:#1f77b4;stroke:#1f77b4;\" x=\"185.522814\" xlink:href=\"#m96747f1b0f\" y=\"108.391317\"/>\n     <use style=\"fill:#1f77b4;stroke:#1f77b4;\" x=\"149.201372\" xlink:href=\"#m96747f1b0f\" y=\"88.74244\"/>\n     <use style=\"fill:#1f77b4;stroke:#1f77b4;\" x=\"134.398687\" xlink:href=\"#m96747f1b0f\" y=\"62.152474\"/>\n     <use style=\"fill:#1f77b4;stroke:#1f77b4;\" x=\"220.821972\" xlink:href=\"#m96747f1b0f\" y=\"136.922727\"/>\n     <use style=\"fill:#1f77b4;stroke:#1f77b4;\" x=\"120.654216\" xlink:href=\"#m96747f1b0f\" y=\"53.745319\"/>\n     <use style=\"fill:#1f77b4;stroke:#1f77b4;\" x=\"153.000674\" xlink:href=\"#m96747f1b0f\" y=\"71.724838\"/>\n     <use style=\"fill:#1f77b4;stroke:#1f77b4;\" x=\"162.471696\" xlink:href=\"#m96747f1b0f\" y=\"70.543767\"/>\n     <use style=\"fill:#1f77b4;stroke:#1f77b4;\" x=\"92.994681\" xlink:href=\"#m96747f1b0f\" y=\"57.434701\"/>\n     <use style=\"fill:#1f77b4;stroke:#1f77b4;\" x=\"169.985137\" xlink:href=\"#m96747f1b0f\" y=\"86.382757\"/>\n     <use style=\"fill:#1f77b4;stroke:#1f77b4;\" x=\"149.513778\" xlink:href=\"#m96747f1b0f\" y=\"85.791509\"/>\n     <use style=\"fill:#1f77b4;stroke:#1f77b4;\" x=\"137.682057\" xlink:href=\"#m96747f1b0f\" y=\"67.733433\"/>\n     <use style=\"fill:#1f77b4;stroke:#1f77b4;\" x=\"164.046948\" xlink:href=\"#m96747f1b0f\" y=\"89.796436\"/>\n     <use style=\"fill:#1f77b4;stroke:#1f77b4;\" x=\"175.066242\" xlink:href=\"#m96747f1b0f\" y=\"102.134086\"/>\n     <use style=\"fill:#1f77b4;stroke:#1f77b4;\" x=\"86.416187\" xlink:href=\"#m96747f1b0f\" y=\"38.470858\"/>\n     <use style=\"fill:#1f77b4;stroke:#1f77b4;\" x=\"165.37466\" xlink:href=\"#m96747f1b0f\" y=\"81.494261\"/>\n     <use style=\"fill:#1f77b4;stroke:#1f77b4;\" x=\"187.080557\" xlink:href=\"#m96747f1b0f\" y=\"97.651914\"/>\n     <use style=\"fill:#1f77b4;stroke:#1f77b4;\" x=\"118.012749\" xlink:href=\"#m96747f1b0f\" y=\"75.427345\"/>\n     <use style=\"fill:#1f77b4;stroke:#1f77b4;\" x=\"125.232409\" xlink:href=\"#m96747f1b0f\" y=\"53.779034\"/>\n     <use style=\"fill:#1f77b4;stroke:#1f77b4;\" x=\"127.27282\" xlink:href=\"#m96747f1b0f\" y=\"62.543082\"/>\n     <use style=\"fill:#1f77b4;stroke:#1f77b4;\" x=\"126.373019\" xlink:href=\"#m96747f1b0f\" y=\"64.867434\"/>\n     <use style=\"fill:#1f77b4;stroke:#1f77b4;\" x=\"148.53762\" xlink:href=\"#m96747f1b0f\" y=\"91.901921\"/>\n     <use style=\"fill:#1f77b4;stroke:#1f77b4;\" x=\"156.443278\" xlink:href=\"#m96747f1b0f\" y=\"85.964226\"/>\n     <use style=\"fill:#1f77b4;stroke:#1f77b4;\" x=\"123.461797\" xlink:href=\"#m96747f1b0f\" y=\"70.536378\"/>\n     <use style=\"fill:#1f77b4;stroke:#1f77b4;\" x=\"149.022232\" xlink:href=\"#m96747f1b0f\" y=\"82.655548\"/>\n     <use style=\"fill:#1f77b4;stroke:#1f77b4;\" x=\"162.742175\" xlink:href=\"#m96747f1b0f\" y=\"79.984223\"/>\n     <use style=\"fill:#1f77b4;stroke:#1f77b4;\" x=\"132.275384\" xlink:href=\"#m96747f1b0f\" y=\"65.397681\"/>\n     <use style=\"fill:#1f77b4;stroke:#1f77b4;\" x=\"144.24349\" xlink:href=\"#m96747f1b0f\" y=\"64.539521\"/>\n     <use style=\"fill:#1f77b4;stroke:#1f77b4;\" x=\"173.450313\" xlink:href=\"#m96747f1b0f\" y=\"91.849659\"/>\n     <use style=\"fill:#1f77b4;stroke:#1f77b4;\" x=\"89.354177\" xlink:href=\"#m96747f1b0f\" y=\"51.750403\"/>\n     <use style=\"fill:#1f77b4;stroke:#1f77b4;\" x=\"116.400048\" xlink:href=\"#m96747f1b0f\" y=\"51.590796\"/>\n     <use style=\"fill:#1f77b4;stroke:#1f77b4;\" x=\"182.321996\" xlink:href=\"#m96747f1b0f\" y=\"109.485027\"/>\n     <use style=\"fill:#1f77b4;stroke:#1f77b4;\" x=\"120.564445\" xlink:href=\"#m96747f1b0f\" y=\"59.171919\"/>\n     <use style=\"fill:#1f77b4;stroke:#1f77b4;\" x=\"151.06537\" xlink:href=\"#m96747f1b0f\" y=\"65.337622\"/>\n     <use style=\"fill:#1f77b4;stroke:#1f77b4;\" x=\"137.923332\" xlink:href=\"#m96747f1b0f\" y=\"71.293263\"/>\n     <use style=\"fill:#1f77b4;stroke:#1f77b4;\" x=\"118.727814\" xlink:href=\"#m96747f1b0f\" y=\"44.596697\"/>\n     <use style=\"fill:#1f77b4;stroke:#1f77b4;\" x=\"129.753998\" xlink:href=\"#m96747f1b0f\" y=\"87.111496\"/>\n     <use style=\"fill:#1f77b4;stroke:#1f77b4;\" x=\"195.061059\" xlink:href=\"#m96747f1b0f\" y=\"96.152488\"/>\n     <use style=\"fill:#1f77b4;stroke:#1f77b4;\" x=\"140.045591\" xlink:href=\"#m96747f1b0f\" y=\"64.481869\"/>\n     <use style=\"fill:#1f77b4;stroke:#1f77b4;\" x=\"142.325987\" xlink:href=\"#m96747f1b0f\" y=\"81.28216\"/>\n     <use style=\"fill:#1f77b4;stroke:#1f77b4;\" x=\"144.730091\" xlink:href=\"#m96747f1b0f\" y=\"81.918498\"/>\n     <use style=\"fill:#1f77b4;stroke:#1f77b4;\" x=\"129.073528\" xlink:href=\"#m96747f1b0f\" y=\"73.874518\"/>\n     <use style=\"fill:#1f77b4;stroke:#1f77b4;\" x=\"142.422622\" xlink:href=\"#m96747f1b0f\" y=\"72.80632\"/>\n     <use style=\"fill:#1f77b4;stroke:#1f77b4;\" x=\"177.270517\" xlink:href=\"#m96747f1b0f\" y=\"91.43852\"/>\n     <use style=\"fill:#1f77b4;stroke:#1f77b4;\" x=\"152.033596\" xlink:href=\"#m96747f1b0f\" y=\"95.968206\"/>\n     <use style=\"fill:#1f77b4;stroke:#1f77b4;\" x=\"119.212145\" xlink:href=\"#m96747f1b0f\" y=\"55.202897\"/>\n     <use style=\"fill:#1f77b4;stroke:#1f77b4;\" x=\"172.806294\" xlink:href=\"#m96747f1b0f\" y=\"86.24134\"/>\n     <use style=\"fill:#1f77b4;stroke:#1f77b4;\" x=\"161.890579\" xlink:href=\"#m96747f1b0f\" y=\"81.023149\"/>\n     <use style=\"fill:#1f77b4;stroke:#1f77b4;\" x=\"137.72836\" xlink:href=\"#m96747f1b0f\" y=\"72.233326\"/>\n     <use style=\"fill:#1f77b4;stroke:#1f77b4;\" x=\"107.519686\" xlink:href=\"#m96747f1b0f\" y=\"55.636124\"/>\n     <use style=\"fill:#1f77b4;stroke:#1f77b4;\" x=\"190.734261\" xlink:href=\"#m96747f1b0f\" y=\"100.869341\"/>\n     <use style=\"fill:#1f77b4;stroke:#1f77b4;\" x=\"152.069181\" xlink:href=\"#m96747f1b0f\" y=\"80.603994\"/>\n     <use style=\"fill:#1f77b4;stroke:#1f77b4;\" x=\"161.283014\" xlink:href=\"#m96747f1b0f\" y=\"82.43963\"/>\n     <use style=\"fill:#1f77b4;stroke:#1f77b4;\" x=\"168.762336\" xlink:href=\"#m96747f1b0f\" y=\"99.071956\"/>\n     <use style=\"fill:#1f77b4;stroke:#1f77b4;\" x=\"100.092682\" xlink:href=\"#m96747f1b0f\" y=\"61.72637\"/>\n     <use style=\"fill:#1f77b4;stroke:#1f77b4;\" x=\"163.839399\" xlink:href=\"#m96747f1b0f\" y=\"87.165075\"/>\n     <use style=\"fill:#1f77b4;stroke:#1f77b4;\" x=\"135.253838\" xlink:href=\"#m96747f1b0f\" y=\"51.815402\"/>\n     <use style=\"fill:#1f77b4;stroke:#1f77b4;\" x=\"111.089991\" xlink:href=\"#m96747f1b0f\" y=\"66.949158\"/>\n     <use style=\"fill:#1f77b4;stroke:#1f77b4;\" x=\"129.549701\" xlink:href=\"#m96747f1b0f\" y=\"62.813395\"/>\n     <use style=\"fill:#1f77b4;stroke:#1f77b4;\" x=\"207.292121\" xlink:href=\"#m96747f1b0f\" y=\"114.759704\"/>\n     <use style=\"fill:#1f77b4;stroke:#1f77b4;\" x=\"94.891082\" xlink:href=\"#m96747f1b0f\" y=\"54.795224\"/>\n     <use style=\"fill:#1f77b4;stroke:#1f77b4;\" x=\"140.138491\" xlink:href=\"#m96747f1b0f\" y=\"82.307944\"/>\n     <use style=\"fill:#1f77b4;stroke:#1f77b4;\" x=\"131.268201\" xlink:href=\"#m96747f1b0f\" y=\"90.589542\"/>\n     <use style=\"fill:#1f77b4;stroke:#1f77b4;\" x=\"183.008681\" xlink:href=\"#m96747f1b0f\" y=\"105.340738\"/>\n     <use style=\"fill:#1f77b4;stroke:#1f77b4;\" x=\"127.901473\" xlink:href=\"#m96747f1b0f\" y=\"59.098192\"/>\n     <use style=\"fill:#1f77b4;stroke:#1f77b4;\" x=\"167.370079\" xlink:href=\"#m96747f1b0f\" y=\"80.395302\"/>\n     <use style=\"fill:#1f77b4;stroke:#1f77b4;\" x=\"131.115658\" xlink:href=\"#m96747f1b0f\" y=\"71.136118\"/>\n     <use style=\"fill:#1f77b4;stroke:#1f77b4;\" x=\"111.13203\" xlink:href=\"#m96747f1b0f\" y=\"55.642856\"/>\n     <use style=\"fill:#1f77b4;stroke:#1f77b4;\" x=\"198.831017\" xlink:href=\"#m96747f1b0f\" y=\"115.473769\"/>\n     <use style=\"fill:#1f77b4;stroke:#1f77b4;\" x=\"204.986139\" xlink:href=\"#m96747f1b0f\" y=\"102.233018\"/>\n     <use style=\"fill:#1f77b4;stroke:#1f77b4;\" x=\"132.626472\" xlink:href=\"#m96747f1b0f\" y=\"60.305508\"/>\n     <use style=\"fill:#1f77b4;stroke:#1f77b4;\" x=\"146.423602\" xlink:href=\"#m96747f1b0f\" y=\"70.249891\"/>\n     <use style=\"fill:#1f77b4;stroke:#1f77b4;\" x=\"144.268464\" xlink:href=\"#m96747f1b0f\" y=\"61.886603\"/>\n     <use style=\"fill:#1f77b4;stroke:#1f77b4;\" x=\"152.983645\" xlink:href=\"#m96747f1b0f\" y=\"84.38943\"/>\n     <use style=\"fill:#1f77b4;stroke:#1f77b4;\" x=\"114.439735\" xlink:href=\"#m96747f1b0f\" y=\"47.346197\"/>\n     <use style=\"fill:#1f77b4;stroke:#1f77b4;\" x=\"134.850903\" xlink:href=\"#m96747f1b0f\" y=\"61.666305\"/>\n     <use style=\"fill:#1f77b4;stroke:#1f77b4;\" x=\"83.835192\" xlink:href=\"#m96747f1b0f\" y=\"33.029703\"/>\n     <use style=\"fill:#1f77b4;stroke:#1f77b4;\" x=\"115.498821\" xlink:href=\"#m96747f1b0f\" y=\"70.035641\"/>\n     <use style=\"fill:#1f77b4;stroke:#1f77b4;\" x=\"153.293036\" xlink:href=\"#m96747f1b0f\" y=\"71.199257\"/>\n     <use style=\"fill:#1f77b4;stroke:#1f77b4;\" x=\"132.485186\" xlink:href=\"#m96747f1b0f\" y=\"61.79102\"/>\n     <use style=\"fill:#1f77b4;stroke:#1f77b4;\" x=\"165.719621\" xlink:href=\"#m96747f1b0f\" y=\"87.56963\"/>\n     <use style=\"fill:#1f77b4;stroke:#1f77b4;\" x=\"125.908717\" xlink:href=\"#m96747f1b0f\" y=\"67.560789\"/>\n     <use style=\"fill:#1f77b4;stroke:#1f77b4;\" x=\"202.656273\" xlink:href=\"#m96747f1b0f\" y=\"109.022387\"/>\n     <use style=\"fill:#1f77b4;stroke:#1f77b4;\" x=\"137.231797\" xlink:href=\"#m96747f1b0f\" y=\"82.3652\"/>\n     <use style=\"fill:#1f77b4;stroke:#1f77b4;\" x=\"126.548091\" xlink:href=\"#m96747f1b0f\" y=\"64.880848\"/>\n     <use style=\"fill:#1f77b4;stroke:#1f77b4;\" x=\"124.651397\" xlink:href=\"#m96747f1b0f\" y=\"60.24189\"/>\n     <use style=\"fill:#1f77b4;stroke:#1f77b4;\" x=\"195.126706\" xlink:href=\"#m96747f1b0f\" y=\"104.400366\"/>\n     <use style=\"fill:#1f77b4;stroke:#1f77b4;\" x=\"117.240641\" xlink:href=\"#m96747f1b0f\" y=\"58.274947\"/>\n     <use style=\"fill:#1f77b4;stroke:#1f77b4;\" x=\"177.475894\" xlink:href=\"#m96747f1b0f\" y=\"79.293331\"/>\n     <use style=\"fill:#1f77b4;stroke:#1f77b4;\" x=\"168.999257\" xlink:href=\"#m96747f1b0f\" y=\"80.363151\"/>\n     <use style=\"fill:#1f77b4;stroke:#1f77b4;\" x=\"120.595079\" xlink:href=\"#m96747f1b0f\" y=\"60.251087\"/>\n     <use style=\"fill:#1f77b4;stroke:#1f77b4;\" x=\"146.574668\" xlink:href=\"#m96747f1b0f\" y=\"81.54966\"/>\n     <use style=\"fill:#1f77b4;stroke:#1f77b4;\" x=\"121.473973\" xlink:href=\"#m96747f1b0f\" y=\"79.927228\"/>\n     <use style=\"fill:#1f77b4;stroke:#1f77b4;\" x=\"151.824115\" xlink:href=\"#m96747f1b0f\" y=\"82.248056\"/>\n     <use style=\"fill:#1f77b4;stroke:#1f77b4;\" x=\"94.33191\" xlink:href=\"#m96747f1b0f\" y=\"47.378033\"/>\n     <use style=\"fill:#1f77b4;stroke:#1f77b4;\" x=\"149.917518\" xlink:href=\"#m96747f1b0f\" y=\"92.989721\"/>\n     <use style=\"fill:#1f77b4;stroke:#1f77b4;\" x=\"180.767087\" xlink:href=\"#m96747f1b0f\" y=\"97.926186\"/>\n     <use style=\"fill:#1f77b4;stroke:#1f77b4;\" x=\"113.442439\" xlink:href=\"#m96747f1b0f\" y=\"60.562636\"/>\n     <use style=\"fill:#1f77b4;stroke:#1f77b4;\" x=\"65.873411\" xlink:href=\"#m96747f1b0f\" y=\"30.449887\"/>\n     <use style=\"fill:#1f77b4;stroke:#1f77b4;\" x=\"156.170444\" xlink:href=\"#m96747f1b0f\" y=\"84.098311\"/>\n     <use style=\"fill:#1f77b4;stroke:#1f77b4;\" x=\"143.357231\" xlink:href=\"#m96747f1b0f\" y=\"74.574215\"/>\n     <use style=\"fill:#1f77b4;stroke:#1f77b4;\" x=\"117.00408\" xlink:href=\"#m96747f1b0f\" y=\"60.020242\"/>\n     <use style=\"fill:#1f77b4;stroke:#1f77b4;\" x=\"169.179175\" xlink:href=\"#m96747f1b0f\" y=\"81.674526\"/>\n     <use style=\"fill:#1f77b4;stroke:#1f77b4;\" x=\"177.31586\" xlink:href=\"#m96747f1b0f\" y=\"101.136564\"/>\n     <use style=\"fill:#1f77b4;stroke:#1f77b4;\" x=\"125.371716\" xlink:href=\"#m96747f1b0f\" y=\"68.137342\"/>\n     <use style=\"fill:#1f77b4;stroke:#1f77b4;\" x=\"203.780887\" xlink:href=\"#m96747f1b0f\" y=\"115.951672\"/>\n     <use style=\"fill:#1f77b4;stroke:#1f77b4;\" x=\"115.996981\" xlink:href=\"#m96747f1b0f\" y=\"68.111008\"/>\n     <use style=\"fill:#1f77b4;stroke:#1f77b4;\" x=\"150.251216\" xlink:href=\"#m96747f1b0f\" y=\"88.484582\"/>\n     <use style=\"fill:#1f77b4;stroke:#1f77b4;\" x=\"154.016402\" xlink:href=\"#m96747f1b0f\" y=\"74.905469\"/>\n     <use style=\"fill:#1f77b4;stroke:#1f77b4;\" x=\"151.341387\" xlink:href=\"#m96747f1b0f\" y=\"86.372072\"/>\n     <use style=\"fill:#1f77b4;stroke:#1f77b4;\" x=\"180.443813\" xlink:href=\"#m96747f1b0f\" y=\"97.897661\"/>\n     <use style=\"fill:#1f77b4;stroke:#1f77b4;\" x=\"147.251116\" xlink:href=\"#m96747f1b0f\" y=\"87.328232\"/>\n     <use style=\"fill:#1f77b4;stroke:#1f77b4;\" x=\"165.184959\" xlink:href=\"#m96747f1b0f\" y=\"92.635181\"/>\n     <use style=\"fill:#1f77b4;stroke:#1f77b4;\" x=\"149.169054\" xlink:href=\"#m96747f1b0f\" y=\"75.997098\"/>\n     <use style=\"fill:#1f77b4;stroke:#1f77b4;\" x=\"140.372102\" xlink:href=\"#m96747f1b0f\" y=\"78.198028\"/>\n     <use style=\"fill:#1f77b4;stroke:#1f77b4;\" x=\"134.135656\" xlink:href=\"#m96747f1b0f\" y=\"84.050857\"/>\n     <use style=\"fill:#1f77b4;stroke:#1f77b4;\" x=\"135.448014\" xlink:href=\"#m96747f1b0f\" y=\"70.635688\"/>\n     <use style=\"fill:#1f77b4;stroke:#1f77b4;\" x=\"132.559942\" xlink:href=\"#m96747f1b0f\" y=\"74.313038\"/>\n     <use style=\"fill:#1f77b4;stroke:#1f77b4;\" x=\"161.757699\" xlink:href=\"#m96747f1b0f\" y=\"83.127706\"/>\n     <use style=\"fill:#1f77b4;stroke:#1f77b4;\" x=\"172.308978\" xlink:href=\"#m96747f1b0f\" y=\"91.316725\"/>\n     <use style=\"fill:#1f77b4;stroke:#1f77b4;\" x=\"128.29202\" xlink:href=\"#m96747f1b0f\" y=\"60.595254\"/>\n     <use style=\"fill:#1f77b4;stroke:#1f77b4;\" x=\"71.477338\" xlink:href=\"#m96747f1b0f\" y=\"50.174623\"/>\n     <use style=\"fill:#1f77b4;stroke:#1f77b4;\" x=\"149.312114\" xlink:href=\"#m96747f1b0f\" y=\"81.283337\"/>\n     <use style=\"fill:#1f77b4;stroke:#1f77b4;\" x=\"114.371859\" xlink:href=\"#m96747f1b0f\" y=\"76.530069\"/>\n     <use style=\"fill:#1f77b4;stroke:#1f77b4;\" x=\"147.999761\" xlink:href=\"#m96747f1b0f\" y=\"75.597947\"/>\n     <use style=\"fill:#1f77b4;stroke:#1f77b4;\" x=\"137.963916\" xlink:href=\"#m96747f1b0f\" y=\"70.18182\"/>\n     <use style=\"fill:#1f77b4;stroke:#1f77b4;\" x=\"166.618229\" xlink:href=\"#m96747f1b0f\" y=\"91.238069\"/>\n     <use style=\"fill:#1f77b4;stroke:#1f77b4;\" x=\"111.692636\" xlink:href=\"#m96747f1b0f\" y=\"49.348878\"/>\n     <use style=\"fill:#1f77b4;stroke:#1f77b4;\" x=\"125.998303\" xlink:href=\"#m96747f1b0f\" y=\"57.946198\"/>\n     <use style=\"fill:#1f77b4;stroke:#1f77b4;\" x=\"99.616854\" xlink:href=\"#m96747f1b0f\" y=\"48.871492\"/>\n     <use style=\"fill:#1f77b4;stroke:#1f77b4;\" x=\"94.52272\" xlink:href=\"#m96747f1b0f\" y=\"48.642734\"/>\n     <use style=\"fill:#1f77b4;stroke:#1f77b4;\" x=\"139.230791\" xlink:href=\"#m96747f1b0f\" y=\"70.259334\"/>\n     <use style=\"fill:#1f77b4;stroke:#1f77b4;\" x=\"123.881768\" xlink:href=\"#m96747f1b0f\" y=\"52.097866\"/>\n     <use style=\"fill:#1f77b4;stroke:#1f77b4;\" x=\"190.393382\" xlink:href=\"#m96747f1b0f\" y=\"92.668571\"/>\n     <use style=\"fill:#1f77b4;stroke:#1f77b4;\" x=\"146.749966\" xlink:href=\"#m96747f1b0f\" y=\"67.836966\"/>\n     <use style=\"fill:#1f77b4;stroke:#1f77b4;\" x=\"118.215395\" xlink:href=\"#m96747f1b0f\" y=\"53.34423\"/>\n     <use style=\"fill:#1f77b4;stroke:#1f77b4;\" x=\"145.928723\" xlink:href=\"#m96747f1b0f\" y=\"74.138027\"/>\n     <use style=\"fill:#1f77b4;stroke:#1f77b4;\" x=\"141.705263\" xlink:href=\"#m96747f1b0f\" y=\"89.504909\"/>\n     <use style=\"fill:#1f77b4;stroke:#1f77b4;\" x=\"142.529557\" xlink:href=\"#m96747f1b0f\" y=\"73.9371\"/>\n     <use style=\"fill:#1f77b4;stroke:#1f77b4;\" x=\"155.649239\" xlink:href=\"#m96747f1b0f\" y=\"75.408808\"/>\n     <use style=\"fill:#1f77b4;stroke:#1f77b4;\" x=\"150.085263\" xlink:href=\"#m96747f1b0f\" y=\"84.141881\"/>\n     <use style=\"fill:#1f77b4;stroke:#1f77b4;\" x=\"140.09845\" xlink:href=\"#m96747f1b0f\" y=\"69.759307\"/>\n     <use style=\"fill:#1f77b4;stroke:#1f77b4;\" x=\"131.209891\" xlink:href=\"#m96747f1b0f\" y=\"71.139846\"/>\n     <use style=\"fill:#1f77b4;stroke:#1f77b4;\" x=\"110.600318\" xlink:href=\"#m96747f1b0f\" y=\"60.355338\"/>\n     <use style=\"fill:#1f77b4;stroke:#1f77b4;\" x=\"164.416417\" xlink:href=\"#m96747f1b0f\" y=\"83.090348\"/>\n     <use style=\"fill:#1f77b4;stroke:#1f77b4;\" x=\"96.998339\" xlink:href=\"#m96747f1b0f\" y=\"48.858279\"/>\n     <use style=\"fill:#1f77b4;stroke:#1f77b4;\" x=\"115.661744\" xlink:href=\"#m96747f1b0f\" y=\"69.49835\"/>\n     <use style=\"fill:#1f77b4;stroke:#1f77b4;\" x=\"154.36284\" xlink:href=\"#m96747f1b0f\" y=\"84.606933\"/>\n     <use style=\"fill:#1f77b4;stroke:#1f77b4;\" x=\"139.107974\" xlink:href=\"#m96747f1b0f\" y=\"74.966839\"/>\n     <use style=\"fill:#1f77b4;stroke:#1f77b4;\" x=\"167.508387\" xlink:href=\"#m96747f1b0f\" y=\"88.885487\"/>\n     <use style=\"fill:#1f77b4;stroke:#1f77b4;\" x=\"164.585513\" xlink:href=\"#m96747f1b0f\" y=\"77.027916\"/>\n     <use style=\"fill:#1f77b4;stroke:#1f77b4;\" x=\"156.036975\" xlink:href=\"#m96747f1b0f\" y=\"82.572687\"/>\n     <use style=\"fill:#1f77b4;stroke:#1f77b4;\" x=\"128.242364\" xlink:href=\"#m96747f1b0f\" y=\"70.253756\"/>\n     <use style=\"fill:#1f77b4;stroke:#1f77b4;\" x=\"149.297012\" xlink:href=\"#m96747f1b0f\" y=\"90.714052\"/>\n     <use style=\"fill:#1f77b4;stroke:#1f77b4;\" x=\"202.764432\" xlink:href=\"#m96747f1b0f\" y=\"111.746296\"/>\n     <use style=\"fill:#1f77b4;stroke:#1f77b4;\" x=\"91.392772\" xlink:href=\"#m96747f1b0f\" y=\"47.223068\"/>\n     <use style=\"fill:#1f77b4;stroke:#1f77b4;\" x=\"204.068545\" xlink:href=\"#m96747f1b0f\" y=\"109.039163\"/>\n     <use style=\"fill:#1f77b4;stroke:#1f77b4;\" x=\"159.376292\" xlink:href=\"#m96747f1b0f\" y=\"93.485007\"/>\n     <use style=\"fill:#1f77b4;stroke:#1f77b4;\" x=\"169.463288\" xlink:href=\"#m96747f1b0f\" y=\"89.528816\"/>\n     <use style=\"fill:#1f77b4;stroke:#1f77b4;\" x=\"142.895586\" xlink:href=\"#m96747f1b0f\" y=\"80.887827\"/>\n     <use style=\"fill:#1f77b4;stroke:#1f77b4;\" x=\"135.768221\" xlink:href=\"#m96747f1b0f\" y=\"89.531666\"/>\n     <use style=\"fill:#1f77b4;stroke:#1f77b4;\" x=\"118.336591\" xlink:href=\"#m96747f1b0f\" y=\"50.457318\"/>\n     <use style=\"fill:#1f77b4;stroke:#1f77b4;\" x=\"108.33519\" xlink:href=\"#m96747f1b0f\" y=\"48.948667\"/>\n     <use style=\"fill:#1f77b4;stroke:#1f77b4;\" x=\"133.621967\" xlink:href=\"#m96747f1b0f\" y=\"71.142548\"/>\n     <use style=\"fill:#1f77b4;stroke:#1f77b4;\" x=\"118.234072\" xlink:href=\"#m96747f1b0f\" y=\"49.468403\"/>\n     <use style=\"fill:#1f77b4;stroke:#1f77b4;\" x=\"157.947563\" xlink:href=\"#m96747f1b0f\" y=\"80.875815\"/>\n     <use style=\"fill:#1f77b4;stroke:#1f77b4;\" x=\"164.082209\" xlink:href=\"#m96747f1b0f\" y=\"93.207557\"/>\n     <use style=\"fill:#1f77b4;stroke:#1f77b4;\" x=\"122.268355\" xlink:href=\"#m96747f1b0f\" y=\"70.786463\"/>\n     <use style=\"fill:#1f77b4;stroke:#1f77b4;\" x=\"125.433014\" xlink:href=\"#m96747f1b0f\" y=\"67.257141\"/>\n     <use style=\"fill:#1f77b4;stroke:#1f77b4;\" x=\"103.991896\" xlink:href=\"#m96747f1b0f\" y=\"32.948968\"/>\n     <use style=\"fill:#1f77b4;stroke:#1f77b4;\" x=\"115.601578\" xlink:href=\"#m96747f1b0f\" y=\"74.472306\"/>\n     <use style=\"fill:#1f77b4;stroke:#1f77b4;\" x=\"131.803625\" xlink:href=\"#m96747f1b0f\" y=\"73.082092\"/>\n     <use style=\"fill:#1f77b4;stroke:#1f77b4;\" x=\"109.514621\" xlink:href=\"#m96747f1b0f\" y=\"53.075612\"/>\n     <use style=\"fill:#1f77b4;stroke:#1f77b4;\" x=\"142.340153\" xlink:href=\"#m96747f1b0f\" y=\"78.676554\"/>\n     <use style=\"fill:#1f77b4;stroke:#1f77b4;\" x=\"130.717483\" xlink:href=\"#m96747f1b0f\" y=\"55.982402\"/>\n     <use style=\"fill:#1f77b4;stroke:#1f77b4;\" x=\"149.617764\" xlink:href=\"#m96747f1b0f\" y=\"79.572784\"/>\n     <use style=\"fill:#1f77b4;stroke:#1f77b4;\" x=\"123.556125\" xlink:href=\"#m96747f1b0f\" y=\"63.470506\"/>\n     <use style=\"fill:#1f77b4;stroke:#1f77b4;\" x=\"98.560154\" xlink:href=\"#m96747f1b0f\" y=\"37.306734\"/>\n     <use style=\"fill:#1f77b4;stroke:#1f77b4;\" x=\"104.737043\" xlink:href=\"#m96747f1b0f\" y=\"50.004181\"/>\n     <use style=\"fill:#1f77b4;stroke:#1f77b4;\" x=\"148.829548\" xlink:href=\"#m96747f1b0f\" y=\"76.806078\"/>\n     <use style=\"fill:#1f77b4;stroke:#1f77b4;\" x=\"136.93576\" xlink:href=\"#m96747f1b0f\" y=\"62.966145\"/>\n     <use style=\"fill:#1f77b4;stroke:#1f77b4;\" x=\"117.054826\" xlink:href=\"#m96747f1b0f\" y=\"66.054933\"/>\n     <use style=\"fill:#1f77b4;stroke:#1f77b4;\" x=\"142.729989\" xlink:href=\"#m96747f1b0f\" y=\"87.228708\"/>\n     <use style=\"fill:#1f77b4;stroke:#1f77b4;\" x=\"112.12181\" xlink:href=\"#m96747f1b0f\" y=\"52.357484\"/>\n     <use style=\"fill:#1f77b4;stroke:#1f77b4;\" x=\"194.576242\" xlink:href=\"#m96747f1b0f\" y=\"93.000338\"/>\n     <use style=\"fill:#1f77b4;stroke:#1f77b4;\" x=\"206.85242\" xlink:href=\"#m96747f1b0f\" y=\"122.843349\"/>\n     <use style=\"fill:#1f77b4;stroke:#1f77b4;\" x=\"100.627357\" xlink:href=\"#m96747f1b0f\" y=\"61.710479\"/>\n     <use style=\"fill:#1f77b4;stroke:#1f77b4;\" x=\"179.931415\" xlink:href=\"#m96747f1b0f\" y=\"87.079984\"/>\n     <use style=\"fill:#1f77b4;stroke:#1f77b4;\" x=\"87.747236\" xlink:href=\"#m96747f1b0f\" y=\"39.763025\"/>\n     <use style=\"fill:#1f77b4;stroke:#1f77b4;\" x=\"171.671681\" xlink:href=\"#m96747f1b0f\" y=\"92.007836\"/>\n     <use style=\"fill:#1f77b4;stroke:#1f77b4;\" x=\"93.574146\" xlink:href=\"#m96747f1b0f\" y=\"45.538207\"/>\n     <use style=\"fill:#1f77b4;stroke:#1f77b4;\" x=\"172.816892\" xlink:href=\"#m96747f1b0f\" y=\"80.507456\"/>\n     <use style=\"fill:#1f77b4;stroke:#1f77b4;\" x=\"126.046927\" xlink:href=\"#m96747f1b0f\" y=\"74.072476\"/>\n     <use style=\"fill:#1f77b4;stroke:#1f77b4;\" x=\"111.755642\" xlink:href=\"#m96747f1b0f\" y=\"72.519533\"/>\n     <use style=\"fill:#1f77b4;stroke:#1f77b4;\" x=\"181.410344\" xlink:href=\"#m96747f1b0f\" y=\"91.987641\"/>\n     <use style=\"fill:#1f77b4;stroke:#1f77b4;\" x=\"176.812037\" xlink:href=\"#m96747f1b0f\" y=\"88.43772\"/>\n     <use style=\"fill:#1f77b4;stroke:#1f77b4;\" x=\"96.584407\" xlink:href=\"#m96747f1b0f\" y=\"47.355602\"/>\n     <use style=\"fill:#1f77b4;stroke:#1f77b4;\" x=\"125.657531\" xlink:href=\"#m96747f1b0f\" y=\"67.242519\"/>\n     <use style=\"fill:#1f77b4;stroke:#1f77b4;\" x=\"108.228949\" xlink:href=\"#m96747f1b0f\" y=\"49.815367\"/>\n     <use style=\"fill:#1f77b4;stroke:#1f77b4;\" x=\"120.058729\" xlink:href=\"#m96747f1b0f\" y=\"65.7211\"/>\n     <use style=\"fill:#1f77b4;stroke:#1f77b4;\" x=\"96.549975\" xlink:href=\"#m96747f1b0f\" y=\"45.772351\"/>\n     <use style=\"fill:#1f77b4;stroke:#1f77b4;\" x=\"111.511717\" xlink:href=\"#m96747f1b0f\" y=\"51.799622\"/>\n     <use style=\"fill:#1f77b4;stroke:#1f77b4;\" x=\"146.703293\" xlink:href=\"#m96747f1b0f\" y=\"76.054586\"/>\n     <use style=\"fill:#1f77b4;stroke:#1f77b4;\" x=\"75.931411\" xlink:href=\"#m96747f1b0f\" y=\"21.44422\"/>\n     <use style=\"fill:#1f77b4;stroke:#1f77b4;\" x=\"171.388276\" xlink:href=\"#m96747f1b0f\" y=\"109.83646\"/>\n     <use style=\"fill:#1f77b4;stroke:#1f77b4;\" x=\"96.571237\" xlink:href=\"#m96747f1b0f\" y=\"47.36171\"/>\n     <use style=\"fill:#1f77b4;stroke:#1f77b4;\" x=\"142.926274\" xlink:href=\"#m96747f1b0f\" y=\"74.454167\"/>\n     <use style=\"fill:#1f77b4;stroke:#1f77b4;\" x=\"158.151543\" xlink:href=\"#m96747f1b0f\" y=\"80.79226\"/>\n     <use style=\"fill:#1f77b4;stroke:#1f77b4;\" x=\"147.594837\" xlink:href=\"#m96747f1b0f\" y=\"77.101403\"/>\n     <use style=\"fill:#1f77b4;stroke:#1f77b4;\" x=\"130.327171\" xlink:href=\"#m96747f1b0f\" y=\"97.011951\"/>\n     <use style=\"fill:#1f77b4;stroke:#1f77b4;\" x=\"113.97522\" xlink:href=\"#m96747f1b0f\" y=\"67.611456\"/>\n     <use style=\"fill:#1f77b4;stroke:#1f77b4;\" x=\"171.071685\" xlink:href=\"#m96747f1b0f\" y=\"91.495306\"/>\n     <use style=\"fill:#1f77b4;stroke:#1f77b4;\" x=\"132.585659\" xlink:href=\"#m96747f1b0f\" y=\"75.081679\"/>\n     <use style=\"fill:#1f77b4;stroke:#1f77b4;\" x=\"131.160561\" xlink:href=\"#m96747f1b0f\" y=\"67.411003\"/>\n     <use style=\"fill:#1f77b4;stroke:#1f77b4;\" x=\"131.949835\" xlink:href=\"#m96747f1b0f\" y=\"77.54171\"/>\n     <use style=\"fill:#1f77b4;stroke:#1f77b4;\" x=\"182.832306\" xlink:href=\"#m96747f1b0f\" y=\"108.706463\"/>\n     <use style=\"fill:#1f77b4;stroke:#1f77b4;\" x=\"66.387485\" xlink:href=\"#m96747f1b0f\" y=\"46.409847\"/>\n     <use style=\"fill:#1f77b4;stroke:#1f77b4;\" x=\"159.338782\" xlink:href=\"#m96747f1b0f\" y=\"89.783734\"/>\n     <use style=\"fill:#1f77b4;stroke:#1f77b4;\" x=\"128.022399\" xlink:href=\"#m96747f1b0f\" y=\"77.401346\"/>\n     <use style=\"fill:#1f77b4;stroke:#1f77b4;\" x=\"158.370299\" xlink:href=\"#m96747f1b0f\" y=\"77.100491\"/>\n     <use style=\"fill:#1f77b4;stroke:#1f77b4;\" x=\"218.45708\" xlink:href=\"#m96747f1b0f\" y=\"106.701832\"/>\n     <use style=\"fill:#1f77b4;stroke:#1f77b4;\" x=\"166.306654\" xlink:href=\"#m96747f1b0f\" y=\"99.562674\"/>\n     <use style=\"fill:#1f77b4;stroke:#1f77b4;\" x=\"74.51006\" xlink:href=\"#m96747f1b0f\" y=\"43.665952\"/>\n     <use style=\"fill:#1f77b4;stroke:#1f77b4;\" x=\"161.877221\" xlink:href=\"#m96747f1b0f\" y=\"97.825175\"/>\n     <use style=\"fill:#1f77b4;stroke:#1f77b4;\" x=\"107.119177\" xlink:href=\"#m96747f1b0f\" y=\"37.794875\"/>\n     <use style=\"fill:#1f77b4;stroke:#1f77b4;\" x=\"151.167958\" xlink:href=\"#m96747f1b0f\" y=\"91.431296\"/>\n     <use style=\"fill:#1f77b4;stroke:#1f77b4;\" x=\"142.51338\" xlink:href=\"#m96747f1b0f\" y=\"79.702417\"/>\n     <use style=\"fill:#1f77b4;stroke:#1f77b4;\" x=\"125.456201\" xlink:href=\"#m96747f1b0f\" y=\"68.94196\"/>\n     <use style=\"fill:#1f77b4;stroke:#1f77b4;\" x=\"179.1083\" xlink:href=\"#m96747f1b0f\" y=\"72.928683\"/>\n     <use style=\"fill:#1f77b4;stroke:#1f77b4;\" x=\"134.282499\" xlink:href=\"#m96747f1b0f\" y=\"67.777601\"/>\n     <use style=\"fill:#1f77b4;stroke:#1f77b4;\" x=\"198.482105\" xlink:href=\"#m96747f1b0f\" y=\"101.163219\"/>\n     <use style=\"fill:#1f77b4;stroke:#1f77b4;\" x=\"101.265948\" xlink:href=\"#m96747f1b0f\" y=\"58.42925\"/>\n     <use style=\"fill:#1f77b4;stroke:#1f77b4;\" x=\"96.945393\" xlink:href=\"#m96747f1b0f\" y=\"50.760703\"/>\n     <use style=\"fill:#1f77b4;stroke:#1f77b4;\" x=\"129.738406\" xlink:href=\"#m96747f1b0f\" y=\"92.485479\"/>\n     <use style=\"fill:#1f77b4;stroke:#1f77b4;\" x=\"133.944012\" xlink:href=\"#m96747f1b0f\" y=\"73.025048\"/>\n     <use style=\"fill:#1f77b4;stroke:#1f77b4;\" x=\"143.589444\" xlink:href=\"#m96747f1b0f\" y=\"68.111825\"/>\n     <use style=\"fill:#1f77b4;stroke:#1f77b4;\" x=\"191.205827\" xlink:href=\"#m96747f1b0f\" y=\"93.163938\"/>\n     <use style=\"fill:#1f77b4;stroke:#1f77b4;\" x=\"116.073991\" xlink:href=\"#m96747f1b0f\" y=\"59.493594\"/>\n     <use style=\"fill:#1f77b4;stroke:#1f77b4;\" x=\"120.141417\" xlink:href=\"#m96747f1b0f\" y=\"63.247745\"/>\n     <use style=\"fill:#1f77b4;stroke:#1f77b4;\" x=\"133.913672\" xlink:href=\"#m96747f1b0f\" y=\"59.621666\"/>\n     <use style=\"fill:#1f77b4;stroke:#1f77b4;\" x=\"152.218398\" xlink:href=\"#m96747f1b0f\" y=\"114.742664\"/>\n     <use style=\"fill:#1f77b4;stroke:#1f77b4;\" x=\"134.654802\" xlink:href=\"#m96747f1b0f\" y=\"62.731413\"/>\n     <use style=\"fill:#1f77b4;stroke:#1f77b4;\" x=\"157.468449\" xlink:href=\"#m96747f1b0f\" y=\"91.251295\"/>\n     <use style=\"fill:#1f77b4;stroke:#1f77b4;\" x=\"164.119126\" xlink:href=\"#m96747f1b0f\" y=\"61.304467\"/>\n     <use style=\"fill:#1f77b4;stroke:#1f77b4;\" x=\"106.644733\" xlink:href=\"#m96747f1b0f\" y=\"59.309839\"/>\n     <use style=\"fill:#1f77b4;stroke:#1f77b4;\" x=\"192.804366\" xlink:href=\"#m96747f1b0f\" y=\"107.098386\"/>\n     <use style=\"fill:#1f77b4;stroke:#1f77b4;\" x=\"137.242129\" xlink:href=\"#m96747f1b0f\" y=\"81.078556\"/>\n     <use style=\"fill:#1f77b4;stroke:#1f77b4;\" x=\"75.650659\" xlink:href=\"#m96747f1b0f\" y=\"28.057086\"/>\n     <use style=\"fill:#1f77b4;stroke:#1f77b4;\" x=\"106.372284\" xlink:href=\"#m96747f1b0f\" y=\"56.038968\"/>\n     <use style=\"fill:#1f77b4;stroke:#1f77b4;\" x=\"162.415117\" xlink:href=\"#m96747f1b0f\" y=\"79.33614\"/>\n     <use style=\"fill:#1f77b4;stroke:#1f77b4;\" x=\"88.120732\" xlink:href=\"#m96747f1b0f\" y=\"54.528727\"/>\n     <use style=\"fill:#1f77b4;stroke:#1f77b4;\" x=\"129.211212\" xlink:href=\"#m96747f1b0f\" y=\"78.030868\"/>\n     <use style=\"fill:#1f77b4;stroke:#1f77b4;\" x=\"148.937523\" xlink:href=\"#m96747f1b0f\" y=\"77.703526\"/>\n     <use style=\"fill:#1f77b4;stroke:#1f77b4;\" x=\"117.193641\" xlink:href=\"#m96747f1b0f\" y=\"59.286815\"/>\n     <use style=\"fill:#1f77b4;stroke:#1f77b4;\" x=\"94.015278\" xlink:href=\"#m96747f1b0f\" y=\"57.834371\"/>\n     <use style=\"fill:#1f77b4;stroke:#1f77b4;\" x=\"107.88303\" xlink:href=\"#m96747f1b0f\" y=\"49.493351\"/>\n     <use style=\"fill:#1f77b4;stroke:#1f77b4;\" x=\"130.69885\" xlink:href=\"#m96747f1b0f\" y=\"74.04025\"/>\n     <use style=\"fill:#1f77b4;stroke:#1f77b4;\" x=\"186.413996\" xlink:href=\"#m96747f1b0f\" y=\"87.403216\"/>\n     <use style=\"fill:#1f77b4;stroke:#1f77b4;\" x=\"195.118443\" xlink:href=\"#m96747f1b0f\" y=\"103.085005\"/>\n     <use style=\"fill:#1f77b4;stroke:#1f77b4;\" x=\"184.577412\" xlink:href=\"#m96747f1b0f\" y=\"100.431786\"/>\n     <use style=\"fill:#1f77b4;stroke:#1f77b4;\" x=\"118.609549\" xlink:href=\"#m96747f1b0f\" y=\"63.037546\"/>\n     <use style=\"fill:#1f77b4;stroke:#1f77b4;\" x=\"111.410743\" xlink:href=\"#m96747f1b0f\" y=\"69.336155\"/>\n     <use style=\"fill:#1f77b4;stroke:#1f77b4;\" x=\"147.540458\" xlink:href=\"#m96747f1b0f\" y=\"74.016765\"/>\n     <use style=\"fill:#1f77b4;stroke:#1f77b4;\" x=\"217.315726\" xlink:href=\"#m96747f1b0f\" y=\"116.231247\"/>\n     <use style=\"fill:#1f77b4;stroke:#1f77b4;\" x=\"202.879607\" xlink:href=\"#m96747f1b0f\" y=\"94.690379\"/>\n     <use style=\"fill:#1f77b4;stroke:#1f77b4;\" x=\"146.102332\" xlink:href=\"#m96747f1b0f\" y=\"84.329585\"/>\n     <use style=\"fill:#1f77b4;stroke:#1f77b4;\" x=\"131.303501\" xlink:href=\"#m96747f1b0f\" y=\"73.861988\"/>\n     <use style=\"fill:#1f77b4;stroke:#1f77b4;\" x=\"142.897544\" xlink:href=\"#m96747f1b0f\" y=\"80.875403\"/>\n     <use style=\"fill:#1f77b4;stroke:#1f77b4;\" x=\"164.285348\" xlink:href=\"#m96747f1b0f\" y=\"91.207694\"/>\n     <use style=\"fill:#1f77b4;stroke:#1f77b4;\" x=\"210.833408\" xlink:href=\"#m96747f1b0f\" y=\"113.110943\"/>\n     <use style=\"fill:#1f77b4;stroke:#1f77b4;\" x=\"161.060597\" xlink:href=\"#m96747f1b0f\" y=\"78.795789\"/>\n     <use style=\"fill:#1f77b4;stroke:#1f77b4;\" x=\"174.575395\" xlink:href=\"#m96747f1b0f\" y=\"74.469847\"/>\n     <use style=\"fill:#1f77b4;stroke:#1f77b4;\" x=\"180.345013\" xlink:href=\"#m96747f1b0f\" y=\"91.272212\"/>\n     <use style=\"fill:#1f77b4;stroke:#1f77b4;\" x=\"139.187957\" xlink:href=\"#m96747f1b0f\" y=\"78.17147\"/>\n     <use style=\"fill:#1f77b4;stroke:#1f77b4;\" x=\"156.565402\" xlink:href=\"#m96747f1b0f\" y=\"74.897291\"/>\n     <use style=\"fill:#1f77b4;stroke:#1f77b4;\" x=\"144.475564\" xlink:href=\"#m96747f1b0f\" y=\"65.957499\"/>\n     <use style=\"fill:#1f77b4;stroke:#1f77b4;\" x=\"156.730749\" xlink:href=\"#m96747f1b0f\" y=\"87.301301\"/>\n     <use style=\"fill:#1f77b4;stroke:#1f77b4;\" x=\"217.182649\" xlink:href=\"#m96747f1b0f\" y=\"112.541113\"/>\n     <use style=\"fill:#1f77b4;stroke:#1f77b4;\" x=\"118.822482\" xlink:href=\"#m96747f1b0f\" y=\"61.404902\"/>\n     <use style=\"fill:#1f77b4;stroke:#1f77b4;\" x=\"199.933248\" xlink:href=\"#m96747f1b0f\" y=\"123.260395\"/>\n     <use style=\"fill:#1f77b4;stroke:#1f77b4;\" x=\"159.329595\" xlink:href=\"#m96747f1b0f\" y=\"99.082727\"/>\n     <use style=\"fill:#1f77b4;stroke:#1f77b4;\" x=\"116.35147\" xlink:href=\"#m96747f1b0f\" y=\"80.330385\"/>\n     <use style=\"fill:#1f77b4;stroke:#1f77b4;\" x=\"86.347547\" xlink:href=\"#m96747f1b0f\" y=\"53.910811\"/>\n     <use style=\"fill:#1f77b4;stroke:#1f77b4;\" x=\"184.959476\" xlink:href=\"#m96747f1b0f\" y=\"89.340536\"/>\n     <use style=\"fill:#1f77b4;stroke:#1f77b4;\" x=\"164.107522\" xlink:href=\"#m96747f1b0f\" y=\"100.404193\"/>\n     <use style=\"fill:#1f77b4;stroke:#1f77b4;\" x=\"153.223192\" xlink:href=\"#m96747f1b0f\" y=\"83.666042\"/>\n     <use style=\"fill:#1f77b4;stroke:#1f77b4;\" x=\"161.891705\" xlink:href=\"#m96747f1b0f\" y=\"80.217453\"/>\n     <use style=\"fill:#1f77b4;stroke:#1f77b4;\" x=\"149.707376\" xlink:href=\"#m96747f1b0f\" y=\"96.043798\"/>\n     <use style=\"fill:#1f77b4;stroke:#1f77b4;\" x=\"157.51138\" xlink:href=\"#m96747f1b0f\" y=\"88.149713\"/>\n     <use style=\"fill:#1f77b4;stroke:#1f77b4;\" x=\"147.826409\" xlink:href=\"#m96747f1b0f\" y=\"95.419258\"/>\n     <use style=\"fill:#1f77b4;stroke:#1f77b4;\" x=\"138.845355\" xlink:href=\"#m96747f1b0f\" y=\"64.095762\"/>\n     <use style=\"fill:#1f77b4;stroke:#1f77b4;\" x=\"116.824015\" xlink:href=\"#m96747f1b0f\" y=\"66.363076\"/>\n     <use style=\"fill:#1f77b4;stroke:#1f77b4;\" x=\"157.465688\" xlink:href=\"#m96747f1b0f\" y=\"82.328876\"/>\n     <use style=\"fill:#1f77b4;stroke:#1f77b4;\" x=\"139.148366\" xlink:href=\"#m96747f1b0f\" y=\"83.189624\"/>\n     <use style=\"fill:#1f77b4;stroke:#1f77b4;\" x=\"149.887387\" xlink:href=\"#m96747f1b0f\" y=\"81.014654\"/>\n     <use style=\"fill:#1f77b4;stroke:#1f77b4;\" x=\"142.367895\" xlink:href=\"#m96747f1b0f\" y=\"81.51828\"/>\n     <use style=\"fill:#1f77b4;stroke:#1f77b4;\" x=\"155.591991\" xlink:href=\"#m96747f1b0f\" y=\"67.329208\"/>\n     <use style=\"fill:#1f77b4;stroke:#1f77b4;\" x=\"117.2082\" xlink:href=\"#m96747f1b0f\" y=\"49.981621\"/>\n     <use style=\"fill:#1f77b4;stroke:#1f77b4;\" x=\"135.064066\" xlink:href=\"#m96747f1b0f\" y=\"61.621663\"/>\n     <use style=\"fill:#1f77b4;stroke:#1f77b4;\" x=\"124.73517\" xlink:href=\"#m96747f1b0f\" y=\"64.356991\"/>\n     <use style=\"fill:#1f77b4;stroke:#1f77b4;\" x=\"116.018277\" xlink:href=\"#m96747f1b0f\" y=\"69.476863\"/>\n     <use style=\"fill:#1f77b4;stroke:#1f77b4;\" x=\"135.986833\" xlink:href=\"#m96747f1b0f\" y=\"78.330162\"/>\n     <use style=\"fill:#1f77b4;stroke:#1f77b4;\" x=\"99.366324\" xlink:href=\"#m96747f1b0f\" y=\"58.896791\"/>\n     <use style=\"fill:#1f77b4;stroke:#1f77b4;\" x=\"181.771579\" xlink:href=\"#m96747f1b0f\" y=\"94.65282\"/>\n     <use style=\"fill:#1f77b4;stroke:#1f77b4;\" x=\"120.232864\" xlink:href=\"#m96747f1b0f\" y=\"61.221487\"/>\n     <use style=\"fill:#1f77b4;stroke:#1f77b4;\" x=\"114.724461\" xlink:href=\"#m96747f1b0f\" y=\"63.24772\"/>\n     <use style=\"fill:#1f77b4;stroke:#1f77b4;\" x=\"121.770204\" xlink:href=\"#m96747f1b0f\" y=\"59.062256\"/>\n     <use style=\"fill:#1f77b4;stroke:#1f77b4;\" x=\"184.166388\" xlink:href=\"#m96747f1b0f\" y=\"92.864892\"/>\n     <use style=\"fill:#1f77b4;stroke:#1f77b4;\" x=\"165.939949\" xlink:href=\"#m96747f1b0f\" y=\"85.366476\"/>\n     <use style=\"fill:#1f77b4;stroke:#1f77b4;\" x=\"156.524684\" xlink:href=\"#m96747f1b0f\" y=\"70.965148\"/>\n     <use style=\"fill:#1f77b4;stroke:#1f77b4;\" x=\"93.561247\" xlink:href=\"#m96747f1b0f\" y=\"62.298484\"/>\n     <use style=\"fill:#1f77b4;stroke:#1f77b4;\" x=\"130.283\" xlink:href=\"#m96747f1b0f\" y=\"57.527803\"/>\n     <use style=\"fill:#1f77b4;stroke:#1f77b4;\" x=\"100.556542\" xlink:href=\"#m96747f1b0f\" y=\"71.827279\"/>\n     <use style=\"fill:#1f77b4;stroke:#1f77b4;\" x=\"118.292038\" xlink:href=\"#m96747f1b0f\" y=\"56.869132\"/>\n     <use style=\"fill:#1f77b4;stroke:#1f77b4;\" x=\"110.266704\" xlink:href=\"#m96747f1b0f\" y=\"41.045648\"/>\n     <use style=\"fill:#1f77b4;stroke:#1f77b4;\" x=\"149.118185\" xlink:href=\"#m96747f1b0f\" y=\"70.591663\"/>\n     <use style=\"fill:#1f77b4;stroke:#1f77b4;\" x=\"101.82677\" xlink:href=\"#m96747f1b0f\" y=\"47.567088\"/>\n     <use style=\"fill:#1f77b4;stroke:#1f77b4;\" x=\"113.290265\" xlink:href=\"#m96747f1b0f\" y=\"63.099476\"/>\n     <use style=\"fill:#1f77b4;stroke:#1f77b4;\" x=\"156.622373\" xlink:href=\"#m96747f1b0f\" y=\"72.623447\"/>\n     <use style=\"fill:#1f77b4;stroke:#1f77b4;\" x=\"154.157328\" xlink:href=\"#m96747f1b0f\" y=\"92.392876\"/>\n     <use style=\"fill:#1f77b4;stroke:#1f77b4;\" x=\"161.682729\" xlink:href=\"#m96747f1b0f\" y=\"100.201265\"/>\n     <use style=\"fill:#1f77b4;stroke:#1f77b4;\" x=\"168.837618\" xlink:href=\"#m96747f1b0f\" y=\"98.058357\"/>\n     <use style=\"fill:#1f77b4;stroke:#1f77b4;\" x=\"183.614464\" xlink:href=\"#m96747f1b0f\" y=\"91.211963\"/>\n     <use style=\"fill:#1f77b4;stroke:#1f77b4;\" x=\"146.502433\" xlink:href=\"#m96747f1b0f\" y=\"64.299196\"/>\n     <use style=\"fill:#1f77b4;stroke:#1f77b4;\" x=\"138.452117\" xlink:href=\"#m96747f1b0f\" y=\"63.965746\"/>\n     <use style=\"fill:#1f77b4;stroke:#1f77b4;\" x=\"148.447284\" xlink:href=\"#m96747f1b0f\" y=\"70.779288\"/>\n     <use style=\"fill:#1f77b4;stroke:#1f77b4;\" x=\"93.738725\" xlink:href=\"#m96747f1b0f\" y=\"40.329031\"/>\n     <use style=\"fill:#1f77b4;stroke:#1f77b4;\" x=\"90.23736\" xlink:href=\"#m96747f1b0f\" y=\"48.124045\"/>\n     <use style=\"fill:#1f77b4;stroke:#1f77b4;\" x=\"157.522739\" xlink:href=\"#m96747f1b0f\" y=\"75.11977\"/>\n     <use style=\"fill:#1f77b4;stroke:#1f77b4;\" x=\"133.076285\" xlink:href=\"#m96747f1b0f\" y=\"69.627856\"/>\n     <use style=\"fill:#1f77b4;stroke:#1f77b4;\" x=\"169.912807\" xlink:href=\"#m96747f1b0f\" y=\"67.099147\"/>\n     <use style=\"fill:#1f77b4;stroke:#1f77b4;\" x=\"95.861695\" xlink:href=\"#m96747f1b0f\" y=\"61.633112\"/>\n     <use style=\"fill:#1f77b4;stroke:#1f77b4;\" x=\"154.508224\" xlink:href=\"#m96747f1b0f\" y=\"85.010776\"/>\n     <use style=\"fill:#1f77b4;stroke:#1f77b4;\" x=\"195.477532\" xlink:href=\"#m96747f1b0f\" y=\"110.040024\"/>\n     <use style=\"fill:#1f77b4;stroke:#1f77b4;\" x=\"191.251468\" xlink:href=\"#m96747f1b0f\" y=\"92.057305\"/>\n     <use style=\"fill:#1f77b4;stroke:#1f77b4;\" x=\"155.921678\" xlink:href=\"#m96747f1b0f\" y=\"86.133142\"/>\n     <use style=\"fill:#1f77b4;stroke:#1f77b4;\" x=\"130.218613\" xlink:href=\"#m96747f1b0f\" y=\"72.267646\"/>\n     <use style=\"fill:#1f77b4;stroke:#1f77b4;\" x=\"110.64868\" xlink:href=\"#m96747f1b0f\" y=\"51.293323\"/>\n     <use style=\"fill:#1f77b4;stroke:#1f77b4;\" x=\"106.674345\" xlink:href=\"#m96747f1b0f\" y=\"40.121536\"/>\n     <use style=\"fill:#1f77b4;stroke:#1f77b4;\" x=\"109.191633\" xlink:href=\"#m96747f1b0f\" y=\"39.092468\"/>\n     <use style=\"fill:#1f77b4;stroke:#1f77b4;\" x=\"126.061979\" xlink:href=\"#m96747f1b0f\" y=\"70.091024\"/>\n     <use style=\"fill:#1f77b4;stroke:#1f77b4;\" x=\"120.589852\" xlink:href=\"#m96747f1b0f\" y=\"92.97289\"/>\n     <use style=\"fill:#1f77b4;stroke:#1f77b4;\" x=\"145.940316\" xlink:href=\"#m96747f1b0f\" y=\"83.040652\"/>\n     <use style=\"fill:#1f77b4;stroke:#1f77b4;\" x=\"144.206731\" xlink:href=\"#m96747f1b0f\" y=\"68.270374\"/>\n     <use style=\"fill:#1f77b4;stroke:#1f77b4;\" x=\"133.008719\" xlink:href=\"#m96747f1b0f\" y=\"90.569249\"/>\n     <use style=\"fill:#1f77b4;stroke:#1f77b4;\" x=\"210.496079\" xlink:href=\"#m96747f1b0f\" y=\"109.18686\"/>\n     <use style=\"fill:#1f77b4;stroke:#1f77b4;\" x=\"132.586454\" xlink:href=\"#m96747f1b0f\" y=\"76.643192\"/>\n     <use style=\"fill:#1f77b4;stroke:#1f77b4;\" x=\"82.746891\" xlink:href=\"#m96747f1b0f\" y=\"44.361684\"/>\n     <use style=\"fill:#1f77b4;stroke:#1f77b4;\" x=\"137.5213\" xlink:href=\"#m96747f1b0f\" y=\"74.446037\"/>\n     <use style=\"fill:#1f77b4;stroke:#1f77b4;\" x=\"146.2587\" xlink:href=\"#m96747f1b0f\" y=\"90.033581\"/>\n     <use style=\"fill:#1f77b4;stroke:#1f77b4;\" x=\"130.390328\" xlink:href=\"#m96747f1b0f\" y=\"69.473676\"/>\n     <use style=\"fill:#1f77b4;stroke:#1f77b4;\" x=\"83.208675\" xlink:href=\"#m96747f1b0f\" y=\"39.860252\"/>\n     <use style=\"fill:#1f77b4;stroke:#1f77b4;\" x=\"112.654474\" xlink:href=\"#m96747f1b0f\" y=\"54.093508\"/>\n     <use style=\"fill:#1f77b4;stroke:#1f77b4;\" x=\"154.55859\" xlink:href=\"#m96747f1b0f\" y=\"82.433491\"/>\n     <use style=\"fill:#1f77b4;stroke:#1f77b4;\" x=\"151.426513\" xlink:href=\"#m96747f1b0f\" y=\"96.194226\"/>\n     <use style=\"fill:#1f77b4;stroke:#1f77b4;\" x=\"165.780952\" xlink:href=\"#m96747f1b0f\" y=\"95.787926\"/>\n     <use style=\"fill:#1f77b4;stroke:#1f77b4;\" x=\"187.58625\" xlink:href=\"#m96747f1b0f\" y=\"113.283382\"/>\n     <use style=\"fill:#1f77b4;stroke:#1f77b4;\" x=\"157.071588\" xlink:href=\"#m96747f1b0f\" y=\"86.727891\"/>\n     <use style=\"fill:#1f77b4;stroke:#1f77b4;\" x=\"166.499129\" xlink:href=\"#m96747f1b0f\" y=\"96.22171\"/>\n     <use style=\"fill:#1f77b4;stroke:#1f77b4;\" x=\"127.690717\" xlink:href=\"#m96747f1b0f\" y=\"80.134667\"/>\n     <use style=\"fill:#1f77b4;stroke:#1f77b4;\" x=\"143.484546\" xlink:href=\"#m96747f1b0f\" y=\"83.069488\"/>\n     <use style=\"fill:#1f77b4;stroke:#1f77b4;\" x=\"116.996787\" xlink:href=\"#m96747f1b0f\" y=\"59.898668\"/>\n     <use style=\"fill:#1f77b4;stroke:#1f77b4;\" x=\"148.720746\" xlink:href=\"#m96747f1b0f\" y=\"73.13313\"/>\n     <use style=\"fill:#1f77b4;stroke:#1f77b4;\" x=\"148.603056\" xlink:href=\"#m96747f1b0f\" y=\"74.297596\"/>\n     <use style=\"fill:#1f77b4;stroke:#1f77b4;\" x=\"92.157384\" xlink:href=\"#m96747f1b0f\" y=\"65.883968\"/>\n     <use style=\"fill:#1f77b4;stroke:#1f77b4;\" x=\"144.470424\" xlink:href=\"#m96747f1b0f\" y=\"47.173221\"/>\n     <use style=\"fill:#1f77b4;stroke:#1f77b4;\" x=\"99.802632\" xlink:href=\"#m96747f1b0f\" y=\"47.635936\"/>\n     <use style=\"fill:#1f77b4;stroke:#1f77b4;\" x=\"114.149933\" xlink:href=\"#m96747f1b0f\" y=\"46.527893\"/>\n     <use style=\"fill:#1f77b4;stroke:#1f77b4;\" x=\"157.605386\" xlink:href=\"#m96747f1b0f\" y=\"84.996758\"/>\n     <use style=\"fill:#1f77b4;stroke:#1f77b4;\" x=\"171.898988\" xlink:href=\"#m96747f1b0f\" y=\"93.749767\"/>\n     <use style=\"fill:#1f77b4;stroke:#1f77b4;\" x=\"134.698682\" xlink:href=\"#m96747f1b0f\" y=\"78.218989\"/>\n     <use style=\"fill:#1f77b4;stroke:#1f77b4;\" x=\"147.385514\" xlink:href=\"#m96747f1b0f\" y=\"82.441539\"/>\n     <use style=\"fill:#1f77b4;stroke:#1f77b4;\" x=\"162.398179\" xlink:href=\"#m96747f1b0f\" y=\"90.839957\"/>\n     <use style=\"fill:#1f77b4;stroke:#1f77b4;\" x=\"173.316642\" xlink:href=\"#m96747f1b0f\" y=\"82.15971\"/>\n     <use style=\"fill:#1f77b4;stroke:#1f77b4;\" x=\"141.311234\" xlink:href=\"#m96747f1b0f\" y=\"67.771172\"/>\n     <use style=\"fill:#1f77b4;stroke:#1f77b4;\" x=\"157.084607\" xlink:href=\"#m96747f1b0f\" y=\"73.572227\"/>\n     <use style=\"fill:#1f77b4;stroke:#1f77b4;\" x=\"131.521477\" xlink:href=\"#m96747f1b0f\" y=\"55.578525\"/>\n     <use style=\"fill:#1f77b4;stroke:#1f77b4;\" x=\"221.727415\" xlink:href=\"#m96747f1b0f\" y=\"118.677709\"/>\n     <use style=\"fill:#1f77b4;stroke:#1f77b4;\" x=\"141.260483\" xlink:href=\"#m96747f1b0f\" y=\"55.107305\"/>\n     <use style=\"fill:#1f77b4;stroke:#1f77b4;\" x=\"130.368581\" xlink:href=\"#m96747f1b0f\" y=\"65.203866\"/>\n     <use style=\"fill:#1f77b4;stroke:#1f77b4;\" x=\"186.978592\" xlink:href=\"#m96747f1b0f\" y=\"92.810456\"/>\n     <use style=\"fill:#1f77b4;stroke:#1f77b4;\" x=\"134.248768\" xlink:href=\"#m96747f1b0f\" y=\"86.005142\"/>\n     <use style=\"fill:#1f77b4;stroke:#1f77b4;\" x=\"197.733906\" xlink:href=\"#m96747f1b0f\" y=\"96.234693\"/>\n     <use style=\"fill:#1f77b4;stroke:#1f77b4;\" x=\"130.343353\" xlink:href=\"#m96747f1b0f\" y=\"83.857224\"/>\n     <use style=\"fill:#1f77b4;stroke:#1f77b4;\" x=\"136.557829\" xlink:href=\"#m96747f1b0f\" y=\"63.924929\"/>\n     <use style=\"fill:#1f77b4;stroke:#1f77b4;\" x=\"140.041719\" xlink:href=\"#m96747f1b0f\" y=\"87.172774\"/>\n     <use style=\"fill:#1f77b4;stroke:#1f77b4;\" x=\"138.905042\" xlink:href=\"#m96747f1b0f\" y=\"58.639881\"/>\n     <use style=\"fill:#1f77b4;stroke:#1f77b4;\" x=\"152.510037\" xlink:href=\"#m96747f1b0f\" y=\"77.197705\"/>\n     <use style=\"fill:#1f77b4;stroke:#1f77b4;\" x=\"198.880827\" xlink:href=\"#m96747f1b0f\" y=\"108.828798\"/>\n     <use style=\"fill:#1f77b4;stroke:#1f77b4;\" x=\"177.662593\" xlink:href=\"#m96747f1b0f\" y=\"102.083147\"/>\n     <use style=\"fill:#1f77b4;stroke:#1f77b4;\" x=\"100.74521\" xlink:href=\"#m96747f1b0f\" y=\"64.619574\"/>\n     <use style=\"fill:#1f77b4;stroke:#1f77b4;\" x=\"130.299611\" xlink:href=\"#m96747f1b0f\" y=\"72.019914\"/>\n     <use style=\"fill:#1f77b4;stroke:#1f77b4;\" x=\"169.617531\" xlink:href=\"#m96747f1b0f\" y=\"86.068793\"/>\n     <use style=\"fill:#1f77b4;stroke:#1f77b4;\" x=\"157.425406\" xlink:href=\"#m96747f1b0f\" y=\"89.324047\"/>\n     <use style=\"fill:#1f77b4;stroke:#1f77b4;\" x=\"100.892822\" xlink:href=\"#m96747f1b0f\" y=\"55.610539\"/>\n     <use style=\"fill:#1f77b4;stroke:#1f77b4;\" x=\"156.261302\" xlink:href=\"#m96747f1b0f\" y=\"78.363124\"/>\n     <use style=\"fill:#1f77b4;stroke:#1f77b4;\" x=\"109.505251\" xlink:href=\"#m96747f1b0f\" y=\"48.376473\"/>\n     <use style=\"fill:#1f77b4;stroke:#1f77b4;\" x=\"94.174758\" xlink:href=\"#m96747f1b0f\" y=\"53.828993\"/>\n     <use style=\"fill:#1f77b4;stroke:#1f77b4;\" x=\"171.510325\" xlink:href=\"#m96747f1b0f\" y=\"89.366174\"/>\n     <use style=\"fill:#1f77b4;stroke:#1f77b4;\" x=\"71.172519\" xlink:href=\"#m96747f1b0f\" y=\"33.584522\"/>\n     <use style=\"fill:#1f77b4;stroke:#1f77b4;\" x=\"178.057611\" xlink:href=\"#m96747f1b0f\" y=\"86.117963\"/>\n     <use style=\"fill:#1f77b4;stroke:#1f77b4;\" x=\"147.400171\" xlink:href=\"#m96747f1b0f\" y=\"84.277699\"/>\n     <use style=\"fill:#1f77b4;stroke:#1f77b4;\" x=\"206.09901\" xlink:href=\"#m96747f1b0f\" y=\"109.154209\"/>\n     <use style=\"fill:#1f77b4;stroke:#1f77b4;\" x=\"131.409026\" xlink:href=\"#m96747f1b0f\" y=\"51.093683\"/>\n     <use style=\"fill:#1f77b4;stroke:#1f77b4;\" x=\"97.575431\" xlink:href=\"#m96747f1b0f\" y=\"46.508099\"/>\n     <use style=\"fill:#1f77b4;stroke:#1f77b4;\" x=\"155.208153\" xlink:href=\"#m96747f1b0f\" y=\"85.481932\"/>\n     <use style=\"fill:#1f77b4;stroke:#1f77b4;\" x=\"129.248612\" xlink:href=\"#m96747f1b0f\" y=\"75.043219\"/>\n     <use style=\"fill:#1f77b4;stroke:#1f77b4;\" x=\"149.394547\" xlink:href=\"#m96747f1b0f\" y=\"81.776637\"/>\n     <use style=\"fill:#1f77b4;stroke:#1f77b4;\" x=\"133.410148\" xlink:href=\"#m96747f1b0f\" y=\"68.242947\"/>\n     <use style=\"fill:#1f77b4;stroke:#1f77b4;\" x=\"155.271793\" xlink:href=\"#m96747f1b0f\" y=\"76.268477\"/>\n     <use style=\"fill:#1f77b4;stroke:#1f77b4;\" x=\"157.057797\" xlink:href=\"#m96747f1b0f\" y=\"69.056994\"/>\n     <use style=\"fill:#1f77b4;stroke:#1f77b4;\" x=\"154.63172\" xlink:href=\"#m96747f1b0f\" y=\"75.238787\"/>\n     <use style=\"fill:#1f77b4;stroke:#1f77b4;\" x=\"138.099826\" xlink:href=\"#m96747f1b0f\" y=\"69.449218\"/>\n     <use style=\"fill:#1f77b4;stroke:#1f77b4;\" x=\"119.163613\" xlink:href=\"#m96747f1b0f\" y=\"65.527889\"/>\n     <use style=\"fill:#1f77b4;stroke:#1f77b4;\" x=\"145.737897\" xlink:href=\"#m96747f1b0f\" y=\"77.732236\"/>\n     <use style=\"fill:#1f77b4;stroke:#1f77b4;\" x=\"97.470826\" xlink:href=\"#m96747f1b0f\" y=\"49.39763\"/>\n     <use style=\"fill:#1f77b4;stroke:#1f77b4;\" x=\"126.22047\" xlink:href=\"#m96747f1b0f\" y=\"64.620532\"/>\n     <use style=\"fill:#1f77b4;stroke:#1f77b4;\" x=\"146.338154\" xlink:href=\"#m96747f1b0f\" y=\"69.003676\"/>\n     <use style=\"fill:#1f77b4;stroke:#1f77b4;\" x=\"71.202418\" xlink:href=\"#m96747f1b0f\" y=\"13.377273\"/>\n     <use style=\"fill:#1f77b4;stroke:#1f77b4;\" x=\"167.389947\" xlink:href=\"#m96747f1b0f\" y=\"76.178075\"/>\n     <use style=\"fill:#1f77b4;stroke:#1f77b4;\" x=\"196.112852\" xlink:href=\"#m96747f1b0f\" y=\"87.790017\"/>\n     <use style=\"fill:#1f77b4;stroke:#1f77b4;\" x=\"125.819789\" xlink:href=\"#m96747f1b0f\" y=\"65.786449\"/>\n     <use style=\"fill:#1f77b4;stroke:#1f77b4;\" x=\"181.741643\" xlink:href=\"#m96747f1b0f\" y=\"90.901773\"/>\n     <use style=\"fill:#1f77b4;stroke:#1f77b4;\" x=\"193.997782\" xlink:href=\"#m96747f1b0f\" y=\"102.749649\"/>\n     <use style=\"fill:#1f77b4;stroke:#1f77b4;\" x=\"107.308458\" xlink:href=\"#m96747f1b0f\" y=\"49.757696\"/>\n     <use style=\"fill:#1f77b4;stroke:#1f77b4;\" x=\"133.505122\" xlink:href=\"#m96747f1b0f\" y=\"71.981037\"/>\n     <use style=\"fill:#1f77b4;stroke:#1f77b4;\" x=\"154.097461\" xlink:href=\"#m96747f1b0f\" y=\"68.809627\"/>\n     <use style=\"fill:#1f77b4;stroke:#1f77b4;\" x=\"141.609909\" xlink:href=\"#m96747f1b0f\" y=\"81.150392\"/>\n     <use style=\"fill:#1f77b4;stroke:#1f77b4;\" x=\"166.86342\" xlink:href=\"#m96747f1b0f\" y=\"80.896674\"/>\n     <use style=\"fill:#1f77b4;stroke:#1f77b4;\" x=\"165.133705\" xlink:href=\"#m96747f1b0f\" y=\"93.62327\"/>\n     <use style=\"fill:#1f77b4;stroke:#1f77b4;\" x=\"108.460099\" xlink:href=\"#m96747f1b0f\" y=\"51.820908\"/>\n     <use style=\"fill:#1f77b4;stroke:#1f77b4;\" x=\"145.657833\" xlink:href=\"#m96747f1b0f\" y=\"98.587242\"/>\n     <use style=\"fill:#1f77b4;stroke:#1f77b4;\" x=\"171.79556\" xlink:href=\"#m96747f1b0f\" y=\"98.165444\"/>\n     <use style=\"fill:#1f77b4;stroke:#1f77b4;\" x=\"162.400288\" xlink:href=\"#m96747f1b0f\" y=\"80.913364\"/>\n     <use style=\"fill:#1f77b4;stroke:#1f77b4;\" x=\"108.554142\" xlink:href=\"#m96747f1b0f\" y=\"70.300581\"/>\n     <use style=\"fill:#1f77b4;stroke:#1f77b4;\" x=\"149.005506\" xlink:href=\"#m96747f1b0f\" y=\"77.996411\"/>\n     <use style=\"fill:#1f77b4;stroke:#1f77b4;\" x=\"198.676704\" xlink:href=\"#m96747f1b0f\" y=\"106.408674\"/>\n     <use style=\"fill:#1f77b4;stroke:#1f77b4;\" x=\"173.707057\" xlink:href=\"#m96747f1b0f\" y=\"87.955857\"/>\n     <use style=\"fill:#1f77b4;stroke:#1f77b4;\" x=\"105.539773\" xlink:href=\"#m96747f1b0f\" y=\"56.965361\"/>\n     <use style=\"fill:#1f77b4;stroke:#1f77b4;\" x=\"112.565016\" xlink:href=\"#m96747f1b0f\" y=\"68.551127\"/>\n     <use style=\"fill:#1f77b4;stroke:#1f77b4;\" x=\"157.33294\" xlink:href=\"#m96747f1b0f\" y=\"99.947895\"/>\n     <use style=\"fill:#1f77b4;stroke:#1f77b4;\" x=\"190.511972\" xlink:href=\"#m96747f1b0f\" y=\"118.439399\"/>\n     <use style=\"fill:#1f77b4;stroke:#1f77b4;\" x=\"108.218379\" xlink:href=\"#m96747f1b0f\" y=\"54.331074\"/>\n     <use style=\"fill:#1f77b4;stroke:#1f77b4;\" x=\"107.388728\" xlink:href=\"#m96747f1b0f\" y=\"69.207103\"/>\n     <use style=\"fill:#1f77b4;stroke:#1f77b4;\" x=\"133.760296\" xlink:href=\"#m96747f1b0f\" y=\"82.353567\"/>\n     <use style=\"fill:#1f77b4;stroke:#1f77b4;\" x=\"113.119282\" xlink:href=\"#m96747f1b0f\" y=\"68.27893\"/>\n     <use style=\"fill:#1f77b4;stroke:#1f77b4;\" x=\"164.720433\" xlink:href=\"#m96747f1b0f\" y=\"66.901351\"/>\n     <use style=\"fill:#1f77b4;stroke:#1f77b4;\" x=\"166.106112\" xlink:href=\"#m96747f1b0f\" y=\"72.081122\"/>\n     <use style=\"fill:#1f77b4;stroke:#1f77b4;\" x=\"124.485289\" xlink:href=\"#m96747f1b0f\" y=\"58.456399\"/>\n     <use style=\"fill:#1f77b4;stroke:#1f77b4;\" x=\"170.900273\" xlink:href=\"#m96747f1b0f\" y=\"87.435338\"/>\n     <use style=\"fill:#1f77b4;stroke:#1f77b4;\" x=\"116.349421\" xlink:href=\"#m96747f1b0f\" y=\"41.139516\"/>\n     <use style=\"fill:#1f77b4;stroke:#1f77b4;\" x=\"182.342135\" xlink:href=\"#m96747f1b0f\" y=\"92.687045\"/>\n     <use style=\"fill:#1f77b4;stroke:#1f77b4;\" x=\"144.722738\" xlink:href=\"#m96747f1b0f\" y=\"75.544996\"/>\n     <use style=\"fill:#1f77b4;stroke:#1f77b4;\" x=\"179.23987\" xlink:href=\"#m96747f1b0f\" y=\"88.267746\"/>\n     <use style=\"fill:#1f77b4;stroke:#1f77b4;\" x=\"134.318678\" xlink:href=\"#m96747f1b0f\" y=\"74.819557\"/>\n     <use style=\"fill:#1f77b4;stroke:#1f77b4;\" x=\"153.554883\" xlink:href=\"#m96747f1b0f\" y=\"87.03892\"/>\n     <use style=\"fill:#1f77b4;stroke:#1f77b4;\" x=\"129.28364\" xlink:href=\"#m96747f1b0f\" y=\"61.659963\"/>\n     <use style=\"fill:#1f77b4;stroke:#1f77b4;\" x=\"44.18196\" xlink:href=\"#m96747f1b0f\" y=\"14.300316\"/>\n     <use style=\"fill:#1f77b4;stroke:#1f77b4;\" x=\"142.066347\" xlink:href=\"#m96747f1b0f\" y=\"78.571278\"/>\n     <use style=\"fill:#1f77b4;stroke:#1f77b4;\" x=\"125.41681\" xlink:href=\"#m96747f1b0f\" y=\"71.039875\"/>\n     <use style=\"fill:#1f77b4;stroke:#1f77b4;\" x=\"122.553802\" xlink:href=\"#m96747f1b0f\" y=\"81.23414\"/>\n     <use style=\"fill:#1f77b4;stroke:#1f77b4;\" x=\"128.193387\" xlink:href=\"#m96747f1b0f\" y=\"52.665827\"/>\n     <use style=\"fill:#1f77b4;stroke:#1f77b4;\" x=\"103.244735\" xlink:href=\"#m96747f1b0f\" y=\"51.210076\"/>\n     <use style=\"fill:#1f77b4;stroke:#1f77b4;\" x=\"147.558007\" xlink:href=\"#m96747f1b0f\" y=\"87.666289\"/>\n     <use style=\"fill:#1f77b4;stroke:#1f77b4;\" x=\"115.723893\" xlink:href=\"#m96747f1b0f\" y=\"73.204268\"/>\n     <use style=\"fill:#1f77b4;stroke:#1f77b4;\" x=\"100.309092\" xlink:href=\"#m96747f1b0f\" y=\"55.531177\"/>\n     <use style=\"fill:#1f77b4;stroke:#1f77b4;\" x=\"149.527016\" xlink:href=\"#m96747f1b0f\" y=\"68.834814\"/>\n     <use style=\"fill:#1f77b4;stroke:#1f77b4;\" x=\"120.329648\" xlink:href=\"#m96747f1b0f\" y=\"68.696583\"/>\n     <use style=\"fill:#1f77b4;stroke:#1f77b4;\" x=\"131.126037\" xlink:href=\"#m96747f1b0f\" y=\"61.043312\"/>\n     <use style=\"fill:#1f77b4;stroke:#1f77b4;\" x=\"142.603409\" xlink:href=\"#m96747f1b0f\" y=\"78.879277\"/>\n     <use style=\"fill:#1f77b4;stroke:#1f77b4;\" x=\"97.683554\" xlink:href=\"#m96747f1b0f\" y=\"65.202037\"/>\n     <use style=\"fill:#1f77b4;stroke:#1f77b4;\" x=\"118.035742\" xlink:href=\"#m96747f1b0f\" y=\"67.735404\"/>\n     <use style=\"fill:#1f77b4;stroke:#1f77b4;\" x=\"162.745785\" xlink:href=\"#m96747f1b0f\" y=\"101.206924\"/>\n     <use style=\"fill:#1f77b4;stroke:#1f77b4;\" x=\"132.605346\" xlink:href=\"#m96747f1b0f\" y=\"75.546544\"/>\n     <use style=\"fill:#1f77b4;stroke:#1f77b4;\" x=\"195.491462\" xlink:href=\"#m96747f1b0f\" y=\"95.384165\"/>\n     <use style=\"fill:#1f77b4;stroke:#1f77b4;\" x=\"135.687367\" xlink:href=\"#m96747f1b0f\" y=\"62.393537\"/>\n     <use style=\"fill:#1f77b4;stroke:#1f77b4;\" x=\"116.53183\" xlink:href=\"#m96747f1b0f\" y=\"55.233726\"/>\n     <use style=\"fill:#1f77b4;stroke:#1f77b4;\" x=\"180.486515\" xlink:href=\"#m96747f1b0f\" y=\"87.196286\"/>\n     <use style=\"fill:#1f77b4;stroke:#1f77b4;\" x=\"142.843811\" xlink:href=\"#m96747f1b0f\" y=\"76.846886\"/>\n     <use style=\"fill:#1f77b4;stroke:#1f77b4;\" x=\"135.269868\" xlink:href=\"#m96747f1b0f\" y=\"64.248482\"/>\n     <use style=\"fill:#1f77b4;stroke:#1f77b4;\" x=\"110.186823\" xlink:href=\"#m96747f1b0f\" y=\"59.504166\"/>\n     <use style=\"fill:#1f77b4;stroke:#1f77b4;\" x=\"193.015168\" xlink:href=\"#m96747f1b0f\" y=\"96.819653\"/>\n     <use style=\"fill:#1f77b4;stroke:#1f77b4;\" x=\"130.96864\" xlink:href=\"#m96747f1b0f\" y=\"60.223905\"/>\n     <use style=\"fill:#1f77b4;stroke:#1f77b4;\" x=\"114.016657\" xlink:href=\"#m96747f1b0f\" y=\"37.304912\"/>\n     <use style=\"fill:#1f77b4;stroke:#1f77b4;\" x=\"107.220661\" xlink:href=\"#m96747f1b0f\" y=\"48.789805\"/>\n     <use style=\"fill:#1f77b4;stroke:#1f77b4;\" x=\"165.235516\" xlink:href=\"#m96747f1b0f\" y=\"78.309364\"/>\n     <use style=\"fill:#1f77b4;stroke:#1f77b4;\" x=\"140.760482\" xlink:href=\"#m96747f1b0f\" y=\"73.316417\"/>\n    </g>\n   </g>\n   <g id=\"matplotlib.axis_1\">\n    <g id=\"xtick_1\">\n     <g id=\"line2d_1\">\n      <defs>\n       <path d=\"M 0 0 \nL 0 3.5 \n\" id=\"mdc1ba96fca\" style=\"stroke:#000000;stroke-width:0.8;\"/>\n      </defs>\n      <g>\n       <use style=\"stroke:#000000;stroke-width:0.8;\" x=\"81.547698\" xlink:href=\"#mdc1ba96fca\" y=\"143.1\"/>\n      </g>\n     </g>\n     <g id=\"text_1\">\n      <!-- −2 -->\n      <defs>\n       <path d=\"M 10.59375 35.5 \nL 73.1875 35.5 \nL 73.1875 27.203125 \nL 10.59375 27.203125 \nz\n\" id=\"DejaVuSans-8722\"/>\n       <path d=\"M 19.1875 8.296875 \nL 53.609375 8.296875 \nL 53.609375 0 \nL 7.328125 0 \nL 7.328125 8.296875 \nQ 12.9375 14.109375 22.625 23.890625 \nQ 32.328125 33.6875 34.8125 36.53125 \nQ 39.546875 41.84375 41.421875 45.53125 \nQ 43.3125 49.21875 43.3125 52.78125 \nQ 43.3125 58.59375 39.234375 62.25 \nQ 35.15625 65.921875 28.609375 65.921875 \nQ 23.96875 65.921875 18.8125 64.3125 \nQ 13.671875 62.703125 7.8125 59.421875 \nL 7.8125 69.390625 \nQ 13.765625 71.78125 18.9375 73 \nQ 24.125 74.21875 28.421875 74.21875 \nQ 39.75 74.21875 46.484375 68.546875 \nQ 53.21875 62.890625 53.21875 53.421875 \nQ 53.21875 48.921875 51.53125 44.890625 \nQ 49.859375 40.875 45.40625 35.40625 \nQ 44.1875 33.984375 37.640625 27.21875 \nQ 31.109375 20.453125 19.1875 8.296875 \nz\n\" id=\"DejaVuSans-50\"/>\n      </defs>\n      <g transform=\"translate(74.176605 157.698438)scale(0.1 -0.1)\">\n       <use xlink:href=\"#DejaVuSans-8722\"/>\n       <use x=\"83.789062\" xlink:href=\"#DejaVuSans-50\"/>\n      </g>\n     </g>\n    </g>\n    <g id=\"xtick_2\">\n     <g id=\"line2d_2\">\n      <g>\n       <use style=\"stroke:#000000;stroke-width:0.8;\" x=\"143.080822\" xlink:href=\"#mdc1ba96fca\" y=\"143.1\"/>\n      </g>\n     </g>\n     <g id=\"text_2\">\n      <!-- 0 -->\n      <defs>\n       <path d=\"M 31.78125 66.40625 \nQ 24.171875 66.40625 20.328125 58.90625 \nQ 16.5 51.421875 16.5 36.375 \nQ 16.5 21.390625 20.328125 13.890625 \nQ 24.171875 6.390625 31.78125 6.390625 \nQ 39.453125 6.390625 43.28125 13.890625 \nQ 47.125 21.390625 47.125 36.375 \nQ 47.125 51.421875 43.28125 58.90625 \nQ 39.453125 66.40625 31.78125 66.40625 \nz\nM 31.78125 74.21875 \nQ 44.046875 74.21875 50.515625 64.515625 \nQ 56.984375 54.828125 56.984375 36.375 \nQ 56.984375 17.96875 50.515625 8.265625 \nQ 44.046875 -1.421875 31.78125 -1.421875 \nQ 19.53125 -1.421875 13.0625 8.265625 \nQ 6.59375 17.96875 6.59375 36.375 \nQ 6.59375 54.828125 13.0625 64.515625 \nQ 19.53125 74.21875 31.78125 74.21875 \nz\n\" id=\"DejaVuSans-48\"/>\n      </defs>\n      <g transform=\"translate(139.899572 157.698438)scale(0.1 -0.1)\">\n       <use xlink:href=\"#DejaVuSans-48\"/>\n      </g>\n     </g>\n    </g>\n    <g id=\"xtick_3\">\n     <g id=\"line2d_3\">\n      <g>\n       <use style=\"stroke:#000000;stroke-width:0.8;\" x=\"204.613945\" xlink:href=\"#mdc1ba96fca\" y=\"143.1\"/>\n      </g>\n     </g>\n     <g id=\"text_3\">\n      <!-- 2 -->\n      <g transform=\"translate(201.432695 157.698438)scale(0.1 -0.1)\">\n       <use xlink:href=\"#DejaVuSans-50\"/>\n      </g>\n     </g>\n    </g>\n   </g>\n   <g id=\"matplotlib.axis_2\">\n    <g id=\"ytick_1\">\n     <g id=\"line2d_4\">\n      <defs>\n       <path d=\"M 0 0 \nL -3.5 0 \n\" id=\"m4ca926eb7b\" style=\"stroke:#000000;stroke-width:0.8;\"/>\n      </defs>\n      <g>\n       <use style=\"stroke:#000000;stroke-width:0.8;\" x=\"35.304688\" xlink:href=\"#m4ca926eb7b\" y=\"141.760334\"/>\n      </g>\n     </g>\n     <g id=\"text_4\">\n      <!-- −10 -->\n      <defs>\n       <path d=\"M 12.40625 8.296875 \nL 28.515625 8.296875 \nL 28.515625 63.921875 \nL 10.984375 60.40625 \nL 10.984375 69.390625 \nL 28.421875 72.90625 \nL 38.28125 72.90625 \nL 38.28125 8.296875 \nL 54.390625 8.296875 \nL 54.390625 0 \nL 12.40625 0 \nz\n\" id=\"DejaVuSans-49\"/>\n      </defs>\n      <g transform=\"translate(7.2 145.559553)scale(0.1 -0.1)\">\n       <use xlink:href=\"#DejaVuSans-8722\"/>\n       <use x=\"83.789062\" xlink:href=\"#DejaVuSans-49\"/>\n       <use x=\"147.412109\" xlink:href=\"#DejaVuSans-48\"/>\n      </g>\n     </g>\n    </g>\n    <g id=\"ytick_2\">\n     <g id=\"line2d_5\">\n      <g>\n       <use style=\"stroke:#000000;stroke-width:0.8;\" x=\"35.304688\" xlink:href=\"#m4ca926eb7b\" y=\"118.403013\"/>\n      </g>\n     </g>\n     <g id=\"text_5\">\n      <!-- −5 -->\n      <defs>\n       <path d=\"M 10.796875 72.90625 \nL 49.515625 72.90625 \nL 49.515625 64.59375 \nL 19.828125 64.59375 \nL 19.828125 46.734375 \nQ 21.96875 47.46875 24.109375 47.828125 \nQ 26.265625 48.1875 28.421875 48.1875 \nQ 40.625 48.1875 47.75 41.5 \nQ 54.890625 34.8125 54.890625 23.390625 \nQ 54.890625 11.625 47.5625 5.09375 \nQ 40.234375 -1.421875 26.90625 -1.421875 \nQ 22.3125 -1.421875 17.546875 -0.640625 \nQ 12.796875 0.140625 7.71875 1.703125 \nL 7.71875 11.625 \nQ 12.109375 9.234375 16.796875 8.0625 \nQ 21.484375 6.890625 26.703125 6.890625 \nQ 35.15625 6.890625 40.078125 11.328125 \nQ 45.015625 15.765625 45.015625 23.390625 \nQ 45.015625 31 40.078125 35.4375 \nQ 35.15625 39.890625 26.703125 39.890625 \nQ 22.75 39.890625 18.8125 39.015625 \nQ 14.890625 38.140625 10.796875 36.28125 \nz\n\" id=\"DejaVuSans-53\"/>\n      </defs>\n      <g transform=\"translate(13.5625 122.202232)scale(0.1 -0.1)\">\n       <use xlink:href=\"#DejaVuSans-8722\"/>\n       <use x=\"83.789062\" xlink:href=\"#DejaVuSans-53\"/>\n      </g>\n     </g>\n    </g>\n    <g id=\"ytick_3\">\n     <g id=\"line2d_6\">\n      <g>\n       <use style=\"stroke:#000000;stroke-width:0.8;\" x=\"35.304688\" xlink:href=\"#m4ca926eb7b\" y=\"95.045692\"/>\n      </g>\n     </g>\n     <g id=\"text_6\">\n      <!-- 0 -->\n      <g transform=\"translate(21.942187 98.84491)scale(0.1 -0.1)\">\n       <use xlink:href=\"#DejaVuSans-48\"/>\n      </g>\n     </g>\n    </g>\n    <g id=\"ytick_4\">\n     <g id=\"line2d_7\">\n      <g>\n       <use style=\"stroke:#000000;stroke-width:0.8;\" x=\"35.304688\" xlink:href=\"#m4ca926eb7b\" y=\"71.688371\"/>\n      </g>\n     </g>\n     <g id=\"text_7\">\n      <!-- 5 -->\n      <g transform=\"translate(21.942187 75.487589)scale(0.1 -0.1)\">\n       <use xlink:href=\"#DejaVuSans-53\"/>\n      </g>\n     </g>\n    </g>\n    <g id=\"ytick_5\">\n     <g id=\"line2d_8\">\n      <g>\n       <use style=\"stroke:#000000;stroke-width:0.8;\" x=\"35.304688\" xlink:href=\"#m4ca926eb7b\" y=\"48.33105\"/>\n      </g>\n     </g>\n     <g id=\"text_8\">\n      <!-- 10 -->\n      <g transform=\"translate(15.579687 52.130268)scale(0.1 -0.1)\">\n       <use xlink:href=\"#DejaVuSans-49\"/>\n       <use x=\"63.623047\" xlink:href=\"#DejaVuSans-48\"/>\n      </g>\n     </g>\n    </g>\n    <g id=\"ytick_6\">\n     <g id=\"line2d_9\">\n      <g>\n       <use style=\"stroke:#000000;stroke-width:0.8;\" x=\"35.304688\" xlink:href=\"#m4ca926eb7b\" y=\"24.973729\"/>\n      </g>\n     </g>\n     <g id=\"text_9\">\n      <!-- 15 -->\n      <g transform=\"translate(15.579687 28.772947)scale(0.1 -0.1)\">\n       <use xlink:href=\"#DejaVuSans-49\"/>\n       <use x=\"63.623047\" xlink:href=\"#DejaVuSans-53\"/>\n      </g>\n     </g>\n    </g>\n   </g>\n   <g id=\"patch_3\">\n    <path d=\"M 35.304688 143.1 \nL 35.304688 7.2 \n\" style=\"fill:none;stroke:#000000;stroke-linecap:square;stroke-linejoin:miter;stroke-width:0.8;\"/>\n   </g>\n   <g id=\"patch_4\">\n    <path d=\"M 230.604688 143.1 \nL 230.604688 7.2 \n\" style=\"fill:none;stroke:#000000;stroke-linecap:square;stroke-linejoin:miter;stroke-width:0.8;\"/>\n   </g>\n   <g id=\"patch_5\">\n    <path d=\"M 35.304687 143.1 \nL 230.604688 143.1 \n\" style=\"fill:none;stroke:#000000;stroke-linecap:square;stroke-linejoin:miter;stroke-width:0.8;\"/>\n   </g>\n   <g id=\"patch_6\">\n    <path d=\"M 35.304687 7.2 \nL 230.604688 7.2 \n\" style=\"fill:none;stroke:#000000;stroke-linecap:square;stroke-linejoin:miter;stroke-width:0.8;\"/>\n   </g>\n  </g>\n </g>\n <defs>\n  <clipPath id=\"pcc3ae7a94f\">\n   <rect height=\"135.9\" width=\"195.3\" x=\"35.304688\" y=\"7.2\"/>\n  </clipPath>\n </defs>\n</svg>\n",
            "text/plain": [
              "<Figure size 252x180 with 1 Axes>"
            ]
          },
          "metadata": {
            "needs_background": "light"
          },
          "output_type": "display_data"
        }
      ],
      "source": [
        "backend_inline.set_matplotlib_formats('svg')\n",
        "plt.rcParams['figure.figsize'] = (3.5, 2.5)\n",
        "# Punto y coma para mostrar solo la figura\n",
        "plt.scatter(features[:, (1)].detach().numpy(), labels.detach().numpy(), 1);\n"
      ]
    },
    {
      "cell_type": "markdown",
      "metadata": {
        "id": "s7PC6D2mz6Uu",
        "origin_pos": 12
      },
      "source": [
        "### Cargando los datos\n",
        "\n",
        "Dado que el entrenamiento se hace usando muchos mini-lotes de datos, es conveniente tener una función que se encarga de generar estos minilotes segun los necesitemos.\n",
        "\n",
        "Para esto necesitamos una función que tome nuestra matriz de diseño, tome nuestras etiquetas y nos genere lotes para el entrenamiento de un tamaño dado.\n",
        "\n"
      ]
    },
    {
      "cell_type": "code",
      "execution_count": null,
      "metadata": {
        "id": "N_oU-mWuz6Uw",
        "origin_pos": 13,
        "tab": [
          "pytorch"
        ]
      },
      "outputs": [],
      "source": [
        "def data_iter(batch_size, features, labels):\n",
        "    num_examples = len(features)\n",
        "    indices = list(range(num_examples))\n",
        "    # aleatorizamos el orden de los datos\n",
        "    random.shuffle(indices)\n",
        "    for i in range(0, num_examples, batch_size):\n",
        "        batch_indices = torch.tensor(\n",
        "            indices[i: min(i + batch_size, num_examples)])\n",
        "        yield features[batch_indices], labels[batch_indices]"
      ]
    },
    {
      "cell_type": "code",
      "execution_count": null,
      "metadata": {
        "colab": {
          "base_uri": "https://localhost:8080/"
        },
        "id": "8EBzYu3nz6Uz",
        "origin_pos": 16,
        "outputId": "6b9b4dac-061d-4593-ee98-64bb521c06b4",
        "tab": [
          "pytorch"
        ]
      },
      "outputs": [
        {
          "name": "stdout",
          "output_type": "stream",
          "text": [
            "tensor([[ 0.2888, -0.5761],\n",
            "        [-3.7024,  0.2970],\n",
            "        [ 1.0895,  0.0453],\n",
            "        [-0.8273, -0.8839],\n",
            "        [-1.4767,  1.2754],\n",
            "        [-0.4595, -0.3420],\n",
            "        [-1.5775, -1.8259],\n",
            "        [-1.0123,  0.8654],\n",
            "        [ 1.8892, -0.8451],\n",
            "        [ 0.0615,  0.4675]]) \n",
            " tensor([[ 6.7351],\n",
            "        [-4.2164],\n",
            "        [ 6.2268],\n",
            "        [ 5.5470],\n",
            "        [-3.0910],\n",
            "        [ 4.4381],\n",
            "        [ 7.2601],\n",
            "        [-0.7705],\n",
            "        [10.8543],\n",
            "        [ 2.7222]])\n"
          ]
        }
      ],
      "source": [
        "batch_size = 10\n",
        "\n",
        "for X, y in data_iter(batch_size, features, labels):\n",
        "    print(X, '\\n', y)\n",
        "    break"
      ]
    },
    {
      "cell_type": "markdown",
      "metadata": {
        "id": "u8l0L3kJz6U0",
        "origin_pos": 17
      },
      "source": [
        "### Valores iniciales de nuestro modelo\n",
        "\n",
        "Dado que estamos estamos buscando mínimos de una fución de pérdida, podemos elegir iniciar con cualquier valor. Luego nuestro optimizador se encargará de encontrar los mínimos adecuados."
      ]
    },
    {
      "cell_type": "code",
      "execution_count": null,
      "metadata": {
        "id": "HBzvnKgfz6U1",
        "origin_pos": 19,
        "tab": [
          "pytorch"
        ]
      },
      "outputs": [],
      "source": [
        "w = torch.normal(0, 0.01, size=(2,1), requires_grad=True)\n",
        "b = torch.zeros(1, requires_grad=True)"
      ]
    },
    {
      "cell_type": "markdown",
      "metadata": {
        "id": "YhAUUqFDz6U2",
        "origin_pos": 21
      },
      "source": [
        "Con estos parametros iniciales, estamos en condiciones de empezar a entrenar nuestra red. Es decir, buscar los parámetros que mejor representen el comportamiento de nuestros datos.\n",
        "\n",
        "Debemos recordar que detras del uso de descenso por gradiente, usamos herramientas de diferenciación automática para nuestros problemas.\n",
        "\n",
        "\n",
        "### Definiendo el modelo.\n",
        "\n",
        "En este caso, nuestro modelo será análogo al usado para generar nuestros datos, es decir:\n",
        "\n",
        "$$\\mathbf{y} = \\mathbf{Xw} + b$$\n",
        "\n"
      ]
    },
    {
      "cell_type": "code",
      "execution_count": null,
      "metadata": {
        "id": "2pWmHqqez6U3",
        "origin_pos": 22,
        "tab": [
          "pytorch"
        ]
      },
      "outputs": [],
      "source": [
        "def linreg(X, w, b):\n",
        "    return torch.matmul(X, w) + b"
      ]
    },
    {
      "cell_type": "markdown",
      "metadata": {
        "id": "a3EBNBX0z6U4",
        "origin_pos": 23
      },
      "source": [
        "### Definiendo la función de pérdida\n",
        "\n",
        "Como estamos haciendo una regresión lineal, sabemos que lo que minimizamos son es la cantidad llamada **mínimos cuadrados**"
      ]
    },
    {
      "cell_type": "code",
      "execution_count": null,
      "metadata": {
        "id": "iiVM4aHsz6U4",
        "origin_pos": 24,
        "tab": [
          "pytorch"
        ]
      },
      "outputs": [],
      "source": [
        "def squared_loss(y_hat, y):\n",
        "    return (y_hat - y.reshape(y_hat.shape)) ** 2 / 2"
      ]
    },
    {
      "cell_type": "markdown",
      "metadata": {
        "id": "jLaOfB0Uz6U4",
        "origin_pos": 25
      },
      "source": [
        "### Definiendo el algoritmo de optimización\n",
        "\n",
        "A continuación mostramos un pequeño ejemplo de funciona descenso gradiente estocástico\n"
      ]
    },
    {
      "cell_type": "code",
      "execution_count": null,
      "metadata": {
        "id": "fmGZYM8Gz6U5",
        "origin_pos": 27,
        "tab": [
          "pytorch"
        ]
      },
      "outputs": [],
      "source": [
        "def sgd(params, lr, batch_size):\n",
        "    \"\"\"Usamos minilotes\"\"\"\n",
        "    with torch.no_grad():\n",
        "        for param in params:\n",
        "            param -= lr * param.grad / batch_size\n",
        "            param.grad.zero_()"
      ]
    },
    {
      "cell_type": "markdown",
      "metadata": {
        "id": "cWrnqMGPz6U6",
        "origin_pos": 29
      },
      "source": [
        "### Entrenamiento\n",
        "\n",
        "A continuación esbozamos como es nuestro ciclo de entrenamiento\n",
        "\n",
        "* Iniciamos nuestros parametros. $(\\mathbf{w}, b)$\n",
        "* Repetimos hasta concluir\n",
        "    * Calculamos la función de pérdida ${L} \\leftarrow \\frac{1}{|\\mathcal{B}|} \\sum_{i \\in \\mathcal{B}} l(\\mathbf{x}^{(i)}, y^{(i)}, \\mathbf{w}, b)$\n",
        "    * Calculamos el gradiente con minilotes $\\mathbf{g} \\leftarrow \\partial_{(\\mathbf{w},b)} L$\n",
        "    * actualizamos los parámetros. $(\\mathbf{w}, b) \\leftarrow (\\mathbf{w}, b) - \\eta \\mathbf{g}$\n",
        "    > Nota: estos últimos dos pasos pasos los hace la función `sdg` definida arriba.\n",
        "\n",
        "Llamamos **época** a cada vez que iteramos sobre todos nuestros datos. Por otro lado el parametro $η$ es lo que llamamos **tasa de aprendizaje** o **learning rate**. Este valor nos dice que tanto nos moveremos en la dirección hacia donde esta el mínimo. Tanto la cantidad de épocas a recorrer como la tasa de aprendizaje son **hiperparametros**. Encontrar lo hiperparámetros apropiados para nuestros datos y modelos no es una tarea sencilla. Por ahora daremos valores arbitrarios, pero aprender a encontrar valores correctos es todo un arte.\n"
      ]
    },
    {
      "cell_type": "code",
      "execution_count": null,
      "metadata": {
        "id": "FIcRq_t2z6U6",
        "origin_pos": 30,
        "tab": [
          "pytorch"
        ]
      },
      "outputs": [],
      "source": [
        "lr = 0.03\n",
        "num_epochs = 5\n",
        "net = linreg\n",
        "loss = squared_loss"
      ]
    },
    {
      "cell_type": "code",
      "execution_count": null,
      "metadata": {
        "colab": {
          "base_uri": "https://localhost:8080/"
        },
        "id": "ipeFctL-z6U7",
        "origin_pos": 32,
        "outputId": "b8bb7a0c-158e-4e20-97b0-5d83173862bd",
        "tab": [
          "pytorch"
        ]
      },
      "outputs": [
        {
          "name": "stdout",
          "output_type": "stream",
          "text": [
            "epoch 1, loss 0.000053\n",
            "epoch 2, loss 0.000053\n",
            "epoch 3, loss 0.000053\n",
            "epoch 4, loss 0.000053\n",
            "epoch 5, loss 0.000053\n"
          ]
        }
      ],
      "source": [
        "for epoch in range(num_epochs):\n",
        "    for X, y in data_iter(batch_size, features, labels):\n",
        "        # Funcion de perdida para nuestro minilote con `X` e `y`\n",
        "        l = loss(net(X, w, b), y)\n",
        "        # Gradiente de la funcion l con respeto a [`w`, `b`]\n",
        "        # Recordar w es un \"vector\" de parametros\n",
        "        l.sum().backward()\n",
        "        sgd([w, b], lr, batch_size)\n",
        "    with torch.no_grad():\n",
        "        train_l = loss(net(features, w, b), labels)\n",
        "        print(f'epoch {epoch + 1}, loss {float(train_l.mean()):f}')"
      ]
    },
    {
      "cell_type": "markdown",
      "metadata": {
        "id": "TlMwPA-8z6U8",
        "origin_pos": 34
      },
      "source": [
        "Como nuestros datos son sintéticos, podemos comparar nuestras estimaciones con los valores reales.\n"
      ]
    },
    {
      "cell_type": "code",
      "execution_count": null,
      "metadata": {
        "colab": {
          "base_uri": "https://localhost:8080/"
        },
        "id": "tNghXmT5z6U8",
        "origin_pos": 35,
        "outputId": "68224998-2cdf-4d41-bcc4-143fe5391a26",
        "tab": [
          "pytorch"
        ]
      },
      "outputs": [
        {
          "name": "stdout",
          "output_type": "stream",
          "text": [
            "error in estimating w: tensor([-0.0002,  0.0007], grad_fn=<SubBackward0>)\n",
            "error in estimating b: tensor([0.0006], grad_fn=<RsubBackward1>)\n"
          ]
        }
      ],
      "source": [
        "print(f'error in estimating w: {true_w - w.reshape(true_w.shape)}')\n",
        "print(f'error in estimating b: {true_b - b}')"
      ]
    },
    {
      "cell_type": "markdown",
      "metadata": {
        "id": "AhE6f0rKIyFg"
      },
      "source": [
        "# Regresión lineal concisa.\n",
        "\n",
        "En el notebook anterior, vimos un ejemplo de como implementar una red neuronal desde cero. Sin embargo, hacer esto es una mala idea. La principal razón por la que es una mala idea, es que muchas de las cosas que hicimos consisten en \"reinventar la rueda\". Hay bibliotecas que ya tienen herramientas para hacer lo que ya hicimos. Además, nuestra implementación puede no ser la más eficiente. Es decir: la implementación usada puede generar tiempos de espera que podrían ser evitados si nuestro código estuviera implementado de manera distinta. Por esta razón, es siempre recomendable usar las bibliotecas preexistentes.\n",
        "\n",
        "Recordemos que el ejemplo anterior estaba pensado para que le perdamos el miedo a las bibliotecas preexistentes, para que entendamos como funcionan y para aprender a implementar cosas nuevas (si llegamos a necesitarlo)\n",
        "\n",
        "Veamos entonces como implementariamos todo lo anterior haciendo uso de la biblioteca ``pytorch``"
      ]
    },
    {
      "cell_type": "markdown",
      "metadata": {
        "id": "Ho7hYFsTIaPu",
        "origin_pos": 0
      },
      "source": [
        "## Datos sintéticos\n"
      ]
    },
    {
      "cell_type": "code",
      "execution_count": null,
      "metadata": {
        "id": "zo70_UBVIaPw",
        "origin_pos": 2,
        "tab": [
          "pytorch"
        ]
      },
      "outputs": [],
      "source": [
        "import numpy as np\n",
        "import torch\n",
        "from torch.utils import data"
      ]
    },
    {
      "cell_type": "markdown",
      "metadata": {
        "id": "kQX3OhaQ7wTf"
      },
      "source": [
        "Misma función que usamos anteriormente"
      ]
    },
    {
      "cell_type": "code",
      "execution_count": null,
      "metadata": {
        "id": "Tmh5NYga01CX"
      },
      "outputs": [],
      "source": [
        "def synthetic_data(w, b, num_examples):\n",
        "    X = torch.normal(0, 1, (num_examples, len(w)))\n",
        "    y = torch.matmul(X, w) + b\n",
        "    y += torch.normal(0, 0.01, y.shape)\n",
        "    return X, y.reshape((-1, 1))"
      ]
    },
    {
      "cell_type": "code",
      "execution_count": null,
      "metadata": {
        "id": "s0adDvfCIaPy",
        "origin_pos": 4,
        "tab": [
          "pytorch"
        ]
      },
      "outputs": [],
      "source": [
        "true_w = torch.tensor([2, -3.4])\n",
        "true_b = 4.2\n",
        "features, labels = synthetic_data(true_w, true_b, 1000)"
      ]
    },
    {
      "cell_type": "markdown",
      "metadata": {
        "id": "L89Foy1JIaPz",
        "origin_pos": 5
      },
      "source": [
        "## Cargando nuestros datos\n",
        "\n",
        "En este caso, podemos enviar nuestros datos diferentes metodos preexistentes de `pytorch` para generar nuestro minilotes.\n",
        "\n",
        "Además podemos pedir nos mezcle nuestros datos o que los deje tal cual\n"
      ]
    },
    {
      "cell_type": "code",
      "execution_count": null,
      "metadata": {
        "id": "_s7RVCfEIaP0",
        "origin_pos": 7,
        "tab": [
          "pytorch"
        ]
      },
      "outputs": [],
      "source": [
        "def load_array(data_arrays, batch_size, is_train=True):\n",
        "    dataset = data.TensorDataset(*data_arrays)\n",
        "    return data.DataLoader(dataset, batch_size, shuffle=is_train)"
      ]
    },
    {
      "cell_type": "code",
      "execution_count": null,
      "metadata": {
        "id": "46yPkqcuIaP1",
        "origin_pos": 9,
        "tab": [
          "pytorch"
        ]
      },
      "outputs": [],
      "source": [
        "batch_size = 10\n",
        "data_iter = load_array((features, labels), batch_size)"
      ]
    },
    {
      "cell_type": "markdown",
      "metadata": {
        "id": "0QJFVBHMIaP2",
        "origin_pos": 10
      },
      "source": [
        "Queremos ver como se generan nuestros minilotes. Para esto debemos poder imprimierlos por pantalla. A diferencia de la implementación anterior, el método `DataLoader`, no genera un iterable, por esto debemos convertirlo en uno y recorrerlo segun necesitemos\n"
      ]
    },
    {
      "cell_type": "code",
      "execution_count": null,
      "metadata": {
        "colab": {
          "base_uri": "https://localhost:8080/"
        },
        "id": "rJGz2ZwmIaP3",
        "origin_pos": 11,
        "outputId": "415b92b0-4e54-4fd2-b634-78d9f2679c0c",
        "tab": [
          "pytorch"
        ]
      },
      "outputs": [
        {
          "data": {
            "text/plain": [
              "[tensor([[ 0.8042,  1.2084],\n",
              "         [ 0.0308, -2.8017],\n",
              "         [-1.0535, -1.1924],\n",
              "         [-1.1401,  0.7265],\n",
              "         [-1.7502,  0.4037],\n",
              "         [-1.1868,  1.3315],\n",
              "         [-0.9479,  0.8272],\n",
              "         [ 0.4404,  0.3488],\n",
              "         [ 0.1959, -0.0737],\n",
              "         [-0.8688,  0.2807]]), tensor([[ 1.7018],\n",
              "         [13.7689],\n",
              "         [ 6.1498],\n",
              "         [-0.5491],\n",
              "         [-0.6562],\n",
              "         [-2.7091],\n",
              "         [-0.5121],\n",
              "         [ 3.8959],\n",
              "         [ 4.8421],\n",
              "         [ 1.5083]])]"
            ]
          },
          "execution_count": 28,
          "metadata": {},
          "output_type": "execute_result"
        }
      ],
      "source": [
        "next(iter(data_iter))"
      ]
    },
    {
      "cell_type": "markdown",
      "metadata": {
        "id": "c-MO_VboIaP3",
        "origin_pos": 12
      },
      "source": [
        "## Definiendo el modelo\n",
        "\n",
        "A continuación presentamos la versión concisa de nuestro modelo, luego la discutiremos.\n"
      ]
    },
    {
      "cell_type": "code",
      "execution_count": null,
      "metadata": {
        "id": "xxpgLFRiIaP6",
        "origin_pos": 17,
        "tab": [
          "pytorch"
        ]
      },
      "outputs": [],
      "source": [
        "# `nn` = neural networks, redes neuronales\n",
        "from torch import nn\n",
        "\n",
        "net = nn.Sequential(nn.Linear(2, 1))"
      ]
    },
    {
      "cell_type": "markdown",
      "metadata": {
        "id": "KdAWZYUVMURe"
      },
      "source": [
        "La clase `Sequential` define todas las capas a aplicar de manera secuencial en nuestro modelo. Por ahora, como trabajamos con regresión lineal solo usaremos una capa. Sin embargo esta capa es lo que se llama una capa *totalmente conectada*. Es decir, esta representada por una matriz que aplica sobre vector de features. Al aplicar esta matriz encontramos la salida de nuestra neurona. En este caso, este tipo de capas se las conoce como `Linear` y reciben como entrada `(<numero_de_entradas>, <numero_de_salidas>)`. Para nuestro modelo, esto son nuestras 2 features y nuestra etiqueta."
      ]
    },
    {
      "cell_type": "markdown",
      "metadata": {
        "id": "YgBZAsPHq1fA"
      },
      "source": [
        "\n",
        "¿Que es una capa densa?\n",
        "------------------\n",
        "\n",
        "\n",
        "una capa densa o completamente conectada es la forma más básica de una red neuronal. Cada entrada influencia a cada salida de acuerdo a los pesos. Si nuestro modelo tiene $m$ entradas y $n$ salidas, la matriz de pesos sera $m \\times n$. De igual modo el vector de sesgos o bias tendra dimensión $n$"
      ]
    },
    {
      "cell_type": "code",
      "execution_count": null,
      "metadata": {
        "colab": {
          "base_uri": "https://localhost:8080/"
        },
        "id": "zqzGHdjVhhNJ",
        "outputId": "e36fb257-536b-48fc-e6ee-fddfded4a785"
      },
      "outputs": [
        {
          "name": "stdout",
          "output_type": "stream",
          "text": [
            "entrada:\n",
            "tensor([[0.0123, 0.9261]])\n",
            "\n",
            "\n",
            "Pesos y parametros:\n",
            "('weight', Parameter containing:\n",
            "tensor([[0.5161, 0.6590]], requires_grad=True))\n",
            "('bias', Parameter containing:\n",
            "tensor([0.4101], requires_grad=True))\n",
            "\n",
            "\n",
            "salida\n",
            "tensor([[1.0267]], grad_fn=<AddmmBackward0>)\n"
          ]
        },
        {
          "data": {
            "text/plain": [
              "tensor([[1.0267]], grad_fn=<AddBackward0>)"
            ]
          },
          "execution_count": 31,
          "metadata": {},
          "output_type": "execute_result"
        }
      ],
      "source": [
        "import torch\n",
        "\n",
        "lin = torch.nn.Linear(2, 1)\n",
        "x = torch.rand(1, 2)\n",
        "print('entrada:')\n",
        "print(x)\n",
        "\n",
        "print('\\n\\nPesos y parametros:')\n",
        "for param in lin.named_parameters():\n",
        "    print(param)\n",
        "\n",
        "y = lin(x)\n",
        "print('\\n\\nsalida')\n",
        "print(y)\n",
        "\n",
        "# Al hacer la multiplicacion matricial correspondiente obtenemos nuesta salida.\n",
        "x @ lin.weight.T + lin.bias"
      ]
    },
    {
      "cell_type": "markdown",
      "metadata": {
        "id": "UDuEzQVaIaP6",
        "origin_pos": 19
      },
      "source": [
        "## Inicialización de parametros de nuestro modelo.\n",
        "\n",
        "Por lo general, los frameworks prexistentes tienen implementaciones por defecto para inicializar los parámetros. Sin embargo, queremos iniciarlos de manera similar a la anterior."
      ]
    },
    {
      "cell_type": "markdown",
      "metadata": {
        "id": "d4VMoRtWIaP7",
        "origin_pos": 21,
        "tab": [
          "pytorch"
        ]
      },
      "source": [
        "Para ellos accedemos a la primera (y única capa) usando `net[0]`. Luego accedemos a los pesos y los sesgos con `weight.data` and `bias.data`. Finalmente rellenamos los valores con lo que teníamos pensado usar.\n"
      ]
    },
    {
      "cell_type": "code",
      "execution_count": null,
      "metadata": {
        "colab": {
          "base_uri": "https://localhost:8080/"
        },
        "id": "04P7myKQIaP7",
        "origin_pos": 24,
        "outputId": "9ffc22e3-2657-4d2c-d7e0-e848c2b7f52c",
        "tab": [
          "pytorch"
        ]
      },
      "outputs": [
        {
          "data": {
            "text/plain": [
              "tensor([0.])"
            ]
          },
          "execution_count": 32,
          "metadata": {},
          "output_type": "execute_result"
        }
      ],
      "source": [
        "net[0].weight.data.normal_(0, 0.01)\n",
        "net[0].bias.data.fill_(0)"
      ]
    },
    {
      "cell_type": "markdown",
      "metadata": {
        "id": "zLlMm_qEIaP-",
        "origin_pos": 29
      },
      "source": [
        "## Definiendo la función de pérdida\n"
      ]
    },
    {
      "cell_type": "code",
      "execution_count": null,
      "metadata": {
        "id": "f2zHtPgyIaP_",
        "origin_pos": 34,
        "tab": [
          "pytorch"
        ]
      },
      "outputs": [],
      "source": [
        "loss = nn.MSELoss()"
      ]
    },
    {
      "cell_type": "markdown",
      "metadata": {
        "id": "pDAt2_m0IaP_",
        "origin_pos": 36
      },
      "source": [
        "## Definiendo el algoritmo de optimización\n"
      ]
    },
    {
      "cell_type": "markdown",
      "metadata": {
        "id": "7SImV0xVIaP_",
        "origin_pos": 38,
        "tab": [
          "pytorch"
        ]
      },
      "source": [
        "La principal diferencia con lo que hicimos antes, es que solamente debemos pasarle a nuestro `SDG`, los parametros a optimizar. El resto de los detalles ya son manejados por la implementación de `pytorch`. En este caso también estamos pasando la tasa de aprendizaje, pero la clase `SGD` de `pytorch` ya incluye un valor por defecto."
      ]
    },
    {
      "cell_type": "code",
      "execution_count": null,
      "metadata": {
        "id": "Q36F2-g2IaQA",
        "origin_pos": 41,
        "tab": [
          "pytorch"
        ]
      },
      "outputs": [],
      "source": [
        "trainer = torch.optim.SGD(net.parameters(), lr=0.03)"
      ]
    },
    {
      "cell_type": "markdown",
      "metadata": {
        "id": "-HS9IpaWOqlt"
      },
      "source": [
        "Un optimizador en `torch` tiene por defecto una serie de métodos. Sin embargo ahora mismo solo nos interesan 2 de ellos, pues son los que más usaremos.\n",
        "\n",
        "* `Optimizer.step`\n",
        "  > Este es el método es el que propiamente aplica el algoritmo SGD, o cualquier otro algoritmo que fueramos a implementar.\n",
        "* `Optimizer.zero_grad`\n",
        "  > Por defecto, `Optimizer` suma los sucesivos gradientes calculados. Esto hace que al principio de cada época de el entrenamiento, debamos setear el gradiente en 0. Es por esto que este método existe dentro de la clase `Optimizer`"
      ]
    },
    {
      "cell_type": "markdown",
      "metadata": {
        "id": "Aph98AJ2IaQA",
        "origin_pos": 43
      },
      "source": [
        "## Entrenamiento\n",
        "\n",
        "Hasta aquí veníamos reduciendo lineas de código de manera impresionante. Sin embargo, nuestro ciclo de entrenamiento será casi identico a lo que habíamos visto antes.\n",
        "* Repetimos hasta concluir\n",
        "    * Calculamos la función de pérdida\n",
        "    * Calculamos el gradiente con minilotes\n",
        "    * Actualizamos los parámetros.\n"
      ]
    },
    {
      "cell_type": "code",
      "execution_count": null,
      "metadata": {
        "colab": {
          "base_uri": "https://localhost:8080/"
        },
        "id": "noX-wsqNIaQA",
        "origin_pos": 45,
        "outputId": "2dce3639-e16a-411a-cd9c-92d7ec29d10e",
        "tab": [
          "pytorch"
        ]
      },
      "outputs": [
        {
          "name": "stdout",
          "output_type": "stream",
          "text": [
            "epoch 1, loss 0.000278\n",
            "epoch 2, loss 0.000097\n",
            "epoch 3, loss 0.000096\n"
          ]
        }
      ],
      "source": [
        "num_epochs = 3\n",
        "for epoch in range(num_epochs):\n",
        "    for X, y in data_iter:\n",
        "        l = loss(net(X) ,y)\n",
        "        trainer.zero_grad()\n",
        "        l.backward()\n",
        "        trainer.step()\n",
        "    l = loss(net(features), labels)\n",
        "    print(f'epoch {epoch + 1}, loss {l:f}')"
      ]
    },
    {
      "cell_type": "code",
      "execution_count": null,
      "metadata": {
        "colab": {
          "base_uri": "https://localhost:8080/"
        },
        "id": "0ufuypfPIaQB",
        "origin_pos": 49,
        "outputId": "93b9084a-6eab-44d5-ea70-8de60a1535b5",
        "tab": [
          "pytorch"
        ]
      },
      "outputs": [
        {
          "name": "stdout",
          "output_type": "stream",
          "text": [
            "error in estimating w: tensor([-0.0002,  0.0006])\n",
            "error in estimating b: tensor([-0.0002])\n"
          ]
        }
      ],
      "source": [
        "w = net[0].weight.data\n",
        "print('error in estimating w:', true_w - w.reshape(true_w.shape))\n",
        "b = net[0].bias.data\n",
        "print('error in estimating b:', true_b - b)"
      ]
    },
    {
      "cell_type": "markdown",
      "metadata": {
        "id": "tDALUq9b_h2m"
      },
      "source": [
        "Hasta aquí hemos trabajado con el problema de la regresión. Sin embargo, muchas veces lo que deseamos es clasificar segun clases discretas. De hecho, más adelante veremos que los grandes logros de las redes neuronales son en el area de clasificación. Para esto, a continuación hablaremos de Regresión Softmax y su aplicación en clasificación."
      ]
    }
  ],
  "metadata": {
    "colab": {
      "provenance": [],
      "include_colab_link": true
    },
    "kernelspec": {
      "display_name": "Python 3",
      "name": "python3"
    },
    "language_info": {
      "name": "python"
    }
  },
  "nbformat": 4,
  "nbformat_minor": 0
}