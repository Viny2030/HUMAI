{
  "cells": [
    {
      "cell_type": "markdown",
      "metadata": {
        "id": "view-in-github",
        "colab_type": "text"
      },
      "source": [
        "<a href=\"https://colab.research.google.com/github/Viny2030/HUMAI/blob/main/Regresion_Lineal_1.ipynb\" target=\"_parent\"><img src=\"https://colab.research.google.com/assets/colab-badge.svg\" alt=\"Open In Colab\"/></a>"
      ]
    },
    {
      "cell_type": "markdown",
      "metadata": {
        "id": "cpK9JEXehxtJ"
      },
      "source": [
        "<a href=\"https://colab.research.google.com/github/institutohumai/cursos-python/blob/master/DeepLearning/2_RedesDeUnaCapa/1_regresion_lineal.ipynb\" target=\"_parent\"><img src=\"https://colab.research.google.com/assets/colab-badge.svg\" alt=\"Open in Colab\"/></a>"
      ]
    },
    {
      "cell_type": "markdown",
      "metadata": {
        "id": "p6h-9OAbMv6G"
      },
      "source": [
        "# Redes Neuronales de Una Capa"
      ]
    },
    {
      "cell_type": "markdown",
      "metadata": {
        "id": "PLfy42WKz6Ue",
        "origin_pos": 0
      },
      "source": [
        "# Regresión lineal desde cero\n",
        "\n",
        "Si estás acá en principio sabés que es una regresión lineal. Una regresión lineal una forma de analizar como ciertas variables dependen de otras.\n",
        "\n"
      ]
    },
    {
      "cell_type": "markdown",
      "metadata": {
        "id": "y5NgPf5Z4O14"
      },
      "source": [
        "![Linear_regression.svg](https://i.imgur.com/P3WseWv.png)"
      ]
    },
    {
      "cell_type": "markdown",
      "metadata": {
        "id": "Vj4qRAqTfMaY"
      },
      "source": [
        "Una regresión lineal, nos relaciona variables independientes o features con una variable dependiente objetivo. Por medio de sumás y productos de las diferentes cantidades independientes, se busca obtener la variable dependiente."
      ]
    },
    {
      "cell_type": "markdown",
      "metadata": {
        "id": "cj63SacOV8XQ"
      },
      "source": [
        "Consideremos la llamada fórmula de Dulong. La formula de Dulong es un resultado experimental surgido de analizar la energía liberda en la combustión de combustibles fósiles. La formula predice el valor de energía liberada en función la proporción de cada elemento en el combustible.\n",
        "\n",
        "$$E\\left[\\frac{kJ}{g}\\right] = 38,2C + 84,9 (H − \\frac{O}{8})  − 0,5l -  0,62s$$\n",
        "\n",
        "Donde $C$ es la proporción en masa de carbono en el combustible, $H$ la proporción de hidrógeno, $O$ la de oxígeno, $l$ vale 1 solamente si el combustible es líquido, $s$ vale 1 solamente si el combustible es sólido\n",
        "\n",
        "Por ejemplo, al quemar gas metáno se obtiene las siguientes proporciones, $C = 0.75$, $H = 0.25$ y $O = 0.00$\n",
        "\n",
        "En nuestra fórmula eso nos devuelve $49.87\\frac{kJ}{g}$ frente al valor $50.01\\frac{kJ}{g}$ reportado en tablas.\n",
        "\n",
        "> Nota: esos valores provienen de lo siguiente:\n",
        "> * Fórmula del metano: $CH_4$\n",
        "> * Masa molar del metano: $16 \\frac{g}{mol}$\n",
        "> * Masa molar del carbono: $12 \\frac{g}{mol}$\n",
        "> * Masa molar del hidrógeno: $1 \\frac{g}{mol}$\n",
        "> * $C = \\frac{12}{16} = 0.75$\n",
        "> * $C = 4\\times\\frac{1}{16} = 0.25$ porque hay 4 hidrógenos."
      ]
    },
    {
      "cell_type": "markdown",
      "metadata": {
        "id": "RcjNCv-iiMMd"
      },
      "source": [
        "El punto de este comentario no es discutir un resultado de termódinámica química, sino señalar que la regresión lineal es una técnica usada desde hace años en areas de las más variopintas. Sin ir más lejos, la formula de Dulong es un resultado del siglo XIX que sigue teniendo utilidad. Tal es así que los coeficientes de la versión que hemos presentado corresponden a un resultado de [2016](https://www.sciencedirect.com/science/article/pii/S0378382016302995?via%3Dihubtps://) La única diferencia con el otro modelo presentado es que aquí hemos decidido usar una notación con one-hot vectors para el estado del combustible."
      ]
    },
    {
      "cell_type": "markdown",
      "metadata": {
        "id": "0TP0efkvj20T"
      },
      "source": [
        "Siguiento el ejemplo anterior consideremos que hemos estudiado solo dos combustibles, el gas metano y el alcohol etílico.\n",
        "\n",
        "||$C$|$H$|$O$|gas|líquido|sólido|$E$\n",
        "|---|---|---|---|---|---|---|---|\n",
        "metano|0.75|0.25|0.00|1|0|0|50.01|\n",
        "alcohol etílico ($C_2H_5OH$)|0.52|0.13|0.35|0|1|0|26.70|\n",
        "\n",
        "Notar que para repersentar el estado de agregación del combustible, hemos usado una codificación de one hot vectors.\n",
        "\n",
        "En la columna $E$ reportamos el valor medido en laboratorio. Consideremos por ahora solo los valores nuestras variables independientes y pongamos la dentro de una matriz:\n",
        "\n",
        "\\begin{align}\n",
        "     X = \\left[\\begin{array}{cccccc}\n",
        "     0.75&0.25&0.00&1&0&0\\\\\n",
        "     0.52&0.13&0.35&0&1&0\n",
        "     \\end{array}\\right]\n",
        "     \\end{align}\n",
        "\n",
        "Consideremos también un vector donde guardaremos los valores reales o los ground truth de nuestos datos\n",
        "\n",
        "\\begin{align}\n",
        "     y = \\left[\\begin{array}{c}\n",
        "     50.01\\\\\n",
        "     26.7\n",
        "     \\end{array}\\right]\n",
        "     \\end{align}\n",
        "\n",
        "Esta matriz $X$, se conoce como matriz de diseño y nos permite guardar toda la información de los ejemplos que quiesieramos estudiar. Además, la matriz $X$ tiene una propiedad interesante. Condiremos lo coeficientes de la fórmula de Dulong y guardemoslos en un vector $w$\n",
        "\n",
        "\\begin{align}\n",
        "     w^T = \\left[\\begin{array}{cccccc}\n",
        "     38.2&84.9&-10.6125&0&-0.5&-0.62\n",
        "     \\end{array}\\right]\n",
        "     \\end{align}\n",
        "\n",
        "por que $-\\frac{84.9}{8} = -1.6125$\n",
        "\n",
        "Consideremos ahora el vector:\n",
        "\n",
        "$$\\hat{y} = Xw$$\n",
        "\\begin{align}\n",
        "     \\hat{y} = \\left[\\begin{array}{cccccc}\n",
        "     0.75&0.25&0.00&1&0&0\\\\\n",
        "     0.52&0.13&0.35&0&1&0\n",
        "     \\end{array}\\right]\\left[\\begin{array}{c}\n",
        "     38.2\\\\84.9\\\\-10.6125\\\\0\\\\-0.5\\\\-0.62\n",
        "     \\end{array}\\right]\n",
        "     \\end{align}\n",
        "\\begin{align}\n",
        "     \\hat{y} = \\left[\\begin{array}{cc}\n",
        "     49.87\\\\\n",
        "     26.69\n",
        "     \\end{array}\\right]\n",
        "     \\end{align}\n",
        "\n",
        "Al guardar nuestros datos y nuestros parametros en matrices, ahora podemos calcular nuestras predicciones como una mera multiplicación de matrices. Además podemos estimar el error absoluto entre nuestra predicción y el valor real como una operación matricial.\n",
        "\n",
        "$$e=\\hat{y} - y$$\n",
        "\n",
        "De más está decir que de lo anterior podemos tratar de calcular la varianza de los valores en el vector $e$, suponiendo que un buen modelo debe tener dispersión media igual a 0 con respecto a los valore reales.\n",
        "\n",
        "$$Var(e)$$"
      ]
    },
    {
      "cell_type": "markdown",
      "metadata": {
        "id": "cbasYgvG4OaA"
      },
      "source": [
        "La formula anterior y todo el analisis es para señalar que es una neurona artificial\n",
        "\n"
      ]
    },
    {
      "cell_type": "markdown",
      "metadata": {
        "id": "2ah9UDoO6aDf"
      },
      "source": [
        "<img src='https://storage.googleapis.com/humai-datasets/imagenes/deep_learning/2_RedesNeuronalesDeUnaCapa/5c8ef532-6649-4141-aa83-bf39d9c3ca1e_imagen.png' />"
      ]
    },
    {
      "cell_type": "markdown",
      "metadata": {
        "id": "J83vbLc1CtB-"
      },
      "source": [
        "La fórmula de Dulong, como toda regresión lineal, tiene una serie de variables independientes que influyen en el resultado de una variable dependiente. En el caso anterior tenemos, proporcion de diferentes átomos y estado de agregación del combustible (sólido, líquido, gas).\n",
        "\n",
        "Esta estructura es similar a una neurona que recibe 6 estimulos y produce una única respuesta. Es por esto que decimos que es una neurona."
      ]
    },
    {
      "cell_type": "markdown",
      "metadata": {
        "id": "4IJQRzZxj2Fc"
      },
      "source": [
        "Minimizar la varianza de nuestro error abosoluto es equivalente a pedir un ajuste lineal por mínimos cuadrados. Es decir, el entrenamiento de nuestra neurona, consistirá en encontrar los parametos $w$ que al aplicarlos sobre nuestros datos $X$ nos permitan obtener las mejores predicciones $\\hat{y}$ de tal manera que se acerque lo más posible a nuestros valores reales $y$ En este contexto, encontrar esos parametros es equivalente a minimizar la varianza. A la cantidad a minimizar la llamaremos **función de pérdida**"
      ]
    },
    {
      "cell_type": "markdown",
      "metadata": {
        "id": "fdSvvb7brVK5"
      },
      "source": [
        "Hemos elegido un caso de análisis como es el calor liberado por un combustible en función de sus constituyentes para señalar que el principio con el que opera la técnica es tan general que puede aplicarse a un monton de otras areas. Sin ir más lejos, podríamos ir un paso más alla y en lugar de entrenar solo una neurona para que nos dé la energía liberada, podríamos entrenar una segunda neurona que nos dé la masa molar del combustible. O una tercer neurona para que nos entregue otra propiedad del combustible, como por ejemplo el índice de refracción.\n",
        "\n",
        "En caso de tener varias neuronas, nuestros parámetros deberían ser almacenados en una matriz de pesos. Es decir:\n",
        "\n",
        "$$\\hat{y} = XW$$\n",
        "\\begin{align}\n",
        "     \\hat{y} = \\left[\\begin{array}{cccccc}\n",
        "     0.75&0.25&0.00&1&0&0\\\\\n",
        "     0.52&0.13&0.35&0&1&0\n",
        "     \\end{array}\\right]\\left[\\begin{array}{cc}\n",
        "     38.2&1\\\\84.9&1\\\\-1.6125&1\\\\0&-1\\\\-0.5&1\\\\-0.62&2\n",
        "     \\end{array}\\right]\n",
        "     \\end{align}\n",
        "\\begin{align}\n",
        "     \\hat{y} = \\left[\\begin{array}{cc}\n",
        "     49.87&0\\\\\n",
        "     26.69&2\n",
        "     \\end{array}\\right]\n",
        "     \\end{align}\n",
        "\n",
        "Donde la segunda columna corresponde a una segunda neurona que aprendió a devolver alguna otra propiedad de los combustibles"
      ]
    },
    {
      "cell_type": "markdown",
      "metadata": {
        "id": "6QR4cq47sGht"
      },
      "source": [
        "Esperamos que con lo aquí descripto, se entienda que es una neurona, red de una capa de neuronas y en que consiste encontrar los parametros óptimos al problema."
      ]
    },
    {
      "cell_type": "markdown",
      "metadata": {
        "id": "yGPRN3ihsUFG"
      },
      "source": [
        "## Presentando el pipeline"
      ]
    },
    {
      "cell_type": "markdown",
      "metadata": {
        "id": "VTm-V3vE4hYT"
      },
      "source": [
        "Ahora, lo que describiremos será como es el proceso general para entrenar una red:\n",
        "\n",
        "1. Carga de los datos\n",
        "1. Separación de los datos en lotes\n",
        "1. Inicialización de parámetros\n",
        "1. Definición del modelo\n",
        "1. Definición de la función de pérdida\n",
        "1. Definición del algoritmo de optimización\n",
        "\n",
        "Para nuestro primer ejemplo lo que haremos será trabajar con datos sintéticos. Es decir, tomaremos los datos generados de un modelo lineal. Nuestra intención con esto es múltiple:\n",
        "\n",
        "* Queremos mostrar un ejemplo que nos permita entender el significado de los parámetros de nuestro modelo.\n",
        "* Queremos saber que tan buenas son nuestras estimaciones\n",
        "* Queremos usar un modelo sencillo que nos permita analizar cada paso del pipeline.\n",
        "\n",
        "Este último punto es el principal motivo de esta parte. Por lo general, los frameworks de deep learning tiene multiples herramientas que nos permite simplificar cada uno de los pasos. Sin embargo, también es común que necesitemos ajustar detalles del modelo que usaremos. Es en este sentido que \"reinventar la rueda\", nos puede ayudar entender como funcionan las herramientas preexistentes en los frameworks que usaremos."
      ]
    },
    {
      "cell_type": "markdown",
      "source": [
        "### cargar las librerias"
      ],
      "metadata": {
        "id": "kUzOIblPl7SZ"
      }
    },
    {
      "cell_type": "code",
      "execution_count": 3,
      "metadata": {
        "id": "CSaDWMHXz6Ug",
        "origin_pos": 2,
        "tab": [
          "pytorch"
        ]
      },
      "outputs": [],
      "source": [
        "%matplotlib inline\n",
        "import random\n",
        "import torch\n",
        "from matplotlib import pyplot as plt\n",
        "from matplotlib_inline import backend_inline  ###Matplotlib para que muestre los gráficos directamente en la salida de la celda del notebook, en lugar de abrir una ventana nueva. Esto se conoce como \"modo inline\"."
      ]
    },
    {
      "cell_type": "markdown",
      "metadata": {
        "id": "CRgOrKSwz6Uh",
        "origin_pos": 4
      },
      "source": [
        "### \"Dataset\"\n",
        "\n",
        "Comencemos con un modelo lineal sencillo al que añadiremos ruido gaussiano\n",
        "\n",
        "**$$\\mathbf{y}= \\mathbf{X} \\mathbf{w} + b + \\mathbf\\epsilon.$$**\n",
        "\n",
        "$$\\mathbf{w} = [2, -3.4]^\\top$$\n",
        "$$b = 4.2$$\n"
      ]
    },
    {
      "cell_type": "code",
      "execution_count": 2,
      "metadata": {
        "id": "FkoyQUAez6Uj",
        "origin_pos": 5,
        "tab": [
          "pytorch"
        ]
      },
      "outputs": [],
      "source": [
        "def synthetic_data(w, b, num_examples):\n",
        "    X = torch.normal(0, 1, (num_examples, len(w)))\n",
        "    y = torch.matmul(X, w) + b\n",
        "    y += torch.normal(0, 0.01, y.shape)\n",
        "    return X, y.reshape((-1, 1))"
      ]
    },
    {
      "cell_type": "code",
      "execution_count": 4,
      "metadata": {
        "id": "RvV55S-Wz6Ul",
        "origin_pos": 7,
        "tab": [
          "pytorch"
        ]
      },
      "outputs": [],
      "source": [
        "true_w = torch.tensor([2, -3.4])\n",
        "true_b = 4.2\n",
        "features, labels = synthetic_data(true_w, true_b, 1000)"
      ]
    },
    {
      "cell_type": "markdown",
      "metadata": {
        "id": "PNpW_tkoz6Un",
        "origin_pos": 8
      },
      "source": [
        "Es importante ver cual es la dimensionalidad de nuestros features y nuestras etiquetas.\n"
      ]
    },
    {
      "cell_type": "code",
      "execution_count": 5,
      "metadata": {
        "colab": {
          "base_uri": "https://localhost:8080/"
        },
        "id": "MBDt723Tz6Up",
        "origin_pos": 9,
        "outputId": "b25299e7-4999-430a-9e34-8b2593148ae4",
        "tab": [
          "pytorch"
        ]
      },
      "outputs": [
        {
          "output_type": "stream",
          "name": "stdout",
          "text": [
            "features: torch.Size([1000, 2]) \n",
            "label: torch.Size([1000, 1])\n"
          ]
        }
      ],
      "source": [
        "print('features:', features.shape,'\\nlabel:', labels.shape)"
      ]
    },
    {
      "cell_type": "markdown",
      "metadata": {
        "id": "Cz4ZRY0mz6Ur",
        "origin_pos": 10
      },
      "source": [
        "Podemos graficar la etiqueta y una de las features para ver este comportamiento lineal\n"
      ]
    },
    {
      "cell_type": "code",
      "execution_count": 6,
      "metadata": {
        "colab": {
          "base_uri": "https://localhost:8080/",
          "height": 250
        },
        "id": "Mm0OJKdaz6Us",
        "origin_pos": 11,
        "outputId": "d3f82f45-674a-4d82-d51c-5d37457b762c",
        "tab": [
          "pytorch"
        ]
      },
      "outputs": [
        {
          "output_type": "display_data",
          "data": {
            "text/plain": [
              "<Figure size 350x250 with 1 Axes>"
            ],
            "image/svg+xml": "<?xml version=\"1.0\" encoding=\"utf-8\" standalone=\"no\"?>\n<!DOCTYPE svg PUBLIC \"-//W3C//DTD SVG 1.1//EN\"\n  \"http://www.w3.org/Graphics/SVG/1.1/DTD/svg11.dtd\">\n<svg xmlns:xlink=\"http://www.w3.org/1999/xlink\" width=\"231.442188pt\" height=\"171.403414pt\" viewBox=\"0 0 231.442188 171.403414\" xmlns=\"http://www.w3.org/2000/svg\" version=\"1.1\">\n <metadata>\n  <rdf:RDF xmlns:dc=\"http://purl.org/dc/elements/1.1/\" xmlns:cc=\"http://creativecommons.org/ns#\" xmlns:rdf=\"http://www.w3.org/1999/02/22-rdf-syntax-ns#\">\n   <cc:Work>\n    <dc:type rdf:resource=\"http://purl.org/dc/dcmitype/StillImage\"/>\n    <dc:date>2025-01-27T16:33:44.029254</dc:date>\n    <dc:format>image/svg+xml</dc:format>\n    <dc:creator>\n     <cc:Agent>\n      <dc:title>Matplotlib v3.10.0, https://matplotlib.org/</dc:title>\n     </cc:Agent>\n    </dc:creator>\n   </cc:Work>\n  </rdf:RDF>\n </metadata>\n <defs>\n  <style type=\"text/css\">*{stroke-linejoin: round; stroke-linecap: butt}</style>\n </defs>\n <g id=\"figure_1\">\n  <g id=\"patch_1\">\n   <path d=\"M 0 171.403414 \nL 231.442188 171.403414 \nL 231.442188 0 \nL 0 0 \nz\n\" style=\"fill: #ffffff\"/>\n  </g>\n  <g id=\"axes_1\">\n   <g id=\"patch_2\">\n    <path d=\"M 28.942188 147.525289 \nL 224.242188 147.525289 \nL 224.242188 8.925289 \nL 28.942188 8.925289 \nz\n\" style=\"fill: #ffffff\"/>\n   </g>\n   <g id=\"PathCollection_1\">\n    <defs>\n     <path id=\"m76c9584e01\" d=\"M 0 0.5 \nC 0.132602 0.5 0.25979 0.447317 0.353553 0.353553 \nC 0.447317 0.25979 0.5 0.132602 0.5 0 \nC 0.5 -0.132602 0.447317 -0.25979 0.353553 -0.353553 \nC 0.25979 -0.447317 0.132602 -0.5 0 -0.5 \nC -0.132602 -0.5 -0.25979 -0.447317 -0.353553 -0.353553 \nC -0.447317 -0.25979 -0.5 -0.132602 -0.5 0 \nC -0.5 0.132602 -0.447317 0.25979 -0.353553 0.353553 \nC -0.25979 0.447317 -0.132602 0.5 0 0.5 \nz\n\" style=\"stroke: #1f77b4\"/>\n    </defs>\n    <g clip-path=\"url(#pe8d984437e)\">\n     <use xlink:href=\"#m76c9584e01\" x=\"129.438939\" y=\"79.672568\" style=\"fill: #1f77b4; stroke: #1f77b4\"/>\n     <use xlink:href=\"#m76c9584e01\" x=\"147.722865\" y=\"94.794666\" style=\"fill: #1f77b4; stroke: #1f77b4\"/>\n     <use xlink:href=\"#m76c9584e01\" x=\"153.921142\" y=\"88.832013\" style=\"fill: #1f77b4; stroke: #1f77b4\"/>\n     <use xlink:href=\"#m76c9584e01\" x=\"134.266604\" y=\"76.138317\" style=\"fill: #1f77b4; stroke: #1f77b4\"/>\n     <use xlink:href=\"#m76c9584e01\" x=\"109.847626\" y=\"71.621281\" style=\"fill: #1f77b4; stroke: #1f77b4\"/>\n     <use xlink:href=\"#m76c9584e01\" x=\"146.249989\" y=\"86.366765\" style=\"fill: #1f77b4; stroke: #1f77b4\"/>\n     <use xlink:href=\"#m76c9584e01\" x=\"137.543048\" y=\"101.075065\" style=\"fill: #1f77b4; stroke: #1f77b4\"/>\n     <use xlink:href=\"#m76c9584e01\" x=\"150.955751\" y=\"98.218648\" style=\"fill: #1f77b4; stroke: #1f77b4\"/>\n     <use xlink:href=\"#m76c9584e01\" x=\"142.032852\" y=\"94.126211\" style=\"fill: #1f77b4; stroke: #1f77b4\"/>\n     <use xlink:href=\"#m76c9584e01\" x=\"118.579217\" y=\"79.242071\" style=\"fill: #1f77b4; stroke: #1f77b4\"/>\n     <use xlink:href=\"#m76c9584e01\" x=\"97.747132\" y=\"49.093242\" style=\"fill: #1f77b4; stroke: #1f77b4\"/>\n     <use xlink:href=\"#m76c9584e01\" x=\"120.099318\" y=\"71.794456\" style=\"fill: #1f77b4; stroke: #1f77b4\"/>\n     <use xlink:href=\"#m76c9584e01\" x=\"97.663842\" y=\"66.407716\" style=\"fill: #1f77b4; stroke: #1f77b4\"/>\n     <use xlink:href=\"#m76c9584e01\" x=\"170.061528\" y=\"123.278183\" style=\"fill: #1f77b4; stroke: #1f77b4\"/>\n     <use xlink:href=\"#m76c9584e01\" x=\"138.735375\" y=\"105.027652\" style=\"fill: #1f77b4; stroke: #1f77b4\"/>\n     <use xlink:href=\"#m76c9584e01\" x=\"127.984294\" y=\"78.311866\" style=\"fill: #1f77b4; stroke: #1f77b4\"/>\n     <use xlink:href=\"#m76c9584e01\" x=\"93.595541\" y=\"75.182096\" style=\"fill: #1f77b4; stroke: #1f77b4\"/>\n     <use xlink:href=\"#m76c9584e01\" x=\"91.097841\" y=\"60.441973\" style=\"fill: #1f77b4; stroke: #1f77b4\"/>\n     <use xlink:href=\"#m76c9584e01\" x=\"119.230727\" y=\"58.620774\" style=\"fill: #1f77b4; stroke: #1f77b4\"/>\n     <use xlink:href=\"#m76c9584e01\" x=\"113.065494\" y=\"64.647891\" style=\"fill: #1f77b4; stroke: #1f77b4\"/>\n     <use xlink:href=\"#m76c9584e01\" x=\"111.28101\" y=\"77.243782\" style=\"fill: #1f77b4; stroke: #1f77b4\"/>\n     <use xlink:href=\"#m76c9584e01\" x=\"144.785545\" y=\"107.06432\" style=\"fill: #1f77b4; stroke: #1f77b4\"/>\n     <use xlink:href=\"#m76c9584e01\" x=\"159.370982\" y=\"103.655669\" style=\"fill: #1f77b4; stroke: #1f77b4\"/>\n     <use xlink:href=\"#m76c9584e01\" x=\"132.556772\" y=\"88.552948\" style=\"fill: #1f77b4; stroke: #1f77b4\"/>\n     <use xlink:href=\"#m76c9584e01\" x=\"186.674693\" y=\"102.732217\" style=\"fill: #1f77b4; stroke: #1f77b4\"/>\n     <use xlink:href=\"#m76c9584e01\" x=\"179.179573\" y=\"105.761661\" style=\"fill: #1f77b4; stroke: #1f77b4\"/>\n     <use xlink:href=\"#m76c9584e01\" x=\"134.052687\" y=\"71.849633\" style=\"fill: #1f77b4; stroke: #1f77b4\"/>\n     <use xlink:href=\"#m76c9584e01\" x=\"193.835869\" y=\"96.621088\" style=\"fill: #1f77b4; stroke: #1f77b4\"/>\n     <use xlink:href=\"#m76c9584e01\" x=\"85.719727\" y=\"46.660426\" style=\"fill: #1f77b4; stroke: #1f77b4\"/>\n     <use xlink:href=\"#m76c9584e01\" x=\"113.376464\" y=\"66.264368\" style=\"fill: #1f77b4; stroke: #1f77b4\"/>\n     <use xlink:href=\"#m76c9584e01\" x=\"132.459823\" y=\"76.000292\" style=\"fill: #1f77b4; stroke: #1f77b4\"/>\n     <use xlink:href=\"#m76c9584e01\" x=\"120.761157\" y=\"66.488135\" style=\"fill: #1f77b4; stroke: #1f77b4\"/>\n     <use xlink:href=\"#m76c9584e01\" x=\"141.168539\" y=\"95.961049\" style=\"fill: #1f77b4; stroke: #1f77b4\"/>\n     <use xlink:href=\"#m76c9584e01\" x=\"157.0023\" y=\"91.873428\" style=\"fill: #1f77b4; stroke: #1f77b4\"/>\n     <use xlink:href=\"#m76c9584e01\" x=\"120.562843\" y=\"71.006541\" style=\"fill: #1f77b4; stroke: #1f77b4\"/>\n     <use xlink:href=\"#m76c9584e01\" x=\"166.706838\" y=\"101.547288\" style=\"fill: #1f77b4; stroke: #1f77b4\"/>\n     <use xlink:href=\"#m76c9584e01\" x=\"131.308355\" y=\"85.088098\" style=\"fill: #1f77b4; stroke: #1f77b4\"/>\n     <use xlink:href=\"#m76c9584e01\" x=\"149.008853\" y=\"95.093366\" style=\"fill: #1f77b4; stroke: #1f77b4\"/>\n     <use xlink:href=\"#m76c9584e01\" x=\"116.085785\" y=\"50.325699\" style=\"fill: #1f77b4; stroke: #1f77b4\"/>\n     <use xlink:href=\"#m76c9584e01\" x=\"84.054397\" y=\"46.868884\" style=\"fill: #1f77b4; stroke: #1f77b4\"/>\n     <use xlink:href=\"#m76c9584e01\" x=\"115.263168\" y=\"57.407678\" style=\"fill: #1f77b4; stroke: #1f77b4\"/>\n     <use xlink:href=\"#m76c9584e01\" x=\"91.51079\" y=\"53.518279\" style=\"fill: #1f77b4; stroke: #1f77b4\"/>\n     <use xlink:href=\"#m76c9584e01\" x=\"136.858617\" y=\"83.464104\" style=\"fill: #1f77b4; stroke: #1f77b4\"/>\n     <use xlink:href=\"#m76c9584e01\" x=\"123.672162\" y=\"70.243319\" style=\"fill: #1f77b4; stroke: #1f77b4\"/>\n     <use xlink:href=\"#m76c9584e01\" x=\"127.152321\" y=\"80.252379\" style=\"fill: #1f77b4; stroke: #1f77b4\"/>\n     <use xlink:href=\"#m76c9584e01\" x=\"166.878191\" y=\"111.928388\" style=\"fill: #1f77b4; stroke: #1f77b4\"/>\n     <use xlink:href=\"#m76c9584e01\" x=\"171.466373\" y=\"109.682228\" style=\"fill: #1f77b4; stroke: #1f77b4\"/>\n     <use xlink:href=\"#m76c9584e01\" x=\"127.465366\" y=\"100.012948\" style=\"fill: #1f77b4; stroke: #1f77b4\"/>\n     <use xlink:href=\"#m76c9584e01\" x=\"97.082193\" y=\"68.946795\" style=\"fill: #1f77b4; stroke: #1f77b4\"/>\n     <use xlink:href=\"#m76c9584e01\" x=\"139.017957\" y=\"85.522819\" style=\"fill: #1f77b4; stroke: #1f77b4\"/>\n     <use xlink:href=\"#m76c9584e01\" x=\"156.551327\" y=\"100.596617\" style=\"fill: #1f77b4; stroke: #1f77b4\"/>\n     <use xlink:href=\"#m76c9584e01\" x=\"109.87794\" y=\"58.312366\" style=\"fill: #1f77b4; stroke: #1f77b4\"/>\n     <use xlink:href=\"#m76c9584e01\" x=\"177.063767\" y=\"92.803031\" style=\"fill: #1f77b4; stroke: #1f77b4\"/>\n     <use xlink:href=\"#m76c9584e01\" x=\"155.367376\" y=\"92.473793\" style=\"fill: #1f77b4; stroke: #1f77b4\"/>\n     <use xlink:href=\"#m76c9584e01\" x=\"158.489806\" y=\"98.822067\" style=\"fill: #1f77b4; stroke: #1f77b4\"/>\n     <use xlink:href=\"#m76c9584e01\" x=\"96.488573\" y=\"61.289058\" style=\"fill: #1f77b4; stroke: #1f77b4\"/>\n     <use xlink:href=\"#m76c9584e01\" x=\"148.158271\" y=\"88.96493\" style=\"fill: #1f77b4; stroke: #1f77b4\"/>\n     <use xlink:href=\"#m76c9584e01\" x=\"174.015573\" y=\"101.059841\" style=\"fill: #1f77b4; stroke: #1f77b4\"/>\n     <use xlink:href=\"#m76c9584e01\" x=\"104.72144\" y=\"57.464232\" style=\"fill: #1f77b4; stroke: #1f77b4\"/>\n     <use xlink:href=\"#m76c9584e01\" x=\"166.078427\" y=\"87.455542\" style=\"fill: #1f77b4; stroke: #1f77b4\"/>\n     <use xlink:href=\"#m76c9584e01\" x=\"116.342833\" y=\"58.891562\" style=\"fill: #1f77b4; stroke: #1f77b4\"/>\n     <use xlink:href=\"#m76c9584e01\" x=\"122.496069\" y=\"83.325182\" style=\"fill: #1f77b4; stroke: #1f77b4\"/>\n     <use xlink:href=\"#m76c9584e01\" x=\"180.901067\" y=\"115.662292\" style=\"fill: #1f77b4; stroke: #1f77b4\"/>\n     <use xlink:href=\"#m76c9584e01\" x=\"97.600472\" y=\"61.865109\" style=\"fill: #1f77b4; stroke: #1f77b4\"/>\n     <use xlink:href=\"#m76c9584e01\" x=\"192.970225\" y=\"99.587189\" style=\"fill: #1f77b4; stroke: #1f77b4\"/>\n     <use xlink:href=\"#m76c9584e01\" x=\"133.470815\" y=\"70.621706\" style=\"fill: #1f77b4; stroke: #1f77b4\"/>\n     <use xlink:href=\"#m76c9584e01\" x=\"146.017883\" y=\"97.613616\" style=\"fill: #1f77b4; stroke: #1f77b4\"/>\n     <use xlink:href=\"#m76c9584e01\" x=\"107.090826\" y=\"63.818524\" style=\"fill: #1f77b4; stroke: #1f77b4\"/>\n     <use xlink:href=\"#m76c9584e01\" x=\"141.011354\" y=\"86.343471\" style=\"fill: #1f77b4; stroke: #1f77b4\"/>\n     <use xlink:href=\"#m76c9584e01\" x=\"136.677552\" y=\"74.51754\" style=\"fill: #1f77b4; stroke: #1f77b4\"/>\n     <use xlink:href=\"#m76c9584e01\" x=\"129.449626\" y=\"78.980219\" style=\"fill: #1f77b4; stroke: #1f77b4\"/>\n     <use xlink:href=\"#m76c9584e01\" x=\"139.817681\" y=\"92.37963\" style=\"fill: #1f77b4; stroke: #1f77b4\"/>\n     <use xlink:href=\"#m76c9584e01\" x=\"145.415896\" y=\"70.130693\" style=\"fill: #1f77b4; stroke: #1f77b4\"/>\n     <use xlink:href=\"#m76c9584e01\" x=\"154.025011\" y=\"96.610501\" style=\"fill: #1f77b4; stroke: #1f77b4\"/>\n     <use xlink:href=\"#m76c9584e01\" x=\"94.661674\" y=\"45.432685\" style=\"fill: #1f77b4; stroke: #1f77b4\"/>\n     <use xlink:href=\"#m76c9584e01\" x=\"51.358128\" y=\"50.209115\" style=\"fill: #1f77b4; stroke: #1f77b4\"/>\n     <use xlink:href=\"#m76c9584e01\" x=\"157.78614\" y=\"85.336923\" style=\"fill: #1f77b4; stroke: #1f77b4\"/>\n     <use xlink:href=\"#m76c9584e01\" x=\"186.658388\" y=\"102.269705\" style=\"fill: #1f77b4; stroke: #1f77b4\"/>\n     <use xlink:href=\"#m76c9584e01\" x=\"145.467044\" y=\"81.204015\" style=\"fill: #1f77b4; stroke: #1f77b4\"/>\n     <use xlink:href=\"#m76c9584e01\" x=\"140.417035\" y=\"88.576415\" style=\"fill: #1f77b4; stroke: #1f77b4\"/>\n     <use xlink:href=\"#m76c9584e01\" x=\"111.345088\" y=\"67.957514\" style=\"fill: #1f77b4; stroke: #1f77b4\"/>\n     <use xlink:href=\"#m76c9584e01\" x=\"154.976519\" y=\"110.111798\" style=\"fill: #1f77b4; stroke: #1f77b4\"/>\n     <use xlink:href=\"#m76c9584e01\" x=\"136.760928\" y=\"79.955552\" style=\"fill: #1f77b4; stroke: #1f77b4\"/>\n     <use xlink:href=\"#m76c9584e01\" x=\"166.139778\" y=\"109.64327\" style=\"fill: #1f77b4; stroke: #1f77b4\"/>\n     <use xlink:href=\"#m76c9584e01\" x=\"116.801573\" y=\"66.521633\" style=\"fill: #1f77b4; stroke: #1f77b4\"/>\n     <use xlink:href=\"#m76c9584e01\" x=\"162.667929\" y=\"95.894951\" style=\"fill: #1f77b4; stroke: #1f77b4\"/>\n     <use xlink:href=\"#m76c9584e01\" x=\"202.614439\" y=\"113.912815\" style=\"fill: #1f77b4; stroke: #1f77b4\"/>\n     <use xlink:href=\"#m76c9584e01\" x=\"128.984861\" y=\"74.213481\" style=\"fill: #1f77b4; stroke: #1f77b4\"/>\n     <use xlink:href=\"#m76c9584e01\" x=\"116.435789\" y=\"72.061186\" style=\"fill: #1f77b4; stroke: #1f77b4\"/>\n     <use xlink:href=\"#m76c9584e01\" x=\"109.679813\" y=\"67.799316\" style=\"fill: #1f77b4; stroke: #1f77b4\"/>\n     <use xlink:href=\"#m76c9584e01\" x=\"94.222817\" y=\"54.656444\" style=\"fill: #1f77b4; stroke: #1f77b4\"/>\n     <use xlink:href=\"#m76c9584e01\" x=\"174.396996\" y=\"108.04174\" style=\"fill: #1f77b4; stroke: #1f77b4\"/>\n     <use xlink:href=\"#m76c9584e01\" x=\"125.999881\" y=\"88.915746\" style=\"fill: #1f77b4; stroke: #1f77b4\"/>\n     <use xlink:href=\"#m76c9584e01\" x=\"118.392373\" y=\"73.791039\" style=\"fill: #1f77b4; stroke: #1f77b4\"/>\n     <use xlink:href=\"#m76c9584e01\" x=\"130.975199\" y=\"81.852474\" style=\"fill: #1f77b4; stroke: #1f77b4\"/>\n     <use xlink:href=\"#m76c9584e01\" x=\"108.379974\" y=\"60.62604\" style=\"fill: #1f77b4; stroke: #1f77b4\"/>\n     <use xlink:href=\"#m76c9584e01\" x=\"130.637342\" y=\"89.820572\" style=\"fill: #1f77b4; stroke: #1f77b4\"/>\n     <use xlink:href=\"#m76c9584e01\" x=\"144.127643\" y=\"89.234001\" style=\"fill: #1f77b4; stroke: #1f77b4\"/>\n     <use xlink:href=\"#m76c9584e01\" x=\"155.377837\" y=\"109.276831\" style=\"fill: #1f77b4; stroke: #1f77b4\"/>\n     <use xlink:href=\"#m76c9584e01\" x=\"136.631589\" y=\"91.649739\" style=\"fill: #1f77b4; stroke: #1f77b4\"/>\n     <use xlink:href=\"#m76c9584e01\" x=\"196.029443\" y=\"104.486159\" style=\"fill: #1f77b4; stroke: #1f77b4\"/>\n     <use xlink:href=\"#m76c9584e01\" x=\"163.240157\" y=\"110.817983\" style=\"fill: #1f77b4; stroke: #1f77b4\"/>\n     <use xlink:href=\"#m76c9584e01\" x=\"179.108792\" y=\"108.293201\" style=\"fill: #1f77b4; stroke: #1f77b4\"/>\n     <use xlink:href=\"#m76c9584e01\" x=\"137.720551\" y=\"86.951284\" style=\"fill: #1f77b4; stroke: #1f77b4\"/>\n     <use xlink:href=\"#m76c9584e01\" x=\"181.658528\" y=\"108.430477\" style=\"fill: #1f77b4; stroke: #1f77b4\"/>\n     <use xlink:href=\"#m76c9584e01\" x=\"169.649689\" y=\"104.363869\" style=\"fill: #1f77b4; stroke: #1f77b4\"/>\n     <use xlink:href=\"#m76c9584e01\" x=\"185.908724\" y=\"120.752961\" style=\"fill: #1f77b4; stroke: #1f77b4\"/>\n     <use xlink:href=\"#m76c9584e01\" x=\"124.905442\" y=\"94.42487\" style=\"fill: #1f77b4; stroke: #1f77b4\"/>\n     <use xlink:href=\"#m76c9584e01\" x=\"111.568929\" y=\"88.207106\" style=\"fill: #1f77b4; stroke: #1f77b4\"/>\n     <use xlink:href=\"#m76c9584e01\" x=\"138.98138\" y=\"77.960144\" style=\"fill: #1f77b4; stroke: #1f77b4\"/>\n     <use xlink:href=\"#m76c9584e01\" x=\"133.999408\" y=\"88.476661\" style=\"fill: #1f77b4; stroke: #1f77b4\"/>\n     <use xlink:href=\"#m76c9584e01\" x=\"121.369962\" y=\"70.152831\" style=\"fill: #1f77b4; stroke: #1f77b4\"/>\n     <use xlink:href=\"#m76c9584e01\" x=\"116.80993\" y=\"92.85482\" style=\"fill: #1f77b4; stroke: #1f77b4\"/>\n     <use xlink:href=\"#m76c9584e01\" x=\"117.586183\" y=\"68.372073\" style=\"fill: #1f77b4; stroke: #1f77b4\"/>\n     <use xlink:href=\"#m76c9584e01\" x=\"83.097771\" y=\"38.660568\" style=\"fill: #1f77b4; stroke: #1f77b4\"/>\n     <use xlink:href=\"#m76c9584e01\" x=\"120.563257\" y=\"64.250163\" style=\"fill: #1f77b4; stroke: #1f77b4\"/>\n     <use xlink:href=\"#m76c9584e01\" x=\"163.914193\" y=\"104.509363\" style=\"fill: #1f77b4; stroke: #1f77b4\"/>\n     <use xlink:href=\"#m76c9584e01\" x=\"155.545662\" y=\"107.528225\" style=\"fill: #1f77b4; stroke: #1f77b4\"/>\n     <use xlink:href=\"#m76c9584e01\" x=\"151.823408\" y=\"104.345704\" style=\"fill: #1f77b4; stroke: #1f77b4\"/>\n     <use xlink:href=\"#m76c9584e01\" x=\"180.327642\" y=\"114.724538\" style=\"fill: #1f77b4; stroke: #1f77b4\"/>\n     <use xlink:href=\"#m76c9584e01\" x=\"115.532074\" y=\"73.216301\" style=\"fill: #1f77b4; stroke: #1f77b4\"/>\n     <use xlink:href=\"#m76c9584e01\" x=\"148.707136\" y=\"75.102511\" style=\"fill: #1f77b4; stroke: #1f77b4\"/>\n     <use xlink:href=\"#m76c9584e01\" x=\"143.602932\" y=\"91.050318\" style=\"fill: #1f77b4; stroke: #1f77b4\"/>\n     <use xlink:href=\"#m76c9584e01\" x=\"122.308772\" y=\"92.100711\" style=\"fill: #1f77b4; stroke: #1f77b4\"/>\n     <use xlink:href=\"#m76c9584e01\" x=\"100.049718\" y=\"54.275924\" style=\"fill: #1f77b4; stroke: #1f77b4\"/>\n     <use xlink:href=\"#m76c9584e01\" x=\"126.375981\" y=\"90.028983\" style=\"fill: #1f77b4; stroke: #1f77b4\"/>\n     <use xlink:href=\"#m76c9584e01\" x=\"146.218186\" y=\"109.452644\" style=\"fill: #1f77b4; stroke: #1f77b4\"/>\n     <use xlink:href=\"#m76c9584e01\" x=\"134.70247\" y=\"89.703771\" style=\"fill: #1f77b4; stroke: #1f77b4\"/>\n     <use xlink:href=\"#m76c9584e01\" x=\"123.782297\" y=\"70.928503\" style=\"fill: #1f77b4; stroke: #1f77b4\"/>\n     <use xlink:href=\"#m76c9584e01\" x=\"130.745516\" y=\"88.911784\" style=\"fill: #1f77b4; stroke: #1f77b4\"/>\n     <use xlink:href=\"#m76c9584e01\" x=\"95.840833\" y=\"59.840822\" style=\"fill: #1f77b4; stroke: #1f77b4\"/>\n     <use xlink:href=\"#m76c9584e01\" x=\"136.796701\" y=\"77.419049\" style=\"fill: #1f77b4; stroke: #1f77b4\"/>\n     <use xlink:href=\"#m76c9584e01\" x=\"129.566427\" y=\"90.120436\" style=\"fill: #1f77b4; stroke: #1f77b4\"/>\n     <use xlink:href=\"#m76c9584e01\" x=\"185.488869\" y=\"111.720785\" style=\"fill: #1f77b4; stroke: #1f77b4\"/>\n     <use xlink:href=\"#m76c9584e01\" x=\"98.817092\" y=\"62.282244\" style=\"fill: #1f77b4; stroke: #1f77b4\"/>\n     <use xlink:href=\"#m76c9584e01\" x=\"133.673321\" y=\"82.511359\" style=\"fill: #1f77b4; stroke: #1f77b4\"/>\n     <use xlink:href=\"#m76c9584e01\" x=\"202.94314\" y=\"133.391276\" style=\"fill: #1f77b4; stroke: #1f77b4\"/>\n     <use xlink:href=\"#m76c9584e01\" x=\"138.151443\" y=\"87.331208\" style=\"fill: #1f77b4; stroke: #1f77b4\"/>\n     <use xlink:href=\"#m76c9584e01\" x=\"91.031135\" y=\"45.334177\" style=\"fill: #1f77b4; stroke: #1f77b4\"/>\n     <use xlink:href=\"#m76c9584e01\" x=\"130.542539\" y=\"93.606195\" style=\"fill: #1f77b4; stroke: #1f77b4\"/>\n     <use xlink:href=\"#m76c9584e01\" x=\"155.011294\" y=\"103.158608\" style=\"fill: #1f77b4; stroke: #1f77b4\"/>\n     <use xlink:href=\"#m76c9584e01\" x=\"144.751176\" y=\"85.316705\" style=\"fill: #1f77b4; stroke: #1f77b4\"/>\n     <use xlink:href=\"#m76c9584e01\" x=\"193.512548\" y=\"117.815459\" style=\"fill: #1f77b4; stroke: #1f77b4\"/>\n     <use xlink:href=\"#m76c9584e01\" x=\"144.43163\" y=\"93.937529\" style=\"fill: #1f77b4; stroke: #1f77b4\"/>\n     <use xlink:href=\"#m76c9584e01\" x=\"128.593549\" y=\"73.112917\" style=\"fill: #1f77b4; stroke: #1f77b4\"/>\n     <use xlink:href=\"#m76c9584e01\" x=\"121.164831\" y=\"79.60668\" style=\"fill: #1f77b4; stroke: #1f77b4\"/>\n     <use xlink:href=\"#m76c9584e01\" x=\"122.682894\" y=\"91.839463\" style=\"fill: #1f77b4; stroke: #1f77b4\"/>\n     <use xlink:href=\"#m76c9584e01\" x=\"126.010005\" y=\"69.499183\" style=\"fill: #1f77b4; stroke: #1f77b4\"/>\n     <use xlink:href=\"#m76c9584e01\" x=\"106.170703\" y=\"70.138184\" style=\"fill: #1f77b4; stroke: #1f77b4\"/>\n     <use xlink:href=\"#m76c9584e01\" x=\"137.723936\" y=\"82.724877\" style=\"fill: #1f77b4; stroke: #1f77b4\"/>\n     <use xlink:href=\"#m76c9584e01\" x=\"150.378279\" y=\"99.976237\" style=\"fill: #1f77b4; stroke: #1f77b4\"/>\n     <use xlink:href=\"#m76c9584e01\" x=\"126.39476\" y=\"85.317005\" style=\"fill: #1f77b4; stroke: #1f77b4\"/>\n     <use xlink:href=\"#m76c9584e01\" x=\"110.589415\" y=\"76.999894\" style=\"fill: #1f77b4; stroke: #1f77b4\"/>\n     <use xlink:href=\"#m76c9584e01\" x=\"150.864479\" y=\"78.96259\" style=\"fill: #1f77b4; stroke: #1f77b4\"/>\n     <use xlink:href=\"#m76c9584e01\" x=\"162.153144\" y=\"102.655204\" style=\"fill: #1f77b4; stroke: #1f77b4\"/>\n     <use xlink:href=\"#m76c9584e01\" x=\"161.668358\" y=\"99.891113\" style=\"fill: #1f77b4; stroke: #1f77b4\"/>\n     <use xlink:href=\"#m76c9584e01\" x=\"170.705898\" y=\"107.692739\" style=\"fill: #1f77b4; stroke: #1f77b4\"/>\n     <use xlink:href=\"#m76c9584e01\" x=\"158.516314\" y=\"77.510415\" style=\"fill: #1f77b4; stroke: #1f77b4\"/>\n     <use xlink:href=\"#m76c9584e01\" x=\"178.971859\" y=\"114.211107\" style=\"fill: #1f77b4; stroke: #1f77b4\"/>\n     <use xlink:href=\"#m76c9584e01\" x=\"137.385685\" y=\"69.71909\" style=\"fill: #1f77b4; stroke: #1f77b4\"/>\n     <use xlink:href=\"#m76c9584e01\" x=\"123.281008\" y=\"89.07075\" style=\"fill: #1f77b4; stroke: #1f77b4\"/>\n     <use xlink:href=\"#m76c9584e01\" x=\"169.343709\" y=\"118.92715\" style=\"fill: #1f77b4; stroke: #1f77b4\"/>\n     <use xlink:href=\"#m76c9584e01\" x=\"159.850875\" y=\"103.84199\" style=\"fill: #1f77b4; stroke: #1f77b4\"/>\n     <use xlink:href=\"#m76c9584e01\" x=\"145.098709\" y=\"88.242963\" style=\"fill: #1f77b4; stroke: #1f77b4\"/>\n     <use xlink:href=\"#m76c9584e01\" x=\"130.999046\" y=\"106.415123\" style=\"fill: #1f77b4; stroke: #1f77b4\"/>\n     <use xlink:href=\"#m76c9584e01\" x=\"168.622622\" y=\"118.61134\" style=\"fill: #1f77b4; stroke: #1f77b4\"/>\n     <use xlink:href=\"#m76c9584e01\" x=\"121.676777\" y=\"75.909458\" style=\"fill: #1f77b4; stroke: #1f77b4\"/>\n     <use xlink:href=\"#m76c9584e01\" x=\"156.337633\" y=\"95.786316\" style=\"fill: #1f77b4; stroke: #1f77b4\"/>\n     <use xlink:href=\"#m76c9584e01\" x=\"125.846471\" y=\"81.179026\" style=\"fill: #1f77b4; stroke: #1f77b4\"/>\n     <use xlink:href=\"#m76c9584e01\" x=\"125.716685\" y=\"99.188072\" style=\"fill: #1f77b4; stroke: #1f77b4\"/>\n     <use xlink:href=\"#m76c9584e01\" x=\"157.063081\" y=\"94.312758\" style=\"fill: #1f77b4; stroke: #1f77b4\"/>\n     <use xlink:href=\"#m76c9584e01\" x=\"135.012923\" y=\"95.7726\" style=\"fill: #1f77b4; stroke: #1f77b4\"/>\n     <use xlink:href=\"#m76c9584e01\" x=\"176.077541\" y=\"113.625802\" style=\"fill: #1f77b4; stroke: #1f77b4\"/>\n     <use xlink:href=\"#m76c9584e01\" x=\"170.485347\" y=\"95.72511\" style=\"fill: #1f77b4; stroke: #1f77b4\"/>\n     <use xlink:href=\"#m76c9584e01\" x=\"109.565727\" y=\"60.323644\" style=\"fill: #1f77b4; stroke: #1f77b4\"/>\n     <use xlink:href=\"#m76c9584e01\" x=\"153.236755\" y=\"100.087439\" style=\"fill: #1f77b4; stroke: #1f77b4\"/>\n     <use xlink:href=\"#m76c9584e01\" x=\"153.788345\" y=\"91.66653\" style=\"fill: #1f77b4; stroke: #1f77b4\"/>\n     <use xlink:href=\"#m76c9584e01\" x=\"161.961131\" y=\"96.913256\" style=\"fill: #1f77b4; stroke: #1f77b4\"/>\n     <use xlink:href=\"#m76c9584e01\" x=\"117.558477\" y=\"75.631977\" style=\"fill: #1f77b4; stroke: #1f77b4\"/>\n     <use xlink:href=\"#m76c9584e01\" x=\"114.631115\" y=\"84.789056\" style=\"fill: #1f77b4; stroke: #1f77b4\"/>\n     <use xlink:href=\"#m76c9584e01\" x=\"126.529291\" y=\"74.825604\" style=\"fill: #1f77b4; stroke: #1f77b4\"/>\n     <use xlink:href=\"#m76c9584e01\" x=\"106.325939\" y=\"74.826254\" style=\"fill: #1f77b4; stroke: #1f77b4\"/>\n     <use xlink:href=\"#m76c9584e01\" x=\"124.399431\" y=\"56.426356\" style=\"fill: #1f77b4; stroke: #1f77b4\"/>\n     <use xlink:href=\"#m76c9584e01\" x=\"134.724067\" y=\"86.324775\" style=\"fill: #1f77b4; stroke: #1f77b4\"/>\n     <use xlink:href=\"#m76c9584e01\" x=\"164.891321\" y=\"93.936799\" style=\"fill: #1f77b4; stroke: #1f77b4\"/>\n     <use xlink:href=\"#m76c9584e01\" x=\"152.608103\" y=\"112.747637\" style=\"fill: #1f77b4; stroke: #1f77b4\"/>\n     <use xlink:href=\"#m76c9584e01\" x=\"123.980551\" y=\"86.621663\" style=\"fill: #1f77b4; stroke: #1f77b4\"/>\n     <use xlink:href=\"#m76c9584e01\" x=\"141.277665\" y=\"85.585966\" style=\"fill: #1f77b4; stroke: #1f77b4\"/>\n     <use xlink:href=\"#m76c9584e01\" x=\"137.785223\" y=\"67.814134\" style=\"fill: #1f77b4; stroke: #1f77b4\"/>\n     <use xlink:href=\"#m76c9584e01\" x=\"106.302912\" y=\"69.520085\" style=\"fill: #1f77b4; stroke: #1f77b4\"/>\n     <use xlink:href=\"#m76c9584e01\" x=\"111.668125\" y=\"93.837946\" style=\"fill: #1f77b4; stroke: #1f77b4\"/>\n     <use xlink:href=\"#m76c9584e01\" x=\"160.362956\" y=\"103.280535\" style=\"fill: #1f77b4; stroke: #1f77b4\"/>\n     <use xlink:href=\"#m76c9584e01\" x=\"125.823566\" y=\"77.92438\" style=\"fill: #1f77b4; stroke: #1f77b4\"/>\n     <use xlink:href=\"#m76c9584e01\" x=\"159.52176\" y=\"101.82067\" style=\"fill: #1f77b4; stroke: #1f77b4\"/>\n     <use xlink:href=\"#m76c9584e01\" x=\"117.522951\" y=\"78.577358\" style=\"fill: #1f77b4; stroke: #1f77b4\"/>\n     <use xlink:href=\"#m76c9584e01\" x=\"164.54026\" y=\"97.331793\" style=\"fill: #1f77b4; stroke: #1f77b4\"/>\n     <use xlink:href=\"#m76c9584e01\" x=\"131.730863\" y=\"81.593275\" style=\"fill: #1f77b4; stroke: #1f77b4\"/>\n     <use xlink:href=\"#m76c9584e01\" x=\"173.464216\" y=\"109.610202\" style=\"fill: #1f77b4; stroke: #1f77b4\"/>\n     <use xlink:href=\"#m76c9584e01\" x=\"210.182798\" y=\"135.273133\" style=\"fill: #1f77b4; stroke: #1f77b4\"/>\n     <use xlink:href=\"#m76c9584e01\" x=\"126.354435\" y=\"68.184012\" style=\"fill: #1f77b4; stroke: #1f77b4\"/>\n     <use xlink:href=\"#m76c9584e01\" x=\"141.602134\" y=\"102.807763\" style=\"fill: #1f77b4; stroke: #1f77b4\"/>\n     <use xlink:href=\"#m76c9584e01\" x=\"184.00224\" y=\"123.934717\" style=\"fill: #1f77b4; stroke: #1f77b4\"/>\n     <use xlink:href=\"#m76c9584e01\" x=\"164.424488\" y=\"106.423975\" style=\"fill: #1f77b4; stroke: #1f77b4\"/>\n     <use xlink:href=\"#m76c9584e01\" x=\"144.680942\" y=\"82.20538\" style=\"fill: #1f77b4; stroke: #1f77b4\"/>\n     <use xlink:href=\"#m76c9584e01\" x=\"132.066982\" y=\"83.236386\" style=\"fill: #1f77b4; stroke: #1f77b4\"/>\n     <use xlink:href=\"#m76c9584e01\" x=\"152.975938\" y=\"97.53929\" style=\"fill: #1f77b4; stroke: #1f77b4\"/>\n     <use xlink:href=\"#m76c9584e01\" x=\"83.877027\" y=\"40.584343\" style=\"fill: #1f77b4; stroke: #1f77b4\"/>\n     <use xlink:href=\"#m76c9584e01\" x=\"153.218473\" y=\"91.05234\" style=\"fill: #1f77b4; stroke: #1f77b4\"/>\n     <use xlink:href=\"#m76c9584e01\" x=\"125.66725\" y=\"66.038283\" style=\"fill: #1f77b4; stroke: #1f77b4\"/>\n     <use xlink:href=\"#m76c9584e01\" x=\"173.218304\" y=\"116.230008\" style=\"fill: #1f77b4; stroke: #1f77b4\"/>\n     <use xlink:href=\"#m76c9584e01\" x=\"121.863571\" y=\"80.506286\" style=\"fill: #1f77b4; stroke: #1f77b4\"/>\n     <use xlink:href=\"#m76c9584e01\" x=\"159.990197\" y=\"108.306421\" style=\"fill: #1f77b4; stroke: #1f77b4\"/>\n     <use xlink:href=\"#m76c9584e01\" x=\"129.317173\" y=\"93.334577\" style=\"fill: #1f77b4; stroke: #1f77b4\"/>\n     <use xlink:href=\"#m76c9584e01\" x=\"101.741492\" y=\"50.574277\" style=\"fill: #1f77b4; stroke: #1f77b4\"/>\n     <use xlink:href=\"#m76c9584e01\" x=\"168.659939\" y=\"101.463136\" style=\"fill: #1f77b4; stroke: #1f77b4\"/>\n     <use xlink:href=\"#m76c9584e01\" x=\"129.395721\" y=\"85.410251\" style=\"fill: #1f77b4; stroke: #1f77b4\"/>\n     <use xlink:href=\"#m76c9584e01\" x=\"169.517\" y=\"95.786726\" style=\"fill: #1f77b4; stroke: #1f77b4\"/>\n     <use xlink:href=\"#m76c9584e01\" x=\"112.960631\" y=\"69.562537\" style=\"fill: #1f77b4; stroke: #1f77b4\"/>\n     <use xlink:href=\"#m76c9584e01\" x=\"172.671053\" y=\"105.355828\" style=\"fill: #1f77b4; stroke: #1f77b4\"/>\n     <use xlink:href=\"#m76c9584e01\" x=\"97.422871\" y=\"61.14117\" style=\"fill: #1f77b4; stroke: #1f77b4\"/>\n     <use xlink:href=\"#m76c9584e01\" x=\"136.050818\" y=\"66.156989\" style=\"fill: #1f77b4; stroke: #1f77b4\"/>\n     <use xlink:href=\"#m76c9584e01\" x=\"190.285717\" y=\"111.196723\" style=\"fill: #1f77b4; stroke: #1f77b4\"/>\n     <use xlink:href=\"#m76c9584e01\" x=\"138.653877\" y=\"88.211572\" style=\"fill: #1f77b4; stroke: #1f77b4\"/>\n     <use xlink:href=\"#m76c9584e01\" x=\"90.219175\" y=\"61.699768\" style=\"fill: #1f77b4; stroke: #1f77b4\"/>\n     <use xlink:href=\"#m76c9584e01\" x=\"117.859014\" y=\"89.878594\" style=\"fill: #1f77b4; stroke: #1f77b4\"/>\n     <use xlink:href=\"#m76c9584e01\" x=\"114.9359\" y=\"83.545502\" style=\"fill: #1f77b4; stroke: #1f77b4\"/>\n     <use xlink:href=\"#m76c9584e01\" x=\"122.731345\" y=\"68.603417\" style=\"fill: #1f77b4; stroke: #1f77b4\"/>\n     <use xlink:href=\"#m76c9584e01\" x=\"128.942046\" y=\"78.559491\" style=\"fill: #1f77b4; stroke: #1f77b4\"/>\n     <use xlink:href=\"#m76c9584e01\" x=\"121.481508\" y=\"97.921005\" style=\"fill: #1f77b4; stroke: #1f77b4\"/>\n     <use xlink:href=\"#m76c9584e01\" x=\"185.715566\" y=\"114.789963\" style=\"fill: #1f77b4; stroke: #1f77b4\"/>\n     <use xlink:href=\"#m76c9584e01\" x=\"111.290171\" y=\"66.5795\" style=\"fill: #1f77b4; stroke: #1f77b4\"/>\n     <use xlink:href=\"#m76c9584e01\" x=\"183.427816\" y=\"116.213121\" style=\"fill: #1f77b4; stroke: #1f77b4\"/>\n     <use xlink:href=\"#m76c9584e01\" x=\"150.742979\" y=\"98.564096\" style=\"fill: #1f77b4; stroke: #1f77b4\"/>\n     <use xlink:href=\"#m76c9584e01\" x=\"119.492173\" y=\"80.527384\" style=\"fill: #1f77b4; stroke: #1f77b4\"/>\n     <use xlink:href=\"#m76c9584e01\" x=\"170.022199\" y=\"94.674093\" style=\"fill: #1f77b4; stroke: #1f77b4\"/>\n     <use xlink:href=\"#m76c9584e01\" x=\"163.749168\" y=\"90.876538\" style=\"fill: #1f77b4; stroke: #1f77b4\"/>\n     <use xlink:href=\"#m76c9584e01\" x=\"159.770483\" y=\"102.104925\" style=\"fill: #1f77b4; stroke: #1f77b4\"/>\n     <use xlink:href=\"#m76c9584e01\" x=\"118.440994\" y=\"84.847968\" style=\"fill: #1f77b4; stroke: #1f77b4\"/>\n     <use xlink:href=\"#m76c9584e01\" x=\"126.135026\" y=\"94.78873\" style=\"fill: #1f77b4; stroke: #1f77b4\"/>\n     <use xlink:href=\"#m76c9584e01\" x=\"189.554381\" y=\"123.12683\" style=\"fill: #1f77b4; stroke: #1f77b4\"/>\n     <use xlink:href=\"#m76c9584e01\" x=\"125.675438\" y=\"69.70302\" style=\"fill: #1f77b4; stroke: #1f77b4\"/>\n     <use xlink:href=\"#m76c9584e01\" x=\"140.077507\" y=\"93.754189\" style=\"fill: #1f77b4; stroke: #1f77b4\"/>\n     <use xlink:href=\"#m76c9584e01\" x=\"138.027268\" y=\"99.907629\" style=\"fill: #1f77b4; stroke: #1f77b4\"/>\n     <use xlink:href=\"#m76c9584e01\" x=\"144.182322\" y=\"91.996433\" style=\"fill: #1f77b4; stroke: #1f77b4\"/>\n     <use xlink:href=\"#m76c9584e01\" x=\"91.831703\" y=\"64.386678\" style=\"fill: #1f77b4; stroke: #1f77b4\"/>\n     <use xlink:href=\"#m76c9584e01\" x=\"163.926797\" y=\"98.372718\" style=\"fill: #1f77b4; stroke: #1f77b4\"/>\n     <use xlink:href=\"#m76c9584e01\" x=\"125.500115\" y=\"84.727408\" style=\"fill: #1f77b4; stroke: #1f77b4\"/>\n     <use xlink:href=\"#m76c9584e01\" x=\"124.775178\" y=\"74.816323\" style=\"fill: #1f77b4; stroke: #1f77b4\"/>\n     <use xlink:href=\"#m76c9584e01\" x=\"123.849907\" y=\"65.90584\" style=\"fill: #1f77b4; stroke: #1f77b4\"/>\n     <use xlink:href=\"#m76c9584e01\" x=\"151.685092\" y=\"88.330091\" style=\"fill: #1f77b4; stroke: #1f77b4\"/>\n     <use xlink:href=\"#m76c9584e01\" x=\"136.020749\" y=\"85.845221\" style=\"fill: #1f77b4; stroke: #1f77b4\"/>\n     <use xlink:href=\"#m76c9584e01\" x=\"173.730613\" y=\"101.645086\" style=\"fill: #1f77b4; stroke: #1f77b4\"/>\n     <use xlink:href=\"#m76c9584e01\" x=\"105.184688\" y=\"80.098064\" style=\"fill: #1f77b4; stroke: #1f77b4\"/>\n     <use xlink:href=\"#m76c9584e01\" x=\"171.311875\" y=\"94.898474\" style=\"fill: #1f77b4; stroke: #1f77b4\"/>\n     <use xlink:href=\"#m76c9584e01\" x=\"132.748449\" y=\"71.853666\" style=\"fill: #1f77b4; stroke: #1f77b4\"/>\n     <use xlink:href=\"#m76c9584e01\" x=\"121.290107\" y=\"75.359201\" style=\"fill: #1f77b4; stroke: #1f77b4\"/>\n     <use xlink:href=\"#m76c9584e01\" x=\"157.321162\" y=\"77.628835\" style=\"fill: #1f77b4; stroke: #1f77b4\"/>\n     <use xlink:href=\"#m76c9584e01\" x=\"110.60052\" y=\"56.229008\" style=\"fill: #1f77b4; stroke: #1f77b4\"/>\n     <use xlink:href=\"#m76c9584e01\" x=\"144.172958\" y=\"97.232904\" style=\"fill: #1f77b4; stroke: #1f77b4\"/>\n     <use xlink:href=\"#m76c9584e01\" x=\"115.426917\" y=\"66.430299\" style=\"fill: #1f77b4; stroke: #1f77b4\"/>\n     <use xlink:href=\"#m76c9584e01\" x=\"179.25007\" y=\"100.121346\" style=\"fill: #1f77b4; stroke: #1f77b4\"/>\n     <use xlink:href=\"#m76c9584e01\" x=\"139.078804\" y=\"97.254393\" style=\"fill: #1f77b4; stroke: #1f77b4\"/>\n     <use xlink:href=\"#m76c9584e01\" x=\"146.099852\" y=\"84.53294\" style=\"fill: #1f77b4; stroke: #1f77b4\"/>\n     <use xlink:href=\"#m76c9584e01\" x=\"123.602711\" y=\"69.55192\" style=\"fill: #1f77b4; stroke: #1f77b4\"/>\n     <use xlink:href=\"#m76c9584e01\" x=\"145.269973\" y=\"86.399952\" style=\"fill: #1f77b4; stroke: #1f77b4\"/>\n     <use xlink:href=\"#m76c9584e01\" x=\"202.75383\" y=\"121.492757\" style=\"fill: #1f77b4; stroke: #1f77b4\"/>\n     <use xlink:href=\"#m76c9584e01\" x=\"189.990892\" y=\"124.549291\" style=\"fill: #1f77b4; stroke: #1f77b4\"/>\n     <use xlink:href=\"#m76c9584e01\" x=\"115.281846\" y=\"92.345834\" style=\"fill: #1f77b4; stroke: #1f77b4\"/>\n     <use xlink:href=\"#m76c9584e01\" x=\"136.491945\" y=\"101.973016\" style=\"fill: #1f77b4; stroke: #1f77b4\"/>\n     <use xlink:href=\"#m76c9584e01\" x=\"112.673006\" y=\"74.315382\" style=\"fill: #1f77b4; stroke: #1f77b4\"/>\n     <use xlink:href=\"#m76c9584e01\" x=\"191.940307\" y=\"109.826964\" style=\"fill: #1f77b4; stroke: #1f77b4\"/>\n     <use xlink:href=\"#m76c9584e01\" x=\"119.794551\" y=\"76.900209\" style=\"fill: #1f77b4; stroke: #1f77b4\"/>\n     <use xlink:href=\"#m76c9584e01\" x=\"139.825579\" y=\"74.331176\" style=\"fill: #1f77b4; stroke: #1f77b4\"/>\n     <use xlink:href=\"#m76c9584e01\" x=\"174.707264\" y=\"100.673192\" style=\"fill: #1f77b4; stroke: #1f77b4\"/>\n     <use xlink:href=\"#m76c9584e01\" x=\"154.648132\" y=\"102.839151\" style=\"fill: #1f77b4; stroke: #1f77b4\"/>\n     <use xlink:href=\"#m76c9584e01\" x=\"120.472107\" y=\"72.653152\" style=\"fill: #1f77b4; stroke: #1f77b4\"/>\n     <use xlink:href=\"#m76c9584e01\" x=\"168.153501\" y=\"102.617664\" style=\"fill: #1f77b4; stroke: #1f77b4\"/>\n     <use xlink:href=\"#m76c9584e01\" x=\"162.296746\" y=\"113.281958\" style=\"fill: #1f77b4; stroke: #1f77b4\"/>\n     <use xlink:href=\"#m76c9584e01\" x=\"136.105395\" y=\"81.07967\" style=\"fill: #1f77b4; stroke: #1f77b4\"/>\n     <use xlink:href=\"#m76c9584e01\" x=\"176.103316\" y=\"103.101229\" style=\"fill: #1f77b4; stroke: #1f77b4\"/>\n     <use xlink:href=\"#m76c9584e01\" x=\"149.454\" y=\"79.167457\" style=\"fill: #1f77b4; stroke: #1f77b4\"/>\n     <use xlink:href=\"#m76c9584e01\" x=\"97.417497\" y=\"59.245504\" style=\"fill: #1f77b4; stroke: #1f77b4\"/>\n     <use xlink:href=\"#m76c9584e01\" x=\"88.793573\" y=\"43.613071\" style=\"fill: #1f77b4; stroke: #1f77b4\"/>\n     <use xlink:href=\"#m76c9584e01\" x=\"162.77215\" y=\"111.592998\" style=\"fill: #1f77b4; stroke: #1f77b4\"/>\n     <use xlink:href=\"#m76c9584e01\" x=\"152.355049\" y=\"78.024663\" style=\"fill: #1f77b4; stroke: #1f77b4\"/>\n     <use xlink:href=\"#m76c9584e01\" x=\"147.144062\" y=\"68.961885\" style=\"fill: #1f77b4; stroke: #1f77b4\"/>\n     <use xlink:href=\"#m76c9584e01\" x=\"116.901818\" y=\"61.916033\" style=\"fill: #1f77b4; stroke: #1f77b4\"/>\n     <use xlink:href=\"#m76c9584e01\" x=\"133.87064\" y=\"79.732725\" style=\"fill: #1f77b4; stroke: #1f77b4\"/>\n     <use xlink:href=\"#m76c9584e01\" x=\"172.365688\" y=\"99.713539\" style=\"fill: #1f77b4; stroke: #1f77b4\"/>\n     <use xlink:href=\"#m76c9584e01\" x=\"101.235595\" y=\"69.409272\" style=\"fill: #1f77b4; stroke: #1f77b4\"/>\n     <use xlink:href=\"#m76c9584e01\" x=\"109.048849\" y=\"38.410905\" style=\"fill: #1f77b4; stroke: #1f77b4\"/>\n     <use xlink:href=\"#m76c9584e01\" x=\"143.152243\" y=\"70.431296\" style=\"fill: #1f77b4; stroke: #1f77b4\"/>\n     <use xlink:href=\"#m76c9584e01\" x=\"116.955373\" y=\"81.883112\" style=\"fill: #1f77b4; stroke: #1f77b4\"/>\n     <use xlink:href=\"#m76c9584e01\" x=\"149.58549\" y=\"92.735529\" style=\"fill: #1f77b4; stroke: #1f77b4\"/>\n     <use xlink:href=\"#m76c9584e01\" x=\"118.714535\" y=\"54.611909\" style=\"fill: #1f77b4; stroke: #1f77b4\"/>\n     <use xlink:href=\"#m76c9584e01\" x=\"138.847891\" y=\"91.849551\" style=\"fill: #1f77b4; stroke: #1f77b4\"/>\n     <use xlink:href=\"#m76c9584e01\" x=\"166.903385\" y=\"97.839674\" style=\"fill: #1f77b4; stroke: #1f77b4\"/>\n     <use xlink:href=\"#m76c9584e01\" x=\"157.010884\" y=\"91.699023\" style=\"fill: #1f77b4; stroke: #1f77b4\"/>\n     <use xlink:href=\"#m76c9584e01\" x=\"119.501531\" y=\"79.772735\" style=\"fill: #1f77b4; stroke: #1f77b4\"/>\n     <use xlink:href=\"#m76c9584e01\" x=\"107.125428\" y=\"62.130935\" style=\"fill: #1f77b4; stroke: #1f77b4\"/>\n     <use xlink:href=\"#m76c9584e01\" x=\"117.587721\" y=\"73.908563\" style=\"fill: #1f77b4; stroke: #1f77b4\"/>\n     <use xlink:href=\"#m76c9584e01\" x=\"160.588776\" y=\"110.998969\" style=\"fill: #1f77b4; stroke: #1f77b4\"/>\n     <use xlink:href=\"#m76c9584e01\" x=\"109.8782\" y=\"50.802974\" style=\"fill: #1f77b4; stroke: #1f77b4\"/>\n     <use xlink:href=\"#m76c9584e01\" x=\"117.143591\" y=\"72.253255\" style=\"fill: #1f77b4; stroke: #1f77b4\"/>\n     <use xlink:href=\"#m76c9584e01\" x=\"163.842956\" y=\"86.307276\" style=\"fill: #1f77b4; stroke: #1f77b4\"/>\n     <use xlink:href=\"#m76c9584e01\" x=\"179.324792\" y=\"99.789867\" style=\"fill: #1f77b4; stroke: #1f77b4\"/>\n     <use xlink:href=\"#m76c9584e01\" x=\"155.929656\" y=\"95.62042\" style=\"fill: #1f77b4; stroke: #1f77b4\"/>\n     <use xlink:href=\"#m76c9584e01\" x=\"172.242507\" y=\"115.052367\" style=\"fill: #1f77b4; stroke: #1f77b4\"/>\n     <use xlink:href=\"#m76c9584e01\" x=\"170.10218\" y=\"88.7136\" style=\"fill: #1f77b4; stroke: #1f77b4\"/>\n     <use xlink:href=\"#m76c9584e01\" x=\"138.618667\" y=\"81.353023\" style=\"fill: #1f77b4; stroke: #1f77b4\"/>\n     <use xlink:href=\"#m76c9584e01\" x=\"164.915153\" y=\"98.684233\" style=\"fill: #1f77b4; stroke: #1f77b4\"/>\n     <use xlink:href=\"#m76c9584e01\" x=\"178.28577\" y=\"86.384864\" style=\"fill: #1f77b4; stroke: #1f77b4\"/>\n     <use xlink:href=\"#m76c9584e01\" x=\"163.99764\" y=\"100.330397\" style=\"fill: #1f77b4; stroke: #1f77b4\"/>\n     <use xlink:href=\"#m76c9584e01\" x=\"126.216008\" y=\"91.643631\" style=\"fill: #1f77b4; stroke: #1f77b4\"/>\n     <use xlink:href=\"#m76c9584e01\" x=\"157.807474\" y=\"97.098734\" style=\"fill: #1f77b4; stroke: #1f77b4\"/>\n     <use xlink:href=\"#m76c9584e01\" x=\"111.234258\" y=\"45.579391\" style=\"fill: #1f77b4; stroke: #1f77b4\"/>\n     <use xlink:href=\"#m76c9584e01\" x=\"173.229434\" y=\"109.097125\" style=\"fill: #1f77b4; stroke: #1f77b4\"/>\n     <use xlink:href=\"#m76c9584e01\" x=\"116.909052\" y=\"74.066589\" style=\"fill: #1f77b4; stroke: #1f77b4\"/>\n     <use xlink:href=\"#m76c9584e01\" x=\"150.440566\" y=\"84.624862\" style=\"fill: #1f77b4; stroke: #1f77b4\"/>\n     <use xlink:href=\"#m76c9584e01\" x=\"171.12017\" y=\"114.31827\" style=\"fill: #1f77b4; stroke: #1f77b4\"/>\n     <use xlink:href=\"#m76c9584e01\" x=\"116.824099\" y=\"71.310559\" style=\"fill: #1f77b4; stroke: #1f77b4\"/>\n     <use xlink:href=\"#m76c9584e01\" x=\"152.767061\" y=\"104.674161\" style=\"fill: #1f77b4; stroke: #1f77b4\"/>\n     <use xlink:href=\"#m76c9584e01\" x=\"110.140683\" y=\"69.816051\" style=\"fill: #1f77b4; stroke: #1f77b4\"/>\n     <use xlink:href=\"#m76c9584e01\" x=\"152.857489\" y=\"101.772842\" style=\"fill: #1f77b4; stroke: #1f77b4\"/>\n     <use xlink:href=\"#m76c9584e01\" x=\"107.8525\" y=\"58.071764\" style=\"fill: #1f77b4; stroke: #1f77b4\"/>\n     <use xlink:href=\"#m76c9584e01\" x=\"136.733822\" y=\"83.106415\" style=\"fill: #1f77b4; stroke: #1f77b4\"/>\n     <use xlink:href=\"#m76c9584e01\" x=\"127.817834\" y=\"88.906919\" style=\"fill: #1f77b4; stroke: #1f77b4\"/>\n     <use xlink:href=\"#m76c9584e01\" x=\"142.654361\" y=\"80.127611\" style=\"fill: #1f77b4; stroke: #1f77b4\"/>\n     <use xlink:href=\"#m76c9584e01\" x=\"138.12595\" y=\"86.067659\" style=\"fill: #1f77b4; stroke: #1f77b4\"/>\n     <use xlink:href=\"#m76c9584e01\" x=\"135.027285\" y=\"89.896944\" style=\"fill: #1f77b4; stroke: #1f77b4\"/>\n     <use xlink:href=\"#m76c9584e01\" x=\"137.046641\" y=\"100.306648\" style=\"fill: #1f77b4; stroke: #1f77b4\"/>\n     <use xlink:href=\"#m76c9584e01\" x=\"65.576982\" y=\"52.835895\" style=\"fill: #1f77b4; stroke: #1f77b4\"/>\n     <use xlink:href=\"#m76c9584e01\" x=\"162.362773\" y=\"102.4682\" style=\"fill: #1f77b4; stroke: #1f77b4\"/>\n     <use xlink:href=\"#m76c9584e01\" x=\"158.775156\" y=\"85.717823\" style=\"fill: #1f77b4; stroke: #1f77b4\"/>\n     <use xlink:href=\"#m76c9584e01\" x=\"125.05831\" y=\"86.20144\" style=\"fill: #1f77b4; stroke: #1f77b4\"/>\n     <use xlink:href=\"#m76c9584e01\" x=\"161.679816\" y=\"92.879691\" style=\"fill: #1f77b4; stroke: #1f77b4\"/>\n     <use xlink:href=\"#m76c9584e01\" x=\"180.162386\" y=\"109.517092\" style=\"fill: #1f77b4; stroke: #1f77b4\"/>\n     <use xlink:href=\"#m76c9584e01\" x=\"152.774306\" y=\"97.102657\" style=\"fill: #1f77b4; stroke: #1f77b4\"/>\n     <use xlink:href=\"#m76c9584e01\" x=\"108.785132\" y=\"67.820718\" style=\"fill: #1f77b4; stroke: #1f77b4\"/>\n     <use xlink:href=\"#m76c9584e01\" x=\"176.838421\" y=\"106.275472\" style=\"fill: #1f77b4; stroke: #1f77b4\"/>\n     <use xlink:href=\"#m76c9584e01\" x=\"109.225161\" y=\"73.196755\" style=\"fill: #1f77b4; stroke: #1f77b4\"/>\n     <use xlink:href=\"#m76c9584e01\" x=\"140.197201\" y=\"100.750393\" style=\"fill: #1f77b4; stroke: #1f77b4\"/>\n     <use xlink:href=\"#m76c9584e01\" x=\"167.832563\" y=\"96.512366\" style=\"fill: #1f77b4; stroke: #1f77b4\"/>\n     <use xlink:href=\"#m76c9584e01\" x=\"172.495109\" y=\"111.356633\" style=\"fill: #1f77b4; stroke: #1f77b4\"/>\n     <use xlink:href=\"#m76c9584e01\" x=\"153.999316\" y=\"91.234673\" style=\"fill: #1f77b4; stroke: #1f77b4\"/>\n     <use xlink:href=\"#m76c9584e01\" x=\"148.075409\" y=\"85.512363\" style=\"fill: #1f77b4; stroke: #1f77b4\"/>\n     <use xlink:href=\"#m76c9584e01\" x=\"130.509336\" y=\"76.676635\" style=\"fill: #1f77b4; stroke: #1f77b4\"/>\n     <use xlink:href=\"#m76c9584e01\" x=\"161.908073\" y=\"103.608254\" style=\"fill: #1f77b4; stroke: #1f77b4\"/>\n     <use xlink:href=\"#m76c9584e01\" x=\"133.200476\" y=\"81.464173\" style=\"fill: #1f77b4; stroke: #1f77b4\"/>\n     <use xlink:href=\"#m76c9584e01\" x=\"130.212068\" y=\"77.35151\" style=\"fill: #1f77b4; stroke: #1f77b4\"/>\n     <use xlink:href=\"#m76c9584e01\" x=\"137.398397\" y=\"80.644097\" style=\"fill: #1f77b4; stroke: #1f77b4\"/>\n     <use xlink:href=\"#m76c9584e01\" x=\"125.273372\" y=\"74.365145\" style=\"fill: #1f77b4; stroke: #1f77b4\"/>\n     <use xlink:href=\"#m76c9584e01\" x=\"127.04762\" y=\"79.84559\" style=\"fill: #1f77b4; stroke: #1f77b4\"/>\n     <use xlink:href=\"#m76c9584e01\" x=\"99.198351\" y=\"52.456283\" style=\"fill: #1f77b4; stroke: #1f77b4\"/>\n     <use xlink:href=\"#m76c9584e01\" x=\"140.192662\" y=\"79.635537\" style=\"fill: #1f77b4; stroke: #1f77b4\"/>\n     <use xlink:href=\"#m76c9584e01\" x=\"125.470883\" y=\"77.386921\" style=\"fill: #1f77b4; stroke: #1f77b4\"/>\n     <use xlink:href=\"#m76c9584e01\" x=\"138.04073\" y=\"74.569409\" style=\"fill: #1f77b4; stroke: #1f77b4\"/>\n     <use xlink:href=\"#m76c9584e01\" x=\"144.967678\" y=\"85.481832\" style=\"fill: #1f77b4; stroke: #1f77b4\"/>\n     <use xlink:href=\"#m76c9584e01\" x=\"152.633246\" y=\"89.036996\" style=\"fill: #1f77b4; stroke: #1f77b4\"/>\n     <use xlink:href=\"#m76c9584e01\" x=\"122.631871\" y=\"62.322131\" style=\"fill: #1f77b4; stroke: #1f77b4\"/>\n     <use xlink:href=\"#m76c9584e01\" x=\"136.321607\" y=\"83.561942\" style=\"fill: #1f77b4; stroke: #1f77b4\"/>\n     <use xlink:href=\"#m76c9584e01\" x=\"131.223135\" y=\"89.026804\" style=\"fill: #1f77b4; stroke: #1f77b4\"/>\n     <use xlink:href=\"#m76c9584e01\" x=\"126.614714\" y=\"75.066141\" style=\"fill: #1f77b4; stroke: #1f77b4\"/>\n     <use xlink:href=\"#m76c9584e01\" x=\"129.238884\" y=\"102.559196\" style=\"fill: #1f77b4; stroke: #1f77b4\"/>\n     <use xlink:href=\"#m76c9584e01\" x=\"100.707151\" y=\"55.25631\" style=\"fill: #1f77b4; stroke: #1f77b4\"/>\n     <use xlink:href=\"#m76c9584e01\" x=\"141.628793\" y=\"98.519108\" style=\"fill: #1f77b4; stroke: #1f77b4\"/>\n     <use xlink:href=\"#m76c9584e01\" x=\"156.265834\" y=\"99.219256\" style=\"fill: #1f77b4; stroke: #1f77b4\"/>\n     <use xlink:href=\"#m76c9584e01\" x=\"164.836104\" y=\"99.762421\" style=\"fill: #1f77b4; stroke: #1f77b4\"/>\n     <use xlink:href=\"#m76c9584e01\" x=\"182.161392\" y=\"125.091134\" style=\"fill: #1f77b4; stroke: #1f77b4\"/>\n     <use xlink:href=\"#m76c9584e01\" x=\"111.043978\" y=\"90.84317\" style=\"fill: #1f77b4; stroke: #1f77b4\"/>\n     <use xlink:href=\"#m76c9584e01\" x=\"79.24819\" y=\"34.6468\" style=\"fill: #1f77b4; stroke: #1f77b4\"/>\n     <use xlink:href=\"#m76c9584e01\" x=\"155.530629\" y=\"111.547432\" style=\"fill: #1f77b4; stroke: #1f77b4\"/>\n     <use xlink:href=\"#m76c9584e01\" x=\"139.608518\" y=\"63.310191\" style=\"fill: #1f77b4; stroke: #1f77b4\"/>\n     <use xlink:href=\"#m76c9584e01\" x=\"159.826943\" y=\"100.716008\" style=\"fill: #1f77b4; stroke: #1f77b4\"/>\n     <use xlink:href=\"#m76c9584e01\" x=\"134.275192\" y=\"89.54729\" style=\"fill: #1f77b4; stroke: #1f77b4\"/>\n     <use xlink:href=\"#m76c9584e01\" x=\"105.315809\" y=\"64.314828\" style=\"fill: #1f77b4; stroke: #1f77b4\"/>\n     <use xlink:href=\"#m76c9584e01\" x=\"138.824903\" y=\"79.509619\" style=\"fill: #1f77b4; stroke: #1f77b4\"/>\n     <use xlink:href=\"#m76c9584e01\" x=\"153.992219\" y=\"89.978844\" style=\"fill: #1f77b4; stroke: #1f77b4\"/>\n     <use xlink:href=\"#m76c9584e01\" x=\"122.968831\" y=\"61.790951\" style=\"fill: #1f77b4; stroke: #1f77b4\"/>\n     <use xlink:href=\"#m76c9584e01\" x=\"186.257326\" y=\"116.028421\" style=\"fill: #1f77b4; stroke: #1f77b4\"/>\n     <use xlink:href=\"#m76c9584e01\" x=\"157.826221\" y=\"92.079591\" style=\"fill: #1f77b4; stroke: #1f77b4\"/>\n     <use xlink:href=\"#m76c9584e01\" x=\"130.945996\" y=\"77.017375\" style=\"fill: #1f77b4; stroke: #1f77b4\"/>\n     <use xlink:href=\"#m76c9584e01\" x=\"141.738617\" y=\"87.339943\" style=\"fill: #1f77b4; stroke: #1f77b4\"/>\n     <use xlink:href=\"#m76c9584e01\" x=\"162.358453\" y=\"112.598488\" style=\"fill: #1f77b4; stroke: #1f77b4\"/>\n     <use xlink:href=\"#m76c9584e01\" x=\"160.169983\" y=\"91.02433\" style=\"fill: #1f77b4; stroke: #1f77b4\"/>\n     <use xlink:href=\"#m76c9584e01\" x=\"140.357423\" y=\"90.895985\" style=\"fill: #1f77b4; stroke: #1f77b4\"/>\n     <use xlink:href=\"#m76c9584e01\" x=\"137.622742\" y=\"80.921365\" style=\"fill: #1f77b4; stroke: #1f77b4\"/>\n     <use xlink:href=\"#m76c9584e01\" x=\"175.36999\" y=\"131.224609\" style=\"fill: #1f77b4; stroke: #1f77b4\"/>\n     <use xlink:href=\"#m76c9584e01\" x=\"145.920451\" y=\"81.970458\" style=\"fill: #1f77b4; stroke: #1f77b4\"/>\n     <use xlink:href=\"#m76c9584e01\" x=\"157.484215\" y=\"76.302522\" style=\"fill: #1f77b4; stroke: #1f77b4\"/>\n     <use xlink:href=\"#m76c9584e01\" x=\"160.439812\" y=\"96.763152\" style=\"fill: #1f77b4; stroke: #1f77b4\"/>\n     <use xlink:href=\"#m76c9584e01\" x=\"163.376314\" y=\"133.963735\" style=\"fill: #1f77b4; stroke: #1f77b4\"/>\n     <use xlink:href=\"#m76c9584e01\" x=\"143.768885\" y=\"93.440461\" style=\"fill: #1f77b4; stroke: #1f77b4\"/>\n     <use xlink:href=\"#m76c9584e01\" x=\"136.198161\" y=\"71.90422\" style=\"fill: #1f77b4; stroke: #1f77b4\"/>\n     <use xlink:href=\"#m76c9584e01\" x=\"125.130995\" y=\"98.510114\" style=\"fill: #1f77b4; stroke: #1f77b4\"/>\n     <use xlink:href=\"#m76c9584e01\" x=\"134.216657\" y=\"84.436072\" style=\"fill: #1f77b4; stroke: #1f77b4\"/>\n     <use xlink:href=\"#m76c9584e01\" x=\"106.190595\" y=\"56.697103\" style=\"fill: #1f77b4; stroke: #1f77b4\"/>\n     <use xlink:href=\"#m76c9584e01\" x=\"152.599642\" y=\"94.305096\" style=\"fill: #1f77b4; stroke: #1f77b4\"/>\n     <use xlink:href=\"#m76c9584e01\" x=\"126.96292\" y=\"75.354432\" style=\"fill: #1f77b4; stroke: #1f77b4\"/>\n     <use xlink:href=\"#m76c9584e01\" x=\"160.922297\" y=\"108.586582\" style=\"fill: #1f77b4; stroke: #1f77b4\"/>\n     <use xlink:href=\"#m76c9584e01\" x=\"162.704866\" y=\"95.974255\" style=\"fill: #1f77b4; stroke: #1f77b4\"/>\n     <use xlink:href=\"#m76c9584e01\" x=\"158.544663\" y=\"94.800919\" style=\"fill: #1f77b4; stroke: #1f77b4\"/>\n     <use xlink:href=\"#m76c9584e01\" x=\"215.364915\" y=\"141.225289\" style=\"fill: #1f77b4; stroke: #1f77b4\"/>\n     <use xlink:href=\"#m76c9584e01\" x=\"128.012364\" y=\"76.64617\" style=\"fill: #1f77b4; stroke: #1f77b4\"/>\n     <use xlink:href=\"#m76c9584e01\" x=\"134.284954\" y=\"75.357933\" style=\"fill: #1f77b4; stroke: #1f77b4\"/>\n     <use xlink:href=\"#m76c9584e01\" x=\"109.487715\" y=\"68.351284\" style=\"fill: #1f77b4; stroke: #1f77b4\"/>\n     <use xlink:href=\"#m76c9584e01\" x=\"124.75798\" y=\"76.425613\" style=\"fill: #1f77b4; stroke: #1f77b4\"/>\n     <use xlink:href=\"#m76c9584e01\" x=\"98.786627\" y=\"64.468996\" style=\"fill: #1f77b4; stroke: #1f77b4\"/>\n     <use xlink:href=\"#m76c9584e01\" x=\"151.981861\" y=\"85.377346\" style=\"fill: #1f77b4; stroke: #1f77b4\"/>\n     <use xlink:href=\"#m76c9584e01\" x=\"165.695817\" y=\"102.356073\" style=\"fill: #1f77b4; stroke: #1f77b4\"/>\n     <use xlink:href=\"#m76c9584e01\" x=\"99.480699\" y=\"49.591337\" style=\"fill: #1f77b4; stroke: #1f77b4\"/>\n     <use xlink:href=\"#m76c9584e01\" x=\"99.983587\" y=\"53.359254\" style=\"fill: #1f77b4; stroke: #1f77b4\"/>\n     <use xlink:href=\"#m76c9584e01\" x=\"98.929592\" y=\"64.605569\" style=\"fill: #1f77b4; stroke: #1f77b4\"/>\n     <use xlink:href=\"#m76c9584e01\" x=\"101.096337\" y=\"59.205954\" style=\"fill: #1f77b4; stroke: #1f77b4\"/>\n     <use xlink:href=\"#m76c9584e01\" x=\"160.840112\" y=\"95.570079\" style=\"fill: #1f77b4; stroke: #1f77b4\"/>\n     <use xlink:href=\"#m76c9584e01\" x=\"162.718622\" y=\"107.796724\" style=\"fill: #1f77b4; stroke: #1f77b4\"/>\n     <use xlink:href=\"#m76c9584e01\" x=\"150.473936\" y=\"102.740784\" style=\"fill: #1f77b4; stroke: #1f77b4\"/>\n     <use xlink:href=\"#m76c9584e01\" x=\"157.629774\" y=\"104.888506\" style=\"fill: #1f77b4; stroke: #1f77b4\"/>\n     <use xlink:href=\"#m76c9584e01\" x=\"187.000055\" y=\"126.609896\" style=\"fill: #1f77b4; stroke: #1f77b4\"/>\n     <use xlink:href=\"#m76c9584e01\" x=\"141.325883\" y=\"103.452451\" style=\"fill: #1f77b4; stroke: #1f77b4\"/>\n     <use xlink:href=\"#m76c9584e01\" x=\"152.167877\" y=\"99.758691\" style=\"fill: #1f77b4; stroke: #1f77b4\"/>\n     <use xlink:href=\"#m76c9584e01\" x=\"116.1943\" y=\"80.467533\" style=\"fill: #1f77b4; stroke: #1f77b4\"/>\n     <use xlink:href=\"#m76c9584e01\" x=\"152.442183\" y=\"89.446853\" style=\"fill: #1f77b4; stroke: #1f77b4\"/>\n     <use xlink:href=\"#m76c9584e01\" x=\"144.50208\" y=\"104.469382\" style=\"fill: #1f77b4; stroke: #1f77b4\"/>\n     <use xlink:href=\"#m76c9584e01\" x=\"127.354837\" y=\"91.239042\" style=\"fill: #1f77b4; stroke: #1f77b4\"/>\n     <use xlink:href=\"#m76c9584e01\" x=\"154.378051\" y=\"106.76995\" style=\"fill: #1f77b4; stroke: #1f77b4\"/>\n     <use xlink:href=\"#m76c9584e01\" x=\"90.83853\" y=\"66.454868\" style=\"fill: #1f77b4; stroke: #1f77b4\"/>\n     <use xlink:href=\"#m76c9584e01\" x=\"127.737998\" y=\"75.999545\" style=\"fill: #1f77b4; stroke: #1f77b4\"/>\n     <use xlink:href=\"#m76c9584e01\" x=\"135.842435\" y=\"106.382618\" style=\"fill: #1f77b4; stroke: #1f77b4\"/>\n     <use xlink:href=\"#m76c9584e01\" x=\"112.78311\" y=\"88.296252\" style=\"fill: #1f77b4; stroke: #1f77b4\"/>\n     <use xlink:href=\"#m76c9584e01\" x=\"113.031201\" y=\"62.687424\" style=\"fill: #1f77b4; stroke: #1f77b4\"/>\n     <use xlink:href=\"#m76c9584e01\" x=\"132.052314\" y=\"83.642139\" style=\"fill: #1f77b4; stroke: #1f77b4\"/>\n     <use xlink:href=\"#m76c9584e01\" x=\"118.189865\" y=\"75.676367\" style=\"fill: #1f77b4; stroke: #1f77b4\"/>\n     <use xlink:href=\"#m76c9584e01\" x=\"127.979814\" y=\"84.631362\" style=\"fill: #1f77b4; stroke: #1f77b4\"/>\n     <use xlink:href=\"#m76c9584e01\" x=\"145.872405\" y=\"84.763387\" style=\"fill: #1f77b4; stroke: #1f77b4\"/>\n     <use xlink:href=\"#m76c9584e01\" x=\"103.29927\" y=\"69.532208\" style=\"fill: #1f77b4; stroke: #1f77b4\"/>\n     <use xlink:href=\"#m76c9584e01\" x=\"202.804552\" y=\"134.291705\" style=\"fill: #1f77b4; stroke: #1f77b4\"/>\n     <use xlink:href=\"#m76c9584e01\" x=\"157.811659\" y=\"102.519217\" style=\"fill: #1f77b4; stroke: #1f77b4\"/>\n     <use xlink:href=\"#m76c9584e01\" x=\"118.962774\" y=\"84.110209\" style=\"fill: #1f77b4; stroke: #1f77b4\"/>\n     <use xlink:href=\"#m76c9584e01\" x=\"121.805587\" y=\"74.294754\" style=\"fill: #1f77b4; stroke: #1f77b4\"/>\n     <use xlink:href=\"#m76c9584e01\" x=\"116.209231\" y=\"86.585389\" style=\"fill: #1f77b4; stroke: #1f77b4\"/>\n     <use xlink:href=\"#m76c9584e01\" x=\"155.208354\" y=\"86.755737\" style=\"fill: #1f77b4; stroke: #1f77b4\"/>\n     <use xlink:href=\"#m76c9584e01\" x=\"163.879345\" y=\"102.567409\" style=\"fill: #1f77b4; stroke: #1f77b4\"/>\n     <use xlink:href=\"#m76c9584e01\" x=\"143.394106\" y=\"72.812141\" style=\"fill: #1f77b4; stroke: #1f77b4\"/>\n     <use xlink:href=\"#m76c9584e01\" x=\"110.238575\" y=\"66.933502\" style=\"fill: #1f77b4; stroke: #1f77b4\"/>\n     <use xlink:href=\"#m76c9584e01\" x=\"165.152492\" y=\"102.817819\" style=\"fill: #1f77b4; stroke: #1f77b4\"/>\n     <use xlink:href=\"#m76c9584e01\" x=\"140.113921\" y=\"84.568988\" style=\"fill: #1f77b4; stroke: #1f77b4\"/>\n     <use xlink:href=\"#m76c9584e01\" x=\"96.497121\" y=\"67.52029\" style=\"fill: #1f77b4; stroke: #1f77b4\"/>\n     <use xlink:href=\"#m76c9584e01\" x=\"133.930995\" y=\"82.872304\" style=\"fill: #1f77b4; stroke: #1f77b4\"/>\n     <use xlink:href=\"#m76c9584e01\" x=\"155.776992\" y=\"86.993686\" style=\"fill: #1f77b4; stroke: #1f77b4\"/>\n     <use xlink:href=\"#m76c9584e01\" x=\"188.79407\" y=\"116.743422\" style=\"fill: #1f77b4; stroke: #1f77b4\"/>\n     <use xlink:href=\"#m76c9584e01\" x=\"128.53993\" y=\"84.871472\" style=\"fill: #1f77b4; stroke: #1f77b4\"/>\n     <use xlink:href=\"#m76c9584e01\" x=\"107.523373\" y=\"62.155354\" style=\"fill: #1f77b4; stroke: #1f77b4\"/>\n     <use xlink:href=\"#m76c9584e01\" x=\"204.984999\" y=\"129.295097\" style=\"fill: #1f77b4; stroke: #1f77b4\"/>\n     <use xlink:href=\"#m76c9584e01\" x=\"141.777111\" y=\"80.292559\" style=\"fill: #1f77b4; stroke: #1f77b4\"/>\n     <use xlink:href=\"#m76c9584e01\" x=\"163.433901\" y=\"106.142602\" style=\"fill: #1f77b4; stroke: #1f77b4\"/>\n     <use xlink:href=\"#m76c9584e01\" x=\"147.955524\" y=\"99.21882\" style=\"fill: #1f77b4; stroke: #1f77b4\"/>\n     <use xlink:href=\"#m76c9584e01\" x=\"132.866405\" y=\"63.025076\" style=\"fill: #1f77b4; stroke: #1f77b4\"/>\n     <use xlink:href=\"#m76c9584e01\" x=\"144.824325\" y=\"91.39147\" style=\"fill: #1f77b4; stroke: #1f77b4\"/>\n     <use xlink:href=\"#m76c9584e01\" x=\"111.464414\" y=\"56.135107\" style=\"fill: #1f77b4; stroke: #1f77b4\"/>\n     <use xlink:href=\"#m76c9584e01\" x=\"85.367276\" y=\"57.990432\" style=\"fill: #1f77b4; stroke: #1f77b4\"/>\n     <use xlink:href=\"#m76c9584e01\" x=\"111.954615\" y=\"67.655732\" style=\"fill: #1f77b4; stroke: #1f77b4\"/>\n     <use xlink:href=\"#m76c9584e01\" x=\"145.564562\" y=\"110.385403\" style=\"fill: #1f77b4; stroke: #1f77b4\"/>\n     <use xlink:href=\"#m76c9584e01\" x=\"110.701439\" y=\"63.375029\" style=\"fill: #1f77b4; stroke: #1f77b4\"/>\n     <use xlink:href=\"#m76c9584e01\" x=\"144.9779\" y=\"97.083756\" style=\"fill: #1f77b4; stroke: #1f77b4\"/>\n     <use xlink:href=\"#m76c9584e01\" x=\"151.123088\" y=\"92.813782\" style=\"fill: #1f77b4; stroke: #1f77b4\"/>\n     <use xlink:href=\"#m76c9584e01\" x=\"170.499606\" y=\"114.597952\" style=\"fill: #1f77b4; stroke: #1f77b4\"/>\n     <use xlink:href=\"#m76c9584e01\" x=\"133.804081\" y=\"71.371788\" style=\"fill: #1f77b4; stroke: #1f77b4\"/>\n     <use xlink:href=\"#m76c9584e01\" x=\"114.140723\" y=\"89.829714\" style=\"fill: #1f77b4; stroke: #1f77b4\"/>\n     <use xlink:href=\"#m76c9584e01\" x=\"151.483744\" y=\"107.338835\" style=\"fill: #1f77b4; stroke: #1f77b4\"/>\n     <use xlink:href=\"#m76c9584e01\" x=\"118.821925\" y=\"67.50928\" style=\"fill: #1f77b4; stroke: #1f77b4\"/>\n     <use xlink:href=\"#m76c9584e01\" x=\"116.570605\" y=\"59.328995\" style=\"fill: #1f77b4; stroke: #1f77b4\"/>\n     <use xlink:href=\"#m76c9584e01\" x=\"104.907024\" y=\"75.253302\" style=\"fill: #1f77b4; stroke: #1f77b4\"/>\n     <use xlink:href=\"#m76c9584e01\" x=\"126.927233\" y=\"70.952924\" style=\"fill: #1f77b4; stroke: #1f77b4\"/>\n     <use xlink:href=\"#m76c9584e01\" x=\"131.305234\" y=\"89.976853\" style=\"fill: #1f77b4; stroke: #1f77b4\"/>\n     <use xlink:href=\"#m76c9584e01\" x=\"104.712202\" y=\"66.255725\" style=\"fill: #1f77b4; stroke: #1f77b4\"/>\n     <use xlink:href=\"#m76c9584e01\" x=\"136.902326\" y=\"93.407113\" style=\"fill: #1f77b4; stroke: #1f77b4\"/>\n     <use xlink:href=\"#m76c9584e01\" x=\"112.194393\" y=\"67.519113\" style=\"fill: #1f77b4; stroke: #1f77b4\"/>\n     <use xlink:href=\"#m76c9584e01\" x=\"156.281496\" y=\"92.823195\" style=\"fill: #1f77b4; stroke: #1f77b4\"/>\n     <use xlink:href=\"#m76c9584e01\" x=\"167.547576\" y=\"108.686799\" style=\"fill: #1f77b4; stroke: #1f77b4\"/>\n     <use xlink:href=\"#m76c9584e01\" x=\"123.257935\" y=\"89.737145\" style=\"fill: #1f77b4; stroke: #1f77b4\"/>\n     <use xlink:href=\"#m76c9584e01\" x=\"174.934345\" y=\"116.364023\" style=\"fill: #1f77b4; stroke: #1f77b4\"/>\n     <use xlink:href=\"#m76c9584e01\" x=\"138.187077\" y=\"87.829028\" style=\"fill: #1f77b4; stroke: #1f77b4\"/>\n     <use xlink:href=\"#m76c9584e01\" x=\"101.451413\" y=\"56.63875\" style=\"fill: #1f77b4; stroke: #1f77b4\"/>\n     <use xlink:href=\"#m76c9584e01\" x=\"139.620587\" y=\"83.099897\" style=\"fill: #1f77b4; stroke: #1f77b4\"/>\n     <use xlink:href=\"#m76c9584e01\" x=\"94.645588\" y=\"46.946891\" style=\"fill: #1f77b4; stroke: #1f77b4\"/>\n     <use xlink:href=\"#m76c9584e01\" x=\"126.984857\" y=\"74.090912\" style=\"fill: #1f77b4; stroke: #1f77b4\"/>\n     <use xlink:href=\"#m76c9584e01\" x=\"153.6615\" y=\"104.430778\" style=\"fill: #1f77b4; stroke: #1f77b4\"/>\n     <use xlink:href=\"#m76c9584e01\" x=\"144.562525\" y=\"89.718149\" style=\"fill: #1f77b4; stroke: #1f77b4\"/>\n     <use xlink:href=\"#m76c9584e01\" x=\"111.948861\" y=\"59.515897\" style=\"fill: #1f77b4; stroke: #1f77b4\"/>\n     <use xlink:href=\"#m76c9584e01\" x=\"121.782778\" y=\"92.190984\" style=\"fill: #1f77b4; stroke: #1f77b4\"/>\n     <use xlink:href=\"#m76c9584e01\" x=\"123.772447\" y=\"76.498596\" style=\"fill: #1f77b4; stroke: #1f77b4\"/>\n     <use xlink:href=\"#m76c9584e01\" x=\"111.522488\" y=\"49.891642\" style=\"fill: #1f77b4; stroke: #1f77b4\"/>\n     <use xlink:href=\"#m76c9584e01\" x=\"182.322054\" y=\"114.292436\" style=\"fill: #1f77b4; stroke: #1f77b4\"/>\n     <use xlink:href=\"#m76c9584e01\" x=\"96.083758\" y=\"62.784315\" style=\"fill: #1f77b4; stroke: #1f77b4\"/>\n     <use xlink:href=\"#m76c9584e01\" x=\"169.70819\" y=\"120.929791\" style=\"fill: #1f77b4; stroke: #1f77b4\"/>\n     <use xlink:href=\"#m76c9584e01\" x=\"141.371943\" y=\"97.94564\" style=\"fill: #1f77b4; stroke: #1f77b4\"/>\n     <use xlink:href=\"#m76c9584e01\" x=\"132.957814\" y=\"73.555275\" style=\"fill: #1f77b4; stroke: #1f77b4\"/>\n     <use xlink:href=\"#m76c9584e01\" x=\"157.076868\" y=\"104.329319\" style=\"fill: #1f77b4; stroke: #1f77b4\"/>\n     <use xlink:href=\"#m76c9584e01\" x=\"185.501124\" y=\"114.922445\" style=\"fill: #1f77b4; stroke: #1f77b4\"/>\n     <use xlink:href=\"#m76c9584e01\" x=\"125.473536\" y=\"99.302521\" style=\"fill: #1f77b4; stroke: #1f77b4\"/>\n     <use xlink:href=\"#m76c9584e01\" x=\"121.408195\" y=\"79.762633\" style=\"fill: #1f77b4; stroke: #1f77b4\"/>\n     <use xlink:href=\"#m76c9584e01\" x=\"162.212949\" y=\"118.497456\" style=\"fill: #1f77b4; stroke: #1f77b4\"/>\n     <use xlink:href=\"#m76c9584e01\" x=\"124.62632\" y=\"93.390443\" style=\"fill: #1f77b4; stroke: #1f77b4\"/>\n     <use xlink:href=\"#m76c9584e01\" x=\"180.566823\" y=\"96.035152\" style=\"fill: #1f77b4; stroke: #1f77b4\"/>\n     <use xlink:href=\"#m76c9584e01\" x=\"169.183223\" y=\"115.834587\" style=\"fill: #1f77b4; stroke: #1f77b4\"/>\n     <use xlink:href=\"#m76c9584e01\" x=\"116.500439\" y=\"72.794247\" style=\"fill: #1f77b4; stroke: #1f77b4\"/>\n     <use xlink:href=\"#m76c9584e01\" x=\"138.962392\" y=\"97.246842\" style=\"fill: #1f77b4; stroke: #1f77b4\"/>\n     <use xlink:href=\"#m76c9584e01\" x=\"116.681267\" y=\"75.289529\" style=\"fill: #1f77b4; stroke: #1f77b4\"/>\n     <use xlink:href=\"#m76c9584e01\" x=\"180.12506\" y=\"115.365228\" style=\"fill: #1f77b4; stroke: #1f77b4\"/>\n     <use xlink:href=\"#m76c9584e01\" x=\"112.131233\" y=\"75.75179\" style=\"fill: #1f77b4; stroke: #1f77b4\"/>\n     <use xlink:href=\"#m76c9584e01\" x=\"114.288712\" y=\"56.444773\" style=\"fill: #1f77b4; stroke: #1f77b4\"/>\n     <use xlink:href=\"#m76c9584e01\" x=\"110.368852\" y=\"68.873689\" style=\"fill: #1f77b4; stroke: #1f77b4\"/>\n     <use xlink:href=\"#m76c9584e01\" x=\"128.506799\" y=\"105.229345\" style=\"fill: #1f77b4; stroke: #1f77b4\"/>\n     <use xlink:href=\"#m76c9584e01\" x=\"150.396968\" y=\"99.747178\" style=\"fill: #1f77b4; stroke: #1f77b4\"/>\n     <use xlink:href=\"#m76c9584e01\" x=\"147.621261\" y=\"88.627366\" style=\"fill: #1f77b4; stroke: #1f77b4\"/>\n     <use xlink:href=\"#m76c9584e01\" x=\"127.871948\" y=\"92.040489\" style=\"fill: #1f77b4; stroke: #1f77b4\"/>\n     <use xlink:href=\"#m76c9584e01\" x=\"124.017895\" y=\"78.013576\" style=\"fill: #1f77b4; stroke: #1f77b4\"/>\n     <use xlink:href=\"#m76c9584e01\" x=\"168.244971\" y=\"109.744061\" style=\"fill: #1f77b4; stroke: #1f77b4\"/>\n     <use xlink:href=\"#m76c9584e01\" x=\"126.170243\" y=\"83.481655\" style=\"fill: #1f77b4; stroke: #1f77b4\"/>\n     <use xlink:href=\"#m76c9584e01\" x=\"144.025787\" y=\"76.388153\" style=\"fill: #1f77b4; stroke: #1f77b4\"/>\n     <use xlink:href=\"#m76c9584e01\" x=\"106.561593\" y=\"69.134162\" style=\"fill: #1f77b4; stroke: #1f77b4\"/>\n     <use xlink:href=\"#m76c9584e01\" x=\"107.278642\" y=\"64.556958\" style=\"fill: #1f77b4; stroke: #1f77b4\"/>\n     <use xlink:href=\"#m76c9584e01\" x=\"139.100734\" y=\"82.836427\" style=\"fill: #1f77b4; stroke: #1f77b4\"/>\n     <use xlink:href=\"#m76c9584e01\" x=\"167.090057\" y=\"93.615837\" style=\"fill: #1f77b4; stroke: #1f77b4\"/>\n     <use xlink:href=\"#m76c9584e01\" x=\"132.852927\" y=\"83.098952\" style=\"fill: #1f77b4; stroke: #1f77b4\"/>\n     <use xlink:href=\"#m76c9584e01\" x=\"144.545144\" y=\"103.009438\" style=\"fill: #1f77b4; stroke: #1f77b4\"/>\n     <use xlink:href=\"#m76c9584e01\" x=\"163.2226\" y=\"122.809868\" style=\"fill: #1f77b4; stroke: #1f77b4\"/>\n     <use xlink:href=\"#m76c9584e01\" x=\"169.783187\" y=\"100.111175\" style=\"fill: #1f77b4; stroke: #1f77b4\"/>\n     <use xlink:href=\"#m76c9584e01\" x=\"148.745641\" y=\"97.443985\" style=\"fill: #1f77b4; stroke: #1f77b4\"/>\n     <use xlink:href=\"#m76c9584e01\" x=\"101.997081\" y=\"63.82748\" style=\"fill: #1f77b4; stroke: #1f77b4\"/>\n     <use xlink:href=\"#m76c9584e01\" x=\"82.74493\" y=\"46.723637\" style=\"fill: #1f77b4; stroke: #1f77b4\"/>\n     <use xlink:href=\"#m76c9584e01\" x=\"92.334703\" y=\"63.133395\" style=\"fill: #1f77b4; stroke: #1f77b4\"/>\n     <use xlink:href=\"#m76c9584e01\" x=\"109.921935\" y=\"81.292704\" style=\"fill: #1f77b4; stroke: #1f77b4\"/>\n     <use xlink:href=\"#m76c9584e01\" x=\"130.230638\" y=\"73.791731\" style=\"fill: #1f77b4; stroke: #1f77b4\"/>\n     <use xlink:href=\"#m76c9584e01\" x=\"150.970771\" y=\"95.057576\" style=\"fill: #1f77b4; stroke: #1f77b4\"/>\n     <use xlink:href=\"#m76c9584e01\" x=\"157.212822\" y=\"100.821356\" style=\"fill: #1f77b4; stroke: #1f77b4\"/>\n     <use xlink:href=\"#m76c9584e01\" x=\"146.380381\" y=\"83.768556\" style=\"fill: #1f77b4; stroke: #1f77b4\"/>\n     <use xlink:href=\"#m76c9584e01\" x=\"113.745837\" y=\"71.138631\" style=\"fill: #1f77b4; stroke: #1f77b4\"/>\n     <use xlink:href=\"#m76c9584e01\" x=\"116.800462\" y=\"67.87874\" style=\"fill: #1f77b4; stroke: #1f77b4\"/>\n     <use xlink:href=\"#m76c9584e01\" x=\"180.672537\" y=\"90.876179\" style=\"fill: #1f77b4; stroke: #1f77b4\"/>\n     <use xlink:href=\"#m76c9584e01\" x=\"123.262778\" y=\"76.211995\" style=\"fill: #1f77b4; stroke: #1f77b4\"/>\n     <use xlink:href=\"#m76c9584e01\" x=\"126.037762\" y=\"81.449964\" style=\"fill: #1f77b4; stroke: #1f77b4\"/>\n     <use xlink:href=\"#m76c9584e01\" x=\"144.057489\" y=\"101.095138\" style=\"fill: #1f77b4; stroke: #1f77b4\"/>\n     <use xlink:href=\"#m76c9584e01\" x=\"92.499134\" y=\"64.565464\" style=\"fill: #1f77b4; stroke: #1f77b4\"/>\n     <use xlink:href=\"#m76c9584e01\" x=\"129.949284\" y=\"72.003741\" style=\"fill: #1f77b4; stroke: #1f77b4\"/>\n     <use xlink:href=\"#m76c9584e01\" x=\"128.207793\" y=\"78.573648\" style=\"fill: #1f77b4; stroke: #1f77b4\"/>\n     <use xlink:href=\"#m76c9584e01\" x=\"154.910238\" y=\"107.116059\" style=\"fill: #1f77b4; stroke: #1f77b4\"/>\n     <use xlink:href=\"#m76c9584e01\" x=\"123.262469\" y=\"71.713394\" style=\"fill: #1f77b4; stroke: #1f77b4\"/>\n     <use xlink:href=\"#m76c9584e01\" x=\"151.587032\" y=\"91.188714\" style=\"fill: #1f77b4; stroke: #1f77b4\"/>\n     <use xlink:href=\"#m76c9584e01\" x=\"151.469543\" y=\"94.189083\" style=\"fill: #1f77b4; stroke: #1f77b4\"/>\n     <use xlink:href=\"#m76c9584e01\" x=\"133.466464\" y=\"71.499546\" style=\"fill: #1f77b4; stroke: #1f77b4\"/>\n     <use xlink:href=\"#m76c9584e01\" x=\"37.81946\" y=\"15.225289\" style=\"fill: #1f77b4; stroke: #1f77b4\"/>\n     <use xlink:href=\"#m76c9584e01\" x=\"127.779688\" y=\"88.324749\" style=\"fill: #1f77b4; stroke: #1f77b4\"/>\n     <use xlink:href=\"#m76c9584e01\" x=\"125.566425\" y=\"73.480434\" style=\"fill: #1f77b4; stroke: #1f77b4\"/>\n     <use xlink:href=\"#m76c9584e01\" x=\"154.091808\" y=\"94.022081\" style=\"fill: #1f77b4; stroke: #1f77b4\"/>\n     <use xlink:href=\"#m76c9584e01\" x=\"139.79352\" y=\"78.455285\" style=\"fill: #1f77b4; stroke: #1f77b4\"/>\n     <use xlink:href=\"#m76c9584e01\" x=\"126.405099\" y=\"99.894879\" style=\"fill: #1f77b4; stroke: #1f77b4\"/>\n     <use xlink:href=\"#m76c9584e01\" x=\"130.820365\" y=\"68.908628\" style=\"fill: #1f77b4; stroke: #1f77b4\"/>\n     <use xlink:href=\"#m76c9584e01\" x=\"87.832553\" y=\"51.131366\" style=\"fill: #1f77b4; stroke: #1f77b4\"/>\n     <use xlink:href=\"#m76c9584e01\" x=\"105.120137\" y=\"77.058218\" style=\"fill: #1f77b4; stroke: #1f77b4\"/>\n     <use xlink:href=\"#m76c9584e01\" x=\"142.255352\" y=\"84.979618\" style=\"fill: #1f77b4; stroke: #1f77b4\"/>\n     <use xlink:href=\"#m76c9584e01\" x=\"162.549537\" y=\"115.649004\" style=\"fill: #1f77b4; stroke: #1f77b4\"/>\n     <use xlink:href=\"#m76c9584e01\" x=\"46.828144\" y=\"37.453039\" style=\"fill: #1f77b4; stroke: #1f77b4\"/>\n     <use xlink:href=\"#m76c9584e01\" x=\"114.621162\" y=\"77.350863\" style=\"fill: #1f77b4; stroke: #1f77b4\"/>\n     <use xlink:href=\"#m76c9584e01\" x=\"125.926514\" y=\"63.951394\" style=\"fill: #1f77b4; stroke: #1f77b4\"/>\n     <use xlink:href=\"#m76c9584e01\" x=\"107.76747\" y=\"49.471472\" style=\"fill: #1f77b4; stroke: #1f77b4\"/>\n     <use xlink:href=\"#m76c9584e01\" x=\"96.618293\" y=\"66.359273\" style=\"fill: #1f77b4; stroke: #1f77b4\"/>\n     <use xlink:href=\"#m76c9584e01\" x=\"134.278547\" y=\"93.855703\" style=\"fill: #1f77b4; stroke: #1f77b4\"/>\n     <use xlink:href=\"#m76c9584e01\" x=\"165.049069\" y=\"114.246281\" style=\"fill: #1f77b4; stroke: #1f77b4\"/>\n     <use xlink:href=\"#m76c9584e01\" x=\"157.833237\" y=\"84.437754\" style=\"fill: #1f77b4; stroke: #1f77b4\"/>\n     <use xlink:href=\"#m76c9584e01\" x=\"127.794201\" y=\"86.980125\" style=\"fill: #1f77b4; stroke: #1f77b4\"/>\n     <use xlink:href=\"#m76c9584e01\" x=\"129.619812\" y=\"76.721191\" style=\"fill: #1f77b4; stroke: #1f77b4\"/>\n     <use xlink:href=\"#m76c9584e01\" x=\"145.938815\" y=\"87.374736\" style=\"fill: #1f77b4; stroke: #1f77b4\"/>\n     <use xlink:href=\"#m76c9584e01\" x=\"157.307894\" y=\"113.417615\" style=\"fill: #1f77b4; stroke: #1f77b4\"/>\n     <use xlink:href=\"#m76c9584e01\" x=\"121.569639\" y=\"83.159911\" style=\"fill: #1f77b4; stroke: #1f77b4\"/>\n     <use xlink:href=\"#m76c9584e01\" x=\"120.344344\" y=\"62.638608\" style=\"fill: #1f77b4; stroke: #1f77b4\"/>\n     <use xlink:href=\"#m76c9584e01\" x=\"166.577167\" y=\"93.392202\" style=\"fill: #1f77b4; stroke: #1f77b4\"/>\n     <use xlink:href=\"#m76c9584e01\" x=\"161.667265\" y=\"111.737468\" style=\"fill: #1f77b4; stroke: #1f77b4\"/>\n     <use xlink:href=\"#m76c9584e01\" x=\"130.494983\" y=\"85.816654\" style=\"fill: #1f77b4; stroke: #1f77b4\"/>\n     <use xlink:href=\"#m76c9584e01\" x=\"151.496507\" y=\"96.948911\" style=\"fill: #1f77b4; stroke: #1f77b4\"/>\n     <use xlink:href=\"#m76c9584e01\" x=\"173.741895\" y=\"103.518357\" style=\"fill: #1f77b4; stroke: #1f77b4\"/>\n     <use xlink:href=\"#m76c9584e01\" x=\"119.143988\" y=\"65.373638\" style=\"fill: #1f77b4; stroke: #1f77b4\"/>\n     <use xlink:href=\"#m76c9584e01\" x=\"181.437559\" y=\"106.511463\" style=\"fill: #1f77b4; stroke: #1f77b4\"/>\n     <use xlink:href=\"#m76c9584e01\" x=\"153.066179\" y=\"91.946218\" style=\"fill: #1f77b4; stroke: #1f77b4\"/>\n     <use xlink:href=\"#m76c9584e01\" x=\"145.686551\" y=\"86.35342\" style=\"fill: #1f77b4; stroke: #1f77b4\"/>\n     <use xlink:href=\"#m76c9584e01\" x=\"181.240694\" y=\"105.108321\" style=\"fill: #1f77b4; stroke: #1f77b4\"/>\n     <use xlink:href=\"#m76c9584e01\" x=\"116.796605\" y=\"76.083185\" style=\"fill: #1f77b4; stroke: #1f77b4\"/>\n     <use xlink:href=\"#m76c9584e01\" x=\"168.655647\" y=\"100.877634\" style=\"fill: #1f77b4; stroke: #1f77b4\"/>\n     <use xlink:href=\"#m76c9584e01\" x=\"115.590467\" y=\"79.040233\" style=\"fill: #1f77b4; stroke: #1f77b4\"/>\n     <use xlink:href=\"#m76c9584e01\" x=\"135.921845\" y=\"75.170418\" style=\"fill: #1f77b4; stroke: #1f77b4\"/>\n     <use xlink:href=\"#m76c9584e01\" x=\"118.287865\" y=\"71.195183\" style=\"fill: #1f77b4; stroke: #1f77b4\"/>\n     <use xlink:href=\"#m76c9584e01\" x=\"159.144754\" y=\"94.650507\" style=\"fill: #1f77b4; stroke: #1f77b4\"/>\n     <use xlink:href=\"#m76c9584e01\" x=\"127.686794\" y=\"77.829216\" style=\"fill: #1f77b4; stroke: #1f77b4\"/>\n     <use xlink:href=\"#m76c9584e01\" x=\"142.472962\" y=\"112.007465\" style=\"fill: #1f77b4; stroke: #1f77b4\"/>\n     <use xlink:href=\"#m76c9584e01\" x=\"121.256552\" y=\"75.506353\" style=\"fill: #1f77b4; stroke: #1f77b4\"/>\n     <use xlink:href=\"#m76c9584e01\" x=\"105.536687\" y=\"61.397663\" style=\"fill: #1f77b4; stroke: #1f77b4\"/>\n     <use xlink:href=\"#m76c9584e01\" x=\"133.271572\" y=\"81.723383\" style=\"fill: #1f77b4; stroke: #1f77b4\"/>\n     <use xlink:href=\"#m76c9584e01\" x=\"182.134435\" y=\"126.797298\" style=\"fill: #1f77b4; stroke: #1f77b4\"/>\n     <use xlink:href=\"#m76c9584e01\" x=\"155.188629\" y=\"118.097622\" style=\"fill: #1f77b4; stroke: #1f77b4\"/>\n     <use xlink:href=\"#m76c9584e01\" x=\"149.27148\" y=\"98.563476\" style=\"fill: #1f77b4; stroke: #1f77b4\"/>\n     <use xlink:href=\"#m76c9584e01\" x=\"156.435347\" y=\"106.247988\" style=\"fill: #1f77b4; stroke: #1f77b4\"/>\n     <use xlink:href=\"#m76c9584e01\" x=\"111.642878\" y=\"67.16443\" style=\"fill: #1f77b4; stroke: #1f77b4\"/>\n     <use xlink:href=\"#m76c9584e01\" x=\"162.527338\" y=\"112.019826\" style=\"fill: #1f77b4; stroke: #1f77b4\"/>\n     <use xlink:href=\"#m76c9584e01\" x=\"71.531691\" y=\"39.844577\" style=\"fill: #1f77b4; stroke: #1f77b4\"/>\n     <use xlink:href=\"#m76c9584e01\" x=\"166.911058\" y=\"104.945346\" style=\"fill: #1f77b4; stroke: #1f77b4\"/>\n     <use xlink:href=\"#m76c9584e01\" x=\"148.849729\" y=\"88.017455\" style=\"fill: #1f77b4; stroke: #1f77b4\"/>\n     <use xlink:href=\"#m76c9584e01\" x=\"120.935327\" y=\"64.486317\" style=\"fill: #1f77b4; stroke: #1f77b4\"/>\n     <use xlink:href=\"#m76c9584e01\" x=\"157.131404\" y=\"97.613775\" style=\"fill: #1f77b4; stroke: #1f77b4\"/>\n     <use xlink:href=\"#m76c9584e01\" x=\"157.472771\" y=\"104.127057\" style=\"fill: #1f77b4; stroke: #1f77b4\"/>\n     <use xlink:href=\"#m76c9584e01\" x=\"138.239001\" y=\"90.522144\" style=\"fill: #1f77b4; stroke: #1f77b4\"/>\n     <use xlink:href=\"#m76c9584e01\" x=\"97.155601\" y=\"57.01329\" style=\"fill: #1f77b4; stroke: #1f77b4\"/>\n     <use xlink:href=\"#m76c9584e01\" x=\"120.923377\" y=\"70.468098\" style=\"fill: #1f77b4; stroke: #1f77b4\"/>\n     <use xlink:href=\"#m76c9584e01\" x=\"129.389006\" y=\"92.453445\" style=\"fill: #1f77b4; stroke: #1f77b4\"/>\n     <use xlink:href=\"#m76c9584e01\" x=\"154.893249\" y=\"103.590943\" style=\"fill: #1f77b4; stroke: #1f77b4\"/>\n     <use xlink:href=\"#m76c9584e01\" x=\"153.334158\" y=\"97.968035\" style=\"fill: #1f77b4; stroke: #1f77b4\"/>\n     <use xlink:href=\"#m76c9584e01\" x=\"167.143064\" y=\"88.175166\" style=\"fill: #1f77b4; stroke: #1f77b4\"/>\n     <use xlink:href=\"#m76c9584e01\" x=\"107.126018\" y=\"73.249199\" style=\"fill: #1f77b4; stroke: #1f77b4\"/>\n     <use xlink:href=\"#m76c9584e01\" x=\"138.271535\" y=\"85.68342\" style=\"fill: #1f77b4; stroke: #1f77b4\"/>\n     <use xlink:href=\"#m76c9584e01\" x=\"74.127807\" y=\"34.966204\" style=\"fill: #1f77b4; stroke: #1f77b4\"/>\n     <use xlink:href=\"#m76c9584e01\" x=\"100.780207\" y=\"63.582674\" style=\"fill: #1f77b4; stroke: #1f77b4\"/>\n     <use xlink:href=\"#m76c9584e01\" x=\"114.48525\" y=\"61.01339\" style=\"fill: #1f77b4; stroke: #1f77b4\"/>\n     <use xlink:href=\"#m76c9584e01\" x=\"165.723651\" y=\"101.336366\" style=\"fill: #1f77b4; stroke: #1f77b4\"/>\n     <use xlink:href=\"#m76c9584e01\" x=\"124.344694\" y=\"67.555274\" style=\"fill: #1f77b4; stroke: #1f77b4\"/>\n     <use xlink:href=\"#m76c9584e01\" x=\"187.387442\" y=\"110.80612\" style=\"fill: #1f77b4; stroke: #1f77b4\"/>\n     <use xlink:href=\"#m76c9584e01\" x=\"123.672533\" y=\"87.87941\" style=\"fill: #1f77b4; stroke: #1f77b4\"/>\n     <use xlink:href=\"#m76c9584e01\" x=\"162.638084\" y=\"117.382506\" style=\"fill: #1f77b4; stroke: #1f77b4\"/>\n     <use xlink:href=\"#m76c9584e01\" x=\"142.543662\" y=\"79.971621\" style=\"fill: #1f77b4; stroke: #1f77b4\"/>\n     <use xlink:href=\"#m76c9584e01\" x=\"134.575548\" y=\"65.221775\" style=\"fill: #1f77b4; stroke: #1f77b4\"/>\n     <use xlink:href=\"#m76c9584e01\" x=\"125.954304\" y=\"68.369617\" style=\"fill: #1f77b4; stroke: #1f77b4\"/>\n     <use xlink:href=\"#m76c9584e01\" x=\"119.1741\" y=\"78.831211\" style=\"fill: #1f77b4; stroke: #1f77b4\"/>\n     <use xlink:href=\"#m76c9584e01\" x=\"104.828347\" y=\"57.165858\" style=\"fill: #1f77b4; stroke: #1f77b4\"/>\n     <use xlink:href=\"#m76c9584e01\" x=\"143.770354\" y=\"96.095606\" style=\"fill: #1f77b4; stroke: #1f77b4\"/>\n     <use xlink:href=\"#m76c9584e01\" x=\"126.12494\" y=\"76.735063\" style=\"fill: #1f77b4; stroke: #1f77b4\"/>\n     <use xlink:href=\"#m76c9584e01\" x=\"132.114305\" y=\"62.782229\" style=\"fill: #1f77b4; stroke: #1f77b4\"/>\n     <use xlink:href=\"#m76c9584e01\" x=\"114.168026\" y=\"55.258819\" style=\"fill: #1f77b4; stroke: #1f77b4\"/>\n     <use xlink:href=\"#m76c9584e01\" x=\"175.468738\" y=\"117.903923\" style=\"fill: #1f77b4; stroke: #1f77b4\"/>\n     <use xlink:href=\"#m76c9584e01\" x=\"117.857294\" y=\"89.490023\" style=\"fill: #1f77b4; stroke: #1f77b4\"/>\n     <use xlink:href=\"#m76c9584e01\" x=\"136.711517\" y=\"94.688442\" style=\"fill: #1f77b4; stroke: #1f77b4\"/>\n     <use xlink:href=\"#m76c9584e01\" x=\"189.943196\" y=\"114.431299\" style=\"fill: #1f77b4; stroke: #1f77b4\"/>\n     <use xlink:href=\"#m76c9584e01\" x=\"158.930652\" y=\"109.038453\" style=\"fill: #1f77b4; stroke: #1f77b4\"/>\n     <use xlink:href=\"#m76c9584e01\" x=\"138.900031\" y=\"111.959263\" style=\"fill: #1f77b4; stroke: #1f77b4\"/>\n     <use xlink:href=\"#m76c9584e01\" x=\"114.657006\" y=\"59.791906\" style=\"fill: #1f77b4; stroke: #1f77b4\"/>\n     <use xlink:href=\"#m76c9584e01\" x=\"130.440958\" y=\"80.043891\" style=\"fill: #1f77b4; stroke: #1f77b4\"/>\n     <use xlink:href=\"#m76c9584e01\" x=\"134.03145\" y=\"87.538297\" style=\"fill: #1f77b4; stroke: #1f77b4\"/>\n     <use xlink:href=\"#m76c9584e01\" x=\"97.128249\" y=\"67.640464\" style=\"fill: #1f77b4; stroke: #1f77b4\"/>\n     <use xlink:href=\"#m76c9584e01\" x=\"200.655065\" y=\"137.740424\" style=\"fill: #1f77b4; stroke: #1f77b4\"/>\n     <use xlink:href=\"#m76c9584e01\" x=\"174.088425\" y=\"117.109329\" style=\"fill: #1f77b4; stroke: #1f77b4\"/>\n     <use xlink:href=\"#m76c9584e01\" x=\"191.272938\" y=\"100.874438\" style=\"fill: #1f77b4; stroke: #1f77b4\"/>\n     <use xlink:href=\"#m76c9584e01\" x=\"105.964158\" y=\"78.97493\" style=\"fill: #1f77b4; stroke: #1f77b4\"/>\n     <use xlink:href=\"#m76c9584e01\" x=\"122.374422\" y=\"86.210456\" style=\"fill: #1f77b4; stroke: #1f77b4\"/>\n     <use xlink:href=\"#m76c9584e01\" x=\"154.589942\" y=\"98.846272\" style=\"fill: #1f77b4; stroke: #1f77b4\"/>\n     <use xlink:href=\"#m76c9584e01\" x=\"96.298385\" y=\"70.869199\" style=\"fill: #1f77b4; stroke: #1f77b4\"/>\n     <use xlink:href=\"#m76c9584e01\" x=\"87.053272\" y=\"57.606595\" style=\"fill: #1f77b4; stroke: #1f77b4\"/>\n     <use xlink:href=\"#m76c9584e01\" x=\"177.31909\" y=\"113.508909\" style=\"fill: #1f77b4; stroke: #1f77b4\"/>\n     <use xlink:href=\"#m76c9584e01\" x=\"144.856331\" y=\"89.915578\" style=\"fill: #1f77b4; stroke: #1f77b4\"/>\n     <use xlink:href=\"#m76c9584e01\" x=\"146.27257\" y=\"99.247508\" style=\"fill: #1f77b4; stroke: #1f77b4\"/>\n     <use xlink:href=\"#m76c9584e01\" x=\"135.372056\" y=\"84.743094\" style=\"fill: #1f77b4; stroke: #1f77b4\"/>\n     <use xlink:href=\"#m76c9584e01\" x=\"129.812974\" y=\"85.737664\" style=\"fill: #1f77b4; stroke: #1f77b4\"/>\n     <use xlink:href=\"#m76c9584e01\" x=\"186.7001\" y=\"133.562461\" style=\"fill: #1f77b4; stroke: #1f77b4\"/>\n     <use xlink:href=\"#m76c9584e01\" x=\"142.108393\" y=\"89.11452\" style=\"fill: #1f77b4; stroke: #1f77b4\"/>\n     <use xlink:href=\"#m76c9584e01\" x=\"160.069533\" y=\"124.198395\" style=\"fill: #1f77b4; stroke: #1f77b4\"/>\n     <use xlink:href=\"#m76c9584e01\" x=\"172.953598\" y=\"95.683079\" style=\"fill: #1f77b4; stroke: #1f77b4\"/>\n     <use xlink:href=\"#m76c9584e01\" x=\"172.150362\" y=\"105.966565\" style=\"fill: #1f77b4; stroke: #1f77b4\"/>\n     <use xlink:href=\"#m76c9584e01\" x=\"114.422013\" y=\"79.39151\" style=\"fill: #1f77b4; stroke: #1f77b4\"/>\n     <use xlink:href=\"#m76c9584e01\" x=\"129.221815\" y=\"81.192401\" style=\"fill: #1f77b4; stroke: #1f77b4\"/>\n     <use xlink:href=\"#m76c9584e01\" x=\"165.256623\" y=\"105.640658\" style=\"fill: #1f77b4; stroke: #1f77b4\"/>\n     <use xlink:href=\"#m76c9584e01\" x=\"142.07642\" y=\"92.658153\" style=\"fill: #1f77b4; stroke: #1f77b4\"/>\n     <use xlink:href=\"#m76c9584e01\" x=\"138.760877\" y=\"70.597398\" style=\"fill: #1f77b4; stroke: #1f77b4\"/>\n     <use xlink:href=\"#m76c9584e01\" x=\"163.191586\" y=\"102.714782\" style=\"fill: #1f77b4; stroke: #1f77b4\"/>\n     <use xlink:href=\"#m76c9584e01\" x=\"134.686107\" y=\"91.585647\" style=\"fill: #1f77b4; stroke: #1f77b4\"/>\n     <use xlink:href=\"#m76c9584e01\" x=\"144.133099\" y=\"85.040621\" style=\"fill: #1f77b4; stroke: #1f77b4\"/>\n     <use xlink:href=\"#m76c9584e01\" x=\"135.473007\" y=\"83.24232\" style=\"fill: #1f77b4; stroke: #1f77b4\"/>\n     <use xlink:href=\"#m76c9584e01\" x=\"160.386091\" y=\"74.786919\" style=\"fill: #1f77b4; stroke: #1f77b4\"/>\n     <use xlink:href=\"#m76c9584e01\" x=\"109.499235\" y=\"54.934857\" style=\"fill: #1f77b4; stroke: #1f77b4\"/>\n     <use xlink:href=\"#m76c9584e01\" x=\"162.228834\" y=\"105.184105\" style=\"fill: #1f77b4; stroke: #1f77b4\"/>\n     <use xlink:href=\"#m76c9584e01\" x=\"151.236085\" y=\"95.322962\" style=\"fill: #1f77b4; stroke: #1f77b4\"/>\n     <use xlink:href=\"#m76c9584e01\" x=\"141.707008\" y=\"74.879925\" style=\"fill: #1f77b4; stroke: #1f77b4\"/>\n     <use xlink:href=\"#m76c9584e01\" x=\"141.826267\" y=\"94.603468\" style=\"fill: #1f77b4; stroke: #1f77b4\"/>\n     <use xlink:href=\"#m76c9584e01\" x=\"103.897215\" y=\"58.107302\" style=\"fill: #1f77b4; stroke: #1f77b4\"/>\n     <use xlink:href=\"#m76c9584e01\" x=\"87.220618\" y=\"57.50979\" style=\"fill: #1f77b4; stroke: #1f77b4\"/>\n     <use xlink:href=\"#m76c9584e01\" x=\"141.094871\" y=\"85.54485\" style=\"fill: #1f77b4; stroke: #1f77b4\"/>\n     <use xlink:href=\"#m76c9584e01\" x=\"146.160312\" y=\"81.667099\" style=\"fill: #1f77b4; stroke: #1f77b4\"/>\n     <use xlink:href=\"#m76c9584e01\" x=\"149.131644\" y=\"105.893611\" style=\"fill: #1f77b4; stroke: #1f77b4\"/>\n     <use xlink:href=\"#m76c9584e01\" x=\"99.648122\" y=\"56.979274\" style=\"fill: #1f77b4; stroke: #1f77b4\"/>\n     <use xlink:href=\"#m76c9584e01\" x=\"132.965194\" y=\"96.830491\" style=\"fill: #1f77b4; stroke: #1f77b4\"/>\n     <use xlink:href=\"#m76c9584e01\" x=\"99.111432\" y=\"73.967655\" style=\"fill: #1f77b4; stroke: #1f77b4\"/>\n     <use xlink:href=\"#m76c9584e01\" x=\"126.759236\" y=\"85.316789\" style=\"fill: #1f77b4; stroke: #1f77b4\"/>\n     <use xlink:href=\"#m76c9584e01\" x=\"137.185791\" y=\"95.832814\" style=\"fill: #1f77b4; stroke: #1f77b4\"/>\n     <use xlink:href=\"#m76c9584e01\" x=\"154.135708\" y=\"87.591989\" style=\"fill: #1f77b4; stroke: #1f77b4\"/>\n     <use xlink:href=\"#m76c9584e01\" x=\"75.910319\" y=\"29.182551\" style=\"fill: #1f77b4; stroke: #1f77b4\"/>\n     <use xlink:href=\"#m76c9584e01\" x=\"106.542115\" y=\"73.983739\" style=\"fill: #1f77b4; stroke: #1f77b4\"/>\n     <use xlink:href=\"#m76c9584e01\" x=\"128.681837\" y=\"85.008288\" style=\"fill: #1f77b4; stroke: #1f77b4\"/>\n     <use xlink:href=\"#m76c9584e01\" x=\"156.150179\" y=\"89.697287\" style=\"fill: #1f77b4; stroke: #1f77b4\"/>\n     <use xlink:href=\"#m76c9584e01\" x=\"117.98306\" y=\"74.652414\" style=\"fill: #1f77b4; stroke: #1f77b4\"/>\n     <use xlink:href=\"#m76c9584e01\" x=\"118.064762\" y=\"83.258043\" style=\"fill: #1f77b4; stroke: #1f77b4\"/>\n     <use xlink:href=\"#m76c9584e01\" x=\"139.922872\" y=\"88.98068\" style=\"fill: #1f77b4; stroke: #1f77b4\"/>\n     <use xlink:href=\"#m76c9584e01\" x=\"142.526308\" y=\"88.628362\" style=\"fill: #1f77b4; stroke: #1f77b4\"/>\n     <use xlink:href=\"#m76c9584e01\" x=\"137.413933\" y=\"73.899089\" style=\"fill: #1f77b4; stroke: #1f77b4\"/>\n     <use xlink:href=\"#m76c9584e01\" x=\"109.345186\" y=\"91.513136\" style=\"fill: #1f77b4; stroke: #1f77b4\"/>\n     <use xlink:href=\"#m76c9584e01\" x=\"126.728327\" y=\"84.287124\" style=\"fill: #1f77b4; stroke: #1f77b4\"/>\n     <use xlink:href=\"#m76c9584e01\" x=\"137.794096\" y=\"89.076557\" style=\"fill: #1f77b4; stroke: #1f77b4\"/>\n     <use xlink:href=\"#m76c9584e01\" x=\"106.115124\" y=\"70.522216\" style=\"fill: #1f77b4; stroke: #1f77b4\"/>\n     <use xlink:href=\"#m76c9584e01\" x=\"165.73932\" y=\"110.576691\" style=\"fill: #1f77b4; stroke: #1f77b4\"/>\n     <use xlink:href=\"#m76c9584e01\" x=\"149.133391\" y=\"87.175147\" style=\"fill: #1f77b4; stroke: #1f77b4\"/>\n     <use xlink:href=\"#m76c9584e01\" x=\"126.788703\" y=\"75.288972\" style=\"fill: #1f77b4; stroke: #1f77b4\"/>\n     <use xlink:href=\"#m76c9584e01\" x=\"163.471315\" y=\"98.082626\" style=\"fill: #1f77b4; stroke: #1f77b4\"/>\n     <use xlink:href=\"#m76c9584e01\" x=\"155.049501\" y=\"104.718962\" style=\"fill: #1f77b4; stroke: #1f77b4\"/>\n     <use xlink:href=\"#m76c9584e01\" x=\"147.106879\" y=\"97.36565\" style=\"fill: #1f77b4; stroke: #1f77b4\"/>\n     <use xlink:href=\"#m76c9584e01\" x=\"110.453381\" y=\"69.880139\" style=\"fill: #1f77b4; stroke: #1f77b4\"/>\n     <use xlink:href=\"#m76c9584e01\" x=\"149.701992\" y=\"93.660676\" style=\"fill: #1f77b4; stroke: #1f77b4\"/>\n     <use xlink:href=\"#m76c9584e01\" x=\"115.864551\" y=\"79.70146\" style=\"fill: #1f77b4; stroke: #1f77b4\"/>\n     <use xlink:href=\"#m76c9584e01\" x=\"185.954645\" y=\"120.499629\" style=\"fill: #1f77b4; stroke: #1f77b4\"/>\n     <use xlink:href=\"#m76c9584e01\" x=\"103.239155\" y=\"62.225113\" style=\"fill: #1f77b4; stroke: #1f77b4\"/>\n     <use xlink:href=\"#m76c9584e01\" x=\"138.586285\" y=\"80.17176\" style=\"fill: #1f77b4; stroke: #1f77b4\"/>\n     <use xlink:href=\"#m76c9584e01\" x=\"117.449559\" y=\"82.114145\" style=\"fill: #1f77b4; stroke: #1f77b4\"/>\n     <use xlink:href=\"#m76c9584e01\" x=\"168.104358\" y=\"101.399241\" style=\"fill: #1f77b4; stroke: #1f77b4\"/>\n     <use xlink:href=\"#m76c9584e01\" x=\"136.404123\" y=\"72.717633\" style=\"fill: #1f77b4; stroke: #1f77b4\"/>\n     <use xlink:href=\"#m76c9584e01\" x=\"109.459302\" y=\"70.792311\" style=\"fill: #1f77b4; stroke: #1f77b4\"/>\n     <use xlink:href=\"#m76c9584e01\" x=\"131.090804\" y=\"71.59598\" style=\"fill: #1f77b4; stroke: #1f77b4\"/>\n     <use xlink:href=\"#m76c9584e01\" x=\"78.240638\" y=\"39.03255\" style=\"fill: #1f77b4; stroke: #1f77b4\"/>\n     <use xlink:href=\"#m76c9584e01\" x=\"148.713661\" y=\"98.328279\" style=\"fill: #1f77b4; stroke: #1f77b4\"/>\n     <use xlink:href=\"#m76c9584e01\" x=\"123.180614\" y=\"71.483508\" style=\"fill: #1f77b4; stroke: #1f77b4\"/>\n     <use xlink:href=\"#m76c9584e01\" x=\"162.408409\" y=\"109.502369\" style=\"fill: #1f77b4; stroke: #1f77b4\"/>\n     <use xlink:href=\"#m76c9584e01\" x=\"158.936002\" y=\"101.66694\" style=\"fill: #1f77b4; stroke: #1f77b4\"/>\n     <use xlink:href=\"#m76c9584e01\" x=\"136.733294\" y=\"86.071011\" style=\"fill: #1f77b4; stroke: #1f77b4\"/>\n     <use xlink:href=\"#m76c9584e01\" x=\"146.960623\" y=\"77.348991\" style=\"fill: #1f77b4; stroke: #1f77b4\"/>\n     <use xlink:href=\"#m76c9584e01\" x=\"78.511283\" y=\"41.663132\" style=\"fill: #1f77b4; stroke: #1f77b4\"/>\n     <use xlink:href=\"#m76c9584e01\" x=\"125.757489\" y=\"73.595412\" style=\"fill: #1f77b4; stroke: #1f77b4\"/>\n     <use xlink:href=\"#m76c9584e01\" x=\"126.104607\" y=\"72.993347\" style=\"fill: #1f77b4; stroke: #1f77b4\"/>\n     <use xlink:href=\"#m76c9584e01\" x=\"135.595077\" y=\"94.094033\" style=\"fill: #1f77b4; stroke: #1f77b4\"/>\n     <use xlink:href=\"#m76c9584e01\" x=\"132.253984\" y=\"92.978429\" style=\"fill: #1f77b4; stroke: #1f77b4\"/>\n     <use xlink:href=\"#m76c9584e01\" x=\"133.988857\" y=\"95.577748\" style=\"fill: #1f77b4; stroke: #1f77b4\"/>\n     <use xlink:href=\"#m76c9584e01\" x=\"167.802852\" y=\"102.778106\" style=\"fill: #1f77b4; stroke: #1f77b4\"/>\n     <use xlink:href=\"#m76c9584e01\" x=\"189.64992\" y=\"99.95124\" style=\"fill: #1f77b4; stroke: #1f77b4\"/>\n     <use xlink:href=\"#m76c9584e01\" x=\"124.932889\" y=\"71.477949\" style=\"fill: #1f77b4; stroke: #1f77b4\"/>\n     <use xlink:href=\"#m76c9584e01\" x=\"181.380809\" y=\"100.859457\" style=\"fill: #1f77b4; stroke: #1f77b4\"/>\n     <use xlink:href=\"#m76c9584e01\" x=\"129.21542\" y=\"84.878538\" style=\"fill: #1f77b4; stroke: #1f77b4\"/>\n     <use xlink:href=\"#m76c9584e01\" x=\"122.632778\" y=\"75.755436\" style=\"fill: #1f77b4; stroke: #1f77b4\"/>\n     <use xlink:href=\"#m76c9584e01\" x=\"144.858222\" y=\"73.134625\" style=\"fill: #1f77b4; stroke: #1f77b4\"/>\n     <use xlink:href=\"#m76c9584e01\" x=\"162.74735\" y=\"101.678208\" style=\"fill: #1f77b4; stroke: #1f77b4\"/>\n     <use xlink:href=\"#m76c9584e01\" x=\"142.872954\" y=\"99.308734\" style=\"fill: #1f77b4; stroke: #1f77b4\"/>\n     <use xlink:href=\"#m76c9584e01\" x=\"116.245172\" y=\"67.070079\" style=\"fill: #1f77b4; stroke: #1f77b4\"/>\n     <use xlink:href=\"#m76c9584e01\" x=\"107.688091\" y=\"72.334394\" style=\"fill: #1f77b4; stroke: #1f77b4\"/>\n     <use xlink:href=\"#m76c9584e01\" x=\"165.549117\" y=\"111.544263\" style=\"fill: #1f77b4; stroke: #1f77b4\"/>\n     <use xlink:href=\"#m76c9584e01\" x=\"149.70057\" y=\"95.355783\" style=\"fill: #1f77b4; stroke: #1f77b4\"/>\n     <use xlink:href=\"#m76c9584e01\" x=\"98.14396\" y=\"50.480457\" style=\"fill: #1f77b4; stroke: #1f77b4\"/>\n     <use xlink:href=\"#m76c9584e01\" x=\"125.350059\" y=\"81.548329\" style=\"fill: #1f77b4; stroke: #1f77b4\"/>\n     <use xlink:href=\"#m76c9584e01\" x=\"175.575181\" y=\"108.884055\" style=\"fill: #1f77b4; stroke: #1f77b4\"/>\n     <use xlink:href=\"#m76c9584e01\" x=\"160.382138\" y=\"92.226757\" style=\"fill: #1f77b4; stroke: #1f77b4\"/>\n     <use xlink:href=\"#m76c9584e01\" x=\"165.824715\" y=\"93.119882\" style=\"fill: #1f77b4; stroke: #1f77b4\"/>\n     <use xlink:href=\"#m76c9584e01\" x=\"127.662314\" y=\"76.731431\" style=\"fill: #1f77b4; stroke: #1f77b4\"/>\n     <use xlink:href=\"#m76c9584e01\" x=\"130.544723\" y=\"101.32726\" style=\"fill: #1f77b4; stroke: #1f77b4\"/>\n     <use xlink:href=\"#m76c9584e01\" x=\"142.325663\" y=\"94.402033\" style=\"fill: #1f77b4; stroke: #1f77b4\"/>\n     <use xlink:href=\"#m76c9584e01\" x=\"160.604045\" y=\"97.898385\" style=\"fill: #1f77b4; stroke: #1f77b4\"/>\n     <use xlink:href=\"#m76c9584e01\" x=\"99.612998\" y=\"58.716601\" style=\"fill: #1f77b4; stroke: #1f77b4\"/>\n     <use xlink:href=\"#m76c9584e01\" x=\"145.75291\" y=\"86.977603\" style=\"fill: #1f77b4; stroke: #1f77b4\"/>\n     <use xlink:href=\"#m76c9584e01\" x=\"171.520131\" y=\"109.944809\" style=\"fill: #1f77b4; stroke: #1f77b4\"/>\n     <use xlink:href=\"#m76c9584e01\" x=\"150.453478\" y=\"114.385273\" style=\"fill: #1f77b4; stroke: #1f77b4\"/>\n     <use xlink:href=\"#m76c9584e01\" x=\"170.233815\" y=\"104.436713\" style=\"fill: #1f77b4; stroke: #1f77b4\"/>\n     <use xlink:href=\"#m76c9584e01\" x=\"116.68984\" y=\"75.88491\" style=\"fill: #1f77b4; stroke: #1f77b4\"/>\n     <use xlink:href=\"#m76c9584e01\" x=\"131.265335\" y=\"80.26353\" style=\"fill: #1f77b4; stroke: #1f77b4\"/>\n     <use xlink:href=\"#m76c9584e01\" x=\"133.932234\" y=\"87.528435\" style=\"fill: #1f77b4; stroke: #1f77b4\"/>\n     <use xlink:href=\"#m76c9584e01\" x=\"125.686319\" y=\"92.463485\" style=\"fill: #1f77b4; stroke: #1f77b4\"/>\n     <use xlink:href=\"#m76c9584e01\" x=\"158.250399\" y=\"94.906538\" style=\"fill: #1f77b4; stroke: #1f77b4\"/>\n     <use xlink:href=\"#m76c9584e01\" x=\"142.551165\" y=\"90.804767\" style=\"fill: #1f77b4; stroke: #1f77b4\"/>\n     <use xlink:href=\"#m76c9584e01\" x=\"114.544165\" y=\"66.513204\" style=\"fill: #1f77b4; stroke: #1f77b4\"/>\n     <use xlink:href=\"#m76c9584e01\" x=\"144.132019\" y=\"71.442167\" style=\"fill: #1f77b4; stroke: #1f77b4\"/>\n     <use xlink:href=\"#m76c9584e01\" x=\"140.724061\" y=\"89.596411\" style=\"fill: #1f77b4; stroke: #1f77b4\"/>\n     <use xlink:href=\"#m76c9584e01\" x=\"109.089158\" y=\"62.322399\" style=\"fill: #1f77b4; stroke: #1f77b4\"/>\n     <use xlink:href=\"#m76c9584e01\" x=\"158.220185\" y=\"110.191669\" style=\"fill: #1f77b4; stroke: #1f77b4\"/>\n     <use xlink:href=\"#m76c9584e01\" x=\"166.75103\" y=\"114.765593\" style=\"fill: #1f77b4; stroke: #1f77b4\"/>\n     <use xlink:href=\"#m76c9584e01\" x=\"141.420135\" y=\"83.313835\" style=\"fill: #1f77b4; stroke: #1f77b4\"/>\n     <use xlink:href=\"#m76c9584e01\" x=\"178.459018\" y=\"119.574827\" style=\"fill: #1f77b4; stroke: #1f77b4\"/>\n     <use xlink:href=\"#m76c9584e01\" x=\"136.128813\" y=\"91.928815\" style=\"fill: #1f77b4; stroke: #1f77b4\"/>\n     <use xlink:href=\"#m76c9584e01\" x=\"118.89127\" y=\"68.967631\" style=\"fill: #1f77b4; stroke: #1f77b4\"/>\n     <use xlink:href=\"#m76c9584e01\" x=\"83.835042\" y=\"51.755896\" style=\"fill: #1f77b4; stroke: #1f77b4\"/>\n     <use xlink:href=\"#m76c9584e01\" x=\"147.018687\" y=\"79.966428\" style=\"fill: #1f77b4; stroke: #1f77b4\"/>\n     <use xlink:href=\"#m76c9584e01\" x=\"123.100994\" y=\"76.578426\" style=\"fill: #1f77b4; stroke: #1f77b4\"/>\n     <use xlink:href=\"#m76c9584e01\" x=\"140.650537\" y=\"96.640006\" style=\"fill: #1f77b4; stroke: #1f77b4\"/>\n     <use xlink:href=\"#m76c9584e01\" x=\"136.07416\" y=\"78.130978\" style=\"fill: #1f77b4; stroke: #1f77b4\"/>\n     <use xlink:href=\"#m76c9584e01\" x=\"136.627888\" y=\"88.616367\" style=\"fill: #1f77b4; stroke: #1f77b4\"/>\n     <use xlink:href=\"#m76c9584e01\" x=\"141.774959\" y=\"95.238309\" style=\"fill: #1f77b4; stroke: #1f77b4\"/>\n     <use xlink:href=\"#m76c9584e01\" x=\"121.059256\" y=\"74.409469\" style=\"fill: #1f77b4; stroke: #1f77b4\"/>\n     <use xlink:href=\"#m76c9584e01\" x=\"143.260141\" y=\"99.485376\" style=\"fill: #1f77b4; stroke: #1f77b4\"/>\n     <use xlink:href=\"#m76c9584e01\" x=\"163.374957\" y=\"93.055384\" style=\"fill: #1f77b4; stroke: #1f77b4\"/>\n     <use xlink:href=\"#m76c9584e01\" x=\"88.416073\" y=\"48.623915\" style=\"fill: #1f77b4; stroke: #1f77b4\"/>\n     <use xlink:href=\"#m76c9584e01\" x=\"128.765756\" y=\"82.471645\" style=\"fill: #1f77b4; stroke: #1f77b4\"/>\n     <use xlink:href=\"#m76c9584e01\" x=\"150.911729\" y=\"95.299532\" style=\"fill: #1f77b4; stroke: #1f77b4\"/>\n     <use xlink:href=\"#m76c9584e01\" x=\"158.035946\" y=\"102.782969\" style=\"fill: #1f77b4; stroke: #1f77b4\"/>\n     <use xlink:href=\"#m76c9584e01\" x=\"155.495399\" y=\"85.493749\" style=\"fill: #1f77b4; stroke: #1f77b4\"/>\n     <use xlink:href=\"#m76c9584e01\" x=\"125.384292\" y=\"69.863256\" style=\"fill: #1f77b4; stroke: #1f77b4\"/>\n     <use xlink:href=\"#m76c9584e01\" x=\"174.324002\" y=\"100.540663\" style=\"fill: #1f77b4; stroke: #1f77b4\"/>\n     <use xlink:href=\"#m76c9584e01\" x=\"102.889966\" y=\"62.219478\" style=\"fill: #1f77b4; stroke: #1f77b4\"/>\n     <use xlink:href=\"#m76c9584e01\" x=\"172.293136\" y=\"116.110075\" style=\"fill: #1f77b4; stroke: #1f77b4\"/>\n     <use xlink:href=\"#m76c9584e01\" x=\"130.521796\" y=\"73.718222\" style=\"fill: #1f77b4; stroke: #1f77b4\"/>\n     <use xlink:href=\"#m76c9584e01\" x=\"122.540215\" y=\"77.322147\" style=\"fill: #1f77b4; stroke: #1f77b4\"/>\n     <use xlink:href=\"#m76c9584e01\" x=\"181.455748\" y=\"117.458163\" style=\"fill: #1f77b4; stroke: #1f77b4\"/>\n     <use xlink:href=\"#m76c9584e01\" x=\"167.379017\" y=\"91.212674\" style=\"fill: #1f77b4; stroke: #1f77b4\"/>\n     <use xlink:href=\"#m76c9584e01\" x=\"162.188384\" y=\"114.69558\" style=\"fill: #1f77b4; stroke: #1f77b4\"/>\n     <use xlink:href=\"#m76c9584e01\" x=\"125.213302\" y=\"65.756049\" style=\"fill: #1f77b4; stroke: #1f77b4\"/>\n     <use xlink:href=\"#m76c9584e01\" x=\"93.302122\" y=\"67.417942\" style=\"fill: #1f77b4; stroke: #1f77b4\"/>\n     <use xlink:href=\"#m76c9584e01\" x=\"125.748434\" y=\"66.757923\" style=\"fill: #1f77b4; stroke: #1f77b4\"/>\n     <use xlink:href=\"#m76c9584e01\" x=\"162.321877\" y=\"90.901189\" style=\"fill: #1f77b4; stroke: #1f77b4\"/>\n     <use xlink:href=\"#m76c9584e01\" x=\"157.852523\" y=\"95.582314\" style=\"fill: #1f77b4; stroke: #1f77b4\"/>\n     <use xlink:href=\"#m76c9584e01\" x=\"141.613769\" y=\"92.221936\" style=\"fill: #1f77b4; stroke: #1f77b4\"/>\n     <use xlink:href=\"#m76c9584e01\" x=\"162.230547\" y=\"99.665276\" style=\"fill: #1f77b4; stroke: #1f77b4\"/>\n     <use xlink:href=\"#m76c9584e01\" x=\"121.041162\" y=\"78.479123\" style=\"fill: #1f77b4; stroke: #1f77b4\"/>\n     <use xlink:href=\"#m76c9584e01\" x=\"157.991414\" y=\"80.915615\" style=\"fill: #1f77b4; stroke: #1f77b4\"/>\n     <use xlink:href=\"#m76c9584e01\" x=\"148.785756\" y=\"89.657515\" style=\"fill: #1f77b4; stroke: #1f77b4\"/>\n     <use xlink:href=\"#m76c9584e01\" x=\"174.421195\" y=\"109.852454\" style=\"fill: #1f77b4; stroke: #1f77b4\"/>\n     <use xlink:href=\"#m76c9584e01\" x=\"122.554948\" y=\"69.257772\" style=\"fill: #1f77b4; stroke: #1f77b4\"/>\n     <use xlink:href=\"#m76c9584e01\" x=\"184.885497\" y=\"125.245706\" style=\"fill: #1f77b4; stroke: #1f77b4\"/>\n     <use xlink:href=\"#m76c9584e01\" x=\"124.992518\" y=\"81.098895\" style=\"fill: #1f77b4; stroke: #1f77b4\"/>\n     <use xlink:href=\"#m76c9584e01\" x=\"131.943451\" y=\"83.39495\" style=\"fill: #1f77b4; stroke: #1f77b4\"/>\n     <use xlink:href=\"#m76c9584e01\" x=\"119.46458\" y=\"60.451688\" style=\"fill: #1f77b4; stroke: #1f77b4\"/>\n     <use xlink:href=\"#m76c9584e01\" x=\"144.163499\" y=\"96.166864\" style=\"fill: #1f77b4; stroke: #1f77b4\"/>\n     <use xlink:href=\"#m76c9584e01\" x=\"180.499443\" y=\"106.904227\" style=\"fill: #1f77b4; stroke: #1f77b4\"/>\n     <use xlink:href=\"#m76c9584e01\" x=\"142.314927\" y=\"83.334645\" style=\"fill: #1f77b4; stroke: #1f77b4\"/>\n     <use xlink:href=\"#m76c9584e01\" x=\"158.749689\" y=\"99.564091\" style=\"fill: #1f77b4; stroke: #1f77b4\"/>\n     <use xlink:href=\"#m76c9584e01\" x=\"159.369472\" y=\"89.080938\" style=\"fill: #1f77b4; stroke: #1f77b4\"/>\n     <use xlink:href=\"#m76c9584e01\" x=\"176.494456\" y=\"98.231749\" style=\"fill: #1f77b4; stroke: #1f77b4\"/>\n     <use xlink:href=\"#m76c9584e01\" x=\"131.39251\" y=\"68.909611\" style=\"fill: #1f77b4; stroke: #1f77b4\"/>\n     <use xlink:href=\"#m76c9584e01\" x=\"164.044997\" y=\"105.081041\" style=\"fill: #1f77b4; stroke: #1f77b4\"/>\n     <use xlink:href=\"#m76c9584e01\" x=\"143.416691\" y=\"100.412045\" style=\"fill: #1f77b4; stroke: #1f77b4\"/>\n     <use xlink:href=\"#m76c9584e01\" x=\"154.93795\" y=\"94.205725\" style=\"fill: #1f77b4; stroke: #1f77b4\"/>\n     <use xlink:href=\"#m76c9584e01\" x=\"144.073313\" y=\"82.610404\" style=\"fill: #1f77b4; stroke: #1f77b4\"/>\n     <use xlink:href=\"#m76c9584e01\" x=\"142.307327\" y=\"96.862354\" style=\"fill: #1f77b4; stroke: #1f77b4\"/>\n     <use xlink:href=\"#m76c9584e01\" x=\"131.020598\" y=\"67.556255\" style=\"fill: #1f77b4; stroke: #1f77b4\"/>\n     <use xlink:href=\"#m76c9584e01\" x=\"128.024216\" y=\"84.976392\" style=\"fill: #1f77b4; stroke: #1f77b4\"/>\n     <use xlink:href=\"#m76c9584e01\" x=\"110.749894\" y=\"68.07667\" style=\"fill: #1f77b4; stroke: #1f77b4\"/>\n     <use xlink:href=\"#m76c9584e01\" x=\"140.853783\" y=\"90.932489\" style=\"fill: #1f77b4; stroke: #1f77b4\"/>\n     <use xlink:href=\"#m76c9584e01\" x=\"151.311708\" y=\"86.885329\" style=\"fill: #1f77b4; stroke: #1f77b4\"/>\n     <use xlink:href=\"#m76c9584e01\" x=\"85.85492\" y=\"47.891784\" style=\"fill: #1f77b4; stroke: #1f77b4\"/>\n     <use xlink:href=\"#m76c9584e01\" x=\"149.662414\" y=\"85.82234\" style=\"fill: #1f77b4; stroke: #1f77b4\"/>\n     <use xlink:href=\"#m76c9584e01\" x=\"130.581167\" y=\"85.957566\" style=\"fill: #1f77b4; stroke: #1f77b4\"/>\n     <use xlink:href=\"#m76c9584e01\" x=\"147.288236\" y=\"81.640267\" style=\"fill: #1f77b4; stroke: #1f77b4\"/>\n     <use xlink:href=\"#m76c9584e01\" x=\"130.661493\" y=\"88.020244\" style=\"fill: #1f77b4; stroke: #1f77b4\"/>\n     <use xlink:href=\"#m76c9584e01\" x=\"118.084963\" y=\"83.014125\" style=\"fill: #1f77b4; stroke: #1f77b4\"/>\n     <use xlink:href=\"#m76c9584e01\" x=\"124.806226\" y=\"87.177416\" style=\"fill: #1f77b4; stroke: #1f77b4\"/>\n     <use xlink:href=\"#m76c9584e01\" x=\"140.503942\" y=\"103.730101\" style=\"fill: #1f77b4; stroke: #1f77b4\"/>\n     <use xlink:href=\"#m76c9584e01\" x=\"89.282759\" y=\"28.010356\" style=\"fill: #1f77b4; stroke: #1f77b4\"/>\n     <use xlink:href=\"#m76c9584e01\" x=\"131.13145\" y=\"83.488705\" style=\"fill: #1f77b4; stroke: #1f77b4\"/>\n     <use xlink:href=\"#m76c9584e01\" x=\"126.466036\" y=\"88.243368\" style=\"fill: #1f77b4; stroke: #1f77b4\"/>\n     <use xlink:href=\"#m76c9584e01\" x=\"140.093001\" y=\"77.247908\" style=\"fill: #1f77b4; stroke: #1f77b4\"/>\n     <use xlink:href=\"#m76c9584e01\" x=\"139.3071\" y=\"77.751719\" style=\"fill: #1f77b4; stroke: #1f77b4\"/>\n     <use xlink:href=\"#m76c9584e01\" x=\"129.386327\" y=\"77.678602\" style=\"fill: #1f77b4; stroke: #1f77b4\"/>\n     <use xlink:href=\"#m76c9584e01\" x=\"159.522717\" y=\"91.830414\" style=\"fill: #1f77b4; stroke: #1f77b4\"/>\n     <use xlink:href=\"#m76c9584e01\" x=\"122.931749\" y=\"83.365846\" style=\"fill: #1f77b4; stroke: #1f77b4\"/>\n     <use xlink:href=\"#m76c9584e01\" x=\"116.073991\" y=\"61.568761\" style=\"fill: #1f77b4; stroke: #1f77b4\"/>\n     <use xlink:href=\"#m76c9584e01\" x=\"121.368552\" y=\"70.538427\" style=\"fill: #1f77b4; stroke: #1f77b4\"/>\n     <use xlink:href=\"#m76c9584e01\" x=\"168.774396\" y=\"110.033851\" style=\"fill: #1f77b4; stroke: #1f77b4\"/>\n     <use xlink:href=\"#m76c9584e01\" x=\"173.319974\" y=\"97.841275\" style=\"fill: #1f77b4; stroke: #1f77b4\"/>\n     <use xlink:href=\"#m76c9584e01\" x=\"147.473763\" y=\"100.808483\" style=\"fill: #1f77b4; stroke: #1f77b4\"/>\n     <use xlink:href=\"#m76c9584e01\" x=\"152.153861\" y=\"106.619419\" style=\"fill: #1f77b4; stroke: #1f77b4\"/>\n     <use xlink:href=\"#m76c9584e01\" x=\"99.847702\" y=\"58.705905\" style=\"fill: #1f77b4; stroke: #1f77b4\"/>\n     <use xlink:href=\"#m76c9584e01\" x=\"166.448448\" y=\"103.043781\" style=\"fill: #1f77b4; stroke: #1f77b4\"/>\n     <use xlink:href=\"#m76c9584e01\" x=\"157.660991\" y=\"86.670288\" style=\"fill: #1f77b4; stroke: #1f77b4\"/>\n     <use xlink:href=\"#m76c9584e01\" x=\"152.073108\" y=\"92.306298\" style=\"fill: #1f77b4; stroke: #1f77b4\"/>\n     <use xlink:href=\"#m76c9584e01\" x=\"109.617355\" y=\"68.379586\" style=\"fill: #1f77b4; stroke: #1f77b4\"/>\n     <use xlink:href=\"#m76c9584e01\" x=\"189.819162\" y=\"120.044798\" style=\"fill: #1f77b4; stroke: #1f77b4\"/>\n     <use xlink:href=\"#m76c9584e01\" x=\"139.089136\" y=\"68.525829\" style=\"fill: #1f77b4; stroke: #1f77b4\"/>\n     <use xlink:href=\"#m76c9584e01\" x=\"193.510631\" y=\"111.467048\" style=\"fill: #1f77b4; stroke: #1f77b4\"/>\n     <use xlink:href=\"#m76c9584e01\" x=\"149.952678\" y=\"93.238277\" style=\"fill: #1f77b4; stroke: #1f77b4\"/>\n     <use xlink:href=\"#m76c9584e01\" x=\"158.471994\" y=\"96.531373\" style=\"fill: #1f77b4; stroke: #1f77b4\"/>\n     <use xlink:href=\"#m76c9584e01\" x=\"147.034932\" y=\"81.361047\" style=\"fill: #1f77b4; stroke: #1f77b4\"/>\n     <use xlink:href=\"#m76c9584e01\" x=\"112.338261\" y=\"39.612986\" style=\"fill: #1f77b4; stroke: #1f77b4\"/>\n     <use xlink:href=\"#m76c9584e01\" x=\"127.865895\" y=\"75.577579\" style=\"fill: #1f77b4; stroke: #1f77b4\"/>\n     <use xlink:href=\"#m76c9584e01\" x=\"150.406804\" y=\"89.501385\" style=\"fill: #1f77b4; stroke: #1f77b4\"/>\n     <use xlink:href=\"#m76c9584e01\" x=\"137.65659\" y=\"84.628423\" style=\"fill: #1f77b4; stroke: #1f77b4\"/>\n     <use xlink:href=\"#m76c9584e01\" x=\"134.082398\" y=\"92.800452\" style=\"fill: #1f77b4; stroke: #1f77b4\"/>\n     <use xlink:href=\"#m76c9584e01\" x=\"159.49639\" y=\"100.827892\" style=\"fill: #1f77b4; stroke: #1f77b4\"/>\n     <use xlink:href=\"#m76c9584e01\" x=\"149.747054\" y=\"85.954994\" style=\"fill: #1f77b4; stroke: #1f77b4\"/>\n     <use xlink:href=\"#m76c9584e01\" x=\"125.830711\" y=\"63.064741\" style=\"fill: #1f77b4; stroke: #1f77b4\"/>\n     <use xlink:href=\"#m76c9584e01\" x=\"125.260537\" y=\"62.091171\" style=\"fill: #1f77b4; stroke: #1f77b4\"/>\n     <use xlink:href=\"#m76c9584e01\" x=\"137.158307\" y=\"70.64536\" style=\"fill: #1f77b4; stroke: #1f77b4\"/>\n     <use xlink:href=\"#m76c9584e01\" x=\"172.784385\" y=\"121.079519\" style=\"fill: #1f77b4; stroke: #1f77b4\"/>\n     <use xlink:href=\"#m76c9584e01\" x=\"129.142167\" y=\"83.003561\" style=\"fill: #1f77b4; stroke: #1f77b4\"/>\n     <use xlink:href=\"#m76c9584e01\" x=\"167.345924\" y=\"127.418718\" style=\"fill: #1f77b4; stroke: #1f77b4\"/>\n     <use xlink:href=\"#m76c9584e01\" x=\"113.930219\" y=\"82.864874\" style=\"fill: #1f77b4; stroke: #1f77b4\"/>\n     <use xlink:href=\"#m76c9584e01\" x=\"166.789543\" y=\"119.071614\" style=\"fill: #1f77b4; stroke: #1f77b4\"/>\n     <use xlink:href=\"#m76c9584e01\" x=\"148.438675\" y=\"100.211183\" style=\"fill: #1f77b4; stroke: #1f77b4\"/>\n     <use xlink:href=\"#m76c9584e01\" x=\"155.900692\" y=\"98.339509\" style=\"fill: #1f77b4; stroke: #1f77b4\"/>\n     <use xlink:href=\"#m76c9584e01\" x=\"118.141166\" y=\"83.552232\" style=\"fill: #1f77b4; stroke: #1f77b4\"/>\n     <use xlink:href=\"#m76c9584e01\" x=\"113.567683\" y=\"61.43989\" style=\"fill: #1f77b4; stroke: #1f77b4\"/>\n     <use xlink:href=\"#m76c9584e01\" x=\"134.037269\" y=\"72.554439\" style=\"fill: #1f77b4; stroke: #1f77b4\"/>\n     <use xlink:href=\"#m76c9584e01\" x=\"175.855042\" y=\"121.904366\" style=\"fill: #1f77b4; stroke: #1f77b4\"/>\n     <use xlink:href=\"#m76c9584e01\" x=\"187.976687\" y=\"136.688405\" style=\"fill: #1f77b4; stroke: #1f77b4\"/>\n     <use xlink:href=\"#m76c9584e01\" x=\"118.750803\" y=\"71.685739\" style=\"fill: #1f77b4; stroke: #1f77b4\"/>\n     <use xlink:href=\"#m76c9584e01\" x=\"186.021314\" y=\"140.823912\" style=\"fill: #1f77b4; stroke: #1f77b4\"/>\n     <use xlink:href=\"#m76c9584e01\" x=\"206.979179\" y=\"140.839089\" style=\"fill: #1f77b4; stroke: #1f77b4\"/>\n     <use xlink:href=\"#m76c9584e01\" x=\"70.242369\" y=\"37.953737\" style=\"fill: #1f77b4; stroke: #1f77b4\"/>\n     <use xlink:href=\"#m76c9584e01\" x=\"149.65245\" y=\"101.944697\" style=\"fill: #1f77b4; stroke: #1f77b4\"/>\n     <use xlink:href=\"#m76c9584e01\" x=\"162.042156\" y=\"111.833239\" style=\"fill: #1f77b4; stroke: #1f77b4\"/>\n     <use xlink:href=\"#m76c9584e01\" x=\"117.786034\" y=\"75.803948\" style=\"fill: #1f77b4; stroke: #1f77b4\"/>\n     <use xlink:href=\"#m76c9584e01\" x=\"123.956055\" y=\"86.347604\" style=\"fill: #1f77b4; stroke: #1f77b4\"/>\n     <use xlink:href=\"#m76c9584e01\" x=\"136.511442\" y=\"85.734381\" style=\"fill: #1f77b4; stroke: #1f77b4\"/>\n     <use xlink:href=\"#m76c9584e01\" x=\"146.956351\" y=\"88.346299\" style=\"fill: #1f77b4; stroke: #1f77b4\"/>\n     <use xlink:href=\"#m76c9584e01\" x=\"151.896893\" y=\"83.79788\" style=\"fill: #1f77b4; stroke: #1f77b4\"/>\n     <use xlink:href=\"#m76c9584e01\" x=\"149.815561\" y=\"105.047288\" style=\"fill: #1f77b4; stroke: #1f77b4\"/>\n     <use xlink:href=\"#m76c9584e01\" x=\"130.271343\" y=\"80.060467\" style=\"fill: #1f77b4; stroke: #1f77b4\"/>\n     <use xlink:href=\"#m76c9584e01\" x=\"138.340837\" y=\"85.312586\" style=\"fill: #1f77b4; stroke: #1f77b4\"/>\n     <use xlink:href=\"#m76c9584e01\" x=\"152.314944\" y=\"109.019223\" style=\"fill: #1f77b4; stroke: #1f77b4\"/>\n     <use xlink:href=\"#m76c9584e01\" x=\"125.636174\" y=\"79.785571\" style=\"fill: #1f77b4; stroke: #1f77b4\"/>\n     <use xlink:href=\"#m76c9584e01\" x=\"174.753658\" y=\"108.608364\" style=\"fill: #1f77b4; stroke: #1f77b4\"/>\n     <use xlink:href=\"#m76c9584e01\" x=\"150.267952\" y=\"88.891214\" style=\"fill: #1f77b4; stroke: #1f77b4\"/>\n     <use xlink:href=\"#m76c9584e01\" x=\"95.517082\" y=\"72.661338\" style=\"fill: #1f77b4; stroke: #1f77b4\"/>\n     <use xlink:href=\"#m76c9584e01\" x=\"122.416684\" y=\"68.026659\" style=\"fill: #1f77b4; stroke: #1f77b4\"/>\n     <use xlink:href=\"#m76c9584e01\" x=\"129.696109\" y=\"80.817465\" style=\"fill: #1f77b4; stroke: #1f77b4\"/>\n     <use xlink:href=\"#m76c9584e01\" x=\"83.405689\" y=\"62.368588\" style=\"fill: #1f77b4; stroke: #1f77b4\"/>\n     <use xlink:href=\"#m76c9584e01\" x=\"201.779538\" y=\"124.976855\" style=\"fill: #1f77b4; stroke: #1f77b4\"/>\n     <use xlink:href=\"#m76c9584e01\" x=\"140.56416\" y=\"96.74041\" style=\"fill: #1f77b4; stroke: #1f77b4\"/>\n     <use xlink:href=\"#m76c9584e01\" x=\"159.977985\" y=\"101.39937\" style=\"fill: #1f77b4; stroke: #1f77b4\"/>\n     <use xlink:href=\"#m76c9584e01\" x=\"143.233129\" y=\"93.165692\" style=\"fill: #1f77b4; stroke: #1f77b4\"/>\n     <use xlink:href=\"#m76c9584e01\" x=\"130.192381\" y=\"81.537455\" style=\"fill: #1f77b4; stroke: #1f77b4\"/>\n     <use xlink:href=\"#m76c9584e01\" x=\"79.227136\" y=\"57.246441\" style=\"fill: #1f77b4; stroke: #1f77b4\"/>\n     <use xlink:href=\"#m76c9584e01\" x=\"165.34647\" y=\"104.367958\" style=\"fill: #1f77b4; stroke: #1f77b4\"/>\n     <use xlink:href=\"#m76c9584e01\" x=\"137.5789\" y=\"92.939358\" style=\"fill: #1f77b4; stroke: #1f77b4\"/>\n     <use xlink:href=\"#m76c9584e01\" x=\"178.533002\" y=\"112.445829\" style=\"fill: #1f77b4; stroke: #1f77b4\"/>\n     <use xlink:href=\"#m76c9584e01\" x=\"170.212522\" y=\"95.697419\" style=\"fill: #1f77b4; stroke: #1f77b4\"/>\n     <use xlink:href=\"#m76c9584e01\" x=\"134.080089\" y=\"97.176946\" style=\"fill: #1f77b4; stroke: #1f77b4\"/>\n     <use xlink:href=\"#m76c9584e01\" x=\"98.214615\" y=\"67.527783\" style=\"fill: #1f77b4; stroke: #1f77b4\"/>\n     <use xlink:href=\"#m76c9584e01\" x=\"133.472002\" y=\"90.039121\" style=\"fill: #1f77b4; stroke: #1f77b4\"/>\n     <use xlink:href=\"#m76c9584e01\" x=\"108.589738\" y=\"70.256883\" style=\"fill: #1f77b4; stroke: #1f77b4\"/>\n     <use xlink:href=\"#m76c9584e01\" x=\"145.264413\" y=\"96.515942\" style=\"fill: #1f77b4; stroke: #1f77b4\"/>\n     <use xlink:href=\"#m76c9584e01\" x=\"141.41787\" y=\"86.612412\" style=\"fill: #1f77b4; stroke: #1f77b4\"/>\n     <use xlink:href=\"#m76c9584e01\" x=\"108.441801\" y=\"70.474884\" style=\"fill: #1f77b4; stroke: #1f77b4\"/>\n     <use xlink:href=\"#m76c9584e01\" x=\"124.305684\" y=\"83.979273\" style=\"fill: #1f77b4; stroke: #1f77b4\"/>\n     <use xlink:href=\"#m76c9584e01\" x=\"184.743982\" y=\"109.981107\" style=\"fill: #1f77b4; stroke: #1f77b4\"/>\n     <use xlink:href=\"#m76c9584e01\" x=\"132.963417\" y=\"87.144916\" style=\"fill: #1f77b4; stroke: #1f77b4\"/>\n     <use xlink:href=\"#m76c9584e01\" x=\"114.383217\" y=\"68.424826\" style=\"fill: #1f77b4; stroke: #1f77b4\"/>\n     <use xlink:href=\"#m76c9584e01\" x=\"157.901723\" y=\"108.265237\" style=\"fill: #1f77b4; stroke: #1f77b4\"/>\n     <use xlink:href=\"#m76c9584e01\" x=\"166.9536\" y=\"104.263058\" style=\"fill: #1f77b4; stroke: #1f77b4\"/>\n     <use xlink:href=\"#m76c9584e01\" x=\"184.562878\" y=\"104.463325\" style=\"fill: #1f77b4; stroke: #1f77b4\"/>\n     <use xlink:href=\"#m76c9584e01\" x=\"187.404709\" y=\"120.343907\" style=\"fill: #1f77b4; stroke: #1f77b4\"/>\n     <use xlink:href=\"#m76c9584e01\" x=\"114.6588\" y=\"69.770584\" style=\"fill: #1f77b4; stroke: #1f77b4\"/>\n     <use xlink:href=\"#m76c9584e01\" x=\"109.640345\" y=\"53.653025\" style=\"fill: #1f77b4; stroke: #1f77b4\"/>\n     <use xlink:href=\"#m76c9584e01\" x=\"122.590144\" y=\"69.724445\" style=\"fill: #1f77b4; stroke: #1f77b4\"/>\n     <use xlink:href=\"#m76c9584e01\" x=\"125.613345\" y=\"89.831834\" style=\"fill: #1f77b4; stroke: #1f77b4\"/>\n     <use xlink:href=\"#m76c9584e01\" x=\"165.832413\" y=\"108.929004\" style=\"fill: #1f77b4; stroke: #1f77b4\"/>\n     <use xlink:href=\"#m76c9584e01\" x=\"111.48545\" y=\"75.313505\" style=\"fill: #1f77b4; stroke: #1f77b4\"/>\n     <use xlink:href=\"#m76c9584e01\" x=\"146.795422\" y=\"106.320898\" style=\"fill: #1f77b4; stroke: #1f77b4\"/>\n     <use xlink:href=\"#m76c9584e01\" x=\"132.135105\" y=\"84.585857\" style=\"fill: #1f77b4; stroke: #1f77b4\"/>\n     <use xlink:href=\"#m76c9584e01\" x=\"166.851995\" y=\"104.90578\" style=\"fill: #1f77b4; stroke: #1f77b4\"/>\n     <use xlink:href=\"#m76c9584e01\" x=\"106.876625\" y=\"59.026386\" style=\"fill: #1f77b4; stroke: #1f77b4\"/>\n     <use xlink:href=\"#m76c9584e01\" x=\"113.928923\" y=\"56.798293\" style=\"fill: #1f77b4; stroke: #1f77b4\"/>\n     <use xlink:href=\"#m76c9584e01\" x=\"117.258716\" y=\"79.533007\" style=\"fill: #1f77b4; stroke: #1f77b4\"/>\n     <use xlink:href=\"#m76c9584e01\" x=\"104.344618\" y=\"57.844934\" style=\"fill: #1f77b4; stroke: #1f77b4\"/>\n     <use xlink:href=\"#m76c9584e01\" x=\"180.185246\" y=\"88.465839\" style=\"fill: #1f77b4; stroke: #1f77b4\"/>\n     <use xlink:href=\"#m76c9584e01\" x=\"126.947428\" y=\"72.686709\" style=\"fill: #1f77b4; stroke: #1f77b4\"/>\n     <use xlink:href=\"#m76c9584e01\" x=\"115.545104\" y=\"66.693567\" style=\"fill: #1f77b4; stroke: #1f77b4\"/>\n     <use xlink:href=\"#m76c9584e01\" x=\"127.37305\" y=\"74.453881\" style=\"fill: #1f77b4; stroke: #1f77b4\"/>\n     <use xlink:href=\"#m76c9584e01\" x=\"150.256666\" y=\"84.024229\" style=\"fill: #1f77b4; stroke: #1f77b4\"/>\n     <use xlink:href=\"#m76c9584e01\" x=\"163.017559\" y=\"98.440503\" style=\"fill: #1f77b4; stroke: #1f77b4\"/>\n     <use xlink:href=\"#m76c9584e01\" x=\"119.733565\" y=\"72.366804\" style=\"fill: #1f77b4; stroke: #1f77b4\"/>\n     <use xlink:href=\"#m76c9584e01\" x=\"125.152628\" y=\"81.134047\" style=\"fill: #1f77b4; stroke: #1f77b4\"/>\n     <use xlink:href=\"#m76c9584e01\" x=\"150.603488\" y=\"91.204634\" style=\"fill: #1f77b4; stroke: #1f77b4\"/>\n     <use xlink:href=\"#m76c9584e01\" x=\"144.877562\" y=\"93.084973\" style=\"fill: #1f77b4; stroke: #1f77b4\"/>\n     <use xlink:href=\"#m76c9584e01\" x=\"119.720887\" y=\"78.696415\" style=\"fill: #1f77b4; stroke: #1f77b4\"/>\n     <use xlink:href=\"#m76c9584e01\" x=\"103.911681\" y=\"76.827703\" style=\"fill: #1f77b4; stroke: #1f77b4\"/>\n     <use xlink:href=\"#m76c9584e01\" x=\"189.47746\" y=\"133.573194\" style=\"fill: #1f77b4; stroke: #1f77b4\"/>\n     <use xlink:href=\"#m76c9584e01\" x=\"125.011821\" y=\"73.050669\" style=\"fill: #1f77b4; stroke: #1f77b4\"/>\n     <use xlink:href=\"#m76c9584e01\" x=\"179.06775\" y=\"110.25126\" style=\"fill: #1f77b4; stroke: #1f77b4\"/>\n     <use xlink:href=\"#m76c9584e01\" x=\"159.791537\" y=\"112.130796\" style=\"fill: #1f77b4; stroke: #1f77b4\"/>\n     <use xlink:href=\"#m76c9584e01\" x=\"142.48747\" y=\"84.555901\" style=\"fill: #1f77b4; stroke: #1f77b4\"/>\n     <use xlink:href=\"#m76c9584e01\" x=\"187.051503\" y=\"106.211568\" style=\"fill: #1f77b4; stroke: #1f77b4\"/>\n     <use xlink:href=\"#m76c9584e01\" x=\"140.906855\" y=\"83.248998\" style=\"fill: #1f77b4; stroke: #1f77b4\"/>\n     <use xlink:href=\"#m76c9584e01\" x=\"153.365223\" y=\"96.857498\" style=\"fill: #1f77b4; stroke: #1f77b4\"/>\n     <use xlink:href=\"#m76c9584e01\" x=\"159.415033\" y=\"104.67212\" style=\"fill: #1f77b4; stroke: #1f77b4\"/>\n     <use xlink:href=\"#m76c9584e01\" x=\"131.914283\" y=\"81.653635\" style=\"fill: #1f77b4; stroke: #1f77b4\"/>\n     <use xlink:href=\"#m76c9584e01\" x=\"111.178475\" y=\"50.722178\" style=\"fill: #1f77b4; stroke: #1f77b4\"/>\n     <use xlink:href=\"#m76c9584e01\" x=\"107.53659\" y=\"65.814779\" style=\"fill: #1f77b4; stroke: #1f77b4\"/>\n     <use xlink:href=\"#m76c9584e01\" x=\"158.523536\" y=\"101.787378\" style=\"fill: #1f77b4; stroke: #1f77b4\"/>\n     <use xlink:href=\"#m76c9584e01\" x=\"176.886113\" y=\"112.764866\" style=\"fill: #1f77b4; stroke: #1f77b4\"/>\n     <use xlink:href=\"#m76c9584e01\" x=\"153.646984\" y=\"91.595761\" style=\"fill: #1f77b4; stroke: #1f77b4\"/>\n     <use xlink:href=\"#m76c9584e01\" x=\"116.130663\" y=\"76.815685\" style=\"fill: #1f77b4; stroke: #1f77b4\"/>\n     <use xlink:href=\"#m76c9584e01\" x=\"137.097124\" y=\"82.934002\" style=\"fill: #1f77b4; stroke: #1f77b4\"/>\n     <use xlink:href=\"#m76c9584e01\" x=\"204.321513\" y=\"136.221073\" style=\"fill: #1f77b4; stroke: #1f77b4\"/>\n     <use xlink:href=\"#m76c9584e01\" x=\"152.211386\" y=\"86.29655\" style=\"fill: #1f77b4; stroke: #1f77b4\"/>\n     <use xlink:href=\"#m76c9584e01\" x=\"174.362861\" y=\"107.736705\" style=\"fill: #1f77b4; stroke: #1f77b4\"/>\n     <use xlink:href=\"#m76c9584e01\" x=\"169.867417\" y=\"102.140496\" style=\"fill: #1f77b4; stroke: #1f77b4\"/>\n     <use xlink:href=\"#m76c9584e01\" x=\"172.198101\" y=\"95.269528\" style=\"fill: #1f77b4; stroke: #1f77b4\"/>\n     <use xlink:href=\"#m76c9584e01\" x=\"130.860816\" y=\"102.212431\" style=\"fill: #1f77b4; stroke: #1f77b4\"/>\n     <use xlink:href=\"#m76c9584e01\" x=\"123.604306\" y=\"66.411015\" style=\"fill: #1f77b4; stroke: #1f77b4\"/>\n     <use xlink:href=\"#m76c9584e01\" x=\"166.498855\" y=\"89.412439\" style=\"fill: #1f77b4; stroke: #1f77b4\"/>\n     <use xlink:href=\"#m76c9584e01\" x=\"120.59888\" y=\"98.848651\" style=\"fill: #1f77b4; stroke: #1f77b4\"/>\n     <use xlink:href=\"#m76c9584e01\" x=\"112.720389\" y=\"61.417029\" style=\"fill: #1f77b4; stroke: #1f77b4\"/>\n     <use xlink:href=\"#m76c9584e01\" x=\"199.192183\" y=\"122.265085\" style=\"fill: #1f77b4; stroke: #1f77b4\"/>\n     <use xlink:href=\"#m76c9584e01\" x=\"119.3363\" y=\"66.921501\" style=\"fill: #1f77b4; stroke: #1f77b4\"/>\n     <use xlink:href=\"#m76c9584e01\" x=\"159.738329\" y=\"107.085083\" style=\"fill: #1f77b4; stroke: #1f77b4\"/>\n     <use xlink:href=\"#m76c9584e01\" x=\"124.568066\" y=\"88.919201\" style=\"fill: #1f77b4; stroke: #1f77b4\"/>\n     <use xlink:href=\"#m76c9584e01\" x=\"171.202263\" y=\"121.600078\" style=\"fill: #1f77b4; stroke: #1f77b4\"/>\n     <use xlink:href=\"#m76c9584e01\" x=\"103.453878\" y=\"63.546509\" style=\"fill: #1f77b4; stroke: #1f77b4\"/>\n     <use xlink:href=\"#m76c9584e01\" x=\"133.096327\" y=\"65.848023\" style=\"fill: #1f77b4; stroke: #1f77b4\"/>\n     <use xlink:href=\"#m76c9584e01\" x=\"127.281548\" y=\"74.663733\" style=\"fill: #1f77b4; stroke: #1f77b4\"/>\n     <use xlink:href=\"#m76c9584e01\" x=\"130.741891\" y=\"97.247608\" style=\"fill: #1f77b4; stroke: #1f77b4\"/>\n     <use xlink:href=\"#m76c9584e01\" x=\"130.996102\" y=\"78.157606\" style=\"fill: #1f77b4; stroke: #1f77b4\"/>\n     <use xlink:href=\"#m76c9584e01\" x=\"129.620959\" y=\"78.588471\" style=\"fill: #1f77b4; stroke: #1f77b4\"/>\n     <use xlink:href=\"#m76c9584e01\" x=\"184.500531\" y=\"123.587652\" style=\"fill: #1f77b4; stroke: #1f77b4\"/>\n     <use xlink:href=\"#m76c9584e01\" x=\"140.860045\" y=\"87.431881\" style=\"fill: #1f77b4; stroke: #1f77b4\"/>\n    </g>\n   </g>\n   <g id=\"matplotlib.axis_1\">\n    <g id=\"xtick_1\">\n     <g id=\"line2d_1\">\n      <defs>\n       <path id=\"m21f9cf892a\" d=\"M 0 0 \nL 0 3.5 \n\" style=\"stroke: #000000; stroke-width: 0.8\"/>\n      </defs>\n      <g>\n       <use xlink:href=\"#m21f9cf892a\" x=\"35.528152\" y=\"147.525289\" style=\"stroke: #000000; stroke-width: 0.8\"/>\n      </g>\n     </g>\n     <g id=\"text_1\">\n      <!-- −4 -->\n      <g transform=\"translate(28.157058 162.123727) scale(0.1 -0.1)\">\n       <defs>\n        <path id=\"DejaVuSans-2212\" d=\"M 678 2272 \nL 4684 2272 \nL 4684 1741 \nL 678 1741 \nL 678 2272 \nz\n\" transform=\"scale(0.015625)\"/>\n        <path id=\"DejaVuSans-34\" d=\"M 2419 4116 \nL 825 1625 \nL 2419 1625 \nL 2419 4116 \nz\nM 2253 4666 \nL 3047 4666 \nL 3047 1625 \nL 3713 1625 \nL 3713 1100 \nL 3047 1100 \nL 3047 0 \nL 2419 0 \nL 2419 1100 \nL 313 1100 \nL 313 1709 \nL 2253 4666 \nz\n\" transform=\"scale(0.015625)\"/>\n       </defs>\n       <use xlink:href=\"#DejaVuSans-2212\"/>\n       <use xlink:href=\"#DejaVuSans-34\" transform=\"translate(83.789062 0)\"/>\n      </g>\n     </g>\n    </g>\n    <g id=\"xtick_2\">\n     <g id=\"line2d_2\">\n      <g>\n       <use xlink:href=\"#m21f9cf892a\" x=\"87.397851\" y=\"147.525289\" style=\"stroke: #000000; stroke-width: 0.8\"/>\n      </g>\n     </g>\n     <g id=\"text_2\">\n      <!-- −2 -->\n      <g transform=\"translate(80.026758 162.123727) scale(0.1 -0.1)\">\n       <defs>\n        <path id=\"DejaVuSans-32\" d=\"M 1228 531 \nL 3431 531 \nL 3431 0 \nL 469 0 \nL 469 531 \nQ 828 903 1448 1529 \nQ 2069 2156 2228 2338 \nQ 2531 2678 2651 2914 \nQ 2772 3150 2772 3378 \nQ 2772 3750 2511 3984 \nQ 2250 4219 1831 4219 \nQ 1534 4219 1204 4116 \nQ 875 4013 500 3803 \nL 500 4441 \nQ 881 4594 1212 4672 \nQ 1544 4750 1819 4750 \nQ 2544 4750 2975 4387 \nQ 3406 4025 3406 3419 \nQ 3406 3131 3298 2873 \nQ 3191 2616 2906 2266 \nQ 2828 2175 2409 1742 \nQ 1991 1309 1228 531 \nz\n\" transform=\"scale(0.015625)\"/>\n       </defs>\n       <use xlink:href=\"#DejaVuSans-2212\"/>\n       <use xlink:href=\"#DejaVuSans-32\" transform=\"translate(83.789062 0)\"/>\n      </g>\n     </g>\n    </g>\n    <g id=\"xtick_3\">\n     <g id=\"line2d_3\">\n      <g>\n       <use xlink:href=\"#m21f9cf892a\" x=\"139.267551\" y=\"147.525289\" style=\"stroke: #000000; stroke-width: 0.8\"/>\n      </g>\n     </g>\n     <g id=\"text_3\">\n      <!-- 0 -->\n      <g transform=\"translate(136.086301 162.123727) scale(0.1 -0.1)\">\n       <defs>\n        <path id=\"DejaVuSans-30\" d=\"M 2034 4250 \nQ 1547 4250 1301 3770 \nQ 1056 3291 1056 2328 \nQ 1056 1369 1301 889 \nQ 1547 409 2034 409 \nQ 2525 409 2770 889 \nQ 3016 1369 3016 2328 \nQ 3016 3291 2770 3770 \nQ 2525 4250 2034 4250 \nz\nM 2034 4750 \nQ 2819 4750 3233 4129 \nQ 3647 3509 3647 2328 \nQ 3647 1150 3233 529 \nQ 2819 -91 2034 -91 \nQ 1250 -91 836 529 \nQ 422 1150 422 2328 \nQ 422 3509 836 4129 \nQ 1250 4750 2034 4750 \nz\n\" transform=\"scale(0.015625)\"/>\n       </defs>\n       <use xlink:href=\"#DejaVuSans-30\"/>\n      </g>\n     </g>\n    </g>\n    <g id=\"xtick_4\">\n     <g id=\"line2d_4\">\n      <g>\n       <use xlink:href=\"#m21f9cf892a\" x=\"191.137251\" y=\"147.525289\" style=\"stroke: #000000; stroke-width: 0.8\"/>\n      </g>\n     </g>\n     <g id=\"text_4\">\n      <!-- 2 -->\n      <g transform=\"translate(187.956001 162.123727) scale(0.1 -0.1)\">\n       <use xlink:href=\"#DejaVuSans-32\"/>\n      </g>\n     </g>\n    </g>\n   </g>\n   <g id=\"matplotlib.axis_2\">\n    <g id=\"ytick_1\">\n     <g id=\"line2d_5\">\n      <defs>\n       <path id=\"me10f9ec891\" d=\"M 0 0 \nL -3.5 0 \n\" style=\"stroke: #000000; stroke-width: 0.8\"/>\n      </defs>\n      <g>\n       <use xlink:href=\"#me10f9ec891\" x=\"28.942188\" y=\"130.116313\" style=\"stroke: #000000; stroke-width: 0.8\"/>\n      </g>\n     </g>\n     <g id=\"text_5\">\n      <!-- −5 -->\n      <g transform=\"translate(7.2 133.915532) scale(0.1 -0.1)\">\n       <defs>\n        <path id=\"DejaVuSans-35\" d=\"M 691 4666 \nL 3169 4666 \nL 3169 4134 \nL 1269 4134 \nL 1269 2991 \nQ 1406 3038 1543 3061 \nQ 1681 3084 1819 3084 \nQ 2600 3084 3056 2656 \nQ 3513 2228 3513 1497 \nQ 3513 744 3044 326 \nQ 2575 -91 1722 -91 \nQ 1428 -91 1123 -41 \nQ 819 9 494 109 \nL 494 744 \nQ 775 591 1075 516 \nQ 1375 441 1709 441 \nQ 2250 441 2565 725 \nQ 2881 1009 2881 1497 \nQ 2881 1984 2565 2268 \nQ 2250 2553 1709 2553 \nQ 1456 2553 1204 2497 \nQ 953 2441 691 2322 \nL 691 4666 \nz\n\" transform=\"scale(0.015625)\"/>\n       </defs>\n       <use xlink:href=\"#DejaVuSans-2212\"/>\n       <use xlink:href=\"#DejaVuSans-35\" transform=\"translate(83.789062 0)\"/>\n      </g>\n     </g>\n    </g>\n    <g id=\"ytick_2\">\n     <g id=\"line2d_6\">\n      <g>\n       <use xlink:href=\"#me10f9ec891\" x=\"28.942188\" y=\"106.292894\" style=\"stroke: #000000; stroke-width: 0.8\"/>\n      </g>\n     </g>\n     <g id=\"text_6\">\n      <!-- 0 -->\n      <g transform=\"translate(15.579688 110.092113) scale(0.1 -0.1)\">\n       <use xlink:href=\"#DejaVuSans-30\"/>\n      </g>\n     </g>\n    </g>\n    <g id=\"ytick_3\">\n     <g id=\"line2d_7\">\n      <g>\n       <use xlink:href=\"#me10f9ec891\" x=\"28.942188\" y=\"82.469475\" style=\"stroke: #000000; stroke-width: 0.8\"/>\n      </g>\n     </g>\n     <g id=\"text_7\">\n      <!-- 5 -->\n      <g transform=\"translate(15.579688 86.268694) scale(0.1 -0.1)\">\n       <use xlink:href=\"#DejaVuSans-35\"/>\n      </g>\n     </g>\n    </g>\n    <g id=\"ytick_4\">\n     <g id=\"line2d_8\">\n      <g>\n       <use xlink:href=\"#me10f9ec891\" x=\"28.942188\" y=\"58.646056\" style=\"stroke: #000000; stroke-width: 0.8\"/>\n      </g>\n     </g>\n     <g id=\"text_8\">\n      <!-- 10 -->\n      <g transform=\"translate(9.217188 62.445275) scale(0.1 -0.1)\">\n       <defs>\n        <path id=\"DejaVuSans-31\" d=\"M 794 531 \nL 1825 531 \nL 1825 4091 \nL 703 3866 \nL 703 4441 \nL 1819 4666 \nL 2450 4666 \nL 2450 531 \nL 3481 531 \nL 3481 0 \nL 794 0 \nL 794 531 \nz\n\" transform=\"scale(0.015625)\"/>\n       </defs>\n       <use xlink:href=\"#DejaVuSans-31\"/>\n       <use xlink:href=\"#DejaVuSans-30\" transform=\"translate(63.623047 0)\"/>\n      </g>\n     </g>\n    </g>\n    <g id=\"ytick_5\">\n     <g id=\"line2d_9\">\n      <g>\n       <use xlink:href=\"#me10f9ec891\" x=\"28.942188\" y=\"34.822638\" style=\"stroke: #000000; stroke-width: 0.8\"/>\n      </g>\n     </g>\n     <g id=\"text_9\">\n      <!-- 15 -->\n      <g transform=\"translate(9.217188 38.621856) scale(0.1 -0.1)\">\n       <use xlink:href=\"#DejaVuSans-31\"/>\n       <use xlink:href=\"#DejaVuSans-35\" transform=\"translate(63.623047 0)\"/>\n      </g>\n     </g>\n    </g>\n    <g id=\"ytick_6\">\n     <g id=\"line2d_10\">\n      <g>\n       <use xlink:href=\"#me10f9ec891\" x=\"28.942188\" y=\"10.999219\" style=\"stroke: #000000; stroke-width: 0.8\"/>\n      </g>\n     </g>\n     <g id=\"text_10\">\n      <!-- 20 -->\n      <g transform=\"translate(9.217188 14.798438) scale(0.1 -0.1)\">\n       <use xlink:href=\"#DejaVuSans-32\"/>\n       <use xlink:href=\"#DejaVuSans-30\" transform=\"translate(63.623047 0)\"/>\n      </g>\n     </g>\n    </g>\n   </g>\n   <g id=\"patch_3\">\n    <path d=\"M 28.942188 147.525289 \nL 28.942188 8.925289 \n\" style=\"fill: none; stroke: #000000; stroke-width: 0.8; stroke-linejoin: miter; stroke-linecap: square\"/>\n   </g>\n   <g id=\"patch_4\">\n    <path d=\"M 224.242188 147.525289 \nL 224.242188 8.925289 \n\" style=\"fill: none; stroke: #000000; stroke-width: 0.8; stroke-linejoin: miter; stroke-linecap: square\"/>\n   </g>\n   <g id=\"patch_5\">\n    <path d=\"M 28.942187 147.525289 \nL 224.242188 147.525289 \n\" style=\"fill: none; stroke: #000000; stroke-width: 0.8; stroke-linejoin: miter; stroke-linecap: square\"/>\n   </g>\n   <g id=\"patch_6\">\n    <path d=\"M 28.942187 8.925289 \nL 224.242188 8.925289 \n\" style=\"fill: none; stroke: #000000; stroke-width: 0.8; stroke-linejoin: miter; stroke-linecap: square\"/>\n   </g>\n  </g>\n </g>\n <defs>\n  <clipPath id=\"pe8d984437e\">\n   <rect x=\"28.942188\" y=\"8.925289\" width=\"195.3\" height=\"138.6\"/>\n  </clipPath>\n </defs>\n</svg>\n"
          },
          "metadata": {}
        }
      ],
      "source": [
        "backend_inline.set_matplotlib_formats('svg')\n",
        "plt.rcParams['figure.figsize'] = (3.5, 2.5)\n",
        "# Punto y coma para mostrar solo la figura\n",
        "plt.scatter(features[:, (1)].detach().numpy(), labels.detach().numpy(), 1);\n"
      ]
    },
    {
      "cell_type": "markdown",
      "metadata": {
        "id": "s7PC6D2mz6Uu",
        "origin_pos": 12
      },
      "source": [
        "### Cargando los datos\n",
        "\n",
        "Dado que el entrenamiento se hace usando muchos mini-lotes de datos, es conveniente tener una función que se encarga de generar estos minilotes segun los necesitemos.\n",
        "\n",
        "Para esto necesitamos una función que tome nuestra matriz de diseño, tome nuestras etiquetas y nos genere lotes para el entrenamiento de un tamaño dado.\n",
        "\n"
      ]
    },
    {
      "cell_type": "code",
      "execution_count": 7,
      "metadata": {
        "id": "N_oU-mWuz6Uw",
        "origin_pos": 13,
        "tab": [
          "pytorch"
        ]
      },
      "outputs": [],
      "source": [
        "def data_iter(batch_size, features, labels):\n",
        "    num_examples = len(features)\n",
        "    indices = list(range(num_examples))\n",
        "    # aleatorizamos el orden de los datos\n",
        "    random.shuffle(indices)\n",
        "    for i in range(0, num_examples, batch_size):\n",
        "        batch_indices = torch.tensor(\n",
        "            indices[i: min(i + batch_size, num_examples)])\n",
        "        yield features[batch_indices], labels[batch_indices]"
      ]
    },
    {
      "cell_type": "code",
      "execution_count": 8,
      "metadata": {
        "colab": {
          "base_uri": "https://localhost:8080/"
        },
        "id": "8EBzYu3nz6Uz",
        "origin_pos": 16,
        "outputId": "b80581a5-518f-4071-8e43-7242b9edb29b",
        "tab": [
          "pytorch"
        ]
      },
      "outputs": [
        {
          "output_type": "stream",
          "name": "stdout",
          "text": [
            "tensor([[ 0.5954,  1.0656],\n",
            "        [-0.6512, -0.1760],\n",
            "        [ 0.5082,  0.1175],\n",
            "        [-0.0450,  1.8118],\n",
            "        [ 0.9291,  0.4902],\n",
            "        [ 0.7511, -1.0116],\n",
            "        [ 0.0916,  1.1715],\n",
            "        [-0.5071,  0.7237],\n",
            "        [-0.8128, -0.3102],\n",
            "        [-0.4941,  0.4507]]) \n",
            " tensor([[ 1.7741],\n",
            "        [ 3.4817],\n",
            "        [ 4.8184],\n",
            "        [-2.0433],\n",
            "        [ 4.3897],\n",
            "        [ 9.1518],\n",
            "        [ 0.4049],\n",
            "        [ 0.7367],\n",
            "        [ 3.6238],\n",
            "        [ 1.6946]])\n"
          ]
        }
      ],
      "source": [
        "batch_size = 10\n",
        "\n",
        "for X, y in data_iter(batch_size, features, labels):\n",
        "    print(X, '\\n', y)\n",
        "    break"
      ]
    },
    {
      "cell_type": "markdown",
      "metadata": {
        "id": "u8l0L3kJz6U0",
        "origin_pos": 17
      },
      "source": [
        "### Valores iniciales de nuestro modelo\n",
        "\n",
        "Dado que estamos estamos buscando mínimos de una fución de pérdida, podemos elegir iniciar con cualquier valor. Luego nuestro optimizador se encargará de encontrar los mínimos adecuados."
      ]
    },
    {
      "cell_type": "code",
      "execution_count": 12,
      "metadata": {
        "id": "HBzvnKgfz6U1",
        "origin_pos": 19,
        "tab": [
          "pytorch"
        ]
      },
      "outputs": [],
      "source": [
        "w = torch.normal(0, 0.01, size=(2,1), requires_grad=True)  ## inicilizar los valores y calcular los gradientes\n",
        "b = torch.zeros(1, requires_grad=True)  ## tensor de 1 0 y activamos sus gradientes"
      ]
    },
    {
      "cell_type": "markdown",
      "metadata": {
        "id": "YhAUUqFDz6U2",
        "origin_pos": 21
      },
      "source": [
        "Con estos parametros iniciales, estamos en condiciones de empezar a entrenar nuestra red. Es decir, buscar los parámetros que mejor representen el comportamiento de nuestros datos.\n",
        "\n",
        "Debemos recordar que detras del uso de descenso por gradiente, usamos herramientas de diferenciación automática para nuestros problemas.\n",
        "\n",
        "\n",
        "### Definiendo el modelo.\n",
        "\n",
        "En este caso, nuestro modelo será análogo al usado para generar nuestros datos, es decir:\n",
        "\n",
        "$$\\mathbf{y} = \\mathbf{Xw} + b$$\n",
        "\n"
      ]
    },
    {
      "cell_type": "code",
      "execution_count": 14,
      "metadata": {
        "id": "2pWmHqqez6U3",
        "origin_pos": 22,
        "tab": [
          "pytorch"
        ]
      },
      "outputs": [],
      "source": [
        "def linreg(X, w, b):  ## funcion de regresion lineal\n",
        "    return torch.matmul(X, w) + b  ## sallida de regresion lineal mas sesgo"
      ]
    },
    {
      "cell_type": "markdown",
      "metadata": {
        "id": "a3EBNBX0z6U4",
        "origin_pos": 23
      },
      "source": [
        "### Definiendo la función de pérdida\n",
        "\n",
        "Como estamos haciendo una regresión lineal, sabemos que lo que minimizamos son es la cantidad llamada **mínimos cuadrados**"
      ]
    },
    {
      "cell_type": "code",
      "execution_count": 16,
      "metadata": {
        "id": "iiVM4aHsz6U4",
        "origin_pos": 24,
        "tab": [
          "pytorch"
        ]
      },
      "outputs": [],
      "source": [
        "def squared_loss(y_hat, y):  ## funcion de perdidad es el error cuadratico medio, perdida cuadratica squared_loss\n",
        "    return (y_hat - y.reshape(y_hat.shape)) ** 2 / 2  ## dividir por dos el error cuadratico medio"
      ]
    },
    {
      "cell_type": "markdown",
      "metadata": {
        "id": "jLaOfB0Uz6U4",
        "origin_pos": 25
      },
      "source": [
        "### Definiendo el algoritmo de optimización\n",
        "\n",
        "A continuación mostramos un pequeño ejemplo de funciona descenso gradiente estocástico\n"
      ]
    },
    {
      "cell_type": "code",
      "execution_count": 22,
      "metadata": {
        "id": "fmGZYM8Gz6U5",
        "origin_pos": 27,
        "tab": [
          "pytorch"
        ]
      },
      "outputs": [],
      "source": [
        "def sgd(params, lr, batch_size):  ## es el gradiente descendiente recibe los parametros a optimizar, parametros, tasa de aprendizaje,\n",
        "    \"\"\"Usamos minilotes\"\"\"\n",
        "    with torch.no_grad():\n",
        "        for param in params:\n",
        "            param -= lr * param.grad / batch_size ## tasa de aprendizaje hacia donde va, puedo ir corriendo al minimo o caminando, no se que posicion esta, hiperparametro\n",
        "            param.grad.zero_()  ## se divide por el batch_size , estoyhaciendo que cada lote avance por la cantidad de elementos tiene, llamo a grad.zero y se irian acumulando"
      ]
    },
    {
      "cell_type": "markdown",
      "source": [
        "## un tensor tiene el  traqueo del gradiente activado, todas las operaciones se guardan para calcular la segunda derivada, la derivada de la regresion lineal .no_grad para que no quede registrado"
      ],
      "metadata": {
        "id": "4JjRD9HwrkVS"
      }
    },
    {
      "cell_type": "markdown",
      "metadata": {
        "id": "cWrnqMGPz6U6",
        "origin_pos": 29
      },
      "source": [
        "### Entrenamiento\n",
        "\n",
        "A continuación esbozamos como es nuestro ciclo de entrenamiento\n",
        "\n",
        "* Iniciamos nuestros parametros. $(\\mathbf{w}, b)$\n",
        "* Repetimos hasta concluir\n",
        "    * Calculamos la función de pérdida ${L} \\leftarrow \\frac{1}{|\\mathcal{B}|} \\sum_{i \\in \\mathcal{B}} l(\\mathbf{x}^{(i)}, y^{(i)}, \\mathbf{w}, b)$\n",
        "    * Calculamos el gradiente con minilotes $\\mathbf{g} \\leftarrow \\partial_{(\\mathbf{w},b)} L$\n",
        "    * actualizamos los parámetros. $(\\mathbf{w}, b) \\leftarrow (\\mathbf{w}, b) - \\eta \\mathbf{g}$\n",
        "    > Nota: estos últimos dos pasos pasos los hace la función `sdg` definida arriba.\n",
        "\n",
        "Llamamos **época** a cada vez que iteramos sobre todos nuestros datos. Por otro lado el parametro $η$ es lo que llamamos **tasa de aprendizaje** o **learning rate**. Este valor nos dice que tanto nos moveremos en la dirección hacia donde esta el mínimo. Tanto la cantidad de épocas a recorrer como la tasa de aprendizaje son **hiperparametros**. Encontrar lo hiperparámetros apropiados para nuestros datos y modelos no es una tarea sencilla. Por ahora daremos valores arbitrarios, pero aprender a encontrar valores correctos es todo un arte.\n"
      ]
    },
    {
      "cell_type": "markdown",
      "source": [
        "## cuantas veces recorro el dataset hasta que la funcion de perdida total, a la funcion de perdida se le calcula la derivada y"
      ],
      "metadata": {
        "id": "vws34wiXtc4A"
      }
    },
    {
      "cell_type": "code",
      "execution_count": 31,
      "metadata": {
        "id": "FIcRq_t2z6U6",
        "origin_pos": 30,
        "tab": [
          "pytorch"
        ]
      },
      "outputs": [],
      "source": [
        "lr = 0.03  ## la tasa de aprendizaje es un hiperparametro la defino yo , gradiente se multiplica por 0.03 para ser restados\n",
        "num_epochs = 3  # iteramos 3 veces\n",
        "net = linreg  ## funcion linreg\n",
        "loss = squared_loss ## funcion de perdida"
      ]
    },
    {
      "cell_type": "code",
      "execution_count": 32,
      "metadata": {
        "colab": {
          "base_uri": "https://localhost:8080/"
        },
        "id": "ipeFctL-z6U7",
        "origin_pos": 32,
        "outputId": "0537cd5a-12fb-433f-aff4-7f3a33e0b604",
        "tab": [
          "pytorch"
        ]
      },
      "outputs": [
        {
          "output_type": "stream",
          "name": "stdout",
          "text": [
            "epoch 1, loss 0.000049\n",
            "epoch 2, loss 0.000049\n",
            "epoch 3, loss 0.000049\n"
          ]
        }
      ],
      "source": [
        "for epoch in range(num_epochs):\n",
        "    for X, y in data_iter(batch_size, features, labels):  ## datos de entrada features, labels\n",
        "        # Funcion de perdida para nuestro minilote con `X` e `y`\n",
        "        l = loss(net(X, w, b), y)  ## net regresion lineal le paso los parametross l es un vector\n",
        "        # Gradiente de la funcion l con respeto a [`w`, `b`]\n",
        "        # Recordar w es un \"vector\" de parametros\n",
        "        l.sum().backward()  ## backward se llama a un numero no un tensor funcion de autograd\n",
        "        sgd([w, b], lr, batch_size)  ## algoritmo de optimizacion, lrate y lote\n",
        "    with torch.no_grad():  ## no se traqueen\n",
        "        train_l = loss(net(features, w, b), labels) ## funcion de perdidad una vez recorri el lote\n",
        "        print(f'epoch {epoch + 1}, loss {float(train_l.mean()):f}')  ## la funcion de perdida debe disminuir"
      ]
    },
    {
      "cell_type": "markdown",
      "metadata": {
        "id": "TlMwPA-8z6U8",
        "origin_pos": 34
      },
      "source": [
        "Como nuestros datos son sintéticos, podemos comparar nuestras estimaciones con los valores reales.\n"
      ]
    },
    {
      "cell_type": "code",
      "execution_count": 33,
      "metadata": {
        "colab": {
          "base_uri": "https://localhost:8080/"
        },
        "id": "tNghXmT5z6U8",
        "origin_pos": 35,
        "outputId": "592d870b-547b-4ab2-9802-660278ff0fc7",
        "tab": [
          "pytorch"
        ]
      },
      "outputs": [
        {
          "output_type": "stream",
          "name": "stdout",
          "text": [
            "error in estimating w: tensor([ 7.8666e-04, -5.6744e-05], grad_fn=<SubBackward0>)\n",
            "error in estimating b: tensor([0.0001], grad_fn=<RsubBackward1>)\n"
          ]
        }
      ],
      "source": [
        "print(f'error in estimating w: {true_w - w.reshape(true_w.shape)}')  ## valores reales-parametros despues de entrenado diferencia milesima\n",
        "print(f'error in estimating b: {true_b - b}')"
      ]
    },
    {
      "cell_type": "markdown",
      "metadata": {
        "id": "AhE6f0rKIyFg"
      },
      "source": [
        "# Regresión lineal concisa.\n",
        "\n",
        "En el notebook anterior, vimos un ejemplo de como implementar una red neuronal desde cero. Sin embargo, hacer esto es una mala idea. La principal razón por la que es una mala idea, es que muchas de las cosas que hicimos consisten en \"reinventar la rueda\". Hay bibliotecas que ya tienen herramientas para hacer lo que ya hicimos. Además, nuestra implementación puede no ser la más eficiente. Es decir: la implementación usada puede generar tiempos de espera que podrían ser evitados si nuestro código estuviera implementado de manera distinta. Por esta razón, es siempre recomendable usar las bibliotecas preexistentes.\n",
        "\n",
        "Recordemos que el ejemplo anterior estaba pensado para que le perdamos el miedo a las bibliotecas preexistentes, para que entendamos como funcionan y para aprender a implementar cosas nuevas (si llegamos a necesitarlo)\n",
        "\n",
        "Veamos entonces como implementariamos todo lo anterior haciendo uso de la biblioteca ``pytorch``"
      ]
    },
    {
      "cell_type": "markdown",
      "metadata": {
        "id": "Ho7hYFsTIaPu",
        "origin_pos": 0
      },
      "source": [
        "## Datos sintéticos\n"
      ]
    },
    {
      "cell_type": "code",
      "execution_count": 34,
      "metadata": {
        "id": "zo70_UBVIaPw",
        "origin_pos": 2,
        "tab": [
          "pytorch"
        ]
      },
      "outputs": [],
      "source": [
        "import numpy as np\n",
        "import torch\n",
        "from torch.utils import data"
      ]
    },
    {
      "cell_type": "markdown",
      "metadata": {
        "id": "kQX3OhaQ7wTf"
      },
      "source": [
        "Misma función que usamos anteriormente"
      ]
    },
    {
      "cell_type": "code",
      "execution_count": 35,
      "metadata": {
        "id": "Tmh5NYga01CX"
      },
      "outputs": [],
      "source": [
        "def synthetic_data(w, b, num_examples):  ## la funcion de datos sinteticos queda igual\n",
        "    X = torch.normal(0, 1, (num_examples, len(w)))\n",
        "    y = torch.matmul(X, w) + b\n",
        "    y += torch.normal(0, 0.01, y.shape)\n",
        "    return X, y.reshape((-1, 1))"
      ]
    },
    {
      "cell_type": "code",
      "execution_count": 36,
      "metadata": {
        "id": "s0adDvfCIaPy",
        "origin_pos": 4,
        "tab": [
          "pytorch"
        ]
      },
      "outputs": [],
      "source": [
        "true_w = torch.tensor([2, -3.4])\n",
        "true_b = 4.2\n",
        "features, labels = synthetic_data(true_w, true_b, 1000)"
      ]
    },
    {
      "cell_type": "markdown",
      "metadata": {
        "id": "L89Foy1JIaPz",
        "origin_pos": 5
      },
      "source": [
        "## Cargando nuestros datos\n",
        "\n",
        "En este caso, podemos enviar nuestros datos diferentes metodos preexistentes de `pytorch` para generar nuestro minilotes.\n",
        "\n",
        "Además podemos pedir nos mezcle nuestros datos o que los deje tal cual\n"
      ]
    },
    {
      "cell_type": "code",
      "execution_count": 37,
      "metadata": {
        "id": "_s7RVCfEIaP0",
        "origin_pos": 7,
        "tab": [
          "pytorch"
        ]
      },
      "outputs": [],
      "source": [
        "def load_array(data_arrays, batch_size, is_train=True):\n",
        "    dataset = data.TensorDataset(*data_arrays)  ## el dataset se genera a partir arreglo de numpy\n",
        "    return data.DataLoader(dataset, batch_size, shuffle=is_train) ## los dataloader hace la funcion mezclar"
      ]
    },
    {
      "cell_type": "code",
      "execution_count": 39,
      "metadata": {
        "id": "46yPkqcuIaP1",
        "origin_pos": 9,
        "tab": [
          "pytorch"
        ]
      },
      "outputs": [],
      "source": [
        "batch_size = 10\n",
        "data_iter = load_array((features, labels), batch_size)  ## le pasamos la features y"
      ]
    },
    {
      "cell_type": "markdown",
      "metadata": {
        "id": "0QJFVBHMIaP2",
        "origin_pos": 10
      },
      "source": [
        "Queremos ver como se generan nuestros minilotes. Para esto debemos poder imprimierlos por pantalla. A diferencia de la implementación anterior, el método `DataLoader`, no genera un iterable, por esto debemos convertirlo en uno y recorrerlo segun necesitemos\n"
      ]
    },
    {
      "cell_type": "code",
      "execution_count": 41,
      "metadata": {
        "colab": {
          "base_uri": "https://localhost:8080/"
        },
        "id": "rJGz2ZwmIaP3",
        "origin_pos": 11,
        "outputId": "39d2aa04-f10e-4e72-d942-b3de1fec1057",
        "tab": [
          "pytorch"
        ]
      },
      "outputs": [
        {
          "output_type": "execute_result",
          "data": {
            "text/plain": [
              "[tensor([[-1.0672,  0.5090],\n",
              "         [-1.5609, -0.6630],\n",
              "         [-1.0343, -0.6339],\n",
              "         [ 0.2476, -0.8990],\n",
              "         [-1.3210, -0.0753],\n",
              "         [-0.8589, -1.2657],\n",
              "         [-0.5573, -0.1765],\n",
              "         [-0.2042,  2.2530],\n",
              "         [-0.5285,  0.3401],\n",
              "         [-0.9506,  0.1971]]),\n",
              " tensor([[ 0.3285],\n",
              "         [ 3.3111],\n",
              "         [ 4.2915],\n",
              "         [ 7.7580],\n",
              "         [ 1.8174],\n",
              "         [ 6.7958],\n",
              "         [ 3.7097],\n",
              "         [-3.8566],\n",
              "         [ 1.9877],\n",
              "         [ 1.6228]])]"
            ]
          },
          "metadata": {},
          "execution_count": 41
        }
      ],
      "source": [
        "next(iter(data_iter))  ## dataiter se transforma en iterador"
      ]
    },
    {
      "cell_type": "markdown",
      "metadata": {
        "id": "c-MO_VboIaP3",
        "origin_pos": 12
      },
      "source": [
        "## Definiendo el modelo\n",
        "\n",
        "A continuación presentamos la versión concisa de nuestro modelo, luego la discutiremos.\n"
      ]
    },
    {
      "cell_type": "code",
      "execution_count": 47,
      "metadata": {
        "id": "xxpgLFRiIaP6",
        "origin_pos": 17,
        "tab": [
          "pytorch"
        ]
      },
      "outputs": [],
      "source": [
        "# `nn` = neural networks, redes neuronales  ## una capa densa o linear layer\n",
        "from torch import nn\n",
        "\n",
        "net = nn.Sequential(nn.Linear(2, 1))  ## sequential acumula las capas conectadas una con la otra, 1 sola capa y 1 neurona, capa necesita 2 paramatros cantidad de entrada y salida, reutilizacion de las capas"
      ]
    },
    {
      "cell_type": "markdown",
      "metadata": {
        "id": "KdAWZYUVMURe"
      },
      "source": [
        "La clase `Sequential` define todas las capas a aplicar de manera secuencial en nuestro modelo. Por ahora, como trabajamos con regresión lineal solo usaremos una capa. Sin embargo esta capa es lo que se llama una capa *totalmente conectada*. Es decir, esta representada por una matriz que aplica sobre vector de features. Al aplicar esta matriz encontramos la salida de nuestra neurona. En este caso, este tipo de capas se las conoce como `Linear` y reciben como entrada `(<numero_de_entradas>, <numero_de_salidas>)`. Para nuestro modelo, esto son nuestras 2 features y nuestra etiqueta."
      ]
    },
    {
      "cell_type": "markdown",
      "metadata": {
        "id": "YgBZAsPHq1fA"
      },
      "source": [
        "\n",
        "¿Que es una capa densa?\n",
        "------------------\n",
        "\n",
        "\n",
        "una capa densa o completamente conectada es la forma más básica de una red neuronal. Cada entrada influencia a cada salida de acuerdo a los pesos. Si nuestro modelo tiene $m$ entradas y $n$ salidas, la matriz de pesos sera $m \\times n$. De igual modo el vector de sesgos o bias tendra dimensión $n$"
      ]
    },
    {
      "cell_type": "code",
      "execution_count": 52,
      "metadata": {
        "colab": {
          "base_uri": "https://localhost:8080/"
        },
        "id": "zqzGHdjVhhNJ",
        "outputId": "09816ba1-3d72-4899-c909-8700e50d96a5"
      },
      "outputs": [
        {
          "output_type": "stream",
          "name": "stdout",
          "text": [
            "entrada:\n",
            "tensor([[0.4510, 0.9710]])\n",
            "\n",
            "\n",
            "Pesos y parametros:\n",
            "('weight', Parameter containing:\n",
            "tensor([[-0.0746, -0.2524]], requires_grad=True))\n",
            "('bias', Parameter containing:\n",
            "tensor([0.6107], requires_grad=True))\n",
            "\n",
            "\n",
            "salida\n",
            "tensor([[0.3320]], grad_fn=<AddmmBackward0>)\n"
          ]
        },
        {
          "output_type": "execute_result",
          "data": {
            "text/plain": [
              "tensor([[0.3320]], grad_fn=<AddBackward0>)"
            ]
          },
          "metadata": {},
          "execution_count": 52
        }
      ],
      "source": [
        "import torch\n",
        "\n",
        "lin = torch.nn.Linear(2, 1)  ## capa densa\n",
        "x = torch.rand(1, 2)\n",
        "print('entrada:')\n",
        "print(x)\n",
        "\n",
        "print('\\n\\nPesos y parametros:')\n",
        "for param in lin.named_parameters():  ## te devuelve un diccionario con el nombre de los parametros\n",
        "    print(param)\n",
        "\n",
        "y = lin(x)\n",
        "print('\\n\\nsalida')  ## calcular la salida cargarle la entrada\n",
        "print(y)\n",
        "\n",
        "# Al hacer la multiplicacion matricial correspondiente obtenemos nuesta salida.\n",
        "x @ lin.weight.T + lin.bias  ## todas las capas vienen con el requires_grad=True) activado..las salidas cambia el autograd"
      ]
    },
    {
      "cell_type": "markdown",
      "source": [
        "## generar el modelo es facil., inicializar los parametros"
      ],
      "metadata": {
        "id": "eziU7Iqpy8hi"
      }
    },
    {
      "cell_type": "markdown",
      "metadata": {
        "id": "UDuEzQVaIaP6",
        "origin_pos": 19
      },
      "source": [
        "## Inicialización de parametros de nuestro modelo.\n",
        "\n",
        "Por lo general, los frameworks prexistentes tienen implementaciones por defecto para inicializar los parámetros. Sin embargo, queremos iniciarlos de manera similar a la anterior."
      ]
    },
    {
      "cell_type": "markdown",
      "metadata": {
        "id": "d4VMoRtWIaP7",
        "origin_pos": 21,
        "tab": [
          "pytorch"
        ]
      },
      "source": [
        "Para ellos accedemos a la primera (y única capa) usando `net[0]`. Luego accedemos a los pesos y los sesgos con `weight.data` and `bias.data`. Finalmente rellenamos los valores con lo que teníamos pensado usar.\n"
      ]
    },
    {
      "cell_type": "code",
      "execution_count": 54,
      "metadata": {
        "colab": {
          "base_uri": "https://localhost:8080/"
        },
        "id": "04P7myKQIaP7",
        "origin_pos": 24,
        "outputId": "21405142-96da-43b3-dbcf-b761aca9d730",
        "tab": [
          "pytorch"
        ]
      },
      "outputs": [
        {
          "output_type": "execute_result",
          "data": {
            "text/plain": [
              "tensor([0.])"
            ]
          },
          "metadata": {},
          "execution_count": 54
        }
      ],
      "source": [
        "net[0].weight.data.normal_(0, 0.01)  ## los parametros la misma de arriba normal_ pisa la entrada\n",
        "net[0].bias.data.fill_(0) ## le pasas constante para rellenar un tensor"
      ]
    },
    {
      "cell_type": "markdown",
      "metadata": {
        "id": "zLlMm_qEIaP-",
        "origin_pos": 29
      },
      "source": [
        "## Definiendo la función de pérdida\n"
      ]
    },
    {
      "cell_type": "code",
      "execution_count": 56,
      "metadata": {
        "id": "f2zHtPgyIaP_",
        "origin_pos": 34,
        "tab": [
          "pytorch"
        ]
      },
      "outputs": [],
      "source": [
        "loss = nn.MSELoss()  ## funcion de perdida MSEloss medium square error"
      ]
    },
    {
      "cell_type": "markdown",
      "metadata": {
        "id": "pDAt2_m0IaP_",
        "origin_pos": 36
      },
      "source": [
        "## Definiendo el algoritmo de optimización\n"
      ]
    },
    {
      "cell_type": "markdown",
      "metadata": {
        "id": "7SImV0xVIaP_",
        "origin_pos": 38,
        "tab": [
          "pytorch"
        ]
      },
      "source": [
        "La principal diferencia con lo que hicimos antes, es que solamente debemos pasarle a nuestro `SDG`, los parametros a optimizar. El resto de los detalles ya son manejados por la implementación de `pytorch`. En este caso también estamos pasando la tasa de aprendizaje, pero la clase `SGD` de `pytorch` ya incluye un valor por defecto."
      ]
    },
    {
      "cell_type": "code",
      "execution_count": 57,
      "metadata": {
        "id": "Q36F2-g2IaQA",
        "origin_pos": 41,
        "tab": [
          "pytorch"
        ]
      },
      "outputs": [],
      "source": [
        "trainer = torch.optim.SGD(net.parameters(), lr=0.03)  ## descenso de gradiente estocastico objeto sgd, optimizador modulo optim ,"
      ]
    },
    {
      "cell_type": "markdown",
      "metadata": {
        "id": "-HS9IpaWOqlt"
      },
      "source": [
        "Un optimizador en `torch` tiene por defecto una serie de métodos. Sin embargo ahora mismo solo nos interesan 2 de ellos, pues son los que más usaremos.\n",
        "\n",
        "* `Optimizer.step`\n",
        "  > Este es el método es el que propiamente aplica el algoritmo SGD, o cualquier otro algoritmo que fueramos a implementar.\n",
        "* `Optimizer.zero_grad`\n",
        "  > Por defecto, `Optimizer` suma los sucesivos gradientes calculados. Esto hace que al principio de cada época de el entrenamiento, debamos setear el gradiente en 0. Es por esto que este método existe dentro de la clase `Optimizer`"
      ]
    },
    {
      "cell_type": "markdown",
      "metadata": {
        "id": "Aph98AJ2IaQA",
        "origin_pos": 43
      },
      "source": [
        "## Entrenamiento\n",
        "\n",
        "Hasta aquí veníamos reduciendo lineas de código de manera impresionante. Sin embargo, nuestro ciclo de entrenamiento será casi identico a lo que habíamos visto antes.\n",
        "* Repetimos hasta concluir\n",
        "    * Calculamos la función de pérdida\n",
        "    * Calculamos el gradiente con minilotes\n",
        "    * Actualizamos los parámetros.\n"
      ]
    },
    {
      "cell_type": "code",
      "execution_count": 60,
      "metadata": {
        "colab": {
          "base_uri": "https://localhost:8080/"
        },
        "id": "noX-wsqNIaQA",
        "origin_pos": 45,
        "outputId": "5eb74b77-526e-40fc-9ffc-8ce6708b7f2e",
        "tab": [
          "pytorch"
        ]
      },
      "outputs": [
        {
          "output_type": "stream",
          "name": "stdout",
          "text": [
            "epoch 1, loss 0.000104\n",
            "epoch 2, loss 0.000103\n",
            "epoch 3, loss 0.000104\n"
          ]
        }
      ],
      "source": [
        "num_epochs = 3  ## entrenamiento lo programes y decirle que hacer\n",
        "for epoch in range(num_epochs):\n",
        "    for X, y in data_iter:## dataiter esta en una variable\n",
        "        l = loss(net(X) ,y)\n",
        "        trainer.zero_grad()\n",
        "        l.backward()\n",
        "        trainer.step()\n",
        "    l = loss(net(features), labels)  ## calculo la perdida y lo entreno\n",
        "    print(f'epoch {epoch + 1}, loss {l:f}')"
      ]
    },
    {
      "cell_type": "code",
      "execution_count": 61,
      "metadata": {
        "colab": {
          "base_uri": "https://localhost:8080/"
        },
        "id": "0ufuypfPIaQB",
        "origin_pos": 49,
        "outputId": "b80f8040-d860-44da-a284-667805844d56",
        "tab": [
          "pytorch"
        ]
      },
      "outputs": [
        {
          "output_type": "stream",
          "name": "stdout",
          "text": [
            "error in estimating w: tensor([0.0002, 0.0003])\n",
            "error in estimating b: tensor([-0.0007])\n"
          ]
        }
      ],
      "source": [
        "w = net[0].weight.data\n",
        "print('error in estimating w:', true_w - w.reshape(true_w.shape))\n",
        "b = net[0].bias.data\n",
        "print('error in estimating b:', true_b - b)"
      ]
    },
    {
      "cell_type": "markdown",
      "metadata": {
        "id": "tDALUq9b_h2m"
      },
      "source": [
        "Hasta aquí hemos trabajado con el problema de la regresión. Sin embargo, muchas veces lo que deseamos es clasificar segun clases discretas. De hecho, más adelante veremos que los grandes logros de las redes neuronales son en el area de clasificación. Para esto, a continuación hablaremos de Regresión Softmax y su aplicación en clasificación."
      ]
    }
  ],
  "metadata": {
    "colab": {
      "provenance": [],
      "include_colab_link": true
    },
    "kernelspec": {
      "display_name": "Python 3",
      "name": "python3"
    },
    "language_info": {
      "name": "python"
    }
  },
  "nbformat": 4,
  "nbformat_minor": 0
}