{
  "cells": [
    {
      "cell_type": "markdown",
      "metadata": {
        "id": "view-in-github",
        "colab_type": "text"
      },
      "source": [
        "<a href=\"https://colab.research.google.com/github/Viny2030/HUMAI/blob/main/intro_poo.ipynb\" target=\"_parent\"><img src=\"https://colab.research.google.com/assets/colab-badge.svg\" alt=\"Open In Colab\"/></a>"
      ]
    },
    {
      "cell_type": "markdown",
      "metadata": {
        "id": "C3t4TRRHi61V"
      },
      "source": [
        "<a href=\"https://colab.research.google.com/github/institutohumai/cursos-python/blob/master/Introduccion/4_Intro_Poo/intro-poo.ipynb\"> <img src='https://colab.research.google.com/assets/colab-badge.svg' /> </a>\n",
        "<div align=\"center\"> Recordá abrir en una nueva pestaña </div>"
      ]
    },
    {
      "cell_type": "markdown",
      "metadata": {
        "id": "nGkigPqTmyZp"
      },
      "source": [
        "# Programación orientada a objetos\n",
        "\n",
        "    I. Terminologia de clases y objetos\n",
        "    II. Creando la primera clase\n",
        "        I. Herencia\n",
        "        II. Protección de acceso\n",
        "    III. Métodos Especiales\n",
        "    IV. Métodos Estáticos\n",
        "    V. Duck typing y monkey patching\n",
        "        I. Duck typing\n",
        "        II. Monkey Patching"
      ]
    },
    {
      "cell_type": "markdown",
      "metadata": {
        "id": "JWZi0Jz7myZr"
      },
      "source": [
        "En el paradigma de programación orientada a objetos los programas se estructuran organizando el código en entidades llamadas objetos. Estos nos permiten encapsular data, funciones y variables dentro de una misma clase. Veamos de qué se trata."
      ]
    },
    {
      "cell_type": "markdown",
      "metadata": {
        "id": "8facntg8myZs"
      },
      "source": [
        "## Terminologia de clases y objetos"
      ]
    },
    {
      "cell_type": "markdown",
      "metadata": {
        "id": "f4-ocEflmyZs"
      },
      "source": [
        "1. Una **clase** es un prototipo de objeto, que engloba atributos que poseen todos los objetos de esa clase. Los atributos pueden ser datos como variables de clase y de instancia, y métodos (funciones). Se acceden con un punto.\n",
        "\n",
        "2. Una **instancia** es un objeto en particular que pertenece a una clase.\n",
        "\n",
        "3. Los **atributos** son variables asociadas a los objetos. Los atributos pueden ser de clase (toman el mismo valor para toda la clase) o de instancia (toman un valor diferente para cada instancia). Lo más común de utilizar son los atributos de instancia que reflejan estados de los objetos. Los atributos de clase se utilizan para que todos los objetos compartan por ejemplo, las mismas configuraciones o la misma conexión a una base de datos.\n",
        "\n",
        "4. La **herencia** es la transferencia de atributos de una clase a otra clase\n",
        "\n",
        "5. Un **método** es una función contenida dentro de un objeto.\n",
        "\n",
        "6. Un **objeto** es una instancia única de una estructura definida por su clase. Posee de atributos variables de clase, de instancia y métodos.\n",
        "\n",
        "7. El **polimorfismo** nos permite utilizar una misma función para distintos tipos de datos o clases.\n",
        "\n",
        "8. La **delegación** es el concepto con el cual podemos delegar tareas de una clase sobre algún método de otra clase.\n",
        "\n"
      ]
    },
    {
      "cell_type": "markdown",
      "metadata": {
        "id": "WL8GajTfmyZt"
      },
      "source": [
        "## Creando la primera clase"
      ]
    },
    {
      "cell_type": "code",
      "execution_count": 1,
      "metadata": {
        "id": "H_vasIG_i61d"
      },
      "outputs": [],
      "source": [
        "import math"
      ]
    },
    {
      "cell_type": "code",
      "execution_count": 32,
      "metadata": {
        "id": "aupLso52i61j",
        "colab": {
          "base_uri": "https://localhost:8080/"
        },
        "outputId": "031d41d7-c88b-4609-a5b8-fef88b2a3abc"
      },
      "outputs": [
        {
          "output_type": "stream",
          "name": "stdout",
          "text": [
            "<class '__main__.Ejemplo'>\n"
          ]
        }
      ],
      "source": [
        "#La sintáxis es:\n",
        "\n",
        "class Ejemplo(): #####UpperCamelCase():\n",
        "    pass\n",
        "\n",
        "# Instancio la clase\n",
        "x = Ejemplo()\n",
        "\n",
        "print(type(x))"
      ]
    },
    {
      "cell_type": "markdown",
      "metadata": {
        "id": "Fqa-tLD1i61k"
      },
      "source": [
        "Por convención, las clases se nombran empleando \"upper camel case\". Es decir, con mayúscula para cada término que sea parte del nombre."
      ]
    },
    {
      "cell_type": "markdown",
      "metadata": {
        "id": "ibidRGKYi61l"
      },
      "source": [
        "Una librería famosa en Python por sus clases es \"requests\". Esta ĺibrería se usa para acceder a información web por HTTP. Algunas de sus clases son:\n",
        "\n",
        "- Session\n",
        "- Request\n",
        "- ConnectionError\n",
        "- ConnectTimeout\n",
        "\n",
        "Las últimas dos clases son para especificar errores, noten que se repiten las mayúsculas."
      ]
    },
    {
      "cell_type": "markdown",
      "metadata": {
        "id": "eUEo34iyi61l"
      },
      "source": [
        "Podemos pensar a una clase como un molde, el cual usamos para generar objetos o instancias que tienen ciertos atributos o métodos (funciones) que deseamos mantener.\n",
        "\n",
        "Aquellos atributos y métodos que queremos que los objetos conserven son definidos como parte del constructor. El constructor en Python es el método reservado **\\_\\_init\\_\\_()**. Este método se llama cuando se instancia la clase y en ese momento se inicializan los atributos de la clase, para lo cual podemos pasar parámetros.\n",
        "\n",
        "Además, vamos a emplear el término reservado **self** para indicar aquellos atributos y métodos que van a ser propios de la instancia. Veámoslo con un ejemplo."
      ]
    },
    {
      "cell_type": "markdown",
      "metadata": {
        "id": "IYrJYKPki61m"
      },
      "source": [
        "## Init y Self"
      ]
    },
    {
      "cell_type": "code",
      "execution_count": 3,
      "metadata": {
        "id": "ru6DucmamyZ7"
      },
      "outputs": [],
      "source": [
        "class Persona():\n",
        "    def __init__(self, nombre, apellido, edad, contacto):\n",
        "        # Este método puede tomar parámetros que asignamos a los atributos, que luego podemos acceder\n",
        "        self.edad = edad # este es un atributo\n",
        "        self.contacto = contacto # este es otro atributo\n",
        "        self.nombre = nombre\n",
        "        self.apellido = apellido\n",
        "\n",
        "    def nombre_completo(self):\n",
        "        # este método muestra el nombre completo a partir del nombre y apellido\n",
        "        nombre_completo = ', '.join([self.apellido,self.nombre])\n",
        "        return nombre_completo\n",
        "\n",
        "    def saludar(self):\n",
        "        print(f'Hola mi nombre es {self.nombre_completo()}',\n",
        "              f'y te dejo mi mail por si necesitás algo: {self.contacto}')"
      ]
    },
    {
      "cell_type": "code",
      "execution_count": 4,
      "metadata": {
        "colab": {
          "base_uri": "https://localhost:8080/"
        },
        "id": "-3AWihITmyZ-",
        "outputId": "1a724e95-8bb5-4c39-a9b4-9962dc3ce5f9",
        "scrolled": true
      },
      "outputs": [
        {
          "output_type": "stream",
          "name": "stdout",
          "text": [
            "Hola mi nombre es Ripley, Matías Andrés y te dejo mi mail por si necesitás algo: mati@rip.com\n"
          ]
        }
      ],
      "source": [
        "instancia_ejemplo = Persona('Matías Andrés','Ripley', 24, 'mati@rip.com')\n",
        "instancia_ejemplo.saludar()"
      ]
    },
    {
      "cell_type": "markdown",
      "metadata": {
        "id": "s9y67tqni61p"
      },
      "source": [
        "Ahora veamos una clase menú que administra los platos y los precios"
      ]
    },
    {
      "cell_type": "code",
      "execution_count": 5,
      "metadata": {
        "id": "91a5rbIyi61p"
      },
      "outputs": [],
      "source": [
        "class Menu():\n",
        "    def __init__(self, items):\n",
        "        self.items = items\n",
        "\n",
        "    def precio(self, lista_items):\n",
        "        precio = 0\n",
        "        for nombre_item in lista_items:\n",
        "            precio = precio + self.items[nombre_item]\n",
        "        return precio\n",
        "\n",
        "    def tamaño(self):\n",
        "        return len(self.items)\n"
      ]
    },
    {
      "cell_type": "code",
      "execution_count": 6,
      "metadata": {
        "id": "Ua-302Hqi61q"
      },
      "outputs": [],
      "source": [
        "mi_menu = Menu({'latte':25, 'medialuna':15})"
      ]
    },
    {
      "cell_type": "markdown",
      "metadata": {
        "id": "XJ8o2DiLi61q"
      },
      "source": [
        "¿Cuánto salen un latte y dos madialunas? ¿Cuántos ítems tenemos?"
      ]
    },
    {
      "cell_type": "code",
      "execution_count": 7,
      "metadata": {
        "id": "oe6n37Jli61r",
        "outputId": "fb04c1b1-3f90-47df-e6c5-162d5c962ccf",
        "colab": {
          "base_uri": "https://localhost:8080/"
        }
      },
      "outputs": [
        {
          "output_type": "execute_result",
          "data": {
            "text/plain": [
              "55"
            ]
          },
          "metadata": {},
          "execution_count": 7
        }
      ],
      "source": [
        "mi_menu.precio(['latte','medialuna','medialuna'])"
      ]
    },
    {
      "cell_type": "code",
      "execution_count": 8,
      "metadata": {
        "id": "NnNhcA8Ui61s",
        "colab": {
          "base_uri": "https://localhost:8080/"
        },
        "outputId": "9fe6494c-3912-4a65-d67b-d48dadaa02d1"
      },
      "outputs": [
        {
          "output_type": "execute_result",
          "data": {
            "text/plain": [
              "2"
            ]
          },
          "metadata": {},
          "execution_count": 8
        }
      ],
      "source": [
        "mi_menu.tamaño()"
      ]
    },
    {
      "cell_type": "markdown",
      "metadata": {
        "id": "kSytoLh8i61s"
      },
      "source": [
        "Ejercicio: Vamos a mejorar la clase anterior... En lugar de que el método precio reciba una lista de strings, hagamos que reciba una lista de diccionarios cada uno con dos claves nombre y cantidad que querríamos ordenar ¿Cuántos cuestan 10 lattes y 30 medialunas?"
      ]
    },
    {
      "cell_type": "code",
      "execution_count": 8,
      "metadata": {
        "id": "SCvfSW-ri61t"
      },
      "outputs": [],
      "source": [
        "\n"
      ]
    },
    {
      "cell_type": "code",
      "execution_count": 8,
      "metadata": {
        "id": "tLJbQNGki61t"
      },
      "outputs": [],
      "source": []
    },
    {
      "cell_type": "code",
      "execution_count": 8,
      "metadata": {
        "id": "F1GmKYPvi61u"
      },
      "outputs": [],
      "source": []
    },
    {
      "cell_type": "markdown",
      "metadata": {
        "id": "dBZ1-GTSi61u"
      },
      "source": [
        "Los atributos también son conocidos como variables de instancia, en contraposición a las variables de clase. Las variables de instancia toman un valor específico a una instancia en particular (por eso se emplea el término **self**), por su parte, las variables de clase tienen un valor común para todas las instancias de una clase. Por convención las variables de clase se definen antes del constructor y no llevan **self** en su definición pero sí cuando se la quiere llamar."
      ]
    },
    {
      "cell_type": "code",
      "execution_count": 9,
      "metadata": {
        "id": "ffB3W0b9pz3g"
      },
      "outputs": [],
      "source": [
        "class Curso:\n",
        "    max_alumnos = 35 # definimos variable de clase\n",
        "\n",
        "    def __init__(self, nombre, duracion, alumnos = None, costo=10):\n",
        "        self.nombre = nombre\n",
        "        self.duracion = duracion\n",
        "        if alumnos is None:\n",
        "            self.alumnos = []\n",
        "        else:\n",
        "            self.alumnos = alumnos\n",
        "        self.costo = costo # costo tiene un valor por default\n",
        "        \"\"\"¿Por qué ese if? Las variables por default sólo se evalúan a la hora de ejecutar la sentencia def.\n",
        "        En nuestro caso necesitamos que self.alumnos sea una lista y las listas son objetos mutables.\n",
        "        Esto quiere decir que podemos modificarla sin volver a asignarla. Si en vez de 'alumnos = None' usáramos\n",
        "        alumnos = [], entonces con cada nueva instancia del objeto estaríamos compartiendo los alumnos.\n",
        "        Para evitar eso, en general la forma pythónica de hacerlo es usando None por default y asignando el valor\n",
        "        deseado dentro de la función y no en el 'def' \"\"\"\n",
        "\n",
        "    def inscribir_alumno(self, nombre):\n",
        "        self.alumnos.append(nombre) # para poder llamar a alumnos tengo que usar self.\n",
        "        print(f'Se agregó al alumno/a {nombre}')\n",
        "\n",
        "    def tomar_lista(self):\n",
        "        for a in self.alumnos:\n",
        "            print(f'Alumno: {a}')\n",
        "\n",
        "    def resumen(self):\n",
        "        print(f'Curso {self.nombre}, {self.duracion} clases pensadas para {len(self.alumnos)} alumnos\\n'\n",
        "              f'Por el muy módico precio de {self.costo} rupias.',\n",
        "              # llamo variable de clase:\n",
        "              f'La ocupación actual es del {round(len(self.alumnos)/self.max_alumnos,2)*100}%')"
      ]
    },
    {
      "cell_type": "code",
      "execution_count": 10,
      "metadata": {
        "id": "XmX4l4IF_eTI"
      },
      "outputs": [],
      "source": [
        "curso_python = Curso('Python', 6)"
      ]
    },
    {
      "cell_type": "code",
      "execution_count": 35,
      "metadata": {
        "id": "SKtBACZki61w",
        "outputId": "fc7e0eb1-6f22-45d0-b9e7-312df3c94104",
        "colab": {
          "base_uri": "https://localhost:8080/"
        }
      },
      "outputs": [
        {
          "output_type": "execute_result",
          "data": {
            "text/plain": [
              "['Diotimia', 'Aritófanes']"
            ]
          },
          "metadata": {},
          "execution_count": 35
        }
      ],
      "source": [
        "curso_python.alumnos  ## lista vacia"
      ]
    },
    {
      "cell_type": "code",
      "execution_count": 36,
      "metadata": {
        "colab": {
          "base_uri": "https://localhost:8080/"
        },
        "id": "MnRKu_2M_sxP",
        "outputId": "0de6a8b1-3477-46e8-9401-7438648f1b6a"
      },
      "outputs": [
        {
          "output_type": "stream",
          "name": "stdout",
          "text": [
            "Se agregó al alumno/a Diotimia\n",
            "Se agregó al alumno/a Aritófanes\n"
          ]
        }
      ],
      "source": [
        "# Llamamos metodos de la instancia\n",
        "curso_python.inscribir_alumno('Diotimia')\n",
        "curso_python.inscribir_alumno('Aritófanes')"
      ]
    },
    {
      "cell_type": "code",
      "execution_count": 13,
      "metadata": {
        "colab": {
          "base_uri": "https://localhost:8080/"
        },
        "id": "gFvzeuDn_yNf",
        "outputId": "f7abd8b3-b65e-4d6f-c8f2-4da8bce70686"
      },
      "outputs": [
        {
          "output_type": "stream",
          "name": "stdout",
          "text": [
            "Alumno: Diotimia\n",
            "Alumno: Aritófanes\n"
          ]
        }
      ],
      "source": [
        "curso_python.tomar_lista()"
      ]
    },
    {
      "cell_type": "code",
      "execution_count": 14,
      "metadata": {
        "colab": {
          "base_uri": "https://localhost:8080/"
        },
        "id": "AqkOrzAavtQf",
        "outputId": "34262ca8-ded0-4dd7-f0ba-e1ed3063e4d4"
      },
      "outputs": [
        {
          "output_type": "stream",
          "name": "stdout",
          "text": [
            "Curso Python, 6 clases pensadas para 2 alumnos\n",
            "Por el muy módico precio de 10 rupias. La ocupación actual es del 6.0%\n"
          ]
        }
      ],
      "source": [
        "curso_python.resumen()"
      ]
    },
    {
      "cell_type": "code",
      "execution_count": 15,
      "metadata": {
        "id": "70sMXyg2i61y"
      },
      "outputs": [],
      "source": [
        "curso_ml = Curso('Machine Learning', 8)"
      ]
    },
    {
      "cell_type": "code",
      "execution_count": 16,
      "metadata": {
        "id": "rV_TTA4Ci61y",
        "colab": {
          "base_uri": "https://localhost:8080/"
        },
        "outputId": "9f6a7ed2-e33b-46e5-b68c-7d60c3a5f17a"
      },
      "outputs": [
        {
          "output_type": "execute_result",
          "data": {
            "text/plain": [
              "[]"
            ]
          },
          "metadata": {},
          "execution_count": 16
        }
      ],
      "source": [
        "curso_ml.alumnos # vean que el curso está vacío!"
      ]
    },
    {
      "cell_type": "code",
      "execution_count": 17,
      "metadata": {
        "id": "KOCy8uPUi61z",
        "colab": {
          "base_uri": "https://localhost:8080/"
        },
        "outputId": "7450d1e6-b989-413d-af8d-405e276ffb19"
      },
      "outputs": [
        {
          "output_type": "stream",
          "name": "stdout",
          "text": [
            "Se agregó al alumno/a Agatón\n",
            "Se agregó al alumno/a Erixímaco\n",
            "Se agregó al alumno/a Sócrates\n"
          ]
        }
      ],
      "source": [
        "curso_ml = Curso('Machine Learning', 8)\n",
        "curso_ml.inscribir_alumno('Agatón')\n",
        "curso_ml.inscribir_alumno('Erixímaco')\n",
        "curso_ml.inscribir_alumno('Sócrates')"
      ]
    },
    {
      "cell_type": "code",
      "execution_count": 18,
      "metadata": {
        "id": "9Eq8DJZ_i61z",
        "colab": {
          "base_uri": "https://localhost:8080/"
        },
        "outputId": "12b3bd6d-e592-418c-9dc5-021b3c9544ce"
      },
      "outputs": [
        {
          "output_type": "stream",
          "name": "stdout",
          "text": [
            "Curso Machine Learning, 8 clases pensadas para 3 alumnos\n",
            "Por el muy módico precio de 10 rupias. La ocupación actual es del 9.0%\n"
          ]
        }
      ],
      "source": [
        "curso_ml.resumen()"
      ]
    },
    {
      "cell_type": "markdown",
      "source": [
        "https://ellibrodepython.com/metodos-estaticos-clase-python\n"
      ],
      "metadata": {
        "id": "XKfa2IoAwLHJ"
      }
    },
    {
      "cell_type": "code",
      "execution_count": 19,
      "metadata": {
        "id": "ArTZAV76i610",
        "colab": {
          "base_uri": "https://localhost:8080/"
        },
        "outputId": "68fb2a0d-a707-4bed-ebf9-62c3be9c1486"
      },
      "outputs": [
        {
          "output_type": "execute_result",
          "data": {
            "text/plain": [
              "['Agatón', 'Erixímaco', 'Sócrates']"
            ]
          },
          "metadata": {},
          "execution_count": 19
        }
      ],
      "source": [
        "curso_ml.alumnos"
      ]
    },
    {
      "cell_type": "markdown",
      "metadata": {
        "id": "KBxZwt5si610"
      },
      "source": [
        "Ejercicios:\n",
        "\n",
        "1- Defina una clase Punto que tome como parámetros x e y (las coordenadas) y constante que se puede instanciar correctamente.\n",
        "\n",
        "2- En Python existen los llamados métodos mágicos (magic methods) o dunder (Double Underscores). Estos métodos se caracterizan, justamente, por comenzar y terminar con \"\\_\\_\". Uno de los más comunes es el que permite darle estilo a la función **print**. Para que nuestro objeto entonces tenga un lindo print tenemos que definir una función \"\\_\\_str\\_\\_\" que sólo toma \"self\" como parámetro y que torne un string. Eso que retorna es el string que queremos que muestra cuando hagamos \"print\" del objeto. Dicho ésto, te invitamos a que lo intentes de la siguiente manera:\n",
        "\n",
        "a. Definí una función \"\\_\\_str\\_\\_\" que sólo toma self como parámetro.\n",
        "\n",
        "b. La función debe retornar el string que querés mostrar, recordá que podés usar los valores de \"x\" y de \"y\""
      ]
    },
    {
      "cell_type": "code",
      "execution_count": 19,
      "metadata": {
        "id": "Gsr6woBui611"
      },
      "outputs": [],
      "source": []
    },
    {
      "cell_type": "code",
      "execution_count": 19,
      "metadata": {
        "id": "qXgZGLari612"
      },
      "outputs": [],
      "source": []
    },
    {
      "cell_type": "markdown",
      "metadata": {
        "id": "tZhkGmH4zp4t"
      },
      "source": [
        "### Herencia\n",
        "La herencia se emplea cuando queremos que una clase tome los atributos y características de otra clase.\n",
        "En este caso, la clase derivada (Alumno) **hereda** atributos y métodos de la clase base (Persona).\n",
        "Para acceder a los métodos de la clase previa vamos a emplear el método reservado **super()**. Con este método podemos invocar el constructor y así acceder a los atributos de esa clase."
      ]
    },
    {
      "cell_type": "code",
      "execution_count": 20,
      "metadata": {
        "id": "20SpMkEzDDNB"
      },
      "outputs": [],
      "source": [
        "# Clase derivada\n",
        "class Alumno(Persona):\n",
        "    def __init__(self, curso: Curso, *args):\n",
        "        \"\"\"\n",
        "        Alumno pertence a un Curso (una instancia de la clase Curso) y, además, tiene otros atributos que pasaremos\n",
        "        a la clase previa\n",
        "        \"\"\"\n",
        "        self.curso = curso\n",
        "        super().__init__(*args) # inicializamos la clase 'madre'. La llamamos usando super() y ejecutamos el constructor\n",
        "        # Nótese también que desempacamos args\n",
        "\n",
        "    def saludar(self): # Sobrecarga de métodos, ver abajo\n",
        "        super().saludar() # ejecutamos el método de Persona .saludar() y agregamos más cosas a este método\n",
        "        print('Estoy cursando:')\n",
        "        self.curso.resumen()\n",
        "\n",
        "    def estudiar(self, dato): # También podemos definir nuevos métodos\n",
        "        self.conocimiento = dato"
      ]
    },
    {
      "cell_type": "markdown",
      "metadata": {
        "id": "Er_qqrxYi615"
      },
      "source": [
        "La clase Persona cuenta con un método saludar() y para Alumno también definimos un método saludar(). Cuando instanciemos un Alumno y ejecutemos el método saludar() lo que va a ejecutarse es el método saludar() de Alumno, no de Persona. Esto no quita que el método saludar() de Alumno llame al de Persona. Además, vale la pena mencionar que los dos tienen los mismos parámetros (ninguno en este caso). Este patrón de diseño es lo que se llama sobrecarga de métodos o overriding."
      ]
    },
    {
      "cell_type": "code",
      "execution_count": 21,
      "metadata": {
        "id": "eWN6A1VebZDF",
        "colab": {
          "base_uri": "https://localhost:8080/"
        },
        "outputId": "2f5836a1-7476-4bbd-e69a-07e36418fad9"
      },
      "outputs": [
        {
          "output_type": "stream",
          "name": "stdout",
          "text": [
            "Hola mi nombre es Henderson, Scott y te dejo mi mail por si necesitás algo: sh@mail.com\n",
            "Estoy cursando:\n",
            "Curso Python, 6 clases pensadas para 2 alumnos\n",
            "Por el muy módico precio de 10 rupias. La ocupación actual es del 6.0%\n"
          ]
        }
      ],
      "source": [
        "scott = Alumno(curso_python, 'Scott', 'Henderson', 49, 'sh@mail.com')\n",
        "scott.saludar()"
      ]
    },
    {
      "cell_type": "code",
      "execution_count": 22,
      "metadata": {
        "id": "yaActu69GauJ"
      },
      "outputs": [],
      "source": [
        "scott.estudiar('Se puede heredar de otra clase y extender sus métodos')"
      ]
    },
    {
      "cell_type": "code",
      "execution_count": 23,
      "metadata": {
        "id": "TxnvrBvsHGzW",
        "colab": {
          "base_uri": "https://localhost:8080/",
          "height": 35
        },
        "outputId": "d2a7b540-0735-4a8c-8dde-ff2aa0303925"
      },
      "outputs": [
        {
          "output_type": "execute_result",
          "data": {
            "text/plain": [
              "'Se puede heredar de otra clase y extender sus métodos'"
            ],
            "application/vnd.google.colaboratory.intrinsic+json": {
              "type": "string"
            }
          },
          "metadata": {},
          "execution_count": 23
        }
      ],
      "source": [
        "scott.conocimiento"
      ]
    },
    {
      "cell_type": "markdown",
      "metadata": {
        "id": "ls8k3O91i617"
      },
      "source": [
        "Ejercicio:\n",
        "\n",
        "1- Listar cuáles son los atributos y los métodos de scott y especificar cuáles provienen de Persona y cuáles están definidos por ser Alumno."
      ]
    },
    {
      "cell_type": "code",
      "execution_count": 23,
      "metadata": {
        "id": "gyvmrvqoi618"
      },
      "outputs": [],
      "source": []
    },
    {
      "cell_type": "markdown",
      "metadata": {
        "id": "6BBCTXGskrBp"
      },
      "source": [
        "### Protección de acceso\n",
        "\n",
        "Podemos cambiar el acceso (publico, no publico, protejido) de los métodos y variables."
      ]
    },
    {
      "cell_type": "markdown",
      "metadata": {
        "id": "xY3x3-5Co8-F"
      },
      "source": [
        "Dos formas distintas de encapsulamiento:\n",
        "\n",
        "- `_nopublico`\n",
        "- `__protegido`\n",
        "\n",
        "Los atributos o método no públicos pueden ser accedidos desde el objeto y llevan el prefijo \"\\_\". La utilidad de este es indicarle al usuario que es una variable o método privado, de uso interno en el código de la clase y que no está pensando que sea usado desde afuera, por el usuario.\n",
        "\n",
        "Por otra parte, en el caso de usar como prefijo \"\\_\\_\" (doble \"\\_\") directamente vamos a ocultar la variable o método de la lista de sugerencias para el usuario y tampoco va a poder invocarlo desde el objeto. Por este motivo, decimos que el atributo o método está protegido."
      ]
    },
    {
      "cell_type": "code",
      "execution_count": 24,
      "metadata": {
        "id": "-MxLTGBfkqTN"
      },
      "outputs": [],
      "source": [
        "class Auto():\n",
        "\n",
        "    def __init__(self, color, marca, velocidad_maxima):\n",
        "        self.color = color\n",
        "        self.marca = marca\n",
        "        self.__velocidad_maxima = 200\n",
        "        self.velocidad = 0\n",
        "        self.__contador = 0 # kilometros recorridos\n",
        "\n",
        "    def avanzar(self, horas=1, velocidad=10):\n",
        "        if self._chequear_velocidad(velocidad):\n",
        "            self.velocidad = velocidad\n",
        "            print(f'avanzando durante {horas} horas')\n",
        "            self.__contador += horas*self.velocidad\n",
        "        else:\n",
        "            print(f\"Tu auto no puede llegar a tanta velocidad, el máximo es {self.__velocidad_maxima}\")\n",
        "\n",
        "    def _chequear_velocidad(self, velocidad):\n",
        "        es_valida = False\n",
        "        if velocidad < self.__velocidad_maxima:\n",
        "            es_valida = True\n",
        "            if self.velocidad < velocidad:\n",
        "                print(\"Vas a acelerar!\")\n",
        "            else:\n",
        "                print(\"Vas a desaceler!\")\n",
        "        else:\n",
        "            print(\"Tu motor no permite ir tan rápido\")\n",
        "            es_valida = False\n",
        "        return es_valida\n",
        "\n",
        "    def status(self):\n",
        "        print(f\"Vas a una velocidad de {self.velocidad} y llevás {self.__contador} km. recorridos\")"
      ]
    },
    {
      "cell_type": "code",
      "execution_count": 25,
      "metadata": {
        "id": "pHGKm6iondA5"
      },
      "outputs": [],
      "source": [
        "superauto = Auto('rojo','Ferraudi', 200)"
      ]
    },
    {
      "cell_type": "code",
      "execution_count": 26,
      "metadata": {
        "id": "2VWZRkQ6pfZz",
        "colab": {
          "base_uri": "https://localhost:8080/"
        },
        "outputId": "e57e7f62-f264-4302-b49e-b8ca9b0b561f"
      },
      "outputs": [
        {
          "output_type": "stream",
          "name": "stdout",
          "text": [
            "Vas a acelerar!\n",
            "avanzando durante 10 horas\n"
          ]
        }
      ],
      "source": [
        "# Atributo no publ\n",
        "superauto.avanzar(10)"
      ]
    },
    {
      "cell_type": "code",
      "execution_count": 27,
      "metadata": {
        "id": "eG1kpudNi61-",
        "colab": {
          "base_uri": "https://localhost:8080/"
        },
        "outputId": "035e7b1c-0ecd-4d3f-d837-3d0940d9b9c7"
      },
      "outputs": [
        {
          "output_type": "stream",
          "name": "stdout",
          "text": [
            "Vas a una velocidad de 10 y llevás 100 km. recorridos\n"
          ]
        }
      ],
      "source": [
        "superauto.status()"
      ]
    },
    {
      "cell_type": "code",
      "execution_count": 28,
      "metadata": {
        "id": "WSafkUzHnp8y",
        "colab": {
          "base_uri": "https://localhost:8080/",
          "height": 158
        },
        "outputId": "e6f969c8-62c5-45f4-9971-d65b87ebe782"
      },
      "outputs": [
        {
          "output_type": "error",
          "ename": "AttributeError",
          "evalue": "'Auto' object has no attribute '__contador'",
          "traceback": [
            "\u001b[0;31m---------------------------------------------------------------------------\u001b[0m",
            "\u001b[0;31mAttributeError\u001b[0m                            Traceback (most recent call last)",
            "\u001b[0;32m<ipython-input-28-ca549a2d5d4d>\u001b[0m in \u001b[0;36m<cell line: 2>\u001b[0;34m()\u001b[0m\n\u001b[1;32m      1\u001b[0m \u001b[0;31m# No se puede acceder a un atributo protegido\u001b[0m\u001b[0;34m\u001b[0m\u001b[0;34m\u001b[0m\u001b[0m\n\u001b[0;32m----> 2\u001b[0;31m \u001b[0msuperauto\u001b[0m\u001b[0;34m.\u001b[0m\u001b[0m__contador\u001b[0m\u001b[0;34m\u001b[0m\u001b[0;34m\u001b[0m\u001b[0m\n\u001b[0m",
            "\u001b[0;31mAttributeError\u001b[0m: 'Auto' object has no attribute '__contador'"
          ]
        }
      ],
      "source": [
        "# No se puede acceder a un atributo protegido\n",
        "superauto.__contador"
      ]
    },
    {
      "cell_type": "code",
      "execution_count": 29,
      "metadata": {
        "id": "8YNT5YHmi62A",
        "colab": {
          "base_uri": "https://localhost:8080/"
        },
        "outputId": "cb1231bf-e75b-4fbd-f14f-7b816f7a9099"
      },
      "outputs": [
        {
          "output_type": "stream",
          "name": "stdout",
          "text": [
            "Vas a desaceler!\n"
          ]
        },
        {
          "output_type": "execute_result",
          "data": {
            "text/plain": [
              "True"
            ]
          },
          "metadata": {},
          "execution_count": 29
        }
      ],
      "source": [
        "# Pero sí se puede acceder a un método no público:\n",
        "superauto._chequear_velocidad(10)"
      ]
    },
    {
      "cell_type": "markdown",
      "metadata": {
        "id": "zjtX8gw2i62B"
      },
      "source": [
        "Ejercicio:\n",
        "\n",
        "A continuación se define una clase Linea. Esta clase toma como parámetros dos objetos Punto() (instancias de la clase que definieron antes).\n",
        "\n",
        "1- Agregar un método 'largo' que permita calcular el largo de la línea. Para ello vale la pena recordar que ésta se puede calcular como la hipotenusa del triángulo rectángulo que se forma con los dos puntos."
      ]
    },
    {
      "cell_type": "markdown",
      "metadata": {
        "id": "V_Yb_m4bi62C"
      },
      "source": [
        "\\\\[ a = \\sqrt{b^2 + c^2} \\\\]"
      ]
    },
    {
      "cell_type": "markdown",
      "metadata": {
        "id": "-n4h4NOSi62D"
      },
      "source": [
        "<img src=\"https://storage.googleapis.com/humai-datasets/imagenes/intro_a_python/4_Intro_Poo/TeoremadePitagorasABC-kW8F-U3032581527206JG-620x450%40abc.jpg\" width=250/>"
      ]
    },
    {
      "cell_type": "markdown",
      "metadata": {
        "id": "38rrGm0ci62D"
      },
      "source": [
        "2- Agregar un método 'pendiente' que permita calcular la pendiente de la línea. Recordar que ésta se puede calcular como el cociente entre las diferencias de 'y' y de 'x'.\n",
        "\n",
        "La fórmula es :\n",
        "\\\\[ m = (y_2 - y_1)/(x_2 - x_1) \\\\]"
      ]
    },
    {
      "cell_type": "code",
      "execution_count": null,
      "metadata": {
        "id": "8HdXJaaZi62E"
      },
      "outputs": [],
      "source": []
    },
    {
      "cell_type": "code",
      "execution_count": null,
      "metadata": {
        "id": "TGulfZ-yi62E"
      },
      "outputs": [],
      "source": []
    },
    {
      "cell_type": "code",
      "execution_count": null,
      "metadata": {
        "id": "VmnB4zxXi62F"
      },
      "outputs": [],
      "source": []
    },
    {
      "cell_type": "code",
      "execution_count": null,
      "metadata": {
        "id": "cKSFjLrri62F"
      },
      "outputs": [],
      "source": []
    },
    {
      "cell_type": "code",
      "execution_count": null,
      "metadata": {
        "id": "fu-KhYNui62F"
      },
      "outputs": [],
      "source": []
    },
    {
      "cell_type": "markdown",
      "metadata": {
        "id": "Chx4jMXHi62F"
      },
      "source": [
        "## Métodos Especiales\n",
        "\n",
        "Las clases en Python cuentan con múltiples métodos especiales, los cuales se encuentran entre dobles guiones bajos __<metodo>__().\n",
        "\n",
        "Los métodos especiales más utilizados son <strong> \\_\\_init\\_\\_(), \\_\\_str\\_\\_() y \\_\\_del\\_\\_() </strong>.\n",
        "\n",
        "\\_\\_init\\_\\_ sirve para inicializar la clase y \\_\\_del\\_\\_ sirve para eliminar completamente el objeto del compilador.\n",
        "\n",
        "Veamos un ejemplo de uso de \\_\\_str\\_\\_. Una vez que definimos este método, responde a la sintaxis reservada de Python str()."
      ]
    },
    {
      "cell_type": "code",
      "execution_count": null,
      "metadata": {
        "id": "8xKvouHdi62G"
      },
      "outputs": [],
      "source": [
        "# Clase derivada\n",
        "class Alumno(Persona):\n",
        "    def __init__(self, curso: Curso, *args):\n",
        "        \"\"\"\n",
        "        Alumno pertence a un Curso (una instancia de la clase Curso) y, además, tiene otros atributos que pasaremos\n",
        "        a la clase previa\n",
        "        \"\"\"\n",
        "        self.curso = curso\n",
        "        super().__init__(*args) # inicializamos la clase 'madre'. La llamamos usando super() y ejecutamos el constructor\n",
        "        # Nótese también que desempacamos args\n",
        "\n",
        "    def saludar(self): # Sobrecarga de métodos, ver abajo\n",
        "        super().saludar() # ejecutamos el método de Persona .saludar() y agregamos más cosas a este método\n",
        "        print('Estoy cursando:')\n",
        "        self.curso.resumen()\n",
        "\n",
        "    def estudiar(self, dato): # También podemos definir nuevos métodos\n",
        "        self.conocimiento = dato\n",
        "\n",
        "    def __str__(self):\n",
        "        #Devuelve un string representativo del alumno\n",
        "        return f'Alumno {self.nombre_completo()}'\n"
      ]
    },
    {
      "cell_type": "code",
      "execution_count": null,
      "metadata": {
        "id": "ssB6Tzczi62J"
      },
      "outputs": [],
      "source": [
        "un_alumno = Alumno(curso_python, 'Scott', 'Henderson', 49, 'sh@mail.com')"
      ]
    },
    {
      "cell_type": "code",
      "execution_count": null,
      "metadata": {
        "id": "xsRH2uiPi62K"
      },
      "outputs": [],
      "source": [
        "str(un_alumno)"
      ]
    },
    {
      "cell_type": "markdown",
      "metadata": {
        "id": "KnPiVuWAi62K"
      },
      "source": [
        "## Métodos Estáticos\n",
        "\n",
        "¿Qué pasa si no queremos instanciar los objetos a la hora de usarlos? En algunos diseños, tiene sentido utilizar las clases como simples repositorios de métodos. Por ejemplo, si necesito resolver varias operaciones geométricas puedo crear una clase Geometria que contenga todos los métodos necesarios.\n",
        "\n",
        "Para crear este tipo de métodos en una clase utilizamos el decorador @staticmethod.\n",
        "\n"
      ]
    },
    {
      "cell_type": "code",
      "execution_count": null,
      "metadata": {
        "id": "KiFkpX4Ki62K"
      },
      "outputs": [],
      "source": [
        "class Geomtria():\n",
        "    \"\"\"Resuelve operaciones geométricas\"\"\"\n",
        "\n",
        "    @staticmethod\n",
        "    def pendiente(x1,y1,x2,y2):\n",
        "        return ((y2 - y1)/(x2-x1))\n",
        "\n",
        "    @staticmethod\n",
        "    def area_circulo(radio):\n",
        "        return math.pi * (radio**2)"
      ]
    },
    {
      "cell_type": "code",
      "execution_count": null,
      "metadata": {
        "id": "t1g04bEVi62L"
      },
      "outputs": [],
      "source": [
        "Geomtria.area_circulo(3)"
      ]
    },
    {
      "cell_type": "markdown",
      "metadata": {
        "id": "JzMmsY0Xi62L"
      },
      "source": [
        "## Duck typing y monkey patching\n",
        "\n",
        "Dos características de la programación orientada a objetos con Python son el duck tiping y el monkey patching. Este tipo de flexibilidad es el que le permitió a Python crecer tanto en su adopción porque reducen la cantidad de palabras que es necesario escribir para desarrollar código, lo cual ahorra tiempo y también disminuyen la complejidad.\n",
        "\n",
        "### Duck typing\n",
        "\n"
      ]
    },
    {
      "cell_type": "code",
      "execution_count": null,
      "metadata": {
        "id": "0eejqs4Hi62L"
      },
      "outputs": [],
      "source": [
        "class ElHobbit:\n",
        "\n",
        "    def __init__(self,nombre):\n",
        "        self.nombre = nombre\n",
        "\n",
        "    def __len__(self):\n",
        "        return 95022\n",
        "\n",
        "    def saludar(self):\n",
        "        return f'Hola soy {self.nombre}'\n",
        "\n",
        "el_hobbit = ElHobbit('Frodo')"
      ]
    },
    {
      "cell_type": "code",
      "execution_count": null,
      "metadata": {
        "id": "8Wkr--yLi62M"
      },
      "outputs": [],
      "source": [
        "len(el_hobbit)"
      ]
    },
    {
      "cell_type": "code",
      "execution_count": null,
      "metadata": {
        "id": "EoNawhtwi62M"
      },
      "outputs": [],
      "source": [
        "mi_str = \"Hello World\"\n",
        "mi_list = [34, 54, 65, 78]\n",
        "mi_dict = {\"a\": 123, \"b\": 456, \"c\": 789}"
      ]
    },
    {
      "cell_type": "markdown",
      "metadata": {
        "id": "eHbiG8Q0i62N"
      },
      "source": [
        "<i> “If it walks like a duck, and it quacks like a duck, then it must be a duck.”</i>\n",
        "\n",
        "Duck typing significa que a diferencia de otros lenguajes, las funciones especiales no están definidas para una lista específica de clases y tipos, si no que se pueden usar para cualquier objeto que las implemente. Esto no es así para la mayoría de los lenguajes.   "
      ]
    },
    {
      "cell_type": "code",
      "execution_count": null,
      "metadata": {
        "id": "i_NnMX6Qi62O"
      },
      "outputs": [],
      "source": [
        "len(mi_str)\n",
        "len(mi_list)\n",
        "len(mi_dict)\n",
        "len(el_hobbit)"
      ]
    },
    {
      "cell_type": "code",
      "execution_count": null,
      "metadata": {
        "id": "ka0KcS2ei62Q"
      },
      "outputs": [],
      "source": [
        "mi_int = 7\n",
        "mi_float = 42.3"
      ]
    },
    {
      "cell_type": "code",
      "execution_count": null,
      "metadata": {
        "id": "dMUoV7fEi62R"
      },
      "outputs": [],
      "source": [
        "len(mi_int)\n",
        "len(mi_float)"
      ]
    },
    {
      "cell_type": "markdown",
      "metadata": {
        "id": "dH4LLztTi62R"
      },
      "source": [
        "## Monkey Patching\n",
        "\n",
        "Guerrilla, gorilla, ¿monkey?... Este término viene de uno anterior, \"guerrilla patching\", que hace referencia a emparchar el código rápido y cuando es necesario.\n",
        "\n",
        "Se refiere a la posibilidad en Python de sobreescribir clases después de haberlas instanciado y por qué no también la funcionalidad de los módulos."
      ]
    },
    {
      "cell_type": "code",
      "execution_count": null,
      "metadata": {
        "id": "8_gX6Pafi62S"
      },
      "outputs": [],
      "source": [
        "el_hobbit.saludar()"
      ]
    },
    {
      "cell_type": "code",
      "execution_count": null,
      "metadata": {
        "id": "MiyKyMQni62S"
      },
      "outputs": [],
      "source": [
        "def saludo_largo(self):\n",
        "    return f'Hola mi nombre es {self.nombre}'"
      ]
    },
    {
      "cell_type": "code",
      "execution_count": null,
      "metadata": {
        "id": "qK_VBPDGi62T"
      },
      "outputs": [],
      "source": [
        "ElHobbit.saludar = saludo_largo"
      ]
    },
    {
      "cell_type": "code",
      "execution_count": null,
      "metadata": {
        "id": "eoL0K9a2i62T"
      },
      "outputs": [],
      "source": [
        "el_hobbit.saludar()"
      ]
    },
    {
      "cell_type": "markdown",
      "metadata": {
        "id": "HJcvfbdOi62U"
      },
      "source": [
        "Esto es especialmente útil cuando queremos sobre-escribir ligeramente módulos hechos por terceros (¡o por nosotros mismos en otro momento!)"
      ]
    },
    {
      "cell_type": "code",
      "execution_count": null,
      "metadata": {
        "id": "GP_knQJJi62U"
      },
      "outputs": [],
      "source": [
        "import math"
      ]
    },
    {
      "cell_type": "code",
      "execution_count": null,
      "metadata": {
        "id": "TBDiLIC5i62V"
      },
      "outputs": [],
      "source": [
        "math.pi"
      ]
    },
    {
      "cell_type": "code",
      "execution_count": null,
      "metadata": {
        "id": "x8-gHH8vi62V"
      },
      "outputs": [],
      "source": [
        "math.pi = 2"
      ]
    },
    {
      "cell_type": "code",
      "execution_count": null,
      "metadata": {
        "id": "oN9Ak_SMi62V"
      },
      "outputs": [],
      "source": [
        "math.pi"
      ]
    },
    {
      "cell_type": "markdown",
      "metadata": {
        "id": "zAvYiOTCi62W"
      },
      "source": [
        "Los cambios se sobre-escriben si REINICIAMOS EL KERNEL y volvemos a importar el módulo"
      ]
    },
    {
      "cell_type": "code",
      "execution_count": null,
      "metadata": {
        "id": "DYjXcQ23i62Y"
      },
      "outputs": [],
      "source": [
        "import math\n",
        "math.pi"
      ]
    }
  ],
  "metadata": {
    "instance_type": "ml.t3.medium",
    "kernelspec": {
      "display_name": "Python 3 (Data Science)",
      "language": "python",
      "name": "python3__SAGEMAKER_INTERNAL__arn:aws:sagemaker:us-east-1:081325390199:image/datascience-1.0"
    },
    "language_info": {
      "codemirror_mode": {
        "name": "ipython",
        "version": 3
      },
      "file_extension": ".py",
      "mimetype": "text/x-python",
      "name": "python",
      "nbconvert_exporter": "python",
      "pygments_lexer": "ipython3",
      "version": "3.7.6"
    },
    "colab": {
      "provenance": [],
      "include_colab_link": true
    }
  },
  "nbformat": 4,
  "nbformat_minor": 0
}